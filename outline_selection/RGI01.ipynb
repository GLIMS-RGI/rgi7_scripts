{
 "cells": [
  {
   "cell_type": "markdown",
   "id": "innovative-tiger",
   "metadata": {},
   "source": [
    "# RGI01 outlines selection"
   ]
  },
  {
   "cell_type": "code",
   "execution_count": 68,
   "id": "several-democracy",
   "metadata": {},
   "outputs": [],
   "source": [
    "import geopandas as gpd\n",
    "from oggm import utils\n",
    "import subprocess"
   ]
  },
  {
   "cell_type": "markdown",
   "id": "prime-electricity",
   "metadata": {},
   "source": [
    "## Read the file "
   ]
  },
  {
   "cell_type": "code",
   "execution_count": null,
   "id": "shared-implementation",
   "metadata": {},
   "outputs": [],
   "source": [
    "idir = '../l2_sel_reg_tars/'"
   ]
  },
  {
   "cell_type": "code",
   "execution_count": 32,
   "id": "private-thanks",
   "metadata": {},
   "outputs": [],
   "source": [
    "# Read L2 files\n",
    "shp = gpd.read_file('tar://' + idir + 'RGI01.tar.gz/RGI01/RGI01.shp')"
   ]
  },
  {
   "cell_type": "markdown",
   "id": "industrial-samba",
   "metadata": {},
   "source": [
    "## Outline selection "
   ]
  },
  {
   "cell_type": "code",
   "execution_count": 33,
   "id": "clear-ranch",
   "metadata": {},
   "outputs": [
    {
     "data": {
      "text/plain": [
       "array(['Beedle, Matthew', 'Manley, William', 'Herreid, Samuel',\n",
       "       'Frey, Holger; Le Bris, Raymond; Paul, Frank', 'Rich, Justin',\n",
       "       'Bolch, Tobias',\n",
       "       'Beedle, Matthew; Berthier, Etienne; Bolch, Tobias; Burgess, Evan; Cogley, Graham; Forster, Richard; Giffen, Bruce A.; Hall, Dorothy K.; Kienholz, Christian; LeBris, Raymond; Manley, William',\n",
       "       'Maraldo, Dean'], dtype=object)"
      ]
     },
     "execution_count": 33,
     "metadata": {},
     "output_type": "execute_result"
    }
   ],
   "source": [
    "# List analysts\n",
    "shp.analysts.unique()"
   ]
  },
  {
   "cell_type": "markdown",
   "id": "ultimate-detector",
   "metadata": {},
   "source": [
    "For this region selecting glaciers can be done either by analyst or by \"proc_desc\":"
   ]
  },
  {
   "cell_type": "code",
   "execution_count": 36,
   "id": "blank-october",
   "metadata": {},
   "outputs": [
    {
     "data": {
      "text/plain": [
       "27106"
      ]
     },
     "execution_count": 36,
     "metadata": {},
     "output_type": "execute_result"
    }
   ],
   "source": [
    "sel_analysts = ('Beedle, Matthew; Berthier, Etienne; Bolch, Tobias; Burgess, Evan; Cogley, Graham; '\n",
    "                'Forster, Richard; Giffen, Bruce A.; Hall, Dorothy K.; Kienholz, Christian; LeBris, Raymond; Manley, William')\n",
    "len(shp.loc[shp.analysts == sel_analysts])"
   ]
  },
  {
   "cell_type": "code",
   "execution_count": 37,
   "id": "welcome-nirvana",
   "metadata": {},
   "outputs": [
    {
     "data": {
      "text/plain": [
       "27106"
      ]
     },
     "execution_count": 37,
     "metadata": {},
     "output_type": "execute_result"
    }
   ],
   "source": [
    "sel_proc_desc = ('Semi-automated glacier classification.; From Randolph Glacier Inventory Version 5.0. Source file: 01_rgi50_Alaska.zip.  '\n",
    "                 'See http://www.glims.org/RGI/.  GLIMS IDs were adjusted and metadata was added at NSIDC.')\n",
    "len(shp.loc[shp.proc_desc == sel_proc_desc])"
   ]
  },
  {
   "cell_type": "code",
   "execution_count": 57,
   "id": "boxed-japanese",
   "metadata": {},
   "outputs": [],
   "source": [
    "rgi7 = shp.loc[shp.analysts == sel_analysts]"
   ]
  },
  {
   "cell_type": "markdown",
   "id": "proof-imaging",
   "metadata": {},
   "source": [
    "## Consistency check with RGI6 "
   ]
  },
  {
   "cell_type": "code",
   "execution_count": 54,
   "id": "adapted-detective",
   "metadata": {},
   "outputs": [
    {
     "name": "stdout",
     "output_type": "stream",
     "text": [
      "01_rgi60_Alaska.dbf\n",
      "01_rgi60_Alaska.prj\n",
      "01_rgi60_Alaska.shp\n",
      "01_rgi60_Alaska.shx\n",
      "01_rgi60_Alaska_hypso.csv\n"
     ]
    }
   ],
   "source": [
    "import zipfile\n",
    "with zipfile.ZipFile('../l0_RGIv6/01_rgi60_Alaska.zip', \"r\") as z:\n",
    "    for f in z.filelist:\n",
    "        print(f.filename)"
   ]
  },
  {
   "cell_type": "code",
   "execution_count": 56,
   "id": "apparent-scholar",
   "metadata": {},
   "outputs": [],
   "source": [
    "rgi6 = gpd.read_file('zip://../l0_RGIv6/01_rgi60_Alaska.zip/01_rgi60_Alaska.shp')"
   ]
  },
  {
   "cell_type": "code",
   "execution_count": 58,
   "id": "wicked-growing",
   "metadata": {},
   "outputs": [
    {
     "data": {
      "text/plain": [
       "(27106, 27108)"
      ]
     },
     "execution_count": 58,
     "metadata": {},
     "output_type": "execute_result"
    }
   ],
   "source": [
    "len(rgi7), len(rgi6)"
   ]
  },
  {
   "cell_type": "markdown",
   "id": "restricted-ability",
   "metadata": {},
   "source": [
    "There are two missing glaciers! One has been wrongly attributed to Region 1 in the RGI6 (`RGI60-01.05285`), another we don't know yet."
   ]
  },
  {
   "cell_type": "code",
   "execution_count": 71,
   "id": "searching-twins",
   "metadata": {},
   "outputs": [],
   "source": [
    "rgi6_cor = rgi6.loc[rgi6.RGIId != 'RGI60-01.05285']"
   ]
  },
  {
   "cell_type": "code",
   "execution_count": 72,
   "id": "large-sauce",
   "metadata": {},
   "outputs": [
    {
     "data": {
      "text/plain": [
       "(86724.5510826829, 86725.053)"
      ]
     },
     "execution_count": 72,
     "metadata": {},
     "output_type": "execute_result"
    }
   ],
   "source": [
    "rgi7['area'].sum() * 1e-6, rgi6['Area'].sum()"
   ]
  },
  {
   "cell_type": "markdown",
   "id": "arabic-rebecca",
   "metadata": {},
   "source": [
    "Not bad! So the remaining missing glacier must be very small..."
   ]
  },
  {
   "cell_type": "markdown",
   "id": "southeast-context",
   "metadata": {},
   "source": [
    "## Write out and tar "
   ]
  },
  {
   "cell_type": "code",
   "execution_count": 66,
   "id": "academic-waste",
   "metadata": {},
   "outputs": [],
   "source": [
    "reg = 1\n",
    "odir = utils.mkdir('../l3_rgi7b')\n",
    "odir_tar = utils.mkdir('../l3_rgi7b_tar')"
   ]
  },
  {
   "cell_type": "code",
   "execution_count": 69,
   "id": "fluid-signal",
   "metadata": {},
   "outputs": [
    {
     "name": "stdout",
     "output_type": "stream",
     "text": [
      "Writing...\n",
      "Taring...\n",
      "CompletedProcess(args=['tar', '-zcvf', '../l3_rgi7b_tar/RGI01.tar.gz', '-C', '../l3_rgi7b', 'RGI01'], returncode=0)\n"
     ]
    }
   ],
   "source": [
    "dd = utils.mkdir(f'{odir}/RGI{reg:02d}/', reset=True)\n",
    "\n",
    "print('Writing...')\n",
    "rgi7.to_file(dd + f'RGI{reg:02d}.shp')\n",
    "\n",
    "print('Taring...')\n",
    "print(subprocess.run(['tar', '-zcvf', f'{odir_tar}/RGI{reg:02d}.tar.gz', '-C', odir, f'RGI{reg:02d}']))"
   ]
  },
  {
   "cell_type": "code",
   "execution_count": null,
   "id": "developing-experience",
   "metadata": {},
   "outputs": [],
   "source": []
  }
 ],
 "metadata": {
  "kernelspec": {
   "display_name": "Python 3",
   "language": "python",
   "name": "python3"
  },
  "language_info": {
   "codemirror_mode": {
    "name": "ipython",
    "version": 3
   },
   "file_extension": ".py",
   "mimetype": "text/x-python",
   "name": "python",
   "nbconvert_exporter": "python",
   "pygments_lexer": "ipython3",
   "version": "3.8.8"
  }
 },
 "nbformat": 4,
 "nbformat_minor": 5
}
