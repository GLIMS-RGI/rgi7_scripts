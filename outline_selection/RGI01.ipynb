{
 "cells": [
  {
   "cell_type": "markdown",
   "id": "animal-temperature",
   "metadata": {},
   "source": [
    "# RGI01 outlines selection"
   ]
  },
  {
   "cell_type": "code",
   "execution_count": 1,
   "id": "expired-weapon",
   "metadata": {},
   "outputs": [],
   "source": [
    "import geopandas as gpd\n",
    "from oggm import utils\n",
    "import subprocess"
   ]
  },
  {
   "cell_type": "markdown",
   "id": "eleven-completion",
   "metadata": {},
   "source": [
    "## Read the file "
   ]
  },
  {
   "cell_type": "code",
   "execution_count": 2,
   "id": "stuffed-hepatitis",
   "metadata": {},
   "outputs": [],
   "source": [
    "idir = '../l2_sel_reg_tars/'"
   ]
  },
  {
   "cell_type": "code",
   "execution_count": 3,
   "id": "opposed-burden",
   "metadata": {},
   "outputs": [],
   "source": [
    "# Read L2 files\n",
    "shp = gpd.read_file('tar://' + idir + 'RGI01.tar.gz/RGI01/RGI01.shp')"
   ]
  },
  {
   "cell_type": "markdown",
   "id": "advisory-exception",
   "metadata": {},
   "source": [
    "## Outline selection "
   ]
  },
  {
   "cell_type": "code",
   "execution_count": 4,
   "id": "harmful-hands",
   "metadata": {},
   "outputs": [
    {
     "data": {
      "text/plain": [
       "array(['Beedle, Matthew', 'Manley, William', 'Herreid, Samuel',\n",
       "       'Frey, Holger; Le Bris, Raymond; Paul, Frank', 'Rich, Justin',\n",
       "       'Bolch, Tobias',\n",
       "       'Beedle, Matthew; Berthier, Etienne; Bolch, Tobias; Burgess, Evan; Cogley, Graham; Forster, Richard; Giffen, Bruce A.; Hall, Dorothy K.; Kienholz, Christian; LeBris, Raymond; Manley, William',\n",
       "       'Maraldo, Dean'], dtype=object)"
      ]
     },
     "execution_count": 4,
     "metadata": {},
     "output_type": "execute_result"
    }
   ],
   "source": [
    "# List analysts\n",
    "shp.analysts.unique()"
   ]
  },
  {
   "cell_type": "markdown",
   "id": "personalized-investigation",
   "metadata": {},
   "source": [
    "For this region selecting glaciers can be done either by analyst or by \"proc_desc\":"
   ]
  },
  {
   "cell_type": "code",
   "execution_count": 5,
   "id": "swedish-better",
   "metadata": {},
   "outputs": [
    {
     "data": {
      "text/plain": [
       "27106"
      ]
     },
     "execution_count": 5,
     "metadata": {},
     "output_type": "execute_result"
    }
   ],
   "source": [
    "sel_analysts = ('Beedle, Matthew; Berthier, Etienne; Bolch, Tobias; Burgess, Evan; Cogley, Graham; '\n",
    "                'Forster, Richard; Giffen, Bruce A.; Hall, Dorothy K.; Kienholz, Christian; LeBris, Raymond; Manley, William')\n",
    "len(shp.loc[shp.analysts == sel_analysts])"
   ]
  },
  {
   "cell_type": "code",
   "execution_count": 6,
   "id": "sealed-diversity",
   "metadata": {},
   "outputs": [
    {
     "data": {
      "text/plain": [
       "27106"
      ]
     },
     "execution_count": 6,
     "metadata": {},
     "output_type": "execute_result"
    }
   ],
   "source": [
    "sel_proc_desc = ('Semi-automated glacier classification.; From Randolph Glacier Inventory Version 5.0. Source file: 01_rgi50_Alaska.zip.  '\n",
    "                 'See http://www.glims.org/RGI/.  GLIMS IDs were adjusted and metadata was added at NSIDC.')\n",
    "len(shp.loc[shp.proc_desc == sel_proc_desc])"
   ]
  },
  {
   "cell_type": "code",
   "execution_count": 7,
   "id": "answering-adrian",
   "metadata": {},
   "outputs": [],
   "source": [
    "rgi7 = shp.loc[shp.analysts == sel_analysts]"
   ]
  },
  {
   "cell_type": "markdown",
   "id": "sharing-venezuela",
   "metadata": {},
   "source": [
    "## Consistency check with RGI6 "
   ]
  },
  {
   "cell_type": "code",
   "execution_count": 8,
   "id": "unknown-label",
   "metadata": {},
   "outputs": [
    {
     "name": "stdout",
     "output_type": "stream",
     "text": [
      "01_rgi60_Alaska.dbf\n",
      "01_rgi60_Alaska.prj\n",
      "01_rgi60_Alaska.shp\n",
      "01_rgi60_Alaska.shx\n",
      "01_rgi60_Alaska_hypso.csv\n"
     ]
    }
   ],
   "source": [
    "# Just to know the name of the file to open from zip\n",
    "import zipfile\n",
    "with zipfile.ZipFile('../l0_RGIv6/01_rgi60_Alaska.zip', \"r\") as z:\n",
    "    for f in z.filelist:\n",
    "        print(f.filename)"
   ]
  },
  {
   "cell_type": "code",
   "execution_count": 9,
   "id": "spectacular-recipient",
   "metadata": {},
   "outputs": [],
   "source": [
    "rgi6 = gpd.read_file('zip://../l0_RGIv6/01_rgi60_Alaska.zip/01_rgi60_Alaska.shp')"
   ]
  },
  {
   "cell_type": "code",
   "execution_count": 10,
   "id": "bacterial-season",
   "metadata": {},
   "outputs": [
    {
     "data": {
      "text/plain": [
       "(27106, 27108)"
      ]
     },
     "execution_count": 10,
     "metadata": {},
     "output_type": "execute_result"
    }
   ],
   "source": [
    "len(rgi7), len(rgi6)"
   ]
  },
  {
   "cell_type": "markdown",
   "id": "biblical-observation",
   "metadata": {},
   "source": [
    "There are two missing glaciers! One has been wrongly attributed to Region 1 in the RGI6 (`RGI60-01.05285`), another we don't know yet."
   ]
  },
  {
   "cell_type": "code",
   "execution_count": 11,
   "id": "brilliant-progress",
   "metadata": {},
   "outputs": [],
   "source": [
    "rgi6_cor = rgi6.loc[rgi6.RGIId != 'RGI60-01.05285']"
   ]
  },
  {
   "cell_type": "markdown",
   "id": "flexible-chamber",
   "metadata": {},
   "source": [
    "Test the areas:"
   ]
  },
  {
   "cell_type": "code",
   "execution_count": 12,
   "id": "awful-leave",
   "metadata": {},
   "outputs": [],
   "source": [
    "rgi6['Area_us'] = rgi6.to_crs({'proj':'cea'}).area * 1e-6"
   ]
  },
  {
   "cell_type": "code",
   "execution_count": 15,
   "id": "upset-michigan",
   "metadata": {},
   "outputs": [
    {
     "name": "stdout",
     "output_type": "stream",
     "text": [
      "Area RGI7a 86724.5510826829\n",
      "Area RGI6 86725.053\n",
      "Area RGI6 computed by us 86724.97380315595\n",
      "diff areas RGI6 - RGI7 computed by us 0.4227204730559606\n"
     ]
    }
   ],
   "source": [
    "print('Area RGI7a', rgi7['area'].sum() * 1e-6)\n",
    "print('Area RGI6', rgi6['Area'].sum())\n",
    "print('Area RGI6 computed by us', rgi6['Area_us'].sum())\n",
    "print('diff areas RGI6 - RGI7 computed by us', rgi6['Area_us'].sum() - rgi7['area'].sum() * 1e-6)"
   ]
  },
  {
   "cell_type": "markdown",
   "id": "voluntary-philip",
   "metadata": {},
   "source": [
    "So, there are practically no difference in terms of area. The remain difference in term of number of glaciers must be a matter of outline definition..."
   ]
  },
  {
   "cell_type": "markdown",
   "id": "demanding-mountain",
   "metadata": {},
   "source": [
    "## Write out and tar "
   ]
  },
  {
   "cell_type": "code",
   "execution_count": 66,
   "id": "actual-spain",
   "metadata": {},
   "outputs": [],
   "source": [
    "reg = 1\n",
    "odir = utils.mkdir('../l3_rgi7b')\n",
    "odir_tar = utils.mkdir('../l3_rgi7b_tar')"
   ]
  },
  {
   "cell_type": "code",
   "execution_count": 69,
   "id": "underlying-wyoming",
   "metadata": {},
   "outputs": [
    {
     "name": "stdout",
     "output_type": "stream",
     "text": [
      "Writing...\n",
      "Taring...\n",
      "CompletedProcess(args=['tar', '-zcvf', '../l3_rgi7b_tar/RGI01.tar.gz', '-C', '../l3_rgi7b', 'RGI01'], returncode=0)\n"
     ]
    }
   ],
   "source": [
    "dd = utils.mkdir(f'{odir}/RGI{reg:02d}/', reset=True)\n",
    "\n",
    "print('Writing...')\n",
    "rgi7.to_file(dd + f'RGI{reg:02d}.shp')\n",
    "\n",
    "print('Taring...')\n",
    "print(subprocess.run(['tar', '-zcvf', f'{odir_tar}/RGI{reg:02d}.tar.gz', '-C', odir, f'RGI{reg:02d}']))"
   ]
  },
  {
   "cell_type": "code",
   "execution_count": null,
   "id": "mexican-belfast",
   "metadata": {},
   "outputs": [],
   "source": []
  }
 ],
 "metadata": {
  "kernelspec": {
   "display_name": "Python 3",
   "language": "python",
   "name": "python3"
  },
  "language_info": {
   "codemirror_mode": {
    "name": "ipython",
    "version": 3
   },
   "file_extension": ".py",
   "mimetype": "text/x-python",
   "name": "python",
   "nbconvert_exporter": "python",
   "pygments_lexer": "ipython3",
   "version": "3.8.8"
  }
 },
 "nbformat": 4,
 "nbformat_minor": 5
}
