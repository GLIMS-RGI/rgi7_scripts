{
 "cells": [
  {
   "cell_type": "markdown",
   "id": "wrong-watch",
   "metadata": {},
   "source": [
    "# RGI-07: Region 12 (Caucasus and Middle East)\n",
    "##### F. Maussion & S. Galos, June 2021"
   ]
  },
  {
   "cell_type": "code",
   "execution_count": 1,
   "id": "united-marina",
   "metadata": {},
   "outputs": [],
   "source": [
    "import geopandas as gpd\n",
    "import pandas as pd\n",
    "import matplotlib.pyplot as plt\n",
    "import subprocess\n",
    "from utils import mkdir"
   ]
  },
  {
   "cell_type": "markdown",
   "id": "settled-luther",
   "metadata": {},
   "source": [
    "### specify RGI-region and storage paths"
   ]
  },
  {
   "cell_type": "code",
   "execution_count": 2,
   "id": "headed-defendant",
   "metadata": {},
   "outputs": [],
   "source": [
    "# specify RGI region of interest\n",
    "reg = 12\n",
    "\n",
    "# file path to level-2 processed input data for the region \n",
    "idir = '../l2_sel_reg_tars/'\n",
    "\n",
    "# specify path\n",
    "rgi6_reg_file = '../l0_RGIv6/12_rgi60_CaucasusMiddleEast.zip'\n",
    "\n",
    "# specify storage path for new RGI07-alpha-file\n",
    "odir = mkdir('../l3_rgi7a')\n",
    "odir_tar = mkdir('../l3_rgi7a_tar')"
   ]
  },
  {
   "cell_type": "markdown",
   "id": "ceramic-pavilion",
   "metadata": {},
   "source": [
    "### Load the input data"
   ]
  },
  {
   "cell_type": "code",
   "execution_count": 4,
   "id": "complicated-ministry",
   "metadata": {},
   "outputs": [],
   "source": [
    "# Read L2 files\n",
    "shp = gpd.read_file('tar://' + idir + f'RGI{reg:02d}.tar.gz/RGI{reg:02d}/RGI{reg:02d}.shp')"
   ]
  },
  {
   "cell_type": "markdown",
   "id": "emerging-creativity",
   "metadata": {},
   "source": [
    "### Apply selection criteria to create the RGI7 data subset"
   ]
  },
  {
   "cell_type": "code",
   "execution_count": 5,
   "id": "coupled-windsor",
   "metadata": {},
   "outputs": [
    {
     "data": {
      "text/plain": [
       "2021"
      ]
     },
     "execution_count": 5,
     "metadata": {},
     "output_type": "execute_result"
    }
   ],
   "source": [
    "# try to get the data relevant for RGI07 and select by attributes - \n",
    "# for Caucasus we use 'subm_id' 642 by analyst 'Tielidze, Levan' which corresponds to the most recent (ca. 2013)\n",
    "# of three available data sets for Caucasus by this anayst (others are from around 1960 and appr. 1985 respectively)\n",
    "RGI_ss_caucasus = shp.loc[shp['subm_id'] == 642]\n",
    "len(RGI_ss_caucasus)"
   ]
  },
  {
   "cell_type": "code",
   "execution_count": 6,
   "id": "banner-december",
   "metadata": {},
   "outputs": [
    {
     "data": {
      "text/plain": [
       "484"
      ]
     },
     "execution_count": 6,
     "metadata": {},
     "output_type": "execute_result"
    }
   ],
   "source": [
    "# try to get the data relevant for RGI07 and select by attributes - for Middle East: 'subm_id' 588 ()\n",
    "RGI_ss_middle_east = shp.loc[shp['subm_id'] == 588]\n",
    "len(RGI_ss_middle_east)"
   ]
  },
  {
   "cell_type": "code",
   "execution_count": 7,
   "id": "available-priest",
   "metadata": {},
   "outputs": [],
   "source": [
    "# combine the two geodataframes\n",
    "RGI_ss = RGI_ss_caucasus.append(RGI_ss_middle_east)"
   ]
  },
  {
   "cell_type": "markdown",
   "id": "civic-operator",
   "metadata": {},
   "source": [
    "### Should we add some 1985 glaciers for completeness?"
   ]
  },
  {
   "cell_type": "markdown",
   "id": "realistic-writer",
   "metadata": {},
   "source": [
    "Hugonnet et al made a subjective choice to add some 1985 glaciers... should we as well?"
   ]
  },
  {
   "cell_type": "code",
   "execution_count": 8,
   "id": "assumed-harassment",
   "metadata": {},
   "outputs": [],
   "source": [
    "# We decided not to for now\n",
    "# EG:\n",
    "# RGI_ss_caucasus_1985 = shp.loc[shp['subm_id'] == 644]\n",
    "# len(RGI_ss_caucasus_1985)"
   ]
  },
  {
   "cell_type": "markdown",
   "id": "rising-delivery",
   "metadata": {},
   "source": [
    "### Should we add missing glaciers (only a few in peripheral areas) based on RGI06?"
   ]
  },
  {
   "cell_type": "markdown",
   "id": "downtown-saskatchewan",
   "metadata": {},
   "source": [
    "This is done based on a manually created shapefile mask containing the few glacierized areas not considered in the above data. Note that many of the glaciers added by this procedure are not glaciers by common definition but rock glaciers or even areas without ice in reality. Apart from that, outlines partly suffer from incorrect spatial positioning etc...  "
   ]
  },
  {
   "cell_type": "code",
   "execution_count": 9,
   "id": "perfect-serial",
   "metadata": {},
   "outputs": [],
   "source": [
    "# load a shapefile containing polygons which define areas uncovered by newly created RGI07 file\n",
    "UCA = gpd.read_file('tar://suppportive_data_region_files/RGI07_R12_UCA.tar.gz/RGI07_R12_UCA/RGI07_R12_UCA.shp')"
   ]
  },
  {
   "cell_type": "code",
   "execution_count": 10,
   "id": "danish-accessory",
   "metadata": {},
   "outputs": [],
   "source": [
    "# extract glacier outlines for regions mentioned above from glims data\n",
    "df_UCA = gpd.overlay(shp, UCA, how='intersection')"
   ]
  },
  {
   "cell_type": "code",
   "execution_count": 11,
   "id": "instant-nightlife",
   "metadata": {},
   "outputs": [],
   "source": [
    "# select submission ID of interesst (for RGI07 only subm_ID 662 available)\n",
    "df_UCA = df_UCA.loc[df_UCA['subm_id']== 662]"
   ]
  },
  {
   "cell_type": "code",
   "execution_count": 12,
   "id": "assisted-laser",
   "metadata": {},
   "outputs": [],
   "source": [
    "# append df_UCA to RGI_ss?\n",
    "RGI_ss = RGI_ss.append(df_UCA, sort = False);"
   ]
  },
  {
   "cell_type": "markdown",
   "id": "isolated-federal",
   "metadata": {},
   "source": [
    "## Write out and tar "
   ]
  },
  {
   "cell_type": "code",
   "execution_count": 13,
   "id": "happy-connecticut",
   "metadata": {},
   "outputs": [
    {
     "name": "stdout",
     "output_type": "stream",
     "text": [
      "Writing...\n",
      "Taring...\n",
      "CompletedProcess(args=['tar', '-zcvf', '../l3_rgi7a_tar/RGI12.tar.gz', '-C', '../l3_rgi7a', 'RGI12'], returncode=0)\n"
     ]
    }
   ],
   "source": [
    "dd = mkdir(f'{odir}/RGI{reg:02d}/', reset=True)\n",
    "\n",
    "print('Writing...')\n",
    "RGI_ss.to_file(dd + f'RGI{reg:02d}.shp')\n",
    "\n",
    "print('Taring...')\n",
    "print(subprocess.run(['tar', '-zcvf', f'{odir_tar}/RGI{reg:02d}.tar.gz', '-C', odir, f'RGI{reg:02d}']))"
   ]
  },
  {
   "cell_type": "markdown",
   "id": "impressed-contributor",
   "metadata": {},
   "source": [
    "## New RGI-file created - Check result!"
   ]
  },
  {
   "cell_type": "markdown",
   "id": "intense-petite",
   "metadata": {},
   "source": [
    "### load reference data (here RGI6) to enable comparison"
   ]
  },
  {
   "cell_type": "code",
   "execution_count": 15,
   "id": "correct-allowance",
   "metadata": {},
   "outputs": [],
   "source": [
    "# Just to know the name of the file to open from zip\n",
    "import zipfile\n",
    "with zipfile.ZipFile(rgi6_reg_file, \"r\") as z:\n",
    "    for f in z.filelist:\n",
    "        if '.shp' in f.filename:\n",
    "            fname = f.filename\n",
    "\n",
    "# load reference data\n",
    "ref_odf = gpd.read_file('zip://' + rgi6_reg_file + '/' + fname)"
   ]
  },
  {
   "cell_type": "markdown",
   "id": "fifty-irrigation",
   "metadata": {},
   "source": [
    "## Compare new RGI-file and reference data set "
   ]
  },
  {
   "cell_type": "markdown",
   "id": "champion-patch",
   "metadata": {},
   "source": [
    "### Number of elements (differences do not necessarily depict major problems)"
   ]
  },
  {
   "cell_type": "code",
   "execution_count": 16,
   "id": "european-flower",
   "metadata": {},
   "outputs": [
    {
     "name": "stdout",
     "output_type": "stream",
     "text": [
      "Number of glaciers in new RGI subset: 2556\n",
      "Number of glaciers in reference data: 1888\n",
      "Difference: 668\n"
     ]
    }
   ],
   "source": [
    "print('Number of glaciers in new RGI subset:', len(RGI_ss))\n",
    "print('Number of glaciers in reference data:', len(ref_odf))\n",
    "print('Difference:', len(RGI_ss)-len(ref_odf))"
   ]
  },
  {
   "cell_type": "markdown",
   "id": "similar-stewart",
   "metadata": {},
   "source": [
    "### How many nominal glaciers were there in RGI06-R12?"
   ]
  },
  {
   "cell_type": "code",
   "execution_count": 17,
   "id": "about-arrangement",
   "metadata": {},
   "outputs": [
    {
     "data": {
      "text/plain": [
       "339"
      ]
     },
     "execution_count": 17,
     "metadata": {},
     "output_type": "execute_result"
    }
   ],
   "source": [
    "len(ref_odf.loc[ref_odf.Status == 2])"
   ]
  },
  {
   "cell_type": "markdown",
   "id": "confident-processor",
   "metadata": {},
   "source": [
    "### Total area"
   ]
  },
  {
   "cell_type": "code",
   "execution_count": 18,
   "id": "crazy-pricing",
   "metadata": {},
   "outputs": [],
   "source": [
    "# add an area field to RGI_ss and reference data\n",
    "RGI_ss['area'] = RGI_ss.to_crs({'proj':'cea'}).area\n",
    "ref_odf['area'] = ref_odf.to_crs({'proj':'cea'}).area"
   ]
  },
  {
   "cell_type": "code",
   "execution_count": 19,
   "id": "german-favor",
   "metadata": {
    "scrolled": true
   },
   "outputs": [
    {
     "name": "stdout",
     "output_type": "stream",
     "text": [
      "Area RGI [km²]: 1246.2573226628851\n",
      "Area Ref [km²]: 1306.999710204219\n",
      "Area difference [km²]: -60.742387541333756\n"
     ]
    }
   ],
   "source": [
    "# print and compare area values\n",
    "Area_RGI = RGI_ss['area'].sum()/1000000\n",
    "print('Area RGI [km²]:', Area_RGI)\n",
    "Area_ref = ref_odf['area'].sum()/1000000\n",
    "print('Area Ref [km²]:', Area_ref)\n",
    "d = (Area_RGI - Area_ref)\n",
    "print('Area difference [km²]:', d)"
   ]
  },
  {
   "cell_type": "markdown",
   "id": "palestinian-noise",
   "metadata": {},
   "source": [
    "# End of revised noteboook"
   ]
  }
 ],
 "metadata": {
  "kernelspec": {
   "display_name": "Python 3",
   "language": "python",
   "name": "python3"
  },
  "language_info": {
   "codemirror_mode": {
    "name": "ipython",
    "version": 3
   },
   "file_extension": ".py",
   "mimetype": "text/x-python",
   "name": "python",
   "nbconvert_exporter": "python",
   "pygments_lexer": "ipython3",
   "version": "3.8.8"
  }
 },
 "nbformat": 4,
 "nbformat_minor": 5
}
