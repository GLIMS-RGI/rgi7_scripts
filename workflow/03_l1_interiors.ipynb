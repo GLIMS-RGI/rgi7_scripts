{
 "cells": [
  {
   "cell_type": "markdown",
   "metadata": {},
   "source": [
    "## Convert GLIMS polygons to RGI polygons: Level 1 files"
   ]
  },
  {
   "cell_type": "markdown",
   "metadata": {},
   "source": [
    "GLIMS outlines are shared in a format where each polygon is either a glacier outline or a rock outcrop (nunatak). RGI outlines are provided as polygons with exterior (glacier outlines) and interior (outcrops) boundaries. GLIMS does offer download in either format, but it is buggy and [silently fails on some glaciers](https://github.com/GLIMS-RGI/glims_issue_tracker/issues/2).\n",
    "\n",
    "Therefore, this script is there to convert the GLIMS format to RGI format. L1 files are simply the same data as L0 but with the new format. Additionally, we kept a list of \"orphaned\" outcrops which hint at errors in either the GLIMS database or this script."
   ]
  },
  {
   "cell_type": "code",
   "execution_count": 103,
   "metadata": {},
   "outputs": [],
   "source": [
    "from oggm import utils\n",
    "import geopandas as gpd\n",
    "import pandas as pd\n",
    "import numpy as np\n",
    "import shutil\n",
    "import glob\n",
    "import os\n",
    "import subprocess\n",
    "import tarfile\n",
    "import shapely.geometry as shpg\n",
    "import progressbar\n",
    "import warnings"
   ]
  },
  {
   "cell_type": "code",
   "execution_count": 2,
   "metadata": {},
   "outputs": [
    {
     "data": {
      "image/png": "[encoded data removed]",
      "text/plain": [
       "<Figure size 432x288 with 1 Axes>"
      ]
     },
     "metadata": {
      "needs_background": "light"
     },
     "output_type": "display_data"
    }
   ],
   "source": [
    "reg_file = 'zip://../l0_regions/00_rgi70_regions.zip/00_rgi70_regions/00_rgi70_O1Regions.shp'\n",
    "reg_f = gpd.read_file(reg_file)"
   ]
  },
  {
   "cell_type": "code",
   "execution_count": 3,
   "metadata": {},
   "outputs": [],
   "source": [
    "# We drop the second alaska box which is useless\n",
    "reg_f = reg_f.drop(1)"
   ]
  },
  {
   "cell_type": "code",
   "execution_count": 149,
   "metadata": {},
   "outputs": [
    {
     "name": "stdout",
     "output_type": "stream",
     "text": [
      "../l0_from_glims/00_RGI01.tgz\n"
     ]
    },
    {
     "name": "stderr",
     "output_type": "stream",
     "text": [
      "100% (50387 of 50387) |##################| Elapsed Time: 0:04:56 Time:  0:04:56\n"
     ]
    },
    {
     "name": "stdout",
     "output_type": "stream",
     "text": [
      "Writing...\n",
      "Taring...\n",
      "CompletedProcess(args=['tar', '-zcvf', '../l1_with_interiors_tars/RGI01.tar.gz', '-C', '../l1_with_interiors', 'RGI01'], returncode=0)\n",
      "Writing orphans...\n",
      "Taring orphans...\n",
      "CompletedProcess(args=['tar', '-zcvf', '../l1_orphan_interiors_tars/RGI01.tar.gz', '-C', '../l1_orphan_interiors', 'RGI01'], returncode=0)\n",
      "../l0_from_glims/02_RGI02.tgz\n"
     ]
    },
    {
     "name": "stderr",
     "output_type": "stream",
     "text": [
      "100% (33741 of 33741) |##################| Elapsed Time: 0:02:53 Time:  0:02:53\n"
     ]
    },
    {
     "name": "stdout",
     "output_type": "stream",
     "text": [
      "Writing...\n",
      "Taring...\n",
      "CompletedProcess(args=['tar', '-zcvf', '../l1_with_interiors_tars/RGI02.tar.gz', '-C', '../l1_with_interiors', 'RGI02'], returncode=0)\n",
      "Writing orphans...\n",
      "Taring orphans...\n",
      "CompletedProcess(args=['tar', '-zcvf', '../l1_orphan_interiors_tars/RGI02.tar.gz', '-C', '../l1_orphan_interiors', 'RGI02'], returncode=0)\n",
      "../l0_from_glims/03_RGI03.tgz\n"
     ]
    },
    {
     "name": "stderr",
     "output_type": "stream",
     "text": [
      "100% (11555 of 11555) |##################| Elapsed Time: 0:00:59 Time:  0:00:59\n"
     ]
    },
    {
     "name": "stdout",
     "output_type": "stream",
     "text": [
      "Writing...\n",
      "Taring...\n",
      "CompletedProcess(args=['tar', '-zcvf', '../l1_with_interiors_tars/RGI03.tar.gz', '-C', '../l1_with_interiors', 'RGI03'], returncode=0)\n",
      "Writing orphans...\n",
      "Taring orphans...\n",
      "CompletedProcess(args=['tar', '-zcvf', '../l1_orphan_interiors_tars/RGI03.tar.gz', '-C', '../l1_orphan_interiors', 'RGI03'], returncode=0)\n",
      "../l0_from_glims/04_RGI04.tgz\n"
     ]
    },
    {
     "name": "stderr",
     "output_type": "stream",
     "text": [
      "100% (7816 of 7816) |####################| Elapsed Time: 0:00:39 Time:  0:00:39\n"
     ]
    },
    {
     "name": "stdout",
     "output_type": "stream",
     "text": [
      "Writing...\n",
      "Taring...\n",
      "CompletedProcess(args=['tar', '-zcvf', '../l1_with_interiors_tars/RGI04.tar.gz', '-C', '../l1_with_interiors', 'RGI04'], returncode=0)\n",
      "../l0_from_glims/05_RGI05.tgz\n"
     ]
    },
    {
     "name": "stderr",
     "output_type": "stream",
     "text": [
      "100% (32900 of 32900) |##################| Elapsed Time: 0:03:24 Time:  0:03:24\n"
     ]
    },
    {
     "name": "stdout",
     "output_type": "stream",
     "text": [
      "Writing...\n",
      "Taring...\n",
      "CompletedProcess(args=['tar', '-zcvf', '../l1_with_interiors_tars/RGI05.tar.gz', '-C', '../l1_with_interiors', 'RGI05'], returncode=0)\n",
      "Writing orphans...\n",
      "Taring orphans...\n",
      "CompletedProcess(args=['tar', '-zcvf', '../l1_orphan_interiors_tars/RGI05.tar.gz', '-C', '../l1_orphan_interiors', 'RGI05'], returncode=0)\n",
      "../l0_from_glims/06_RGI06.tgz\n"
     ]
    },
    {
     "name": "stderr",
     "output_type": "stream",
     "text": [
      "100% (584 of 584) |######################| Elapsed Time: 0:00:05 Time:  0:00:05\n"
     ]
    },
    {
     "name": "stdout",
     "output_type": "stream",
     "text": [
      "Writing...\n",
      "Taring...\n",
      "CompletedProcess(args=['tar', '-zcvf', '../l1_with_interiors_tars/RGI06.tar.gz', '-C', '../l1_with_interiors', 'RGI06'], returncode=0)\n",
      "../l0_from_glims/07_RGI07.tgz\n"
     ]
    },
    {
     "name": "stderr",
     "output_type": "stream",
     "text": [
      "100% (5214 of 5214) |####################| Elapsed Time: 0:00:27 Time:  0:00:27\n"
     ]
    },
    {
     "name": "stdout",
     "output_type": "stream",
     "text": [
      "Writing...\n",
      "Taring...\n",
      "CompletedProcess(args=['tar', '-zcvf', '../l1_with_interiors_tars/RGI07.tar.gz', '-C', '../l1_with_interiors', 'RGI07'], returncode=0)\n",
      "Writing orphans...\n",
      "Taring orphans...\n",
      "CompletedProcess(args=['tar', '-zcvf', '../l1_orphan_interiors_tars/RGI07.tar.gz', '-C', '../l1_orphan_interiors', 'RGI07'], returncode=0)\n",
      "../l0_from_glims/08_RGI08.tgz\n"
     ]
    },
    {
     "name": "stderr",
     "output_type": "stream",
     "text": [
      "100% (3547 of 3547) |####################| Elapsed Time: 0:00:16 Time:  0:00:16\n"
     ]
    },
    {
     "name": "stdout",
     "output_type": "stream",
     "text": [
      "Writing...\n",
      "Taring...\n",
      "CompletedProcess(args=['tar', '-zcvf', '../l1_with_interiors_tars/RGI08.tar.gz', '-C', '../l1_with_interiors', 'RGI08'], returncode=0)\n",
      "../l0_from_glims/09_RGI09.tgz\n"
     ]
    },
    {
     "name": "stderr",
     "output_type": "stream",
     "text": [
      "100% (3815 of 3815) |####################| Elapsed Time: 0:00:22 Time:  0:00:22\n"
     ]
    },
    {
     "name": "stdout",
     "output_type": "stream",
     "text": [
      "Writing...\n",
      "Taring...\n",
      "CompletedProcess(args=['tar', '-zcvf', '../l1_with_interiors_tars/RGI09.tar.gz', '-C', '../l1_with_interiors', 'RGI09'], returncode=0)\n",
      "../l0_from_glims/10_RGI10.tgz\n",
      "../l0_from_glims/11_RGI10.tgz\n"
     ]
    },
    {
     "name": "stderr",
     "output_type": "stream",
     "text": [
      "100% (314136 of 314136) |################| Elapsed Time: 0:24:15 Time:  0:24:15\n"
     ]
    },
    {
     "name": "stdout",
     "output_type": "stream",
     "text": [
      "Writing...\n",
      "Taring...\n",
      "CompletedProcess(args=['tar', '-zcvf', '../l1_with_interiors_tars/RGI10.tar.gz', '-C', '../l1_with_interiors', 'RGI10'], returncode=0)\n",
      "Writing orphans...\n",
      "Taring orphans...\n",
      "CompletedProcess(args=['tar', '-zcvf', '../l1_orphan_interiors_tars/RGI10.tar.gz', '-C', '../l1_orphan_interiors', 'RGI10'], returncode=0)\n",
      "../l0_from_glims/12_RGI11.tgz\n"
     ]
    },
    {
     "name": "stderr",
     "output_type": "stream",
     "text": [
      " 37% (10990 of 28957) |######            | Elapsed Time: 0:00:54 ETA:   0:01:26TopologyException: side location conflict at 12.726751999999999 47.110363999999997 0\n",
      "100% (28957 of 28957) |##################| Elapsed Time: 0:02:26 Time:  0:02:26\n"
     ]
    },
    {
     "name": "stdout",
     "output_type": "stream",
     "text": [
      "Writing...\n",
      "Taring...\n",
      "CompletedProcess(args=['tar', '-zcvf', '../l1_with_interiors_tars/RGI11.tar.gz', '-C', '../l1_with_interiors', 'RGI11'], returncode=0)\n",
      "Writing orphans...\n",
      "Taring orphans...\n",
      "CompletedProcess(args=['tar', '-zcvf', '../l1_orphan_interiors_tars/RGI11.tar.gz', '-C', '../l1_orphan_interiors', 'RGI11'], returncode=0)\n",
      "../l0_from_glims/13_RGI12.tgz\n"
     ]
    },
    {
     "name": "stderr",
     "output_type": "stream",
     "text": [
      "100% (8404 of 8404) |####################| Elapsed Time: 0:00:40 Time:  0:00:40\n"
     ]
    },
    {
     "name": "stdout",
     "output_type": "stream",
     "text": [
      "Writing...\n",
      "Taring...\n",
      "CompletedProcess(args=['tar', '-zcvf', '../l1_with_interiors_tars/RGI12.tar.gz', '-C', '../l1_with_interiors', 'RGI12'], returncode=0)\n",
      "Writing orphans...\n",
      "Taring orphans...\n",
      "CompletedProcess(args=['tar', '-zcvf', '../l1_orphan_interiors_tars/RGI12.tar.gz', '-C', '../l1_orphan_interiors', 'RGI12'], returncode=0)\n",
      "../l0_from_glims/15_RGI14.tgz\n"
     ]
    },
    {
     "name": "stderr",
     "output_type": "stream",
     "text": [
      "100% (188060 of 188060) |################| Elapsed Time: 0:14:52 Time:  0:14:52\n"
     ]
    },
    {
     "name": "stdout",
     "output_type": "stream",
     "text": [
      "Writing...\n",
      "Taring...\n",
      "CompletedProcess(args=['tar', '-zcvf', '../l1_with_interiors_tars/RGI14.tar.gz', '-C', '../l1_with_interiors', 'RGI14'], returncode=0)\n",
      "Writing orphans...\n",
      "Taring orphans...\n",
      "CompletedProcess(args=['tar', '-zcvf', '../l1_orphan_interiors_tars/RGI14.tar.gz', '-C', '../l1_orphan_interiors', 'RGI14'], returncode=0)\n",
      "../l0_from_glims/16_RGI15.tgz\n"
     ]
    },
    {
     "name": "stderr",
     "output_type": "stream",
     "text": [
      "100% (125400 of 125400) |################| Elapsed Time: 0:09:38 Time:  0:09:38\n"
     ]
    },
    {
     "name": "stdout",
     "output_type": "stream",
     "text": [
      "Writing...\n",
      "Taring...\n",
      "CompletedProcess(args=['tar', '-zcvf', '../l1_with_interiors_tars/RGI15.tar.gz', '-C', '../l1_with_interiors', 'RGI15'], returncode=0)\n",
      "Writing orphans...\n",
      "Taring orphans...\n",
      "CompletedProcess(args=['tar', '-zcvf', '../l1_orphan_interiors_tars/RGI15.tar.gz', '-C', '../l1_orphan_interiors', 'RGI15'], returncode=0)\n",
      "../l0_from_glims/17_RGI16.tgz\n"
     ]
    },
    {
     "name": "stderr",
     "output_type": "stream",
     "text": [
      " 15% (781 of 5203) |###                  | Elapsed Time: 0:00:05 ETA:   0:00:32TopologyException: side location conflict at -77.680957000000006 -8.9723860000000002 0\n",
      "TopologyException: side location conflict at -77.685458999999994 -8.9728949999999994 0\n",
      "100% (5203 of 5203) |####################| Elapsed Time: 0:00:28 Time:  0:00:28\n"
     ]
    },
    {
     "name": "stdout",
     "output_type": "stream",
     "text": [
      "Writing...\n",
      "Taring...\n",
      "CompletedProcess(args=['tar', '-zcvf', '../l1_with_interiors_tars/RGI16.tar.gz', '-C', '../l1_with_interiors', 'RGI16'], returncode=0)\n",
      "Writing orphans...\n",
      "Taring orphans...\n",
      "CompletedProcess(args=['tar', '-zcvf', '../l1_orphan_interiors_tars/RGI16.tar.gz', '-C', '../l1_orphan_interiors', 'RGI16'], returncode=0)\n",
      "../l0_from_glims/18_RGI17.tgz\n"
     ]
    },
    {
     "name": "stderr",
     "output_type": "stream",
     "text": [
      "N/A% (0 of 50724) |                      | Elapsed Time: 0:00:00 ETA:  --:--:--TopologyException: side location conflict at -73.256309999999999 -46.701590000000003 0\n",
      "  1% (577 of 50724) |                    | Elapsed Time: 0:00:04 ETA:   0:06:34TopologyException: side location conflict at -73.209220999999999 -46.658822999999998 0\n",
      "100% (50724 of 50724) |##################| Elapsed Time: 0:04:33 Time:  0:04:33\n"
     ]
    },
    {
     "name": "stdout",
     "output_type": "stream",
     "text": [
      "Writing...\n",
      "Taring...\n",
      "CompletedProcess(args=['tar', '-zcvf', '../l1_with_interiors_tars/RGI17.tar.gz', '-C', '../l1_with_interiors', 'RGI17'], returncode=0)\n",
      "Writing orphans...\n",
      "Taring orphans...\n",
      "CompletedProcess(args=['tar', '-zcvf', '../l1_orphan_interiors_tars/RGI17.tar.gz', '-C', '../l1_orphan_interiors', 'RGI17'], returncode=0)\n",
      "../l0_from_glims/19_RGI18.tgz\n"
     ]
    },
    {
     "name": "stderr",
     "output_type": "stream",
     "text": [
      "100% (3853 of 3853) |####################| Elapsed Time: 0:00:17 Time:  0:00:17\n"
     ]
    },
    {
     "name": "stdout",
     "output_type": "stream",
     "text": [
      "Writing...\n",
      "Taring...\n",
      "CompletedProcess(args=['tar', '-zcvf', '../l1_with_interiors_tars/RGI18.tar.gz', '-C', '../l1_with_interiors', 'RGI18'], returncode=0)\n",
      "Writing orphans...\n",
      "Taring orphans...\n",
      "CompletedProcess(args=['tar', '-zcvf', '../l1_orphan_interiors_tars/RGI18.tar.gz', '-C', '../l1_orphan_interiors', 'RGI18'], returncode=0)\n",
      "../l0_from_glims/20_RGI19.tgz\n"
     ]
    },
    {
     "name": "stderr",
     "output_type": "stream",
     "text": [
      "  0% (4 of 38316) |                      | Elapsed Time: 0:00:00 ETA:   0:16:27TopologyException: side location conflict at -73.256309999999999 -46.701590000000003 0\n",
      "  4% (1603 of 38316) |                   | Elapsed Time: 0:00:12 ETA:   0:04:54TopologyException: side location conflict at -73.209220999999999 -46.658822999999998 0\n",
      "100% (38316 of 38316) |##################| Elapsed Time: 0:04:21 Time:  0:04:21\n"
     ]
    },
    {
     "name": "stdout",
     "output_type": "stream",
     "text": [
      "Writing...\n",
      "Taring...\n",
      "CompletedProcess(args=['tar', '-zcvf', '../l1_with_interiors_tars/RGI19.tar.gz', '-C', '../l1_with_interiors', 'RGI19'], returncode=0)\n",
      "Writing orphans...\n",
      "Taring orphans...\n",
      "CompletedProcess(args=['tar', '-zcvf', '../l1_orphan_interiors_tars/RGI19.tar.gz', '-C', '../l1_orphan_interiors', 'RGI19'], returncode=0)\n"
     ]
    }
   ],
   "source": [
    "odir = utils.mkdir('../l1_with_interiors')\n",
    "odir_tar = utils.mkdir('../l1_with_interiors_tars')\n",
    "\n",
    "odir_failed = utils.mkdir('../l1_orphan_interiors')\n",
    "odir_failed_tar = utils.mkdir('../l1_orphan_interiors_tars')\n",
    "\n",
    "for reg in range(1, 20):\n",
    "    \n",
    "    # Read the shapes for one or more boxes\n",
    "    shp = [] \n",
    "    for i, sreg in reg_f.loc[reg_f.RGI_CODE == f'{reg:02d}'].iterrows():\n",
    "        \n",
    "        filebasename = f'../l0_from_glims/{i:02d}_RGI{reg:02d}.tgz'\n",
    "        print(filebasename)\n",
    "        with tarfile.open(filebasename, \"r:gz\") as tar:\n",
    "            fn = tar.getnames()[0]\n",
    "        fp = 'tar://' + filebasename + '/{}/glims_polygons.shp'.format(fn)\n",
    "        shp.append(gpd.read_file(fp))\n",
    "    \n",
    "    # Merge them together\n",
    "    shp = pd.concat(shp)    \n",
    "    \n",
    "    # Compute areas\n",
    "    shp['area'] = shp.to_crs({'proj':'cea'}).area\n",
    "    \n",
    "    # Now the interior things\n",
    "    \n",
    "    # We group per anlys_id which is the smalles unit of glacier in GLIMS \n",
    "    # (a single GLIMSID can have several dates and/or contributor, for example)\n",
    "    grouped = shp.groupby('anlys_id')\n",
    "    \n",
    "    # We loop over anlys_id\n",
    "    odf = []\n",
    "    odf_rocks = []\n",
    "    for name, group in progressbar.progressbar(grouped):\n",
    "\n",
    "        # Basic sanity checks\n",
    "        assert len(group.glac_id.unique()) == 1\n",
    "        assert len(group.anlys_time.unique()) == 1\n",
    "        assert len(group.src_date.unique()) == 1\n",
    "        assert len(group.release_dt.unique()) == 1\n",
    "        assert len(group.submitters.unique()) == 1\n",
    "        assert len(group.analysts.unique()) == 1\n",
    "\n",
    "        # Select the various (1 - more) main rocks\n",
    "        mains = group.loc[group.line_type == 'glac_bound'].copy()\n",
    "\n",
    "        # And all rocks\n",
    "        rocks = group.loc[group.line_type == 'intrnl_rock']\n",
    "\n",
    "        # We sort areas to avoid misclassifications\n",
    "        mains = mains.sort_values('area')\n",
    "\n",
    "        # Now loop over the mains and check which rocks belong\n",
    "        for i, main in mains.iterrows():\n",
    "\n",
    "            try:\n",
    "                # Check where the rocks belong\n",
    "                isin = rocks.geometry.within(main.geometry)\n",
    "            except:\n",
    "                # An error occurred\n",
    "                # The ids below have been manually checked - that's not many in light of the thousands of entries\n",
    "                if main.glac_id in ['G282321E08973S', 'G286431E47184S', 'G293140E68314S', \n",
    "                                    'G294835E68160S', 'G295727E65746S']:\n",
    "                    mains = mains.drop(i)\n",
    "                    isin = []\n",
    "                elif main.glac_id in ['G286765E46650S']:\n",
    "                    main['geometry'] = main.geometry.buffer(0)[1]\n",
    "                    isin = rocks.geometry.within(main.geometry)\n",
    "                elif main.glac_id in ['G282313E08974S', 'G286697E46659S', 'G286765E46650S', \n",
    "                                      'G292617E67510S', 'G294132E67719S', 'G012723E47107N']:\n",
    "                    rocks = rocks[rocks.is_valid]\n",
    "                    isin = rocks.geometry.within(main.geometry)\n",
    "                else:\n",
    "                    raise\n",
    "            exterior = main.geometry.exterior\n",
    "            interiors = [p.exterior for p in rocks.loc[isin].geometry]\n",
    "            if len(interiors) > 0:\n",
    "                mains.loc[i, 'geometry'] = shpg.Polygon(exterior, interiors)\n",
    "                rocks = rocks[~isin]\n",
    "\n",
    "        odf.append(mains)\n",
    "        odf_rocks.append(rocks)\n",
    "\n",
    "    odf = pd.concat(odf)\n",
    "    odf_rocks = pd.concat(odf_rocks)\n",
    "    \n",
    "    dd = utils.mkdir(f'{odir}/RGI{reg:02d}/', reset=True)\n",
    "    print('Writing...')\n",
    "    odf.to_file(dd + f'RGI{reg:02d}.shp')\n",
    "    \n",
    "    print('Taring...')\n",
    "    print(subprocess.run(['tar', '-zcvf', f'{odir_tar}/RGI{reg:02d}.tar.gz', '-C', odir, f'RGI{reg:02d}']))\n",
    "    \n",
    "    if len(odf_rocks) > 0:\n",
    "        dd = utils.mkdir(f'{odir_failed}/RGI{reg:02d}/', reset=True)\n",
    "        print('Writing orphans...')\n",
    "        odf_rocks.to_file(dd + f'RGI{reg:02d}.shp')\n",
    "\n",
    "        print('Taring orphans...')\n",
    "        print(subprocess.run(['tar', '-zcvf', f'{odir_failed_tar}/RGI{reg:02d}.tar.gz', '-C', odir_failed, f'RGI{reg:02d}']))"
   ]
  }
 ],
 "metadata": {
  "kernelspec": {
   "display_name": "Python 3",
   "language": "python",
   "name": "python3"
  },
  "language_info": {
   "codemirror_mode": {
    "name": "ipython",
    "version": 3
   },
   "file_extension": ".py",
   "mimetype": "text/x-python",
   "name": "python",
   "nbconvert_exporter": "python",
   "pygments_lexer": "ipython3",
   "version": "3.8.8"
  }
 },
 "nbformat": 4,
 "nbformat_minor": 4
}
