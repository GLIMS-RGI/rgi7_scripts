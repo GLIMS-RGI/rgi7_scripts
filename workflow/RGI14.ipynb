{
 "cells": [
  {
   "cell_type": "markdown",
   "id": "automotive-uruguay",
   "metadata": {},
   "source": [
    "# RGI14 (South Asia, West)\n",
    "\n",
    "F. Maussion & S. Galos"
   ]
  },
  {
   "cell_type": "code",
   "execution_count": null,
   "id": "signed-providence",
   "metadata": {},
   "outputs": [],
   "source": [
    "import pandas as pd\n",
    "import geopandas as gpd\n",
    "import subprocess\n",
    "import matplotlib.pyplot as plt\n",
    "import matplotlib.patches as mpatches\n",
    "import seaborn as sns\n",
    "import numpy as np\n",
    "from utils import mkdir, submission_summary, needs_size_filter, size_filter, plot_map, plot_date_hist, find_duplicates, correct_geoms\n",
    "import os"
   ]
  },
  {
   "cell_type": "markdown",
   "id": "practical-ensemble",
   "metadata": {},
   "source": [
    "### specify RGI-region and storage paths"
   ]
  },
  {
   "cell_type": "code",
   "execution_count": null,
   "id": "accredited-founder",
   "metadata": {},
   "outputs": [],
   "source": [
    "# Region of interest\n",
    "reg = 14\n",
    "\n",
    "# go down from rgi7_scripts/workflow\n",
    "data_dir = '../../rgi7_data/'\n",
    "\n",
    "# Level 2 GLIMS files\n",
    "l2_dir = os.path.join(data_dir, 'l2_sel_reg_tars')\n",
    "\n",
    "# Output directories\n",
    "output_dir = mkdir(os.path.join(data_dir, 'l3_rgi7a'))\n",
    "output_dir_tar = mkdir(os.path.join(data_dir, 'l3_rgi7a_tar'))\n",
    "\n",
    "# RGI v6 file for comparison later \n",
    "rgi6_reg_file = os.path.join(data_dir, 'l0_RGIv6', '14_rgi60_SouthAsiaWest.zip')\n",
    "\n",
    "# Region is based on GAMDAM, use for comparison\n",
    "support_dir = os.path.join(data_dir, 'l0_support_data')\n",
    "gamdam_dir = os.path.join(support_dir, 'gamdam')\n",
    "\n",
    "# Region file to select from gamdam\n",
    "reg_file = os.path.join(data_dir, 'l0_regions', '00_rgi70_regions', '00_rgi70_O1Regions.shp')"
   ]
  },
  {
   "cell_type": "markdown",
   "id": "completed-choir",
   "metadata": {},
   "source": [
    "### Load the input data"
   ]
  },
  {
   "cell_type": "code",
   "execution_count": null,
   "id": "patient-meter",
   "metadata": {},
   "outputs": [],
   "source": [
    "# Read L2 files\n",
    "shp = gpd.read_file('tar://' + l2_dir + f'/RGI{reg:02d}.tar.gz/RGI{reg:02d}/RGI{reg:02d}.shp')"
   ]
  },
  {
   "cell_type": "markdown",
   "id": "2581546a-c820-4da4-a359-f6846322cfe6",
   "metadata": {},
   "source": [
    "### List of submissions "
   ]
  },
  {
   "cell_type": "code",
   "execution_count": null,
   "id": "f7d52171-eca9-4f57-a474-9d61854a0ad9",
   "metadata": {},
   "outputs": [],
   "source": [
    "sdf, _ = submission_summary(shp)\n",
    "sdf"
   ]
  },
  {
   "cell_type": "code",
   "execution_count": null,
   "id": "213ccf71-d217-41ac-a363-3d2f3d4dc050",
   "metadata": {},
   "outputs": [],
   "source": [
    "# # Optional: write out selection in intermediate shape files for manual GIS review\n",
    "# tmp_output_dir = mkdir(os.path.join(data_dir, 'l0_tmp_data', f'rgi{reg:02d}_inventories'))\n",
    "# tmp_output_dir_tar = mkdir(os.path.join(data_dir, 'l0_tmp_data'))\n",
    "# for subid in shp.subm_id.unique():\n",
    "#     s_loc = shp.loc[shp.subm_id == subid]\n",
    "#     s_loc.to_file(tmp_output_dir + f'/subm_{int(subid):03d}.shp')\n",
    "# print('Taring...')\n",
    "# print(subprocess.run(['tar', '-zcvf', f'{tmp_output_dir_tar}/rgi{reg:02d}_inventories.tar.gz', '-C', \n",
    "#                       os.path.join(data_dir, 'l0_tmp_data'), f'rgi{reg:02d}_inventories']))"
   ]
  },
  {
   "cell_type": "markdown",
   "id": "be019a10-8a4f-48df-bf54-b7ad509785df",
   "metadata": {},
   "source": [
    "## Outline selection "
   ]
  },
  {
   "cell_type": "markdown",
   "id": "6e474474-bef9-4005-bbc0-7a7d994cd24e",
   "metadata": {},
   "source": [
    "### Apply selection criteria to create the RGI-07 data subset"
   ]
  },
  {
   "cell_type": "code",
   "execution_count": null,
   "id": "fab857d7-fc58-4222-8eb9-25b292a330cd",
   "metadata": {},
   "outputs": [],
   "source": [
    "# try to get the data relevant for RGI07 and select by attributes\n",
    "rgi7 = shp.loc[shp['subm_id'] == 752].copy()\n",
    "rgi7['is_rgi6'] = False"
   ]
  },
  {
   "cell_type": "code",
   "execution_count": null,
   "id": "1e27d906-ee1c-4e85-997d-7565052609f2",
   "metadata": {},
   "outputs": [],
   "source": [
    "# Size filter?\n",
    "needs_size_filter(rgi7)"
   ]
  },
  {
   "cell_type": "markdown",
   "id": "4e67e71b-9fbb-40e1-ae85-43722094297b",
   "metadata": {},
   "source": [
    "### Some sanity checks "
   ]
  },
  {
   "cell_type": "code",
   "execution_count": null,
   "id": "f1e7d746-ddef-454d-a6c5-9be971744590",
   "metadata": {},
   "outputs": [],
   "source": [
    "dupes = find_duplicates(rgi7)"
   ]
  },
  {
   "cell_type": "code",
   "execution_count": null,
   "id": "98dd5cf3-f0cb-4afa-afc1-abf437b06696",
   "metadata": {},
   "outputs": [],
   "source": [
    "rgi7 = correct_geoms(rgi7)"
   ]
  },
  {
   "cell_type": "code",
   "execution_count": null,
   "id": "aacfd621-4618-457d-bb6d-e78d1c6d44b3",
   "metadata": {},
   "outputs": [],
   "source": [
    "needs_size_filter(rgi7)"
   ]
  },
  {
   "cell_type": "code",
   "execution_count": null,
   "id": "0c572bb2-01c4-486c-bc2d-073aa770ff25",
   "metadata": {},
   "outputs": [],
   "source": [
    "sdf, df_class = submission_summary(rgi7)\n",
    "df_class"
   ]
  },
  {
   "cell_type": "code",
   "execution_count": null,
   "id": "5d0c441a-d802-458a-881d-dedfb8c52f1b",
   "metadata": {},
   "outputs": [],
   "source": [
    "# Check the orphaned rock outcrops\n",
    "orphan_f = os.path.join(data_dir, 'l1_orphan_interiors', f'RGI{reg:02d}', f'RGI{reg:02d}.shp')\n",
    "if os.path.exists(orphan_f):\n",
    "    orphan_f = gpd.read_file(orphan_f)\n",
    "    check = np.isin(rgi7.subm_id.unique(), orphan_f.subm_id.unique())\n",
    "    if np.any(check):\n",
    "        print(f'Orphan rock outcrops detected in subm_id {rgi7.subm_id.unique()[check]}')\n",
    "        orphan_f['area'] = orphan_f.to_crs({'proj':'cea'}).area"
   ]
  },
  {
   "cell_type": "markdown",
   "id": "b10d6ca8-9a90-46ab-966f-57be699dfd1b",
   "metadata": {},
   "source": [
    "### Plots "
   ]
  },
  {
   "cell_type": "code",
   "execution_count": null,
   "id": "48d2f3d0-2c55-4761-89ea-ef7e095be8b3",
   "metadata": {},
   "outputs": [],
   "source": [
    "plot_map(rgi7, reg)"
   ]
  },
  {
   "cell_type": "code",
   "execution_count": null,
   "id": "a0e9456c-2bf3-4f4d-81b5-01a4956675ed",
   "metadata": {},
   "outputs": [],
   "source": [
    "plot_map(rgi7, reg, is_rgi6=True)"
   ]
  },
  {
   "cell_type": "code",
   "execution_count": null,
   "id": "f745dc5a-cbaa-448e-9483-447fc41eb1e9",
   "metadata": {},
   "outputs": [],
   "source": [
    "plot_date_hist(rgi7, reg)"
   ]
  },
  {
   "cell_type": "markdown",
   "id": "710d23ce-4e8e-4ae9-b291-ebf76a8ac1b2",
   "metadata": {},
   "source": [
    "### Text for github"
   ]
  },
  {
   "cell_type": "code",
   "execution_count": null,
   "id": "ca312ec9-3b47-49eb-b6ee-f20890e9e3d5",
   "metadata": {},
   "outputs": [],
   "source": [
    "fgh = sdf.T\n",
    "fgh"
   ]
  },
  {
   "cell_type": "code",
   "execution_count": null,
   "id": "dcff4464-0d94-4c37-b22f-520269a89035",
   "metadata": {},
   "outputs": [],
   "source": [
    "print(fgh.to_markdown(headers=np.append(['subm_id'], fgh.columns)))"
   ]
  },
  {
   "cell_type": "markdown",
   "id": "1021503f-6c94-4e2b-992c-bdd1ab6f8bb9",
   "metadata": {},
   "source": [
    "## Write out and tar "
   ]
  },
  {
   "cell_type": "code",
   "execution_count": null,
   "id": "464375e4-4049-44e9-a8ce-f5966169eec6",
   "metadata": {},
   "outputs": [],
   "source": [
    "dd = mkdir(f'{output_dir}/RGI{reg:02d}/', reset=True)\n",
    "\n",
    "print('Writing...')\n",
    "rgi7.to_file(dd + f'RGI{reg:02d}.shp')\n",
    "\n",
    "print('Taring...')\n",
    "print(subprocess.run(['tar', '-zcvf', f'{output_dir_tar}/RGI{reg:02d}.tar.gz', '-C', output_dir, f'RGI{reg:02d}']))"
   ]
  },
  {
   "cell_type": "markdown",
   "id": "7326e16b-7622-4db4-aa77-244e77ec9aa3",
   "metadata": {},
   "source": [
    "## New RGI-file created - Check result!"
   ]
  },
  {
   "cell_type": "markdown",
   "id": "a43ac526-d76d-473b-ac91-ee66a22e4b8a",
   "metadata": {},
   "source": [
    "load reference data (here GAMDAM original) to enable comparison"
   ]
  },
  {
   "cell_type": "code",
   "execution_count": null,
   "id": "bbbe2ccb-701b-4595-801a-dec40dfa0acb",
   "metadata": {},
   "outputs": [],
   "source": [
    "# Region file to select from gamdam\n",
    "reg_file = os.path.join(data_dir, '00_rgi70_regions', '00_rgi70_O1Regions', '00_rgi70_O1Regions.shp')"
   ]
  },
  {
   "cell_type": "code",
   "execution_count": null,
   "id": "0ae420d8-3885-4da2-a45d-28f1f93d5e73",
   "metadata": {},
   "outputs": [],
   "source": [
    "# specify path to reference data set\n",
    "import glob\n",
    "from utils import open_zip_shapefile\n",
    "gam_files = glob.glob(gamdam_dir + '/*.zip')\n",
    "df_ref = []\n",
    "for gf in gam_files:\n",
    "    df_ref.append(open_zip_shapefile(gf))\n",
    "\n",
    "df_ref = pd.concat(df_ref).reset_index()"
   ]
  },
  {
   "cell_type": "code",
   "execution_count": null,
   "id": "e6b7e565-f5c5-417d-9ef2-9bca890cb819",
   "metadata": {},
   "outputs": [],
   "source": [
    "# Calculate representative points for reference data\n",
    "ref_rp = df_ref.representative_point()\n",
    "\n",
    "# Make a dataframe out of it and add the original index to recover it later\n",
    "ref_rp = ref_rp.to_frame('geometry')\n",
    "ref_rp['orig_index'] = df_ref.index\n",
    "\n",
    "# Read region file\n",
    "reg_f = gpd.read_file(reg_file)\n",
    "\n",
    "# Make the overlay with the RGI region of interest -> get the rep. points which are located inside the region boundaries\n",
    "ref_intersect = gpd.overlay(ref_rp, reg_f.loc[reg_f.RGI_CODE == f'{reg:02d}'], how='intersection')\n",
    "\n",
    "# Now select the entries which intersect from the original shape file (-> extract the polygons) \n",
    "df_ref = df_ref.loc[ref_intersect['orig_index'].values].copy()"
   ]
  },
  {
   "cell_type": "markdown",
   "id": "f5f3d1b2-51d7-4ee7-a90a-f8f476e666a5",
   "metadata": {},
   "source": [
    "### Number of elements (differences do depict problems)"
   ]
  },
  {
   "cell_type": "code",
   "execution_count": null,
   "id": "673f3efd-a941-43d1-9a83-50dec42a0ea6",
   "metadata": {},
   "outputs": [],
   "source": [
    "print('Number of glaciers in new RGI subset:', len(rgi7))\n",
    "print('Number of glaciers in reference data:', len(df_ref) - len(to_remove))\n",
    "print('Difference:', len(rgi7)-len(df_ref) + len(to_remove))"
   ]
  },
  {
   "cell_type": "markdown",
   "id": "0c53bab4-c24b-4f20-aca3-bbebfc00b10b",
   "metadata": {},
   "source": [
    "### Total area"
   ]
  },
  {
   "cell_type": "code",
   "execution_count": null,
   "id": "6a11eac2-bd57-45d5-991c-ec5c39a4aec6",
   "metadata": {},
   "outputs": [],
   "source": [
    "# add an area field to the selected GAMDAM table\n",
    "df_ref['area'] = df_ref.to_crs({'proj':'cea'}).area"
   ]
  },
  {
   "cell_type": "code",
   "execution_count": null,
   "id": "2e8fdd7a-476e-40ff-9d3f-b055f62844ff",
   "metadata": {},
   "outputs": [],
   "source": [
    "# print and compare area values\n",
    "Area_RGI = rgi7['area'].sum() * 1e-6\n",
    "print('Area RGI [km²]:', Area_RGI)\n",
    "Area_ref = df_ref['area'].sum() * 1e-6  - to_remove['area'].sum() * 1e-6\n",
    "print('Area Ref [km²]:', Area_ref)\n",
    "d = (Area_RGI - Area_ref)\n",
    "print('Area difference [km²]:',d)"
   ]
  }
 ],
 "metadata": {
  "kernelspec": {
   "display_name": "Python 3 (ipykernel)",
   "language": "python",
   "name": "python3"
  },
  "language_info": {
   "codemirror_mode": {
    "name": "ipython",
    "version": 3
   },
   "file_extension": ".py",
   "mimetype": "text/x-python",
   "name": "python",
   "nbconvert_exporter": "python",
   "pygments_lexer": "ipython3",
   "version": "3.10.8"
  }
 },
 "nbformat": 4,
 "nbformat_minor": 5
}
