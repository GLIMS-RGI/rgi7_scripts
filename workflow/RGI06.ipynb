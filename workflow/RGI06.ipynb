{
 "cells": [
  {
   "cell_type": "markdown",
   "id": "paperback-deadline",
   "metadata": {},
   "source": [
    "# RGI-07: Region 06 (Iceland)\n",
    "##### F. Maussion & S. Galos, July 2021"
   ]
  },
  {
   "cell_type": "code",
   "execution_count": 7,
   "id": "useful-logic",
   "metadata": {},
   "outputs": [],
   "source": [
    "import geopandas as gpd\n",
    "import pandas as pd\n",
    "import matplotlib.pyplot as plt\n",
    "import subprocess\n",
    "import os\n",
    "from utils import mkdir"
   ]
  },
  {
   "cell_type": "markdown",
   "id": "pending-purple",
   "metadata": {},
   "source": [
    "## Files and storage paths"
   ]
  },
  {
   "cell_type": "code",
   "execution_count": 8,
   "id": "casual-shame",
   "metadata": {},
   "outputs": [],
   "source": [
    "# Region of interest\n",
    "reg = 6\n",
    "\n",
    "# go down from rgi7_scripts/workflow\n",
    "data_dir = '../../rgi7_data/'\n",
    "\n",
    "# Level 2 GLIMS files\n",
    "l2_dir = os.path.join(data_dir, 'l2_sel_reg_tars')\n",
    "\n",
    "# Output directories\n",
    "output_dir = mkdir(os.path.join(data_dir, 'l3_rgi7a'))\n",
    "output_dir_tar = mkdir(os.path.join(data_dir, 'l3_rgi7a_tar'))\n",
    "\n",
    "# RGI v6 file for comparison later \n",
    "rgi6_reg_file = os.path.join(data_dir, 'l0_RGIv6', '06_rgi60_Iceland.zip')"
   ]
  },
  {
   "cell_type": "code",
   "execution_count": 9,
   "id": "natural-birmingham",
   "metadata": {},
   "outputs": [],
   "source": [
    "# Specific to this region: RGI is made up by a series of spatially overlapping datasets\n",
    "# selection of subsets is based on boxes which define areas for respective subset selection\n",
    "\n",
    "support_dir = os.path.join(data_dir, 'l0_support_data')\n",
    "box_file = os.path.join(support_dir, 'Iceland.tar.gz')"
   ]
  },
  {
   "cell_type": "markdown",
   "id": "irish-begin",
   "metadata": {},
   "source": [
    "### Load the input data"
   ]
  },
  {
   "cell_type": "code",
   "execution_count": 10,
   "id": "bronze-limit",
   "metadata": {},
   "outputs": [],
   "source": [
    "# Read L2 files\n",
    "shp = gpd.read_file('tar://' + l2_dir + f'/RGI{reg:02d}.tar.gz/RGI{reg:02d}/RGI{reg:02d}.shp')"
   ]
  },
  {
   "cell_type": "markdown",
   "id": "cooked-logan",
   "metadata": {},
   "source": [
    "## Apply selection criteria to create the RGI7 data subset"
   ]
  },
  {
   "cell_type": "markdown",
   "id": "downtown-convert",
   "metadata": {},
   "source": [
    "### Extract RGI6 from GLIMS data and do a check\n",
    "\n",
    "In this special case RGI06 was made up from several files. Submission id 719 was added to GLIMS to document applied changes in glacier devides for RGI6 so data set serves as the baseline, we then add those parts of other submissions which are not covered by subm_id 719. To extract those we apply an overlay of representative points of each file and the polygons of subm_id 719.   "
   ]
  },
  {
   "cell_type": "code",
   "execution_count": 11,
   "id": "together-maldives",
   "metadata": {},
   "outputs": [],
   "source": [
    "# define subsets according to submission id\n",
    "sub_719 = shp.loc[shp['subm_id']==719]\n",
    "sub_437 = shp.loc[shp['subm_id']==437]\n",
    "sub_438 = shp.loc[shp['subm_id']==438]\n",
    "sub_439 = shp.loc[shp['subm_id']==439]\n",
    "sub_452 = shp.loc[shp['subm_id']==452]"
   ]
  },
  {
   "cell_type": "markdown",
   "id": "judicial-narrative",
   "metadata": {},
   "source": [
    "### Extract relevant subset of each submission based on overlay with manually defined boxes"
   ]
  },
  {
   "cell_type": "code",
   "execution_count": 16,
   "id": "chemical-missouri",
   "metadata": {},
   "outputs": [],
   "source": [
    "# load shapes\n",
    "AOI_437 = gpd.read_file('tar://' + box_file + '/Iceland/AOI_437.shp')\n",
    "AOI_438 = gpd.read_file('tar://' + box_file + '/Iceland/AOI_438.shp')\n",
    "AOI_439 = gpd.read_file('tar://' + box_file + '/Iceland/AOI_439.shp')\n",
    "AOI_452 = gpd.read_file('tar://' + box_file + '/Iceland/AOI_452.shp')"
   ]
  },
  {
   "cell_type": "code",
   "execution_count": 17,
   "id": "double-savannah",
   "metadata": {},
   "outputs": [],
   "source": [
    "## extract relevant subsets by overlay\n",
    "\n",
    "# 437\n",
    "sub437_ss = gpd.overlay(sub_437, AOI_437, how='intersection')\n",
    "\n",
    "# 438\n",
    "sub438_ss = gpd.overlay(sub_438, AOI_438, how='intersection')\n",
    "\n",
    "# 439\n",
    "sub439_ss = gpd.overlay(sub_439, AOI_439, how='intersection')\n",
    "\n",
    "# 452\n",
    "sub452_ss = gpd.overlay(sub_452, AOI_452, how='intersection')"
   ]
  },
  {
   "cell_type": "code",
   "execution_count": 18,
   "id": "complete-lemon",
   "metadata": {},
   "outputs": [],
   "source": [
    "# append to subm 719 in order to create RGI regional subset\n",
    "RGI_ss = sub_719.append([sub437_ss, sub438_ss, sub439_ss, sub452_ss], sort=True)"
   ]
  },
  {
   "cell_type": "markdown",
   "id": "golden-harmony",
   "metadata": {},
   "source": [
    "#### load reference data (here RGI6) to enable comparison"
   ]
  },
  {
   "cell_type": "code",
   "execution_count": 19,
   "id": "offshore-mouth",
   "metadata": {},
   "outputs": [],
   "source": [
    "# Just to know the name of the file to open from zip\n",
    "import zipfile\n",
    "with zipfile.ZipFile(rgi6_reg_file, \"r\") as z:\n",
    "    for f in z.filelist:\n",
    "        if '.shp' in f.filename:\n",
    "            fname = f.filename\n",
    "\n",
    "# load reference data\n",
    "ref_odf = gpd.read_file('zip://' + rgi6_reg_file + '/' + fname)"
   ]
  },
  {
   "cell_type": "markdown",
   "id": "ranking-courtesy",
   "metadata": {},
   "source": [
    "#### Number of elements (differences do not necessarily depict major problems)"
   ]
  },
  {
   "cell_type": "code",
   "execution_count": 20,
   "id": "dangerous-retail",
   "metadata": {},
   "outputs": [
    {
     "name": "stdout",
     "output_type": "stream",
     "text": [
      "Number of glaciers in new RGI subset: 567\n",
      "Number of glaciers in reference data: 568\n",
      "Difference: -1\n"
     ]
    }
   ],
   "source": [
    "print('Number of glaciers in new RGI subset:', len(RGI_ss))\n",
    "print('Number of glaciers in reference data:', len(ref_odf))\n",
    "print('Difference:', len(RGI_ss)-len(ref_odf))"
   ]
  },
  {
   "cell_type": "markdown",
   "id": "physical-andrew",
   "metadata": {},
   "source": [
    "#### check for dublicate glacier IDs"
   ]
  },
  {
   "cell_type": "code",
   "execution_count": 21,
   "id": "realistic-parks",
   "metadata": {},
   "outputs": [
    {
     "name": "stdout",
     "output_type": "stream",
     "text": [
      "number of glaciers without unique id in RGI06: 0\n"
     ]
    }
   ],
   "source": [
    "print ('number of glaciers without unique id in RGI06:', len(ref_odf)-len(ref_odf['GLIMSId'].unique()))"
   ]
  },
  {
   "cell_type": "code",
   "execution_count": 22,
   "id": "invalid-soundtrack",
   "metadata": {},
   "outputs": [
    {
     "name": "stdout",
     "output_type": "stream",
     "text": [
      "number of glaciers without unique id in RGI06 from GLIMS data base: 2\n"
     ]
    }
   ],
   "source": [
    "print ('number of glaciers without unique id in RGI06 from GLIMS data base:', len(RGI_ss)-len(RGI_ss['glac_id'].unique()))"
   ]
  },
  {
   "cell_type": "code",
   "execution_count": 27,
   "id": "legitimate-malaysia",
   "metadata": {},
   "outputs": [
    {
     "data": {
      "text/plain": [
       "1     G344437E64800N\n",
       "15    G345728E64968N\n",
       "Name: glac_id, dtype: object"
      ]
     },
     "execution_count": 27,
     "metadata": {},
     "output_type": "execute_result"
    }
   ],
   "source": [
    "# check for dublicated glac_ids \n",
    "dub = RGI_ss[RGI_ss['glac_id'].duplicated()]\n",
    "dub['glac_id']"
   ]
  },
  {
   "cell_type": "code",
   "execution_count": 30,
   "id": "included-atlas",
   "metadata": {},
   "outputs": [
    {
     "data": {
      "text/plain": [
       "'G344437E64800N'"
      ]
     },
     "execution_count": 30,
     "metadata": {},
     "output_type": "execute_result"
    }
   ],
   "source": []
  },
  {
   "cell_type": "code",
   "execution_count": 31,
   "id": "tender-permit",
   "metadata": {},
   "outputs": [
    {
     "data": {
      "image/png": "[encoded data removed]",
      "text/plain": [
       "<Figure size 432x288 with 1 Axes>"
      ]
     },
     "metadata": {
      "needs_background": "light"
     },
     "output_type": "display_data"
    }
   ],
   "source": [
    "RGI_ss.loc[RGI_ss.glac_id == dub['glac_id'].iloc[0]].plot();"
   ]
  },
  {
   "cell_type": "markdown",
   "id": "shared-static",
   "metadata": {},
   "source": [
    "#### Check for 'nominal glaciers' in the RGI6 original data and delete them from new RGI subset from GLIMS if they are in there "
   ]
  },
  {
   "cell_type": "code",
   "execution_count": 32,
   "id": "suitable-tattoo",
   "metadata": {},
   "outputs": [
    {
     "data": {
      "text/plain": [
       "0"
      ]
     },
     "execution_count": 32,
     "metadata": {},
     "output_type": "execute_result"
    }
   ],
   "source": [
    "# how many nominals in RGI06 (identifiable via 'Status' attribute in RGI 06)\n",
    "nom = ref_odf.loc[ref_odf.Status == 2]\n",
    "len(nom)"
   ]
  },
  {
   "cell_type": "markdown",
   "id": "hawaiian-korea",
   "metadata": {},
   "source": [
    "#### Total area"
   ]
  },
  {
   "cell_type": "code",
   "execution_count": 33,
   "id": "streaming-address",
   "metadata": {},
   "outputs": [],
   "source": [
    "# add an area field to RGI_ss and reference data\n",
    "RGI_ss['area'] = RGI_ss.to_crs({'proj':'cea'}).area\n",
    "ref_odf['area'] = ref_odf.to_crs({'proj':'cea'}).area\n",
    "nom['area'] = nom.to_crs({'proj':'cea'}).area"
   ]
  },
  {
   "cell_type": "code",
   "execution_count": 34,
   "id": "hired-silver",
   "metadata": {},
   "outputs": [
    {
     "name": "stdout",
     "output_type": "stream",
     "text": [
      "Area RGI [km²]: 11059.703473376434\n",
      "Area Ref [km²]: 11059.70349144711\n",
      "Area Nom [km²]: 0.0\n",
      "Area difference: -18.070675650960766 m²\n"
     ]
    }
   ],
   "source": [
    "# print and compare area values\n",
    "Area_RGI = RGI_ss['area'].sum()/1000000\n",
    "print('Area RGI [km²]:', Area_RGI)\n",
    "Area_ref = ref_odf['area'].sum()/1000000\n",
    "print('Area Ref [km²]:', Area_ref)\n",
    "Area_nom = nom['area'].sum()/1000000\n",
    "print('Area Nom [km²]:', Area_nom)\n",
    "d = (Area_RGI + Area_nom - Area_ref)*1000000\n",
    "print('Area difference:',d, 'm²')"
   ]
  },
  {
   "cell_type": "markdown",
   "id": "comparative-acting",
   "metadata": {},
   "source": [
    "## Result of check (RGI from Glims global data base vs. RGI06 original):\n",
    "#### the number of individual gaciers differs by 1 while areas of both files differ by only 18 m² for whole Region. Manual check in GIS did not show where the missing glacier has gone...\n",
    "#### Dublicate glacier IDs: Two totally different glaciers have ID G345728E64968N, same is true for G344437E64800N."
   ]
  },
  {
   "cell_type": "markdown",
   "id": "boring-saskatchewan",
   "metadata": {},
   "source": [
    "## Write out and tar "
   ]
  },
  {
   "cell_type": "code",
   "execution_count": 35,
   "id": "northern-algeria",
   "metadata": {},
   "outputs": [
    {
     "name": "stdout",
     "output_type": "stream",
     "text": [
      "Writing...\n",
      "Taring...\n",
      "CompletedProcess(args=['tar', '-zcvf', '../../rgi7_data/l3_rgi7a_tar/RGI06.tar.gz', '-C', '../../rgi7_data/l3_rgi7a', 'RGI06'], returncode=0)\n"
     ]
    }
   ],
   "source": [
    "dd = mkdir(f'{output_dir}/RGI{reg:02d}/', reset=True)\n",
    "\n",
    "print('Writing...')\n",
    "RGI_ss.to_file(dd + f'RGI{reg:02d}.shp')\n",
    "\n",
    "print('Taring...')\n",
    "print(subprocess.run(['tar', '-zcvf', f'{output_dir_tar}/RGI{reg:02d}.tar.gz', '-C', output_dir, f'RGI{reg:02d}']))## Write out and tar "
   ]
  },
  {
   "cell_type": "code",
   "execution_count": null,
   "id": "phantom-pearl",
   "metadata": {},
   "outputs": [],
   "source": []
  }
 ],
 "metadata": {
  "kernelspec": {
   "display_name": "Python 3",
   "language": "python",
   "name": "python3"
  },
  "language_info": {
   "codemirror_mode": {
    "name": "ipython",
    "version": 3
   },
   "file_extension": ".py",
   "mimetype": "text/x-python",
   "name": "python",
   "nbconvert_exporter": "python",
   "pygments_lexer": "ipython3",
   "version": "3.8.8"
  }
 },
 "nbformat": 4,
 "nbformat_minor": 5
}
