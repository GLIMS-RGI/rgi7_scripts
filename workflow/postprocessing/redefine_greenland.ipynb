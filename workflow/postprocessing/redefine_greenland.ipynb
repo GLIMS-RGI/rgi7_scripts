{
 "cells": [
  {
   "cell_type": "code",
   "execution_count": null,
   "id": "785e1f6b-db7c-45c2-a07b-c825a3c90d02",
   "metadata": {},
   "outputs": [],
   "source": [
    "import pandas as pd\n",
    "import geopandas as gpd\n",
    "import subprocess\n",
    "import numpy as np\n",
    "import shapely.geometry as shpg\n",
    "import os\n",
    "import sys\n",
    "import json\n",
    "import logging\n",
    "import salem"
   ]
  },
  {
   "cell_type": "code",
   "execution_count": null,
   "id": "09e4b4b4-4f01-477b-9ac4-c3ef2445f0f6",
   "metadata": {
    "tags": []
   },
   "outputs": [],
   "source": [
    "sys.path.append(os.getcwd() + '/..')\n",
    "from utils import mkdir, open_zip_shapefile, open_tar_shapefile, haversine"
   ]
  },
  {
   "cell_type": "markdown",
   "id": "0f88e07e-c45e-44b2-b312-6e91c4c21bba",
   "metadata": {},
   "source": [
    "## Files and storage paths"
   ]
  },
  {
   "cell_type": "code",
   "execution_count": null,
   "id": "3e34fba4-b969-4971-8e16-cb6211a3f02b",
   "metadata": {
    "tags": [
     "parameters"
    ]
   },
   "outputs": [],
   "source": [
    "# Region of interest\n",
    "reg = 5\n",
    "\n",
    "# go down from rgi7_scripts/workflow\n",
    "data_dir = '../../../rgi7_data/'\n",
    "\n",
    "# Input dirctory\n",
    "input_dir_tar = os.path.join(data_dir, 'l4_rgi7b0_tar')\n",
    "input_dir = os.path.join(data_dir, 'l4_rgi7b0')"
   ]
  },
  {
   "cell_type": "markdown",
   "id": "b3298f4a-88ae-465c-8188-33e36d58dc50",
   "metadata": {},
   "source": [
    "### Load the input data"
   ]
  },
  {
   "cell_type": "code",
   "execution_count": null,
   "id": "d909ed6f-2005-478c-b397-39a2cf1c803c",
   "metadata": {},
   "outputs": [],
   "source": [
    "reg_file = os.path.join(data_dir, '00_rgi70_regions', '00_rgi70_O1Regions')\n",
    "reg_file = gpd.read_file(reg_file)"
   ]
  },
  {
   "cell_type": "code",
   "execution_count": null,
   "id": "a086c878-3c89-4489-9e35-d54dee49f8ae",
   "metadata": {},
   "outputs": [],
   "source": [
    "rdf = salem.read_shapefile(os.path.join(data_dir, '00_rgi70_regions', '00_rgi70_O1Regions', '00_rgi70_O1Regions.shp'))\n",
    "srdf = salem.read_shapefile(os.path.join(data_dir, '00_rgi70_regions', '00_rgi70_O2Regions', '00_rgi70_O2Regions.shp'))\n",
    "\n",
    "rdf = rdf.loc[rdf['o1region'] == f'{reg:02d}']\n",
    "srdf = srdf.loc[srdf['o1region'] == f'{reg:02d}']"
   ]
  },
  {
   "cell_type": "code",
   "execution_count": null,
   "id": "50b8b600-31ba-4a53-a679-1ce6a583b0cc",
   "metadata": {},
   "outputs": [],
   "source": [
    "fname = reg_file.loc[reg_file['o1region'] == f'{reg:02d}'].iloc[0]['long_code']"
   ]
  },
  {
   "cell_type": "code",
   "execution_count": null,
   "id": "ac057cb9-6119-47d5-92cd-379d5519b345",
   "metadata": {},
   "outputs": [],
   "source": [
    "# Read beta files\n",
    "shp = open_tar_shapefile(input_dir_tar + f'/RGI2000-v7.0-G-{fname}.tar.gz')\n",
    "odf_subm = pd.read_csv(input_dir + f'/RGI2000-v7.0-G-{fname}/RGI2000-v7.0-G-{fname}-submission_info.csv', index_col=0)"
   ]
  },
  {
   "cell_type": "code",
   "execution_count": null,
   "id": "af2d657a-9229-4246-b48e-b4d6651700f6",
   "metadata": {},
   "outputs": [],
   "source": [
    "hull = shp.unary_union.convex_hull"
   ]
  },
  {
   "cell_type": "code",
   "execution_count": null,
   "id": "be5c2b60-f141-4a71-9f72-3413c1a9f57e",
   "metadata": {},
   "outputs": [],
   "source": [
    "hull"
   ]
  },
  {
   "cell_type": "code",
   "execution_count": null,
   "id": "60dd1a9c-251f-4361-97a8-522832da0be9",
   "metadata": {},
   "outputs": [],
   "source": [
    "buffer = shp.to_crs('5938').buffer(100000)"
   ]
  },
  {
   "cell_type": "code",
   "execution_count": null,
   "id": "2f374ecd-c6bc-4387-83cc-368ecac12fbd",
   "metadata": {},
   "outputs": [],
   "source": [
    "buffer.plot();"
   ]
  },
  {
   "cell_type": "code",
   "execution_count": null,
   "id": "7dab8fb9-9f97-4afe-ad92-5ccb272d56b6",
   "metadata": {},
   "outputs": [],
   "source": []
  }
 ],
 "metadata": {
  "kernelspec": {
   "display_name": "Python 3 (ipykernel)",
   "language": "python",
   "name": "python3"
  },
  "language_info": {
   "codemirror_mode": {
    "name": "ipython",
    "version": 3
   },
   "file_extension": ".py",
   "mimetype": "text/x-python",
   "name": "python",
   "nbconvert_exporter": "python",
   "pygments_lexer": "ipython3",
   "version": "3.10.8"
  }
 },
 "nbformat": 4,
 "nbformat_minor": 5
}
