{
 "cells": [
  {
   "cell_type": "code",
   "execution_count": null,
   "id": "46adc67a-c914-4b66-a3de-aed2506fb298",
   "metadata": {
    "papermill": {
     "duration": 1.704463,
     "end_time": "2023-08-22T21:30:46.619629",
     "exception": false,
     "start_time": "2023-08-22T21:30:44.915166",
     "status": "completed"
    },
    "tags": []
   },
   "outputs": [],
   "source": [
    "import pandas as pd\n",
    "import geopandas as gpd\n",
    "import subprocess\n",
    "import numpy as np\n",
    "import shapely.geometry as shpg\n",
    "import os\n",
    "import sys\n",
    "import json\n",
    "import logging\n",
    "import salem"
   ]
  },
  {
   "cell_type": "code",
   "execution_count": null,
   "id": "c62aa692-c347-4e74-bc0f-c0cdc9da4669",
   "metadata": {
    "papermill": {
     "duration": 1.172672,
     "end_time": "2023-08-22T21:30:47.807103",
     "exception": false,
     "start_time": "2023-08-22T21:30:46.634431",
     "status": "completed"
    },
    "tags": []
   },
   "outputs": [],
   "source": [
    "sys.path.append(os.getcwd() + '/../..')\n",
    "from utils import mkdir, open_zip_shapefile, open_tar_shapefile, haversine"
   ]
  },
  {
   "cell_type": "markdown",
   "id": "8487f7be-608e-44f1-88ec-671465325a11",
   "metadata": {
    "papermill": {
     "duration": 0.009334,
     "end_time": "2023-08-22T21:30:47.830274",
     "exception": false,
     "start_time": "2023-08-22T21:30:47.820940",
     "status": "completed"
    },
    "tags": []
   },
   "source": [
    "## Files and storage paths"
   ]
  },
  {
   "cell_type": "code",
   "execution_count": null,
   "id": "1c753f79-c5b6-49f0-b6ba-bfe40fd7eac3",
   "metadata": {
    "papermill": {
     "duration": 0.013963,
     "end_time": "2023-08-22T21:30:47.850366",
     "exception": false,
     "start_time": "2023-08-22T21:30:47.836403",
     "status": "completed"
    },
    "tags": [
     "parameters"
    ]
   },
   "outputs": [],
   "source": [
    "# Region of interest\n",
    "reg = 1\n",
    "\n",
    "# go down from rgi7_scripts/workflow\n",
    "data_dir = '../../../../rgi7_data/'\n",
    "\n",
    "# Input dirctory\n",
    "input_dir = os.path.join(data_dir, 'l6_rgi7b2')\n",
    "\n",
    "tmp_plots = '../../../../rgi7_data/tmp_plots/'\n",
    "\n",
    "user_guide_dir = '../../../../rgi_user_guide/'"
   ]
  },
  {
   "cell_type": "code",
   "execution_count": null,
   "id": "9d6f1b5b",
   "metadata": {
    "papermill": {
     "duration": 0.014785,
     "end_time": "2023-08-22T21:30:47.873081",
     "exception": false,
     "start_time": "2023-08-22T21:30:47.858296",
     "status": "completed"
    },
    "tags": [
     "injected-parameters"
    ]
   },
   "outputs": [],
   "source": [
    "# Parameters\n",
    "reg = 11\n"
   ]
  },
  {
   "cell_type": "markdown",
   "id": "f2d31af4-b2b2-4dc9-b286-be594f2feb7e",
   "metadata": {
    "papermill": {
     "duration": 0.007363,
     "end_time": "2023-08-22T21:30:47.888646",
     "exception": false,
     "start_time": "2023-08-22T21:30:47.881283",
     "status": "completed"
    },
    "tags": []
   },
   "source": [
    "### Load the input data"
   ]
  },
  {
   "cell_type": "code",
   "execution_count": null,
   "id": "fd51164f-4380-4a04-a02a-b1638dc81892",
   "metadata": {
    "papermill": {
     "duration": 0.062724,
     "end_time": "2023-08-22T21:30:47.959139",
     "exception": false,
     "start_time": "2023-08-22T21:30:47.896415",
     "status": "completed"
    },
    "tags": []
   },
   "outputs": [],
   "source": [
    "reg_file = os.path.join(data_dir, '00_rgi70_regions', '00_rgi70_O1Regions')\n",
    "reg_file = gpd.read_file(reg_file)"
   ]
  },
  {
   "cell_type": "code",
   "execution_count": null,
   "id": "b7405239-4f62-45b5-9097-6b92929fa9b2",
   "metadata": {
    "papermill": {
     "duration": 0.135089,
     "end_time": "2023-08-22T21:30:48.108039",
     "exception": false,
     "start_time": "2023-08-22T21:30:47.972950",
     "status": "completed"
    },
    "tags": []
   },
   "outputs": [],
   "source": [
    "rdf = salem.read_shapefile(os.path.join(data_dir, '00_rgi70_regions', '00_rgi70_O1Regions', '00_rgi70_O1Regions.shp'))\n",
    "srdf = salem.read_shapefile(os.path.join(data_dir, '00_rgi70_regions', '00_rgi70_O2Regions', '00_rgi70_O2Regions.shp'))\n",
    "\n",
    "rdf = rdf.loc[rdf['o1region'] == f'{reg:02d}']\n",
    "srdf = srdf.loc[srdf['o1region'] == f'{reg:02d}']"
   ]
  },
  {
   "cell_type": "code",
   "execution_count": null,
   "id": "c6f564a1-2aa2-4f66-95aa-c58cf2e9ac59",
   "metadata": {
    "papermill": {
     "duration": 0.019537,
     "end_time": "2023-08-22T21:30:48.140169",
     "exception": false,
     "start_time": "2023-08-22T21:30:48.120632",
     "status": "completed"
    },
    "tags": []
   },
   "outputs": [],
   "source": [
    "is_20 = False\n",
    "if reg == 20:\n",
    "    reg = 19\n",
    "    is_20 = True\n",
    "fname = reg_file.loc[reg_file['o1region'] == f'{reg:02d}'].iloc[0]['long_code']"
   ]
  },
  {
   "cell_type": "code",
   "execution_count": null,
   "id": "142575a1-fe23-4350-b059-3001282676d1",
   "metadata": {
    "papermill": {
     "duration": 0.023068,
     "end_time": "2023-08-22T21:30:48.170201",
     "exception": false,
     "start_time": "2023-08-22T21:30:48.147133",
     "status": "completed"
    },
    "tags": []
   },
   "outputs": [],
   "source": [
    "title = f'RGI{reg:02d} - {rdf.full_name.iloc[0]}'\n",
    "if is_20:\n",
    "    title = f'RGI{reg+1:02d} - {rdf.full_name.iloc[0]}'\n",
    "title"
   ]
  },
  {
   "cell_type": "code",
   "execution_count": null,
   "id": "758d6750-a851-44ab-80af-480bf5a923a0",
   "metadata": {
    "papermill": {
     "duration": 0.012803,
     "end_time": "2023-08-22T21:30:48.191182",
     "exception": false,
     "start_time": "2023-08-22T21:30:48.178379",
     "status": "completed"
    },
    "tags": []
   },
   "outputs": [],
   "source": [
    "reg_str = f'{reg:02d}'"
   ]
  },
  {
   "cell_type": "code",
   "execution_count": null,
   "id": "caab54b7-92c0-45fa-a943-25225b119001",
   "metadata": {
    "papermill": {
     "duration": 0.604022,
     "end_time": "2023-08-22T21:30:48.803389",
     "exception": false,
     "start_time": "2023-08-22T21:30:48.199367",
     "status": "completed"
    },
    "tags": []
   },
   "outputs": [],
   "source": [
    "# Read final files\n",
    "shp = gpd.read_file(input_dir + f'/RGI2000-v7.0-G-{fname}/RGI2000-v7.0-G-{fname}.shp')\n",
    "odf_subm = pd.read_csv(input_dir + f'/RGI2000-v7.0-G-{fname}/RGI2000-v7.0-G-{fname}-submission_info.csv', index_col=0)"
   ]
  },
  {
   "cell_type": "markdown",
   "id": "91018609-ef83-423b-812a-1f520ad40a21",
   "metadata": {
    "papermill": {
     "duration": 0.008157,
     "end_time": "2023-08-22T21:30:48.825182",
     "exception": false,
     "start_time": "2023-08-22T21:30:48.817025",
     "status": "completed"
    },
    "tags": []
   },
   "source": [
    "## Printouts for docs "
   ]
  },
  {
   "cell_type": "code",
   "execution_count": null,
   "id": "5dfa5b95-fa1b-4c0c-be51-b3b543c86ecb",
   "metadata": {
    "papermill": {
     "duration": 0.017209,
     "end_time": "2023-08-22T21:30:48.850697",
     "exception": false,
     "start_time": "2023-08-22T21:30:48.833488",
     "status": "completed"
    },
    "tags": []
   },
   "outputs": [],
   "source": [
    "def replace_text_between_lines(file_path, replacement_text, start_line, end_line):\n",
    "    \n",
    "    with open(file_path, 'r') as file:\n",
    "        lines = file.readlines()\n",
    "\n",
    "    start_index = None\n",
    "    end_index = None\n",
    "\n",
    "    for i, line in enumerate(lines):\n",
    "        if start_line in line:\n",
    "            start_index = i\n",
    "        if end_line in line:\n",
    "            end_index = i\n",
    "\n",
    "    if start_index is None or end_index is None:\n",
    "        raise RuntimeError(\"Start or end lines not found.\")\n",
    "\n",
    "    lines[start_index:end_index+1] = [replacement_text + '\\n']\n",
    "\n",
    "    with open(file_path, 'w') as file:\n",
    "        file.writelines(lines)"
   ]
  },
  {
   "cell_type": "code",
   "execution_count": null,
   "id": "ddd93be9-3ace-47c3-9adc-8707b6b18256",
   "metadata": {
    "papermill": {
     "duration": 0.012673,
     "end_time": "2023-08-22T21:30:48.869585",
     "exception": false,
     "start_time": "2023-08-22T21:30:48.856912",
     "status": "completed"
    },
    "tags": []
   },
   "outputs": [],
   "source": [
    "region_text_file = user_guide_dir + f'/docs/regions/rgi{reg:02d}.md'"
   ]
  },
  {
   "cell_type": "code",
   "execution_count": null,
   "id": "aa5bddb2-7acc-4f3c-b29d-ae08fa1dd077",
   "metadata": {
    "papermill": {
     "duration": 0.014398,
     "end_time": "2023-08-22T21:30:48.892017",
     "exception": false,
     "start_time": "2023-08-22T21:30:48.877619",
     "status": "completed"
    },
    "tags": []
   },
   "outputs": [],
   "source": [
    "img_width = {'02': '60', '03': '80', '04': '80', '08': '80', '17': '50', '18': '70'}"
   ]
  },
  {
   "cell_type": "code",
   "execution_count": null,
   "id": "75066a5c-ab31-4f71-8ae9-33c53f4f1f65",
   "metadata": {
    "papermill": {
     "duration": 0.015161,
     "end_time": "2023-08-22T21:30:48.915571",
     "exception": false,
     "start_time": "2023-08-22T21:30:48.900410",
     "status": "completed"
    },
    "tags": []
   },
   "outputs": [],
   "source": [
    "replacement_text = f\"\"\"<!--- Map start -->\n",
    "\n",
    ":::{{figure-md}}\n",
    "<img src=\"../img/region_plots/RGI{reg_str}/isrgi6_map_small.jpeg\" alt=\"region map\" class=\"bg-primary mb-1\" width=\"{img_width.get(reg_str, '100')}%\">\n",
    "\n",
    "Regional glacier area.\n",
    "[Download high resolution version](https://raw.githubusercontent.com/GLIMS-RGI/rgi_user_guide/main/docs/img/region_plots/RGI{reg_str}/isrgi6_map.jpeg).\n",
    ":::\n",
    "\n",
    "<!--- Map end -->\"\"\""
   ]
  },
  {
   "cell_type": "code",
   "execution_count": null,
   "id": "9148793f-c8f4-47a3-9212-000293deedb4",
   "metadata": {
    "papermill": {
     "duration": 0.016908,
     "end_time": "2023-08-22T21:30:48.941755",
     "exception": false,
     "start_time": "2023-08-22T21:30:48.924847",
     "status": "completed"
    },
    "tags": []
   },
   "outputs": [],
   "source": [
    "start_line = \"<!--- Map start -->\" \n",
    "end_line = \"<!--- Map end -->\" \n",
    "if not is_20:\n",
    "    replace_text_between_lines(region_text_file, replacement_text, start_line, end_line)"
   ]
  },
  {
   "cell_type": "code",
   "execution_count": null,
   "id": "31f31dc6-8ff1-4559-b6e4-18a68d00ffc4",
   "metadata": {
    "papermill": {
     "duration": 0.017848,
     "end_time": "2023-08-22T21:30:48.968048",
     "exception": false,
     "start_time": "2023-08-22T21:30:48.950200",
     "status": "completed"
    },
    "tags": []
   },
   "outputs": [],
   "source": [
    "replacement_text = f\"\"\"```{{admonition}} Data sources and analysts\n",
    ":class: important, dropdown\n",
    "\n",
    ":::{{figure-md}}\n",
    "<img src=\"../img/region_plots/RGI{reg_str}/inventory_map_small.jpeg\" alt=\"region map\" class=\"bg-primary mb-1\">\n",
    "\n",
    "Submission IDs used for this region\n",
    "[Download high resolution version](https://raw.githubusercontent.com/GLIMS-RGI/rgi_user_guide/main/docs/img/region_plots/RGI{reg_str}/inventory_map.jpeg).\n",
    ":::\n",
    "\n",
    "**Glacier outline providers to GLIMS**\n",
    "\n",
    "*This list includes the providers of the outlines used in the RGI 7.0 as generated automatically from the GLIMS outlines metadata. We acknowledge that the list may be incomplete due to omissions in the GLIMS database.*\n",
    "\"\"\"\n",
    "\n",
    "for i, line in odf_subm.iterrows():\n",
    "    replacement_text += f\"\\n\"\n",
    "    replacement_text += f\"Submission {i}\\n\"\n",
    "    replacement_text += f\": **Submitter**: {line['submitters']}.\"\n",
    "    replacement_text += f\"<br/>**Number of outlines**: {line['n_outlines']}. **Area**: {line['area_km2']:.1f}km². **Release date**: {line['release_dt'][:10]}.\"\n",
    "    replacement_text += f\"<br/>**Analysts**: {line['analysts']}.\"\n",
    "    replacement_text += f\"\\n\"\n",
    "\n",
    "replacement_text += \"\\nReviewers\" \n",
    "print(replacement_text)"
   ]
  },
  {
   "cell_type": "code",
   "execution_count": null,
   "id": "e3361a7a-b547-494f-9acf-afa349f3de93",
   "metadata": {
    "papermill": {
     "duration": 0.014693,
     "end_time": "2023-08-22T21:30:48.991077",
     "exception": false,
     "start_time": "2023-08-22T21:30:48.976384",
     "status": "completed"
    },
    "tags": []
   },
   "outputs": [],
   "source": [
    "start_line = \"```{admonition} Data sources and analysts\" \n",
    "end_line = \"Reviewers\" \n",
    "if not is_20:\n",
    "    replace_text_between_lines(region_text_file, replacement_text, start_line, end_line)"
   ]
  },
  {
   "cell_type": "markdown",
   "id": "bb1142dc-a164-45e5-8d76-727e3c80d79a",
   "metadata": {
    "papermill": {
     "duration": 0.007919,
     "end_time": "2023-08-22T21:30:49.007577",
     "exception": false,
     "start_time": "2023-08-22T21:30:48.999658",
     "status": "completed"
    },
    "tags": []
   },
   "source": [
    "## Maps "
   ]
  },
  {
   "cell_type": "code",
   "execution_count": null,
   "id": "8aa6af9a-1f0d-46e0-9a27-d6a27e4050b2",
   "metadata": {
    "papermill": {
     "duration": 0.034085,
     "end_time": "2023-08-22T21:30:49.050242",
     "exception": false,
     "start_time": "2023-08-22T21:30:49.016157",
     "status": "completed"
    },
    "tags": []
   },
   "outputs": [],
   "source": [
    "import matplotlib.pyplot as plt\n",
    "import matplotlib.patches as mpatches\n",
    "import cartopy.crs as ccrs\n",
    "from matplotlib.image import imread\n",
    "import seaborn as sns"
   ]
  },
  {
   "cell_type": "code",
   "execution_count": null,
   "id": "baddea60-5273-417f-89ef-8f7a0db3f881",
   "metadata": {
    "papermill": {
     "duration": 0.014314,
     "end_time": "2023-08-22T21:30:49.077283",
     "exception": false,
     "start_time": "2023-08-22T21:30:49.062969",
     "status": "completed"
    },
    "tags": []
   },
   "outputs": [],
   "source": [
    "background_medres = '/home/users/fmaussion/www_fmaussion/misc/rgi7_data/l0_support_data/images/natural-earth-1_large8192px_white.png'\n",
    "background_higres = '/home/users/fmaussion/www_fmaussion/misc/rgi7_data/l0_support_data/images/natural-earth-1_large_white.png'"
   ]
  },
  {
   "cell_type": "code",
   "execution_count": null,
   "id": "c9985bd9-ed81-44d2-8820-07c1c75337e8",
   "metadata": {
    "papermill": {
     "duration": 0.034781,
     "end_time": "2023-08-22T21:30:49.124323",
     "exception": false,
     "start_time": "2023-08-22T21:30:49.089542",
     "status": "completed"
    },
    "tags": []
   },
   "outputs": [],
   "source": [
    "default_linewidth_o1 = 2\n",
    "default_linewidth_o2 = 1.5\n",
    "\n",
    "region_params = {\n",
    "    '01': {\n",
    "        'extent': [-180.0, -132, 46.0, 72.0],\n",
    "        'o1_legend_loc': 'upper left',\n",
    "        'o2_legend_loc': 'lower left',\n",
    "        'linewidth_o1': default_linewidth_o1,\n",
    "        'linewidth_o2': default_linewidth_o2,\n",
    "        'linewidth_outlines': 0.2,\n",
    "        'background': background_medres,\n",
    "        'figsize': (10, 6),\n",
    "    },\n",
    "    '02': {\n",
    "        'extent': [-136, -102.0, 32.0, 75.0],\n",
    "        'o1_legend_loc': 'upper left',\n",
    "        'o2_legend_loc': 'lower left',\n",
    "        'linewidth_o1': default_linewidth_o1,\n",
    "        'linewidth_o2': default_linewidth_o2,\n",
    "        'linewidth_outlines': 0.4,\n",
    "        'background': background_medres,\n",
    "        'figsize': (5, 9),\n",
    "    },\n",
    "    '03': {\n",
    "        'extent': [-123, -76.0, 72.0, 86.0],\n",
    "        'o1_legend_loc': 'upper left',\n",
    "        'o2_legend_loc': 'lower left',\n",
    "        'linewidth_o1': default_linewidth_o1,\n",
    "        'linewidth_o2': default_linewidth_o2,\n",
    "        'linewidth_outlines': 0.2,\n",
    "        'background': background_medres,\n",
    "        'figsize': (10, 8),\n",
    "    },\n",
    "    '04': {\n",
    "        'extent': [-90.0, -58.0, 55.0, 75.0],\n",
    "        'o1_legend_loc': 'upper left',\n",
    "        'o2_legend_loc': 'lower left',\n",
    "        'linewidth_o1': default_linewidth_o1,\n",
    "        'linewidth_o2': default_linewidth_o2,\n",
    "        'linewidth_outlines': 0.5,\n",
    "        'background': background_medres,\n",
    "        'figsize': (10, 8),\n",
    "    },\n",
    "    '05': {\n",
    "        'extent': [-60.0, -16.0, 58.0, 86.0],\n",
    "        'o1_legend_loc': 'upper left',\n",
    "        'o2_legend_loc': 'lower left',\n",
    "        'linewidth_o1': default_linewidth_o1,\n",
    "        'linewidth_o2': default_linewidth_o2,\n",
    "        'linewidth_outlines': 0.4,\n",
    "        'background': background_medres,\n",
    "        'figsize': (10, 8),\n",
    "    },\n",
    "    '06': {\n",
    "        'extent': [-26.5, -9.5, 62, 67.5],\n",
    "        'o1_legend_loc': 'upper left',\n",
    "        'o2_legend_loc': 'lower left',\n",
    "        'linewidth_o1': default_linewidth_o1,\n",
    "        'linewidth_o2': default_linewidth_o2,\n",
    "        'linewidth_outlines': 0.4,\n",
    "        'background': background_higres,\n",
    "        'figsize': (10, 8),\n",
    "    },\n",
    "    '07': {\n",
    "        'extent': [-10.5, 35.5, 69.4, 83.2],\n",
    "        'o1_legend_loc': 'upper left',\n",
    "        'o2_legend_loc': 'lower left',\n",
    "        'linewidth_o1': default_linewidth_o1,\n",
    "        'linewidth_o2': default_linewidth_o2,\n",
    "        'linewidth_outlines': 0.2,\n",
    "        'background': background_higres,\n",
    "        'figsize': (10, 8),\n",
    "    },\n",
    "    '08': {\n",
    "        'extent': [4.0, 35.0, 57.0, 74.5],\n",
    "        'o1_legend_loc': 'upper left',\n",
    "        'o2_legend_loc': 'lower right',\n",
    "        'linewidth_o1': default_linewidth_o1,\n",
    "        'linewidth_o2': default_linewidth_o2,\n",
    "        'linewidth_outlines': 0.4,\n",
    "        'background': background_higres,\n",
    "        'figsize': (10, 8),\n",
    "    },\n",
    "    '09': {\n",
    "        'extent': [34.5, 95.0, 70.0, 84.5],\n",
    "        'o1_legend_loc': 'upper left',\n",
    "        'o2_legend_loc': 'lower right',\n",
    "        'linewidth_o1': default_linewidth_o1,\n",
    "        'linewidth_o2': default_linewidth_o2,\n",
    "        'linewidth_outlines': 0.4,\n",
    "        'background': background_medres,\n",
    "        'figsize': (10, 8),\n",
    "    },\n",
    "    '10': {\n",
    "        'extent': [75, 150, 31, 88],\n",
    "        'o1_legend_loc': 'upper left',\n",
    "        'o2_legend_loc': 'lower left',\n",
    "        'linewidth_o1': default_linewidth_o1+0.5,\n",
    "        'linewidth_o2': default_linewidth_o2+0.5,\n",
    "        'linewidth_outlines': 1.2,\n",
    "        'background': background_medres,\n",
    "        'figsize': (10, 8),\n",
    "    },\n",
    "    '11': {\n",
    "        'extent': [-6.0, 26.0, 39.0, 50.2],\n",
    "        'o1_legend_loc': 'upper left',\n",
    "        'o2_legend_loc': 'lower left',\n",
    "        'linewidth_o1': default_linewidth_o1+1,\n",
    "        'linewidth_o2': default_linewidth_o2+1,\n",
    "        'linewidth_outlines': 0.9,\n",
    "        'background': background_higres,\n",
    "        'figsize': (9, 6),\n",
    "    },\n",
    "    '12': {\n",
    "        'extent': [32.0, 54.0, 29.0, 45.2],\n",
    "        'o1_legend_loc': 'upper left',\n",
    "        'o2_legend_loc': 'lower left',\n",
    "        'linewidth_o1': default_linewidth_o1+1,\n",
    "        'linewidth_o2': default_linewidth_o2+1,\n",
    "        'linewidth_outlines': 1.2,\n",
    "        'background': background_higres,\n",
    "        'figsize': (10, 8),\n",
    "    },\n",
    "    '13': {\n",
    "        'extent': [65.0, 105.0, 27., 46.2],\n",
    "        'o1_legend_loc': 'upper left',\n",
    "        'o2_legend_loc': 'lower left',\n",
    "        'linewidth_o1': default_linewidth_o1+0.5,\n",
    "        'linewidth_o2': default_linewidth_o2+0.5,\n",
    "        'linewidth_outlines': 0.8,\n",
    "        'background': background_higres,\n",
    "        'figsize': (10*0.9, 8*0.9),\n",
    "    },\n",
    "    '14': {\n",
    "        'extent': [65.0, 82, 25.2, 38],\n",
    "        'o1_legend_loc': 'upper left',\n",
    "        'o2_legend_loc': 'lower right',\n",
    "        'linewidth_o1': default_linewidth_o1,\n",
    "        'linewidth_o2': default_linewidth_o2,\n",
    "        'linewidth_outlines': 0.4,\n",
    "        'background': background_higres,\n",
    "        'figsize': (10, 8),\n",
    "    },\n",
    "    '15': {\n",
    "        'extent': [75.4, 105.0, 25, 32.2],\n",
    "        'o1_legend_loc': 'lower left',\n",
    "        'o2_legend_loc': 'lower right',\n",
    "        'linewidth_o1': default_linewidth_o1,\n",
    "        'linewidth_o2': default_linewidth_o2,\n",
    "        'linewidth_outlines': 0.4,\n",
    "        'background': background_higres,\n",
    "        'figsize': (10, 8),\n",
    "    },\n",
    "    '16': {\n",
    "        'extent': [-101.0, 143.0, -26.0, 21.0],\n",
    "        'o1_legend_loc': (0.2, 0.05),\n",
    "        'o2_legend_loc': (0.6, 0.05),\n",
    "        'linewidth_o1': default_linewidth_o1,\n",
    "        'linewidth_o2': default_linewidth_o2,\n",
    "        'linewidth_outlines': 1.0,\n",
    "        'background': background_medres,\n",
    "        'figsize': (12, 8),\n",
    "    },\n",
    "    '17': {\n",
    "        'extent': [-83.0, -61.0, -58.0, -24.0],\n",
    "        'o1_legend_loc': 'upper left',\n",
    "        'o2_legend_loc': 'lower left',\n",
    "        'linewidth_o1': default_linewidth_o1,\n",
    "        'linewidth_o2': default_linewidth_o2,\n",
    "        'linewidth_outlines': 0.4,\n",
    "        'background': background_medres,\n",
    "        'figsize': (10, 8),\n",
    "    },\n",
    "    '18': {\n",
    "        'extent': [164.0, 179.0, -49.5, -33.5],\n",
    "        'o1_legend_loc': 'upper left',\n",
    "        'o2_legend_loc': 'lower left',\n",
    "        'linewidth_o1': default_linewidth_o1,\n",
    "        'linewidth_o2': default_linewidth_o2,\n",
    "        'linewidth_outlines': 0.8,\n",
    "        'background': background_higres,\n",
    "        'figsize': (10, 8),\n",
    "    },\n",
    "    '19': {\n",
    "        'extent': [-180, 180, -90, -47],\n",
    "        'o1_legend_loc': 'upper left',\n",
    "        'o2_legend_loc': 'lower left',\n",
    "        'o1_legend_loc_subm': 'upper right',\n",
    "        'linewidth_o1': default_linewidth_o1,\n",
    "        'linewidth_o2': default_linewidth_o2,\n",
    "        'linewidth_outlines': 0.9,\n",
    "        'background': background_medres,\n",
    "        'figsize': (10, 8),\n",
    "    },\n",
    "}\n",
    "\n",
    "region_params = region_params[reg_str]"
   ]
  },
  {
   "cell_type": "code",
   "execution_count": null,
   "id": "ca23d675-4a72-4d86-a547-81893f61a5f4",
   "metadata": {
    "papermill": {
     "duration": 0.018599,
     "end_time": "2023-08-22T21:30:49.151940",
     "exception": false,
     "start_time": "2023-08-22T21:30:49.133341",
     "status": "completed"
    },
    "tags": []
   },
   "outputs": [],
   "source": [
    "extent = region_params['extent']"
   ]
  },
  {
   "cell_type": "code",
   "execution_count": null,
   "id": "7b8e01a1-2cd7-4f34-b7f2-93d5b2acf909",
   "metadata": {
    "papermill": {
     "duration": 0.127529,
     "end_time": "2023-08-22T21:30:49.288033",
     "exception": false,
     "start_time": "2023-08-22T21:30:49.160504",
     "status": "completed"
    },
    "tags": []
   },
   "outputs": [],
   "source": [
    "region_proj = {\n",
    "    '01': ccrs.LambertConformal(central_longitude=(extent[0] + extent[1]) / 2, \n",
    "                                central_latitude=(extent[2] + extent[3]) / 2, \n",
    "                                standard_parallels=(50, 65)),\n",
    "    '02': ccrs.LambertConformal(central_longitude=(extent[0] + extent[1]) / 2, \n",
    "                                central_latitude=(extent[2] + extent[3]) / 2, \n",
    "                                standard_parallels=(40, 60)),\n",
    "    '03': ccrs.LambertConformal(central_longitude=(extent[0] + extent[1]) / 2, \n",
    "                                central_latitude=(extent[2] + extent[3]) / 2, \n",
    "                                standard_parallels=(76, 82)),\n",
    "    '04': ccrs.LambertConformal(central_longitude=(extent[0] + extent[1]) / 2, \n",
    "                                central_latitude=(extent[2] + extent[3]) / 2, \n",
    "                                standard_parallels=(62, 70)),\n",
    "    '05': ccrs.LambertConformal(central_longitude=(extent[0] + extent[1]) / 2, \n",
    "                                central_latitude=(extent[2] + extent[3]) / 2, \n",
    "                                standard_parallels=(62, 70)),\n",
    "    '06': ccrs.LambertConformal(central_longitude=(extent[0] + extent[1]) / 2, \n",
    "                                central_latitude=(extent[2] + extent[3]) / 2, \n",
    "                                standard_parallels=(64, 66)),\n",
    "    '07': ccrs.LambertConformal(central_longitude=(extent[0] + extent[1]) / 2, \n",
    "                                central_latitude=(extent[2] + extent[3]) / 2, \n",
    "                                standard_parallels=(72, 80)),\n",
    "    '08': ccrs.LambertConformal(central_longitude=(extent[0] + extent[1]) / 2, \n",
    "                                central_latitude=(extent[2] + extent[3]) / 2, \n",
    "                                standard_parallels=(40, 60)),\n",
    "    '09': ccrs.LambertConformal(central_longitude=(extent[0] + extent[1]) / 2, \n",
    "                                central_latitude=(extent[2] + extent[3]) / 2, \n",
    "                                standard_parallels=(75, 80)),\n",
    "    '10': ccrs.LambertConformal(central_longitude=(extent[0] + extent[1]) / 2, \n",
    "                                central_latitude=(extent[2] + extent[3]) / 2, \n",
    "                                standard_parallels=(60, 80)),\n",
    "    '11': ccrs.LambertConformal(central_longitude=(extent[0] + extent[1]) / 2,\n",
    "                                central_latitude=(extent[2] + extent[3]) / 2,\n",
    "                                standard_parallels=(42, 48)),\n",
    "    '12': ccrs.LambertConformal(central_longitude=(extent[0] + extent[1]) / 2,\n",
    "                                central_latitude=(extent[2] + extent[3]) / 2,\n",
    "                                standard_parallels=(34, 50)),\n",
    "    '13': ccrs.LambertConformal(central_longitude=(extent[0] + extent[1]) / 2,\n",
    "                                central_latitude=(extent[2] + extent[3]) / 2,\n",
    "                                standard_parallels=(34, 41)),\n",
    "    '14': ccrs.LambertConformal(central_longitude=(extent[0] + extent[1]) / 2,\n",
    "                                central_latitude=(extent[2] + extent[3]) / 2,\n",
    "                                standard_parallels=(30, 36)),\n",
    "    '15': ccrs.LambertConformal(central_longitude=(extent[0] + extent[1]) / 2,\n",
    "                                central_latitude=(extent[2] + extent[3]) / 2,\n",
    "                                standard_parallels=(27, 30)),\n",
    "    '16': ccrs.Mercator(central_longitude=(extent[0] + extent[1]) / 2),\n",
    "    '17': ccrs.Mercator(central_longitude=(extent[0] + extent[1]) / 2),\n",
    "    '18': ccrs.LambertConformal(central_longitude=(extent[0] + extent[1]) / 2,\n",
    "                                central_latitude=(extent[2] + extent[3]) / 2,\n",
    "                                standard_parallels=(-38, -44)),\n",
    "    '19': ccrs.SouthPolarStereo(),\n",
    "}"
   ]
  },
  {
   "cell_type": "code",
   "execution_count": null,
   "id": "c6d4ad8a-20c0-44de-b521-154a1a2aef55",
   "metadata": {
    "papermill": {
     "duration": 0.016011,
     "end_time": "2023-08-22T21:30:49.319130",
     "exception": false,
     "start_time": "2023-08-22T21:30:49.303119",
     "status": "completed"
    },
    "tags": []
   },
   "outputs": [],
   "source": [
    "map_crs = region_proj[reg_str]"
   ]
  },
  {
   "cell_type": "code",
   "execution_count": null,
   "id": "667a1a46-606e-429a-86e7-36ffc976eaa0",
   "metadata": {
    "papermill": {
     "duration": 0.151297,
     "end_time": "2023-08-22T21:30:49.477248",
     "exception": false,
     "start_time": "2023-08-22T21:30:49.325951",
     "status": "completed"
    },
    "tags": []
   },
   "outputs": [],
   "source": [
    "shp_repr = shp.to_crs(map_crs)"
   ]
  },
  {
   "cell_type": "code",
   "execution_count": null,
   "id": "00d1c79d-b600-4470-ac78-1c05ff44716c",
   "metadata": {
    "papermill": {
     "duration": 0.017795,
     "end_time": "2023-08-22T21:30:49.508820",
     "exception": false,
     "start_time": "2023-08-22T21:30:49.491025",
     "status": "completed"
    },
    "tags": []
   },
   "outputs": [],
   "source": [
    "if reg_str == '19':\n",
    "    srdf = srdf.dissolve(by='o2region').reset_index()"
   ]
  },
  {
   "cell_type": "code",
   "execution_count": null,
   "id": "833fd55b-46d5-4e78-bf41-a5148324ceab",
   "metadata": {
    "papermill": {
     "duration": 0.015044,
     "end_time": "2023-08-22T21:30:49.531688",
     "exception": false,
     "start_time": "2023-08-22T21:30:49.516644",
     "status": "completed"
    },
    "tags": []
   },
   "outputs": [],
   "source": [
    "if is_20:\n",
    "    extent =  [-180, 180, -90, -60]"
   ]
  },
  {
   "cell_type": "code",
   "execution_count": null,
   "id": "c89346e4-5d53-4ddb-929d-f0de6337ea30",
   "metadata": {
    "papermill": {
     "duration": 0.016919,
     "end_time": "2023-08-22T21:30:49.557783",
     "exception": false,
     "start_time": "2023-08-22T21:30:49.540864",
     "status": "completed"
    },
    "tags": []
   },
   "outputs": [],
   "source": [
    "if is_20:\n",
    "    plot_dir = f'../../../../rgi_user_guide/docs/img/region_plots/RGI20'\n",
    "else:\n",
    "    plot_dir = f'../../../../rgi_user_guide/docs/img/region_plots/RGI{reg:02d}'\n",
    "mkdir(plot_dir)"
   ]
  },
  {
   "cell_type": "code",
   "execution_count": null,
   "id": "7c3d9d6d-17c8-494c-9faa-045147955457",
   "metadata": {
    "papermill": {
     "duration": 134.69408,
     "end_time": "2023-08-22T21:33:04.260716",
     "exception": false,
     "start_time": "2023-08-22T21:30:49.566636",
     "status": "completed"
    },
    "tags": []
   },
   "outputs": [],
   "source": [
    "o2_cmap = sns.color_palette('husl', n_colors=len(srdf))\n",
    "subm_cmap = sns.color_palette('bright')\n",
    "color_order = [4, 5, 6, 8, 9, 2, 1, 0, 3, 7]\n",
    "\n",
    "for is_rgi6 in [True, False]:\n",
    "    \n",
    "   \n",
    "    # Prepare figure\n",
    "    fig = plt.figure(figsize=region_params['figsize'])\n",
    "    ax = fig.add_subplot(1, 1, 1, projection=map_crs)\n",
    "    ax.set_extent(extent, crs=ccrs.PlateCarree())\n",
    "    \n",
    "    if reg_str == '19':\n",
    "        import matplotlib.path as mpath\n",
    "        theta = np.linspace(0, 2*np.pi, 100)\n",
    "        map_circle = mpath.Path(np.vstack([np.sin(theta), np.cos(theta)]).T * 0.5 + [0.5, 0.5])\n",
    "        ax.set_boundary(map_circle, transform=ax.transAxes)\n",
    "        gl = ax.gridlines(draw_labels=True, x_inline=False, y_inline=False, dms=True,  \n",
    "                          xlocs=np.arange(9) * 45 - 180);\n",
    "    else:\n",
    "        gl = ax.gridlines(draw_labels=True, x_inline=False, y_inline=False, dms=True, \n",
    "                          xlocs=np.arange(37) * 10 - 180);\n",
    "        gl.top_labels = False\n",
    "        gl.right_labels = False\n",
    "    \n",
    "    # Add background\n",
    "    ax.imshow(imread(region_params['background']), \n",
    "              origin='upper', \n",
    "              transform=ccrs.PlateCarree(), \n",
    "              extent=[-180, 180, -90, 90])\n",
    "    \n",
    "    # Plot o1 regions\n",
    "    if reg_str != '19' or is_20:\n",
    "        rdf.to_crs(map_crs).plot(ax=ax, edgecolor='k', facecolor='none', zorder=4, \n",
    "                                 linewidth=region_params['linewidth_o1'])\n",
    "    \n",
    "    # Plot o2 regions including legend \n",
    "    sr_handles = []\n",
    "    for ind, row in srdf.reset_index().to_crs(map_crs).iterrows():\n",
    "        ec = o2_cmap[ind]\n",
    "        s_loc = srdf.to_crs(map_crs).loc[srdf['o2region'] == row['o2region']]\n",
    "        s_loc.plot(ax=ax, facecolor='none', edgecolor=ec, zorder=5, linewidth=region_params['linewidth_o2'], ls='--')\n",
    "        sr_handles.append(mpatches.Patch(facecolor='none', edgecolor=ec,\n",
    "                                         linestyle='--', \n",
    "                                         linewidth=region_params['linewidth_o2'], \n",
    "                                         label=f'{row.o2region}'))\n",
    "\n",
    "    sr_leg = ax.legend(handles=sr_handles, loc=region_params['o2_legend_loc'], title='O2 Regions')\n",
    "    art = ax.add_artist(sr_leg)\n",
    "    art.zorder = 99\n",
    "    \n",
    "    handles = []\n",
    "    if not is_20:\n",
    "        if is_rgi6:\n",
    "            for itis in [True, False]:\n",
    "                ec = '#001fff' if itis else '#ff0000'\n",
    "                fc = '#465dff' if itis else '#ff4646'\n",
    "                label = 'Same as RGI6' if itis else 'New in RGI7'\n",
    "                s_loc = shp_repr.loc[shp_repr['is_rgi6'] == itis]\n",
    "                if len(s_loc) > 0:\n",
    "                    s_loc.plot(ax=ax, facecolor=fc, edgecolor=ec, \n",
    "                               linewidth=region_params['linewidth_outlines'], zorder=97)\n",
    "                    area = s_loc['area_km2'].sum()\n",
    "                else:\n",
    "                    area = 0\n",
    "                handles.append(mpatches.Patch(facecolor=ec, label=f'{label}'))\n",
    "        else:\n",
    "            for i, subid in enumerate(sorted(shp.subm_id.unique().astype(int))):\n",
    "                fc = subm_cmap[color_order[i]]\n",
    "                ec = fc # subm_cmap_ec[i]\n",
    "                s_loc = shp_repr.loc[shp.subm_id == subid]\n",
    "                s_loc.plot(ax=ax, facecolor=fc, edgecolor=ec, linewidth=region_params['linewidth_outlines'], zorder=97)\n",
    "                area = s_loc['area_km2'].sum()\n",
    "                handles.append(mpatches.Patch(facecolor=fc, label=f'{subid}'))\n",
    "\n",
    "    # Alternative solution for \"Polygon handles not passing to legend\"\n",
    "    try: \n",
    "        loc = region_params['o1_legend_loc_subm']\n",
    "    except KeyError:\n",
    "        loc = region_params['o1_legend_loc']\n",
    "    if not is_20:\n",
    "        ax.legend(handles=handles, loc=loc);\n",
    "    ax.set_title(title);\n",
    "    \n",
    "    plotname = 'isrgi6_map' if is_rgi6 else 'inventory_map'\n",
    "    plt.savefig(plot_dir + f'/{plotname}.jpeg', bbox_inches='tight', dpi=300)\n",
    "    print(plot_dir + f'/{plotname}.jpeg')"
   ]
  },
  {
   "cell_type": "code",
   "execution_count": null,
   "id": "6cda6952-51d1-4d38-8696-c0817e97b6cd",
   "metadata": {
    "papermill": {
     "duration": 0.381491,
     "end_time": "2023-08-22T21:33:04.670675",
     "exception": false,
     "start_time": "2023-08-22T21:33:04.289184",
     "status": "completed"
    },
    "tags": []
   },
   "outputs": [],
   "source": [
    "! convert {plot_dir}/isrgi6_map.jpeg -resize 900 -quality 75 {plot_dir}/isrgi6_map_small.jpeg"
   ]
  },
  {
   "cell_type": "code",
   "execution_count": null,
   "id": "0187f9d4-fdd8-4696-b5d1-5b99c76c4dc1",
   "metadata": {
    "papermill": {
     "duration": 0.359621,
     "end_time": "2023-08-22T21:33:05.064883",
     "exception": false,
     "start_time": "2023-08-22T21:33:04.705262",
     "status": "completed"
    },
    "tags": []
   },
   "outputs": [],
   "source": [
    "! convert {plot_dir}/inventory_map.jpeg -resize 900 -quality 75 {plot_dir}/inventory_map_small.jpeg"
   ]
  },
  {
   "cell_type": "markdown",
   "id": "fe78921b-4366-4600-92bc-3209b54c4bde",
   "metadata": {
    "papermill": {
     "duration": 0.017419,
     "end_time": "2023-08-22T21:33:05.113365",
     "exception": false,
     "start_time": "2023-08-22T21:33:05.095946",
     "status": "completed"
    },
    "tags": []
   },
   "source": [
    "### Histogram "
   ]
  },
  {
   "cell_type": "code",
   "execution_count": null,
   "id": "1abc6e35-d69c-4299-80c8-d97918fd7177",
   "metadata": {
    "papermill": {
     "duration": 0.64606,
     "end_time": "2023-08-22T21:33:05.778595",
     "exception": false,
     "start_time": "2023-08-22T21:33:05.132535",
     "status": "completed"
    },
    "tags": []
   },
   "outputs": [],
   "source": [
    "if not is_20:\n",
    "    figsize=(8, 7)\n",
    "\n",
    "    f, (ax1, ax2) = plt.subplots(2, 1, figsize=figsize)\n",
    "\n",
    "    date_i = shp['src_date'].str[:4].astype(int).to_frame('src_date')\n",
    "    date_i['area'] = shp['area_km2']\n",
    "    date = date_i.groupby('src_date')['area'].sum().to_frame()\n",
    "    date['area'] = date['area'] / date['area'].sum()\n",
    "    date['count'] =  date_i.groupby('src_date')['area'].count()\n",
    "    date = date.reset_index()\n",
    "\n",
    "    sns.barplot(ax=ax1, x='src_date', y='area', data=date, color='lightsteelblue');\n",
    "    ax1.set_ylabel('Relative area'); ax1.set_xlabel(''); \n",
    "    ax1.set_title(title);\n",
    "    for tick in ax1.get_xticklabels():\n",
    "        tick.set_rotation(45)\n",
    "\n",
    "    sns.barplot(ax=ax2, x='src_date', y='count', data=date, color='thistle');\n",
    "    ax2.set_ylabel('Number of outlines'); ax2.set_xlabel('Source date'); \n",
    "    plt.xticks(rotation=45, ha='center')\n",
    "\n",
    "    plotname = 'date_hist'\n",
    "    plt.tight_layout()\n",
    "    plt.savefig(plot_dir + f'/{plotname}.png', bbox_inches='tight', dpi=300)"
   ]
  },
  {
   "cell_type": "markdown",
   "id": "c11cc198-9e89-463c-948d-d71450891787",
   "metadata": {
    "papermill": {
     "duration": 0.017569,
     "end_time": "2023-08-22T21:33:05.826114",
     "exception": false,
     "start_time": "2023-08-22T21:33:05.808545",
     "status": "completed"
    },
    "tags": []
   },
   "source": [
    "## Attributes text "
   ]
  },
  {
   "cell_type": "code",
   "execution_count": null,
   "id": "459c1d8a-3909-42c3-a622-3252a9865d3b",
   "metadata": {
    "papermill": {
     "duration": 0.764433,
     "end_time": "2023-08-22T21:33:06.609441",
     "exception": false,
     "start_time": "2023-08-22T21:33:05.845008",
     "status": "completed"
    },
    "tags": []
   },
   "outputs": [],
   "source": [
    "from oggm.utils import file_downloader\n",
    "rgi6 = pd.read_hdf(file_downloader('https://cluster.klima.uni-bremen.de/~oggm/rgi/rgi62_stats.h5'))\n",
    "rgi6 = rgi6.loc[rgi6.Connect != 2].copy()\n",
    "rgi6 = rgi6.loc[rgi6['O1Region'] == reg_str].copy()\n",
    "rgi6['RGIId'] = rgi6.index"
   ]
  },
  {
   "cell_type": "code",
   "execution_count": null,
   "id": "72775974-7252-4333-ada8-0b3065580e45",
   "metadata": {
    "papermill": {
     "duration": 0.024941,
     "end_time": "2023-08-22T21:33:06.670083",
     "exception": false,
     "start_time": "2023-08-22T21:33:06.645142",
     "status": "completed"
    },
    "tags": []
   },
   "outputs": [],
   "source": [
    "rgi7 = shp"
   ]
  },
  {
   "cell_type": "code",
   "execution_count": null,
   "id": "007c05be-5938-442a-9a33-ba4d79ca77f2",
   "metadata": {
    "papermill": {
     "duration": 0.872273,
     "end_time": "2023-08-22T21:33:07.563834",
     "exception": false,
     "start_time": "2023-08-22T21:33:06.691561",
     "status": "completed"
    },
    "tags": []
   },
   "outputs": [],
   "source": [
    "if not is_20:\n",
    "    with sns.plotting_context('talk'), sns.axes_style('ticks'):\n",
    "\n",
    "        bins = np.logspace(-2, 3, 51)\n",
    "\n",
    "        h7, b7 = np.histogram(rgi7['area_km2'], bins=bins)\n",
    "        h6, b6 = np.histogram(rgi6['Area'], bins=bins)\n",
    "\n",
    "        f, ax = plt.subplots(figsize=(12, 7))\n",
    "        ax.step(b6[:-1], h6, color='C0', label='RGI 6.0');\n",
    "        ax.step(b7[:-1], h7, color='C3', label='RGI 7.0');\n",
    "        ax.set_xscale('log')\n",
    "        ax.set_yscale('log')\n",
    "        plt.legend()\n",
    "        ax.set_title(f'Number of glaciers per size category (RGI{reg_str})')\n",
    "        ax.set_xlabel('Glacier area (km², logscale)');\n",
    "        ax.set_ylabel('Glacier number (logscale)');\n",
    "        plt.savefig(f'{plot_dir}/area_histogram.png', dpi=100, bbox_inches='tight')"
   ]
  },
  {
   "cell_type": "code",
   "execution_count": null,
   "id": "9bf62aa3-2e8b-4ff0-b48c-24aa6a679178",
   "metadata": {
    "papermill": {
     "duration": 0.05696,
     "end_time": "2023-08-22T21:33:07.654731",
     "exception": false,
     "start_time": "2023-08-22T21:33:07.597771",
     "status": "completed"
    },
    "tags": []
   },
   "outputs": [],
   "source": [
    "rdf = pd.DataFrame(index=[0, 1, 2, 3, 9])\n",
    "rdf.index.name = 'Value'\n",
    "rdf['Terminus type'] = ['Land-terminating', 'Marine-terminating', 'Lake-terminating', 'Shelf-terminating', 'Not assigned']\n",
    "rdf['RGI7 (N)'] = rgi7.groupby('term_type').count()['rgi_id']\n",
    "rdf['RGI6 (N)'] = rgi6.groupby('TermType').count()['RGIId'].reset_index(drop=True)\n",
    "rdf['RGI7 (Area)'] = rgi7.groupby('term_type')['area_km2'].sum().round(0).astype(int)\n",
    "rdf['RGI6 (Area)'] = rgi6.groupby('TermType')['Area'].sum().round(0).reset_index(drop=True)\n",
    "rdf = rdf.replace(np.NaN, 0)\n",
    "rdf[['RGI7 (N)', 'RGI6 (N)']] = rdf[['RGI7 (N)', 'RGI6 (N)']].astype(int)\n",
    "rdf[['RGI7 (Area)', 'RGI6 (Area)']] = rdf[['RGI7 (Area)', 'RGI6 (Area)']].astype(int)\n",
    "rdf.columns = ['Terminus type', 'RGI 7.0 (N)', 'RGI 6.0 (N)', 'RGI 7.0 (Area)', 'RGI 6.0 (Area)']\n",
    "rdf_t = rdf\n",
    "rdf_t"
   ]
  },
  {
   "cell_type": "code",
   "execution_count": null,
   "id": "17463cc7-8fc5-497f-a0db-0ffd039df893",
   "metadata": {
    "papermill": {
     "duration": 0.05856,
     "end_time": "2023-08-22T21:33:07.745791",
     "exception": false,
     "start_time": "2023-08-22T21:33:07.687231",
     "status": "completed"
    },
    "tags": []
   },
   "outputs": [],
   "source": [
    "rdf = pd.DataFrame(index=[0, 1, 2, 3, 9])\n",
    "rdf.index.name = 'Value'\n",
    "rdf['Surging'] = ['No evidence', 'Possible', 'Probable', 'Observed', 'Not assigned']\n",
    "rdf['RGI7 (N)'] = rgi7.groupby('surge_type').count()['rgi_id']\n",
    "rdf['RGI6 (N)'] = rgi6.groupby('Surging').count()['RGIId']\n",
    "rdf['RGI7 (Area)'] = rgi7.groupby('surge_type')['area_km2'].sum().round(0).astype(int)\n",
    "rdf['RGI6 (Area)'] = rgi6.groupby('Surging')['Area'].sum().round(0).astype(int)\n",
    "rdf = rdf.replace(np.NaN, 0)\n",
    "rdf[['RGI7 (N)', 'RGI6 (N)']] = rdf[['RGI7 (N)', 'RGI6 (N)']].astype(int)\n",
    "rdf[['RGI7 (Area)', 'RGI6 (Area)']] = rdf[['RGI7 (Area)', 'RGI6 (Area)']].astype(int)\n",
    "rdf.columns = ['Surge type', 'RGI 7.0 (N)', 'RGI 6.0 (N)', 'RGI 7.0 (Area)', 'RGI 6.0 (Area)']\n",
    "rdf_s = rdf\n",
    "rdf_s"
   ]
  },
  {
   "cell_type": "code",
   "execution_count": null,
   "id": "97830af6-6ef2-47b3-bd2e-90557d2a9f80",
   "metadata": {
    "papermill": {
     "duration": 0.032467,
     "end_time": "2023-08-22T21:33:07.816874",
     "exception": false,
     "start_time": "2023-08-22T21:33:07.784407",
     "status": "completed"
    },
    "tags": []
   },
   "outputs": [],
   "source": [
    "text = f\"\"\"````{{admonition}} Regional statistics\n",
    ":class: seealso, dropdown\n",
    "\n",
    "```{{card}} Figure: Outlines source date\n",
    "\n",
    ":::{{figure-md}}\n",
    "<img src=\"../img/region_plots/RGI{reg_str}/date_hist.png\" alt=\"region map\" class=\"bg-primary mb-1\">\n",
    "\n",
    "Distribution of the outline dates per area (top) and number (bottom)\n",
    ":::\n",
    "\n",
    "```\n",
    "\n",
    "```{{card}} Figure: Glacier area histogram\n",
    "\n",
    ":::{{figure-md}}\n",
    "<img src=\"../img/region_plots/RGI{reg_str}/area_histogram.png\" alt=\"region histogram\" class=\"bg-primary mb-1\">\n",
    "\n",
    "Number of glaciers per size category (log-log scale).\n",
    ":::\n",
    "\n",
    "```\n",
    "\n",
    "```{{card}} Table: Terminus type statistics\n",
    "\n",
    "Regional number of glaciers (N) and area (km²) per terminus type in RGI 7.0 and RGI 6.0. Note that the default designation in RGI 7.0 is now \"Not assigned\", while in RGI 6.0 lake-terminating glaciers and shelf-terminating glaciers were identified in some regions. The RGI region 19 is entirely labelled as \"Not assigned\" in RGI 7.0.\n",
    "\n",
    "{rdf_t.to_markdown()}\n",
    "\n",
    "```\n",
    "\n",
    "```{{card}} Table: Surge type statistics\n",
    "\n",
    "Regional number of glaciers (N) and area (km²) per surge type attribute in RGI 7.0 and RGI 6.0.\n",
    "\n",
    "{rdf_s.to_markdown()}\n",
    "\n",
    "```\n",
    "\n",
    "````\"\"\"\n",
    "# print(text)"
   ]
  },
  {
   "cell_type": "code",
   "execution_count": null,
   "id": "50e0c5e7-9259-4111-88b9-19feae56930b",
   "metadata": {
    "papermill": {
     "duration": 0.032832,
     "end_time": "2023-08-22T21:33:07.870795",
     "exception": false,
     "start_time": "2023-08-22T21:33:07.837963",
     "status": "completed"
    },
    "tags": []
   },
   "outputs": [],
   "source": [
    "start_line = \"````{admonition} Regional statistics\" \n",
    "end_line = \"````\" \n",
    "if not is_20:\n",
    "    replace_text_between_lines(region_text_file, text, start_line, end_line)"
   ]
  },
  {
   "cell_type": "markdown",
   "id": "aa23d936-7b88-4b64-86a5-e5e53b448e7d",
   "metadata": {
    "papermill": {
     "duration": 0.019147,
     "end_time": "2023-08-22T21:33:07.915848",
     "exception": false,
     "start_time": "2023-08-22T21:33:07.896701",
     "status": "completed"
    },
    "tags": []
   },
   "source": [
    "## Attributes map "
   ]
  },
  {
   "cell_type": "code",
   "execution_count": null,
   "id": "a37423aa-7040-4fca-9d58-e0e9361df131",
   "metadata": {
    "papermill": {
     "duration": 0.027401,
     "end_time": "2023-08-22T21:33:07.962816",
     "exception": false,
     "start_time": "2023-08-22T21:33:07.935415",
     "status": "completed"
    },
    "tags": []
   },
   "outputs": [],
   "source": [
    "# if not is_20:\n",
    "#     for attr in ['term_type']:\n",
    "\n",
    "#         print(f'Plot {attr}')\n",
    "\n",
    "#         # Prepare figure\n",
    "#         fig = plt.figure(figsize=region_params['figsize'])\n",
    "#         ax = fig.add_subplot(1, 1, 1, projection=map_crs)\n",
    "#         ax.set_extent(extent, crs=ccrs.PlateCarree())\n",
    "\n",
    "#         if reg_str == '19':\n",
    "#             import matplotlib.path as mpath\n",
    "#             theta = np.linspace(0, 2*np.pi, 100)\n",
    "#             map_circle = mpath.Path(np.vstack([np.sin(theta), np.cos(theta)]).T * 0.5 + [0.5, 0.5])\n",
    "#             ax.set_boundary(map_circle, transform=ax.transAxes)\n",
    "#             gl = ax.gridlines(draw_labels=True, x_inline=False, y_inline=False, dms=True,  \n",
    "#                               xlocs=np.arange(9) * 45 - 180);\n",
    "#         else:\n",
    "#             gl = ax.gridlines(draw_labels=True, x_inline=False, y_inline=False, dms=True, \n",
    "#                               xlocs=np.arange(37) * 10 - 180);\n",
    "#             gl.top_labels = False\n",
    "#             gl.right_labels = False\n",
    "\n",
    "#         # Add background\n",
    "#         # ax.imshow(imread(region_params['background']), \n",
    "#         #           origin='upper', \n",
    "#         #           transform=ccrs.PlateCarree(), \n",
    "#         #           extent=[-180, 180, -90, 90])\n",
    "\n",
    "#         # Plot o1 regions\n",
    "#         if reg_str != '19' or is_20:\n",
    "#             rdf.to_crs(map_crs).plot(ax=ax, edgecolor='k', facecolor='none', zorder=4, \n",
    "#                                      linewidth=region_params['linewidth_o1'])\n",
    "\n",
    "#         sr_leg = ax.legend(handles=sr_handles, loc=region_params['o2_legend_loc'], title='O2 Regions')\n",
    "#         art = ax.add_artist(sr_leg)\n",
    "#         art.zorder = 99\n",
    "\n",
    "#         ec = '#001fff' if itis else '#ff0000'\n",
    "#         fc = '#465dff' if itis else '#ff4646'\n",
    "#             shp_repr.plot(ax=ax, facecolor=fc, edgecolor=ec, \n",
    "#                           linewidth=region_params['linewidth_outlines'], zorder=97)\n",
    "\n",
    "#         ax.set_title(title);\n",
    "\n",
    "#         plot_dir = data_dir + f'/l4_rgi7b0_plots/RGI{reg:02d}'\n",
    "#         mkdir(plot_dir)\n",
    "#         plotname = 'isrgi6_map' if is_rgi6 else 'inventory_map'\n",
    "#         plt.savefig(plot_dir + f'/{plotname}.jpeg', bbox_inches='tight', dpi=300)"
   ]
  }
 ],
 "metadata": {
  "kernelspec": {
   "display_name": "Python 3 (ipykernel)",
   "language": "python",
   "name": "python3"
  },
  "language_info": {
   "codemirror_mode": {
    "name": "ipython",
    "version": 3
   },
   "file_extension": ".py",
   "mimetype": "text/x-python",
   "name": "python",
   "nbconvert_exporter": "python",
   "pygments_lexer": "ipython3",
   "version": "3.10.8"
  },
  "papermill": {
   "default_parameters": {},
   "duration": 144.725407,
   "end_time": "2023-08-22T21:33:08.810454",
   "environment_variables": {},
   "exception": null,
   "input_path": "plots_template.ipynb",
   "output_path": "plots_RGI11.ipynb",
   "parameters": {
    "reg": 11
   },
   "start_time": "2023-08-22T21:30:44.085047",
   "version": "2.3.4"
  }
 },
 "nbformat": 4,
 "nbformat_minor": 5
}
