{
 "cells": [
  {
   "cell_type": "markdown",
   "id": "valid-miracle",
   "metadata": {},
   "source": [
    "# Global overview tables and statistics"
   ]
  },
  {
   "cell_type": "markdown",
   "id": "b725109e-366d-4929-9842-894d0c1de43f",
   "metadata": {},
   "source": [
    "This is a bit messy, but there is a bunch of code producing maps and stats for the technical report."
   ]
  },
  {
   "cell_type": "code",
   "execution_count": null,
   "id": "durable-article",
   "metadata": {},
   "outputs": [],
   "source": [
    "import pandas as pd\n",
    "import geopandas as gpd\n",
    "import subprocess\n",
    "import matplotlib.pyplot as plt\n",
    "import matplotlib.patches as mpatches\n",
    "import seaborn as sns\n",
    "import numpy as np\n",
    "import sys, os\n",
    "import os\n",
    "import matplotlib.patches as mpatches\n",
    "from oggm import utils\n",
    "import csv\n",
    "import seaborn as sns\n",
    "import cartopy\n",
    "import cartopy.crs as ccrs\n",
    "from matplotlib.image import imread"
   ]
  },
  {
   "cell_type": "code",
   "execution_count": null,
   "id": "composed-detail",
   "metadata": {},
   "outputs": [],
   "source": [
    "# go down from rgi7_scripts/workflow\n",
    "data_dir = '../../../../rgi7_data/'\n",
    "\n",
    "final_dir = os.path.join(data_dir, 'rgi7_final')"
   ]
  },
  {
   "cell_type": "code",
   "execution_count": null,
   "id": "5dd742d4-683f-4828-b9da-d04c544de3e8",
   "metadata": {},
   "outputs": [],
   "source": [
    "user_guide_dir = '../../../../rgi_user_guide/'"
   ]
  },
  {
   "cell_type": "markdown",
   "id": "b59e3fb7-4db8-43d6-ad8b-e32f3e22a42e",
   "metadata": {},
   "source": [
    "## Read RGI6 and RGI7 attrs "
   ]
  },
  {
   "cell_type": "code",
   "execution_count": null,
   "id": "86efdd76-c228-4643-be36-19aa9ce778b7",
   "metadata": {},
   "outputs": [],
   "source": [
    "df_rgi7g = pd.read_csv(os.path.join(final_dir, 'global_files', 'attributes', 'RGI2000-v7.0-G-global-attributes.csv.zip'), \n",
    "                       index_col=0,\n",
    "                       compression='zip',\n",
    "                       dtype={'o1region': str})"
   ]
  },
  {
   "cell_type": "code",
   "execution_count": null,
   "id": "69edb4f6-eded-4002-91b3-d231df43b943",
   "metadata": {},
   "outputs": [],
   "source": [
    "df_rgi6g = pd.read_hdf(utils.file_downloader('https://cluster.klima.uni-bremen.de/~oggm/rgi/rgi62_stats.h5'))\n",
    "df_rgi6g = df_rgi6g.loc[df_rgi6g.Connect != 2]"
   ]
  },
  {
   "cell_type": "code",
   "execution_count": null,
   "id": "2e920c14-c39a-4402-a1ee-f1ec2d8d017f",
   "metadata": {},
   "outputs": [],
   "source": [
    "df_rgi7c = pd.read_csv(os.path.join(final_dir, 'global_files', 'attributes', 'RGI2000-v7.0-C-global-attributes.csv.zip'), \n",
    "                       index_col=0,\n",
    "                       compression='zip',\n",
    "                       dtype={'o1region': str})"
   ]
  },
  {
   "cell_type": "code",
   "execution_count": null,
   "id": "1c8f769b-a8c6-4171-9326-28f0685904c7",
   "metadata": {},
   "outputs": [],
   "source": [
    "np.testing.assert_allclose(df_rgi7g.area_km2.sum(), df_rgi7c.area_km2.sum())"
   ]
  },
  {
   "cell_type": "code",
   "execution_count": null,
   "id": "f6136b81-8023-45b6-b657-94d43604fa87",
   "metadata": {},
   "outputs": [],
   "source": [
    "df_reg_o1 = gpd.read_file('zip://' + final_dir + '/RGI2000-v7.0-regions.zip/RGI2000-v7.0-o1regions.shp')\n",
    "df_reg_o2 = gpd.read_file('zip://' + final_dir + '/RGI2000-v7.0-regions.zip/RGI2000-v7.0-o2regions.shp')"
   ]
  },
  {
   "cell_type": "markdown",
   "id": "4897e484-ef16-4693-b4ec-4278d6cf9f0d",
   "metadata": {},
   "source": [
    "## RGI6 vs RGI7 table for `overview.md`"
   ]
  },
  {
   "cell_type": "code",
   "execution_count": null,
   "id": "0f935615-6d80-42c5-8e8f-e07abfc8fb7b",
   "metadata": {},
   "outputs": [],
   "source": [
    "df = df_rgi6g.groupby('O1Region')[['Area']].sum()\n",
    "df.columns = ['Area RGI6']"
   ]
  },
  {
   "cell_type": "code",
   "execution_count": null,
   "id": "2d72d066-8080-485c-a85e-279cfe345593",
   "metadata": {
    "tags": []
   },
   "outputs": [],
   "source": [
    "df['Area RGI7'] = df_rgi7g.groupby('o1region')[['area_km2']].sum()"
   ]
  },
  {
   "cell_type": "code",
   "execution_count": null,
   "id": "2e63e99c-a4a4-4d8b-8079-f74ed9153faa",
   "metadata": {},
   "outputs": [],
   "source": [
    "df['Diff A (%)'] = (df['Area RGI7'] / df['Area RGI6'] - 1) * 100"
   ]
  },
  {
   "cell_type": "code",
   "execution_count": null,
   "id": "7bf8c766-a646-48dc-80d0-f457a7c4a1ae",
   "metadata": {},
   "outputs": [],
   "source": [
    "df['N RGI6'] = df_rgi6g.groupby('O1Region').count()['Area']\n",
    "df['N RGI7'] = df_rgi7g.groupby('o1region').count()['area_km2']\n",
    "\n",
    "df['Diff N (%)'] = (df['N RGI7'] / df['N RGI6'] - 1) * 100"
   ]
  },
  {
   "cell_type": "code",
   "execution_count": null,
   "id": "bab226ff-882d-4f63-85b3-a2958fd65c28",
   "metadata": {},
   "outputs": [],
   "source": [
    "df.loc['20'] = [0] * 6"
   ]
  },
  {
   "cell_type": "code",
   "execution_count": null,
   "id": "46c9e067-21c3-4c2a-bab9-8b5ea5b16468",
   "metadata": {},
   "outputs": [],
   "source": [
    "ss = df.sum()\n",
    "ss.name = 'Global'\n",
    "df = pd.concat([df, ss.to_frame().T])\n",
    "\n",
    "df['Diff A (%)'] = (df['Area RGI7'] / df['Area RGI6'] - 1) * 100\n",
    "df['Diff N (%)'] = (df['N RGI7'] / df['N RGI6'] - 1) * 100"
   ]
  },
  {
   "cell_type": "code",
   "execution_count": null,
   "id": "13f63546-158e-44db-aec0-abcb0d70be09",
   "metadata": {},
   "outputs": [],
   "source": [
    "df['Area RGI6'] = df['Area RGI6'].astype(float).round(0).astype(int) \n",
    "df['Area RGI7'] = df['Area RGI7'].astype(float).round(0).astype(int) \n",
    "df['N RGI6'] = df['N RGI6'].astype(int) \n",
    "df['N RGI7'] = df['N RGI7'].astype(int) \n",
    "\n",
    "df['Diff A (%)'] = df['Diff A (%)'].round(1).replace(-0, 0).replace(np.NaN, 0)\n",
    "df['Diff N (%)'] = df['Diff N (%)'].round(1).replace(-0, 0).replace(np.NaN, 0)"
   ]
  },
  {
   "cell_type": "code",
   "execution_count": null,
   "id": "eb8418c9-ffa1-4f4d-9418-00f437240de2",
   "metadata": {},
   "outputs": [],
   "source": [
    "df"
   ]
  },
  {
   "cell_type": "code",
   "execution_count": null,
   "id": "d6360c7b-ca5f-4637-85e3-89dfa2503d59",
   "metadata": {},
   "outputs": [],
   "source": [
    "print(f\"N in RGI7: N={len(df_rgi7g)}, A={int(df_rgi7g['area_km2'].sum())} km²\")\n",
    "\n",
    "s1 = df_rgi7g.loc[df_rgi7g.is_rgi6 == 1]\n",
    "print(f\"Same as RGI6: N={len(s1)}, A={int(s1['area_km2'].sum())} km²\")\n",
    "\n",
    "s2 = df_rgi7g.loc[df_rgi7g.is_rgi6 == 0]\n",
    "print(f\"New  in RGI7: N={len(s2)}, A={int(s2['area_km2'].sum())} km²\")\n",
    "\n",
    "print(f\"New in % area: {s2['area_km2'].sum() / df_rgi7g['area_km2'].sum()}\")\n",
    "\n",
    "print(f\"New in % number: {len(s2) / len(df_rgi7g)}\")"
   ]
  },
  {
   "cell_type": "code",
   "execution_count": null,
   "id": "54ce2ccf-9e3e-488f-b9f3-02e36c107f86",
   "metadata": {},
   "outputs": [],
   "source": [
    "df.index.name = 'Region'"
   ]
  },
  {
   "cell_type": "code",
   "execution_count": null,
   "id": "a6f57487-edee-49d7-9d03-8132c43a81ce",
   "metadata": {},
   "outputs": [],
   "source": [
    "df_formd = df.copy()\n",
    "df_formd.index = [f'[](rgi{i}.md)' for i in df_formd.index[:-1]] + ['Global']\n",
    "df_formd.columns = ['Area<br>RGI 6.0 (km²)', 'Area<br>RGI 7.0 (km²)', 'Area<br>Diff. (%)', 'Count<br>RGI 6.0', 'Count<br>RGI 7.0', 'Count<br>Diff. (%)']\n",
    "print(df_formd.to_markdown(floatfmt=(\".0f\",\".0f\",\".0f\",\".1f\",\".0f\",\".0f\",\".1f\")).replace('Global    ', '**Global**'))"
   ]
  },
  {
   "cell_type": "code",
   "execution_count": null,
   "id": "944c0cec-a550-4cd4-8008-5f1723a19e24",
   "metadata": {},
   "outputs": [],
   "source": [
    "df['Full name'] = list(df_reg_o1.full_name.unique()) + ['']\n",
    "df['Code'] = ['`' + r + '`' for r in df_reg_o1.long_code.unique()] + ['']"
   ]
  },
  {
   "cell_type": "code",
   "execution_count": null,
   "id": "158e2b39-b95a-4e81-ba23-16ede6b44c60",
   "metadata": {},
   "outputs": [],
   "source": [
    "df"
   ]
  },
  {
   "cell_type": "code",
   "execution_count": null,
   "id": "03c99796-c4fa-4f46-969b-e63683249446",
   "metadata": {},
   "outputs": [],
   "source": [
    "for_csv = df[['Full name', 'Area RGI6', 'Area RGI7', 'Diff A (%)', 'N RGI6', 'N RGI7', 'Diff N (%)']].copy()\n",
    "for_csv.columns = ['Full name', 'Area RGI 6.0', 'Area RGI 7.0', 'Diff. Area (%)', 'Count RGI 6.0', 'Count RGI 7.0', 'Diff. Count (%)']\n",
    "for_csv.reset_index().to_csv(user_guide_dir + '/docs/appendix/RGI2000-v7.0-G-comparison-rgi6.csv', index=False, quoting=csv.QUOTE_NONNUMERIC)"
   ]
  },
  {
   "cell_type": "markdown",
   "id": "5a71b948-5ef9-4096-b05d-11ca44d1c98f",
   "metadata": {},
   "source": [
    "## Tables Appendix (no RGI6) "
   ]
  },
  {
   "cell_type": "markdown",
   "id": "981ee942-9055-43a6-a41c-e03138cda298",
   "metadata": {},
   "source": [
    "### O1 "
   ]
  },
  {
   "cell_type": "code",
   "execution_count": null,
   "id": "9dd2e602-c945-4b00-88ad-10760d9b4245",
   "metadata": {},
   "outputs": [],
   "source": [
    "for_csv = df[['Full name', 'Code', 'N RGI7', 'Area RGI7']].copy()\n",
    "for_csv['Code'] = [s.replace(\"`\", \"\") for s in for_csv['Code']]"
   ]
  },
  {
   "cell_type": "code",
   "execution_count": null,
   "id": "4428b2bf-e473-4a27-bf47-6c0e2ac7badb",
   "metadata": {},
   "outputs": [],
   "source": [
    "for_csv.columns = [['full_name', 'long_code', 'count', 'area_km2']]\n",
    "for_csv.index.name = 'o1region'\n",
    "for_csv.reset_index().to_csv(user_guide_dir + '/docs/appendix/RGI2000-v7.0-G-o1region-summary.csv', index=False, quoting=csv.QUOTE_NONNUMERIC)"
   ]
  },
  {
   "cell_type": "code",
   "execution_count": null,
   "id": "c8428d21-f2cf-416b-8d6d-c34ace6f32ed",
   "metadata": {},
   "outputs": [],
   "source": [
    "for_print = df[['Full name', 'Code', 'N RGI7', 'Area RGI7']]\n",
    "for_print.columns = ['Full name', 'Code', 'Count', 'Area (km²)']\n",
    "print(for_print.to_markdown().replace('Global    ', '**Global**'))"
   ]
  },
  {
   "cell_type": "markdown",
   "id": "dbe1cc80-20eb-42fc-9e99-5abeccb920fd",
   "metadata": {},
   "source": [
    "### O2 "
   ]
  },
  {
   "cell_type": "code",
   "execution_count": null,
   "id": "74e03dd8-a10b-4e71-af16-80e13b651140",
   "metadata": {},
   "outputs": [],
   "source": [
    "df_reg_o2 = df_reg_o2.drop_duplicates('o2region')\n",
    "df_reg_o2"
   ]
  },
  {
   "cell_type": "code",
   "execution_count": null,
   "id": "21454baf-0b6c-4e7e-8a53-8fb66f989bb0",
   "metadata": {},
   "outputs": [],
   "source": [
    "dfsr = df_reg_o2[['o2region', 'full_name', 'long_code']].copy().set_index('o2region')\n",
    "\n",
    "dfsr.columns = ['Full name', 'Code']\n",
    "\n",
    "dfsr['Count'] = df_rgi7g.groupby('o2region')['cenlon'].count()\n",
    "dfsr['Area (km²)'] = df_rgi7g.groupby('o2region')['area_km2'].sum()\n",
    "\n",
    "ss = dfsr.sum()\n",
    "ss.name = 'Global'\n",
    "dfsr = pd.concat([dfsr, ss.to_frame().T])\n",
    "\n",
    "dfsr.loc['Global', 'Full name'] = ''\n",
    "dfsr.loc['Global', 'Code'] = ''\n",
    "\n",
    "dfsr['Area (km²)']  = dfsr['Area (km²)'].astype(float).round(0).fillna(0).astype(int) \n",
    "dfsr['Count']  = dfsr['Count'].fillna(0).astype(int) \n",
    "\n",
    "dfsr['Code'] = ['`' + r + '`' for r in dfsr.Code]\n",
    "dfsr.loc['Global', 'Code'] = ''"
   ]
  },
  {
   "cell_type": "code",
   "execution_count": null,
   "id": "0c231782-3efe-40cf-ab9c-af77ca557c5d",
   "metadata": {},
   "outputs": [],
   "source": [
    "print(dfsr.to_markdown())"
   ]
  },
  {
   "cell_type": "code",
   "execution_count": null,
   "id": "2160a584-3083-4615-9c5a-d973c25c1063",
   "metadata": {},
   "outputs": [],
   "source": [
    "dfsr['Code'] = [s.replace(\"`\", \"\") for s in dfsr['Code']]\n",
    "dfsr.columns = [['full_name', 'long_code', 'count', 'area_km2']]\n",
    "dfsr.index.name = 'o2region'\n",
    "dfsr.reset_index().to_csv(user_guide_dir + '/docs/appendix/RGI2000-v7.0-G-o2region-summary.csv', index=False, quoting=csv.QUOTE_NONNUMERIC)"
   ]
  },
  {
   "cell_type": "markdown",
   "id": "892037d2-e4a4-4a49-9b07-b714f72662dc",
   "metadata": {
    "tags": []
   },
   "source": [
    "## Global statistics (`06_dataset_summary.md`) "
   ]
  },
  {
   "cell_type": "code",
   "execution_count": null,
   "id": "baa4f9f8-bb2e-4068-b3be-03f8bcd0497b",
   "metadata": {},
   "outputs": [],
   "source": [
    "rgi6 = df_rgi6g.copy()\n",
    "rgi7 = df_rgi7g.copy()"
   ]
  },
  {
   "cell_type": "markdown",
   "id": "ab975535-94e8-40ba-9e34-735a33a8f72d",
   "metadata": {},
   "source": [
    "### Target year "
   ]
  },
  {
   "cell_type": "code",
   "execution_count": null,
   "id": "81c9b80b-f9e4-4868-8093-413aa5e2a5fa",
   "metadata": {},
   "outputs": [],
   "source": [
    "rgi7['year'] = [int(y.split('-')[0]) for y in rgi7['src_date']]\n",
    "rgi6['year'] = [int(y[0:4]) for y in rgi6['BgnDate']]"
   ]
  },
  {
   "cell_type": "code",
   "execution_count": null,
   "id": "7785a4e0-343c-4471-a463-33242477fbe6",
   "metadata": {},
   "outputs": [],
   "source": [
    "dy6 = np.abs(rgi6['year'] - 2000)\n",
    "dy7 = np.abs(rgi7['year'] - 2000)"
   ]
  },
  {
   "cell_type": "code",
   "execution_count": null,
   "id": "22d941e1-6d1c-4bac-b281-53c03f081fe5",
   "metadata": {},
   "outputs": [],
   "source": [
    "ydf = pd.DataFrame()\n",
    "ydf.loc['2000 ± 2 years', 'RGI6 (%)'] = (dy6 <= 2).sum() / len(rgi6) * 100\n",
    "ydf.loc['2000 ± 2 years', 'RGI7 (%)'] = (dy7 <= 2).sum() / len(rgi7) * 100\n",
    "ydf.loc['2000 ± 2-5 years', 'RGI6 (%)'] = ((dy6 <= 5) & (dy6 > 2)).sum() / len(rgi6) * 100\n",
    "ydf.loc['2000 ± 2-5 years', 'RGI7 (%)'] = ((dy7 <= 5) & (dy7 > 2)).sum() / len(rgi7) * 100\n",
    "ydf.loc['2000 ± 5-10 years', 'RGI6 (%)'] = ((dy6 <= 10) & (dy6 > 5)).sum() / len(rgi6) * 100\n",
    "ydf.loc['2000 ± 5-10 years', 'RGI7 (%)'] = ((dy7 <= 10) & (dy7 > 5)).sum() / len(rgi7) * 100\n",
    "ydf.loc['2000 ± > 10 years', 'RGI6 (%)'] = (dy6 > 10).sum() / len(rgi6) * 100\n",
    "ydf.loc['2000 ± > 10 years', 'RGI7 (%)'] = (dy7 > 10).sum() / len(rgi7) * 100\n",
    "ydf = ydf.round(1)\n",
    "ydf.index.name = 'Outline year'\n",
    "ydf.columns = ['RGI 6.0 (%)', 'RGI 7.0 (%)']\n",
    "ydf"
   ]
  },
  {
   "cell_type": "code",
   "execution_count": null,
   "id": "3811feaf-1d4f-4ef3-b97b-99cf98e24818",
   "metadata": {},
   "outputs": [],
   "source": [
    "print(ydf.to_markdown())"
   ]
  },
  {
   "cell_type": "markdown",
   "id": "01a7179b-55ad-4993-a3f5-90ac766dc784",
   "metadata": {},
   "source": [
    "Same but with area (less good):"
   ]
  },
  {
   "cell_type": "code",
   "execution_count": null,
   "id": "56eaf5ac-aeaa-4cca-88ba-d89998114d56",
   "metadata": {},
   "outputs": [],
   "source": [
    "ydf = pd.DataFrame()\n",
    "ydf.loc['2000 ± 2 years', 'RGI6 (%)'] = rgi6.loc[(dy6 <= 2)].Area.sum() / rgi6.Area.sum() * 100\n",
    "ydf.loc['2000 ± 2 years', 'RGI7 (%)'] = rgi7.loc[(dy7 <= 2)].area_km2.sum() / rgi7.area_km2.sum() * 100\n",
    "ydf.loc['2000 ± 2-5 years', 'RGI6 (%)'] = rgi6.loc[((dy6 <= 5) & (dy6 > 2))].Area.sum() / rgi6.Area.sum() * 100\n",
    "ydf.loc['2000 ± 2-5 years', 'RGI7 (%)'] = rgi7.loc[((dy7 <= 5) & (dy7 > 2))].area_km2.sum() / rgi7.area_km2.sum() * 100\n",
    "ydf.loc['2000 ± 5-10 years', 'RGI6 (%)'] = rgi6.loc[((dy6 <= 10) & (dy6 > 5))].Area.sum() / rgi6.Area.sum() * 100\n",
    "ydf.loc['2000 ± 5-10 years', 'RGI7 (%)'] = rgi7.loc[((dy7 <= 10) & (dy7 > 5))].area_km2.sum() / rgi7.area_km2.sum() * 100\n",
    "ydf.loc['2000 ± > 10 years', 'RGI6 (%)'] = rgi6.loc[(dy6 > 10)].Area.sum() / rgi6.Area.sum() * 100\n",
    "ydf.loc['2000 ± > 10 years', 'RGI7 (%)'] = rgi7.loc[(dy7 > 10)].area_km2.sum() / rgi7.area_km2.sum() * 100\n",
    "ydf = ydf.round(1)\n",
    "ydf.index.name = 'Outline year'\n",
    "ydf.columns = ['RGI 6.0 (%)', 'RGI 7.0 (%)']\n",
    "ydf"
   ]
  },
  {
   "cell_type": "markdown",
   "id": "16897360-a0c1-4b61-85de-b167ebc2a99d",
   "metadata": {},
   "source": [
    "### More year statistics "
   ]
  },
  {
   "cell_type": "code",
   "execution_count": null,
   "id": "353b0cdf-15fe-48e1-85d8-05b4b82c425d",
   "metadata": {},
   "outputs": [],
   "source": [
    "rgi7['year'].min(), rgi7['year'].max()"
   ]
  },
  {
   "cell_type": "code",
   "execution_count": null,
   "id": "50fbfb6e-4b38-45f3-bfbc-9f9522cd8b35",
   "metadata": {},
   "outputs": [],
   "source": [
    "(rgi7['year'] < 1990).sum() / len(rgi7)"
   ]
  },
  {
   "cell_type": "markdown",
   "id": "72f463fe-9959-45cc-9615-c82d3fbcafff",
   "metadata": {
    "tags": []
   },
   "source": [
    "### Size classes "
   ]
  },
  {
   "cell_type": "code",
   "execution_count": null,
   "id": "4523f5fc-b250-48c7-b161-ca0200026b52",
   "metadata": {},
   "outputs": [],
   "source": [
    "adf = pd.DataFrame()\n",
    "adf.loc['< 1 km²', 'RGI6 (N)'] = (rgi6['Area'] < 1).sum()\n",
    "adf.loc['< 1 km²', 'RGI6 (%)'] = (rgi6['Area'] < 1).sum() / len(rgi6) * 100\n",
    "adf.loc['< 1 km²', 'RGI7 (N)'] = (rgi7['area_km2'] < 1).sum()\n",
    "adf.loc['< 1 km²', 'RGI7 (%)'] = (rgi7['area_km2'] < 1).sum() / len(rgi7) * 100\n",
    "adf.loc['1-10 km²', 'RGI6 (N)'] = ((rgi6['Area'] >= 1) & (rgi6['Area'] < 10)).sum()\n",
    "adf.loc['1-10 km²', 'RGI6 (%)'] = ((rgi6['Area'] >= 1) & (rgi6['Area'] < 10)).sum() / len(rgi6) * 100\n",
    "adf.loc['1-10 km²', 'RGI7 (N)'] = ((rgi7['area_km2'] >= 1) & (rgi7['area_km2'] < 10)).sum()\n",
    "adf.loc['1-10 km²', 'RGI7 (%)'] = ((rgi7['area_km2'] >= 1) & (rgi7['area_km2'] < 10)).sum() / len(rgi7) * 100\n",
    "adf.loc['10-100 km²', 'RGI6 (N)'] = ((rgi6['Area'] >= 10) & (rgi6['Area'] < 100)).sum()\n",
    "adf.loc['10-100 km²', 'RGI6 (%)'] = ((rgi6['Area'] >= 10) & (rgi6['Area'] < 100)).sum() / len(rgi6) * 100\n",
    "adf.loc['10-100 km²', 'RGI7 (N)'] = ((rgi7['area_km2'] >= 10) & (rgi7['area_km2'] < 100)).sum()\n",
    "adf.loc['10-100 km²', 'RGI7 (%)'] = ((rgi7['area_km2'] >= 10) & (rgi7['area_km2'] < 100)).sum() / len(rgi7) * 100\n",
    "adf.loc['> 100 km²', 'RGI6 (N)'] = (rgi6['Area'] >= 100).sum()\n",
    "adf.loc['> 100 km²', 'RGI6 (%)'] = (rgi6['Area'] >= 100).sum() / len(rgi6) * 100\n",
    "adf.loc['> 100 km²', 'RGI7 (N)'] = (rgi7['area_km2'] >= 100).sum()\n",
    "adf.loc['> 100 km²', 'RGI7 (%)'] = (rgi7['area_km2'] >= 100).sum() / len(rgi7) * 100\n",
    "adf.loc['Total'] = adf.sum()\n",
    "adf[['RGI6 (N)', 'RGI7 (N)']] = adf[['RGI6 (N)', 'RGI7 (N)']].astype(int)\n",
    "adf[['RGI6 (%)', 'RGI7 (%)']] = adf[['RGI6 (%)', 'RGI7 (%)']].round(1)\n",
    "adf.index.name = 'Area'\n",
    "adf.columns = ['RGI 6.0 (N)', 'RGI 6.0 (%)', 'RGI 7.0 (N)', 'RGI 7.0 (%)']\n",
    "adf"
   ]
  },
  {
   "cell_type": "code",
   "execution_count": null,
   "id": "64ed8b26-17f7-40ec-bd90-40b0f069c19b",
   "metadata": {},
   "outputs": [],
   "source": [
    "print(adf.to_markdown())"
   ]
  },
  {
   "cell_type": "code",
   "execution_count": null,
   "id": "ab9454ff-7796-4b1d-b9d1-53b0a8092e92",
   "metadata": {},
   "outputs": [],
   "source": [
    "with sns.plotting_context('talk'), sns.axes_style('ticks'):\n",
    "\n",
    "    bins = np.logspace(-2, 3, 100)\n",
    "\n",
    "    h7c, b7c = np.histogram(df_rgi7c['area_km2'], bins=bins)\n",
    "    h7, b7 = np.histogram(rgi7['area_km2'], bins=bins)\n",
    "    h6, b6 = np.histogram(rgi6['Area'], bins=bins)\n",
    "\n",
    "    f, ax = plt.subplots(figsize=(10, 6))\n",
    "    ax.plot(b6[:-1], h6, label='RGI 6.0');\n",
    "    ax.plot(b7[:-1], h7, label='RGI 7.0');\n",
    "    ax.plot(b7c[:-1], h7c, label='RGI 7.0 C');\n",
    "    ax.set_xscale('log')\n",
    "    ax.set_yscale('log')\n",
    "    ax.set_ylim([7, 5e4])\n",
    "    plt.legend()\n",
    "    ax.set_title('Number of glaciers per size category (global)')\n",
    "    ax.set_xlabel('Glacier area (km², logscale)');\n",
    "    ax.set_ylabel('Glacier number (logscale)');"
   ]
  },
  {
   "cell_type": "code",
   "execution_count": null,
   "id": "8f393785-4bc8-455b-ac6e-e2654307d678",
   "metadata": {},
   "outputs": [],
   "source": [
    "with sns.plotting_context('talk'), sns.axes_style('ticks'):\n",
    "\n",
    "    bins = np.logspace(-2, 3, 100)\n",
    "\n",
    "    h7, b7 = np.histogram(rgi7['area_km2'], bins=bins)\n",
    "    h6, b6 = np.histogram(rgi6['Area'], bins=bins)\n",
    "\n",
    "    f, ax = plt.subplots(figsize=(12, 7))\n",
    "    ax.plot(b6[:-1], h6, color='C0', label='RGI 6.0');\n",
    "    ax.plot(b7[:-1], h7, color='C3', label='RGI 7.0');\n",
    "    ax.set_xscale('log')\n",
    "    ax.set_yscale('log')\n",
    "    plt.legend()\n",
    "    ax.set_title('Number of glaciers per size category (global)')\n",
    "    ax.set_xlabel('Glacier area (km², logscale)');\n",
    "    ax.set_ylabel('Glacier number (logscale)');\n",
    "    plt.savefig(user_guide_dir + '/docs/img/global_stats/global_histogram.png', dpi=100, bbox_inches='tight')"
   ]
  },
  {
   "cell_type": "markdown",
   "id": "5301c8ef-9e8b-49e5-8671-2ee16de8da2f",
   "metadata": {},
   "source": [
    "### Global attributes statistics "
   ]
  },
  {
   "cell_type": "code",
   "execution_count": null,
   "id": "027597ae-e0a1-454c-9fd2-517979333fba",
   "metadata": {},
   "outputs": [],
   "source": [
    "rgi7['rgi_id'] = rgi7.index\n",
    "rgi6['RGIId'] = rgi6.index"
   ]
  },
  {
   "cell_type": "markdown",
   "id": "fa1de6f9-5cf5-4b02-94d3-fe5d3a70637c",
   "metadata": {},
   "source": [
    "#### Terminus "
   ]
  },
  {
   "cell_type": "code",
   "execution_count": null,
   "id": "14208a8d-a0c2-4c38-ae1d-9e3ada1828a2",
   "metadata": {},
   "outputs": [],
   "source": [
    "rdf = pd.DataFrame(index=[0, 1, 2, 3, 9])\n",
    "rdf.index.name = 'Value'\n",
    "rdf['Terminus type'] = ['Land-terminating', 'Marine-terminating', 'Lake-terminating', 'Shelf-terminating', 'Not assigned']\n",
    "rdf['RGI7 (N)'] = rgi7.groupby('term_type').count()['rgi_id']\n",
    "rdf['RGI6 (N)'] = rgi6.groupby('TermType').count()['RGIId'].reset_index(drop=True)\n",
    "rdf['RGI7 (Area)'] = rgi7.groupby('term_type')['area_km2'].sum().round(0).astype(int)\n",
    "rdf['RGI6 (Area)'] = rgi6.groupby('TermType')['Area'].sum().round(0).reset_index(drop=True)\n",
    "rdf = rdf.replace(np.NaN, 0)\n",
    "rdf[['RGI7 (N)', 'RGI6 (N)']] = rdf[['RGI7 (N)', 'RGI6 (N)']].astype(int)\n",
    "rdf[['RGI7 (Area)', 'RGI6 (Area)']] = rdf[['RGI7 (Area)', 'RGI6 (Area)']].astype(int)\n",
    "rdf.columns = ['Terminus type', 'RGI 7.0 (N)', 'RGI 6.0 (N)', 'RGI 7.0 (Area)', 'RGI 6.0 (Area)']\n",
    "rdf"
   ]
  },
  {
   "cell_type": "code",
   "execution_count": null,
   "id": "6ff319f3-f933-4dec-90ff-55973bd8b886",
   "metadata": {},
   "outputs": [],
   "source": [
    "print(rdf.to_markdown())"
   ]
  },
  {
   "cell_type": "markdown",
   "id": "fe233104-0106-42d7-8342-09881de0f310",
   "metadata": {},
   "source": [
    "#### Surging "
   ]
  },
  {
   "cell_type": "code",
   "execution_count": null,
   "id": "5d4a115d-af49-4011-a129-fad610e090b0",
   "metadata": {},
   "outputs": [],
   "source": [
    "rdf = pd.DataFrame(index=[0, 1, 2, 3, 9])\n",
    "rdf.index.name = 'Value'\n",
    "rdf['Surging'] = ['No evidence', 'Possible', 'Probable', 'Observed', 'Not assigned']\n",
    "rdf['RGI7 (N)'] = rgi7.groupby('surge_type').count()['rgi_id']\n",
    "rdf['RGI6 (N)'] = rgi6.groupby('Surging').count()['RGIId']\n",
    "rdf['RGI7 (Area)'] = rgi7.groupby('surge_type')['area_km2'].sum().round(0).astype(int)\n",
    "rdf['RGI6 (Area)'] = rgi6.groupby('Surging')['Area'].sum().round(0).astype(int)\n",
    "rdf = rdf.replace(np.NaN, 0)\n",
    "rdf[['RGI7 (N)', 'RGI6 (N)']] = rdf[['RGI7 (N)', 'RGI6 (N)']].astype(int)\n",
    "rdf[['RGI7 (Area)', 'RGI6 (Area)']] = rdf[['RGI7 (Area)', 'RGI6 (Area)']].astype(int)\n",
    "rdf.columns = ['Surge type', 'RGI 7.0 (N)', 'RGI 6.0 (N)', 'RGI 7.0 (Area)', 'RGI 6.0 (Area)']\n",
    "rdf"
   ]
  },
  {
   "cell_type": "code",
   "execution_count": null,
   "id": "acd3b2ec-7ccf-4a0b-9800-1af203beb0e7",
   "metadata": {},
   "outputs": [],
   "source": [
    "print(rdf.to_markdown())"
   ]
  },
  {
   "cell_type": "code",
   "execution_count": null,
   "id": "f8ac9bb4-545d-4774-ae1b-96e73ff42da7",
   "metadata": {},
   "outputs": [],
   "source": []
  }
 ],
 "metadata": {
  "kernelspec": {
   "display_name": "Python 3 (ipykernel)",
   "language": "python",
   "name": "python3"
  },
  "language_info": {
   "codemirror_mode": {
    "name": "ipython",
    "version": 3
   },
   "file_extension": ".py",
   "mimetype": "text/x-python",
   "name": "python",
   "nbconvert_exporter": "python",
   "pygments_lexer": "ipython3",
   "version": "3.10.8"
  }
 },
 "nbformat": 4,
 "nbformat_minor": 5
}
