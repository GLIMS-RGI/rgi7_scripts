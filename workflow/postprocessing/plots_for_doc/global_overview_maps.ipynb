{
 "cells": [
  {
   "cell_type": "markdown",
   "id": "valid-miracle",
   "metadata": {},
   "source": [
    "# Global maps for the report"
   ]
  },
  {
   "cell_type": "markdown",
   "id": "b725109e-366d-4929-9842-894d0c1de43f",
   "metadata": {},
   "source": [
    "This is a bit messy, but there is a bunch of code producing maps for the technical report."
   ]
  },
  {
   "cell_type": "code",
   "execution_count": null,
   "id": "durable-article",
   "metadata": {},
   "outputs": [],
   "source": [
    "import pandas as pd\n",
    "import geopandas as gpd\n",
    "import subprocess\n",
    "import matplotlib.pyplot as plt\n",
    "import matplotlib.patches as mpatches\n",
    "import seaborn as sns\n",
    "import numpy as np\n",
    "import sys, os\n",
    "from oggm import utils\n",
    "import csv\n",
    "import seaborn as sns\n",
    "import cartopy\n",
    "import cartopy.crs as ccrs\n",
    "from matplotlib.image import imread\n",
    "import salem"
   ]
  },
  {
   "cell_type": "code",
   "execution_count": null,
   "id": "93238960-44ee-4d4b-accf-8766d90ee073",
   "metadata": {},
   "outputs": [],
   "source": [
    "# go down from rgi7_scripts/workflow\n",
    "data_dir = '../../../../rgi7_data/'\n",
    "\n",
    "final_dir = os.path.join(data_dir, 'rgi7_final')"
   ]
  },
  {
   "cell_type": "code",
   "execution_count": null,
   "id": "5fe2841c-7b49-4124-9d4b-664d1236011a",
   "metadata": {},
   "outputs": [],
   "source": [
    "user_guide_dir = '../../../../rgi_user_guide/'"
   ]
  },
  {
   "cell_type": "code",
   "execution_count": null,
   "id": "a1497c2e-0716-4f1f-b055-d757f332c34a",
   "metadata": {},
   "outputs": [],
   "source": [
    "tmp_dir = data_dir + '/tmp_plots/'"
   ]
  },
  {
   "cell_type": "markdown",
   "id": "bc168a07-6f98-4434-a02e-d07ae0ba4ca4",
   "metadata": {},
   "source": [
    "## Read RGI6 and RGI7 tables "
   ]
  },
  {
   "cell_type": "code",
   "execution_count": null,
   "id": "b8b815d4-f5e9-4888-8771-5c923637c986",
   "metadata": {},
   "outputs": [],
   "source": [
    "df_rgi7g = pd.read_csv(os.path.join(final_dir, 'global_files', 'attributes', 'RGI2000-v7.0-G-global-attributes.csv.zip'), \n",
    "                       index_col=0,\n",
    "                       compression='zip',\n",
    "                       dtype={'o1region': str})"
   ]
  },
  {
   "cell_type": "code",
   "execution_count": null,
   "id": "5450a5ae-d8e4-4e7b-90ed-38fec935f727",
   "metadata": {},
   "outputs": [],
   "source": [
    "df_rgi6g = pd.read_hdf(utils.file_downloader('https://cluster.klima.uni-bremen.de/~oggm/rgi/rgi62_stats.h5'))\n",
    "df_rgi6g = df_rgi6g.loc[df_rgi6g.Connect != 2]"
   ]
  },
  {
   "cell_type": "code",
   "execution_count": null,
   "id": "83d9e435-938f-44fb-813c-a8d4ae318045",
   "metadata": {},
   "outputs": [],
   "source": [
    "df_rgi7c = pd.read_csv(os.path.join(final_dir, 'global_files', 'attributes', 'RGI2000-v7.0-C-global-attributes.csv.zip'), \n",
    "                       index_col=0,\n",
    "                       compression='zip',\n",
    "                       dtype={'o1region': str})"
   ]
  },
  {
   "cell_type": "code",
   "execution_count": null,
   "id": "5a813757-520c-4159-b227-8e51310b80b9",
   "metadata": {},
   "outputs": [],
   "source": [
    "np.testing.assert_allclose(df_rgi7g.area_km2.sum(), df_rgi7c.area_km2.sum())"
   ]
  },
  {
   "cell_type": "code",
   "execution_count": null,
   "id": "6bb4f48d-df70-46e7-a253-5eac0df0fde8",
   "metadata": {},
   "outputs": [],
   "source": [
    "df_reg_o1 = gpd.read_file('zip://' + final_dir + '/RGI2000-v7.0-regions.zip/RGI2000-v7.0-o1regions.shp')\n",
    "df_reg_o2 = gpd.read_file('zip://' + final_dir + '/RGI2000-v7.0-regions.zip/RGI2000-v7.0-o2regions.shp')"
   ]
  },
  {
   "cell_type": "code",
   "execution_count": null,
   "id": "6a3c8cce-71c9-4f26-9c8f-d9fddae5755e",
   "metadata": {},
   "outputs": [],
   "source": [
    "df_reg_o1['min_x'] = [g.bounds[0] for g in df_reg_o1.geometry]\n",
    "df_reg_o1['max_x'] = [g.bounds[2] for g in df_reg_o1.geometry]\n",
    "df_reg_o1['min_y'] = [g.bounds[1] for g in df_reg_o1.geometry]\n",
    "df_reg_o1['max_y'] = [g.bounds[3] for g in df_reg_o1.geometry]"
   ]
  },
  {
   "cell_type": "markdown",
   "id": "93399894-f1f9-43cc-a633-ee955ed808f3",
   "metadata": {},
   "source": [
    "## Map "
   ]
  },
  {
   "cell_type": "code",
   "execution_count": null,
   "id": "a715d49e-5c1e-4f5c-bf74-56f61c3e8bcb",
   "metadata": {},
   "outputs": [],
   "source": [
    "rgi6 = df_rgi6g.copy()\n",
    "rgi7 = df_rgi7g.copy()"
   ]
  },
  {
   "cell_type": "code",
   "execution_count": null,
   "id": "ef5fc6c4-73c9-4a78-807d-dff7c1bb253b",
   "metadata": {},
   "outputs": [],
   "source": [
    "%config InlineBackend.figure_format = 'retina'\n",
    "%alias convert convert"
   ]
  },
  {
   "cell_type": "code",
   "execution_count": null,
   "id": "6e0dc1c0-2405-44b2-bdb3-15343bf1cfa7",
   "metadata": {},
   "outputs": [],
   "source": [
    "bck_img = '/home/users/fmaussion/www_fmaussion/misc/rgi7_data/l0_support_data/images/natural-earth-1_large2048px.png'"
   ]
  },
  {
   "cell_type": "code",
   "execution_count": null,
   "id": "049ba65b-5b33-4383-acef-0468b0f30804",
   "metadata": {},
   "outputs": [],
   "source": [
    "fac = 1.3\n",
    "f = plt.figure(figsize=(12*fac, 7*fac))\n",
    "ax = plt.axes(projection=ccrs.Robinson())\n",
    "\n",
    "\n",
    "ax.imshow(imread(bck_img), origin='upper', transform=ccrs.PlateCarree(), \n",
    "          extent=[-180, 180, -90, 90])\n",
    "\n",
    "handles = []\n",
    "\n",
    "df_reg_o1.to_crs(ccrs.Robinson()).plot(ax=ax, edgecolor='k', facecolor='w', alpha=0.3);\n",
    "\n",
    "s = rgi7.loc[rgi7.is_rgi6 == 1]\n",
    "ax.scatter(s.cenlon.values, s.cenlat.values, color='C0', s=1, transform=ccrs.PlateCarree());\n",
    "handles.append(mpatches.Patch(facecolor='C0', label=f\"Same as RGI 6.0\"))  #  - N={len(s)}, A={int(s['area'].sum()*1e-6)} km²\n",
    "\n",
    "s = rgi7.loc[rgi7.is_rgi6 == 0]\n",
    "ax.scatter(s.cenlon.values, s.cenlat.values, color='C3', s=1, transform=ccrs.PlateCarree());\n",
    "handles.append(mpatches.Patch(facecolor='C3', label=f\"New in RGI 7.0\"))\n",
    "\n",
    "df_reg_o1.plot(ax=ax, transform=ccrs.PlateCarree(), edgecolor='k', facecolor='none', linewidth=1);\n",
    "\n",
    "did10 = False\n",
    "for i, r in df_reg_o1.iterrows():\n",
    "    tx = r.min_x + 4\n",
    "    ty = r.min_y \n",
    "    fs = 16\n",
    "    t = r.o1region\n",
    "\n",
    "    if t == '01':\n",
    "        tx = r.min_x + 35\n",
    "    if t == '03':\n",
    "        tx = r.min_x + 15\n",
    "        ty = r.min_y + 3\n",
    "    if t == '05':\n",
    "        tx = r.min_x + 40\n",
    "    if t == '06':\n",
    "        ty = r.min_y - 5.5\n",
    "    if t == '08':\n",
    "        tx = r.min_x + 20\n",
    "    if t == '09':\n",
    "        tx = r.min_x \n",
    "    if t == '11':\n",
    "        tx = r.min_x + 24\n",
    "    if t == '10':\n",
    "        tx = r.min_x + 1\n",
    "        ty = r.min_y + 15\n",
    "        if not did10:\n",
    "            did10 = True\n",
    "            continue\n",
    "    if t == '13':\n",
    "        ty = r.min_y + 12\n",
    "        tx = r.min_x + 30\n",
    "    if t in ['14', '12', '16', '17']:\n",
    "        tx = r.min_x \n",
    "    if t == '15':\n",
    "        tx = r.min_x + 30\n",
    "    if t == '17':\n",
    "        ty = r.min_y + 26\n",
    "    if t == '18':\n",
    "        ty = r.min_y + 10\n",
    "    if t == '19':\n",
    "        ty = r.min_y + 10\n",
    "    if t == '20':\n",
    "        ty = r.min_y + 1\n",
    "        tx = r.min_x - 20\n",
    "\n",
    "    ax.text(tx, ty, t, transform=ccrs.PlateCarree(), \n",
    "            ha='left', va='bottom', fontsize=fs)\n",
    "\n",
    "\n",
    "ax.legend(handles=handles, loc='center left', fontsize=fs);\n",
    "plt.tight_layout();\n",
    "\n",
    "plt.savefig(tmp_dir + '/global_map_wrgi6.png', dpi=150, bbox_inches='tight')"
   ]
  },
  {
   "cell_type": "code",
   "execution_count": null,
   "id": "ff3412ec-df11-4241-889b-8261f8c0bb2f",
   "metadata": {},
   "outputs": [],
   "source": [
    "tmp_dir, user_guide_dir"
   ]
  },
  {
   "cell_type": "code",
   "execution_count": null,
   "id": "61db155c-8e05-4dd5-bb37-69f35e2f0f6a",
   "metadata": {},
   "outputs": [],
   "source": [
    "! convert ../../../../rgi7_data/tmp_plots/global_map_wrgi6.png -quality 85 ../../../../rgi_user_guide/docs/img/global_stats/global_map_wrgi6.jpeg"
   ]
  },
  {
   "cell_type": "code",
   "execution_count": null,
   "id": "cb682273-2b61-4b1d-a228-28c2ac231778",
   "metadata": {},
   "outputs": [],
   "source": [
    "! convert ../../../../rgi7_data/tmp_plots/global_map_wrgi6.png -resize 900 -quality 75  ../../../../rgi_user_guide/docs/img/global_stats/global_map_wrgi6_small.jpeg"
   ]
  },
  {
   "cell_type": "code",
   "execution_count": null,
   "id": "97438007-4b9f-41ba-80bf-9ef123095adf",
   "metadata": {},
   "outputs": [],
   "source": [
    "# with sns.plotting_context('poster'), sns.axes_style('whitegrid'):\n",
    "\n",
    "fac = 1.3\n",
    "f = plt.figure(figsize=(12*fac, 7*fac))\n",
    "ax = plt.axes(projection=ccrs.Robinson())\n",
    "ax.imshow(imread(bck_img), origin='upper', transform=ccrs.PlateCarree(), \n",
    "          extent=[-180, 180, -90, 90])\n",
    "handles = []\n",
    "\n",
    "df_reg_o1.to_crs(ccrs.Robinson()).plot(ax=ax, edgecolor='k', facecolor='w', alpha=0.3);\n",
    "\n",
    "s = rgi7\n",
    "ax.scatter(s.cenlon.values, s.cenlat.values, color='C3', s=1, transform=ccrs.PlateCarree());\n",
    "handles.append(mpatches.Patch(facecolor='C3', label=f\"RGI 7.0 glacier outlines\"))\n",
    "\n",
    "df_reg_o1.plot(ax=ax, transform=ccrs.PlateCarree(), edgecolor='k', facecolor='none', linewidth=1);\n",
    "\n",
    "did10 = False\n",
    "for i, r in df_reg_o1.iterrows():\n",
    "    tx = r.min_x + 4\n",
    "    ty = r.min_y \n",
    "    fs = 16\n",
    "    t = r.o1region\n",
    "\n",
    "    if t == '01':\n",
    "        tx = r.min_x + 35\n",
    "    if t == '03':\n",
    "        tx = r.min_x + 15\n",
    "        ty = r.min_y + 3\n",
    "    if t == '05':\n",
    "        tx = r.min_x + 40\n",
    "    if t == '06':\n",
    "        ty = r.min_y - 5.5\n",
    "    if t == '08':\n",
    "        tx = r.min_x + 20\n",
    "    if t == '09':\n",
    "        tx = r.min_x \n",
    "    if t == '11':\n",
    "        tx = r.min_x + 24\n",
    "    if t == '10':\n",
    "        tx = r.min_x + 1\n",
    "        ty = r.min_y + 15\n",
    "        if not did10:\n",
    "            did10 = True\n",
    "            continue\n",
    "    if t == '13':\n",
    "        ty = r.min_y + 12\n",
    "        tx = r.min_x + 30\n",
    "    if t in ['14', '12', '16', '17']:\n",
    "        tx = r.min_x \n",
    "    if t == '15':\n",
    "        tx = r.min_x + 30\n",
    "    if t == '17':\n",
    "        ty = r.min_y + 26\n",
    "    if t == '18':\n",
    "        ty = r.min_y + 10\n",
    "    if t == '19':\n",
    "        ty = r.min_y + 10\n",
    "    if t == '20':\n",
    "        ty = r.min_y + 1\n",
    "        tx = r.min_x - 20\n",
    "\n",
    "    ax.text(tx, ty, t, transform=ccrs.PlateCarree(), \n",
    "            ha='left', va='bottom', fontsize=fs)\n",
    "\n",
    "\n",
    "ax.legend(handles=handles, loc='center left', fontsize=fs);\n",
    "plt.tight_layout();\n",
    "\n",
    "plt.savefig(tmp_dir + '/global_map.png', dpi=150, bbox_inches='tight')"
   ]
  },
  {
   "cell_type": "code",
   "execution_count": null,
   "id": "124e995d-2fdd-4b10-a95b-477ba91b4a9d",
   "metadata": {},
   "outputs": [],
   "source": [
    "! convert ../../../../rgi7_data/tmp_plots/global_map.png -quality 85 ../../../../rgi_user_guide/docs/img/global_stats/global_map.jpeg"
   ]
  },
  {
   "cell_type": "code",
   "execution_count": null,
   "id": "40d20d79-2966-4a61-ade3-c97cd0ff2523",
   "metadata": {},
   "outputs": [],
   "source": [
    "! convert ../../../../rgi7_data/tmp_plots/global_map.png -resize 900 -quality 75  ../../../../rgi_user_guide/docs/img/global_stats/global_map_small.jpeg"
   ]
  },
  {
   "cell_type": "code",
   "execution_count": null,
   "id": "505fadf1-e6c4-4e93-9ae5-767cd63b8200",
   "metadata": {},
   "outputs": [],
   "source": [
    "fac = 1.3\n",
    "f = plt.figure(figsize=(12*fac, 7*fac))\n",
    "ax = plt.axes(projection=ccrs.Robinson())\n",
    "ax.imshow(imread(bck_img), origin='upper', transform=ccrs.PlateCarree(), \n",
    "          extent=[-180, 180, -90, 90])\n",
    "handles = []\n",
    "\n",
    "df_reg_o1.to_crs(ccrs.Robinson()).plot(ax=ax, edgecolor='k', facecolor='w', alpha=0.3);\n",
    "\n",
    "for cat, col, name in zip([0, 1, 2, 3], ['royalblue', 'C2', 'C1', 'C3'], ['No evidence', 'Possible', 'Probable', 'Observed']):\n",
    "    s = rgi7.loc[rgi7.surge_type == cat]\n",
    "    if name == 'No evidence':\n",
    "        ax.scatter(s.cenlon.values, s.cenlat.values, fc=col, ec='None', s=1, transform=ccrs.PlateCarree(), linewidth=0);\n",
    "    else:\n",
    "        ax.scatter(s.cenlon.values, s.cenlat.values, fc=col, ec='k', s=15, transform=ccrs.PlateCarree(), linewidth=0.5);\n",
    "        \n",
    "    handles.append(mpatches.Patch(facecolor=col, label=name))\n",
    "\n",
    "\n",
    "df_reg_o1.plot(ax=ax, transform=ccrs.PlateCarree(), edgecolor='k', facecolor='none', linewidth=1);\n",
    "\n",
    "did10 = False\n",
    "for i, r in df_reg_o1.iterrows():\n",
    "    tx = r.min_x + 4\n",
    "    ty = r.min_y \n",
    "    fs = 16\n",
    "    t = r.o1region\n",
    "\n",
    "    if t == '01':\n",
    "        tx = r.min_x + 35\n",
    "    if t == '03':\n",
    "        tx = r.min_x + 15\n",
    "        ty = r.min_y + 3\n",
    "    if t == '05':\n",
    "        tx = r.min_x + 40\n",
    "    if t == '06':\n",
    "        ty = r.min_y - 5.5\n",
    "    if t == '08':\n",
    "        tx = r.min_x + 20\n",
    "    if t == '09':\n",
    "        tx = r.min_x \n",
    "    if t == '11':\n",
    "        tx = r.min_x + 24\n",
    "    if t == '10':\n",
    "        tx = r.min_x + 1\n",
    "        ty = r.min_y + 15\n",
    "        if not did10:\n",
    "            did10 = True\n",
    "            continue\n",
    "    if t == '13':\n",
    "        ty = r.min_y + 12\n",
    "        tx = r.min_x + 30\n",
    "    if t in ['14', '12', '16', '17']:\n",
    "        tx = r.min_x \n",
    "    if t == '15':\n",
    "        tx = r.min_x + 30\n",
    "    if t == '17':\n",
    "        ty = r.min_y + 26\n",
    "    if t == '18':\n",
    "        ty = r.min_y + 10\n",
    "    if t == '19':\n",
    "        ty = r.min_y + 10\n",
    "    if t == '20':\n",
    "        ty = r.min_y + 1\n",
    "        tx = r.min_x - 20\n",
    "\n",
    "    ax.text(tx, ty, t, transform=ccrs.PlateCarree(), \n",
    "            ha='left', va='bottom', fontsize=fs)\n",
    "\n",
    "\n",
    "legend = ax.legend(handles=handles, loc='center left', fontsize=fs, title='Surge type');\n",
    "plt.setp(legend.get_title(),fontsize=fs+2)\n",
    "\n",
    "plt.tight_layout();\n",
    "\n",
    "plt.savefig(tmp_dir + '/global_map_surge.png', dpi=150, bbox_inches='tight')"
   ]
  },
  {
   "cell_type": "code",
   "execution_count": null,
   "id": "e5561095-a5b9-46e3-9374-7f6842203dfc",
   "metadata": {},
   "outputs": [],
   "source": [
    "! convert ../../../../rgi7_data/tmp_plots/global_map_surge.png -quality 85 ../../../../rgi_user_guide/docs/img/global_stats/global_map_surge.jpeg"
   ]
  },
  {
   "cell_type": "code",
   "execution_count": null,
   "id": "7e66dfa7-7bba-45bf-8b23-9e0e412d7929",
   "metadata": {},
   "outputs": [],
   "source": [
    "! convert ../../../../rgi7_data/tmp_plots/global_map_surge.png -resize 900 -quality 75  ../../../../rgi_user_guide/docs/img/global_stats/global_map_surge_small.jpeg"
   ]
  },
  {
   "cell_type": "code",
   "execution_count": null,
   "id": "5836e797-aa9f-4bc9-b957-b08096c5d2a9",
   "metadata": {},
   "outputs": [],
   "source": []
  },
  {
   "cell_type": "code",
   "execution_count": null,
   "id": "f1966c21-268f-482f-b493-36065bf2aac1",
   "metadata": {},
   "outputs": [],
   "source": [
    "fac = 1.3\n",
    "f = plt.figure(figsize=(12*fac, 7*fac))\n",
    "ax = plt.axes(projection=ccrs.Robinson())\n",
    "ax.imshow(imread(bck_img), origin='upper', transform=ccrs.PlateCarree(), \n",
    "          extent=[-180, 180, -90, 90])\n",
    "handles = []\n",
    "\n",
    "df_reg_o1.to_crs(ccrs.Robinson()).plot(ax=ax, edgecolor='k', facecolor='w', alpha=0.3);\n",
    "\n",
    "for cat, col, name in zip([9, 1], ['royalblue', 'C3'], ['Not assigned', 'Marine-terminating']):\n",
    "    s = rgi7.loc[rgi7.term_type == cat]\n",
    "    if name == 'Not assigned':\n",
    "        ax.scatter(s.cenlon.values, s.cenlat.values, fc=col, ec='None', s=1, transform=ccrs.PlateCarree(), linewidth=0);\n",
    "    else:\n",
    "        ax.scatter(s.cenlon.values, s.cenlat.values, fc=col, ec='k', s=15, transform=ccrs.PlateCarree(), linewidth=0.5);\n",
    "        \n",
    "    handles.append(mpatches.Patch(facecolor=col, label=name))\n",
    "\n",
    "\n",
    "df_reg_o1.plot(ax=ax, transform=ccrs.PlateCarree(), edgecolor='k', facecolor='none', linewidth=1);\n",
    "\n",
    "did10 = False\n",
    "for i, r in df_reg_o1.iterrows():\n",
    "    tx = r.min_x + 4\n",
    "    ty = r.min_y \n",
    "    fs = 16\n",
    "    t = r.o1region\n",
    "\n",
    "    if t == '01':\n",
    "        tx = r.min_x + 35\n",
    "    if t == '03':\n",
    "        tx = r.min_x + 15\n",
    "        ty = r.min_y + 3\n",
    "    if t == '05':\n",
    "        tx = r.min_x + 40\n",
    "    if t == '06':\n",
    "        ty = r.min_y - 5.5\n",
    "    if t == '08':\n",
    "        tx = r.min_x + 20\n",
    "    if t == '09':\n",
    "        tx = r.min_x \n",
    "    if t == '11':\n",
    "        tx = r.min_x + 24\n",
    "    if t == '10':\n",
    "        tx = r.min_x + 1\n",
    "        ty = r.min_y + 15\n",
    "        if not did10:\n",
    "            did10 = True\n",
    "            continue\n",
    "    if t == '13':\n",
    "        ty = r.min_y + 12\n",
    "        tx = r.min_x + 30\n",
    "    if t in ['14', '12', '16', '17']:\n",
    "        tx = r.min_x \n",
    "    if t == '15':\n",
    "        tx = r.min_x + 30\n",
    "    if t == '17':\n",
    "        ty = r.min_y + 26\n",
    "    if t == '18':\n",
    "        ty = r.min_y + 10\n",
    "    if t == '19':\n",
    "        ty = r.min_y + 10\n",
    "    if t == '20':\n",
    "        ty = r.min_y + 1\n",
    "        tx = r.min_x - 20\n",
    "\n",
    "    ax.text(tx, ty, t, transform=ccrs.PlateCarree(), \n",
    "            ha='left', va='bottom', fontsize=fs)\n",
    "\n",
    "\n",
    "legend = ax.legend(handles=handles, loc='center left', fontsize=fs, title='Terminus type');\n",
    "plt.setp(legend.get_title(),fontsize=fs+2)\n",
    "\n",
    "plt.tight_layout();\n",
    "\n",
    "plt.savefig(tmp_dir + '/global_map_term_type.png', dpi=150, bbox_inches='tight')"
   ]
  },
  {
   "cell_type": "code",
   "execution_count": null,
   "id": "8f4444f0-0926-44fe-9368-b66f717231ea",
   "metadata": {},
   "outputs": [],
   "source": [
    "! convert ../../../../rgi7_data/tmp_plots/global_map_term_type.png -quality 85 ../../../../rgi_user_guide/docs/img/global_stats/global_map_term_type.jpeg"
   ]
  },
  {
   "cell_type": "code",
   "execution_count": null,
   "id": "bc2e1b92-b691-420a-84ed-c046db72fcf3",
   "metadata": {},
   "outputs": [],
   "source": [
    "! convert ../../../../rgi7_data/tmp_plots/global_map_term_type.png -resize 900 -quality 75  ../../../../rgi_user_guide/docs/img/global_stats/global_map_term_type_small.jpeg"
   ]
  },
  {
   "cell_type": "code",
   "execution_count": null,
   "id": "8d00e200-7b34-4206-9918-99ca8f17b9c5",
   "metadata": {},
   "outputs": [],
   "source": []
  },
  {
   "cell_type": "code",
   "execution_count": null,
   "id": "227af59c-5a88-4744-ad55-df5216204ac4",
   "metadata": {},
   "outputs": [],
   "source": []
  },
  {
   "cell_type": "code",
   "execution_count": null,
   "id": "4360c633-2cc7-405a-8f2c-7af61c09f4e8",
   "metadata": {},
   "outputs": [],
   "source": [
    "fac = 1.3\n",
    "f = plt.figure(figsize=(7*fac, 7*fac))\n",
    "ax = plt.axes(projection=ccrs.Orthographic(-20, 45))\n",
    "\n",
    "ax.imshow(imread(bck_img), origin='upper', transform=ccrs.PlateCarree(), \n",
    "          extent=[-180, 180, -90, 90]);\n",
    "\n",
    "s = rgi7\n",
    "handles = []\n",
    "ax.scatter(s.cenlon.values, s.cenlat.values, color='C3', s=0.1, transform=ccrs.PlateCarree());\n",
    "handles.append(mpatches.Patch(facecolor='C3', label=f\"Glacier outlines\"))\n",
    "ax.legend(handles=handles, loc='center left', fontsize=fs);\n",
    "\n",
    "plt.tight_layout();"
   ]
  },
  {
   "cell_type": "code",
   "execution_count": null,
   "id": "fd9cb29d-02c1-442c-8a20-5b1417c107b6",
   "metadata": {},
   "outputs": [],
   "source": []
  }
 ],
 "metadata": {
  "kernelspec": {
   "display_name": "Python 3 (ipykernel)",
   "language": "python",
   "name": "python3"
  },
  "language_info": {
   "codemirror_mode": {
    "name": "ipython",
    "version": 3
   },
   "file_extension": ".py",
   "mimetype": "text/x-python",
   "name": "python",
   "nbconvert_exporter": "python",
   "pygments_lexer": "ipython3",
   "version": "3.10.8"
  }
 },
 "nbformat": 4,
 "nbformat_minor": 5
}
