{
 "cells": [
  {
   "cell_type": "code",
   "execution_count": null,
   "id": "883fdaa2-a648-4c74-a5d1-a93606d83d53",
   "metadata": {},
   "outputs": [],
   "source": [
    "import papermill as pm"
   ]
  },
  {
   "cell_type": "code",
   "execution_count": null,
   "id": "cc433446-2107-4df3-a4d2-789b65f9e102",
   "metadata": {},
   "outputs": [],
   "source": [
    "for reg in range(19, 20):\n",
    "    pm.execute_notebook(\n",
    "       'alpha_to_beta_tpl.ipynb',\n",
    "       f'alpha_to_beta_RGI{reg:02d}.ipynb',\n",
    "       parameters=dict(reg=reg),\n",
    "       log_output=True\n",
    "    );"
   ]
  },
  {
   "cell_type": "code",
   "execution_count": null,
   "id": "2bfea39b-e336-4358-9731-dd65ee5ffc6b",
   "metadata": {},
   "outputs": [],
   "source": []
  }
 ],
 "metadata": {
  "kernelspec": {
   "display_name": "Python 3 (ipykernel)",
   "language": "python",
   "name": "python3"
  },
  "language_info": {
   "codemirror_mode": {
    "name": "ipython",
    "version": 3
   },
   "file_extension": ".py",
   "mimetype": "text/x-python",
   "name": "python",
   "nbconvert_exporter": "python",
   "pygments_lexer": "ipython3",
   "version": "3.9.13"
  }
 },
 "nbformat": 4,
 "nbformat_minor": 5
}
