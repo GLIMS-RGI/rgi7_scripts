{
 "cells": [
  {
   "cell_type": "markdown",
   "id": "valid-miracle",
   "metadata": {},
   "source": [
    "# Overview stats on attrs"
   ]
  },
  {
   "cell_type": "markdown",
   "id": "b725109e-366d-4929-9842-894d0c1de43f",
   "metadata": {},
   "source": [
    "This is a bit messy, but there is a bunch of code producing maps and stats for the technical report."
   ]
  },
  {
   "cell_type": "code",
   "execution_count": null,
   "id": "durable-article",
   "metadata": {},
   "outputs": [],
   "source": [
    "import pandas as pd\n",
    "import geopandas as gpd\n",
    "import subprocess\n",
    "import matplotlib.pyplot as plt\n",
    "import matplotlib.patches as mpatches\n",
    "import seaborn as sns\n",
    "import numpy as np\n",
    "import sys, os\n",
    "sys.path.append(os.getcwd() + '/..')\n",
    "from utils import mkdir, submission_summary, needs_size_filter, size_filter, plot_map, plot_date_hist, maps, open_tar_shapefile, open_zip_shapefile\n",
    "import os\n",
    "import matplotlib.patches as mpatches\n",
    "from oggm import utils\n",
    "import csv\n",
    "import seaborn as sns\n",
    "import cartopy\n",
    "import cartopy.crs as ccrs\n",
    "from matplotlib.image import imread"
   ]
  },
  {
   "cell_type": "code",
   "execution_count": null,
   "id": "composed-detail",
   "metadata": {},
   "outputs": [],
   "source": [
    "# go down from rgi7_scripts/workflow\n",
    "data_dir = '../../../rgi7_data/'\n",
    "\n",
    "l4_dir = os.path.join(data_dir, 'l5_rgi7b1')"
   ]
  },
  {
   "cell_type": "code",
   "execution_count": null,
   "id": "6801e0d9-f2b3-4093-8039-70274bf3218c",
   "metadata": {},
   "outputs": [],
   "source": [
    "reg_file = open_zip_shapefile(os.path.join(data_dir, '00_rgi70_regions/00_rgi70_O1Regions.zip'))\n",
    "sreg_file = open_zip_shapefile(os.path.join(data_dir, '00_rgi70_regions/00_rgi70_O2Regions.zip'))"
   ]
  },
  {
   "cell_type": "code",
   "execution_count": null,
   "id": "74050608-cdcc-4e35-956b-bca71763a246",
   "metadata": {},
   "outputs": [],
   "source": [
    "rgi = []\n",
    "for reg in range(1, 20):\n",
    "    code = reg_file.loc[reg_file.o1region == f'{reg:02d}'].iloc[0].long_code\n",
    "    shp = pd.read_csv(os.path.join(l4_dir, f'RGI2000-v7.0-G-{code}', f'RGI2000-v7.0-G-{code}-attributes.csv'), index_col=0)\n",
    "    rgi.append(shp)\n",
    "rgi7 = pd.concat(rgi)"
   ]
  },
  {
   "cell_type": "code",
   "execution_count": null,
   "id": "fd9cb29d-02c1-442c-8a20-5b1417c107b6",
   "metadata": {},
   "outputs": [],
   "source": [
    "rgi7.groupby('dem_source')[['area_km2']].count()"
   ]
  },
  {
   "cell_type": "code",
   "execution_count": null,
   "id": "dd629af1-5c30-478b-92e9-b92f79e7d176",
   "metadata": {},
   "outputs": [],
   "source": [
    "rgi7.groupby('dem_source')[['area_km2']].count().sum() - 268749 - 5654"
   ]
  },
  {
   "cell_type": "code",
   "execution_count": null,
   "id": "5e9589b5-9d53-44db-ae55-973295fed766",
   "metadata": {},
   "outputs": [],
   "source": []
  }
 ],
 "metadata": {
  "kernelspec": {
   "display_name": "Python 3 (ipykernel)",
   "language": "python",
   "name": "python3"
  },
  "language_info": {
   "codemirror_mode": {
    "name": "ipython",
    "version": 3
   },
   "file_extension": ".py",
   "mimetype": "text/x-python",
   "name": "python",
   "nbconvert_exporter": "python",
   "pygments_lexer": "ipython3",
   "version": "3.10.8"
  }
 },
 "nbformat": 4,
 "nbformat_minor": 5
}
