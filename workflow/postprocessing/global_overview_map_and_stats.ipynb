{
 "cells": [
  {
   "cell_type": "markdown",
   "id": "valid-miracle",
   "metadata": {},
   "source": [
    "# Overview map and stats"
   ]
  },
  {
   "cell_type": "markdown",
   "id": "b725109e-366d-4929-9842-894d0c1de43f",
   "metadata": {},
   "source": [
    "This is a bit messy, but there is a bunch of code producing maps and stats for the technical report."
   ]
  },
  {
   "cell_type": "code",
   "execution_count": null,
   "id": "durable-article",
   "metadata": {},
   "outputs": [],
   "source": [
    "import pandas as pd\n",
    "import geopandas as gpd\n",
    "import subprocess\n",
    "import matplotlib.pyplot as plt\n",
    "import matplotlib.patches as mpatches\n",
    "import seaborn as sns\n",
    "import numpy as np\n",
    "import sys, os\n",
    "sys.path.append(os.getcwd() + '/..')\n",
    "from utils import mkdir, submission_summary, needs_size_filter, size_filter, plot_map, plot_date_hist, maps, open_tar_shapefile, open_zip_shapefile\n",
    "import os\n",
    "import matplotlib.patches as mpatches\n",
    "from oggm import utils\n",
    "import csv\n",
    "import seaborn as sns\n",
    "import cartopy\n",
    "import cartopy.crs as ccrs\n",
    "from matplotlib.image import imread"
   ]
  },
  {
   "cell_type": "code",
   "execution_count": null,
   "id": "composed-detail",
   "metadata": {},
   "outputs": [],
   "source": [
    "# go down from rgi7_scripts/workflow\n",
    "data_dir = '../../../rgi7_data/'\n",
    "\n",
    "l4_dir = os.path.join(data_dir, 'l4_rgi7b0_tar')"
   ]
  },
  {
   "cell_type": "code",
   "execution_count": null,
   "id": "c718cbe2-8a34-46e0-b280-970819915e4e",
   "metadata": {},
   "outputs": [],
   "source": [
    "rgi = []\n",
    "for reg in range(1, 20):\n",
    "    shp = gpd.read_file(utils.get_rgi_region_file(f'{reg:02d}', version='60'))\n",
    "    shp['area'] = shp.to_crs({'proj':'cea'}).area\n",
    "    shp['O1Region'] = f'{reg:02d}'\n",
    "    rgi.append(shp)\n",
    "rgi6 = pd.concat(rgi)\n",
    "rgi6 = rgi6.loc[rgi6['Connect'] != 2]\n",
    "rgi6['area'] = rgi6['area'] * 1e-6"
   ]
  },
  {
   "cell_type": "code",
   "execution_count": null,
   "id": "f0ae12a5-6347-4e0b-8c2f-8d1b7e99a15e",
   "metadata": {},
   "outputs": [],
   "source": [
    "reg_file = open_zip_shapefile(os.path.join(data_dir, '00_rgi70_regions/00_rgi70_O1Regions.zip'))\n",
    "sreg_file = open_zip_shapefile(os.path.join(data_dir, '00_rgi70_regions/00_rgi70_O2Regions.zip'))"
   ]
  },
  {
   "cell_type": "code",
   "execution_count": null,
   "id": "d8117b91-53c1-415d-83d9-13eb24635ab5",
   "metadata": {},
   "outputs": [],
   "source": [
    "for n, s in zip(reg_file.o1region, reg_file.full_name):\n",
    "    print(f'{n} {s}')"
   ]
  },
  {
   "cell_type": "code",
   "execution_count": null,
   "id": "74050608-cdcc-4e35-956b-bca71763a246",
   "metadata": {},
   "outputs": [],
   "source": [
    "rgi = []\n",
    "for reg in range(1, 20):\n",
    "    shp = open_tar_shapefile(os.path.join(l4_dir, 'RGI2000-v7.0-G-' + reg_file.loc[reg_file.o1region == f'{reg:02d}'].iloc[0].long_code + '.tar.gz'))\n",
    "    rgi.append(shp)\n",
    "rgi7 = pd.concat(rgi)"
   ]
  },
  {
   "cell_type": "markdown",
   "id": "324888a1-1c99-40a0-aa08-dca177808dec",
   "metadata": {},
   "source": [
    "## Not valid"
   ]
  },
  {
   "cell_type": "code",
   "execution_count": null,
   "id": "fce68880-db1e-4cdc-9625-7635691b296d",
   "metadata": {},
   "outputs": [],
   "source": [
    "not_valid6 = ~ rgi6.is_valid\n",
    "not_valid7 = ~ rgi7.is_valid"
   ]
  },
  {
   "cell_type": "code",
   "execution_count": null,
   "id": "19916213-6752-4b8e-b333-309ff6c26655",
   "metadata": {},
   "outputs": [],
   "source": [
    "not_valid6.sum(), not_valid7.sum()"
   ]
  },
  {
   "cell_type": "code",
   "execution_count": null,
   "id": "1243ebd1-e426-415d-a8f0-6f23ac826ad2",
   "metadata": {},
   "outputs": [],
   "source": [
    "not_valid6.sum() / len(rgi6)"
   ]
  },
  {
   "cell_type": "code",
   "execution_count": null,
   "id": "2935c09e-e939-4ae1-bb33-47d428b10ff8",
   "metadata": {},
   "outputs": [],
   "source": [
    "rgi6['Area'].sum(), rgi6['area'].sum(), rgi7['area_km2'].sum()"
   ]
  },
  {
   "cell_type": "markdown",
   "id": "51187ee7-78e2-4916-87c0-4ff9b2e678b9",
   "metadata": {},
   "source": [
    "## RGI6 RGI7 table for report "
   ]
  },
  {
   "cell_type": "code",
   "execution_count": null,
   "id": "1bc8578f-edce-4b7f-881a-9100eb14342f",
   "metadata": {},
   "outputs": [],
   "source": [
    "df = rgi6.groupby('O1Region')[['area']].sum()\n",
    "df.columns = ['Area RGI6']"
   ]
  },
  {
   "cell_type": "code",
   "execution_count": null,
   "id": "9801403d-ebce-488a-86da-26d1bb06d794",
   "metadata": {
    "tags": []
   },
   "outputs": [],
   "source": [
    "df['Area RGI7'] = rgi7.groupby('o1region')[['area_km2']].sum()"
   ]
  },
  {
   "cell_type": "code",
   "execution_count": null,
   "id": "fc8ae35e-8ea1-44db-88d5-31c9857fb036",
   "metadata": {},
   "outputs": [],
   "source": [
    "df['Diff A (%)'] = (df['Area RGI7'] / df['Area RGI6'] - 1) * 100"
   ]
  },
  {
   "cell_type": "code",
   "execution_count": null,
   "id": "5f59cec8-4735-4991-ab24-e695bead66ba",
   "metadata": {},
   "outputs": [],
   "source": [
    "df['N RGI6'] = rgi6.groupby('O1Region').count()['area']\n",
    "df['N RGI7'] = rgi7.groupby('o1region').count()['area_km2']\n",
    "\n",
    "df['Diff N (%)'] = (df['N RGI7'] / df['N RGI6'] - 1) * 100"
   ]
  },
  {
   "cell_type": "code",
   "execution_count": null,
   "id": "4c5e6526-85e6-40de-b1ca-93f362a539fc",
   "metadata": {},
   "outputs": [],
   "source": [
    "df.loc['20'] = [0] * 6"
   ]
  },
  {
   "cell_type": "code",
   "execution_count": null,
   "id": "ff4f6f97-0794-49ef-b607-e593cae1c780",
   "metadata": {},
   "outputs": [],
   "source": [
    "ss = df.sum()\n",
    "ss.name = 'Global'\n",
    "df = pd.concat([df, ss.to_frame().T])\n",
    "\n",
    "df['Diff A (%)'] = (df['Area RGI7'] / df['Area RGI6'] - 1) * 100\n",
    "df['Diff N (%)'] = (df['N RGI7'] / df['N RGI6'] - 1) * 100"
   ]
  },
  {
   "cell_type": "code",
   "execution_count": null,
   "id": "42ca7ce2-37d5-434a-b925-d93da35601ae",
   "metadata": {},
   "outputs": [],
   "source": [
    "df['Area RGI6'] = df['Area RGI6'].astype(float).round(0).astype(int) \n",
    "df['Area RGI7'] = df['Area RGI7'].astype(float).round(0).astype(int) \n",
    "df['N RGI6'] = df['N RGI6'].astype(int) \n",
    "df['N RGI7'] = df['N RGI7'].astype(int) \n",
    "\n",
    "df['Diff A (%)'] = df['Diff A (%)'].round(1).replace(-0, 0).replace(np.NaN, 0)\n",
    "df['Diff N (%)'] = df['Diff N (%)'].round(1).replace(-0, 0).replace(np.NaN, 0)"
   ]
  },
  {
   "cell_type": "code",
   "execution_count": null,
   "id": "e9ed3c1d-1fed-490d-9c56-22b66a0eabd0",
   "metadata": {},
   "outputs": [],
   "source": [
    "print(f\"New in N: {len(rgi7)-len(rgi6)}\")"
   ]
  },
  {
   "cell_type": "code",
   "execution_count": null,
   "id": "2c5b1a85-b9da-4739-9690-8ca4f0b78b54",
   "metadata": {},
   "outputs": [],
   "source": [
    "df"
   ]
  },
  {
   "cell_type": "code",
   "execution_count": null,
   "id": "28036af0-ab83-41c7-8eef-9549f720ce30",
   "metadata": {},
   "outputs": [],
   "source": [
    "s1 = rgi7.loc[rgi7.is_rgi6 == 1]\n",
    "print(f\"Same as RGI6: N={len(s1)}, A={int(s1['area_km2'].sum())} km²\")\n",
    "\n",
    "s2 = rgi7.loc[rgi7.is_rgi6 == 0]\n",
    "print(f\"New  in RGI7: N={len(s2)}, A={int(s2['area_km2'].sum())} km²\")\n",
    "\n",
    "print(f\"New in % area: {s2['area_km2'].sum() / rgi7['area_km2'].sum()}\")\n",
    "\n",
    "print(f\"New in % number: {len(s2) / len(rgi7)}\")"
   ]
  },
  {
   "cell_type": "code",
   "execution_count": null,
   "id": "82cabaa2-88b9-4302-8380-858d06542300",
   "metadata": {},
   "outputs": [],
   "source": [
    "df.index.name = 'Region'"
   ]
  },
  {
   "cell_type": "code",
   "execution_count": null,
   "id": "93c6db57-1e32-4751-bb8a-d242e2f22735",
   "metadata": {},
   "outputs": [],
   "source": [
    "df_formd = df.copy()\n",
    "df_formd.index = [f'[](rgi{i}.md)' for i in df_formd.index[:-1]] + ['Global']\n",
    "df_formd.columns = ['Area<br>RGI 6.0 (km²)', 'Area<br>RGI 7.0 (km²)', 'Area<br>Diff. (%)', 'Count<br>RGI 6.0', 'Count<br>RGI 7.0', 'Count<br>Diff. (%)']\n",
    "print(df_formd.to_markdown(floatfmt=(\".0f\",\".0f\",\".0f\",\".1f\",\".0f\",\".0f\",\".1f\")).replace('Global    ', '**Global**'))"
   ]
  },
  {
   "cell_type": "code",
   "execution_count": null,
   "id": "de239a60-b7fd-4a55-8134-a7312b90fc50",
   "metadata": {},
   "outputs": [],
   "source": [
    "df['Full name'] = list(reg_file.full_name.unique()) + ['']\n",
    "df['Code'] = ['`' + r + '`' for r in reg_file.long_code.unique()] + ['']"
   ]
  },
  {
   "cell_type": "code",
   "execution_count": null,
   "id": "ac762558-054b-42ea-9381-7fe8e6729693",
   "metadata": {},
   "outputs": [],
   "source": [
    "df"
   ]
  },
  {
   "cell_type": "code",
   "execution_count": null,
   "id": "e6de930d-44d6-4c29-821e-8d5b950b3f12",
   "metadata": {},
   "outputs": [],
   "source": [
    "for_csv = df[['Full name', 'Area RGI6', 'Area RGI7', 'Diff A (%)', 'N RGI6', 'N RGI7', 'Diff N (%)']].copy()\n",
    "for_csv.columns = ['Full name', 'Area RGI 6.0', 'Area RGI 7.0', 'Diff. Area (%)', 'Count RGI 6.0', 'Count RGI 7.0', 'Diff. Count (%)']\n",
    "for_csv.reset_index().to_csv('RGI2000-v7.0-G-comparison-rgi6.csv', index=False, quoting=csv.QUOTE_NONNUMERIC)"
   ]
  },
  {
   "cell_type": "markdown",
   "id": "dab785f8-4cb1-41bd-8c07-1be70f337d98",
   "metadata": {},
   "source": [
    "## Tables Appendix (no RGI6) "
   ]
  },
  {
   "cell_type": "markdown",
   "id": "3ecc29f7-3fa1-417f-a977-270a54eeee33",
   "metadata": {},
   "source": [
    "### O1 "
   ]
  },
  {
   "cell_type": "code",
   "execution_count": null,
   "id": "03917dd6-7af3-49b4-8e62-cc059e2bb5a4",
   "metadata": {},
   "outputs": [],
   "source": [
    "for_csv = df[['Full name', 'Code', 'N RGI7', 'Area RGI7']].copy()\n",
    "for_csv['Code'] = [s.replace(\"`\", \"\") for s in for_csv['Code']]"
   ]
  },
  {
   "cell_type": "code",
   "execution_count": null,
   "id": "2cf6dc2b-7f1b-4fe3-bb38-daf80fe9c702",
   "metadata": {},
   "outputs": [],
   "source": [
    "for_csv.columns = [['full_name', 'long_code', 'count', 'area_km2']]\n",
    "for_csv.index.name = 'o1region'\n",
    "for_csv.reset_index().to_csv('RGI2000-v7.0-G-o1region-summary.csv', index=False, quoting=csv.QUOTE_NONNUMERIC)"
   ]
  },
  {
   "cell_type": "code",
   "execution_count": null,
   "id": "f5b2753f-96bd-44cc-96bc-4dfb2029eacf",
   "metadata": {},
   "outputs": [],
   "source": [
    "for_print = df[['Full name', 'Code', 'N RGI7', 'Area RGI7']]\n",
    "for_print.columns = ['Full name', 'Code', 'Count', 'Area (km²)']\n",
    "print(for_print.to_markdown().replace('Global    ', '**Global**'))"
   ]
  },
  {
   "cell_type": "markdown",
   "id": "825efb37-62a9-49a3-80ef-32fa538686eb",
   "metadata": {},
   "source": [
    "### O2 "
   ]
  },
  {
   "cell_type": "code",
   "execution_count": null,
   "id": "44fcf3b0-b8aa-442f-b8c0-b677933ef835",
   "metadata": {},
   "outputs": [],
   "source": [
    "sreg_file = sreg_file.drop_duplicates('o2region')\n",
    "sreg_file"
   ]
  },
  {
   "cell_type": "code",
   "execution_count": null,
   "id": "4d04002a-85b5-4477-87cb-937f6717ac11",
   "metadata": {},
   "outputs": [],
   "source": [
    "dfsr = sreg_file[['o2region', 'full_name', 'long_code']].copy().set_index('o2region')\n",
    "\n",
    "dfsr.columns = ['Full name', 'Code']\n",
    "\n",
    "dfsr['Count'] = rgi7.groupby('o2region')['cenlon'].count()\n",
    "dfsr['Area (km²)'] = rgi7.groupby('o2region')['area_km2'].sum()\n",
    "\n",
    "ss = dfsr.sum()\n",
    "ss.name = 'Global'\n",
    "dfsr = pd.concat([dfsr, ss.to_frame().T])\n",
    "\n",
    "dfsr.loc['Global', 'Full name'] = ''\n",
    "dfsr.loc['Global', 'Code'] = ''\n",
    "\n",
    "dfsr['Area (km²)']  = dfsr['Area (km²)'].astype(float).round(0).fillna(0).astype(int) \n",
    "dfsr['Count']  = dfsr['Count'].fillna(0).astype(int) \n",
    "\n",
    "dfsr['Code'] = ['`' + r + '`' for r in dfsr.Code]"
   ]
  },
  {
   "cell_type": "code",
   "execution_count": null,
   "id": "e398b2f5-15b3-4d7f-9bb0-cf45c8a29fd9",
   "metadata": {},
   "outputs": [],
   "source": [
    "len(dfsr)"
   ]
  },
  {
   "cell_type": "code",
   "execution_count": null,
   "id": "5dbccc73-4be6-4736-99cc-f13e86e43489",
   "metadata": {},
   "outputs": [],
   "source": [
    "print(dfsr.to_markdown())"
   ]
  },
  {
   "cell_type": "code",
   "execution_count": null,
   "id": "da052c2c-e088-41e4-bf07-b0e27cbe8118",
   "metadata": {},
   "outputs": [],
   "source": [
    "dfsr['Code'] = [s.replace(\"`\", \"\") for s in dfsr['Code']]\n",
    "dfsr.columns = [['full_name', 'long_code', 'count', 'area_km2']]\n",
    "dfsr.index.name = 'o2region'\n",
    "dfsr.reset_index().to_csv('RGI2000-v7.0-G-o2region-summary.csv', index=False, quoting=csv.QUOTE_NONNUMERIC)"
   ]
  },
  {
   "cell_type": "markdown",
   "id": "93399894-f1f9-43cc-a633-ee955ed808f3",
   "metadata": {},
   "source": [
    "## Map "
   ]
  },
  {
   "cell_type": "code",
   "execution_count": null,
   "id": "1c88c98c-6ab0-4280-af09-f248283880d3",
   "metadata": {},
   "outputs": [],
   "source": [
    "import salem\n",
    "df = salem.read_shapefile(os.path.join(data_dir, '00_rgi70_regions', '00_rgi70_O1Regions', '00_rgi70_O1Regions.shp'))"
   ]
  },
  {
   "cell_type": "code",
   "execution_count": null,
   "id": "ef5fc6c4-73c9-4a78-807d-dff7c1bb253b",
   "metadata": {},
   "outputs": [],
   "source": [
    "%config InlineBackend.figure_format = 'retina'\n",
    "%alias convert convert"
   ]
  },
  {
   "cell_type": "code",
   "execution_count": null,
   "id": "049ba65b-5b33-4383-acef-0468b0f30804",
   "metadata": {},
   "outputs": [],
   "source": [
    "# with sns.plotting_context('poster'), sns.axes_style('whitegrid'):\n",
    "\n",
    "fac = 1.3\n",
    "f = plt.figure(figsize=(12*fac, 7*fac))\n",
    "ax = plt.axes(projection=ccrs.Robinson())\n",
    "# ax.stock_img()\n",
    "fname = '/home/users/fmaussion/www_fmaussion/misc/rgi7_data/l0_support_data/images/natural-earth-1_large2048px.png'\n",
    "ax.imshow(imread(fname), origin='upper', transform=ccrs.PlateCarree(), \n",
    "          extent=[-180, 180, -90, 90])\n",
    "\n",
    "handles = []\n",
    "\n",
    "df.to_crs(ccrs.Robinson()).plot(ax=ax, edgecolor='k', facecolor='w', alpha=0.3);\n",
    "\n",
    "s = rgi7.loc[rgi7.is_rgi6 == 1]\n",
    "ax.scatter(s.cenlon.values, s.cenlat.values, color='C0', s=1, transform=ccrs.PlateCarree());\n",
    "handles.append(mpatches.Patch(facecolor='C0', label=f\"Same as RGI 6.0\"))  #  - N={len(s)}, A={int(s['area'].sum()*1e-6)} km²\n",
    "\n",
    "s = rgi7.loc[rgi7.is_rgi6 == 0]\n",
    "ax.scatter(s.cenlon.values, s.cenlat.values, color='C3', s=1, transform=ccrs.PlateCarree());\n",
    "handles.append(mpatches.Patch(facecolor='C3', label=f\"New in RGI 7.0\"))\n",
    "\n",
    "df.plot(ax=ax, transform=ccrs.PlateCarree(), edgecolor='k', facecolor='none', linewidth=1);\n",
    "\n",
    "did10 = False\n",
    "for i, r in df.iterrows():\n",
    "    tx = r.min_x + 4\n",
    "    ty = r.min_y \n",
    "    fs = 16\n",
    "    t = r.o1region\n",
    "\n",
    "    if t == '01':\n",
    "        tx = r.min_x + 35\n",
    "    if t == '03':\n",
    "        tx = r.min_x + 15\n",
    "        ty = r.min_y + 3\n",
    "    if t == '05':\n",
    "        tx = r.min_x + 40\n",
    "    if t == '06':\n",
    "        ty = r.min_y - 5.5\n",
    "    if t == '08':\n",
    "        tx = r.min_x + 20\n",
    "    if t == '09':\n",
    "        tx = r.min_x \n",
    "    if t == '11':\n",
    "        tx = r.min_x + 24\n",
    "    if t == '10':\n",
    "        tx = r.min_x + 1\n",
    "        ty = r.min_y + 15\n",
    "        if not did10:\n",
    "            did10 = True\n",
    "            continue\n",
    "    if t == '13':\n",
    "        ty = r.min_y + 12\n",
    "        tx = r.min_x + 30\n",
    "    if t in ['14', '12', '16', '17']:\n",
    "        tx = r.min_x \n",
    "    if t == '15':\n",
    "        tx = r.min_x + 30\n",
    "    if t == '17':\n",
    "        ty = r.min_y + 26\n",
    "    if t == '18':\n",
    "        ty = r.min_y + 10\n",
    "    if t == '19':\n",
    "        ty = r.min_y + 10\n",
    "    if t == '20':\n",
    "        ty = r.min_y + 1\n",
    "        tx = r.min_x - 20\n",
    "\n",
    "    ax.text(tx, ty, t, transform=ccrs.PlateCarree(), \n",
    "            ha='left', va='bottom', fontsize=fs)\n",
    "\n",
    "\n",
    "ax.legend(handles=handles, loc='center left', fontsize=fs);\n",
    "\n",
    "plt.tight_layout();\n",
    "\n",
    "plt.savefig('../../../rgi7_data/l3_rgi7a_plots/global_map_wrgi6.png', dpi=300, bbox_inches='tight')"
   ]
  },
  {
   "cell_type": "code",
   "execution_count": null,
   "id": "61db155c-8e05-4dd5-bb37-69f35e2f0f6a",
   "metadata": {},
   "outputs": [],
   "source": [
    "convert ../../../rgi7_data/l3_rgi7a_plots/global_map_wrgi6.png -resize 20% ../../../rgi7_data/l3_rgi7a_plots/global_map_wrgi6_small.jpeg"
   ]
  },
  {
   "cell_type": "code",
   "execution_count": null,
   "id": "4509934f-fe79-4d9c-91f2-c2f84d78a4e5",
   "metadata": {},
   "outputs": [],
   "source": []
  },
  {
   "cell_type": "code",
   "execution_count": null,
   "id": "97438007-4b9f-41ba-80bf-9ef123095adf",
   "metadata": {},
   "outputs": [],
   "source": [
    "# with sns.plotting_context('poster'), sns.axes_style('whitegrid'):\n",
    "\n",
    "fac = 1.3\n",
    "f = plt.figure(figsize=(12*fac, 7*fac))\n",
    "ax = plt.axes(projection=ccrs.Robinson())\n",
    "# ax.stock_img()\n",
    "fname = '/home/users/fmaussion/www_fmaussion/misc/rgi7_data/l0_support_data/images/natural-earth-1_large2048px.png'\n",
    "ax.imshow(imread(fname), origin='upper', transform=ccrs.PlateCarree(), \n",
    "          extent=[-180, 180, -90, 90])\n",
    "handles = []\n",
    "\n",
    "df.to_crs(ccrs.Robinson()).plot(ax=ax, edgecolor='k', facecolor='w', alpha=0.3);\n",
    "\n",
    "s = rgi7\n",
    "ax.scatter(s.cenlon.values, s.cenlat.values, color='C3', s=1, transform=ccrs.PlateCarree());\n",
    "handles.append(mpatches.Patch(facecolor='C3', label=f\"RGI 7.0 glacier outlines\"))\n",
    "\n",
    "df.plot(ax=ax, transform=ccrs.PlateCarree(), edgecolor='k', facecolor='none', linewidth=1);\n",
    "\n",
    "did10 = False\n",
    "for i, r in df.iterrows():\n",
    "    tx = r.min_x + 4\n",
    "    ty = r.min_y \n",
    "    fs = 16\n",
    "    t = r.o1region\n",
    "\n",
    "    if t == '01':\n",
    "        tx = r.min_x + 35\n",
    "    if t == '03':\n",
    "        tx = r.min_x + 15\n",
    "        ty = r.min_y + 3\n",
    "    if t == '05':\n",
    "        tx = r.min_x + 40\n",
    "    if t == '06':\n",
    "        ty = r.min_y - 5.5\n",
    "    if t == '08':\n",
    "        tx = r.min_x + 20\n",
    "    if t == '09':\n",
    "        tx = r.min_x \n",
    "    if t == '11':\n",
    "        tx = r.min_x + 24\n",
    "    if t == '10':\n",
    "        tx = r.min_x + 1\n",
    "        ty = r.min_y + 15\n",
    "        if not did10:\n",
    "            did10 = True\n",
    "            continue\n",
    "    if t == '13':\n",
    "        ty = r.min_y + 12\n",
    "        tx = r.min_x + 30\n",
    "    if t in ['14', '12', '16', '17']:\n",
    "        tx = r.min_x \n",
    "    if t == '15':\n",
    "        tx = r.min_x + 30\n",
    "    if t == '17':\n",
    "        ty = r.min_y + 26\n",
    "    if t == '18':\n",
    "        ty = r.min_y + 10\n",
    "    if t == '19':\n",
    "        ty = r.min_y + 10\n",
    "    if t == '20':\n",
    "        ty = r.min_y + 1\n",
    "        tx = r.min_x - 20\n",
    "\n",
    "    ax.text(tx, ty, t, transform=ccrs.PlateCarree(), \n",
    "            ha='left', va='bottom', fontsize=fs)\n",
    "\n",
    "\n",
    "ax.legend(handles=handles, loc='center left', fontsize=fs);\n",
    "\n",
    "plt.tight_layout();\n",
    "\n",
    "plt.savefig('../../../rgi7_data/l3_rgi7a_plots/global_map.png', dpi=300, bbox_inches='tight')\n",
    "\n",
    "# ax.scatter(dfr.lon.values, dfr.lat.values, edgecolor='k', facecolor='tab:cyan', s=24)\n",
    "\n",
    "# df.plot(ax=ax, transform=ccrs.PlateCarree(), edgecolor='k', facecolor='w', alpha=0.3);\n",
    "# df.plot(ax=ax, transform=ccrs.PlateCarree(), edgecolor='k', facecolor='none', linewidth=2);"
   ]
  },
  {
   "cell_type": "code",
   "execution_count": null,
   "id": "99906b09-5571-45c1-8cc6-80dcf9cb7a2b",
   "metadata": {},
   "outputs": [],
   "source": [
    "convert ../../../rgi7_data/l3_rgi7a_plots/global_map.png -resize 20% ../../../rgi7_data/l3_rgi7a_plots/global_map_small.jpeg"
   ]
  },
  {
   "cell_type": "code",
   "execution_count": null,
   "id": "e9c2991d-b004-42c2-a99a-c84604b4151e",
   "metadata": {},
   "outputs": [],
   "source": []
  },
  {
   "cell_type": "code",
   "execution_count": null,
   "id": "a4d979e6-c4fb-4ccb-8e3b-d0aa9223ea15",
   "metadata": {},
   "outputs": [],
   "source": []
  },
  {
   "cell_type": "code",
   "execution_count": null,
   "id": "09f5e569-2ff8-49a5-8288-c9cbc533a915",
   "metadata": {},
   "outputs": [],
   "source": [
    "# with sns.plotting_context('poster'), sns.axes_style('whitegrid'):\n",
    "\n",
    "fac = 1.3\n",
    "f = plt.figure(figsize=(12*fac, 7*fac))\n",
    "ax = plt.axes(projection=ccrs.Robinson())\n",
    "\n",
    "# ax.stock_img()\n",
    "fname = '/home/users/fmaussion/www_fmaussion/misc/rgi7_data/l0_support_data/images/natural-earth-1_large2048px.png'\n",
    "ax.imshow(imread(fname), origin='upper', transform=ccrs.PlateCarree(), \n",
    "          extent=[-180, 180, -90, 90])\n",
    "\n",
    "handles = []\n",
    "\n",
    "df.to_crs(ccrs.Robinson()).plot(ax=ax, edgecolor='k', facecolor='w', alpha=0.3);\n",
    "\n",
    "s = rgi6\n",
    "ax.scatter(s.CenLon.values, s.CenLat.values, color='C3', s=1, transform=ccrs.PlateCarree());\n",
    "handles.append(mpatches.Patch(facecolor='C3', label=f\"RGI 6.0 glacier outlines\"))\n",
    "\n",
    "df.plot(ax=ax, transform=ccrs.PlateCarree(), edgecolor='k', facecolor='none', linewidth=1);\n",
    "\n",
    "did10 = False\n",
    "for i, r in df.iterrows():\n",
    "    tx = r.min_x + 4\n",
    "    ty = r.min_y \n",
    "    fs = 16\n",
    "    t = r.o1region\n",
    "\n",
    "    if t == '01':\n",
    "        tx = r.min_x + 35\n",
    "    if t == '03':\n",
    "        tx = r.min_x + 15\n",
    "        ty = r.min_y + 3\n",
    "    if t == '05':\n",
    "        tx = r.min_x + 40\n",
    "    if t == '06':\n",
    "        ty = r.min_y - 5.5\n",
    "    if t == '08':\n",
    "        tx = r.min_x + 20\n",
    "    if t == '09':\n",
    "        tx = r.min_x \n",
    "    if t == '11':\n",
    "        tx = r.min_x + 24\n",
    "    if t == '10':\n",
    "        tx = r.min_x + 1\n",
    "        ty = r.min_y + 15\n",
    "        if not did10:\n",
    "            did10 = True\n",
    "            continue\n",
    "    if t == '13':\n",
    "        ty = r.min_y + 12\n",
    "        tx = r.min_x + 30\n",
    "    if t in ['14', '12', '16', '17']:\n",
    "        tx = r.min_x \n",
    "    if t == '15':\n",
    "        tx = r.min_x + 30\n",
    "    if t == '17':\n",
    "        ty = r.min_y + 26\n",
    "    if t == '18':\n",
    "        ty = r.min_y + 10\n",
    "    if t == '19':\n",
    "        ty = r.min_y + 10\n",
    "    if t == '20':\n",
    "        ty = r.min_y + 1\n",
    "        tx = r.min_x - 20\n",
    "\n",
    "    ax.text(tx, ty, t, transform=ccrs.PlateCarree(), \n",
    "            ha='left', va='bottom', fontsize=fs)\n",
    "\n",
    "\n",
    "ax.legend(handles=handles, loc='center left', fontsize=fs);\n",
    "\n",
    "plt.tight_layout();\n",
    "\n",
    "plt.savefig('../../../rgi7_data/l3_rgi7a_plots/global_map_rgi6.png', dpi=300, bbox_inches='tight')"
   ]
  },
  {
   "cell_type": "code",
   "execution_count": null,
   "id": "03d1263b-9c4d-440f-bd89-0a2fd9b86db8",
   "metadata": {},
   "outputs": [],
   "source": [
    "convert ../../../rgi7_data/l3_rgi7a_plots/global_map_rgi6.png -resize 20% ../../../rgi7_data/l3_rgi7a_plots/global_map_rgi6_small.jpeg"
   ]
  },
  {
   "cell_type": "code",
   "execution_count": null,
   "id": "61e188cd-5ba3-4759-a038-bdc3e4e7c94b",
   "metadata": {},
   "outputs": [],
   "source": []
  },
  {
   "cell_type": "code",
   "execution_count": null,
   "id": "505fadf1-e6c4-4e93-9ae5-767cd63b8200",
   "metadata": {},
   "outputs": [],
   "source": [
    "# with sns.plotting_context('poster'), sns.axes_style('whitegrid'):\n",
    "\n",
    "fac = 1.3\n",
    "f = plt.figure(figsize=(12*fac, 7*fac))\n",
    "ax = plt.axes(projection=ccrs.Robinson())\n",
    "# ax.stock_img()\n",
    "fname = '/home/users/fmaussion/www_fmaussion/misc/rgi7_data/l0_support_data/images/natural-earth-1_large2048px.png'\n",
    "ax.imshow(imread(fname), origin='upper', transform=ccrs.PlateCarree(), \n",
    "          extent=[-180, 180, -90, 90])\n",
    "handles = []\n",
    "\n",
    "df.to_crs(ccrs.Robinson()).plot(ax=ax, edgecolor='k', facecolor='w', alpha=0.3);\n",
    "\n",
    "for cat, col, name in zip([0, 1, 2, 3], ['royalblue', 'C2', 'C1', 'C3'], ['No evidence', 'Possible', 'Probable', 'Observed']):\n",
    "    s = rgi7.loc[rgi7.surge_type == cat]\n",
    "    if name == 'No evidence':\n",
    "        ax.scatter(s.cenlon.values, s.cenlat.values, fc=col, ec='None', s=1, transform=ccrs.PlateCarree(), linewidth=0);\n",
    "    else:\n",
    "        ax.scatter(s.cenlon.values, s.cenlat.values, fc=col, ec='k', s=15, transform=ccrs.PlateCarree(), linewidth=0.5);\n",
    "        \n",
    "    handles.append(mpatches.Patch(facecolor=col, label=name))\n",
    "\n",
    "\n",
    "df.plot(ax=ax, transform=ccrs.PlateCarree(), edgecolor='k', facecolor='none', linewidth=1);\n",
    "\n",
    "did10 = False\n",
    "for i, r in df.iterrows():\n",
    "    tx = r.min_x + 4\n",
    "    ty = r.min_y \n",
    "    fs = 16\n",
    "    t = r.o1region\n",
    "\n",
    "    if t == '01':\n",
    "        tx = r.min_x + 35\n",
    "    if t == '03':\n",
    "        tx = r.min_x + 15\n",
    "        ty = r.min_y + 3\n",
    "    if t == '05':\n",
    "        tx = r.min_x + 40\n",
    "    if t == '06':\n",
    "        ty = r.min_y - 5.5\n",
    "    if t == '08':\n",
    "        tx = r.min_x + 20\n",
    "    if t == '09':\n",
    "        tx = r.min_x \n",
    "    if t == '11':\n",
    "        tx = r.min_x + 24\n",
    "    if t == '10':\n",
    "        tx = r.min_x + 1\n",
    "        ty = r.min_y + 15\n",
    "        if not did10:\n",
    "            did10 = True\n",
    "            continue\n",
    "    if t == '13':\n",
    "        ty = r.min_y + 12\n",
    "        tx = r.min_x + 30\n",
    "    if t in ['14', '12', '16', '17']:\n",
    "        tx = r.min_x \n",
    "    if t == '15':\n",
    "        tx = r.min_x + 30\n",
    "    if t == '17':\n",
    "        ty = r.min_y + 26\n",
    "    if t == '18':\n",
    "        ty = r.min_y + 10\n",
    "    if t == '19':\n",
    "        ty = r.min_y + 10\n",
    "    if t == '20':\n",
    "        ty = r.min_y + 1\n",
    "        tx = r.min_x - 20\n",
    "\n",
    "    ax.text(tx, ty, t, transform=ccrs.PlateCarree(), \n",
    "            ha='left', va='bottom', fontsize=fs)\n",
    "\n",
    "\n",
    "legend = ax.legend(handles=handles, loc='center left', fontsize=fs, title='Surge type');\n",
    "plt.setp(legend.get_title(),fontsize=fs+2)\n",
    "\n",
    "plt.tight_layout();\n",
    "\n",
    "plt.savefig('../../../rgi7_data/l3_rgi7a_plots/global_map_surge.png', dpi=300, bbox_inches='tight')\n",
    "\n",
    "# ax.scatter(dfr.lon.values, dfr.lat.values, edgecolor='k', facecolor='tab:cyan', s=24)\n",
    "\n",
    "# df.plot(ax=ax, transform=ccrs.PlateCarree(), edgecolor='k', facecolor='w', alpha=0.3);\n",
    "# df.plot(ax=ax, transform=ccrs.PlateCarree(), edgecolor='k', facecolor='none', linewidth=2);"
   ]
  },
  {
   "cell_type": "code",
   "execution_count": null,
   "id": "8f28cb85-0472-4dca-96b3-5d7359dcd613",
   "metadata": {},
   "outputs": [],
   "source": [
    "convert ../../../rgi7_data/l3_rgi7a_plots/global_map_surge.png -resize 20% ../../../rgi7_data/l3_rgi7a_plots/global_map_surge_small.jpeg"
   ]
  },
  {
   "cell_type": "code",
   "execution_count": null,
   "id": "5836e797-aa9f-4bc9-b957-b08096c5d2a9",
   "metadata": {},
   "outputs": [],
   "source": []
  },
  {
   "cell_type": "code",
   "execution_count": null,
   "id": "f1966c21-268f-482f-b493-36065bf2aac1",
   "metadata": {},
   "outputs": [],
   "source": [
    "# with sns.plotting_context('poster'), sns.axes_style('whitegrid'):\n",
    "\n",
    "fac = 1.3\n",
    "f = plt.figure(figsize=(12*fac, 7*fac))\n",
    "ax = plt.axes(projection=ccrs.Robinson())\n",
    "# ax.stock_img()\n",
    "fname = '/home/users/fmaussion/www_fmaussion/misc/rgi7_data/l0_support_data/images/natural-earth-1_large2048px.png'\n",
    "ax.imshow(imread(fname), origin='upper', transform=ccrs.PlateCarree(), \n",
    "          extent=[-180, 180, -90, 90])\n",
    "handles = []\n",
    "\n",
    "df.to_crs(ccrs.Robinson()).plot(ax=ax, edgecolor='k', facecolor='w', alpha=0.3);\n",
    "\n",
    "for cat, col, name in zip([9, 1], ['royalblue', 'C3'], ['Not assigned', 'Marine-terminating']):\n",
    "    s = rgi7.loc[rgi7.term_type == cat]\n",
    "    if name == 'Not assigned':\n",
    "        ax.scatter(s.cenlon.values, s.cenlat.values, fc=col, ec='None', s=1, transform=ccrs.PlateCarree(), linewidth=0);\n",
    "    else:\n",
    "        ax.scatter(s.cenlon.values, s.cenlat.values, fc=col, ec='k', s=15, transform=ccrs.PlateCarree(), linewidth=0.5);\n",
    "        \n",
    "    handles.append(mpatches.Patch(facecolor=col, label=name))\n",
    "\n",
    "\n",
    "df.plot(ax=ax, transform=ccrs.PlateCarree(), edgecolor='k', facecolor='none', linewidth=1);\n",
    "\n",
    "did10 = False\n",
    "for i, r in df.iterrows():\n",
    "    tx = r.min_x + 4\n",
    "    ty = r.min_y \n",
    "    fs = 16\n",
    "    t = r.o1region\n",
    "\n",
    "    if t == '01':\n",
    "        tx = r.min_x + 35\n",
    "    if t == '03':\n",
    "        tx = r.min_x + 15\n",
    "        ty = r.min_y + 3\n",
    "    if t == '05':\n",
    "        tx = r.min_x + 40\n",
    "    if t == '06':\n",
    "        ty = r.min_y - 5.5\n",
    "    if t == '08':\n",
    "        tx = r.min_x + 20\n",
    "    if t == '09':\n",
    "        tx = r.min_x \n",
    "    if t == '11':\n",
    "        tx = r.min_x + 24\n",
    "    if t == '10':\n",
    "        tx = r.min_x + 1\n",
    "        ty = r.min_y + 15\n",
    "        if not did10:\n",
    "            did10 = True\n",
    "            continue\n",
    "    if t == '13':\n",
    "        ty = r.min_y + 12\n",
    "        tx = r.min_x + 30\n",
    "    if t in ['14', '12', '16', '17']:\n",
    "        tx = r.min_x \n",
    "    if t == '15':\n",
    "        tx = r.min_x + 30\n",
    "    if t == '17':\n",
    "        ty = r.min_y + 26\n",
    "    if t == '18':\n",
    "        ty = r.min_y + 10\n",
    "    if t == '19':\n",
    "        ty = r.min_y + 10\n",
    "    if t == '20':\n",
    "        ty = r.min_y + 1\n",
    "        tx = r.min_x - 20\n",
    "\n",
    "    ax.text(tx, ty, t, transform=ccrs.PlateCarree(), \n",
    "            ha='left', va='bottom', fontsize=fs)\n",
    "\n",
    "\n",
    "legend = ax.legend(handles=handles, loc='center left', fontsize=fs, title='Terminus type');\n",
    "plt.setp(legend.get_title(),fontsize=fs+2)\n",
    "\n",
    "plt.tight_layout();\n",
    "\n",
    "plt.savefig('../../../rgi7_data/l3_rgi7a_plots/global_map_term_type.png', dpi=300, bbox_inches='tight')\n",
    "\n",
    "# ax.scatter(dfr.lon.values, dfr.lat.values, edgecolor='k', facecolor='tab:cyan', s=24)\n",
    "\n",
    "# df.plot(ax=ax, transform=ccrs.PlateCarree(), edgecolor='k', facecolor='w', alpha=0.3);\n",
    "# df.plot(ax=ax, transform=ccrs.PlateCarree(), edgecolor='k', facecolor='none', linewidth=2);"
   ]
  },
  {
   "cell_type": "code",
   "execution_count": null,
   "id": "74e9b952-f3aa-42de-85bc-fe5aa0a35aed",
   "metadata": {},
   "outputs": [],
   "source": [
    "convert ../../../rgi7_data/l3_rgi7a_plots/global_map_term_type.png -resize 20% ../../../rgi7_data/l3_rgi7a_plots/global_map_term_type_small.jpeg"
   ]
  },
  {
   "cell_type": "markdown",
   "id": "a1ca1513-11e4-4718-b802-27d3f9f97106",
   "metadata": {},
   "source": [
    "### Table statistics "
   ]
  },
  {
   "cell_type": "code",
   "execution_count": null,
   "id": "0a0d87b2-1253-4b7f-9c5e-5543f97d3ac5",
   "metadata": {},
   "outputs": [],
   "source": [
    "adf = pd.DataFrame()\n",
    "adf.loc['< 1 km²', 'RGI6 (N)'] = (rgi6['area'] < 1).sum()\n",
    "adf.loc['< 1 km²', 'RGI6 (%)'] = (rgi6['area'] < 1).sum() / len(rgi6) * 100\n",
    "adf.loc['< 1 km²', 'RGI7 (N)'] = (rgi7['area_km2'] < 1).sum()\n",
    "adf.loc['< 1 km²', 'RGI7 (%)'] = (rgi7['area_km2'] < 1).sum() / len(rgi7) * 100\n",
    "adf.loc['1-10 km²', 'RGI6 (N)'] = ((rgi6['area'] >= 1) & (rgi6['area'] < 10)).sum()\n",
    "adf.loc['1-10 km²', 'RGI6 (%)'] = ((rgi6['area'] >= 1) & (rgi6['area'] < 10)).sum() / len(rgi6) * 100\n",
    "adf.loc['1-10 km²', 'RGI7 (N)'] = ((rgi7['area_km2'] >= 1) & (rgi7['area_km2'] < 10)).sum()\n",
    "adf.loc['1-10 km²', 'RGI7 (%)'] = ((rgi7['area_km2'] >= 1) & (rgi7['area_km2'] < 10)).sum() / len(rgi7) * 100\n",
    "adf.loc['10-100 km²', 'RGI6 (N)'] = ((rgi6['area'] >= 10) & (rgi6['area'] < 100)).sum()\n",
    "adf.loc['10-100 km²', 'RGI6 (%)'] = ((rgi6['area'] >= 10) & (rgi6['area'] < 100)).sum() / len(rgi6) * 100\n",
    "adf.loc['10-100 km²', 'RGI7 (N)'] = ((rgi7['area_km2'] >= 10) & (rgi7['area_km2'] < 100)).sum()\n",
    "adf.loc['10-100 km²', 'RGI7 (%)'] = ((rgi7['area_km2'] >= 10) & (rgi7['area_km2'] < 100)).sum() / len(rgi7) * 100\n",
    "adf.loc['> 100 km²', 'RGI6 (N)'] = (rgi6['area'] >= 100).sum()\n",
    "adf.loc['> 100 km²', 'RGI6 (%)'] = (rgi6['area'] >= 100).sum() / len(rgi6) * 100\n",
    "adf.loc['> 100 km²', 'RGI7 (N)'] = (rgi7['area_km2'] >= 100).sum()\n",
    "adf.loc['> 100 km²', 'RGI7 (%)'] = (rgi7['area_km2'] >= 100).sum() / len(rgi7) * 100\n",
    "adf.loc['Total'] = adf.sum()\n",
    "adf[['RGI6 (N)', 'RGI7 (N)']] = adf[['RGI6 (N)', 'RGI7 (N)']].astype(int)\n",
    "adf[['RGI6 (%)', 'RGI7 (%)']] = adf[['RGI6 (%)', 'RGI7 (%)']].round(1)\n",
    "adf.index.name = 'Area'\n",
    "adf.columns = ['RGI 6.0 (N)', 'RGI 6.0 (%)', 'RGI 7.0 (N)', 'RGI 7.0 (%)']\n",
    "adf"
   ]
  },
  {
   "cell_type": "code",
   "execution_count": null,
   "id": "0408a002-be6e-4aa3-a8c2-4691226fb0cd",
   "metadata": {},
   "outputs": [],
   "source": [
    "print(adf.to_markdown())"
   ]
  },
  {
   "cell_type": "code",
   "execution_count": null,
   "id": "8571c819-2dc0-4631-af26-1524d5032451",
   "metadata": {},
   "outputs": [],
   "source": [
    "with sns.plotting_context('talk'), sns.axes_style('ticks'):\n",
    "\n",
    "    bins = np.logspace(-2, 3, 100)\n",
    "\n",
    "    h7, b7 = np.histogram(rgi7['area_km2'], bins=bins)\n",
    "    h6, b6 = np.histogram(rgi6['area'], bins=bins)\n",
    "\n",
    "    f, ax = plt.subplots(figsize=(10, 6))\n",
    "    ax.plot(b6[:-1], h6, label='RGI 6.0');\n",
    "    ax.plot(b7[:-1], h7, label='RGI 7.0');\n",
    "    ax.set_xscale('log')\n",
    "    ax.set_yscale('log')\n",
    "    ax.set_ylim([7, 5e4])\n",
    "    plt.legend()\n",
    "    ax.set_title('Number of glaciers per size category (global)')\n",
    "    ax.set_xlabel('Glacier area (km², logscale)');\n",
    "    ax.set_ylabel('Glacier number (logscale)');"
   ]
  },
  {
   "cell_type": "code",
   "execution_count": null,
   "id": "210e9107-e085-4c81-b9cb-04df60206b9d",
   "metadata": {},
   "outputs": [],
   "source": [
    "with sns.plotting_context('talk'), sns.axes_style('ticks'):\n",
    "\n",
    "    bins = np.logspace(-2, 3, 100)\n",
    "\n",
    "    h7, b7 = np.histogram(rgi7['area_km2'], bins=bins)\n",
    "    h6, b6 = np.histogram(rgi6['area'], bins=bins)\n",
    "\n",
    "    f, ax = plt.subplots(figsize=(12, 7))\n",
    "    ax.plot(b6[:-1], h6, label='RGI 6.0');\n",
    "    ax.plot(b7[:-1], h7, label='RGI 7.0');\n",
    "    ax.set_xscale('log')\n",
    "    ax.set_yscale('log')\n",
    "    plt.legend()\n",
    "    ax.set_title('Number of glaciers per size category (global)')\n",
    "    ax.set_xlabel('Glacier area (km², logscale)');\n",
    "    ax.set_ylabel('Glacier number (logscale)');\n",
    "    plt.savefig('../../../rgi7_data/l3_rgi7a_plots/global_histogram.png', dpi=300, bbox_inches='tight')"
   ]
  },
  {
   "cell_type": "code",
   "execution_count": null,
   "id": "1e254dbf-f48b-4391-8bae-cac657cdabdb",
   "metadata": {},
   "outputs": [],
   "source": [
    "with sns.plotting_context('talk'), sns.axes_style('ticks'):\n",
    "    \n",
    "    bins = np.logspace(-2, 2, 100)\n",
    "    reg = ['13', '14', '15']\n",
    "    reg = ['17']\n",
    "\n",
    "    h7, b7 = np.histogram(rgi7.loc[rgi7.o1region.isin(reg)]['area_km2'], bins=bins)\n",
    "    h6, b6 = np.histogram(rgi6.loc[rgi6.O1Region.isin(reg)]['area'], bins=bins)\n",
    "\n",
    "    f, ax = plt.subplots(figsize=(10, 6))\n",
    "    ax.plot(b6[:-1], h6, label='RGI 6.0');\n",
    "    ax.plot(b7[:-1], h7, label='RGI 7.0');\n",
    "    ax.set_xscale('log')\n",
    "    ax.set_yscale('log')\n",
    "    plt.legend()\n",
    "    ax.set_title(f'Region 17 (Southern Andes)')\n",
    "    ax.set_xlabel('Glacier area (km², logscale)');\n",
    "    ax.set_ylabel('Glacier number (logscale)');"
   ]
  },
  {
   "cell_type": "code",
   "execution_count": null,
   "id": "071a9795-2933-4251-8e33-bafd038a8efa",
   "metadata": {},
   "outputs": [],
   "source": []
  },
  {
   "cell_type": "code",
   "execution_count": null,
   "id": "2ca5b677-d0ba-4c09-a389-0f60f4225286",
   "metadata": {},
   "outputs": [],
   "source": [
    "rgi7['year'] = [int(y.split('-')[0]) for y in rgi7['src_date']]"
   ]
  },
  {
   "cell_type": "code",
   "execution_count": null,
   "id": "3b41e030-2f6b-4ae6-bb5b-61dcb64b3adb",
   "metadata": {},
   "outputs": [],
   "source": [
    "rgi6['year'] = [int(y[0:4]) for y in rgi6['BgnDate']]\n",
    "rgi6['year'].unique()"
   ]
  },
  {
   "cell_type": "code",
   "execution_count": null,
   "id": "e15eaf08-e44d-4aa3-972c-593e0087538d",
   "metadata": {},
   "outputs": [],
   "source": [
    "(rgi6['year'] == -999).sum()"
   ]
  },
  {
   "cell_type": "code",
   "execution_count": null,
   "id": "6199ff7a-a8c9-453f-ac24-c7555019dfa8",
   "metadata": {},
   "outputs": [],
   "source": [
    "dy6 = np.abs(rgi6['year'] - 2000)\n",
    "dy7 = np.abs(rgi7['year'] - 2000)"
   ]
  },
  {
   "cell_type": "code",
   "execution_count": null,
   "id": "127e0340-d220-45d1-b0aa-05c68e23b6a4",
   "metadata": {},
   "outputs": [],
   "source": [
    "ydf = pd.DataFrame()\n",
    "ydf.loc['2000 ± 2 years', 'RGI6 (%)'] = (dy6 <= 2).sum() / len(rgi6) * 100\n",
    "ydf.loc['2000 ± 2 years', 'RGI7 (%)'] = (dy7 <= 2).sum() / len(rgi7) * 100\n",
    "ydf.loc['2000 ± 2-5 years', 'RGI6 (%)'] = ((dy6 <= 5) & (dy6 > 2)).sum() / len(rgi6) * 100\n",
    "ydf.loc['2000 ± 2-5 years', 'RGI7 (%)'] = ((dy7 <= 5) & (dy7 > 2)).sum() / len(rgi7) * 100\n",
    "ydf.loc['2000 ± 5-10 years', 'RGI6 (%)'] = ((dy6 <= 10) & (dy6 > 5)).sum() / len(rgi6) * 100\n",
    "ydf.loc['2000 ± 5-10 years', 'RGI7 (%)'] = ((dy7 <= 10) & (dy7 > 5)).sum() / len(rgi7) * 100\n",
    "ydf.loc['2000 ± > 10 years', 'RGI6 (%)'] = (dy6 > 10).sum() / len(rgi6) * 100\n",
    "ydf.loc['2000 ± > 10 years', 'RGI7 (%)'] = (dy7 > 10).sum() / len(rgi7) * 100\n",
    "ydf = ydf.round(1)\n",
    "ydf.index.name = 'Outline year'\n",
    "ydf.columns = ['RGI 6.0 (%)', 'RGI 7.0 (%)']\n",
    "ydf"
   ]
  },
  {
   "cell_type": "code",
   "execution_count": null,
   "id": "f755a929-4b69-4b33-ab91-c6342edc651a",
   "metadata": {},
   "outputs": [],
   "source": [
    "print(ydf.to_markdown())"
   ]
  },
  {
   "cell_type": "code",
   "execution_count": null,
   "id": "5f5a35dd-cb05-491f-9093-f56d87aecd67",
   "metadata": {},
   "outputs": [],
   "source": [
    "len(rgi7) - len(rgi7.anlys_id.unique())"
   ]
  },
  {
   "cell_type": "code",
   "execution_count": null,
   "id": "4360c633-2cc7-405a-8f2c-7af61c09f4e8",
   "metadata": {},
   "outputs": [],
   "source": [
    "fac = 1.3\n",
    "f = plt.figure(figsize=(7*fac, 7*fac))\n",
    "ax = plt.axes(projection=ccrs.Orthographic(-20, 45))\n",
    "\n",
    "fname = '/home/users/fmaussion/www_fmaussion/misc/rgi7_data/l0_support_data/images/natural-earth-1_large2048px.png'\n",
    "ax.imshow(imread(fname), origin='upper', transform=ccrs.PlateCarree(), \n",
    "          extent=[-180, 180, -90, 90]);\n",
    "\n",
    "s = rgi7\n",
    "handles = []\n",
    "ax.scatter(s.cenlon.values, s.cenlat.values, color='C3', s=0.1, transform=ccrs.PlateCarree());\n",
    "handles.append(mpatches.Patch(facecolor='C3', label=f\"Glacier outlines\"))\n",
    "ax.legend(handles=handles, loc='center left', fontsize=fs);\n",
    "\n",
    "plt.tight_layout();"
   ]
  },
  {
   "cell_type": "code",
   "execution_count": null,
   "id": "b0ea6def-2e4d-4271-9cd9-8e72d664bd4f",
   "metadata": {},
   "outputs": [],
   "source": [
    "rgi7.utm_zone.unique()"
   ]
  },
  {
   "cell_type": "code",
   "execution_count": null,
   "id": "b388d12c-58e1-4d6e-bf91-38abe790b5a0",
   "metadata": {},
   "outputs": [],
   "source": [
    "rgi7.columns"
   ]
  },
  {
   "cell_type": "code",
   "execution_count": null,
   "id": "52390159-bff1-4756-88a9-a6a7cdd840a9",
   "metadata": {},
   "outputs": [],
   "source": [
    "rgi7.term_type.unique()"
   ]
  },
  {
   "cell_type": "code",
   "execution_count": null,
   "id": "32bfc11f-8f90-46fd-b676-430d086cfc1f",
   "metadata": {},
   "outputs": [],
   "source": [
    "rgi6.iloc[0]"
   ]
  },
  {
   "cell_type": "code",
   "execution_count": null,
   "id": "055b1c66-c4b4-4f4f-ba01-b4ca4efdc42c",
   "metadata": {},
   "outputs": [],
   "source": []
  },
  {
   "cell_type": "markdown",
   "id": "79a31039-d31a-4146-a5ae-c3dff4184aa6",
   "metadata": {},
   "source": [
    "## Attrs "
   ]
  },
  {
   "cell_type": "code",
   "execution_count": null,
   "id": "1dbcfd09-5cd5-4b56-97f4-4404ba4d8efc",
   "metadata": {},
   "outputs": [],
   "source": [
    "rdf = pd.DataFrame(index=[0, 1, 2, 3, 9])\n",
    "rdf.index.name = 'Value'\n",
    "rdf['Terminus type'] = ['Land-terminating', 'Marine-terminating', 'Lake-terminating', 'Shelf-terminating', 'Not assigned']\n",
    "rdf['RGI7 (N)'] = rgi7.groupby('term_type').count()['rgi_id']\n",
    "rdf['RGI6 (N)'] = rgi6.groupby('TermType').count()['RGIId'].reset_index(drop=True)\n",
    "rdf['RGI7 (Area)'] = rgi7.groupby('term_type')['area_km2'].sum().round(0).astype(int)\n",
    "rdf['RGI6 (Area)'] = rgi6.groupby('TermType')['Area'].sum().round(0).reset_index(drop=True)\n",
    "rdf = rdf.replace(np.NaN, 0)\n",
    "rdf[['RGI7 (N)', 'RGI6 (N)']] = rdf[['RGI7 (N)', 'RGI6 (N)']].astype(int)\n",
    "rdf[['RGI7 (Area)', 'RGI6 (Area)']] = rdf[['RGI7 (Area)', 'RGI6 (Area)']].astype(int)\n",
    "rdf.columns = ['Terminus type', 'RGI 7.0 (N)', 'RGI 6.0 (N)', 'RGI 7.0 (Area)', 'RGI 6.0 (Area)']\n",
    "rdf"
   ]
  },
  {
   "cell_type": "code",
   "execution_count": null,
   "id": "039f67bc-d42a-420e-9814-592e3788d3db",
   "metadata": {},
   "outputs": [],
   "source": [
    "print(rdf.to_markdown())"
   ]
  },
  {
   "cell_type": "code",
   "execution_count": null,
   "id": "614f03e7-8d40-40fd-a361-3e12bdb94984",
   "metadata": {},
   "outputs": [],
   "source": [
    "rgi6.groupby('Surging').count()['RGIId']"
   ]
  },
  {
   "cell_type": "code",
   "execution_count": null,
   "id": "7279c838-0663-4773-a775-979dd633be7e",
   "metadata": {},
   "outputs": [],
   "source": []
  },
  {
   "cell_type": "code",
   "execution_count": null,
   "id": "a5aa7ca7-a8b1-4ad5-b5a9-a3a257238fe5",
   "metadata": {},
   "outputs": [],
   "source": [
    "rdf = pd.DataFrame(index=[0, 1, 2, 3, 9])\n",
    "rdf.index.name = 'Value'\n",
    "rdf['Surging'] = ['No evidence', 'Possible', 'Probable', 'Observed', 'Not assigned']\n",
    "rdf['RGI7 (N)'] = rgi7.groupby('surge_type').count()['rgi_id']\n",
    "rdf['RGI6 (N)'] = rgi6.groupby('Surging').count()['RGIId']\n",
    "rdf['RGI7 (Area)'] = rgi7.groupby('surge_type')['area_km2'].sum().round(0).astype(int)\n",
    "rdf['RGI6 (Area)'] = rgi6.groupby('Surging')['Area'].sum().round(0).astype(int)\n",
    "rdf = rdf.replace(np.NaN, 0)\n",
    "rdf[['RGI7 (N)', 'RGI6 (N)']] = rdf[['RGI7 (N)', 'RGI6 (N)']].astype(int)\n",
    "rdf[['RGI7 (Area)', 'RGI6 (Area)']] = rdf[['RGI7 (Area)', 'RGI6 (Area)']].astype(int)\n",
    "rdf.columns = ['Surge type', 'RGI 7.0 (N)', 'RGI 6.0 (N)', 'RGI 7.0 (Area)', 'RGI 6.0 (Area)']\n",
    "rdf"
   ]
  },
  {
   "cell_type": "code",
   "execution_count": null,
   "id": "f4c82bd6-3552-4b7b-a300-f98c11c707e2",
   "metadata": {},
   "outputs": [],
   "source": [
    "print(rdf.to_markdown())"
   ]
  },
  {
   "cell_type": "code",
   "execution_count": null,
   "id": "8c87fc4e-af9c-4db0-bb60-2a2e9242989c",
   "metadata": {},
   "outputs": [],
   "source": [
    "rgi7.groupby('surge_type').count()"
   ]
  },
  {
   "cell_type": "code",
   "execution_count": null,
   "id": "fd9cb29d-02c1-442c-8a20-5b1417c107b6",
   "metadata": {},
   "outputs": [],
   "source": []
  }
 ],
 "metadata": {
  "kernelspec": {
   "display_name": "Python 3 (ipykernel)",
   "language": "python",
   "name": "python3"
  },
  "language_info": {
   "codemirror_mode": {
    "name": "ipython",
    "version": 3
   },
   "file_extension": ".py",
   "mimetype": "text/x-python",
   "name": "python",
   "nbconvert_exporter": "python",
   "pygments_lexer": "ipython3",
   "version": "3.10.8"
  }
 },
 "nbformat": 4,
 "nbformat_minor": 5
}
