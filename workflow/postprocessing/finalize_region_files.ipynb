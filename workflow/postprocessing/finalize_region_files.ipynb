{
 "cells": [
  {
   "cell_type": "code",
   "execution_count": null,
   "id": "d825563f-8cb4-4237-a341-a29603d11f70",
   "metadata": {},
   "outputs": [],
   "source": [
    "import sys, os \n",
    "import shutil\n",
    "import pandas as pd\n",
    "import geopandas as gpd\n",
    "import csv"
   ]
  },
  {
   "cell_type": "code",
   "execution_count": null,
   "id": "b58b4b1a-5f31-4a16-b200-4359cda72223",
   "metadata": {},
   "outputs": [],
   "source": [
    "sys.path.append(os.getcwd() + '/..')\n",
    "from utils import mkdir, open_zip_shapefile, open_tar_shapefile"
   ]
  },
  {
   "cell_type": "code",
   "execution_count": null,
   "id": "03ec358f-2335-4188-ad60-246ab2111a80",
   "metadata": {},
   "outputs": [],
   "source": [
    "# go down from rgi7_scripts/workflow\n",
    "data_dir = '../../../rgi7_data/'\n",
    "\n",
    "# Output directories\n",
    "output_dir = mkdir(os.path.join(data_dir, 'l5_rgi7b1'))\n",
    "output_dir_zip = mkdir(os.path.join(data_dir, 'l5_rgi7b1_zip'))"
   ]
  },
  {
   "cell_type": "code",
   "execution_count": null,
   "id": "a706b32e-a73f-4da4-af2b-b6de5abe9bfc",
   "metadata": {},
   "outputs": [],
   "source": [
    "o1_file = os.path.join(data_dir, '00_rgi70_regions', '00_rgi70_O1Regions')\n",
    "o1_file = gpd.read_file(o1_file)\n",
    "o1_file"
   ]
  },
  {
   "cell_type": "code",
   "execution_count": null,
   "id": "ecdd2aaa-4d07-4f8b-951d-e42f2d2710db",
   "metadata": {},
   "outputs": [],
   "source": [
    "o2_file = os.path.join(data_dir, '00_rgi70_regions', '00_rgi70_O2Regions')\n",
    "o2_file = gpd.read_file(o2_file)\n",
    "o2_file"
   ]
  },
  {
   "cell_type": "code",
   "execution_count": null,
   "id": "6eb9fe23-a7ac-400f-9ceb-3ed69a252787",
   "metadata": {},
   "outputs": [],
   "source": [
    "dd = mkdir(f'{output_dir}/RGI2000-v7.0-regions/', reset=True)\n",
    "\n",
    "print('Writing...')\n",
    "o1_file.to_file(dd + 'RGI2000-v7.0-o1regions.shp')\n",
    "o2_file.to_file(dd + 'RGI2000-v7.0-o2regions.shp')\n",
    "o1_file.drop('geometry', axis=1).to_csv(dd + f'RGI2000-v7.0-o1regions-summary.csv', quoting=csv.QUOTE_NONNUMERIC)\n",
    "o2_file.drop('geometry', axis=1).to_csv(dd + f'RGI2000-v7.0-o2regions-summary.csv', quoting=csv.QUOTE_NONNUMERIC)\n",
    "shutil.copyfile('README_regions_tpl.md', dd + f'README.md')\n",
    "\n",
    "\n",
    "print('Zipping...')\n",
    "shutil.make_archive(f'{output_dir_zip}/RGI2000-v7.0-regions', 'zip', dd)"
   ]
  },
  {
   "cell_type": "code",
   "execution_count": null,
   "id": "b058b81f-e8bb-43f5-ab0c-fb72a7b4541c",
   "metadata": {},
   "outputs": [],
   "source": []
  },
  {
   "cell_type": "code",
   "execution_count": null,
   "id": "9e068338-fa67-4e29-99bd-2f244712e1c7",
   "metadata": {},
   "outputs": [],
   "source": []
  }
 ],
 "metadata": {
  "kernelspec": {
   "display_name": "Python 3 (ipykernel)",
   "language": "python",
   "name": "python3"
  },
  "language_info": {
   "codemirror_mode": {
    "name": "ipython",
    "version": 3
   },
   "file_extension": ".py",
   "mimetype": "text/x-python",
   "name": "python",
   "nbconvert_exporter": "python",
   "pygments_lexer": "ipython3",
   "version": "3.10.8"
  }
 },
 "nbformat": 4,
 "nbformat_minor": 5
}
