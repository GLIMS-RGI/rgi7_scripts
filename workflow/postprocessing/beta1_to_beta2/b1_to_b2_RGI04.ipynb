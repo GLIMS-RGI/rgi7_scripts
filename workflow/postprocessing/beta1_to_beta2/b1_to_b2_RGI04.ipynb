{
 "cells": [
  {
   "cell_type": "code",
   "execution_count": null,
   "id": "46adc67a-c914-4b66-a3de-aed2506fb298",
   "metadata": {
    "papermill": {
     "duration": 0.440183,
     "end_time": "2023-08-12T17:42:22.627460",
     "exception": false,
     "start_time": "2023-08-12T17:42:22.187277",
     "status": "completed"
    },
    "tags": []
   },
   "outputs": [],
   "source": [
    "import pandas as pd\n",
    "import geopandas as gpd\n",
    "import subprocess\n",
    "import numpy as np\n",
    "import shapely.geometry as shpg\n",
    "from shapely.ops import linemerge\n",
    "from shapely import set_precision\n",
    "import os\n",
    "import sys\n",
    "import csv\n",
    "import json\n",
    "import logging\n",
    "import shutil\n",
    "import utm"
   ]
  },
  {
   "cell_type": "code",
   "execution_count": null,
   "id": "bad5729c-29eb-4fb6-80cf-b7d279f0343a",
   "metadata": {
    "papermill": {
     "duration": 0.016146,
     "end_time": "2023-08-12T17:42:22.657386",
     "exception": false,
     "start_time": "2023-08-12T17:42:22.641240",
     "status": "completed"
    },
    "tags": []
   },
   "outputs": [],
   "source": [
    "import warnings\n",
    "warnings.filterwarnings('ignore', category=FutureWarning)"
   ]
  },
  {
   "cell_type": "code",
   "execution_count": null,
   "id": "c62aa692-c347-4e74-bc0f-c0cdc9da4669",
   "metadata": {
    "papermill": {
     "duration": 1.853816,
     "end_time": "2023-08-12T17:42:24.517075",
     "exception": false,
     "start_time": "2023-08-12T17:42:22.663259",
     "status": "completed"
    },
    "tags": []
   },
   "outputs": [],
   "source": [
    "sys.path.append(os.getcwd() + '/../..')\n",
    "from utils import mkdir, open_zip_shapefile, open_tar_shapefile, haversine, correct_geoms, fix_overaps"
   ]
  },
  {
   "cell_type": "code",
   "execution_count": null,
   "id": "7c601bdf-1db0-429e-bb22-479f14ffe496",
   "metadata": {
    "papermill": {
     "duration": 0.013155,
     "end_time": "2023-08-12T17:42:24.537757",
     "exception": false,
     "start_time": "2023-08-12T17:42:24.524602",
     "status": "completed"
    },
    "tags": []
   },
   "outputs": [],
   "source": [
    "log = logging.getLogger('papermill')\n",
    "logging.basicConfig(level='INFO', format=\"%(message)s\")"
   ]
  },
  {
   "cell_type": "markdown",
   "id": "8487f7be-608e-44f1-88ec-671465325a11",
   "metadata": {
    "papermill": {
     "duration": 0.007527,
     "end_time": "2023-08-12T17:42:24.553250",
     "exception": false,
     "start_time": "2023-08-12T17:42:24.545723",
     "status": "completed"
    },
    "tags": []
   },
   "source": [
    "## Files and storage paths"
   ]
  },
  {
   "cell_type": "code",
   "execution_count": null,
   "id": "1c753f79-c5b6-49f0-b6ba-bfe40fd7eac3",
   "metadata": {
    "papermill": {
     "duration": 0.01168,
     "end_time": "2023-08-12T17:42:24.572249",
     "exception": false,
     "start_time": "2023-08-12T17:42:24.560569",
     "status": "completed"
    },
    "tags": [
     "parameters"
    ]
   },
   "outputs": [],
   "source": [
    "# Region of interest\n",
    "reg = 1\n",
    "\n",
    "# go down from rgi7_scripts/workflow\n",
    "data_dir = '../../../../rgi7_data/'\n",
    "\n",
    "# Centerlines from OGGM\n",
    "cls_dir = f'{data_dir}/l6_centerlines/output/'\n",
    "\n",
    "# Input dirctory\n",
    "input_dir = os.path.join(data_dir, 'l5_rgi7b1')\n",
    "\n",
    "# Output directories\n",
    "output_dir = mkdir(os.path.join(data_dir, 'l7_rgi7bf'))\n",
    "output_dir_points = mkdir(os.path.join(data_dir, 'l6_terminus_points'))\n",
    "output_dir_zip = mkdir(os.path.join(data_dir, 'l7_rgi7bf_zip'))"
   ]
  },
  {
   "cell_type": "code",
   "execution_count": null,
   "id": "d3126eb7",
   "metadata": {
    "papermill": {
     "duration": 0.011546,
     "end_time": "2023-08-12T17:42:24.589234",
     "exception": false,
     "start_time": "2023-08-12T17:42:24.577688",
     "status": "completed"
    },
    "tags": [
     "injected-parameters"
    ]
   },
   "outputs": [],
   "source": [
    "# Parameters\n",
    "reg = 4\n"
   ]
  },
  {
   "cell_type": "code",
   "execution_count": null,
   "id": "d8e3486d-1f48-414e-b676-f1cb096daea9",
   "metadata": {
    "papermill": {
     "duration": 0.01311,
     "end_time": "2023-08-12T17:42:24.609526",
     "exception": false,
     "start_time": "2023-08-12T17:42:24.596416",
     "status": "completed"
    },
    "tags": []
   },
   "outputs": [],
   "source": [
    "reg_str = f'{reg:02d}'"
   ]
  },
  {
   "cell_type": "code",
   "execution_count": null,
   "id": "17c277e3-352a-4602-b527-fb6c3ef21aff",
   "metadata": {
    "papermill": {
     "duration": 0.064688,
     "end_time": "2023-08-12T17:42:24.681538",
     "exception": false,
     "start_time": "2023-08-12T17:42:24.616850",
     "status": "completed"
    },
    "tags": []
   },
   "outputs": [],
   "source": [
    "reg_file = os.path.join(data_dir, '00_rgi70_regions', '00_rgi70_O1Regions')\n",
    "reg_file = gpd.read_file(reg_file)\n",
    "reg_file = reg_file.loc[reg_file.o1region == f'{reg:02d}'].iloc[0]\n",
    "\n",
    "input_dir_reg = f'{input_dir}/RGI2000-v7.0-G-{reg_file.long_code}/'\n",
    "output_dir_reg = mkdir(f'{output_dir}/RGI2000-v7.0-G-{reg_file.long_code}/', reset=True)\n",
    "output_dir_cl = mkdir(f'{output_dir}/RGI2000-v7.0-L-{reg_file.long_code}/', reset=True)"
   ]
  },
  {
   "cell_type": "markdown",
   "id": "2e96cac6-6b61-4ec2-9507-c2b3663fa332",
   "metadata": {
    "papermill": {
     "duration": 0.012485,
     "end_time": "2023-08-12T17:42:24.707500",
     "exception": false,
     "start_time": "2023-08-12T17:42:24.695015",
     "status": "completed"
    },
    "tags": []
   },
   "source": [
    "### Copy directory Glacier product"
   ]
  },
  {
   "cell_type": "markdown",
   "id": "e589c184-6aec-4330-a297-99f80dd735c5",
   "metadata": {
    "papermill": {
     "duration": 0.011049,
     "end_time": "2023-08-12T17:42:24.730672",
     "exception": false,
     "start_time": "2023-08-12T17:42:24.719623",
     "status": "completed"
    },
    "tags": []
   },
   "source": [
    "Many things are unchanged:"
   ]
  },
  {
   "cell_type": "code",
   "execution_count": null,
   "id": "8b9f942c-e1a0-4bb1-9bc8-9081ef31de0f",
   "metadata": {
    "papermill": {
     "duration": 2.142052,
     "end_time": "2023-08-12T17:42:26.878213",
     "exception": false,
     "start_time": "2023-08-12T17:42:24.736161",
     "status": "completed"
    },
    "tags": []
   },
   "outputs": [],
   "source": [
    "from distutils.dir_util import copy_tree\n",
    "copy_tree(input_dir_reg, output_dir_reg)"
   ]
  },
  {
   "cell_type": "markdown",
   "id": "f2d31af4-b2b2-4dc9-b286-be594f2feb7e",
   "metadata": {
    "papermill": {
     "duration": 0.009137,
     "end_time": "2023-08-12T17:42:26.901021",
     "exception": false,
     "start_time": "2023-08-12T17:42:26.891884",
     "status": "completed"
    },
    "tags": []
   },
   "source": [
    "### Load the shp data to overwrite"
   ]
  },
  {
   "cell_type": "code",
   "execution_count": null,
   "id": "caab54b7-92c0-45fa-a943-25225b119001",
   "metadata": {
    "papermill": {
     "duration": 1.930605,
     "end_time": "2023-08-12T17:42:28.837453",
     "exception": false,
     "start_time": "2023-08-12T17:42:26.906848",
     "status": "completed"
    },
    "tags": []
   },
   "outputs": [],
   "source": [
    "# Read files\n",
    "rgi_reg_df = gpd.read_file(f'{input_dir_reg}/RGI2000-v7.0-G-{reg_file.long_code}.shp')"
   ]
  },
  {
   "cell_type": "markdown",
   "id": "d5c81f68-23b5-431b-8ef3-988fdb2861c7",
   "metadata": {
    "papermill": {
     "duration": 0.009783,
     "end_time": "2023-08-12T17:42:28.861426",
     "exception": false,
     "start_time": "2023-08-12T17:42:28.851643",
     "status": "completed"
    },
    "tags": []
   },
   "source": [
    "## Load the centerline data"
   ]
  },
  {
   "cell_type": "code",
   "execution_count": null,
   "id": "ef283363-5d1e-4df4-99bb-0702c05add57",
   "metadata": {
    "papermill": {
     "duration": 1.294828,
     "end_time": "2023-08-12T17:42:30.162168",
     "exception": false,
     "start_time": "2023-08-12T17:42:28.867340",
     "status": "completed"
    },
    "tags": []
   },
   "outputs": [],
   "source": [
    "fp = f'{cls_dir}/centerlines_rgi{reg_str}.tar.gz'\n",
    "cls = open_tar_shapefile(fp)"
   ]
  },
  {
   "cell_type": "code",
   "execution_count": null,
   "id": "ab231de3-2a86-462a-8d11-434af0d4e656",
   "metadata": {
    "papermill": {
     "duration": 0.01535,
     "end_time": "2023-08-12T17:42:30.192028",
     "exception": false,
     "start_time": "2023-08-12T17:42:30.176678",
     "status": "completed"
    },
    "tags": []
   },
   "outputs": [],
   "source": [
    "with open('../rgi7_centerline_attributes_metadata.json', 'r') as infile:\n",
    "    meta_cls_product = json.load(infile)"
   ]
  },
  {
   "cell_type": "code",
   "execution_count": null,
   "id": "97975a2a-fc2f-4e57-8b74-a004fb6d5650",
   "metadata": {
    "papermill": {
     "duration": 0.012994,
     "end_time": "2023-08-12T17:42:30.211585",
     "exception": false,
     "start_time": "2023-08-12T17:42:30.198591",
     "status": "completed"
    },
    "tags": []
   },
   "outputs": [],
   "source": [
    "rename = {\n",
    "    'RGIID':'rgi_g_id',\n",
    "    'SEGMENT_ID':'segment_id',\n",
    "    'STRAHLER':'strahler_n',\n",
    "    'OUTFLOW_ID':'outflow_id',\n",
    "    'LE_SEGMENT':'length_m',\n",
    "    'MAIN':'is_main',\n",
    "}"
   ]
  },
  {
   "cell_type": "code",
   "execution_count": null,
   "id": "02557823-ba0c-4f74-b96e-3ee6da6e2ab7",
   "metadata": {
    "papermill": {
     "duration": 0.017833,
     "end_time": "2023-08-12T17:42:30.237976",
     "exception": false,
     "start_time": "2023-08-12T17:42:30.220143",
     "status": "completed"
    },
    "tags": []
   },
   "outputs": [],
   "source": [
    "cls = cls.rename(rename, axis=1)\n",
    "cls['rgi_id'] = ''"
   ]
  },
  {
   "cell_type": "code",
   "execution_count": null,
   "id": "d9083cc2-9d48-44c3-8362-59bd5346b823",
   "metadata": {
    "papermill": {
     "duration": 0.025387,
     "end_time": "2023-08-12T17:42:30.271467",
     "exception": false,
     "start_time": "2023-08-12T17:42:30.246080",
     "status": "completed"
    },
    "tags": []
   },
   "outputs": [],
   "source": [
    "cls_new = cls[[]].copy().reset_index(drop=True)\n",
    "for col, attrs in meta_cls_product.items():\n",
    "    assert col in cls\n",
    "    if attrs['datatype']:\n",
    "        cls_new[col] = cls[col].astype(attrs['datatype'])\n",
    "    else: \n",
    "        cls_new[col] = cls[col]"
   ]
  },
  {
   "cell_type": "code",
   "execution_count": null,
   "id": "46eabf22-e2e9-40af-b934-b6f52fb44092",
   "metadata": {
    "papermill": {
     "duration": 0.013185,
     "end_time": "2023-08-12T17:42:30.294362",
     "exception": false,
     "start_time": "2023-08-12T17:42:30.281177",
     "status": "completed"
    },
    "tags": []
   },
   "outputs": [],
   "source": [
    "assert len(cls_new) < 99999"
   ]
  },
  {
   "cell_type": "code",
   "execution_count": null,
   "id": "54ff8b8c-9ce3-45bf-8971-302417afa208",
   "metadata": {
    "papermill": {
     "duration": 0.015927,
     "end_time": "2023-08-12T17:42:30.318909",
     "exception": false,
     "start_time": "2023-08-12T17:42:30.302982",
     "status": "completed"
    },
    "tags": []
   },
   "outputs": [],
   "source": [
    "assert cls_new['strahler_n'].min() == 0\n",
    "cls_new['strahler_n'] += 1  # they actually begin at 1."
   ]
  },
  {
   "cell_type": "code",
   "execution_count": null,
   "id": "250be254-7862-47cf-a45c-49bbf4ec3f87",
   "metadata": {
    "papermill": {
     "duration": 0.016023,
     "end_time": "2023-08-12T17:42:30.342784",
     "exception": false,
     "start_time": "2023-08-12T17:42:30.326761",
     "status": "completed"
    },
    "tags": []
   },
   "outputs": [],
   "source": [
    "cls_new = gpd.GeoDataFrame(cls_new)\n",
    "cls_new.crs = cls.crs"
   ]
  },
  {
   "cell_type": "markdown",
   "id": "1af629d6-7193-488b-9289-4a1ea2b3b0b4",
   "metadata": {
    "papermill": {
     "duration": 0.008341,
     "end_time": "2023-08-12T17:42:30.359689",
     "exception": false,
     "start_time": "2023-08-12T17:42:30.351348",
     "status": "completed"
    },
    "tags": []
   },
   "source": [
    "### Pick the new term locs and length for the glacier product"
   ]
  },
  {
   "cell_type": "code",
   "execution_count": null,
   "id": "12ac8c31-facc-4e4e-a8f0-1779785bd4f4",
   "metadata": {
    "papermill": {
     "duration": 0.022825,
     "end_time": "2023-08-12T17:42:30.390770",
     "exception": false,
     "start_time": "2023-08-12T17:42:30.367945",
     "status": "completed"
    },
    "tags": []
   },
   "outputs": [],
   "source": [
    "cls_main = cls_new.loc[cls_new.is_main == 1]\n",
    "assert len(cls_main) == len(rgi_reg_df)\n",
    "assert np.alltrue(cls_main['rgi_g_id'].values == rgi_reg_df['rgi_id'])"
   ]
  },
  {
   "cell_type": "code",
   "execution_count": null,
   "id": "6afc3bab-28f6-484e-9eed-2dbbb0886292",
   "metadata": {
    "papermill": {
     "duration": 0.014655,
     "end_time": "2023-08-12T17:42:30.415129",
     "exception": false,
     "start_time": "2023-08-12T17:42:30.400474",
     "status": "completed"
    },
    "tags": []
   },
   "outputs": [],
   "source": [
    "rgi_reg_df['lmax_m'] = cls_main['length_m'].values"
   ]
  },
  {
   "cell_type": "code",
   "execution_count": null,
   "id": "d926ac7b-af7b-4fd4-a1c4-e064994da832",
   "metadata": {
    "papermill": {
     "duration": 0.487209,
     "end_time": "2023-08-12T17:42:30.910841",
     "exception": false,
     "start_time": "2023-08-12T17:42:30.423632",
     "status": "completed"
    },
    "tags": []
   },
   "outputs": [],
   "source": [
    "term_lon = []\n",
    "term_lat = []\n",
    "for geom in cls_main.geometry:\n",
    "    x, y = geom.coords.xy\n",
    "    term_lon.append(x[-1])\n",
    "    term_lat.append(y[-1])"
   ]
  },
  {
   "cell_type": "code",
   "execution_count": null,
   "id": "cf1990db-de44-476d-ae7e-1973df7c4dee",
   "metadata": {
    "papermill": {
     "duration": 0.022741,
     "end_time": "2023-08-12T17:42:30.947198",
     "exception": false,
     "start_time": "2023-08-12T17:42:30.924457",
     "status": "completed"
    },
    "tags": []
   },
   "outputs": [],
   "source": [
    "rgi_reg_df['termlon'] = term_lon\n",
    "rgi_reg_df['termlat'] = term_lat"
   ]
  },
  {
   "cell_type": "code",
   "execution_count": null,
   "id": "b1b3a15b-9124-4464-a2ba-8af8348f3560",
   "metadata": {
    "papermill": {
     "duration": 2.879277,
     "end_time": "2023-08-12T17:42:33.834310",
     "exception": false,
     "start_time": "2023-08-12T17:42:30.955033",
     "status": "completed"
    },
    "tags": []
   },
   "outputs": [],
   "source": [
    "topoints = rgi_reg_df.copy()\n",
    "topoints['geometry'] = [shpg.Point(x, y) for x, y in zip(rgi_reg_df['termlon'], rgi_reg_df['termlat'])]\n",
    "topoints.to_file(f'{output_dir_points}/terminus_points_rgi{reg_str}.shp.zip', driver='ESRI Shapefile')"
   ]
  },
  {
   "cell_type": "markdown",
   "id": "21be9b12-8456-4506-b0b3-86e1d129d31e",
   "metadata": {
    "papermill": {
     "duration": 0.011793,
     "end_time": "2023-08-12T17:42:33.858957",
     "exception": false,
     "start_time": "2023-08-12T17:42:33.847164",
     "status": "completed"
    },
    "tags": []
   },
   "source": [
    "### RGI Ids centerlines "
   ]
  },
  {
   "cell_type": "code",
   "execution_count": null,
   "id": "6ebc69b9-7af0-4f79-aad1-a155987a6db1",
   "metadata": {
    "papermill": {
     "duration": 0.026222,
     "end_time": "2023-08-12T17:42:33.892259",
     "exception": false,
     "start_time": "2023-08-12T17:42:33.866037",
     "status": "completed"
    },
    "tags": []
   },
   "outputs": [],
   "source": [
    "baseid = f'RGI2000-v7.0-L-{reg:02d}-'\n",
    "cls_new['rgi_id'] = [baseid + f'{l+1:05d}' for l in range(len(cls_new))]"
   ]
  },
  {
   "cell_type": "markdown",
   "id": "1e9da820-bb63-44ba-9c9e-4b9bb43dc83d",
   "metadata": {
    "papermill": {
     "duration": 0.008433,
     "end_time": "2023-08-12T17:42:33.910001",
     "exception": false,
     "start_time": "2023-08-12T17:42:33.901568",
     "status": "completed"
    },
    "tags": []
   },
   "source": [
    "## Write out and zip"
   ]
  },
  {
   "cell_type": "markdown",
   "id": "e04ee405-a087-4aa7-8c88-00a34eecfa86",
   "metadata": {
    "papermill": {
     "duration": 0.007686,
     "end_time": "2023-08-12T17:42:33.926280",
     "exception": false,
     "start_time": "2023-08-12T17:42:33.918594",
     "status": "completed"
    },
    "tags": []
   },
   "source": [
    "### Updated glacier product "
   ]
  },
  {
   "cell_type": "code",
   "execution_count": null,
   "id": "b9fa81ca-82cb-4d99-91c7-169c815dbd55",
   "metadata": {
    "papermill": {
     "duration": 0.017701,
     "end_time": "2023-08-12T17:42:33.952577",
     "exception": false,
     "start_time": "2023-08-12T17:42:33.934876",
     "status": "completed"
    },
    "tags": []
   },
   "outputs": [],
   "source": [
    "group_dir = f'{output_dir_zip}/RGI2000-v7.0-G-global/'\n",
    "mkdir(group_dir)"
   ]
  },
  {
   "cell_type": "code",
   "execution_count": null,
   "id": "6280b37d-6683-4670-b499-181fa14b57e9",
   "metadata": {
    "papermill": {
     "duration": 15.496001,
     "end_time": "2023-08-12T17:42:49.455611",
     "exception": false,
     "start_time": "2023-08-12T17:42:33.959610",
     "status": "completed"
    },
    "tags": []
   },
   "outputs": [],
   "source": [
    "print('Writing...')\n",
    "rgi_reg_df.to_file(output_dir_reg + f'/RGI2000-v7.0-G-{reg_file.long_code}.shp')\n",
    "rgi_reg_df.drop('geometry', axis=1).set_index('rgi_id').to_csv(output_dir_reg + f'/RGI2000-v7.0-G-{reg_file.long_code}-attributes.csv', quoting=csv.QUOTE_NONNUMERIC)\n",
    "shutil.copyfile('../rgi7_attributes_metadata.json', output_dir_reg + f'/RGI2000-v7.0-G-{reg_file.long_code}-attributes_metadata.json')\n",
    "shutil.copyfile('../README_tpl.md', output_dir_cl + f'README.md')\n",
    "\n",
    "print('Zipping...')\n",
    "shutil.make_archive(f'{group_dir}/RGI2000-v7.0-G-{reg_file.long_code}', 'zip', output_dir_reg)"
   ]
  },
  {
   "cell_type": "markdown",
   "id": "c728a6cf-018e-4345-8107-028c4cc07e62",
   "metadata": {
    "papermill": {
     "duration": 0.008482,
     "end_time": "2023-08-12T17:42:49.479154",
     "exception": false,
     "start_time": "2023-08-12T17:42:49.470672",
     "status": "completed"
    },
    "tags": []
   },
   "source": [
    "### Centerline product"
   ]
  },
  {
   "cell_type": "code",
   "execution_count": null,
   "id": "59a14e0b-dad1-441b-a0c8-41c0296bb42b",
   "metadata": {
    "papermill": {
     "duration": 0.015044,
     "end_time": "2023-08-12T17:42:49.503007",
     "exception": false,
     "start_time": "2023-08-12T17:42:49.487963",
     "status": "completed"
    },
    "tags": []
   },
   "outputs": [],
   "source": [
    "group_dir = f'{output_dir_zip}/RGI2000-v7.0-L-global/'\n",
    "mkdir(group_dir)"
   ]
  },
  {
   "cell_type": "code",
   "execution_count": null,
   "id": "06cd1c48-6107-448f-b03f-ac89a93d04da",
   "metadata": {
    "papermill": {
     "duration": 8.518921,
     "end_time": "2023-08-12T17:42:58.029211",
     "exception": false,
     "start_time": "2023-08-12T17:42:49.510290",
     "status": "completed"
    },
    "tags": []
   },
   "outputs": [],
   "source": [
    "print('Writing...')\n",
    "cls_new.to_file(output_dir_cl + f'/RGI2000-v7.0-L-{reg_file.long_code}.shp')\n",
    "cls_new.drop('geometry', axis=1).set_index('rgi_id').to_csv(output_dir_cl + f'/RGI2000-v7.0-L-{reg_file.long_code}-attributes.csv', quoting=csv.QUOTE_NONNUMERIC)\n",
    "shutil.copyfile('../rgi7_centerline_attributes_metadata.json', output_dir_cl + f'/RGI2000-v7.0-L-{reg_file.long_code}-attributes_metadata.json')\n",
    "shutil.copyfile('../README_tpl.md', output_dir_cl + f'README.md')\n",
    "\n",
    "print('Zipping...')\n",
    "shutil.make_archive(f'{group_dir}/RGI2000-v7.0-L-{reg_file.long_code}', 'zip', output_dir_cl)"
   ]
  },
  {
   "cell_type": "markdown",
   "id": "e4d54b16-3ff2-41c7-8903-19f722a35153",
   "metadata": {
    "papermill": {
     "duration": 0.008513,
     "end_time": "2023-08-12T17:42:58.054230",
     "exception": false,
     "start_time": "2023-08-12T17:42:58.045717",
     "status": "completed"
    },
    "tags": []
   },
   "source": [
    "### Rezip complex and intersects product"
   ]
  },
  {
   "cell_type": "code",
   "execution_count": null,
   "id": "2cfe4437-2722-436c-bf76-b11c00bcff8a",
   "metadata": {
    "papermill": {
     "duration": 0.014207,
     "end_time": "2023-08-12T17:42:58.075511",
     "exception": false,
     "start_time": "2023-08-12T17:42:58.061304",
     "status": "completed"
    },
    "tags": []
   },
   "outputs": [],
   "source": [
    "group_dir = f'{output_dir_zip}/RGI2000-v7.0-C-global/'\n",
    "mkdir(group_dir)"
   ]
  },
  {
   "cell_type": "code",
   "execution_count": null,
   "id": "7ef6f614-926a-47e9-89ac-77ce50adf516",
   "metadata": {
    "papermill": {
     "duration": 2.53924,
     "end_time": "2023-08-12T17:43:00.624092",
     "exception": false,
     "start_time": "2023-08-12T17:42:58.084852",
     "status": "completed"
    },
    "tags": []
   },
   "outputs": [],
   "source": [
    "dir_to_zip = os.path.join(data_dir, 'l4_rgi7b0', f'RGI2000-v7.0-C-{reg_file.long_code}')\n",
    "# Overwrite README\n",
    "shutil.copyfile('../README_tpl.md', dir_to_zip + f'README.md')\n",
    "print('Zipping...')\n",
    "shutil.make_archive(f'{group_dir}/RGI2000-v7.0-C-{reg_file.long_code}', 'zip', dir_to_zip)"
   ]
  },
  {
   "cell_type": "code",
   "execution_count": null,
   "id": "f65ee380-917e-412e-9a3f-fb83e25a85b8",
   "metadata": {
    "papermill": {
     "duration": 0.018758,
     "end_time": "2023-08-12T17:43:00.659878",
     "exception": false,
     "start_time": "2023-08-12T17:43:00.641120",
     "status": "completed"
    },
    "tags": []
   },
   "outputs": [],
   "source": [
    "group_dir = f'{output_dir_zip}/RGI2000-v7.0-I-global/'\n",
    "mkdir(group_dir)"
   ]
  },
  {
   "cell_type": "code",
   "execution_count": null,
   "id": "5870d307-4fd5-4568-9160-184e1a4b04cf",
   "metadata": {
    "papermill": {
     "duration": 0.429172,
     "end_time": "2023-08-12T17:43:01.096493",
     "exception": false,
     "start_time": "2023-08-12T17:43:00.667321",
     "status": "completed"
    },
    "tags": []
   },
   "outputs": [],
   "source": [
    "dir_to_zip = os.path.join(data_dir, 'l4_rgi7b0', f'RGI2000-v7.0-I-{reg_file.long_code}')\n",
    "# Overwrite README\n",
    "shutil.copyfile('../README_tpl.md', dir_to_zip + f'README.md')\n",
    "print('Zipping...')\n",
    "shutil.make_archive(f'{group_dir}/RGI2000-v7.0-I-{reg_file.long_code}', 'zip', dir_to_zip)"
   ]
  },
  {
   "cell_type": "markdown",
   "id": "7824b05d-ca87-4c28-b23f-327befe4a93e",
   "metadata": {
    "papermill": {
     "duration": 0.010192,
     "end_time": "2023-08-12T17:43:01.124099",
     "exception": false,
     "start_time": "2023-08-12T17:43:01.113907",
     "status": "completed"
    },
    "tags": []
   },
   "source": [
    "### Region files"
   ]
  },
  {
   "cell_type": "code",
   "execution_count": null,
   "id": "69a4988a-0faf-4aad-ae38-96beb61e9300",
   "metadata": {
    "papermill": {
     "duration": 0.034028,
     "end_time": "2023-08-12T17:43:01.166117",
     "exception": false,
     "start_time": "2023-08-12T17:43:01.132089",
     "status": "completed"
    },
    "tags": []
   },
   "outputs": [],
   "source": [
    "shutil.copyfile(os.path.join(data_dir, 'l5_rgi7b1_zip', 'RGI2000-v7.0-regions.zip'), \n",
    "                os.path.join(output_dir_zip, 'RGI2000-v7.0-regions.zip'))"
   ]
  },
  {
   "cell_type": "code",
   "execution_count": null,
   "id": "4e44d74b-1f4d-415f-9a25-787f2212d653",
   "metadata": {
    "papermill": {
     "duration": 0.011357,
     "end_time": "2023-08-12T17:43:01.192410",
     "exception": false,
     "start_time": "2023-08-12T17:43:01.181053",
     "status": "completed"
    },
    "tags": []
   },
   "outputs": [],
   "source": []
  }
 ],
 "metadata": {
  "kernelspec": {
   "display_name": "Python 3 (ipykernel)",
   "language": "python",
   "name": "python3"
  },
  "language_info": {
   "codemirror_mode": {
    "name": "ipython",
    "version": 3
   },
   "file_extension": ".py",
   "mimetype": "text/x-python",
   "name": "python",
   "nbconvert_exporter": "python",
   "pygments_lexer": "ipython3",
   "version": "3.10.8"
  },
  "papermill": {
   "default_parameters": {},
   "duration": 40.562147,
   "end_time": "2023-08-12T17:43:01.720121",
   "environment_variables": {},
   "exception": null,
   "input_path": "b1_to_b2_tpl.ipynb",
   "output_path": "b1_to_b2_RGI04.ipynb",
   "parameters": {
    "reg": 4
   },
   "start_time": "2023-08-12T17:42:21.157974",
   "version": "2.3.4"
  }
 },
 "nbformat": 4,
 "nbformat_minor": 5
}
