{
 "cells": [
  {
   "cell_type": "code",
   "execution_count": 1,
   "id": "46adc67a-c914-4b66-a3de-aed2506fb298",
   "metadata": {
    "execution": {
     "iopub.execute_input": "2023-02-12T08:26:41.710737Z",
     "iopub.status.busy": "2023-02-12T08:26:41.710374Z",
     "iopub.status.idle": "2023-02-12T08:26:42.171053Z",
     "shell.execute_reply": "2023-02-12T08:26:42.170158Z"
    },
    "papermill": {
     "duration": 0.474732,
     "end_time": "2023-02-12T08:26:42.173421",
     "exception": false,
     "start_time": "2023-02-12T08:26:41.698689",
     "status": "completed"
    },
    "tags": []
   },
   "outputs": [],
   "source": [
    "import pandas as pd\n",
    "import geopandas as gpd\n",
    "import subprocess\n",
    "import numpy as np\n",
    "import shapely.geometry as shpg\n",
    "import os\n",
    "import sys\n",
    "import csv\n",
    "import json\n",
    "import logging\n",
    "import shutil"
   ]
  },
  {
   "cell_type": "code",
   "execution_count": 2,
   "id": "bad5729c-29eb-4fb6-80cf-b7d279f0343a",
   "metadata": {
    "execution": {
     "iopub.execute_input": "2023-02-12T08:26:42.195193Z",
     "iopub.status.busy": "2023-02-12T08:26:42.194759Z",
     "iopub.status.idle": "2023-02-12T08:26:42.199372Z",
     "shell.execute_reply": "2023-02-12T08:26:42.198512Z"
    },
    "papermill": {
     "duration": 0.015561,
     "end_time": "2023-02-12T08:26:42.200658",
     "exception": false,
     "start_time": "2023-02-12T08:26:42.185097",
     "status": "completed"
    },
    "tags": []
   },
   "outputs": [],
   "source": [
    "import warnings\n",
    "warnings.filterwarnings('ignore', category=FutureWarning)"
   ]
  },
  {
   "cell_type": "code",
   "execution_count": 3,
   "id": "c62aa692-c347-4e74-bc0f-c0cdc9da4669",
   "metadata": {
    "execution": {
     "iopub.execute_input": "2023-02-12T08:26:42.211429Z",
     "iopub.status.busy": "2023-02-12T08:26:42.210847Z",
     "iopub.status.idle": "2023-02-12T08:26:43.958043Z",
     "shell.execute_reply": "2023-02-12T08:26:43.957131Z"
    },
    "papermill": {
     "duration": 1.754506,
     "end_time": "2023-02-12T08:26:43.960181",
     "exception": false,
     "start_time": "2023-02-12T08:26:42.205675",
     "status": "completed"
    },
    "tags": []
   },
   "outputs": [],
   "source": [
    "sys.path.append(os.getcwd() + '/../..')\n",
    "from utils import mkdir, open_zip_shapefile, open_tar_shapefile, haversine"
   ]
  },
  {
   "cell_type": "code",
   "execution_count": 4,
   "id": "7c601bdf-1db0-429e-bb22-479f14ffe496",
   "metadata": {
    "execution": {
     "iopub.execute_input": "2023-02-12T08:26:43.982702Z",
     "iopub.status.busy": "2023-02-12T08:26:43.982217Z",
     "iopub.status.idle": "2023-02-12T08:26:43.986919Z",
     "shell.execute_reply": "2023-02-12T08:26:43.986248Z"
    },
    "papermill": {
     "duration": 0.017011,
     "end_time": "2023-02-12T08:26:43.988959",
     "exception": false,
     "start_time": "2023-02-12T08:26:43.971948",
     "status": "completed"
    },
    "tags": []
   },
   "outputs": [],
   "source": [
    "log = logging.getLogger('papermill')\n",
    "logging.basicConfig(level='INFO', format=\"%(message)s\")"
   ]
  },
  {
   "cell_type": "markdown",
   "id": "8487f7be-608e-44f1-88ec-671465325a11",
   "metadata": {
    "papermill": {
     "duration": 0.006727,
     "end_time": "2023-02-12T08:26:44.005193",
     "exception": false,
     "start_time": "2023-02-12T08:26:43.998466",
     "status": "completed"
    },
    "tags": []
   },
   "source": [
    "## Files and storage paths"
   ]
  },
  {
   "cell_type": "code",
   "execution_count": 5,
   "id": "1c753f79-c5b6-49f0-b6ba-bfe40fd7eac3",
   "metadata": {
    "execution": {
     "iopub.execute_input": "2023-02-12T08:26:44.018891Z",
     "iopub.status.busy": "2023-02-12T08:26:44.018198Z",
     "iopub.status.idle": "2023-02-12T08:26:44.023819Z",
     "shell.execute_reply": "2023-02-12T08:26:44.022990Z"
    },
    "papermill": {
     "duration": 0.013782,
     "end_time": "2023-02-12T08:26:44.025312",
     "exception": false,
     "start_time": "2023-02-12T08:26:44.011530",
     "status": "completed"
    },
    "tags": [
     "parameters"
    ]
   },
   "outputs": [],
   "source": [
    "# Region of interest\n",
    "reg = 1\n",
    "\n",
    "# go down from rgi7_scripts/workflow\n",
    "data_dir = '../../../../rgi7_data/'\n",
    "\n",
    "# Input dirctory\n",
    "input_dir = os.path.join(data_dir, 'l3_rgi7a_tar')\n",
    "\n",
    "# Output directories\n",
    "output_dir = mkdir(os.path.join(data_dir, 'l4_rgi7b0'))\n",
    "output_dir_tar = mkdir(os.path.join(data_dir, 'l4_rgi7b0_tar'))"
   ]
  },
  {
   "cell_type": "code",
   "execution_count": 6,
   "id": "e0f14088",
   "metadata": {
    "execution": {
     "iopub.execute_input": "2023-02-12T08:26:44.038879Z",
     "iopub.status.busy": "2023-02-12T08:26:44.038193Z",
     "iopub.status.idle": "2023-02-12T08:26:44.042092Z",
     "shell.execute_reply": "2023-02-12T08:26:44.041264Z"
    },
    "papermill": {
     "duration": 0.01195,
     "end_time": "2023-02-12T08:26:44.043580",
     "exception": false,
     "start_time": "2023-02-12T08:26:44.031630",
     "status": "completed"
    },
    "tags": [
     "injected-parameters"
    ]
   },
   "outputs": [],
   "source": [
    "# Parameters\n",
    "reg = 17\n"
   ]
  },
  {
   "cell_type": "markdown",
   "id": "f2d31af4-b2b2-4dc9-b286-be594f2feb7e",
   "metadata": {
    "papermill": {
     "duration": 0.005696,
     "end_time": "2023-02-12T08:26:44.055376",
     "exception": false,
     "start_time": "2023-02-12T08:26:44.049680",
     "status": "completed"
    },
    "tags": []
   },
   "source": [
    "### Load the input data"
   ]
  },
  {
   "cell_type": "code",
   "execution_count": 7,
   "id": "caab54b7-92c0-45fa-a943-25225b119001",
   "metadata": {
    "execution": {
     "iopub.execute_input": "2023-02-12T08:26:44.069145Z",
     "iopub.status.busy": "2023-02-12T08:26:44.068458Z",
     "iopub.status.idle": "2023-02-12T08:26:50.339686Z",
     "shell.execute_reply": "2023-02-12T08:26:50.338744Z"
    },
    "papermill": {
     "duration": 6.280131,
     "end_time": "2023-02-12T08:26:50.342031",
     "exception": false,
     "start_time": "2023-02-12T08:26:44.061900",
     "status": "completed"
    },
    "tags": []
   },
   "outputs": [
    {
     "name": "stderr",
     "output_type": "stream",
     "text": [
      "VSIFSeekL(xxx, SEEK_END) may be really slow on GZip streams.\n"
     ]
    }
   ],
   "source": [
    "# Read files\n",
    "shp = open_tar_shapefile(input_dir + f'/RGI{reg:02d}.tar.gz')"
   ]
  },
  {
   "cell_type": "code",
   "execution_count": 8,
   "id": "77cf5415-997a-4aab-be08-726242a61228",
   "metadata": {
    "execution": {
     "iopub.execute_input": "2023-02-12T08:26:50.365448Z",
     "iopub.status.busy": "2023-02-12T08:26:50.365043Z",
     "iopub.status.idle": "2023-02-12T08:26:50.482278Z",
     "shell.execute_reply": "2023-02-12T08:26:50.481362Z"
    },
    "papermill": {
     "duration": 0.130035,
     "end_time": "2023-02-12T08:26:50.484483",
     "exception": false,
     "start_time": "2023-02-12T08:26:50.354448",
     "status": "completed"
    },
    "tags": []
   },
   "outputs": [],
   "source": [
    "orig_attrs = pd.DataFrame(shp.drop('geometry', axis=1))\n",
    "orig_attrs.T;"
   ]
  },
  {
   "cell_type": "code",
   "execution_count": 9,
   "id": "e1b92b0a-3767-455a-8884-4666b0cf504a",
   "metadata": {
    "execution": {
     "iopub.execute_input": "2023-02-12T08:26:50.507177Z",
     "iopub.status.busy": "2023-02-12T08:26:50.506504Z",
     "iopub.status.idle": "2023-02-12T08:26:50.511352Z",
     "shell.execute_reply": "2023-02-12T08:26:50.510399Z"
    },
    "papermill": {
     "duration": 0.016254,
     "end_time": "2023-02-12T08:26:50.512859",
     "exception": false,
     "start_time": "2023-02-12T08:26:50.496605",
     "status": "completed"
    },
    "tags": []
   },
   "outputs": [],
   "source": [
    "if 'conn_lvl' not in shp:\n",
    "    print('Add conn_lvl')\n",
    "    shp['conn_lvl'] = 0"
   ]
  },
  {
   "cell_type": "code",
   "execution_count": 10,
   "id": "e09e91a0-6561-4cd7-907a-60aeb23e545f",
   "metadata": {
    "execution": {
     "iopub.execute_input": "2023-02-12T08:26:50.527446Z",
     "iopub.status.busy": "2023-02-12T08:26:50.526727Z",
     "iopub.status.idle": "2023-02-12T08:26:50.541183Z",
     "shell.execute_reply": "2023-02-12T08:26:50.540063Z"
    },
    "papermill": {
     "duration": 0.023099,
     "end_time": "2023-02-12T08:26:50.542748",
     "exception": false,
     "start_time": "2023-02-12T08:26:50.519649",
     "status": "completed"
    },
    "tags": []
   },
   "outputs": [],
   "source": [
    "odf = shp.copy()"
   ]
  },
  {
   "cell_type": "code",
   "execution_count": 11,
   "id": "17837ca6-2d55-4ae7-af15-4b572f2eefbf",
   "metadata": {
    "execution": {
     "iopub.execute_input": "2023-02-12T08:26:50.557217Z",
     "iopub.status.busy": "2023-02-12T08:26:50.556662Z",
     "iopub.status.idle": "2023-02-12T08:26:50.572835Z",
     "shell.execute_reply": "2023-02-12T08:26:50.571814Z"
    },
    "papermill": {
     "duration": 0.024812,
     "end_time": "2023-02-12T08:26:50.574295",
     "exception": false,
     "start_time": "2023-02-12T08:26:50.549483",
     "status": "completed"
    },
    "tags": []
   },
   "outputs": [],
   "source": [
    "rename = {'area':'area_km2', 'CenLon': 'cenlon', 'CenLat': 'cenlat', 'glac_id':'glims_id'}\n",
    "odf = odf.rename(rename, axis=1)"
   ]
  },
  {
   "cell_type": "markdown",
   "id": "c2895b31-0bb5-4192-a158-c6ff07abd1ba",
   "metadata": {
    "papermill": {
     "duration": 0.006115,
     "end_time": "2023-02-12T08:26:50.587467",
     "exception": false,
     "start_time": "2023-02-12T08:26:50.581352",
     "status": "completed"
    },
    "tags": []
   },
   "source": [
    "Recompute area and center point to be sure:"
   ]
  },
  {
   "cell_type": "code",
   "execution_count": 12,
   "id": "b54183cb-e0e5-4e82-942d-dbde26f1e7a3",
   "metadata": {
    "execution": {
     "iopub.execute_input": "2023-02-12T08:26:50.602711Z",
     "iopub.status.busy": "2023-02-12T08:26:50.601884Z",
     "iopub.status.idle": "2023-02-12T08:26:52.130718Z",
     "shell.execute_reply": "2023-02-12T08:26:52.129782Z"
    },
    "papermill": {
     "duration": 1.538681,
     "end_time": "2023-02-12T08:26:52.132970",
     "exception": false,
     "start_time": "2023-02-12T08:26:50.594289",
     "status": "completed"
    },
    "tags": []
   },
   "outputs": [],
   "source": [
    "def xy_coord(geom):\n",
    "    x, y = geom.xy\n",
    "    return x[0], y[0]\n",
    "\n",
    "rp = odf.representative_point()\n",
    "\n",
    "coordinates = np.array(list(rp.apply(xy_coord)))\n",
    "odf['cenlon'] = coordinates[:, 0]\n",
    "odf['cenlat'] = coordinates[:, 1]\n",
    "\n",
    "odf['area_km2'] = odf.to_crs({'proj':'cea'}).area * 1e-6"
   ]
  },
  {
   "cell_type": "code",
   "execution_count": 13,
   "id": "14dff652-d75c-4702-90d0-8e2462577487",
   "metadata": {
    "execution": {
     "iopub.execute_input": "2023-02-12T08:26:52.156685Z",
     "iopub.status.busy": "2023-02-12T08:26:52.156007Z",
     "iopub.status.idle": "2023-02-12T08:26:52.181052Z",
     "shell.execute_reply": "2023-02-12T08:26:52.180065Z"
    },
    "papermill": {
     "duration": 0.037823,
     "end_time": "2023-02-12T08:26:52.183014",
     "exception": false,
     "start_time": "2023-02-12T08:26:52.145191",
     "status": "completed"
    },
    "tags": []
   },
   "outputs": [],
   "source": [
    "odf['glac_name'] = odf['glac_name'].where(odf['glac_name'] != 'None', '')"
   ]
  },
  {
   "cell_type": "markdown",
   "id": "8d88df3a-a0da-41aa-80a2-6ee799789b25",
   "metadata": {
    "papermill": {
     "duration": 0.009324,
     "end_time": "2023-02-12T08:26:52.202869",
     "exception": false,
     "start_time": "2023-02-12T08:26:52.193545",
     "status": "completed"
    },
    "tags": []
   },
   "source": [
    "## Metadata "
   ]
  },
  {
   "cell_type": "code",
   "execution_count": 14,
   "id": "3da9f86f-42fa-4ae4-b5f5-bbc2708d7f80",
   "metadata": {
    "execution": {
     "iopub.execute_input": "2023-02-12T08:26:52.214007Z",
     "iopub.status.busy": "2023-02-12T08:26:52.213491Z",
     "iopub.status.idle": "2023-02-12T08:26:52.218412Z",
     "shell.execute_reply": "2023-02-12T08:26:52.217501Z"
    },
    "papermill": {
     "duration": 0.011915,
     "end_time": "2023-02-12T08:26:52.219584",
     "exception": false,
     "start_time": "2023-02-12T08:26:52.207669",
     "status": "completed"
    },
    "tags": []
   },
   "outputs": [],
   "source": [
    "with open('../rgi7_attributes_metadata.json', 'r') as infile:\n",
    "    meta = json.load(infile)"
   ]
  },
  {
   "cell_type": "code",
   "execution_count": 15,
   "id": "6efe0d1f-3125-4062-b9c4-2d9717db2e98",
   "metadata": {
    "execution": {
     "iopub.execute_input": "2023-02-12T08:26:52.232724Z",
     "iopub.status.busy": "2023-02-12T08:26:52.232040Z",
     "iopub.status.idle": "2023-02-12T08:26:52.270374Z",
     "shell.execute_reply": "2023-02-12T08:26:52.269585Z"
    },
    "papermill": {
     "duration": 0.047495,
     "end_time": "2023-02-12T08:26:52.272274",
     "exception": false,
     "start_time": "2023-02-12T08:26:52.224779",
     "status": "completed"
    },
    "tags": []
   },
   "outputs": [],
   "source": [
    "odf_new = odf[[]].copy().reset_index(drop=True)\n",
    "\n",
    "for col, attrs in meta.items():\n",
    "    if col not in odf:\n",
    "        if attrs['datatype'] == 'str':\n",
    "            odf_new[col] = ''\n",
    "        elif attrs['datatype'] == 'float':\n",
    "            odf_new[col] = np.NaN\n",
    "        elif attrs['datatype'] == 'int':\n",
    "            odf_new[col] = -999 \n",
    "    else: \n",
    "        if attrs['datatype']:\n",
    "            odf_new[col] = odf[col].astype(attrs['datatype'])\n",
    "        else: \n",
    "            odf_new[col] = odf[col]"
   ]
  },
  {
   "cell_type": "code",
   "execution_count": 16,
   "id": "19f7932c-0795-487e-89d3-f72c20eeb1c4",
   "metadata": {
    "execution": {
     "iopub.execute_input": "2023-02-12T08:26:52.295488Z",
     "iopub.status.busy": "2023-02-12T08:26:52.295072Z",
     "iopub.status.idle": "2023-02-12T08:26:52.315561Z",
     "shell.execute_reply": "2023-02-12T08:26:52.314675Z"
    },
    "papermill": {
     "duration": 0.03359,
     "end_time": "2023-02-12T08:26:52.317773",
     "exception": false,
     "start_time": "2023-02-12T08:26:52.284183",
     "status": "completed"
    },
    "tags": []
   },
   "outputs": [],
   "source": [
    "odf_new = gpd.GeoDataFrame(odf_new)\n",
    "odf_new.crs = odf.crs\n",
    "odf_new = odf_new.reset_index(drop=True)\n",
    "odf_new.iloc[:1].T;"
   ]
  },
  {
   "cell_type": "markdown",
   "id": "450e8521-6572-474c-afe5-0989eb843536",
   "metadata": {
    "papermill": {
     "duration": 0.00912,
     "end_time": "2023-02-12T08:26:52.337556",
     "exception": false,
     "start_time": "2023-02-12T08:26:52.328436",
     "status": "completed"
    },
    "tags": []
   },
   "source": [
    "## Regions, subregions and RGI IDs"
   ]
  },
  {
   "cell_type": "code",
   "execution_count": 17,
   "id": "544c32b7-a630-4f2b-a82d-5a2372ad527d",
   "metadata": {
    "execution": {
     "iopub.execute_input": "2023-02-12T08:26:52.352461Z",
     "iopub.status.busy": "2023-02-12T08:26:52.351777Z",
     "iopub.status.idle": "2023-02-12T08:26:52.359292Z",
     "shell.execute_reply": "2023-02-12T08:26:52.358540Z"
    },
    "papermill": {
     "duration": 0.016253,
     "end_time": "2023-02-12T08:26:52.360617",
     "exception": false,
     "start_time": "2023-02-12T08:26:52.344364",
     "status": "completed"
    },
    "tags": []
   },
   "outputs": [],
   "source": [
    "odf_new['o1region'] = f'{reg:02d}'"
   ]
  },
  {
   "cell_type": "code",
   "execution_count": 18,
   "id": "21cc6a76-449e-41be-9f83-76f94e0aaede",
   "metadata": {
    "execution": {
     "iopub.execute_input": "2023-02-12T08:26:52.375207Z",
     "iopub.status.busy": "2023-02-12T08:26:52.374546Z",
     "iopub.status.idle": "2023-02-12T08:26:52.442263Z",
     "shell.execute_reply": "2023-02-12T08:26:52.441534Z"
    },
    "papermill": {
     "duration": 0.076831,
     "end_time": "2023-02-12T08:26:52.444119",
     "exception": false,
     "start_time": "2023-02-12T08:26:52.367288",
     "status": "completed"
    },
    "tags": []
   },
   "outputs": [],
   "source": [
    "sreg_file = os.path.join(data_dir, '00_rgi70_regions', '00_rgi70_O2Regions')\n",
    "sreg = gpd.read_file(sreg_file)\n",
    "sreg = sreg.loc[sreg.o1region == f'{reg:02d}']\n",
    "sreg;"
   ]
  },
  {
   "cell_type": "code",
   "execution_count": 19,
   "id": "29782e31-7feb-46f1-8398-16296d7dc5ee",
   "metadata": {
    "execution": {
     "iopub.execute_input": "2023-02-12T08:26:52.466670Z",
     "iopub.status.busy": "2023-02-12T08:26:52.466524Z",
     "iopub.status.idle": "2023-02-12T08:27:03.734270Z",
     "shell.execute_reply": "2023-02-12T08:27:03.733661Z"
    },
    "papermill": {
     "duration": 11.281069,
     "end_time": "2023-02-12T08:27:03.737180",
     "exception": false,
     "start_time": "2023-02-12T08:26:52.456111",
     "status": "completed"
    },
    "tags": []
   },
   "outputs": [
    {
     "name": "stderr",
     "output_type": "stream",
     "text": [
      "RGI17: all subregions have glaciers in them\n"
     ]
    }
   ],
   "source": [
    "baseid = f'RGI2000-v7.0-G-{reg:02d}-'\n",
    "count = 0\n",
    "\n",
    "rp = odf_new.representative_point()\n",
    "rp = rp.to_frame('geometry')\n",
    "rp['orig_index'] = odf_new.index\n",
    "\n",
    "total = 0\n",
    "\n",
    "for i, s in sreg.iterrows():\n",
    "    \n",
    "    intersect = gpd.overlay(rp, sreg.loc[[i]], how='intersection')\n",
    "    odf_sreg = odf_new.loc[intersect['orig_index']].copy()\n",
    "    odf_sreg['o2region'] = s['o2region']\n",
    "    \n",
    "    total += len(odf_sreg)\n",
    "    \n",
    "    if len(odf_sreg) == 0:\n",
    "        # 19-05 Ross Ice Shelf one of them\n",
    "        continue\n",
    "    \n",
    "    # Ids generation\n",
    "    # Left most point and we start from there\n",
    "    slon, slat = odf_sreg.loc[odf_sreg.cenlon == odf_sreg.cenlon.min()][['cenlon', 'cenlat']].iloc[0].values\n",
    "    \n",
    "    todo = odf_sreg.index.values\n",
    "    todo_lon = odf_sreg['cenlon'].values\n",
    "    todo_lat = odf_sreg['cenlat'].values\n",
    "    ids = []\n",
    "    while len(todo) > 0:\n",
    "        dis = haversine(slon, slat, todo_lon, todo_lat)\n",
    "        idm = np.argmin(dis)\n",
    "        ids.append(todo[idm])\n",
    "        slon, slat = todo_lon[idm], todo_lat[idm]\n",
    "        todo = np.delete(todo, idm)\n",
    "        todo_lon = np.delete(todo_lon, idm)\n",
    "        todo_lat = np.delete(todo_lat, idm)\n",
    "    \n",
    "    assert len(ids) == len(odf_sreg)\n",
    "    odf_sreg = odf_sreg.loc[ids].copy()\n",
    "    \n",
    "    odf_sreg['rgi_id'] = [baseid + f'{l+count:05d}' for l in range(len(odf_sreg))]\n",
    "    count += len(odf_sreg)\n",
    "    odf_new.loc[odf_sreg.index, 'rgi_id'] = odf_sreg['rgi_id']\n",
    "    odf_new.loc[odf_sreg.index, 'o2region'] = odf_sreg['o2region']\n",
    "    \n",
    "odf_new = odf_new.sort_values(by='rgi_id').reset_index(drop=True)\n",
    "\n",
    "assert odf_new['o2region'].isnull().sum() == 0\n",
    "assert int(odf_new.iloc[-1]['rgi_id'].split('-')[-1]) == odf_new.iloc[-1].name\n",
    "if len(odf_new['o2region'].unique()) != len(sreg):\n",
    "    log.warning(f'RGI{reg:02d}: some subregions have NO glaciers in them')\n",
    "else:\n",
    "    log.info(f'RGI{reg:02d}: all subregions have glaciers in them')\n",
    "assert len(odf_new) == len(odf)"
   ]
  },
  {
   "cell_type": "code",
   "execution_count": 20,
   "id": "567e0186-4fa8-448b-83e3-f900ea245a4e",
   "metadata": {
    "execution": {
     "iopub.execute_input": "2023-02-12T08:27:03.759517Z",
     "iopub.status.busy": "2023-02-12T08:27:03.759193Z",
     "iopub.status.idle": "2023-02-12T08:27:03.766032Z",
     "shell.execute_reply": "2023-02-12T08:27:03.765401Z"
    },
    "papermill": {
     "duration": 0.018774,
     "end_time": "2023-02-12T08:27:03.767139",
     "exception": false,
     "start_time": "2023-02-12T08:27:03.748365",
     "status": "completed"
    },
    "tags": []
   },
   "outputs": [],
   "source": [
    "odf_new.iloc[:1].T;"
   ]
  },
  {
   "cell_type": "markdown",
   "id": "ad528b70-acfd-47db-99f3-3e123373516a",
   "metadata": {
    "papermill": {
     "duration": 0.005055,
     "end_time": "2023-02-12T08:27:03.778497",
     "exception": false,
     "start_time": "2023-02-12T08:27:03.773442",
     "status": "completed"
    },
    "tags": []
   },
   "source": [
    "## Submission metadata"
   ]
  },
  {
   "cell_type": "code",
   "execution_count": 21,
   "id": "470e8c16-42eb-443f-a176-c767ee7c3722",
   "metadata": {
    "execution": {
     "iopub.execute_input": "2023-02-12T08:27:03.793344Z",
     "iopub.status.busy": "2023-02-12T08:27:03.793033Z",
     "iopub.status.idle": "2023-02-12T08:27:03.797699Z",
     "shell.execute_reply": "2023-02-12T08:27:03.796960Z"
    },
    "papermill": {
     "duration": 0.013601,
     "end_time": "2023-02-12T08:27:03.799040",
     "exception": false,
     "start_time": "2023-02-12T08:27:03.785439",
     "status": "completed"
    },
    "tags": []
   },
   "outputs": [],
   "source": [
    "with open('../rgi7_submission_info_metadata.json', 'r') as infile:\n",
    "    meta_sub = json.load(infile)"
   ]
  },
  {
   "cell_type": "code",
   "execution_count": 22,
   "id": "00c9d8ae-9743-4540-a5f4-50e44c0da289",
   "metadata": {
    "execution": {
     "iopub.execute_input": "2023-02-12T08:27:03.814269Z",
     "iopub.status.busy": "2023-02-12T08:27:03.813974Z",
     "iopub.status.idle": "2023-02-12T08:27:03.870680Z",
     "shell.execute_reply": "2023-02-12T08:27:03.870055Z"
    },
    "papermill": {
     "duration": 0.066204,
     "end_time": "2023-02-12T08:27:03.872532",
     "exception": false,
     "start_time": "2023-02-12T08:27:03.806328",
     "status": "completed"
    },
    "tags": []
   },
   "outputs": [],
   "source": [
    "subm_id = orig_attrs['subm_id'].unique()\n",
    "odf_subm = pd.DataFrame()\n",
    "for sid in subm_id:\n",
    "    sel = orig_attrs.loc[orig_attrs['subm_id'] == sid]\n",
    "    for k in meta_sub.keys():\n",
    "        if k == 'subm_id':\n",
    "            continue\n",
    "        attrs = meta_sub[k]\n",
    "        if k not in sel:\n",
    "            if attrs['datatype'] == 'str':\n",
    "                odf_subm.loc[int(sid), k] = ''\n",
    "            elif attrs['datatype'] == 'float':\n",
    "                odf_subm.loc[int(sid), k] = np.NaN\n",
    "            elif attrs['datatype'] == 'int':\n",
    "                odf_subm.loc[int(sid), k] = -999\n",
    "        else: \n",
    "            assert len(sel[k].unique()==1), f'{k} has non unique values'\n",
    "            if attrs['datatype']:\n",
    "                data = sel[k].astype(attrs['datatype']).iloc[0]\n",
    "            else: \n",
    "                data = sel[k].iloc[0]\n",
    "                \n",
    "            if attrs['datatype'] == 'str':\n",
    "                # Clean\n",
    "                data = data.strip().lstrip(';').strip()\n",
    "                \n",
    "            odf_subm.loc[int(sid), k] = data\n",
    "            \n",
    "    odf_subm.loc[int(sid), 'n_outlines'] = len(sel)\n",
    "    odf_subm.loc[int(sid), 'area_km2'] = sel['area'].sum() * 1e-6\n",
    "        \n",
    "odf_subm.index.name = 'subm_id' \n",
    "odf_subm['n_outlines'] = odf_subm['n_outlines'].astype(int)\n",
    "odf_subm['rc_id'] = odf_subm['rc_id'].astype(int)\n",
    "odf_subm = odf_subm.sort_index()\n",
    "odf_subm;"
   ]
  },
  {
   "cell_type": "markdown",
   "id": "1e9da820-bb63-44ba-9c9e-4b9bb43dc83d",
   "metadata": {
    "papermill": {
     "duration": 0.008651,
     "end_time": "2023-02-12T08:27:03.893115",
     "exception": false,
     "start_time": "2023-02-12T08:27:03.884464",
     "status": "completed"
    },
    "tags": []
   },
   "source": [
    "## Write out and tar "
   ]
  },
  {
   "cell_type": "code",
   "execution_count": 23,
   "id": "a9f2ad69-a5e6-49ad-b2c3-7e928bbd2a29",
   "metadata": {
    "execution": {
     "iopub.execute_input": "2023-02-12T08:27:03.904155Z",
     "iopub.status.busy": "2023-02-12T08:27:03.903853Z",
     "iopub.status.idle": "2023-02-12T08:27:03.945972Z",
     "shell.execute_reply": "2023-02-12T08:27:03.945374Z"
    },
    "papermill": {
     "duration": 0.049646,
     "end_time": "2023-02-12T08:27:03.947840",
     "exception": false,
     "start_time": "2023-02-12T08:27:03.898194",
     "status": "completed"
    },
    "tags": []
   },
   "outputs": [],
   "source": [
    "reg_file = os.path.join(data_dir, '00_rgi70_regions', '00_rgi70_O1Regions')\n",
    "reg_file = gpd.read_file(reg_file)\n",
    "reg_file = reg_file.loc[reg_file.o1region == f'{reg:02d}'].iloc[0]"
   ]
  },
  {
   "cell_type": "code",
   "execution_count": 24,
   "id": "6280b37d-6683-4670-b499-181fa14b57e9",
   "metadata": {
    "execution": {
     "iopub.execute_input": "2023-02-12T08:27:03.966623Z",
     "iopub.status.busy": "2023-02-12T08:27:03.966431Z",
     "iopub.status.idle": "2023-02-12T08:27:40.588661Z",
     "shell.execute_reply": "2023-02-12T08:27:40.587607Z"
    },
    "papermill": {
     "duration": 36.632636,
     "end_time": "2023-02-12T08:27:40.591046",
     "exception": false,
     "start_time": "2023-02-12T08:27:03.958410",
     "status": "completed"
    },
    "tags": []
   },
   "outputs": [
    {
     "name": "stdout",
     "output_type": "stream",
     "text": [
      "Writing...\n"
     ]
    },
    {
     "name": "stdout",
     "output_type": "stream",
     "text": [
      "Taring...\n",
      "RGI2000-v7.0-G-17_southern_andes/\n",
      "RGI2000-v7.0-G-17_southern_andes/RGI2000-v7.0-G-17_southern_andes.cpg\n",
      "RGI2000-v7.0-G-17_southern_andes/RGI2000-v7.0-G-17_southern_andes.prj\n",
      "RGI2000-v7.0-G-17_southern_andes/RGI2000-v7.0-G-17_southern_andes.shx\n",
      "RGI2000-v7.0-G-17_southern_andes/RGI2000-v7.0-G-17_southern_andes_subm_info.csv\n",
      "RGI2000-v7.0-G-17_southern_andes/RGI2000-v7.0-G-17_southern_andes.dbf\n"
     ]
    },
    {
     "name": "stdout",
     "output_type": "stream",
     "text": [
      "RGI2000-v7.0-G-17_southern_andes/RGI2000-v7.0-G-17_southern_andes.shp\n"
     ]
    },
    {
     "name": "stdout",
     "output_type": "stream",
     "text": [
      "RGI2000-v7.0-G-17_southern_andes/README.md\n",
      "RGI2000-v7.0-G-17_southern_andes/RGI2000-v7.0-G-17_southern_andes_attributes.csv\n",
      "CompletedProcess(args=['tar', '-zcvf', '../../../../rgi7_data/l4_rgi7b0_tar/RGI2000-v7.0-G-17_southern_andes.tar.gz', '-C', '../../../../rgi7_data/l4_rgi7b0', 'RGI2000-v7.0-G-17_southern_andes'], returncode=0)\n"
     ]
    }
   ],
   "source": [
    "dd = mkdir(f'{output_dir}/RGI2000-v7.0-G-{reg_file.long_code}/', reset=True)\n",
    "\n",
    "print('Writing...')\n",
    "odf_new.to_file(dd + f'RGI2000-v7.0-G-{reg_file.long_code}.shp')\n",
    "odf_subm.to_csv(dd + f'RGI2000-v7.0-G-{reg_file.long_code}_subm_info.csv', quoting=csv.QUOTE_NONNUMERIC)\n",
    "odf_new.drop('geometry', axis=1).set_index('rgi_id').to_csv(dd + f'RGI2000-v7.0-G-{reg_file.long_code}_attributes.csv', quoting=csv.QUOTE_NONNUMERIC)\n",
    "shutil.copyfile('../README_tpl.md', dd + f'README.md')\n",
    "\n",
    "print('Taring...')\n",
    "print(subprocess.run(['tar', '-zcvf', f'{output_dir_tar}/RGI2000-v7.0-G-{reg_file.long_code}.tar.gz', '-C', output_dir, f'RGI2000-v7.0-G-{reg_file.long_code}']))"
   ]
  },
  {
   "cell_type": "code",
   "execution_count": 25,
   "id": "7667dbd4-fc48-445c-bee8-6156c82bfa3e",
   "metadata": {
    "execution": {
     "iopub.execute_input": "2023-02-12T08:27:40.615399Z",
     "iopub.status.busy": "2023-02-12T08:27:40.615076Z",
     "iopub.status.idle": "2023-02-12T08:27:40.619786Z",
     "shell.execute_reply": "2023-02-12T08:27:40.618818Z"
    },
    "papermill": {
     "duration": 0.015205,
     "end_time": "2023-02-12T08:27:40.621045",
     "exception": false,
     "start_time": "2023-02-12T08:27:40.605840",
     "status": "completed"
    },
    "tags": []
   },
   "outputs": [],
   "source": [
    "odf_new;"
   ]
  },
  {
   "cell_type": "code",
   "execution_count": 26,
   "id": "1b64b5cc-046a-4d96-a3ce-d047d9e20a8b",
   "metadata": {
    "execution": {
     "iopub.execute_input": "2023-02-12T08:27:40.633340Z",
     "iopub.status.busy": "2023-02-12T08:27:40.633044Z",
     "iopub.status.idle": "2023-02-12T08:27:40.637979Z",
     "shell.execute_reply": "2023-02-12T08:27:40.637163Z"
    },
    "papermill": {
     "duration": 0.012524,
     "end_time": "2023-02-12T08:27:40.639327",
     "exception": false,
     "start_time": "2023-02-12T08:27:40.626803",
     "status": "completed"
    },
    "tags": []
   },
   "outputs": [],
   "source": [
    "import glob, os\n",
    "for f in glob.glob( f\"{output_dir_tar}/*.properties\"):\n",
    "    os.remove(f)"
   ]
  },
  {
   "cell_type": "markdown",
   "id": "7bd3a216-a8bf-4eb7-a485-7c38fc18066c",
   "metadata": {
    "papermill": {
     "duration": 0.007061,
     "end_time": "2023-02-12T08:27:40.653842",
     "exception": false,
     "start_time": "2023-02-12T08:27:40.646781",
     "status": "completed"
    },
    "tags": []
   },
   "source": [
    "## Merged product "
   ]
  },
  {
   "cell_type": "code",
   "execution_count": 27,
   "id": "63ba1a72-5dd3-445c-8e0e-5566a2e09085",
   "metadata": {
    "execution": {
     "iopub.execute_input": "2023-02-12T08:27:40.669377Z",
     "iopub.status.busy": "2023-02-12T08:27:40.669064Z",
     "iopub.status.idle": "2023-02-12T08:27:40.673249Z",
     "shell.execute_reply": "2023-02-12T08:27:40.672381Z"
    },
    "papermill": {
     "duration": 0.013298,
     "end_time": "2023-02-12T08:27:40.674714",
     "exception": false,
     "start_time": "2023-02-12T08:27:40.661416",
     "status": "completed"
    },
    "tags": []
   },
   "outputs": [],
   "source": [
    "# TODO"
   ]
  },
  {
   "cell_type": "code",
   "execution_count": null,
   "id": "61851dc4-fab3-4119-902d-c325ee09c182",
   "metadata": {
    "papermill": {
     "duration": 0.007002,
     "end_time": "2023-02-12T08:27:40.689298",
     "exception": false,
     "start_time": "2023-02-12T08:27:40.682296",
     "status": "completed"
    },
    "tags": []
   },
   "outputs": [],
   "source": []
  }
 ],
 "metadata": {
  "kernelspec": {
   "display_name": "Python 3 (ipykernel)",
   "language": "python",
   "name": "python3"
  },
  "language_info": {
   "codemirror_mode": {
    "name": "ipython",
    "version": 3
   },
   "file_extension": ".py",
   "mimetype": "text/x-python",
   "name": "python",
   "nbconvert_exporter": "python",
   "pygments_lexer": "ipython3",
   "version": "3.10.8"
  },
  "papermill": {
   "default_parameters": {},
   "duration": 60.675522,
   "end_time": "2023-02-12T08:27:41.317963",
   "environment_variables": {},
   "exception": null,
   "input_path": "alpha_to_beta_tpl.ipynb",
   "output_path": "alpha_to_beta_RGI17.ipynb",
   "parameters": {
    "reg": 17
   },
   "start_time": "2023-02-12T08:26:40.642441",
   "version": "2.3.4"
  }
 },
 "nbformat": 4,
 "nbformat_minor": 5
}