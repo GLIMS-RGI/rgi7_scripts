{
 "cells": [
  {
   "cell_type": "code",
   "execution_count": 1,
   "id": "46adc67a-c914-4b66-a3de-aed2506fb298",
   "metadata": {
    "execution": {
     "iopub.execute_input": "2023-02-12T08:19:18.050647Z",
     "iopub.status.busy": "2023-02-12T08:19:18.050177Z",
     "iopub.status.idle": "2023-02-12T08:19:18.477431Z",
     "shell.execute_reply": "2023-02-12T08:19:18.476548Z"
    },
    "papermill": {
     "duration": 0.440373,
     "end_time": "2023-02-12T08:19:18.479679",
     "exception": false,
     "start_time": "2023-02-12T08:19:18.039306",
     "status": "completed"
    },
    "tags": []
   },
   "outputs": [],
   "source": [
    "import pandas as pd\n",
    "import geopandas as gpd\n",
    "import subprocess\n",
    "import numpy as np\n",
    "import shapely.geometry as shpg\n",
    "import os\n",
    "import sys\n",
    "import csv\n",
    "import json\n",
    "import logging\n",
    "import shutil"
   ]
  },
  {
   "cell_type": "code",
   "execution_count": 2,
   "id": "bad5729c-29eb-4fb6-80cf-b7d279f0343a",
   "metadata": {
    "execution": {
     "iopub.execute_input": "2023-02-12T08:19:18.500721Z",
     "iopub.status.busy": "2023-02-12T08:19:18.500434Z",
     "iopub.status.idle": "2023-02-12T08:19:18.504289Z",
     "shell.execute_reply": "2023-02-12T08:19:18.503588Z"
    },
    "papermill": {
     "duration": 0.015567,
     "end_time": "2023-02-12T08:19:18.506284",
     "exception": false,
     "start_time": "2023-02-12T08:19:18.490717",
     "status": "completed"
    },
    "tags": []
   },
   "outputs": [],
   "source": [
    "import warnings\n",
    "warnings.filterwarnings('ignore', category=FutureWarning)"
   ]
  },
  {
   "cell_type": "code",
   "execution_count": 3,
   "id": "c62aa692-c347-4e74-bc0f-c0cdc9da4669",
   "metadata": {
    "execution": {
     "iopub.execute_input": "2023-02-12T08:19:18.524438Z",
     "iopub.status.busy": "2023-02-12T08:19:18.523743Z",
     "iopub.status.idle": "2023-02-12T08:19:20.336570Z",
     "shell.execute_reply": "2023-02-12T08:19:20.335853Z"
    },
    "papermill": {
     "duration": 1.822997,
     "end_time": "2023-02-12T08:19:20.338806",
     "exception": false,
     "start_time": "2023-02-12T08:19:18.515809",
     "status": "completed"
    },
    "tags": []
   },
   "outputs": [],
   "source": [
    "sys.path.append(os.getcwd() + '/../..')\n",
    "from utils import mkdir, open_zip_shapefile, open_tar_shapefile, haversine"
   ]
  },
  {
   "cell_type": "code",
   "execution_count": 4,
   "id": "7c601bdf-1db0-429e-bb22-479f14ffe496",
   "metadata": {
    "execution": {
     "iopub.execute_input": "2023-02-12T08:19:20.360496Z",
     "iopub.status.busy": "2023-02-12T08:19:20.359986Z",
     "iopub.status.idle": "2023-02-12T08:19:20.365071Z",
     "shell.execute_reply": "2023-02-12T08:19:20.364169Z"
    },
    "papermill": {
     "duration": 0.016194,
     "end_time": "2023-02-12T08:19:20.366310",
     "exception": false,
     "start_time": "2023-02-12T08:19:20.350116",
     "status": "completed"
    },
    "tags": []
   },
   "outputs": [],
   "source": [
    "log = logging.getLogger('papermill')\n",
    "logging.basicConfig(level='INFO', format=\"%(message)s\")"
   ]
  },
  {
   "cell_type": "markdown",
   "id": "8487f7be-608e-44f1-88ec-671465325a11",
   "metadata": {
    "papermill": {
     "duration": 0.004406,
     "end_time": "2023-02-12T08:19:20.375712",
     "exception": false,
     "start_time": "2023-02-12T08:19:20.371306",
     "status": "completed"
    },
    "tags": []
   },
   "source": [
    "## Files and storage paths"
   ]
  },
  {
   "cell_type": "code",
   "execution_count": 5,
   "id": "1c753f79-c5b6-49f0-b6ba-bfe40fd7eac3",
   "metadata": {
    "execution": {
     "iopub.execute_input": "2023-02-12T08:19:20.387703Z",
     "iopub.status.busy": "2023-02-12T08:19:20.387334Z",
     "iopub.status.idle": "2023-02-12T08:19:20.393019Z",
     "shell.execute_reply": "2023-02-12T08:19:20.392144Z"
    },
    "papermill": {
     "duration": 0.013681,
     "end_time": "2023-02-12T08:19:20.394503",
     "exception": false,
     "start_time": "2023-02-12T08:19:20.380822",
     "status": "completed"
    },
    "tags": [
     "parameters"
    ]
   },
   "outputs": [],
   "source": [
    "# Region of interest\n",
    "reg = 1\n",
    "\n",
    "# go down from rgi7_scripts/workflow\n",
    "data_dir = '../../../../rgi7_data/'\n",
    "\n",
    "# Input dirctory\n",
    "input_dir = os.path.join(data_dir, 'l3_rgi7a_tar')\n",
    "\n",
    "# Output directories\n",
    "output_dir = mkdir(os.path.join(data_dir, 'l4_rgi7b0'))\n",
    "output_dir_tar = mkdir(os.path.join(data_dir, 'l4_rgi7b0_tar'))"
   ]
  },
  {
   "cell_type": "code",
   "execution_count": 6,
   "id": "bf2232a0",
   "metadata": {
    "execution": {
     "iopub.execute_input": "2023-02-12T08:19:20.407714Z",
     "iopub.status.busy": "2023-02-12T08:19:20.407350Z",
     "iopub.status.idle": "2023-02-12T08:19:20.411250Z",
     "shell.execute_reply": "2023-02-12T08:19:20.410372Z"
    },
    "papermill": {
     "duration": 0.012127,
     "end_time": "2023-02-12T08:19:20.412777",
     "exception": false,
     "start_time": "2023-02-12T08:19:20.400650",
     "status": "completed"
    },
    "tags": [
     "injected-parameters"
    ]
   },
   "outputs": [],
   "source": [
    "# Parameters\n",
    "reg = 2\n"
   ]
  },
  {
   "cell_type": "markdown",
   "id": "f2d31af4-b2b2-4dc9-b286-be594f2feb7e",
   "metadata": {
    "papermill": {
     "duration": 0.005818,
     "end_time": "2023-02-12T08:19:20.424780",
     "exception": false,
     "start_time": "2023-02-12T08:19:20.418962",
     "status": "completed"
    },
    "tags": []
   },
   "source": [
    "### Load the input data"
   ]
  },
  {
   "cell_type": "code",
   "execution_count": 7,
   "id": "caab54b7-92c0-45fa-a943-25225b119001",
   "metadata": {
    "execution": {
     "iopub.execute_input": "2023-02-12T08:19:20.438194Z",
     "iopub.status.busy": "2023-02-12T08:19:20.437830Z",
     "iopub.status.idle": "2023-02-12T08:19:24.309221Z",
     "shell.execute_reply": "2023-02-12T08:19:24.308320Z"
    },
    "papermill": {
     "duration": 3.880565,
     "end_time": "2023-02-12T08:19:24.311798",
     "exception": false,
     "start_time": "2023-02-12T08:19:20.431233",
     "status": "completed"
    },
    "tags": []
   },
   "outputs": [
    {
     "name": "stderr",
     "output_type": "stream",
     "text": [
      "VSIFSeekL(xxx, SEEK_END) may be really slow on GZip streams.\n"
     ]
    }
   ],
   "source": [
    "# Read files\n",
    "shp = open_tar_shapefile(input_dir + f'/RGI{reg:02d}.tar.gz')"
   ]
  },
  {
   "cell_type": "code",
   "execution_count": 8,
   "id": "77cf5415-997a-4aab-be08-726242a61228",
   "metadata": {
    "execution": {
     "iopub.execute_input": "2023-02-12T08:19:24.334440Z",
     "iopub.status.busy": "2023-02-12T08:19:24.334125Z",
     "iopub.status.idle": "2023-02-12T08:19:24.407073Z",
     "shell.execute_reply": "2023-02-12T08:19:24.406187Z"
    },
    "papermill": {
     "duration": 0.084811,
     "end_time": "2023-02-12T08:19:24.409396",
     "exception": false,
     "start_time": "2023-02-12T08:19:24.324585",
     "status": "completed"
    },
    "tags": []
   },
   "outputs": [],
   "source": [
    "orig_attrs = pd.DataFrame(shp.drop('geometry', axis=1))\n",
    "orig_attrs.T;"
   ]
  },
  {
   "cell_type": "code",
   "execution_count": 9,
   "id": "e1b92b0a-3767-455a-8884-4666b0cf504a",
   "metadata": {
    "execution": {
     "iopub.execute_input": "2023-02-12T08:19:24.430291Z",
     "iopub.status.busy": "2023-02-12T08:19:24.430077Z",
     "iopub.status.idle": "2023-02-12T08:19:24.435035Z",
     "shell.execute_reply": "2023-02-12T08:19:24.434318Z"
    },
    "papermill": {
     "duration": 0.016444,
     "end_time": "2023-02-12T08:19:24.436182",
     "exception": false,
     "start_time": "2023-02-12T08:19:24.419738",
     "status": "completed"
    },
    "tags": []
   },
   "outputs": [
    {
     "name": "stdout",
     "output_type": "stream",
     "text": [
      "Add conn_lvl\n"
     ]
    }
   ],
   "source": [
    "if 'conn_lvl' not in shp:\n",
    "    print('Add conn_lvl')\n",
    "    shp['conn_lvl'] = 0"
   ]
  },
  {
   "cell_type": "code",
   "execution_count": 10,
   "id": "e09e91a0-6561-4cd7-907a-60aeb23e545f",
   "metadata": {
    "execution": {
     "iopub.execute_input": "2023-02-12T08:19:24.448295Z",
     "iopub.status.busy": "2023-02-12T08:19:24.447909Z",
     "iopub.status.idle": "2023-02-12T08:19:24.459232Z",
     "shell.execute_reply": "2023-02-12T08:19:24.458209Z"
    },
    "papermill": {
     "duration": 0.018963,
     "end_time": "2023-02-12T08:19:24.461134",
     "exception": false,
     "start_time": "2023-02-12T08:19:24.442171",
     "status": "completed"
    },
    "tags": []
   },
   "outputs": [],
   "source": [
    "odf = shp.copy()"
   ]
  },
  {
   "cell_type": "code",
   "execution_count": 11,
   "id": "17837ca6-2d55-4ae7-af15-4b572f2eefbf",
   "metadata": {
    "execution": {
     "iopub.execute_input": "2023-02-12T08:19:24.476039Z",
     "iopub.status.busy": "2023-02-12T08:19:24.475484Z",
     "iopub.status.idle": "2023-02-12T08:19:24.489104Z",
     "shell.execute_reply": "2023-02-12T08:19:24.487994Z"
    },
    "papermill": {
     "duration": 0.022907,
     "end_time": "2023-02-12T08:19:24.491123",
     "exception": false,
     "start_time": "2023-02-12T08:19:24.468216",
     "status": "completed"
    },
    "tags": []
   },
   "outputs": [],
   "source": [
    "rename = {'area':'area_km2', 'CenLon': 'cenlon', 'CenLat': 'cenlat', 'glac_id':'glims_id'}\n",
    "odf = odf.rename(rename, axis=1)"
   ]
  },
  {
   "cell_type": "markdown",
   "id": "c2895b31-0bb5-4192-a158-c6ff07abd1ba",
   "metadata": {
    "papermill": {
     "duration": 0.009127,
     "end_time": "2023-02-12T08:19:24.510260",
     "exception": false,
     "start_time": "2023-02-12T08:19:24.501133",
     "status": "completed"
    },
    "tags": []
   },
   "source": [
    "Recompute area and center point to be sure:"
   ]
  },
  {
   "cell_type": "code",
   "execution_count": 12,
   "id": "b54183cb-e0e5-4e82-942d-dbde26f1e7a3",
   "metadata": {
    "execution": {
     "iopub.execute_input": "2023-02-12T08:19:24.526703Z",
     "iopub.status.busy": "2023-02-12T08:19:24.525940Z",
     "iopub.status.idle": "2023-02-12T08:19:25.349224Z",
     "shell.execute_reply": "2023-02-12T08:19:25.348340Z"
    },
    "papermill": {
     "duration": 0.831812,
     "end_time": "2023-02-12T08:19:25.351869",
     "exception": false,
     "start_time": "2023-02-12T08:19:24.520057",
     "status": "completed"
    },
    "tags": []
   },
   "outputs": [],
   "source": [
    "def xy_coord(geom):\n",
    "    x, y = geom.xy\n",
    "    return x[0], y[0]\n",
    "\n",
    "rp = odf.representative_point()\n",
    "\n",
    "coordinates = np.array(list(rp.apply(xy_coord)))\n",
    "odf['cenlon'] = coordinates[:, 0]\n",
    "odf['cenlat'] = coordinates[:, 1]\n",
    "\n",
    "odf['area_km2'] = odf.to_crs({'proj':'cea'}).area * 1e-6"
   ]
  },
  {
   "cell_type": "code",
   "execution_count": 13,
   "id": "14dff652-d75c-4702-90d0-8e2462577487",
   "metadata": {
    "execution": {
     "iopub.execute_input": "2023-02-12T08:19:25.375244Z",
     "iopub.status.busy": "2023-02-12T08:19:25.375042Z",
     "iopub.status.idle": "2023-02-12T08:19:25.389830Z",
     "shell.execute_reply": "2023-02-12T08:19:25.388838Z"
    },
    "papermill": {
     "duration": 0.026627,
     "end_time": "2023-02-12T08:19:25.391737",
     "exception": false,
     "start_time": "2023-02-12T08:19:25.365110",
     "status": "completed"
    },
    "tags": []
   },
   "outputs": [],
   "source": [
    "odf['glac_name'] = odf['glac_name'].where(odf['glac_name'] != 'None', '')"
   ]
  },
  {
   "cell_type": "markdown",
   "id": "8d88df3a-a0da-41aa-80a2-6ee799789b25",
   "metadata": {
    "papermill": {
     "duration": 0.010133,
     "end_time": "2023-02-12T08:19:25.412574",
     "exception": false,
     "start_time": "2023-02-12T08:19:25.402441",
     "status": "completed"
    },
    "tags": []
   },
   "source": [
    "## Metadata "
   ]
  },
  {
   "cell_type": "code",
   "execution_count": 14,
   "id": "3da9f86f-42fa-4ae4-b5f5-bbc2708d7f80",
   "metadata": {
    "execution": {
     "iopub.execute_input": "2023-02-12T08:19:25.424171Z",
     "iopub.status.busy": "2023-02-12T08:19:25.423463Z",
     "iopub.status.idle": "2023-02-12T08:19:25.428437Z",
     "shell.execute_reply": "2023-02-12T08:19:25.427542Z"
    },
    "papermill": {
     "duration": 0.012158,
     "end_time": "2023-02-12T08:19:25.429713",
     "exception": false,
     "start_time": "2023-02-12T08:19:25.417555",
     "status": "completed"
    },
    "tags": []
   },
   "outputs": [],
   "source": [
    "with open('../rgi7_attributes_metadata.json', 'r') as infile:\n",
    "    meta = json.load(infile)"
   ]
  },
  {
   "cell_type": "code",
   "execution_count": 15,
   "id": "6efe0d1f-3125-4062-b9c4-2d9717db2e98",
   "metadata": {
    "execution": {
     "iopub.execute_input": "2023-02-12T08:19:25.443136Z",
     "iopub.status.busy": "2023-02-12T08:19:25.442422Z",
     "iopub.status.idle": "2023-02-12T08:19:25.471098Z",
     "shell.execute_reply": "2023-02-12T08:19:25.470219Z"
    },
    "papermill": {
     "duration": 0.038458,
     "end_time": "2023-02-12T08:19:25.473442",
     "exception": false,
     "start_time": "2023-02-12T08:19:25.434984",
     "status": "completed"
    },
    "tags": []
   },
   "outputs": [],
   "source": [
    "odf_new = odf[[]].copy().reset_index(drop=True)\n",
    "\n",
    "for col, attrs in meta.items():\n",
    "    if col not in odf:\n",
    "        if attrs['datatype'] == 'str':\n",
    "            odf_new[col] = ''\n",
    "        elif attrs['datatype'] == 'float':\n",
    "            odf_new[col] = np.NaN\n",
    "        elif attrs['datatype'] == 'int':\n",
    "            odf_new[col] = -999 \n",
    "    else: \n",
    "        if attrs['datatype']:\n",
    "            odf_new[col] = odf[col].astype(attrs['datatype'])\n",
    "        else: \n",
    "            odf_new[col] = odf[col]"
   ]
  },
  {
   "cell_type": "code",
   "execution_count": 16,
   "id": "19f7932c-0795-487e-89d3-f72c20eeb1c4",
   "metadata": {
    "execution": {
     "iopub.execute_input": "2023-02-12T08:19:25.495600Z",
     "iopub.status.busy": "2023-02-12T08:19:25.495296Z",
     "iopub.status.idle": "2023-02-12T08:19:25.512972Z",
     "shell.execute_reply": "2023-02-12T08:19:25.512054Z"
    },
    "papermill": {
     "duration": 0.029101,
     "end_time": "2023-02-12T08:19:25.515206",
     "exception": false,
     "start_time": "2023-02-12T08:19:25.486105",
     "status": "completed"
    },
    "tags": []
   },
   "outputs": [],
   "source": [
    "odf_new = gpd.GeoDataFrame(odf_new)\n",
    "odf_new.crs = odf.crs\n",
    "odf_new = odf_new.reset_index(drop=True)\n",
    "odf_new.iloc[:1].T;"
   ]
  },
  {
   "cell_type": "markdown",
   "id": "450e8521-6572-474c-afe5-0989eb843536",
   "metadata": {
    "papermill": {
     "duration": 0.010139,
     "end_time": "2023-02-12T08:19:25.536956",
     "exception": false,
     "start_time": "2023-02-12T08:19:25.526817",
     "status": "completed"
    },
    "tags": []
   },
   "source": [
    "## Regions, subregions and RGI IDs"
   ]
  },
  {
   "cell_type": "code",
   "execution_count": 17,
   "id": "544c32b7-a630-4f2b-a82d-5a2372ad527d",
   "metadata": {
    "execution": {
     "iopub.execute_input": "2023-02-12T08:19:25.548783Z",
     "iopub.status.busy": "2023-02-12T08:19:25.548004Z",
     "iopub.status.idle": "2023-02-12T08:19:25.554428Z",
     "shell.execute_reply": "2023-02-12T08:19:25.553500Z"
    },
    "papermill": {
     "duration": 0.013486,
     "end_time": "2023-02-12T08:19:25.555653",
     "exception": false,
     "start_time": "2023-02-12T08:19:25.542167",
     "status": "completed"
    },
    "tags": []
   },
   "outputs": [],
   "source": [
    "odf_new['o1region'] = f'{reg:02d}'"
   ]
  },
  {
   "cell_type": "code",
   "execution_count": 18,
   "id": "21cc6a76-449e-41be-9f83-76f94e0aaede",
   "metadata": {
    "execution": {
     "iopub.execute_input": "2023-02-12T08:19:25.570363Z",
     "iopub.status.busy": "2023-02-12T08:19:25.569667Z",
     "iopub.status.idle": "2023-02-12T08:19:25.635554Z",
     "shell.execute_reply": "2023-02-12T08:19:25.634715Z"
    },
    "papermill": {
     "duration": 0.075416,
     "end_time": "2023-02-12T08:19:25.637881",
     "exception": false,
     "start_time": "2023-02-12T08:19:25.562465",
     "status": "completed"
    },
    "tags": []
   },
   "outputs": [],
   "source": [
    "sreg_file = os.path.join(data_dir, '00_rgi70_regions', '00_rgi70_O2Regions')\n",
    "sreg = gpd.read_file(sreg_file)\n",
    "sreg = sreg.loc[sreg.o1region == f'{reg:02d}']\n",
    "sreg;"
   ]
  },
  {
   "cell_type": "code",
   "execution_count": 19,
   "id": "29782e31-7feb-46f1-8398-16296d7dc5ee",
   "metadata": {
    "execution": {
     "iopub.execute_input": "2023-02-12T08:19:25.659119Z",
     "iopub.status.busy": "2023-02-12T08:19:25.658794Z",
     "iopub.status.idle": "2023-02-12T08:19:29.433757Z",
     "shell.execute_reply": "2023-02-12T08:19:29.432891Z"
    },
    "papermill": {
     "duration": 3.785372,
     "end_time": "2023-02-12T08:19:29.436471",
     "exception": false,
     "start_time": "2023-02-12T08:19:25.651099",
     "status": "completed"
    },
    "tags": []
   },
   "outputs": [
    {
     "name": "stderr",
     "output_type": "stream",
     "text": [
      "RGI02: all subregions have glaciers in them\n"
     ]
    }
   ],
   "source": [
    "baseid = f'RGI2000-v7.0-G-{reg:02d}-'\n",
    "count = 0\n",
    "\n",
    "rp = odf_new.representative_point()\n",
    "rp = rp.to_frame('geometry')\n",
    "rp['orig_index'] = odf_new.index\n",
    "\n",
    "total = 0\n",
    "\n",
    "for i, s in sreg.iterrows():\n",
    "    \n",
    "    intersect = gpd.overlay(rp, sreg.loc[[i]], how='intersection')\n",
    "    odf_sreg = odf_new.loc[intersect['orig_index']].copy()\n",
    "    odf_sreg['o2region'] = s['o2region']\n",
    "    \n",
    "    total += len(odf_sreg)\n",
    "    \n",
    "    if len(odf_sreg) == 0:\n",
    "        # 19-05 Ross Ice Shelf one of them\n",
    "        continue\n",
    "    \n",
    "    # Ids generation\n",
    "    # Left most point and we start from there\n",
    "    slon, slat = odf_sreg.loc[odf_sreg.cenlon == odf_sreg.cenlon.min()][['cenlon', 'cenlat']].iloc[0].values\n",
    "    \n",
    "    todo = odf_sreg.index.values\n",
    "    todo_lon = odf_sreg['cenlon'].values\n",
    "    todo_lat = odf_sreg['cenlat'].values\n",
    "    ids = []\n",
    "    while len(todo) > 0:\n",
    "        dis = haversine(slon, slat, todo_lon, todo_lat)\n",
    "        idm = np.argmin(dis)\n",
    "        ids.append(todo[idm])\n",
    "        slon, slat = todo_lon[idm], todo_lat[idm]\n",
    "        todo = np.delete(todo, idm)\n",
    "        todo_lon = np.delete(todo_lon, idm)\n",
    "        todo_lat = np.delete(todo_lat, idm)\n",
    "    \n",
    "    assert len(ids) == len(odf_sreg)\n",
    "    odf_sreg = odf_sreg.loc[ids].copy()\n",
    "    \n",
    "    odf_sreg['rgi_id'] = [baseid + f'{l+count:05d}' for l in range(len(odf_sreg))]\n",
    "    count += len(odf_sreg)\n",
    "    odf_new.loc[odf_sreg.index, 'rgi_id'] = odf_sreg['rgi_id']\n",
    "    odf_new.loc[odf_sreg.index, 'o2region'] = odf_sreg['o2region']\n",
    "    \n",
    "odf_new = odf_new.sort_values(by='rgi_id').reset_index(drop=True)\n",
    "\n",
    "assert odf_new['o2region'].isnull().sum() == 0\n",
    "assert int(odf_new.iloc[-1]['rgi_id'].split('-')[-1]) == odf_new.iloc[-1].name\n",
    "if len(odf_new['o2region'].unique()) != len(sreg):\n",
    "    log.warning(f'RGI{reg:02d}: some subregions have NO glaciers in them')\n",
    "else:\n",
    "    log.info(f'RGI{reg:02d}: all subregions have glaciers in them')\n",
    "assert len(odf_new) == len(odf)"
   ]
  },
  {
   "cell_type": "code",
   "execution_count": 20,
   "id": "567e0186-4fa8-448b-83e3-f900ea245a4e",
   "metadata": {
    "execution": {
     "iopub.execute_input": "2023-02-12T08:19:29.459392Z",
     "iopub.status.busy": "2023-02-12T08:19:29.459083Z",
     "iopub.status.idle": "2023-02-12T08:19:29.466025Z",
     "shell.execute_reply": "2023-02-12T08:19:29.465188Z"
    },
    "papermill": {
     "duration": 0.019418,
     "end_time": "2023-02-12T08:19:29.467257",
     "exception": false,
     "start_time": "2023-02-12T08:19:29.447839",
     "status": "completed"
    },
    "tags": []
   },
   "outputs": [],
   "source": [
    "odf_new.iloc[:1].T;"
   ]
  },
  {
   "cell_type": "markdown",
   "id": "ad528b70-acfd-47db-99f3-3e123373516a",
   "metadata": {
    "papermill": {
     "duration": 0.005269,
     "end_time": "2023-02-12T08:19:29.478788",
     "exception": false,
     "start_time": "2023-02-12T08:19:29.473519",
     "status": "completed"
    },
    "tags": []
   },
   "source": [
    "## Submission metadata"
   ]
  },
  {
   "cell_type": "code",
   "execution_count": 21,
   "id": "470e8c16-42eb-443f-a176-c767ee7c3722",
   "metadata": {
    "execution": {
     "iopub.execute_input": "2023-02-12T08:19:29.500833Z",
     "iopub.status.busy": "2023-02-12T08:19:29.500512Z",
     "iopub.status.idle": "2023-02-12T08:19:29.504958Z",
     "shell.execute_reply": "2023-02-12T08:19:29.504276Z"
    },
    "papermill": {
     "duration": 0.016853,
     "end_time": "2023-02-12T08:19:29.506135",
     "exception": false,
     "start_time": "2023-02-12T08:19:29.489282",
     "status": "completed"
    },
    "tags": []
   },
   "outputs": [],
   "source": [
    "with open('../rgi7_submission_info_metadata.json', 'r') as infile:\n",
    "    meta_sub = json.load(infile)"
   ]
  },
  {
   "cell_type": "code",
   "execution_count": 22,
   "id": "00c9d8ae-9743-4540-a5f4-50e44c0da289",
   "metadata": {
    "execution": {
     "iopub.execute_input": "2023-02-12T08:19:29.518721Z",
     "iopub.status.busy": "2023-02-12T08:19:29.518118Z",
     "iopub.status.idle": "2023-02-12T08:19:29.583970Z",
     "shell.execute_reply": "2023-02-12T08:19:29.583216Z"
    },
    "papermill": {
     "duration": 0.073918,
     "end_time": "2023-02-12T08:19:29.585986",
     "exception": false,
     "start_time": "2023-02-12T08:19:29.512068",
     "status": "completed"
    },
    "tags": []
   },
   "outputs": [],
   "source": [
    "subm_id = orig_attrs['subm_id'].unique()\n",
    "odf_subm = pd.DataFrame()\n",
    "for sid in subm_id:\n",
    "    sel = orig_attrs.loc[orig_attrs['subm_id'] == sid]\n",
    "    for k in meta_sub.keys():\n",
    "        if k == 'subm_id':\n",
    "            continue\n",
    "        attrs = meta_sub[k]\n",
    "        if k not in sel:\n",
    "            if attrs['datatype'] == 'str':\n",
    "                odf_subm.loc[int(sid), k] = ''\n",
    "            elif attrs['datatype'] == 'float':\n",
    "                odf_subm.loc[int(sid), k] = np.NaN\n",
    "            elif attrs['datatype'] == 'int':\n",
    "                odf_subm.loc[int(sid), k] = -999\n",
    "        else: \n",
    "            assert len(sel[k].unique()==1), f'{k} has non unique values'\n",
    "            if attrs['datatype']:\n",
    "                data = sel[k].astype(attrs['datatype']).iloc[0]\n",
    "            else: \n",
    "                data = sel[k].iloc[0]\n",
    "                \n",
    "            if attrs['datatype'] == 'str':\n",
    "                # Clean\n",
    "                data = data.strip().lstrip(';').strip()\n",
    "                \n",
    "            odf_subm.loc[int(sid), k] = data\n",
    "            \n",
    "    odf_subm.loc[int(sid), 'n_outlines'] = len(sel)\n",
    "    odf_subm.loc[int(sid), 'area_km2'] = sel['area'].sum() * 1e-6\n",
    "        \n",
    "odf_subm.index.name = 'subm_id' \n",
    "odf_subm['n_outlines'] = odf_subm['n_outlines'].astype(int)\n",
    "odf_subm['rc_id'] = odf_subm['rc_id'].astype(int)\n",
    "odf_subm = odf_subm.sort_index()\n",
    "odf_subm;"
   ]
  },
  {
   "cell_type": "markdown",
   "id": "1e9da820-bb63-44ba-9c9e-4b9bb43dc83d",
   "metadata": {
    "papermill": {
     "duration": 0.010232,
     "end_time": "2023-02-12T08:19:29.608460",
     "exception": false,
     "start_time": "2023-02-12T08:19:29.598228",
     "status": "completed"
    },
    "tags": []
   },
   "source": [
    "## Write out and tar "
   ]
  },
  {
   "cell_type": "code",
   "execution_count": 23,
   "id": "a9f2ad69-a5e6-49ad-b2c3-7e928bbd2a29",
   "metadata": {
    "execution": {
     "iopub.execute_input": "2023-02-12T08:19:29.622037Z",
     "iopub.status.busy": "2023-02-12T08:19:29.621726Z",
     "iopub.status.idle": "2023-02-12T08:19:29.664700Z",
     "shell.execute_reply": "2023-02-12T08:19:29.664115Z"
    },
    "papermill": {
     "duration": 0.050683,
     "end_time": "2023-02-12T08:19:29.666286",
     "exception": false,
     "start_time": "2023-02-12T08:19:29.615603",
     "status": "completed"
    },
    "tags": []
   },
   "outputs": [],
   "source": [
    "reg_file = os.path.join(data_dir, '00_rgi70_regions', '00_rgi70_O1Regions')\n",
    "reg_file = gpd.read_file(reg_file)\n",
    "reg_file = reg_file.loc[reg_file.o1region == f'{reg:02d}'].iloc[0]"
   ]
  },
  {
   "cell_type": "code",
   "execution_count": 24,
   "id": "6280b37d-6683-4670-b499-181fa14b57e9",
   "metadata": {
    "execution": {
     "iopub.execute_input": "2023-02-12T08:19:29.688400Z",
     "iopub.status.busy": "2023-02-12T08:19:29.688112Z",
     "iopub.status.idle": "2023-02-12T08:19:49.816372Z",
     "shell.execute_reply": "2023-02-12T08:19:49.815273Z"
    },
    "papermill": {
     "duration": 20.141562,
     "end_time": "2023-02-12T08:19:49.818770",
     "exception": false,
     "start_time": "2023-02-12T08:19:29.677208",
     "status": "completed"
    },
    "tags": []
   },
   "outputs": [
    {
     "name": "stdout",
     "output_type": "stream",
     "text": [
      "Writing...\n"
     ]
    },
    {
     "name": "stdout",
     "output_type": "stream",
     "text": [
      "Taring...\n",
      "RGI2000-v7.0-G-02_western_canada_usa/\n",
      "RGI2000-v7.0-G-02_western_canada_usa/RGI2000-v7.0-G-02_western_canada_usa_subm_info.csv\n",
      "RGI2000-v7.0-G-02_western_canada_usa/RGI2000-v7.0-G-02_western_canada_usa.shp\n"
     ]
    },
    {
     "name": "stdout",
     "output_type": "stream",
     "text": [
      "RGI2000-v7.0-G-02_western_canada_usa/RGI2000-v7.0-G-02_western_canada_usa.dbf\n",
      "RGI2000-v7.0-G-02_western_canada_usa/README.md\n",
      "RGI2000-v7.0-G-02_western_canada_usa/RGI2000-v7.0-G-02_western_canada_usa.shx\n",
      "RGI2000-v7.0-G-02_western_canada_usa/RGI2000-v7.0-G-02_western_canada_usa_attributes.csv\n"
     ]
    },
    {
     "name": "stdout",
     "output_type": "stream",
     "text": [
      "RGI2000-v7.0-G-02_western_canada_usa/RGI2000-v7.0-G-02_western_canada_usa.cpg\n",
      "RGI2000-v7.0-G-02_western_canada_usa/RGI2000-v7.0-G-02_western_canada_usa.prj\n",
      "CompletedProcess(args=['tar', '-zcvf', '../../../../rgi7_data/l4_rgi7b0_tar/RGI2000-v7.0-G-02_western_canada_usa.tar.gz', '-C', '../../../../rgi7_data/l4_rgi7b0', 'RGI2000-v7.0-G-02_western_canada_usa'], returncode=0)\n"
     ]
    }
   ],
   "source": [
    "dd = mkdir(f'{output_dir}/RGI2000-v7.0-G-{reg_file.long_code}/', reset=True)\n",
    "\n",
    "print('Writing...')\n",
    "odf_new.to_file(dd + f'RGI2000-v7.0-G-{reg_file.long_code}.shp')\n",
    "odf_subm.to_csv(dd + f'RGI2000-v7.0-G-{reg_file.long_code}_subm_info.csv', quoting=csv.QUOTE_NONNUMERIC)\n",
    "odf_new.drop('geometry', axis=1).set_index('rgi_id').to_csv(dd + f'RGI2000-v7.0-G-{reg_file.long_code}_attributes.csv', quoting=csv.QUOTE_NONNUMERIC)\n",
    "shutil.copyfile('../README_tpl.md', dd + f'README.md')\n",
    "\n",
    "print('Taring...')\n",
    "print(subprocess.run(['tar', '-zcvf', f'{output_dir_tar}/RGI2000-v7.0-G-{reg_file.long_code}.tar.gz', '-C', output_dir, f'RGI2000-v7.0-G-{reg_file.long_code}']))"
   ]
  },
  {
   "cell_type": "code",
   "execution_count": 25,
   "id": "7667dbd4-fc48-445c-bee8-6156c82bfa3e",
   "metadata": {
    "execution": {
     "iopub.execute_input": "2023-02-12T08:19:49.843643Z",
     "iopub.status.busy": "2023-02-12T08:19:49.842991Z",
     "iopub.status.idle": "2023-02-12T08:19:49.847381Z",
     "shell.execute_reply": "2023-02-12T08:19:49.846527Z"
    },
    "papermill": {
     "duration": 0.015791,
     "end_time": "2023-02-12T08:19:49.848522",
     "exception": false,
     "start_time": "2023-02-12T08:19:49.832731",
     "status": "completed"
    },
    "tags": []
   },
   "outputs": [],
   "source": [
    "odf_new;"
   ]
  },
  {
   "cell_type": "code",
   "execution_count": 26,
   "id": "1b64b5cc-046a-4d96-a3ce-d047d9e20a8b",
   "metadata": {
    "execution": {
     "iopub.execute_input": "2023-02-12T08:19:49.861067Z",
     "iopub.status.busy": "2023-02-12T08:19:49.860351Z",
     "iopub.status.idle": "2023-02-12T08:19:49.865408Z",
     "shell.execute_reply": "2023-02-12T08:19:49.864445Z"
    },
    "papermill": {
     "duration": 0.012391,
     "end_time": "2023-02-12T08:19:49.866746",
     "exception": false,
     "start_time": "2023-02-12T08:19:49.854355",
     "status": "completed"
    },
    "tags": []
   },
   "outputs": [],
   "source": [
    "import glob, os\n",
    "for f in glob.glob( f\"{output_dir_tar}/*.properties\"):\n",
    "    os.remove(f)"
   ]
  },
  {
   "cell_type": "markdown",
   "id": "7bd3a216-a8bf-4eb7-a485-7c38fc18066c",
   "metadata": {
    "papermill": {
     "duration": 0.006761,
     "end_time": "2023-02-12T08:19:49.881182",
     "exception": false,
     "start_time": "2023-02-12T08:19:49.874421",
     "status": "completed"
    },
    "tags": []
   },
   "source": [
    "## Merged product "
   ]
  },
  {
   "cell_type": "code",
   "execution_count": 27,
   "id": "63ba1a72-5dd3-445c-8e0e-5566a2e09085",
   "metadata": {
    "execution": {
     "iopub.execute_input": "2023-02-12T08:19:49.898842Z",
     "iopub.status.busy": "2023-02-12T08:19:49.898201Z",
     "iopub.status.idle": "2023-02-12T08:19:49.902101Z",
     "shell.execute_reply": "2023-02-12T08:19:49.901186Z"
    },
    "papermill": {
     "duration": 0.011189,
     "end_time": "2023-02-12T08:19:49.903251",
     "exception": false,
     "start_time": "2023-02-12T08:19:49.892062",
     "status": "completed"
    },
    "tags": []
   },
   "outputs": [],
   "source": [
    "# TODO"
   ]
  },
  {
   "cell_type": "code",
   "execution_count": null,
   "id": "61851dc4-fab3-4119-902d-c325ee09c182",
   "metadata": {
    "papermill": {
     "duration": 0.006283,
     "end_time": "2023-02-12T08:19:49.915259",
     "exception": false,
     "start_time": "2023-02-12T08:19:49.908976",
     "status": "completed"
    },
    "tags": []
   },
   "outputs": [],
   "source": []
  }
 ],
 "metadata": {
  "kernelspec": {
   "display_name": "Python 3 (ipykernel)",
   "language": "python",
   "name": "python3"
  },
  "language_info": {
   "codemirror_mode": {
    "name": "ipython",
    "version": 3
   },
   "file_extension": ".py",
   "mimetype": "text/x-python",
   "name": "python",
   "nbconvert_exporter": "python",
   "pygments_lexer": "ipython3",
   "version": "3.10.8"
  },
  "papermill": {
   "default_parameters": {},
   "duration": 33.513594,
   "end_time": "2023-02-12T08:19:50.542804",
   "environment_variables": {},
   "exception": null,
   "input_path": "alpha_to_beta_tpl.ipynb",
   "output_path": "alpha_to_beta_RGI02.ipynb",
   "parameters": {
    "reg": 2
   },
   "start_time": "2023-02-12T08:19:17.029210",
   "version": "2.3.4"
  }
 },
 "nbformat": 4,
 "nbformat_minor": 5
}