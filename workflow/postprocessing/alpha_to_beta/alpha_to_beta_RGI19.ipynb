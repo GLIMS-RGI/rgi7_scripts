{
 "cells": [
  {
   "cell_type": "code",
   "execution_count": 1,
   "id": "46adc67a-c914-4b66-a3de-aed2506fb298",
   "metadata": {
    "execution": {
     "iopub.execute_input": "2023-02-12T08:27:52.240670Z",
     "iopub.status.busy": "2023-02-12T08:27:52.239926Z",
     "iopub.status.idle": "2023-02-12T08:27:52.630626Z",
     "shell.execute_reply": "2023-02-12T08:27:52.630121Z"
    },
    "papermill": {
     "duration": 0.403429,
     "end_time": "2023-02-12T08:27:52.632737",
     "exception": false,
     "start_time": "2023-02-12T08:27:52.229308",
     "status": "completed"
    },
    "tags": []
   },
   "outputs": [],
   "source": [
    "import pandas as pd\n",
    "import geopandas as gpd\n",
    "import subprocess\n",
    "import numpy as np\n",
    "import shapely.geometry as shpg\n",
    "import os\n",
    "import sys\n",
    "import csv\n",
    "import json\n",
    "import logging\n",
    "import shutil"
   ]
  },
  {
   "cell_type": "code",
   "execution_count": 2,
   "id": "bad5729c-29eb-4fb6-80cf-b7d279f0343a",
   "metadata": {
    "execution": {
     "iopub.execute_input": "2023-02-12T08:27:52.653596Z",
     "iopub.status.busy": "2023-02-12T08:27:52.653352Z",
     "iopub.status.idle": "2023-02-12T08:27:52.656484Z",
     "shell.execute_reply": "2023-02-12T08:27:52.655993Z"
    },
    "papermill": {
     "duration": 0.01379,
     "end_time": "2023-02-12T08:27:52.657462",
     "exception": false,
     "start_time": "2023-02-12T08:27:52.643672",
     "status": "completed"
    },
    "tags": []
   },
   "outputs": [],
   "source": [
    "import warnings\n",
    "warnings.filterwarnings('ignore', category=FutureWarning)"
   ]
  },
  {
   "cell_type": "code",
   "execution_count": 3,
   "id": "c62aa692-c347-4e74-bc0f-c0cdc9da4669",
   "metadata": {
    "execution": {
     "iopub.execute_input": "2023-02-12T08:27:52.667303Z",
     "iopub.status.busy": "2023-02-12T08:27:52.667169Z",
     "iopub.status.idle": "2023-02-12T08:27:54.361460Z",
     "shell.execute_reply": "2023-02-12T08:27:54.360725Z"
    },
    "papermill": {
     "duration": 1.701284,
     "end_time": "2023-02-12T08:27:54.363673",
     "exception": false,
     "start_time": "2023-02-12T08:27:52.662389",
     "status": "completed"
    },
    "tags": []
   },
   "outputs": [],
   "source": [
    "sys.path.append(os.getcwd() + '/../..')\n",
    "from utils import mkdir, open_zip_shapefile, open_tar_shapefile, haversine"
   ]
  },
  {
   "cell_type": "code",
   "execution_count": 4,
   "id": "7c601bdf-1db0-429e-bb22-479f14ffe496",
   "metadata": {
    "execution": {
     "iopub.execute_input": "2023-02-12T08:27:54.385960Z",
     "iopub.status.busy": "2023-02-12T08:27:54.385713Z",
     "iopub.status.idle": "2023-02-12T08:27:54.389280Z",
     "shell.execute_reply": "2023-02-12T08:27:54.388661Z"
    },
    "papermill": {
     "duration": 0.014729,
     "end_time": "2023-02-12T08:27:54.390380",
     "exception": false,
     "start_time": "2023-02-12T08:27:54.375651",
     "status": "completed"
    },
    "tags": []
   },
   "outputs": [],
   "source": [
    "log = logging.getLogger('papermill')\n",
    "logging.basicConfig(level='INFO', format=\"%(message)s\")"
   ]
  },
  {
   "cell_type": "markdown",
   "id": "8487f7be-608e-44f1-88ec-671465325a11",
   "metadata": {
    "papermill": {
     "duration": 0.00459,
     "end_time": "2023-02-12T08:27:54.399844",
     "exception": false,
     "start_time": "2023-02-12T08:27:54.395254",
     "status": "completed"
    },
    "tags": []
   },
   "source": [
    "## Files and storage paths"
   ]
  },
  {
   "cell_type": "code",
   "execution_count": 5,
   "id": "1c753f79-c5b6-49f0-b6ba-bfe40fd7eac3",
   "metadata": {
    "execution": {
     "iopub.execute_input": "2023-02-12T08:27:54.411236Z",
     "iopub.status.busy": "2023-02-12T08:27:54.411100Z",
     "iopub.status.idle": "2023-02-12T08:27:54.414854Z",
     "shell.execute_reply": "2023-02-12T08:27:54.414242Z"
    },
    "papermill": {
     "duration": 0.011384,
     "end_time": "2023-02-12T08:27:54.416048",
     "exception": false,
     "start_time": "2023-02-12T08:27:54.404664",
     "status": "completed"
    },
    "tags": [
     "parameters"
    ]
   },
   "outputs": [],
   "source": [
    "# Region of interest\n",
    "reg = 1\n",
    "\n",
    "# go down from rgi7_scripts/workflow\n",
    "data_dir = '../../../../rgi7_data/'\n",
    "\n",
    "# Input dirctory\n",
    "input_dir = os.path.join(data_dir, 'l3_rgi7a_tar')\n",
    "\n",
    "# Output directories\n",
    "output_dir = mkdir(os.path.join(data_dir, 'l4_rgi7b0'))\n",
    "output_dir_tar = mkdir(os.path.join(data_dir, 'l4_rgi7b0_tar'))"
   ]
  },
  {
   "cell_type": "code",
   "execution_count": 6,
   "id": "e03f3dcf",
   "metadata": {
    "execution": {
     "iopub.execute_input": "2023-02-12T08:27:54.428892Z",
     "iopub.status.busy": "2023-02-12T08:27:54.428756Z",
     "iopub.status.idle": "2023-02-12T08:27:54.431543Z",
     "shell.execute_reply": "2023-02-12T08:27:54.431036Z"
    },
    "papermill": {
     "duration": 0.010376,
     "end_time": "2023-02-12T08:27:54.432747",
     "exception": false,
     "start_time": "2023-02-12T08:27:54.422371",
     "status": "completed"
    },
    "tags": [
     "injected-parameters"
    ]
   },
   "outputs": [],
   "source": [
    "# Parameters\n",
    "reg = 19\n"
   ]
  },
  {
   "cell_type": "markdown",
   "id": "f2d31af4-b2b2-4dc9-b286-be594f2feb7e",
   "metadata": {
    "papermill": {
     "duration": 0.005825,
     "end_time": "2023-02-12T08:27:54.445029",
     "exception": false,
     "start_time": "2023-02-12T08:27:54.439204",
     "status": "completed"
    },
    "tags": []
   },
   "source": [
    "### Load the input data"
   ]
  },
  {
   "cell_type": "code",
   "execution_count": 7,
   "id": "caab54b7-92c0-45fa-a943-25225b119001",
   "metadata": {
    "execution": {
     "iopub.execute_input": "2023-02-12T08:27:54.458045Z",
     "iopub.status.busy": "2023-02-12T08:27:54.457911Z",
     "iopub.status.idle": "2023-02-12T08:27:56.114642Z",
     "shell.execute_reply": "2023-02-12T08:27:56.113892Z"
    },
    "papermill": {
     "duration": 1.665316,
     "end_time": "2023-02-12T08:27:56.116799",
     "exception": false,
     "start_time": "2023-02-12T08:27:54.451483",
     "status": "completed"
    },
    "tags": []
   },
   "outputs": [
    {
     "name": "stderr",
     "output_type": "stream",
     "text": [
      "VSIFSeekL(xxx, SEEK_END) may be really slow on GZip streams.\n"
     ]
    }
   ],
   "source": [
    "# Read files\n",
    "shp = open_tar_shapefile(input_dir + f'/RGI{reg:02d}.tar.gz')"
   ]
  },
  {
   "cell_type": "code",
   "execution_count": 8,
   "id": "77cf5415-997a-4aab-be08-726242a61228",
   "metadata": {
    "execution": {
     "iopub.execute_input": "2023-02-12T08:27:56.139309Z",
     "iopub.status.busy": "2023-02-12T08:27:56.138998Z",
     "iopub.status.idle": "2023-02-12T08:27:56.158693Z",
     "shell.execute_reply": "2023-02-12T08:27:56.157909Z"
    },
    "papermill": {
     "duration": 0.031369,
     "end_time": "2023-02-12T08:27:56.160127",
     "exception": false,
     "start_time": "2023-02-12T08:27:56.128758",
     "status": "completed"
    },
    "tags": []
   },
   "outputs": [],
   "source": [
    "orig_attrs = pd.DataFrame(shp.drop('geometry', axis=1))\n",
    "orig_attrs.T;"
   ]
  },
  {
   "cell_type": "code",
   "execution_count": 9,
   "id": "e1b92b0a-3767-455a-8884-4666b0cf504a",
   "metadata": {
    "execution": {
     "iopub.execute_input": "2023-02-12T08:27:56.180109Z",
     "iopub.status.busy": "2023-02-12T08:27:56.179365Z",
     "iopub.status.idle": "2023-02-12T08:27:56.183801Z",
     "shell.execute_reply": "2023-02-12T08:27:56.182985Z"
    },
    "papermill": {
     "duration": 0.015484,
     "end_time": "2023-02-12T08:27:56.184995",
     "exception": false,
     "start_time": "2023-02-12T08:27:56.169511",
     "status": "completed"
    },
    "tags": []
   },
   "outputs": [],
   "source": [
    "if 'conn_lvl' not in shp:\n",
    "    print('Add conn_lvl')\n",
    "    shp['conn_lvl'] = 0"
   ]
  },
  {
   "cell_type": "code",
   "execution_count": 10,
   "id": "e09e91a0-6561-4cd7-907a-60aeb23e545f",
   "metadata": {
    "execution": {
     "iopub.execute_input": "2023-02-12T08:27:56.195886Z",
     "iopub.status.busy": "2023-02-12T08:27:56.195312Z",
     "iopub.status.idle": "2023-02-12T08:27:56.201323Z",
     "shell.execute_reply": "2023-02-12T08:27:56.200606Z"
    },
    "papermill": {
     "duration": 0.012605,
     "end_time": "2023-02-12T08:27:56.202514",
     "exception": false,
     "start_time": "2023-02-12T08:27:56.189909",
     "status": "completed"
    },
    "tags": []
   },
   "outputs": [],
   "source": [
    "odf = shp.copy()"
   ]
  },
  {
   "cell_type": "code",
   "execution_count": 11,
   "id": "17837ca6-2d55-4ae7-af15-4b572f2eefbf",
   "metadata": {
    "execution": {
     "iopub.execute_input": "2023-02-12T08:27:56.215879Z",
     "iopub.status.busy": "2023-02-12T08:27:56.215603Z",
     "iopub.status.idle": "2023-02-12T08:27:56.221250Z",
     "shell.execute_reply": "2023-02-12T08:27:56.220447Z"
    },
    "papermill": {
     "duration": 0.013677,
     "end_time": "2023-02-12T08:27:56.222589",
     "exception": false,
     "start_time": "2023-02-12T08:27:56.208912",
     "status": "completed"
    },
    "tags": []
   },
   "outputs": [],
   "source": [
    "rename = {'area':'area_km2', 'CenLon': 'cenlon', 'CenLat': 'cenlat', 'glac_id':'glims_id'}\n",
    "odf = odf.rename(rename, axis=1)"
   ]
  },
  {
   "cell_type": "markdown",
   "id": "c2895b31-0bb5-4192-a158-c6ff07abd1ba",
   "metadata": {
    "papermill": {
     "duration": 0.006233,
     "end_time": "2023-02-12T08:27:56.236127",
     "exception": false,
     "start_time": "2023-02-12T08:27:56.229894",
     "status": "completed"
    },
    "tags": []
   },
   "source": [
    "Recompute area and center point to be sure:"
   ]
  },
  {
   "cell_type": "code",
   "execution_count": 12,
   "id": "b54183cb-e0e5-4e82-942d-dbde26f1e7a3",
   "metadata": {
    "execution": {
     "iopub.execute_input": "2023-02-12T08:27:56.250440Z",
     "iopub.status.busy": "2023-02-12T08:27:56.249646Z",
     "iopub.status.idle": "2023-02-12T08:27:56.594231Z",
     "shell.execute_reply": "2023-02-12T08:27:56.593486Z"
    },
    "papermill": {
     "duration": 0.353643,
     "end_time": "2023-02-12T08:27:56.596282",
     "exception": false,
     "start_time": "2023-02-12T08:27:56.242639",
     "status": "completed"
    },
    "tags": []
   },
   "outputs": [],
   "source": [
    "def xy_coord(geom):\n",
    "    x, y = geom.xy\n",
    "    return x[0], y[0]\n",
    "\n",
    "rp = odf.representative_point()\n",
    "\n",
    "coordinates = np.array(list(rp.apply(xy_coord)))\n",
    "odf['cenlon'] = coordinates[:, 0]\n",
    "odf['cenlat'] = coordinates[:, 1]\n",
    "\n",
    "odf['area_km2'] = odf.to_crs({'proj':'cea'}).area * 1e-6"
   ]
  },
  {
   "cell_type": "code",
   "execution_count": 13,
   "id": "14dff652-d75c-4702-90d0-8e2462577487",
   "metadata": {
    "execution": {
     "iopub.execute_input": "2023-02-12T08:27:56.619134Z",
     "iopub.status.busy": "2023-02-12T08:27:56.618827Z",
     "iopub.status.idle": "2023-02-12T08:27:56.626266Z",
     "shell.execute_reply": "2023-02-12T08:27:56.625538Z"
    },
    "papermill": {
     "duration": 0.019274,
     "end_time": "2023-02-12T08:27:56.627411",
     "exception": false,
     "start_time": "2023-02-12T08:27:56.608137",
     "status": "completed"
    },
    "tags": []
   },
   "outputs": [],
   "source": [
    "odf['glac_name'] = odf['glac_name'].where(odf['glac_name'] != 'None', '')"
   ]
  },
  {
   "cell_type": "markdown",
   "id": "8d88df3a-a0da-41aa-80a2-6ee799789b25",
   "metadata": {
    "papermill": {
     "duration": 0.004692,
     "end_time": "2023-02-12T08:27:56.637181",
     "exception": false,
     "start_time": "2023-02-12T08:27:56.632489",
     "status": "completed"
    },
    "tags": []
   },
   "source": [
    "## Metadata "
   ]
  },
  {
   "cell_type": "code",
   "execution_count": 14,
   "id": "3da9f86f-42fa-4ae4-b5f5-bbc2708d7f80",
   "metadata": {
    "execution": {
     "iopub.execute_input": "2023-02-12T08:27:56.650661Z",
     "iopub.status.busy": "2023-02-12T08:27:56.650472Z",
     "iopub.status.idle": "2023-02-12T08:27:56.654176Z",
     "shell.execute_reply": "2023-02-12T08:27:56.653478Z"
    },
    "papermill": {
     "duration": 0.011742,
     "end_time": "2023-02-12T08:27:56.655597",
     "exception": false,
     "start_time": "2023-02-12T08:27:56.643855",
     "status": "completed"
    },
    "tags": []
   },
   "outputs": [],
   "source": [
    "with open('../rgi7_attributes_metadata.json', 'r') as infile:\n",
    "    meta = json.load(infile)"
   ]
  },
  {
   "cell_type": "code",
   "execution_count": 15,
   "id": "6efe0d1f-3125-4062-b9c4-2d9717db2e98",
   "metadata": {
    "execution": {
     "iopub.execute_input": "2023-02-12T08:27:56.669986Z",
     "iopub.status.busy": "2023-02-12T08:27:56.669244Z",
     "iopub.status.idle": "2023-02-12T08:27:56.690606Z",
     "shell.execute_reply": "2023-02-12T08:27:56.689977Z"
    },
    "papermill": {
     "duration": 0.029679,
     "end_time": "2023-02-12T08:27:56.692014",
     "exception": false,
     "start_time": "2023-02-12T08:27:56.662335",
     "status": "completed"
    },
    "tags": []
   },
   "outputs": [],
   "source": [
    "odf_new = odf[[]].copy().reset_index(drop=True)\n",
    "\n",
    "for col, attrs in meta.items():\n",
    "    if col not in odf:\n",
    "        if attrs['datatype'] == 'str':\n",
    "            odf_new[col] = ''\n",
    "        elif attrs['datatype'] == 'float':\n",
    "            odf_new[col] = np.NaN\n",
    "        elif attrs['datatype'] == 'int':\n",
    "            odf_new[col] = -999 \n",
    "    else: \n",
    "        if attrs['datatype']:\n",
    "            odf_new[col] = odf[col].astype(attrs['datatype'])\n",
    "        else: \n",
    "            odf_new[col] = odf[col]"
   ]
  },
  {
   "cell_type": "code",
   "execution_count": 16,
   "id": "19f7932c-0795-487e-89d3-f72c20eeb1c4",
   "metadata": {
    "execution": {
     "iopub.execute_input": "2023-02-12T08:27:56.705920Z",
     "iopub.status.busy": "2023-02-12T08:27:56.705782Z",
     "iopub.status.idle": "2023-02-12T08:27:56.713020Z",
     "shell.execute_reply": "2023-02-12T08:27:56.712192Z"
    },
    "papermill": {
     "duration": 0.015519,
     "end_time": "2023-02-12T08:27:56.714391",
     "exception": false,
     "start_time": "2023-02-12T08:27:56.698872",
     "status": "completed"
    },
    "tags": []
   },
   "outputs": [],
   "source": [
    "odf_new = gpd.GeoDataFrame(odf_new)\n",
    "odf_new.crs = odf.crs\n",
    "odf_new = odf_new.reset_index(drop=True)\n",
    "odf_new.iloc[:1].T;"
   ]
  },
  {
   "cell_type": "markdown",
   "id": "450e8521-6572-474c-afe5-0989eb843536",
   "metadata": {
    "papermill": {
     "duration": 0.006344,
     "end_time": "2023-02-12T08:27:56.728462",
     "exception": false,
     "start_time": "2023-02-12T08:27:56.722118",
     "status": "completed"
    },
    "tags": []
   },
   "source": [
    "## Regions, subregions and RGI IDs"
   ]
  },
  {
   "cell_type": "code",
   "execution_count": 17,
   "id": "544c32b7-a630-4f2b-a82d-5a2372ad527d",
   "metadata": {
    "execution": {
     "iopub.execute_input": "2023-02-12T08:27:56.743227Z",
     "iopub.status.busy": "2023-02-12T08:27:56.742421Z",
     "iopub.status.idle": "2023-02-12T08:27:56.747120Z",
     "shell.execute_reply": "2023-02-12T08:27:56.746311Z"
    },
    "papermill": {
     "duration": 0.013303,
     "end_time": "2023-02-12T08:27:56.748523",
     "exception": false,
     "start_time": "2023-02-12T08:27:56.735220",
     "status": "completed"
    },
    "tags": []
   },
   "outputs": [],
   "source": [
    "odf_new['o1region'] = f'{reg:02d}'"
   ]
  },
  {
   "cell_type": "code",
   "execution_count": 18,
   "id": "21cc6a76-449e-41be-9f83-76f94e0aaede",
   "metadata": {
    "execution": {
     "iopub.execute_input": "2023-02-12T08:27:56.763184Z",
     "iopub.status.busy": "2023-02-12T08:27:56.762398Z",
     "iopub.status.idle": "2023-02-12T08:27:56.826021Z",
     "shell.execute_reply": "2023-02-12T08:27:56.825330Z"
    },
    "papermill": {
     "duration": 0.072735,
     "end_time": "2023-02-12T08:27:56.827997",
     "exception": false,
     "start_time": "2023-02-12T08:27:56.755262",
     "status": "completed"
    },
    "tags": []
   },
   "outputs": [],
   "source": [
    "sreg_file = os.path.join(data_dir, '00_rgi70_regions', '00_rgi70_O2Regions')\n",
    "sreg = gpd.read_file(sreg_file)\n",
    "sreg = sreg.loc[sreg.o1region == f'{reg:02d}']\n",
    "sreg;"
   ]
  },
  {
   "cell_type": "code",
   "execution_count": 19,
   "id": "29782e31-7feb-46f1-8398-16296d7dc5ee",
   "metadata": {
    "execution": {
     "iopub.execute_input": "2023-02-12T08:27:56.851844Z",
     "iopub.status.busy": "2023-02-12T08:27:56.851545Z",
     "iopub.status.idle": "2023-02-12T08:27:57.602979Z",
     "shell.execute_reply": "2023-02-12T08:27:57.602316Z"
    },
    "papermill": {
     "duration": 0.765093,
     "end_time": "2023-02-12T08:27:57.605303",
     "exception": false,
     "start_time": "2023-02-12T08:27:56.840210",
     "status": "completed"
    },
    "tags": []
   },
   "outputs": [
    {
     "name": "stderr",
     "output_type": "stream",
     "text": [
      "RGI19: some subregions have NO glaciers in them\n"
     ]
    }
   ],
   "source": [
    "baseid = f'RGI2000-v7.0-G-{reg:02d}-'\n",
    "count = 0\n",
    "\n",
    "rp = odf_new.representative_point()\n",
    "rp = rp.to_frame('geometry')\n",
    "rp['orig_index'] = odf_new.index\n",
    "\n",
    "total = 0\n",
    "\n",
    "for i, s in sreg.iterrows():\n",
    "    \n",
    "    intersect = gpd.overlay(rp, sreg.loc[[i]], how='intersection')\n",
    "    odf_sreg = odf_new.loc[intersect['orig_index']].copy()\n",
    "    odf_sreg['o2region'] = s['o2region']\n",
    "    \n",
    "    total += len(odf_sreg)\n",
    "    \n",
    "    if len(odf_sreg) == 0:\n",
    "        # 19-05 Ross Ice Shelf one of them\n",
    "        continue\n",
    "    \n",
    "    # Ids generation\n",
    "    # Left most point and we start from there\n",
    "    slon, slat = odf_sreg.loc[odf_sreg.cenlon == odf_sreg.cenlon.min()][['cenlon', 'cenlat']].iloc[0].values\n",
    "    \n",
    "    todo = odf_sreg.index.values\n",
    "    todo_lon = odf_sreg['cenlon'].values\n",
    "    todo_lat = odf_sreg['cenlat'].values\n",
    "    ids = []\n",
    "    while len(todo) > 0:\n",
    "        dis = haversine(slon, slat, todo_lon, todo_lat)\n",
    "        idm = np.argmin(dis)\n",
    "        ids.append(todo[idm])\n",
    "        slon, slat = todo_lon[idm], todo_lat[idm]\n",
    "        todo = np.delete(todo, idm)\n",
    "        todo_lon = np.delete(todo_lon, idm)\n",
    "        todo_lat = np.delete(todo_lat, idm)\n",
    "    \n",
    "    assert len(ids) == len(odf_sreg)\n",
    "    odf_sreg = odf_sreg.loc[ids].copy()\n",
    "    \n",
    "    odf_sreg['rgi_id'] = [baseid + f'{l+count:05d}' for l in range(len(odf_sreg))]\n",
    "    count += len(odf_sreg)\n",
    "    odf_new.loc[odf_sreg.index, 'rgi_id'] = odf_sreg['rgi_id']\n",
    "    odf_new.loc[odf_sreg.index, 'o2region'] = odf_sreg['o2region']\n",
    "    \n",
    "odf_new = odf_new.sort_values(by='rgi_id').reset_index(drop=True)\n",
    "\n",
    "assert odf_new['o2region'].isnull().sum() == 0\n",
    "assert int(odf_new.iloc[-1]['rgi_id'].split('-')[-1]) == odf_new.iloc[-1].name\n",
    "if len(odf_new['o2region'].unique()) != len(sreg):\n",
    "    log.warning(f'RGI{reg:02d}: some subregions have NO glaciers in them')\n",
    "else:\n",
    "    log.info(f'RGI{reg:02d}: all subregions have glaciers in them')\n",
    "assert len(odf_new) == len(odf)"
   ]
  },
  {
   "cell_type": "code",
   "execution_count": 20,
   "id": "567e0186-4fa8-448b-83e3-f900ea245a4e",
   "metadata": {
    "execution": {
     "iopub.execute_input": "2023-02-12T08:27:57.626794Z",
     "iopub.status.busy": "2023-02-12T08:27:57.626597Z",
     "iopub.status.idle": "2023-02-12T08:27:57.632067Z",
     "shell.execute_reply": "2023-02-12T08:27:57.631275Z"
    },
    "papermill": {
     "duration": 0.017299,
     "end_time": "2023-02-12T08:27:57.633266",
     "exception": false,
     "start_time": "2023-02-12T08:27:57.615967",
     "status": "completed"
    },
    "tags": []
   },
   "outputs": [],
   "source": [
    "odf_new.iloc[:1].T;"
   ]
  },
  {
   "cell_type": "markdown",
   "id": "ad528b70-acfd-47db-99f3-3e123373516a",
   "metadata": {
    "papermill": {
     "duration": 0.005062,
     "end_time": "2023-02-12T08:27:57.643688",
     "exception": false,
     "start_time": "2023-02-12T08:27:57.638626",
     "status": "completed"
    },
    "tags": []
   },
   "source": [
    "## Submission metadata"
   ]
  },
  {
   "cell_type": "code",
   "execution_count": 21,
   "id": "470e8c16-42eb-443f-a176-c767ee7c3722",
   "metadata": {
    "execution": {
     "iopub.execute_input": "2023-02-12T08:27:57.657391Z",
     "iopub.status.busy": "2023-02-12T08:27:57.657097Z",
     "iopub.status.idle": "2023-02-12T08:27:57.661670Z",
     "shell.execute_reply": "2023-02-12T08:27:57.660929Z"
    },
    "papermill": {
     "duration": 0.013399,
     "end_time": "2023-02-12T08:27:57.663064",
     "exception": false,
     "start_time": "2023-02-12T08:27:57.649665",
     "status": "completed"
    },
    "tags": []
   },
   "outputs": [],
   "source": [
    "with open('../rgi7_submission_info_metadata.json', 'r') as infile:\n",
    "    meta_sub = json.load(infile)"
   ]
  },
  {
   "cell_type": "code",
   "execution_count": 22,
   "id": "00c9d8ae-9743-4540-a5f4-50e44c0da289",
   "metadata": {
    "execution": {
     "iopub.execute_input": "2023-02-12T08:27:57.677851Z",
     "iopub.status.busy": "2023-02-12T08:27:57.677131Z",
     "iopub.status.idle": "2023-02-12T08:27:57.725336Z",
     "shell.execute_reply": "2023-02-12T08:27:57.724649Z"
    },
    "papermill": {
     "duration": 0.057386,
     "end_time": "2023-02-12T08:27:57.727164",
     "exception": false,
     "start_time": "2023-02-12T08:27:57.669778",
     "status": "completed"
    },
    "tags": []
   },
   "outputs": [],
   "source": [
    "subm_id = orig_attrs['subm_id'].unique()\n",
    "odf_subm = pd.DataFrame()\n",
    "for sid in subm_id:\n",
    "    sel = orig_attrs.loc[orig_attrs['subm_id'] == sid]\n",
    "    for k in meta_sub.keys():\n",
    "        if k == 'subm_id':\n",
    "            continue\n",
    "        attrs = meta_sub[k]\n",
    "        if k not in sel:\n",
    "            if attrs['datatype'] == 'str':\n",
    "                odf_subm.loc[int(sid), k] = ''\n",
    "            elif attrs['datatype'] == 'float':\n",
    "                odf_subm.loc[int(sid), k] = np.NaN\n",
    "            elif attrs['datatype'] == 'int':\n",
    "                odf_subm.loc[int(sid), k] = -999\n",
    "        else: \n",
    "            assert len(sel[k].unique()==1), f'{k} has non unique values'\n",
    "            if attrs['datatype']:\n",
    "                data = sel[k].astype(attrs['datatype']).iloc[0]\n",
    "            else: \n",
    "                data = sel[k].iloc[0]\n",
    "                \n",
    "            if attrs['datatype'] == 'str':\n",
    "                # Clean\n",
    "                data = data.strip().lstrip(';').strip()\n",
    "                \n",
    "            odf_subm.loc[int(sid), k] = data\n",
    "            \n",
    "    odf_subm.loc[int(sid), 'n_outlines'] = len(sel)\n",
    "    odf_subm.loc[int(sid), 'area_km2'] = sel['area'].sum() * 1e-6\n",
    "        \n",
    "odf_subm.index.name = 'subm_id' \n",
    "odf_subm['n_outlines'] = odf_subm['n_outlines'].astype(int)\n",
    "odf_subm['rc_id'] = odf_subm['rc_id'].astype(int)\n",
    "odf_subm = odf_subm.sort_index()\n",
    "odf_subm;"
   ]
  },
  {
   "cell_type": "markdown",
   "id": "1e9da820-bb63-44ba-9c9e-4b9bb43dc83d",
   "metadata": {
    "papermill": {
     "duration": 0.007571,
     "end_time": "2023-02-12T08:27:57.745438",
     "exception": false,
     "start_time": "2023-02-12T08:27:57.737867",
     "status": "completed"
    },
    "tags": []
   },
   "source": [
    "## Write out and tar "
   ]
  },
  {
   "cell_type": "code",
   "execution_count": 23,
   "id": "a9f2ad69-a5e6-49ad-b2c3-7e928bbd2a29",
   "metadata": {
    "execution": {
     "iopub.execute_input": "2023-02-12T08:27:57.761253Z",
     "iopub.status.busy": "2023-02-12T08:27:57.760942Z",
     "iopub.status.idle": "2023-02-12T08:27:57.799731Z",
     "shell.execute_reply": "2023-02-12T08:27:57.799109Z"
    },
    "papermill": {
     "duration": 0.048129,
     "end_time": "2023-02-12T08:27:57.801616",
     "exception": false,
     "start_time": "2023-02-12T08:27:57.753487",
     "status": "completed"
    },
    "tags": []
   },
   "outputs": [],
   "source": [
    "reg_file = os.path.join(data_dir, '00_rgi70_regions', '00_rgi70_O1Regions')\n",
    "reg_file = gpd.read_file(reg_file)\n",
    "reg_file = reg_file.loc[reg_file.o1region == f'{reg:02d}'].iloc[0]"
   ]
  },
  {
   "cell_type": "code",
   "execution_count": 24,
   "id": "6280b37d-6683-4670-b499-181fa14b57e9",
   "metadata": {
    "execution": {
     "iopub.execute_input": "2023-02-12T08:27:57.823972Z",
     "iopub.status.busy": "2023-02-12T08:27:57.823663Z",
     "iopub.status.idle": "2023-02-12T08:28:04.261871Z",
     "shell.execute_reply": "2023-02-12T08:28:04.260738Z"
    },
    "papermill": {
     "duration": 6.451806,
     "end_time": "2023-02-12T08:28:04.264228",
     "exception": false,
     "start_time": "2023-02-12T08:27:57.812422",
     "status": "completed"
    },
    "tags": []
   },
   "outputs": [
    {
     "name": "stdout",
     "output_type": "stream",
     "text": [
      "Writing...\n"
     ]
    },
    {
     "name": "stdout",
     "output_type": "stream",
     "text": [
      "Taring...\n",
      "RGI2000-v7.0-G-19_subantarctic_antarctic_islands/\n",
      "RGI2000-v7.0-G-19_subantarctic_antarctic_islands/RGI2000-v7.0-G-19_subantarctic_antarctic_islands.cpg\n",
      "RGI2000-v7.0-G-19_subantarctic_antarctic_islands/RGI2000-v7.0-G-19_subantarctic_antarctic_islands.prj\n",
      "RGI2000-v7.0-G-19_subantarctic_antarctic_islands/RGI2000-v7.0-G-19_subantarctic_antarctic_islands.shx\n",
      "RGI2000-v7.0-G-19_subantarctic_antarctic_islands/RGI2000-v7.0-G-19_subantarctic_antarctic_islands.dbf\n",
      "RGI2000-v7.0-G-19_subantarctic_antarctic_islands/RGI2000-v7.0-G-19_subantarctic_antarctic_islands.shp\n"
     ]
    },
    {
     "name": "stdout",
     "output_type": "stream",
     "text": [
      "RGI2000-v7.0-G-19_subantarctic_antarctic_islands/RGI2000-v7.0-G-19_subantarctic_antarctic_islands_attributes.csv\n",
      "RGI2000-v7.0-G-19_subantarctic_antarctic_islands/README.md\n",
      "RGI2000-v7.0-G-19_subantarctic_antarctic_islands/RGI2000-v7.0-G-19_subantarctic_antarctic_islands_subm_info.csv\n",
      "CompletedProcess(args=['tar', '-zcvf', '../../../../rgi7_data/l4_rgi7b0_tar/RGI2000-v7.0-G-19_subantarctic_antarctic_islands.tar.gz', '-C', '../../../../rgi7_data/l4_rgi7b0', 'RGI2000-v7.0-G-19_subantarctic_antarctic_islands'], returncode=0)\n"
     ]
    }
   ],
   "source": [
    "dd = mkdir(f'{output_dir}/RGI2000-v7.0-G-{reg_file.long_code}/', reset=True)\n",
    "\n",
    "print('Writing...')\n",
    "odf_new.to_file(dd + f'RGI2000-v7.0-G-{reg_file.long_code}.shp')\n",
    "odf_subm.to_csv(dd + f'RGI2000-v7.0-G-{reg_file.long_code}_subm_info.csv', quoting=csv.QUOTE_NONNUMERIC)\n",
    "odf_new.drop('geometry', axis=1).set_index('rgi_id').to_csv(dd + f'RGI2000-v7.0-G-{reg_file.long_code}_attributes.csv', quoting=csv.QUOTE_NONNUMERIC)\n",
    "shutil.copyfile('../README_tpl.md', dd + f'README.md')\n",
    "\n",
    "print('Taring...')\n",
    "print(subprocess.run(['tar', '-zcvf', f'{output_dir_tar}/RGI2000-v7.0-G-{reg_file.long_code}.tar.gz', '-C', output_dir, f'RGI2000-v7.0-G-{reg_file.long_code}']))"
   ]
  },
  {
   "cell_type": "code",
   "execution_count": 25,
   "id": "7667dbd4-fc48-445c-bee8-6156c82bfa3e",
   "metadata": {
    "execution": {
     "iopub.execute_input": "2023-02-12T08:28:04.288448Z",
     "iopub.status.busy": "2023-02-12T08:28:04.288120Z",
     "iopub.status.idle": "2023-02-12T08:28:04.292778Z",
     "shell.execute_reply": "2023-02-12T08:28:04.291806Z"
    },
    "papermill": {
     "duration": 0.017546,
     "end_time": "2023-02-12T08:28:04.294018",
     "exception": false,
     "start_time": "2023-02-12T08:28:04.276472",
     "status": "completed"
    },
    "tags": []
   },
   "outputs": [],
   "source": [
    "odf_new;"
   ]
  },
  {
   "cell_type": "code",
   "execution_count": 26,
   "id": "1b64b5cc-046a-4d96-a3ce-d047d9e20a8b",
   "metadata": {
    "execution": {
     "iopub.execute_input": "2023-02-12T08:28:04.307075Z",
     "iopub.status.busy": "2023-02-12T08:28:04.306753Z",
     "iopub.status.idle": "2023-02-12T08:28:04.311686Z",
     "shell.execute_reply": "2023-02-12T08:28:04.310854Z"
    },
    "papermill": {
     "duration": 0.012785,
     "end_time": "2023-02-12T08:28:04.313169",
     "exception": false,
     "start_time": "2023-02-12T08:28:04.300384",
     "status": "completed"
    },
    "tags": []
   },
   "outputs": [],
   "source": [
    "import glob, os\n",
    "for f in glob.glob( f\"{output_dir_tar}/*.properties\"):\n",
    "    os.remove(f)"
   ]
  },
  {
   "cell_type": "markdown",
   "id": "7bd3a216-a8bf-4eb7-a485-7c38fc18066c",
   "metadata": {
    "papermill": {
     "duration": 0.007258,
     "end_time": "2023-02-12T08:28:04.328493",
     "exception": false,
     "start_time": "2023-02-12T08:28:04.321235",
     "status": "completed"
    },
    "tags": []
   },
   "source": [
    "## Merged product "
   ]
  },
  {
   "cell_type": "code",
   "execution_count": 27,
   "id": "63ba1a72-5dd3-445c-8e0e-5566a2e09085",
   "metadata": {
    "execution": {
     "iopub.execute_input": "2023-02-12T08:28:04.344588Z",
     "iopub.status.busy": "2023-02-12T08:28:04.344011Z",
     "iopub.status.idle": "2023-02-12T08:28:04.347931Z",
     "shell.execute_reply": "2023-02-12T08:28:04.347081Z"
    },
    "papermill": {
     "duration": 0.013601,
     "end_time": "2023-02-12T08:28:04.349409",
     "exception": false,
     "start_time": "2023-02-12T08:28:04.335808",
     "status": "completed"
    },
    "tags": []
   },
   "outputs": [],
   "source": [
    "# TODO"
   ]
  },
  {
   "cell_type": "code",
   "execution_count": null,
   "id": "61851dc4-fab3-4119-902d-c325ee09c182",
   "metadata": {
    "papermill": {
     "duration": 0.006862,
     "end_time": "2023-02-12T08:28:04.363520",
     "exception": false,
     "start_time": "2023-02-12T08:28:04.356658",
     "status": "completed"
    },
    "tags": []
   },
   "outputs": [],
   "source": []
  }
 ],
 "metadata": {
  "kernelspec": {
   "display_name": "Python 3 (ipykernel)",
   "language": "python",
   "name": "python3"
  },
  "language_info": {
   "codemirror_mode": {
    "name": "ipython",
    "version": 3
   },
   "file_extension": ".py",
   "mimetype": "text/x-python",
   "name": "python",
   "nbconvert_exporter": "python",
   "pygments_lexer": "ipython3",
   "version": "3.10.8"
  },
  "papermill": {
   "default_parameters": {},
   "duration": 13.725237,
   "end_time": "2023-02-12T08:28:04.890419",
   "environment_variables": {},
   "exception": null,
   "input_path": "alpha_to_beta_tpl.ipynb",
   "output_path": "alpha_to_beta_RGI19.ipynb",
   "parameters": {
    "reg": 19
   },
   "start_time": "2023-02-12T08:27:51.165182",
   "version": "2.3.4"
  }
 },
 "nbformat": 4,
 "nbformat_minor": 5
}