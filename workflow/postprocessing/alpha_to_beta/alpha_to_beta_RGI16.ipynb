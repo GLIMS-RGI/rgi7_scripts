{
 "cells": [
  {
   "cell_type": "code",
   "execution_count": 1,
   "id": "46adc67a-c914-4b66-a3de-aed2506fb298",
   "metadata": {
    "execution": {
     "iopub.execute_input": "2023-02-12T08:26:31.545736Z",
     "iopub.status.busy": "2023-02-12T08:26:31.545374Z",
     "iopub.status.idle": "2023-02-12T08:26:31.965517Z",
     "shell.execute_reply": "2023-02-12T08:26:31.964643Z"
    },
    "papermill": {
     "duration": 0.432553,
     "end_time": "2023-02-12T08:26:31.967229",
     "exception": false,
     "start_time": "2023-02-12T08:26:31.534676",
     "status": "completed"
    },
    "tags": []
   },
   "outputs": [],
   "source": [
    "import pandas as pd\n",
    "import geopandas as gpd\n",
    "import subprocess\n",
    "import numpy as np\n",
    "import shapely.geometry as shpg\n",
    "import os\n",
    "import sys\n",
    "import csv\n",
    "import json\n",
    "import logging\n",
    "import shutil"
   ]
  },
  {
   "cell_type": "code",
   "execution_count": 2,
   "id": "bad5729c-29eb-4fb6-80cf-b7d279f0343a",
   "metadata": {
    "execution": {
     "iopub.execute_input": "2023-02-12T08:26:31.980132Z",
     "iopub.status.busy": "2023-02-12T08:26:31.979554Z",
     "iopub.status.idle": "2023-02-12T08:26:31.984399Z",
     "shell.execute_reply": "2023-02-12T08:26:31.983553Z"
    },
    "papermill": {
     "duration": 0.011956,
     "end_time": "2023-02-12T08:26:31.985912",
     "exception": false,
     "start_time": "2023-02-12T08:26:31.973956",
     "status": "completed"
    },
    "tags": []
   },
   "outputs": [],
   "source": [
    "import warnings\n",
    "warnings.filterwarnings('ignore', category=FutureWarning)"
   ]
  },
  {
   "cell_type": "code",
   "execution_count": 3,
   "id": "c62aa692-c347-4e74-bc0f-c0cdc9da4669",
   "metadata": {
    "execution": {
     "iopub.execute_input": "2023-02-12T08:26:31.999769Z",
     "iopub.status.busy": "2023-02-12T08:26:31.999215Z",
     "iopub.status.idle": "2023-02-12T08:26:33.740985Z",
     "shell.execute_reply": "2023-02-12T08:26:33.740093Z"
    },
    "papermill": {
     "duration": 1.751015,
     "end_time": "2023-02-12T08:26:33.743590",
     "exception": false,
     "start_time": "2023-02-12T08:26:31.992575",
     "status": "completed"
    },
    "tags": []
   },
   "outputs": [],
   "source": [
    "sys.path.append(os.getcwd() + '/../..')\n",
    "from utils import mkdir, open_zip_shapefile, open_tar_shapefile, haversine"
   ]
  },
  {
   "cell_type": "code",
   "execution_count": 4,
   "id": "7c601bdf-1db0-429e-bb22-479f14ffe496",
   "metadata": {
    "execution": {
     "iopub.execute_input": "2023-02-12T08:26:33.766836Z",
     "iopub.status.busy": "2023-02-12T08:26:33.766373Z",
     "iopub.status.idle": "2023-02-12T08:26:33.771540Z",
     "shell.execute_reply": "2023-02-12T08:26:33.770711Z"
    },
    "papermill": {
     "duration": 0.016849,
     "end_time": "2023-02-12T08:26:33.772782",
     "exception": false,
     "start_time": "2023-02-12T08:26:33.755933",
     "status": "completed"
    },
    "tags": []
   },
   "outputs": [],
   "source": [
    "log = logging.getLogger('papermill')\n",
    "logging.basicConfig(level='INFO', format=\"%(message)s\")"
   ]
  },
  {
   "cell_type": "markdown",
   "id": "8487f7be-608e-44f1-88ec-671465325a11",
   "metadata": {
    "papermill": {
     "duration": 0.00452,
     "end_time": "2023-02-12T08:26:33.782371",
     "exception": false,
     "start_time": "2023-02-12T08:26:33.777851",
     "status": "completed"
    },
    "tags": []
   },
   "source": [
    "## Files and storage paths"
   ]
  },
  {
   "cell_type": "code",
   "execution_count": 5,
   "id": "1c753f79-c5b6-49f0-b6ba-bfe40fd7eac3",
   "metadata": {
    "execution": {
     "iopub.execute_input": "2023-02-12T08:26:33.794693Z",
     "iopub.status.busy": "2023-02-12T08:26:33.794374Z",
     "iopub.status.idle": "2023-02-12T08:26:33.800428Z",
     "shell.execute_reply": "2023-02-12T08:26:33.799479Z"
    },
    "papermill": {
     "duration": 0.014441,
     "end_time": "2023-02-12T08:26:33.801877",
     "exception": false,
     "start_time": "2023-02-12T08:26:33.787436",
     "status": "completed"
    },
    "tags": [
     "parameters"
    ]
   },
   "outputs": [],
   "source": [
    "# Region of interest\n",
    "reg = 1\n",
    "\n",
    "# go down from rgi7_scripts/workflow\n",
    "data_dir = '../../../../rgi7_data/'\n",
    "\n",
    "# Input dirctory\n",
    "input_dir = os.path.join(data_dir, 'l3_rgi7a_tar')\n",
    "\n",
    "# Output directories\n",
    "output_dir = mkdir(os.path.join(data_dir, 'l4_rgi7b0'))\n",
    "output_dir_tar = mkdir(os.path.join(data_dir, 'l4_rgi7b0_tar'))"
   ]
  },
  {
   "cell_type": "code",
   "execution_count": 6,
   "id": "480f6404",
   "metadata": {
    "execution": {
     "iopub.execute_input": "2023-02-12T08:26:33.815897Z",
     "iopub.status.busy": "2023-02-12T08:26:33.815167Z",
     "iopub.status.idle": "2023-02-12T08:26:33.819328Z",
     "shell.execute_reply": "2023-02-12T08:26:33.818498Z"
    },
    "papermill": {
     "duration": 0.012648,
     "end_time": "2023-02-12T08:26:33.820836",
     "exception": false,
     "start_time": "2023-02-12T08:26:33.808188",
     "status": "completed"
    },
    "tags": [
     "injected-parameters"
    ]
   },
   "outputs": [],
   "source": [
    "# Parameters\n",
    "reg = 16\n"
   ]
  },
  {
   "cell_type": "markdown",
   "id": "f2d31af4-b2b2-4dc9-b286-be594f2feb7e",
   "metadata": {
    "papermill": {
     "duration": 0.005865,
     "end_time": "2023-02-12T08:26:33.833084",
     "exception": false,
     "start_time": "2023-02-12T08:26:33.827219",
     "status": "completed"
    },
    "tags": []
   },
   "source": [
    "### Load the input data"
   ]
  },
  {
   "cell_type": "code",
   "execution_count": 7,
   "id": "caab54b7-92c0-45fa-a943-25225b119001",
   "metadata": {
    "execution": {
     "iopub.execute_input": "2023-02-12T08:26:33.846490Z",
     "iopub.status.busy": "2023-02-12T08:26:33.846177Z",
     "iopub.status.idle": "2023-02-12T08:26:34.541172Z",
     "shell.execute_reply": "2023-02-12T08:26:34.540269Z"
    },
    "papermill": {
     "duration": 0.704287,
     "end_time": "2023-02-12T08:26:34.543795",
     "exception": false,
     "start_time": "2023-02-12T08:26:33.839508",
     "status": "completed"
    },
    "tags": []
   },
   "outputs": [],
   "source": [
    "# Read files\n",
    "shp = open_tar_shapefile(input_dir + f'/RGI{reg:02d}.tar.gz')"
   ]
  },
  {
   "cell_type": "code",
   "execution_count": 8,
   "id": "77cf5415-997a-4aab-be08-726242a61228",
   "metadata": {
    "execution": {
     "iopub.execute_input": "2023-02-12T08:26:34.566604Z",
     "iopub.status.busy": "2023-02-12T08:26:34.566274Z",
     "iopub.status.idle": "2023-02-12T08:26:34.593142Z",
     "shell.execute_reply": "2023-02-12T08:26:34.592313Z"
    },
    "papermill": {
     "duration": 0.038433,
     "end_time": "2023-02-12T08:26:34.595234",
     "exception": false,
     "start_time": "2023-02-12T08:26:34.556801",
     "status": "completed"
    },
    "tags": []
   },
   "outputs": [],
   "source": [
    "orig_attrs = pd.DataFrame(shp.drop('geometry', axis=1))\n",
    "orig_attrs.T;"
   ]
  },
  {
   "cell_type": "code",
   "execution_count": 9,
   "id": "e1b92b0a-3767-455a-8884-4666b0cf504a",
   "metadata": {
    "execution": {
     "iopub.execute_input": "2023-02-12T08:26:34.614847Z",
     "iopub.status.busy": "2023-02-12T08:26:34.614665Z",
     "iopub.status.idle": "2023-02-12T08:26:34.619551Z",
     "shell.execute_reply": "2023-02-12T08:26:34.618620Z"
    },
    "papermill": {
     "duration": 0.015354,
     "end_time": "2023-02-12T08:26:34.620947",
     "exception": false,
     "start_time": "2023-02-12T08:26:34.605593",
     "status": "completed"
    },
    "tags": []
   },
   "outputs": [],
   "source": [
    "if 'conn_lvl' not in shp:\n",
    "    print('Add conn_lvl')\n",
    "    shp['conn_lvl'] = 0"
   ]
  },
  {
   "cell_type": "code",
   "execution_count": 10,
   "id": "e09e91a0-6561-4cd7-907a-60aeb23e545f",
   "metadata": {
    "execution": {
     "iopub.execute_input": "2023-02-12T08:26:34.635342Z",
     "iopub.status.busy": "2023-02-12T08:26:34.634623Z",
     "iopub.status.idle": "2023-02-12T08:26:34.641974Z",
     "shell.execute_reply": "2023-02-12T08:26:34.641018Z"
    },
    "papermill": {
     "duration": 0.015683,
     "end_time": "2023-02-12T08:26:34.643372",
     "exception": false,
     "start_time": "2023-02-12T08:26:34.627689",
     "status": "completed"
    },
    "tags": []
   },
   "outputs": [],
   "source": [
    "odf = shp.copy()"
   ]
  },
  {
   "cell_type": "code",
   "execution_count": 11,
   "id": "17837ca6-2d55-4ae7-af15-4b572f2eefbf",
   "metadata": {
    "execution": {
     "iopub.execute_input": "2023-02-12T08:26:34.658431Z",
     "iopub.status.busy": "2023-02-12T08:26:34.657599Z",
     "iopub.status.idle": "2023-02-12T08:26:34.666007Z",
     "shell.execute_reply": "2023-02-12T08:26:34.665138Z"
    },
    "papermill": {
     "duration": 0.017263,
     "end_time": "2023-02-12T08:26:34.667543",
     "exception": false,
     "start_time": "2023-02-12T08:26:34.650280",
     "status": "completed"
    },
    "tags": []
   },
   "outputs": [],
   "source": [
    "rename = {'area':'area_km2', 'CenLon': 'cenlon', 'CenLat': 'cenlat', 'glac_id':'glims_id'}\n",
    "odf = odf.rename(rename, axis=1)"
   ]
  },
  {
   "cell_type": "markdown",
   "id": "c2895b31-0bb5-4192-a158-c6ff07abd1ba",
   "metadata": {
    "papermill": {
     "duration": 0.00696,
     "end_time": "2023-02-12T08:26:34.682469",
     "exception": false,
     "start_time": "2023-02-12T08:26:34.675509",
     "status": "completed"
    },
    "tags": []
   },
   "source": [
    "Recompute area and center point to be sure:"
   ]
  },
  {
   "cell_type": "code",
   "execution_count": 12,
   "id": "b54183cb-e0e5-4e82-942d-dbde26f1e7a3",
   "metadata": {
    "execution": {
     "iopub.execute_input": "2023-02-12T08:26:34.696062Z",
     "iopub.status.busy": "2023-02-12T08:26:34.695864Z",
     "iopub.status.idle": "2023-02-12T08:26:34.875689Z",
     "shell.execute_reply": "2023-02-12T08:26:34.874809Z"
    },
    "papermill": {
     "duration": 0.188896,
     "end_time": "2023-02-12T08:26:34.878125",
     "exception": false,
     "start_time": "2023-02-12T08:26:34.689229",
     "status": "completed"
    },
    "tags": []
   },
   "outputs": [],
   "source": [
    "def xy_coord(geom):\n",
    "    x, y = geom.xy\n",
    "    return x[0], y[0]\n",
    "\n",
    "rp = odf.representative_point()\n",
    "\n",
    "coordinates = np.array(list(rp.apply(xy_coord)))\n",
    "odf['cenlon'] = coordinates[:, 0]\n",
    "odf['cenlat'] = coordinates[:, 1]\n",
    "\n",
    "odf['area_km2'] = odf.to_crs({'proj':'cea'}).area * 1e-6"
   ]
  },
  {
   "cell_type": "code",
   "execution_count": 13,
   "id": "14dff652-d75c-4702-90d0-8e2462577487",
   "metadata": {
    "execution": {
     "iopub.execute_input": "2023-02-12T08:26:34.900874Z",
     "iopub.status.busy": "2023-02-12T08:26:34.900463Z",
     "iopub.status.idle": "2023-02-12T08:26:34.909852Z",
     "shell.execute_reply": "2023-02-12T08:26:34.908857Z"
    },
    "papermill": {
     "duration": 0.019998,
     "end_time": "2023-02-12T08:26:34.911119",
     "exception": false,
     "start_time": "2023-02-12T08:26:34.891121",
     "status": "completed"
    },
    "tags": []
   },
   "outputs": [],
   "source": [
    "odf['glac_name'] = odf['glac_name'].where(odf['glac_name'] != 'None', '')"
   ]
  },
  {
   "cell_type": "markdown",
   "id": "8d88df3a-a0da-41aa-80a2-6ee799789b25",
   "metadata": {
    "papermill": {
     "duration": 0.006099,
     "end_time": "2023-02-12T08:26:34.922499",
     "exception": false,
     "start_time": "2023-02-12T08:26:34.916400",
     "status": "completed"
    },
    "tags": []
   },
   "source": [
    "## Metadata "
   ]
  },
  {
   "cell_type": "code",
   "execution_count": 14,
   "id": "3da9f86f-42fa-4ae4-b5f5-bbc2708d7f80",
   "metadata": {
    "execution": {
     "iopub.execute_input": "2023-02-12T08:26:34.936503Z",
     "iopub.status.busy": "2023-02-12T08:26:34.936236Z",
     "iopub.status.idle": "2023-02-12T08:26:34.940225Z",
     "shell.execute_reply": "2023-02-12T08:26:34.939536Z"
    },
    "papermill": {
     "duration": 0.012382,
     "end_time": "2023-02-12T08:26:34.941638",
     "exception": false,
     "start_time": "2023-02-12T08:26:34.929256",
     "status": "completed"
    },
    "tags": []
   },
   "outputs": [],
   "source": [
    "with open('../rgi7_attributes_metadata.json', 'r') as infile:\n",
    "    meta = json.load(infile)"
   ]
  },
  {
   "cell_type": "code",
   "execution_count": 15,
   "id": "6efe0d1f-3125-4062-b9c4-2d9717db2e98",
   "metadata": {
    "execution": {
     "iopub.execute_input": "2023-02-12T08:26:34.956051Z",
     "iopub.status.busy": "2023-02-12T08:26:34.955759Z",
     "iopub.status.idle": "2023-02-12T08:26:34.976222Z",
     "shell.execute_reply": "2023-02-12T08:26:34.975406Z"
    },
    "papermill": {
     "duration": 0.02908,
     "end_time": "2023-02-12T08:26:34.977682",
     "exception": false,
     "start_time": "2023-02-12T08:26:34.948602",
     "status": "completed"
    },
    "tags": []
   },
   "outputs": [],
   "source": [
    "odf_new = odf[[]].copy().reset_index(drop=True)\n",
    "\n",
    "for col, attrs in meta.items():\n",
    "    if col not in odf:\n",
    "        if attrs['datatype'] == 'str':\n",
    "            odf_new[col] = ''\n",
    "        elif attrs['datatype'] == 'float':\n",
    "            odf_new[col] = np.NaN\n",
    "        elif attrs['datatype'] == 'int':\n",
    "            odf_new[col] = -999 \n",
    "    else: \n",
    "        if attrs['datatype']:\n",
    "            odf_new[col] = odf[col].astype(attrs['datatype'])\n",
    "        else: \n",
    "            odf_new[col] = odf[col]"
   ]
  },
  {
   "cell_type": "code",
   "execution_count": 16,
   "id": "19f7932c-0795-487e-89d3-f72c20eeb1c4",
   "metadata": {
    "execution": {
     "iopub.execute_input": "2023-02-12T08:26:34.991600Z",
     "iopub.status.busy": "2023-02-12T08:26:34.991408Z",
     "iopub.status.idle": "2023-02-12T08:26:35.003505Z",
     "shell.execute_reply": "2023-02-12T08:26:35.002559Z"
    },
    "papermill": {
     "duration": 0.020488,
     "end_time": "2023-02-12T08:26:35.005053",
     "exception": false,
     "start_time": "2023-02-12T08:26:34.984565",
     "status": "completed"
    },
    "tags": []
   },
   "outputs": [],
   "source": [
    "odf_new = gpd.GeoDataFrame(odf_new)\n",
    "odf_new.crs = odf.crs\n",
    "odf_new = odf_new.reset_index(drop=True)\n",
    "odf_new.iloc[:1].T;"
   ]
  },
  {
   "cell_type": "markdown",
   "id": "450e8521-6572-474c-afe5-0989eb843536",
   "metadata": {
    "papermill": {
     "duration": 0.006291,
     "end_time": "2023-02-12T08:26:35.019350",
     "exception": false,
     "start_time": "2023-02-12T08:26:35.013059",
     "status": "completed"
    },
    "tags": []
   },
   "source": [
    "## Regions, subregions and RGI IDs"
   ]
  },
  {
   "cell_type": "code",
   "execution_count": 17,
   "id": "544c32b7-a630-4f2b-a82d-5a2372ad527d",
   "metadata": {
    "execution": {
     "iopub.execute_input": "2023-02-12T08:26:35.032571Z",
     "iopub.status.busy": "2023-02-12T08:26:35.031798Z",
     "iopub.status.idle": "2023-02-12T08:26:35.035949Z",
     "shell.execute_reply": "2023-02-12T08:26:35.035166Z"
    },
    "papermill": {
     "duration": 0.010866,
     "end_time": "2023-02-12T08:26:35.037119",
     "exception": false,
     "start_time": "2023-02-12T08:26:35.026253",
     "status": "completed"
    },
    "tags": []
   },
   "outputs": [],
   "source": [
    "odf_new['o1region'] = f'{reg:02d}'"
   ]
  },
  {
   "cell_type": "code",
   "execution_count": 18,
   "id": "21cc6a76-449e-41be-9f83-76f94e0aaede",
   "metadata": {
    "execution": {
     "iopub.execute_input": "2023-02-12T08:26:35.048962Z",
     "iopub.status.busy": "2023-02-12T08:26:35.048248Z",
     "iopub.status.idle": "2023-02-12T08:26:35.115600Z",
     "shell.execute_reply": "2023-02-12T08:26:35.114733Z"
    },
    "papermill": {
     "duration": 0.07515,
     "end_time": "2023-02-12T08:26:35.117680",
     "exception": false,
     "start_time": "2023-02-12T08:26:35.042530",
     "status": "completed"
    },
    "tags": []
   },
   "outputs": [],
   "source": [
    "sreg_file = os.path.join(data_dir, '00_rgi70_regions', '00_rgi70_O2Regions')\n",
    "sreg = gpd.read_file(sreg_file)\n",
    "sreg = sreg.loc[sreg.o1region == f'{reg:02d}']\n",
    "sreg;"
   ]
  },
  {
   "cell_type": "code",
   "execution_count": 19,
   "id": "29782e31-7feb-46f1-8398-16296d7dc5ee",
   "metadata": {
    "execution": {
     "iopub.execute_input": "2023-02-12T08:26:35.140670Z",
     "iopub.status.busy": "2023-02-12T08:26:35.140519Z",
     "iopub.status.idle": "2023-02-12T08:26:35.814300Z",
     "shell.execute_reply": "2023-02-12T08:26:35.813447Z"
    },
    "papermill": {
     "duration": 0.686769,
     "end_time": "2023-02-12T08:26:35.816681",
     "exception": false,
     "start_time": "2023-02-12T08:26:35.129912",
     "status": "completed"
    },
    "tags": []
   },
   "outputs": [
    {
     "name": "stderr",
     "output_type": "stream",
     "text": [
      "RGI16: all subregions have glaciers in them\n"
     ]
    }
   ],
   "source": [
    "baseid = f'RGI2000-v7.0-G-{reg:02d}-'\n",
    "count = 0\n",
    "\n",
    "rp = odf_new.representative_point()\n",
    "rp = rp.to_frame('geometry')\n",
    "rp['orig_index'] = odf_new.index\n",
    "\n",
    "total = 0\n",
    "\n",
    "for i, s in sreg.iterrows():\n",
    "    \n",
    "    intersect = gpd.overlay(rp, sreg.loc[[i]], how='intersection')\n",
    "    odf_sreg = odf_new.loc[intersect['orig_index']].copy()\n",
    "    odf_sreg['o2region'] = s['o2region']\n",
    "    \n",
    "    total += len(odf_sreg)\n",
    "    \n",
    "    if len(odf_sreg) == 0:\n",
    "        # 19-05 Ross Ice Shelf one of them\n",
    "        continue\n",
    "    \n",
    "    # Ids generation\n",
    "    # Left most point and we start from there\n",
    "    slon, slat = odf_sreg.loc[odf_sreg.cenlon == odf_sreg.cenlon.min()][['cenlon', 'cenlat']].iloc[0].values\n",
    "    \n",
    "    todo = odf_sreg.index.values\n",
    "    todo_lon = odf_sreg['cenlon'].values\n",
    "    todo_lat = odf_sreg['cenlat'].values\n",
    "    ids = []\n",
    "    while len(todo) > 0:\n",
    "        dis = haversine(slon, slat, todo_lon, todo_lat)\n",
    "        idm = np.argmin(dis)\n",
    "        ids.append(todo[idm])\n",
    "        slon, slat = todo_lon[idm], todo_lat[idm]\n",
    "        todo = np.delete(todo, idm)\n",
    "        todo_lon = np.delete(todo_lon, idm)\n",
    "        todo_lat = np.delete(todo_lat, idm)\n",
    "    \n",
    "    assert len(ids) == len(odf_sreg)\n",
    "    odf_sreg = odf_sreg.loc[ids].copy()\n",
    "    \n",
    "    odf_sreg['rgi_id'] = [baseid + f'{l+count:05d}' for l in range(len(odf_sreg))]\n",
    "    count += len(odf_sreg)\n",
    "    odf_new.loc[odf_sreg.index, 'rgi_id'] = odf_sreg['rgi_id']\n",
    "    odf_new.loc[odf_sreg.index, 'o2region'] = odf_sreg['o2region']\n",
    "    \n",
    "odf_new = odf_new.sort_values(by='rgi_id').reset_index(drop=True)\n",
    "\n",
    "assert odf_new['o2region'].isnull().sum() == 0\n",
    "assert int(odf_new.iloc[-1]['rgi_id'].split('-')[-1]) == odf_new.iloc[-1].name\n",
    "if len(odf_new['o2region'].unique()) != len(sreg):\n",
    "    log.warning(f'RGI{reg:02d}: some subregions have NO glaciers in them')\n",
    "else:\n",
    "    log.info(f'RGI{reg:02d}: all subregions have glaciers in them')\n",
    "assert len(odf_new) == len(odf)"
   ]
  },
  {
   "cell_type": "code",
   "execution_count": 20,
   "id": "567e0186-4fa8-448b-83e3-f900ea245a4e",
   "metadata": {
    "execution": {
     "iopub.execute_input": "2023-02-12T08:26:35.838230Z",
     "iopub.status.busy": "2023-02-12T08:26:35.838026Z",
     "iopub.status.idle": "2023-02-12T08:26:35.843693Z",
     "shell.execute_reply": "2023-02-12T08:26:35.842718Z"
    },
    "papermill": {
     "duration": 0.017441,
     "end_time": "2023-02-12T08:26:35.844914",
     "exception": false,
     "start_time": "2023-02-12T08:26:35.827473",
     "status": "completed"
    },
    "tags": []
   },
   "outputs": [],
   "source": [
    "odf_new.iloc[:1].T;"
   ]
  },
  {
   "cell_type": "markdown",
   "id": "ad528b70-acfd-47db-99f3-3e123373516a",
   "metadata": {
    "papermill": {
     "duration": 0.004901,
     "end_time": "2023-02-12T08:26:35.855563",
     "exception": false,
     "start_time": "2023-02-12T08:26:35.850662",
     "status": "completed"
    },
    "tags": []
   },
   "source": [
    "## Submission metadata"
   ]
  },
  {
   "cell_type": "code",
   "execution_count": 21,
   "id": "470e8c16-42eb-443f-a176-c767ee7c3722",
   "metadata": {
    "execution": {
     "iopub.execute_input": "2023-02-12T08:26:35.870610Z",
     "iopub.status.busy": "2023-02-12T08:26:35.869896Z",
     "iopub.status.idle": "2023-02-12T08:26:35.874732Z",
     "shell.execute_reply": "2023-02-12T08:26:35.873882Z"
    },
    "papermill": {
     "duration": 0.014056,
     "end_time": "2023-02-12T08:26:35.876230",
     "exception": false,
     "start_time": "2023-02-12T08:26:35.862174",
     "status": "completed"
    },
    "tags": []
   },
   "outputs": [],
   "source": [
    "with open('../rgi7_submission_info_metadata.json', 'r') as infile:\n",
    "    meta_sub = json.load(infile)"
   ]
  },
  {
   "cell_type": "code",
   "execution_count": 22,
   "id": "00c9d8ae-9743-4540-a5f4-50e44c0da289",
   "metadata": {
    "execution": {
     "iopub.execute_input": "2023-02-12T08:26:35.891217Z",
     "iopub.status.busy": "2023-02-12T08:26:35.890922Z",
     "iopub.status.idle": "2023-02-12T08:26:35.931846Z",
     "shell.execute_reply": "2023-02-12T08:26:35.931024Z"
    },
    "papermill": {
     "duration": 0.050367,
     "end_time": "2023-02-12T08:26:35.933836",
     "exception": false,
     "start_time": "2023-02-12T08:26:35.883469",
     "status": "completed"
    },
    "tags": []
   },
   "outputs": [],
   "source": [
    "subm_id = orig_attrs['subm_id'].unique()\n",
    "odf_subm = pd.DataFrame()\n",
    "for sid in subm_id:\n",
    "    sel = orig_attrs.loc[orig_attrs['subm_id'] == sid]\n",
    "    for k in meta_sub.keys():\n",
    "        if k == 'subm_id':\n",
    "            continue\n",
    "        attrs = meta_sub[k]\n",
    "        if k not in sel:\n",
    "            if attrs['datatype'] == 'str':\n",
    "                odf_subm.loc[int(sid), k] = ''\n",
    "            elif attrs['datatype'] == 'float':\n",
    "                odf_subm.loc[int(sid), k] = np.NaN\n",
    "            elif attrs['datatype'] == 'int':\n",
    "                odf_subm.loc[int(sid), k] = -999\n",
    "        else: \n",
    "            assert len(sel[k].unique()==1), f'{k} has non unique values'\n",
    "            if attrs['datatype']:\n",
    "                data = sel[k].astype(attrs['datatype']).iloc[0]\n",
    "            else: \n",
    "                data = sel[k].iloc[0]\n",
    "                \n",
    "            if attrs['datatype'] == 'str':\n",
    "                # Clean\n",
    "                data = data.strip().lstrip(';').strip()\n",
    "                \n",
    "            odf_subm.loc[int(sid), k] = data\n",
    "            \n",
    "    odf_subm.loc[int(sid), 'n_outlines'] = len(sel)\n",
    "    odf_subm.loc[int(sid), 'area_km2'] = sel['area'].sum() * 1e-6\n",
    "        \n",
    "odf_subm.index.name = 'subm_id' \n",
    "odf_subm['n_outlines'] = odf_subm['n_outlines'].astype(int)\n",
    "odf_subm['rc_id'] = odf_subm['rc_id'].astype(int)\n",
    "odf_subm = odf_subm.sort_index()\n",
    "odf_subm;"
   ]
  },
  {
   "cell_type": "markdown",
   "id": "1e9da820-bb63-44ba-9c9e-4b9bb43dc83d",
   "metadata": {
    "papermill": {
     "duration": 0.006535,
     "end_time": "2023-02-12T08:26:35.950357",
     "exception": false,
     "start_time": "2023-02-12T08:26:35.943822",
     "status": "completed"
    },
    "tags": []
   },
   "source": [
    "## Write out and tar "
   ]
  },
  {
   "cell_type": "code",
   "execution_count": 23,
   "id": "a9f2ad69-a5e6-49ad-b2c3-7e928bbd2a29",
   "metadata": {
    "execution": {
     "iopub.execute_input": "2023-02-12T08:26:35.964869Z",
     "iopub.status.busy": "2023-02-12T08:26:35.964564Z",
     "iopub.status.idle": "2023-02-12T08:26:36.007628Z",
     "shell.execute_reply": "2023-02-12T08:26:36.006777Z"
    },
    "papermill": {
     "duration": 0.051983,
     "end_time": "2023-02-12T08:26:36.009543",
     "exception": false,
     "start_time": "2023-02-12T08:26:35.957560",
     "status": "completed"
    },
    "tags": []
   },
   "outputs": [],
   "source": [
    "reg_file = os.path.join(data_dir, '00_rgi70_regions', '00_rgi70_O1Regions')\n",
    "reg_file = gpd.read_file(reg_file)\n",
    "reg_file = reg_file.loc[reg_file.o1region == f'{reg:02d}'].iloc[0]"
   ]
  },
  {
   "cell_type": "code",
   "execution_count": 24,
   "id": "6280b37d-6683-4670-b499-181fa14b57e9",
   "metadata": {
    "execution": {
     "iopub.execute_input": "2023-02-12T08:26:36.034320Z",
     "iopub.status.busy": "2023-02-12T08:26:36.033641Z",
     "iopub.status.idle": "2023-02-12T08:26:39.971718Z",
     "shell.execute_reply": "2023-02-12T08:26:39.970593Z"
    },
    "papermill": {
     "duration": 3.951476,
     "end_time": "2023-02-12T08:26:39.974034",
     "exception": false,
     "start_time": "2023-02-12T08:26:36.022558",
     "status": "completed"
    },
    "tags": []
   },
   "outputs": [
    {
     "name": "stdout",
     "output_type": "stream",
     "text": [
      "Writing...\n"
     ]
    },
    {
     "name": "stdout",
     "output_type": "stream",
     "text": [
      "Taring...\n",
      "RGI2000-v7.0-G-16_low_latitudes/\n",
      "RGI2000-v7.0-G-16_low_latitudes/RGI2000-v7.0-G-16_low_latitudes_subm_info.csv\n",
      "RGI2000-v7.0-G-16_low_latitudes/RGI2000-v7.0-G-16_low_latitudes.shx\n",
      "RGI2000-v7.0-G-16_low_latitudes/RGI2000-v7.0-G-16_low_latitudes_attributes.csv\n",
      "RGI2000-v7.0-G-16_low_latitudes/RGI2000-v7.0-G-16_low_latitudes.cpg\n",
      "RGI2000-v7.0-G-16_low_latitudes/RGI2000-v7.0-G-16_low_latitudes.prj\n",
      "RGI2000-v7.0-G-16_low_latitudes/README.md\n",
      "RGI2000-v7.0-G-16_low_latitudes/RGI2000-v7.0-G-16_low_latitudes.shp\n"
     ]
    },
    {
     "name": "stdout",
     "output_type": "stream",
     "text": [
      "RGI2000-v7.0-G-16_low_latitudes/RGI2000-v7.0-G-16_low_latitudes.dbf\n",
      "CompletedProcess(args=['tar', '-zcvf', '../../../../rgi7_data/l4_rgi7b0_tar/RGI2000-v7.0-G-16_low_latitudes.tar.gz', '-C', '../../../../rgi7_data/l4_rgi7b0', 'RGI2000-v7.0-G-16_low_latitudes'], returncode=0)\n"
     ]
    }
   ],
   "source": [
    "dd = mkdir(f'{output_dir}/RGI2000-v7.0-G-{reg_file.long_code}/', reset=True)\n",
    "\n",
    "print('Writing...')\n",
    "odf_new.to_file(dd + f'RGI2000-v7.0-G-{reg_file.long_code}.shp')\n",
    "odf_subm.to_csv(dd + f'RGI2000-v7.0-G-{reg_file.long_code}_subm_info.csv', quoting=csv.QUOTE_NONNUMERIC)\n",
    "odf_new.drop('geometry', axis=1).set_index('rgi_id').to_csv(dd + f'RGI2000-v7.0-G-{reg_file.long_code}_attributes.csv', quoting=csv.QUOTE_NONNUMERIC)\n",
    "shutil.copyfile('../README_tpl.md', dd + f'README.md')\n",
    "\n",
    "print('Taring...')\n",
    "print(subprocess.run(['tar', '-zcvf', f'{output_dir_tar}/RGI2000-v7.0-G-{reg_file.long_code}.tar.gz', '-C', output_dir, f'RGI2000-v7.0-G-{reg_file.long_code}']))"
   ]
  },
  {
   "cell_type": "code",
   "execution_count": 25,
   "id": "7667dbd4-fc48-445c-bee8-6156c82bfa3e",
   "metadata": {
    "execution": {
     "iopub.execute_input": "2023-02-12T08:26:39.995760Z",
     "iopub.status.busy": "2023-02-12T08:26:39.995437Z",
     "iopub.status.idle": "2023-02-12T08:26:39.999924Z",
     "shell.execute_reply": "2023-02-12T08:26:39.999041Z"
    },
    "papermill": {
     "duration": 0.015104,
     "end_time": "2023-02-12T08:26:40.001540",
     "exception": false,
     "start_time": "2023-02-12T08:26:39.986436",
     "status": "completed"
    },
    "tags": []
   },
   "outputs": [],
   "source": [
    "odf_new;"
   ]
  },
  {
   "cell_type": "code",
   "execution_count": 26,
   "id": "1b64b5cc-046a-4d96-a3ce-d047d9e20a8b",
   "metadata": {
    "execution": {
     "iopub.execute_input": "2023-02-12T08:26:40.015104Z",
     "iopub.status.busy": "2023-02-12T08:26:40.014791Z",
     "iopub.status.idle": "2023-02-12T08:26:40.019922Z",
     "shell.execute_reply": "2023-02-12T08:26:40.018963Z"
    },
    "papermill": {
     "duration": 0.013188,
     "end_time": "2023-02-12T08:26:40.021477",
     "exception": false,
     "start_time": "2023-02-12T08:26:40.008289",
     "status": "completed"
    },
    "tags": []
   },
   "outputs": [],
   "source": [
    "import glob, os\n",
    "for f in glob.glob( f\"{output_dir_tar}/*.properties\"):\n",
    "    os.remove(f)"
   ]
  },
  {
   "cell_type": "markdown",
   "id": "7bd3a216-a8bf-4eb7-a485-7c38fc18066c",
   "metadata": {
    "papermill": {
     "duration": 0.006812,
     "end_time": "2023-02-12T08:26:40.035998",
     "exception": false,
     "start_time": "2023-02-12T08:26:40.029186",
     "status": "completed"
    },
    "tags": []
   },
   "source": [
    "## Merged product "
   ]
  },
  {
   "cell_type": "code",
   "execution_count": 27,
   "id": "63ba1a72-5dd3-445c-8e0e-5566a2e09085",
   "metadata": {
    "execution": {
     "iopub.execute_input": "2023-02-12T08:26:40.052145Z",
     "iopub.status.busy": "2023-02-12T08:26:40.051394Z",
     "iopub.status.idle": "2023-02-12T08:26:40.055499Z",
     "shell.execute_reply": "2023-02-12T08:26:40.054645Z"
    },
    "papermill": {
     "duration": 0.013398,
     "end_time": "2023-02-12T08:26:40.056982",
     "exception": false,
     "start_time": "2023-02-12T08:26:40.043584",
     "status": "completed"
    },
    "tags": []
   },
   "outputs": [],
   "source": [
    "# TODO"
   ]
  },
  {
   "cell_type": "code",
   "execution_count": null,
   "id": "61851dc4-fab3-4119-902d-c325ee09c182",
   "metadata": {
    "papermill": {
     "duration": 0.007051,
     "end_time": "2023-02-12T08:26:40.071746",
     "exception": false,
     "start_time": "2023-02-12T08:26:40.064695",
     "status": "completed"
    },
    "tags": []
   },
   "outputs": [],
   "source": []
  }
 ],
 "metadata": {
  "kernelspec": {
   "display_name": "Python 3 (ipykernel)",
   "language": "python",
   "name": "python3"
  },
  "language_info": {
   "codemirror_mode": {
    "name": "ipython",
    "version": 3
   },
   "file_extension": ".py",
   "mimetype": "text/x-python",
   "name": "python",
   "nbconvert_exporter": "python",
   "pygments_lexer": "ipython3",
   "version": "3.10.8"
  },
  "papermill": {
   "default_parameters": {},
   "duration": 9.965092,
   "end_time": "2023-02-12T08:26:40.599021",
   "environment_variables": {},
   "exception": null,
   "input_path": "alpha_to_beta_tpl.ipynb",
   "output_path": "alpha_to_beta_RGI16.ipynb",
   "parameters": {
    "reg": 16
   },
   "start_time": "2023-02-12T08:26:30.633929",
   "version": "2.3.4"
  }
 },
 "nbformat": 4,
 "nbformat_minor": 5
}