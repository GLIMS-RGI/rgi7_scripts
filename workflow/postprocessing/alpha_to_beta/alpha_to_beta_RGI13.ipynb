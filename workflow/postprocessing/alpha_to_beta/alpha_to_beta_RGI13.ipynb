{
 "cells": [
  {
   "cell_type": "code",
   "execution_count": 1,
   "id": "46adc67a-c914-4b66-a3de-aed2506fb298",
   "metadata": {
    "execution": {
     "iopub.execute_input": "2023-02-12T08:22:43.647085Z",
     "iopub.status.busy": "2023-02-12T08:22:43.646714Z",
     "iopub.status.idle": "2023-02-12T08:22:44.020502Z",
     "shell.execute_reply": "2023-02-12T08:22:44.019619Z"
    },
    "papermill": {
     "duration": 0.38542,
     "end_time": "2023-02-12T08:22:44.022311",
     "exception": false,
     "start_time": "2023-02-12T08:22:43.636891",
     "status": "completed"
    },
    "tags": []
   },
   "outputs": [],
   "source": [
    "import pandas as pd\n",
    "import geopandas as gpd\n",
    "import subprocess\n",
    "import numpy as np\n",
    "import shapely.geometry as shpg\n",
    "import os\n",
    "import sys\n",
    "import csv\n",
    "import json\n",
    "import logging\n",
    "import shutil"
   ]
  },
  {
   "cell_type": "code",
   "execution_count": 2,
   "id": "bad5729c-29eb-4fb6-80cf-b7d279f0343a",
   "metadata": {
    "execution": {
     "iopub.execute_input": "2023-02-12T08:22:44.034523Z",
     "iopub.status.busy": "2023-02-12T08:22:44.033938Z",
     "iopub.status.idle": "2023-02-12T08:22:44.037355Z",
     "shell.execute_reply": "2023-02-12T08:22:44.036770Z"
    },
    "papermill": {
     "duration": 0.009789,
     "end_time": "2023-02-12T08:22:44.038422",
     "exception": false,
     "start_time": "2023-02-12T08:22:44.028633",
     "status": "completed"
    },
    "tags": []
   },
   "outputs": [],
   "source": [
    "import warnings\n",
    "warnings.filterwarnings('ignore', category=FutureWarning)"
   ]
  },
  {
   "cell_type": "code",
   "execution_count": 3,
   "id": "c62aa692-c347-4e74-bc0f-c0cdc9da4669",
   "metadata": {
    "execution": {
     "iopub.execute_input": "2023-02-12T08:22:44.048353Z",
     "iopub.status.busy": "2023-02-12T08:22:44.048118Z",
     "iopub.status.idle": "2023-02-12T08:22:45.786995Z",
     "shell.execute_reply": "2023-02-12T08:22:45.786092Z"
    },
    "papermill": {
     "duration": 1.74577,
     "end_time": "2023-02-12T08:22:45.789111",
     "exception": false,
     "start_time": "2023-02-12T08:22:44.043341",
     "status": "completed"
    },
    "tags": []
   },
   "outputs": [],
   "source": [
    "sys.path.append(os.getcwd() + '/../..')\n",
    "from utils import mkdir, open_zip_shapefile, open_tar_shapefile, haversine"
   ]
  },
  {
   "cell_type": "code",
   "execution_count": 4,
   "id": "7c601bdf-1db0-429e-bb22-479f14ffe496",
   "metadata": {
    "execution": {
     "iopub.execute_input": "2023-02-12T08:22:45.810580Z",
     "iopub.status.busy": "2023-02-12T08:22:45.810236Z",
     "iopub.status.idle": "2023-02-12T08:22:45.815225Z",
     "shell.execute_reply": "2023-02-12T08:22:45.814383Z"
    },
    "papermill": {
     "duration": 0.016215,
     "end_time": "2023-02-12T08:22:45.816414",
     "exception": false,
     "start_time": "2023-02-12T08:22:45.800199",
     "status": "completed"
    },
    "tags": []
   },
   "outputs": [],
   "source": [
    "log = logging.getLogger('papermill')\n",
    "logging.basicConfig(level='INFO', format=\"%(message)s\")"
   ]
  },
  {
   "cell_type": "markdown",
   "id": "8487f7be-608e-44f1-88ec-671465325a11",
   "metadata": {
    "papermill": {
     "duration": 0.004394,
     "end_time": "2023-02-12T08:22:45.825813",
     "exception": false,
     "start_time": "2023-02-12T08:22:45.821419",
     "status": "completed"
    },
    "tags": []
   },
   "source": [
    "## Files and storage paths"
   ]
  },
  {
   "cell_type": "code",
   "execution_count": 5,
   "id": "1c753f79-c5b6-49f0-b6ba-bfe40fd7eac3",
   "metadata": {
    "execution": {
     "iopub.execute_input": "2023-02-12T08:22:45.837439Z",
     "iopub.status.busy": "2023-02-12T08:22:45.837134Z",
     "iopub.status.idle": "2023-02-12T08:22:45.842971Z",
     "shell.execute_reply": "2023-02-12T08:22:45.842061Z"
    },
    "papermill": {
     "duration": 0.013584,
     "end_time": "2023-02-12T08:22:45.844313",
     "exception": false,
     "start_time": "2023-02-12T08:22:45.830729",
     "status": "completed"
    },
    "tags": [
     "parameters"
    ]
   },
   "outputs": [],
   "source": [
    "# Region of interest\n",
    "reg = 1\n",
    "\n",
    "# go down from rgi7_scripts/workflow\n",
    "data_dir = '../../../../rgi7_data/'\n",
    "\n",
    "# Input dirctory\n",
    "input_dir = os.path.join(data_dir, 'l3_rgi7a_tar')\n",
    "\n",
    "# Output directories\n",
    "output_dir = mkdir(os.path.join(data_dir, 'l4_rgi7b0'))\n",
    "output_dir_tar = mkdir(os.path.join(data_dir, 'l4_rgi7b0_tar'))"
   ]
  },
  {
   "cell_type": "code",
   "execution_count": 6,
   "id": "7006f919",
   "metadata": {
    "execution": {
     "iopub.execute_input": "2023-02-12T08:22:45.858053Z",
     "iopub.status.busy": "2023-02-12T08:22:45.857309Z",
     "iopub.status.idle": "2023-02-12T08:22:45.861379Z",
     "shell.execute_reply": "2023-02-12T08:22:45.860520Z"
    },
    "papermill": {
     "duration": 0.012207,
     "end_time": "2023-02-12T08:22:45.862869",
     "exception": false,
     "start_time": "2023-02-12T08:22:45.850662",
     "status": "completed"
    },
    "tags": [
     "injected-parameters"
    ]
   },
   "outputs": [],
   "source": [
    "# Parameters\n",
    "reg = 13\n"
   ]
  },
  {
   "cell_type": "markdown",
   "id": "f2d31af4-b2b2-4dc9-b286-be594f2feb7e",
   "metadata": {
    "papermill": {
     "duration": 0.006575,
     "end_time": "2023-02-12T08:22:45.875653",
     "exception": false,
     "start_time": "2023-02-12T08:22:45.869078",
     "status": "completed"
    },
    "tags": []
   },
   "source": [
    "### Load the input data"
   ]
  },
  {
   "cell_type": "code",
   "execution_count": 7,
   "id": "caab54b7-92c0-45fa-a943-25225b119001",
   "metadata": {
    "execution": {
     "iopub.execute_input": "2023-02-12T08:22:45.889273Z",
     "iopub.status.busy": "2023-02-12T08:22:45.888533Z",
     "iopub.status.idle": "2023-02-12T08:23:01.264881Z",
     "shell.execute_reply": "2023-02-12T08:23:01.263984Z"
    },
    "papermill": {
     "duration": 15.385226,
     "end_time": "2023-02-12T08:23:01.267318",
     "exception": false,
     "start_time": "2023-02-12T08:22:45.882092",
     "status": "completed"
    },
    "tags": []
   },
   "outputs": [
    {
     "name": "stderr",
     "output_type": "stream",
     "text": [
      "VSIFSeekL(xxx, SEEK_END) may be really slow on GZip streams.\n"
     ]
    }
   ],
   "source": [
    "# Read files\n",
    "shp = open_tar_shapefile(input_dir + f'/RGI{reg:02d}.tar.gz')"
   ]
  },
  {
   "cell_type": "code",
   "execution_count": 8,
   "id": "77cf5415-997a-4aab-be08-726242a61228",
   "metadata": {
    "execution": {
     "iopub.execute_input": "2023-02-12T08:23:01.292412Z",
     "iopub.status.busy": "2023-02-12T08:23:01.292068Z",
     "iopub.status.idle": "2023-02-12T08:23:01.563619Z",
     "shell.execute_reply": "2023-02-12T08:23:01.562716Z"
    },
    "papermill": {
     "duration": 0.285596,
     "end_time": "2023-02-12T08:23:01.565773",
     "exception": false,
     "start_time": "2023-02-12T08:23:01.280177",
     "status": "completed"
    },
    "tags": []
   },
   "outputs": [],
   "source": [
    "orig_attrs = pd.DataFrame(shp.drop('geometry', axis=1))\n",
    "orig_attrs.T;"
   ]
  },
  {
   "cell_type": "code",
   "execution_count": 9,
   "id": "e1b92b0a-3767-455a-8884-4666b0cf504a",
   "metadata": {
    "execution": {
     "iopub.execute_input": "2023-02-12T08:23:01.587797Z",
     "iopub.status.busy": "2023-02-12T08:23:01.587592Z",
     "iopub.status.idle": "2023-02-12T08:23:01.591542Z",
     "shell.execute_reply": "2023-02-12T08:23:01.590865Z"
    },
    "papermill": {
     "duration": 0.015072,
     "end_time": "2023-02-12T08:23:01.592633",
     "exception": false,
     "start_time": "2023-02-12T08:23:01.577561",
     "status": "completed"
    },
    "tags": []
   },
   "outputs": [],
   "source": [
    "if 'conn_lvl' not in shp:\n",
    "    print('Add conn_lvl')\n",
    "    shp['conn_lvl'] = 0"
   ]
  },
  {
   "cell_type": "code",
   "execution_count": 10,
   "id": "e09e91a0-6561-4cd7-907a-60aeb23e545f",
   "metadata": {
    "execution": {
     "iopub.execute_input": "2023-02-12T08:23:01.604110Z",
     "iopub.status.busy": "2023-02-12T08:23:01.603500Z",
     "iopub.status.idle": "2023-02-12T08:23:01.627021Z",
     "shell.execute_reply": "2023-02-12T08:23:01.626149Z"
    },
    "papermill": {
     "duration": 0.030635,
     "end_time": "2023-02-12T08:23:01.628612",
     "exception": false,
     "start_time": "2023-02-12T08:23:01.597977",
     "status": "completed"
    },
    "tags": []
   },
   "outputs": [],
   "source": [
    "odf = shp.copy()"
   ]
  },
  {
   "cell_type": "code",
   "execution_count": 11,
   "id": "17837ca6-2d55-4ae7-af15-4b572f2eefbf",
   "metadata": {
    "execution": {
     "iopub.execute_input": "2023-02-12T08:23:01.648476Z",
     "iopub.status.busy": "2023-02-12T08:23:01.648315Z",
     "iopub.status.idle": "2023-02-12T08:23:01.683887Z",
     "shell.execute_reply": "2023-02-12T08:23:01.682991Z"
    },
    "papermill": {
     "duration": 0.047321,
     "end_time": "2023-02-12T08:23:01.685728",
     "exception": false,
     "start_time": "2023-02-12T08:23:01.638407",
     "status": "completed"
    },
    "tags": []
   },
   "outputs": [],
   "source": [
    "rename = {'area':'area_km2', 'CenLon': 'cenlon', 'CenLat': 'cenlat', 'glac_id':'glims_id'}\n",
    "odf = odf.rename(rename, axis=1)"
   ]
  },
  {
   "cell_type": "markdown",
   "id": "c2895b31-0bb5-4192-a158-c6ff07abd1ba",
   "metadata": {
    "papermill": {
     "duration": 0.007915,
     "end_time": "2023-02-12T08:23:01.705192",
     "exception": false,
     "start_time": "2023-02-12T08:23:01.697277",
     "status": "completed"
    },
    "tags": []
   },
   "source": [
    "Recompute area and center point to be sure:"
   ]
  },
  {
   "cell_type": "code",
   "execution_count": 12,
   "id": "b54183cb-e0e5-4e82-942d-dbde26f1e7a3",
   "metadata": {
    "execution": {
     "iopub.execute_input": "2023-02-12T08:23:01.719399Z",
     "iopub.status.busy": "2023-02-12T08:23:01.718588Z",
     "iopub.status.idle": "2023-02-12T08:23:04.829779Z",
     "shell.execute_reply": "2023-02-12T08:23:04.828872Z"
    },
    "papermill": {
     "duration": 3.120308,
     "end_time": "2023-02-12T08:23:04.832171",
     "exception": false,
     "start_time": "2023-02-12T08:23:01.711863",
     "status": "completed"
    },
    "tags": []
   },
   "outputs": [],
   "source": [
    "def xy_coord(geom):\n",
    "    x, y = geom.xy\n",
    "    return x[0], y[0]\n",
    "\n",
    "rp = odf.representative_point()\n",
    "\n",
    "coordinates = np.array(list(rp.apply(xy_coord)))\n",
    "odf['cenlon'] = coordinates[:, 0]\n",
    "odf['cenlat'] = coordinates[:, 1]\n",
    "\n",
    "odf['area_km2'] = odf.to_crs({'proj':'cea'}).area * 1e-6"
   ]
  },
  {
   "cell_type": "code",
   "execution_count": 13,
   "id": "14dff652-d75c-4702-90d0-8e2462577487",
   "metadata": {
    "execution": {
     "iopub.execute_input": "2023-02-12T08:23:04.854735Z",
     "iopub.status.busy": "2023-02-12T08:23:04.854525Z",
     "iopub.status.idle": "2023-02-12T08:23:04.894477Z",
     "shell.execute_reply": "2023-02-12T08:23:04.893585Z"
    },
    "papermill": {
     "duration": 0.051248,
     "end_time": "2023-02-12T08:23:04.896536",
     "exception": false,
     "start_time": "2023-02-12T08:23:04.845288",
     "status": "completed"
    },
    "tags": []
   },
   "outputs": [],
   "source": [
    "odf['glac_name'] = odf['glac_name'].where(odf['glac_name'] != 'None', '')"
   ]
  },
  {
   "cell_type": "markdown",
   "id": "8d88df3a-a0da-41aa-80a2-6ee799789b25",
   "metadata": {
    "papermill": {
     "duration": 0.009606,
     "end_time": "2023-02-12T08:23:04.916509",
     "exception": false,
     "start_time": "2023-02-12T08:23:04.906903",
     "status": "completed"
    },
    "tags": []
   },
   "source": [
    "## Metadata "
   ]
  },
  {
   "cell_type": "code",
   "execution_count": 14,
   "id": "3da9f86f-42fa-4ae4-b5f5-bbc2708d7f80",
   "metadata": {
    "execution": {
     "iopub.execute_input": "2023-02-12T08:23:04.930629Z",
     "iopub.status.busy": "2023-02-12T08:23:04.929933Z",
     "iopub.status.idle": "2023-02-12T08:23:04.935099Z",
     "shell.execute_reply": "2023-02-12T08:23:04.934186Z"
    },
    "papermill": {
     "duration": 0.012168,
     "end_time": "2023-02-12T08:23:04.936321",
     "exception": false,
     "start_time": "2023-02-12T08:23:04.924153",
     "status": "completed"
    },
    "tags": []
   },
   "outputs": [],
   "source": [
    "with open('../rgi7_attributes_metadata.json', 'r') as infile:\n",
    "    meta = json.load(infile)"
   ]
  },
  {
   "cell_type": "code",
   "execution_count": 15,
   "id": "6efe0d1f-3125-4062-b9c4-2d9717db2e98",
   "metadata": {
    "execution": {
     "iopub.execute_input": "2023-02-12T08:23:04.949770Z",
     "iopub.status.busy": "2023-02-12T08:23:04.948854Z",
     "iopub.status.idle": "2023-02-12T08:23:05.017045Z",
     "shell.execute_reply": "2023-02-12T08:23:05.016177Z"
    },
    "papermill": {
     "duration": 0.077053,
     "end_time": "2023-02-12T08:23:05.018987",
     "exception": false,
     "start_time": "2023-02-12T08:23:04.941934",
     "status": "completed"
    },
    "tags": []
   },
   "outputs": [],
   "source": [
    "odf_new = odf[[]].copy().reset_index(drop=True)\n",
    "\n",
    "for col, attrs in meta.items():\n",
    "    if col not in odf:\n",
    "        if attrs['datatype'] == 'str':\n",
    "            odf_new[col] = ''\n",
    "        elif attrs['datatype'] == 'float':\n",
    "            odf_new[col] = np.NaN\n",
    "        elif attrs['datatype'] == 'int':\n",
    "            odf_new[col] = -999 \n",
    "    else: \n",
    "        if attrs['datatype']:\n",
    "            odf_new[col] = odf[col].astype(attrs['datatype'])\n",
    "        else: \n",
    "            odf_new[col] = odf[col]"
   ]
  },
  {
   "cell_type": "code",
   "execution_count": 16,
   "id": "19f7932c-0795-487e-89d3-f72c20eeb1c4",
   "metadata": {
    "execution": {
     "iopub.execute_input": "2023-02-12T08:23:05.043481Z",
     "iopub.status.busy": "2023-02-12T08:23:05.042801Z",
     "iopub.status.idle": "2023-02-12T08:23:05.081037Z",
     "shell.execute_reply": "2023-02-12T08:23:05.080166Z"
    },
    "papermill": {
     "duration": 0.051931,
     "end_time": "2023-02-12T08:23:05.082977",
     "exception": false,
     "start_time": "2023-02-12T08:23:05.031046",
     "status": "completed"
    },
    "tags": []
   },
   "outputs": [],
   "source": [
    "odf_new = gpd.GeoDataFrame(odf_new)\n",
    "odf_new.crs = odf.crs\n",
    "odf_new = odf_new.reset_index(drop=True)\n",
    "odf_new.iloc[:1].T;"
   ]
  },
  {
   "cell_type": "markdown",
   "id": "450e8521-6572-474c-afe5-0989eb843536",
   "metadata": {
    "papermill": {
     "duration": 0.009739,
     "end_time": "2023-02-12T08:23:05.103057",
     "exception": false,
     "start_time": "2023-02-12T08:23:05.093318",
     "status": "completed"
    },
    "tags": []
   },
   "source": [
    "## Regions, subregions and RGI IDs"
   ]
  },
  {
   "cell_type": "code",
   "execution_count": 17,
   "id": "544c32b7-a630-4f2b-a82d-5a2372ad527d",
   "metadata": {
    "execution": {
     "iopub.execute_input": "2023-02-12T08:23:05.114653Z",
     "iopub.status.busy": "2023-02-12T08:23:05.114338Z",
     "iopub.status.idle": "2023-02-12T08:23:05.126712Z",
     "shell.execute_reply": "2023-02-12T08:23:05.125710Z"
    },
    "papermill": {
     "duration": 0.019817,
     "end_time": "2023-02-12T08:23:05.128187",
     "exception": false,
     "start_time": "2023-02-12T08:23:05.108370",
     "status": "completed"
    },
    "tags": []
   },
   "outputs": [],
   "source": [
    "odf_new['o1region'] = f'{reg:02d}'"
   ]
  },
  {
   "cell_type": "code",
   "execution_count": 18,
   "id": "21cc6a76-449e-41be-9f83-76f94e0aaede",
   "metadata": {
    "execution": {
     "iopub.execute_input": "2023-02-12T08:23:05.143497Z",
     "iopub.status.busy": "2023-02-12T08:23:05.143295Z",
     "iopub.status.idle": "2023-02-12T08:23:05.209337Z",
     "shell.execute_reply": "2023-02-12T08:23:05.208327Z"
    },
    "papermill": {
     "duration": 0.07593,
     "end_time": "2023-02-12T08:23:05.211983",
     "exception": false,
     "start_time": "2023-02-12T08:23:05.136053",
     "status": "completed"
    },
    "tags": []
   },
   "outputs": [],
   "source": [
    "sreg_file = os.path.join(data_dir, '00_rgi70_regions', '00_rgi70_O2Regions')\n",
    "sreg = gpd.read_file(sreg_file)\n",
    "sreg = sreg.loc[sreg.o1region == f'{reg:02d}']\n",
    "sreg;"
   ]
  },
  {
   "cell_type": "code",
   "execution_count": 19,
   "id": "29782e31-7feb-46f1-8398-16296d7dc5ee",
   "metadata": {
    "execution": {
     "iopub.execute_input": "2023-02-12T08:23:05.233874Z",
     "iopub.status.busy": "2023-02-12T08:23:05.233552Z",
     "iopub.status.idle": "2023-02-12T08:23:27.963194Z",
     "shell.execute_reply": "2023-02-12T08:23:27.962320Z"
    },
    "papermill": {
     "duration": 22.743035,
     "end_time": "2023-02-12T08:23:27.965862",
     "exception": false,
     "start_time": "2023-02-12T08:23:05.222827",
     "status": "completed"
    },
    "tags": []
   },
   "outputs": [
    {
     "name": "stderr",
     "output_type": "stream",
     "text": [
      "RGI13: all subregions have glaciers in them\n"
     ]
    }
   ],
   "source": [
    "baseid = f'RGI2000-v7.0-G-{reg:02d}-'\n",
    "count = 0\n",
    "\n",
    "rp = odf_new.representative_point()\n",
    "rp = rp.to_frame('geometry')\n",
    "rp['orig_index'] = odf_new.index\n",
    "\n",
    "total = 0\n",
    "\n",
    "for i, s in sreg.iterrows():\n",
    "    \n",
    "    intersect = gpd.overlay(rp, sreg.loc[[i]], how='intersection')\n",
    "    odf_sreg = odf_new.loc[intersect['orig_index']].copy()\n",
    "    odf_sreg['o2region'] = s['o2region']\n",
    "    \n",
    "    total += len(odf_sreg)\n",
    "    \n",
    "    if len(odf_sreg) == 0:\n",
    "        # 19-05 Ross Ice Shelf one of them\n",
    "        continue\n",
    "    \n",
    "    # Ids generation\n",
    "    # Left most point and we start from there\n",
    "    slon, slat = odf_sreg.loc[odf_sreg.cenlon == odf_sreg.cenlon.min()][['cenlon', 'cenlat']].iloc[0].values\n",
    "    \n",
    "    todo = odf_sreg.index.values\n",
    "    todo_lon = odf_sreg['cenlon'].values\n",
    "    todo_lat = odf_sreg['cenlat'].values\n",
    "    ids = []\n",
    "    while len(todo) > 0:\n",
    "        dis = haversine(slon, slat, todo_lon, todo_lat)\n",
    "        idm = np.argmin(dis)\n",
    "        ids.append(todo[idm])\n",
    "        slon, slat = todo_lon[idm], todo_lat[idm]\n",
    "        todo = np.delete(todo, idm)\n",
    "        todo_lon = np.delete(todo_lon, idm)\n",
    "        todo_lat = np.delete(todo_lat, idm)\n",
    "    \n",
    "    assert len(ids) == len(odf_sreg)\n",
    "    odf_sreg = odf_sreg.loc[ids].copy()\n",
    "    \n",
    "    odf_sreg['rgi_id'] = [baseid + f'{l+count:05d}' for l in range(len(odf_sreg))]\n",
    "    count += len(odf_sreg)\n",
    "    odf_new.loc[odf_sreg.index, 'rgi_id'] = odf_sreg['rgi_id']\n",
    "    odf_new.loc[odf_sreg.index, 'o2region'] = odf_sreg['o2region']\n",
    "    \n",
    "odf_new = odf_new.sort_values(by='rgi_id').reset_index(drop=True)\n",
    "\n",
    "assert odf_new['o2region'].isnull().sum() == 0\n",
    "assert int(odf_new.iloc[-1]['rgi_id'].split('-')[-1]) == odf_new.iloc[-1].name\n",
    "if len(odf_new['o2region'].unique()) != len(sreg):\n",
    "    log.warning(f'RGI{reg:02d}: some subregions have NO glaciers in them')\n",
    "else:\n",
    "    log.info(f'RGI{reg:02d}: all subregions have glaciers in them')\n",
    "assert len(odf_new) == len(odf)"
   ]
  },
  {
   "cell_type": "code",
   "execution_count": 20,
   "id": "567e0186-4fa8-448b-83e3-f900ea245a4e",
   "metadata": {
    "execution": {
     "iopub.execute_input": "2023-02-12T08:23:27.991466Z",
     "iopub.status.busy": "2023-02-12T08:23:27.991149Z",
     "iopub.status.idle": "2023-02-12T08:23:27.998420Z",
     "shell.execute_reply": "2023-02-12T08:23:27.997579Z"
    },
    "papermill": {
     "duration": 0.02067,
     "end_time": "2023-02-12T08:23:28.000523",
     "exception": false,
     "start_time": "2023-02-12T08:23:27.979853",
     "status": "completed"
    },
    "tags": []
   },
   "outputs": [],
   "source": [
    "odf_new.iloc[:1].T;"
   ]
  },
  {
   "cell_type": "markdown",
   "id": "ad528b70-acfd-47db-99f3-3e123373516a",
   "metadata": {
    "papermill": {
     "duration": 0.006866,
     "end_time": "2023-02-12T08:23:28.015728",
     "exception": false,
     "start_time": "2023-02-12T08:23:28.008862",
     "status": "completed"
    },
    "tags": []
   },
   "source": [
    "## Submission metadata"
   ]
  },
  {
   "cell_type": "code",
   "execution_count": 21,
   "id": "470e8c16-42eb-443f-a176-c767ee7c3722",
   "metadata": {
    "execution": {
     "iopub.execute_input": "2023-02-12T08:23:28.029028Z",
     "iopub.status.busy": "2023-02-12T08:23:28.028837Z",
     "iopub.status.idle": "2023-02-12T08:23:28.032886Z",
     "shell.execute_reply": "2023-02-12T08:23:28.032060Z"
    },
    "papermill": {
     "duration": 0.010966,
     "end_time": "2023-02-12T08:23:28.034083",
     "exception": false,
     "start_time": "2023-02-12T08:23:28.023117",
     "status": "completed"
    },
    "tags": []
   },
   "outputs": [],
   "source": [
    "with open('../rgi7_submission_info_metadata.json', 'r') as infile:\n",
    "    meta_sub = json.load(infile)"
   ]
  },
  {
   "cell_type": "code",
   "execution_count": 22,
   "id": "00c9d8ae-9743-4540-a5f4-50e44c0da289",
   "metadata": {
    "execution": {
     "iopub.execute_input": "2023-02-12T08:23:28.046698Z",
     "iopub.status.busy": "2023-02-12T08:23:28.046073Z",
     "iopub.status.idle": "2023-02-12T08:23:28.156102Z",
     "shell.execute_reply": "2023-02-12T08:23:28.155228Z"
    },
    "papermill": {
     "duration": 0.118356,
     "end_time": "2023-02-12T08:23:28.158138",
     "exception": false,
     "start_time": "2023-02-12T08:23:28.039782",
     "status": "completed"
    },
    "tags": []
   },
   "outputs": [],
   "source": [
    "subm_id = orig_attrs['subm_id'].unique()\n",
    "odf_subm = pd.DataFrame()\n",
    "for sid in subm_id:\n",
    "    sel = orig_attrs.loc[orig_attrs['subm_id'] == sid]\n",
    "    for k in meta_sub.keys():\n",
    "        if k == 'subm_id':\n",
    "            continue\n",
    "        attrs = meta_sub[k]\n",
    "        if k not in sel:\n",
    "            if attrs['datatype'] == 'str':\n",
    "                odf_subm.loc[int(sid), k] = ''\n",
    "            elif attrs['datatype'] == 'float':\n",
    "                odf_subm.loc[int(sid), k] = np.NaN\n",
    "            elif attrs['datatype'] == 'int':\n",
    "                odf_subm.loc[int(sid), k] = -999\n",
    "        else: \n",
    "            assert len(sel[k].unique()==1), f'{k} has non unique values'\n",
    "            if attrs['datatype']:\n",
    "                data = sel[k].astype(attrs['datatype']).iloc[0]\n",
    "            else: \n",
    "                data = sel[k].iloc[0]\n",
    "                \n",
    "            if attrs['datatype'] == 'str':\n",
    "                # Clean\n",
    "                data = data.strip().lstrip(';').strip()\n",
    "                \n",
    "            odf_subm.loc[int(sid), k] = data\n",
    "            \n",
    "    odf_subm.loc[int(sid), 'n_outlines'] = len(sel)\n",
    "    odf_subm.loc[int(sid), 'area_km2'] = sel['area'].sum() * 1e-6\n",
    "        \n",
    "odf_subm.index.name = 'subm_id' \n",
    "odf_subm['n_outlines'] = odf_subm['n_outlines'].astype(int)\n",
    "odf_subm['rc_id'] = odf_subm['rc_id'].astype(int)\n",
    "odf_subm = odf_subm.sort_index()\n",
    "odf_subm;"
   ]
  },
  {
   "cell_type": "markdown",
   "id": "1e9da820-bb63-44ba-9c9e-4b9bb43dc83d",
   "metadata": {
    "papermill": {
     "duration": 0.007136,
     "end_time": "2023-02-12T08:23:28.177720",
     "exception": false,
     "start_time": "2023-02-12T08:23:28.170584",
     "status": "completed"
    },
    "tags": []
   },
   "source": [
    "## Write out and tar "
   ]
  },
  {
   "cell_type": "code",
   "execution_count": 23,
   "id": "a9f2ad69-a5e6-49ad-b2c3-7e928bbd2a29",
   "metadata": {
    "execution": {
     "iopub.execute_input": "2023-02-12T08:23:28.193194Z",
     "iopub.status.busy": "2023-02-12T08:23:28.192884Z",
     "iopub.status.idle": "2023-02-12T08:23:28.231369Z",
     "shell.execute_reply": "2023-02-12T08:23:28.230540Z"
    },
    "papermill": {
     "duration": 0.048252,
     "end_time": "2023-02-12T08:23:28.233376",
     "exception": false,
     "start_time": "2023-02-12T08:23:28.185124",
     "status": "completed"
    },
    "tags": []
   },
   "outputs": [],
   "source": [
    "reg_file = os.path.join(data_dir, '00_rgi70_regions', '00_rgi70_O1Regions')\n",
    "reg_file = gpd.read_file(reg_file)\n",
    "reg_file = reg_file.loc[reg_file.o1region == f'{reg:02d}'].iloc[0]"
   ]
  },
  {
   "cell_type": "code",
   "execution_count": 24,
   "id": "6280b37d-6683-4670-b499-181fa14b57e9",
   "metadata": {
    "execution": {
     "iopub.execute_input": "2023-02-12T08:23:28.251347Z",
     "iopub.status.busy": "2023-02-12T08:23:28.251195Z",
     "iopub.status.idle": "2023-02-12T08:24:45.407471Z",
     "shell.execute_reply": "2023-02-12T08:24:45.406366Z"
    },
    "papermill": {
     "duration": 77.166075,
     "end_time": "2023-02-12T08:24:45.409840",
     "exception": false,
     "start_time": "2023-02-12T08:23:28.243765",
     "status": "completed"
    },
    "tags": []
   },
   "outputs": [
    {
     "name": "stdout",
     "output_type": "stream",
     "text": [
      "Writing...\n"
     ]
    },
    {
     "name": "stdout",
     "output_type": "stream",
     "text": [
      "Taring...\n",
      "RGI2000-v7.0-G-13_asia_central/\n",
      "RGI2000-v7.0-G-13_asia_central/RGI2000-v7.0-G-13_asia_central.cpg\n",
      "RGI2000-v7.0-G-13_asia_central/RGI2000-v7.0-G-13_asia_central.prj\n",
      "RGI2000-v7.0-G-13_asia_central/RGI2000-v7.0-G-13_asia_central.shx\n",
      "RGI2000-v7.0-G-13_asia_central/RGI2000-v7.0-G-13_asia_central.shp\n"
     ]
    },
    {
     "name": "stdout",
     "output_type": "stream",
     "text": [
      "RGI2000-v7.0-G-13_asia_central/RGI2000-v7.0-G-13_asia_central.dbf\n"
     ]
    },
    {
     "name": "stdout",
     "output_type": "stream",
     "text": [
      "RGI2000-v7.0-G-13_asia_central/RGI2000-v7.0-G-13_asia_central_subm_info.csv\n",
      "RGI2000-v7.0-G-13_asia_central/RGI2000-v7.0-G-13_asia_central_attributes.csv\n"
     ]
    },
    {
     "name": "stdout",
     "output_type": "stream",
     "text": [
      "RGI2000-v7.0-G-13_asia_central/README.md\n",
      "CompletedProcess(args=['tar', '-zcvf', '../../../../rgi7_data/l4_rgi7b0_tar/RGI2000-v7.0-G-13_asia_central.tar.gz', '-C', '../../../../rgi7_data/l4_rgi7b0', 'RGI2000-v7.0-G-13_asia_central'], returncode=0)\n"
     ]
    }
   ],
   "source": [
    "dd = mkdir(f'{output_dir}/RGI2000-v7.0-G-{reg_file.long_code}/', reset=True)\n",
    "\n",
    "print('Writing...')\n",
    "odf_new.to_file(dd + f'RGI2000-v7.0-G-{reg_file.long_code}.shp')\n",
    "odf_subm.to_csv(dd + f'RGI2000-v7.0-G-{reg_file.long_code}_subm_info.csv', quoting=csv.QUOTE_NONNUMERIC)\n",
    "odf_new.drop('geometry', axis=1).set_index('rgi_id').to_csv(dd + f'RGI2000-v7.0-G-{reg_file.long_code}_attributes.csv', quoting=csv.QUOTE_NONNUMERIC)\n",
    "shutil.copyfile('../README_tpl.md', dd + f'README.md')\n",
    "\n",
    "print('Taring...')\n",
    "print(subprocess.run(['tar', '-zcvf', f'{output_dir_tar}/RGI2000-v7.0-G-{reg_file.long_code}.tar.gz', '-C', output_dir, f'RGI2000-v7.0-G-{reg_file.long_code}']))"
   ]
  },
  {
   "cell_type": "code",
   "execution_count": 25,
   "id": "7667dbd4-fc48-445c-bee8-6156c82bfa3e",
   "metadata": {
    "execution": {
     "iopub.execute_input": "2023-02-12T08:24:45.431563Z",
     "iopub.status.busy": "2023-02-12T08:24:45.431239Z",
     "iopub.status.idle": "2023-02-12T08:24:45.435639Z",
     "shell.execute_reply": "2023-02-12T08:24:45.434769Z"
    },
    "papermill": {
     "duration": 0.014255,
     "end_time": "2023-02-12T08:24:45.437153",
     "exception": false,
     "start_time": "2023-02-12T08:24:45.422898",
     "status": "completed"
    },
    "tags": []
   },
   "outputs": [],
   "source": [
    "odf_new;"
   ]
  },
  {
   "cell_type": "code",
   "execution_count": 26,
   "id": "1b64b5cc-046a-4d96-a3ce-d047d9e20a8b",
   "metadata": {
    "execution": {
     "iopub.execute_input": "2023-02-12T08:24:45.453180Z",
     "iopub.status.busy": "2023-02-12T08:24:45.452864Z",
     "iopub.status.idle": "2023-02-12T08:24:45.457816Z",
     "shell.execute_reply": "2023-02-12T08:24:45.456962Z"
    },
    "papermill": {
     "duration": 0.014193,
     "end_time": "2023-02-12T08:24:45.459175",
     "exception": false,
     "start_time": "2023-02-12T08:24:45.444982",
     "status": "completed"
    },
    "tags": []
   },
   "outputs": [],
   "source": [
    "import glob, os\n",
    "for f in glob.glob( f\"{output_dir_tar}/*.properties\"):\n",
    "    os.remove(f)"
   ]
  },
  {
   "cell_type": "markdown",
   "id": "7bd3a216-a8bf-4eb7-a485-7c38fc18066c",
   "metadata": {
    "papermill": {
     "duration": 0.007003,
     "end_time": "2023-02-12T08:24:45.474021",
     "exception": false,
     "start_time": "2023-02-12T08:24:45.467018",
     "status": "completed"
    },
    "tags": []
   },
   "source": [
    "## Merged product "
   ]
  },
  {
   "cell_type": "code",
   "execution_count": 27,
   "id": "63ba1a72-5dd3-445c-8e0e-5566a2e09085",
   "metadata": {
    "execution": {
     "iopub.execute_input": "2023-02-12T08:24:45.489859Z",
     "iopub.status.busy": "2023-02-12T08:24:45.489540Z",
     "iopub.status.idle": "2023-02-12T08:24:45.493644Z",
     "shell.execute_reply": "2023-02-12T08:24:45.492680Z"
    },
    "papermill": {
     "duration": 0.013283,
     "end_time": "2023-02-12T08:24:45.494858",
     "exception": false,
     "start_time": "2023-02-12T08:24:45.481575",
     "status": "completed"
    },
    "tags": []
   },
   "outputs": [],
   "source": [
    "# TODO"
   ]
  },
  {
   "cell_type": "code",
   "execution_count": null,
   "id": "61851dc4-fab3-4119-902d-c325ee09c182",
   "metadata": {
    "papermill": {
     "duration": 0.005144,
     "end_time": "2023-02-12T08:24:45.505932",
     "exception": false,
     "start_time": "2023-02-12T08:24:45.500788",
     "status": "completed"
    },
    "tags": []
   },
   "outputs": [],
   "source": []
  }
 ],
 "metadata": {
  "kernelspec": {
   "display_name": "Python 3 (ipykernel)",
   "language": "python",
   "name": "python3"
  },
  "language_info": {
   "codemirror_mode": {
    "name": "ipython",
    "version": 3
   },
   "file_extension": ".py",
   "mimetype": "text/x-python",
   "name": "python",
   "nbconvert_exporter": "python",
   "pygments_lexer": "ipython3",
   "version": "3.10.8"
  },
  "papermill": {
   "default_parameters": {},
   "duration": 123.670387,
   "end_time": "2023-02-12T08:24:46.333133",
   "environment_variables": {},
   "exception": null,
   "input_path": "alpha_to_beta_tpl.ipynb",
   "output_path": "alpha_to_beta_RGI13.ipynb",
   "parameters": {
    "reg": 13
   },
   "start_time": "2023-02-12T08:22:42.662746",
   "version": "2.3.4"
  }
 },
 "nbformat": 4,
 "nbformat_minor": 5
}