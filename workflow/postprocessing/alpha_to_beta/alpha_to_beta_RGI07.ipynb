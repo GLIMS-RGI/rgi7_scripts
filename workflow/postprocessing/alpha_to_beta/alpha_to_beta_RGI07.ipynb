{
 "cells": [
  {
   "cell_type": "code",
   "execution_count": 1,
   "id": "46adc67a-c914-4b66-a3de-aed2506fb298",
   "metadata": {
    "execution": {
     "iopub.execute_input": "2023-02-12T08:21:40.436168Z",
     "iopub.status.busy": "2023-02-12T08:21:40.435773Z",
     "iopub.status.idle": "2023-02-12T08:21:40.848396Z",
     "shell.execute_reply": "2023-02-12T08:21:40.847368Z"
    },
    "papermill": {
     "duration": 0.461092,
     "end_time": "2023-02-12T08:21:40.850833",
     "exception": false,
     "start_time": "2023-02-12T08:21:40.389741",
     "status": "completed"
    },
    "tags": []
   },
   "outputs": [],
   "source": [
    "import pandas as pd\n",
    "import geopandas as gpd\n",
    "import subprocess\n",
    "import numpy as np\n",
    "import shapely.geometry as shpg\n",
    "import os\n",
    "import sys\n",
    "import csv\n",
    "import json\n",
    "import logging\n",
    "import shutil"
   ]
  },
  {
   "cell_type": "code",
   "execution_count": 2,
   "id": "bad5729c-29eb-4fb6-80cf-b7d279f0343a",
   "metadata": {
    "execution": {
     "iopub.execute_input": "2023-02-12T08:21:40.871698Z",
     "iopub.status.busy": "2023-02-12T08:21:40.871191Z",
     "iopub.status.idle": "2023-02-12T08:21:40.874741Z",
     "shell.execute_reply": "2023-02-12T08:21:40.874068Z"
    },
    "papermill": {
     "duration": 0.014208,
     "end_time": "2023-02-12T08:21:40.875917",
     "exception": false,
     "start_time": "2023-02-12T08:21:40.861709",
     "status": "completed"
    },
    "tags": []
   },
   "outputs": [],
   "source": [
    "import warnings\n",
    "warnings.filterwarnings('ignore', category=FutureWarning)"
   ]
  },
  {
   "cell_type": "code",
   "execution_count": 3,
   "id": "c62aa692-c347-4e74-bc0f-c0cdc9da4669",
   "metadata": {
    "execution": {
     "iopub.execute_input": "2023-02-12T08:21:40.885872Z",
     "iopub.status.busy": "2023-02-12T08:21:40.885635Z",
     "iopub.status.idle": "2023-02-12T08:21:42.616783Z",
     "shell.execute_reply": "2023-02-12T08:21:42.615871Z"
    },
    "papermill": {
     "duration": 1.738666,
     "end_time": "2023-02-12T08:21:42.619251",
     "exception": false,
     "start_time": "2023-02-12T08:21:40.880585",
     "status": "completed"
    },
    "tags": []
   },
   "outputs": [],
   "source": [
    "sys.path.append(os.getcwd() + '/../..')\n",
    "from utils import mkdir, open_zip_shapefile, open_tar_shapefile, haversine"
   ]
  },
  {
   "cell_type": "code",
   "execution_count": 4,
   "id": "7c601bdf-1db0-429e-bb22-479f14ffe496",
   "metadata": {
    "execution": {
     "iopub.execute_input": "2023-02-12T08:21:42.641686Z",
     "iopub.status.busy": "2023-02-12T08:21:42.640908Z",
     "iopub.status.idle": "2023-02-12T08:21:42.646053Z",
     "shell.execute_reply": "2023-02-12T08:21:42.645109Z"
    },
    "papermill": {
     "duration": 0.016059,
     "end_time": "2023-02-12T08:21:42.647327",
     "exception": false,
     "start_time": "2023-02-12T08:21:42.631268",
     "status": "completed"
    },
    "tags": []
   },
   "outputs": [],
   "source": [
    "log = logging.getLogger('papermill')\n",
    "logging.basicConfig(level='INFO', format=\"%(message)s\")"
   ]
  },
  {
   "cell_type": "markdown",
   "id": "8487f7be-608e-44f1-88ec-671465325a11",
   "metadata": {
    "papermill": {
     "duration": 0.0043,
     "end_time": "2023-02-12T08:21:42.656275",
     "exception": false,
     "start_time": "2023-02-12T08:21:42.651975",
     "status": "completed"
    },
    "tags": []
   },
   "source": [
    "## Files and storage paths"
   ]
  },
  {
   "cell_type": "code",
   "execution_count": 5,
   "id": "1c753f79-c5b6-49f0-b6ba-bfe40fd7eac3",
   "metadata": {
    "execution": {
     "iopub.execute_input": "2023-02-12T08:21:42.667888Z",
     "iopub.status.busy": "2023-02-12T08:21:42.667514Z",
     "iopub.status.idle": "2023-02-12T08:21:42.673359Z",
     "shell.execute_reply": "2023-02-12T08:21:42.672409Z"
    },
    "papermill": {
     "duration": 0.013914,
     "end_time": "2023-02-12T08:21:42.674847",
     "exception": false,
     "start_time": "2023-02-12T08:21:42.660933",
     "status": "completed"
    },
    "tags": [
     "parameters"
    ]
   },
   "outputs": [],
   "source": [
    "# Region of interest\n",
    "reg = 1\n",
    "\n",
    "# go down from rgi7_scripts/workflow\n",
    "data_dir = '../../../../rgi7_data/'\n",
    "\n",
    "# Input dirctory\n",
    "input_dir = os.path.join(data_dir, 'l3_rgi7a_tar')\n",
    "\n",
    "# Output directories\n",
    "output_dir = mkdir(os.path.join(data_dir, 'l4_rgi7b0'))\n",
    "output_dir_tar = mkdir(os.path.join(data_dir, 'l4_rgi7b0_tar'))"
   ]
  },
  {
   "cell_type": "code",
   "execution_count": 6,
   "id": "eae0a219",
   "metadata": {
    "execution": {
     "iopub.execute_input": "2023-02-12T08:21:42.687825Z",
     "iopub.status.busy": "2023-02-12T08:21:42.687529Z",
     "iopub.status.idle": "2023-02-12T08:21:42.691574Z",
     "shell.execute_reply": "2023-02-12T08:21:42.690725Z"
    },
    "papermill": {
     "duration": 0.012246,
     "end_time": "2023-02-12T08:21:42.693080",
     "exception": false,
     "start_time": "2023-02-12T08:21:42.680834",
     "status": "completed"
    },
    "tags": [
     "injected-parameters"
    ]
   },
   "outputs": [],
   "source": [
    "# Parameters\n",
    "reg = 7\n"
   ]
  },
  {
   "cell_type": "markdown",
   "id": "f2d31af4-b2b2-4dc9-b286-be594f2feb7e",
   "metadata": {
    "papermill": {
     "duration": 0.005737,
     "end_time": "2023-02-12T08:21:42.704717",
     "exception": false,
     "start_time": "2023-02-12T08:21:42.698980",
     "status": "completed"
    },
    "tags": []
   },
   "source": [
    "### Load the input data"
   ]
  },
  {
   "cell_type": "code",
   "execution_count": 7,
   "id": "caab54b7-92c0-45fa-a943-25225b119001",
   "metadata": {
    "execution": {
     "iopub.execute_input": "2023-02-12T08:21:42.718036Z",
     "iopub.status.busy": "2023-02-12T08:21:42.717563Z",
     "iopub.status.idle": "2023-02-12T08:21:43.409359Z",
     "shell.execute_reply": "2023-02-12T08:21:43.408452Z"
    },
    "papermill": {
     "duration": 0.700814,
     "end_time": "2023-02-12T08:21:43.411707",
     "exception": false,
     "start_time": "2023-02-12T08:21:42.710893",
     "status": "completed"
    },
    "tags": []
   },
   "outputs": [],
   "source": [
    "# Read files\n",
    "shp = open_tar_shapefile(input_dir + f'/RGI{reg:02d}.tar.gz')"
   ]
  },
  {
   "cell_type": "code",
   "execution_count": 8,
   "id": "77cf5415-997a-4aab-be08-726242a61228",
   "metadata": {
    "execution": {
     "iopub.execute_input": "2023-02-12T08:21:43.434104Z",
     "iopub.status.busy": "2023-02-12T08:21:43.433323Z",
     "iopub.status.idle": "2023-02-12T08:21:43.449575Z",
     "shell.execute_reply": "2023-02-12T08:21:43.448666Z"
    },
    "papermill": {
     "duration": 0.027931,
     "end_time": "2023-02-12T08:21:43.451738",
     "exception": false,
     "start_time": "2023-02-12T08:21:43.423807",
     "status": "completed"
    },
    "tags": []
   },
   "outputs": [],
   "source": [
    "orig_attrs = pd.DataFrame(shp.drop('geometry', axis=1))\n",
    "orig_attrs.T;"
   ]
  },
  {
   "cell_type": "code",
   "execution_count": 9,
   "id": "e1b92b0a-3767-455a-8884-4666b0cf504a",
   "metadata": {
    "execution": {
     "iopub.execute_input": "2023-02-12T08:21:43.471165Z",
     "iopub.status.busy": "2023-02-12T08:21:43.470895Z",
     "iopub.status.idle": "2023-02-12T08:21:43.475736Z",
     "shell.execute_reply": "2023-02-12T08:21:43.475012Z"
    },
    "papermill": {
     "duration": 0.015494,
     "end_time": "2023-02-12T08:21:43.476866",
     "exception": false,
     "start_time": "2023-02-12T08:21:43.461372",
     "status": "completed"
    },
    "tags": []
   },
   "outputs": [
    {
     "name": "stdout",
     "output_type": "stream",
     "text": [
      "Add conn_lvl\n"
     ]
    }
   ],
   "source": [
    "if 'conn_lvl' not in shp:\n",
    "    print('Add conn_lvl')\n",
    "    shp['conn_lvl'] = 0"
   ]
  },
  {
   "cell_type": "code",
   "execution_count": 10,
   "id": "e09e91a0-6561-4cd7-907a-60aeb23e545f",
   "metadata": {
    "execution": {
     "iopub.execute_input": "2023-02-12T08:21:43.487830Z",
     "iopub.status.busy": "2023-02-12T08:21:43.487464Z",
     "iopub.status.idle": "2023-02-12T08:21:43.494101Z",
     "shell.execute_reply": "2023-02-12T08:21:43.493145Z"
    },
    "papermill": {
     "duration": 0.013772,
     "end_time": "2023-02-12T08:21:43.495594",
     "exception": false,
     "start_time": "2023-02-12T08:21:43.481822",
     "status": "completed"
    },
    "tags": []
   },
   "outputs": [],
   "source": [
    "odf = shp.copy()"
   ]
  },
  {
   "cell_type": "code",
   "execution_count": 11,
   "id": "17837ca6-2d55-4ae7-af15-4b572f2eefbf",
   "metadata": {
    "execution": {
     "iopub.execute_input": "2023-02-12T08:21:43.508653Z",
     "iopub.status.busy": "2023-02-12T08:21:43.508391Z",
     "iopub.status.idle": "2023-02-12T08:21:43.514057Z",
     "shell.execute_reply": "2023-02-12T08:21:43.513238Z"
    },
    "papermill": {
     "duration": 0.013558,
     "end_time": "2023-02-12T08:21:43.515473",
     "exception": false,
     "start_time": "2023-02-12T08:21:43.501915",
     "status": "completed"
    },
    "tags": []
   },
   "outputs": [],
   "source": [
    "rename = {'area':'area_km2', 'CenLon': 'cenlon', 'CenLat': 'cenlat', 'glac_id':'glims_id'}\n",
    "odf = odf.rename(rename, axis=1)"
   ]
  },
  {
   "cell_type": "markdown",
   "id": "c2895b31-0bb5-4192-a158-c6ff07abd1ba",
   "metadata": {
    "papermill": {
     "duration": 0.005781,
     "end_time": "2023-02-12T08:21:43.527840",
     "exception": false,
     "start_time": "2023-02-12T08:21:43.522059",
     "status": "completed"
    },
    "tags": []
   },
   "source": [
    "Recompute area and center point to be sure:"
   ]
  },
  {
   "cell_type": "code",
   "execution_count": 12,
   "id": "b54183cb-e0e5-4e82-942d-dbde26f1e7a3",
   "metadata": {
    "execution": {
     "iopub.execute_input": "2023-02-12T08:21:43.543254Z",
     "iopub.status.busy": "2023-02-12T08:21:43.542886Z",
     "iopub.status.idle": "2023-02-12T08:21:43.709281Z",
     "shell.execute_reply": "2023-02-12T08:21:43.708363Z"
    },
    "papermill": {
     "duration": 0.176149,
     "end_time": "2023-02-12T08:21:43.711478",
     "exception": false,
     "start_time": "2023-02-12T08:21:43.535329",
     "status": "completed"
    },
    "tags": []
   },
   "outputs": [],
   "source": [
    "def xy_coord(geom):\n",
    "    x, y = geom.xy\n",
    "    return x[0], y[0]\n",
    "\n",
    "rp = odf.representative_point()\n",
    "\n",
    "coordinates = np.array(list(rp.apply(xy_coord)))\n",
    "odf['cenlon'] = coordinates[:, 0]\n",
    "odf['cenlat'] = coordinates[:, 1]\n",
    "\n",
    "odf['area_km2'] = odf.to_crs({'proj':'cea'}).area * 1e-6"
   ]
  },
  {
   "cell_type": "code",
   "execution_count": 13,
   "id": "14dff652-d75c-4702-90d0-8e2462577487",
   "metadata": {
    "execution": {
     "iopub.execute_input": "2023-02-12T08:21:43.732089Z",
     "iopub.status.busy": "2023-02-12T08:21:43.731939Z",
     "iopub.status.idle": "2023-02-12T08:21:43.738744Z",
     "shell.execute_reply": "2023-02-12T08:21:43.737886Z"
    },
    "papermill": {
     "duration": 0.01823,
     "end_time": "2023-02-12T08:21:43.739995",
     "exception": false,
     "start_time": "2023-02-12T08:21:43.721765",
     "status": "completed"
    },
    "tags": []
   },
   "outputs": [],
   "source": [
    "odf['glac_name'] = odf['glac_name'].where(odf['glac_name'] != 'None', '')"
   ]
  },
  {
   "cell_type": "markdown",
   "id": "8d88df3a-a0da-41aa-80a2-6ee799789b25",
   "metadata": {
    "papermill": {
     "duration": 0.004739,
     "end_time": "2023-02-12T08:21:43.750706",
     "exception": false,
     "start_time": "2023-02-12T08:21:43.745967",
     "status": "completed"
    },
    "tags": []
   },
   "source": [
    "## Metadata "
   ]
  },
  {
   "cell_type": "code",
   "execution_count": 14,
   "id": "3da9f86f-42fa-4ae4-b5f5-bbc2708d7f80",
   "metadata": {
    "execution": {
     "iopub.execute_input": "2023-02-12T08:21:43.764584Z",
     "iopub.status.busy": "2023-02-12T08:21:43.764212Z",
     "iopub.status.idle": "2023-02-12T08:21:43.768927Z",
     "shell.execute_reply": "2023-02-12T08:21:43.768083Z"
    },
    "papermill": {
     "duration": 0.013216,
     "end_time": "2023-02-12T08:21:43.770424",
     "exception": false,
     "start_time": "2023-02-12T08:21:43.757208",
     "status": "completed"
    },
    "tags": []
   },
   "outputs": [],
   "source": [
    "with open('../rgi7_attributes_metadata.json', 'r') as infile:\n",
    "    meta = json.load(infile)"
   ]
  },
  {
   "cell_type": "code",
   "execution_count": 15,
   "id": "6efe0d1f-3125-4062-b9c4-2d9717db2e98",
   "metadata": {
    "execution": {
     "iopub.execute_input": "2023-02-12T08:21:43.784428Z",
     "iopub.status.busy": "2023-02-12T08:21:43.783950Z",
     "iopub.status.idle": "2023-02-12T08:21:43.804735Z",
     "shell.execute_reply": "2023-02-12T08:21:43.804097Z"
    },
    "papermill": {
     "duration": 0.029715,
     "end_time": "2023-02-12T08:21:43.806544",
     "exception": false,
     "start_time": "2023-02-12T08:21:43.776829",
     "status": "completed"
    },
    "tags": []
   },
   "outputs": [],
   "source": [
    "odf_new = odf[[]].copy().reset_index(drop=True)\n",
    "\n",
    "for col, attrs in meta.items():\n",
    "    if col not in odf:\n",
    "        if attrs['datatype'] == 'str':\n",
    "            odf_new[col] = ''\n",
    "        elif attrs['datatype'] == 'float':\n",
    "            odf_new[col] = np.NaN\n",
    "        elif attrs['datatype'] == 'int':\n",
    "            odf_new[col] = -999 \n",
    "    else: \n",
    "        if attrs['datatype']:\n",
    "            odf_new[col] = odf[col].astype(attrs['datatype'])\n",
    "        else: \n",
    "            odf_new[col] = odf[col]"
   ]
  },
  {
   "cell_type": "code",
   "execution_count": 16,
   "id": "19f7932c-0795-487e-89d3-f72c20eeb1c4",
   "metadata": {
    "execution": {
     "iopub.execute_input": "2023-02-12T08:21:43.826646Z",
     "iopub.status.busy": "2023-02-12T08:21:43.825860Z",
     "iopub.status.idle": "2023-02-12T08:21:43.837107Z",
     "shell.execute_reply": "2023-02-12T08:21:43.836244Z"
    },
    "papermill": {
     "duration": 0.021703,
     "end_time": "2023-02-12T08:21:43.838567",
     "exception": false,
     "start_time": "2023-02-12T08:21:43.816864",
     "status": "completed"
    },
    "tags": []
   },
   "outputs": [],
   "source": [
    "odf_new = gpd.GeoDataFrame(odf_new)\n",
    "odf_new.crs = odf.crs\n",
    "odf_new = odf_new.reset_index(drop=True)\n",
    "odf_new.iloc[:1].T;"
   ]
  },
  {
   "cell_type": "markdown",
   "id": "450e8521-6572-474c-afe5-0989eb843536",
   "metadata": {
    "papermill": {
     "duration": 0.006446,
     "end_time": "2023-02-12T08:21:43.852697",
     "exception": false,
     "start_time": "2023-02-12T08:21:43.846251",
     "status": "completed"
    },
    "tags": []
   },
   "source": [
    "## Regions, subregions and RGI IDs"
   ]
  },
  {
   "cell_type": "code",
   "execution_count": 17,
   "id": "544c32b7-a630-4f2b-a82d-5a2372ad527d",
   "metadata": {
    "execution": {
     "iopub.execute_input": "2023-02-12T08:21:43.867190Z",
     "iopub.status.busy": "2023-02-12T08:21:43.866454Z",
     "iopub.status.idle": "2023-02-12T08:21:43.871190Z",
     "shell.execute_reply": "2023-02-12T08:21:43.870338Z"
    },
    "papermill": {
     "duration": 0.013025,
     "end_time": "2023-02-12T08:21:43.872436",
     "exception": false,
     "start_time": "2023-02-12T08:21:43.859411",
     "status": "completed"
    },
    "tags": []
   },
   "outputs": [],
   "source": [
    "odf_new['o1region'] = f'{reg:02d}'"
   ]
  },
  {
   "cell_type": "code",
   "execution_count": 18,
   "id": "21cc6a76-449e-41be-9f83-76f94e0aaede",
   "metadata": {
    "execution": {
     "iopub.execute_input": "2023-02-12T08:21:43.883696Z",
     "iopub.status.busy": "2023-02-12T08:21:43.883329Z",
     "iopub.status.idle": "2023-02-12T08:21:43.943020Z",
     "shell.execute_reply": "2023-02-12T08:21:43.942158Z"
    },
    "papermill": {
     "duration": 0.067316,
     "end_time": "2023-02-12T08:21:43.945000",
     "exception": false,
     "start_time": "2023-02-12T08:21:43.877684",
     "status": "completed"
    },
    "tags": []
   },
   "outputs": [],
   "source": [
    "sreg_file = os.path.join(data_dir, '00_rgi70_regions', '00_rgi70_O2Regions')\n",
    "sreg = gpd.read_file(sreg_file)\n",
    "sreg = sreg.loc[sreg.o1region == f'{reg:02d}']\n",
    "sreg;"
   ]
  },
  {
   "cell_type": "code",
   "execution_count": 19,
   "id": "29782e31-7feb-46f1-8398-16296d7dc5ee",
   "metadata": {
    "execution": {
     "iopub.execute_input": "2023-02-12T08:21:43.967522Z",
     "iopub.status.busy": "2023-02-12T08:21:43.967322Z",
     "iopub.status.idle": "2023-02-12T08:21:44.185246Z",
     "shell.execute_reply": "2023-02-12T08:21:44.184368Z"
    },
    "papermill": {
     "duration": 0.230299,
     "end_time": "2023-02-12T08:21:44.187379",
     "exception": false,
     "start_time": "2023-02-12T08:21:43.957080",
     "status": "completed"
    },
    "tags": []
   },
   "outputs": [
    {
     "name": "stderr",
     "output_type": "stream",
     "text": [
      "RGI07: all subregions have glaciers in them\n"
     ]
    }
   ],
   "source": [
    "baseid = f'RGI2000-v7.0-G-{reg:02d}-'\n",
    "count = 0\n",
    "\n",
    "rp = odf_new.representative_point()\n",
    "rp = rp.to_frame('geometry')\n",
    "rp['orig_index'] = odf_new.index\n",
    "\n",
    "total = 0\n",
    "\n",
    "for i, s in sreg.iterrows():\n",
    "    \n",
    "    intersect = gpd.overlay(rp, sreg.loc[[i]], how='intersection')\n",
    "    odf_sreg = odf_new.loc[intersect['orig_index']].copy()\n",
    "    odf_sreg['o2region'] = s['o2region']\n",
    "    \n",
    "    total += len(odf_sreg)\n",
    "    \n",
    "    if len(odf_sreg) == 0:\n",
    "        # 19-05 Ross Ice Shelf one of them\n",
    "        continue\n",
    "    \n",
    "    # Ids generation\n",
    "    # Left most point and we start from there\n",
    "    slon, slat = odf_sreg.loc[odf_sreg.cenlon == odf_sreg.cenlon.min()][['cenlon', 'cenlat']].iloc[0].values\n",
    "    \n",
    "    todo = odf_sreg.index.values\n",
    "    todo_lon = odf_sreg['cenlon'].values\n",
    "    todo_lat = odf_sreg['cenlat'].values\n",
    "    ids = []\n",
    "    while len(todo) > 0:\n",
    "        dis = haversine(slon, slat, todo_lon, todo_lat)\n",
    "        idm = np.argmin(dis)\n",
    "        ids.append(todo[idm])\n",
    "        slon, slat = todo_lon[idm], todo_lat[idm]\n",
    "        todo = np.delete(todo, idm)\n",
    "        todo_lon = np.delete(todo_lon, idm)\n",
    "        todo_lat = np.delete(todo_lat, idm)\n",
    "    \n",
    "    assert len(ids) == len(odf_sreg)\n",
    "    odf_sreg = odf_sreg.loc[ids].copy()\n",
    "    \n",
    "    odf_sreg['rgi_id'] = [baseid + f'{l+count:05d}' for l in range(len(odf_sreg))]\n",
    "    count += len(odf_sreg)\n",
    "    odf_new.loc[odf_sreg.index, 'rgi_id'] = odf_sreg['rgi_id']\n",
    "    odf_new.loc[odf_sreg.index, 'o2region'] = odf_sreg['o2region']\n",
    "    \n",
    "odf_new = odf_new.sort_values(by='rgi_id').reset_index(drop=True)\n",
    "\n",
    "assert odf_new['o2region'].isnull().sum() == 0\n",
    "assert int(odf_new.iloc[-1]['rgi_id'].split('-')[-1]) == odf_new.iloc[-1].name\n",
    "if len(odf_new['o2region'].unique()) != len(sreg):\n",
    "    log.warning(f'RGI{reg:02d}: some subregions have NO glaciers in them')\n",
    "else:\n",
    "    log.info(f'RGI{reg:02d}: all subregions have glaciers in them')\n",
    "assert len(odf_new) == len(odf)"
   ]
  },
  {
   "cell_type": "code",
   "execution_count": 20,
   "id": "567e0186-4fa8-448b-83e3-f900ea245a4e",
   "metadata": {
    "execution": {
     "iopub.execute_input": "2023-02-12T08:21:44.209201Z",
     "iopub.status.busy": "2023-02-12T08:21:44.208997Z",
     "iopub.status.idle": "2023-02-12T08:21:44.214309Z",
     "shell.execute_reply": "2023-02-12T08:21:44.213431Z"
    },
    "papermill": {
     "duration": 0.017249,
     "end_time": "2023-02-12T08:21:44.215559",
     "exception": false,
     "start_time": "2023-02-12T08:21:44.198310",
     "status": "completed"
    },
    "tags": []
   },
   "outputs": [],
   "source": [
    "odf_new.iloc[:1].T;"
   ]
  },
  {
   "cell_type": "markdown",
   "id": "ad528b70-acfd-47db-99f3-3e123373516a",
   "metadata": {
    "papermill": {
     "duration": 0.004869,
     "end_time": "2023-02-12T08:21:44.225955",
     "exception": false,
     "start_time": "2023-02-12T08:21:44.221086",
     "status": "completed"
    },
    "tags": []
   },
   "source": [
    "## Submission metadata"
   ]
  },
  {
   "cell_type": "code",
   "execution_count": 21,
   "id": "470e8c16-42eb-443f-a176-c767ee7c3722",
   "metadata": {
    "execution": {
     "iopub.execute_input": "2023-02-12T08:21:44.240030Z",
     "iopub.status.busy": "2023-02-12T08:21:44.239655Z",
     "iopub.status.idle": "2023-02-12T08:21:44.244260Z",
     "shell.execute_reply": "2023-02-12T08:21:44.243400Z"
    },
    "papermill": {
     "duration": 0.013411,
     "end_time": "2023-02-12T08:21:44.245609",
     "exception": false,
     "start_time": "2023-02-12T08:21:44.232198",
     "status": "completed"
    },
    "tags": []
   },
   "outputs": [],
   "source": [
    "with open('../rgi7_submission_info_metadata.json', 'r') as infile:\n",
    "    meta_sub = json.load(infile)"
   ]
  },
  {
   "cell_type": "code",
   "execution_count": 22,
   "id": "00c9d8ae-9743-4540-a5f4-50e44c0da289",
   "metadata": {
    "execution": {
     "iopub.execute_input": "2023-02-12T08:21:44.259730Z",
     "iopub.status.busy": "2023-02-12T08:21:44.259438Z",
     "iopub.status.idle": "2023-02-12T08:21:44.287968Z",
     "shell.execute_reply": "2023-02-12T08:21:44.287317Z"
    },
    "papermill": {
     "duration": 0.037106,
     "end_time": "2023-02-12T08:21:44.289501",
     "exception": false,
     "start_time": "2023-02-12T08:21:44.252395",
     "status": "completed"
    },
    "tags": []
   },
   "outputs": [],
   "source": [
    "subm_id = orig_attrs['subm_id'].unique()\n",
    "odf_subm = pd.DataFrame()\n",
    "for sid in subm_id:\n",
    "    sel = orig_attrs.loc[orig_attrs['subm_id'] == sid]\n",
    "    for k in meta_sub.keys():\n",
    "        if k == 'subm_id':\n",
    "            continue\n",
    "        attrs = meta_sub[k]\n",
    "        if k not in sel:\n",
    "            if attrs['datatype'] == 'str':\n",
    "                odf_subm.loc[int(sid), k] = ''\n",
    "            elif attrs['datatype'] == 'float':\n",
    "                odf_subm.loc[int(sid), k] = np.NaN\n",
    "            elif attrs['datatype'] == 'int':\n",
    "                odf_subm.loc[int(sid), k] = -999\n",
    "        else: \n",
    "            assert len(sel[k].unique()==1), f'{k} has non unique values'\n",
    "            if attrs['datatype']:\n",
    "                data = sel[k].astype(attrs['datatype']).iloc[0]\n",
    "            else: \n",
    "                data = sel[k].iloc[0]\n",
    "                \n",
    "            if attrs['datatype'] == 'str':\n",
    "                # Clean\n",
    "                data = data.strip().lstrip(';').strip()\n",
    "                \n",
    "            odf_subm.loc[int(sid), k] = data\n",
    "            \n",
    "    odf_subm.loc[int(sid), 'n_outlines'] = len(sel)\n",
    "    odf_subm.loc[int(sid), 'area_km2'] = sel['area'].sum() * 1e-6\n",
    "        \n",
    "odf_subm.index.name = 'subm_id' \n",
    "odf_subm['n_outlines'] = odf_subm['n_outlines'].astype(int)\n",
    "odf_subm['rc_id'] = odf_subm['rc_id'].astype(int)\n",
    "odf_subm = odf_subm.sort_index()\n",
    "odf_subm;"
   ]
  },
  {
   "cell_type": "markdown",
   "id": "1e9da820-bb63-44ba-9c9e-4b9bb43dc83d",
   "metadata": {
    "papermill": {
     "duration": 0.009934,
     "end_time": "2023-02-12T08:21:44.306751",
     "exception": false,
     "start_time": "2023-02-12T08:21:44.296817",
     "status": "completed"
    },
    "tags": []
   },
   "source": [
    "## Write out and tar "
   ]
  },
  {
   "cell_type": "code",
   "execution_count": 23,
   "id": "a9f2ad69-a5e6-49ad-b2c3-7e928bbd2a29",
   "metadata": {
    "execution": {
     "iopub.execute_input": "2023-02-12T08:21:44.323363Z",
     "iopub.status.busy": "2023-02-12T08:21:44.323063Z",
     "iopub.status.idle": "2023-02-12T08:21:44.364533Z",
     "shell.execute_reply": "2023-02-12T08:21:44.363665Z"
    },
    "papermill": {
     "duration": 0.049513,
     "end_time": "2023-02-12T08:21:44.366541",
     "exception": false,
     "start_time": "2023-02-12T08:21:44.317028",
     "status": "completed"
    },
    "tags": []
   },
   "outputs": [],
   "source": [
    "reg_file = os.path.join(data_dir, '00_rgi70_regions', '00_rgi70_O1Regions')\n",
    "reg_file = gpd.read_file(reg_file)\n",
    "reg_file = reg_file.loc[reg_file.o1region == f'{reg:02d}'].iloc[0]"
   ]
  },
  {
   "cell_type": "code",
   "execution_count": 24,
   "id": "6280b37d-6683-4670-b499-181fa14b57e9",
   "metadata": {
    "execution": {
     "iopub.execute_input": "2023-02-12T08:21:44.387225Z",
     "iopub.status.busy": "2023-02-12T08:21:44.386938Z",
     "iopub.status.idle": "2023-02-12T08:21:47.461853Z",
     "shell.execute_reply": "2023-02-12T08:21:47.460739Z"
    },
    "papermill": {
     "duration": 3.085466,
     "end_time": "2023-02-12T08:21:47.464055",
     "exception": false,
     "start_time": "2023-02-12T08:21:44.378589",
     "status": "completed"
    },
    "tags": []
   },
   "outputs": [
    {
     "name": "stdout",
     "output_type": "stream",
     "text": [
      "Writing...\n"
     ]
    },
    {
     "name": "stdout",
     "output_type": "stream",
     "text": [
      "Taring...\n",
      "RGI2000-v7.0-G-07_svalbard_jan_mayen/\n",
      "RGI2000-v7.0-G-07_svalbard_jan_mayen/RGI2000-v7.0-G-07_svalbard_jan_mayen.shp\n"
     ]
    },
    {
     "name": "stdout",
     "output_type": "stream",
     "text": [
      "RGI2000-v7.0-G-07_svalbard_jan_mayen/RGI2000-v7.0-G-07_svalbard_jan_mayen.dbf\n",
      "RGI2000-v7.0-G-07_svalbard_jan_mayen/RGI2000-v7.0-G-07_svalbard_jan_mayen_subm_info.csv\n",
      "RGI2000-v7.0-G-07_svalbard_jan_mayen/README.md\n",
      "RGI2000-v7.0-G-07_svalbard_jan_mayen/RGI2000-v7.0-G-07_svalbard_jan_mayen.prj\n",
      "RGI2000-v7.0-G-07_svalbard_jan_mayen/RGI2000-v7.0-G-07_svalbard_jan_mayen.cpg\n",
      "RGI2000-v7.0-G-07_svalbard_jan_mayen/RGI2000-v7.0-G-07_svalbard_jan_mayen.shx\n",
      "RGI2000-v7.0-G-07_svalbard_jan_mayen/RGI2000-v7.0-G-07_svalbard_jan_mayen_attributes.csv\n",
      "CompletedProcess(args=['tar', '-zcvf', '../../../../rgi7_data/l4_rgi7b0_tar/RGI2000-v7.0-G-07_svalbard_jan_mayen.tar.gz', '-C', '../../../../rgi7_data/l4_rgi7b0', 'RGI2000-v7.0-G-07_svalbard_jan_mayen'], returncode=0)\n"
     ]
    }
   ],
   "source": [
    "dd = mkdir(f'{output_dir}/RGI2000-v7.0-G-{reg_file.long_code}/', reset=True)\n",
    "\n",
    "print('Writing...')\n",
    "odf_new.to_file(dd + f'RGI2000-v7.0-G-{reg_file.long_code}.shp')\n",
    "odf_subm.to_csv(dd + f'RGI2000-v7.0-G-{reg_file.long_code}_subm_info.csv', quoting=csv.QUOTE_NONNUMERIC)\n",
    "odf_new.drop('geometry', axis=1).set_index('rgi_id').to_csv(dd + f'RGI2000-v7.0-G-{reg_file.long_code}_attributes.csv', quoting=csv.QUOTE_NONNUMERIC)\n",
    "shutil.copyfile('../README_tpl.md', dd + f'README.md')\n",
    "\n",
    "print('Taring...')\n",
    "print(subprocess.run(['tar', '-zcvf', f'{output_dir_tar}/RGI2000-v7.0-G-{reg_file.long_code}.tar.gz', '-C', output_dir, f'RGI2000-v7.0-G-{reg_file.long_code}']))"
   ]
  },
  {
   "cell_type": "code",
   "execution_count": 25,
   "id": "7667dbd4-fc48-445c-bee8-6156c82bfa3e",
   "metadata": {
    "execution": {
     "iopub.execute_input": "2023-02-12T08:21:47.488056Z",
     "iopub.status.busy": "2023-02-12T08:21:47.487734Z",
     "iopub.status.idle": "2023-02-12T08:21:47.492312Z",
     "shell.execute_reply": "2023-02-12T08:21:47.491385Z"
    },
    "papermill": {
     "duration": 0.017554,
     "end_time": "2023-02-12T08:21:47.493947",
     "exception": false,
     "start_time": "2023-02-12T08:21:47.476393",
     "status": "completed"
    },
    "tags": []
   },
   "outputs": [],
   "source": [
    "odf_new;"
   ]
  },
  {
   "cell_type": "code",
   "execution_count": 26,
   "id": "1b64b5cc-046a-4d96-a3ce-d047d9e20a8b",
   "metadata": {
    "execution": {
     "iopub.execute_input": "2023-02-12T08:21:47.506064Z",
     "iopub.status.busy": "2023-02-12T08:21:47.505765Z",
     "iopub.status.idle": "2023-02-12T08:21:47.510673Z",
     "shell.execute_reply": "2023-02-12T08:21:47.509805Z"
    },
    "papermill": {
     "duration": 0.012814,
     "end_time": "2023-02-12T08:21:47.512168",
     "exception": false,
     "start_time": "2023-02-12T08:21:47.499354",
     "status": "completed"
    },
    "tags": []
   },
   "outputs": [],
   "source": [
    "import glob, os\n",
    "for f in glob.glob( f\"{output_dir_tar}/*.properties\"):\n",
    "    os.remove(f)"
   ]
  },
  {
   "cell_type": "markdown",
   "id": "7bd3a216-a8bf-4eb7-a485-7c38fc18066c",
   "metadata": {
    "papermill": {
     "duration": 0.006962,
     "end_time": "2023-02-12T08:21:47.527357",
     "exception": false,
     "start_time": "2023-02-12T08:21:47.520395",
     "status": "completed"
    },
    "tags": []
   },
   "source": [
    "## Merged product "
   ]
  },
  {
   "cell_type": "code",
   "execution_count": 27,
   "id": "63ba1a72-5dd3-445c-8e0e-5566a2e09085",
   "metadata": {
    "execution": {
     "iopub.execute_input": "2023-02-12T08:21:47.543231Z",
     "iopub.status.busy": "2023-02-12T08:21:47.542613Z",
     "iopub.status.idle": "2023-02-12T08:21:47.546690Z",
     "shell.execute_reply": "2023-02-12T08:21:47.545730Z"
    },
    "papermill": {
     "duration": 0.013474,
     "end_time": "2023-02-12T08:21:47.548234",
     "exception": false,
     "start_time": "2023-02-12T08:21:47.534760",
     "status": "completed"
    },
    "tags": []
   },
   "outputs": [],
   "source": [
    "# TODO"
   ]
  },
  {
   "cell_type": "code",
   "execution_count": null,
   "id": "61851dc4-fab3-4119-902d-c325ee09c182",
   "metadata": {
    "papermill": {
     "duration": 0.007056,
     "end_time": "2023-02-12T08:21:47.562545",
     "exception": false,
     "start_time": "2023-02-12T08:21:47.555489",
     "status": "completed"
    },
    "tags": []
   },
   "outputs": [],
   "source": []
  }
 ],
 "metadata": {
  "kernelspec": {
   "display_name": "Python 3 (ipykernel)",
   "language": "python",
   "name": "python3"
  },
  "language_info": {
   "codemirror_mode": {
    "name": "ipython",
    "version": 3
   },
   "file_extension": ".py",
   "mimetype": "text/x-python",
   "name": "python",
   "nbconvert_exporter": "python",
   "pygments_lexer": "ipython3",
   "version": "3.10.8"
  },
  "papermill": {
   "default_parameters": {},
   "duration": 8.728721,
   "end_time": "2023-02-12T08:21:48.090388",
   "environment_variables": {},
   "exception": null,
   "input_path": "alpha_to_beta_tpl.ipynb",
   "output_path": "alpha_to_beta_RGI07.ipynb",
   "parameters": {
    "reg": 7
   },
   "start_time": "2023-02-12T08:21:39.361667",
   "version": "2.3.4"
  }
 },
 "nbformat": 4,
 "nbformat_minor": 5
}