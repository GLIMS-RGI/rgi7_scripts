{
 "cells": [
  {
   "cell_type": "code",
   "execution_count": null,
   "id": "46adc67a-c914-4b66-a3de-aed2506fb298",
   "metadata": {
    "papermill": {
     "duration": 0.384084,
     "end_time": "2023-06-09T16:24:54.822245",
     "exception": false,
     "start_time": "2023-06-09T16:24:54.438161",
     "status": "completed"
    },
    "tags": []
   },
   "outputs": [],
   "source": [
    "import pandas as pd\n",
    "import geopandas as gpd\n",
    "import subprocess\n",
    "import numpy as np\n",
    "import shapely.geometry as shpg\n",
    "from shapely.ops import linemerge\n",
    "from shapely import set_precision\n",
    "import os\n",
    "import sys\n",
    "import csv\n",
    "import json\n",
    "import logging\n",
    "import shutil\n",
    "import utm"
   ]
  },
  {
   "cell_type": "code",
   "execution_count": null,
   "id": "bad5729c-29eb-4fb6-80cf-b7d279f0343a",
   "metadata": {
    "papermill": {
     "duration": 0.017372,
     "end_time": "2023-06-09T16:24:54.854005",
     "exception": false,
     "start_time": "2023-06-09T16:24:54.836633",
     "status": "completed"
    },
    "tags": []
   },
   "outputs": [],
   "source": [
    "import warnings\n",
    "warnings.filterwarnings('ignore', category=FutureWarning)"
   ]
  },
  {
   "cell_type": "code",
   "execution_count": null,
   "id": "c62aa692-c347-4e74-bc0f-c0cdc9da4669",
   "metadata": {
    "papermill": {
     "duration": 1.837446,
     "end_time": "2023-06-09T16:24:56.701802",
     "exception": false,
     "start_time": "2023-06-09T16:24:54.864356",
     "status": "completed"
    },
    "tags": []
   },
   "outputs": [],
   "source": [
    "sys.path.append(os.getcwd() + '/../..')\n",
    "from utils import mkdir, open_zip_shapefile, open_tar_shapefile, haversine, correct_geoms, fix_overaps"
   ]
  },
  {
   "cell_type": "code",
   "execution_count": null,
   "id": "7c601bdf-1db0-429e-bb22-479f14ffe496",
   "metadata": {
    "papermill": {
     "duration": 0.016436,
     "end_time": "2023-06-09T16:24:56.735534",
     "exception": false,
     "start_time": "2023-06-09T16:24:56.719098",
     "status": "completed"
    },
    "tags": []
   },
   "outputs": [],
   "source": [
    "log = logging.getLogger('papermill')\n",
    "logging.basicConfig(level='INFO', format=\"%(message)s\")"
   ]
  },
  {
   "cell_type": "markdown",
   "id": "8487f7be-608e-44f1-88ec-671465325a11",
   "metadata": {
    "papermill": {
     "duration": 0.010474,
     "end_time": "2023-06-09T16:24:56.754470",
     "exception": false,
     "start_time": "2023-06-09T16:24:56.743996",
     "status": "completed"
    },
    "tags": []
   },
   "source": [
    "## Files and storage paths"
   ]
  },
  {
   "cell_type": "code",
   "execution_count": null,
   "id": "1c753f79-c5b6-49f0-b6ba-bfe40fd7eac3",
   "metadata": {
    "papermill": {
     "duration": 0.016013,
     "end_time": "2023-06-09T16:24:56.781328",
     "exception": false,
     "start_time": "2023-06-09T16:24:56.765315",
     "status": "completed"
    },
    "tags": [
     "parameters"
    ]
   },
   "outputs": [],
   "source": [
    "# Region of interest\n",
    "reg = 1\n",
    "\n",
    "# go down from rgi7_scripts/workflow\n",
    "data_dir = '../../../../rgi7_data/'\n",
    "\n",
    "# Input dirctory\n",
    "input_dir = os.path.join(data_dir, 'l3_rgi7a_tar')\n",
    "\n",
    "# Output directories\n",
    "output_dir = mkdir(os.path.join(data_dir, 'l4_rgi7b0'))\n",
    "output_dir_tar = mkdir(os.path.join(data_dir, 'l4_rgi7b0_tar'))"
   ]
  },
  {
   "cell_type": "code",
   "execution_count": null,
   "id": "5b43eb2c",
   "metadata": {
    "papermill": {
     "duration": 0.016655,
     "end_time": "2023-06-09T16:24:56.805747",
     "exception": false,
     "start_time": "2023-06-09T16:24:56.789092",
     "status": "completed"
    },
    "tags": [
     "injected-parameters"
    ]
   },
   "outputs": [],
   "source": [
    "# Parameters\n",
    "reg = 7\n"
   ]
  },
  {
   "cell_type": "code",
   "execution_count": null,
   "id": "d8e3486d-1f48-414e-b676-f1cb096daea9",
   "metadata": {
    "papermill": {
     "duration": 0.017137,
     "end_time": "2023-06-09T16:24:56.833338",
     "exception": false,
     "start_time": "2023-06-09T16:24:56.816201",
     "status": "completed"
    },
    "tags": []
   },
   "outputs": [],
   "source": [
    "reg_str = f'{reg:02d}'"
   ]
  },
  {
   "cell_type": "code",
   "execution_count": null,
   "id": "2480576d-5c5f-41b5-9bd2-5cf2211419fa",
   "metadata": {
    "papermill": {
     "duration": 0.01864,
     "end_time": "2023-06-09T16:24:56.862656",
     "exception": false,
     "start_time": "2023-06-09T16:24:56.844016",
     "status": "completed"
    },
    "tags": []
   },
   "outputs": [],
   "source": [
    "# RGI v6 file for comparison later \n",
    "rgi6_files = {\n",
    "    '01': '01_rgi60_Alaska.zip',\n",
    "    '02': '02_rgi60_WesternCanadaUS.zip',\n",
    "    '03': '03_rgi60_ArcticCanadaNorth.zip',\n",
    "    '04': '04_rgi60_ArcticCanadaNorth.zip',\n",
    "    '05': '05_rgi60_GreenlandPeriphery.zip',\n",
    "    '06': '06_rgi60_Iceland.zip',\n",
    "    '07': '07_rgi60_Svalbard.zip',\n",
    "    '08': '07_rgi60_Scandinavia.zip',\n",
    "    '09': '09_rgi60_RussianArctic.zip',\n",
    "    '10': '10_rgi60_NorthAsia.zip',\n",
    "    '11': '11_rgi60_CentralEurope.zip',\n",
    "    '12': '12_rgi60_CaucasusMiddleEast.zip',\n",
    "    '13': '13_rgi60_CentralAsia.zip',\n",
    "    '14': '14_rgi60_SouthAsiaWest.zip',\n",
    "    '15': '15_rgi60_SouthAsiaEast.zip',\n",
    "    '16': '16_rgi60_LowLatitudes.zip',\n",
    "    '17': '17_rgi60_SouthernAndes.zip',\n",
    "    '18': '18_rgi60_NewZealand.zip',\n",
    "    '19': '19_rgi60_AntarcticSubantarctic.zip',\n",
    "}\n",
    "rgi6_reg_file = os.path.join(data_dir, 'l0_RGIv6', rgi6_files[reg_str])"
   ]
  },
  {
   "cell_type": "markdown",
   "id": "f2d31af4-b2b2-4dc9-b286-be594f2feb7e",
   "metadata": {
    "papermill": {
     "duration": 0.007831,
     "end_time": "2023-06-09T16:24:56.878248",
     "exception": false,
     "start_time": "2023-06-09T16:24:56.870417",
     "status": "completed"
    },
    "tags": []
   },
   "source": [
    "### Load the input data"
   ]
  },
  {
   "cell_type": "code",
   "execution_count": null,
   "id": "caab54b7-92c0-45fa-a943-25225b119001",
   "metadata": {
    "papermill": {
     "duration": 0.844367,
     "end_time": "2023-06-09T16:24:57.733156",
     "exception": false,
     "start_time": "2023-06-09T16:24:56.888789",
     "status": "completed"
    },
    "tags": []
   },
   "outputs": [],
   "source": [
    "# Read files\n",
    "shp = open_tar_shapefile(input_dir + f'/RGI{reg:02d}.tar.gz')"
   ]
  },
  {
   "cell_type": "code",
   "execution_count": null,
   "id": "77cf5415-997a-4aab-be08-726242a61228",
   "metadata": {
    "papermill": {
     "duration": 0.034115,
     "end_time": "2023-06-09T16:24:57.784356",
     "exception": false,
     "start_time": "2023-06-09T16:24:57.750241",
     "status": "completed"
    },
    "tags": []
   },
   "outputs": [],
   "source": [
    "orig_attrs = pd.DataFrame(shp.drop('geometry', axis=1))\n",
    "orig_attrs.T;"
   ]
  },
  {
   "cell_type": "code",
   "execution_count": null,
   "id": "e1b92b0a-3767-455a-8884-4666b0cf504a",
   "metadata": {
    "papermill": {
     "duration": 0.013885,
     "end_time": "2023-06-09T16:24:57.814796",
     "exception": false,
     "start_time": "2023-06-09T16:24:57.800911",
     "status": "completed"
    },
    "tags": []
   },
   "outputs": [],
   "source": [
    "if 'conn_lvl' not in shp:\n",
    "    print('Add conn_lvl')\n",
    "    shp['conn_lvl'] = 0"
   ]
  },
  {
   "cell_type": "code",
   "execution_count": null,
   "id": "e09e91a0-6561-4cd7-907a-60aeb23e545f",
   "metadata": {
    "papermill": {
     "duration": 0.018329,
     "end_time": "2023-06-09T16:24:57.841093",
     "exception": false,
     "start_time": "2023-06-09T16:24:57.822764",
     "status": "completed"
    },
    "tags": []
   },
   "outputs": [],
   "source": [
    "odf = shp.copy()"
   ]
  },
  {
   "cell_type": "code",
   "execution_count": null,
   "id": "17837ca6-2d55-4ae7-af15-4b572f2eefbf",
   "metadata": {
    "papermill": {
     "duration": 0.02012,
     "end_time": "2023-06-09T16:24:57.871967",
     "exception": false,
     "start_time": "2023-06-09T16:24:57.851847",
     "status": "completed"
    },
    "tags": []
   },
   "outputs": [],
   "source": [
    "rename = {'area':'area_km2', 'CenLon': 'cenlon', 'CenLat': 'cenlat', 'glac_id':'glims_id'}\n",
    "odf = odf.rename(rename, axis=1)"
   ]
  },
  {
   "cell_type": "markdown",
   "id": "c2895b31-0bb5-4192-a158-c6ff07abd1ba",
   "metadata": {
    "papermill": {
     "duration": 0.010441,
     "end_time": "2023-06-09T16:24:57.893212",
     "exception": false,
     "start_time": "2023-06-09T16:24:57.882771",
     "status": "completed"
    },
    "tags": []
   },
   "source": [
    "Recompute area and center point to be sure:"
   ]
  },
  {
   "cell_type": "code",
   "execution_count": null,
   "id": "b54183cb-e0e5-4e82-942d-dbde26f1e7a3",
   "metadata": {
    "papermill": {
     "duration": 0.178294,
     "end_time": "2023-06-09T16:24:58.079456",
     "exception": false,
     "start_time": "2023-06-09T16:24:57.901162",
     "status": "completed"
    },
    "tags": []
   },
   "outputs": [],
   "source": [
    "def xy_coord(geom):\n",
    "    x, y = geom.xy\n",
    "    return x[0], y[0]\n",
    "\n",
    "rp = odf.representative_point()\n",
    "\n",
    "coordinates = np.array(list(rp.apply(xy_coord)))\n",
    "odf['cenlon'] = coordinates[:, 0]\n",
    "odf['cenlat'] = coordinates[:, 1]\n",
    "\n",
    "odf['area_km2'] = odf.to_crs({'proj':'cea'}).area * 1e-6"
   ]
  },
  {
   "cell_type": "code",
   "execution_count": null,
   "id": "14dff652-d75c-4702-90d0-8e2462577487",
   "metadata": {
    "papermill": {
     "duration": 0.018818,
     "end_time": "2023-06-09T16:24:58.113979",
     "exception": false,
     "start_time": "2023-06-09T16:24:58.095161",
     "status": "completed"
    },
    "tags": []
   },
   "outputs": [],
   "source": [
    "odf['glac_name'] = odf['glac_name'].where(odf['glac_name'] != 'None', '')"
   ]
  },
  {
   "cell_type": "markdown",
   "id": "8d88df3a-a0da-41aa-80a2-6ee799789b25",
   "metadata": {
    "papermill": {
     "duration": 0.009965,
     "end_time": "2023-06-09T16:24:58.134712",
     "exception": false,
     "start_time": "2023-06-09T16:24:58.124747",
     "status": "completed"
    },
    "tags": []
   },
   "source": [
    "## Metadata "
   ]
  },
  {
   "cell_type": "code",
   "execution_count": null,
   "id": "3da9f86f-42fa-4ae4-b5f5-bbc2708d7f80",
   "metadata": {
    "papermill": {
     "duration": 0.014593,
     "end_time": "2023-06-09T16:24:58.157258",
     "exception": false,
     "start_time": "2023-06-09T16:24:58.142665",
     "status": "completed"
    },
    "tags": []
   },
   "outputs": [],
   "source": [
    "with open('../rgi7_attributes_metadata.json', 'r') as infile:\n",
    "    meta_glacier_product = json.load(infile)"
   ]
  },
  {
   "cell_type": "code",
   "execution_count": null,
   "id": "6efe0d1f-3125-4062-b9c4-2d9717db2e98",
   "metadata": {
    "papermill": {
     "duration": 0.028135,
     "end_time": "2023-06-09T16:24:58.193512",
     "exception": false,
     "start_time": "2023-06-09T16:24:58.165377",
     "status": "completed"
    },
    "tags": []
   },
   "outputs": [],
   "source": [
    "odf_new = odf[[]].copy().reset_index(drop=True)\n",
    "\n",
    "for col, attrs in meta_glacier_product.items():\n",
    "    if col not in odf:\n",
    "        if attrs['datatype'] == 'str':\n",
    "            odf_new[col] = ''\n",
    "        elif attrs['datatype'] == 'float':\n",
    "            odf_new[col] = np.NaN\n",
    "        elif attrs['datatype'] == 'int':\n",
    "            if col in ['term_type', 'surge_type', 'aspect_sec']:\n",
    "                odf_new[col] = 9 \n",
    "            else:\n",
    "                odf_new[col] = -999 \n",
    "    else: \n",
    "        if attrs['datatype']:\n",
    "            odf_new[col] = odf[col].astype(attrs['datatype'])\n",
    "        else: \n",
    "            odf_new[col] = odf[col]"
   ]
  },
  {
   "cell_type": "code",
   "execution_count": null,
   "id": "19f7932c-0795-487e-89d3-f72c20eeb1c4",
   "metadata": {
    "papermill": {
     "duration": 0.02399,
     "end_time": "2023-06-09T16:24:58.234455",
     "exception": false,
     "start_time": "2023-06-09T16:24:58.210465",
     "status": "completed"
    },
    "tags": []
   },
   "outputs": [],
   "source": [
    "odf_new = gpd.GeoDataFrame(odf_new)\n",
    "odf_new.crs = odf.crs\n",
    "odf_new = odf_new.reset_index(drop=True)\n",
    "odf_new.iloc[:1].T;"
   ]
  },
  {
   "cell_type": "markdown",
   "id": "450e8521-6572-474c-afe5-0989eb843536",
   "metadata": {
    "papermill": {
     "duration": 0.010757,
     "end_time": "2023-06-09T16:24:58.253659",
     "exception": false,
     "start_time": "2023-06-09T16:24:58.242902",
     "status": "completed"
    },
    "tags": []
   },
   "source": [
    "## Regions, subregions and RGI IDs"
   ]
  },
  {
   "cell_type": "code",
   "execution_count": null,
   "id": "544c32b7-a630-4f2b-a82d-5a2372ad527d",
   "metadata": {
    "papermill": {
     "duration": 0.014523,
     "end_time": "2023-06-09T16:24:58.278427",
     "exception": false,
     "start_time": "2023-06-09T16:24:58.263904",
     "status": "completed"
    },
    "tags": []
   },
   "outputs": [],
   "source": [
    "odf_new['o1region'] = f'{reg:02d}'"
   ]
  },
  {
   "cell_type": "code",
   "execution_count": null,
   "id": "21cc6a76-449e-41be-9f83-76f94e0aaede",
   "metadata": {
    "papermill": {
     "duration": 0.087208,
     "end_time": "2023-06-09T16:24:58.375178",
     "exception": false,
     "start_time": "2023-06-09T16:24:58.287970",
     "status": "completed"
    },
    "tags": []
   },
   "outputs": [],
   "source": [
    "sreg_file = os.path.join(data_dir, '00_rgi70_regions', '00_rgi70_O2Regions')\n",
    "sreg = gpd.read_file(sreg_file)\n",
    "sreg = sreg.loc[sreg.o1region == f'{reg:02d}']\n",
    "sreg;"
   ]
  },
  {
   "cell_type": "code",
   "execution_count": null,
   "id": "29782e31-7feb-46f1-8398-16296d7dc5ee",
   "metadata": {
    "papermill": {
     "duration": 0.224848,
     "end_time": "2023-06-09T16:24:58.613655",
     "exception": false,
     "start_time": "2023-06-09T16:24:58.388807",
     "status": "completed"
    },
    "tags": []
   },
   "outputs": [],
   "source": [
    "baseid = f'RGI2000-v7.0-G-{reg:02d}-'\n",
    "count = 1\n",
    "\n",
    "rp = odf_new.representative_point()\n",
    "rp = rp.to_frame('geometry')\n",
    "rp['orig_index'] = odf_new.index\n",
    "\n",
    "total = 0\n",
    "\n",
    "for i, s in sreg.iterrows():\n",
    "    \n",
    "    intersect = gpd.overlay(rp, sreg.loc[[i]], how='intersection')\n",
    "    odf_sreg = odf_new.loc[intersect['orig_index']].copy()\n",
    "    odf_sreg['o2region'] = s['o2region']\n",
    "    \n",
    "    total += len(odf_sreg)\n",
    "    \n",
    "    if len(odf_sreg) == 0:\n",
    "        # 19-05 Ross Ice Shelf one of them\n",
    "        continue\n",
    "    \n",
    "    # Ids generation\n",
    "    # Left most point and we start from there\n",
    "    slon, slat = odf_sreg.loc[odf_sreg.cenlon == odf_sreg.cenlon.min()][['cenlon', 'cenlat']].iloc[0].values\n",
    "    \n",
    "    todo = odf_sreg.index.values\n",
    "    todo_lon = odf_sreg['cenlon'].values\n",
    "    todo_lat = odf_sreg['cenlat'].values\n",
    "    ids = []\n",
    "    while len(todo) > 0:\n",
    "        dis = haversine(slon, slat, todo_lon, todo_lat)\n",
    "        idm = np.argmin(dis)\n",
    "        ids.append(todo[idm])\n",
    "        slon, slat = todo_lon[idm], todo_lat[idm]\n",
    "        todo = np.delete(todo, idm)\n",
    "        todo_lon = np.delete(todo_lon, idm)\n",
    "        todo_lat = np.delete(todo_lat, idm)\n",
    "    \n",
    "    assert len(ids) == len(odf_sreg)\n",
    "    odf_sreg = odf_sreg.loc[ids].copy()\n",
    "    \n",
    "    odf_sreg['rgi_id'] = [baseid + f'{l+count:05d}' for l in range(len(odf_sreg))]\n",
    "    count += len(odf_sreg)\n",
    "    odf_new.loc[odf_sreg.index, 'rgi_id'] = odf_sreg['rgi_id']\n",
    "    odf_new.loc[odf_sreg.index, 'o2region'] = odf_sreg['o2region']\n",
    "    \n",
    "odf_new = odf_new.sort_values(by='rgi_id').reset_index(drop=True)\n",
    "\n",
    "assert odf_new['o2region'].isnull().sum() == 0\n",
    "assert int(odf_new.iloc[-1]['rgi_id'].split('-')[-1]) == odf_new.iloc[-1].name + 1 \n",
    "if len(odf_new['o2region'].unique()) != len(sreg):\n",
    "    log.warning(f'RGI{reg:02d}: some subregions have NO glaciers in them')\n",
    "else:\n",
    "    log.info(f'RGI{reg:02d}: all subregions have glaciers in them')\n",
    "assert len(odf_new) == len(odf)"
   ]
  },
  {
   "cell_type": "code",
   "execution_count": null,
   "id": "78275c79-a2f1-40bb-b5a6-9b263b58cbd5",
   "metadata": {
    "papermill": {
     "duration": 0.110866,
     "end_time": "2023-06-09T16:24:58.742181",
     "exception": false,
     "start_time": "2023-06-09T16:24:58.631315",
     "status": "completed"
    },
    "tags": []
   },
   "outputs": [],
   "source": [
    "# UTM zone\n",
    "utms = []\n",
    "for lat, lon in zip(odf_new.cenlat, odf_new.cenlon):\n",
    "    _, _, nz, _ = utm.from_latlon(lat, lon)\n",
    "    utms.append(nz)\n",
    "odf_new['utm_zone'] = utms"
   ]
  },
  {
   "cell_type": "code",
   "execution_count": null,
   "id": "31c9424b-ebf8-424c-bc5d-f46f3e5ab1d2",
   "metadata": {
    "papermill": {
     "duration": 0.022861,
     "end_time": "2023-06-09T16:24:58.778072",
     "exception": false,
     "start_time": "2023-06-09T16:24:58.755211",
     "status": "completed"
    },
    "tags": []
   },
   "outputs": [],
   "source": [
    "nopoly = odf_new.loc[odf_new.type != 'Polygon']\n",
    "assert len(nopoly) == 0"
   ]
  },
  {
   "cell_type": "code",
   "execution_count": null,
   "id": "567e0186-4fa8-448b-83e3-f900ea245a4e",
   "metadata": {
    "papermill": {
     "duration": 0.019152,
     "end_time": "2023-06-09T16:24:58.805949",
     "exception": false,
     "start_time": "2023-06-09T16:24:58.786797",
     "status": "completed"
    },
    "tags": []
   },
   "outputs": [],
   "source": [
    "odf_new.iloc[:1].T;"
   ]
  },
  {
   "cell_type": "markdown",
   "id": "b2c990a4-231d-4107-890d-a1bf505260e1",
   "metadata": {
    "papermill": {
     "duration": 0.011445,
     "end_time": "2023-06-09T16:24:58.828659",
     "exception": false,
     "start_time": "2023-06-09T16:24:58.817214",
     "status": "completed"
    },
    "tags": []
   },
   "source": [
    "## Links to RGI6"
   ]
  },
  {
   "cell_type": "code",
   "execution_count": null,
   "id": "3a8dc7d1-8bde-4a20-b62e-c424bb67436d",
   "metadata": {
    "papermill": {
     "duration": 0.014178,
     "end_time": "2023-06-09T16:24:58.853401",
     "exception": false,
     "start_time": "2023-06-09T16:24:58.839223",
     "status": "completed"
    },
    "tags": []
   },
   "outputs": [],
   "source": [
    "import overlaps_helpers"
   ]
  },
  {
   "cell_type": "code",
   "execution_count": null,
   "id": "f66e548a-a43b-40be-a1bf-06523a624e08",
   "metadata": {
    "papermill": {
     "duration": 0.600183,
     "end_time": "2023-06-09T16:24:59.461943",
     "exception": false,
     "start_time": "2023-06-09T16:24:58.861760",
     "status": "completed"
    },
    "tags": []
   },
   "outputs": [],
   "source": [
    "# load RGI6 data\n",
    "from utils import open_zip_shapefile\n",
    "rgi6 = open_zip_shapefile(rgi6_reg_file)"
   ]
  },
  {
   "cell_type": "code",
   "execution_count": null,
   "id": "82b79f73-2f9a-48a2-a47a-eba786c7ab15",
   "metadata": {
    "papermill": {
     "duration": 4.194883,
     "end_time": "2023-06-09T16:25:03.672122",
     "exception": false,
     "start_time": "2023-06-09T16:24:59.477239",
     "status": "completed"
    },
    "tags": []
   },
   "outputs": [],
   "source": [
    "# Compute RGI7 - RGI6 overlaps\n",
    "overlaps = overlaps_helpers.compute_cross_overlaps(odf_new.geometry, rgi6.geometry)"
   ]
  },
  {
   "cell_type": "code",
   "execution_count": null,
   "id": "cff9bad8-6a6d-4db8-9fd8-70022e2f93eb",
   "metadata": {
    "papermill": {
     "duration": 0.212645,
     "end_time": "2023-06-09T16:25:03.916311",
     "exception": false,
     "start_time": "2023-06-09T16:25:03.703666",
     "status": "completed"
    },
    "tags": []
   },
   "outputs": [],
   "source": [
    "# Add more stats\n",
    "overlaps['area'] = overlaps['geometry'].to_crs({'proj':'cea'}).area * 1e-6\n",
    "overlaps['i'] = odf_new['rgi_id'].iloc[overlaps['i']].values\n",
    "overlaps['j'] = rgi6['RGIId'].iloc[overlaps['j']].values"
   ]
  },
  {
   "cell_type": "code",
   "execution_count": null,
   "id": "121d301d-df1b-4922-ac08-2ebd99f9f50a",
   "metadata": {
    "papermill": {
     "duration": 0.039072,
     "end_time": "2023-06-09T16:25:03.989617",
     "exception": false,
     "start_time": "2023-06-09T16:25:03.950545",
     "status": "completed"
    },
    "tags": []
   },
   "outputs": [],
   "source": [
    "# Filter by minimum area. See https://github.com/ezwelty/rgi_links/issues/6\n",
    "overlaps = overlaps[overlaps['area'] > 200].copy()"
   ]
  },
  {
   "cell_type": "code",
   "execution_count": null,
   "id": "898c5ff7-e9f8-4e4d-8beb-94a88f7c3e40",
   "metadata": {
    "papermill": {
     "duration": 0.036126,
     "end_time": "2023-06-09T16:25:04.057225",
     "exception": false,
     "start_time": "2023-06-09T16:25:04.021099",
     "status": "completed"
    },
    "tags": []
   },
   "outputs": [],
   "source": [
    "# Count number of direct relatives (i.e. 1:1, n:1, 1:n, n:n)\n",
    "overlaps['in'], overlaps['jn'] = overlaps_helpers.count_pair_relations(\n",
    "  overlaps['i'], overlaps['j']\n",
    ")\n",
    "# Label clusters of (directly and indirectly-related) pairs\n",
    "overlaps['cluster'] = overlaps_helpers.label_pair_clusters(overlaps['i'], overlaps['j'])"
   ]
  },
  {
   "cell_type": "code",
   "execution_count": null,
   "id": "f46270b1-616d-459d-a054-51c593672e95",
   "metadata": {
    "papermill": {
     "duration": 0.027181,
     "end_time": "2023-06-09T16:25:04.110441",
     "exception": false,
     "start_time": "2023-06-09T16:25:04.083260",
     "status": "completed"
    },
    "tags": []
   },
   "outputs": [],
   "source": [
    "# Remove geometry for now\n",
    "odf_links = overlaps[['i', 'j', 'area', 'i_area_fraction', 'j_area_fraction', 'cluster', 'in', 'jn']].copy()\n",
    "odf_links.columns = ['rgi7_id', 'rgi6_id', 'overlap_area_km2', 'rgi7_area_fraction', 'rgi6_area_fraction', 'cluster_id', 'n_rgi7', 'n_rgi6']"
   ]
  },
  {
   "cell_type": "code",
   "execution_count": null,
   "id": "a0e88fc2-1205-4100-b56f-8ec187ad004d",
   "metadata": {
    "papermill": {
     "duration": 0.031598,
     "end_time": "2023-06-09T16:25:04.162172",
     "exception": false,
     "start_time": "2023-06-09T16:25:04.130574",
     "status": "completed"
    },
    "tags": []
   },
   "outputs": [],
   "source": [
    "odf_links;"
   ]
  },
  {
   "cell_type": "markdown",
   "id": "ad528b70-acfd-47db-99f3-3e123373516a",
   "metadata": {
    "papermill": {
     "duration": 0.021573,
     "end_time": "2023-06-09T16:25:04.208026",
     "exception": false,
     "start_time": "2023-06-09T16:25:04.186453",
     "status": "completed"
    },
    "tags": []
   },
   "source": [
    "## Submission metadata"
   ]
  },
  {
   "cell_type": "code",
   "execution_count": null,
   "id": "470e8c16-42eb-443f-a176-c767ee7c3722",
   "metadata": {
    "papermill": {
     "duration": 0.026524,
     "end_time": "2023-06-09T16:25:04.254676",
     "exception": false,
     "start_time": "2023-06-09T16:25:04.228152",
     "status": "completed"
    },
    "tags": []
   },
   "outputs": [],
   "source": [
    "with open('../rgi7_submission_info_metadata.json', 'r') as infile:\n",
    "    meta_sub = json.load(infile)"
   ]
  },
  {
   "cell_type": "code",
   "execution_count": null,
   "id": "00c9d8ae-9743-4540-a5f4-50e44c0da289",
   "metadata": {
    "papermill": {
     "duration": 0.05031,
     "end_time": "2023-06-09T16:25:04.330236",
     "exception": false,
     "start_time": "2023-06-09T16:25:04.279926",
     "status": "completed"
    },
    "tags": []
   },
   "outputs": [],
   "source": [
    "subm_id = orig_attrs['subm_id'].unique()\n",
    "odf_subm = pd.DataFrame()\n",
    "for sid in subm_id:\n",
    "    sel = orig_attrs.loc[orig_attrs['subm_id'] == sid]\n",
    "    for k in meta_sub.keys():\n",
    "        if k == 'subm_id':\n",
    "            continue\n",
    "        attrs = meta_sub[k]\n",
    "        if k not in sel:\n",
    "            if attrs['datatype'] == 'str':\n",
    "                odf_subm.loc[int(sid), k] = ''\n",
    "            elif attrs['datatype'] == 'float':\n",
    "                odf_subm.loc[int(sid), k] = np.NaN\n",
    "            elif attrs['datatype'] == 'int':\n",
    "                odf_subm.loc[int(sid), k] = -999\n",
    "        else: \n",
    "            assert len(sel[k].unique()==1), f'{k} has non unique values'\n",
    "            if attrs['datatype']:\n",
    "                data = sel[k].astype(attrs['datatype']).iloc[0]\n",
    "            else: \n",
    "                data = sel[k].iloc[0]\n",
    "                \n",
    "            if attrs['datatype'] == 'str':\n",
    "                # Clean\n",
    "                data = data.strip().lstrip(';').strip()\n",
    "                \n",
    "            odf_subm.loc[int(sid), k] = data\n",
    "            \n",
    "    odf_subm.loc[int(sid), 'n_outlines'] = len(sel)\n",
    "    odf_subm.loc[int(sid), 'area_km2'] = sel['area'].sum() * 1e-6\n",
    "        \n",
    "odf_subm.index.name = 'subm_id' \n",
    "odf_subm['n_outlines'] = odf_subm['n_outlines'].astype(int)\n",
    "odf_subm['rc_id'] = odf_subm['rc_id'].astype(int)\n",
    "odf_subm = odf_subm.sort_index()\n",
    "odf_subm;"
   ]
  },
  {
   "cell_type": "markdown",
   "id": "a8863f85-238f-4fa7-834a-40a7a119f8af",
   "metadata": {
    "papermill": {
     "duration": 0.021668,
     "end_time": "2023-06-09T16:25:04.388186",
     "exception": false,
     "start_time": "2023-06-09T16:25:04.366518",
     "status": "completed"
    },
    "tags": []
   },
   "source": [
    "## Intersects product "
   ]
  },
  {
   "cell_type": "code",
   "execution_count": null,
   "id": "69943e31-2af6-4f34-8627-1965ae860752",
   "metadata": {
    "papermill": {
     "duration": 0.028299,
     "end_time": "2023-06-09T16:25:04.436803",
     "exception": false,
     "start_time": "2023-06-09T16:25:04.408504",
     "status": "completed"
    },
    "tags": []
   },
   "outputs": [],
   "source": [
    "import warnings\n",
    "warnings.filterwarnings('default')\n",
    "\n",
    "from shapely.errors import GEOSException"
   ]
  },
  {
   "cell_type": "code",
   "execution_count": null,
   "id": "fed9ff91-1767-40a6-8db3-b1522914aa8c",
   "metadata": {
    "papermill": {
     "duration": 14.607107,
     "end_time": "2023-06-09T16:25:19.078969",
     "exception": false,
     "start_time": "2023-06-09T16:25:04.471862",
     "status": "completed"
    },
    "tags": []
   },
   "outputs": [],
   "source": [
    "# define how the output should look like\n",
    "odf_intersects_cols = ['rgi_id_1', 'rgi_id_2', 'geometry']\n",
    "odf_intersects = gpd.GeoDataFrame(columns=odf_intersects_cols)\n",
    "odf_intersects.crs = odf_new.crs\n",
    "\n",
    "# this precision is needed to avoid unwanted side\n",
    "# effects due to floating point representation of\n",
    "# polygon coordinates\n",
    "precision = 1e-9\n",
    "\n",
    "# this creates r-tree spatial indices for a fast search for potential intersects\n",
    "# e.g. see https://geoffboeing.com/2016/10/r-tree-spatial-index-python/\n",
    "spatial_index = odf_new.sindex\n",
    "\n",
    "for counter, major in odf_new.iterrows():\n",
    "    \n",
    "    if counter % 10 == 0 or counter == len(odf_new)-1:\n",
    "        print(f\"[{len(odf_new)}] {counter}\", end=\"\\r\", flush=True)\n",
    "\n",
    "    # find possible intersects using spatial indexing\n",
    "    possible_intersects_index = list(spatial_index.query(major.geometry))\n",
    "    possible_intersects = odf_new.iloc[possible_intersects_index]\n",
    "\n",
    "    # exclude the major geometry itself\n",
    "    possible_intersects = possible_intersects.loc[possible_intersects.rgi_id != major.rgi_id]\n",
    "\n",
    "    # run true intersection query only on possible intersects\n",
    "    try:\n",
    "        actual_intersects = possible_intersects[possible_intersects.intersects(major.geometry)]\n",
    "    except GEOSException:\n",
    "        to_loc = []\n",
    "        for ki, potential_inter in possible_intersects.iterrows():\n",
    "            if set_precision(potential_inter.geometry, precision).intersects(set_precision(major.geometry, precision)):\n",
    "                to_loc.append(ki)\n",
    "        actual_intersects = possible_intersects.loc[to_loc]\n",
    "    for _, neighbor in actual_intersects.iterrows():\n",
    "        # Already computed?\n",
    "        if neighbor.rgi_id in odf_intersects.rgi_id_1.values:\n",
    "            continue\n",
    "\n",
    "        # Here set new precision of geometries before intersecting,\n",
    "        # this avoids side effects due to floating point\n",
    "        # representation of coordinates (e.g. result is a polygon\n",
    "        # instead of a line)\n",
    "        mult_intersect = set_precision(major.geometry, precision).intersection(\n",
    "            set_precision(neighbor.geometry, precision))\n",
    "\n",
    "        # checks that floating point representation is ok\n",
    "        if isinstance(mult_intersect, shpg.Polygon):\n",
    "            # Check area and remove - should be fairly rare\n",
    "            tmp = gpd.GeoDataFrame(geometry=[mult_intersect], crs=odf_new.crs)\n",
    "            area = tmp.to_crs({'proj':'cea'}).area[0]\n",
    "            assert area < 10\n",
    "            continue\n",
    "\n",
    "        if isinstance(mult_intersect, shpg.Point):\n",
    "            continue\n",
    "        if isinstance(mult_intersect, shpg.linestring.LineString):\n",
    "            mult_intersect = shpg.MultiLineString([mult_intersect])\n",
    "        if len(mult_intersect.geoms) == 0:\n",
    "            continue\n",
    "        mult_intersect = [m for m in mult_intersect.geoms if\n",
    "                          not isinstance(m, shpg.Point)]\n",
    "\n",
    "        # checks that floating point representation is ok\n",
    "        for m in mult_intersect.copy():\n",
    "            if isinstance(m, shpg.Polygon):\n",
    "                # Check area and remove - should be fairly rare\n",
    "                tmp = gpd.GeoDataFrame(geometry=[m], crs=odf_new.crs)\n",
    "                area = tmp.to_crs({'proj':'cea'}).area[0]\n",
    "                assert area < 10\n",
    "                mult_intersect.remove(m)\n",
    "\n",
    "        if len(mult_intersect) == 0:\n",
    "            continue\n",
    "\n",
    "        # Simplify the geometries if possible\n",
    "        try:\n",
    "            mult_intersect = linemerge(mult_intersect)\n",
    "        except IndexError:\n",
    "            pass\n",
    "\n",
    "        # Add each line to the output file\n",
    "        if isinstance(mult_intersect, shpg.linestring.LineString):\n",
    "            mult_intersect = shpg.MultiLineString([mult_intersect])\n",
    "        for line in mult_intersect.geoms:\n",
    "            assert isinstance(line, shpg.linestring.LineString)\n",
    "            line = gpd.GeoDataFrame([[major.rgi_id, neighbor.rgi_id, line]],\n",
    "                                    columns=odf_intersects_cols, crs=odf_new.crs)\n",
    "            odf_intersects = pd.concat([odf_intersects, line])\n",
    "\n",
    "odf_intersects = odf_intersects.reset_index(drop=True)"
   ]
  },
  {
   "cell_type": "code",
   "execution_count": null,
   "id": "b8269a77-cad1-4578-9192-99436d336e3f",
   "metadata": {
    "papermill": {
     "duration": 0.266234,
     "end_time": "2023-06-09T16:25:19.384940",
     "exception": false,
     "start_time": "2023-06-09T16:25:19.118706",
     "status": "completed"
    },
    "tags": []
   },
   "outputs": [],
   "source": [
    "# assign new ids for intersects - this is arbitrary\n",
    "baseid = f'RGI2000-v7.0-I-{reg:02d}-'\n",
    "\n",
    "rp = odf_intersects.representative_point()\n",
    "coordinates = np.array(list(rp.apply(xy_coord)))\n",
    "odf_intersects['cenlon'] = coordinates[:, 0]\n",
    "odf_intersects['cenlat'] = coordinates[:, 1]\n",
    "    \n",
    "todo = odf_intersects.index.values\n",
    "todo_lon = odf_intersects['cenlon'].values\n",
    "todo_lat = odf_intersects['cenlat'].values\n",
    "ids = []\n",
    "while len(todo) > 0:\n",
    "    dis = haversine(slon, slat, todo_lon, todo_lat)\n",
    "    idm = np.argmin(dis)\n",
    "    ids.append(todo[idm])\n",
    "    slon, slat = todo_lon[idm], todo_lat[idm]\n",
    "    todo = np.delete(todo, idm)\n",
    "    todo_lon = np.delete(todo_lon, idm)\n",
    "    todo_lat = np.delete(todo_lat, idm)\n",
    "\n",
    "assert len(ids) == len(odf_intersects)\n",
    "odf_intersects = odf_intersects.loc[ids].copy()\n",
    "\n",
    "odf_intersects['rgi_id'] = [baseid + f'{l+1:05d}' for l in range(len(odf_intersects))]\n",
    "odf_intersects = odf_intersects.sort_values(by='rgi_id').reset_index(drop=True)\n",
    "\n",
    "assert int(odf_intersects.iloc[-1]['rgi_id'].split('-')[-1]) == odf_intersects.iloc[-1].name + 1 "
   ]
  },
  {
   "cell_type": "code",
   "execution_count": null,
   "id": "928d06a5-bf5b-46e1-85dd-ba2ce1924dbf",
   "metadata": {
    "papermill": {
     "duration": 0.061211,
     "end_time": "2023-06-09T16:25:19.486626",
     "exception": false,
     "start_time": "2023-06-09T16:25:19.425415",
     "status": "completed"
    },
    "tags": []
   },
   "outputs": [],
   "source": [
    "assert np.alltrue(np.array([g.geom_type for g in odf_intersects.geometry]) == 'LineString')"
   ]
  },
  {
   "cell_type": "code",
   "execution_count": null,
   "id": "c0c263a2-a516-4dcf-8154-7d9183f4dcc8",
   "metadata": {
    "papermill": {
     "duration": 0.039807,
     "end_time": "2023-06-09T16:25:19.566666",
     "exception": false,
     "start_time": "2023-06-09T16:25:19.526859",
     "status": "completed"
    },
    "tags": []
   },
   "outputs": [],
   "source": [
    "gdf = odf_new.set_index('rgi_id')\n",
    "odf_intersects['utm_zone'] = gdf.loc[odf_intersects['rgi_id_1']]['utm_zone'].values"
   ]
  },
  {
   "cell_type": "code",
   "execution_count": null,
   "id": "9266863a-8525-483e-b199-bae1b274eed6",
   "metadata": {
    "papermill": {
     "duration": 0.065203,
     "end_time": "2023-06-09T16:25:19.664639",
     "exception": false,
     "start_time": "2023-06-09T16:25:19.599436",
     "status": "completed"
    },
    "tags": []
   },
   "outputs": [],
   "source": [
    "# Compute the length\n",
    "for zone in odf_intersects['utm_zone'].unique():\n",
    "    sel = odf_intersects.loc[odf_intersects['utm_zone'] == zone]\n",
    "    odf_intersects.loc[sel.index, 'length_m'] = sel.to_crs({'proj':'utm', 'zone':zone}).length"
   ]
  },
  {
   "cell_type": "code",
   "execution_count": null,
   "id": "65d7bc15-2b58-429c-93c8-f08ddad26c5f",
   "metadata": {
    "papermill": {
     "duration": 0.04825,
     "end_time": "2023-06-09T16:25:19.751908",
     "exception": false,
     "start_time": "2023-06-09T16:25:19.703658",
     "status": "completed"
    },
    "tags": []
   },
   "outputs": [],
   "source": [
    "# here we could define a minimum length for a intersection line - we decided not to"
   ]
  },
  {
   "cell_type": "code",
   "execution_count": null,
   "id": "618c7f3b-c039-4fb8-9178-3c0b504fe833",
   "metadata": {
    "papermill": {
     "duration": 0.037023,
     "end_time": "2023-06-09T16:25:19.815287",
     "exception": false,
     "start_time": "2023-06-09T16:25:19.778264",
     "status": "completed"
    },
    "tags": []
   },
   "outputs": [],
   "source": [
    "odf_intersects = odf_intersects[['rgi_id', 'rgi_id_1', 'rgi_id_2', 'length_m', 'geometry']]\n",
    "odf_intersects.columns = ['rgi_id', 'rgi_g_id_1', 'rgi_g_id_2', 'length_m', 'geometry']\n",
    "odf_intersects;"
   ]
  },
  {
   "cell_type": "markdown",
   "id": "66121718-a4c4-4fbe-9a92-d46bb8797119",
   "metadata": {
    "papermill": {
     "duration": 0.026452,
     "end_time": "2023-06-09T16:25:19.886068",
     "exception": false,
     "start_time": "2023-06-09T16:25:19.859616",
     "status": "completed"
    },
    "tags": []
   },
   "source": [
    "### Create merged shapefile"
   ]
  },
  {
   "cell_type": "code",
   "execution_count": null,
   "id": "7f9f2ff9-8f8e-4822-a705-91fecbf76023",
   "metadata": {
    "papermill": {
     "duration": 5.446348,
     "end_time": "2023-06-09T16:25:25.358424",
     "exception": false,
     "start_time": "2023-06-09T16:25:19.912076",
     "status": "completed"
    },
    "tags": []
   },
   "outputs": [],
   "source": [
    "# merge outlines\n",
    "odf_merged = odf_new.dissolve().explode(ignore_index=True).reset_index()\n",
    "\n",
    "# drop attributes and set others to nan (just to be sure all attributes are recomputed)\n",
    "attributes_to_keep = ['rgi_id', 'o1region', 'area_km2', 'geometry']\n",
    "attributes_to_drop = [i for i in odf_merged.columns if i not in attributes_to_keep]\n",
    "odf_merged.drop(columns=attributes_to_drop, inplace=True)\n",
    "for attr in attributes_to_keep:\n",
    "    if attr not in ['o1region', 'geometry']:\n",
    "        odf_merged[attr] = np.nan"
   ]
  },
  {
   "cell_type": "code",
   "execution_count": null,
   "id": "f19bc861-f81b-459d-899f-cdaf09a26366",
   "metadata": {
    "papermill": {
     "duration": 1.534262,
     "end_time": "2023-06-09T16:25:26.933241",
     "exception": false,
     "start_time": "2023-06-09T16:25:25.398979",
     "status": "completed"
    },
    "tags": []
   },
   "outputs": [],
   "source": [
    "odf_merged['area'] = odf_merged.to_crs({'proj':'cea'}).area\n",
    "odf_merged = correct_geoms(odf_merged)"
   ]
  },
  {
   "cell_type": "code",
   "execution_count": null,
   "id": "de8c121d-87a0-4bc3-b689-6afe889f7065",
   "metadata": {
    "papermill": {
     "duration": 2.138524,
     "end_time": "2023-06-09T16:25:29.109113",
     "exception": false,
     "start_time": "2023-06-09T16:25:26.970589",
     "status": "completed"
    },
    "tags": []
   },
   "outputs": [],
   "source": [
    "odf_merged = fix_overaps(odf_merged)"
   ]
  },
  {
   "cell_type": "code",
   "execution_count": null,
   "id": "5e5a4add-b91b-4eeb-ba52-c2a16ef72d91",
   "metadata": {
    "papermill": {
     "duration": 1.443933,
     "end_time": "2023-06-09T16:25:30.592361",
     "exception": false,
     "start_time": "2023-06-09T16:25:29.148428",
     "status": "completed"
    },
    "tags": []
   },
   "outputs": [],
   "source": [
    "odf_merged = correct_geoms(odf_merged)"
   ]
  },
  {
   "cell_type": "code",
   "execution_count": null,
   "id": "3b47bf72-368f-45f0-a4ac-cfdefcc3aeef",
   "metadata": {
    "papermill": {
     "duration": 0.180672,
     "end_time": "2023-06-09T16:25:30.812643",
     "exception": false,
     "start_time": "2023-06-09T16:25:30.631971",
     "status": "completed"
    },
    "tags": []
   },
   "outputs": [],
   "source": [
    "# define new cenlon and cenlat\n",
    "def xy_coord(geom):\n",
    "    x, y = geom.xy\n",
    "    return x[0], y[0]\n",
    "\n",
    "rp = odf_merged.representative_point()\n",
    "coordinates = np.array(list(rp.apply(xy_coord)))\n",
    "odf_merged['cenlon'] = coordinates[:, 0]\n",
    "odf_merged['cenlat'] = coordinates[:, 1]\n",
    "\n",
    "# calculate new area\n",
    "odf_merged['area_km2'] = odf_merged.to_crs({'proj':'cea'}).area * 1e-6\n",
    "\n",
    "# Filter\n",
    "odf_merged = odf_merged.loc[odf_merged['area_km2'] >= 0.01].copy()\n",
    "\n",
    "# check that total area is unchanged\n",
    "assert np.allclose(odf_new.area_km2.sum(),\n",
    "                   odf_merged.area_km2.sum())"
   ]
  },
  {
   "cell_type": "code",
   "execution_count": null,
   "id": "b511e279-55e2-4e65-ac5a-8d2c1becc498",
   "metadata": {
    "papermill": {
     "duration": 0.167353,
     "end_time": "2023-06-09T16:25:31.021743",
     "exception": false,
     "start_time": "2023-06-09T16:25:30.854390",
     "status": "completed"
    },
    "tags": []
   },
   "outputs": [],
   "source": [
    "# assign new ids for merged glacier complexes - this is arbitrary\n",
    "baseid = f'RGI2000-v7.0-C-{reg:02d}-'\n",
    "count = 1\n",
    "\n",
    "rp = odf_merged.representative_point()\n",
    "rp = rp.to_frame('geometry')\n",
    "rp['orig_index'] = odf_merged.index\n",
    "\n",
    "total = 0\n",
    "\n",
    "for i, s in sreg.iterrows():\n",
    "    \n",
    "    intersect = gpd.overlay(rp, sreg.loc[[i]], how='intersection')\n",
    "    odf_sreg = odf_merged.loc[intersect['orig_index']].copy()\n",
    "    odf_sreg['o2region'] = s['o2region']\n",
    "    \n",
    "    total += len(odf_sreg)\n",
    "    \n",
    "    if len(odf_sreg) == 0:\n",
    "        # 19-05 Ross Ice Shelf one of them\n",
    "        continue\n",
    "    \n",
    "    # Ids generation\n",
    "    # Left most point and we start from there\n",
    "    slon, slat = odf_sreg.loc[odf_sreg.cenlon == odf_sreg.cenlon.min()][['cenlon', 'cenlat']].iloc[0].values\n",
    "    \n",
    "    todo = odf_sreg.index.values\n",
    "    todo_lon = odf_sreg['cenlon'].values\n",
    "    todo_lat = odf_sreg['cenlat'].values\n",
    "    ids = []\n",
    "    while len(todo) > 0:\n",
    "        dis = haversine(slon, slat, todo_lon, todo_lat)\n",
    "        idm = np.argmin(dis)\n",
    "        ids.append(todo[idm])\n",
    "        slon, slat = todo_lon[idm], todo_lat[idm]\n",
    "        todo = np.delete(todo, idm)\n",
    "        todo_lon = np.delete(todo_lon, idm)\n",
    "        todo_lat = np.delete(todo_lat, idm)\n",
    "    \n",
    "    assert len(ids) == len(odf_sreg)\n",
    "    odf_sreg = odf_sreg.loc[ids].copy()\n",
    "    \n",
    "    odf_sreg['rgi_id'] = [baseid + f'{l+count:05d}' for l in range(len(odf_sreg))]\n",
    "    count += len(odf_sreg)\n",
    "    odf_merged.loc[odf_sreg.index, 'rgi_id'] = odf_sreg['rgi_id']\n",
    "    odf_merged.loc[odf_sreg.index, 'o2region'] = odf_sreg['o2region']\n",
    "    \n",
    "odf_merged = odf_merged.sort_values(by='rgi_id').reset_index(drop=True)"
   ]
  },
  {
   "cell_type": "code",
   "execution_count": null,
   "id": "a356516d-9e29-41d4-9747-22ce6d875cf4",
   "metadata": {
    "papermill": {
     "duration": 0.038924,
     "end_time": "2023-06-09T16:25:31.105244",
     "exception": false,
     "start_time": "2023-06-09T16:25:31.066320",
     "status": "completed"
    },
    "tags": []
   },
   "outputs": [],
   "source": [
    "if odf_merged.rgi_id.isna().sum() > 0:\n",
    "    # Some merged glaciers are not within a subregion\n",
    "    # Happens eg in rgi14 where the regions are crap\n",
    "    # pick the nearest glacier and apply the same region\n",
    "    for i, s in odf_merged.loc[odf_merged.rgi_id.isna()].copy().iterrows():\n",
    "        dis = haversine(s.cenlon, s.cenlat, odf_merged.cenlon, odf_merged.cenlat)\n",
    "        assert dis.sort_values().iloc[0] == 0\n",
    "        assert dis.sort_values().iloc[1] > 0\n",
    "        for ii, d in zip(dis.sort_values().iloc[1:].index, dis.sort_values().iloc[1:]):\n",
    "            totry = odf_merged.loc[ii]\n",
    "            if totry.o2region != '':\n",
    "                odf_merged.loc[i, 'rgi_id'] = baseid + f'{count:05d}'\n",
    "                odf_merged.loc[i, 'o2region'] = totry.o2region\n",
    "                count += 1\n",
    "                break\n",
    "assert odf_merged.rgi_id.isna().sum() == 0\n",
    "assert int(odf_merged.rgi_id.iloc[-1].split('-')[-1]) == odf_merged.index[-1]+1"
   ]
  },
  {
   "cell_type": "code",
   "execution_count": null,
   "id": "d17e68c2-a92c-4df9-a296-22cbe19bc134",
   "metadata": {
    "papermill": {
     "duration": 1.485948,
     "end_time": "2023-06-09T16:25:32.621110",
     "exception": false,
     "start_time": "2023-06-09T16:25:31.135162",
     "status": "completed"
    },
    "tags": []
   },
   "outputs": [],
   "source": [
    "not_valid = ~ odf_merged.is_valid\n",
    "assert not_valid.sum() == 0, 'Merged product wrong geoms'"
   ]
  },
  {
   "cell_type": "code",
   "execution_count": null,
   "id": "b719c1fd-1b62-485b-b90a-cb704dbbefbd",
   "metadata": {
    "papermill": {
     "duration": 0.088271,
     "end_time": "2023-06-09T16:25:32.747280",
     "exception": false,
     "start_time": "2023-06-09T16:25:32.659009",
     "status": "completed"
    },
    "tags": []
   },
   "outputs": [],
   "source": [
    "# UTM zone\n",
    "utms = []\n",
    "for lat, lon in zip(odf_merged.cenlat, odf_merged.cenlon):\n",
    "    _, _, nz, _ = utm.from_latlon(lat, lon)\n",
    "    utms.append(nz)\n",
    "odf_merged['utm_zone'] = utms"
   ]
  },
  {
   "cell_type": "code",
   "execution_count": null,
   "id": "a8ba0ace-ec6d-4645-b05f-b1997e6c9c09",
   "metadata": {
    "papermill": {
     "duration": 0.043641,
     "end_time": "2023-06-09T16:25:32.830665",
     "exception": false,
     "start_time": "2023-06-09T16:25:32.787024",
     "status": "completed"
    },
    "tags": []
   },
   "outputs": [],
   "source": [
    "assert np.alltrue(np.array([g.geom_type for g in odf_merged.geometry]) == 'Polygon')"
   ]
  },
  {
   "cell_type": "code",
   "execution_count": null,
   "id": "07cd0583-f437-44c7-9945-3cf7cb12a767",
   "metadata": {
    "papermill": {
     "duration": 0.036354,
     "end_time": "2023-06-09T16:25:32.899116",
     "exception": false,
     "start_time": "2023-06-09T16:25:32.862762",
     "status": "completed"
    },
    "tags": []
   },
   "outputs": [],
   "source": [
    "odf_merged = odf_merged[['rgi_id', 'o1region', 'o2region', 'cenlon', 'cenlat', 'utm_zone', 'area_km2', 'geometry']].reset_index(drop=True)\n",
    "odf_merged.iloc[[0]].T;"
   ]
  },
  {
   "cell_type": "markdown",
   "id": "5042c156-d2fa-4786-86a8-3a76bdb1ae53",
   "metadata": {
    "papermill": {
     "duration": 0.026259,
     "end_time": "2023-06-09T16:25:32.960502",
     "exception": false,
     "start_time": "2023-06-09T16:25:32.934243",
     "status": "completed"
    },
    "tags": []
   },
   "source": [
    "### Create conversion list between individual glacier ids and glacier complexes"
   ]
  },
  {
   "cell_type": "code",
   "execution_count": null,
   "id": "a1631360-7191-4243-ad78-e0036c25a1af",
   "metadata": {
    "papermill": {
     "duration": 5.791813,
     "end_time": "2023-06-09T16:25:38.824718",
     "exception": false,
     "start_time": "2023-06-09T16:25:33.032905",
     "status": "completed"
    },
    "tags": []
   },
   "outputs": [],
   "source": [
    "# Compute RGI7 - RGI6 overlaps\n",
    "overlaps_merged = overlaps_helpers.compute_cross_overlaps(odf_merged.geometry, odf_new.geometry)"
   ]
  },
  {
   "cell_type": "code",
   "execution_count": null,
   "id": "222eb0c1-fec6-432d-880f-98f2c2de82d9",
   "metadata": {
    "papermill": {
     "duration": 0.038011,
     "end_time": "2023-06-09T16:25:38.911611",
     "exception": false,
     "start_time": "2023-06-09T16:25:38.873600",
     "status": "completed"
    },
    "tags": []
   },
   "outputs": [],
   "source": [
    "assert len(overlaps_merged['i'].unique()) == len(odf_merged)\n",
    "assert overlaps_merged.j_area_fraction.min() > 0.999\n",
    "assert len(overlaps_merged) == len(odf_new)"
   ]
  },
  {
   "cell_type": "code",
   "execution_count": null,
   "id": "372c2f2a-f4c2-4ea5-bfaa-2145410c762d",
   "metadata": {
    "papermill": {
     "duration": 0.042304,
     "end_time": "2023-06-09T16:25:39.020498",
     "exception": false,
     "start_time": "2023-06-09T16:25:38.978194",
     "status": "completed"
    },
    "tags": []
   },
   "outputs": [],
   "source": [
    "overlaps_merged['i'] = odf_merged['rgi_id'].iloc[overlaps_merged['i']].values\n",
    "overlaps_merged['j'] = odf_new['rgi_id'].iloc[overlaps_merged['j']].values"
   ]
  },
  {
   "cell_type": "code",
   "execution_count": null,
   "id": "1188af95-eb21-4e39-987e-4981389c84b6",
   "metadata": {
    "papermill": {
     "duration": 0.803287,
     "end_time": "2023-06-09T16:25:39.877270",
     "exception": false,
     "start_time": "2023-06-09T16:25:39.073983",
     "status": "completed"
    },
    "tags": []
   },
   "outputs": [],
   "source": [
    "individual_ids_per_complex_dict = {}\n",
    "for cid in overlaps_merged['i'].sort_values().unique():\n",
    "    individual_ids_per_complex_dict[cid] = overlaps_merged.loc[overlaps_merged['i'] == cid]['j'].values.tolist()"
   ]
  },
  {
   "cell_type": "code",
   "execution_count": null,
   "id": "80cf7cdb-e734-4412-a74f-02477ab90f4a",
   "metadata": {
    "papermill": {
     "duration": 0.042102,
     "end_time": "2023-06-09T16:25:39.965746",
     "exception": false,
     "start_time": "2023-06-09T16:25:39.923644",
     "status": "completed"
    },
    "tags": []
   },
   "outputs": [],
   "source": [
    "# check that every individual glacier was assigned to one and only one complex\n",
    "assigned_ids = [i for sublist in list(individual_ids_per_complex_dict.values())\n",
    "                for i in sublist]\n",
    "assert len(assigned_ids) == len(odf_new.rgi_id)\n",
    "assert len(np.unique(assigned_ids)) == len(odf_new.rgi_id)"
   ]
  },
  {
   "cell_type": "markdown",
   "id": "1e9da820-bb63-44ba-9c9e-4b9bb43dc83d",
   "metadata": {
    "papermill": {
     "duration": 0.031979,
     "end_time": "2023-06-09T16:25:40.035895",
     "exception": false,
     "start_time": "2023-06-09T16:25:40.003916",
     "status": "completed"
    },
    "tags": []
   },
   "source": [
    "## Write out and tar "
   ]
  },
  {
   "cell_type": "code",
   "execution_count": null,
   "id": "a9f2ad69-a5e6-49ad-b2c3-7e928bbd2a29",
   "metadata": {
    "papermill": {
     "duration": 0.092676,
     "end_time": "2023-06-09T16:25:40.160751",
     "exception": false,
     "start_time": "2023-06-09T16:25:40.068075",
     "status": "completed"
    },
    "tags": []
   },
   "outputs": [],
   "source": [
    "reg_file = os.path.join(data_dir, '00_rgi70_regions', '00_rgi70_O1Regions')\n",
    "reg_file = gpd.read_file(reg_file)\n",
    "reg_file = reg_file.loc[reg_file.o1region == f'{reg:02d}'].iloc[0]"
   ]
  },
  {
   "cell_type": "markdown",
   "id": "e9a4fb9d-69c9-45af-8333-f5c71984a88e",
   "metadata": {
    "papermill": {
     "duration": 0.03227,
     "end_time": "2023-06-09T16:25:40.242146",
     "exception": false,
     "start_time": "2023-06-09T16:25:40.209876",
     "status": "completed"
    },
    "tags": []
   },
   "source": [
    "### Glacier product "
   ]
  },
  {
   "cell_type": "code",
   "execution_count": null,
   "id": "6280b37d-6683-4670-b499-181fa14b57e9",
   "metadata": {
    "papermill": {
     "duration": 3.43215,
     "end_time": "2023-06-09T16:25:43.706615",
     "exception": false,
     "start_time": "2023-06-09T16:25:40.274465",
     "status": "completed"
    },
    "tags": []
   },
   "outputs": [],
   "source": [
    "dd = mkdir(f'{output_dir}/RGI2000-v7.0-G-{reg_file.long_code}/', reset=True)\n",
    "\n",
    "print('Writing...')\n",
    "odf_new.to_file(dd + f'RGI2000-v7.0-G-{reg_file.long_code}.shp')\n",
    "odf_subm.to_csv(dd + f'RGI2000-v7.0-G-{reg_file.long_code}-submission_info.csv', quoting=csv.QUOTE_NONNUMERIC)\n",
    "odf_links.to_csv(dd + f'RGI2000-v7.0-G-{reg_file.long_code}-rgi6_links.csv', quoting=csv.QUOTE_NONNUMERIC)\n",
    "odf_new.drop('geometry', axis=1).set_index('rgi_id').to_csv(dd + f'RGI2000-v7.0-G-{reg_file.long_code}-attributes.csv', quoting=csv.QUOTE_NONNUMERIC)\n",
    "shutil.copyfile('../README_tpl.md', dd + f'README.md')\n",
    "shutil.copyfile('../rgi7_attributes_metadata.json', dd + f'RGI2000-v7.0-G-{reg_file.long_code}-attributes_metadata.json')\n",
    "shutil.copyfile('../rgi7_submission_info_metadata.json', dd + f'RGI2000-v7.0-G-{reg_file.long_code}-submission_info_metadata.json')\n",
    "\n",
    "print('Taring...')\n",
    "print(subprocess.run(['tar', '-zcvf', f'{output_dir_tar}/RGI2000-v7.0-G-{reg_file.long_code}.tar.gz', '-C', output_dir, f'RGI2000-v7.0-G-{reg_file.long_code}']))"
   ]
  },
  {
   "cell_type": "code",
   "execution_count": null,
   "id": "7667dbd4-fc48-445c-bee8-6156c82bfa3e",
   "metadata": {
    "papermill": {
     "duration": 0.041186,
     "end_time": "2023-06-09T16:25:43.798143",
     "exception": false,
     "start_time": "2023-06-09T16:25:43.756957",
     "status": "completed"
    },
    "tags": []
   },
   "outputs": [],
   "source": [
    "odf_new;"
   ]
  },
  {
   "cell_type": "code",
   "execution_count": null,
   "id": "1b64b5cc-046a-4d96-a3ce-d047d9e20a8b",
   "metadata": {
    "papermill": {
     "duration": 0.039293,
     "end_time": "2023-06-09T16:25:43.873469",
     "exception": false,
     "start_time": "2023-06-09T16:25:43.834176",
     "status": "completed"
    },
    "tags": []
   },
   "outputs": [],
   "source": [
    "import glob, os\n",
    "for f in glob.glob( f\"{output_dir_tar}/*.properties\"):\n",
    "    os.remove(f)"
   ]
  },
  {
   "cell_type": "markdown",
   "id": "1d5e52ee-a2d5-4e38-886c-2b224dd70842",
   "metadata": {
    "papermill": {
     "duration": 0.032987,
     "end_time": "2023-06-09T16:25:43.944423",
     "exception": false,
     "start_time": "2023-06-09T16:25:43.911436",
     "status": "completed"
    },
    "tags": []
   },
   "source": [
    "## Save intersects"
   ]
  },
  {
   "cell_type": "code",
   "execution_count": null,
   "id": "3a644f0c-8c42-4ea8-8030-38a830bc2c96",
   "metadata": {
    "papermill": {
     "duration": 0.985595,
     "end_time": "2023-06-09T16:25:44.962418",
     "exception": false,
     "start_time": "2023-06-09T16:25:43.976823",
     "status": "completed"
    },
    "tags": []
   },
   "outputs": [],
   "source": [
    "dd = mkdir(f'{output_dir}/RGI2000-v7.0-I-{reg_file.long_code}/', reset=True)\n",
    "\n",
    "print('Writing...')\n",
    "\n",
    "# save intersects\n",
    "odf_intersects.to_file(dd + f'RGI2000-v7.0-I-{reg_file.long_code}.shp')\n",
    "odf_intersects.drop('geometry', axis=1).set_index('rgi_id').to_csv(dd + f'RGI2000-v7.0-I-{reg_file.long_code}-attributes.csv', quoting=csv.QUOTE_NONNUMERIC)\n",
    "shutil.copyfile('../README_tpl.md', dd + f'README.md')\n",
    "shutil.copyfile('../rgi7_intersects_attributes_metadata.json', dd + f'RGI2000-v7.0-I-{reg_file.long_code}-attributes_metadata.json')\n",
    "\n",
    "print('Taring...')\n",
    "print(subprocess.run(['tar', '-zcvf', f'{output_dir_tar}/RGI2000-v7.0-I-{reg_file.long_code}.tar.gz', '-C', output_dir, f'RGI2000-v7.0-I-{reg_file.long_code}']))"
   ]
  },
  {
   "cell_type": "markdown",
   "id": "781404f6-97b5-45bb-8f5c-0627f9ce208c",
   "metadata": {
    "papermill": {
     "duration": 0.032458,
     "end_time": "2023-06-09T16:25:45.036775",
     "exception": false,
     "start_time": "2023-06-09T16:25:45.004317",
     "status": "completed"
    },
    "tags": []
   },
   "source": [
    "## Save glacier complex"
   ]
  },
  {
   "cell_type": "code",
   "execution_count": null,
   "id": "f0b7975a-d782-4279-99c1-882a9c8063a3",
   "metadata": {
    "papermill": {
     "duration": 3.168541,
     "end_time": "2023-06-09T16:25:48.237669",
     "exception": false,
     "start_time": "2023-06-09T16:25:45.069128",
     "status": "completed"
    },
    "tags": []
   },
   "outputs": [],
   "source": [
    "dd = mkdir(f'{output_dir}/RGI2000-v7.0-C-{reg_file.long_code}/', reset=True)\n",
    "\n",
    "print('Writing...')\n",
    "\n",
    "# save merged product with attribute table\n",
    "odf_merged.to_file(dd + f'RGI2000-v7.0-C-{reg_file.long_code}.shp')\n",
    "odf_merged.drop('geometry', axis=1).set_index('rgi_id').to_csv(dd + f'RGI2000-v7.0-C-{reg_file.long_code}-attributes.csv', quoting=csv.QUOTE_NONNUMERIC)\n",
    "shutil.copyfile('../README_tpl.md', dd + f'README.md')\n",
    "\n",
    "# save conversion list between G and C\n",
    "fp = dd + f'RGI2000-v7.0-C-{reg_file.long_code}-CtoG_links.json'\n",
    "with open(fp, 'w') as f:\n",
    "    json.dump(individual_ids_per_complex_dict, f, indent=2)\n",
    "shutil.copyfile('../rgi7_complex_attributes_metadata.json', dd + f'RGI2000-v7.0-C-{reg_file.long_code}-attributes_metadata.json')\n",
    "\n",
    "print('Taring...')\n",
    "print(subprocess.run(['tar', '-zcvf', f'{output_dir_tar}/RGI2000-v7.0-C-{reg_file.long_code}.tar.gz', '-C', output_dir, f'RGI2000-v7.0-C-{reg_file.long_code}']))"
   ]
  },
  {
   "cell_type": "code",
   "execution_count": null,
   "id": "fc5131f3-62dd-4645-97f2-5ced0c0359ee",
   "metadata": {
    "papermill": {
     "duration": 0.033082,
     "end_time": "2023-06-09T16:25:48.318129",
     "exception": false,
     "start_time": "2023-06-09T16:25:48.285047",
     "status": "completed"
    },
    "tags": []
   },
   "outputs": [],
   "source": []
  }
 ],
 "metadata": {
  "kernelspec": {
   "display_name": "Python 3 (ipykernel)",
   "language": "python",
   "name": "python3"
  },
  "language_info": {
   "codemirror_mode": {
    "name": "ipython",
    "version": 3
   },
   "file_extension": ".py",
   "mimetype": "text/x-python",
   "name": "python",
   "nbconvert_exporter": "python",
   "pygments_lexer": "ipython3",
   "version": "3.10.8"
  },
  "papermill": {
   "default_parameters": {},
   "duration": 55.56672,
   "end_time": "2023-06-09T16:25:48.967363",
   "environment_variables": {},
   "exception": null,
   "input_path": "alpha_to_beta_tpl.ipynb",
   "output_path": "alpha_to_beta_RGI07.ipynb",
   "parameters": {
    "reg": 7
   },
   "start_time": "2023-06-09T16:24:53.400643",
   "version": "2.3.4"
  }
 },
 "nbformat": 4,
 "nbformat_minor": 5
}
