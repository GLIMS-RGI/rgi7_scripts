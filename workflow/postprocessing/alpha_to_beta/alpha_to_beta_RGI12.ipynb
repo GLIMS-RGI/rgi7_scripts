{
 "cells": [
  {
   "cell_type": "code",
   "execution_count": null,
   "id": "46adc67a-c914-4b66-a3de-aed2506fb298",
   "metadata": {
    "papermill": {
     "duration": 0.424584,
     "end_time": "2023-03-25T14:54:24.240763",
     "exception": false,
     "start_time": "2023-03-25T14:54:23.816179",
     "status": "completed"
    },
    "tags": []
   },
   "outputs": [],
   "source": [
    "import pandas as pd\n",
    "import geopandas as gpd\n",
    "import subprocess\n",
    "import numpy as np\n",
    "import shapely.geometry as shpg\n",
    "import os\n",
    "import sys\n",
    "import csv\n",
    "import json\n",
    "import logging\n",
    "import shutil"
   ]
  },
  {
   "cell_type": "code",
   "execution_count": null,
   "id": "bad5729c-29eb-4fb6-80cf-b7d279f0343a",
   "metadata": {
    "papermill": {
     "duration": 0.01537,
     "end_time": "2023-03-25T14:54:24.267222",
     "exception": false,
     "start_time": "2023-03-25T14:54:24.251852",
     "status": "completed"
    },
    "tags": []
   },
   "outputs": [],
   "source": [
    "import warnings\n",
    "warnings.filterwarnings('ignore', category=FutureWarning)"
   ]
  },
  {
   "cell_type": "code",
   "execution_count": null,
   "id": "c62aa692-c347-4e74-bc0f-c0cdc9da4669",
   "metadata": {
    "papermill": {
     "duration": 1.822894,
     "end_time": "2023-03-25T14:54:26.095277",
     "exception": false,
     "start_time": "2023-03-25T14:54:24.272383",
     "status": "completed"
    },
    "tags": []
   },
   "outputs": [],
   "source": [
    "sys.path.append(os.getcwd() + '/../..')\n",
    "from utils import mkdir, open_zip_shapefile, open_tar_shapefile, haversine"
   ]
  },
  {
   "cell_type": "code",
   "execution_count": null,
   "id": "7c601bdf-1db0-429e-bb22-479f14ffe496",
   "metadata": {
    "papermill": {
     "duration": 0.016023,
     "end_time": "2023-03-25T14:54:26.124963",
     "exception": false,
     "start_time": "2023-03-25T14:54:26.108940",
     "status": "completed"
    },
    "tags": []
   },
   "outputs": [],
   "source": [
    "log = logging.getLogger('papermill')\n",
    "logging.basicConfig(level='INFO', format=\"%(message)s\")"
   ]
  },
  {
   "cell_type": "markdown",
   "id": "8487f7be-608e-44f1-88ec-671465325a11",
   "metadata": {
    "papermill": {
     "duration": 0.004397,
     "end_time": "2023-03-25T14:54:26.134286",
     "exception": false,
     "start_time": "2023-03-25T14:54:26.129889",
     "status": "completed"
    },
    "tags": []
   },
   "source": [
    "## Files and storage paths"
   ]
  },
  {
   "cell_type": "code",
   "execution_count": null,
   "id": "1c753f79-c5b6-49f0-b6ba-bfe40fd7eac3",
   "metadata": {
    "papermill": {
     "duration": 0.013967,
     "end_time": "2023-03-25T14:54:26.154588",
     "exception": false,
     "start_time": "2023-03-25T14:54:26.140621",
     "status": "completed"
    },
    "tags": [
     "parameters"
    ]
   },
   "outputs": [],
   "source": [
    "# Region of interest\n",
    "reg = 1\n",
    "\n",
    "# go down from rgi7_scripts/workflow\n",
    "data_dir = '../../../../rgi7_data/'\n",
    "\n",
    "# Input dirctory\n",
    "input_dir = os.path.join(data_dir, 'l3_rgi7a_tar')\n",
    "\n",
    "# Output directories\n",
    "output_dir = mkdir(os.path.join(data_dir, 'l4_rgi7b0'))\n",
    "output_dir_tar = mkdir(os.path.join(data_dir, 'l4_rgi7b0_tar'))"
   ]
  },
  {
   "cell_type": "code",
   "execution_count": null,
   "id": "2b0ec89c",
   "metadata": {
    "papermill": {
     "duration": 0.012081,
     "end_time": "2023-03-25T14:54:26.173391",
     "exception": false,
     "start_time": "2023-03-25T14:54:26.161310",
     "status": "completed"
    },
    "tags": [
     "injected-parameters"
    ]
   },
   "outputs": [],
   "source": [
    "# Parameters\n",
    "reg = 12\n"
   ]
  },
  {
   "cell_type": "markdown",
   "id": "f2d31af4-b2b2-4dc9-b286-be594f2feb7e",
   "metadata": {
    "papermill": {
     "duration": 0.005779,
     "end_time": "2023-03-25T14:54:26.185421",
     "exception": false,
     "start_time": "2023-03-25T14:54:26.179642",
     "status": "completed"
    },
    "tags": []
   },
   "source": [
    "### Load the input data"
   ]
  },
  {
   "cell_type": "code",
   "execution_count": null,
   "id": "caab54b7-92c0-45fa-a943-25225b119001",
   "metadata": {
    "papermill": {
     "duration": 0.552375,
     "end_time": "2023-03-25T14:54:26.744285",
     "exception": false,
     "start_time": "2023-03-25T14:54:26.191910",
     "status": "completed"
    },
    "tags": []
   },
   "outputs": [],
   "source": [
    "# Read files\n",
    "shp = open_tar_shapefile(input_dir + f'/RGI{reg:02d}.tar.gz')"
   ]
  },
  {
   "cell_type": "code",
   "execution_count": null,
   "id": "77cf5415-997a-4aab-be08-726242a61228",
   "metadata": {
    "papermill": {
     "duration": 0.031469,
     "end_time": "2023-03-25T14:54:26.787624",
     "exception": false,
     "start_time": "2023-03-25T14:54:26.756155",
     "status": "completed"
    },
    "tags": []
   },
   "outputs": [],
   "source": [
    "orig_attrs = pd.DataFrame(shp.drop('geometry', axis=1))\n",
    "orig_attrs.T;"
   ]
  },
  {
   "cell_type": "code",
   "execution_count": null,
   "id": "e1b92b0a-3767-455a-8884-4666b0cf504a",
   "metadata": {
    "papermill": {
     "duration": 0.015416,
     "end_time": "2023-03-25T14:54:26.813215",
     "exception": false,
     "start_time": "2023-03-25T14:54:26.797799",
     "status": "completed"
    },
    "tags": []
   },
   "outputs": [],
   "source": [
    "if 'conn_lvl' not in shp:\n",
    "    print('Add conn_lvl')\n",
    "    shp['conn_lvl'] = 0"
   ]
  },
  {
   "cell_type": "code",
   "execution_count": null,
   "id": "e09e91a0-6561-4cd7-907a-60aeb23e545f",
   "metadata": {
    "papermill": {
     "duration": 0.014871,
     "end_time": "2023-03-25T14:54:26.834545",
     "exception": false,
     "start_time": "2023-03-25T14:54:26.819674",
     "status": "completed"
    },
    "tags": []
   },
   "outputs": [],
   "source": [
    "odf = shp.copy()"
   ]
  },
  {
   "cell_type": "code",
   "execution_count": null,
   "id": "17837ca6-2d55-4ae7-af15-4b572f2eefbf",
   "metadata": {
    "papermill": {
     "duration": 0.015881,
     "end_time": "2023-03-25T14:54:26.856920",
     "exception": false,
     "start_time": "2023-03-25T14:54:26.841039",
     "status": "completed"
    },
    "tags": []
   },
   "outputs": [],
   "source": [
    "rename = {'area':'area_km2', 'CenLon': 'cenlon', 'CenLat': 'cenlat', 'glac_id':'glims_id'}\n",
    "odf = odf.rename(rename, axis=1)"
   ]
  },
  {
   "cell_type": "markdown",
   "id": "c2895b31-0bb5-4192-a158-c6ff07abd1ba",
   "metadata": {
    "papermill": {
     "duration": 0.009143,
     "end_time": "2023-03-25T14:54:26.908669",
     "exception": false,
     "start_time": "2023-03-25T14:54:26.899526",
     "status": "completed"
    },
    "tags": []
   },
   "source": [
    "Recompute area and center point to be sure:"
   ]
  },
  {
   "cell_type": "code",
   "execution_count": null,
   "id": "b54183cb-e0e5-4e82-942d-dbde26f1e7a3",
   "metadata": {
    "papermill": {
     "duration": 0.148447,
     "end_time": "2023-03-25T14:54:27.066762",
     "exception": false,
     "start_time": "2023-03-25T14:54:26.918315",
     "status": "completed"
    },
    "tags": []
   },
   "outputs": [],
   "source": [
    "def xy_coord(geom):\n",
    "    x, y = geom.xy\n",
    "    return x[0], y[0]\n",
    "\n",
    "rp = odf.representative_point()\n",
    "\n",
    "coordinates = np.array(list(rp.apply(xy_coord)))\n",
    "odf['cenlon'] = coordinates[:, 0]\n",
    "odf['cenlat'] = coordinates[:, 1]\n",
    "\n",
    "odf['area_km2'] = odf.to_crs({'proj':'cea'}).area * 1e-6"
   ]
  },
  {
   "cell_type": "code",
   "execution_count": null,
   "id": "14dff652-d75c-4702-90d0-8e2462577487",
   "metadata": {
    "papermill": {
     "duration": 0.017589,
     "end_time": "2023-03-25T14:54:27.145879",
     "exception": false,
     "start_time": "2023-03-25T14:54:27.128290",
     "status": "completed"
    },
    "tags": []
   },
   "outputs": [],
   "source": [
    "odf['glac_name'] = odf['glac_name'].where(odf['glac_name'] != 'None', '')"
   ]
  },
  {
   "cell_type": "markdown",
   "id": "8d88df3a-a0da-41aa-80a2-6ee799789b25",
   "metadata": {
    "papermill": {
     "duration": 0.005908,
     "end_time": "2023-03-25T14:54:27.158444",
     "exception": false,
     "start_time": "2023-03-25T14:54:27.152536",
     "status": "completed"
    },
    "tags": []
   },
   "source": [
    "## Metadata "
   ]
  },
  {
   "cell_type": "code",
   "execution_count": null,
   "id": "3da9f86f-42fa-4ae4-b5f5-bbc2708d7f80",
   "metadata": {
    "papermill": {
     "duration": 0.013589,
     "end_time": "2023-03-25T14:54:27.178839",
     "exception": false,
     "start_time": "2023-03-25T14:54:27.165250",
     "status": "completed"
    },
    "tags": []
   },
   "outputs": [],
   "source": [
    "with open('../rgi7_attributes_metadata.json', 'r') as infile:\n",
    "    meta = json.load(infile)"
   ]
  },
  {
   "cell_type": "code",
   "execution_count": null,
   "id": "6efe0d1f-3125-4062-b9c4-2d9717db2e98",
   "metadata": {
    "papermill": {
     "duration": 0.029725,
     "end_time": "2023-03-25T14:54:27.215688",
     "exception": false,
     "start_time": "2023-03-25T14:54:27.185963",
     "status": "completed"
    },
    "tags": []
   },
   "outputs": [],
   "source": [
    "odf_new = odf[[]].copy().reset_index(drop=True)\n",
    "\n",
    "for col, attrs in meta.items():\n",
    "    if col not in odf:\n",
    "        if attrs['datatype'] == 'str':\n",
    "            odf_new[col] = ''\n",
    "        elif attrs['datatype'] == 'float':\n",
    "            odf_new[col] = np.NaN\n",
    "        elif attrs['datatype'] == 'int':\n",
    "            odf_new[col] = -999 \n",
    "    else: \n",
    "        if attrs['datatype']:\n",
    "            odf_new[col] = odf[col].astype(attrs['datatype'])\n",
    "        else: \n",
    "            odf_new[col] = odf[col]"
   ]
  },
  {
   "cell_type": "code",
   "execution_count": null,
   "id": "19f7932c-0795-487e-89d3-f72c20eeb1c4",
   "metadata": {
    "papermill": {
     "duration": 0.020852,
     "end_time": "2023-03-25T14:54:27.249251",
     "exception": false,
     "start_time": "2023-03-25T14:54:27.228399",
     "status": "completed"
    },
    "tags": []
   },
   "outputs": [],
   "source": [
    "odf_new = gpd.GeoDataFrame(odf_new)\n",
    "odf_new.crs = odf.crs\n",
    "odf_new = odf_new.reset_index(drop=True)\n",
    "odf_new.iloc[:1].T;"
   ]
  },
  {
   "cell_type": "markdown",
   "id": "450e8521-6572-474c-afe5-0989eb843536",
   "metadata": {
    "papermill": {
     "duration": 0.006148,
     "end_time": "2023-03-25T14:54:27.263426",
     "exception": false,
     "start_time": "2023-03-25T14:54:27.257278",
     "status": "completed"
    },
    "tags": []
   },
   "source": [
    "## Regions, subregions and RGI IDs"
   ]
  },
  {
   "cell_type": "code",
   "execution_count": null,
   "id": "544c32b7-a630-4f2b-a82d-5a2372ad527d",
   "metadata": {
    "papermill": {
     "duration": 0.012833,
     "end_time": "2023-03-25T14:54:27.282777",
     "exception": false,
     "start_time": "2023-03-25T14:54:27.269944",
     "status": "completed"
    },
    "tags": []
   },
   "outputs": [],
   "source": [
    "odf_new['o1region'] = f'{reg:02d}'"
   ]
  },
  {
   "cell_type": "code",
   "execution_count": null,
   "id": "21cc6a76-449e-41be-9f83-76f94e0aaede",
   "metadata": {
    "papermill": {
     "duration": 0.084104,
     "end_time": "2023-03-25T14:54:27.373541",
     "exception": false,
     "start_time": "2023-03-25T14:54:27.289437",
     "status": "completed"
    },
    "tags": []
   },
   "outputs": [],
   "source": [
    "sreg_file = os.path.join(data_dir, '00_rgi70_regions', '00_rgi70_O2Regions')\n",
    "sreg = gpd.read_file(sreg_file)\n",
    "sreg = sreg.loc[sreg.o1region == f'{reg:02d}']\n",
    "sreg;"
   ]
  },
  {
   "cell_type": "code",
   "execution_count": null,
   "id": "29782e31-7feb-46f1-8398-16296d7dc5ee",
   "metadata": {
    "papermill": {
     "duration": 0.304026,
     "end_time": "2023-03-25T14:54:27.690764",
     "exception": false,
     "start_time": "2023-03-25T14:54:27.386738",
     "status": "completed"
    },
    "tags": []
   },
   "outputs": [],
   "source": [
    "baseid = f'RGI2000-v7.0-G-{reg:02d}-'\n",
    "count = 0\n",
    "\n",
    "rp = odf_new.representative_point()\n",
    "rp = rp.to_frame('geometry')\n",
    "rp['orig_index'] = odf_new.index\n",
    "\n",
    "total = 0\n",
    "\n",
    "for i, s in sreg.iterrows():\n",
    "    \n",
    "    intersect = gpd.overlay(rp, sreg.loc[[i]], how='intersection')\n",
    "    odf_sreg = odf_new.loc[intersect['orig_index']].copy()\n",
    "    odf_sreg['o2region'] = s['o2region']\n",
    "    \n",
    "    total += len(odf_sreg)\n",
    "    \n",
    "    if len(odf_sreg) == 0:\n",
    "        # 19-05 Ross Ice Shelf one of them\n",
    "        continue\n",
    "    \n",
    "    # Ids generation\n",
    "    # Left most point and we start from there\n",
    "    slon, slat = odf_sreg.loc[odf_sreg.cenlon == odf_sreg.cenlon.min()][['cenlon', 'cenlat']].iloc[0].values\n",
    "    \n",
    "    todo = odf_sreg.index.values\n",
    "    todo_lon = odf_sreg['cenlon'].values\n",
    "    todo_lat = odf_sreg['cenlat'].values\n",
    "    ids = []\n",
    "    while len(todo) > 0:\n",
    "        dis = haversine(slon, slat, todo_lon, todo_lat)\n",
    "        idm = np.argmin(dis)\n",
    "        ids.append(todo[idm])\n",
    "        slon, slat = todo_lon[idm], todo_lat[idm]\n",
    "        todo = np.delete(todo, idm)\n",
    "        todo_lon = np.delete(todo_lon, idm)\n",
    "        todo_lat = np.delete(todo_lat, idm)\n",
    "    \n",
    "    assert len(ids) == len(odf_sreg)\n",
    "    odf_sreg = odf_sreg.loc[ids].copy()\n",
    "    \n",
    "    odf_sreg['rgi_id'] = [baseid + f'{l+count:05d}' for l in range(len(odf_sreg))]\n",
    "    count += len(odf_sreg)\n",
    "    odf_new.loc[odf_sreg.index, 'rgi_id'] = odf_sreg['rgi_id']\n",
    "    odf_new.loc[odf_sreg.index, 'o2region'] = odf_sreg['o2region']\n",
    "    \n",
    "odf_new = odf_new.sort_values(by='rgi_id').reset_index(drop=True)\n",
    "\n",
    "assert odf_new['o2region'].isnull().sum() == 0\n",
    "assert int(odf_new.iloc[-1]['rgi_id'].split('-')[-1]) == odf_new.iloc[-1].name\n",
    "if len(odf_new['o2region'].unique()) != len(sreg):\n",
    "    log.warning(f'RGI{reg:02d}: some subregions have NO glaciers in them')\n",
    "else:\n",
    "    log.info(f'RGI{reg:02d}: all subregions have glaciers in them')\n",
    "assert len(odf_new) == len(odf)"
   ]
  },
  {
   "cell_type": "code",
   "execution_count": null,
   "id": "567e0186-4fa8-448b-83e3-f900ea245a4e",
   "metadata": {
    "papermill": {
     "duration": 0.017413,
     "end_time": "2023-03-25T14:54:27.719835",
     "exception": false,
     "start_time": "2023-03-25T14:54:27.702422",
     "status": "completed"
    },
    "tags": []
   },
   "outputs": [],
   "source": [
    "odf_new.iloc[:1].T;"
   ]
  },
  {
   "cell_type": "markdown",
   "id": "ad528b70-acfd-47db-99f3-3e123373516a",
   "metadata": {
    "papermill": {
     "duration": 0.004776,
     "end_time": "2023-03-25T14:54:27.730213",
     "exception": false,
     "start_time": "2023-03-25T14:54:27.725437",
     "status": "completed"
    },
    "tags": []
   },
   "source": [
    "## Submission metadata"
   ]
  },
  {
   "cell_type": "code",
   "execution_count": null,
   "id": "470e8c16-42eb-443f-a176-c767ee7c3722",
   "metadata": {
    "papermill": {
     "duration": 0.014937,
     "end_time": "2023-03-25T14:54:27.751646",
     "exception": false,
     "start_time": "2023-03-25T14:54:27.736709",
     "status": "completed"
    },
    "tags": []
   },
   "outputs": [],
   "source": [
    "with open('../rgi7_submission_info_metadata.json', 'r') as infile:\n",
    "    meta_sub = json.load(infile)"
   ]
  },
  {
   "cell_type": "code",
   "execution_count": null,
   "id": "00c9d8ae-9743-4540-a5f4-50e44c0da289",
   "metadata": {
    "papermill": {
     "duration": 0.039226,
     "end_time": "2023-03-25T14:54:27.799479",
     "exception": false,
     "start_time": "2023-03-25T14:54:27.760253",
     "status": "completed"
    },
    "tags": []
   },
   "outputs": [],
   "source": [
    "subm_id = orig_attrs['subm_id'].unique()\n",
    "odf_subm = pd.DataFrame()\n",
    "for sid in subm_id:\n",
    "    sel = orig_attrs.loc[orig_attrs['subm_id'] == sid]\n",
    "    for k in meta_sub.keys():\n",
    "        if k == 'subm_id':\n",
    "            continue\n",
    "        attrs = meta_sub[k]\n",
    "        if k not in sel:\n",
    "            if attrs['datatype'] == 'str':\n",
    "                odf_subm.loc[int(sid), k] = ''\n",
    "            elif attrs['datatype'] == 'float':\n",
    "                odf_subm.loc[int(sid), k] = np.NaN\n",
    "            elif attrs['datatype'] == 'int':\n",
    "                odf_subm.loc[int(sid), k] = -999\n",
    "        else: \n",
    "            assert len(sel[k].unique()==1), f'{k} has non unique values'\n",
    "            if attrs['datatype']:\n",
    "                data = sel[k].astype(attrs['datatype']).iloc[0]\n",
    "            else: \n",
    "                data = sel[k].iloc[0]\n",
    "                \n",
    "            if attrs['datatype'] == 'str':\n",
    "                # Clean\n",
    "                data = data.strip().lstrip(';').strip()\n",
    "                \n",
    "            odf_subm.loc[int(sid), k] = data\n",
    "            \n",
    "    odf_subm.loc[int(sid), 'n_outlines'] = len(sel)\n",
    "    odf_subm.loc[int(sid), 'area_km2'] = sel['area'].sum() * 1e-6\n",
    "        \n",
    "odf_subm.index.name = 'subm_id' \n",
    "odf_subm['n_outlines'] = odf_subm['n_outlines'].astype(int)\n",
    "odf_subm['rc_id'] = odf_subm['rc_id'].astype(int)\n",
    "odf_subm = odf_subm.sort_index()\n",
    "odf_subm;"
   ]
  },
  {
   "cell_type": "markdown",
   "id": "1e9da820-bb63-44ba-9c9e-4b9bb43dc83d",
   "metadata": {
    "papermill": {
     "duration": 0.009651,
     "end_time": "2023-03-25T14:54:27.821122",
     "exception": false,
     "start_time": "2023-03-25T14:54:27.811471",
     "status": "completed"
    },
    "tags": []
   },
   "source": [
    "## Write out and tar "
   ]
  },
  {
   "cell_type": "code",
   "execution_count": null,
   "id": "a9f2ad69-a5e6-49ad-b2c3-7e928bbd2a29",
   "metadata": {
    "papermill": {
     "duration": 0.046546,
     "end_time": "2023-03-25T14:54:27.873307",
     "exception": false,
     "start_time": "2023-03-25T14:54:27.826761",
     "status": "completed"
    },
    "tags": []
   },
   "outputs": [],
   "source": [
    "reg_file = os.path.join(data_dir, '00_rgi70_regions', '00_rgi70_O1Regions')\n",
    "reg_file = gpd.read_file(reg_file)\n",
    "reg_file = reg_file.loc[reg_file.o1region == f'{reg:02d}'].iloc[0]"
   ]
  },
  {
   "cell_type": "code",
   "execution_count": null,
   "id": "6280b37d-6683-4670-b499-181fa14b57e9",
   "metadata": {
    "papermill": {
     "duration": 2.990602,
     "end_time": "2023-03-25T14:54:30.876232",
     "exception": false,
     "start_time": "2023-03-25T14:54:27.885630",
     "status": "completed"
    },
    "tags": []
   },
   "outputs": [],
   "source": [
    "dd = mkdir(f'{output_dir}/RGI2000-v7.0-G-{reg_file.long_code}/', reset=True)\n",
    "\n",
    "print('Writing...')\n",
    "odf_new.to_file(dd + f'RGI2000-v7.0-G-{reg_file.long_code}.shp')\n",
    "odf_subm.to_csv(dd + f'RGI2000-v7.0-G-{reg_file.long_code}_subm_info.csv', quoting=csv.QUOTE_NONNUMERIC)\n",
    "odf_new.drop('geometry', axis=1).set_index('rgi_id').to_csv(dd + f'RGI2000-v7.0-G-{reg_file.long_code}_attributes.csv', quoting=csv.QUOTE_NONNUMERIC)\n",
    "shutil.copyfile('../README_tpl.md', dd + f'README.md')\n",
    "\n",
    "print('Taring...')\n",
    "print(subprocess.run(['tar', '-zcvf', f'{output_dir_tar}/RGI2000-v7.0-G-{reg_file.long_code}.tar.gz', '-C', output_dir, f'RGI2000-v7.0-G-{reg_file.long_code}']))"
   ]
  },
  {
   "cell_type": "code",
   "execution_count": null,
   "id": "7667dbd4-fc48-445c-bee8-6156c82bfa3e",
   "metadata": {
    "papermill": {
     "duration": 0.01798,
     "end_time": "2023-03-25T14:54:30.906228",
     "exception": false,
     "start_time": "2023-03-25T14:54:30.888248",
     "status": "completed"
    },
    "tags": []
   },
   "outputs": [],
   "source": [
    "odf_new;"
   ]
  },
  {
   "cell_type": "code",
   "execution_count": null,
   "id": "1b64b5cc-046a-4d96-a3ce-d047d9e20a8b",
   "metadata": {
    "papermill": {
     "duration": 0.012236,
     "end_time": "2023-03-25T14:54:30.924150",
     "exception": false,
     "start_time": "2023-03-25T14:54:30.911914",
     "status": "completed"
    },
    "tags": []
   },
   "outputs": [],
   "source": [
    "import glob, os\n",
    "for f in glob.glob( f\"{output_dir_tar}/*.properties\"):\n",
    "    os.remove(f)"
   ]
  },
  {
   "cell_type": "markdown",
   "id": "7bd3a216-a8bf-4eb7-a485-7c38fc18066c",
   "metadata": {
    "papermill": {
     "duration": 0.006767,
     "end_time": "2023-03-25T14:54:30.939552",
     "exception": false,
     "start_time": "2023-03-25T14:54:30.932785",
     "status": "completed"
    },
    "tags": []
   },
   "source": [
    "## Merged product "
   ]
  },
  {
   "cell_type": "code",
   "execution_count": null,
   "id": "63ba1a72-5dd3-445c-8e0e-5566a2e09085",
   "metadata": {
    "papermill": {
     "duration": 0.013134,
     "end_time": "2023-03-25T14:54:30.959738",
     "exception": false,
     "start_time": "2023-03-25T14:54:30.946604",
     "status": "completed"
    },
    "tags": []
   },
   "outputs": [],
   "source": [
    "# TODO"
   ]
  },
  {
   "cell_type": "code",
   "execution_count": null,
   "id": "61851dc4-fab3-4119-902d-c325ee09c182",
   "metadata": {
    "papermill": {
     "duration": 0.006611,
     "end_time": "2023-03-25T14:54:30.973714",
     "exception": false,
     "start_time": "2023-03-25T14:54:30.967103",
     "status": "completed"
    },
    "tags": []
   },
   "outputs": [],
   "source": []
  }
 ],
 "metadata": {
  "kernelspec": {
   "display_name": "Python 3 (ipykernel)",
   "language": "python",
   "name": "python3"
  },
  "language_info": {
   "codemirror_mode": {
    "name": "ipython",
    "version": 3
   },
   "file_extension": ".py",
   "mimetype": "text/x-python",
   "name": "python",
   "nbconvert_exporter": "python",
   "pygments_lexer": "ipython3",
   "version": "3.10.8"
  },
  "papermill": {
   "default_parameters": {},
   "duration": 8.731375,
   "end_time": "2023-03-25T14:54:31.500270",
   "environment_variables": {},
   "exception": null,
   "input_path": "alpha_to_beta_tpl.ipynb",
   "output_path": "alpha_to_beta_RGI12.ipynb",
   "parameters": {
    "reg": 12
   },
   "start_time": "2023-03-25T14:54:22.768895",
   "version": "2.3.4"
  }
 },
 "nbformat": 4,
 "nbformat_minor": 5
}
