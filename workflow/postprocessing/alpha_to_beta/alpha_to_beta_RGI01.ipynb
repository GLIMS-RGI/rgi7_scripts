{
 "cells": [
  {
   "cell_type": "code",
   "execution_count": 1,
   "id": "46adc67a-c914-4b66-a3de-aed2506fb298",
   "metadata": {
    "execution": {
     "iopub.execute_input": "2023-02-12T08:18:12.290050Z",
     "iopub.status.busy": "2023-02-12T08:18:12.289228Z",
     "iopub.status.idle": "2023-02-12T08:18:12.891761Z",
     "shell.execute_reply": "2023-02-12T08:18:12.890835Z"
    },
    "papermill": {
     "duration": 0.616113,
     "end_time": "2023-02-12T08:18:12.894499",
     "exception": false,
     "start_time": "2023-02-12T08:18:12.278386",
     "status": "completed"
    },
    "tags": []
   },
   "outputs": [],
   "source": [
    "import pandas as pd\n",
    "import geopandas as gpd\n",
    "import subprocess\n",
    "import numpy as np\n",
    "import shapely.geometry as shpg\n",
    "import os\n",
    "import sys\n",
    "import csv\n",
    "import json\n",
    "import logging\n",
    "import shutil"
   ]
  },
  {
   "cell_type": "code",
   "execution_count": 2,
   "id": "bad5729c-29eb-4fb6-80cf-b7d279f0343a",
   "metadata": {
    "execution": {
     "iopub.execute_input": "2023-02-12T08:18:12.917071Z",
     "iopub.status.busy": "2023-02-12T08:18:12.916645Z",
     "iopub.status.idle": "2023-02-12T08:18:12.921431Z",
     "shell.execute_reply": "2023-02-12T08:18:12.920517Z"
    },
    "papermill": {
     "duration": 0.017148,
     "end_time": "2023-02-12T08:18:12.923718",
     "exception": false,
     "start_time": "2023-02-12T08:18:12.906570",
     "status": "completed"
    },
    "tags": []
   },
   "outputs": [],
   "source": [
    "import warnings\n",
    "warnings.filterwarnings('ignore', category=FutureWarning)"
   ]
  },
  {
   "cell_type": "code",
   "execution_count": 3,
   "id": "c62aa692-c347-4e74-bc0f-c0cdc9da4669",
   "metadata": {
    "execution": {
     "iopub.execute_input": "2023-02-12T08:18:12.943771Z",
     "iopub.status.busy": "2023-02-12T08:18:12.943099Z",
     "iopub.status.idle": "2023-02-12T08:18:15.006099Z",
     "shell.execute_reply": "2023-02-12T08:18:15.005187Z"
    },
    "papermill": {
     "duration": 2.075316,
     "end_time": "2023-02-12T08:18:15.008475",
     "exception": false,
     "start_time": "2023-02-12T08:18:12.933159",
     "status": "completed"
    },
    "tags": []
   },
   "outputs": [],
   "source": [
    "sys.path.append(os.getcwd() + '/../..')\n",
    "from utils import mkdir, open_zip_shapefile, open_tar_shapefile, haversine"
   ]
  },
  {
   "cell_type": "code",
   "execution_count": 4,
   "id": "7c601bdf-1db0-429e-bb22-479f14ffe496",
   "metadata": {
    "execution": {
     "iopub.execute_input": "2023-02-12T08:18:15.030171Z",
     "iopub.status.busy": "2023-02-12T08:18:15.029655Z",
     "iopub.status.idle": "2023-02-12T08:18:15.035031Z",
     "shell.execute_reply": "2023-02-12T08:18:15.034166Z"
    },
    "papermill": {
     "duration": 0.016438,
     "end_time": "2023-02-12T08:18:15.036309",
     "exception": false,
     "start_time": "2023-02-12T08:18:15.019871",
     "status": "completed"
    },
    "tags": []
   },
   "outputs": [],
   "source": [
    "log = logging.getLogger('papermill')\n",
    "logging.basicConfig(level='INFO', format=\"%(message)s\")"
   ]
  },
  {
   "cell_type": "markdown",
   "id": "8487f7be-608e-44f1-88ec-671465325a11",
   "metadata": {
    "papermill": {
     "duration": 0.004297,
     "end_time": "2023-02-12T08:18:15.045613",
     "exception": false,
     "start_time": "2023-02-12T08:18:15.041316",
     "status": "completed"
    },
    "tags": []
   },
   "source": [
    "## Files and storage paths"
   ]
  },
  {
   "cell_type": "code",
   "execution_count": 5,
   "id": "1c753f79-c5b6-49f0-b6ba-bfe40fd7eac3",
   "metadata": {
    "execution": {
     "iopub.execute_input": "2023-02-12T08:18:15.057374Z",
     "iopub.status.busy": "2023-02-12T08:18:15.057070Z",
     "iopub.status.idle": "2023-02-12T08:18:15.062999Z",
     "shell.execute_reply": "2023-02-12T08:18:15.062065Z"
    },
    "papermill": {
     "duration": 0.014118,
     "end_time": "2023-02-12T08:18:15.064553",
     "exception": false,
     "start_time": "2023-02-12T08:18:15.050435",
     "status": "completed"
    },
    "tags": [
     "parameters"
    ]
   },
   "outputs": [],
   "source": [
    "# Region of interest\n",
    "reg = 1\n",
    "\n",
    "# go down from rgi7_scripts/workflow\n",
    "data_dir = '../../../../rgi7_data/'\n",
    "\n",
    "# Input dirctory\n",
    "input_dir = os.path.join(data_dir, 'l3_rgi7a_tar')\n",
    "\n",
    "# Output directories\n",
    "output_dir = mkdir(os.path.join(data_dir, 'l4_rgi7b0'))\n",
    "output_dir_tar = mkdir(os.path.join(data_dir, 'l4_rgi7b0_tar'))"
   ]
  },
  {
   "cell_type": "code",
   "execution_count": 6,
   "id": "9c9403a2",
   "metadata": {
    "execution": {
     "iopub.execute_input": "2023-02-12T08:18:15.077864Z",
     "iopub.status.busy": "2023-02-12T08:18:15.077452Z",
     "iopub.status.idle": "2023-02-12T08:18:15.081453Z",
     "shell.execute_reply": "2023-02-12T08:18:15.080616Z"
    },
    "papermill": {
     "duration": 0.012053,
     "end_time": "2023-02-12T08:18:15.082964",
     "exception": false,
     "start_time": "2023-02-12T08:18:15.070911",
     "status": "completed"
    },
    "tags": [
     "injected-parameters"
    ]
   },
   "outputs": [],
   "source": [
    "# Parameters\n",
    "reg = 1\n"
   ]
  },
  {
   "cell_type": "markdown",
   "id": "f2d31af4-b2b2-4dc9-b286-be594f2feb7e",
   "metadata": {
    "papermill": {
     "duration": 0.00574,
     "end_time": "2023-02-12T08:18:15.094909",
     "exception": false,
     "start_time": "2023-02-12T08:18:15.089169",
     "status": "completed"
    },
    "tags": []
   },
   "source": [
    "### Load the input data"
   ]
  },
  {
   "cell_type": "code",
   "execution_count": 7,
   "id": "caab54b7-92c0-45fa-a943-25225b119001",
   "metadata": {
    "execution": {
     "iopub.execute_input": "2023-02-12T08:18:15.108957Z",
     "iopub.status.busy": "2023-02-12T08:18:15.108148Z",
     "iopub.status.idle": "2023-02-12T08:18:23.951651Z",
     "shell.execute_reply": "2023-02-12T08:18:23.950741Z"
    },
    "papermill": {
     "duration": 8.852652,
     "end_time": "2023-02-12T08:18:23.954139",
     "exception": false,
     "start_time": "2023-02-12T08:18:15.101487",
     "status": "completed"
    },
    "tags": []
   },
   "outputs": [
    {
     "name": "stderr",
     "output_type": "stream",
     "text": [
      "VSIFSeekL(xxx, SEEK_END) may be really slow on GZip streams.\n"
     ]
    }
   ],
   "source": [
    "# Read files\n",
    "shp = open_tar_shapefile(input_dir + f'/RGI{reg:02d}.tar.gz')"
   ]
  },
  {
   "cell_type": "code",
   "execution_count": 8,
   "id": "77cf5415-997a-4aab-be08-726242a61228",
   "metadata": {
    "execution": {
     "iopub.execute_input": "2023-02-12T08:18:23.977485Z",
     "iopub.status.busy": "2023-02-12T08:18:23.977176Z",
     "iopub.status.idle": "2023-02-12T08:18:24.082491Z",
     "shell.execute_reply": "2023-02-12T08:18:24.081581Z"
    },
    "papermill": {
     "duration": 0.117987,
     "end_time": "2023-02-12T08:18:24.084713",
     "exception": false,
     "start_time": "2023-02-12T08:18:23.966726",
     "status": "completed"
    },
    "tags": []
   },
   "outputs": [],
   "source": [
    "orig_attrs = pd.DataFrame(shp.drop('geometry', axis=1))\n",
    "orig_attrs.T;"
   ]
  },
  {
   "cell_type": "code",
   "execution_count": 9,
   "id": "e1b92b0a-3767-455a-8884-4666b0cf504a",
   "metadata": {
    "execution": {
     "iopub.execute_input": "2023-02-12T08:18:24.102976Z",
     "iopub.status.busy": "2023-02-12T08:18:24.102775Z",
     "iopub.status.idle": "2023-02-12T08:18:24.106638Z",
     "shell.execute_reply": "2023-02-12T08:18:24.105960Z"
    },
    "papermill": {
     "duration": 0.01217,
     "end_time": "2023-02-12T08:18:24.107929",
     "exception": false,
     "start_time": "2023-02-12T08:18:24.095759",
     "status": "completed"
    },
    "tags": []
   },
   "outputs": [],
   "source": [
    "if 'conn_lvl' not in shp:\n",
    "    print('Add conn_lvl')\n",
    "    shp['conn_lvl'] = 0"
   ]
  },
  {
   "cell_type": "code",
   "execution_count": 10,
   "id": "e09e91a0-6561-4cd7-907a-60aeb23e545f",
   "metadata": {
    "execution": {
     "iopub.execute_input": "2023-02-12T08:18:24.122299Z",
     "iopub.status.busy": "2023-02-12T08:18:24.121993Z",
     "iopub.status.idle": "2023-02-12T08:18:24.134541Z",
     "shell.execute_reply": "2023-02-12T08:18:24.133692Z"
    },
    "papermill": {
     "duration": 0.021139,
     "end_time": "2023-02-12T08:18:24.135994",
     "exception": false,
     "start_time": "2023-02-12T08:18:24.114855",
     "status": "completed"
    },
    "tags": []
   },
   "outputs": [],
   "source": [
    "odf = shp.copy()"
   ]
  },
  {
   "cell_type": "code",
   "execution_count": 11,
   "id": "17837ca6-2d55-4ae7-af15-4b572f2eefbf",
   "metadata": {
    "execution": {
     "iopub.execute_input": "2023-02-12T08:18:24.150011Z",
     "iopub.status.busy": "2023-02-12T08:18:24.149695Z",
     "iopub.status.idle": "2023-02-12T08:18:24.166622Z",
     "shell.execute_reply": "2023-02-12T08:18:24.165576Z"
    },
    "papermill": {
     "duration": 0.025391,
     "end_time": "2023-02-12T08:18:24.168202",
     "exception": false,
     "start_time": "2023-02-12T08:18:24.142811",
     "status": "completed"
    },
    "tags": []
   },
   "outputs": [],
   "source": [
    "rename = {'area':'area_km2', 'CenLon': 'cenlon', 'CenLat': 'cenlat', 'glac_id':'glims_id'}\n",
    "odf = odf.rename(rename, axis=1)"
   ]
  },
  {
   "cell_type": "markdown",
   "id": "c2895b31-0bb5-4192-a158-c6ff07abd1ba",
   "metadata": {
    "papermill": {
     "duration": 0.00619,
     "end_time": "2023-02-12T08:18:24.181136",
     "exception": false,
     "start_time": "2023-02-12T08:18:24.174946",
     "status": "completed"
    },
    "tags": []
   },
   "source": [
    "Recompute area and center point to be sure:"
   ]
  },
  {
   "cell_type": "code",
   "execution_count": 12,
   "id": "b54183cb-e0e5-4e82-942d-dbde26f1e7a3",
   "metadata": {
    "execution": {
     "iopub.execute_input": "2023-02-12T08:18:24.194144Z",
     "iopub.status.busy": "2023-02-12T08:18:24.193832Z",
     "iopub.status.idle": "2023-02-12T08:18:26.274989Z",
     "shell.execute_reply": "2023-02-12T08:18:26.274080Z"
    },
    "papermill": {
     "duration": 2.089274,
     "end_time": "2023-02-12T08:18:26.277256",
     "exception": false,
     "start_time": "2023-02-12T08:18:24.187982",
     "status": "completed"
    },
    "tags": []
   },
   "outputs": [],
   "source": [
    "def xy_coord(geom):\n",
    "    x, y = geom.xy\n",
    "    return x[0], y[0]\n",
    "\n",
    "rp = odf.representative_point()\n",
    "\n",
    "coordinates = np.array(list(rp.apply(xy_coord)))\n",
    "odf['cenlon'] = coordinates[:, 0]\n",
    "odf['cenlat'] = coordinates[:, 1]\n",
    "\n",
    "odf['area_km2'] = odf.to_crs({'proj':'cea'}).area * 1e-6"
   ]
  },
  {
   "cell_type": "code",
   "execution_count": 13,
   "id": "14dff652-d75c-4702-90d0-8e2462577487",
   "metadata": {
    "execution": {
     "iopub.execute_input": "2023-02-12T08:18:26.300439Z",
     "iopub.status.busy": "2023-02-12T08:18:26.300156Z",
     "iopub.status.idle": "2023-02-12T08:18:26.323207Z",
     "shell.execute_reply": "2023-02-12T08:18:26.322287Z"
    },
    "papermill": {
     "duration": 0.035483,
     "end_time": "2023-02-12T08:18:26.325225",
     "exception": false,
     "start_time": "2023-02-12T08:18:26.289742",
     "status": "completed"
    },
    "tags": []
   },
   "outputs": [],
   "source": [
    "odf['glac_name'] = odf['glac_name'].where(odf['glac_name'] != 'None', '')"
   ]
  },
  {
   "cell_type": "markdown",
   "id": "8d88df3a-a0da-41aa-80a2-6ee799789b25",
   "metadata": {
    "papermill": {
     "duration": 0.008457,
     "end_time": "2023-02-12T08:18:26.343842",
     "exception": false,
     "start_time": "2023-02-12T08:18:26.335385",
     "status": "completed"
    },
    "tags": []
   },
   "source": [
    "## Metadata "
   ]
  },
  {
   "cell_type": "code",
   "execution_count": 14,
   "id": "3da9f86f-42fa-4ae4-b5f5-bbc2708d7f80",
   "metadata": {
    "execution": {
     "iopub.execute_input": "2023-02-12T08:18:26.357847Z",
     "iopub.status.busy": "2023-02-12T08:18:26.357586Z",
     "iopub.status.idle": "2023-02-12T08:18:26.362185Z",
     "shell.execute_reply": "2023-02-12T08:18:26.361353Z"
    },
    "papermill": {
     "duration": 0.013074,
     "end_time": "2023-02-12T08:18:26.363692",
     "exception": false,
     "start_time": "2023-02-12T08:18:26.350618",
     "status": "completed"
    },
    "tags": []
   },
   "outputs": [],
   "source": [
    "with open('../rgi7_attributes_metadata.json', 'r') as infile:\n",
    "    meta = json.load(infile)"
   ]
  },
  {
   "cell_type": "code",
   "execution_count": 15,
   "id": "6efe0d1f-3125-4062-b9c4-2d9717db2e98",
   "metadata": {
    "execution": {
     "iopub.execute_input": "2023-02-12T08:18:26.378214Z",
     "iopub.status.busy": "2023-02-12T08:18:26.377348Z",
     "iopub.status.idle": "2023-02-12T08:18:26.412834Z",
     "shell.execute_reply": "2023-02-12T08:18:26.411956Z"
    },
    "papermill": {
     "duration": 0.044494,
     "end_time": "2023-02-12T08:18:26.414825",
     "exception": false,
     "start_time": "2023-02-12T08:18:26.370331",
     "status": "completed"
    },
    "tags": []
   },
   "outputs": [],
   "source": [
    "odf_new = odf[[]].copy().reset_index(drop=True)\n",
    "\n",
    "for col, attrs in meta.items():\n",
    "    if col not in odf:\n",
    "        if attrs['datatype'] == 'str':\n",
    "            odf_new[col] = ''\n",
    "        elif attrs['datatype'] == 'float':\n",
    "            odf_new[col] = np.NaN\n",
    "        elif attrs['datatype'] == 'int':\n",
    "            odf_new[col] = -999 \n",
    "    else: \n",
    "        if attrs['datatype']:\n",
    "            odf_new[col] = odf[col].astype(attrs['datatype'])\n",
    "        else: \n",
    "            odf_new[col] = odf[col]"
   ]
  },
  {
   "cell_type": "code",
   "execution_count": 16,
   "id": "19f7932c-0795-487e-89d3-f72c20eeb1c4",
   "metadata": {
    "execution": {
     "iopub.execute_input": "2023-02-12T08:18:26.435818Z",
     "iopub.status.busy": "2023-02-12T08:18:26.435551Z",
     "iopub.status.idle": "2023-02-12T08:18:26.451371Z",
     "shell.execute_reply": "2023-02-12T08:18:26.450428Z"
    },
    "papermill": {
     "duration": 0.026971,
     "end_time": "2023-02-12T08:18:26.453382",
     "exception": false,
     "start_time": "2023-02-12T08:18:26.426411",
     "status": "completed"
    },
    "tags": []
   },
   "outputs": [],
   "source": [
    "odf_new = gpd.GeoDataFrame(odf_new)\n",
    "odf_new.crs = odf.crs\n",
    "odf_new = odf_new.reset_index(drop=True)\n",
    "odf_new.iloc[:1].T;"
   ]
  },
  {
   "cell_type": "markdown",
   "id": "450e8521-6572-474c-afe5-0989eb843536",
   "metadata": {
    "papermill": {
     "duration": 0.009539,
     "end_time": "2023-02-12T08:18:26.473352",
     "exception": false,
     "start_time": "2023-02-12T08:18:26.463813",
     "status": "completed"
    },
    "tags": []
   },
   "source": [
    "## Regions, subregions and RGI IDs"
   ]
  },
  {
   "cell_type": "code",
   "execution_count": 17,
   "id": "544c32b7-a630-4f2b-a82d-5a2372ad527d",
   "metadata": {
    "execution": {
     "iopub.execute_input": "2023-02-12T08:18:26.489004Z",
     "iopub.status.busy": "2023-02-12T08:18:26.488691Z",
     "iopub.status.idle": "2023-02-12T08:18:26.495547Z",
     "shell.execute_reply": "2023-02-12T08:18:26.494697Z"
    },
    "papermill": {
     "duration": 0.013795,
     "end_time": "2023-02-12T08:18:26.496785",
     "exception": false,
     "start_time": "2023-02-12T08:18:26.482990",
     "status": "completed"
    },
    "tags": []
   },
   "outputs": [],
   "source": [
    "odf_new['o1region'] = f'{reg:02d}'"
   ]
  },
  {
   "cell_type": "code",
   "execution_count": 18,
   "id": "21cc6a76-449e-41be-9f83-76f94e0aaede",
   "metadata": {
    "execution": {
     "iopub.execute_input": "2023-02-12T08:18:26.509982Z",
     "iopub.status.busy": "2023-02-12T08:18:26.509476Z",
     "iopub.status.idle": "2023-02-12T08:18:26.574180Z",
     "shell.execute_reply": "2023-02-12T08:18:26.573477Z"
    },
    "papermill": {
     "duration": 0.07387,
     "end_time": "2023-02-12T08:18:26.575996",
     "exception": false,
     "start_time": "2023-02-12T08:18:26.502126",
     "status": "completed"
    },
    "tags": []
   },
   "outputs": [],
   "source": [
    "sreg_file = os.path.join(data_dir, '00_rgi70_regions', '00_rgi70_O2Regions')\n",
    "sreg = gpd.read_file(sreg_file)\n",
    "sreg = sreg.loc[sreg.o1region == f'{reg:02d}']\n",
    "sreg;"
   ]
  },
  {
   "cell_type": "code",
   "execution_count": 19,
   "id": "29782e31-7feb-46f1-8398-16296d7dc5ee",
   "metadata": {
    "execution": {
     "iopub.execute_input": "2023-02-12T08:18:26.598080Z",
     "iopub.status.busy": "2023-02-12T08:18:26.597141Z",
     "iopub.status.idle": "2023-02-12T08:18:33.033259Z",
     "shell.execute_reply": "2023-02-12T08:18:33.032653Z"
    },
    "papermill": {
     "duration": 6.447711,
     "end_time": "2023-02-12T08:18:33.035682",
     "exception": false,
     "start_time": "2023-02-12T08:18:26.587971",
     "status": "completed"
    },
    "tags": []
   },
   "outputs": [
    {
     "name": "stderr",
     "output_type": "stream",
     "text": [
      "RGI01: all subregions have glaciers in them\n"
     ]
    }
   ],
   "source": [
    "baseid = f'RGI2000-v7.0-G-{reg:02d}-'\n",
    "count = 0\n",
    "\n",
    "rp = odf_new.representative_point()\n",
    "rp = rp.to_frame('geometry')\n",
    "rp['orig_index'] = odf_new.index\n",
    "\n",
    "total = 0\n",
    "\n",
    "for i, s in sreg.iterrows():\n",
    "    \n",
    "    intersect = gpd.overlay(rp, sreg.loc[[i]], how='intersection')\n",
    "    odf_sreg = odf_new.loc[intersect['orig_index']].copy()\n",
    "    odf_sreg['o2region'] = s['o2region']\n",
    "    \n",
    "    total += len(odf_sreg)\n",
    "    \n",
    "    if len(odf_sreg) == 0:\n",
    "        # 19-05 Ross Ice Shelf one of them\n",
    "        continue\n",
    "    \n",
    "    # Ids generation\n",
    "    # Left most point and we start from there\n",
    "    slon, slat = odf_sreg.loc[odf_sreg.cenlon == odf_sreg.cenlon.min()][['cenlon', 'cenlat']].iloc[0].values\n",
    "    \n",
    "    todo = odf_sreg.index.values\n",
    "    todo_lon = odf_sreg['cenlon'].values\n",
    "    todo_lat = odf_sreg['cenlat'].values\n",
    "    ids = []\n",
    "    while len(todo) > 0:\n",
    "        dis = haversine(slon, slat, todo_lon, todo_lat)\n",
    "        idm = np.argmin(dis)\n",
    "        ids.append(todo[idm])\n",
    "        slon, slat = todo_lon[idm], todo_lat[idm]\n",
    "        todo = np.delete(todo, idm)\n",
    "        todo_lon = np.delete(todo_lon, idm)\n",
    "        todo_lat = np.delete(todo_lat, idm)\n",
    "    \n",
    "    assert len(ids) == len(odf_sreg)\n",
    "    odf_sreg = odf_sreg.loc[ids].copy()\n",
    "    \n",
    "    odf_sreg['rgi_id'] = [baseid + f'{l+count:05d}' for l in range(len(odf_sreg))]\n",
    "    count += len(odf_sreg)\n",
    "    odf_new.loc[odf_sreg.index, 'rgi_id'] = odf_sreg['rgi_id']\n",
    "    odf_new.loc[odf_sreg.index, 'o2region'] = odf_sreg['o2region']\n",
    "    \n",
    "odf_new = odf_new.sort_values(by='rgi_id').reset_index(drop=True)\n",
    "\n",
    "assert odf_new['o2region'].isnull().sum() == 0\n",
    "assert int(odf_new.iloc[-1]['rgi_id'].split('-')[-1]) == odf_new.iloc[-1].name\n",
    "if len(odf_new['o2region'].unique()) != len(sreg):\n",
    "    log.warning(f'RGI{reg:02d}: some subregions have NO glaciers in them')\n",
    "else:\n",
    "    log.info(f'RGI{reg:02d}: all subregions have glaciers in them')\n",
    "assert len(odf_new) == len(odf)"
   ]
  },
  {
   "cell_type": "code",
   "execution_count": 20,
   "id": "567e0186-4fa8-448b-83e3-f900ea245a4e",
   "metadata": {
    "execution": {
     "iopub.execute_input": "2023-02-12T08:18:33.058601Z",
     "iopub.status.busy": "2023-02-12T08:18:33.058299Z",
     "iopub.status.idle": "2023-02-12T08:18:33.065177Z",
     "shell.execute_reply": "2023-02-12T08:18:33.064413Z"
    },
    "papermill": {
     "duration": 0.018937,
     "end_time": "2023-02-12T08:18:33.066283",
     "exception": false,
     "start_time": "2023-02-12T08:18:33.047346",
     "status": "completed"
    },
    "tags": []
   },
   "outputs": [],
   "source": [
    "odf_new.iloc[:1].T;"
   ]
  },
  {
   "cell_type": "markdown",
   "id": "ad528b70-acfd-47db-99f3-3e123373516a",
   "metadata": {
    "papermill": {
     "duration": 0.005052,
     "end_time": "2023-02-12T08:18:33.077595",
     "exception": false,
     "start_time": "2023-02-12T08:18:33.072543",
     "status": "completed"
    },
    "tags": []
   },
   "source": [
    "## Submission metadata"
   ]
  },
  {
   "cell_type": "code",
   "execution_count": 21,
   "id": "470e8c16-42eb-443f-a176-c767ee7c3722",
   "metadata": {
    "execution": {
     "iopub.execute_input": "2023-02-12T08:18:33.092335Z",
     "iopub.status.busy": "2023-02-12T08:18:33.092040Z",
     "iopub.status.idle": "2023-02-12T08:18:33.096707Z",
     "shell.execute_reply": "2023-02-12T08:18:33.095959Z"
    },
    "papermill": {
     "duration": 0.013566,
     "end_time": "2023-02-12T08:18:33.098148",
     "exception": false,
     "start_time": "2023-02-12T08:18:33.084582",
     "status": "completed"
    },
    "tags": []
   },
   "outputs": [],
   "source": [
    "with open('../rgi7_submission_info_metadata.json', 'r') as infile:\n",
    "    meta_sub = json.load(infile)"
   ]
  },
  {
   "cell_type": "code",
   "execution_count": 22,
   "id": "00c9d8ae-9743-4540-a5f4-50e44c0da289",
   "metadata": {
    "execution": {
     "iopub.execute_input": "2023-02-12T08:18:33.112967Z",
     "iopub.status.busy": "2023-02-12T08:18:33.112672Z",
     "iopub.status.idle": "2023-02-12T08:18:33.185951Z",
     "shell.execute_reply": "2023-02-12T08:18:33.185325Z"
    },
    "papermill": {
     "duration": 0.082559,
     "end_time": "2023-02-12T08:18:33.187760",
     "exception": false,
     "start_time": "2023-02-12T08:18:33.105201",
     "status": "completed"
    },
    "tags": []
   },
   "outputs": [],
   "source": [
    "subm_id = orig_attrs['subm_id'].unique()\n",
    "odf_subm = pd.DataFrame()\n",
    "for sid in subm_id:\n",
    "    sel = orig_attrs.loc[orig_attrs['subm_id'] == sid]\n",
    "    for k in meta_sub.keys():\n",
    "        if k == 'subm_id':\n",
    "            continue\n",
    "        attrs = meta_sub[k]\n",
    "        if k not in sel:\n",
    "            if attrs['datatype'] == 'str':\n",
    "                odf_subm.loc[int(sid), k] = ''\n",
    "            elif attrs['datatype'] == 'float':\n",
    "                odf_subm.loc[int(sid), k] = np.NaN\n",
    "            elif attrs['datatype'] == 'int':\n",
    "                odf_subm.loc[int(sid), k] = -999\n",
    "        else: \n",
    "            assert len(sel[k].unique()==1), f'{k} has non unique values'\n",
    "            if attrs['datatype']:\n",
    "                data = sel[k].astype(attrs['datatype']).iloc[0]\n",
    "            else: \n",
    "                data = sel[k].iloc[0]\n",
    "                \n",
    "            if attrs['datatype'] == 'str':\n",
    "                # Clean\n",
    "                data = data.strip().lstrip(';').strip()\n",
    "                \n",
    "            odf_subm.loc[int(sid), k] = data\n",
    "            \n",
    "    odf_subm.loc[int(sid), 'n_outlines'] = len(sel)\n",
    "    odf_subm.loc[int(sid), 'area_km2'] = sel['area'].sum() * 1e-6\n",
    "        \n",
    "odf_subm.index.name = 'subm_id' \n",
    "odf_subm['n_outlines'] = odf_subm['n_outlines'].astype(int)\n",
    "odf_subm['rc_id'] = odf_subm['rc_id'].astype(int)\n",
    "odf_subm = odf_subm.sort_index()\n",
    "odf_subm;"
   ]
  },
  {
   "cell_type": "markdown",
   "id": "1e9da820-bb63-44ba-9c9e-4b9bb43dc83d",
   "metadata": {
    "papermill": {
     "duration": 0.007279,
     "end_time": "2023-02-12T08:18:33.207236",
     "exception": false,
     "start_time": "2023-02-12T08:18:33.199957",
     "status": "completed"
    },
    "tags": []
   },
   "source": [
    "## Write out and tar "
   ]
  },
  {
   "cell_type": "code",
   "execution_count": 23,
   "id": "a9f2ad69-a5e6-49ad-b2c3-7e928bbd2a29",
   "metadata": {
    "execution": {
     "iopub.execute_input": "2023-02-12T08:18:33.221922Z",
     "iopub.status.busy": "2023-02-12T08:18:33.221779Z",
     "iopub.status.idle": "2023-02-12T08:18:33.265705Z",
     "shell.execute_reply": "2023-02-12T08:18:33.265087Z"
    },
    "papermill": {
     "duration": 0.052935,
     "end_time": "2023-02-12T08:18:33.267601",
     "exception": false,
     "start_time": "2023-02-12T08:18:33.214666",
     "status": "completed"
    },
    "tags": []
   },
   "outputs": [],
   "source": [
    "reg_file = os.path.join(data_dir, '00_rgi70_regions', '00_rgi70_O1Regions')\n",
    "reg_file = gpd.read_file(reg_file)\n",
    "reg_file = reg_file.loc[reg_file.o1region == f'{reg:02d}'].iloc[0]"
   ]
  },
  {
   "cell_type": "code",
   "execution_count": 24,
   "id": "6280b37d-6683-4670-b499-181fa14b57e9",
   "metadata": {
    "execution": {
     "iopub.execute_input": "2023-02-12T08:18:33.289179Z",
     "iopub.status.busy": "2023-02-12T08:18:33.288872Z",
     "iopub.status.idle": "2023-02-12T08:19:16.254263Z",
     "shell.execute_reply": "2023-02-12T08:19:16.253109Z"
    },
    "papermill": {
     "duration": 42.978464,
     "end_time": "2023-02-12T08:19:16.256678",
     "exception": false,
     "start_time": "2023-02-12T08:18:33.278214",
     "status": "completed"
    },
    "tags": []
   },
   "outputs": [
    {
     "name": "stdout",
     "output_type": "stream",
     "text": [
      "Writing...\n"
     ]
    },
    {
     "name": "stdout",
     "output_type": "stream",
     "text": [
      "Taring...\n",
      "RGI2000-v7.0-G-01_alaska/\n",
      "RGI2000-v7.0-G-01_alaska/RGI2000-v7.0-G-01_alaska.dbf\n"
     ]
    },
    {
     "name": "stdout",
     "output_type": "stream",
     "text": [
      "RGI2000-v7.0-G-01_alaska/RGI2000-v7.0-G-01_alaska_subm_info.csv\n",
      "RGI2000-v7.0-G-01_alaska/RGI2000-v7.0-G-01_alaska.shp\n"
     ]
    },
    {
     "name": "stdout",
     "output_type": "stream",
     "text": [
      "RGI2000-v7.0-G-01_alaska/RGI2000-v7.0-G-01_alaska_attributes.csv\n",
      "RGI2000-v7.0-G-01_alaska/RGI2000-v7.0-G-01_alaska.prj\n",
      "RGI2000-v7.0-G-01_alaska/RGI2000-v7.0-G-01_alaska.cpg\n",
      "RGI2000-v7.0-G-01_alaska/RGI2000-v7.0-G-01_alaska.shx\n",
      "RGI2000-v7.0-G-01_alaska/README.md\n",
      "CompletedProcess(args=['tar', '-zcvf', '../../../../rgi7_data/l4_rgi7b0_tar/RGI2000-v7.0-G-01_alaska.tar.gz', '-C', '../../../../rgi7_data/l4_rgi7b0', 'RGI2000-v7.0-G-01_alaska'], returncode=0)\n"
     ]
    }
   ],
   "source": [
    "dd = mkdir(f'{output_dir}/RGI2000-v7.0-G-{reg_file.long_code}/', reset=True)\n",
    "\n",
    "print('Writing...')\n",
    "odf_new.to_file(dd + f'RGI2000-v7.0-G-{reg_file.long_code}.shp')\n",
    "odf_subm.to_csv(dd + f'RGI2000-v7.0-G-{reg_file.long_code}_subm_info.csv', quoting=csv.QUOTE_NONNUMERIC)\n",
    "odf_new.drop('geometry', axis=1).set_index('rgi_id').to_csv(dd + f'RGI2000-v7.0-G-{reg_file.long_code}_attributes.csv', quoting=csv.QUOTE_NONNUMERIC)\n",
    "shutil.copyfile('../README_tpl.md', dd + f'README.md')\n",
    "\n",
    "print('Taring...')\n",
    "print(subprocess.run(['tar', '-zcvf', f'{output_dir_tar}/RGI2000-v7.0-G-{reg_file.long_code}.tar.gz', '-C', output_dir, f'RGI2000-v7.0-G-{reg_file.long_code}']))"
   ]
  },
  {
   "cell_type": "code",
   "execution_count": 25,
   "id": "7667dbd4-fc48-445c-bee8-6156c82bfa3e",
   "metadata": {
    "execution": {
     "iopub.execute_input": "2023-02-12T08:19:16.283784Z",
     "iopub.status.busy": "2023-02-12T08:19:16.283454Z",
     "iopub.status.idle": "2023-02-12T08:19:16.287957Z",
     "shell.execute_reply": "2023-02-12T08:19:16.287086Z"
    },
    "papermill": {
     "duration": 0.017544,
     "end_time": "2023-02-12T08:19:16.289107",
     "exception": false,
     "start_time": "2023-02-12T08:19:16.271563",
     "status": "completed"
    },
    "tags": []
   },
   "outputs": [],
   "source": [
    "odf_new;"
   ]
  },
  {
   "cell_type": "code",
   "execution_count": 26,
   "id": "1b64b5cc-046a-4d96-a3ce-d047d9e20a8b",
   "metadata": {
    "execution": {
     "iopub.execute_input": "2023-02-12T08:19:16.301014Z",
     "iopub.status.busy": "2023-02-12T08:19:16.300693Z",
     "iopub.status.idle": "2023-02-12T08:19:16.306028Z",
     "shell.execute_reply": "2023-02-12T08:19:16.305073Z"
    },
    "papermill": {
     "duration": 0.012802,
     "end_time": "2023-02-12T08:19:16.307538",
     "exception": false,
     "start_time": "2023-02-12T08:19:16.294736",
     "status": "completed"
    },
    "tags": []
   },
   "outputs": [],
   "source": [
    "import glob, os\n",
    "for f in glob.glob( f\"{output_dir_tar}/*.properties\"):\n",
    "    os.remove(f)"
   ]
  },
  {
   "cell_type": "markdown",
   "id": "7bd3a216-a8bf-4eb7-a485-7c38fc18066c",
   "metadata": {
    "papermill": {
     "duration": 0.006696,
     "end_time": "2023-02-12T08:19:16.321666",
     "exception": false,
     "start_time": "2023-02-12T08:19:16.314970",
     "status": "completed"
    },
    "tags": []
   },
   "source": [
    "## Merged product "
   ]
  },
  {
   "cell_type": "code",
   "execution_count": 27,
   "id": "63ba1a72-5dd3-445c-8e0e-5566a2e09085",
   "metadata": {
    "execution": {
     "iopub.execute_input": "2023-02-12T08:19:16.337477Z",
     "iopub.status.busy": "2023-02-12T08:19:16.336621Z",
     "iopub.status.idle": "2023-02-12T08:19:16.340771Z",
     "shell.execute_reply": "2023-02-12T08:19:16.339829Z"
    },
    "papermill": {
     "duration": 0.013607,
     "end_time": "2023-02-12T08:19:16.342311",
     "exception": false,
     "start_time": "2023-02-12T08:19:16.328704",
     "status": "completed"
    },
    "tags": []
   },
   "outputs": [],
   "source": [
    "# TODO"
   ]
  },
  {
   "cell_type": "code",
   "execution_count": null,
   "id": "61851dc4-fab3-4119-902d-c325ee09c182",
   "metadata": {
    "papermill": {
     "duration": 0.006848,
     "end_time": "2023-02-12T08:19:16.356110",
     "exception": false,
     "start_time": "2023-02-12T08:19:16.349262",
     "status": "completed"
    },
    "tags": []
   },
   "outputs": [],
   "source": []
  }
 ],
 "metadata": {
  "kernelspec": {
   "display_name": "Python 3 (ipykernel)",
   "language": "python",
   "name": "python3"
  },
  "language_info": {
   "codemirror_mode": {
    "name": "ipython",
    "version": 3
   },
   "file_extension": ".py",
   "mimetype": "text/x-python",
   "name": "python",
   "nbconvert_exporter": "python",
   "pygments_lexer": "ipython3",
   "version": "3.10.8"
  },
  "papermill": {
   "default_parameters": {},
   "duration": 65.690582,
   "end_time": "2023-02-12T08:19:16.985105",
   "environment_variables": {},
   "exception": null,
   "input_path": "alpha_to_beta_tpl.ipynb",
   "output_path": "alpha_to_beta_RGI01.ipynb",
   "parameters": {
    "reg": 1
   },
   "start_time": "2023-02-12T08:18:11.294523",
   "version": "2.3.4"
  }
 },
 "nbformat": 4,
 "nbformat_minor": 5
}