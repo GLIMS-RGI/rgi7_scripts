{
 "cells": [
  {
   "cell_type": "code",
   "execution_count": 1,
   "id": "883fdaa2-a648-4c74-a5d1-a93606d83d53",
   "metadata": {},
   "outputs": [],
   "source": [
    "import papermill as pm"
   ]
  },
  {
   "cell_type": "code",
   "execution_count": 2,
   "id": "cc433446-2107-4df3-a4d2-789b65f9e102",
   "metadata": {},
   "outputs": [
    {
     "data": {
      "application/vnd.jupyter.widget-view+json": {
       "model_id": "762210fd868647ac88eefd95056f4994",
       "version_major": 2,
       "version_minor": 0
      },
      "text/plain": [
       "Executing:   0%|          | 0/36 [00:00<?, ?cell/s]"
      ]
     },
     "metadata": {},
     "output_type": "display_data"
    },
    {
     "name": "stderr",
     "output_type": "stream",
     "text": [
      "VSIFSeekL(xxx, SEEK_END) may be really slow on GZip streams.\n",
      "\n",
      "RGI01: all subregions have glaciers in them\n",
      "\n"
     ]
    },
    {
     "name": "stdout",
     "output_type": "stream",
     "text": [
      "RGI2000-v7.0-G-01_alaska/\n",
      "RGI2000-v7.0-G-01_alaska/RGI2000-v7.0-G-01_alaska.dbf\n",
      "RGI2000-v7.0-G-01_alaska/RGI2000-v7.0-G-01_alaska_subm_info.csv\n",
      "RGI2000-v7.0-G-01_alaska/RGI2000-v7.0-G-01_alaska.shp\n",
      "RGI2000-v7.0-G-01_alaska/RGI2000-v7.0-G-01_alaska_attributes.csv\n",
      "RGI2000-v7.0-G-01_alaska/RGI2000-v7.0-G-01_alaska.prj\n",
      "RGI2000-v7.0-G-01_alaska/RGI2000-v7.0-G-01_alaska.cpg\n",
      "RGI2000-v7.0-G-01_alaska/RGI2000-v7.0-G-01_alaska.shx\n",
      "RGI2000-v7.0-G-01_alaska/README.md\n"
     ]
    },
    {
     "data": {
      "application/vnd.jupyter.widget-view+json": {
       "model_id": "92b1af848d4a4e25a0b8ed061d0a3189",
       "version_major": 2,
       "version_minor": 0
      },
      "text/plain": [
       "Executing:   0%|          | 0/36 [00:00<?, ?cell/s]"
      ]
     },
     "metadata": {},
     "output_type": "display_data"
    },
    {
     "name": "stderr",
     "output_type": "stream",
     "text": [
      "VSIFSeekL(xxx, SEEK_END) may be really slow on GZip streams.\n",
      "\n",
      "RGI02: all subregions have glaciers in them\n",
      "\n"
     ]
    },
    {
     "name": "stdout",
     "output_type": "stream",
     "text": [
      "RGI2000-v7.0-G-02_western_canada_usa/\n",
      "RGI2000-v7.0-G-02_western_canada_usa/RGI2000-v7.0-G-02_western_canada_usa_subm_info.csv\n",
      "RGI2000-v7.0-G-02_western_canada_usa/RGI2000-v7.0-G-02_western_canada_usa.shp\n",
      "RGI2000-v7.0-G-02_western_canada_usa/RGI2000-v7.0-G-02_western_canada_usa.dbf\n",
      "RGI2000-v7.0-G-02_western_canada_usa/README.md\n",
      "RGI2000-v7.0-G-02_western_canada_usa/RGI2000-v7.0-G-02_western_canada_usa.shx\n",
      "RGI2000-v7.0-G-02_western_canada_usa/RGI2000-v7.0-G-02_western_canada_usa_attributes.csv\n",
      "RGI2000-v7.0-G-02_western_canada_usa/RGI2000-v7.0-G-02_western_canada_usa.cpg\n",
      "RGI2000-v7.0-G-02_western_canada_usa/RGI2000-v7.0-G-02_western_canada_usa.prj\n"
     ]
    },
    {
     "data": {
      "application/vnd.jupyter.widget-view+json": {
       "model_id": "0bd65d7c502e4f2ba00eadcfa1f02731",
       "version_major": 2,
       "version_minor": 0
      },
      "text/plain": [
       "Executing:   0%|          | 0/36 [00:00<?, ?cell/s]"
      ]
     },
     "metadata": {},
     "output_type": "display_data"
    },
    {
     "name": "stderr",
     "output_type": "stream",
     "text": [
      "VSIFSeekL(xxx, SEEK_END) may be really slow on GZip streams.\n",
      "\n",
      "RGI03: all subregions have glaciers in them\n",
      "\n"
     ]
    },
    {
     "name": "stdout",
     "output_type": "stream",
     "text": [
      "RGI2000-v7.0-G-03_arctic_canada_north/\n",
      "RGI2000-v7.0-G-03_arctic_canada_north/RGI2000-v7.0-G-03_arctic_canada_north.shp\n",
      "RGI2000-v7.0-G-03_arctic_canada_north/RGI2000-v7.0-G-03_arctic_canada_north_subm_info.csv\n",
      "RGI2000-v7.0-G-03_arctic_canada_north/RGI2000-v7.0-G-03_arctic_canada_north.dbf\n",
      "RGI2000-v7.0-G-03_arctic_canada_north/RGI2000-v7.0-G-03_arctic_canada_north_attributes.csv\n",
      "RGI2000-v7.0-G-03_arctic_canada_north/RGI2000-v7.0-G-03_arctic_canada_north.prj\n",
      "RGI2000-v7.0-G-03_arctic_canada_north/RGI2000-v7.0-G-03_arctic_canada_north.cpg\n",
      "RGI2000-v7.0-G-03_arctic_canada_north/README.md\n",
      "RGI2000-v7.0-G-03_arctic_canada_north/RGI2000-v7.0-G-03_arctic_canada_north.shx\n"
     ]
    },
    {
     "data": {
      "application/vnd.jupyter.widget-view+json": {
       "model_id": "07d847329f414dcf9905a305056a73f2",
       "version_major": 2,
       "version_minor": 0
      },
      "text/plain": [
       "Executing:   0%|          | 0/36 [00:00<?, ?cell/s]"
      ]
     },
     "metadata": {},
     "output_type": "display_data"
    },
    {
     "name": "stderr",
     "output_type": "stream",
     "text": [
      "VSIFSeekL(xxx, SEEK_END) may be really slow on GZip streams.\n",
      "\n",
      "RGI04: all subregions have glaciers in them\n",
      "\n"
     ]
    },
    {
     "name": "stdout",
     "output_type": "stream",
     "text": [
      "RGI2000-v7.0-G-04_arctic_canada_south/\n",
      "RGI2000-v7.0-G-04_arctic_canada_south/RGI2000-v7.0-G-04_arctic_canada_south.shp\n",
      "RGI2000-v7.0-G-04_arctic_canada_south/RGI2000-v7.0-G-04_arctic_canada_south_attributes.csv\n",
      "RGI2000-v7.0-G-04_arctic_canada_south/RGI2000-v7.0-G-04_arctic_canada_south.dbf\n",
      "RGI2000-v7.0-G-04_arctic_canada_south/RGI2000-v7.0-G-04_arctic_canada_south.shx\n",
      "RGI2000-v7.0-G-04_arctic_canada_south/RGI2000-v7.0-G-04_arctic_canada_south_subm_info.csv\n",
      "RGI2000-v7.0-G-04_arctic_canada_south/README.md\n",
      "RGI2000-v7.0-G-04_arctic_canada_south/RGI2000-v7.0-G-04_arctic_canada_south.prj\n",
      "RGI2000-v7.0-G-04_arctic_canada_south/RGI2000-v7.0-G-04_arctic_canada_south.cpg\n"
     ]
    },
    {
     "data": {
      "application/vnd.jupyter.widget-view+json": {
       "model_id": "b9d8cb69541c49d999633f6d8722f151",
       "version_major": 2,
       "version_minor": 0
      },
      "text/plain": [
       "Executing:   0%|          | 0/36 [00:00<?, ?cell/s]"
      ]
     },
     "metadata": {},
     "output_type": "display_data"
    },
    {
     "name": "stderr",
     "output_type": "stream",
     "text": [
      "VSIFSeekL(xxx, SEEK_END) may be really slow on GZip streams.\n",
      "\n",
      "RGI05: all subregions have glaciers in them\n",
      "\n"
     ]
    },
    {
     "name": "stdout",
     "output_type": "stream",
     "text": [
      "RGI2000-v7.0-G-05_greenland_periphery/\n",
      "RGI2000-v7.0-G-05_greenland_periphery/RGI2000-v7.0-G-05_greenland_periphery.dbf\n",
      "RGI2000-v7.0-G-05_greenland_periphery/RGI2000-v7.0-G-05_greenland_periphery_subm_info.csv\n",
      "RGI2000-v7.0-G-05_greenland_periphery/RGI2000-v7.0-G-05_greenland_periphery.shp\n",
      "RGI2000-v7.0-G-05_greenland_periphery/RGI2000-v7.0-G-05_greenland_periphery.prj\n",
      "RGI2000-v7.0-G-05_greenland_periphery/RGI2000-v7.0-G-05_greenland_periphery.cpg\n",
      "RGI2000-v7.0-G-05_greenland_periphery/RGI2000-v7.0-G-05_greenland_periphery.shx\n",
      "RGI2000-v7.0-G-05_greenland_periphery/README.md\n",
      "RGI2000-v7.0-G-05_greenland_periphery/RGI2000-v7.0-G-05_greenland_periphery_attributes.csv\n"
     ]
    },
    {
     "data": {
      "application/vnd.jupyter.widget-view+json": {
       "model_id": "ada0c64929354f2a82a894e4e89eda30",
       "version_major": 2,
       "version_minor": 0
      },
      "text/plain": [
       "Executing:   0%|          | 0/36 [00:00<?, ?cell/s]"
      ]
     },
     "metadata": {},
     "output_type": "display_data"
    },
    {
     "name": "stderr",
     "output_type": "stream",
     "text": [
      "RGI06: all subregions have glaciers in them\n",
      "\n"
     ]
    },
    {
     "name": "stdout",
     "output_type": "stream",
     "text": [
      "RGI2000-v7.0-G-06_iceland/\n",
      "RGI2000-v7.0-G-06_iceland/RGI2000-v7.0-G-06_iceland_attributes.csv\n",
      "RGI2000-v7.0-G-06_iceland/RGI2000-v7.0-G-06_iceland.dbf\n",
      "RGI2000-v7.0-G-06_iceland/RGI2000-v7.0-G-06_iceland.shp\n",
      "RGI2000-v7.0-G-06_iceland/README.md\n",
      "RGI2000-v7.0-G-06_iceland/RGI2000-v7.0-G-06_iceland.shx\n",
      "RGI2000-v7.0-G-06_iceland/RGI2000-v7.0-G-06_iceland.prj\n",
      "RGI2000-v7.0-G-06_iceland/RGI2000-v7.0-G-06_iceland.cpg\n",
      "RGI2000-v7.0-G-06_iceland/RGI2000-v7.0-G-06_iceland_subm_info.csv\n"
     ]
    },
    {
     "data": {
      "application/vnd.jupyter.widget-view+json": {
       "model_id": "0a7e2b2096c34f49a9bf99e1a31bc57d",
       "version_major": 2,
       "version_minor": 0
      },
      "text/plain": [
       "Executing:   0%|          | 0/36 [00:00<?, ?cell/s]"
      ]
     },
     "metadata": {},
     "output_type": "display_data"
    },
    {
     "name": "stderr",
     "output_type": "stream",
     "text": [
      "RGI07: all subregions have glaciers in them\n",
      "\n"
     ]
    },
    {
     "name": "stdout",
     "output_type": "stream",
     "text": [
      "RGI2000-v7.0-G-07_svalbard_jan_mayen/\n",
      "RGI2000-v7.0-G-07_svalbard_jan_mayen/RGI2000-v7.0-G-07_svalbard_jan_mayen.shp\n",
      "RGI2000-v7.0-G-07_svalbard_jan_mayen/RGI2000-v7.0-G-07_svalbard_jan_mayen.dbf\n",
      "RGI2000-v7.0-G-07_svalbard_jan_mayen/RGI2000-v7.0-G-07_svalbard_jan_mayen_subm_info.csv\n",
      "RGI2000-v7.0-G-07_svalbard_jan_mayen/README.md\n",
      "RGI2000-v7.0-G-07_svalbard_jan_mayen/RGI2000-v7.0-G-07_svalbard_jan_mayen.prj\n",
      "RGI2000-v7.0-G-07_svalbard_jan_mayen/RGI2000-v7.0-G-07_svalbard_jan_mayen.cpg\n",
      "RGI2000-v7.0-G-07_svalbard_jan_mayen/RGI2000-v7.0-G-07_svalbard_jan_mayen.shx\n",
      "RGI2000-v7.0-G-07_svalbard_jan_mayen/RGI2000-v7.0-G-07_svalbard_jan_mayen_attributes.csv\n"
     ]
    },
    {
     "data": {
      "application/vnd.jupyter.widget-view+json": {
       "model_id": "215cd2df3f304b9ab8d1f22ea369c605",
       "version_major": 2,
       "version_minor": 0
      },
      "text/plain": [
       "Executing:   0%|          | 0/36 [00:00<?, ?cell/s]"
      ]
     },
     "metadata": {},
     "output_type": "display_data"
    },
    {
     "name": "stderr",
     "output_type": "stream",
     "text": [
      "RGI08: all subregions have glaciers in them\n",
      "\n"
     ]
    },
    {
     "name": "stdout",
     "output_type": "stream",
     "text": [
      "RGI2000-v7.0-G-08_scandinavia/\n",
      "RGI2000-v7.0-G-08_scandinavia/RGI2000-v7.0-G-08_scandinavia.shx\n",
      "RGI2000-v7.0-G-08_scandinavia/RGI2000-v7.0-G-08_scandinavia.prj\n",
      "RGI2000-v7.0-G-08_scandinavia/RGI2000-v7.0-G-08_scandinavia.cpg\n",
      "RGI2000-v7.0-G-08_scandinavia/README.md\n",
      "RGI2000-v7.0-G-08_scandinavia/RGI2000-v7.0-G-08_scandinavia_subm_info.csv\n",
      "RGI2000-v7.0-G-08_scandinavia/RGI2000-v7.0-G-08_scandinavia.shp\n",
      "RGI2000-v7.0-G-08_scandinavia/RGI2000-v7.0-G-08_scandinavia_attributes.csv\n",
      "RGI2000-v7.0-G-08_scandinavia/RGI2000-v7.0-G-08_scandinavia.dbf\n"
     ]
    },
    {
     "data": {
      "application/vnd.jupyter.widget-view+json": {
       "model_id": "dc84b949ec834242980d89fef44c23bd",
       "version_major": 2,
       "version_minor": 0
      },
      "text/plain": [
       "Executing:   0%|          | 0/36 [00:00<?, ?cell/s]"
      ]
     },
     "metadata": {},
     "output_type": "display_data"
    },
    {
     "name": "stderr",
     "output_type": "stream",
     "text": [
      "RGI09: all subregions have glaciers in them\n",
      "\n"
     ]
    },
    {
     "name": "stdout",
     "output_type": "stream",
     "text": [
      "RGI2000-v7.0-G-09_russian_arctic/\n",
      "RGI2000-v7.0-G-09_russian_arctic/RGI2000-v7.0-G-09_russian_arctic_subm_info.csv\n",
      "RGI2000-v7.0-G-09_russian_arctic/RGI2000-v7.0-G-09_russian_arctic.shx\n",
      "RGI2000-v7.0-G-09_russian_arctic/README.md\n",
      "RGI2000-v7.0-G-09_russian_arctic/RGI2000-v7.0-G-09_russian_arctic.prj\n",
      "RGI2000-v7.0-G-09_russian_arctic/RGI2000-v7.0-G-09_russian_arctic.cpg\n",
      "RGI2000-v7.0-G-09_russian_arctic/RGI2000-v7.0-G-09_russian_arctic_attributes.csv\n",
      "RGI2000-v7.0-G-09_russian_arctic/RGI2000-v7.0-G-09_russian_arctic.dbf\n",
      "RGI2000-v7.0-G-09_russian_arctic/RGI2000-v7.0-G-09_russian_arctic.shp\n"
     ]
    },
    {
     "data": {
      "application/vnd.jupyter.widget-view+json": {
       "model_id": "c3d7e98224824e58826adde55054ea8d",
       "version_major": 2,
       "version_minor": 0
      },
      "text/plain": [
       "Executing:   0%|          | 0/36 [00:00<?, ?cell/s]"
      ]
     },
     "metadata": {},
     "output_type": "display_data"
    },
    {
     "name": "stderr",
     "output_type": "stream",
     "text": [
      "RGI10: all subregions have glaciers in them\n",
      "\n"
     ]
    },
    {
     "name": "stdout",
     "output_type": "stream",
     "text": [
      "RGI2000-v7.0-G-10_asia_north/\n",
      "RGI2000-v7.0-G-10_asia_north/RGI2000-v7.0-G-10_asia_north.cpg\n",
      "RGI2000-v7.0-G-10_asia_north/RGI2000-v7.0-G-10_asia_north.prj\n",
      "RGI2000-v7.0-G-10_asia_north/README.md\n",
      "RGI2000-v7.0-G-10_asia_north/RGI2000-v7.0-G-10_asia_north_attributes.csv\n",
      "RGI2000-v7.0-G-10_asia_north/RGI2000-v7.0-G-10_asia_north.shx\n",
      "RGI2000-v7.0-G-10_asia_north/RGI2000-v7.0-G-10_asia_north_subm_info.csv\n",
      "RGI2000-v7.0-G-10_asia_north/RGI2000-v7.0-G-10_asia_north.shp\n",
      "RGI2000-v7.0-G-10_asia_north/RGI2000-v7.0-G-10_asia_north.dbf\n"
     ]
    },
    {
     "data": {
      "application/vnd.jupyter.widget-view+json": {
       "model_id": "aa2d50a5460342c6a790ad2d6ca85cbb",
       "version_major": 2,
       "version_minor": 0
      },
      "text/plain": [
       "Executing:   0%|          | 0/36 [00:00<?, ?cell/s]"
      ]
     },
     "metadata": {},
     "output_type": "display_data"
    },
    {
     "name": "stderr",
     "output_type": "stream",
     "text": [
      "RGI11: all subregions have glaciers in them\n",
      "\n"
     ]
    },
    {
     "name": "stdout",
     "output_type": "stream",
     "text": [
      "RGI2000-v7.0-G-11_central_europe/\n",
      "RGI2000-v7.0-G-11_central_europe/RGI2000-v7.0-G-11_central_europe.dbf\n",
      "RGI2000-v7.0-G-11_central_europe/RGI2000-v7.0-G-11_central_europe_subm_info.csv\n",
      "RGI2000-v7.0-G-11_central_europe/RGI2000-v7.0-G-11_central_europe.shp\n",
      "RGI2000-v7.0-G-11_central_europe/RGI2000-v7.0-G-11_central_europe_attributes.csv\n",
      "RGI2000-v7.0-G-11_central_europe/RGI2000-v7.0-G-11_central_europe.prj\n",
      "RGI2000-v7.0-G-11_central_europe/RGI2000-v7.0-G-11_central_europe.cpg\n",
      "RGI2000-v7.0-G-11_central_europe/RGI2000-v7.0-G-11_central_europe.shx\n",
      "RGI2000-v7.0-G-11_central_europe/README.md\n"
     ]
    },
    {
     "data": {
      "application/vnd.jupyter.widget-view+json": {
       "model_id": "dff12ea1cb2b4a75945e049971779c12",
       "version_major": 2,
       "version_minor": 0
      },
      "text/plain": [
       "Executing:   0%|          | 0/36 [00:00<?, ?cell/s]"
      ]
     },
     "metadata": {},
     "output_type": "display_data"
    },
    {
     "name": "stderr",
     "output_type": "stream",
     "text": [
      "RGI12: all subregions have glaciers in them\n",
      "\n"
     ]
    },
    {
     "name": "stdout",
     "output_type": "stream",
     "text": [
      "RGI2000-v7.0-G-12_caucasus_middle_east/\n",
      "RGI2000-v7.0-G-12_caucasus_middle_east/RGI2000-v7.0-G-12_caucasus_middle_east_attributes.csv\n",
      "RGI2000-v7.0-G-12_caucasus_middle_east/RGI2000-v7.0-G-12_caucasus_middle_east_subm_info.csv\n",
      "RGI2000-v7.0-G-12_caucasus_middle_east/RGI2000-v7.0-G-12_caucasus_middle_east.shp\n",
      "RGI2000-v7.0-G-12_caucasus_middle_east/RGI2000-v7.0-G-12_caucasus_middle_east.dbf\n",
      "RGI2000-v7.0-G-12_caucasus_middle_east/RGI2000-v7.0-G-12_caucasus_middle_east.shx\n",
      "RGI2000-v7.0-G-12_caucasus_middle_east/RGI2000-v7.0-G-12_caucasus_middle_east.prj\n",
      "RGI2000-v7.0-G-12_caucasus_middle_east/RGI2000-v7.0-G-12_caucasus_middle_east.cpg\n",
      "RGI2000-v7.0-G-12_caucasus_middle_east/README.md\n"
     ]
    },
    {
     "data": {
      "application/vnd.jupyter.widget-view+json": {
       "model_id": "fb11258b902b4a619a67af038f939211",
       "version_major": 2,
       "version_minor": 0
      },
      "text/plain": [
       "Executing:   0%|          | 0/36 [00:00<?, ?cell/s]"
      ]
     },
     "metadata": {},
     "output_type": "display_data"
    },
    {
     "name": "stderr",
     "output_type": "stream",
     "text": [
      "VSIFSeekL(xxx, SEEK_END) may be really slow on GZip streams.\n",
      "\n",
      "RGI13: all subregions have glaciers in them\n",
      "\n"
     ]
    },
    {
     "name": "stdout",
     "output_type": "stream",
     "text": [
      "RGI2000-v7.0-G-13_asia_central/\n",
      "RGI2000-v7.0-G-13_asia_central/RGI2000-v7.0-G-13_asia_central.cpg\n",
      "RGI2000-v7.0-G-13_asia_central/RGI2000-v7.0-G-13_asia_central.prj\n",
      "RGI2000-v7.0-G-13_asia_central/RGI2000-v7.0-G-13_asia_central.shx\n",
      "RGI2000-v7.0-G-13_asia_central/RGI2000-v7.0-G-13_asia_central.shp\n",
      "RGI2000-v7.0-G-13_asia_central/RGI2000-v7.0-G-13_asia_central.dbf\n",
      "RGI2000-v7.0-G-13_asia_central/RGI2000-v7.0-G-13_asia_central_subm_info.csv\n",
      "RGI2000-v7.0-G-13_asia_central/RGI2000-v7.0-G-13_asia_central_attributes.csv\n",
      "RGI2000-v7.0-G-13_asia_central/README.md\n"
     ]
    },
    {
     "data": {
      "application/vnd.jupyter.widget-view+json": {
       "model_id": "04cd3cad1e814ba1ab59273d404d749c",
       "version_major": 2,
       "version_minor": 0
      },
      "text/plain": [
       "Executing:   0%|          | 0/36 [00:00<?, ?cell/s]"
      ]
     },
     "metadata": {},
     "output_type": "display_data"
    },
    {
     "name": "stderr",
     "output_type": "stream",
     "text": [
      "VSIFSeekL(xxx, SEEK_END) may be really slow on GZip streams.\n",
      "\n",
      "RGI14: all subregions have glaciers in them\n",
      "\n"
     ]
    },
    {
     "name": "stdout",
     "output_type": "stream",
     "text": [
      "RGI2000-v7.0-G-14_asia_south_west/\n",
      "RGI2000-v7.0-G-14_asia_south_west/RGI2000-v7.0-G-14_asia_south_west.shp\n",
      "RGI2000-v7.0-G-14_asia_south_west/RGI2000-v7.0-G-14_asia_south_west.dbf\n",
      "RGI2000-v7.0-G-14_asia_south_west/README.md\n",
      "RGI2000-v7.0-G-14_asia_south_west/RGI2000-v7.0-G-14_asia_south_west.prj\n",
      "RGI2000-v7.0-G-14_asia_south_west/RGI2000-v7.0-G-14_asia_south_west.cpg\n",
      "RGI2000-v7.0-G-14_asia_south_west/RGI2000-v7.0-G-14_asia_south_west_subm_info.csv\n",
      "RGI2000-v7.0-G-14_asia_south_west/RGI2000-v7.0-G-14_asia_south_west_attributes.csv\n",
      "RGI2000-v7.0-G-14_asia_south_west/RGI2000-v7.0-G-14_asia_south_west.shx\n"
     ]
    },
    {
     "data": {
      "application/vnd.jupyter.widget-view+json": {
       "model_id": "8489a23fe67449a4b75a8a2b74d2753b",
       "version_major": 2,
       "version_minor": 0
      },
      "text/plain": [
       "Executing:   0%|          | 0/36 [00:00<?, ?cell/s]"
      ]
     },
     "metadata": {},
     "output_type": "display_data"
    },
    {
     "name": "stderr",
     "output_type": "stream",
     "text": [
      "VSIFSeekL(xxx, SEEK_END) may be really slow on GZip streams.\n",
      "\n",
      "RGI15: all subregions have glaciers in them\n",
      "\n"
     ]
    },
    {
     "name": "stdout",
     "output_type": "stream",
     "text": [
      "RGI2000-v7.0-G-15_asia_south_east/\n",
      "RGI2000-v7.0-G-15_asia_south_east/RGI2000-v7.0-G-15_asia_south_east.prj\n",
      "RGI2000-v7.0-G-15_asia_south_east/RGI2000-v7.0-G-15_asia_south_east.cpg\n",
      "RGI2000-v7.0-G-15_asia_south_east/README.md\n",
      "RGI2000-v7.0-G-15_asia_south_east/RGI2000-v7.0-G-15_asia_south_east.shx\n",
      "RGI2000-v7.0-G-15_asia_south_east/RGI2000-v7.0-G-15_asia_south_east_attributes.csv\n",
      "RGI2000-v7.0-G-15_asia_south_east/RGI2000-v7.0-G-15_asia_south_east.dbf\n",
      "RGI2000-v7.0-G-15_asia_south_east/RGI2000-v7.0-G-15_asia_south_east_subm_info.csv\n",
      "RGI2000-v7.0-G-15_asia_south_east/RGI2000-v7.0-G-15_asia_south_east.shp\n"
     ]
    },
    {
     "data": {
      "application/vnd.jupyter.widget-view+json": {
       "model_id": "971b976e418540b49dfd65739140ce72",
       "version_major": 2,
       "version_minor": 0
      },
      "text/plain": [
       "Executing:   0%|          | 0/36 [00:00<?, ?cell/s]"
      ]
     },
     "metadata": {},
     "output_type": "display_data"
    },
    {
     "name": "stderr",
     "output_type": "stream",
     "text": [
      "RGI16: all subregions have glaciers in them\n",
      "\n"
     ]
    },
    {
     "name": "stdout",
     "output_type": "stream",
     "text": [
      "RGI2000-v7.0-G-16_low_latitudes/\n",
      "RGI2000-v7.0-G-16_low_latitudes/RGI2000-v7.0-G-16_low_latitudes_subm_info.csv\n",
      "RGI2000-v7.0-G-16_low_latitudes/RGI2000-v7.0-G-16_low_latitudes.shx\n",
      "RGI2000-v7.0-G-16_low_latitudes/RGI2000-v7.0-G-16_low_latitudes_attributes.csv\n",
      "RGI2000-v7.0-G-16_low_latitudes/RGI2000-v7.0-G-16_low_latitudes.cpg\n",
      "RGI2000-v7.0-G-16_low_latitudes/RGI2000-v7.0-G-16_low_latitudes.prj\n",
      "RGI2000-v7.0-G-16_low_latitudes/README.md\n",
      "RGI2000-v7.0-G-16_low_latitudes/RGI2000-v7.0-G-16_low_latitudes.shp\n",
      "RGI2000-v7.0-G-16_low_latitudes/RGI2000-v7.0-G-16_low_latitudes.dbf\n"
     ]
    },
    {
     "data": {
      "application/vnd.jupyter.widget-view+json": {
       "model_id": "500ee99097654e3ab16aa3689608d525",
       "version_major": 2,
       "version_minor": 0
      },
      "text/plain": [
       "Executing:   0%|          | 0/36 [00:00<?, ?cell/s]"
      ]
     },
     "metadata": {},
     "output_type": "display_data"
    },
    {
     "name": "stderr",
     "output_type": "stream",
     "text": [
      "VSIFSeekL(xxx, SEEK_END) may be really slow on GZip streams.\n",
      "\n",
      "RGI17: all subregions have glaciers in them\n",
      "\n"
     ]
    },
    {
     "name": "stdout",
     "output_type": "stream",
     "text": [
      "RGI2000-v7.0-G-17_southern_andes/\n",
      "RGI2000-v7.0-G-17_southern_andes/RGI2000-v7.0-G-17_southern_andes.cpg\n",
      "RGI2000-v7.0-G-17_southern_andes/RGI2000-v7.0-G-17_southern_andes.prj\n",
      "RGI2000-v7.0-G-17_southern_andes/RGI2000-v7.0-G-17_southern_andes.shx\n",
      "RGI2000-v7.0-G-17_southern_andes/RGI2000-v7.0-G-17_southern_andes_subm_info.csv\n",
      "RGI2000-v7.0-G-17_southern_andes/RGI2000-v7.0-G-17_southern_andes.dbf\n",
      "RGI2000-v7.0-G-17_southern_andes/RGI2000-v7.0-G-17_southern_andes.shp\n",
      "RGI2000-v7.0-G-17_southern_andes/README.md\n",
      "RGI2000-v7.0-G-17_southern_andes/RGI2000-v7.0-G-17_southern_andes_attributes.csv\n"
     ]
    },
    {
     "data": {
      "application/vnd.jupyter.widget-view+json": {
       "model_id": "f3e1c82067a044fb9132aa6413fcb64d",
       "version_major": 2,
       "version_minor": 0
      },
      "text/plain": [
       "Executing:   0%|          | 0/36 [00:00<?, ?cell/s]"
      ]
     },
     "metadata": {},
     "output_type": "display_data"
    },
    {
     "name": "stderr",
     "output_type": "stream",
     "text": [
      "RGI18: all subregions have glaciers in them\n",
      "\n"
     ]
    },
    {
     "name": "stdout",
     "output_type": "stream",
     "text": [
      "RGI2000-v7.0-G-18_new_zealand/\n",
      "RGI2000-v7.0-G-18_new_zealand/RGI2000-v7.0-G-18_new_zealand.shp\n",
      "RGI2000-v7.0-G-18_new_zealand/RGI2000-v7.0-G-18_new_zealand_subm_info.csv\n",
      "RGI2000-v7.0-G-18_new_zealand/RGI2000-v7.0-G-18_new_zealand.dbf\n",
      "RGI2000-v7.0-G-18_new_zealand/RGI2000-v7.0-G-18_new_zealand.shx\n",
      "RGI2000-v7.0-G-18_new_zealand/RGI2000-v7.0-G-18_new_zealand_attributes.csv\n",
      "RGI2000-v7.0-G-18_new_zealand/RGI2000-v7.0-G-18_new_zealand.cpg\n",
      "RGI2000-v7.0-G-18_new_zealand/RGI2000-v7.0-G-18_new_zealand.prj\n",
      "RGI2000-v7.0-G-18_new_zealand/README.md\n"
     ]
    },
    {
     "data": {
      "application/vnd.jupyter.widget-view+json": {
       "model_id": "52ab335a79384e9fac388ba5d8cfeca7",
       "version_major": 2,
       "version_minor": 0
      },
      "text/plain": [
       "Executing:   0%|          | 0/36 [00:00<?, ?cell/s]"
      ]
     },
     "metadata": {},
     "output_type": "display_data"
    },
    {
     "name": "stderr",
     "output_type": "stream",
     "text": [
      "VSIFSeekL(xxx, SEEK_END) may be really slow on GZip streams.\n",
      "\n",
      "RGI19: some subregions have NO glaciers in them\n",
      "\n"
     ]
    },
    {
     "name": "stdout",
     "output_type": "stream",
     "text": [
      "RGI2000-v7.0-G-19_subantarctic_antarctic_islands/\n",
      "RGI2000-v7.0-G-19_subantarctic_antarctic_islands/RGI2000-v7.0-G-19_subantarctic_antarctic_islands.cpg\n",
      "RGI2000-v7.0-G-19_subantarctic_antarctic_islands/RGI2000-v7.0-G-19_subantarctic_antarctic_islands.prj\n",
      "RGI2000-v7.0-G-19_subantarctic_antarctic_islands/RGI2000-v7.0-G-19_subantarctic_antarctic_islands.shx\n",
      "RGI2000-v7.0-G-19_subantarctic_antarctic_islands/RGI2000-v7.0-G-19_subantarctic_antarctic_islands.dbf\n",
      "RGI2000-v7.0-G-19_subantarctic_antarctic_islands/RGI2000-v7.0-G-19_subantarctic_antarctic_islands.shp\n",
      "RGI2000-v7.0-G-19_subantarctic_antarctic_islands/RGI2000-v7.0-G-19_subantarctic_antarctic_islands_attributes.csv\n",
      "RGI2000-v7.0-G-19_subantarctic_antarctic_islands/README.md\n",
      "RGI2000-v7.0-G-19_subantarctic_antarctic_islands/RGI2000-v7.0-G-19_subantarctic_antarctic_islands_subm_info.csv\n"
     ]
    }
   ],
   "source": [
    "for reg in range(1, 20):\n",
    "    pm.execute_notebook(\n",
    "       'alpha_to_beta_tpl.ipynb',\n",
    "       f'alpha_to_beta_RGI{reg:02d}.ipynb',\n",
    "       parameters=dict(reg=reg),\n",
    "       log_output=True\n",
    "    );"
   ]
  },
  {
   "cell_type": "code",
   "execution_count": null,
   "id": "2bfea39b-e336-4358-9731-dd65ee5ffc6b",
   "metadata": {},
   "outputs": [],
   "source": []
  }
 ],
 "metadata": {
  "kernelspec": {
   "display_name": "Python 3 (ipykernel)",
   "language": "python",
   "name": "python3"
  },
  "language_info": {
   "codemirror_mode": {
    "name": "ipython",
    "version": 3
   },
   "file_extension": ".py",
   "mimetype": "text/x-python",
   "name": "python",
   "nbconvert_exporter": "python",
   "pygments_lexer": "ipython3",
   "version": "3.10.8"
  }
 },
 "nbformat": 4,
 "nbformat_minor": 5
}
