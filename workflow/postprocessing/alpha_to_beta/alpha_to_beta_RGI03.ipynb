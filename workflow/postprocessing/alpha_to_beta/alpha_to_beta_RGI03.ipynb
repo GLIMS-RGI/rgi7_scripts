{
 "cells": [
  {
   "cell_type": "code",
   "execution_count": null,
   "id": "46adc67a-c914-4b66-a3de-aed2506fb298",
   "metadata": {
    "papermill": {
     "duration": 0.487593,
     "end_time": "2023-03-25T14:51:24.242165",
     "exception": false,
     "start_time": "2023-03-25T14:51:23.754572",
     "status": "completed"
    },
    "tags": []
   },
   "outputs": [],
   "source": [
    "import pandas as pd\n",
    "import geopandas as gpd\n",
    "import subprocess\n",
    "import numpy as np\n",
    "import shapely.geometry as shpg\n",
    "import os\n",
    "import sys\n",
    "import csv\n",
    "import json\n",
    "import logging\n",
    "import shutil"
   ]
  },
  {
   "cell_type": "code",
   "execution_count": null,
   "id": "bad5729c-29eb-4fb6-80cf-b7d279f0343a",
   "metadata": {
    "papermill": {
     "duration": 0.0137,
     "end_time": "2023-03-25T14:51:24.265476",
     "exception": false,
     "start_time": "2023-03-25T14:51:24.251776",
     "status": "completed"
    },
    "tags": []
   },
   "outputs": [],
   "source": [
    "import warnings\n",
    "warnings.filterwarnings('ignore', category=FutureWarning)"
   ]
  },
  {
   "cell_type": "code",
   "execution_count": null,
   "id": "c62aa692-c347-4e74-bc0f-c0cdc9da4669",
   "metadata": {
    "papermill": {
     "duration": 1.715731,
     "end_time": "2023-03-25T14:51:25.986888",
     "exception": false,
     "start_time": "2023-03-25T14:51:24.271157",
     "status": "completed"
    },
    "tags": []
   },
   "outputs": [],
   "source": [
    "sys.path.append(os.getcwd() + '/../..')\n",
    "from utils import mkdir, open_zip_shapefile, open_tar_shapefile, haversine"
   ]
  },
  {
   "cell_type": "code",
   "execution_count": null,
   "id": "7c601bdf-1db0-429e-bb22-479f14ffe496",
   "metadata": {
    "papermill": {
     "duration": 0.012521,
     "end_time": "2023-03-25T14:51:26.008182",
     "exception": false,
     "start_time": "2023-03-25T14:51:25.995661",
     "status": "completed"
    },
    "tags": []
   },
   "outputs": [],
   "source": [
    "log = logging.getLogger('papermill')\n",
    "logging.basicConfig(level='INFO', format=\"%(message)s\")"
   ]
  },
  {
   "cell_type": "markdown",
   "id": "8487f7be-608e-44f1-88ec-671465325a11",
   "metadata": {
    "papermill": {
     "duration": 0.006366,
     "end_time": "2023-03-25T14:51:26.021045",
     "exception": false,
     "start_time": "2023-03-25T14:51:26.014679",
     "status": "completed"
    },
    "tags": []
   },
   "source": [
    "## Files and storage paths"
   ]
  },
  {
   "cell_type": "code",
   "execution_count": null,
   "id": "1c753f79-c5b6-49f0-b6ba-bfe40fd7eac3",
   "metadata": {
    "papermill": {
     "duration": 0.015189,
     "end_time": "2023-03-25T14:51:26.042403",
     "exception": false,
     "start_time": "2023-03-25T14:51:26.027214",
     "status": "completed"
    },
    "tags": [
     "parameters"
    ]
   },
   "outputs": [],
   "source": [
    "# Region of interest\n",
    "reg = 1\n",
    "\n",
    "# go down from rgi7_scripts/workflow\n",
    "data_dir = '../../../../rgi7_data/'\n",
    "\n",
    "# Input dirctory\n",
    "input_dir = os.path.join(data_dir, 'l3_rgi7a_tar')\n",
    "\n",
    "# Output directories\n",
    "output_dir = mkdir(os.path.join(data_dir, 'l4_rgi7b0'))\n",
    "output_dir_tar = mkdir(os.path.join(data_dir, 'l4_rgi7b0_tar'))"
   ]
  },
  {
   "cell_type": "code",
   "execution_count": null,
   "id": "f8e999b1",
   "metadata": {
    "papermill": {
     "duration": 0.011543,
     "end_time": "2023-03-25T14:51:26.060423",
     "exception": false,
     "start_time": "2023-03-25T14:51:26.048880",
     "status": "completed"
    },
    "tags": [
     "injected-parameters"
    ]
   },
   "outputs": [],
   "source": [
    "# Parameters\n",
    "reg = 3\n"
   ]
  },
  {
   "cell_type": "markdown",
   "id": "f2d31af4-b2b2-4dc9-b286-be594f2feb7e",
   "metadata": {
    "papermill": {
     "duration": 0.005047,
     "end_time": "2023-03-25T14:51:26.072053",
     "exception": false,
     "start_time": "2023-03-25T14:51:26.067006",
     "status": "completed"
    },
    "tags": []
   },
   "source": [
    "### Load the input data"
   ]
  },
  {
   "cell_type": "code",
   "execution_count": null,
   "id": "caab54b7-92c0-45fa-a943-25225b119001",
   "metadata": {
    "papermill": {
     "duration": 1.749215,
     "end_time": "2023-03-25T14:51:27.827292",
     "exception": false,
     "start_time": "2023-03-25T14:51:26.078077",
     "status": "completed"
    },
    "tags": []
   },
   "outputs": [],
   "source": [
    "# Read files\n",
    "shp = open_tar_shapefile(input_dir + f'/RGI{reg:02d}.tar.gz')"
   ]
  },
  {
   "cell_type": "code",
   "execution_count": null,
   "id": "77cf5415-997a-4aab-be08-726242a61228",
   "metadata": {
    "papermill": {
     "duration": 0.03827,
     "end_time": "2023-03-25T14:51:27.878673",
     "exception": false,
     "start_time": "2023-03-25T14:51:27.840403",
     "status": "completed"
    },
    "tags": []
   },
   "outputs": [],
   "source": [
    "orig_attrs = pd.DataFrame(shp.drop('geometry', axis=1))\n",
    "orig_attrs.T;"
   ]
  },
  {
   "cell_type": "code",
   "execution_count": null,
   "id": "e1b92b0a-3767-455a-8884-4666b0cf504a",
   "metadata": {
    "papermill": {
     "duration": 0.015114,
     "end_time": "2023-03-25T14:51:27.905488",
     "exception": false,
     "start_time": "2023-03-25T14:51:27.890374",
     "status": "completed"
    },
    "tags": []
   },
   "outputs": [],
   "source": [
    "if 'conn_lvl' not in shp:\n",
    "    print('Add conn_lvl')\n",
    "    shp['conn_lvl'] = 0"
   ]
  },
  {
   "cell_type": "code",
   "execution_count": null,
   "id": "e09e91a0-6561-4cd7-907a-60aeb23e545f",
   "metadata": {
    "papermill": {
     "duration": 0.018146,
     "end_time": "2023-03-25T14:51:27.932246",
     "exception": false,
     "start_time": "2023-03-25T14:51:27.914100",
     "status": "completed"
    },
    "tags": []
   },
   "outputs": [],
   "source": [
    "odf = shp.copy()"
   ]
  },
  {
   "cell_type": "code",
   "execution_count": null,
   "id": "17837ca6-2d55-4ae7-af15-4b572f2eefbf",
   "metadata": {
    "papermill": {
     "duration": 0.019193,
     "end_time": "2023-03-25T14:51:27.960814",
     "exception": false,
     "start_time": "2023-03-25T14:51:27.941621",
     "status": "completed"
    },
    "tags": []
   },
   "outputs": [],
   "source": [
    "rename = {'area':'area_km2', 'CenLon': 'cenlon', 'CenLat': 'cenlat', 'glac_id':'glims_id'}\n",
    "odf = odf.rename(rename, axis=1)"
   ]
  },
  {
   "cell_type": "markdown",
   "id": "c2895b31-0bb5-4192-a158-c6ff07abd1ba",
   "metadata": {
    "papermill": {
     "duration": 0.007371,
     "end_time": "2023-03-25T14:51:27.976239",
     "exception": false,
     "start_time": "2023-03-25T14:51:27.968868",
     "status": "completed"
    },
    "tags": []
   },
   "source": [
    "Recompute area and center point to be sure:"
   ]
  },
  {
   "cell_type": "code",
   "execution_count": null,
   "id": "b54183cb-e0e5-4e82-942d-dbde26f1e7a3",
   "metadata": {
    "papermill": {
     "duration": 0.482531,
     "end_time": "2023-03-25T14:51:28.468187",
     "exception": false,
     "start_time": "2023-03-25T14:51:27.985656",
     "status": "completed"
    },
    "tags": []
   },
   "outputs": [],
   "source": [
    "def xy_coord(geom):\n",
    "    x, y = geom.xy\n",
    "    return x[0], y[0]\n",
    "\n",
    "rp = odf.representative_point()\n",
    "\n",
    "coordinates = np.array(list(rp.apply(xy_coord)))\n",
    "odf['cenlon'] = coordinates[:, 0]\n",
    "odf['cenlat'] = coordinates[:, 1]\n",
    "\n",
    "odf['area_km2'] = odf.to_crs({'proj':'cea'}).area * 1e-6"
   ]
  },
  {
   "cell_type": "code",
   "execution_count": null,
   "id": "14dff652-d75c-4702-90d0-8e2462577487",
   "metadata": {
    "papermill": {
     "duration": 0.024492,
     "end_time": "2023-03-25T14:51:28.507046",
     "exception": false,
     "start_time": "2023-03-25T14:51:28.482554",
     "status": "completed"
    },
    "tags": []
   },
   "outputs": [],
   "source": [
    "odf['glac_name'] = odf['glac_name'].where(odf['glac_name'] != 'None', '')"
   ]
  },
  {
   "cell_type": "markdown",
   "id": "8d88df3a-a0da-41aa-80a2-6ee799789b25",
   "metadata": {
    "papermill": {
     "duration": 0.006732,
     "end_time": "2023-03-25T14:51:28.520877",
     "exception": false,
     "start_time": "2023-03-25T14:51:28.514145",
     "status": "completed"
    },
    "tags": []
   },
   "source": [
    "## Metadata "
   ]
  },
  {
   "cell_type": "code",
   "execution_count": null,
   "id": "3da9f86f-42fa-4ae4-b5f5-bbc2708d7f80",
   "metadata": {
    "papermill": {
     "duration": 0.013952,
     "end_time": "2023-03-25T14:51:28.542771",
     "exception": false,
     "start_time": "2023-03-25T14:51:28.528819",
     "status": "completed"
    },
    "tags": []
   },
   "outputs": [],
   "source": [
    "with open('../rgi7_attributes_metadata.json', 'r') as infile:\n",
    "    meta = json.load(infile)"
   ]
  },
  {
   "cell_type": "code",
   "execution_count": null,
   "id": "6efe0d1f-3125-4062-b9c4-2d9717db2e98",
   "metadata": {
    "papermill": {
     "duration": 0.033517,
     "end_time": "2023-03-25T14:51:28.584008",
     "exception": false,
     "start_time": "2023-03-25T14:51:28.550491",
     "status": "completed"
    },
    "tags": []
   },
   "outputs": [],
   "source": [
    "odf_new = odf[[]].copy().reset_index(drop=True)\n",
    "\n",
    "for col, attrs in meta.items():\n",
    "    if col not in odf:\n",
    "        if attrs['datatype'] == 'str':\n",
    "            odf_new[col] = ''\n",
    "        elif attrs['datatype'] == 'float':\n",
    "            odf_new[col] = np.NaN\n",
    "        elif attrs['datatype'] == 'int':\n",
    "            odf_new[col] = -999 \n",
    "    else: \n",
    "        if attrs['datatype']:\n",
    "            odf_new[col] = odf[col].astype(attrs['datatype'])\n",
    "        else: \n",
    "            odf_new[col] = odf[col]"
   ]
  },
  {
   "cell_type": "code",
   "execution_count": null,
   "id": "19f7932c-0795-487e-89d3-f72c20eeb1c4",
   "metadata": {
    "papermill": {
     "duration": 0.019773,
     "end_time": "2023-03-25T14:51:28.613347",
     "exception": false,
     "start_time": "2023-03-25T14:51:28.593574",
     "status": "completed"
    },
    "tags": []
   },
   "outputs": [],
   "source": [
    "odf_new = gpd.GeoDataFrame(odf_new)\n",
    "odf_new.crs = odf.crs\n",
    "odf_new = odf_new.reset_index(drop=True)\n",
    "odf_new.iloc[:1].T;"
   ]
  },
  {
   "cell_type": "markdown",
   "id": "450e8521-6572-474c-afe5-0989eb843536",
   "metadata": {
    "papermill": {
     "duration": 0.007911,
     "end_time": "2023-03-25T14:51:28.629838",
     "exception": false,
     "start_time": "2023-03-25T14:51:28.621927",
     "status": "completed"
    },
    "tags": []
   },
   "source": [
    "## Regions, subregions and RGI IDs"
   ]
  },
  {
   "cell_type": "code",
   "execution_count": null,
   "id": "544c32b7-a630-4f2b-a82d-5a2372ad527d",
   "metadata": {
    "papermill": {
     "duration": 0.014937,
     "end_time": "2023-03-25T14:51:28.652245",
     "exception": false,
     "start_time": "2023-03-25T14:51:28.637308",
     "status": "completed"
    },
    "tags": []
   },
   "outputs": [],
   "source": [
    "odf_new['o1region'] = f'{reg:02d}'"
   ]
  },
  {
   "cell_type": "code",
   "execution_count": null,
   "id": "21cc6a76-449e-41be-9f83-76f94e0aaede",
   "metadata": {
    "papermill": {
     "duration": 0.077777,
     "end_time": "2023-03-25T14:51:28.738589",
     "exception": false,
     "start_time": "2023-03-25T14:51:28.660812",
     "status": "completed"
    },
    "tags": []
   },
   "outputs": [],
   "source": [
    "sreg_file = os.path.join(data_dir, '00_rgi70_regions', '00_rgi70_O2Regions')\n",
    "sreg = gpd.read_file(sreg_file)\n",
    "sreg = sreg.loc[sreg.o1region == f'{reg:02d}']\n",
    "sreg;"
   ]
  },
  {
   "cell_type": "code",
   "execution_count": null,
   "id": "29782e31-7feb-46f1-8398-16296d7dc5ee",
   "metadata": {
    "papermill": {
     "duration": 0.675117,
     "end_time": "2023-03-25T14:51:29.426944",
     "exception": false,
     "start_time": "2023-03-25T14:51:28.751827",
     "status": "completed"
    },
    "tags": []
   },
   "outputs": [],
   "source": [
    "baseid = f'RGI2000-v7.0-G-{reg:02d}-'\n",
    "count = 0\n",
    "\n",
    "rp = odf_new.representative_point()\n",
    "rp = rp.to_frame('geometry')\n",
    "rp['orig_index'] = odf_new.index\n",
    "\n",
    "total = 0\n",
    "\n",
    "for i, s in sreg.iterrows():\n",
    "    \n",
    "    intersect = gpd.overlay(rp, sreg.loc[[i]], how='intersection')\n",
    "    odf_sreg = odf_new.loc[intersect['orig_index']].copy()\n",
    "    odf_sreg['o2region'] = s['o2region']\n",
    "    \n",
    "    total += len(odf_sreg)\n",
    "    \n",
    "    if len(odf_sreg) == 0:\n",
    "        # 19-05 Ross Ice Shelf one of them\n",
    "        continue\n",
    "    \n",
    "    # Ids generation\n",
    "    # Left most point and we start from there\n",
    "    slon, slat = odf_sreg.loc[odf_sreg.cenlon == odf_sreg.cenlon.min()][['cenlon', 'cenlat']].iloc[0].values\n",
    "    \n",
    "    todo = odf_sreg.index.values\n",
    "    todo_lon = odf_sreg['cenlon'].values\n",
    "    todo_lat = odf_sreg['cenlat'].values\n",
    "    ids = []\n",
    "    while len(todo) > 0:\n",
    "        dis = haversine(slon, slat, todo_lon, todo_lat)\n",
    "        idm = np.argmin(dis)\n",
    "        ids.append(todo[idm])\n",
    "        slon, slat = todo_lon[idm], todo_lat[idm]\n",
    "        todo = np.delete(todo, idm)\n",
    "        todo_lon = np.delete(todo_lon, idm)\n",
    "        todo_lat = np.delete(todo_lat, idm)\n",
    "    \n",
    "    assert len(ids) == len(odf_sreg)\n",
    "    odf_sreg = odf_sreg.loc[ids].copy()\n",
    "    \n",
    "    odf_sreg['rgi_id'] = [baseid + f'{l+count:05d}' for l in range(len(odf_sreg))]\n",
    "    count += len(odf_sreg)\n",
    "    odf_new.loc[odf_sreg.index, 'rgi_id'] = odf_sreg['rgi_id']\n",
    "    odf_new.loc[odf_sreg.index, 'o2region'] = odf_sreg['o2region']\n",
    "    \n",
    "odf_new = odf_new.sort_values(by='rgi_id').reset_index(drop=True)\n",
    "\n",
    "assert odf_new['o2region'].isnull().sum() == 0\n",
    "assert int(odf_new.iloc[-1]['rgi_id'].split('-')[-1]) == odf_new.iloc[-1].name\n",
    "if len(odf_new['o2region'].unique()) != len(sreg):\n",
    "    log.warning(f'RGI{reg:02d}: some subregions have NO glaciers in them')\n",
    "else:\n",
    "    log.info(f'RGI{reg:02d}: all subregions have glaciers in them')\n",
    "assert len(odf_new) == len(odf)"
   ]
  },
  {
   "cell_type": "code",
   "execution_count": null,
   "id": "567e0186-4fa8-448b-83e3-f900ea245a4e",
   "metadata": {
    "papermill": {
     "duration": 0.020426,
     "end_time": "2023-03-25T14:51:29.460741",
     "exception": false,
     "start_time": "2023-03-25T14:51:29.440315",
     "status": "completed"
    },
    "tags": []
   },
   "outputs": [],
   "source": [
    "odf_new.iloc[:1].T;"
   ]
  },
  {
   "cell_type": "markdown",
   "id": "ad528b70-acfd-47db-99f3-3e123373516a",
   "metadata": {
    "papermill": {
     "duration": 0.007163,
     "end_time": "2023-03-25T14:51:29.476438",
     "exception": false,
     "start_time": "2023-03-25T14:51:29.469275",
     "status": "completed"
    },
    "tags": []
   },
   "source": [
    "## Submission metadata"
   ]
  },
  {
   "cell_type": "code",
   "execution_count": null,
   "id": "470e8c16-42eb-443f-a176-c767ee7c3722",
   "metadata": {
    "papermill": {
     "duration": 0.016557,
     "end_time": "2023-03-25T14:51:29.502303",
     "exception": false,
     "start_time": "2023-03-25T14:51:29.485746",
     "status": "completed"
    },
    "tags": []
   },
   "outputs": [],
   "source": [
    "with open('../rgi7_submission_info_metadata.json', 'r') as infile:\n",
    "    meta_sub = json.load(infile)"
   ]
  },
  {
   "cell_type": "code",
   "execution_count": null,
   "id": "00c9d8ae-9743-4540-a5f4-50e44c0da289",
   "metadata": {
    "papermill": {
     "duration": 0.05388,
     "end_time": "2023-03-25T14:51:29.566362",
     "exception": false,
     "start_time": "2023-03-25T14:51:29.512482",
     "status": "completed"
    },
    "tags": []
   },
   "outputs": [],
   "source": [
    "subm_id = orig_attrs['subm_id'].unique()\n",
    "odf_subm = pd.DataFrame()\n",
    "for sid in subm_id:\n",
    "    sel = orig_attrs.loc[orig_attrs['subm_id'] == sid]\n",
    "    for k in meta_sub.keys():\n",
    "        if k == 'subm_id':\n",
    "            continue\n",
    "        attrs = meta_sub[k]\n",
    "        if k not in sel:\n",
    "            if attrs['datatype'] == 'str':\n",
    "                odf_subm.loc[int(sid), k] = ''\n",
    "            elif attrs['datatype'] == 'float':\n",
    "                odf_subm.loc[int(sid), k] = np.NaN\n",
    "            elif attrs['datatype'] == 'int':\n",
    "                odf_subm.loc[int(sid), k] = -999\n",
    "        else: \n",
    "            assert len(sel[k].unique()==1), f'{k} has non unique values'\n",
    "            if attrs['datatype']:\n",
    "                data = sel[k].astype(attrs['datatype']).iloc[0]\n",
    "            else: \n",
    "                data = sel[k].iloc[0]\n",
    "                \n",
    "            if attrs['datatype'] == 'str':\n",
    "                # Clean\n",
    "                data = data.strip().lstrip(';').strip()\n",
    "                \n",
    "            odf_subm.loc[int(sid), k] = data\n",
    "            \n",
    "    odf_subm.loc[int(sid), 'n_outlines'] = len(sel)\n",
    "    odf_subm.loc[int(sid), 'area_km2'] = sel['area'].sum() * 1e-6\n",
    "        \n",
    "odf_subm.index.name = 'subm_id' \n",
    "odf_subm['n_outlines'] = odf_subm['n_outlines'].astype(int)\n",
    "odf_subm['rc_id'] = odf_subm['rc_id'].astype(int)\n",
    "odf_subm = odf_subm.sort_index()\n",
    "odf_subm;"
   ]
  },
  {
   "cell_type": "markdown",
   "id": "1e9da820-bb63-44ba-9c9e-4b9bb43dc83d",
   "metadata": {
    "papermill": {
     "duration": 0.008008,
     "end_time": "2023-03-25T14:51:29.587640",
     "exception": false,
     "start_time": "2023-03-25T14:51:29.579632",
     "status": "completed"
    },
    "tags": []
   },
   "source": [
    "## Write out and tar "
   ]
  },
  {
   "cell_type": "code",
   "execution_count": null,
   "id": "a9f2ad69-a5e6-49ad-b2c3-7e928bbd2a29",
   "metadata": {
    "papermill": {
     "duration": 0.053219,
     "end_time": "2023-03-25T14:51:29.650464",
     "exception": false,
     "start_time": "2023-03-25T14:51:29.597245",
     "status": "completed"
    },
    "tags": []
   },
   "outputs": [],
   "source": [
    "reg_file = os.path.join(data_dir, '00_rgi70_regions', '00_rgi70_O1Regions')\n",
    "reg_file = gpd.read_file(reg_file)\n",
    "reg_file = reg_file.loc[reg_file.o1region == f'{reg:02d}'].iloc[0]"
   ]
  },
  {
   "cell_type": "code",
   "execution_count": null,
   "id": "6280b37d-6683-4670-b499-181fa14b57e9",
   "metadata": {
    "papermill": {
     "duration": 10.151462,
     "end_time": "2023-03-25T14:51:39.815016",
     "exception": false,
     "start_time": "2023-03-25T14:51:29.663554",
     "status": "completed"
    },
    "tags": []
   },
   "outputs": [],
   "source": [
    "dd = mkdir(f'{output_dir}/RGI2000-v7.0-G-{reg_file.long_code}/', reset=True)\n",
    "\n",
    "print('Writing...')\n",
    "odf_new.to_file(dd + f'RGI2000-v7.0-G-{reg_file.long_code}.shp')\n",
    "odf_subm.to_csv(dd + f'RGI2000-v7.0-G-{reg_file.long_code}_subm_info.csv', quoting=csv.QUOTE_NONNUMERIC)\n",
    "odf_new.drop('geometry', axis=1).set_index('rgi_id').to_csv(dd + f'RGI2000-v7.0-G-{reg_file.long_code}_attributes.csv', quoting=csv.QUOTE_NONNUMERIC)\n",
    "shutil.copyfile('../README_tpl.md', dd + f'README.md')\n",
    "\n",
    "print('Taring...')\n",
    "print(subprocess.run(['tar', '-zcvf', f'{output_dir_tar}/RGI2000-v7.0-G-{reg_file.long_code}.tar.gz', '-C', output_dir, f'RGI2000-v7.0-G-{reg_file.long_code}']))"
   ]
  },
  {
   "cell_type": "code",
   "execution_count": null,
   "id": "7667dbd4-fc48-445c-bee8-6156c82bfa3e",
   "metadata": {
    "papermill": {
     "duration": 0.018036,
     "end_time": "2023-03-25T14:51:39.849298",
     "exception": false,
     "start_time": "2023-03-25T14:51:39.831262",
     "status": "completed"
    },
    "tags": []
   },
   "outputs": [],
   "source": [
    "odf_new;"
   ]
  },
  {
   "cell_type": "code",
   "execution_count": null,
   "id": "1b64b5cc-046a-4d96-a3ce-d047d9e20a8b",
   "metadata": {
    "papermill": {
     "duration": 0.015263,
     "end_time": "2023-03-25T14:51:39.873104",
     "exception": false,
     "start_time": "2023-03-25T14:51:39.857841",
     "status": "completed"
    },
    "tags": []
   },
   "outputs": [],
   "source": [
    "import glob, os\n",
    "for f in glob.glob( f\"{output_dir_tar}/*.properties\"):\n",
    "    os.remove(f)"
   ]
  },
  {
   "cell_type": "markdown",
   "id": "7bd3a216-a8bf-4eb7-a485-7c38fc18066c",
   "metadata": {
    "papermill": {
     "duration": 0.00806,
     "end_time": "2023-03-25T14:51:39.890713",
     "exception": false,
     "start_time": "2023-03-25T14:51:39.882653",
     "status": "completed"
    },
    "tags": []
   },
   "source": [
    "## Merged product "
   ]
  },
  {
   "cell_type": "code",
   "execution_count": null,
   "id": "63ba1a72-5dd3-445c-8e0e-5566a2e09085",
   "metadata": {
    "papermill": {
     "duration": 0.014345,
     "end_time": "2023-03-25T14:51:39.913401",
     "exception": false,
     "start_time": "2023-03-25T14:51:39.899056",
     "status": "completed"
    },
    "tags": []
   },
   "outputs": [],
   "source": [
    "# TODO"
   ]
  },
  {
   "cell_type": "code",
   "execution_count": null,
   "id": "61851dc4-fab3-4119-902d-c325ee09c182",
   "metadata": {
    "papermill": {
     "duration": 0.007234,
     "end_time": "2023-03-25T14:51:39.929694",
     "exception": false,
     "start_time": "2023-03-25T14:51:39.922460",
     "status": "completed"
    },
    "tags": []
   },
   "outputs": [],
   "source": []
  }
 ],
 "metadata": {
  "kernelspec": {
   "display_name": "Python 3 (ipykernel)",
   "language": "python",
   "name": "python3"
  },
  "language_info": {
   "codemirror_mode": {
    "name": "ipython",
    "version": 3
   },
   "file_extension": ".py",
   "mimetype": "text/x-python",
   "name": "python",
   "nbconvert_exporter": "python",
   "pygments_lexer": "ipython3",
   "version": "3.10.8"
  },
  "papermill": {
   "default_parameters": {},
   "duration": 17.616949,
   "end_time": "2023-03-25T14:51:40.458876",
   "environment_variables": {},
   "exception": null,
   "input_path": "alpha_to_beta_tpl.ipynb",
   "output_path": "alpha_to_beta_RGI03.ipynb",
   "parameters": {
    "reg": 3
   },
   "start_time": "2023-03-25T14:51:22.841927",
   "version": "2.3.4"
  }
 },
 "nbformat": 4,
 "nbformat_minor": 5
}
