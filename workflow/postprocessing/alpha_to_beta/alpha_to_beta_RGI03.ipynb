{
 "cells": [
  {
   "cell_type": "code",
   "execution_count": 1,
   "id": "46adc67a-c914-4b66-a3de-aed2506fb298",
   "metadata": {
    "execution": {
     "iopub.execute_input": "2023-02-12T08:19:51.533387Z",
     "iopub.status.busy": "2023-02-12T08:19:51.533014Z",
     "iopub.status.idle": "2023-02-12T08:19:51.950058Z",
     "shell.execute_reply": "2023-02-12T08:19:51.949158Z"
    },
    "papermill": {
     "duration": 0.430287,
     "end_time": "2023-02-12T08:19:51.952724",
     "exception": false,
     "start_time": "2023-02-12T08:19:51.522437",
     "status": "completed"
    },
    "tags": []
   },
   "outputs": [],
   "source": [
    "import pandas as pd\n",
    "import geopandas as gpd\n",
    "import subprocess\n",
    "import numpy as np\n",
    "import shapely.geometry as shpg\n",
    "import os\n",
    "import sys\n",
    "import csv\n",
    "import json\n",
    "import logging\n",
    "import shutil"
   ]
  },
  {
   "cell_type": "code",
   "execution_count": 2,
   "id": "bad5729c-29eb-4fb6-80cf-b7d279f0343a",
   "metadata": {
    "execution": {
     "iopub.execute_input": "2023-02-12T08:19:51.974665Z",
     "iopub.status.busy": "2023-02-12T08:19:51.974251Z",
     "iopub.status.idle": "2023-02-12T08:19:51.978999Z",
     "shell.execute_reply": "2023-02-12T08:19:51.978162Z"
    },
    "papermill": {
     "duration": 0.017052,
     "end_time": "2023-02-12T08:19:51.981255",
     "exception": false,
     "start_time": "2023-02-12T08:19:51.964203",
     "status": "completed"
    },
    "tags": []
   },
   "outputs": [],
   "source": [
    "import warnings\n",
    "warnings.filterwarnings('ignore', category=FutureWarning)"
   ]
  },
  {
   "cell_type": "code",
   "execution_count": 3,
   "id": "c62aa692-c347-4e74-bc0f-c0cdc9da4669",
   "metadata": {
    "execution": {
     "iopub.execute_input": "2023-02-12T08:19:51.998298Z",
     "iopub.status.busy": "2023-02-12T08:19:51.997900Z",
     "iopub.status.idle": "2023-02-12T08:19:53.744031Z",
     "shell.execute_reply": "2023-02-12T08:19:53.743137Z"
    },
    "papermill": {
     "duration": 1.754915,
     "end_time": "2023-02-12T08:19:53.746247",
     "exception": false,
     "start_time": "2023-02-12T08:19:51.991332",
     "status": "completed"
    },
    "tags": []
   },
   "outputs": [],
   "source": [
    "sys.path.append(os.getcwd() + '/../..')\n",
    "from utils import mkdir, open_zip_shapefile, open_tar_shapefile, haversine"
   ]
  },
  {
   "cell_type": "code",
   "execution_count": 4,
   "id": "7c601bdf-1db0-429e-bb22-479f14ffe496",
   "metadata": {
    "execution": {
     "iopub.execute_input": "2023-02-12T08:19:53.767486Z",
     "iopub.status.busy": "2023-02-12T08:19:53.767018Z",
     "iopub.status.idle": "2023-02-12T08:19:53.772415Z",
     "shell.execute_reply": "2023-02-12T08:19:53.771475Z"
    },
    "papermill": {
     "duration": 0.016465,
     "end_time": "2023-02-12T08:19:53.773976",
     "exception": false,
     "start_time": "2023-02-12T08:19:53.757511",
     "status": "completed"
    },
    "tags": []
   },
   "outputs": [],
   "source": [
    "log = logging.getLogger('papermill')\n",
    "logging.basicConfig(level='INFO', format=\"%(message)s\")"
   ]
  },
  {
   "cell_type": "markdown",
   "id": "8487f7be-608e-44f1-88ec-671465325a11",
   "metadata": {
    "papermill": {
     "duration": 0.005653,
     "end_time": "2023-02-12T08:19:53.785974",
     "exception": false,
     "start_time": "2023-02-12T08:19:53.780321",
     "status": "completed"
    },
    "tags": []
   },
   "source": [
    "## Files and storage paths"
   ]
  },
  {
   "cell_type": "code",
   "execution_count": 5,
   "id": "1c753f79-c5b6-49f0-b6ba-bfe40fd7eac3",
   "metadata": {
    "execution": {
     "iopub.execute_input": "2023-02-12T08:19:53.799679Z",
     "iopub.status.busy": "2023-02-12T08:19:53.798954Z",
     "iopub.status.idle": "2023-02-12T08:19:53.804914Z",
     "shell.execute_reply": "2023-02-12T08:19:53.803987Z"
    },
    "papermill": {
     "duration": 0.014016,
     "end_time": "2023-02-12T08:19:53.806437",
     "exception": false,
     "start_time": "2023-02-12T08:19:53.792421",
     "status": "completed"
    },
    "tags": [
     "parameters"
    ]
   },
   "outputs": [],
   "source": [
    "# Region of interest\n",
    "reg = 1\n",
    "\n",
    "# go down from rgi7_scripts/workflow\n",
    "data_dir = '../../../../rgi7_data/'\n",
    "\n",
    "# Input dirctory\n",
    "input_dir = os.path.join(data_dir, 'l3_rgi7a_tar')\n",
    "\n",
    "# Output directories\n",
    "output_dir = mkdir(os.path.join(data_dir, 'l4_rgi7b0'))\n",
    "output_dir_tar = mkdir(os.path.join(data_dir, 'l4_rgi7b0_tar'))"
   ]
  },
  {
   "cell_type": "code",
   "execution_count": 6,
   "id": "6fbad276",
   "metadata": {
    "execution": {
     "iopub.execute_input": "2023-02-12T08:19:53.820338Z",
     "iopub.status.busy": "2023-02-12T08:19:53.819571Z",
     "iopub.status.idle": "2023-02-12T08:19:53.823660Z",
     "shell.execute_reply": "2023-02-12T08:19:53.822739Z"
    },
    "papermill": {
     "duration": 0.012201,
     "end_time": "2023-02-12T08:19:53.825137",
     "exception": false,
     "start_time": "2023-02-12T08:19:53.812936",
     "status": "completed"
    },
    "tags": [
     "injected-parameters"
    ]
   },
   "outputs": [],
   "source": [
    "# Parameters\n",
    "reg = 3\n"
   ]
  },
  {
   "cell_type": "markdown",
   "id": "f2d31af4-b2b2-4dc9-b286-be594f2feb7e",
   "metadata": {
    "papermill": {
     "duration": 0.005648,
     "end_time": "2023-02-12T08:19:53.837258",
     "exception": false,
     "start_time": "2023-02-12T08:19:53.831610",
     "status": "completed"
    },
    "tags": []
   },
   "source": [
    "### Load the input data"
   ]
  },
  {
   "cell_type": "code",
   "execution_count": 7,
   "id": "caab54b7-92c0-45fa-a943-25225b119001",
   "metadata": {
    "execution": {
     "iopub.execute_input": "2023-02-12T08:19:53.851534Z",
     "iopub.status.busy": "2023-02-12T08:19:53.850712Z",
     "iopub.status.idle": "2023-02-12T08:19:55.732418Z",
     "shell.execute_reply": "2023-02-12T08:19:55.731506Z"
    },
    "papermill": {
     "duration": 1.890794,
     "end_time": "2023-02-12T08:19:55.734689",
     "exception": false,
     "start_time": "2023-02-12T08:19:53.843895",
     "status": "completed"
    },
    "tags": []
   },
   "outputs": [
    {
     "name": "stderr",
     "output_type": "stream",
     "text": [
      "VSIFSeekL(xxx, SEEK_END) may be really slow on GZip streams.\n"
     ]
    }
   ],
   "source": [
    "# Read files\n",
    "shp = open_tar_shapefile(input_dir + f'/RGI{reg:02d}.tar.gz')"
   ]
  },
  {
   "cell_type": "code",
   "execution_count": 8,
   "id": "77cf5415-997a-4aab-be08-726242a61228",
   "metadata": {
    "execution": {
     "iopub.execute_input": "2023-02-12T08:19:55.753454Z",
     "iopub.status.busy": "2023-02-12T08:19:55.753295Z",
     "iopub.status.idle": "2023-02-12T08:19:55.786471Z",
     "shell.execute_reply": "2023-02-12T08:19:55.785601Z"
    },
    "papermill": {
     "duration": 0.042288,
     "end_time": "2023-02-12T08:19:55.788452",
     "exception": false,
     "start_time": "2023-02-12T08:19:55.746164",
     "status": "completed"
    },
    "tags": []
   },
   "outputs": [],
   "source": [
    "orig_attrs = pd.DataFrame(shp.drop('geometry', axis=1))\n",
    "orig_attrs.T;"
   ]
  },
  {
   "cell_type": "code",
   "execution_count": 9,
   "id": "e1b92b0a-3767-455a-8884-4666b0cf504a",
   "metadata": {
    "execution": {
     "iopub.execute_input": "2023-02-12T08:19:55.806895Z",
     "iopub.status.busy": "2023-02-12T08:19:55.806574Z",
     "iopub.status.idle": "2023-02-12T08:19:55.812624Z",
     "shell.execute_reply": "2023-02-12T08:19:55.811726Z"
    },
    "papermill": {
     "duration": 0.015638,
     "end_time": "2023-02-12T08:19:55.814037",
     "exception": false,
     "start_time": "2023-02-12T08:19:55.798399",
     "status": "completed"
    },
    "tags": []
   },
   "outputs": [
    {
     "name": "stdout",
     "output_type": "stream",
     "text": [
      "Add conn_lvl\n"
     ]
    }
   ],
   "source": [
    "if 'conn_lvl' not in shp:\n",
    "    print('Add conn_lvl')\n",
    "    shp['conn_lvl'] = 0"
   ]
  },
  {
   "cell_type": "code",
   "execution_count": 10,
   "id": "e09e91a0-6561-4cd7-907a-60aeb23e545f",
   "metadata": {
    "execution": {
     "iopub.execute_input": "2023-02-12T08:19:55.828712Z",
     "iopub.status.busy": "2023-02-12T08:19:55.827912Z",
     "iopub.status.idle": "2023-02-12T08:19:55.835937Z",
     "shell.execute_reply": "2023-02-12T08:19:55.834944Z"
    },
    "papermill": {
     "duration": 0.016422,
     "end_time": "2023-02-12T08:19:55.837406",
     "exception": false,
     "start_time": "2023-02-12T08:19:55.820984",
     "status": "completed"
    },
    "tags": []
   },
   "outputs": [],
   "source": [
    "odf = shp.copy()"
   ]
  },
  {
   "cell_type": "code",
   "execution_count": 11,
   "id": "17837ca6-2d55-4ae7-af15-4b572f2eefbf",
   "metadata": {
    "execution": {
     "iopub.execute_input": "2023-02-12T08:19:55.851475Z",
     "iopub.status.busy": "2023-02-12T08:19:55.851277Z",
     "iopub.status.idle": "2023-02-12T08:19:55.858391Z",
     "shell.execute_reply": "2023-02-12T08:19:55.857549Z"
    },
    "papermill": {
     "duration": 0.015696,
     "end_time": "2023-02-12T08:19:55.859852",
     "exception": false,
     "start_time": "2023-02-12T08:19:55.844156",
     "status": "completed"
    },
    "tags": []
   },
   "outputs": [],
   "source": [
    "rename = {'area':'area_km2', 'CenLon': 'cenlon', 'CenLat': 'cenlat', 'glac_id':'glims_id'}\n",
    "odf = odf.rename(rename, axis=1)"
   ]
  },
  {
   "cell_type": "markdown",
   "id": "c2895b31-0bb5-4192-a158-c6ff07abd1ba",
   "metadata": {
    "papermill": {
     "duration": 0.006336,
     "end_time": "2023-02-12T08:19:55.874016",
     "exception": false,
     "start_time": "2023-02-12T08:19:55.867680",
     "status": "completed"
    },
    "tags": []
   },
   "source": [
    "Recompute area and center point to be sure:"
   ]
  },
  {
   "cell_type": "code",
   "execution_count": 12,
   "id": "b54183cb-e0e5-4e82-942d-dbde26f1e7a3",
   "metadata": {
    "execution": {
     "iopub.execute_input": "2023-02-12T08:19:55.888812Z",
     "iopub.status.busy": "2023-02-12T08:19:55.888086Z",
     "iopub.status.idle": "2023-02-12T08:19:56.382507Z",
     "shell.execute_reply": "2023-02-12T08:19:56.381585Z"
    },
    "papermill": {
     "duration": 0.503724,
     "end_time": "2023-02-12T08:19:56.384727",
     "exception": false,
     "start_time": "2023-02-12T08:19:55.881003",
     "status": "completed"
    },
    "tags": []
   },
   "outputs": [],
   "source": [
    "def xy_coord(geom):\n",
    "    x, y = geom.xy\n",
    "    return x[0], y[0]\n",
    "\n",
    "rp = odf.representative_point()\n",
    "\n",
    "coordinates = np.array(list(rp.apply(xy_coord)))\n",
    "odf['cenlon'] = coordinates[:, 0]\n",
    "odf['cenlat'] = coordinates[:, 1]\n",
    "\n",
    "odf['area_km2'] = odf.to_crs({'proj':'cea'}).area * 1e-6"
   ]
  },
  {
   "cell_type": "code",
   "execution_count": 13,
   "id": "14dff652-d75c-4702-90d0-8e2462577487",
   "metadata": {
    "execution": {
     "iopub.execute_input": "2023-02-12T08:19:56.408005Z",
     "iopub.status.busy": "2023-02-12T08:19:56.407685Z",
     "iopub.status.idle": "2023-02-12T08:19:56.415164Z",
     "shell.execute_reply": "2023-02-12T08:19:56.414303Z"
    },
    "papermill": {
     "duration": 0.019857,
     "end_time": "2023-02-12T08:19:56.416558",
     "exception": false,
     "start_time": "2023-02-12T08:19:56.396701",
     "status": "completed"
    },
    "tags": []
   },
   "outputs": [],
   "source": [
    "odf['glac_name'] = odf['glac_name'].where(odf['glac_name'] != 'None', '')"
   ]
  },
  {
   "cell_type": "markdown",
   "id": "8d88df3a-a0da-41aa-80a2-6ee799789b25",
   "metadata": {
    "papermill": {
     "duration": 0.004913,
     "end_time": "2023-02-12T08:19:56.427032",
     "exception": false,
     "start_time": "2023-02-12T08:19:56.422119",
     "status": "completed"
    },
    "tags": []
   },
   "source": [
    "## Metadata "
   ]
  },
  {
   "cell_type": "code",
   "execution_count": 14,
   "id": "3da9f86f-42fa-4ae4-b5f5-bbc2708d7f80",
   "metadata": {
    "execution": {
     "iopub.execute_input": "2023-02-12T08:19:56.441245Z",
     "iopub.status.busy": "2023-02-12T08:19:56.441049Z",
     "iopub.status.idle": "2023-02-12T08:19:56.445486Z",
     "shell.execute_reply": "2023-02-12T08:19:56.444549Z"
    },
    "papermill": {
     "duration": 0.012978,
     "end_time": "2023-02-12T08:19:56.447036",
     "exception": false,
     "start_time": "2023-02-12T08:19:56.434058",
     "status": "completed"
    },
    "tags": []
   },
   "outputs": [],
   "source": [
    "with open('../rgi7_attributes_metadata.json', 'r') as infile:\n",
    "    meta = json.load(infile)"
   ]
  },
  {
   "cell_type": "code",
   "execution_count": 15,
   "id": "6efe0d1f-3125-4062-b9c4-2d9717db2e98",
   "metadata": {
    "execution": {
     "iopub.execute_input": "2023-02-12T08:19:56.461671Z",
     "iopub.status.busy": "2023-02-12T08:19:56.461373Z",
     "iopub.status.idle": "2023-02-12T08:19:56.479724Z",
     "shell.execute_reply": "2023-02-12T08:19:56.478828Z"
    },
    "papermill": {
     "duration": 0.027167,
     "end_time": "2023-02-12T08:19:56.481156",
     "exception": false,
     "start_time": "2023-02-12T08:19:56.453989",
     "status": "completed"
    },
    "tags": []
   },
   "outputs": [],
   "source": [
    "odf_new = odf[[]].copy().reset_index(drop=True)\n",
    "\n",
    "for col, attrs in meta.items():\n",
    "    if col not in odf:\n",
    "        if attrs['datatype'] == 'str':\n",
    "            odf_new[col] = ''\n",
    "        elif attrs['datatype'] == 'float':\n",
    "            odf_new[col] = np.NaN\n",
    "        elif attrs['datatype'] == 'int':\n",
    "            odf_new[col] = -999 \n",
    "    else: \n",
    "        if attrs['datatype']:\n",
    "            odf_new[col] = odf[col].astype(attrs['datatype'])\n",
    "        else: \n",
    "            odf_new[col] = odf[col]"
   ]
  },
  {
   "cell_type": "code",
   "execution_count": 16,
   "id": "19f7932c-0795-487e-89d3-f72c20eeb1c4",
   "metadata": {
    "execution": {
     "iopub.execute_input": "2023-02-12T08:19:56.496092Z",
     "iopub.status.busy": "2023-02-12T08:19:56.495381Z",
     "iopub.status.idle": "2023-02-12T08:19:56.504509Z",
     "shell.execute_reply": "2023-02-12T08:19:56.503685Z"
    },
    "papermill": {
     "duration": 0.017799,
     "end_time": "2023-02-12T08:19:56.505924",
     "exception": false,
     "start_time": "2023-02-12T08:19:56.488125",
     "status": "completed"
    },
    "tags": []
   },
   "outputs": [],
   "source": [
    "odf_new = gpd.GeoDataFrame(odf_new)\n",
    "odf_new.crs = odf.crs\n",
    "odf_new = odf_new.reset_index(drop=True)\n",
    "odf_new.iloc[:1].T;"
   ]
  },
  {
   "cell_type": "markdown",
   "id": "450e8521-6572-474c-afe5-0989eb843536",
   "metadata": {
    "papermill": {
     "duration": 0.00645,
     "end_time": "2023-02-12T08:19:56.520591",
     "exception": false,
     "start_time": "2023-02-12T08:19:56.514141",
     "status": "completed"
    },
    "tags": []
   },
   "source": [
    "## Regions, subregions and RGI IDs"
   ]
  },
  {
   "cell_type": "code",
   "execution_count": 17,
   "id": "544c32b7-a630-4f2b-a82d-5a2372ad527d",
   "metadata": {
    "execution": {
     "iopub.execute_input": "2023-02-12T08:19:56.535297Z",
     "iopub.status.busy": "2023-02-12T08:19:56.534540Z",
     "iopub.status.idle": "2023-02-12T08:19:56.539672Z",
     "shell.execute_reply": "2023-02-12T08:19:56.538816Z"
    },
    "papermill": {
     "duration": 0.013482,
     "end_time": "2023-02-12T08:19:56.540949",
     "exception": false,
     "start_time": "2023-02-12T08:19:56.527467",
     "status": "completed"
    },
    "tags": []
   },
   "outputs": [],
   "source": [
    "odf_new['o1region'] = f'{reg:02d}'"
   ]
  },
  {
   "cell_type": "code",
   "execution_count": 18,
   "id": "21cc6a76-449e-41be-9f83-76f94e0aaede",
   "metadata": {
    "execution": {
     "iopub.execute_input": "2023-02-12T08:19:56.553265Z",
     "iopub.status.busy": "2023-02-12T08:19:56.552525Z",
     "iopub.status.idle": "2023-02-12T08:19:56.616113Z",
     "shell.execute_reply": "2023-02-12T08:19:56.615258Z"
    },
    "papermill": {
     "duration": 0.071532,
     "end_time": "2023-02-12T08:19:56.618069",
     "exception": false,
     "start_time": "2023-02-12T08:19:56.546537",
     "status": "completed"
    },
    "tags": []
   },
   "outputs": [],
   "source": [
    "sreg_file = os.path.join(data_dir, '00_rgi70_regions', '00_rgi70_O2Regions')\n",
    "sreg = gpd.read_file(sreg_file)\n",
    "sreg = sreg.loc[sreg.o1region == f'{reg:02d}']\n",
    "sreg;"
   ]
  },
  {
   "cell_type": "code",
   "execution_count": 19,
   "id": "29782e31-7feb-46f1-8398-16296d7dc5ee",
   "metadata": {
    "execution": {
     "iopub.execute_input": "2023-02-12T08:19:56.641693Z",
     "iopub.status.busy": "2023-02-12T08:19:56.640989Z",
     "iopub.status.idle": "2023-02-12T08:19:57.292481Z",
     "shell.execute_reply": "2023-02-12T08:19:57.291717Z"
    },
    "papermill": {
     "duration": 0.664499,
     "end_time": "2023-02-12T08:19:57.294685",
     "exception": false,
     "start_time": "2023-02-12T08:19:56.630186",
     "status": "completed"
    },
    "tags": []
   },
   "outputs": [
    {
     "name": "stderr",
     "output_type": "stream",
     "text": [
      "RGI03: all subregions have glaciers in them\n"
     ]
    }
   ],
   "source": [
    "baseid = f'RGI2000-v7.0-G-{reg:02d}-'\n",
    "count = 0\n",
    "\n",
    "rp = odf_new.representative_point()\n",
    "rp = rp.to_frame('geometry')\n",
    "rp['orig_index'] = odf_new.index\n",
    "\n",
    "total = 0\n",
    "\n",
    "for i, s in sreg.iterrows():\n",
    "    \n",
    "    intersect = gpd.overlay(rp, sreg.loc[[i]], how='intersection')\n",
    "    odf_sreg = odf_new.loc[intersect['orig_index']].copy()\n",
    "    odf_sreg['o2region'] = s['o2region']\n",
    "    \n",
    "    total += len(odf_sreg)\n",
    "    \n",
    "    if len(odf_sreg) == 0:\n",
    "        # 19-05 Ross Ice Shelf one of them\n",
    "        continue\n",
    "    \n",
    "    # Ids generation\n",
    "    # Left most point and we start from there\n",
    "    slon, slat = odf_sreg.loc[odf_sreg.cenlon == odf_sreg.cenlon.min()][['cenlon', 'cenlat']].iloc[0].values\n",
    "    \n",
    "    todo = odf_sreg.index.values\n",
    "    todo_lon = odf_sreg['cenlon'].values\n",
    "    todo_lat = odf_sreg['cenlat'].values\n",
    "    ids = []\n",
    "    while len(todo) > 0:\n",
    "        dis = haversine(slon, slat, todo_lon, todo_lat)\n",
    "        idm = np.argmin(dis)\n",
    "        ids.append(todo[idm])\n",
    "        slon, slat = todo_lon[idm], todo_lat[idm]\n",
    "        todo = np.delete(todo, idm)\n",
    "        todo_lon = np.delete(todo_lon, idm)\n",
    "        todo_lat = np.delete(todo_lat, idm)\n",
    "    \n",
    "    assert len(ids) == len(odf_sreg)\n",
    "    odf_sreg = odf_sreg.loc[ids].copy()\n",
    "    \n",
    "    odf_sreg['rgi_id'] = [baseid + f'{l+count:05d}' for l in range(len(odf_sreg))]\n",
    "    count += len(odf_sreg)\n",
    "    odf_new.loc[odf_sreg.index, 'rgi_id'] = odf_sreg['rgi_id']\n",
    "    odf_new.loc[odf_sreg.index, 'o2region'] = odf_sreg['o2region']\n",
    "    \n",
    "odf_new = odf_new.sort_values(by='rgi_id').reset_index(drop=True)\n",
    "\n",
    "assert odf_new['o2region'].isnull().sum() == 0\n",
    "assert int(odf_new.iloc[-1]['rgi_id'].split('-')[-1]) == odf_new.iloc[-1].name\n",
    "if len(odf_new['o2region'].unique()) != len(sreg):\n",
    "    log.warning(f'RGI{reg:02d}: some subregions have NO glaciers in them')\n",
    "else:\n",
    "    log.info(f'RGI{reg:02d}: all subregions have glaciers in them')\n",
    "assert len(odf_new) == len(odf)"
   ]
  },
  {
   "cell_type": "code",
   "execution_count": 20,
   "id": "567e0186-4fa8-448b-83e3-f900ea245a4e",
   "metadata": {
    "execution": {
     "iopub.execute_input": "2023-02-12T08:19:57.317229Z",
     "iopub.status.busy": "2023-02-12T08:19:57.316915Z",
     "iopub.status.idle": "2023-02-12T08:19:57.324162Z",
     "shell.execute_reply": "2023-02-12T08:19:57.323194Z"
    },
    "papermill": {
     "duration": 0.019705,
     "end_time": "2023-02-12T08:19:57.325430",
     "exception": false,
     "start_time": "2023-02-12T08:19:57.305725",
     "status": "completed"
    },
    "tags": []
   },
   "outputs": [],
   "source": [
    "odf_new.iloc[:1].T;"
   ]
  },
  {
   "cell_type": "markdown",
   "id": "ad528b70-acfd-47db-99f3-3e123373516a",
   "metadata": {
    "papermill": {
     "duration": 0.004985,
     "end_time": "2023-02-12T08:19:57.336306",
     "exception": false,
     "start_time": "2023-02-12T08:19:57.331321",
     "status": "completed"
    },
    "tags": []
   },
   "source": [
    "## Submission metadata"
   ]
  },
  {
   "cell_type": "code",
   "execution_count": 21,
   "id": "470e8c16-42eb-443f-a176-c767ee7c3722",
   "metadata": {
    "execution": {
     "iopub.execute_input": "2023-02-12T08:19:57.353614Z",
     "iopub.status.busy": "2023-02-12T08:19:57.352594Z",
     "iopub.status.idle": "2023-02-12T08:19:57.357973Z",
     "shell.execute_reply": "2023-02-12T08:19:57.357016Z"
    },
    "papermill": {
     "duration": 0.014881,
     "end_time": "2023-02-12T08:19:57.359514",
     "exception": false,
     "start_time": "2023-02-12T08:19:57.344633",
     "status": "completed"
    },
    "tags": []
   },
   "outputs": [],
   "source": [
    "with open('../rgi7_submission_info_metadata.json', 'r') as infile:\n",
    "    meta_sub = json.load(infile)"
   ]
  },
  {
   "cell_type": "code",
   "execution_count": 22,
   "id": "00c9d8ae-9743-4540-a5f4-50e44c0da289",
   "metadata": {
    "execution": {
     "iopub.execute_input": "2023-02-12T08:19:57.375132Z",
     "iopub.status.busy": "2023-02-12T08:19:57.374517Z",
     "iopub.status.idle": "2023-02-12T08:19:57.417807Z",
     "shell.execute_reply": "2023-02-12T08:19:57.416963Z"
    },
    "papermill": {
     "duration": 0.053138,
     "end_time": "2023-02-12T08:19:57.419865",
     "exception": false,
     "start_time": "2023-02-12T08:19:57.366727",
     "status": "completed"
    },
    "tags": []
   },
   "outputs": [],
   "source": [
    "subm_id = orig_attrs['subm_id'].unique()\n",
    "odf_subm = pd.DataFrame()\n",
    "for sid in subm_id:\n",
    "    sel = orig_attrs.loc[orig_attrs['subm_id'] == sid]\n",
    "    for k in meta_sub.keys():\n",
    "        if k == 'subm_id':\n",
    "            continue\n",
    "        attrs = meta_sub[k]\n",
    "        if k not in sel:\n",
    "            if attrs['datatype'] == 'str':\n",
    "                odf_subm.loc[int(sid), k] = ''\n",
    "            elif attrs['datatype'] == 'float':\n",
    "                odf_subm.loc[int(sid), k] = np.NaN\n",
    "            elif attrs['datatype'] == 'int':\n",
    "                odf_subm.loc[int(sid), k] = -999\n",
    "        else: \n",
    "            assert len(sel[k].unique()==1), f'{k} has non unique values'\n",
    "            if attrs['datatype']:\n",
    "                data = sel[k].astype(attrs['datatype']).iloc[0]\n",
    "            else: \n",
    "                data = sel[k].iloc[0]\n",
    "                \n",
    "            if attrs['datatype'] == 'str':\n",
    "                # Clean\n",
    "                data = data.strip().lstrip(';').strip()\n",
    "                \n",
    "            odf_subm.loc[int(sid), k] = data\n",
    "            \n",
    "    odf_subm.loc[int(sid), 'n_outlines'] = len(sel)\n",
    "    odf_subm.loc[int(sid), 'area_km2'] = sel['area'].sum() * 1e-6\n",
    "        \n",
    "odf_subm.index.name = 'subm_id' \n",
    "odf_subm['n_outlines'] = odf_subm['n_outlines'].astype(int)\n",
    "odf_subm['rc_id'] = odf_subm['rc_id'].astype(int)\n",
    "odf_subm = odf_subm.sort_index()\n",
    "odf_subm;"
   ]
  },
  {
   "cell_type": "markdown",
   "id": "1e9da820-bb63-44ba-9c9e-4b9bb43dc83d",
   "metadata": {
    "papermill": {
     "duration": 0.009929,
     "end_time": "2023-02-12T08:19:57.440915",
     "exception": false,
     "start_time": "2023-02-12T08:19:57.430986",
     "status": "completed"
    },
    "tags": []
   },
   "source": [
    "## Write out and tar "
   ]
  },
  {
   "cell_type": "code",
   "execution_count": 23,
   "id": "a9f2ad69-a5e6-49ad-b2c3-7e928bbd2a29",
   "metadata": {
    "execution": {
     "iopub.execute_input": "2023-02-12T08:19:57.454428Z",
     "iopub.status.busy": "2023-02-12T08:19:57.453890Z",
     "iopub.status.idle": "2023-02-12T08:19:57.493545Z",
     "shell.execute_reply": "2023-02-12T08:19:57.492692Z"
    },
    "papermill": {
     "duration": 0.047904,
     "end_time": "2023-02-12T08:19:57.495616",
     "exception": false,
     "start_time": "2023-02-12T08:19:57.447712",
     "status": "completed"
    },
    "tags": []
   },
   "outputs": [],
   "source": [
    "reg_file = os.path.join(data_dir, '00_rgi70_regions', '00_rgi70_O1Regions')\n",
    "reg_file = gpd.read_file(reg_file)\n",
    "reg_file = reg_file.loc[reg_file.o1region == f'{reg:02d}'].iloc[0]"
   ]
  },
  {
   "cell_type": "code",
   "execution_count": 24,
   "id": "6280b37d-6683-4670-b499-181fa14b57e9",
   "metadata": {
    "execution": {
     "iopub.execute_input": "2023-02-12T08:19:57.516266Z",
     "iopub.status.busy": "2023-02-12T08:19:57.516037Z",
     "iopub.status.idle": "2023-02-12T08:20:05.810679Z",
     "shell.execute_reply": "2023-02-12T08:20:05.809572Z"
    },
    "papermill": {
     "duration": 8.30627,
     "end_time": "2023-02-12T08:20:05.813095",
     "exception": false,
     "start_time": "2023-02-12T08:19:57.506825",
     "status": "completed"
    },
    "tags": []
   },
   "outputs": [
    {
     "name": "stdout",
     "output_type": "stream",
     "text": [
      "Writing...\n"
     ]
    },
    {
     "name": "stdout",
     "output_type": "stream",
     "text": [
      "Taring...\n",
      "RGI2000-v7.0-G-03_arctic_canada_north/\n",
      "RGI2000-v7.0-G-03_arctic_canada_north/RGI2000-v7.0-G-03_arctic_canada_north.shp\n"
     ]
    },
    {
     "name": "stdout",
     "output_type": "stream",
     "text": [
      "RGI2000-v7.0-G-03_arctic_canada_north/RGI2000-v7.0-G-03_arctic_canada_north_subm_info.csv\n",
      "RGI2000-v7.0-G-03_arctic_canada_north/RGI2000-v7.0-G-03_arctic_canada_north.dbf\n",
      "RGI2000-v7.0-G-03_arctic_canada_north/RGI2000-v7.0-G-03_arctic_canada_north_attributes.csv\n",
      "RGI2000-v7.0-G-03_arctic_canada_north/RGI2000-v7.0-G-03_arctic_canada_north.prj\n",
      "RGI2000-v7.0-G-03_arctic_canada_north/RGI2000-v7.0-G-03_arctic_canada_north.cpg\n",
      "RGI2000-v7.0-G-03_arctic_canada_north/README.md\n",
      "RGI2000-v7.0-G-03_arctic_canada_north/RGI2000-v7.0-G-03_arctic_canada_north.shx\n",
      "CompletedProcess(args=['tar', '-zcvf', '../../../../rgi7_data/l4_rgi7b0_tar/RGI2000-v7.0-G-03_arctic_canada_north.tar.gz', '-C', '../../../../rgi7_data/l4_rgi7b0', 'RGI2000-v7.0-G-03_arctic_canada_north'], returncode=0)\n"
     ]
    }
   ],
   "source": [
    "dd = mkdir(f'{output_dir}/RGI2000-v7.0-G-{reg_file.long_code}/', reset=True)\n",
    "\n",
    "print('Writing...')\n",
    "odf_new.to_file(dd + f'RGI2000-v7.0-G-{reg_file.long_code}.shp')\n",
    "odf_subm.to_csv(dd + f'RGI2000-v7.0-G-{reg_file.long_code}_subm_info.csv', quoting=csv.QUOTE_NONNUMERIC)\n",
    "odf_new.drop('geometry', axis=1).set_index('rgi_id').to_csv(dd + f'RGI2000-v7.0-G-{reg_file.long_code}_attributes.csv', quoting=csv.QUOTE_NONNUMERIC)\n",
    "shutil.copyfile('../README_tpl.md', dd + f'README.md')\n",
    "\n",
    "print('Taring...')\n",
    "print(subprocess.run(['tar', '-zcvf', f'{output_dir_tar}/RGI2000-v7.0-G-{reg_file.long_code}.tar.gz', '-C', output_dir, f'RGI2000-v7.0-G-{reg_file.long_code}']))"
   ]
  },
  {
   "cell_type": "code",
   "execution_count": 25,
   "id": "7667dbd4-fc48-445c-bee8-6156c82bfa3e",
   "metadata": {
    "execution": {
     "iopub.execute_input": "2023-02-12T08:20:05.835846Z",
     "iopub.status.busy": "2023-02-12T08:20:05.835516Z",
     "iopub.status.idle": "2023-02-12T08:20:05.839989Z",
     "shell.execute_reply": "2023-02-12T08:20:05.839142Z"
    },
    "papermill": {
     "duration": 0.015629,
     "end_time": "2023-02-12T08:20:05.841283",
     "exception": false,
     "start_time": "2023-02-12T08:20:05.825654",
     "status": "completed"
    },
    "tags": []
   },
   "outputs": [],
   "source": [
    "odf_new;"
   ]
  },
  {
   "cell_type": "code",
   "execution_count": 26,
   "id": "1b64b5cc-046a-4d96-a3ce-d047d9e20a8b",
   "metadata": {
    "execution": {
     "iopub.execute_input": "2023-02-12T08:20:05.855335Z",
     "iopub.status.busy": "2023-02-12T08:20:05.855038Z",
     "iopub.status.idle": "2023-02-12T08:20:05.860043Z",
     "shell.execute_reply": "2023-02-12T08:20:05.859099Z"
    },
    "papermill": {
     "duration": 0.013553,
     "end_time": "2023-02-12T08:20:05.861602",
     "exception": false,
     "start_time": "2023-02-12T08:20:05.848049",
     "status": "completed"
    },
    "tags": []
   },
   "outputs": [],
   "source": [
    "import glob, os\n",
    "for f in glob.glob( f\"{output_dir_tar}/*.properties\"):\n",
    "    os.remove(f)"
   ]
  },
  {
   "cell_type": "markdown",
   "id": "7bd3a216-a8bf-4eb7-a485-7c38fc18066c",
   "metadata": {
    "papermill": {
     "duration": 0.006866,
     "end_time": "2023-02-12T08:20:05.876219",
     "exception": false,
     "start_time": "2023-02-12T08:20:05.869353",
     "status": "completed"
    },
    "tags": []
   },
   "source": [
    "## Merged product "
   ]
  },
  {
   "cell_type": "code",
   "execution_count": 27,
   "id": "63ba1a72-5dd3-445c-8e0e-5566a2e09085",
   "metadata": {
    "execution": {
     "iopub.execute_input": "2023-02-12T08:20:05.892663Z",
     "iopub.status.busy": "2023-02-12T08:20:05.891812Z",
     "iopub.status.idle": "2023-02-12T08:20:05.895883Z",
     "shell.execute_reply": "2023-02-12T08:20:05.895040Z"
    },
    "papermill": {
     "duration": 0.01351,
     "end_time": "2023-02-12T08:20:05.897350",
     "exception": false,
     "start_time": "2023-02-12T08:20:05.883840",
     "status": "completed"
    },
    "tags": []
   },
   "outputs": [],
   "source": [
    "# TODO"
   ]
  },
  {
   "cell_type": "code",
   "execution_count": null,
   "id": "61851dc4-fab3-4119-902d-c325ee09c182",
   "metadata": {
    "papermill": {
     "duration": 0.006911,
     "end_time": "2023-02-12T08:20:05.911799",
     "exception": false,
     "start_time": "2023-02-12T08:20:05.904888",
     "status": "completed"
    },
    "tags": []
   },
   "outputs": [],
   "source": []
  }
 ],
 "metadata": {
  "kernelspec": {
   "display_name": "Python 3 (ipykernel)",
   "language": "python",
   "name": "python3"
  },
  "language_info": {
   "codemirror_mode": {
    "name": "ipython",
    "version": 3
   },
   "file_extension": ".py",
   "mimetype": "text/x-python",
   "name": "python",
   "nbconvert_exporter": "python",
   "pygments_lexer": "ipython3",
   "version": "3.10.8"
  },
  "papermill": {
   "default_parameters": {},
   "duration": 15.853848,
   "end_time": "2023-02-12T08:20:06.439102",
   "environment_variables": {},
   "exception": null,
   "input_path": "alpha_to_beta_tpl.ipynb",
   "output_path": "alpha_to_beta_RGI03.ipynb",
   "parameters": {
    "reg": 3
   },
   "start_time": "2023-02-12T08:19:50.585254",
   "version": "2.3.4"
  }
 },
 "nbformat": 4,
 "nbformat_minor": 5
}