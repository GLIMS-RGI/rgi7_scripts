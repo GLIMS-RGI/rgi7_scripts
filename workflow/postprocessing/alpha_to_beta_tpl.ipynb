{
 "cells": [
  {
   "cell_type": "code",
   "execution_count": null,
   "id": "46adc67a-c914-4b66-a3de-aed2506fb298",
   "metadata": {},
   "outputs": [],
   "source": [
    "import pandas as pd\n",
    "import geopandas as gpd\n",
    "import subprocess\n",
    "import numpy as np\n",
    "import shapely.geometry as shpg\n",
    "import os\n",
    "import sys\n",
    "import json\n",
    "import logging"
   ]
  },
  {
   "cell_type": "code",
   "execution_count": null,
   "id": "c62aa692-c347-4e74-bc0f-c0cdc9da4669",
   "metadata": {},
   "outputs": [],
   "source": [
    "sys.path.append(os.getcwd() + '/..')\n",
    "from utils import mkdir, open_zip_shapefile, open_tar_shapefile, haversine"
   ]
  },
  {
   "cell_type": "code",
   "execution_count": null,
   "id": "7c601bdf-1db0-429e-bb22-479f14ffe496",
   "metadata": {},
   "outputs": [],
   "source": [
    "log = logging.getLogger('papermill')\n",
    "logging.basicConfig(level='INFO', format=\"%(message)s\")"
   ]
  },
  {
   "cell_type": "markdown",
   "id": "8487f7be-608e-44f1-88ec-671465325a11",
   "metadata": {},
   "source": [
    "## Files and storage paths"
   ]
  },
  {
   "cell_type": "code",
   "execution_count": null,
   "id": "1c753f79-c5b6-49f0-b6ba-bfe40fd7eac3",
   "metadata": {
    "tags": [
     "parameters"
    ]
   },
   "outputs": [],
   "source": [
    "# Region of interest\n",
    "reg = 1\n",
    "\n",
    "# go down from rgi7_scripts/workflow\n",
    "data_dir = '../../../rgi7_data/'\n",
    "\n",
    "# Input dirctory\n",
    "input_dir = os.path.join(data_dir, 'l3_rgi7a_tar')\n",
    "\n",
    "# Output directories\n",
    "output_dir = mkdir(os.path.join(data_dir, 'l4_rgi7b0'))\n",
    "output_dir_tar = mkdir(os.path.join(data_dir, 'l5_rgi7b0_tar'))"
   ]
  },
  {
   "cell_type": "markdown",
   "id": "f2d31af4-b2b2-4dc9-b286-be594f2feb7e",
   "metadata": {},
   "source": [
    "### Load the input data"
   ]
  },
  {
   "cell_type": "code",
   "execution_count": null,
   "id": "caab54b7-92c0-45fa-a943-25225b119001",
   "metadata": {},
   "outputs": [],
   "source": [
    "# Read L2 files from GLIMS\n",
    "shp = open_tar_shapefile(input_dir + f'/RGI{reg:02d}.tar.gz')"
   ]
  },
  {
   "cell_type": "code",
   "execution_count": null,
   "id": "77cf5415-997a-4aab-be08-726242a61228",
   "metadata": {},
   "outputs": [],
   "source": [
    "orig_attrs = pd.DataFrame(shp.drop('geometry', axis=1))\n",
    "orig_attrs.T;"
   ]
  },
  {
   "cell_type": "code",
   "execution_count": null,
   "id": "e1b92b0a-3767-455a-8884-4666b0cf504a",
   "metadata": {},
   "outputs": [],
   "source": [
    "if 'conn_lvl' not in shp:\n",
    "    shp['conn_lvl'] = 0"
   ]
  },
  {
   "cell_type": "code",
   "execution_count": null,
   "id": "e09e91a0-6561-4cd7-907a-60aeb23e545f",
   "metadata": {},
   "outputs": [],
   "source": [
    "odf = shp.copy()"
   ]
  },
  {
   "cell_type": "code",
   "execution_count": null,
   "id": "17837ca6-2d55-4ae7-af15-4b572f2eefbf",
   "metadata": {},
   "outputs": [],
   "source": [
    "rename = {'area':'area_km2', 'CenLon': 'cenlon', 'CenLat': 'cenlat', 'glac_id':'glims_id'}"
   ]
  },
  {
   "cell_type": "code",
   "execution_count": null,
   "id": "d13a154b-51aa-489c-8b54-878d6221db45",
   "metadata": {},
   "outputs": [],
   "source": [
    "odf = odf.rename(rename, axis=1)"
   ]
  },
  {
   "cell_type": "code",
   "execution_count": null,
   "id": "14dff652-d75c-4702-90d0-8e2462577487",
   "metadata": {},
   "outputs": [],
   "source": [
    "odf['area_km2'] = odf['area_km2'] * 1e-6\n",
    "odf['glac_name'] = odf['glac_name'].where(odf['glac_name'] != 'None', '')"
   ]
  },
  {
   "cell_type": "markdown",
   "id": "8d88df3a-a0da-41aa-80a2-6ee799789b25",
   "metadata": {},
   "source": [
    "## Metadata "
   ]
  },
  {
   "cell_type": "code",
   "execution_count": null,
   "id": "3da9f86f-42fa-4ae4-b5f5-bbc2708d7f80",
   "metadata": {},
   "outputs": [],
   "source": [
    "with open('rgi7_attributes_metadata.json', 'r') as infile:\n",
    "    meta = json.load(infile)"
   ]
  },
  {
   "cell_type": "code",
   "execution_count": null,
   "id": "6efe0d1f-3125-4062-b9c4-2d9717db2e98",
   "metadata": {},
   "outputs": [],
   "source": [
    "odf_new = odf[[]].copy().reset_index(drop=True)\n",
    "\n",
    "for col, attrs in meta.items():\n",
    "    if col not in odf:\n",
    "        if attrs['datatype'] == 'str':\n",
    "            odf_new[col] = ''\n",
    "        elif attrs['datatype'] == 'float':\n",
    "            odf_new[col] = np.NaN\n",
    "        elif attrs['datatype'] == 'int':\n",
    "            odf_new[col] = -999 \n",
    "    else: \n",
    "        if attrs['datatype']:\n",
    "            odf_new[col] = odf[col].astype(attrs['datatype'])\n",
    "        else: \n",
    "            odf_new[col] = odf[col]"
   ]
  },
  {
   "cell_type": "code",
   "execution_count": null,
   "id": "19f7932c-0795-487e-89d3-f72c20eeb1c4",
   "metadata": {},
   "outputs": [],
   "source": [
    "odf_new = gpd.GeoDataFrame(odf_new)\n",
    "odf_new.crs = odf.crs\n",
    "odf_new = odf_new.reset_index(drop=True)\n",
    "odf_new.T;"
   ]
  },
  {
   "cell_type": "markdown",
   "id": "450e8521-6572-474c-afe5-0989eb843536",
   "metadata": {},
   "source": [
    "## Regions, subregions and RGI IDs"
   ]
  },
  {
   "cell_type": "code",
   "execution_count": null,
   "id": "544c32b7-a630-4f2b-a82d-5a2372ad527d",
   "metadata": {},
   "outputs": [],
   "source": [
    "odf_new['o1region'] = f'{reg:02d}'"
   ]
  },
  {
   "cell_type": "code",
   "execution_count": null,
   "id": "21cc6a76-449e-41be-9f83-76f94e0aaede",
   "metadata": {},
   "outputs": [],
   "source": [
    "sreg_file = os.path.join(data_dir, '00_rgi70_regions', '00_rgi70_O2Regions')\n",
    "sreg = gpd.read_file(sreg_file)\n",
    "sreg = sreg.loc[sreg.o1region == f'{reg:02d}']\n",
    "sreg"
   ]
  },
  {
   "cell_type": "code",
   "execution_count": null,
   "id": "29782e31-7feb-46f1-8398-16296d7dc5ee",
   "metadata": {},
   "outputs": [],
   "source": [
    "baseid = f'RGI2000-v7.0-G-{reg:02d}-'\n",
    "count = 0\n",
    "\n",
    "rp = odf_new.representative_point()\n",
    "rp = rp.to_frame('geometry')\n",
    "rp['orig_index'] = odf_new.index\n",
    "\n",
    "total = 0\n",
    "\n",
    "for i, s in sreg.iterrows():\n",
    "    \n",
    "    intersect = gpd.overlay(rp, sreg.loc[[i]], how='intersection')\n",
    "    odf_sreg = odf_new.loc[intersect['orig_index']].copy()\n",
    "    odf_sreg['o2region'] = s['o2region']\n",
    "    \n",
    "    total += len(odf_sreg)\n",
    "    \n",
    "    if len(odf_sreg) == 0:\n",
    "        # 19-05 Ross Ice Shelf one of them\n",
    "        continue\n",
    "    \n",
    "    # Ids generation\n",
    "    # Left most point and we start from there\n",
    "    slon, slat = odf_sreg.loc[odf_sreg.cenlon == odf_sreg.cenlon.min()][['cenlon', 'cenlat']].iloc[0].values\n",
    "    \n",
    "    todo = odf_sreg.index.values\n",
    "    todo_lon = odf_sreg['cenlon'].values\n",
    "    todo_lat = odf_sreg['cenlat'].values\n",
    "    ids = []\n",
    "    while len(todo) > 0:\n",
    "        dis = haversine(slon, slat, todo_lon, todo_lat)\n",
    "        idm = np.argmin(dis)\n",
    "        ids.append(todo[idm])\n",
    "        slon, slat = todo_lon[idm], todo_lat[idm]\n",
    "        todo = np.delete(todo, idm)\n",
    "        todo_lon = np.delete(todo_lon, idm)\n",
    "        todo_lat = np.delete(todo_lat, idm)\n",
    "    \n",
    "    assert len(ids) == len(odf_sreg)\n",
    "    odf_sreg = odf_sreg.loc[ids].copy()\n",
    "    \n",
    "    odf_sreg['rgi_id'] = [baseid + f'{l+count:05d}' for l in range(len(odf_sreg))]\n",
    "    count += len(odf_sreg)\n",
    "    odf_new.loc[odf_sreg.index, 'rgi_id'] = odf_sreg['rgi_id']\n",
    "    odf_new.loc[odf_sreg.index, 'o2region'] = odf_sreg['o2region']\n",
    "    \n",
    "odf_new = odf_new.sort_values(by='rgi_id').reset_index(drop=True)\n",
    "\n",
    "assert odf_new['o2region'].isnull().sum() == 0\n",
    "assert int(odf_new.iloc[-1]['rgi_id'].split('-')[-1]) == odf_new.iloc[-1].name\n",
    "if len(odf_new['o2region'].unique()) != len(sreg):\n",
    "    log.warning(f'RGI{reg:02d}: some subregions have NO glaciers in them')\n",
    "else:\n",
    "    log.info(f'RGI{reg:02d}: all subregions have glaciers in them')\n",
    "assert len(odf_new) == len(odf)"
   ]
  },
  {
   "cell_type": "code",
   "execution_count": null,
   "id": "567e0186-4fa8-448b-83e3-f900ea245a4e",
   "metadata": {},
   "outputs": [],
   "source": [
    "odf_new.iloc[:5].T;"
   ]
  },
  {
   "cell_type": "markdown",
   "id": "1e9da820-bb63-44ba-9c9e-4b9bb43dc83d",
   "metadata": {},
   "source": [
    "## Write out and tar "
   ]
  },
  {
   "cell_type": "code",
   "execution_count": null,
   "id": "a9f2ad69-a5e6-49ad-b2c3-7e928bbd2a29",
   "metadata": {},
   "outputs": [],
   "source": [
    "reg_file = os.path.join(data_dir, '00_rgi70_regions', '00_rgi70_O1Regions')\n",
    "reg_file = gpd.read_file(reg_file)\n",
    "reg_file = reg_file.loc[reg_file.o1region == f'{reg:02d}'].iloc[0]"
   ]
  },
  {
   "cell_type": "code",
   "execution_count": null,
   "id": "6280b37d-6683-4670-b499-181fa14b57e9",
   "metadata": {},
   "outputs": [],
   "source": [
    "dd = mkdir(f'{output_dir}/RGI2000-v7.0-G-{reg_file.long_code}/', reset=True)\n",
    "\n",
    "print('Writing...')\n",
    "odf_new.to_file(dd + f'RGI2000-v7.0-G-{reg_file.long_code}.shp')\n",
    "\n",
    "print('Taring...')\n",
    "print(subprocess.run(['tar', '-zcvf', f'{output_dir_tar}/RGI2000-v7.0-G-{reg_file.long_code}.tar.gz', '-C', output_dir, f'RGI2000-v7.0-G-{reg_file.long_code}']))"
   ]
  },
  {
   "cell_type": "code",
   "execution_count": null,
   "id": "7667dbd4-fc48-445c-bee8-6156c82bfa3e",
   "metadata": {},
   "outputs": [],
   "source": [
    "odf_new;"
   ]
  },
  {
   "cell_type": "code",
   "execution_count": null,
   "id": "44a585e1-ee24-4918-8a70-557523201c82",
   "metadata": {},
   "outputs": [],
   "source": []
  }
 ],
 "metadata": {
  "kernelspec": {
   "display_name": "Python 3 (ipykernel)",
   "language": "python",
   "name": "python3"
  },
  "language_info": {
   "codemirror_mode": {
    "name": "ipython",
    "version": 3
   },
   "file_extension": ".py",
   "mimetype": "text/x-python",
   "name": "python",
   "nbconvert_exporter": "python",
   "pygments_lexer": "ipython3",
   "version": "3.9.13"
  }
 },
 "nbformat": 4,
 "nbformat_minor": 5
}
