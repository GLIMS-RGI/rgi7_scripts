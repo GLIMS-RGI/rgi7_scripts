{
 "cells": [
  {
   "cell_type": "code",
   "execution_count": null,
   "id": "46adc67a-c914-4b66-a3de-aed2506fb298",
   "metadata": {
    "papermill": {
     "duration": 0.427311,
     "end_time": "2023-09-20T16:43:04.860871",
     "exception": false,
     "start_time": "2023-09-20T16:43:04.433560",
     "status": "completed"
    },
    "tags": []
   },
   "outputs": [],
   "source": [
    "import pandas as pd\n",
    "import geopandas as gpd\n",
    "import subprocess\n",
    "import numpy as np\n",
    "import shapely.geometry as shpg\n",
    "from shapely.ops import linemerge\n",
    "from shapely import set_precision\n",
    "import os\n",
    "import sys\n",
    "import csv\n",
    "import json\n",
    "import logging\n",
    "import shutil\n",
    "import utm"
   ]
  },
  {
   "cell_type": "code",
   "execution_count": null,
   "id": "bad5729c-29eb-4fb6-80cf-b7d279f0343a",
   "metadata": {
    "papermill": {
     "duration": 0.012357,
     "end_time": "2023-09-20T16:43:04.882194",
     "exception": false,
     "start_time": "2023-09-20T16:43:04.869837",
     "status": "completed"
    },
    "tags": []
   },
   "outputs": [],
   "source": [
    "import warnings\n",
    "warnings.filterwarnings('ignore', category=FutureWarning)"
   ]
  },
  {
   "cell_type": "code",
   "execution_count": null,
   "id": "c62aa692-c347-4e74-bc0f-c0cdc9da4669",
   "metadata": {
    "papermill": {
     "duration": 1.782468,
     "end_time": "2023-09-20T16:43:06.669670",
     "exception": false,
     "start_time": "2023-09-20T16:43:04.887202",
     "status": "completed"
    },
    "tags": []
   },
   "outputs": [],
   "source": [
    "sys.path.append(os.getcwd() + '/../..')\n",
    "from utils import mkdir, open_zip_shapefile, open_tar_shapefile, haversine, correct_geoms, fix_overaps"
   ]
  },
  {
   "cell_type": "code",
   "execution_count": null,
   "id": "7c601bdf-1db0-429e-bb22-479f14ffe496",
   "metadata": {
    "papermill": {
     "duration": 0.013213,
     "end_time": "2023-09-20T16:43:06.692516",
     "exception": false,
     "start_time": "2023-09-20T16:43:06.679303",
     "status": "completed"
    },
    "tags": []
   },
   "outputs": [],
   "source": [
    "log = logging.getLogger('papermill')\n",
    "logging.basicConfig(level='INFO', format=\"%(message)s\")"
   ]
  },
  {
   "cell_type": "markdown",
   "id": "8487f7be-608e-44f1-88ec-671465325a11",
   "metadata": {
    "papermill": {
     "duration": 0.004074,
     "end_time": "2023-09-20T16:43:06.701750",
     "exception": false,
     "start_time": "2023-09-20T16:43:06.697676",
     "status": "completed"
    },
    "tags": []
   },
   "source": [
    "## Files and storage paths"
   ]
  },
  {
   "cell_type": "code",
   "execution_count": null,
   "id": "1c753f79-c5b6-49f0-b6ba-bfe40fd7eac3",
   "metadata": {
    "papermill": {
     "duration": 0.012688,
     "end_time": "2023-09-20T16:43:06.719407",
     "exception": false,
     "start_time": "2023-09-20T16:43:06.706719",
     "status": "completed"
    },
    "tags": [
     "parameters"
    ]
   },
   "outputs": [],
   "source": [
    "# Region of interest\n",
    "reg = 1\n",
    "\n",
    "# go down from rgi7_scripts/workflow\n",
    "data_dir = '../../../../rgi7_data/'\n",
    "\n",
    "# Input dirctory\n",
    "input_dir = os.path.join(data_dir, 'rgi7_final/regional_files/RGI2000-v7.0-G/')\n",
    "\n",
    "# Output directories\n",
    "output_dir = mkdir(os.path.join(data_dir, 'rgi7_rgi6_links'))\n",
    "output_dir_zip = mkdir(os.path.join(data_dir, 'rgi7_rgi6_links_zip'))"
   ]
  },
  {
   "cell_type": "code",
   "execution_count": null,
   "id": "a465bcc0",
   "metadata": {
    "papermill": {
     "duration": 0.010515,
     "end_time": "2023-09-20T16:43:06.734738",
     "exception": false,
     "start_time": "2023-09-20T16:43:06.724223",
     "status": "completed"
    },
    "tags": [
     "injected-parameters"
    ]
   },
   "outputs": [],
   "source": [
    "# Parameters\n",
    "reg = 17\n"
   ]
  },
  {
   "cell_type": "code",
   "execution_count": null,
   "id": "d8e3486d-1f48-414e-b676-f1cb096daea9",
   "metadata": {
    "papermill": {
     "duration": 0.009772,
     "end_time": "2023-09-20T16:43:06.749591",
     "exception": false,
     "start_time": "2023-09-20T16:43:06.739819",
     "status": "completed"
    },
    "tags": []
   },
   "outputs": [],
   "source": [
    "reg_str = f'{reg:02d}'"
   ]
  },
  {
   "cell_type": "code",
   "execution_count": null,
   "id": "2480576d-5c5f-41b5-9bd2-5cf2211419fa",
   "metadata": {
    "papermill": {
     "duration": 0.01281,
     "end_time": "2023-09-20T16:43:06.767385",
     "exception": false,
     "start_time": "2023-09-20T16:43:06.754575",
     "status": "completed"
    },
    "tags": []
   },
   "outputs": [],
   "source": [
    "# RGI v6 file for comparison later \n",
    "rgi6_files = {\n",
    "    '01': '01_rgi60_Alaska.zip',\n",
    "    '02': '02_rgi60_WesternCanadaUS.zip',\n",
    "    '03': '03_rgi60_ArcticCanadaNorth.zip',\n",
    "    '04': '04_rgi60_ArcticCanadaNorth.zip',\n",
    "    '05': '05_rgi60_GreenlandPeriphery.zip',\n",
    "    '06': '06_rgi60_Iceland.zip',\n",
    "    '07': '07_rgi60_Svalbard.zip',\n",
    "    '08': '07_rgi60_Scandinavia.zip',\n",
    "    '09': '09_rgi60_RussianArctic.zip',\n",
    "    '10': '10_rgi60_NorthAsia.zip',\n",
    "    '11': '11_rgi60_CentralEurope.zip',\n",
    "    '12': '12_rgi60_CaucasusMiddleEast.zip',\n",
    "    '13': '13_rgi60_CentralAsia.zip',\n",
    "    '14': '14_rgi60_SouthAsiaWest.zip',\n",
    "    '15': '15_rgi60_SouthAsiaEast.zip',\n",
    "    '16': '16_rgi60_LowLatitudes.zip',\n",
    "    '17': '17_rgi60_SouthernAndes.zip',\n",
    "    '18': '18_rgi60_NewZealand.zip',\n",
    "    '19': '19_rgi60_AntarcticSubantarctic.zip',\n",
    "}\n",
    "rgi6_reg_file = os.path.join(data_dir, 'l0_RGIv6', rgi6_files[reg_str])"
   ]
  },
  {
   "cell_type": "markdown",
   "id": "f2d31af4-b2b2-4dc9-b286-be594f2feb7e",
   "metadata": {
    "papermill": {
     "duration": 0.004554,
     "end_time": "2023-09-20T16:43:06.776945",
     "exception": false,
     "start_time": "2023-09-20T16:43:06.772391",
     "status": "completed"
    },
    "tags": []
   },
   "source": [
    "### Load the input data"
   ]
  },
  {
   "cell_type": "code",
   "execution_count": null,
   "id": "a125b15a-ee85-4b67-8174-6b4a29e8270e",
   "metadata": {
    "papermill": {
     "duration": 0.058429,
     "end_time": "2023-09-20T16:43:06.841152",
     "exception": false,
     "start_time": "2023-09-20T16:43:06.782723",
     "status": "completed"
    },
    "tags": []
   },
   "outputs": [],
   "source": [
    "reg_file = os.path.join(data_dir, '00_rgi70_regions', '00_rgi70_O1Regions')\n",
    "reg_file = gpd.read_file(reg_file)\n",
    "reg_file = reg_file.loc[reg_file.o1region == f'{reg:02d}'].iloc[0]\n",
    "\n",
    "input_regfile = f'{input_dir}/RGI2000-v7.0-G-{reg_file.long_code}.zip'"
   ]
  },
  {
   "cell_type": "code",
   "execution_count": null,
   "id": "9f3b778a-29e1-4f03-a634-3a0c1febc8ac",
   "metadata": {
    "papermill": {
     "duration": 4.763744,
     "end_time": "2023-09-20T16:43:11.612662",
     "exception": false,
     "start_time": "2023-09-20T16:43:06.848918",
     "status": "completed"
    },
    "tags": []
   },
   "outputs": [],
   "source": [
    "# Read files\n",
    "shp = open_zip_shapefile(input_regfile)"
   ]
  },
  {
   "cell_type": "markdown",
   "id": "b2c990a4-231d-4107-890d-a1bf505260e1",
   "metadata": {
    "papermill": {
     "duration": 0.007326,
     "end_time": "2023-09-20T16:43:11.628310",
     "exception": false,
     "start_time": "2023-09-20T16:43:11.620984",
     "status": "completed"
    },
    "tags": []
   },
   "source": [
    "## Links to RGI6"
   ]
  },
  {
   "cell_type": "code",
   "execution_count": null,
   "id": "3a8dc7d1-8bde-4a20-b62e-c424bb67436d",
   "metadata": {
    "papermill": {
     "duration": 0.010259,
     "end_time": "2023-09-20T16:43:11.646416",
     "exception": false,
     "start_time": "2023-09-20T16:43:11.636157",
     "status": "completed"
    },
    "tags": []
   },
   "outputs": [],
   "source": [
    "import overlaps_helpers"
   ]
  },
  {
   "cell_type": "code",
   "execution_count": null,
   "id": "f66e548a-a43b-40be-a1bf-06523a624e08",
   "metadata": {
    "papermill": {
     "duration": 2.490069,
     "end_time": "2023-09-20T16:43:14.141381",
     "exception": false,
     "start_time": "2023-09-20T16:43:11.651312",
     "status": "completed"
    },
    "tags": []
   },
   "outputs": [],
   "source": [
    "# load RGI6 data\n",
    "from utils import open_zip_shapefile\n",
    "rgi6 = open_zip_shapefile(rgi6_reg_file)"
   ]
  },
  {
   "cell_type": "code",
   "execution_count": null,
   "id": "82b79f73-2f9a-48a2-a47a-eba786c7ab15",
   "metadata": {
    "papermill": {
     "duration": 15.589075,
     "end_time": "2023-09-20T16:43:29.738723",
     "exception": false,
     "start_time": "2023-09-20T16:43:14.149648",
     "status": "completed"
    },
    "tags": []
   },
   "outputs": [],
   "source": [
    "# Compute RGI7 - RGI6 overlaps\n",
    "overlaps = overlaps_helpers.compute_cross_overlaps(shp.geometry, rgi6.geometry)"
   ]
  },
  {
   "cell_type": "code",
   "execution_count": null,
   "id": "cff9bad8-6a6d-4db8-9fd8-70022e2f93eb",
   "metadata": {
    "papermill": {
     "duration": 0.867302,
     "end_time": "2023-09-20T16:43:30.726303",
     "exception": false,
     "start_time": "2023-09-20T16:43:29.859001",
     "status": "completed"
    },
    "tags": []
   },
   "outputs": [],
   "source": [
    "# Add more stats\n",
    "overlaps['area_km2'] = overlaps['geometry'].to_crs({'proj':'cea'}).area * 1e-6\n",
    "overlaps['i'] = shp['rgi_id'].iloc[overlaps['i']].values\n",
    "overlaps['j'] = rgi6['RGIId'].iloc[overlaps['j']].values"
   ]
  },
  {
   "cell_type": "code",
   "execution_count": null,
   "id": "121d301d-df1b-4922-ac08-2ebd99f9f50a",
   "metadata": {
    "papermill": {
     "duration": 0.127365,
     "end_time": "2023-09-20T16:43:30.969894",
     "exception": false,
     "start_time": "2023-09-20T16:43:30.842529",
     "status": "completed"
    },
    "tags": []
   },
   "outputs": [],
   "source": [
    "# Filter by minimum area. See https://github.com/ezwelty/rgi_links/issues/6\n",
    "# print(len(overlaps))\n",
    "overlaps = overlaps[overlaps['area_km2'] > (200 * 1e-6)].copy()\n",
    "# print(len(overlaps))"
   ]
  },
  {
   "cell_type": "code",
   "execution_count": null,
   "id": "898c5ff7-e9f8-4e4d-8beb-94a88f7c3e40",
   "metadata": {
    "papermill": {
     "duration": 0.39297,
     "end_time": "2023-09-20T16:43:31.491704",
     "exception": false,
     "start_time": "2023-09-20T16:43:31.098734",
     "status": "completed"
    },
    "tags": []
   },
   "outputs": [],
   "source": [
    "# Count number of direct relatives (i.e. 1:1, n:1, 1:n, n:n)\n",
    "overlaps['in'], overlaps['jn'] = overlaps_helpers.count_pair_relations(\n",
    "  overlaps['i'], overlaps['j']\n",
    ")\n",
    "# Label clusters of (directly and indirectly-related) pairs\n",
    "overlaps['cluster'] = overlaps_helpers.label_pair_clusters(overlaps['i'], overlaps['j'])"
   ]
  },
  {
   "cell_type": "code",
   "execution_count": null,
   "id": "f46270b1-616d-459d-a054-51c593672e95",
   "metadata": {
    "papermill": {
     "duration": 0.116343,
     "end_time": "2023-09-20T16:43:31.767827",
     "exception": false,
     "start_time": "2023-09-20T16:43:31.651484",
     "status": "completed"
    },
    "tags": []
   },
   "outputs": [],
   "source": [
    "# Remove geometry for now\n",
    "odf_links = overlaps[['i', 'j', 'area_km2', 'i_area_fraction', 'j_area_fraction', 'cluster', 'in', 'jn']].copy()\n",
    "odf_links.columns = ['rgi7_id', 'rgi6_id', 'overlap_area_km2', 'rgi7_area_fraction', 'rgi6_area_fraction', 'cluster_id', 'n_rgi7', 'n_rgi6']"
   ]
  },
  {
   "cell_type": "code",
   "execution_count": null,
   "id": "a0e88fc2-1205-4100-b56f-8ec187ad004d",
   "metadata": {
    "papermill": {
     "duration": 0.111026,
     "end_time": "2023-09-20T16:43:31.989175",
     "exception": false,
     "start_time": "2023-09-20T16:43:31.878149",
     "status": "completed"
    },
    "tags": []
   },
   "outputs": [],
   "source": [
    "odf_links;"
   ]
  },
  {
   "cell_type": "markdown",
   "id": "e9a4fb9d-69c9-45af-8333-f5c71984a88e",
   "metadata": {
    "papermill": {
     "duration": 0.103995,
     "end_time": "2023-09-20T16:43:32.202942",
     "exception": false,
     "start_time": "2023-09-20T16:43:32.098947",
     "status": "completed"
    },
    "tags": []
   },
   "source": [
    "### Write out"
   ]
  },
  {
   "cell_type": "code",
   "execution_count": null,
   "id": "6280b37d-6683-4670-b499-181fa14b57e9",
   "metadata": {
    "papermill": {
     "duration": 0.317275,
     "end_time": "2023-09-20T16:43:32.625003",
     "exception": false,
     "start_time": "2023-09-20T16:43:32.307728",
     "status": "completed"
    },
    "tags": []
   },
   "outputs": [],
   "source": [
    "print('Writing...')\n",
    "odf_links.to_csv(output_dir + f'/RGI2000-v7.0-G-{reg_file.long_code}-rgi6_links.csv', quoting=csv.QUOTE_NONNUMERIC, index=False)"
   ]
  }
 ],
 "metadata": {
  "kernelspec": {
   "display_name": "Python 3 (ipykernel)",
   "language": "python",
   "name": "python3"
  },
  "language_info": {
   "codemirror_mode": {
    "name": "ipython",
    "version": 3
   },
   "file_extension": ".py",
   "mimetype": "text/x-python",
   "name": "python",
   "nbconvert_exporter": "python",
   "pygments_lexer": "ipython3",
   "version": "3.10.8"
  },
  "papermill": {
   "default_parameters": {},
   "duration": 30.084228,
   "end_time": "2023-09-20T16:43:33.463318",
   "environment_variables": {},
   "exception": null,
   "input_path": "recompute_links_tpl.ipynb",
   "output_path": "recompute_links_RGI17.ipynb",
   "parameters": {
    "reg": 17
   },
   "start_time": "2023-09-20T16:43:03.379090",
   "version": "2.3.4"
  }
 },
 "nbformat": 4,
 "nbformat_minor": 5
}
