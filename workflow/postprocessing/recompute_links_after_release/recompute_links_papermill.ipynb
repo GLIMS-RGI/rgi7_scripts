{
 "cells": [
  {
   "cell_type": "code",
   "execution_count": null,
   "id": "883fdaa2-a648-4c74-a5d1-a93606d83d53",
   "metadata": {},
   "outputs": [],
   "source": [
    "import papermill as pm"
   ]
  },
  {
   "cell_type": "code",
   "execution_count": null,
   "id": "cc433446-2107-4df3-a4d2-789b65f9e102",
   "metadata": {},
   "outputs": [],
   "source": [
    "for reg in range(1, 20):\n",
    "    print(f'{reg:02d}')\n",
    "    pm.execute_notebook(\n",
    "       'recompute_links_tpl.ipynb',\n",
    "       f'recompute_links_RGI{reg:02d}.ipynb',\n",
    "       parameters=dict(reg=reg),\n",
    "       log_output=True\n",
    "    );"
   ]
  },
  {
   "cell_type": "code",
   "execution_count": null,
   "id": "fdbe4668-aa30-4ecf-a936-9a5db5a09a20",
   "metadata": {},
   "outputs": [],
   "source": [
    "import os, shutil"
   ]
  },
  {
   "cell_type": "code",
   "execution_count": null,
   "id": "2d051a50-52de-4224-bdd8-1de6fd6d194d",
   "metadata": {},
   "outputs": [],
   "source": [
    "# go down from rgi7_scripts/workflow\n",
    "data_dir = '../../../../rgi7_data/'\n",
    "\n",
    "# Input directory\n",
    "input_dir = os.path.join(data_dir, 'rgi7_rgi6_links')"
   ]
  },
  {
   "cell_type": "code",
   "execution_count": null,
   "id": "3c35a033-149f-49ab-ada0-485014130e50",
   "metadata": {},
   "outputs": [],
   "source": [
    "shutil.rmtree(os.path.join(input_dir, '.ipynb_checkpoints') )"
   ]
  },
  {
   "cell_type": "code",
   "execution_count": null,
   "id": "7f3105c9-087d-49d2-a1f3-52a8af002ea2",
   "metadata": {},
   "outputs": [],
   "source": [
    "print('Zipping...')\n",
    "shutil.make_archive(f'{data_dir}/rgi7_rgi6_links', 'zip', input_dir)"
   ]
  },
  {
   "cell_type": "code",
   "execution_count": null,
   "id": "db764f90-4756-48e7-ae1c-f9799a1f64e7",
   "metadata": {},
   "outputs": [],
   "source": [
    "print('DONE!')"
   ]
  },
  {
   "cell_type": "code",
   "execution_count": null,
   "id": "24a74f7a-9bd6-4900-9ac5-c763273a7f75",
   "metadata": {},
   "outputs": [],
   "source": []
  }
 ],
 "metadata": {
  "kernelspec": {
   "display_name": "Python 3 (ipykernel)",
   "language": "python",
   "name": "python3"
  },
  "language_info": {
   "codemirror_mode": {
    "name": "ipython",
    "version": 3
   },
   "file_extension": ".py",
   "mimetype": "text/x-python",
   "name": "python",
   "nbconvert_exporter": "python",
   "pygments_lexer": "ipython3",
   "version": "3.10.8"
  }
 },
 "nbformat": 4,
 "nbformat_minor": 5
}
