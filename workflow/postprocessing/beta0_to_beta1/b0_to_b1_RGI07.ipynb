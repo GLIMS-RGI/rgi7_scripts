{
 "cells": [
  {
   "cell_type": "code",
   "execution_count": null,
   "id": "46adc67a-c914-4b66-a3de-aed2506fb298",
   "metadata": {
    "papermill": {
     "duration": 0.415503,
     "end_time": "2023-06-12T08:08:09.014305",
     "exception": false,
     "start_time": "2023-06-12T08:08:08.598802",
     "status": "completed"
    },
    "tags": []
   },
   "outputs": [],
   "source": [
    "import pandas as pd\n",
    "import geopandas as gpd\n",
    "import subprocess\n",
    "import numpy as np\n",
    "import shapely.geometry as shpg\n",
    "from shapely.ops import linemerge\n",
    "from shapely import set_precision\n",
    "import os\n",
    "import sys\n",
    "import csv\n",
    "import json\n",
    "import logging\n",
    "import shutil\n",
    "import utm"
   ]
  },
  {
   "cell_type": "code",
   "execution_count": null,
   "id": "bad5729c-29eb-4fb6-80cf-b7d279f0343a",
   "metadata": {
    "papermill": {
     "duration": 0.016137,
     "end_time": "2023-06-12T08:08:09.042327",
     "exception": false,
     "start_time": "2023-06-12T08:08:09.026190",
     "status": "completed"
    },
    "tags": []
   },
   "outputs": [],
   "source": [
    "import warnings\n",
    "warnings.filterwarnings('ignore', category=FutureWarning)"
   ]
  },
  {
   "cell_type": "code",
   "execution_count": null,
   "id": "c62aa692-c347-4e74-bc0f-c0cdc9da4669",
   "metadata": {
    "papermill": {
     "duration": 1.819279,
     "end_time": "2023-06-12T08:08:10.867096",
     "exception": false,
     "start_time": "2023-06-12T08:08:09.047817",
     "status": "completed"
    },
    "tags": []
   },
   "outputs": [],
   "source": [
    "sys.path.append(os.getcwd() + '/../..')\n",
    "from utils import mkdir, open_zip_shapefile, open_tar_shapefile, haversine, correct_geoms, fix_overaps"
   ]
  },
  {
   "cell_type": "code",
   "execution_count": null,
   "id": "7c601bdf-1db0-429e-bb22-479f14ffe496",
   "metadata": {
    "papermill": {
     "duration": 0.0159,
     "end_time": "2023-06-12T08:08:10.894966",
     "exception": false,
     "start_time": "2023-06-12T08:08:10.879066",
     "status": "completed"
    },
    "tags": []
   },
   "outputs": [],
   "source": [
    "log = logging.getLogger('papermill')\n",
    "logging.basicConfig(level='INFO', format=\"%(message)s\")"
   ]
  },
  {
   "cell_type": "markdown",
   "id": "8487f7be-608e-44f1-88ec-671465325a11",
   "metadata": {
    "papermill": {
     "duration": 0.004618,
     "end_time": "2023-06-12T08:08:10.904715",
     "exception": false,
     "start_time": "2023-06-12T08:08:10.900097",
     "status": "completed"
    },
    "tags": []
   },
   "source": [
    "## Files and storage paths"
   ]
  },
  {
   "cell_type": "code",
   "execution_count": null,
   "id": "1c753f79-c5b6-49f0-b6ba-bfe40fd7eac3",
   "metadata": {
    "papermill": {
     "duration": 0.014577,
     "end_time": "2023-06-12T08:08:10.924362",
     "exception": false,
     "start_time": "2023-06-12T08:08:10.909785",
     "status": "completed"
    },
    "tags": [
     "parameters"
    ]
   },
   "outputs": [],
   "source": [
    "# Region of interest\n",
    "reg = 1\n",
    "\n",
    "# go down from rgi7_scripts/workflow\n",
    "data_dir = '../../../../rgi7_data/'\n",
    "\n",
    "# Input dirctory\n",
    "input_dir = os.path.join(data_dir, 'l4_rgi7b0')\n",
    "\n",
    "# RGI topo dir\n",
    "topo_dir = os.path.join(data_dir, 'l5_rgitopo/rgi7_tables/output_vardx')\n",
    "\n",
    "# Output directories\n",
    "output_dir = mkdir(os.path.join(data_dir, 'l5_rgi7b1'))\n",
    "output_dir_zip = mkdir(os.path.join(data_dir, 'l5_rgi7b1_zip'))"
   ]
  },
  {
   "cell_type": "code",
   "execution_count": null,
   "id": "93486dae",
   "metadata": {
    "papermill": {
     "duration": 0.012379,
     "end_time": "2023-06-12T08:08:10.943338",
     "exception": false,
     "start_time": "2023-06-12T08:08:10.930959",
     "status": "completed"
    },
    "tags": [
     "injected-parameters"
    ]
   },
   "outputs": [],
   "source": [
    "# Parameters\n",
    "reg = 7\n"
   ]
  },
  {
   "cell_type": "code",
   "execution_count": null,
   "id": "d8e3486d-1f48-414e-b676-f1cb096daea9",
   "metadata": {
    "papermill": {
     "duration": 0.012559,
     "end_time": "2023-06-12T08:08:10.962408",
     "exception": false,
     "start_time": "2023-06-12T08:08:10.949849",
     "status": "completed"
    },
    "tags": []
   },
   "outputs": [],
   "source": [
    "reg_str = f'{reg:02d}'"
   ]
  },
  {
   "cell_type": "code",
   "execution_count": null,
   "id": "17c277e3-352a-4602-b527-fb6c3ef21aff",
   "metadata": {
    "papermill": {
     "duration": 0.069648,
     "end_time": "2023-06-12T08:08:11.038833",
     "exception": false,
     "start_time": "2023-06-12T08:08:10.969185",
     "status": "completed"
    },
    "tags": []
   },
   "outputs": [],
   "source": [
    "reg_file = os.path.join(data_dir, '00_rgi70_regions', '00_rgi70_O1Regions')\n",
    "reg_file = gpd.read_file(reg_file)\n",
    "reg_file = reg_file.loc[reg_file.o1region == f'{reg:02d}'].iloc[0]\n",
    "\n",
    "input_dir_reg = f'{input_dir}/RGI2000-v7.0-G-{reg_file.long_code}/'\n",
    "output_dir_reg = mkdir(f'{output_dir}/RGI2000-v7.0-G-{reg_file.long_code}/', reset=True)"
   ]
  },
  {
   "cell_type": "markdown",
   "id": "2e96cac6-6b61-4ec2-9507-c2b3663fa332",
   "metadata": {
    "papermill": {
     "duration": 0.009533,
     "end_time": "2023-06-12T08:08:11.060106",
     "exception": false,
     "start_time": "2023-06-12T08:08:11.050573",
     "status": "completed"
    },
    "tags": []
   },
   "source": [
    "### Copy directory"
   ]
  },
  {
   "cell_type": "markdown",
   "id": "e589c184-6aec-4330-a297-99f80dd735c5",
   "metadata": {
    "papermill": {
     "duration": 0.004729,
     "end_time": "2023-06-12T08:08:11.071083",
     "exception": false,
     "start_time": "2023-06-12T08:08:11.066354",
     "status": "completed"
    },
    "tags": []
   },
   "source": [
    "Many things are unchanged:"
   ]
  },
  {
   "cell_type": "code",
   "execution_count": null,
   "id": "8b9f942c-e1a0-4bb1-9bc8-9081ef31de0f",
   "metadata": {
    "papermill": {
     "duration": 0.071631,
     "end_time": "2023-06-12T08:08:11.148047",
     "exception": false,
     "start_time": "2023-06-12T08:08:11.076416",
     "status": "completed"
    },
    "tags": []
   },
   "outputs": [],
   "source": [
    "from distutils.dir_util import copy_tree\n",
    "copy_tree(input_dir_reg, output_dir_reg)"
   ]
  },
  {
   "cell_type": "markdown",
   "id": "f2d31af4-b2b2-4dc9-b286-be594f2feb7e",
   "metadata": {
    "papermill": {
     "duration": 0.009982,
     "end_time": "2023-06-12T08:08:11.170188",
     "exception": false,
     "start_time": "2023-06-12T08:08:11.160206",
     "status": "completed"
    },
    "tags": []
   },
   "source": [
    "### Load the shp data to overwrite"
   ]
  },
  {
   "cell_type": "code",
   "execution_count": null,
   "id": "caab54b7-92c0-45fa-a943-25225b119001",
   "metadata": {
    "papermill": {
     "duration": 0.468148,
     "end_time": "2023-06-12T08:08:11.643758",
     "exception": false,
     "start_time": "2023-06-12T08:08:11.175610",
     "status": "completed"
    },
    "tags": []
   },
   "outputs": [],
   "source": [
    "# Read files\n",
    "rgi_reg_df = gpd.read_file(f'{input_dir_reg}/RGI2000-v7.0-G-{reg_file.long_code}.shp')"
   ]
  },
  {
   "cell_type": "markdown",
   "id": "d5c81f68-23b5-431b-8ef3-988fdb2861c7",
   "metadata": {
    "papermill": {
     "duration": 0.009973,
     "end_time": "2023-06-12T08:08:11.665312",
     "exception": false,
     "start_time": "2023-06-12T08:08:11.655339",
     "status": "completed"
    },
    "tags": []
   },
   "source": [
    "## Load the hypso data and choose "
   ]
  },
  {
   "cell_type": "code",
   "execution_count": null,
   "id": "ed846ec4-3030-4df4-a817-a842b1732215",
   "metadata": {
    "papermill": {
     "duration": 0.012259,
     "end_time": "2023-06-12T08:08:11.683989",
     "exception": false,
     "start_time": "2023-06-12T08:08:11.671730",
     "status": "completed"
    },
    "tags": []
   },
   "outputs": [],
   "source": [
    "min_range = 5"
   ]
  },
  {
   "cell_type": "code",
   "execution_count": null,
   "id": "70ceaa52-d3b4-4554-afaf-f0544c61d11a",
   "metadata": {
    "papermill": {
     "duration": 0.03808,
     "end_time": "2023-06-12T08:08:11.729243",
     "exception": false,
     "start_time": "2023-06-12T08:08:11.691163",
     "status": "completed"
    },
    "tags": []
   },
   "outputs": [],
   "source": [
    "# Take COPDEM30 for a start\n",
    "source = 'COPDEM30'\n",
    "fp = f'{topo_dir}/hypsometry_rgi{reg_str}_{source}.csv'\n",
    "hdf = pd.read_csv(fp, index_col=0)\n",
    "\n",
    "ids = np.where(hdf.columns.values == 'dem_source')[0][0]\n",
    "attr_cols = list(hdf.columns[0:ids+1])\n",
    "hypso_cols = list(hdf.columns[ids+1:])\n",
    "\n",
    "hdf_stats = hdf[attr_cols].copy()\n",
    "hdf_hypso = hdf[hypso_cols]\n",
    "\n",
    "valid = (hdf_stats.grid_dx <= 60) & (hdf_stats.valid_dem_perc > 0.99)\n",
    "valid = valid & (hdf_stats.zmin_m > -99) & ((hdf_stats.zmax_m - hdf_stats.zmin_m) > min_range)\n",
    "output_stats = hdf_stats.loc[valid].copy()\n",
    "output_hypso = hdf_hypso.loc[valid].copy()"
   ]
  },
  {
   "cell_type": "code",
   "execution_count": null,
   "id": "b9886397-7a2c-4c5c-8f76-3030f93e00f5",
   "metadata": {
    "papermill": {
     "duration": 0.048735,
     "end_time": "2023-06-12T08:08:11.788694",
     "exception": false,
     "start_time": "2023-06-12T08:08:11.739959",
     "status": "completed"
    },
    "tags": []
   },
   "outputs": [],
   "source": [
    "# Continue with COPDEM90\n",
    "source = 'COPDEM90'\n",
    "fp = f'{topo_dir}/hypsometry_rgi{reg_str}_{source}.csv'\n",
    "\n",
    "hdf = pd.read_csv(fp, index_col=0)\n",
    "\n",
    "ids = np.where(hdf.columns.values == 'dem_source')[0][0]\n",
    "attr_cols = list(hdf.columns[0:ids+1])\n",
    "hypso_cols = list(hdf.columns[ids+1:])\n",
    "\n",
    "hdf_stats = hdf[attr_cols].copy()\n",
    "hdf_hypso = hdf[hypso_cols]\n",
    "\n",
    "valid = (~ hdf_stats.index.isin(output_stats.index)) & (hdf_stats.valid_dem_perc > 0.99) \n",
    "valid = valid & (hdf_stats.zmin_m > -99) & ((hdf_stats.zmax_m - hdf_stats.zmin_m) > min_range)\n",
    "output_stats = pd.concat([output_stats, hdf_stats.loc[valid].copy()]).sort_index()\n",
    "output_hypso = pd.concat([output_hypso, hdf_hypso.loc[valid].copy()]).sort_index()\n",
    "\n",
    "still_no_good = rgi_reg_df.loc[~ rgi_reg_df.rgi_id.isin(output_stats.index)]\n",
    "print(f'{reg_str}: After COPDEM, {len(still_no_good)} left bad.')"
   ]
  },
  {
   "cell_type": "code",
   "execution_count": null,
   "id": "faa6cf66-5c5b-4bad-b336-7c712dd73be3",
   "metadata": {
    "papermill": {
     "duration": 0.020112,
     "end_time": "2023-06-12T08:08:11.820901",
     "exception": false,
     "start_time": "2023-06-12T08:08:11.800789",
     "status": "completed"
    },
    "tags": []
   },
   "outputs": [],
   "source": [
    "if len(still_no_good) > 0:\n",
    "    # We have to work\n",
    "    for alt_range in [min_range, 1]:\n",
    "        for source in ['NASADEM', 'RAMP', 'GIMP', 'DEM3', 'ASTER', 'TANDEM']:\n",
    "\n",
    "            fp = f'{topo_dir}/hypsometry_rgi{reg_str}_{source}.csv'\n",
    "            hdf = pd.read_csv(fp, index_col=0)\n",
    "            if 'valid_dem_perc' not in hdf:\n",
    "                continue\n",
    "\n",
    "            ids = np.where(hdf.columns.values == 'dem_source')[0][0]\n",
    "            attr_cols = list(hdf.columns[0:ids+1])\n",
    "            hypso_cols = list(hdf.columns[ids+1:])\n",
    "\n",
    "            hdf = hdf.loc[still_no_good.rgi_id]\n",
    "            hdf_stats = hdf[attr_cols].copy()\n",
    "            hdf_hypso = hdf[hypso_cols]\n",
    "\n",
    "            valid = (~ hdf_stats.index.isin(output_stats.index)) & (hdf_stats.valid_dem_perc > 0.99) \n",
    "            valid = valid & (hdf_stats.zmin_m > -99) & ((hdf_stats.zmax_m - hdf_stats.zmin_m) > alt_range)\n",
    "            if len(hdf_stats.loc[valid].copy()) == 0:\n",
    "                continue\n",
    "            print(f'{reg}: {source} and minrange {alt_range} can take over for {len(hdf_stats.loc[valid].copy())}')\n",
    "            output_stats = pd.concat([output_stats, hdf_stats.loc[valid].copy()]).sort_index()\n",
    "            output_hypso = pd.concat([output_hypso, hdf_hypso.loc[valid].copy()]).sort_index()\n",
    "            still_no_good = rgi_reg_df.loc[~ rgi_reg_df.rgi_id.isin(output_stats.index)]\n",
    "\n",
    "            print(f'{reg}: After {source} and minrange {alt_range}, {len(still_no_good)} left bad.')\n",
    "            if len(still_no_good) == 0:\n",
    "                break\n",
    "        if len(still_no_good) == 0:\n",
    "            break"
   ]
  },
  {
   "cell_type": "markdown",
   "id": "3570a1ff-0cde-412b-9dfc-f6b43ae78053",
   "metadata": {
    "papermill": {
     "duration": 0.004989,
     "end_time": "2023-06-12T08:08:11.831304",
     "exception": false,
     "start_time": "2023-06-12T08:08:11.826315",
     "status": "completed"
    },
    "tags": []
   },
   "source": [
    "### Clean up "
   ]
  },
  {
   "cell_type": "code",
   "execution_count": null,
   "id": "3bfd2efd-7593-48b2-8b04-f3dee00a619d",
   "metadata": {
    "papermill": {
     "duration": 0.013312,
     "end_time": "2023-06-12T08:08:11.851878",
     "exception": false,
     "start_time": "2023-06-12T08:08:11.838566",
     "status": "completed"
    },
    "tags": []
   },
   "outputs": [],
   "source": [
    "output_stats = output_stats.sort_index()"
   ]
  },
  {
   "cell_type": "code",
   "execution_count": null,
   "id": "ff3608f5-09e5-48da-8ea6-93ba4b0f24c3",
   "metadata": {
    "papermill": {
     "duration": 0.014001,
     "end_time": "2023-06-12T08:08:11.872949",
     "exception": false,
     "start_time": "2023-06-12T08:08:11.858948",
     "status": "completed"
    },
    "tags": []
   },
   "outputs": [],
   "source": [
    "assert len(output_stats) == len(rgi_reg_df) \n",
    "assert np.alltrue(output_stats.index == rgi_reg_df.rgi_id)"
   ]
  },
  {
   "cell_type": "code",
   "execution_count": null,
   "id": "f9c09402-5f08-4b29-af2f-0c0fe266883f",
   "metadata": {
    "papermill": {
     "duration": 0.01496,
     "end_time": "2023-06-12T08:08:11.895194",
     "exception": false,
     "start_time": "2023-06-12T08:08:11.880234",
     "status": "completed"
    },
    "tags": []
   },
   "outputs": [],
   "source": [
    "assert np.alltrue(np.isfinite(output_stats.aspect_deg))\n",
    "assert np.alltrue(np.isfinite(output_stats.zmean_m))\n",
    "assert np.alltrue(np.isfinite(output_stats.terminus_lon))"
   ]
  },
  {
   "cell_type": "code",
   "execution_count": null,
   "id": "a4359b34-a1c4-4107-8c24-fa65b03ec48a",
   "metadata": {
    "papermill": {
     "duration": 0.013818,
     "end_time": "2023-06-12T08:08:11.917200",
     "exception": false,
     "start_time": "2023-06-12T08:08:11.903382",
     "status": "completed"
    },
    "tags": []
   },
   "outputs": [],
   "source": [
    "convert_dic = {\n",
    "    'termlon':'terminus_lon', \n",
    "    'termlat':'terminus_lat',\n",
    "    'zmin_m':'zmin_m',\n",
    "    'zmax_m':'zmax_m',\n",
    "    'zmed_m':'zmed_m',\n",
    "    'zmean_m':'zmean_m',\n",
    "    'slope_deg':'slope_deg',\n",
    "    'aspect_deg':'aspect_deg',\n",
    "    'aspect_sec':'aspect_sec',\n",
    "    'dem_source':'dem_source',\n",
    "    }"
   ]
  },
  {
   "cell_type": "code",
   "execution_count": null,
   "id": "182980a5-5459-4b48-9df6-81a201b42ce6",
   "metadata": {
    "papermill": {
     "duration": 0.018255,
     "end_time": "2023-06-12T08:08:11.942553",
     "exception": false,
     "start_time": "2023-06-12T08:08:11.924298",
     "status": "completed"
    },
    "tags": []
   },
   "outputs": [],
   "source": [
    "for k, v in convert_dic.items():\n",
    "    rgi_reg_df[k] = output_stats[v].values"
   ]
  },
  {
   "cell_type": "code",
   "execution_count": null,
   "id": "df3db241-33ee-4e57-a63a-610fda61a913",
   "metadata": {
    "papermill": {
     "duration": 0.014448,
     "end_time": "2023-06-12T08:08:11.964392",
     "exception": false,
     "start_time": "2023-06-12T08:08:11.949944",
     "status": "completed"
    },
    "tags": []
   },
   "outputs": [],
   "source": [
    "assert '' not in rgi_reg_df.dem_source.unique()"
   ]
  },
  {
   "cell_type": "code",
   "execution_count": null,
   "id": "b0850744-47ce-411a-a77a-41b33d3eb263",
   "metadata": {
    "papermill": {
     "duration": 0.01484,
     "end_time": "2023-06-12T08:08:11.987020",
     "exception": false,
     "start_time": "2023-06-12T08:08:11.972180",
     "status": "completed"
    },
    "tags": []
   },
   "outputs": [],
   "source": [
    "output_hypso = output_hypso.sort_index()\n",
    "\n",
    "assert len(output_hypso) == len(rgi_reg_df) \n",
    "assert np.alltrue(output_hypso.index == rgi_reg_df.rgi_id)"
   ]
  },
  {
   "cell_type": "code",
   "execution_count": null,
   "id": "28ca43c3-f842-4b6c-8bc6-ce39a720d438",
   "metadata": {
    "papermill": {
     "duration": 0.015179,
     "end_time": "2023-06-12T08:08:12.009781",
     "exception": false,
     "start_time": "2023-06-12T08:08:11.994602",
     "status": "completed"
    },
    "tags": []
   },
   "outputs": [],
   "source": [
    "output_hypso.columns = [int(c) for c in output_hypso.columns]\n",
    "output_hypso = output_hypso[sorted(output_hypso.columns)]"
   ]
  },
  {
   "cell_type": "code",
   "execution_count": null,
   "id": "82a36e34-76b7-4659-afc7-bf846fbb3718",
   "metadata": {
    "papermill": {
     "duration": 0.014641,
     "end_time": "2023-06-12T08:08:12.033097",
     "exception": false,
     "start_time": "2023-06-12T08:08:12.018456",
     "status": "completed"
    },
    "tags": []
   },
   "outputs": [],
   "source": [
    "output_hypso = output_hypso.fillna(0).astype(int)"
   ]
  },
  {
   "cell_type": "code",
   "execution_count": null,
   "id": "2105db66-7820-4ef6-9913-9cb04fb435a6",
   "metadata": {
    "papermill": {
     "duration": 0.01582,
     "end_time": "2023-06-12T08:08:12.056783",
     "exception": false,
     "start_time": "2023-06-12T08:08:12.040963",
     "status": "completed"
    },
    "tags": []
   },
   "outputs": [],
   "source": [
    "assert output_hypso.columns.min() > -100\n",
    "assert np.allclose(output_hypso.sum(axis=1).unique(), 1000)"
   ]
  },
  {
   "cell_type": "code",
   "execution_count": null,
   "id": "9bcf83e8-aa28-4de1-ac4a-71a30667ab13",
   "metadata": {
    "papermill": {
     "duration": 0.131342,
     "end_time": "2023-06-12T08:08:12.200744",
     "exception": false,
     "start_time": "2023-06-12T08:08:12.069402",
     "status": "completed"
    },
    "tags": []
   },
   "outputs": [],
   "source": [
    "output_hypso.sum().plot();"
   ]
  },
  {
   "cell_type": "code",
   "execution_count": null,
   "id": "a1cf266e-66c3-4655-940e-4fad2b15f0a0",
   "metadata": {
    "papermill": {
     "duration": 0.020248,
     "end_time": "2023-06-12T08:08:12.233188",
     "exception": false,
     "start_time": "2023-06-12T08:08:12.212940",
     "status": "completed"
    },
    "tags": []
   },
   "outputs": [],
   "source": [
    "output_hypso['area_km2'] = rgi_reg_df['area_km2'].values\n",
    "output_hypso = output_hypso[['area_km2'] + list(output_hypso.columns[:-1])]"
   ]
  },
  {
   "cell_type": "markdown",
   "id": "1e9da820-bb63-44ba-9c9e-4b9bb43dc83d",
   "metadata": {
    "papermill": {
     "duration": 0.007264,
     "end_time": "2023-06-12T08:08:12.247306",
     "exception": false,
     "start_time": "2023-06-12T08:08:12.240042",
     "status": "completed"
    },
    "tags": []
   },
   "source": [
    "## Write out and zip"
   ]
  },
  {
   "cell_type": "code",
   "execution_count": null,
   "id": "6280b37d-6683-4670-b499-181fa14b57e9",
   "metadata": {
    "papermill": {
     "duration": 3.328867,
     "end_time": "2023-06-12T08:08:15.583810",
     "exception": false,
     "start_time": "2023-06-12T08:08:12.254943",
     "status": "completed"
    },
    "tags": []
   },
   "outputs": [],
   "source": [
    "print('Writing...')\n",
    "rgi_reg_df.to_file(output_dir_reg + f'/RGI2000-v7.0-G-{reg_file.long_code}.shp')\n",
    "rgi_reg_df.drop('geometry', axis=1).set_index('rgi_id').to_csv(output_dir_reg + f'/RGI2000-v7.0-G-{reg_file.long_code}-attributes.csv', quoting=csv.QUOTE_NONNUMERIC)\n",
    "output_hypso.to_csv(output_dir_reg + f'/RGI2000-v7.0-G-{reg_file.long_code}-hypsometry.csv', quoting=csv.QUOTE_NONNUMERIC)\n",
    "\n",
    "print('Zipping...')\n",
    "shutil.make_archive(f'{output_dir_zip}/RGI2000-v7.0-G-{reg_file.long_code}', 'zip', output_dir_reg)"
   ]
  },
  {
   "cell_type": "markdown",
   "id": "c7c3bdea-12dd-49b6-bdf9-9dde5333cc45",
   "metadata": {
    "papermill": {
     "duration": 0.008168,
     "end_time": "2023-06-12T08:08:15.605754",
     "exception": false,
     "start_time": "2023-06-12T08:08:15.597586",
     "status": "completed"
    },
    "tags": []
   },
   "source": [
    "## Plots "
   ]
  },
  {
   "cell_type": "code",
   "execution_count": null,
   "id": "01bc557a-dfb4-4ad2-b97d-cd2fe7ce1273",
   "metadata": {
    "papermill": {
     "duration": 0.184978,
     "end_time": "2023-06-12T08:08:15.797784",
     "exception": false,
     "start_time": "2023-06-12T08:08:15.612806",
     "status": "completed"
    },
    "tags": []
   },
   "outputs": [],
   "source": [
    "rgi_reg_df.aspect_deg.plot.hist(bins=91);"
   ]
  },
  {
   "cell_type": "code",
   "execution_count": null,
   "id": "192dc999-fb3a-4bef-a22d-491d34bc47fa",
   "metadata": {
    "papermill": {
     "duration": 0.186668,
     "end_time": "2023-06-12T08:08:15.998137",
     "exception": false,
     "start_time": "2023-06-12T08:08:15.811469",
     "status": "completed"
    },
    "tags": []
   },
   "outputs": [],
   "source": [
    "rgi_reg_df.slope_deg.plot.hist(bins=91);"
   ]
  },
  {
   "cell_type": "code",
   "execution_count": null,
   "id": "9332f478-be23-42ac-b7cd-2b4cafcd72da",
   "metadata": {
    "papermill": {
     "duration": 0.008992,
     "end_time": "2023-06-12T08:08:16.022122",
     "exception": false,
     "start_time": "2023-06-12T08:08:16.013130",
     "status": "completed"
    },
    "tags": []
   },
   "outputs": [],
   "source": []
  },
  {
   "cell_type": "code",
   "execution_count": null,
   "id": "06cd1c48-6107-448f-b03f-ac89a93d04da",
   "metadata": {
    "papermill": {
     "duration": 0.008929,
     "end_time": "2023-06-12T08:08:16.040561",
     "exception": false,
     "start_time": "2023-06-12T08:08:16.031632",
     "status": "completed"
    },
    "tags": []
   },
   "outputs": [],
   "source": []
  }
 ],
 "metadata": {
  "kernelspec": {
   "display_name": "Python 3 (ipykernel)",
   "language": "python",
   "name": "python3"
  },
  "language_info": {
   "codemirror_mode": {
    "name": "ipython",
    "version": 3
   },
   "file_extension": ".py",
   "mimetype": "text/x-python",
   "name": "python",
   "nbconvert_exporter": "python",
   "pygments_lexer": "ipython3",
   "version": "3.10.8"
  },
  "papermill": {
   "default_parameters": {},
   "duration": 8.96298,
   "end_time": "2023-06-12T08:08:16.569902",
   "environment_variables": {},
   "exception": null,
   "input_path": "b0_to_b1_tpl.ipynb",
   "output_path": "b0_to_b1_RGI07.ipynb",
   "parameters": {
    "reg": 7
   },
   "start_time": "2023-06-12T08:08:07.606922",
   "version": "2.3.4"
  }
 },
 "nbformat": 4,
 "nbformat_minor": 5
}
