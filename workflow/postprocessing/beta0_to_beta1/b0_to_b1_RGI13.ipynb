{
 "cells": [
  {
   "cell_type": "code",
   "execution_count": null,
   "id": "46adc67a-c914-4b66-a3de-aed2506fb298",
   "metadata": {
    "papermill": {
     "duration": 0.484342,
     "end_time": "2023-06-12T08:09:10.072627",
     "exception": false,
     "start_time": "2023-06-12T08:09:09.588285",
     "status": "completed"
    },
    "tags": []
   },
   "outputs": [],
   "source": [
    "import pandas as pd\n",
    "import geopandas as gpd\n",
    "import subprocess\n",
    "import numpy as np\n",
    "import shapely.geometry as shpg\n",
    "from shapely.ops import linemerge\n",
    "from shapely import set_precision\n",
    "import os\n",
    "import sys\n",
    "import csv\n",
    "import json\n",
    "import logging\n",
    "import shutil\n",
    "import utm"
   ]
  },
  {
   "cell_type": "code",
   "execution_count": null,
   "id": "bad5729c-29eb-4fb6-80cf-b7d279f0343a",
   "metadata": {
    "papermill": {
     "duration": 0.016091,
     "end_time": "2023-06-12T08:09:10.099891",
     "exception": false,
     "start_time": "2023-06-12T08:09:10.083800",
     "status": "completed"
    },
    "tags": []
   },
   "outputs": [],
   "source": [
    "import warnings\n",
    "warnings.filterwarnings('ignore', category=FutureWarning)"
   ]
  },
  {
   "cell_type": "code",
   "execution_count": null,
   "id": "c62aa692-c347-4e74-bc0f-c0cdc9da4669",
   "metadata": {
    "papermill": {
     "duration": 1.835306,
     "end_time": "2023-06-12T08:09:11.939919",
     "exception": false,
     "start_time": "2023-06-12T08:09:10.104613",
     "status": "completed"
    },
    "tags": []
   },
   "outputs": [],
   "source": [
    "sys.path.append(os.getcwd() + '/../..')\n",
    "from utils import mkdir, open_zip_shapefile, open_tar_shapefile, haversine, correct_geoms, fix_overaps"
   ]
  },
  {
   "cell_type": "code",
   "execution_count": null,
   "id": "7c601bdf-1db0-429e-bb22-479f14ffe496",
   "metadata": {
    "papermill": {
     "duration": 0.015477,
     "end_time": "2023-06-12T08:09:11.966967",
     "exception": false,
     "start_time": "2023-06-12T08:09:11.951490",
     "status": "completed"
    },
    "tags": []
   },
   "outputs": [],
   "source": [
    "log = logging.getLogger('papermill')\n",
    "logging.basicConfig(level='INFO', format=\"%(message)s\")"
   ]
  },
  {
   "cell_type": "markdown",
   "id": "8487f7be-608e-44f1-88ec-671465325a11",
   "metadata": {
    "papermill": {
     "duration": 0.005171,
     "end_time": "2023-06-12T08:09:11.977611",
     "exception": false,
     "start_time": "2023-06-12T08:09:11.972440",
     "status": "completed"
    },
    "tags": []
   },
   "source": [
    "## Files and storage paths"
   ]
  },
  {
   "cell_type": "code",
   "execution_count": null,
   "id": "1c753f79-c5b6-49f0-b6ba-bfe40fd7eac3",
   "metadata": {
    "papermill": {
     "duration": 0.014898,
     "end_time": "2023-06-12T08:09:11.997926",
     "exception": false,
     "start_time": "2023-06-12T08:09:11.983028",
     "status": "completed"
    },
    "tags": [
     "parameters"
    ]
   },
   "outputs": [],
   "source": [
    "# Region of interest\n",
    "reg = 1\n",
    "\n",
    "# go down from rgi7_scripts/workflow\n",
    "data_dir = '../../../../rgi7_data/'\n",
    "\n",
    "# Input dirctory\n",
    "input_dir = os.path.join(data_dir, 'l4_rgi7b0')\n",
    "\n",
    "# RGI topo dir\n",
    "topo_dir = os.path.join(data_dir, 'l5_rgitopo/rgi7_tables/output_vardx')\n",
    "\n",
    "# Output directories\n",
    "output_dir = mkdir(os.path.join(data_dir, 'l5_rgi7b1'))\n",
    "output_dir_zip = mkdir(os.path.join(data_dir, 'l5_rgi7b1_zip'))"
   ]
  },
  {
   "cell_type": "code",
   "execution_count": null,
   "id": "2ae2d387",
   "metadata": {
    "papermill": {
     "duration": 0.012513,
     "end_time": "2023-06-12T08:09:12.017269",
     "exception": false,
     "start_time": "2023-06-12T08:09:12.004756",
     "status": "completed"
    },
    "tags": [
     "injected-parameters"
    ]
   },
   "outputs": [],
   "source": [
    "# Parameters\n",
    "reg = 13\n"
   ]
  },
  {
   "cell_type": "code",
   "execution_count": null,
   "id": "d8e3486d-1f48-414e-b676-f1cb096daea9",
   "metadata": {
    "papermill": {
     "duration": 0.012882,
     "end_time": "2023-06-12T08:09:12.036809",
     "exception": false,
     "start_time": "2023-06-12T08:09:12.023927",
     "status": "completed"
    },
    "tags": []
   },
   "outputs": [],
   "source": [
    "reg_str = f'{reg:02d}'"
   ]
  },
  {
   "cell_type": "code",
   "execution_count": null,
   "id": "17c277e3-352a-4602-b527-fb6c3ef21aff",
   "metadata": {
    "papermill": {
     "duration": 0.123195,
     "end_time": "2023-06-12T08:09:12.166852",
     "exception": false,
     "start_time": "2023-06-12T08:09:12.043657",
     "status": "completed"
    },
    "tags": []
   },
   "outputs": [],
   "source": [
    "reg_file = os.path.join(data_dir, '00_rgi70_regions', '00_rgi70_O1Regions')\n",
    "reg_file = gpd.read_file(reg_file)\n",
    "reg_file = reg_file.loc[reg_file.o1region == f'{reg:02d}'].iloc[0]\n",
    "\n",
    "input_dir_reg = f'{input_dir}/RGI2000-v7.0-G-{reg_file.long_code}/'\n",
    "output_dir_reg = mkdir(f'{output_dir}/RGI2000-v7.0-G-{reg_file.long_code}/', reset=True)"
   ]
  },
  {
   "cell_type": "markdown",
   "id": "2e96cac6-6b61-4ec2-9507-c2b3663fa332",
   "metadata": {
    "papermill": {
     "duration": 0.009615,
     "end_time": "2023-06-12T08:09:12.187728",
     "exception": false,
     "start_time": "2023-06-12T08:09:12.178113",
     "status": "completed"
    },
    "tags": []
   },
   "source": [
    "### Copy directory"
   ]
  },
  {
   "cell_type": "markdown",
   "id": "e589c184-6aec-4330-a297-99f80dd735c5",
   "metadata": {
    "papermill": {
     "duration": 0.004503,
     "end_time": "2023-06-12T08:09:12.197259",
     "exception": false,
     "start_time": "2023-06-12T08:09:12.192756",
     "status": "completed"
    },
    "tags": []
   },
   "source": [
    "Many things are unchanged:"
   ]
  },
  {
   "cell_type": "code",
   "execution_count": null,
   "id": "8b9f942c-e1a0-4bb1-9bc8-9081ef31de0f",
   "metadata": {
    "papermill": {
     "duration": 0.620047,
     "end_time": "2023-06-12T08:09:12.822234",
     "exception": false,
     "start_time": "2023-06-12T08:09:12.202187",
     "status": "completed"
    },
    "tags": []
   },
   "outputs": [],
   "source": [
    "from distutils.dir_util import copy_tree\n",
    "copy_tree(input_dir_reg, output_dir_reg)"
   ]
  },
  {
   "cell_type": "markdown",
   "id": "f2d31af4-b2b2-4dc9-b286-be594f2feb7e",
   "metadata": {
    "papermill": {
     "duration": 0.007975,
     "end_time": "2023-06-12T08:09:12.841816",
     "exception": false,
     "start_time": "2023-06-12T08:09:12.833841",
     "status": "completed"
    },
    "tags": []
   },
   "source": [
    "### Load the shp data to overwrite"
   ]
  },
  {
   "cell_type": "code",
   "execution_count": null,
   "id": "caab54b7-92c0-45fa-a943-25225b119001",
   "metadata": {
    "papermill": {
     "duration": 9.058955,
     "end_time": "2023-06-12T08:09:21.905814",
     "exception": false,
     "start_time": "2023-06-12T08:09:12.846859",
     "status": "completed"
    },
    "tags": []
   },
   "outputs": [],
   "source": [
    "# Read files\n",
    "rgi_reg_df = gpd.read_file(f'{input_dir_reg}/RGI2000-v7.0-G-{reg_file.long_code}.shp')"
   ]
  },
  {
   "cell_type": "markdown",
   "id": "d5c81f68-23b5-431b-8ef3-988fdb2861c7",
   "metadata": {
    "papermill": {
     "duration": 0.009861,
     "end_time": "2023-06-12T08:09:21.928606",
     "exception": false,
     "start_time": "2023-06-12T08:09:21.918745",
     "status": "completed"
    },
    "tags": []
   },
   "source": [
    "## Load the hypso data and choose "
   ]
  },
  {
   "cell_type": "code",
   "execution_count": null,
   "id": "ed846ec4-3030-4df4-a817-a842b1732215",
   "metadata": {
    "papermill": {
     "duration": 0.015507,
     "end_time": "2023-06-12T08:09:21.949328",
     "exception": false,
     "start_time": "2023-06-12T08:09:21.933821",
     "status": "completed"
    },
    "tags": []
   },
   "outputs": [],
   "source": [
    "min_range = 5"
   ]
  },
  {
   "cell_type": "code",
   "execution_count": null,
   "id": "70ceaa52-d3b4-4554-afaf-f0544c61d11a",
   "metadata": {
    "papermill": {
     "duration": 0.389113,
     "end_time": "2023-06-12T08:09:22.346261",
     "exception": false,
     "start_time": "2023-06-12T08:09:21.957148",
     "status": "completed"
    },
    "tags": []
   },
   "outputs": [],
   "source": [
    "# Take COPDEM30 for a start\n",
    "source = 'COPDEM30'\n",
    "fp = f'{topo_dir}/hypsometry_rgi{reg_str}_{source}.csv'\n",
    "hdf = pd.read_csv(fp, index_col=0)\n",
    "\n",
    "ids = np.where(hdf.columns.values == 'dem_source')[0][0]\n",
    "attr_cols = list(hdf.columns[0:ids+1])\n",
    "hypso_cols = list(hdf.columns[ids+1:])\n",
    "\n",
    "hdf_stats = hdf[attr_cols].copy()\n",
    "hdf_hypso = hdf[hypso_cols]\n",
    "\n",
    "valid = (hdf_stats.grid_dx <= 60) & (hdf_stats.valid_dem_perc > 0.99)\n",
    "valid = valid & (hdf_stats.zmin_m > -99) & ((hdf_stats.zmax_m - hdf_stats.zmin_m) > min_range)\n",
    "output_stats = hdf_stats.loc[valid].copy()\n",
    "output_hypso = hdf_hypso.loc[valid].copy()"
   ]
  },
  {
   "cell_type": "code",
   "execution_count": null,
   "id": "b9886397-7a2c-4c5c-8f76-3030f93e00f5",
   "metadata": {
    "papermill": {
     "duration": 0.513769,
     "end_time": "2023-06-12T08:09:22.872666",
     "exception": false,
     "start_time": "2023-06-12T08:09:22.358897",
     "status": "completed"
    },
    "tags": []
   },
   "outputs": [],
   "source": [
    "# Continue with COPDEM90\n",
    "source = 'COPDEM90'\n",
    "fp = f'{topo_dir}/hypsometry_rgi{reg_str}_{source}.csv'\n",
    "\n",
    "hdf = pd.read_csv(fp, index_col=0)\n",
    "\n",
    "ids = np.where(hdf.columns.values == 'dem_source')[0][0]\n",
    "attr_cols = list(hdf.columns[0:ids+1])\n",
    "hypso_cols = list(hdf.columns[ids+1:])\n",
    "\n",
    "hdf_stats = hdf[attr_cols].copy()\n",
    "hdf_hypso = hdf[hypso_cols]\n",
    "\n",
    "valid = (~ hdf_stats.index.isin(output_stats.index)) & (hdf_stats.valid_dem_perc > 0.99) \n",
    "valid = valid & (hdf_stats.zmin_m > -99) & ((hdf_stats.zmax_m - hdf_stats.zmin_m) > min_range)\n",
    "output_stats = pd.concat([output_stats, hdf_stats.loc[valid].copy()]).sort_index()\n",
    "output_hypso = pd.concat([output_hypso, hdf_hypso.loc[valid].copy()]).sort_index()\n",
    "\n",
    "still_no_good = rgi_reg_df.loc[~ rgi_reg_df.rgi_id.isin(output_stats.index)]\n",
    "print(f'{reg_str}: After COPDEM, {len(still_no_good)} left bad.')"
   ]
  },
  {
   "cell_type": "code",
   "execution_count": null,
   "id": "faa6cf66-5c5b-4bad-b336-7c712dd73be3",
   "metadata": {
    "papermill": {
     "duration": 0.025513,
     "end_time": "2023-06-12T08:09:22.910930",
     "exception": false,
     "start_time": "2023-06-12T08:09:22.885417",
     "status": "completed"
    },
    "tags": []
   },
   "outputs": [],
   "source": [
    "if len(still_no_good) > 0:\n",
    "    # We have to work\n",
    "    for alt_range in [min_range, 1]:\n",
    "        for source in ['NASADEM', 'RAMP', 'GIMP', 'DEM3', 'ASTER', 'TANDEM']:\n",
    "\n",
    "            fp = f'{topo_dir}/hypsometry_rgi{reg_str}_{source}.csv'\n",
    "            hdf = pd.read_csv(fp, index_col=0)\n",
    "            if 'valid_dem_perc' not in hdf:\n",
    "                continue\n",
    "\n",
    "            ids = np.where(hdf.columns.values == 'dem_source')[0][0]\n",
    "            attr_cols = list(hdf.columns[0:ids+1])\n",
    "            hypso_cols = list(hdf.columns[ids+1:])\n",
    "\n",
    "            hdf = hdf.loc[still_no_good.rgi_id]\n",
    "            hdf_stats = hdf[attr_cols].copy()\n",
    "            hdf_hypso = hdf[hypso_cols]\n",
    "\n",
    "            valid = (~ hdf_stats.index.isin(output_stats.index)) & (hdf_stats.valid_dem_perc > 0.99) \n",
    "            valid = valid & (hdf_stats.zmin_m > -99) & ((hdf_stats.zmax_m - hdf_stats.zmin_m) > alt_range)\n",
    "            if len(hdf_stats.loc[valid].copy()) == 0:\n",
    "                continue\n",
    "            print(f'{reg}: {source} and minrange {alt_range} can take over for {len(hdf_stats.loc[valid].copy())}')\n",
    "            output_stats = pd.concat([output_stats, hdf_stats.loc[valid].copy()]).sort_index()\n",
    "            output_hypso = pd.concat([output_hypso, hdf_hypso.loc[valid].copy()]).sort_index()\n",
    "            still_no_good = rgi_reg_df.loc[~ rgi_reg_df.rgi_id.isin(output_stats.index)]\n",
    "\n",
    "            print(f'{reg}: After {source} and minrange {alt_range}, {len(still_no_good)} left bad.')\n",
    "            if len(still_no_good) == 0:\n",
    "                break\n",
    "        if len(still_no_good) == 0:\n",
    "            break"
   ]
  },
  {
   "cell_type": "markdown",
   "id": "3570a1ff-0cde-412b-9dfc-f6b43ae78053",
   "metadata": {
    "papermill": {
     "duration": 0.006977,
     "end_time": "2023-06-12T08:09:22.924029",
     "exception": false,
     "start_time": "2023-06-12T08:09:22.917052",
     "status": "completed"
    },
    "tags": []
   },
   "source": [
    "### Clean up "
   ]
  },
  {
   "cell_type": "code",
   "execution_count": null,
   "id": "3bfd2efd-7593-48b2-8b04-f3dee00a619d",
   "metadata": {
    "papermill": {
     "duration": 0.020685,
     "end_time": "2023-06-12T08:09:22.952270",
     "exception": false,
     "start_time": "2023-06-12T08:09:22.931585",
     "status": "completed"
    },
    "tags": []
   },
   "outputs": [],
   "source": [
    "output_stats = output_stats.sort_index()"
   ]
  },
  {
   "cell_type": "code",
   "execution_count": null,
   "id": "ff3608f5-09e5-48da-8ea6-93ba4b0f24c3",
   "metadata": {
    "papermill": {
     "duration": 0.021881,
     "end_time": "2023-06-12T08:09:22.981181",
     "exception": false,
     "start_time": "2023-06-12T08:09:22.959300",
     "status": "completed"
    },
    "tags": []
   },
   "outputs": [],
   "source": [
    "assert len(output_stats) == len(rgi_reg_df) \n",
    "assert np.alltrue(output_stats.index == rgi_reg_df.rgi_id)"
   ]
  },
  {
   "cell_type": "code",
   "execution_count": null,
   "id": "f9c09402-5f08-4b29-af2f-0c0fe266883f",
   "metadata": {
    "papermill": {
     "duration": 0.014532,
     "end_time": "2023-06-12T08:09:23.004039",
     "exception": false,
     "start_time": "2023-06-12T08:09:22.989507",
     "status": "completed"
    },
    "tags": []
   },
   "outputs": [],
   "source": [
    "assert np.alltrue(np.isfinite(output_stats.aspect_deg))\n",
    "assert np.alltrue(np.isfinite(output_stats.zmean_m))\n",
    "assert np.alltrue(np.isfinite(output_stats.terminus_lon))"
   ]
  },
  {
   "cell_type": "code",
   "execution_count": null,
   "id": "a4359b34-a1c4-4107-8c24-fa65b03ec48a",
   "metadata": {
    "papermill": {
     "duration": 0.014145,
     "end_time": "2023-06-12T08:09:23.025710",
     "exception": false,
     "start_time": "2023-06-12T08:09:23.011565",
     "status": "completed"
    },
    "tags": []
   },
   "outputs": [],
   "source": [
    "convert_dic = {\n",
    "    'termlon':'terminus_lon', \n",
    "    'termlat':'terminus_lat',\n",
    "    'zmin_m':'zmin_m',\n",
    "    'zmax_m':'zmax_m',\n",
    "    'zmed_m':'zmed_m',\n",
    "    'zmean_m':'zmean_m',\n",
    "    'slope_deg':'slope_deg',\n",
    "    'aspect_deg':'aspect_deg',\n",
    "    'aspect_sec':'aspect_sec',\n",
    "    'dem_source':'dem_source',\n",
    "    }"
   ]
  },
  {
   "cell_type": "code",
   "execution_count": null,
   "id": "182980a5-5459-4b48-9df6-81a201b42ce6",
   "metadata": {
    "papermill": {
     "duration": 0.124015,
     "end_time": "2023-06-12T08:09:23.157492",
     "exception": false,
     "start_time": "2023-06-12T08:09:23.033477",
     "status": "completed"
    },
    "tags": []
   },
   "outputs": [],
   "source": [
    "for k, v in convert_dic.items():\n",
    "    rgi_reg_df[k] = output_stats[v].values"
   ]
  },
  {
   "cell_type": "code",
   "execution_count": null,
   "id": "df3db241-33ee-4e57-a63a-610fda61a913",
   "metadata": {
    "papermill": {
     "duration": 0.020174,
     "end_time": "2023-06-12T08:09:23.190097",
     "exception": false,
     "start_time": "2023-06-12T08:09:23.169923",
     "status": "completed"
    },
    "tags": []
   },
   "outputs": [],
   "source": [
    "assert '' not in rgi_reg_df.dem_source.unique()"
   ]
  },
  {
   "cell_type": "code",
   "execution_count": null,
   "id": "b0850744-47ce-411a-a77a-41b33d3eb263",
   "metadata": {
    "papermill": {
     "duration": 0.05905,
     "end_time": "2023-06-12T08:09:23.255063",
     "exception": false,
     "start_time": "2023-06-12T08:09:23.196013",
     "status": "completed"
    },
    "tags": []
   },
   "outputs": [],
   "source": [
    "output_hypso = output_hypso.sort_index()\n",
    "\n",
    "assert len(output_hypso) == len(rgi_reg_df) \n",
    "assert np.alltrue(output_hypso.index == rgi_reg_df.rgi_id)"
   ]
  },
  {
   "cell_type": "code",
   "execution_count": null,
   "id": "28ca43c3-f842-4b6c-8bc6-ce39a720d438",
   "metadata": {
    "papermill": {
     "duration": 0.035238,
     "end_time": "2023-06-12T08:09:23.302196",
     "exception": false,
     "start_time": "2023-06-12T08:09:23.266958",
     "status": "completed"
    },
    "tags": []
   },
   "outputs": [],
   "source": [
    "output_hypso.columns = [int(c) for c in output_hypso.columns]\n",
    "output_hypso = output_hypso[sorted(output_hypso.columns)]"
   ]
  },
  {
   "cell_type": "code",
   "execution_count": null,
   "id": "82a36e34-76b7-4659-afc7-bf846fbb3718",
   "metadata": {
    "papermill": {
     "duration": 0.064361,
     "end_time": "2023-06-12T08:09:23.379241",
     "exception": false,
     "start_time": "2023-06-12T08:09:23.314880",
     "status": "completed"
    },
    "tags": []
   },
   "outputs": [],
   "source": [
    "output_hypso = output_hypso.fillna(0).astype(int)"
   ]
  },
  {
   "cell_type": "code",
   "execution_count": null,
   "id": "2105db66-7820-4ef6-9913-9cb04fb435a6",
   "metadata": {
    "papermill": {
     "duration": 0.025935,
     "end_time": "2023-06-12T08:09:23.416848",
     "exception": false,
     "start_time": "2023-06-12T08:09:23.390913",
     "status": "completed"
    },
    "tags": []
   },
   "outputs": [],
   "source": [
    "assert output_hypso.columns.min() > -100\n",
    "assert np.allclose(output_hypso.sum(axis=1).unique(), 1000)"
   ]
  },
  {
   "cell_type": "code",
   "execution_count": null,
   "id": "9bcf83e8-aa28-4de1-ac4a-71a30667ab13",
   "metadata": {
    "papermill": {
     "duration": 0.140738,
     "end_time": "2023-06-12T08:09:23.565124",
     "exception": false,
     "start_time": "2023-06-12T08:09:23.424386",
     "status": "completed"
    },
    "tags": []
   },
   "outputs": [],
   "source": [
    "output_hypso.sum().plot();"
   ]
  },
  {
   "cell_type": "code",
   "execution_count": null,
   "id": "a1cf266e-66c3-4655-940e-4fad2b15f0a0",
   "metadata": {
    "papermill": {
     "duration": 0.039159,
     "end_time": "2023-06-12T08:09:23.616426",
     "exception": false,
     "start_time": "2023-06-12T08:09:23.577267",
     "status": "completed"
    },
    "tags": []
   },
   "outputs": [],
   "source": [
    "output_hypso['area_km2'] = rgi_reg_df['area_km2'].values\n",
    "output_hypso = output_hypso[['area_km2'] + list(output_hypso.columns[:-1])]"
   ]
  },
  {
   "cell_type": "markdown",
   "id": "1e9da820-bb63-44ba-9c9e-4b9bb43dc83d",
   "metadata": {
    "papermill": {
     "duration": 0.009516,
     "end_time": "2023-06-12T08:09:23.639584",
     "exception": false,
     "start_time": "2023-06-12T08:09:23.630068",
     "status": "completed"
    },
    "tags": []
   },
   "source": [
    "## Write out and zip"
   ]
  },
  {
   "cell_type": "code",
   "execution_count": null,
   "id": "6280b37d-6683-4670-b499-181fa14b57e9",
   "metadata": {
    "papermill": {
     "duration": 85.504768,
     "end_time": "2023-06-12T08:10:49.150533",
     "exception": false,
     "start_time": "2023-06-12T08:09:23.645765",
     "status": "completed"
    },
    "tags": []
   },
   "outputs": [],
   "source": [
    "print('Writing...')\n",
    "rgi_reg_df.to_file(output_dir_reg + f'/RGI2000-v7.0-G-{reg_file.long_code}.shp')\n",
    "rgi_reg_df.drop('geometry', axis=1).set_index('rgi_id').to_csv(output_dir_reg + f'/RGI2000-v7.0-G-{reg_file.long_code}-attributes.csv', quoting=csv.QUOTE_NONNUMERIC)\n",
    "output_hypso.to_csv(output_dir_reg + f'/RGI2000-v7.0-G-{reg_file.long_code}-hypsometry.csv', quoting=csv.QUOTE_NONNUMERIC)\n",
    "\n",
    "print('Zipping...')\n",
    "shutil.make_archive(f'{output_dir_zip}/RGI2000-v7.0-G-{reg_file.long_code}', 'zip', output_dir_reg)"
   ]
  },
  {
   "cell_type": "markdown",
   "id": "c7c3bdea-12dd-49b6-bdf9-9dde5333cc45",
   "metadata": {
    "papermill": {
     "duration": 0.008739,
     "end_time": "2023-06-12T08:10:49.166983",
     "exception": false,
     "start_time": "2023-06-12T08:10:49.158244",
     "status": "completed"
    },
    "tags": []
   },
   "source": [
    "## Plots "
   ]
  },
  {
   "cell_type": "code",
   "execution_count": null,
   "id": "01bc557a-dfb4-4ad2-b97d-cd2fe7ce1273",
   "metadata": {
    "papermill": {
     "duration": 0.22947,
     "end_time": "2023-06-12T08:10:49.405009",
     "exception": false,
     "start_time": "2023-06-12T08:10:49.175539",
     "status": "completed"
    },
    "tags": []
   },
   "outputs": [],
   "source": [
    "rgi_reg_df.aspect_deg.plot.hist(bins=91);"
   ]
  },
  {
   "cell_type": "code",
   "execution_count": null,
   "id": "192dc999-fb3a-4bef-a22d-491d34bc47fa",
   "metadata": {
    "papermill": {
     "duration": 0.191119,
     "end_time": "2023-06-12T08:10:49.606747",
     "exception": false,
     "start_time": "2023-06-12T08:10:49.415628",
     "status": "completed"
    },
    "tags": []
   },
   "outputs": [],
   "source": [
    "rgi_reg_df.slope_deg.plot.hist(bins=91);"
   ]
  },
  {
   "cell_type": "code",
   "execution_count": null,
   "id": "9332f478-be23-42ac-b7cd-2b4cafcd72da",
   "metadata": {
    "papermill": {
     "duration": 0.006406,
     "end_time": "2023-06-12T08:10:49.620617",
     "exception": false,
     "start_time": "2023-06-12T08:10:49.614211",
     "status": "completed"
    },
    "tags": []
   },
   "outputs": [],
   "source": []
  },
  {
   "cell_type": "code",
   "execution_count": null,
   "id": "06cd1c48-6107-448f-b03f-ac89a93d04da",
   "metadata": {
    "papermill": {
     "duration": 0.006912,
     "end_time": "2023-06-12T08:10:49.635281",
     "exception": false,
     "start_time": "2023-06-12T08:10:49.628369",
     "status": "completed"
    },
    "tags": []
   },
   "outputs": [],
   "source": []
  }
 ],
 "metadata": {
  "kernelspec": {
   "display_name": "Python 3 (ipykernel)",
   "language": "python",
   "name": "python3"
  },
  "language_info": {
   "codemirror_mode": {
    "name": "ipython",
    "version": 3
   },
   "file_extension": ".py",
   "mimetype": "text/x-python",
   "name": "python",
   "nbconvert_exporter": "python",
   "pygments_lexer": "ipython3",
   "version": "3.10.8"
  },
  "papermill": {
   "default_parameters": {},
   "duration": 101.792359,
   "end_time": "2023-06-12T08:10:50.363236",
   "environment_variables": {},
   "exception": null,
   "input_path": "b0_to_b1_tpl.ipynb",
   "output_path": "b0_to_b1_RGI13.ipynb",
   "parameters": {
    "reg": 13
   },
   "start_time": "2023-06-12T08:09:08.570877",
   "version": "2.3.4"
  }
 },
 "nbformat": 4,
 "nbformat_minor": 5
}
