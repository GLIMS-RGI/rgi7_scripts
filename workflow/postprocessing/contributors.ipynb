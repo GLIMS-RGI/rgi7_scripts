{
 "cells": [
  {
   "cell_type": "code",
   "execution_count": null,
   "id": "3cc91d52-b06b-47a5-8911-affeb1826b2d",
   "metadata": {},
   "outputs": [],
   "source": [
    "import pandas as pd\n",
    "import numpy as np\n",
    "import sys, os\n",
    "sys.path.append(os.getcwd() + '/..')\n",
    "from utils import mkdir, submission_summary, needs_size_filter, size_filter, plot_map, plot_date_hist, maps, open_tar_shapefile, open_zip_shapefile"
   ]
  },
  {
   "cell_type": "code",
   "execution_count": null,
   "id": "4952b87e-e361-4f67-9788-a727eb76b6f8",
   "metadata": {},
   "outputs": [],
   "source": [
    "# go down from rgi7_scripts/workflow\n",
    "data_dir = '../../../rgi7_data/'\n",
    "\n",
    "l4_dir = os.path.join(data_dir, 'l4_rgi7b0')"
   ]
  },
  {
   "cell_type": "code",
   "execution_count": null,
   "id": "59270bb2-247f-4387-a209-89ada7b6b8d4",
   "metadata": {},
   "outputs": [],
   "source": [
    "reg_file = open_zip_shapefile(os.path.join(data_dir, '00_rgi70_regions/00_rgi70_O1Regions.zip'))\n",
    "sreg_file = open_zip_shapefile(os.path.join(data_dir, '00_rgi70_regions/00_rgi70_O2Regions.zip'))"
   ]
  },
  {
   "cell_type": "code",
   "execution_count": null,
   "id": "c1a01ef3-38fa-4323-8baa-4eb647ce0a0b",
   "metadata": {},
   "outputs": [],
   "source": [
    "contrib = {}\n",
    "for reg in range(1, 20):\n",
    "    regf = reg_file.loc[reg_file.o1region == f'{reg:02d}'].iloc[0]\n",
    "    rd = 'RGI2000-v7.0-G-' + regf.long_code\n",
    "    shp = pd.read_csv(os.path.join(l4_dir, rd, rd + '_subm_info.csv'))\n",
    "    for i, s in shp.iterrows():\n",
    "        sub = s.submitters.strip()\n",
    "        if sub not in contrib:\n",
    "            contrib[sub] = {}\n",
    "            contrib[sub]['subm_id'] = []\n",
    "            contrib[sub]['rgi_reg'] = []\n",
    "            contrib[sub]['area_km2'] = 0\n",
    "            contrib[sub]['n_outlines'] = 0\n",
    "\n",
    "        contrib[sub]['subm_id'].append(str(s.subm_id))\n",
    "        contrib[sub]['rgi_reg'].append(regf.o1region)\n",
    "        contrib[sub]['area_km2'] += s.area_km2\n",
    "        contrib[sub]['n_outlines'] += s.n_outlines\n",
    "\n",
    "        for analyst in s.analysts.split(';'):\n",
    "            analyst = analyst.strip()\n",
    "            if analyst == sub:\n",
    "                continue\n",
    "            if analyst not in contrib:\n",
    "                contrib[analyst] = {}\n",
    "                contrib[analyst]['subm_id'] = []\n",
    "                contrib[analyst]['rgi_reg'] = []\n",
    "                contrib[analyst]['area_km2'] = 0\n",
    "                contrib[analyst]['n_outlines'] = 0\n",
    "\n",
    "            contrib[analyst]['subm_id'].append(str(s.subm_id))\n",
    "            contrib[analyst]['rgi_reg'].append(regf.o1region)\n",
    "            contrib[analyst]['area_km2'] += s.area_km2\n",
    "            contrib[analyst]['n_outlines'] += s.n_outlines"
   ]
  },
  {
   "cell_type": "code",
   "execution_count": null,
   "id": "444d8a2a-f76a-4968-8e62-1debe87d772c",
   "metadata": {},
   "outputs": [],
   "source": [
    "for key, value in sorted(contrib.items()):\n",
    "    print(f'- **{key}**', end=' (')\n",
    "    print(f'Region: ' + ', '.join(np.unique(value['rgi_reg'])), end='. ')\n",
    "    print(f'Subm ID: ' + ', '.join(np.unique(value['subm_id'])), end='. ')\n",
    "    print(f\"N outlines: {value['n_outlines']}. Area: {round(value['area_km2'], 1):.1f} km²)\")"
   ]
  },
  {
   "cell_type": "code",
   "execution_count": null,
   "id": "78c1ba1b-da42-49d6-b2f5-25bbe7eeb720",
   "metadata": {},
   "outputs": [],
   "source": []
  }
 ],
 "metadata": {
  "kernelspec": {
   "display_name": "Python 3 (ipykernel)",
   "language": "python",
   "name": "python3"
  },
  "language_info": {
   "codemirror_mode": {
    "name": "ipython",
    "version": 3
   },
   "file_extension": ".py",
   "mimetype": "text/x-python",
   "name": "python",
   "nbconvert_exporter": "python",
   "pygments_lexer": "ipython3",
   "version": "3.10.8"
  }
 },
 "nbformat": 4,
 "nbformat_minor": 5
}
