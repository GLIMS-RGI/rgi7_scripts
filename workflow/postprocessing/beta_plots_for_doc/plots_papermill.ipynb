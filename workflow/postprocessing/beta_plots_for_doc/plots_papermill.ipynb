{
 "cells": [
  {
   "cell_type": "code",
   "execution_count": null,
   "id": "883fdaa2-a648-4c74-a5d1-a93606d83d53",
   "metadata": {},
   "outputs": [],
   "source": [
    "import papermill as pm"
   ]
  },
  {
   "cell_type": "code",
   "execution_count": null,
   "id": "cc433446-2107-4df3-a4d2-789b65f9e102",
   "metadata": {},
   "outputs": [],
   "source": [
    "for reg in range(1, 21):\n",
    "# for reg in [10, 11, 13]:  \n",
    "    pm.execute_notebook(\n",
    "       'plots_template.ipynb',\n",
    "       f'plots_RGI{reg:02d}.ipynb',\n",
    "       parameters=dict(reg=reg),\n",
    "       log_output=True\n",
    "    );"
   ]
  },
  {
   "cell_type": "code",
   "execution_count": null,
   "id": "2bfea39b-e336-4358-9731-dd65ee5ffc6b",
   "metadata": {},
   "outputs": [],
   "source": [
    "# for reg in range(15, 21):\n",
    "for reg in [12, 13]:  \n",
    "    pm.execute_notebook(\n",
    "       'plots_template.ipynb',\n",
    "       f'plots_RGI{reg:02d}.ipynb',\n",
    "       parameters=dict(reg=reg),\n",
    "       log_output=True\n",
    "    );"
   ]
  },
  {
   "cell_type": "code",
   "execution_count": null,
   "id": "f63572e7-073c-4768-b5e9-8b515cce7d97",
   "metadata": {},
   "outputs": [],
   "source": []
  }
 ],
 "metadata": {
  "kernelspec": {
   "display_name": "Python 3 (ipykernel)",
   "language": "python",
   "name": "python3"
  },
  "language_info": {
   "codemirror_mode": {
    "name": "ipython",
    "version": 3
   },
   "file_extension": ".py",
   "mimetype": "text/x-python",
   "name": "python",
   "nbconvert_exporter": "python",
   "pygments_lexer": "ipython3",
   "version": "3.10.8"
  }
 },
 "nbformat": 4,
 "nbformat_minor": 5
}
