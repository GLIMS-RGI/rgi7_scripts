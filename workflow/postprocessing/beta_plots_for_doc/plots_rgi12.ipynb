{
 "cells": [
  {
   "cell_type": "code",
   "execution_count": null,
   "id": "46adc67a-c914-4b66-a3de-aed2506fb298",
   "metadata": {},
   "outputs": [],
   "source": [
    "import pandas as pd\n",
    "import geopandas as gpd\n",
    "import subprocess\n",
    "import numpy as np\n",
    "import shapely.geometry as shpg\n",
    "import os\n",
    "import sys\n",
    "import json\n",
    "import logging"
   ]
  },
  {
   "cell_type": "code",
   "execution_count": null,
   "id": "c62aa692-c347-4e74-bc0f-c0cdc9da4669",
   "metadata": {},
   "outputs": [],
   "source": [
    "sys.path.append(os.getcwd() + '/../..')\n",
    "from utils import mkdir, open_zip_shapefile, open_tar_shapefile, haversine"
   ]
  },
  {
   "cell_type": "code",
   "execution_count": null,
   "id": "7c601bdf-1db0-429e-bb22-479f14ffe496",
   "metadata": {},
   "outputs": [],
   "source": [
    "log = logging.getLogger('papermill')\n",
    "logging.basicConfig(level='INFO', format=\"%(message)s\")"
   ]
  },
  {
   "cell_type": "markdown",
   "id": "8487f7be-608e-44f1-88ec-671465325a11",
   "metadata": {},
   "source": [
    "## Files and storage paths"
   ]
  },
  {
   "cell_type": "code",
   "execution_count": null,
   "id": "1c753f79-c5b6-49f0-b6ba-bfe40fd7eac3",
   "metadata": {
    "tags": [
     "parameters"
    ]
   },
   "outputs": [],
   "source": [
    "# Region of interest\n",
    "reg = 12\n",
    "\n",
    "# go down from rgi7_scripts/workflow\n",
    "data_dir = '../../../../rgi7_data/'\n",
    "\n",
    "# Input dirctory\n",
    "input_dir_tar = os.path.join(data_dir, 'l4_rgi7b0_tar')\n",
    "input_dir = os.path.join(data_dir, 'l4_rgi7b0')"
   ]
  },
  {
   "cell_type": "markdown",
   "id": "f2d31af4-b2b2-4dc9-b286-be594f2feb7e",
   "metadata": {},
   "source": [
    "### Load the input data"
   ]
  },
  {
   "cell_type": "code",
   "execution_count": null,
   "id": "5dca90f3-2e39-40d0-b55f-fa5a70a7de86",
   "metadata": {},
   "outputs": [],
   "source": [
    "reg_file = os.path.join(data_dir, '00_rgi70_regions', '00_rgi70_O1Regions')\n",
    "reg_file = gpd.read_file(reg_file)\n",
    "fname = reg_file.loc[reg_file['o1region'] == f'{reg:02d}'].iloc[0]['long_code']"
   ]
  },
  {
   "cell_type": "code",
   "execution_count": null,
   "id": "caab54b7-92c0-45fa-a943-25225b119001",
   "metadata": {},
   "outputs": [],
   "source": [
    "# Read beta files\n",
    "shp = open_tar_shapefile(input_dir_tar + f'/RGI2000-v7.0-G-{fname}.tar.gz')\n",
    "odf_subm = pd.read_csv(input_dir + f'/RGI2000-v7.0-G-{fname}/RGI2000-v7.0-G-{fname}_subm_info.csv', index_col=0)"
   ]
  },
  {
   "cell_type": "markdown",
   "id": "91018609-ef83-423b-812a-1f520ad40a21",
   "metadata": {},
   "source": [
    "## Printouts for docs "
   ]
  },
  {
   "cell_type": "code",
   "execution_count": null,
   "id": "31f31dc6-8ff1-4559-b6e4-18a68d00ffc4",
   "metadata": {},
   "outputs": [],
   "source": [
    "for i, line in odf_subm.iterrows():\n",
    "    print(f\"Submission {i}\")\n",
    "    print(f\": **Submitter**: {line['submitters']} ({line['chief_affl']}).\"\n",
    "          f\"<br/>**Number of outlines**: {line['n_outlines']}. **Area**: {line['area_km2']:.1f}km². **Release date**: {line['release_dt'][:10]}.\"\n",
    "          f\"<br/>**Analysts**: {line['analysts']}.\")\n",
    "    print(f\"\")"
   ]
  },
  {
   "cell_type": "code",
   "execution_count": null,
   "id": "4c1ba519-ce68-4a02-8331-120e60e1dd57",
   "metadata": {},
   "outputs": [],
   "source": [
    "odf_subm"
   ]
  },
  {
   "cell_type": "markdown",
   "id": "2412e08d-a7f1-4f5a-bc6c-980c72a7de4a",
   "metadata": {},
   "source": [
    "## Maps "
   ]
  },
  {
   "cell_type": "code",
   "execution_count": null,
   "id": "4d01360a-969a-45f3-9824-b0433e018f1d",
   "metadata": {},
   "outputs": [],
   "source": [
    "import salem\n",
    "import matplotlib.pyplot as plt\n",
    "import matplotlib.patches as mpatches\n",
    "import cartopy.crs as ccrs\n",
    "from matplotlib.image import imread\n",
    "import seaborn as sns"
   ]
  },
  {
   "cell_type": "code",
   "execution_count": null,
   "id": "85537e9c-fac3-4011-9702-61474e36f135",
   "metadata": {},
   "outputs": [],
   "source": [
    "rdf = salem.read_shapefile(os.path.join(data_dir, '00_rgi70_regions', '00_rgi70_O1Regions', '00_rgi70_O1Regions.shp'))\n",
    "srdf = salem.read_shapefile(os.path.join(data_dir, '00_rgi70_regions', '00_rgi70_O2Regions', '00_rgi70_O2Regions.shp'))\n",
    "\n",
    "rdf = rdf.loc[rdf['o1region'] == f'{reg:02d}']\n",
    "srdf = srdf.loc[srdf['o1region'] == f'{reg:02d}']"
   ]
  },
  {
   "cell_type": "code",
   "execution_count": null,
   "id": "173cc7f6-6c54-44ab-82fe-1751da6ab842",
   "metadata": {},
   "outputs": [],
   "source": [
    "extent = [rdf.min_x.iloc[0], rdf.max_x.iloc[0], rdf.min_y.iloc[0], rdf.max_y.iloc[0]]\n",
    "extent"
   ]
  },
  {
   "cell_type": "code",
   "execution_count": null,
   "id": "c4649d56-dc4d-433e-99ce-0e7890c72a0c",
   "metadata": {},
   "outputs": [],
   "source": [
    "extent = [32.0, 54.0, 29.0, 45.2]"
   ]
  },
  {
   "cell_type": "code",
   "execution_count": null,
   "id": "d11c05ff-2217-4b28-8ec3-1cfddc9a2602",
   "metadata": {},
   "outputs": [],
   "source": [
    "map_crs = ccrs.LambertConformal(\n",
    "    central_longitude=(extent[0] + extent[1]) / 2,\n",
    "    central_latitude=(extent[2] + extent[3]) / 2,\n",
    "    standard_parallels=(34, 50),\n",
    ")"
   ]
  },
  {
   "cell_type": "code",
   "execution_count": null,
   "id": "44238ef7-4f74-4d43-ab8b-c6734a38b5e3",
   "metadata": {},
   "outputs": [],
   "source": [
    "shp_repr = shp.to_crs(map_crs)"
   ]
  },
  {
   "cell_type": "code",
   "execution_count": null,
   "id": "f3b78f3a-a749-4ce2-bee1-a60cffe0bba8",
   "metadata": {},
   "outputs": [],
   "source": [
    "linewidth = 1.2\n",
    "title = 'RGI 12 - Caucasus and Middle East' \n",
    "is_rgi6 = False\n",
    "\n",
    "fig = plt.figure(figsize=(10, 8))\n",
    "ax = fig.add_subplot(1, 1, 1, projection=map_crs)\n",
    "ax.set_extent(extent, crs=ccrs.PlateCarree())\n",
    "\n",
    "gl = ax.gridlines(draw_labels=True, x_inline=False, y_inline=False, dms=True, \n",
    "                  xlocs=np.arange(37) * 10 - 180);\n",
    "gl.top_labels = False\n",
    "gl.right_labels = False\n",
    "\n",
    "# fname = '/home/users/fmaussion/www_fmaussion/misc/rgi7_data/l0_support_data/images/natural-earth-1_large4096px.png'\n",
    "fname = '/home/users/fmaussion/www_fmaussion/misc/rgi7_data/l0_support_data/images/natural-earth-1_large8192px_white.png'\n",
    "fname = '/home/users/fmaussion/www_fmaussion/misc/rgi7_data/l0_support_data/images/natural-earth-1_large_white.png'\n",
    "ax.imshow(imread(fname), origin='upper', transform=ccrs.PlateCarree(), \n",
    "          extent=[-180, 180, -90, 90])\n",
    "\n",
    "rdf.to_crs(map_crs).plot(ax=ax, edgecolor='k', facecolor='none', zorder=3, linewidth=1.5)\n",
    "srdf.to_crs(map_crs).plot(ax=ax, edgecolor='k', facecolor='none', zorder=2, linewidth=0.5)\n",
    "\n",
    "handles = []\n",
    "if is_rgi6:\n",
    "    for itis in [True, False]:\n",
    "        ec = '#001fff' if itis else '#ff0000'\n",
    "        fc = '#465dff' if itis else '#ff4646'\n",
    "        label = 'Same as RGI6' if itis else 'New in RGI7'\n",
    "        s_loc = shp_repr.loc[shp_repr['is_rgi6'] == itis]\n",
    "        if len(s_loc) > 0:\n",
    "            s_loc.plot(ax=ax, facecolor=fc, edgecolor=ec, linewidth=linewidth, zorder=97)\n",
    "            area = s_loc['area_km2'].sum()\n",
    "        else:\n",
    "            area = 0\n",
    "        print(f'N={len(s_loc)}, A={area:.1f} km²')\n",
    "        handles.append(mpatches.Patch(facecolor=ec, label=f'{label}'))\n",
    "else:\n",
    "    for i, subid in enumerate(sorted(shp.subm_id.unique().astype(int))):\n",
    "        fc = f'C{i}'\n",
    "        ec = fc\n",
    "        s_loc = shp_repr.loc[shp.subm_id == subid]\n",
    "        s_loc.plot(ax=ax, facecolor=fc, edgecolor=ec, linewidth=linewidth, zorder=1)\n",
    "        area = s_loc['area_km2'].sum()\n",
    "        handles.append(mpatches.Patch(facecolor=fc, label=f'{subid}'))\n",
    "        print(f'N={len(s_loc)}, A={area:.1f} km²')\n",
    "\n",
    "# Alternative solution for \"Polygon handles not passing to legend\"\n",
    "ax.legend(handles=handles, loc='upper left');\n",
    "ax.set_title(title);\n",
    "\n",
    "plot_dir = data_dir + f'/l4_rgi7b0_plots/RGI{reg:02d}'\n",
    "mkdir(plot_dir)\n",
    "plotname = 'isrgi6_map' if is_rgi6 else 'inventory_map'\n",
    "plt.savefig(plot_dir + f'/{plotname}.jpeg', bbox_inches='tight', dpi=300)"
   ]
  },
  {
   "cell_type": "code",
   "execution_count": null,
   "id": "440f1d4f-1cc8-44f6-aa4e-195e6ac04c01",
   "metadata": {},
   "outputs": [],
   "source": [
    "figsize=(10, 5)\n",
    "\n",
    "f, ax = plt.subplots(figsize=figsize)\n",
    "\n",
    "date = shp['src_date'].str[:4].astype(int).to_frame('src_date')\n",
    "date['area'] = shp['area_km2']\n",
    "date = date.groupby('src_date')['area'].sum().to_frame()\n",
    "# if reset_index:\n",
    "#     date = date.reindex(np.arange(date.index.min(), date.index.max()+1, dtype=int), fill_value=0)\n",
    "date['area'] = date['area'] / date['area'].sum()\n",
    "date = date.reset_index()\n",
    "\n",
    "sns.barplot(ax=ax, x='src_date', y='area', data=date, color='grey');\n",
    "ax.set_ylabel('Relative area'); ax.set_xlabel('Source date'); \n",
    "ax.set_title(title);\n",
    "# plt.xticks(rotation=45, ha='center')\n",
    "\n",
    "plot_dir = data_dir + f'/l4_rgi7b0_plots/RGI{reg:02d}'\n",
    "mkdir(plot_dir)\n",
    "plotname = 'date_hist'\n",
    "plt.savefig(plot_dir + f'/{plotname}.png', bbox_inches='tight', dpi=300)"
   ]
  },
  {
   "cell_type": "code",
   "execution_count": null,
   "id": "7c3d9d6d-17c8-494c-9faa-045147955457",
   "metadata": {},
   "outputs": [],
   "source": []
  }
 ],
 "metadata": {
  "kernelspec": {
   "display_name": "Python 3 (ipykernel)",
   "language": "python",
   "name": "python3"
  },
  "language_info": {
   "codemirror_mode": {
    "name": "ipython",
    "version": 3
   },
   "file_extension": ".py",
   "mimetype": "text/x-python",
   "name": "python",
   "nbconvert_exporter": "python",
   "pygments_lexer": "ipython3",
   "version": "3.10.8"
  }
 },
 "nbformat": 4,
 "nbformat_minor": 5
}
