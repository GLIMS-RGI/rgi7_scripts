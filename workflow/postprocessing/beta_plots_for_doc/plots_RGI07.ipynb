{
 "cells": [
  {
   "cell_type": "code",
   "execution_count": null,
   "id": "46adc67a-c914-4b66-a3de-aed2506fb298",
   "metadata": {
    "papermill": {
     "duration": 0.551236,
     "end_time": "2023-05-19T22:48:38.611180",
     "exception": false,
     "start_time": "2023-05-19T22:48:38.059944",
     "status": "completed"
    },
    "tags": []
   },
   "outputs": [],
   "source": [
    "import pandas as pd\n",
    "import geopandas as gpd\n",
    "import subprocess\n",
    "import numpy as np\n",
    "import shapely.geometry as shpg\n",
    "import os\n",
    "import sys\n",
    "import json\n",
    "import logging"
   ]
  },
  {
   "cell_type": "code",
   "execution_count": null,
   "id": "c62aa692-c347-4e74-bc0f-c0cdc9da4669",
   "metadata": {
    "papermill": {
     "duration": 1.865223,
     "end_time": "2023-05-19T22:48:40.481454",
     "exception": false,
     "start_time": "2023-05-19T22:48:38.616231",
     "status": "completed"
    },
    "tags": []
   },
   "outputs": [],
   "source": [
    "sys.path.append(os.getcwd() + '/../..')\n",
    "from utils import mkdir, open_zip_shapefile, open_tar_shapefile, haversine"
   ]
  },
  {
   "cell_type": "markdown",
   "id": "8487f7be-608e-44f1-88ec-671465325a11",
   "metadata": {
    "papermill": {
     "duration": 0.007799,
     "end_time": "2023-05-19T22:48:40.500208",
     "exception": false,
     "start_time": "2023-05-19T22:48:40.492409",
     "status": "completed"
    },
    "tags": []
   },
   "source": [
    "## Files and storage paths"
   ]
  },
  {
   "cell_type": "code",
   "execution_count": null,
   "id": "1c753f79-c5b6-49f0-b6ba-bfe40fd7eac3",
   "metadata": {
    "papermill": {
     "duration": 0.01049,
     "end_time": "2023-05-19T22:48:40.515317",
     "exception": false,
     "start_time": "2023-05-19T22:48:40.504827",
     "status": "completed"
    },
    "tags": [
     "parameters"
    ]
   },
   "outputs": [],
   "source": [
    "# Region of interest\n",
    "reg = 1\n",
    "\n",
    "# go down from rgi7_scripts/workflow\n",
    "data_dir = '../../../../rgi7_data/'\n",
    "\n",
    "# Input dirctory\n",
    "input_dir_tar = os.path.join(data_dir, 'l4_rgi7b0_tar')\n",
    "input_dir = os.path.join(data_dir, 'l4_rgi7b0')"
   ]
  },
  {
   "cell_type": "code",
   "execution_count": null,
   "id": "594e1092",
   "metadata": {
    "papermill": {
     "duration": 0.01122,
     "end_time": "2023-05-19T22:48:40.531238",
     "exception": false,
     "start_time": "2023-05-19T22:48:40.520018",
     "status": "completed"
    },
    "tags": [
     "injected-parameters"
    ]
   },
   "outputs": [],
   "source": [
    "# Parameters\n",
    "reg = 7\n"
   ]
  },
  {
   "cell_type": "markdown",
   "id": "f2d31af4-b2b2-4dc9-b286-be594f2feb7e",
   "metadata": {
    "papermill": {
     "duration": 0.00513,
     "end_time": "2023-05-19T22:48:40.541784",
     "exception": false,
     "start_time": "2023-05-19T22:48:40.536654",
     "status": "completed"
    },
    "tags": []
   },
   "source": [
    "### Load the input data"
   ]
  },
  {
   "cell_type": "code",
   "execution_count": null,
   "id": "fd51164f-4380-4a04-a02a-b1638dc81892",
   "metadata": {
    "papermill": {
     "duration": 0.052641,
     "end_time": "2023-05-19T22:48:40.599695",
     "exception": false,
     "start_time": "2023-05-19T22:48:40.547054",
     "status": "completed"
    },
    "tags": []
   },
   "outputs": [],
   "source": [
    "reg_file = os.path.join(data_dir, '00_rgi70_regions', '00_rgi70_O1Regions')\n",
    "reg_file = gpd.read_file(reg_file)\n",
    "fname = reg_file.loc[reg_file['o1region'] == f'{reg:02d}'].iloc[0]['long_code']"
   ]
  },
  {
   "cell_type": "code",
   "execution_count": null,
   "id": "caab54b7-92c0-45fa-a943-25225b119001",
   "metadata": {
    "papermill": {
     "duration": 0.654119,
     "end_time": "2023-05-19T22:48:41.263881",
     "exception": false,
     "start_time": "2023-05-19T22:48:40.609762",
     "status": "completed"
    },
    "tags": []
   },
   "outputs": [],
   "source": [
    "# Read beta files\n",
    "shp = open_tar_shapefile(input_dir_tar + f'/RGI2000-v7.0-G-{fname}.tar.gz')\n",
    "odf_subm = pd.read_csv(input_dir + f'/RGI2000-v7.0-G-{fname}/RGI2000-v7.0-G-{fname}_subm_info.csv', index_col=0)"
   ]
  },
  {
   "cell_type": "markdown",
   "id": "91018609-ef83-423b-812a-1f520ad40a21",
   "metadata": {
    "papermill": {
     "duration": 0.00783,
     "end_time": "2023-05-19T22:48:41.280881",
     "exception": false,
     "start_time": "2023-05-19T22:48:41.273051",
     "status": "completed"
    },
    "tags": []
   },
   "source": [
    "## Printouts for docs "
   ]
  },
  {
   "cell_type": "code",
   "execution_count": null,
   "id": "31f31dc6-8ff1-4559-b6e4-18a68d00ffc4",
   "metadata": {
    "papermill": {
     "duration": 0.014787,
     "end_time": "2023-05-19T22:48:41.302587",
     "exception": false,
     "start_time": "2023-05-19T22:48:41.287800",
     "status": "completed"
    },
    "tags": []
   },
   "outputs": [],
   "source": [
    "for i, line in odf_subm.iterrows():\n",
    "    print(f\"Submission {i}\")\n",
    "    print(f\": **Submitter**: {line['submitters']}.\"\n",
    "          f\"<br/>**Number of outlines**: {line['n_outlines']}. **Area**: {line['area_km2']:.1f}km². **Release date**: {line['release_dt'][:10]}.\"\n",
    "          f\"<br/>**Analysts**: {line['analysts']}.\")\n",
    "    print(f\"\")"
   ]
  },
  {
   "cell_type": "markdown",
   "id": "bb1142dc-a164-45e5-8d76-727e3c80d79a",
   "metadata": {
    "papermill": {
     "duration": 0.005581,
     "end_time": "2023-05-19T22:48:41.314014",
     "exception": false,
     "start_time": "2023-05-19T22:48:41.308433",
     "status": "completed"
    },
    "tags": []
   },
   "source": [
    "## Maps "
   ]
  },
  {
   "cell_type": "code",
   "execution_count": null,
   "id": "8aa6af9a-1f0d-46e0-9a27-d6a27e4050b2",
   "metadata": {
    "papermill": {
     "duration": 0.790196,
     "end_time": "2023-05-19T22:48:42.109879",
     "exception": false,
     "start_time": "2023-05-19T22:48:41.319683",
     "status": "completed"
    },
    "tags": []
   },
   "outputs": [],
   "source": [
    "import salem\n",
    "import matplotlib.pyplot as plt\n",
    "import matplotlib.patches as mpatches\n",
    "import cartopy.crs as ccrs\n",
    "from matplotlib.image import imread\n",
    "import seaborn as sns"
   ]
  },
  {
   "cell_type": "code",
   "execution_count": null,
   "id": "baddea60-5273-417f-89ef-8f7a0db3f881",
   "metadata": {
    "papermill": {
     "duration": 0.010556,
     "end_time": "2023-05-19T22:48:42.126671",
     "exception": false,
     "start_time": "2023-05-19T22:48:42.116115",
     "status": "completed"
    },
    "tags": []
   },
   "outputs": [],
   "source": [
    "background_medres = '/home/users/fmaussion/www_fmaussion/misc/rgi7_data/l0_support_data/images/natural-earth-1_large8192px_white.png'\n",
    "background_higres = '/home/users/fmaussion/www_fmaussion/misc/rgi7_data/l0_support_data/images/natural-earth-1_large_white.png'"
   ]
  },
  {
   "cell_type": "code",
   "execution_count": null,
   "id": "84fb8070-7203-4f08-8fc3-80cd5f06da9a",
   "metadata": {
    "papermill": {
     "duration": 0.101301,
     "end_time": "2023-05-19T22:48:42.233889",
     "exception": false,
     "start_time": "2023-05-19T22:48:42.132588",
     "status": "completed"
    },
    "tags": []
   },
   "outputs": [],
   "source": [
    "rdf = salem.read_shapefile(os.path.join(data_dir, '00_rgi70_regions', '00_rgi70_O1Regions', '00_rgi70_O1Regions.shp'))\n",
    "srdf = salem.read_shapefile(os.path.join(data_dir, '00_rgi70_regions', '00_rgi70_O2Regions', '00_rgi70_O2Regions.shp'))\n",
    "\n",
    "rdf = rdf.loc[rdf['o1region'] == f'{reg:02d}']\n",
    "srdf = srdf.loc[srdf['o1region'] == f'{reg:02d}']"
   ]
  },
  {
   "cell_type": "code",
   "execution_count": null,
   "id": "142575a1-fe23-4350-b059-3001282676d1",
   "metadata": {
    "papermill": {
     "duration": 0.020999,
     "end_time": "2023-05-19T22:48:42.261946",
     "exception": false,
     "start_time": "2023-05-19T22:48:42.240947",
     "status": "completed"
    },
    "tags": []
   },
   "outputs": [],
   "source": [
    "title = f'RGI{reg:02d} - {rdf.full_name.iloc[0]}'\n",
    "title"
   ]
  },
  {
   "cell_type": "code",
   "execution_count": null,
   "id": "3c6ecfc6-da04-45dc-80a4-f1f5d3690b35",
   "metadata": {
    "papermill": {
     "duration": 0.012934,
     "end_time": "2023-05-19T22:48:42.280922",
     "exception": false,
     "start_time": "2023-05-19T22:48:42.267988",
     "status": "completed"
    },
    "tags": []
   },
   "outputs": [],
   "source": [
    "extent_shape = [rdf.min_x.iloc[0], rdf.max_x.iloc[0], rdf.min_y.iloc[0], rdf.max_y.iloc[0]]\n",
    "extent_shape"
   ]
  },
  {
   "cell_type": "code",
   "execution_count": null,
   "id": "758d6750-a851-44ab-80af-480bf5a923a0",
   "metadata": {
    "papermill": {
     "duration": 0.011622,
     "end_time": "2023-05-19T22:48:42.298895",
     "exception": false,
     "start_time": "2023-05-19T22:48:42.287273",
     "status": "completed"
    },
    "tags": []
   },
   "outputs": [],
   "source": [
    "reg_str = f'{reg:02d}'"
   ]
  },
  {
   "cell_type": "code",
   "execution_count": null,
   "id": "c9985bd9-ed81-44d2-8820-07c1c75337e8",
   "metadata": {
    "papermill": {
     "duration": 0.030651,
     "end_time": "2023-05-19T22:48:42.335666",
     "exception": false,
     "start_time": "2023-05-19T22:48:42.305015",
     "status": "completed"
    },
    "tags": []
   },
   "outputs": [],
   "source": [
    "region_params = {\n",
    "    '01': {\n",
    "        'extent': [-180.0, -132, 46.0, 72.0],\n",
    "        'o1_legend_loc': 'upper left',\n",
    "        'o2_legend_loc': 'lower left',\n",
    "        'linewidth_o1': 1.5,\n",
    "        'linewidth_o2': 1,\n",
    "        'linewidth_outlines': 0.2,\n",
    "        'background': background_medres,\n",
    "        'figsize': (10, 6),\n",
    "    },\n",
    "    '02': {\n",
    "        'extent': [-136, -102.0, 32.0, 75.0],\n",
    "        'o1_legend_loc': 'upper left',\n",
    "        'o2_legend_loc': 'lower left',\n",
    "        'linewidth_o1': 1.5,\n",
    "        'linewidth_o2': 1,\n",
    "        'linewidth_outlines': 0.4,\n",
    "        'background': background_medres,\n",
    "        'figsize': (5, 9),\n",
    "    },\n",
    "    '03': {\n",
    "        'extent': [-123, -76.0, 72.0, 86.0],\n",
    "        'o1_legend_loc': 'upper left',\n",
    "        'o2_legend_loc': 'lower left',\n",
    "        'linewidth_o1': 1.5,\n",
    "        'linewidth_o2': 1,\n",
    "        'linewidth_outlines': 0.2,\n",
    "        'background': background_medres,\n",
    "        'figsize': (10, 8),\n",
    "    },\n",
    "    '04': {\n",
    "        'extent': [-90.0, -58.0, 55.0, 75.0],\n",
    "        'o1_legend_loc': 'upper left',\n",
    "        'o2_legend_loc': 'lower left',\n",
    "        'linewidth_o1': 1.5,\n",
    "        'linewidth_o2': 1,\n",
    "        'linewidth_outlines': 0.5,\n",
    "        'background': background_medres,\n",
    "        'figsize': (10, 8),\n",
    "    },\n",
    "    '05': {\n",
    "        'extent': [-60.0, -16.0, 58.0, 86.0],\n",
    "        'o1_legend_loc': 'upper left',\n",
    "        'o2_legend_loc': 'lower left',\n",
    "        'linewidth_o1': 1.5,\n",
    "        'linewidth_o2': 1,\n",
    "        'linewidth_outlines': 0.4,\n",
    "        'background': background_medres,\n",
    "        'figsize': (10, 8),\n",
    "    },\n",
    "    '06': {\n",
    "        'extent': [-26.5, -9.5, 62, 67.5],\n",
    "        'o1_legend_loc': 'upper left',\n",
    "        'o2_legend_loc': 'lower left',\n",
    "        'linewidth_o1': 1.5,\n",
    "        'linewidth_o2': 1,\n",
    "        'linewidth_outlines': 0.4,\n",
    "        'background': background_higres,\n",
    "        'figsize': (10, 8),\n",
    "    },\n",
    "    '07': {\n",
    "        'extent': [-10.5, 35.5, 69.4, 83.2],\n",
    "        'o1_legend_loc': 'upper left',\n",
    "        'o2_legend_loc': 'lower left',\n",
    "        'linewidth_o1': 1.5,\n",
    "        'linewidth_o2': 1,\n",
    "        'linewidth_outlines': 0.2,\n",
    "        'background': background_higres,\n",
    "        'figsize': (10, 8),\n",
    "    },\n",
    "    '08': {\n",
    "        'extent': [4.0, 35.0, 57.0, 74.5],\n",
    "        'o1_legend_loc': 'upper left',\n",
    "        'o2_legend_loc': 'lower right',\n",
    "        'linewidth_o1': 1.5,\n",
    "        'linewidth_o2': 1,\n",
    "        'linewidth_outlines': 0.4,\n",
    "        'background': background_higres,\n",
    "        'figsize': (10, 8),\n",
    "    },\n",
    "    '09': {\n",
    "        'extent': [34.5, 95.0, 70.0, 84.5],\n",
    "        'o1_legend_loc': 'upper left',\n",
    "        'o2_legend_loc': 'lower right',\n",
    "        'linewidth_o1': 1.5,\n",
    "        'linewidth_o2': 1,\n",
    "        'linewidth_outlines': 0.4,\n",
    "        'background': background_medres,\n",
    "        'figsize': (10, 8),\n",
    "    },\n",
    "    '10': {\n",
    "        'extent': [75, 150, 31, 88],\n",
    "        'o1_legend_loc': 'upper left',\n",
    "        'o2_legend_loc': 'lower left',\n",
    "        'linewidth_o1': 1.5,\n",
    "        'linewidth_o2': 1,\n",
    "        'linewidth_outlines': 0.4,\n",
    "        'background': background_medres,\n",
    "        'figsize': (10, 8),\n",
    "    },\n",
    "    '11': {\n",
    "        'extent': [-6.0, 26.0, 39.0, 50.2],\n",
    "        'o1_legend_loc': 'upper left',\n",
    "        'o2_legend_loc': 'lower left',\n",
    "        'linewidth_o1': 1.5,\n",
    "        'linewidth_o2': 1,\n",
    "        'linewidth_outlines': 0.9,\n",
    "        'background': background_higres,\n",
    "        'figsize': (12, 8),\n",
    "    },\n",
    "    '12': {\n",
    "        'extent': [32.0, 54.0, 29.0, 45.2],\n",
    "        'o1_legend_loc': 'upper left',\n",
    "        'o2_legend_loc': 'lower left',\n",
    "        'linewidth_o1': 1.5,\n",
    "        'linewidth_o2': 1,\n",
    "        'linewidth_outlines': 1.2,\n",
    "        'background': background_higres,\n",
    "        'figsize': (10, 8),\n",
    "    },\n",
    "    '13': {\n",
    "        'extent': [65.0, 105.0, 27., 46.2],\n",
    "        'o1_legend_loc': 'upper left',\n",
    "        'o2_legend_loc': 'lower left',\n",
    "        'linewidth_o1': 1.5,\n",
    "        'linewidth_o2': 1,\n",
    "        'linewidth_outlines': 0.8,\n",
    "        'background': background_higres,\n",
    "        'figsize': (10, 8),\n",
    "    },\n",
    "    '14': {\n",
    "        'extent': [65.0, 82, 25.2, 38],\n",
    "        'o1_legend_loc': 'upper left',\n",
    "        'o2_legend_loc': 'lower right',\n",
    "        'linewidth_o1': 1.5,\n",
    "        'linewidth_o2': 1,\n",
    "        'linewidth_outlines': 0.4,\n",
    "        'background': background_higres,\n",
    "        'figsize': (10, 8),\n",
    "    },\n",
    "    '15': {\n",
    "        'extent': [75.4, 105.0, 25, 32.2],\n",
    "        'o1_legend_loc': 'lower left',\n",
    "        'o2_legend_loc': 'lower right',\n",
    "        'linewidth_o1': 1.5,\n",
    "        'linewidth_o2': 1,\n",
    "        'linewidth_outlines': 0.4,\n",
    "        'background': background_higres,\n",
    "        'figsize': (10, 8),\n",
    "    },\n",
    "    '16': {\n",
    "        'extent': [-101.0, 143.0, -26.0, 21.0],\n",
    "        'o1_legend_loc': (0.2, 0.05),\n",
    "        'o2_legend_loc': (0.6, 0.05),\n",
    "        'linewidth_o1': 1.5,\n",
    "        'linewidth_o2': 1,\n",
    "        'linewidth_outlines': 1.0,\n",
    "        'background': background_medres,\n",
    "        'figsize': (12, 8),\n",
    "    },\n",
    "    '17': {\n",
    "        'extent': [-83.0, -61.0, -58.0, -24.0],\n",
    "        'o1_legend_loc': 'upper left',\n",
    "        'o2_legend_loc': 'lower left',\n",
    "        'linewidth_o1': 1.5,\n",
    "        'linewidth_o2': 1,\n",
    "        'linewidth_outlines': 0.4,\n",
    "        'background': background_medres,\n",
    "        'figsize': (10, 8),\n",
    "    },\n",
    "    '18': {\n",
    "        'extent': [164.0, 179.0, -49.5, -33.5],\n",
    "        'o1_legend_loc': 'upper left',\n",
    "        'o2_legend_loc': 'lower left',\n",
    "        'linewidth_o1': 1.5,\n",
    "        'linewidth_o2': 1,\n",
    "        'linewidth_outlines': 0.8,\n",
    "        'background': background_higres,\n",
    "        'figsize': (10, 8),\n",
    "    },\n",
    "    '19': {\n",
    "        'extent': [-180, 180, -90, -47],\n",
    "        'o1_legend_loc': 'upper left',\n",
    "        'o2_legend_loc': 'lower left',\n",
    "        'o1_legend_loc_subm': 'upper right',\n",
    "        'linewidth_o1': 1.5,\n",
    "        'linewidth_o2': 1,\n",
    "        'linewidth_outlines': 0.9,\n",
    "        'background': background_medres,\n",
    "        'figsize': (10, 8),\n",
    "    },\n",
    "}\n",
    "\n",
    "region_params = region_params[reg_str]"
   ]
  },
  {
   "cell_type": "code",
   "execution_count": null,
   "id": "ca23d675-4a72-4d86-a547-81893f61a5f4",
   "metadata": {
    "papermill": {
     "duration": 0.0123,
     "end_time": "2023-05-19T22:48:42.355699",
     "exception": false,
     "start_time": "2023-05-19T22:48:42.343399",
     "status": "completed"
    },
    "tags": []
   },
   "outputs": [],
   "source": [
    "extent = region_params['extent']"
   ]
  },
  {
   "cell_type": "code",
   "execution_count": null,
   "id": "7b8e01a1-2cd7-4f34-b7f2-93d5b2acf909",
   "metadata": {
    "papermill": {
     "duration": 0.11901,
     "end_time": "2023-05-19T22:48:42.481135",
     "exception": false,
     "start_time": "2023-05-19T22:48:42.362125",
     "status": "completed"
    },
    "tags": []
   },
   "outputs": [],
   "source": [
    "region_proj = {\n",
    "    '01': ccrs.LambertConformal(central_longitude=(extent[0] + extent[1]) / 2, \n",
    "                                central_latitude=(extent[2] + extent[3]) / 2, \n",
    "                                standard_parallels=(50, 65)),\n",
    "    '02': ccrs.LambertConformal(central_longitude=(extent[0] + extent[1]) / 2, \n",
    "                                central_latitude=(extent[2] + extent[3]) / 2, \n",
    "                                standard_parallels=(40, 60)),\n",
    "    '03': ccrs.LambertConformal(central_longitude=(extent[0] + extent[1]) / 2, \n",
    "                                central_latitude=(extent[2] + extent[3]) / 2, \n",
    "                                standard_parallels=(76, 82)),\n",
    "    '04': ccrs.LambertConformal(central_longitude=(extent[0] + extent[1]) / 2, \n",
    "                                central_latitude=(extent[2] + extent[3]) / 2, \n",
    "                                standard_parallels=(62, 70)),\n",
    "    '05': ccrs.LambertConformal(central_longitude=(extent[0] + extent[1]) / 2, \n",
    "                                central_latitude=(extent[2] + extent[3]) / 2, \n",
    "                                standard_parallels=(62, 70)),\n",
    "    '06': ccrs.LambertConformal(central_longitude=(extent[0] + extent[1]) / 2, \n",
    "                                central_latitude=(extent[2] + extent[3]) / 2, \n",
    "                                standard_parallels=(64, 66)),\n",
    "    '07': ccrs.LambertConformal(central_longitude=(extent[0] + extent[1]) / 2, \n",
    "                                central_latitude=(extent[2] + extent[3]) / 2, \n",
    "                                standard_parallels=(72, 80)),\n",
    "    '08': ccrs.LambertConformal(central_longitude=(extent[0] + extent[1]) / 2, \n",
    "                                central_latitude=(extent[2] + extent[3]) / 2, \n",
    "                                standard_parallels=(40, 60)),\n",
    "    '09': ccrs.LambertConformal(central_longitude=(extent[0] + extent[1]) / 2, \n",
    "                                central_latitude=(extent[2] + extent[3]) / 2, \n",
    "                                standard_parallels=(75, 80)),\n",
    "    '10': ccrs.LambertConformal(central_longitude=(extent[0] + extent[1]) / 2, \n",
    "                                central_latitude=(extent[2] + extent[3]) / 2, \n",
    "                                standard_parallels=(60, 80)),\n",
    "    '11': ccrs.LambertConformal(central_longitude=(extent[0] + extent[1]) / 2,\n",
    "                                central_latitude=(extent[2] + extent[3]) / 2,\n",
    "                                standard_parallels=(42, 48)),\n",
    "    '12': ccrs.LambertConformal(central_longitude=(extent[0] + extent[1]) / 2,\n",
    "                                central_latitude=(extent[2] + extent[3]) / 2,\n",
    "                                standard_parallels=(34, 50)),\n",
    "    '13': ccrs.LambertConformal(central_longitude=(extent[0] + extent[1]) / 2,\n",
    "                                central_latitude=(extent[2] + extent[3]) / 2,\n",
    "                                standard_parallels=(34, 41)),\n",
    "    '14': ccrs.LambertConformal(central_longitude=(extent[0] + extent[1]) / 2,\n",
    "                                central_latitude=(extent[2] + extent[3]) / 2,\n",
    "                                standard_parallels=(30, 36)),\n",
    "    '15': ccrs.LambertConformal(central_longitude=(extent[0] + extent[1]) / 2,\n",
    "                                central_latitude=(extent[2] + extent[3]) / 2,\n",
    "                                standard_parallels=(27, 30)),\n",
    "    '16': ccrs.Mercator(central_longitude=(extent[0] + extent[1]) / 2),\n",
    "    '17': ccrs.Mercator(central_longitude=(extent[0] + extent[1]) / 2),\n",
    "    '18': ccrs.LambertConformal(central_longitude=(extent[0] + extent[1]) / 2,\n",
    "                                central_latitude=(extent[2] + extent[3]) / 2,\n",
    "                                standard_parallels=(-38, -44)),\n",
    "    '19': ccrs.SouthPolarStereo(),\n",
    "}"
   ]
  },
  {
   "cell_type": "code",
   "execution_count": null,
   "id": "c6d4ad8a-20c0-44de-b521-154a1a2aef55",
   "metadata": {
    "papermill": {
     "duration": 0.010555,
     "end_time": "2023-05-19T22:48:42.497388",
     "exception": false,
     "start_time": "2023-05-19T22:48:42.486833",
     "status": "completed"
    },
    "tags": []
   },
   "outputs": [],
   "source": [
    "map_crs = region_proj[reg_str]"
   ]
  },
  {
   "cell_type": "code",
   "execution_count": null,
   "id": "667a1a46-606e-429a-86e7-36ffc976eaa0",
   "metadata": {
    "papermill": {
     "duration": 0.150341,
     "end_time": "2023-05-19T22:48:42.654096",
     "exception": false,
     "start_time": "2023-05-19T22:48:42.503755",
     "status": "completed"
    },
    "tags": []
   },
   "outputs": [],
   "source": [
    "shp_repr = shp.to_crs(map_crs)"
   ]
  },
  {
   "cell_type": "code",
   "execution_count": null,
   "id": "7c3d9d6d-17c8-494c-9faa-045147955457",
   "metadata": {
    "papermill": {
     "duration": 130.631865,
     "end_time": "2023-05-19T22:50:53.292672",
     "exception": false,
     "start_time": "2023-05-19T22:48:42.660807",
     "status": "completed"
    },
    "tags": []
   },
   "outputs": [],
   "source": [
    "o2_cmap = sns.color_palette('husl', n_colors=len(srdf))\n",
    "subm_cmap = sns.color_palette('bright')\n",
    "color_order = [4, 5, 6, 8, 9, 2, 1, 0, 3, 7]\n",
    "\n",
    "for is_rgi6 in [True, False]:\n",
    "    \n",
    "    print(f'Plot {is_rgi6}')\n",
    "    \n",
    "    # Prepare figure\n",
    "    fig = plt.figure(figsize=region_params['figsize'])\n",
    "    ax = fig.add_subplot(1, 1, 1, projection=map_crs)\n",
    "    ax.set_extent(extent, crs=ccrs.PlateCarree())\n",
    "    \n",
    "    if reg_str == '19':\n",
    "        import matplotlib.path as mpath\n",
    "        theta = np.linspace(0, 2*np.pi, 100)\n",
    "        map_circle = mpath.Path(np.vstack([np.sin(theta), np.cos(theta)]).T * 0.5 + [0.5, 0.5])\n",
    "        ax.set_boundary(map_circle, transform=ax.transAxes)\n",
    "        gl = ax.gridlines(draw_labels=True, x_inline=False, y_inline=False, dms=True,  \n",
    "                          xlocs=np.arange(9) * 45 - 180);\n",
    "    else:\n",
    "        gl = ax.gridlines(draw_labels=True, x_inline=False, y_inline=False, dms=True, \n",
    "                          xlocs=np.arange(37) * 10 - 180);\n",
    "        gl.top_labels = False\n",
    "        gl.right_labels = False\n",
    "    \n",
    "    # Add background\n",
    "    ax.imshow(imread(region_params['background']), \n",
    "              origin='upper', \n",
    "              transform=ccrs.PlateCarree(), \n",
    "              extent=[-180, 180, -90, 90])\n",
    "    \n",
    "    # Plot o1 regions\n",
    "    if reg_str != '19':\n",
    "        rdf.to_crs(map_crs).plot(ax=ax, edgecolor='k', facecolor='none', zorder=4, \n",
    "                                 linewidth=region_params['linewidth_o1'])\n",
    "    \n",
    "    # Plot o2 regions including legend \n",
    "    sr_handles = []\n",
    "    for ind, row in srdf.reset_index().to_crs(map_crs).iterrows():\n",
    "        ec = o2_cmap[ind]\n",
    "        s_loc = srdf.to_crs(map_crs).loc[srdf['o2region'] == row['o2region']]\n",
    "        s_loc.plot(ax=ax, facecolor='none', edgecolor=ec, zorder=5, linewidth=region_params['linewidth_o2'], ls='--')\n",
    "        sr_handles.append(mpatches.Patch(facecolor='none', edgecolor=ec,\n",
    "                                         linestyle='--', \n",
    "                                         linewidth=region_params['linewidth_o2'], \n",
    "                                         label=f'{row.o2region}'))\n",
    "\n",
    "    sr_leg = ax.legend(handles=sr_handles, loc=region_params['o2_legend_loc'], title='O2 Regions')\n",
    "    art = ax.add_artist(sr_leg)\n",
    "    art.zorder = 99\n",
    "    \n",
    "    handles = []\n",
    "    if is_rgi6:\n",
    "        for itis in [True, False]:\n",
    "            ec = '#001fff' if itis else '#ff0000'\n",
    "            fc = '#465dff' if itis else '#ff4646'\n",
    "            label = 'Same as RGI6' if itis else 'New in RGI7'\n",
    "            s_loc = shp_repr.loc[shp_repr['is_rgi6'] == itis]\n",
    "            if len(s_loc) > 0:\n",
    "                s_loc.plot(ax=ax, facecolor=fc, edgecolor=ec, \n",
    "                           linewidth=region_params['linewidth_outlines'], zorder=97)\n",
    "                area = s_loc['area_km2'].sum()\n",
    "            else:\n",
    "                area = 0\n",
    "            handles.append(mpatches.Patch(facecolor=ec, label=f'{label}'))\n",
    "    else:\n",
    "        for i, subid in enumerate(sorted(shp.subm_id.unique().astype(int))):\n",
    "            fc = subm_cmap[color_order[i]]\n",
    "            ec = fc # subm_cmap_ec[i]\n",
    "            s_loc = shp_repr.loc[shp.subm_id == subid]\n",
    "            s_loc.plot(ax=ax, facecolor=fc, edgecolor=ec, linewidth=region_params['linewidth_outlines'], zorder=97)\n",
    "            area = s_loc['area_km2'].sum()\n",
    "            handles.append(mpatches.Patch(facecolor=fc, label=f'{subid}'))\n",
    "\n",
    "    # Alternative solution for \"Polygon handles not passing to legend\"\n",
    "    try: \n",
    "        loc = region_params['o1_legend_loc_subm']\n",
    "    except KeyError:\n",
    "        loc = region_params['o1_legend_loc']\n",
    "    ax.legend(handles=handles, loc=loc);\n",
    "    ax.set_title(title);\n",
    "\n",
    "    plot_dir = data_dir + f'/l4_rgi7b0_plots/RGI{reg:02d}'\n",
    "    mkdir(plot_dir)\n",
    "    plotname = 'isrgi6_map' if is_rgi6 else 'inventory_map'\n",
    "    plt.savefig(plot_dir + f'/{plotname}.jpeg', bbox_inches='tight', dpi=300)\n",
    "    # plt.savefig(f'RGI{reg_str}_{plotname}.jpeg', bbox_inches='tight', dpi=300)"
   ]
  },
  {
   "cell_type": "markdown",
   "id": "fe78921b-4366-4600-92bc-3209b54c4bde",
   "metadata": {
    "papermill": {
     "duration": 0.016236,
     "end_time": "2023-05-19T22:50:53.336706",
     "exception": false,
     "start_time": "2023-05-19T22:50:53.320470",
     "status": "completed"
    },
    "tags": []
   },
   "source": [
    "### Histogram "
   ]
  },
  {
   "cell_type": "code",
   "execution_count": null,
   "id": "1abc6e35-d69c-4299-80c8-d97918fd7177",
   "metadata": {
    "papermill": {
     "duration": 0.668771,
     "end_time": "2023-05-19T22:50:54.022291",
     "exception": false,
     "start_time": "2023-05-19T22:50:53.353520",
     "status": "completed"
    },
    "tags": []
   },
   "outputs": [],
   "source": [
    "figsize=(8, 7)\n",
    "\n",
    "f, (ax1, ax2) = plt.subplots(2, 1, figsize=figsize)\n",
    "\n",
    "date_i = shp['src_date'].str[:4].astype(int).to_frame('src_date')\n",
    "date_i['area'] = shp['area_km2']\n",
    "date = date_i.groupby('src_date')['area'].sum().to_frame()\n",
    "date['area'] = date['area'] / date['area'].sum()\n",
    "date['count'] =  date_i.groupby('src_date')['area'].count()\n",
    "date = date.reset_index()\n",
    "\n",
    "sns.barplot(ax=ax1, x='src_date', y='area', data=date, color='lightsteelblue');\n",
    "ax1.set_ylabel('Relative area'); ax1.set_xlabel(''); \n",
    "ax1.set_title(title);\n",
    "for tick in ax1.get_xticklabels():\n",
    "    tick.set_rotation(45)\n",
    "\n",
    "sns.barplot(ax=ax2, x='src_date', y='count', data=date, color='thistle');\n",
    "ax2.set_ylabel('Number of outlines'); ax2.set_xlabel('Source date'); \n",
    "plt.xticks(rotation=45, ha='center')\n",
    "\n",
    "plot_dir = data_dir + f'/l4_rgi7b0_plots/RGI{reg:02d}'\n",
    "mkdir(plot_dir)\n",
    "plotname = 'date_hist'\n",
    "plt.tight_layout()\n",
    "plt.savefig(plot_dir + f'/{plotname}.png', bbox_inches='tight', dpi=300)"
   ]
  },
  {
   "cell_type": "code",
   "execution_count": null,
   "id": "5606d182-ffdc-42d9-8e46-a0719fe1143d",
   "metadata": {
    "papermill": {
     "duration": 0.017259,
     "end_time": "2023-05-19T22:50:54.068591",
     "exception": false,
     "start_time": "2023-05-19T22:50:54.051332",
     "status": "completed"
    },
    "tags": []
   },
   "outputs": [],
   "source": []
  }
 ],
 "metadata": {
  "kernelspec": {
   "display_name": "Python 3 (ipykernel)",
   "language": "python",
   "name": "python3"
  },
  "language_info": {
   "codemirror_mode": {
    "name": "ipython",
    "version": 3
   },
   "file_extension": ".py",
   "mimetype": "text/x-python",
   "name": "python",
   "nbconvert_exporter": "python",
   "pygments_lexer": "ipython3",
   "version": "3.10.8"
  },
  "papermill": {
   "default_parameters": {},
   "duration": 137.787052,
   "end_time": "2023-05-19T22:50:54.806987",
   "environment_variables": {},
   "exception": null,
   "input_path": "plots_template.ipynb",
   "output_path": "plots_RGI07.ipynb",
   "parameters": {
    "reg": 7
   },
   "start_time": "2023-05-19T22:48:37.019935",
   "version": "2.3.4"
  }
 },
 "nbformat": 4,
 "nbformat_minor": 5
}
