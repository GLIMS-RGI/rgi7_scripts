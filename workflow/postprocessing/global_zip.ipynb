{
 "cells": [
  {
   "cell_type": "code",
   "execution_count": null,
   "id": "68d90dd5-0c69-4d93-af1b-511ffd8e6486",
   "metadata": {},
   "outputs": [],
   "source": [
    "import shutil, os"
   ]
  },
  {
   "cell_type": "code",
   "execution_count": null,
   "id": "2318c9e3-e9e3-4d49-9980-88cc95537a54",
   "metadata": {},
   "outputs": [],
   "source": [
    "# go down from rgi7_scripts/workflow\n",
    "data_dir = '../../../rgi7_data/'\n",
    "data_dir = os.path.join(data_dir, 'l7_rgi7bf_zip')"
   ]
  },
  {
   "cell_type": "code",
   "execution_count": null,
   "id": "c2a8dfe4-952a-4266-9da1-6ecf5ef0c178",
   "metadata": {},
   "outputs": [],
   "source": [
    "input_dir = os.path.join(data_dir, 'RGI2000-v7.0-C-global')\n",
    "shutil.copyfile('README_tpl.md', input_dir + f'/README.md')\n",
    "shutil.make_archive(input_dir, 'zip', input_dir)\n",
    "\n",
    "input_dir = os.path.join(data_dir, 'RGI2000-v7.0-L-global')\n",
    "shutil.copyfile('README_tpl.md', input_dir + f'/README.md')\n",
    "shutil.make_archive(input_dir, 'zip', input_dir)\n",
    "\n",
    "input_dir = os.path.join(data_dir, 'RGI2000-v7.0-G-global')\n",
    "shutil.copyfile('README_tpl.md', input_dir + f'/README.md')\n",
    "shutil.make_archive(input_dir, 'zip', input_dir)\n",
    "\n",
    "input_dir = os.path.join(data_dir, 'RGI2000-v7.0-I-global')\n",
    "shutil.copyfile('README_tpl.md', input_dir + f'/README.md')\n",
    "shutil.make_archive(input_dir, 'zip', input_dir)"
   ]
  },
  {
   "cell_type": "code",
   "execution_count": null,
   "id": "1d33bd7d-d782-4af0-80da-7cfb8bc2c348",
   "metadata": {},
   "outputs": [],
   "source": []
  }
 ],
 "metadata": {
  "kernelspec": {
   "display_name": "Python 3 (ipykernel)",
   "language": "python",
   "name": "python3"
  },
  "language_info": {
   "codemirror_mode": {
    "name": "ipython",
    "version": 3
   },
   "file_extension": ".py",
   "mimetype": "text/x-python",
   "name": "python",
   "nbconvert_exporter": "python",
   "pygments_lexer": "ipython3",
   "version": "3.10.8"
  }
 },
 "nbformat": 4,
 "nbformat_minor": 5
}
