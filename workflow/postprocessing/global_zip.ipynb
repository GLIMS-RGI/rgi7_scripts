{
 "cells": [
  {
   "cell_type": "code",
   "execution_count": null,
   "id": "68d90dd5-0c69-4d93-af1b-511ffd8e6486",
   "metadata": {},
   "outputs": [],
   "source": [
    "import shutil, os"
   ]
  },
  {
   "cell_type": "code",
   "execution_count": null,
   "id": "c2a8dfe4-952a-4266-9da1-6ecf5ef0c178",
   "metadata": {},
   "outputs": [],
   "source": [
    "# go down from rgi7_scripts/workflow\n",
    "data_dir = '../../rgi7_data/'"
   ]
  },
  {
   "cell_type": "code",
   "execution_count": null,
   "id": "b8d3ae6a-ff99-4b06-bf21-ceaae6e557a0",
   "metadata": {},
   "outputs": [],
   "source": [
    "# Output directories\n",
    "output_dir_tar = os.path.join(data_dir, 'l3_rgi7a_tar')\n",
    "output_zip = os.path.join(data_dir, 'l3_rgi7a_tar')"
   ]
  },
  {
   "cell_type": "code",
   "execution_count": null,
   "id": "a5f2b290-0369-4625-9185-dd32d70ce8e1",
   "metadata": {},
   "outputs": [],
   "source": [
    "shutil.make_archive(output_zip, 'tar', output_dir_tar)"
   ]
  },
  {
   "cell_type": "code",
   "execution_count": null,
   "id": "1d33bd7d-d782-4af0-80da-7cfb8bc2c348",
   "metadata": {},
   "outputs": [],
   "source": []
  }
 ],
 "metadata": {
  "kernelspec": {
   "display_name": "Python 3 (ipykernel)",
   "language": "python",
   "name": "python3"
  },
  "language_info": {
   "codemirror_mode": {
    "name": "ipython",
    "version": 3
   },
   "file_extension": ".py",
   "mimetype": "text/x-python",
   "name": "python",
   "nbconvert_exporter": "python",
   "pygments_lexer": "ipython3",
   "version": "3.9.13"
  }
 },
 "nbformat": 4,
 "nbformat_minor": 5
}
