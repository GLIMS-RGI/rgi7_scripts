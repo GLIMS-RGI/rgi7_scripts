{
 "cells": [
  {
   "cell_type": "markdown",
   "id": "valid-miracle",
   "metadata": {},
   "source": [
    "# Overview map"
   ]
  },
  {
   "cell_type": "code",
   "execution_count": null,
   "id": "durable-article",
   "metadata": {},
   "outputs": [],
   "source": [
    "import pandas as pd\n",
    "import geopandas as gpd\n",
    "import subprocess\n",
    "import matplotlib.pyplot as plt\n",
    "import matplotlib.patches as mpatches\n",
    "import seaborn as sns\n",
    "import numpy as np\n",
    "import sys, os\n",
    "sys.path.append(os.getcwd() + '/..')\n",
    "from utils import mkdir, submission_summary, needs_size_filter, size_filter, plot_map, plot_date_hist, maps\n",
    "import os\n",
    "import matplotlib.patches as mpatches\n",
    "from oggm import utils\n",
    "\n",
    "import seaborn as sns\n",
    "import cartopy\n",
    "import cartopy.crs as ccrs\n",
    "sns.set_context('poster')\n",
    "sns.set_style('whitegrid')"
   ]
  },
  {
   "cell_type": "code",
   "execution_count": null,
   "id": "composed-detail",
   "metadata": {},
   "outputs": [],
   "source": [
    "# go down from rgi7_scripts/workflow\n",
    "data_dir = '../../../rgi7_data/'\n",
    "\n",
    "# Level 2 GLIMS files\n",
    "l3_dir = os.path.join(data_dir, 'l3_rgi7a')"
   ]
  },
  {
   "cell_type": "code",
   "execution_count": null,
   "id": "c718cbe2-8a34-46e0-b280-970819915e4e",
   "metadata": {},
   "outputs": [],
   "source": [
    "rgi = []\n",
    "for reg in range(1, 20):\n",
    "    shp = gpd.read_file(utils.get_rgi_region_file(f'{reg:02d}', version='60'))\n",
    "    shp['area'] = shp.to_crs({'proj':'cea'}).area\n",
    "    shp['geometry'] = shp.representative_point()\n",
    "    shp['O1Region'] = f'{reg:02d}'\n",
    "    rgi.append(shp)\n",
    "rgi6 = pd.concat(rgi)\n",
    "rgi6['area'] = rgi6['area'] * 1e-6"
   ]
  },
  {
   "cell_type": "code",
   "execution_count": null,
   "id": "74050608-cdcc-4e35-956b-bca71763a246",
   "metadata": {},
   "outputs": [],
   "source": [
    "rgi = []\n",
    "for reg in range(1, 20):\n",
    "    shp = gpd.read_file(os.path.join(l3_dir, f'RGI{reg:02d}', f'RGI{reg:02d}.shp'))\n",
    "    shp['geometry'] = shp.representative_point()\n",
    "    shp['O1Region'] = f'{reg:02d}'\n",
    "    rgi.append(shp)\n",
    "rgi7 = pd.concat(rgi)\n",
    "rgi7['area'] = rgi7['area'] * 1e-6"
   ]
  },
  {
   "cell_type": "code",
   "execution_count": null,
   "id": "d4e9a207-218e-4b27-986b-1d5aca554650",
   "metadata": {},
   "outputs": [],
   "source": [
    "rgi6 = rgi6.loc[rgi6['Connect'] != 2]"
   ]
  },
  {
   "cell_type": "code",
   "execution_count": null,
   "id": "a63b50ce-38b4-4bb0-8fd1-29cbe05a87cc",
   "metadata": {},
   "outputs": [],
   "source": [
    "rgi6['Area'].sum(), rgi6['area'].sum(), rgi7['area'].sum()"
   ]
  },
  {
   "cell_type": "code",
   "execution_count": null,
   "id": "1bc8578f-edce-4b7f-881a-9100eb14342f",
   "metadata": {},
   "outputs": [],
   "source": [
    "df = rgi6.groupby('O1Region').sum()[['area']]\n",
    "df.columns = ['Area RGI6']"
   ]
  },
  {
   "cell_type": "code",
   "execution_count": null,
   "id": "9801403d-ebce-488a-86da-26d1bb06d794",
   "metadata": {},
   "outputs": [],
   "source": [
    "df['Area RGI7'] = rgi7.groupby('O1Region').sum()[['area']] "
   ]
  },
  {
   "cell_type": "code",
   "execution_count": null,
   "id": "fc8ae35e-8ea1-44db-88d5-31c9857fb036",
   "metadata": {},
   "outputs": [],
   "source": [
    "df['Diff A (%)'] = (df['Area RGI7'] / df['Area RGI6'] - 1) * 100"
   ]
  },
  {
   "cell_type": "code",
   "execution_count": null,
   "id": "5f59cec8-4735-4991-ab24-e695bead66ba",
   "metadata": {},
   "outputs": [],
   "source": [
    "df['N RGI6'] = rgi6.groupby('O1Region').count()['area']\n",
    "df['N RGI7'] = rgi7.groupby('O1Region').count()['area']\n",
    "\n",
    "df['Diff N (%)'] = (df['N RGI7'] / df['N RGI6'] - 1) * 100"
   ]
  },
  {
   "cell_type": "code",
   "execution_count": null,
   "id": "ff4f6f97-0794-49ef-b607-e593cae1c780",
   "metadata": {},
   "outputs": [],
   "source": [
    "ss = df.sum()\n",
    "ss.name = 'Global'\n",
    "df = df.append(ss)\n",
    "\n",
    "df['Diff A (%)'] = (df['Area RGI7'] / df['Area RGI6'] - 1) * 100\n",
    "df['Diff N (%)'] = (df['N RGI7'] / df['N RGI6'] - 1) * 100"
   ]
  },
  {
   "cell_type": "code",
   "execution_count": null,
   "id": "42ca7ce2-37d5-434a-b925-d93da35601ae",
   "metadata": {},
   "outputs": [],
   "source": [
    "df['Area RGI6'] = df['Area RGI6'].astype(int) \n",
    "df['Area RGI7'] = df['Area RGI7'].astype(int) \n",
    "df['N RGI6'] = df['N RGI6'].astype(int) \n",
    "df['N RGI7'] = df['N RGI7'].astype(int) \n",
    "\n",
    "df['Diff A (%)'] = df['Diff A (%)'].round(1).replace(-0, 0)\n",
    "df['Diff N (%)'] = df['Diff N (%)'].round(1).replace(-0, 0)"
   ]
  },
  {
   "cell_type": "code",
   "execution_count": null,
   "id": "2c5b1a85-b9da-4739-9690-8ca4f0b78b54",
   "metadata": {},
   "outputs": [],
   "source": [
    "df"
   ]
  },
  {
   "cell_type": "code",
   "execution_count": null,
   "id": "23cef3d0-c755-4d8a-9ae5-aa987ba370c6",
   "metadata": {},
   "outputs": [],
   "source": [
    "print(df.to_markdown())"
   ]
  },
  {
   "cell_type": "code",
   "execution_count": null,
   "id": "7575ac61-63c0-4657-9fc8-5db97b03aff0",
   "metadata": {},
   "outputs": [],
   "source": [
    "len(rgi)"
   ]
  },
  {
   "cell_type": "code",
   "execution_count": null,
   "id": "1c88c98c-6ab0-4280-af09-f248283880d3",
   "metadata": {},
   "outputs": [],
   "source": [
    "import salem\n",
    "df = salem.read_shapefile(os.path.join(data_dir, '00_rgi70_regions', '00_rgi70_O1Regions', '00_rgi70_O1Regions.shp'))"
   ]
  },
  {
   "cell_type": "code",
   "execution_count": null,
   "id": "049ba65b-5b33-4383-acef-0468b0f30804",
   "metadata": {},
   "outputs": [],
   "source": [
    "f = plt.figure(figsize=(12, 7))\n",
    "ax = plt.axes(projection=ccrs.EqualEarth())\n",
    "ax.stock_img()\n",
    "# ax.add_feature(cartopy.feature.COASTLINE);\n",
    "# ax.coastlines('50m')\n",
    "\n",
    "handles = []\n",
    "\n",
    "df.plot(ax=ax, transform=ccrs.PlateCarree(), edgecolor='k', facecolor='w', alpha=0.3);\n",
    "\n",
    "s = rgi7.loc[rgi7.is_rgi6 == 1]\n",
    "ax.scatter(s.CenLon.values, s.CenLat.values, color='C0', s=1, transform=ccrs.PlateCarree());\n",
    "handles.append(mpatches.Patch(facecolor='C0', label=f\"Same as RGI6\"))  #  - N={len(s)}, A={int(s['area'].sum()*1e-6)} km²\n",
    "\n",
    "\n",
    "s = rgi7.loc[rgi7.is_rgi6 == 0]\n",
    "ax.scatter(s.CenLon.values, s.CenLat.values, color='C3', s=1, transform=ccrs.PlateCarree());\n",
    "handles.append(mpatches.Patch(facecolor='C3', label=f\"New in RGI7\"))\n",
    "\n",
    "df.plot(ax=ax, transform=ccrs.PlateCarree(), edgecolor='k', facecolor='none', linewidth=2);\n",
    "\n",
    "did1 = False\n",
    "did10 = False\n",
    "for i, r in df.iterrows():\n",
    "    tx = r.min_x + 4\n",
    "    ty = r.min_y \n",
    "    fs = 12\n",
    "    t = int(r.o1region)\n",
    "    \n",
    "    if t == 1:\n",
    "        tx = r.min_x + 35\n",
    "        if did1:\n",
    "            continue\n",
    "        did1 = True\n",
    "    if t == 3:\n",
    "        tx = r.min_x + 20\n",
    "        ty = r.min_y - 1\n",
    "    if t == 5:\n",
    "        tx = r.min_x + 21\n",
    "    if t == 6:\n",
    "        ty = r.min_y - 7.\n",
    "    if t == 8:\n",
    "        tx = r.min_x + 24\n",
    "    if t == 9:\n",
    "        tx = r.min_x \n",
    "    if t == 11:\n",
    "        tx = r.min_x - 8.5\n",
    "    if t == 10:\n",
    "        tx = r.min_x + 1\n",
    "        ty = r.min_y + 16\n",
    "        if not did10:\n",
    "            did10 = True\n",
    "            continue\n",
    "    if t == 13:\n",
    "        ty = r.min_y + 12\n",
    "        tx = r.min_x + 30\n",
    "    if t in [14, 12, 16, 17]:\n",
    "        tx = r.min_x \n",
    "    if t == 15:\n",
    "        tx = r.min_x + 30\n",
    "    if t == 17:\n",
    "        ty = r.min_y + 25\n",
    "    if t == 18:\n",
    "        ty = r.min_y + 10\n",
    "    if t == 19:\n",
    "        ty = r.min_y + 10\n",
    "        \n",
    "    ax.text(tx, ty, t, transform=ccrs.PlateCarree(), \n",
    "            ha='left', va='bottom', fontsize=fs)\n",
    "\n",
    "\n",
    "ax.legend(handles=handles, loc='center left', fontsize=fs);\n",
    "    \n",
    "plt.tight_layout();\n",
    "\n",
    "plt.savefig('../../../rgi7_data/l3_rgi7a_plots/global_map.png', dpi=150, bbox_inches='tight')\n",
    "\n",
    "# ax.scatter(dfr.lon.values, dfr.lat.values, edgecolor='k', facecolor='tab:cyan', s=24)\n",
    "\n",
    "# df.plot(ax=ax, transform=ccrs.PlateCarree(), edgecolor='k', facecolor='w', alpha=0.3);\n",
    "# df.plot(ax=ax, transform=ccrs.PlateCarree(), edgecolor='k', facecolor='none', linewidth=2);"
   ]
  },
  {
   "cell_type": "code",
   "execution_count": null,
   "id": "28036af0-ab83-41c7-8eef-9549f720ce30",
   "metadata": {},
   "outputs": [],
   "source": [
    "s1 = rgi7.loc[rgi7.is_rgi6 == 1]\n",
    "print(f\"Same as RGI6: N={len(s1)}, A={int(s1['area'].sum()*1e-6)} km²\")\n",
    "\n",
    "s2 = rgi7.loc[rgi7.is_rgi6 == 0]\n",
    "print(f\"New  in RGI7: N={len(s2)}, A={int(s2['area'].sum()*1e-6)} km²\")\n",
    "\n",
    "print(f\"New in %: {s2['area'].sum() / rgi7['area'].sum()}\")\n",
    "\n",
    "print(f\"New in %: {len(s2) / len(rgi7)}\")"
   ]
  },
  {
   "cell_type": "code",
   "execution_count": null,
   "id": "027e7dce-3802-4237-80f3-a8960f7dd4f0",
   "metadata": {},
   "outputs": [],
   "source": [
    "rgi7.loc[rgi7['area'] == rgi7['area'].min()]"
   ]
  },
  {
   "cell_type": "code",
   "execution_count": null,
   "id": "0a0d87b2-1253-4b7f-9c5e-5543f97d3ac5",
   "metadata": {},
   "outputs": [],
   "source": [
    "adf = pd.DataFrame()\n",
    "adf.loc['< 1 km²', 'RGI6 (N)'] = (rgi6['area'] < 1).sum()\n",
    "adf.loc['< 1 km²', 'RGI6 (%)'] = (rgi6['area'] < 1).sum() / len(rgi6) * 100\n",
    "adf.loc['< 1 km²', 'RGI7 (N)'] = (rgi7['area'] < 1).sum()\n",
    "adf.loc['< 1 km²', 'RGI7 (%)'] = (rgi7['area'] < 1).sum() / len(rgi7) * 100\n",
    "adf.loc['1-10 km²', 'RGI6 (N)'] = ((rgi6['area'] >= 1) & (rgi6['area'] < 10)).sum()\n",
    "adf.loc['1-10 km²', 'RGI6 (%)'] = ((rgi6['area'] >= 1) & (rgi6['area'] < 10)).sum() / len(rgi6) * 100\n",
    "adf.loc['1-10 km²', 'RGI7 (N)'] = ((rgi7['area'] >= 1) & (rgi7['area'] < 10)).sum()\n",
    "adf.loc['1-10 km²', 'RGI7 (%)'] = ((rgi7['area'] >= 1) & (rgi7['area'] < 10)).sum() / len(rgi7) * 100\n",
    "adf.loc['10-100 km²', 'RGI6 (N)'] = ((rgi6['area'] >= 10) & (rgi6['area'] < 100)).sum()\n",
    "adf.loc['10-100 km²', 'RGI6 (%)'] = ((rgi6['area'] >= 10) & (rgi6['area'] < 100)).sum() / len(rgi6) * 100\n",
    "adf.loc['10-100 km²', 'RGI7 (N)'] = ((rgi7['area'] >= 10) & (rgi7['area'] < 100)).sum()\n",
    "adf.loc['10-100 km²', 'RGI7 (%)'] = ((rgi7['area'] >= 10) & (rgi7['area'] < 100)).sum() / len(rgi7) * 100\n",
    "adf.loc['> 100 km²', 'RGI6 (N)'] = (rgi6['area'] >= 100).sum()\n",
    "adf.loc['> 100 km²', 'RGI6 (%)'] = (rgi6['area'] >= 100).sum() / len(rgi6) * 100\n",
    "adf.loc['> 100 km²', 'RGI7 (N)'] = (rgi7['area'] >= 100).sum()\n",
    "adf.loc['> 100 km²', 'RGI7 (%)'] = (rgi7['area'] >= 100).sum() / len(rgi7) * 100\n",
    "adf.loc['Total'] = adf.sum()\n",
    "adf[['RGI6 (N)', 'RGI7 (N)']] = adf[['RGI6 (N)', 'RGI7 (N)']].astype(int)\n",
    "adf[['RGI6 (%)', 'RGI7 (%)']] = adf[['RGI6 (%)', 'RGI7 (%)']].round(2)\n",
    "adf"
   ]
  },
  {
   "cell_type": "code",
   "execution_count": null,
   "id": "0408a002-be6e-4aa3-a8c2-4691226fb0cd",
   "metadata": {},
   "outputs": [],
   "source": [
    "print(adf.to_markdown())"
   ]
  },
  {
   "cell_type": "code",
   "execution_count": null,
   "id": "8571c819-2dc0-4631-af26-1524d5032451",
   "metadata": {},
   "outputs": [],
   "source": [
    "sns.set_context('talk')\n",
    "sns.set_style('ticks')"
   ]
  },
  {
   "cell_type": "code",
   "execution_count": null,
   "id": "210e9107-e085-4c81-b9cb-04df60206b9d",
   "metadata": {},
   "outputs": [],
   "source": [
    "bins = np.logspace(-2, 3, 100)\n",
    "\n",
    "h7, b7 = np.histogram(rgi7['area'], bins=bins)\n",
    "h6, b6 = np.histogram(rgi6['area'], bins=bins)\n",
    "\n",
    "f, ax = plt.subplots(figsize=(12, 7))\n",
    "ax.plot(b6[:-1], h6, label='RGI6');\n",
    "ax.plot(b7[:-1], h7, label='RGI7');\n",
    "ax.set_xscale('log')\n",
    "ax.set_yscale('log')\n",
    "plt.legend()\n",
    "ax.set_title('Number of glaciers per size category')\n",
    "ax.set_xlabel('Glacier area (km², logscale)');\n",
    "ax.set_ylabel('Glacier number (logscale)');\n",
    "plt.savefig('../../../rgi7_data/l3_rgi7a_plots/global_histogram.png', dpi=150, bbox_inches='tight')"
   ]
  },
  {
   "cell_type": "code",
   "execution_count": null,
   "id": "1e254dbf-f48b-4391-8bae-cac657cdabdb",
   "metadata": {},
   "outputs": [],
   "source": [
    "bins = np.logspace(-2, 2, 100)\n",
    "reg = ['13', '14', '15']\n",
    "\n",
    "h7, b7 = np.histogram(rgi7.loc[rgi7.O1Region.isin(reg)]['area'], bins=bins)\n",
    "h6, b6 = np.histogram(rgi6.loc[rgi6.O1Region.isin(reg)]['area'], bins=bins)\n",
    "\n",
    "f, ax = plt.subplots(figsize=(12, 7))\n",
    "ax.plot(b6[:-1], h6, label='RGI6');\n",
    "ax.plot(b7[:-1], h7, label='RGI7');\n",
    "ax.set_xscale('log')\n",
    "ax.set_yscale('log')\n",
    "plt.legend()\n",
    "ax.set_title(f'Number of glaciers per size category (region {reg})')\n",
    "ax.set_xlabel('Glacier area (km², logscale)');\n",
    "ax.set_ylabel('Glacier number (logscale)');"
   ]
  },
  {
   "cell_type": "code",
   "execution_count": null,
   "id": "c5ba3f9e-b86e-4728-b5c5-6c0d8fd801a8",
   "metadata": {},
   "outputs": [],
   "source": []
  },
  {
   "cell_type": "code",
   "execution_count": null,
   "id": "071a9795-2933-4251-8e33-bafd038a8efa",
   "metadata": {},
   "outputs": [],
   "source": []
  },
  {
   "cell_type": "code",
   "execution_count": null,
   "id": "2ca5b677-d0ba-4c09-a389-0f60f4225286",
   "metadata": {},
   "outputs": [],
   "source": [
    "rgi7['year'] = [int(y.split('-')[0]) for y in rgi7['src_date']]"
   ]
  },
  {
   "cell_type": "code",
   "execution_count": null,
   "id": "3b41e030-2f6b-4ae6-bb5b-61dcb64b3adb",
   "metadata": {},
   "outputs": [],
   "source": [
    "rgi6['year'] = [int(y[0:4]) for y in rgi6['BgnDate']]\n",
    "rgi6['year'].unique()"
   ]
  },
  {
   "cell_type": "code",
   "execution_count": null,
   "id": "e15eaf08-e44d-4aa3-972c-593e0087538d",
   "metadata": {},
   "outputs": [],
   "source": [
    "(rgi6['year'] == -999).sum()"
   ]
  },
  {
   "cell_type": "code",
   "execution_count": null,
   "id": "6199ff7a-a8c9-453f-ac24-c7555019dfa8",
   "metadata": {},
   "outputs": [],
   "source": [
    "dy6 = np.abs(rgi6['year'] - 2000)\n",
    "dy7 = np.abs(rgi7['year'] - 2000)"
   ]
  },
  {
   "cell_type": "code",
   "execution_count": null,
   "id": "127e0340-d220-45d1-b0aa-05c68e23b6a4",
   "metadata": {},
   "outputs": [],
   "source": [
    "ydf = pd.DataFrame()\n",
    "ydf.loc['2000 ± 2 years', 'RGI6 (%)'] = (dy6 <= 2).sum() / len(rgi6) * 100\n",
    "ydf.loc['2000 ± 2 years', 'RGI7 (%)'] = (dy7 <= 2).sum() / len(rgi7) * 100\n",
    "ydf.loc['2000 ± 5 years', 'RGI6 (%)'] = ((dy6 <= 5) & (dy6 > 2)).sum() / len(rgi6) * 100\n",
    "ydf.loc['2000 ± 5 years', 'RGI7 (%)'] = ((dy7 <= 5) & (dy7 > 2)).sum() / len(rgi7) * 100\n",
    "ydf.loc['2000 ± 10 years', 'RGI6 (%)'] = ((dy6 <= 10) & (dy6 > 5)).sum() / len(rgi6) * 100\n",
    "ydf.loc['2000 ± 10 years', 'RGI7 (%)'] = ((dy7 <= 10) & (dy7 > 5)).sum() / len(rgi7) * 100\n",
    "ydf.loc['> 2000 ± 10 years', 'RGI6 (%)'] = (dy6 > 10).sum() / len(rgi6) * 100\n",
    "ydf.loc['> 2000 ± 10 years', 'RGI7 (%)'] = (dy7 > 10).sum() / len(rgi7) * 100\n",
    "ydf = ydf.round(1)\n",
    "ydf"
   ]
  },
  {
   "cell_type": "code",
   "execution_count": null,
   "id": "f755a929-4b69-4b33-ab91-c6342edc651a",
   "metadata": {},
   "outputs": [],
   "source": [
    "print(ydf.to_markdown())"
   ]
  },
  {
   "cell_type": "code",
   "execution_count": null,
   "id": "5f5a35dd-cb05-491f-9093-f56d87aecd67",
   "metadata": {},
   "outputs": [],
   "source": [
    "len(rgi7) - len(rgi7.anlys_id.unique())"
   ]
  },
  {
   "cell_type": "code",
   "execution_count": null,
   "id": "4360c633-2cc7-405a-8f2c-7af61c09f4e8",
   "metadata": {},
   "outputs": [],
   "source": []
  }
 ],
 "metadata": {
  "kernelspec": {
   "display_name": "Python 3 (ipykernel)",
   "language": "python",
   "name": "python3"
  },
  "language_info": {
   "codemirror_mode": {
    "name": "ipython",
    "version": 3
   },
   "file_extension": ".py",
   "mimetype": "text/x-python",
   "name": "python",
   "nbconvert_exporter": "python",
   "pygments_lexer": "ipython3",
   "version": "3.9.13"
  }
 },
 "nbformat": 4,
 "nbformat_minor": 5
}
