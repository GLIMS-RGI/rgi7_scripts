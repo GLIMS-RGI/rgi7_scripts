{
 "cells": [
  {
   "cell_type": "markdown",
   "id": "valid-miracle",
   "metadata": {},
   "source": [
    "# RGI07 (Svalbard and Jan Mayen)\n",
    "\n",
    "F. Maussion, Dec 2021"
   ]
  },
  {
   "cell_type": "markdown",
   "id": "martial-recipe",
   "metadata": {},
   "source": [
    "Goal: RGI6, except Jan Mayen"
   ]
  },
  {
   "cell_type": "code",
   "execution_count": null,
   "id": "durable-article",
   "metadata": {},
   "outputs": [],
   "source": [
    "import pandas as pd\n",
    "import geopandas as gpd\n",
    "import subprocess\n",
    "import matplotlib.pyplot as plt\n",
    "import matplotlib.patches as mpatches\n",
    "import seaborn as sns\n",
    "import numpy as np\n",
    "from utils import mkdir, submission_summary, needs_size_filter, size_filter, plot_map, plot_date_hist, find_duplicates\n",
    "import os"
   ]
  },
  {
   "cell_type": "code",
   "execution_count": null,
   "id": "composed-detail",
   "metadata": {},
   "outputs": [],
   "source": [
    "# Region of interest\n",
    "reg = 7\n",
    "\n",
    "# go down from rgi7_scripts/workflow\n",
    "data_dir = '../../rgi7_data/'\n",
    "\n",
    "# Level 2 GLIMS files\n",
    "l2_dir = os.path.join(data_dir, 'l2_sel_reg_tars')\n",
    "\n",
    "# Output directories\n",
    "output_dir = mkdir(os.path.join(data_dir, 'l3_rgi7a'))\n",
    "output_dir_tar = mkdir(os.path.join(data_dir, 'l3_rgi7a_tar'))\n",
    "\n",
    "# RGI v6 file for comparison later \n",
    "rgi6_reg_file = os.path.join(data_dir, 'l0_RGIv6', '07_rgi60_Svalbard.zip')"
   ]
  },
  {
   "cell_type": "code",
   "execution_count": null,
   "id": "hollow-simpson",
   "metadata": {},
   "outputs": [],
   "source": [
    "# Read L2 files\n",
    "shp = gpd.read_file('tar://' + os.path.join(l2_dir, f'RGI{reg:02d}.tar.gz/RGI{reg:02d}/RGI{reg:02d}.shp'))"
   ]
  },
  {
   "cell_type": "markdown",
   "id": "9a4c97f9-356f-4d44-88c7-93b11cfbe782",
   "metadata": {},
   "source": [
    "### List of submissions "
   ]
  },
  {
   "cell_type": "code",
   "execution_count": null,
   "id": "686bc6ce-8872-40bf-b319-d3a949a4df0b",
   "metadata": {},
   "outputs": [],
   "source": [
    "sdf, _ = submission_summary(shp)\n",
    "sdf"
   ]
  },
  {
   "cell_type": "markdown",
   "id": "fc177b00-8aea-4c40-a2b8-0d79223cd64a",
   "metadata": {},
   "source": [
    "- 563 Seems to be RGI6\n",
    "- 720 is an update from Frank on Jon Mayen"
   ]
  },
  {
   "cell_type": "code",
   "execution_count": null,
   "id": "108324d4-4494-4925-892a-13d52eb198c2",
   "metadata": {},
   "outputs": [],
   "source": [
    "# # Optional: write out selection in intermediate shape files for manual GIS review\n",
    "# tmp_output_dir = mkdir(os.path.join(data_dir, 'l0_tmp_data', f'rgi{reg:02d}_inventories'))\n",
    "# tmp_output_dir_tar = mkdir(os.path.join(data_dir, 'l0_tmp_data'))\n",
    "# for subid in shp.subm_id.unique():\n",
    "#     s_loc = shp.loc[shp.subm_id == subid]\n",
    "#     s_loc.to_file(tmp_output_dir + f'/subm_{int(subid):03d}.shp')\n",
    "# print('Taring...')\n",
    "# print(subprocess.run(['tar', '-zcvf', f'{tmp_output_dir_tar}/rgi{reg:02d}_inventories.tar.gz', '-C', \n",
    "#                       os.path.join(data_dir, 'l0_tmp_data'), f'rgi{reg:02d}_inventories']))"
   ]
  },
  {
   "cell_type": "markdown",
   "id": "domestic-bacteria",
   "metadata": {},
   "source": [
    "## Outline selection "
   ]
  },
  {
   "cell_type": "code",
   "execution_count": null,
   "id": "motivated-athens",
   "metadata": {},
   "outputs": [],
   "source": [
    "rgi_563 = shp.loc[shp.subm_id.isin([563])].copy()\n",
    "rgi_563['is_rgi6'] = True\n",
    "rgi_720 = shp.loc[shp.subm_id.isin([720])].copy()\n",
    "rgi_720['is_rgi6'] = False"
   ]
  },
  {
   "cell_type": "code",
   "execution_count": null,
   "id": "0d28da18-030b-4fba-b4c9-7ebd063388b0",
   "metadata": {},
   "outputs": [],
   "source": [
    "# Size filter?\n",
    "needs_size_filter(rgi_563), needs_size_filter(rgi_720), "
   ]
  },
  {
   "cell_type": "code",
   "execution_count": null,
   "id": "67f256ed-afec-40ec-8d0f-bf146ea080ee",
   "metadata": {},
   "outputs": [],
   "source": [
    "# Read box for JonMayen\n",
    "from utils import open_zip_shapefile\n",
    "box = open_zip_shapefile(data_dir + f'/l0_support_data/JonMayen.zip')"
   ]
  },
  {
   "cell_type": "markdown",
   "id": "c4912a1a-a547-4fa8-8f16-065da3d202f1",
   "metadata": {},
   "source": [
    "Now we remove the glaciers from the box:"
   ]
  },
  {
   "cell_type": "code",
   "execution_count": null,
   "id": "fa5196ab-adfe-458a-86f9-4649d2ed383d",
   "metadata": {},
   "outputs": [],
   "source": [
    "rp = rgi_563.representative_point()\n",
    "rp = rp.to_frame('geometry')\n",
    "rp['orig_index'] = rgi_563.index\n",
    "\n",
    "# Find non overlying polygons\n",
    "difference = gpd.overlay(rp, box, how='difference')\n",
    "\n",
    "# Create temporal variable\n",
    "rgi_563 = rgi_563.loc[difference['orig_index']]"
   ]
  },
  {
   "cell_type": "code",
   "execution_count": null,
   "id": "5d5d5506-b3bc-4d01-821f-14da8fcee54f",
   "metadata": {},
   "outputs": [],
   "source": [
    "# Merge original RGI 580 (without the glacier in the box) and the RGI 729\n",
    "rgi7 = pd.concat([rgi_563, rgi_720])"
   ]
  },
  {
   "cell_type": "markdown",
   "id": "9dd88f2e-9434-46d6-acad-cab0ad105f74",
   "metadata": {},
   "source": [
    "### Some sanity checks "
   ]
  },
  {
   "cell_type": "code",
   "execution_count": null,
   "id": "8c800615-756e-4eb6-b5f8-9da3ac839ae4",
   "metadata": {},
   "outputs": [],
   "source": [
    "sdf, df_class = submission_summary(rgi7)\n",
    "df_class"
   ]
  },
  {
   "cell_type": "code",
   "execution_count": null,
   "id": "0781fff2-7ceb-4994-baa1-1a084d8aaa70",
   "metadata": {},
   "outputs": [],
   "source": [
    "dupes = find_duplicates(rgi7)"
   ]
  },
  {
   "cell_type": "code",
   "execution_count": null,
   "id": "539cd27a-2479-4dac-9d3f-ea24e28c8ff0",
   "metadata": {},
   "outputs": [],
   "source": [
    "# Check the orphaned rock outcrops\n",
    "orphan_f = os.path.join(data_dir, 'l1_orphan_interiors', f'RGI{reg:02d}', f'RGI{reg:02d}.shp')\n",
    "if os.path.exists(orphan_f):\n",
    "    orphan_f = gpd.read_file(orphan_f)\n",
    "    check = np.isin(rgi7.subm_id.unique(), orphan_f.subm_id.unique())\n",
    "    if np.any(check):\n",
    "        print(f'Orphan rock outcrops detected in subm_id {rgi7.subm_id.unique()[check]}')\n",
    "        orphan_f['area'] = orphan_f.to_crs({'proj':'cea'}).area"
   ]
  },
  {
   "cell_type": "code",
   "execution_count": null,
   "id": "f76804a1-b5ff-4a64-9b0c-5b8be9231df3",
   "metadata": {},
   "outputs": [],
   "source": [
    "orphan_f = orphan_f.loc[orphan_f.subm_id == 563]\n",
    "orphan_f['area'].sum() * 1e-6"
   ]
  },
  {
   "cell_type": "markdown",
   "id": "5a5a4e45-4906-4a5b-842d-e48317b6e8df",
   "metadata": {},
   "source": [
    "Ok, more details in the checks below."
   ]
  },
  {
   "cell_type": "markdown",
   "id": "ad46c7cd-64c2-4442-8e34-413e2e13b433",
   "metadata": {},
   "source": [
    "### Plots "
   ]
  },
  {
   "cell_type": "code",
   "execution_count": null,
   "id": "3a6c4fc4-2354-48aa-b1b4-4ff11e0e5418",
   "metadata": {},
   "outputs": [],
   "source": [
    "plot_map(rgi7, reg, loc='upper left')"
   ]
  },
  {
   "cell_type": "code",
   "execution_count": null,
   "id": "c2177765-6361-409f-a1ab-311712e52059",
   "metadata": {},
   "outputs": [],
   "source": [
    "plot_map(rgi7, reg, loc='upper left', is_rgi6=True)"
   ]
  },
  {
   "cell_type": "code",
   "execution_count": null,
   "id": "7ab1a9dd-48f8-4916-bc43-27fd3c3407e5",
   "metadata": {},
   "outputs": [],
   "source": [
    "plot_date_hist(rgi7, reg)"
   ]
  },
  {
   "cell_type": "markdown",
   "id": "69bc9341-93bf-4ac3-bf56-bd9d93a5e63d",
   "metadata": {},
   "source": [
    "### Text for github"
   ]
  },
  {
   "cell_type": "code",
   "execution_count": null,
   "id": "852c65cf-0ced-4320-9a68-c71868c6413f",
   "metadata": {},
   "outputs": [],
   "source": [
    "fgh = sdf.T\n",
    "fgh"
   ]
  },
  {
   "cell_type": "code",
   "execution_count": null,
   "id": "d24fda1d-097a-4a7c-8ab9-437445aebe75",
   "metadata": {},
   "outputs": [],
   "source": [
    "print(fgh.to_markdown(headers=np.append(['subm_id'], fgh.columns)))"
   ]
  },
  {
   "cell_type": "markdown",
   "id": "smaller-fault",
   "metadata": {},
   "source": [
    "## Write out and tar "
   ]
  },
  {
   "cell_type": "code",
   "execution_count": null,
   "id": "proved-memory",
   "metadata": {},
   "outputs": [],
   "source": [
    "dd = mkdir(f'{output_dir}/RGI{reg:02d}/', reset=True)\n",
    "\n",
    "print('Writing...')\n",
    "rgi7.to_file(dd + f'RGI{reg:02d}.shp')\n",
    "\n",
    "print('Taring...')\n",
    "print(subprocess.run(['tar', '-zcvf', f'{output_dir_tar}/RGI{reg:02d}.tar.gz', '-C', output_dir, f'RGI{reg:02d}']))"
   ]
  },
  {
   "cell_type": "markdown",
   "id": "closed-olive",
   "metadata": {},
   "source": [
    "## Consistency check with RGI6 "
   ]
  },
  {
   "cell_type": "code",
   "execution_count": null,
   "id": "8312a970-f489-40c5-8066-52489e8e7c27",
   "metadata": {},
   "outputs": [],
   "source": [
    "# Specific to this region: boxes where data has to be selected differently\n",
    "support_dir = os.path.join(data_dir, 'l0_support_data')"
   ]
  },
  {
   "cell_type": "code",
   "execution_count": null,
   "id": "imposed-payment",
   "metadata": {},
   "outputs": [],
   "source": [
    "# RGI6\n",
    "rgi6 = open_zip_shapefile(rgi6_reg_file)\n",
    "# FP\n",
    "ref_fp = open_zip_shapefile(os.path.join(support_dir, 'c3s_gi_rgi07_L7_2002_v1.zip'))"
   ]
  },
  {
   "cell_type": "code",
   "execution_count": null,
   "id": "65c63fb9-7bca-42df-a9bc-3a9ab9d493b9",
   "metadata": {},
   "outputs": [],
   "source": [
    "rgi6['area'] = rgi6.to_crs({'proj':'cea'}).area \n",
    "ref_fp['area'] = ref_fp.to_crs({'proj':'cea'}).area "
   ]
  },
  {
   "cell_type": "code",
   "execution_count": null,
   "id": "cheap-prophet",
   "metadata": {},
   "outputs": [],
   "source": [
    "len(rgi7), len(rgi6), len(ref_fp)"
   ]
  },
  {
   "cell_type": "markdown",
   "id": "3b890515-0aba-4a04-9dce-c84dbbc5beeb",
   "metadata": {},
   "source": [
    "We have different inventories:"
   ]
  },
  {
   "cell_type": "code",
   "execution_count": null,
   "id": "83fcc099-28f3-4f67-b87c-7f93d44ffd44",
   "metadata": {},
   "outputs": [],
   "source": [
    "rp = rgi6.representative_point()\n",
    "rp = rp.to_frame('geometry')\n",
    "rp['orig_index'] = rgi6.index\n",
    "difference = gpd.overlay(rp, box, how='difference')\n",
    "rgi6 = rgi6.loc[difference['orig_index']]"
   ]
  },
  {
   "cell_type": "markdown",
   "id": "847b9003-74f4-44a0-a9a0-6f4140e17e83",
   "metadata": {},
   "source": [
    "### Jon Mayen (720, Frank Paul, no problem there):  "
   ]
  },
  {
   "cell_type": "code",
   "execution_count": null,
   "id": "e0db6d8c-be1d-4904-a214-2c010cea4c44",
   "metadata": {},
   "outputs": [],
   "source": [
    "print('Number of glaciers in RGI7 subset:', len(rgi_720))\n",
    "print('Number of glaciers in reference data (FP):', len(ref_fp))\n",
    "print('Difference:', len(rgi_720)-len(ref_fp))"
   ]
  },
  {
   "cell_type": "code",
   "execution_count": null,
   "id": "6911d058-b048-4c0a-8d92-77fa055f2ea3",
   "metadata": {},
   "outputs": [],
   "source": [
    "# print and compare area values\n",
    "Area_7 = rgi_720['area'].sum() * 1e-6\n",
    "print('Area RGI7 [km²]:', Area_7)\n",
    "Area_6 = ref_fp['area'].sum() * 1e-6\n",
    "print('Area RGI6 [km²]:', Area_6)\n",
    "d = (Area_7 - Area_6)\n",
    "print('Area difference [km²]:', d)"
   ]
  },
  {
   "cell_type": "markdown",
   "id": "53fa43ba-6ba1-4e14-8d07-cce4e8cc6bea",
   "metadata": {},
   "source": [
    "This is brilliant! No issue there."
   ]
  },
  {
   "cell_type": "markdown",
   "id": "b837912b-77da-49b6-a77a-21af4a761937",
   "metadata": {},
   "source": [
    "### Svalbard (563, RGI6, some issues there):  "
   ]
  },
  {
   "cell_type": "code",
   "execution_count": null,
   "id": "be6366c9-1946-46eb-bae5-abdd2e8c173b",
   "metadata": {},
   "outputs": [],
   "source": [
    "print('Number of glaciers in RGI7 subset:', len(rgi_563))\n",
    "print('Number of glaciers in reference data (RGI6):', len(rgi6))\n",
    "print('Difference:', len(rgi_563)-len(rgi6))"
   ]
  },
  {
   "cell_type": "code",
   "execution_count": null,
   "id": "feb65bd1-021c-4e21-bb4b-4f63d1e8fd69",
   "metadata": {},
   "outputs": [],
   "source": [
    "# print and compare area values\n",
    "Area_7 = rgi_563['area'].sum() * 1e-6\n",
    "print('Area RGI7 [km²]:', Area_7)\n",
    "Area_6 = rgi6['area'].sum() * 1e-6\n",
    "print('Area RGI6 [km²]:', Area_6)\n",
    "d = (Area_7 - Area_6)\n",
    "print('Area difference [km²]:', d)"
   ]
  },
  {
   "cell_type": "markdown",
   "id": "4869a2a2-2d22-483f-8f6b-a03719429890",
   "metadata": {},
   "source": [
    "Small issues there. These are some small glaciers which, I think, are actually looking good in GLIMS: https://github.com/GLIMS-RGI/glims_issue_tracker/issues/7"
   ]
  },
  {
   "cell_type": "markdown",
   "id": "7f8ea62e-0863-4e1a-be37-d87b02a5fdd8",
   "metadata": {},
   "source": [
    "Plus some orphans (small area):"
   ]
  },
  {
   "cell_type": "code",
   "execution_count": null,
   "id": "ee6c8c73-66f0-4a62-8dea-a23a1e44fe1b",
   "metadata": {},
   "outputs": [],
   "source": [
    "for ids in orphan_f.sort_values(by='area', ascending=False).iloc[:5].anlys_id:\n",
    "    f, ax = plt.subplots()\n",
    "    rgi7.loc[rgi7.anlys_id == ids].plot(ax=ax);\n",
    "    orphan_f.loc[orphan_f.anlys_id == ids].plot(ax=ax, facecolor='C3');"
   ]
  },
  {
   "cell_type": "code",
   "execution_count": null,
   "id": "ad007382-a080-4a5c-9250-39ba398976ff",
   "metadata": {},
   "outputs": [],
   "source": []
  }
 ],
 "metadata": {
  "kernelspec": {
   "display_name": "Python 3 (ipykernel)",
   "language": "python",
   "name": "python3"
  },
  "language_info": {
   "codemirror_mode": {
    "name": "ipython",
    "version": 3
   },
   "file_extension": ".py",
   "mimetype": "text/x-python",
   "name": "python",
   "nbconvert_exporter": "python",
   "pygments_lexer": "ipython3",
   "version": "3.9.10"
  }
 },
 "nbformat": 4,
 "nbformat_minor": 5
}
