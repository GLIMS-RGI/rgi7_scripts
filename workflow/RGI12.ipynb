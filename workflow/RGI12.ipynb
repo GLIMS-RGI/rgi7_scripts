{
 "cells": [
  {
   "cell_type": "markdown",
   "id": "lesser-sociology",
   "metadata": {},
   "source": [
    "# RGI12 (Caucasus and Middle East)\n",
    "\n",
    "F. Maussion & F. Roura Adserias & S. Galos"
   ]
  },
  {
   "cell_type": "code",
   "execution_count": 1,
   "id": "electoral-expense",
   "metadata": {},
   "outputs": [],
   "source": [
    "import pandas as pd\n",
    "import geopandas as gpd\n",
    "import subprocess\n",
    "import matplotlib.pyplot as plt\n",
    "import matplotlib.patches as mpatches\n",
    "import seaborn as sns\n",
    "import numpy as np\n",
    "from utils import mkdir, submission_summary, needs_size_filter, size_filter, plot_map, plot_date_hist\n",
    "import os"
   ]
  },
  {
   "cell_type": "markdown",
   "id": "proprietary-armor",
   "metadata": {},
   "source": [
    "## Files and storage paths"
   ]
  },
  {
   "cell_type": "code",
   "execution_count": 2,
   "id": "silent-charger",
   "metadata": {},
   "outputs": [],
   "source": [
    "# Region of interest \n",
    "reg = 12\n",
    "\n",
    "# go down from rgi7_scripts/workflow\n",
    "data_dir = '../../rgi7_data/'\n",
    "\n",
    "# Level 2 GLIMS files\n",
    "l2_dir = os.path.join(data_dir, 'l2_sel_reg_tars')\n",
    "\n",
    "# Output directories\n",
    "output_dir = mkdir(os.path.join(data_dir, 'l3_rgi7a'))\n",
    "output_dir_tar = mkdir(os.path.join(data_dir, 'l3_rgi7a_tar'))\n",
    "\n",
    "# RGI v6 file for comparison later \n",
    "rgi6_reg_file = os.path.join(data_dir, 'l0_RGIv6', '12_rgi60_CaucasusMiddleEast.zip')\n",
    "\n",
    "# Specific to this region: boxes where data has to be selected differently\n",
    "support_dir = os.path.join(data_dir, 'l0_support_data')"
   ]
  },
  {
   "cell_type": "markdown",
   "id": "interior-driving",
   "metadata": {},
   "source": [
    "### Load the input data"
   ]
  },
  {
   "cell_type": "code",
   "execution_count": 3,
   "id": "mounted-broadway",
   "metadata": {},
   "outputs": [],
   "source": [
    "# Read L2 files\n",
    "shp = gpd.read_file('tar://' + l2_dir + f'/RGI{reg:02d}.tar.gz/RGI{reg:02d}/RGI{reg:02d}.shp')"
   ]
  },
  {
   "cell_type": "markdown",
   "id": "b82bedea-7a6e-4136-9bac-f422faecd306",
   "metadata": {},
   "source": [
    "### List of submissions "
   ]
  },
  {
   "cell_type": "code",
   "execution_count": 4,
   "id": "1f7f2333-6eaa-4851-893c-3740538f9269",
   "metadata": {},
   "outputs": [
    {
     "data": {
      "text/html": [
       "<div>\n",
       "<style scoped>\n",
       "    .dataframe tbody tr th:only-of-type {\n",
       "        vertical-align: middle;\n",
       "    }\n",
       "\n",
       "    .dataframe tbody tr th {\n",
       "        vertical-align: top;\n",
       "    }\n",
       "\n",
       "    .dataframe thead th {\n",
       "        text-align: right;\n",
       "    }\n",
       "</style>\n",
       "<table border=\"1\" class=\"dataframe\">\n",
       "  <thead>\n",
       "    <tr style=\"text-align: right;\">\n",
       "      <th></th>\n",
       "      <th>N</th>\n",
       "      <th>A</th>\n",
       "      <th>analysts</th>\n",
       "      <th>submitters</th>\n",
       "      <th>release_date</th>\n",
       "      <th>geog_area</th>\n",
       "      <th>src_date_mode</th>\n",
       "      <th>src_date_min</th>\n",
       "      <th>src_date_max</th>\n",
       "    </tr>\n",
       "    <tr>\n",
       "      <th>subm_id</th>\n",
       "      <th></th>\n",
       "      <th></th>\n",
       "      <th></th>\n",
       "      <th></th>\n",
       "      <th></th>\n",
       "      <th></th>\n",
       "      <th></th>\n",
       "      <th></th>\n",
       "      <th></th>\n",
       "    </tr>\n",
       "  </thead>\n",
       "  <tbody>\n",
       "    <tr>\n",
       "      <th>76</th>\n",
       "      <td>51</td>\n",
       "      <td>14.8</td>\n",
       "      <td>Nosenko</td>\n",
       "      <td>Khromova</td>\n",
       "      <td>2005</td>\n",
       "      <td>Siberian Mountains</td>\n",
       "      <td>2004</td>\n",
       "      <td>2004</td>\n",
       "      <td>2004</td>\n",
       "    </tr>\n",
       "    <tr>\n",
       "      <th>79</th>\n",
       "      <td>16</td>\n",
       "      <td>3.4</td>\n",
       "      <td>Nosenko</td>\n",
       "      <td>Khromova</td>\n",
       "      <td>2005</td>\n",
       "      <td>Siberian Mountains</td>\n",
       "      <td>2004</td>\n",
       "      <td>2004</td>\n",
       "      <td>2004</td>\n",
       "    </tr>\n",
       "    <tr>\n",
       "      <th>81</th>\n",
       "      <td>53</td>\n",
       "      <td>38.0</td>\n",
       "      <td>Nosenko</td>\n",
       "      <td>Khromova</td>\n",
       "      <td>2005</td>\n",
       "      <td>Siberian Mountains</td>\n",
       "      <td>2004</td>\n",
       "      <td>2004</td>\n",
       "      <td>2004</td>\n",
       "    </tr>\n",
       "    <tr>\n",
       "      <th>83</th>\n",
       "      <td>13</td>\n",
       "      <td>14.1</td>\n",
       "      <td>Nosenko</td>\n",
       "      <td>Khromova</td>\n",
       "      <td>2005</td>\n",
       "      <td>Siberian Mountains</td>\n",
       "      <td>2004</td>\n",
       "      <td>2004</td>\n",
       "      <td>2004</td>\n",
       "    </tr>\n",
       "    <tr>\n",
       "      <th>87</th>\n",
       "      <td>12</td>\n",
       "      <td>9.2</td>\n",
       "      <td>Nosenko</td>\n",
       "      <td>Khromova</td>\n",
       "      <td>2005</td>\n",
       "      <td>Siberian Mountains</td>\n",
       "      <td>2004</td>\n",
       "      <td>2004</td>\n",
       "      <td>2004</td>\n",
       "    </tr>\n",
       "    <tr>\n",
       "      <th>327</th>\n",
       "      <td>4</td>\n",
       "      <td>0.3</td>\n",
       "      <td>Khromova</td>\n",
       "      <td>Khromova</td>\n",
       "      <td>2006</td>\n",
       "      <td>Siberian Mountains</td>\n",
       "      <td>2001</td>\n",
       "      <td>2001</td>\n",
       "      <td>2001</td>\n",
       "    </tr>\n",
       "    <tr>\n",
       "      <th>341</th>\n",
       "      <td>463</td>\n",
       "      <td>340.3</td>\n",
       "      <td>Seliverstov</td>\n",
       "      <td>Khromova</td>\n",
       "      <td>2006</td>\n",
       "      <td>Siberian Mountains</td>\n",
       "      <td>2000</td>\n",
       "      <td>2000</td>\n",
       "      <td>2000</td>\n",
       "    </tr>\n",
       "    <tr>\n",
       "      <th>423</th>\n",
       "      <td>34</td>\n",
       "      <td>28.5</td>\n",
       "      <td>Nosenko</td>\n",
       "      <td>Khromova</td>\n",
       "      <td>2007</td>\n",
       "      <td>Siberian Mountains</td>\n",
       "      <td>2004</td>\n",
       "      <td>2004</td>\n",
       "      <td>2004</td>\n",
       "    </tr>\n",
       "    <tr>\n",
       "      <th>424</th>\n",
       "      <td>19</td>\n",
       "      <td>17.2</td>\n",
       "      <td>Nosenko</td>\n",
       "      <td>Khromova</td>\n",
       "      <td>2007</td>\n",
       "      <td>Russian Glaciers (exact boundaries of RC to be...</td>\n",
       "      <td>1999</td>\n",
       "      <td>1999</td>\n",
       "      <td>1999</td>\n",
       "    </tr>\n",
       "    <tr>\n",
       "      <th>425</th>\n",
       "      <td>9</td>\n",
       "      <td>10.1</td>\n",
       "      <td>Khromova</td>\n",
       "      <td>Khromova</td>\n",
       "      <td>2007</td>\n",
       "      <td>Siberian Mountains</td>\n",
       "      <td>1999</td>\n",
       "      <td>1999</td>\n",
       "      <td>1999</td>\n",
       "    </tr>\n",
       "    <tr>\n",
       "      <th>426</th>\n",
       "      <td>19</td>\n",
       "      <td>40.5</td>\n",
       "      <td>Nosenko</td>\n",
       "      <td>Khromova</td>\n",
       "      <td>2007</td>\n",
       "      <td>Russian Glaciers (exact boundaries of RC to be...</td>\n",
       "      <td>1999</td>\n",
       "      <td>1999</td>\n",
       "      <td>1999</td>\n",
       "    </tr>\n",
       "    <tr>\n",
       "      <th>427</th>\n",
       "      <td>429</td>\n",
       "      <td>390.9</td>\n",
       "      <td>Nosenko</td>\n",
       "      <td>Khromova</td>\n",
       "      <td>2007</td>\n",
       "      <td>Russian Glaciers (exact boundaries of RC to be...</td>\n",
       "      <td>2001</td>\n",
       "      <td>2001</td>\n",
       "      <td>2001</td>\n",
       "    </tr>\n",
       "    <tr>\n",
       "      <th>428</th>\n",
       "      <td>166</td>\n",
       "      <td>178.7</td>\n",
       "      <td>Nosenko</td>\n",
       "      <td>Khromova</td>\n",
       "      <td>2007</td>\n",
       "      <td>Russian Glaciers (exact boundaries of RC to be...</td>\n",
       "      <td>2004</td>\n",
       "      <td>2004</td>\n",
       "      <td>2004</td>\n",
       "    </tr>\n",
       "    <tr>\n",
       "      <th>429</th>\n",
       "      <td>11</td>\n",
       "      <td>14.3</td>\n",
       "      <td>Nosenko</td>\n",
       "      <td>Khromova</td>\n",
       "      <td>2007</td>\n",
       "      <td>Russian Glaciers (exact boundaries of RC to be...</td>\n",
       "      <td>2004</td>\n",
       "      <td>2004</td>\n",
       "      <td>2004</td>\n",
       "    </tr>\n",
       "    <tr>\n",
       "      <th>588</th>\n",
       "      <td>484</td>\n",
       "      <td>40.3</td>\n",
       "      <td>Ashkan, Karimi, Sara</td>\n",
       "      <td>Karimi</td>\n",
       "      <td>2015</td>\n",
       "      <td>Iran</td>\n",
       "      <td>2011</td>\n",
       "      <td>2011</td>\n",
       "      <td>2011</td>\n",
       "    </tr>\n",
       "    <tr>\n",
       "      <th>642</th>\n",
       "      <td>2021</td>\n",
       "      <td>1194.5</td>\n",
       "      <td>Tielidze</td>\n",
       "      <td>Tielidze</td>\n",
       "      <td>2017</td>\n",
       "      <td>Caucausus Region</td>\n",
       "      <td>2014</td>\n",
       "      <td>2011</td>\n",
       "      <td>2016</td>\n",
       "    </tr>\n",
       "    <tr>\n",
       "      <th>643</th>\n",
       "      <td>2209</td>\n",
       "      <td>1482.7</td>\n",
       "      <td>Tielidze</td>\n",
       "      <td>Tielidze</td>\n",
       "      <td>2017</td>\n",
       "      <td>Caucausus Region</td>\n",
       "      <td>1986</td>\n",
       "      <td>1985</td>\n",
       "      <td>1987</td>\n",
       "    </tr>\n",
       "    <tr>\n",
       "      <th>644</th>\n",
       "      <td>2350</td>\n",
       "      <td>1674.8</td>\n",
       "      <td>Tielidze</td>\n",
       "      <td>Tielidze</td>\n",
       "      <td>2017</td>\n",
       "      <td>Caucausus Region</td>\n",
       "      <td>1960</td>\n",
       "      <td>1960</td>\n",
       "      <td>1960</td>\n",
       "    </tr>\n",
       "    <tr>\n",
       "      <th>662</th>\n",
       "      <td>51</td>\n",
       "      <td>11.5</td>\n",
       "      <td>Sarikaya</td>\n",
       "      <td>Sarikaya</td>\n",
       "      <td>2017</td>\n",
       "      <td>Turkey</td>\n",
       "      <td>2006</td>\n",
       "      <td>2004</td>\n",
       "      <td>2011</td>\n",
       "    </tr>\n",
       "    <tr>\n",
       "      <th>724</th>\n",
       "      <td>2185</td>\n",
       "      <td>1381.3</td>\n",
       "      <td>Tielidze</td>\n",
       "      <td>Tielidze</td>\n",
       "      <td>2020</td>\n",
       "      <td>Caucausus Region</td>\n",
       "      <td>2000</td>\n",
       "      <td>1999</td>\n",
       "      <td>2002</td>\n",
       "    </tr>\n",
       "  </tbody>\n",
       "</table>\n",
       "</div>"
      ],
      "text/plain": [
       "            N       A              analysts submitters  release_date  \\\n",
       "subm_id                                                                \n",
       "76         51    14.8               Nosenko   Khromova          2005   \n",
       "79         16     3.4               Nosenko   Khromova          2005   \n",
       "81         53    38.0               Nosenko   Khromova          2005   \n",
       "83         13    14.1               Nosenko   Khromova          2005   \n",
       "87         12     9.2               Nosenko   Khromova          2005   \n",
       "327         4     0.3              Khromova   Khromova          2006   \n",
       "341       463   340.3           Seliverstov   Khromova          2006   \n",
       "423        34    28.5               Nosenko   Khromova          2007   \n",
       "424        19    17.2               Nosenko   Khromova          2007   \n",
       "425         9    10.1              Khromova   Khromova          2007   \n",
       "426        19    40.5               Nosenko   Khromova          2007   \n",
       "427       429   390.9               Nosenko   Khromova          2007   \n",
       "428       166   178.7               Nosenko   Khromova          2007   \n",
       "429        11    14.3               Nosenko   Khromova          2007   \n",
       "588       484    40.3  Ashkan, Karimi, Sara     Karimi          2015   \n",
       "642      2021  1194.5              Tielidze   Tielidze          2017   \n",
       "643      2209  1482.7              Tielidze   Tielidze          2017   \n",
       "644      2350  1674.8              Tielidze   Tielidze          2017   \n",
       "662        51    11.5              Sarikaya   Sarikaya          2017   \n",
       "724      2185  1381.3              Tielidze   Tielidze          2020   \n",
       "\n",
       "                                                 geog_area  src_date_mode  \\\n",
       "subm_id                                                                     \n",
       "76                                      Siberian Mountains           2004   \n",
       "79                                      Siberian Mountains           2004   \n",
       "81                                      Siberian Mountains           2004   \n",
       "83                                      Siberian Mountains           2004   \n",
       "87                                      Siberian Mountains           2004   \n",
       "327                                     Siberian Mountains           2001   \n",
       "341                                     Siberian Mountains           2000   \n",
       "423                                     Siberian Mountains           2004   \n",
       "424      Russian Glaciers (exact boundaries of RC to be...           1999   \n",
       "425                                     Siberian Mountains           1999   \n",
       "426      Russian Glaciers (exact boundaries of RC to be...           1999   \n",
       "427      Russian Glaciers (exact boundaries of RC to be...           2001   \n",
       "428      Russian Glaciers (exact boundaries of RC to be...           2004   \n",
       "429      Russian Glaciers (exact boundaries of RC to be...           2004   \n",
       "588                                                   Iran           2011   \n",
       "642                                       Caucausus Region           2014   \n",
       "643                                       Caucausus Region           1986   \n",
       "644                                       Caucausus Region           1960   \n",
       "662                                                 Turkey           2006   \n",
       "724                                       Caucausus Region           2000   \n",
       "\n",
       "         src_date_min  src_date_max  \n",
       "subm_id                              \n",
       "76               2004          2004  \n",
       "79               2004          2004  \n",
       "81               2004          2004  \n",
       "83               2004          2004  \n",
       "87               2004          2004  \n",
       "327              2001          2001  \n",
       "341              2000          2000  \n",
       "423              2004          2004  \n",
       "424              1999          1999  \n",
       "425              1999          1999  \n",
       "426              1999          1999  \n",
       "427              2001          2001  \n",
       "428              2004          2004  \n",
       "429              2004          2004  \n",
       "588              2011          2011  \n",
       "642              2011          2016  \n",
       "643              1985          1987  \n",
       "644              1960          1960  \n",
       "662              2004          2011  \n",
       "724              1999          2002  "
      ]
     },
     "execution_count": 4,
     "metadata": {},
     "output_type": "execute_result"
    }
   ],
   "source": [
    "sdf, _ = submission_summary(shp)\n",
    "sdf"
   ]
  },
  {
   "cell_type": "markdown",
   "id": "divided-cutting",
   "metadata": {},
   "source": [
    "Notes based on inidivual submission evaluations: \n",
    "- subm 76 to 429 are all in Caucasus (we don't use them because now have subm 724 there)\n",
    "- subm 588 is Iran (looks like this was what was used for RGI6)\n",
    "- subm 662 is Turkey (looks like this was what was used for RGI6)"
   ]
  },
  {
   "cell_type": "code",
   "execution_count": 5,
   "id": "prospective-emperor",
   "metadata": {},
   "outputs": [],
   "source": [
    "# # Write out selection in intermediate shape files for manual GIS review\n",
    "# tmp_output_dir = mkdir(os.path.join(data_dir, 'l0_tmp_data', 'rgi12_inventories'))\n",
    "# tmp_output_dir_tar = mkdir(os.path.join(data_dir, 'l0_tmp_data'))\n",
    "# for subid in shp.subm_id.unique():\n",
    "#     s_loc = shp.loc[shp.subm_id == subid]\n",
    "#     s_loc.to_file(tmp_output_dir + f'/subm_{int(subid):03d}.shp')\n",
    "# print('Taring...')\n",
    "# print(subprocess.run(['tar', '-zcvf', f'{tmp_output_dir_tar}/rgi12_inventories.tar.gz', '-C', \n",
    "#                       os.path.join(data_dir, 'l0_tmp_data'), 'rgi12_inventories']))"
   ]
  },
  {
   "cell_type": "markdown",
   "id": "familiar-civilization",
   "metadata": {},
   "source": [
    "### Apply selection criteria to create the RGI7 data subset"
   ]
  },
  {
   "cell_type": "code",
   "execution_count": 6,
   "id": "closing-ivory",
   "metadata": {},
   "outputs": [],
   "source": [
    "# for Caucasus we use 'subm_id' 724 by analyst 'Tielidze, Levan' which corresponds to the best and closest to 2000 \n",
    "RGI_ss_caucasus = shp.loc[shp['subm_id'] == 724].copy()\n",
    "RGI_ss_caucasus['is_rgi6'] = False"
   ]
  },
  {
   "cell_type": "code",
   "execution_count": 7,
   "id": "naked-excess",
   "metadata": {},
   "outputs": [],
   "source": [
    "# for Middle East / Iran: 'subm_id' 588\n",
    "RGI_ss_middle_east = shp.loc[shp['subm_id'] == 588].copy()\n",
    "RGI_ss_middle_east['is_rgi6'] = True"
   ]
  },
  {
   "cell_type": "code",
   "execution_count": 8,
   "id": "athletic-weekend",
   "metadata": {},
   "outputs": [],
   "source": [
    "# for Turkey: 'subm_id' 662\n",
    "RGI_ss_Turkey = shp.loc[shp['subm_id'] == 662].copy()\n",
    "RGI_ss_Turkey['is_rgi6'] = True"
   ]
  },
  {
   "cell_type": "markdown",
   "id": "f849036e-a987-4c5c-ba7d-7e14a9ef7755",
   "metadata": {},
   "source": [
    "### Filter small glaciers "
   ]
  },
  {
   "cell_type": "code",
   "execution_count": 9,
   "id": "b9e55ffb-3f8b-4b03-96dc-9b16a500020a",
   "metadata": {},
   "outputs": [
    {
     "name": "stdout",
     "output_type": "stream",
     "text": [
      "2185\n",
      "2182\n"
     ]
    }
   ],
   "source": [
    "print(len(RGI_ss_caucasus))\n",
    "RGI_ss_caucasus = size_filter(RGI_ss_caucasus)\n",
    "print(len(RGI_ss_caucasus))"
   ]
  },
  {
   "cell_type": "code",
   "execution_count": 10,
   "id": "8c24605a-9e4c-4256-921a-01dab4bb46e2",
   "metadata": {},
   "outputs": [
    {
     "name": "stdout",
     "output_type": "stream",
     "text": [
      "484\n",
      "203\n"
     ]
    }
   ],
   "source": [
    "print(len(RGI_ss_middle_east))\n",
    "RGI_ss_middle_east = size_filter(RGI_ss_middle_east)\n",
    "print(len(RGI_ss_middle_east))"
   ]
  },
  {
   "cell_type": "code",
   "execution_count": 11,
   "id": "8739435c-1b86-46a0-ac63-ea4334f45faa",
   "metadata": {},
   "outputs": [
    {
     "name": "stdout",
     "output_type": "stream",
     "text": [
      "51\n",
      "46\n"
     ]
    }
   ],
   "source": [
    "print(len(RGI_ss_Turkey))\n",
    "RGI_ss_Turkey = size_filter(RGI_ss_Turkey)\n",
    "print(len(RGI_ss_Turkey))"
   ]
  },
  {
   "cell_type": "code",
   "execution_count": 12,
   "id": "67456465-a6c1-44dc-b338-afd2aa09d9c6",
   "metadata": {},
   "outputs": [],
   "source": [
    "# combine the three geodataframes\n",
    "rgi7 = pd.concat([RGI_ss_caucasus, RGI_ss_middle_east, RGI_ss_Turkey])"
   ]
  },
  {
   "cell_type": "markdown",
   "id": "744983c6-351c-41a2-8094-8a4da70944a4",
   "metadata": {},
   "source": [
    "### Some sanity checks "
   ]
  },
  {
   "cell_type": "code",
   "execution_count": 13,
   "id": "a73b8bac-d234-4652-9809-b1d1a981ddf5",
   "metadata": {},
   "outputs": [
    {
     "data": {
      "text/html": [
       "<div>\n",
       "<style scoped>\n",
       "    .dataframe tbody tr th:only-of-type {\n",
       "        vertical-align: middle;\n",
       "    }\n",
       "\n",
       "    .dataframe tbody tr th {\n",
       "        vertical-align: top;\n",
       "    }\n",
       "\n",
       "    .dataframe thead th {\n",
       "        text-align: right;\n",
       "    }\n",
       "</style>\n",
       "<table border=\"1\" class=\"dataframe\">\n",
       "  <thead>\n",
       "    <tr style=\"text-align: right;\">\n",
       "      <th></th>\n",
       "      <th>N</th>\n",
       "      <th>N NA</th>\n",
       "    </tr>\n",
       "    <tr>\n",
       "      <th>subm_id</th>\n",
       "      <th></th>\n",
       "      <th></th>\n",
       "    </tr>\n",
       "  </thead>\n",
       "  <tbody>\n",
       "    <tr>\n",
       "      <th>724</th>\n",
       "      <td>2182</td>\n",
       "      <td>2182</td>\n",
       "    </tr>\n",
       "    <tr>\n",
       "      <th>588</th>\n",
       "      <td>203</td>\n",
       "      <td>203</td>\n",
       "    </tr>\n",
       "    <tr>\n",
       "      <th>662</th>\n",
       "      <td>46</td>\n",
       "      <td>46</td>\n",
       "    </tr>\n",
       "  </tbody>\n",
       "</table>\n",
       "</div>"
      ],
      "text/plain": [
       "            N  N NA\n",
       "subm_id            \n",
       "724      2182  2182\n",
       "588       203   203\n",
       "662        46    46"
      ]
     },
     "execution_count": 13,
     "metadata": {},
     "output_type": "execute_result"
    }
   ],
   "source": [
    "sdf, df_class = submission_summary(rgi7)\n",
    "df_class"
   ]
  },
  {
   "cell_type": "code",
   "execution_count": 14,
   "id": "c92f0d72-0442-42fe-8084-9cdb49e30232",
   "metadata": {},
   "outputs": [],
   "source": [
    "# Check the orphaned rock outcrops\n",
    "orphan_f = os.path.join(data_dir, 'l1_orphan_interiors', f'RGI{reg:02d}', f'RGI{reg:02d}.shp')\n",
    "if os.path.exists(orphan_f):\n",
    "    orphan_f = gpd.read_file(orphan_f)\n",
    "    check = np.isin(rgi7.subm_id.unique(), orphan_f.subm_id.unique())\n",
    "    if np.any(check):\n",
    "        print(f'Orphan rock outcrops detected in subm_id {rgi7.subm_id.unique()[check]}')\n",
    "        orphan_f['area'] = orphan_f.to_crs({'proj':'cea'}).area"
   ]
  },
  {
   "cell_type": "markdown",
   "id": "b1432eab-8171-4607-a10c-cfb127b37f98",
   "metadata": {},
   "source": [
    "### Plots "
   ]
  },
  {
   "cell_type": "code",
   "execution_count": 17,
   "id": "4a1e4836-413c-48a6-a0aa-e1f869559716",
   "metadata": {},
   "outputs": [
    {
     "data": {
      "image/png": "[encoded data removed]",
      "text/plain": [
       "<Figure size 1008x1008 with 1 Axes>"
      ]
     },
     "metadata": {
      "needs_background": "light"
     },
     "output_type": "display_data"
    }
   ],
   "source": [
    "plot_map(rgi7, reg, linewidth=3)"
   ]
  },
  {
   "cell_type": "code",
   "execution_count": 16,
   "id": "3c53ae84-c3f0-40a5-bbfa-a06e8082e94b",
   "metadata": {},
   "outputs": [
    {
     "data": {
      "image/png": "[encoded data removed]",
      "text/plain": [
       "<Figure size 1008x1008 with 1 Axes>"
      ]
     },
     "metadata": {
      "needs_background": "light"
     },
     "output_type": "display_data"
    }
   ],
   "source": [
    "plot_map(rgi7, reg, linewidth=3, is_rgi6=True)"
   ]
  },
  {
   "cell_type": "code",
   "execution_count": 18,
   "id": "f5c30af8-6a45-491b-afec-db03579cdf8c",
   "metadata": {},
   "outputs": [
    {
     "data": {
      "image/png": "[encoded data removed]",
      "text/plain": [
       "<Figure size 720x360 with 1 Axes>"
      ]
     },
     "metadata": {
      "needs_background": "light"
     },
     "output_type": "display_data"
    }
   ],
   "source": [
    "plot_date_hist(rgi7, reg)"
   ]
  },
  {
   "cell_type": "markdown",
   "id": "d73cb25f-5981-4740-a47e-099c784d17ec",
   "metadata": {},
   "source": [
    "### Text for github"
   ]
  },
  {
   "cell_type": "code",
   "execution_count": 19,
   "id": "1fd4d32e-1516-4221-994d-88fa2dcff2a1",
   "metadata": {},
   "outputs": [
    {
     "data": {
      "text/html": [
       "<div>\n",
       "<style scoped>\n",
       "    .dataframe tbody tr th:only-of-type {\n",
       "        vertical-align: middle;\n",
       "    }\n",
       "\n",
       "    .dataframe tbody tr th {\n",
       "        vertical-align: top;\n",
       "    }\n",
       "\n",
       "    .dataframe thead th {\n",
       "        text-align: right;\n",
       "    }\n",
       "</style>\n",
       "<table border=\"1\" class=\"dataframe\">\n",
       "  <thead>\n",
       "    <tr style=\"text-align: right;\">\n",
       "      <th>subm_id</th>\n",
       "      <th>724</th>\n",
       "      <th>588</th>\n",
       "      <th>662</th>\n",
       "    </tr>\n",
       "  </thead>\n",
       "  <tbody>\n",
       "    <tr>\n",
       "      <th>N</th>\n",
       "      <td>2182</td>\n",
       "      <td>203</td>\n",
       "      <td>46</td>\n",
       "    </tr>\n",
       "    <tr>\n",
       "      <th>A</th>\n",
       "      <td>1381.3</td>\n",
       "      <td>39.3</td>\n",
       "      <td>11.5</td>\n",
       "    </tr>\n",
       "    <tr>\n",
       "      <th>analysts</th>\n",
       "      <td>Tielidze</td>\n",
       "      <td>Ashkan, Karimi, Sara</td>\n",
       "      <td>Sarikaya</td>\n",
       "    </tr>\n",
       "    <tr>\n",
       "      <th>submitters</th>\n",
       "      <td>Tielidze</td>\n",
       "      <td>Karimi</td>\n",
       "      <td>Sarikaya</td>\n",
       "    </tr>\n",
       "    <tr>\n",
       "      <th>release_date</th>\n",
       "      <td>2020</td>\n",
       "      <td>2015</td>\n",
       "      <td>2017</td>\n",
       "    </tr>\n",
       "    <tr>\n",
       "      <th>geog_area</th>\n",
       "      <td>Caucausus Region</td>\n",
       "      <td>Iran</td>\n",
       "      <td>Turkey</td>\n",
       "    </tr>\n",
       "    <tr>\n",
       "      <th>src_date_mode</th>\n",
       "      <td>2000</td>\n",
       "      <td>2011</td>\n",
       "      <td>2006</td>\n",
       "    </tr>\n",
       "    <tr>\n",
       "      <th>src_date_min</th>\n",
       "      <td>1999</td>\n",
       "      <td>2011</td>\n",
       "      <td>2004</td>\n",
       "    </tr>\n",
       "    <tr>\n",
       "      <th>src_date_max</th>\n",
       "      <td>2002</td>\n",
       "      <td>2011</td>\n",
       "      <td>2011</td>\n",
       "    </tr>\n",
       "  </tbody>\n",
       "</table>\n",
       "</div>"
      ],
      "text/plain": [
       "subm_id                     724                   588       662\n",
       "N                          2182                   203        46\n",
       "A                        1381.3                  39.3      11.5\n",
       "analysts               Tielidze  Ashkan, Karimi, Sara  Sarikaya\n",
       "submitters             Tielidze                Karimi  Sarikaya\n",
       "release_date               2020                  2015      2017\n",
       "geog_area      Caucausus Region                  Iran    Turkey\n",
       "src_date_mode              2000                  2011      2006\n",
       "src_date_min               1999                  2011      2004\n",
       "src_date_max               2002                  2011      2011"
      ]
     },
     "execution_count": 19,
     "metadata": {},
     "output_type": "execute_result"
    }
   ],
   "source": [
    "fgh = sdf.T\n",
    "fgh"
   ]
  },
  {
   "cell_type": "code",
   "execution_count": 20,
   "id": "3fdc025c-08ab-4d2e-89b1-f4a0e90282fc",
   "metadata": {},
   "outputs": [
    {
     "name": "stdout",
     "output_type": "stream",
     "text": [
      "| subm_id       | 724              | 588                  | 662      |\n",
      "|:--------------|:-----------------|:---------------------|:---------|\n",
      "| N             | 2182             | 203                  | 46       |\n",
      "| A             | 1381.3           | 39.3                 | 11.5     |\n",
      "| analysts      | Tielidze         | Ashkan, Karimi, Sara | Sarikaya |\n",
      "| submitters    | Tielidze         | Karimi               | Sarikaya |\n",
      "| release_date  | 2020             | 2015                 | 2017     |\n",
      "| geog_area     | Caucausus Region | Iran                 | Turkey   |\n",
      "| src_date_mode | 2000             | 2011                 | 2006     |\n",
      "| src_date_min  | 1999             | 2011                 | 2004     |\n",
      "| src_date_max  | 2002             | 2011                 | 2011     |\n"
     ]
    }
   ],
   "source": [
    "print(fgh.to_markdown(headers=np.append(['subm_id'], fgh.columns)))"
   ]
  },
  {
   "cell_type": "markdown",
   "id": "0a567e3f-1dc6-4bda-9e36-a5912436fb39",
   "metadata": {},
   "source": [
    "## Write out and tar "
   ]
  },
  {
   "cell_type": "code",
   "execution_count": 21,
   "id": "92f00d6e-9218-4474-8af5-87b714733444",
   "metadata": {},
   "outputs": [
    {
     "name": "stdout",
     "output_type": "stream",
     "text": [
      "Writing...\n",
      "Taring...\n",
      "CompletedProcess(args=['tar', '-zcvf', '../../rgi7_data/l3_rgi7a_tar/RGI12.tar.gz', '-C', '../../rgi7_data/l3_rgi7a', 'RGI12'], returncode=0)\n"
     ]
    }
   ],
   "source": [
    "dd = mkdir(f'{output_dir}/RGI{reg:02d}/', reset=True)\n",
    "\n",
    "print('Writing...')\n",
    "rgi7.to_file(dd + f'RGI{reg:02d}.shp')\n",
    "\n",
    "print('Taring...')\n",
    "print(subprocess.run(['tar', '-zcvf', f'{output_dir_tar}/RGI{reg:02d}.tar.gz', '-C', output_dir, f'RGI{reg:02d}']))"
   ]
  },
  {
   "cell_type": "code",
   "execution_count": 22,
   "id": "resistant-digest",
   "metadata": {},
   "outputs": [],
   "source": [
    "# combine the three geodataframes\n",
    "RGI_ss = pd.concat([RGI_ss_caucasus, RGI_ss_middle_east, RGI_ss_Turkey])"
   ]
  },
  {
   "cell_type": "markdown",
   "id": "matched-mailing",
   "metadata": {},
   "source": [
    "## New RGI-file created - Check result!"
   ]
  },
  {
   "cell_type": "markdown",
   "id": "proprietary-african",
   "metadata": {},
   "source": [
    "### load reference data (here RGI6) to enable comparison"
   ]
  },
  {
   "cell_type": "code",
   "execution_count": 23,
   "id": "controlling-drunk",
   "metadata": {},
   "outputs": [],
   "source": [
    "# load reference data\n",
    "from utils import open_zip_shapefile\n",
    "ref_odf = open_zip_shapefile(rgi6_reg_file)"
   ]
  },
  {
   "cell_type": "markdown",
   "id": "demanding-commonwealth",
   "metadata": {},
   "source": [
    "## Compare new RGI7-file to RGI6"
   ]
  },
  {
   "cell_type": "markdown",
   "id": "polar-satisfaction",
   "metadata": {},
   "source": [
    "### Number of elements (differences do not necessarily depict major problems)"
   ]
  },
  {
   "cell_type": "code",
   "execution_count": 24,
   "id": "fallen-flush",
   "metadata": {},
   "outputs": [
    {
     "name": "stdout",
     "output_type": "stream",
     "text": [
      "Number of glaciers in new RGI: 2431\n",
      "Number of glaciers in RGI6: 1888\n",
      "Difference: 543\n"
     ]
    }
   ],
   "source": [
    "print('Number of glaciers in new RGI:', len(rgi7))\n",
    "print('Number of glaciers in RGI6:', len(ref_odf))\n",
    "print('Difference:', len(rgi7)-len(ref_odf))"
   ]
  },
  {
   "cell_type": "markdown",
   "id": "computational-document",
   "metadata": {},
   "source": [
    "### How many nominal glaciers were there in RGI06-R12?"
   ]
  },
  {
   "cell_type": "code",
   "execution_count": 25,
   "id": "quality-person",
   "metadata": {},
   "outputs": [
    {
     "data": {
      "text/plain": [
       "339"
      ]
     },
     "execution_count": 25,
     "metadata": {},
     "output_type": "execute_result"
    }
   ],
   "source": [
    "len(ref_odf.loc[ref_odf.Status == 2])"
   ]
  },
  {
   "cell_type": "markdown",
   "id": "signal-placement",
   "metadata": {},
   "source": [
    "### Total area"
   ]
  },
  {
   "cell_type": "code",
   "execution_count": 26,
   "id": "banned-operations",
   "metadata": {},
   "outputs": [],
   "source": [
    "# add an area field to RGI_ss and reference data\n",
    "ref_odf['area'] = ref_odf.to_crs({'proj':'cea'}).area"
   ]
  },
  {
   "cell_type": "code",
   "execution_count": 27,
   "id": "blocked-thickness",
   "metadata": {},
   "outputs": [
    {
     "name": "stdout",
     "output_type": "stream",
     "text": [
      "Area RGI7 [km²]: 1432.073533926547\n",
      "Area RGI6 [km²]: 1306.999710204219\n",
      "Area difference [km²]: 125.07382372232814\n"
     ]
    }
   ],
   "source": [
    "# print and compare area values\n",
    "Area_RGI = rgi7['area'].sum() * 1e-6\n",
    "print('Area RGI7 [km²]:', Area_RGI)\n",
    "Area_ref = ref_odf['area'].sum() * 1e-6\n",
    "print('Area RGI6 [km²]:', Area_ref)\n",
    "d = (Area_RGI - Area_ref)\n",
    "print('Area difference [km²]:', d)"
   ]
  },
  {
   "cell_type": "markdown",
   "id": "baking-judge",
   "metadata": {},
   "source": [
    "### Here starts the comparison `RGI7a` with the original `Levan` dataset:  \n",
    "\n",
    "The data is downloaded comes from https://zenodo.org/record/5116329#.YXqvaL9Byit\n",
    "\n",
    "Download: https://zenodo.org/record/5116329/files/CAUCASUS_GLACIERS_2000_2020_Tielidze%20et%20al.%202021.zip?download=1"
   ]
  },
  {
   "cell_type": "code",
   "execution_count": 36,
   "id": "a853259a-f761-40cf-8470-5d6c9341a509",
   "metadata": {},
   "outputs": [],
   "source": [
    "ref_df = []\n",
    "for fname in ['CAU_GLAC_AZER_2000', 'CAU_GLAC_GEO_2000', 'CAU_GLAC_RUS_2000']:\n",
    "    ref_df.append(open_zip_shapefile(os.path.join(support_dir, 'levan_2000.zip'), include_pattern=fname))\n",
    "ref_df = pd.concat(ref_df)\n",
    "\n",
    "ref_df = ref_df.to_crs(RGI_ss_caucasus.crs)"
   ]
  },
  {
   "cell_type": "code",
   "execution_count": 37,
   "id": "44531996-dc51-47c0-a9b6-fb9e8d2f98b2",
   "metadata": {},
   "outputs": [],
   "source": [
    "# add an area field to RGI_ss and reference data\n",
    "RGI_ss_caucasus['area'] = RGI_ss_caucasus.to_crs({'proj':'cea'}).area\n",
    "ref_df['area'] = ref_df.to_crs({'proj':'cea'}).area"
   ]
  },
  {
   "cell_type": "code",
   "execution_count": 38,
   "id": "341bf523-fc0e-483d-bb26-5e8fdff75410",
   "metadata": {},
   "outputs": [
    {
     "name": "stdout",
     "output_type": "stream",
     "text": [
      "2186\n",
      "2183\n"
     ]
    }
   ],
   "source": [
    "# Select by size\n",
    "print(len(ref_df))\n",
    "ref_df = ref_df.loc[np.round(ref_df['area'] * 1e-6, 3) >= 0.01]\n",
    "print(len(ref_df))"
   ]
  },
  {
   "cell_type": "markdown",
   "id": "advance-symbol",
   "metadata": {},
   "source": [
    "We compare to the caucasus RGI only:"
   ]
  },
  {
   "cell_type": "code",
   "execution_count": 39,
   "id": "remarkable-style",
   "metadata": {},
   "outputs": [
    {
     "name": "stdout",
     "output_type": "stream",
     "text": [
      "Number of glaciers in new RGI7 subset: 2182\n",
      "Number of glaciers in reference data (lev): 2183\n",
      "Difference: -1\n"
     ]
    }
   ],
   "source": [
    "print('Number of glaciers in new RGI7 subset:', len(RGI_ss_caucasus))\n",
    "print('Number of glaciers in reference data (lev):', len(ref_df))\n",
    "print('Difference:', len(RGI_ss_caucasus)-len(ref_df))"
   ]
  },
  {
   "cell_type": "code",
   "execution_count": 40,
   "id": "understood-economy",
   "metadata": {},
   "outputs": [
    {
     "name": "stdout",
     "output_type": "stream",
     "text": [
      "Area RGI [km²]: 1381.2958167278275\n",
      "Area Ref (lev) [km²]: 1381.4375931809755\n",
      "Area difference [km²]: -0.14177645314794063\n"
     ]
    }
   ],
   "source": [
    "# print and compare area values\n",
    "Area_RGI = RGI_ss_caucasus['area'].sum() * 1e-6\n",
    "print('Area RGI [km²]:', Area_RGI)\n",
    "Area_lev = ref_df['area'].sum() * 1e-6\n",
    "print('Area Ref (lev) [km²]:', Area_lev)\n",
    "d = (Area_RGI - Area_lev)\n",
    "print('Area difference [km²]:', d)"
   ]
  },
  {
   "cell_type": "markdown",
   "id": "mechanical-interaction",
   "metadata": {},
   "source": [
    "### Find the missing glacier "
   ]
  },
  {
   "cell_type": "code",
   "execution_count": 41,
   "id": "established-sunset",
   "metadata": {},
   "outputs": [],
   "source": [
    "from utils import haversine\n",
    "import progressbar\n",
    "\n",
    "# Make a copy of the data\n",
    "df_ref = ref_df.copy()\n",
    "rgi7 = RGI_ss_caucasus.copy()\n",
    "\n",
    "# Prepare the data\n",
    "def xy_coord(geom):\n",
    "    \"\"\"To compute CenLon CenLat ourselves\"\"\"\n",
    "    x, y = geom.xy\n",
    "    return x[0], y[0]\n",
    "\n",
    "# compute CenLon CenLat ourselves\n",
    "rp = df_ref.representative_point()\n",
    "coordinates = np.array(list(rp.apply(xy_coord)))\n",
    "df_ref['CenLon'] = coordinates[:, 0]\n",
    "df_ref['CenLat'] = coordinates[:, 1]\n",
    "\n",
    "rp = rgi7.representative_point()\n",
    "coordinates = np.array(list(rp.apply(xy_coord)))\n",
    "rgi7['CenLon'] = coordinates[:, 0]\n",
    "rgi7['CenLat'] = coordinates[:, 1]"
   ]
  },
  {
   "cell_type": "code",
   "execution_count": 42,
   "id": "unlike-prison",
   "metadata": {},
   "outputs": [
    {
     "name": "stderr",
     "output_type": "stream",
     "text": [
      "100% (2182 of 2182) |####################| Elapsed Time: 0:00:00 Time:  0:00:00\n"
     ]
    }
   ],
   "source": [
    "# Start with the easy cases\n",
    "df_ref_orig = df_ref.copy()\n",
    "# Compute the distance to the next closest\n",
    "distances = np.empty_like(rgi7.CenLon.values)\n",
    "other_id = np.empty(len(rgi7.CenLon.values), dtype=int)\n",
    "area_other = np.empty_like(rgi7.CenLon.values)\n",
    "for i, (ref_area, lon, lat) in progressbar.progressbar(enumerate(zip(rgi7['area'].values, rgi7.CenLon.values, rgi7.CenLat.values)), max_value=len(rgi7)):\n",
    "    dist = (lon - df_ref.CenLon.values)**2 + (lat - df_ref.CenLat.values)**2 \n",
    "    id0 = np.argsort(dist)[0]\n",
    "    distances[i] = dist[id0]\n",
    "    other_id[i] = id0\n",
    "    s6 = df_ref.iloc[id0]\n",
    "    area_other[i] = s6['area']\n",
    "\n",
    "rgi7['distance'] = distances\n",
    "rgi7['other_id'] = other_id\n",
    "rgi7['area_other'] = area_other"
   ]
  },
  {
   "cell_type": "code",
   "execution_count": 43,
   "id": "90dbc8b9-4808-4cc8-bbb2-993240f2abdf",
   "metadata": {},
   "outputs": [
    {
     "data": {
      "text/plain": [
       "(6.424161820367166e-08, 2.7168145182984655e-06)"
      ]
     },
     "execution_count": 43,
     "metadata": {},
     "output_type": "execute_result"
    }
   ],
   "source": [
    "rgi7['distance'].mean(), rgi7['distance'].std()"
   ]
  },
  {
   "cell_type": "code",
   "execution_count": 44,
   "id": "46fa2fdf-d314-4948-b2df-0feb187ea126",
   "metadata": {},
   "outputs": [],
   "source": [
    "not_ok = rgi7.loc[rgi7['distance'] >  (rgi7['distance'].mean() + rgi7['distance'].std())]"
   ]
  },
  {
   "cell_type": "code",
   "execution_count": 45,
   "id": "b2d012e2-985b-415e-a5d1-448e38b2c770",
   "metadata": {},
   "outputs": [
    {
     "data": {
      "image/png": "[encoded data removed]",
      "text/plain": [
       "<Figure size 432x288 with 1 Axes>"
      ]
     },
     "metadata": {
      "needs_background": "light"
     },
     "output_type": "display_data"
    }
   ],
   "source": [
    "not_ok.plot(edgecolor='k');"
   ]
  },
  {
   "cell_type": "code",
   "execution_count": 46,
   "id": "64b4da6d-013e-4091-b0f2-2be405826bd5",
   "metadata": {},
   "outputs": [
    {
     "data": {
      "image/png": "[encoded data removed]",
      "text/plain": [
       "<Figure size 432x288 with 1 Axes>"
      ]
     },
     "metadata": {
      "needs_background": "light"
     },
     "output_type": "display_data"
    }
   ],
   "source": [
    "df_ref.iloc[not_ok.other_id].plot(edgecolor='k');"
   ]
  },
  {
   "cell_type": "markdown",
   "id": "bb86e123-7cb1-407b-b432-08d0551941fc",
   "metadata": {},
   "source": [
    "Email from Levan:\n",
    "\n",
    "This error is due to different views on the definition of the margins of the Garabashi Glacier.\n",
    "\n",
    "While working on our preprint, I was advised by Russian colleagues to modify the margins of Garabashi Glacier (and thus Azay and Terskol as neighbouring glaciers) before submitting to Zenodo. Mind you, that the database was already submitted to GLIMS at that time .\n",
    "\n",
    "The Russian colleagues considered it important to keep the glacier boundaries in our Zenodo database consistent with in-situ measurements because Garabashi is one of the representative glaciers in the WGMS and this will be important for future comparisons (e.g. glaciological mass balance vs geodetic one).\n",
    "\n",
    "To conclude, the outlines of Garabashi, Azay, and Terskol glaciers are more comprehensive in Zenodo (see attached) than those in GLIMS. However, the rest of the glaciers in both databases are the same.\n",
    "\n",
    "I know, this sounds a bit annoying, but perhaps Bruce wants to replace them in GLIMS database as well? If so, I'm attaching the shp file of just those three glaciers.\n",
    "Sorry Bruce about it, but this was not only my fault :) and thank you Fabien again for pointing this out."
   ]
  },
  {
   "cell_type": "markdown",
   "id": "0d7db227-7aa4-447d-b966-3511980f4f78",
   "metadata": {},
   "source": [
    "### OK. Rest of the checks "
   ]
  },
  {
   "cell_type": "code",
   "execution_count": 47,
   "id": "682a2293-b582-473a-8dca-1dd0b50392ab",
   "metadata": {},
   "outputs": [
    {
     "data": {
      "text/plain": [
       "(40.935553999999996, 41.16944)"
      ]
     },
     "execution_count": 47,
     "metadata": {},
     "output_type": "execute_result"
    }
   ],
   "source": [
    "RGI_ss_Turkey.CenLat.max(), RGI_ss_caucasus.CenLat.min()"
   ]
  },
  {
   "cell_type": "markdown",
   "id": "780c415a-abf8-47a0-832a-ea6743016b8d",
   "metadata": {},
   "source": [
    "Perfect, we can just separate the RGI6 based on that."
   ]
  },
  {
   "cell_type": "code",
   "execution_count": 48,
   "id": "cc63b334-0305-4e18-b433-36d18d2e4569",
   "metadata": {},
   "outputs": [],
   "source": [
    "rgi6 = open_zip_shapefile(rgi6_reg_file)"
   ]
  },
  {
   "cell_type": "code",
   "execution_count": 49,
   "id": "ed2f3ec2-5795-48b2-bdc3-964da3a38bfe",
   "metadata": {},
   "outputs": [],
   "source": [
    "new = pd.concat([RGI_ss_middle_east, RGI_ss_Turkey])\n",
    "rgi6 = rgi6.loc[rgi6.CenLat < 41]\n",
    "rgi6['area'] = rgi6.to_crs({'proj':'cea'}).area"
   ]
  },
  {
   "cell_type": "code",
   "execution_count": 50,
   "id": "3d2165a7-5bcc-4b65-9306-a0ff724b6cc6",
   "metadata": {},
   "outputs": [
    {
     "name": "stdout",
     "output_type": "stream",
     "text": [
      "Number of glaciers in new RGI7 subset: 249\n",
      "Number of glaciers in reference data (RGI6): 251\n",
      "Difference: -2\n"
     ]
    }
   ],
   "source": [
    "print('Number of glaciers in new RGI7 subset:', len(new))\n",
    "print('Number of glaciers in reference data (RGI6):', len(rgi6))\n",
    "print('Difference:', len(new)-len(rgi6))"
   ]
  },
  {
   "cell_type": "code",
   "execution_count": 51,
   "id": "4eff0797-366d-4102-bfde-671f842207b7",
   "metadata": {},
   "outputs": [
    {
     "name": "stdout",
     "output_type": "stream",
     "text": [
      "Area RGI7 [km²]: 50.77771719871948\n",
      "Area RGI6 [km²]: 51.36586023337505\n",
      "Area difference [km²]: -0.5881430346555732\n"
     ]
    }
   ],
   "source": [
    "# print and compare area values\n",
    "Area_RGI7 = new['area'].sum() * 1e-6\n",
    "print('Area RGI7 [km²]:', Area_RGI7)\n",
    "Area_RGI6 = rgi6['area'].sum() * 1e-6\n",
    "print('Area RGI6 [km²]:', Area_RGI6)\n",
    "d = (Area_RGI7 - Area_RGI6)\n",
    "print('Area difference [km²]:', d)"
   ]
  },
  {
   "cell_type": "markdown",
   "id": "bb9a3532-74ca-4194-835a-ca666ff44d8e",
   "metadata": {},
   "source": [
    "OK we can live with that. "
   ]
  }
 ],
 "metadata": {
  "kernelspec": {
   "display_name": "Python 3",
   "language": "python",
   "name": "python3"
  },
  "language_info": {
   "codemirror_mode": {
    "name": "ipython",
    "version": 3
   },
   "file_extension": ".py",
   "mimetype": "text/x-python",
   "name": "python",
   "nbconvert_exporter": "python",
   "pygments_lexer": "ipython3",
   "version": "3.8.8"
  }
 },
 "nbformat": 4,
 "nbformat_minor": 5
}
