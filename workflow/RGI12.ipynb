{
 "cells": [
  {
   "cell_type": "markdown",
   "id": "initial-utilization",
   "metadata": {},
   "source": [
    "# RGI-07: Region 12 (Caucasus and Middle East)\n",
    "\n",
    "F. Maussion & S. Galos, June 2021"
   ]
  },
  {
   "cell_type": "code",
   "execution_count": 2,
   "id": "federal-phrase",
   "metadata": {},
   "outputs": [],
   "source": [
    "import geopandas as gpd\n",
    "import pandas as pd\n",
    "import matplotlib.pyplot as plt\n",
    "import subprocess\n",
    "import os\n",
    "from utils import mkdir"
   ]
  },
  {
   "cell_type": "markdown",
   "id": "young-linux",
   "metadata": {},
   "source": [
    "## Files and storage paths"
   ]
  },
  {
   "cell_type": "code",
   "execution_count": 13,
   "id": "surprised-capacity",
   "metadata": {},
   "outputs": [],
   "source": [
    "# Region of interest\n",
    "reg = 12\n",
    "\n",
    "# go down from rgi7_scripts/workflow\n",
    "data_dir = '../../rgi7_data/'\n",
    "\n",
    "# Level 2 GLIMS files\n",
    "l2_dir = os.path.join(data_dir, 'l2_sel_reg_tars')\n",
    "\n",
    "# Output directories\n",
    "output_dir = mkdir(os.path.join(data_dir, 'l3_rgi7a'))\n",
    "output_dir_tar = mkdir(os.path.join(data_dir, 'l3_rgi7a_tar'))\n",
    "\n",
    "# RGI v6 file for comparison later \n",
    "rgi6_reg_file = os.path.join(data_dir, 'l0_RGIv6', '12_rgi60_CaucasusMiddleEast.zip')"
   ]
  },
  {
   "cell_type": "code",
   "execution_count": 14,
   "id": "hungry-utilization",
   "metadata": {},
   "outputs": [],
   "source": [
    "# Specific to this region: boxes where data has to be selected differently\n",
    "support_dir = os.path.join(data_dir, 'l0_support_data')\n",
    "box_file = os.path.join(support_dir, 'RGI07_R12_UCA.tar.gz')"
   ]
  },
  {
   "cell_type": "markdown",
   "id": "useful-period",
   "metadata": {},
   "source": [
    "### Load the input data"
   ]
  },
  {
   "cell_type": "code",
   "execution_count": 8,
   "id": "original-childhood",
   "metadata": {},
   "outputs": [],
   "source": [
    "# Read L2 files\n",
    "shp = gpd.read_file('tar://' + l2_dir + f'/RGI{reg:02d}.tar.gz/RGI{reg:02d}/RGI{reg:02d}.shp')"
   ]
  },
  {
   "cell_type": "markdown",
   "id": "acknowledged-check",
   "metadata": {},
   "source": [
    "### Apply selection criteria to create the RGI7 data subset"
   ]
  },
  {
   "cell_type": "code",
   "execution_count": 9,
   "id": "capital-disclosure",
   "metadata": {},
   "outputs": [
    {
     "data": {
      "text/plain": [
       "2021"
      ]
     },
     "execution_count": 9,
     "metadata": {},
     "output_type": "execute_result"
    }
   ],
   "source": [
    "# try to get the data relevant for RGI07 and select by attributes - \n",
    "# for Caucasus we use 'subm_id' 642 by analyst 'Tielidze, Levan' which corresponds to the most recent (ca. 2013)\n",
    "# of three available data sets for Caucasus by this anayst (others are from around 1960 and appr. 1985 respectively)\n",
    "RGI_ss_caucasus = shp.loc[shp['subm_id'] == 642]\n",
    "len(RGI_ss_caucasus)"
   ]
  },
  {
   "cell_type": "code",
   "execution_count": 10,
   "id": "professional-check",
   "metadata": {},
   "outputs": [
    {
     "data": {
      "text/plain": [
       "484"
      ]
     },
     "execution_count": 10,
     "metadata": {},
     "output_type": "execute_result"
    }
   ],
   "source": [
    "# try to get the data relevant for RGI07 and select by attributes - for Middle East: 'subm_id' 588 ()\n",
    "RGI_ss_middle_east = shp.loc[shp['subm_id'] == 588]\n",
    "len(RGI_ss_middle_east)"
   ]
  },
  {
   "cell_type": "code",
   "execution_count": 30,
   "id": "satisfied-grace",
   "metadata": {},
   "outputs": [
    {
     "data": {
      "text/plain": [
       "line_type                                            glac_bound\n",
       "anlys_id                                               297051.0\n",
       "glac_id                                          G049337E33320N\n",
       "anlys_time                                  2014-07-05T00:00:00\n",
       "area                                                4651.577985\n",
       "db_area                                                0.004652\n",
       "width                                                       0.0\n",
       "length                                                      0.0\n",
       "primeclass                                                  0.0\n",
       "min_elev                                                    0.0\n",
       "mean_elev                                                   0.0\n",
       "max_elev                                                    0.0\n",
       "src_date                                    2011-09-01T00:00:00\n",
       "rec_status                                                 okay\n",
       "glac_name                                                  None\n",
       "wgms_id                                                    None\n",
       "local_id                               GR49.3363E33.3198N_Osh15\n",
       "glac_stat                                                exists\n",
       "subm_id                                                   588.0\n",
       "release_dt                                  2015-03-06T09:00:00\n",
       "proc_desc     Image band ratio method for clean ice; thermal...\n",
       "rc_id                                                      23.0\n",
       "geog_area                                                  Iran\n",
       "chief_affl                  K.N. Toosi University of Technology\n",
       "loc_unc_x                                                    50\n",
       "loc_unc_y                                                    50\n",
       "glob_unc_x                                                   80\n",
       "glob_unc_y                                                   80\n",
       "submitters                                       Karimi, Neamat\n",
       "analysts      Ashkan, Farokhnia; Karimi, Neamat; Sara, Shesh...\n",
       "CenLon                                                44.044156\n",
       "CenLat                                                42.756165\n",
       "geometry      POLYGON Z ((49.336855 33.320444 0, 49.336874 3...\n",
       "Name: 1299, dtype: object"
      ]
     },
     "execution_count": 30,
     "metadata": {},
     "output_type": "execute_result"
    }
   ],
   "source": [
    "RGI_ss_middle_east.iloc[0]"
   ]
  },
  {
   "cell_type": "code",
   "execution_count": 11,
   "id": "annual-newfoundland",
   "metadata": {},
   "outputs": [],
   "source": [
    "# combine the two geodataframes\n",
    "RGI_ss = RGI_ss_caucasus.append(RGI_ss_middle_east)"
   ]
  },
  {
   "cell_type": "markdown",
   "id": "coated-fraction",
   "metadata": {},
   "source": [
    "### Should we add some 1985 glaciers for completeness?"
   ]
  },
  {
   "cell_type": "markdown",
   "id": "removed-variety",
   "metadata": {},
   "source": [
    "Hugonnet et al made a subjective choice to add some 1985 glaciers... should we as well?"
   ]
  },
  {
   "cell_type": "code",
   "execution_count": 12,
   "id": "incident-inspiration",
   "metadata": {},
   "outputs": [],
   "source": [
    "# We decided not to for now\n",
    "# EG:\n",
    "# RGI_ss_caucasus_1985 = shp.loc[shp['subm_id'] == 644]\n",
    "# len(RGI_ss_caucasus_1985)"
   ]
  },
  {
   "cell_type": "markdown",
   "id": "economic-pricing",
   "metadata": {},
   "source": [
    "### Should we add missing glaciers (only a few in peripheral areas) based on RGI06?"
   ]
  },
  {
   "cell_type": "markdown",
   "id": "leading-contrast",
   "metadata": {},
   "source": [
    "This is done based on a manually created shapefile mask containing the few glacierized areas not considered in the above data. Note that many of the glaciers added by this procedure are not glaciers by common definition but rock glaciers or even areas without ice in reality. Apart from that, outlines partly suffer from incorrect spatial positioning etc...  "
   ]
  },
  {
   "cell_type": "code",
   "execution_count": 16,
   "id": "adolescent-staff",
   "metadata": {},
   "outputs": [],
   "source": [
    "# load a shapefile containing polygons which define areas uncovered by newly created RGI07 file\n",
    "UCA = gpd.read_file('tar://' + box_file + '/RGI07_R12_UCA/RGI07_R12_UCA.shp')"
   ]
  },
  {
   "cell_type": "code",
   "execution_count": 17,
   "id": "extended-beach",
   "metadata": {},
   "outputs": [],
   "source": [
    "# extract glacier outlines for regions mentioned above from glims data\n",
    "df_UCA = gpd.overlay(shp, UCA, how='intersection')"
   ]
  },
  {
   "cell_type": "code",
   "execution_count": 18,
   "id": "killing-knock",
   "metadata": {},
   "outputs": [],
   "source": [
    "# select submission ID of interesst (for RGI07 only subm_ID 662 available)\n",
    "df_UCA = df_UCA.loc[df_UCA['subm_id']== 662]"
   ]
  },
  {
   "cell_type": "code",
   "execution_count": 19,
   "id": "arbitrary-familiar",
   "metadata": {},
   "outputs": [],
   "source": [
    "# append df_UCA to RGI_ss\n",
    "RGI_ss = RGI_ss.append(df_UCA, sort = False);"
   ]
  },
  {
   "cell_type": "markdown",
   "id": "radio-eligibility",
   "metadata": {},
   "source": [
    "## Write out and tar "
   ]
  },
  {
   "cell_type": "code",
   "execution_count": 20,
   "id": "presidential-myanmar",
   "metadata": {},
   "outputs": [
    {
     "name": "stdout",
     "output_type": "stream",
     "text": [
      "Writing...\n",
      "Taring...\n",
      "CompletedProcess(args=['tar', '-zcvf', '../../rgi7_data/l3_rgi7a_tar/RGI12.tar.gz', '-C', '../../rgi7_data/l3_rgi7a', 'RGI12'], returncode=0)\n"
     ]
    }
   ],
   "source": [
    "dd = mkdir(f'{output_dir}/RGI{reg:02d}/', reset=True)\n",
    "\n",
    "print('Writing...')\n",
    "RGI_ss.to_file(dd + f'RGI{reg:02d}.shp')\n",
    "\n",
    "print('Taring...')\n",
    "print(subprocess.run(['tar', '-zcvf', f'{output_dir_tar}/RGI{reg:02d}.tar.gz', '-C', output_dir, f'RGI{reg:02d}']))"
   ]
  },
  {
   "cell_type": "markdown",
   "id": "educational-front",
   "metadata": {},
   "source": [
    "## New RGI-file created - Check result!"
   ]
  },
  {
   "cell_type": "markdown",
   "id": "signal-dining",
   "metadata": {},
   "source": [
    "### load reference data (here RGI6) to enable comparison"
   ]
  },
  {
   "cell_type": "code",
   "execution_count": 21,
   "id": "passing-monroe",
   "metadata": {},
   "outputs": [],
   "source": [
    "# Just to know the name of the file to open from zip\n",
    "import zipfile\n",
    "with zipfile.ZipFile(rgi6_reg_file, \"r\") as z:\n",
    "    for f in z.filelist:\n",
    "        if '.shp' in f.filename:\n",
    "            fname = f.filename\n",
    "\n",
    "# load reference data\n",
    "ref_odf = gpd.read_file('zip://' + rgi6_reg_file + '/' + fname)"
   ]
  },
  {
   "cell_type": "markdown",
   "id": "caring-natural",
   "metadata": {},
   "source": [
    "## Compare new RGI-file and reference data set "
   ]
  },
  {
   "cell_type": "markdown",
   "id": "dying-favor",
   "metadata": {},
   "source": [
    "### Number of elements (differences do not necessarily depict major problems)"
   ]
  },
  {
   "cell_type": "code",
   "execution_count": 24,
   "id": "elementary-inspiration",
   "metadata": {},
   "outputs": [
    {
     "name": "stdout",
     "output_type": "stream",
     "text": [
      "Number of glaciers in new RGI subset: 2556\n",
      "Number of glaciers in reference data: 1888\n",
      "Difference: 668\n"
     ]
    }
   ],
   "source": [
    "print('Number of glaciers in new RGI subset:', len(RGI_ss))\n",
    "print('Number of glaciers in reference data:', len(ref_odf))\n",
    "print('Difference:', len(RGI_ss)-len(ref_odf))"
   ]
  },
  {
   "cell_type": "markdown",
   "id": "peaceful-delta",
   "metadata": {},
   "source": [
    "### How many nominal glaciers were there in RGI06-R12?"
   ]
  },
  {
   "cell_type": "code",
   "execution_count": 25,
   "id": "unlimited-officer",
   "metadata": {},
   "outputs": [
    {
     "data": {
      "text/plain": [
       "339"
      ]
     },
     "execution_count": 25,
     "metadata": {},
     "output_type": "execute_result"
    }
   ],
   "source": [
    "len(ref_odf.loc[ref_odf.Status == 2])"
   ]
  },
  {
   "cell_type": "markdown",
   "id": "worthy-liquid",
   "metadata": {},
   "source": [
    "### Total area"
   ]
  },
  {
   "cell_type": "code",
   "execution_count": 26,
   "id": "going-ethernet",
   "metadata": {},
   "outputs": [],
   "source": [
    "# add an area field to RGI_ss and reference data\n",
    "RGI_ss['area'] = RGI_ss.to_crs({'proj':'cea'}).area\n",
    "ref_odf['area'] = ref_odf.to_crs({'proj':'cea'}).area"
   ]
  },
  {
   "cell_type": "code",
   "execution_count": 27,
   "id": "periodic-lincoln",
   "metadata": {},
   "outputs": [
    {
     "name": "stdout",
     "output_type": "stream",
     "text": [
      "Area RGI [km²]: 1246.2573226628851\n",
      "Area Ref [km²]: 1306.999710204219\n",
      "Area difference [km²]: -60.742387541333756\n"
     ]
    }
   ],
   "source": [
    "# print and compare area values\n",
    "Area_RGI = RGI_ss['area'].sum() * 1e-6\n",
    "print('Area RGI [km²]:', Area_RGI)\n",
    "Area_ref = ref_odf['area'].sum() * 1e-6\n",
    "print('Area Ref [km²]:', Area_ref)\n",
    "d = (Area_RGI - Area_ref)\n",
    "print('Area difference [km²]:', d)"
   ]
  },
  {
   "cell_type": "markdown",
   "id": "civil-quality",
   "metadata": {},
   "source": [
    "# End of revised noteboook"
   ]
  }
 ],
 "metadata": {
  "kernelspec": {
   "display_name": "Python 3",
   "language": "python",
   "name": "python3"
  },
  "language_info": {
   "codemirror_mode": {
    "name": "ipython",
    "version": 3
   },
   "file_extension": ".py",
   "mimetype": "text/x-python",
   "name": "python",
   "nbconvert_exporter": "python",
   "pygments_lexer": "ipython3",
   "version": "3.8.8"
  }
 },
 "nbformat": 4,
 "nbformat_minor": 5
}
