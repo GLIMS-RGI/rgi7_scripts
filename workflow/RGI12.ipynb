{
 "cells": [
  {
   "cell_type": "markdown",
   "id": "lesser-sociology",
   "metadata": {},
   "source": [
    "# RGI-07: Region 12 (Caucasus and Middle East)\n",
    "\n",
    "F. Maussion & Francesc Roura Adserias & S. Galos, June 2021"
   ]
  },
  {
   "cell_type": "code",
   "execution_count": 1,
   "id": "electoral-expense",
   "metadata": {},
   "outputs": [],
   "source": [
    "import geopandas as gpd\n",
    "import pandas as pd\n",
    "import matplotlib.pyplot as plt\n",
    "import subprocess\n",
    "import os\n",
    "from utils import mkdir"
   ]
  },
  {
   "cell_type": "markdown",
   "id": "proprietary-armor",
   "metadata": {},
   "source": [
    "## Files and storage paths"
   ]
  },
  {
   "cell_type": "code",
   "execution_count": 2,
   "id": "silent-charger",
   "metadata": {},
   "outputs": [],
   "source": [
    "# Region of interest \n",
    "reg = 12\n",
    "\n",
    "# go down from rgi7_scripts/workflow\n",
    "data_dir = '../../rgi7_data/'\n",
    "\n",
    "# Level 2 GLIMS files\n",
    "l2_dir = os.path.join(data_dir, 'l2_sel_reg_tars')\n",
    "\n",
    "# Output directories\n",
    "output_dir = mkdir(os.path.join(data_dir, 'l3_rgi7a'))\n",
    "output_dir_tar = mkdir(os.path.join(data_dir, 'l3_rgi7a_tar'))\n",
    "\n",
    "# RGI v6 file for comparison later \n",
    "rgi6_reg_file = os.path.join(data_dir, 'l0_RGIv6', '12_rgi60_CaucasusMiddleEast.zip')"
   ]
  },
  {
   "cell_type": "code",
   "execution_count": 3,
   "id": "color-sacramento",
   "metadata": {},
   "outputs": [],
   "source": [
    "# Specific to this region: boxes where data has to be selected differently\n",
    "support_dir = os.path.join(data_dir, 'l0_support_data')"
   ]
  },
  {
   "cell_type": "markdown",
   "id": "interior-driving",
   "metadata": {},
   "source": [
    "### Load the input data"
   ]
  },
  {
   "cell_type": "code",
   "execution_count": 4,
   "id": "mounted-broadway",
   "metadata": {},
   "outputs": [],
   "source": [
    "# Read L2 files\n",
    "shp = gpd.read_file('tar://' + l2_dir + f'/RGI{reg:02d}.tar.gz/RGI{reg:02d}/RGI{reg:02d}.shp')"
   ]
  },
  {
   "cell_type": "markdown",
   "id": "lightweight-confusion",
   "metadata": {},
   "source": [
    "### List of submissions "
   ]
  },
  {
   "cell_type": "code",
   "execution_count": 5,
   "id": "returning-regression",
   "metadata": {},
   "outputs": [
    {
     "name": "stdout",
     "output_type": "stream",
     "text": [
      " 76.0 Nosenko, Gennadi (Gennady) 2004\n",
      " 79.0 Nosenko, Gennadi (Gennady) 2004\n",
      " 81.0 Nosenko, Gennadi (Gennady) 2004\n",
      " 83.0 Nosenko, Gennadi (Gennady) 2004\n",
      " 87.0 Nosenko, Gennadi (Gennady) 2004\n",
      " 327.0 Khromova, Tatyana 2001\n",
      " 341.0 Seliverstov, Yriy 2000\n",
      " 423.0 Nosenko, Gennadi (Gennady) 2004\n",
      " 424.0 Nosenko, Gennadi (Gennady) 1999\n",
      " 425.0 Khromova, Tatyana 1999\n",
      " 426.0 Nosenko, Gennadi (Gennady) 1999\n",
      " 427.0 Nosenko, Gennadi (Gennady) 2001\n",
      " 428.0 Nosenko, Gennadi (Gennady) 2004\n",
      " 429.0 Nosenko, Gennadi (Gennady) 2004\n",
      " 588.0 Ashkan, Farokhnia; Karimi, Neamat; Sara, Sheshangosht 2011\n",
      " 642.0 Tielidze, Levan 2014 2013 2014 2014 2011 2016\n",
      " 643.0 Tielidze, Levan 1987 1985 1986 1986 1986 1987\n",
      " 644.0 Tielidze, Levan 1960\n",
      " 662.0 Sarikaya, Mehmet Akif 2008 2006 2006 2004 2008 2009 2011\n",
      " 724.0 Tielidze, Levan 1999 2000 2000 2000 1999 2002\n"
     ]
    }
   ],
   "source": [
    "toprint = []\n",
    "for subid in shp.subm_id.unique():\n",
    "    s_loc = shp.loc[shp.subm_id == subid]\n",
    "    s = ''\n",
    "    for c in ['subm_id', 'analysts', 'src_date']:\n",
    "        toprint = s_loc[c].unique()\n",
    "        if c != 'src_date':\n",
    "            s += ' ' + (str(toprint[0]))\n",
    "        else:\n",
    "            for d in toprint:\n",
    "                s += ' ' + d[:4]\n",
    "    print(s)"
   ]
  },
  {
   "cell_type": "markdown",
   "id": "divided-cutting",
   "metadata": {},
   "source": [
    "Notes based on inidivual submission evaluations: \n",
    "- subm 76 to 429 are all in Caucasus (we don't use them because now have subm 724 there)\n",
    "- subm 588 is Iran (looks like this was what was used for RGI6)\n",
    "- subm 662 is Turkey (looks like this was what was used for RGI6)"
   ]
  },
  {
   "cell_type": "code",
   "execution_count": 6,
   "id": "prospective-emperor",
   "metadata": {},
   "outputs": [],
   "source": [
    "# # Write out selection in intermediate shape files for manual GIS review\n",
    "# tmp_output_dir = mkdir(os.path.join(data_dir, 'l0_tmp_data', 'rgi12_inventories'))\n",
    "# tmp_output_dir_tar = mkdir(os.path.join(data_dir, 'l0_tmp_data'))\n",
    "# for subid in shp.subm_id.unique():\n",
    "#     s_loc = shp.loc[shp.subm_id == subid]\n",
    "#     s_loc.to_file(tmp_output_dir + f'/subm_{int(subid):03d}.shp')\n",
    "# print('Taring...')\n",
    "# print(subprocess.run(['tar', '-zcvf', f'{tmp_output_dir_tar}/rgi12_inventories.tar.gz', '-C', \n",
    "#                       os.path.join(data_dir, 'l0_tmp_data'), 'rgi12_inventories']))"
   ]
  },
  {
   "cell_type": "markdown",
   "id": "familiar-civilization",
   "metadata": {},
   "source": [
    "### Apply selection criteria to create the RGI7 data subset"
   ]
  },
  {
   "cell_type": "code",
   "execution_count": 7,
   "id": "closing-ivory",
   "metadata": {},
   "outputs": [
    {
     "data": {
      "text/plain": [
       "2185"
      ]
     },
     "execution_count": 7,
     "metadata": {},
     "output_type": "execute_result"
    }
   ],
   "source": [
    "# for Caucasus we use 'subm_id' 724 by analyst 'Tielidze, Levan' which corresponds to the best and closest to 2000 \n",
    "RGI_ss_caucasus = shp.loc[shp['subm_id'] == 724].copy()\n",
    "len(RGI_ss_caucasus)"
   ]
  },
  {
   "cell_type": "code",
   "execution_count": 8,
   "id": "naked-excess",
   "metadata": {},
   "outputs": [
    {
     "data": {
      "text/plain": [
       "484"
      ]
     },
     "execution_count": 8,
     "metadata": {},
     "output_type": "execute_result"
    }
   ],
   "source": [
    "# for Middle East / Iran: 'subm_id' 588\n",
    "RGI_ss_middle_east = shp.loc[shp['subm_id'] == 588].copy()\n",
    "len(RGI_ss_middle_east)"
   ]
  },
  {
   "cell_type": "code",
   "execution_count": 9,
   "id": "athletic-weekend",
   "metadata": {},
   "outputs": [
    {
     "data": {
      "text/plain": [
       "51"
      ]
     },
     "execution_count": 9,
     "metadata": {},
     "output_type": "execute_result"
    }
   ],
   "source": [
    "# for Turkey: 'subm_id' 662\n",
    "RGI_ss_Turkey = shp.loc[shp['subm_id'] == 662].copy()\n",
    "len(RGI_ss_Turkey)"
   ]
  },
  {
   "cell_type": "code",
   "execution_count": 10,
   "id": "historical-handbook",
   "metadata": {},
   "outputs": [
    {
     "data": {
      "image/png": "[encoded data removed]",
      "text/plain": [
       "<Figure size 1008x1008 with 1 Axes>"
      ]
     },
     "metadata": {
      "needs_background": "light"
     },
     "output_type": "display_data"
    }
   ],
   "source": [
    "f, ax = plt.subplots(figsize=(14, 14))\n",
    "RGI_ss_caucasus.plot(ax=ax, edgecolor='C0', linewidth=3)\n",
    "RGI_ss_middle_east.plot(ax=ax, edgecolor='C1', linewidth=3)\n",
    "RGI_ss_Turkey.plot(ax=ax, edgecolor='C3', linewidth=3);"
   ]
  },
  {
   "cell_type": "code",
   "execution_count": 11,
   "id": "wired-referral",
   "metadata": {},
   "outputs": [],
   "source": [
    "# Add a new attribute usefull for later comparisons\n",
    "RGI_ss_caucasus['changed_from_rgi6'] = True\n",
    "RGI_ss_middle_east['changed_from_rgi6'] = False\n",
    "RGI_ss_Turkey['changed_from_rgi6'] = False"
   ]
  },
  {
   "cell_type": "code",
   "execution_count": 12,
   "id": "resistant-digest",
   "metadata": {},
   "outputs": [],
   "source": [
    "# combine the three geodataframes\n",
    "RGI_ss = pd.concat([RGI_ss_caucasus, RGI_ss_middle_east, RGI_ss_Turkey])"
   ]
  },
  {
   "cell_type": "markdown",
   "id": "palestinian-remedy",
   "metadata": {},
   "source": [
    "## Write out and tar "
   ]
  },
  {
   "cell_type": "code",
   "execution_count": 13,
   "id": "collected-injury",
   "metadata": {},
   "outputs": [
    {
     "name": "stdout",
     "output_type": "stream",
     "text": [
      "Writing...\n"
     ]
    },
    {
     "name": "stderr",
     "output_type": "stream",
     "text": [
      "/tmp/ipykernel_27253/651191772.py:4: UserWarning: Column names longer than 10 characters will be truncated when saved to ESRI Shapefile.\n",
      "  RGI_ss.to_file(dd + f'RGI{reg:02d}.shp')\n"
     ]
    },
    {
     "name": "stdout",
     "output_type": "stream",
     "text": [
      "Taring...\n",
      "RGI12/\n",
      "RGI12/RGI12.cpg\n",
      "RGI12/RGI12.dbf\n",
      "RGI12/RGI12.prj\n",
      "RGI12/RGI12.shp\n",
      "RGI12/RGI12.shx\n",
      "CompletedProcess(args=['tar', '-zcvf', '../../rgi7_data/l3_rgi7a_tar/RGI12.tar.gz', '-C', '../../rgi7_data/l3_rgi7a', 'RGI12'], returncode=0)\n"
     ]
    }
   ],
   "source": [
    "dd = mkdir(f'{output_dir}/RGI{reg:02d}/', reset=True)\n",
    "\n",
    "print('Writing...')\n",
    "RGI_ss.to_file(dd + f'RGI{reg:02d}.shp')\n",
    "\n",
    "print('Taring...')\n",
    "print(subprocess.run(['tar', '-zcvf', f'{output_dir_tar}/RGI{reg:02d}.tar.gz', '-C', output_dir, f'RGI{reg:02d}']))"
   ]
  },
  {
   "cell_type": "markdown",
   "id": "matched-mailing",
   "metadata": {},
   "source": [
    "## New RGI-file created - Check result!"
   ]
  },
  {
   "cell_type": "markdown",
   "id": "proprietary-african",
   "metadata": {},
   "source": [
    "### load reference data (here RGI6) to enable comparison"
   ]
  },
  {
   "cell_type": "code",
   "execution_count": 14,
   "id": "controlling-drunk",
   "metadata": {},
   "outputs": [],
   "source": [
    "# Just to know the name of the file to open from zip\n",
    "import zipfile\n",
    "with zipfile.ZipFile(rgi6_reg_file, \"r\") as z:\n",
    "    for f in z.filelist:\n",
    "        if '.shp' in f.filename:\n",
    "            fname = f.filename\n",
    "\n",
    "# load reference data\n",
    "ref_odf = gpd.read_file('zip://' + rgi6_reg_file + '/' + fname)"
   ]
  },
  {
   "cell_type": "markdown",
   "id": "demanding-commonwealth",
   "metadata": {},
   "source": [
    "## Compare new RGI7-file to RGI6"
   ]
  },
  {
   "cell_type": "markdown",
   "id": "polar-satisfaction",
   "metadata": {},
   "source": [
    "### Number of elements (differences do not necessarily depict major problems)"
   ]
  },
  {
   "cell_type": "code",
   "execution_count": 15,
   "id": "fallen-flush",
   "metadata": {},
   "outputs": [
    {
     "name": "stdout",
     "output_type": "stream",
     "text": [
      "Number of glaciers in new RGI: 2720\n",
      "Number of glaciers in RGI6: 1888\n",
      "Difference: 832\n"
     ]
    }
   ],
   "source": [
    "print('Number of glaciers in new RGI:', len(RGI_ss))\n",
    "print('Number of glaciers in RGI6:', len(ref_odf))\n",
    "print('Difference:', len(RGI_ss)-len(ref_odf))"
   ]
  },
  {
   "cell_type": "markdown",
   "id": "computational-document",
   "metadata": {},
   "source": [
    "### How many nominal glaciers were there in RGI06-R12?"
   ]
  },
  {
   "cell_type": "code",
   "execution_count": 16,
   "id": "quality-person",
   "metadata": {},
   "outputs": [
    {
     "data": {
      "text/plain": [
       "339"
      ]
     },
     "execution_count": 16,
     "metadata": {},
     "output_type": "execute_result"
    }
   ],
   "source": [
    "len(ref_odf.loc[ref_odf.Status == 2])"
   ]
  },
  {
   "cell_type": "markdown",
   "id": "signal-placement",
   "metadata": {},
   "source": [
    "### Total area"
   ]
  },
  {
   "cell_type": "code",
   "execution_count": 17,
   "id": "banned-operations",
   "metadata": {},
   "outputs": [],
   "source": [
    "# add an area field to RGI_ss and reference data\n",
    "RGI_ss['area'] = RGI_ss.to_crs({'proj':'cea'}).area\n",
    "ref_odf['area'] = ref_odf.to_crs({'proj':'cea'}).area"
   ]
  },
  {
   "cell_type": "code",
   "execution_count": 18,
   "id": "blocked-thickness",
   "metadata": {},
   "outputs": [
    {
     "name": "stdout",
     "output_type": "stream",
     "text": [
      "Area RGI7 [km²]: 1433.1047449127695\n",
      "Area RGI6 [km²]: 1306.999710204219\n",
      "Area difference [km²]: 126.10503470855065\n"
     ]
    }
   ],
   "source": [
    "# print and compare area values\n",
    "Area_RGI = RGI_ss['area'].sum() * 1e-6\n",
    "print('Area RGI7 [km²]:', Area_RGI)\n",
    "Area_ref = ref_odf['area'].sum() * 1e-6\n",
    "print('Area RGI6 [km²]:', Area_ref)\n",
    "d = (Area_RGI - Area_ref)\n",
    "print('Area difference [km²]:', d)"
   ]
  },
  {
   "cell_type": "markdown",
   "id": "baking-judge",
   "metadata": {},
   "source": [
    "### Here starts the comparison `RGI7a` with the original `Levan` dataset:  \n",
    "\n",
    "The data is downloaded from https://zenodo.org/record/5116329#.YXqvaL9Byit\n",
    "\n",
    "Download: https://zenodo.org/record/5116329/files/CAUCASUS_GLACIERS_2000_2020_Tielidze%20et%20al.%202021.zip?download=1"
   ]
  },
  {
   "cell_type": "code",
   "execution_count": 19,
   "id": "liquid-brake",
   "metadata": {},
   "outputs": [
    {
     "data": {
      "text/plain": [
       "('../../rgi7_data/l0_support_data/levan_2000.zip',\n",
       " <http.client.HTTPMessage at 0x7f4185b1b520>)"
      ]
     },
     "execution_count": 19,
     "metadata": {},
     "output_type": "execute_result"
    }
   ],
   "source": [
    "import urllib\n",
    "import urllib.request\n",
    "from urllib.request import urlopen\n",
    "\n",
    "# download\n",
    "lev_url = \"https://zenodo.org/record/5116329/files/CAUCASUS_GLACIERS_2000_2020_Tielidze%20et%20al.%202021.zip?download=1\"\n",
    "levan_file =  os.path.join(data_dir, 'l0_support_data', 'levan_2000.zip')\n",
    "urllib.request.urlretrieve(lev_url, filename=levan_file)"
   ]
  },
  {
   "cell_type": "code",
   "execution_count": 42,
   "id": "editorial-premium",
   "metadata": {},
   "outputs": [
    {
     "name": "stdout",
     "output_type": "stream",
     "text": [
      "CAUCASUS_GLACIERS_2000_2020_Tielidze et al. 2021/CAU_GLAC_2000/CAU_GLAC_AZER_2000.shp\n",
      "CAUCASUS_GLACIERS_2000_2020_Tielidze et al. 2021/CAU_GLAC_2000/CAU_GLAC_GEO_2000.shp\n",
      "CAUCASUS_GLACIERS_2000_2020_Tielidze et al. 2021/CAU_GLAC_2000/CAU_GLAC_RUS_2000.shp\n"
     ]
    }
   ],
   "source": [
    "fnames = []\n",
    "with zipfile.ZipFile(levan_file, \"r\") as z:\n",
    "    for f in z.filelist:\n",
    "        if '.shp' in f.filename and f.filename.endswith('2000.shp'):\n",
    "            print(f.filename)\n",
    "            fnames.append(f.filename)"
   ]
  },
  {
   "cell_type": "code",
   "execution_count": 21,
   "id": "supported-bruce",
   "metadata": {},
   "outputs": [],
   "source": [
    "# load levan data\n",
    "ref_df = []\n",
    "for fname in fnames:\n",
    "    ref_df.append(gpd.read_file('zip://' + levan_file + '/' + fname))\n",
    "ref_df = pd.concat(ref_df)"
   ]
  },
  {
   "cell_type": "code",
   "execution_count": 22,
   "id": "actual-distribution",
   "metadata": {},
   "outputs": [],
   "source": [
    "ref_df = ref_df.to_crs(RGI_ss_caucasus.crs)"
   ]
  },
  {
   "cell_type": "markdown",
   "id": "advance-symbol",
   "metadata": {},
   "source": [
    "We compare to the caucasus RGI only:"
   ]
  },
  {
   "cell_type": "code",
   "execution_count": 23,
   "id": "remarkable-style",
   "metadata": {},
   "outputs": [
    {
     "name": "stdout",
     "output_type": "stream",
     "text": [
      "Number of glaciers in new RGI7 subset: 2185\n",
      "Number of glaciers in reference data (lev): 2186\n",
      "Difference: -1\n"
     ]
    }
   ],
   "source": [
    "print('Number of glaciers in new RGI7 subset:', len(RGI_ss_caucasus))\n",
    "print('Number of glaciers in reference data (lev):', len(ref_df))\n",
    "print('Difference:', len(RGI_ss_caucasus)-len(ref_df))"
   ]
  },
  {
   "cell_type": "code",
   "execution_count": 24,
   "id": "outstanding-antibody",
   "metadata": {},
   "outputs": [],
   "source": [
    "# add an area field to RGI_ss and reference data\n",
    "RGI_ss_caucasus['area'] = RGI_ss_caucasus.to_crs({'proj':'cea'}).area\n",
    "ref_df['area'] = ref_df.to_crs({'proj':'cea'}).area"
   ]
  },
  {
   "cell_type": "code",
   "execution_count": 25,
   "id": "understood-economy",
   "metadata": {},
   "outputs": [
    {
     "name": "stdout",
     "output_type": "stream",
     "text": [
      "Area RGI [km²]: 1381.3214292443179\n",
      "Area Ref (lev) [km²]: 1381.463208157751\n",
      "Area difference [km²]: -0.1417789134331997\n"
     ]
    }
   ],
   "source": [
    "# print and compare area values\n",
    "Area_RGI = RGI_ss_caucasus['area'].sum() * 1e-6\n",
    "print('Area RGI [km²]:', Area_RGI)\n",
    "Area_lev = ref_df['area'].sum() * 1e-6\n",
    "print('Area Ref (lev) [km²]:', Area_lev)\n",
    "d = (Area_RGI - Area_lev)\n",
    "print('Area difference [km²]:', d)"
   ]
  },
  {
   "cell_type": "markdown",
   "id": "mechanical-interaction",
   "metadata": {},
   "source": [
    "### Find the missing glacier "
   ]
  },
  {
   "cell_type": "markdown",
   "id": "weird-involvement",
   "metadata": {},
   "source": [
    "The code below is dirty. "
   ]
  },
  {
   "cell_type": "code",
   "execution_count": 26,
   "id": "established-sunset",
   "metadata": {},
   "outputs": [],
   "source": [
    "df_ref = ref_df.copy()\n",
    "rgi7 = RGI_ss_caucasus.copy()"
   ]
  },
  {
   "cell_type": "code",
   "execution_count": 27,
   "id": "unlike-prison",
   "metadata": {},
   "outputs": [],
   "source": [
    "from utils import haversine\n",
    "import progressbar\n",
    "import numpy as np"
   ]
  },
  {
   "cell_type": "code",
   "execution_count": 28,
   "id": "innovative-electricity",
   "metadata": {},
   "outputs": [],
   "source": [
    "def xy_coord(geom):\n",
    "    \"\"\"To compute CenLon CenLat ourselves\"\"\"\n",
    "    x, y = geom.xy\n",
    "    return x[0], y[0]"
   ]
  },
  {
   "cell_type": "code",
   "execution_count": 29,
   "id": "interesting-temperature",
   "metadata": {},
   "outputs": [],
   "source": [
    "# compute CenLon CenLat ourselves\n",
    "rp = df_ref.representative_point()\n",
    "coordinates = np.array(list(rp.apply(xy_coord)))\n",
    "df_ref['CenLon'] = coordinates[:, 0]\n",
    "df_ref['CenLat'] = coordinates[:, 1]\n",
    "\n",
    "rp = rgi7.representative_point()\n",
    "coordinates = np.array(list(rp.apply(xy_coord)))\n",
    "rgi7['CenLon'] = coordinates[:, 0]\n",
    "rgi7['CenLat'] = coordinates[:, 1]"
   ]
  },
  {
   "cell_type": "code",
   "execution_count": 30,
   "id": "played-eagle",
   "metadata": {},
   "outputs": [
    {
     "data": {
      "text/plain": [
       "<AxesSubplot:>"
      ]
     },
     "execution_count": 30,
     "metadata": {},
     "output_type": "execute_result"
    },
    {
     "data": {
      "image/png": "[encoded data removed]",
      "text/plain": [
       "<Figure size 432x288 with 1 Axes>"
      ]
     },
     "metadata": {
      "needs_background": "light"
     },
     "output_type": "display_data"
    }
   ],
   "source": [
    "df_ref.plot()"
   ]
  },
  {
   "cell_type": "code",
   "execution_count": 31,
   "id": "exceptional-statement",
   "metadata": {},
   "outputs": [
    {
     "data": {
      "image/png": "[encoded data removed]",
      "text/plain": [
       "<Figure size 432x288 with 1 Axes>"
      ]
     },
     "metadata": {
      "needs_background": "light"
     },
     "output_type": "display_data"
    }
   ],
   "source": [
    "rgi7.plot();"
   ]
  },
  {
   "cell_type": "code",
   "execution_count": 32,
   "id": "rocky-google",
   "metadata": {},
   "outputs": [],
   "source": [
    "df_ref_orig = df_ref.copy()"
   ]
  },
  {
   "cell_type": "code",
   "execution_count": 33,
   "id": "spiritual-pressing",
   "metadata": {},
   "outputs": [
    {
     "name": "stderr",
     "output_type": "stream",
     "text": [
      " 36% (803 of 2185) |#######              | Elapsed Time: 0:00:00 ETA:   0:00:00"
     ]
    }
   ],
   "source": [
    "# Loop over all RGI7 glaciers and find their equivalent in ref\n",
    "N_search = 1\n",
    "df_ref = df_ref_orig.copy()\n",
    "not_found = {}\n",
    "to_drop = []\n",
    "for i, (ref_area, lon, lat) in progressbar.progressbar(enumerate(zip(rgi7['area'].values, rgi7.CenLon.values, rgi7.CenLat.values)), max_value=len(rgi7)):\n",
    "#     dist = haversine(lon, lat, df_ref.CenLon.values, df_ref.CenLat.values)\n",
    "    dist = (lon - df_ref.CenLon.values)**2 + (lat - df_ref.CenLat.values)**2 \n",
    "    found = False\n",
    "    for j in np.argsort(dist)[:N_search]:\n",
    "        s6 = df_ref.iloc[j]\n",
    "        if np.allclose(s6['area'], ref_area, rtol=0.001):\n",
    "            found = True\n",
    "#             df_ref.drop(labels=[s6.name], inplace=True)\n",
    "            break\n",
    "    if not found:\n",
    "        break\n",
    "#     if len(to_drop) > 1000:\n",
    "#         df_ref.drop(labels=to_drop, inplace=True)\n",
    "#         to_drop = []\n",
    "# df_ref.drop(labels=to_drop, inplace=True)"
   ]
  },
  {
   "cell_type": "code",
   "execution_count": 34,
   "id": "established-fifty",
   "metadata": {},
   "outputs": [
    {
     "data": {
      "text/plain": [
       "1.4811061137531668e-06"
      ]
     },
     "execution_count": 34,
     "metadata": {},
     "output_type": "execute_result"
    }
   ],
   "source": [
    "dist[np.argsort(dist)][0]"
   ]
  },
  {
   "cell_type": "code",
   "execution_count": 35,
   "id": "advisory-repository",
   "metadata": {},
   "outputs": [
    {
     "data": {
      "text/plain": [
       "0.9533419522029631"
      ]
     },
     "execution_count": 35,
     "metadata": {},
     "output_type": "execute_result"
    }
   ],
   "source": [
    "s6['area'] / ref_area"
   ]
  },
  {
   "cell_type": "code",
   "execution_count": 36,
   "id": "concerned-grill",
   "metadata": {},
   "outputs": [
    {
     "ename": "SyntaxError",
     "evalue": "invalid syntax (3679852505.py, line 2)",
     "output_type": "error",
     "traceback": [
      "\u001b[0;36m  File \u001b[0;32m\"/tmp/ipykernel_27253/3679852505.py\"\u001b[0;36m, line \u001b[0;32m2\u001b[0m\n\u001b[0;31m    .plot(ax=ax, color='C3');\u001b[0m\n\u001b[0m    ^\u001b[0m\n\u001b[0;31mSyntaxError\u001b[0m\u001b[0;31m:\u001b[0m invalid syntax\n"
     ]
    }
   ],
   "source": [
    "f, ax = plt.subplots()\n",
    ".plot(ax=ax, color='C3');\n",
    ".plot(ax=ax);"
   ]
  },
  {
   "cell_type": "code",
   "execution_count": null,
   "id": "solar-closer",
   "metadata": {},
   "outputs": [],
   "source": [
    "rgi7.iloc[[i]].overlay(df_ref.iloc[[j]], how='difference').plot()"
   ]
  },
  {
   "cell_type": "code",
   "execution_count": null,
   "id": "spread-triple",
   "metadata": {},
   "outputs": [],
   "source": []
  },
  {
   "cell_type": "code",
   "execution_count": null,
   "id": "necessary-adelaide",
   "metadata": {},
   "outputs": [],
   "source": [
    "df_ref.iloc[[np.argsort(dist)[0]]]"
   ]
  },
  {
   "cell_type": "code",
   "execution_count": null,
   "id": "undefined-services",
   "metadata": {},
   "outputs": [],
   "source": []
  },
  {
   "cell_type": "code",
   "execution_count": null,
   "id": "seventh-produce",
   "metadata": {},
   "outputs": [],
   "source": []
  },
  {
   "cell_type": "code",
   "execution_count": null,
   "id": "encouraging-print",
   "metadata": {},
   "outputs": [],
   "source": [
    "df_ref.iloc[[j]]"
   ]
  },
  {
   "cell_type": "code",
   "execution_count": null,
   "id": "light-typing",
   "metadata": {},
   "outputs": [],
   "source": [
    "s6['area'], ref_area,"
   ]
  },
  {
   "cell_type": "code",
   "execution_count": null,
   "id": "rough-script",
   "metadata": {},
   "outputs": [],
   "source": [
    "np.argsort(dist)[:N_search]"
   ]
  },
  {
   "cell_type": "code",
   "execution_count": null,
   "id": "rapid-blanket",
   "metadata": {},
   "outputs": [],
   "source": [
    "print(len(not_found), len(df_ref))"
   ]
  },
  {
   "cell_type": "code",
   "execution_count": null,
   "id": "commercial-essex",
   "metadata": {},
   "outputs": [],
   "source": [
    "not_found.keys()"
   ]
  },
  {
   "cell_type": "code",
   "execution_count": null,
   "id": "cooked-perry",
   "metadata": {},
   "outputs": [],
   "source": [
    "pb_rgi7 = rgi7.iloc[list(not_found.keys())]"
   ]
  },
  {
   "cell_type": "code",
   "execution_count": null,
   "id": "seasonal-ceremony",
   "metadata": {},
   "outputs": [],
   "source": [
    "for i, k in enumerate(not_found.keys()):\n",
    "    ax = rgi7.iloc[[k]].plot(edgecolor='k');\n",
    "    if  i > 10:\n",
    "        break"
   ]
  },
  {
   "cell_type": "code",
   "execution_count": null,
   "id": "nasty-former",
   "metadata": {},
   "outputs": [],
   "source": [
    "pb_rgi7"
   ]
  },
  {
   "cell_type": "code",
   "execution_count": null,
   "id": "usual-sussex",
   "metadata": {},
   "outputs": [],
   "source": []
  },
  {
   "cell_type": "code",
   "execution_count": null,
   "id": "physical-immigration",
   "metadata": {},
   "outputs": [],
   "source": []
  }
 ],
 "metadata": {
  "kernelspec": {
   "display_name": "Python 3 (ipykernel)",
   "language": "python",
   "name": "python3"
  },
  "language_info": {
   "codemirror_mode": {
    "name": "ipython",
    "version": 3
   },
   "file_extension": ".py",
   "mimetype": "text/x-python",
   "name": "python",
   "nbconvert_exporter": "python",
   "pygments_lexer": "ipython3",
   "version": "3.8.12"
  }
 },
 "nbformat": 4,
 "nbformat_minor": 5
}
