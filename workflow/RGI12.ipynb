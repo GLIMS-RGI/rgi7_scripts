{
 "cells": [
  {
   "cell_type": "markdown",
   "id": "lesser-sociology",
   "metadata": {},
   "source": [
    "# RGI12 (Caucasus and Middle East)\n",
    "\n",
    "F. Maussion & F. Roura Adserias & S. Galos"
   ]
  },
  {
   "cell_type": "code",
   "execution_count": null,
   "id": "electoral-expense",
   "metadata": {},
   "outputs": [],
   "source": [
    "import pandas as pd\n",
    "import geopandas as gpd\n",
    "import subprocess\n",
    "import matplotlib.pyplot as plt\n",
    "import matplotlib.patches as mpatches\n",
    "import seaborn as sns\n",
    "import numpy as np\n",
    "from utils import mkdir, submission_summary, needs_size_filter, size_filter, plot_map, plot_date_hist, find_duplicates, find_neighbors, correct_geoms\n",
    "import os"
   ]
  },
  {
   "cell_type": "markdown",
   "id": "proprietary-armor",
   "metadata": {},
   "source": [
    "## Files and storage paths"
   ]
  },
  {
   "cell_type": "code",
   "execution_count": null,
   "id": "silent-charger",
   "metadata": {},
   "outputs": [],
   "source": [
    "# Region of interest \n",
    "reg = 12\n",
    "\n",
    "# go down from rgi7_scripts/workflow\n",
    "data_dir = '../../rgi7_data/'\n",
    "\n",
    "# Level 2 GLIMS files\n",
    "l2_dir = os.path.join(data_dir, 'l2_sel_reg_tars')\n",
    "\n",
    "# Output directories\n",
    "output_dir = mkdir(os.path.join(data_dir, 'l3_rgi7a'))\n",
    "output_dir_tar = mkdir(os.path.join(data_dir, 'l3_rgi7a_tar'))\n",
    "\n",
    "# RGI v6 file for comparison later \n",
    "rgi6_reg_file = os.path.join(data_dir, 'l0_RGIv6', '12_rgi60_CaucasusMiddleEast.zip')\n",
    "\n",
    "# Specific to this region: boxes where data has to be selected differently\n",
    "support_dir = os.path.join(data_dir, 'l0_support_data')"
   ]
  },
  {
   "cell_type": "markdown",
   "id": "interior-driving",
   "metadata": {},
   "source": [
    "### Load the input data"
   ]
  },
  {
   "cell_type": "code",
   "execution_count": null,
   "id": "mounted-broadway",
   "metadata": {},
   "outputs": [],
   "source": [
    "# Read L2 files\n",
    "shp = gpd.read_file('tar://' + l2_dir + f'/RGI{reg:02d}.tar.gz/RGI{reg:02d}/RGI{reg:02d}.shp')"
   ]
  },
  {
   "cell_type": "markdown",
   "id": "b82bedea-7a6e-4136-9bac-f422faecd306",
   "metadata": {},
   "source": [
    "### List of submissions "
   ]
  },
  {
   "cell_type": "code",
   "execution_count": null,
   "id": "1f7f2333-6eaa-4851-893c-3740538f9269",
   "metadata": {},
   "outputs": [],
   "source": [
    "sdf, _ = submission_summary(shp)\n",
    "sdf"
   ]
  },
  {
   "cell_type": "markdown",
   "id": "divided-cutting",
   "metadata": {},
   "source": [
    "Notes based on inidivual submission evaluations: \n",
    "- subm 76 to 429 are all in Caucasus (we don't use them because now have subm 762 there)\n",
    "- subm 588 is Iran (looks like this was what was used for RGI6)\n",
    "- subm 662 is Turkey (looks like this was what was used for RGI6)\n",
    "- 762 is the submission to rule them all! Updates all the outlines in Region 12. Thanks Levan"
   ]
  },
  {
   "cell_type": "code",
   "execution_count": null,
   "id": "prospective-emperor",
   "metadata": {},
   "outputs": [],
   "source": [
    "# # Write out selection in intermediate shape files for manual GIS review\n",
    "# tmp_output_dir = mkdir(os.path.join(data_dir, 'l0_tmp_data', 'rgi12_inventories'))\n",
    "# tmp_output_dir_tar = mkdir(os.path.join(data_dir, 'l0_tmp_data'))\n",
    "# for subid in shp.subm_id.unique():\n",
    "#     s_loc = shp.loc[shp.subm_id == subid]\n",
    "#     s_loc.to_file(tmp_output_dir + f'/subm_{int(subid):03d}.shp')\n",
    "# print('Taring...')\n",
    "# print(subprocess.run(['tar', '-zcvf', f'{tmp_output_dir_tar}/rgi12_inventories.tar.gz', '-C', \n",
    "#                       os.path.join(data_dir, 'l0_tmp_data'), 'rgi12_inventories']))"
   ]
  },
  {
   "cell_type": "markdown",
   "id": "familiar-civilization",
   "metadata": {},
   "source": [
    "### Apply selection criteria to create the RGI7 data subset"
   ]
  },
  {
   "cell_type": "code",
   "execution_count": null,
   "id": "closing-ivory",
   "metadata": {},
   "outputs": [],
   "source": [
    "rgi7 = shp.loc[shp['subm_id'] == 762].copy()\n",
    "rgi7['is_rgi6'] = False"
   ]
  },
  {
   "cell_type": "markdown",
   "id": "f849036e-a987-4c5c-ba7d-7e14a9ef7755",
   "metadata": {},
   "source": [
    "### Filter small glaciers "
   ]
  },
  {
   "cell_type": "code",
   "execution_count": null,
   "id": "b9e55ffb-3f8b-4b03-96dc-9b16a500020a",
   "metadata": {},
   "outputs": [],
   "source": [
    "print(len(rgi7))\n",
    "rgi7 = size_filter(rgi7)\n",
    "print(len(rgi7))"
   ]
  },
  {
   "cell_type": "markdown",
   "id": "744983c6-351c-41a2-8094-8a4da70944a4",
   "metadata": {},
   "source": [
    "### Some sanity checks "
   ]
  },
  {
   "cell_type": "code",
   "execution_count": null,
   "id": "c3dd6257-50b4-4f3d-815b-b7654296bb84",
   "metadata": {},
   "outputs": [],
   "source": [
    "dupes = find_duplicates(rgi7)"
   ]
  },
  {
   "cell_type": "code",
   "execution_count": null,
   "id": "32a0fd30-a8f3-4b31-b988-b7fecbe3be29",
   "metadata": {},
   "outputs": [],
   "source": [
    "nb = find_neighbors(dupes, rgi7, n=3)"
   ]
  },
  {
   "cell_type": "code",
   "execution_count": null,
   "id": "9e8a5b42-a59d-43cb-bb3f-fbab0fa7ea4c",
   "metadata": {},
   "outputs": [],
   "source": [
    "nb.iloc[[0, -1]].plot(edgecolor=['C0', 'C3'], color='None');"
   ]
  },
  {
   "cell_type": "code",
   "execution_count": null,
   "id": "de256a42-e4b9-4e8a-b177-13ae90adf0a6",
   "metadata": {},
   "outputs": [],
   "source": [
    "rgi7 = rgi7.loc[~rgi7.anlys_id.isin(dupes.anlys_id)]"
   ]
  },
  {
   "cell_type": "code",
   "execution_count": null,
   "id": "1c8f3a47-c11e-4c0e-936a-b5d4b0b76227",
   "metadata": {},
   "outputs": [],
   "source": [
    "find_duplicates(rgi7);"
   ]
  },
  {
   "cell_type": "code",
   "execution_count": null,
   "id": "72ed35f4-f68e-4bd8-801e-d44d11ccb249",
   "metadata": {},
   "outputs": [],
   "source": [
    "rgi7 = correct_geoms(rgi7)"
   ]
  },
  {
   "cell_type": "code",
   "execution_count": null,
   "id": "a8a096f3-1246-4708-a2f8-d054fe2c6f3e",
   "metadata": {},
   "outputs": [],
   "source": [
    "needs_size_filter(rgi7)"
   ]
  },
  {
   "cell_type": "code",
   "execution_count": null,
   "id": "a73b8bac-d234-4652-9809-b1d1a981ddf5",
   "metadata": {},
   "outputs": [],
   "source": [
    "sdf, df_class = submission_summary(rgi7)\n",
    "df_class"
   ]
  },
  {
   "cell_type": "code",
   "execution_count": null,
   "id": "c92f0d72-0442-42fe-8084-9cdb49e30232",
   "metadata": {},
   "outputs": [],
   "source": [
    "# Check the orphaned rock outcrops\n",
    "orphan_f = os.path.join(data_dir, 'l1_orphan_interiors', f'RGI{reg:02d}', f'RGI{reg:02d}.shp')\n",
    "if os.path.exists(orphan_f):\n",
    "    orphan_f = gpd.read_file(orphan_f)\n",
    "    check = np.isin(rgi7.subm_id.unique(), orphan_f.subm_id.unique())\n",
    "    if np.any(check):\n",
    "        print(f'Orphan rock outcrops detected in subm_id {rgi7.subm_id.unique()[check]}')\n",
    "        orphan_f['area'] = orphan_f.to_crs({'proj':'cea'}).area"
   ]
  },
  {
   "cell_type": "code",
   "execution_count": null,
   "id": "850b616d-88ca-4ec4-b798-8df68c8e7e1e",
   "metadata": {},
   "outputs": [],
   "source": [
    "out = find_duplicates(rgi7);"
   ]
  },
  {
   "cell_type": "markdown",
   "id": "b1432eab-8171-4607-a10c-cfb127b37f98",
   "metadata": {},
   "source": [
    "### Plots "
   ]
  },
  {
   "cell_type": "code",
   "execution_count": null,
   "id": "4a1e4836-413c-48a6-a0aa-e1f869559716",
   "metadata": {},
   "outputs": [],
   "source": [
    "plot_map(rgi7, reg, linewidth=3)"
   ]
  },
  {
   "cell_type": "code",
   "execution_count": null,
   "id": "3c53ae84-c3f0-40a5-bbfa-a06e8082e94b",
   "metadata": {},
   "outputs": [],
   "source": [
    "plot_map(rgi7, reg, linewidth=3, is_rgi6=True)"
   ]
  },
  {
   "cell_type": "code",
   "execution_count": null,
   "id": "f5c30af8-6a45-491b-afec-db03579cdf8c",
   "metadata": {},
   "outputs": [],
   "source": [
    "plot_date_hist(rgi7, reg)"
   ]
  },
  {
   "cell_type": "markdown",
   "id": "d73cb25f-5981-4740-a47e-099c784d17ec",
   "metadata": {},
   "source": [
    "### Text for github"
   ]
  },
  {
   "cell_type": "code",
   "execution_count": null,
   "id": "1fd4d32e-1516-4221-994d-88fa2dcff2a1",
   "metadata": {},
   "outputs": [],
   "source": [
    "fgh = sdf.T\n",
    "fgh"
   ]
  },
  {
   "cell_type": "code",
   "execution_count": null,
   "id": "3fdc025c-08ab-4d2e-89b1-f4a0e90282fc",
   "metadata": {},
   "outputs": [],
   "source": [
    "print(fgh.to_markdown(headers=np.append(['subm_id'], fgh.columns)))"
   ]
  },
  {
   "cell_type": "markdown",
   "id": "0a567e3f-1dc6-4bda-9e36-a5912436fb39",
   "metadata": {},
   "source": [
    "## Write out and tar "
   ]
  },
  {
   "cell_type": "code",
   "execution_count": null,
   "id": "92f00d6e-9218-4474-8af5-87b714733444",
   "metadata": {},
   "outputs": [],
   "source": [
    "dd = mkdir(f'{output_dir}/RGI{reg:02d}/', reset=True)\n",
    "\n",
    "print('Writing...')\n",
    "rgi7.to_file(dd + f'RGI{reg:02d}.shp')\n",
    "\n",
    "print('Taring...')\n",
    "print(subprocess.run(['tar', '-zcvf', f'{output_dir_tar}/RGI{reg:02d}.tar.gz', '-C', output_dir, f'RGI{reg:02d}']))"
   ]
  },
  {
   "cell_type": "markdown",
   "id": "matched-mailing",
   "metadata": {},
   "source": [
    "## New RGI-file created - Check result!"
   ]
  },
  {
   "cell_type": "markdown",
   "id": "proprietary-african",
   "metadata": {},
   "source": [
    "### load reference data (here RGI6) to enable comparison"
   ]
  },
  {
   "cell_type": "code",
   "execution_count": null,
   "id": "controlling-drunk",
   "metadata": {},
   "outputs": [],
   "source": [
    "# load reference data\n",
    "from utils import open_zip_shapefile\n",
    "ref_odf = open_zip_shapefile(rgi6_reg_file)"
   ]
  },
  {
   "cell_type": "markdown",
   "id": "demanding-commonwealth",
   "metadata": {},
   "source": [
    "## Compare new RGI7-file to RGI6"
   ]
  },
  {
   "cell_type": "markdown",
   "id": "polar-satisfaction",
   "metadata": {},
   "source": [
    "### Number of elements (differences do not necessarily depict major problems)"
   ]
  },
  {
   "cell_type": "code",
   "execution_count": null,
   "id": "fallen-flush",
   "metadata": {},
   "outputs": [],
   "source": [
    "print('Number of glaciers in new RGI:', len(rgi7))\n",
    "print('Number of glaciers in RGI6:', len(ref_odf))\n",
    "print('Difference:', len(rgi7)-len(ref_odf))"
   ]
  },
  {
   "cell_type": "markdown",
   "id": "computational-document",
   "metadata": {},
   "source": [
    "### How many nominal glaciers were there in RGI06-R12?"
   ]
  },
  {
   "cell_type": "code",
   "execution_count": null,
   "id": "quality-person",
   "metadata": {},
   "outputs": [],
   "source": [
    "len(ref_odf.loc[ref_odf.Status == 2])"
   ]
  },
  {
   "cell_type": "markdown",
   "id": "signal-placement",
   "metadata": {},
   "source": [
    "### Total area"
   ]
  },
  {
   "cell_type": "code",
   "execution_count": null,
   "id": "banned-operations",
   "metadata": {},
   "outputs": [],
   "source": [
    "# add an area field to RGI_ss and reference data\n",
    "ref_odf['area'] = ref_odf.to_crs({'proj':'cea'}).area"
   ]
  },
  {
   "cell_type": "code",
   "execution_count": null,
   "id": "blocked-thickness",
   "metadata": {},
   "outputs": [],
   "source": [
    "# print and compare area values\n",
    "Area_RGI = rgi7['area'].sum() * 1e-6\n",
    "print('Area RGI7 [km²]:', Area_RGI)\n",
    "Area_ref = ref_odf['area'].sum() * 1e-6\n",
    "print('Area RGI6 [km²]:', Area_ref)\n",
    "d = (Area_RGI - Area_ref)\n",
    "print('Area difference [km²]:', d)"
   ]
  }
 ],
 "metadata": {
  "kernelspec": {
   "display_name": "Python 3 (ipykernel)",
   "language": "python",
   "name": "python3"
  },
  "language_info": {
   "codemirror_mode": {
    "name": "ipython",
    "version": 3
   },
   "file_extension": ".py",
   "mimetype": "text/x-python",
   "name": "python",
   "nbconvert_exporter": "python",
   "pygments_lexer": "ipython3",
   "version": "3.10.8"
  }
 },
 "nbformat": 4,
 "nbformat_minor": 5
}
