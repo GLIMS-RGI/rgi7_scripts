{
 "cells": [
  {
   "cell_type": "markdown",
   "id": "lesser-sociology",
   "metadata": {},
   "source": [
    "# RGI-07: Region 12 (Caucasus and Middle East)\n",
    "\n",
    "F. Maussion & Francesc Roura Adserias & S. Galos, June 2021"
   ]
  },
  {
   "cell_type": "code",
   "execution_count": 15,
   "id": "electoral-expense",
   "metadata": {},
   "outputs": [],
   "source": [
    "import geopandas as gpd\n",
    "import pandas as pd\n",
    "import matplotlib.pyplot as plt\n",
    "import subprocess\n",
    "import os\n",
    "from utils import mkdir\n",
    "import numpy as np"
   ]
  },
  {
   "cell_type": "markdown",
   "id": "proprietary-armor",
   "metadata": {},
   "source": [
    "## Files and storage paths"
   ]
  },
  {
   "cell_type": "code",
   "execution_count": 2,
   "id": "silent-charger",
   "metadata": {},
   "outputs": [],
   "source": [
    "# Region of interest \n",
    "reg = 12\n",
    "\n",
    "# go down from rgi7_scripts/workflow\n",
    "data_dir = '../../rgi7_data/'\n",
    "\n",
    "# Level 2 GLIMS files\n",
    "l2_dir = os.path.join(data_dir, 'l2_sel_reg_tars')\n",
    "\n",
    "# Output directories\n",
    "output_dir = mkdir(os.path.join(data_dir, 'l3_rgi7a'))\n",
    "output_dir_tar = mkdir(os.path.join(data_dir, 'l3_rgi7a_tar'))\n",
    "\n",
    "# RGI v6 file for comparison later \n",
    "rgi6_reg_file = os.path.join(data_dir, 'l0_RGIv6', '12_rgi60_CaucasusMiddleEast.zip')"
   ]
  },
  {
   "cell_type": "code",
   "execution_count": 3,
   "id": "color-sacramento",
   "metadata": {},
   "outputs": [],
   "source": [
    "# Specific to this region: boxes where data has to be selected differently\n",
    "support_dir = os.path.join(data_dir, 'l0_support_data')"
   ]
  },
  {
   "cell_type": "markdown",
   "id": "interior-driving",
   "metadata": {},
   "source": [
    "### Load the input data"
   ]
  },
  {
   "cell_type": "code",
   "execution_count": 4,
   "id": "mounted-broadway",
   "metadata": {},
   "outputs": [],
   "source": [
    "# Read L2 files\n",
    "shp = gpd.read_file('tar://' + l2_dir + f'/RGI{reg:02d}.tar.gz/RGI{reg:02d}/RGI{reg:02d}.shp')"
   ]
  },
  {
   "cell_type": "markdown",
   "id": "lightweight-confusion",
   "metadata": {},
   "source": [
    "### List of submissions "
   ]
  },
  {
   "cell_type": "code",
   "execution_count": 5,
   "id": "returning-regression",
   "metadata": {},
   "outputs": [
    {
     "name": "stdout",
     "output_type": "stream",
     "text": [
      " 76.0 Nosenko, Gennadi (Gennady) 2004\n",
      " 79.0 Nosenko, Gennadi (Gennady) 2004\n",
      " 81.0 Nosenko, Gennadi (Gennady) 2004\n",
      " 83.0 Nosenko, Gennadi (Gennady) 2004\n",
      " 87.0 Nosenko, Gennadi (Gennady) 2004\n",
      " 327.0 Khromova, Tatyana 2001\n",
      " 341.0 Seliverstov, Yriy 2000\n",
      " 423.0 Nosenko, Gennadi (Gennady) 2004\n",
      " 424.0 Nosenko, Gennadi (Gennady) 1999\n",
      " 425.0 Khromova, Tatyana 1999\n",
      " 426.0 Nosenko, Gennadi (Gennady) 1999\n",
      " 427.0 Nosenko, Gennadi (Gennady) 2001\n",
      " 428.0 Nosenko, Gennadi (Gennady) 2004\n",
      " 429.0 Nosenko, Gennadi (Gennady) 2004\n",
      " 588.0 Ashkan, Farokhnia; Karimi, Neamat; Sara, Sheshangosht 2011\n",
      " 642.0 Tielidze, Levan 2014 2013 2014 2014 2011 2016\n",
      " 643.0 Tielidze, Levan 1987 1985 1986 1986 1986 1987\n",
      " 644.0 Tielidze, Levan 1960\n",
      " 662.0 Sarikaya, Mehmet Akif 2008 2006 2006 2004 2008 2009 2011\n",
      " 724.0 Tielidze, Levan 1999 2000 2000 2000 1999 2002\n"
     ]
    }
   ],
   "source": [
    "toprint = []\n",
    "for subid in shp.subm_id.unique():\n",
    "    s_loc = shp.loc[shp.subm_id == subid]\n",
    "    s = ''\n",
    "    for c in ['subm_id', 'analysts', 'src_date']:\n",
    "        toprint = s_loc[c].unique()\n",
    "        if c != 'src_date':\n",
    "            s += ' ' + (str(toprint[0]))\n",
    "        else:\n",
    "            for d in toprint:\n",
    "                s += ' ' + d[:4]\n",
    "    print(s)"
   ]
  },
  {
   "cell_type": "markdown",
   "id": "divided-cutting",
   "metadata": {},
   "source": [
    "Notes based on inidivual submission evaluations: \n",
    "- subm 76 to 429 are all in Caucasus (we don't use them because now have subm 724 there)\n",
    "- subm 588 is Iran (looks like this was what was used for RGI6)\n",
    "- subm 662 is Turkey (looks like this was what was used for RGI6)"
   ]
  },
  {
   "cell_type": "code",
   "execution_count": 6,
   "id": "prospective-emperor",
   "metadata": {},
   "outputs": [],
   "source": [
    "# # Write out selection in intermediate shape files for manual GIS review\n",
    "# tmp_output_dir = mkdir(os.path.join(data_dir, 'l0_tmp_data', 'rgi12_inventories'))\n",
    "# tmp_output_dir_tar = mkdir(os.path.join(data_dir, 'l0_tmp_data'))\n",
    "# for subid in shp.subm_id.unique():\n",
    "#     s_loc = shp.loc[shp.subm_id == subid]\n",
    "#     s_loc.to_file(tmp_output_dir + f'/subm_{int(subid):03d}.shp')\n",
    "# print('Taring...')\n",
    "# print(subprocess.run(['tar', '-zcvf', f'{tmp_output_dir_tar}/rgi12_inventories.tar.gz', '-C', \n",
    "#                       os.path.join(data_dir, 'l0_tmp_data'), 'rgi12_inventories']))"
   ]
  },
  {
   "cell_type": "markdown",
   "id": "familiar-civilization",
   "metadata": {},
   "source": [
    "### Apply selection criteria to create the RGI7 data subset"
   ]
  },
  {
   "cell_type": "code",
   "execution_count": 7,
   "id": "closing-ivory",
   "metadata": {},
   "outputs": [
    {
     "data": {
      "text/plain": [
       "2185"
      ]
     },
     "execution_count": 7,
     "metadata": {},
     "output_type": "execute_result"
    }
   ],
   "source": [
    "# for Caucasus we use 'subm_id' 724 by analyst 'Tielidze, Levan' which corresponds to the best and closest to 2000 \n",
    "RGI_ss_caucasus = shp.loc[shp['subm_id'] == 724].copy()\n",
    "len(RGI_ss_caucasus)"
   ]
  },
  {
   "cell_type": "code",
   "execution_count": 8,
   "id": "naked-excess",
   "metadata": {},
   "outputs": [
    {
     "data": {
      "text/plain": [
       "484"
      ]
     },
     "execution_count": 8,
     "metadata": {},
     "output_type": "execute_result"
    }
   ],
   "source": [
    "# for Middle East / Iran: 'subm_id' 588\n",
    "RGI_ss_middle_east = shp.loc[shp['subm_id'] == 588].copy()\n",
    "len(RGI_ss_middle_east)"
   ]
  },
  {
   "cell_type": "code",
   "execution_count": 9,
   "id": "athletic-weekend",
   "metadata": {},
   "outputs": [
    {
     "data": {
      "text/plain": [
       "51"
      ]
     },
     "execution_count": 9,
     "metadata": {},
     "output_type": "execute_result"
    }
   ],
   "source": [
    "# for Turkey: 'subm_id' 662\n",
    "RGI_ss_Turkey = shp.loc[shp['subm_id'] == 662].copy()\n",
    "len(RGI_ss_Turkey)"
   ]
  },
  {
   "cell_type": "code",
   "execution_count": 10,
   "id": "historical-handbook",
   "metadata": {},
   "outputs": [
    {
     "data": {
      "image/png": "[encoded data removed]",
      "text/plain": [
       "<Figure size 1008x1008 with 1 Axes>"
      ]
     },
     "metadata": {
      "needs_background": "light"
     },
     "output_type": "display_data"
    }
   ],
   "source": [
    "f, ax = plt.subplots(figsize=(14, 14))\n",
    "RGI_ss_caucasus.plot(ax=ax, edgecolor='C0', linewidth=3)\n",
    "RGI_ss_middle_east.plot(ax=ax, edgecolor='C1', linewidth=3)\n",
    "RGI_ss_Turkey.plot(ax=ax, edgecolor='C3', linewidth=3);"
   ]
  },
  {
   "cell_type": "code",
   "execution_count": 11,
   "id": "wired-referral",
   "metadata": {},
   "outputs": [],
   "source": [
    "# Add a new attribute usefull for later comparisons\n",
    "RGI_ss_caucasus['in_rgi6'] = True\n",
    "RGI_ss_middle_east['in_rgi6'] = False\n",
    "RGI_ss_Turkey['in_rgi6'] = False"
   ]
  },
  {
   "cell_type": "markdown",
   "id": "f849036e-a987-4c5c-ba7d-7e14a9ef7755",
   "metadata": {},
   "source": [
    "### Filter small glaciers "
   ]
  },
  {
   "cell_type": "code",
   "execution_count": 16,
   "id": "b9e55ffb-3f8b-4b03-96dc-9b16a500020a",
   "metadata": {},
   "outputs": [
    {
     "name": "stdout",
     "output_type": "stream",
     "text": [
      "2185\n",
      "2182\n"
     ]
    }
   ],
   "source": [
    "print(len(RGI_ss_caucasus))\n",
    "RGI_ss_caucasus = RGI_ss_caucasus.loc[np.round(RGI_ss_caucasus['area'] * 1e-6, 3) >= 0.01]\n",
    "print(len(RGI_ss_caucasus))"
   ]
  },
  {
   "cell_type": "code",
   "execution_count": 17,
   "id": "8c24605a-9e4c-4256-921a-01dab4bb46e2",
   "metadata": {},
   "outputs": [
    {
     "name": "stdout",
     "output_type": "stream",
     "text": [
      "484\n",
      "203\n"
     ]
    }
   ],
   "source": [
    "print(len(RGI_ss_middle_east))\n",
    "RGI_ss_middle_east = RGI_ss_middle_east.loc[np.round(RGI_ss_middle_east['area'] * 1e-6, 3) >= 0.01]\n",
    "print(len(RGI_ss_middle_east))"
   ]
  },
  {
   "cell_type": "code",
   "execution_count": 18,
   "id": "8739435c-1b86-46a0-ac63-ea4334f45faa",
   "metadata": {},
   "outputs": [
    {
     "name": "stdout",
     "output_type": "stream",
     "text": [
      "51\n",
      "46\n"
     ]
    }
   ],
   "source": [
    "print(len(RGI_ss_Turkey))\n",
    "RGI_ss_Turkey = RGI_ss_Turkey.loc[np.round(RGI_ss_Turkey['area'] * 1e-6, 3) >= 0.01]\n",
    "print(len(RGI_ss_Turkey))"
   ]
  },
  {
   "cell_type": "code",
   "execution_count": 19,
   "id": "resistant-digest",
   "metadata": {},
   "outputs": [],
   "source": [
    "# combine the three geodataframes\n",
    "RGI_ss = pd.concat([RGI_ss_caucasus, RGI_ss_middle_east, RGI_ss_Turkey])"
   ]
  },
  {
   "cell_type": "markdown",
   "id": "palestinian-remedy",
   "metadata": {},
   "source": [
    "## Write out and tar "
   ]
  },
  {
   "cell_type": "code",
   "execution_count": 20,
   "id": "collected-injury",
   "metadata": {},
   "outputs": [
    {
     "name": "stdout",
     "output_type": "stream",
     "text": [
      "Writing...\n",
      "Taring...\n",
      "CompletedProcess(args=['tar', '-zcvf', '../../rgi7_data/l3_rgi7a_tar/RGI12.tar.gz', '-C', '../../rgi7_data/l3_rgi7a', 'RGI12'], returncode=0)\n"
     ]
    }
   ],
   "source": [
    "dd = mkdir(f'{output_dir}/RGI{reg:02d}/', reset=True)\n",
    "\n",
    "print('Writing...')\n",
    "RGI_ss.to_file(dd + f'RGI{reg:02d}.shp')\n",
    "\n",
    "print('Taring...')\n",
    "print(subprocess.run(['tar', '-zcvf', f'{output_dir_tar}/RGI{reg:02d}.tar.gz', '-C', output_dir, f'RGI{reg:02d}']))"
   ]
  },
  {
   "cell_type": "markdown",
   "id": "matched-mailing",
   "metadata": {},
   "source": [
    "## New RGI-file created - Check result!"
   ]
  },
  {
   "cell_type": "markdown",
   "id": "proprietary-african",
   "metadata": {},
   "source": [
    "### load reference data (here RGI6) to enable comparison"
   ]
  },
  {
   "cell_type": "code",
   "execution_count": 21,
   "id": "controlling-drunk",
   "metadata": {},
   "outputs": [],
   "source": [
    "# Just to know the name of the file to open from zip\n",
    "import zipfile\n",
    "with zipfile.ZipFile(rgi6_reg_file, \"r\") as z:\n",
    "    for f in z.filelist:\n",
    "        if '.shp' in f.filename:\n",
    "            fname = f.filename\n",
    "\n",
    "# load reference data\n",
    "ref_odf = gpd.read_file('zip://' + rgi6_reg_file + '/' + fname)"
   ]
  },
  {
   "cell_type": "markdown",
   "id": "demanding-commonwealth",
   "metadata": {},
   "source": [
    "## Compare new RGI7-file to RGI6"
   ]
  },
  {
   "cell_type": "markdown",
   "id": "polar-satisfaction",
   "metadata": {},
   "source": [
    "### Number of elements (differences do not necessarily depict major problems)"
   ]
  },
  {
   "cell_type": "code",
   "execution_count": 22,
   "id": "fallen-flush",
   "metadata": {},
   "outputs": [
    {
     "name": "stdout",
     "output_type": "stream",
     "text": [
      "Number of glaciers in new RGI: 2431\n",
      "Number of glaciers in RGI6: 1888\n",
      "Difference: 543\n"
     ]
    }
   ],
   "source": [
    "print('Number of glaciers in new RGI:', len(RGI_ss))\n",
    "print('Number of glaciers in RGI6:', len(ref_odf))\n",
    "print('Difference:', len(RGI_ss)-len(ref_odf))"
   ]
  },
  {
   "cell_type": "markdown",
   "id": "computational-document",
   "metadata": {},
   "source": [
    "### How many nominal glaciers were there in RGI06-R12?"
   ]
  },
  {
   "cell_type": "code",
   "execution_count": 23,
   "id": "quality-person",
   "metadata": {},
   "outputs": [
    {
     "data": {
      "text/plain": [
       "339"
      ]
     },
     "execution_count": 23,
     "metadata": {},
     "output_type": "execute_result"
    }
   ],
   "source": [
    "len(ref_odf.loc[ref_odf.Status == 2])"
   ]
  },
  {
   "cell_type": "markdown",
   "id": "signal-placement",
   "metadata": {},
   "source": [
    "### Total area"
   ]
  },
  {
   "cell_type": "code",
   "execution_count": 24,
   "id": "banned-operations",
   "metadata": {},
   "outputs": [],
   "source": [
    "# add an area field to RGI_ss and reference data\n",
    "RGI_ss['area'] = RGI_ss.to_crs({'proj':'cea'}).area\n",
    "ref_odf['area'] = ref_odf.to_crs({'proj':'cea'}).area"
   ]
  },
  {
   "cell_type": "code",
   "execution_count": 25,
   "id": "blocked-thickness",
   "metadata": {},
   "outputs": [
    {
     "name": "stdout",
     "output_type": "stream",
     "text": [
      "Area RGI7 [km²]: 1432.073533926547\n",
      "Area RGI6 [km²]: 1306.999710204219\n",
      "Area difference [km²]: 125.07382372232814\n"
     ]
    }
   ],
   "source": [
    "# print and compare area values\n",
    "Area_RGI = RGI_ss['area'].sum() * 1e-6\n",
    "print('Area RGI7 [km²]:', Area_RGI)\n",
    "Area_ref = ref_odf['area'].sum() * 1e-6\n",
    "print('Area RGI6 [km²]:', Area_ref)\n",
    "d = (Area_RGI - Area_ref)\n",
    "print('Area difference [km²]:', d)"
   ]
  },
  {
   "cell_type": "markdown",
   "id": "baking-judge",
   "metadata": {},
   "source": [
    "### Here starts the comparison `RGI7a` with the original `Levan` dataset:  \n",
    "\n",
    "The data is downloaded comes from https://zenodo.org/record/5116329#.YXqvaL9Byit\n",
    "\n",
    "Download: https://zenodo.org/record/5116329/files/CAUCASUS_GLACIERS_2000_2020_Tielidze%20et%20al.%202021.zip?download=1"
   ]
  },
  {
   "cell_type": "code",
   "execution_count": 26,
   "id": "liquid-brake",
   "metadata": {},
   "outputs": [
    {
     "data": {
      "text/plain": [
       "('../../rgi7_data/l0_support_data/levan_2000.zip',\n",
       " <http.client.HTTPMessage at 0x7fc4840d13a0>)"
      ]
     },
     "execution_count": 26,
     "metadata": {},
     "output_type": "execute_result"
    }
   ],
   "source": [
    "import urllib\n",
    "import urllib.request\n",
    "from urllib.request import urlopen\n",
    "\n",
    "# download\n",
    "lev_url = \"https://zenodo.org/record/5116329/files/CAUCASUS_GLACIERS_2000_2020_Tielidze%20et%20al.%202021.zip?download=1\"\n",
    "levan_file =  os.path.join(data_dir, 'l0_support_data', 'levan_2000.zip')\n",
    "urllib.request.urlretrieve(lev_url, filename=levan_file)"
   ]
  },
  {
   "cell_type": "code",
   "execution_count": 27,
   "id": "editorial-premium",
   "metadata": {},
   "outputs": [
    {
     "name": "stdout",
     "output_type": "stream",
     "text": [
      "CAUCASUS_GLACIERS_2000_2020_Tielidze et al. 2021/CAU_GLAC_2000/CAU_GLAC_AZER_2000.shp\n",
      "CAUCASUS_GLACIERS_2000_2020_Tielidze et al. 2021/CAU_GLAC_2000/CAU_GLAC_GEO_2000.shp\n",
      "CAUCASUS_GLACIERS_2000_2020_Tielidze et al. 2021/CAU_GLAC_2000/CAU_GLAC_RUS_2000.shp\n"
     ]
    }
   ],
   "source": [
    "fnames = []\n",
    "with zipfile.ZipFile(levan_file, \"r\") as z:\n",
    "    for f in z.filelist:\n",
    "        if '.shp' in f.filename and f.filename.endswith('2000.shp'):\n",
    "            print(f.filename)\n",
    "            fnames.append(f.filename)"
   ]
  },
  {
   "cell_type": "code",
   "execution_count": 28,
   "id": "supported-bruce",
   "metadata": {},
   "outputs": [],
   "source": [
    "# load levan data\n",
    "ref_df = []\n",
    "for fname in fnames:\n",
    "    ref_df.append(gpd.read_file('zip://' + levan_file + '/' + fname))\n",
    "ref_df = pd.concat(ref_df)"
   ]
  },
  {
   "cell_type": "code",
   "execution_count": 38,
   "id": "actual-distribution",
   "metadata": {},
   "outputs": [],
   "source": [
    "ref_df = ref_df.to_crs(RGI_ss_caucasus.crs)"
   ]
  },
  {
   "cell_type": "code",
   "execution_count": 39,
   "id": "44531996-dc51-47c0-a9b6-fb9e8d2f98b2",
   "metadata": {},
   "outputs": [],
   "source": [
    "# add an area field to RGI_ss and reference data\n",
    "RGI_ss_caucasus['area'] = RGI_ss_caucasus.to_crs({'proj':'cea'}).area\n",
    "ref_df['area'] = ref_df.to_crs({'proj':'cea'}).area"
   ]
  },
  {
   "cell_type": "code",
   "execution_count": 40,
   "id": "341bf523-fc0e-483d-bb26-5e8fdff75410",
   "metadata": {},
   "outputs": [
    {
     "name": "stdout",
     "output_type": "stream",
     "text": [
      "2183\n",
      "2183\n"
     ]
    }
   ],
   "source": [
    "# Select by size\n",
    "print(len(ref_df))\n",
    "ref_df = ref_df.loc[np.round(ref_df['area'] * 1e-6, 3) >= 0.01]\n",
    "print(len(ref_df))"
   ]
  },
  {
   "cell_type": "markdown",
   "id": "advance-symbol",
   "metadata": {},
   "source": [
    "We compare to the caucasus RGI only:"
   ]
  },
  {
   "cell_type": "code",
   "execution_count": 41,
   "id": "remarkable-style",
   "metadata": {},
   "outputs": [
    {
     "name": "stdout",
     "output_type": "stream",
     "text": [
      "Number of glaciers in new RGI7 subset: 2182\n",
      "Number of glaciers in reference data (lev): 2183\n",
      "Difference: -1\n"
     ]
    }
   ],
   "source": [
    "print('Number of glaciers in new RGI7 subset:', len(RGI_ss_caucasus))\n",
    "print('Number of glaciers in reference data (lev):', len(ref_df))\n",
    "print('Difference:', len(RGI_ss_caucasus)-len(ref_df))"
   ]
  },
  {
   "cell_type": "code",
   "execution_count": 42,
   "id": "understood-economy",
   "metadata": {},
   "outputs": [
    {
     "name": "stdout",
     "output_type": "stream",
     "text": [
      "Area RGI [km²]: 1381.2958167278275\n",
      "Area Ref (lev) [km²]: 1381.4375931809755\n",
      "Area difference [km²]: -0.14177645314794063\n"
     ]
    }
   ],
   "source": [
    "# print and compare area values\n",
    "Area_RGI = RGI_ss_caucasus['area'].sum() * 1e-6\n",
    "print('Area RGI [km²]:', Area_RGI)\n",
    "Area_lev = ref_df['area'].sum() * 1e-6\n",
    "print('Area Ref (lev) [km²]:', Area_lev)\n",
    "d = (Area_RGI - Area_lev)\n",
    "print('Area difference [km²]:', d)"
   ]
  },
  {
   "cell_type": "markdown",
   "id": "mechanical-interaction",
   "metadata": {},
   "source": [
    "### Find the missing glacier "
   ]
  },
  {
   "cell_type": "code",
   "execution_count": 43,
   "id": "established-sunset",
   "metadata": {},
   "outputs": [],
   "source": [
    "from utils import haversine\n",
    "import progressbar\n",
    "\n",
    "# Make a copy of the data\n",
    "df_ref = ref_df.copy()\n",
    "rgi7 = RGI_ss_caucasus.copy()\n",
    "\n",
    "# Prepare the data\n",
    "def xy_coord(geom):\n",
    "    \"\"\"To compute CenLon CenLat ourselves\"\"\"\n",
    "    x, y = geom.xy\n",
    "    return x[0], y[0]\n",
    "\n",
    "# compute CenLon CenLat ourselves\n",
    "rp = df_ref.representative_point()\n",
    "coordinates = np.array(list(rp.apply(xy_coord)))\n",
    "df_ref['CenLon'] = coordinates[:, 0]\n",
    "df_ref['CenLat'] = coordinates[:, 1]\n",
    "\n",
    "rp = rgi7.representative_point()\n",
    "coordinates = np.array(list(rp.apply(xy_coord)))\n",
    "rgi7['CenLon'] = coordinates[:, 0]\n",
    "rgi7['CenLat'] = coordinates[:, 1]"
   ]
  },
  {
   "cell_type": "code",
   "execution_count": 44,
   "id": "unlike-prison",
   "metadata": {},
   "outputs": [
    {
     "name": "stderr",
     "output_type": "stream",
     "text": [
      "100% (2182 of 2182) |####################| Elapsed Time: 0:00:00 Time:  0:00:00\n"
     ]
    }
   ],
   "source": [
    "# Start with the easy cases\n",
    "df_ref_orig = df_ref.copy()\n",
    "# Compute the distance to the next closest\n",
    "distances = np.empty_like(rgi7.CenLon.values)\n",
    "other_id = np.empty(len(rgi7.CenLon.values), dtype=int)\n",
    "area_other = np.empty_like(rgi7.CenLon.values)\n",
    "for i, (ref_area, lon, lat) in progressbar.progressbar(enumerate(zip(rgi7['area'].values, rgi7.CenLon.values, rgi7.CenLat.values)), max_value=len(rgi7)):\n",
    "    dist = (lon - df_ref.CenLon.values)**2 + (lat - df_ref.CenLat.values)**2 \n",
    "    id0 = np.argsort(dist)[0]\n",
    "    distances[i] = dist[id0]\n",
    "    other_id[i] = id0\n",
    "    s6 = df_ref.iloc[id0]\n",
    "    area_other[i] = s6['area']\n",
    "\n",
    "rgi7['distance'] = distances\n",
    "rgi7['other_id'] = other_id\n",
    "rgi7['area_other'] = area_other"
   ]
  },
  {
   "cell_type": "code",
   "execution_count": 45,
   "id": "90dbc8b9-4808-4cc8-bbb2-993240f2abdf",
   "metadata": {},
   "outputs": [
    {
     "data": {
      "text/plain": [
       "(6.424161820367166e-08, 2.7168145182984655e-06)"
      ]
     },
     "execution_count": 45,
     "metadata": {},
     "output_type": "execute_result"
    }
   ],
   "source": [
    "rgi7['distance'].mean(), rgi7['distance'].std()"
   ]
  },
  {
   "cell_type": "code",
   "execution_count": 46,
   "id": "46fa2fdf-d314-4948-b2df-0feb187ea126",
   "metadata": {},
   "outputs": [],
   "source": [
    "not_ok = rgi7.loc[rgi7['distance'] >  (rgi7['distance'].mean() + rgi7['distance'].std())]"
   ]
  },
  {
   "cell_type": "code",
   "execution_count": 47,
   "id": "b2d012e2-985b-415e-a5d1-448e38b2c770",
   "metadata": {},
   "outputs": [
    {
     "data": {
      "image/png": "[encoded data removed]",
      "text/plain": [
       "<Figure size 432x288 with 1 Axes>"
      ]
     },
     "metadata": {
      "needs_background": "light"
     },
     "output_type": "display_data"
    }
   ],
   "source": [
    "not_ok.plot(edgecolor='k');"
   ]
  },
  {
   "cell_type": "code",
   "execution_count": 48,
   "id": "64b4da6d-013e-4091-b0f2-2be405826bd5",
   "metadata": {},
   "outputs": [
    {
     "data": {
      "image/png": "[encoded data removed]",
      "text/plain": [
       "<Figure size 432x288 with 1 Axes>"
      ]
     },
     "metadata": {
      "needs_background": "light"
     },
     "output_type": "display_data"
    }
   ],
   "source": [
    "df_ref.iloc[not_ok.other_id].plot(edgecolor='k');"
   ]
  },
  {
   "cell_type": "markdown",
   "id": "bb86e123-7cb1-407b-b432-08d0551941fc",
   "metadata": {},
   "source": [
    "Email from Levan:\n",
    "\n",
    "This error is due to different views on the definition of the margins of the Garabashi Glacier.\n",
    "\n",
    "While working on our preprint, I was advised by Russian colleagues to modify the margins of Garabashi Glacier (and thus Azay and Terskol as neighbouring glaciers) before submitting to Zenodo. Mind you, that the database was already submitted to GLIMS at that time .\n",
    "\n",
    "The Russian colleagues considered it important to keep the glacier boundaries in our Zenodo database consistent with in-situ measurements because Garabashi is one of the representative glaciers in the WGMS and this will be important for future comparisons (e.g. glaciological mass balance vs geodetic one).\n",
    "\n",
    "To conclude, the outlines of Garabashi, Azay, and Terskol glaciers are more comprehensive in Zenodo (see attached) than those in GLIMS. However, the rest of the glaciers in both databases are the same.\n",
    "\n",
    "I know, this sounds a bit annoying, but perhaps Bruce wants to replace them in GLIMS database as well? If so, I'm attaching the shp file of just those three glaciers.\n",
    "Sorry Bruce about it, but this was not only my fault :) and thank you Fabien again for pointing this out."
   ]
  },
  {
   "cell_type": "markdown",
   "id": "0d7db227-7aa4-447d-b966-3511980f4f78",
   "metadata": {},
   "source": [
    "### OK. Rest of the checks "
   ]
  },
  {
   "cell_type": "code",
   "execution_count": 49,
   "id": "682a2293-b582-473a-8dca-1dd0b50392ab",
   "metadata": {},
   "outputs": [
    {
     "data": {
      "text/plain": [
       "(40.935553999999996, 41.16944)"
      ]
     },
     "execution_count": 49,
     "metadata": {},
     "output_type": "execute_result"
    }
   ],
   "source": [
    "RGI_ss_Turkey.CenLat.max(), RGI_ss_caucasus.CenLat.min()"
   ]
  },
  {
   "cell_type": "markdown",
   "id": "780c415a-abf8-47a0-832a-ea6743016b8d",
   "metadata": {},
   "source": [
    "Perfect, we can just separate the RGI6 based on that."
   ]
  },
  {
   "cell_type": "code",
   "execution_count": 50,
   "id": "cc63b334-0305-4e18-b433-36d18d2e4569",
   "metadata": {},
   "outputs": [],
   "source": [
    "# Just to know the name of the file to open from zip\n",
    "import zipfile\n",
    "with zipfile.ZipFile(rgi6_reg_file, \"r\") as z:\n",
    "    for f in z.filelist:\n",
    "        if '.shp' in f.filename:\n",
    "            fname = f.filename\n",
    "\n",
    "# load reference data\n",
    "rgi6 = gpd.read_file('zip://' + rgi6_reg_file + '/' + fname)"
   ]
  },
  {
   "cell_type": "code",
   "execution_count": 51,
   "id": "ed2f3ec2-5795-48b2-bdc3-964da3a38bfe",
   "metadata": {},
   "outputs": [],
   "source": [
    "new = pd.concat([RGI_ss_middle_east, RGI_ss_Turkey])\n",
    "rgi6 = rgi6.loc[rgi6.CenLat < 41]\n",
    "rgi6['area'] = rgi6.to_crs({'proj':'cea'}).area"
   ]
  },
  {
   "cell_type": "code",
   "execution_count": 52,
   "id": "2f6076dd-b334-401a-ab51-2f961352a892",
   "metadata": {},
   "outputs": [
    {
     "data": {
      "image/png": "[encoded data removed]",
      "text/plain": [
       "<Figure size 1008x1008 with 1 Axes>"
      ]
     },
     "metadata": {
      "needs_background": "light"
     },
     "output_type": "display_data"
    }
   ],
   "source": [
    "f, ax = plt.subplots(figsize=(14, 14))\n",
    "\n",
    "rgi6.plot(ax=ax, edgecolor='C3', linewidth=4);\n",
    "\n",
    "RGI_ss_middle_east.plot(ax=ax, edgecolor='C0', linewidth=3)\n",
    "RGI_ss_Turkey.plot(ax=ax, edgecolor='C2', linewidth=3);"
   ]
  },
  {
   "cell_type": "code",
   "execution_count": 54,
   "id": "3d2165a7-5bcc-4b65-9306-a0ff724b6cc6",
   "metadata": {},
   "outputs": [
    {
     "name": "stdout",
     "output_type": "stream",
     "text": [
      "Number of glaciers in new RGI7 subset: 249\n",
      "Number of glaciers in reference data (RGI6): 246\n",
      "Difference: 3\n"
     ]
    }
   ],
   "source": [
    "print('Number of glaciers in new RGI7 subset:', len(new))\n",
    "print('Number of glaciers in reference data (RGI6):', len(rgi6))\n",
    "print('Difference:', len(new)-len(rgi6))"
   ]
  },
  {
   "cell_type": "code",
   "execution_count": 55,
   "id": "4eff0797-366d-4102-bfde-671f842207b7",
   "metadata": {},
   "outputs": [
    {
     "name": "stdout",
     "output_type": "stream",
     "text": [
      "Area RGI7 [km²]: 50.77771719871948\n",
      "Area RGI6 [km²]: 50.50952009373451\n",
      "Area difference [km²]: 0.26819710498497074\n"
     ]
    }
   ],
   "source": [
    "# print and compare area values\n",
    "Area_RGI7 = new['area'].sum() * 1e-6\n",
    "print('Area RGI7 [km²]:', Area_RGI7)\n",
    "Area_RGI6 = rgi6['area'].sum() * 1e-6\n",
    "print('Area RGI6 [km²]:', Area_RGI6)\n",
    "d = (Area_RGI7 - Area_RGI6)\n",
    "print('Area difference [km²]:', d)"
   ]
  },
  {
   "cell_type": "markdown",
   "id": "bb9a3532-74ca-4194-835a-ca666ff44d8e",
   "metadata": {},
   "source": [
    "OK we can live with that. "
   ]
  }
 ],
 "metadata": {
  "kernelspec": {
   "display_name": "Python 3",
   "language": "python",
   "name": "python3"
  },
  "language_info": {
   "codemirror_mode": {
    "name": "ipython",
    "version": 3
   },
   "file_extension": ".py",
   "mimetype": "text/x-python",
   "name": "python",
   "nbconvert_exporter": "python",
   "pygments_lexer": "ipython3",
   "version": "3.8.8"
  }
 },
 "nbformat": 4,
 "nbformat_minor": 5
}
