{
 "cells": [
  {
   "cell_type": "markdown",
   "id": "appointed-purchase",
   "metadata": {},
   "source": [
    "# RGI-07: Region 11 (Central Europe)\n",
    "##### F. Roura-Adseiras, November 2021\n",
    "\n",
    "Goal: same as RGI6"
   ]
  },
  {
   "cell_type": "code",
   "execution_count": 1,
   "id": "enabling-trainer",
   "metadata": {},
   "outputs": [],
   "source": [
    "import geopandas as gpd\n",
    "import pandas as pd\n",
    "import matplotlib.pyplot as plt\n",
    "import subprocess\n",
    "import os\n",
    "import numpy as np\n",
    "from utils import mkdir"
   ]
  },
  {
   "cell_type": "markdown",
   "id": "sustained-riverside",
   "metadata": {},
   "source": [
    "## Files and storage paths"
   ]
  },
  {
   "cell_type": "code",
   "execution_count": 2,
   "id": "joined-range",
   "metadata": {},
   "outputs": [],
   "source": [
    "# Region of interest\n",
    "reg = 11\n",
    "\n",
    "# go down from rgi7_scripts/workflow\n",
    "data_dir = '../../rgi7_data/'\n",
    "\n",
    "# Level 2 GLIMS files\n",
    "l2_dir = os.path.join(data_dir, 'l2_sel_reg_tars')\n",
    "\n",
    "# Output directories\n",
    "output_dir = mkdir(os.path.join(data_dir, 'l3_rgi7a'))\n",
    "output_dir_tar = mkdir(os.path.join(data_dir, 'l3_rgi7a_tar'))\n",
    "\n",
    "# Izaguirre file for GLIMS check \n",
    "ref_reg_file_p = os.path.join(data_dir, 'l0_support_data', 'pyrenees2000.zip') \n",
    "\n",
    "# Frank file for GLIMS check \n",
    "ref_reg_file_a = os.path.join(data_dir, 'l0_support_data', 'C3S_GI_RGI11_L5_2003.zip') \n",
    "\n",
    "# RGI v6 file for comparison later \n",
    "rgi6_reg_file = os.path.join(data_dir, 'l0_RGIv6', '11_rgi60_CentralEurope.zip')"
   ]
  },
  {
   "cell_type": "markdown",
   "id": "loving-exclusive",
   "metadata": {},
   "source": [
    "### Load the GLIMS input data"
   ]
  },
  {
   "cell_type": "code",
   "execution_count": 3,
   "id": "sporting-sociology",
   "metadata": {},
   "outputs": [],
   "source": [
    "# Read L2 files\n",
    "shp = gpd.read_file('tar://' + l2_dir + f'/RGI{reg:02d}.tar.gz/RGI{reg:02d}/RGI{reg:02d}.shp')"
   ]
  },
  {
   "cell_type": "markdown",
   "id": "american-glucose",
   "metadata": {},
   "source": [
    "### List of submissions"
   ]
  },
  {
   "cell_type": "code",
   "execution_count": 4,
   "id": "private-synthesis",
   "metadata": {},
   "outputs": [
    {
     "name": "stdout",
     "output_type": "stream",
     "text": [
      " 1.0 Taschner, Stefan 2001\n",
      " 301.0 Taschner, Stefan 2003\n",
      " 501.0 Iacovelli, Laura 2003\n",
      " 531.0 Rott, Helmut; Schicker, Irene; Schwaizer (nee Bippus), Gabriele 2003\n",
      " 532.0 Schicker, Irene; Schwaizer (nee Bippus), Gabriele 1985\n",
      " 533.0 Paul, Frank 1998\n",
      " 558.0 Vantadori, Federico 2007\n",
      " 568.0 Rabatel, Antoine 2004 2003 2003\n",
      " 569.0 Rabatel, Antoine 1988 1985 1985 1986 1987\n",
      " 579.0 Fischer, Mauro 2009\n",
      " 593.0 Paul, Frank 2003 2003 2003 2003 2003\n",
      " 594.0 Wipf, Andreas 1850\n",
      " 595.0 Maisch, Max 1850\n",
      " 596.0 Fischer, Mauro 2008\n",
      " 598.0 Paul, Frank 1999\n",
      " 599.0 Benz, Christof; Wipf, Andreas 1973\n",
      " 601.0 Fischer, Andrea; Kuhn, Michael; Lambrecht, Astrid 1969\n",
      " 602.0 Fischer, Andrea; Kuhn, Michael; Lambrecht, Astrid 1998\n",
      " 603.0 Fischer, Andrea 2012\n",
      " 613.0 Fischer, Andrea 1850\n",
      " 615.0 Smiraglia, Claudio 2011\n",
      " 640.0 Antoine, Rabatel 2004\n",
      " 641.0 Antoine, Rabatel 1971 1967 1970 1971 1949 1939\n",
      " 663.0 Nemec, Johanna; Schwaizer (nee Bippus), Gabriele 2015\n",
      " 664.0 Nemec, Johanna; Schwaizer (nee Bippus), Gabriele 2016\n",
      " 665.0 Nemec, Johanna; Schwaizer (nee Bippus), Gabriele 2016\n",
      " 666.0 Nemec, Johanna; Schwaizer (nee Bippus), Gabriele 2016\n",
      " 667.0 Nemec, Johanna; Schwaizer (nee Bippus), Gabriele 2016\n",
      " 668.0 Nemec, Johanna; Schwaizer (nee Bippus), Gabriele 2015\n",
      " 710.0 Azzoni, R.S.; Fugazza, D.; Le Bris, Raymond; Nemec, J.; Paul, Frank; Rabatel, Antoine; Ramusovic, M.; Rastner, Philipp; Schaub, Yvonne; Schwaizer (nee Bippus), Gabriele 2015 2017 2016 2015 2016 2016 2016 2016 2017\n",
      " 715.0 Izagirre, Eñaut 2000\n",
      " 731.0 Frey, Holger; Le Bris, Raymond; Paul, Frank; Rastner, Philipp 2003 2003 2003 2003 2003 2003 2003\n"
     ]
    }
   ],
   "source": [
    "toprint = []\n",
    "for subid in shp.subm_id.unique():\n",
    "    s_loc = shp.loc[shp.subm_id == subid]\n",
    "    s = ''\n",
    "    for c in ['subm_id', 'analysts', 'src_date']:\n",
    "        toprint = s_loc[c].unique()\n",
    "        if c != 'src_date':\n",
    "            s += ' ' + (str(toprint[0]))\n",
    "        else:\n",
    "            for d in toprint:\n",
    "                s += ' ' + d[:4]\n",
    "    print(s)"
   ]
  },
  {
   "cell_type": "markdown",
   "id": "interior-virginia",
   "metadata": {},
   "source": [
    "## Apply selection criteria to reproduce RGI-7 for this region and check result"
   ]
  },
  {
   "cell_type": "markdown",
   "id": "vocational-hawaiian",
   "metadata": {},
   "source": [
    "### Step 1: extract RGI7 from GLIMS data and do a check"
   ]
  },
  {
   "cell_type": "code",
   "execution_count": 5,
   "id": "polish-psychology",
   "metadata": {},
   "outputs": [],
   "source": [
    "# For Alps we use 'subm_id' = 731 as our main dataset\n",
    "RGI_a = shp.loc[shp['subm_id'] == 731].copy()\n",
    "\n",
    "# For Pyrenees we use 'subm_id' = 715 as our main dataset\n",
    "RGI_p = shp.loc[shp['subm_id'] == 715].copy()"
   ]
  },
  {
   "cell_type": "markdown",
   "id": "c9214265-b5d1-4c69-a084-5729e7dba338",
   "metadata": {},
   "source": [
    "### Plot glaciers:"
   ]
  },
  {
   "cell_type": "code",
   "execution_count": 6,
   "id": "excellent-newfoundland",
   "metadata": {},
   "outputs": [
    {
     "data": {
      "text/plain": [
       "<AxesSubplot:>"
      ]
     },
     "execution_count": 6,
     "metadata": {},
     "output_type": "execute_result"
    },
    {
     "data": {
      "image/png": "[encoded data removed]",
      "text/plain": [
       "<Figure size 432x288 with 1 Axes>"
      ]
     },
     "metadata": {
      "needs_background": "light"
     },
     "output_type": "display_data"
    }
   ],
   "source": [
    "# Plot Alpine glaciers\n",
    "RGI_a.geometry.plot(color='blue')"
   ]
  },
  {
   "cell_type": "code",
   "execution_count": 7,
   "id": "0ee71145-45a5-40d2-b0ff-de0d3e4c7d6b",
   "metadata": {},
   "outputs": [
    {
     "data": {
      "text/plain": [
       "<AxesSubplot:>"
      ]
     },
     "execution_count": 7,
     "metadata": {},
     "output_type": "execute_result"
    },
    {
     "data": {
      "image/png": "[encoded data removed]",
      "text/plain": [
       "<Figure size 432x288 with 1 Axes>"
      ]
     },
     "metadata": {
      "needs_background": "light"
     },
     "output_type": "display_data"
    }
   ],
   "source": [
    "#Plot Pyrenean glaciers\n",
    "RGI_p.geometry.plot(color='blue')"
   ]
  },
  {
   "cell_type": "code",
   "execution_count": 8,
   "id": "amber-staff",
   "metadata": {},
   "outputs": [
    {
     "data": {
      "text/plain": [
       "<AxesSubplot:>"
      ]
     },
     "execution_count": 8,
     "metadata": {},
     "output_type": "execute_result"
    },
    {
     "data": {
      "image/png": "[encoded data removed]",
      "text/plain": [
       "<Figure size 432x288 with 1 Axes>"
      ]
     },
     "metadata": {
      "needs_background": "light"
     },
     "output_type": "display_data"
    }
   ],
   "source": [
    "# Merge Pyrenees and Alps:\n",
    "RGI_ss = pd.concat([RGI_a, RGI_p])\n",
    "RGI_ss.geometry.plot(color='blue')"
   ]
  },
  {
   "cell_type": "markdown",
   "id": "b2a8338f-ac8e-41fb-a531-ac701245b8fb",
   "metadata": {},
   "source": [
    "# Comparison to RGI7:"
   ]
  },
  {
   "cell_type": "markdown",
   "id": "61f6c4c1-c3f0-41c5-937c-25a0965856c1",
   "metadata": {},
   "source": [
    "#### load reference Pyrenees data (here Izaguirre's)"
   ]
  },
  {
   "cell_type": "code",
   "execution_count": 9,
   "id": "da17e8e1-5e70-4213-b2c3-7b2253c4afc1",
   "metadata": {},
   "outputs": [
    {
     "name": "stdout",
     "output_type": "stream",
     "text": [
      "glaciers_Pyrenees2000.shp\n"
     ]
    }
   ],
   "source": [
    "# Just to know the name of the file to open from zip\n",
    "import zipfile\n",
    "with zipfile.ZipFile(ref_reg_file_p, \"r\") as z:\n",
    "    for f in z.filelist:\n",
    "        if 'glaciers_Pyrenees2000.shp' in f.filename:\n",
    "            fname = f.filename\n",
    "print(fname)\n",
    "# load box\n",
    "ref_odf_p = gpd.read_file('zip://' + ref_reg_file_p + '/' + fname)"
   ]
  },
  {
   "cell_type": "code",
   "execution_count": 10,
   "id": "e3e73793-aa97-4e81-ba72-baa95e88fe8d",
   "metadata": {},
   "outputs": [
    {
     "data": {
      "text/plain": [
       "<AxesSubplot:>"
      ]
     },
     "execution_count": 10,
     "metadata": {},
     "output_type": "execute_result"
    },
    {
     "data": {
      "image/png": "[encoded data removed]",
      "text/plain": [
       "<Figure size 432x288 with 1 Axes>"
      ]
     },
     "metadata": {
      "needs_background": "light"
     },
     "output_type": "display_data"
    }
   ],
   "source": [
    "ref_odf_p.plot()"
   ]
  },
  {
   "cell_type": "code",
   "execution_count": 11,
   "id": "ef9d371c-891a-4224-9b83-c2ad8c377110",
   "metadata": {},
   "outputs": [],
   "source": [
    "# add an area field to RGI_ss and reference data\n",
    "RGI_p['area'] = RGI_p.to_crs({'proj':'cea'}).area\n",
    "ref_odf_p['area'] = ref_odf_p.to_crs({'proj':'cea'}).area"
   ]
  },
  {
   "cell_type": "code",
   "execution_count": 12,
   "id": "a3cb4dfe-04dc-496f-aedc-614096e4e00e",
   "metadata": {},
   "outputs": [
    {
     "name": "stdout",
     "output_type": "stream",
     "text": [
      "Number of glaciers in new RGI subset: 47\n",
      "Number of glaciers in reference data (izaguirre): 47\n",
      "Difference: 0\n"
     ]
    }
   ],
   "source": [
    "print('Number of glaciers in new RGI subset:', len(RGI_p))\n",
    "print('Number of glaciers in reference data (izaguirre):', len(ref_odf_p))\n",
    "print('Difference:', len(RGI_p)-len(ref_odf_p))"
   ]
  },
  {
   "cell_type": "code",
   "execution_count": 57,
   "id": "0cfe350f-a62d-4ecd-a99f-6c45a4fcfcaf",
   "metadata": {},
   "outputs": [
    {
     "name": "stdout",
     "output_type": "stream",
     "text": [
      "Area RGI [km²]: 4.200390629001659\n",
      "Area ref: 2120.321066419914\n",
      "Area difference [km²]: -2116.1206757909126 / percentage: -50379.14000617291\n"
     ]
    }
   ],
   "source": [
    "# print and compare area values\n",
    "Area_rgi = RGI_p['area'].sum()/1000000\n",
    "print('Area RGI [km²]:', Area_rgi)\n",
    "Area_ref = ref_odf_p['area'].sum()/1000000\n",
    "print('Area ref:', Area_ref)\n",
    "d = (Area_rgi - Area_ref)\n",
    "d_perc = (d/Area_rgi*100)\n",
    "print('Area difference [km²]:',d,'/','percentage:', d_perc)"
   ]
  },
  {
   "cell_type": "markdown",
   "id": "3e22c43e-f143-461c-a688-743921fae02e",
   "metadata": {},
   "source": [
    "### For Pyrenees, not substantial differences between the original Izaguirre and RGI7 inventories. Now let's see the glaciers separately:"
   ]
  },
  {
   "cell_type": "code",
   "execution_count": 14,
   "id": "364412db-621f-4eb7-aed3-3aaa880e9b21",
   "metadata": {},
   "outputs": [],
   "source": [
    "# go to every glacier differences\n",
    "def area_check(new, ref):\n",
    "    area_new = new['area'].sum()/1000000\n",
    "    area_ref = ref['area'].sum()/1000000\n",
    "    d = (area_new - area_ref)\n",
    "    d_perc = (d/area_new*100)\n",
    "    return d_perc, d"
   ]
  },
  {
   "cell_type": "code",
   "execution_count": 15,
   "id": "2bff528b-d2a2-4187-abb2-42d84ab436ae",
   "metadata": {},
   "outputs": [],
   "source": [
    "# Order glaciers from west to east:\n",
    "ref = ref_odf_p.sort_values('CenLon')\n",
    "new = RGI_p.sort_values('CenLon')"
   ]
  },
  {
   "cell_type": "code",
   "execution_count": 16,
   "id": "6c5785c8-ea43-4300-b69d-091dc9b34d2e",
   "metadata": {},
   "outputs": [
    {
     "name": "stderr",
     "output_type": "stream",
     "text": [
      "/tmp/ipykernel_155749/4134950988.py:6: RuntimeWarning: invalid value encountered in double_scalars\n",
      "  d_perc = (d/area_new*100)\n"
     ]
    },
    {
     "data": {
      "text/plain": [
       "Text(0.5, 1.0, 'difference in area in km²')"
      ]
     },
     "execution_count": 16,
     "metadata": {},
     "output_type": "execute_result"
    },
    {
     "data": {
      "image/png": "[encoded data removed]",
      "text/plain": [
       "<Figure size 432x288 with 1 Axes>"
      ]
     },
     "metadata": {
      "needs_background": "light"
     },
     "output_type": "display_data"
    },
    {
     "data": {
      "image/png": "[encoded data removed]",
      "text/plain": [
       "<Figure size 432x288 with 1 Axes>"
      ]
     },
     "metadata": {
      "needs_background": "light"
     },
     "output_type": "display_data"
    }
   ],
   "source": [
    "diff = []\n",
    "for i in range(len(RGI_p)):\n",
    "    diff.append(area_check(new[i+1:i+2], ref[i+1:i+2]))\n",
    "    \n",
    "df_diff = pd.DataFrame(diff)\n",
    "\n",
    "plt.figure(0)\n",
    "plt.plot(df_diff[0])\n",
    "plt.title(\"difference in area in %\")\n",
    "\n",
    "plt.figure(1)\n",
    "plt.plot(df_diff[1])\n",
    "plt.title(\"difference in area in km²\")"
   ]
  },
  {
   "cell_type": "code",
   "execution_count": 17,
   "id": "5a42abb2-d42a-4909-9396-7d33b046bb2f",
   "metadata": {},
   "outputs": [],
   "source": [
    "# errors in possible swaping of centroids between the 2 datasets (centroids differ)"
   ]
  },
  {
   "cell_type": "code",
   "execution_count": 18,
   "id": "8a6256c3-f87d-43fe-a1de-8da233450360",
   "metadata": {},
   "outputs": [],
   "source": [
    "# TODO: do the same but finding the closest pairs of centroids\n",
    "#\n",
    "#\n",
    "#\n",
    "#"
   ]
  },
  {
   "cell_type": "markdown",
   "id": "330873cd-fb55-4c2a-ad7e-a6a090b3d3f4",
   "metadata": {},
   "source": [
    "### Load reference data (here Frank inventory)"
   ]
  },
  {
   "cell_type": "code",
   "execution_count": 50,
   "id": "f91cb889-c37d-49b3-bfee-352120ffc0db",
   "metadata": {},
   "outputs": [
    {
     "name": "stdout",
     "output_type": "stream",
     "text": [
      "c3s_gi_rgi11_l5_2003.shp\n"
     ]
    }
   ],
   "source": [
    "# Just to know the name of the file to open from zip\n",
    "import zipfile\n",
    "with zipfile.ZipFile(ref_reg_file_a, \"r\") as z:\n",
    "    for f in z.filelist:\n",
    "        if '.shp' in f.filename:\n",
    "            fname = f.filename\n",
    "print(fname)\n",
    "# load box\n",
    "ref_odf_a = gpd.read_file('zip://' + ref_reg_file_a + '/' + fname)"
   ]
  },
  {
   "cell_type": "code",
   "execution_count": 51,
   "id": "e566d3a1-f20f-480d-a1b4-fb77886e9cd6",
   "metadata": {},
   "outputs": [
    {
     "data": {
      "text/plain": [
       "<AxesSubplot:>"
      ]
     },
     "execution_count": 51,
     "metadata": {},
     "output_type": "execute_result"
    },
    {
     "data": {
      "image/png": "[encoded data removed]",
      "text/plain": [
       "<Figure size 432x288 with 1 Axes>"
      ]
     },
     "metadata": {
      "needs_background": "light"
     },
     "output_type": "display_data"
    }
   ],
   "source": [
    "ref_odf_a.plot()"
   ]
  },
  {
   "cell_type": "code",
   "execution_count": 53,
   "id": "19a5fd85-45fe-4b13-8149-3d888544da7f",
   "metadata": {},
   "outputs": [],
   "source": [
    "# add an area field to RGI_ss and reference data\n",
    "RGI_a['area'] = RGI_a.to_crs({'proj':'cea'}).area\n",
    "ref_odf_a['area'] = ref_odf_a.to_crs({'proj':'cea'}).area"
   ]
  },
  {
   "cell_type": "code",
   "execution_count": 54,
   "id": "51f06ade-1db6-4a96-a0b9-a8c4b731d2be",
   "metadata": {},
   "outputs": [
    {
     "name": "stdout",
     "output_type": "stream",
     "text": [
      "Number of glaciers in new RGI subset: 4060\n",
      "Number of glaciers in reference data (Franck): 4059\n",
      "Difference: 1\n"
     ]
    }
   ],
   "source": [
    "print('Number of glaciers in new RGI subset:', len(RGI_a))\n",
    "print('Number of glaciers in reference data (Franck):', len(ref_odf_a))\n",
    "print('Difference:', len(RGI_a)-len(ref_odf_a))"
   ]
  },
  {
   "cell_type": "code",
   "execution_count": 56,
   "id": "94f8923f-017e-4581-9ed2-1cf3b9062706",
   "metadata": {},
   "outputs": [
    {
     "name": "stdout",
     "output_type": "stream",
     "text": [
      "Area RGI [km²]: 2120.3198163438733\n",
      "Area ref: 2120.321066419914\n",
      "Area difference [km²]: -0.001250076040832937 / percentage: -5.895695692683182e-05\n"
     ]
    }
   ],
   "source": [
    "# print and compare area values\n",
    "Area_rgi = RGI_a['area'].sum()/1000000\n",
    "print('Area RGI [km²]:', Area_rgi)\n",
    "Area_ref = ref_odf_a['area'].sum()/1000000\n",
    "print('Area ref:', Area_ref)\n",
    "d = (Area_rgi - Area_ref)\n",
    "d_perc = (d/Area_rgi*100)\n",
    "print('Area difference [km²]:',d,'/','percentage:', d_perc)"
   ]
  },
  {
   "cell_type": "markdown",
   "id": "be8332e5-4377-4eab-8b96-00ec4d748f42",
   "metadata": {},
   "source": [
    "### For Alps, not substantial differences between the original Frank and glims inventories, except for a glacier, that we want to find now:"
   ]
  },
  {
   "cell_type": "code",
   "execution_count": null,
   "id": "d1b10aad-3f1f-4c8d-bdcb-e785b6605e11",
   "metadata": {},
   "outputs": [],
   "source": [
    "# TODO: find missing glacier\n",
    "#\n",
    "#\n",
    "#"
   ]
  },
  {
   "cell_type": "markdown",
   "id": "86ac8de9-cd48-4e57-855a-8ea527d72ae9",
   "metadata": {},
   "source": [
    "# Comparison to RGI6:"
   ]
  },
  {
   "cell_type": "markdown",
   "id": "adolescent-hampshire",
   "metadata": {},
   "source": [
    "#### load reference data (here RGI6) to enable comparison"
   ]
  },
  {
   "cell_type": "code",
   "execution_count": 20,
   "id": "conditional-crime",
   "metadata": {},
   "outputs": [],
   "source": [
    "# Just to know the name of the file to open from zip\n",
    "import zipfile\n",
    "\n",
    "with zipfile.ZipFile(rgi6_reg_file, \"r\") as z:\n",
    "    for f in z.filelist:\n",
    "        if '.shp' in f.filename:\n",
    "            fname = f.filename\n",
    "\n",
    "# load reference data\n",
    "ref_odf = gpd.read_file('zip://' + rgi6_reg_file + '/' + fname)"
   ]
  },
  {
   "cell_type": "markdown",
   "id": "dominant-sword",
   "metadata": {},
   "source": [
    "#### Number of elements entire region (differences do not necessarily depict major problems)"
   ]
  },
  {
   "cell_type": "code",
   "execution_count": 21,
   "id": "alpha-neighborhood",
   "metadata": {},
   "outputs": [
    {
     "name": "stdout",
     "output_type": "stream",
     "text": [
      "Number of glaciers in new RGI subset: 4107\n",
      "Number of glaciers in reference data (RGI06): 3927\n",
      "Difference: 180\n"
     ]
    }
   ],
   "source": [
    "print('Number of glaciers in new RGI subset:', len(RGI_ss))\n",
    "print('Number of glaciers in reference data (RGI06):', len(ref_odf))\n",
    "print('Difference:', len(RGI_ss)-len(ref_odf))"
   ]
  },
  {
   "cell_type": "markdown",
   "id": "psychological-stack",
   "metadata": {},
   "source": [
    "#### check for duplicate glacier IDs"
   ]
  },
  {
   "cell_type": "code",
   "execution_count": 22,
   "id": "scientific-haiti",
   "metadata": {},
   "outputs": [
    {
     "name": "stdout",
     "output_type": "stream",
     "text": [
      "number of glaciers without unique id in RGI06: 5\n"
     ]
    }
   ],
   "source": [
    "print ('number of glaciers without unique id in RGI06:', len(ref_odf)-len(ref_odf['GLIMSId'].unique()))"
   ]
  },
  {
   "cell_type": "code",
   "execution_count": 23,
   "id": "individual-force",
   "metadata": {},
   "outputs": [
    {
     "name": "stdout",
     "output_type": "stream",
     "text": [
      "number of glaciers without unique id in RGI06 from GLIMS data base: 0\n"
     ]
    }
   ],
   "source": [
    "print ('number of glaciers without unique id in RGI06 from GLIMS data base:', len(RGI_ss)-len(RGI_ss['glac_id'].unique()))"
   ]
  },
  {
   "cell_type": "markdown",
   "id": "caroline-advertiser",
   "metadata": {},
   "source": [
    "#### Check for 'nominal glaciers' in the RGI6 original data and delete them from new RGI subset from GLIMS if they are in there "
   ]
  },
  {
   "cell_type": "code",
   "execution_count": 24,
   "id": "cardiac-catholic",
   "metadata": {},
   "outputs": [
    {
     "data": {
      "text/plain": [
       "2"
      ]
     },
     "execution_count": 24,
     "metadata": {},
     "output_type": "execute_result"
    }
   ],
   "source": [
    "# how many nominals in RGI06 (identifiable via 'Status' attribute in RGI 06)\n",
    "nom = ref_odf.loc[ref_odf.Status == 2]\n",
    "len(nom)"
   ]
  },
  {
   "cell_type": "code",
   "execution_count": 25,
   "id": "bibliographic-animal",
   "metadata": {},
   "outputs": [],
   "source": [
    "# drop nominal glaciers from new RGI subset\n",
    "RGI_ss = (RGI_ss.loc[~RGI_ss['glac_id'].isin(nom['GLIMSId'])])"
   ]
  },
  {
   "cell_type": "markdown",
   "id": "colored-bryan",
   "metadata": {},
   "source": [
    "#### Total area"
   ]
  },
  {
   "cell_type": "code",
   "execution_count": 26,
   "id": "requested-mirror",
   "metadata": {},
   "outputs": [
    {
     "name": "stderr",
     "output_type": "stream",
     "text": [
      "/home/francesc/anaconda3/envs/geo_env/lib/python3.8/site-packages/geopandas/geodataframe.py:1351: SettingWithCopyWarning: \n",
      "A value is trying to be set on a copy of a slice from a DataFrame.\n",
      "Try using .loc[row_indexer,col_indexer] = value instead\n",
      "\n",
      "See the caveats in the documentation: https://pandas.pydata.org/pandas-docs/stable/user_guide/indexing.html#returning-a-view-versus-a-copy\n",
      "  super().__setitem__(key, value)\n"
     ]
    }
   ],
   "source": [
    "# add an area field to RGI_ss and reference data\n",
    "RGI_ss['area'] = RGI_ss.to_crs({'proj':'cea'}).area\n",
    "ref_odf['area'] = ref_odf.to_crs({'proj':'cea'}).area\n",
    "nom['area'] = nom.to_crs({'proj':'cea'}).area"
   ]
  },
  {
   "cell_type": "code",
   "execution_count": 27,
   "id": "individual-liability",
   "metadata": {
    "scrolled": true
   },
   "outputs": [
    {
     "name": "stdout",
     "output_type": "stream",
     "text": [
      "Area Rep [km²]: 2124.5202069728753\n",
      "Area RGI6 [km²]: 2092.0679695469466\n",
      "Area Nom [km²]: 0.16634799082587856\n",
      "Area difference [km²]: 32.618585416754286 / percentage: 1.5353389113314628\n"
     ]
    }
   ],
   "source": [
    "# print and compare area values\n",
    "Area_Rep = RGI_ss['area'].sum()/1000000\n",
    "print('Area Rep [km²]:', Area_Rep)\n",
    "Area_RGI6 = ref_odf['area'].sum()/1000000\n",
    "print('Area RGI6 [km²]:', Area_RGI6)\n",
    "Area_nom = nom['area'].sum()/1000000\n",
    "print('Area Nom [km²]:', Area_nom)\n",
    "d = (Area_Rep + Area_nom - Area_RGI6)\n",
    "d_perc = (d/Area_Rep*100)\n",
    "print('Area difference [km²]:',d,'/','percentage:', d_perc)"
   ]
  },
  {
   "cell_type": "markdown",
   "id": "ab900d98-a5ef-4697-9203-f2f6d0cf424f",
   "metadata": {},
   "source": [
    "## result of check (Alps + Pyrenees RGI from Glims global data base vs. RGI06 original):\n",
    "#### difference in number of glaciers: 180\n",
    "#### dublicate IDs: 5\n",
    "#### nominal glaciers: 2\n",
    "#### area difference: 33 km² (!!!) = 1.5%\n",
    "#### general comment: how comes the area difference?"
   ]
  },
  {
   "cell_type": "markdown",
   "id": "a1f37ab0-7387-416e-ac2b-010b38654f8e",
   "metadata": {},
   "source": [
    "### Comparison gri6-gri7 Alps"
   ]
  },
  {
   "cell_type": "code",
   "execution_count": 28,
   "id": "b66180ae-0c22-4a7d-92f3-8819322a7c51",
   "metadata": {},
   "outputs": [
    {
     "name": "stderr",
     "output_type": "stream",
     "text": [
      "/home/francesc/anaconda3/envs/geo_env/lib/python3.8/site-packages/geopandas/geodataframe.py:1351: SettingWithCopyWarning: \n",
      "A value is trying to be set on a copy of a slice from a DataFrame.\n",
      "Try using .loc[row_indexer,col_indexer] = value instead\n",
      "\n",
      "See the caveats in the documentation: https://pandas.pydata.org/pandas-docs/stable/user_guide/indexing.html#returning-a-view-versus-a-copy\n",
      "  super().__setitem__(key, value)\n"
     ]
    }
   ],
   "source": [
    "# add an area field to RGI_ss and reference data\n",
    "RGI_a['area'] = RGI_a.to_crs({'proj':'cea'}).area\n",
    "ref_odf['area'] = ref_odf.to_crs({'proj':'cea'}).area\n",
    "nom['area'] = nom.to_crs({'proj':'cea'}).area"
   ]
  },
  {
   "cell_type": "code",
   "execution_count": 29,
   "id": "5be6ab25-7279-475b-9e66-69122a7019fa",
   "metadata": {},
   "outputs": [
    {
     "name": "stdout",
     "output_type": "stream",
     "text": [
      "Area Rep [km²]: 2120.3198163438733\n",
      "Area RGI6 [km²]: 2089.0828815401155\n",
      "Area Nom [km²]: 0.16634799082587856\n",
      "Area difference [km²]: 31.403282794583447 / percentage: 1.4810634958236162\n"
     ]
    }
   ],
   "source": [
    "# print and compare area values\n",
    "Area_Rep = RGI_a['area'].sum()/1000000\n",
    "print('Area Rep [km²]:', Area_Rep)\n",
    "Area_RGI6 = ref_odf.loc[ref_odf[\"CenLon\"] > 5.0]['area'].sum()/1000000\n",
    "print('Area RGI6 [km²]:', Area_RGI6)\n",
    "Area_nom = nom.loc[ref_odf[\"CenLon\"] > 5.0]['area'].sum()/1000000\n",
    "print('Area Nom [km²]:', Area_nom)\n",
    "d = (Area_Rep + Area_nom - Area_RGI6)\n",
    "d_perc = (d/Area_Rep*100)\n",
    "print('Area difference [km²]:',d,'/','percentage:', d_perc)"
   ]
  },
  {
   "cell_type": "code",
   "execution_count": 30,
   "id": "cf1e62f3-9abc-4ab5-acb4-2961f4c3018e",
   "metadata": {},
   "outputs": [
    {
     "name": "stdout",
     "output_type": "stream",
     "text": [
      "Number of glaciers in new RGI subset: 4060\n",
      "Number of glaciers in reference data (RGI06): 3896\n",
      "Difference: 164\n"
     ]
    }
   ],
   "source": [
    "# number of glaciers\n",
    "print('Number of glaciers in new RGI subset:', len(RGI_a))\n",
    "print('Number of glaciers in reference data (RGI06):', len(ref_odf.loc[ref_odf['CenLon'] > 5.0]))\n",
    "print('Difference:', len(RGI_a)-len(ref_odf.loc[ref_odf['CenLon'] > 5.0]))"
   ]
  },
  {
   "cell_type": "markdown",
   "id": "d71330da-60b9-4442-9832-f844ed321ada",
   "metadata": {},
   "source": [
    "**Summary Alps:**\n",
    "* 164 glaciers difference\n",
    "* 31 km² difference"
   ]
  },
  {
   "cell_type": "markdown",
   "id": "0fce5939-c04d-416c-a9dd-418b4c40cc36",
   "metadata": {},
   "source": [
    "### Comparison gri6-gri7 Pyrenees"
   ]
  },
  {
   "cell_type": "code",
   "execution_count": 31,
   "id": "6de4b50c-0299-4ee6-98f0-bc42680b24ee",
   "metadata": {},
   "outputs": [
    {
     "name": "stderr",
     "output_type": "stream",
     "text": [
      "/home/francesc/anaconda3/envs/geo_env/lib/python3.8/site-packages/geopandas/geodataframe.py:1351: SettingWithCopyWarning: \n",
      "A value is trying to be set on a copy of a slice from a DataFrame.\n",
      "Try using .loc[row_indexer,col_indexer] = value instead\n",
      "\n",
      "See the caveats in the documentation: https://pandas.pydata.org/pandas-docs/stable/user_guide/indexing.html#returning-a-view-versus-a-copy\n",
      "  super().__setitem__(key, value)\n"
     ]
    }
   ],
   "source": [
    "# add an area field to RGI_ss and reference data\n",
    "RGI_p['area'] = RGI_p.to_crs({'proj':'cea'}).area\n",
    "ref_odf['area'] = ref_odf.to_crs({'proj':'cea'}).area\n",
    "nom['area'] = nom.to_crs({'proj':'cea'}).area"
   ]
  },
  {
   "cell_type": "code",
   "execution_count": 32,
   "id": "b4267ae4-c2fd-4a60-8e51-3a900cea4498",
   "metadata": {},
   "outputs": [
    {
     "name": "stdout",
     "output_type": "stream",
     "text": [
      "Area Rep [km²]: 4.200390629001659\n",
      "Area RGI6 [km²]: 2.985088006831708\n",
      "Area Nom [km²]: 0.0\n",
      "Area difference [km²]: 1.2153026221699514 / percentage: 28.933085741570714\n"
     ]
    }
   ],
   "source": [
    "# print and compare area values\n",
    "Area_Rep = RGI_p['area'].sum()/1000000\n",
    "print('Area Rep [km²]:', Area_Rep)\n",
    "Area_RGI6 = ref_odf.loc[ref_odf[\"CenLon\"] < 5.0]['area'].sum()/1000000\n",
    "print('Area RGI6 [km²]:', Area_RGI6)\n",
    "Area_nom = nom.loc[ref_odf[\"CenLon\"] < 5.0]['area'].sum()/1000000\n",
    "print('Area Nom [km²]:', Area_nom)\n",
    "d = (Area_Rep + Area_nom - Area_RGI6)\n",
    "d_perc = (d/Area_Rep*100)\n",
    "print('Area difference [km²]:',d,'/','percentage:', d_perc)"
   ]
  },
  {
   "cell_type": "code",
   "execution_count": 33,
   "id": "95ae6a9b-6377-4851-afd0-101c8909411b",
   "metadata": {},
   "outputs": [
    {
     "name": "stdout",
     "output_type": "stream",
     "text": [
      "Number of glaciers in new RGI subset: 47\n",
      "Number of glaciers in reference data (RGI06): 31\n",
      "Difference: 16\n"
     ]
    }
   ],
   "source": [
    "# number of glaciers\n",
    "print('Number of glaciers in new RGI subset:', len(RGI_p))\n",
    "print('Number of glaciers in reference data (RGI06):', len(ref_odf.loc[ref_odf[\"CenLon\"] < 5.0]))\n",
    "print('Difference:', len(RGI_p)-len(ref_odf.loc[ref_odf['CenLon'] < 5.0]))"
   ]
  },
  {
   "cell_type": "markdown",
   "id": "20726d71-1939-4ada-987e-9a371e589449",
   "metadata": {},
   "source": [
    "**Summary Pyrenees:**\n",
    "\n",
    "<span style=\"color:red\"> Differences rgi6-gri7 are huge for Pyrenees </span>\n",
    "* 16 glacier difference (47-31)\n",
    "* ~30% area difference"
   ]
  },
  {
   "cell_type": "markdown",
   "id": "unauthorized-average",
   "metadata": {},
   "source": [
    "## Write out and tar "
   ]
  },
  {
   "cell_type": "code",
   "execution_count": 34,
   "id": "characteristic-distribution",
   "metadata": {},
   "outputs": [
    {
     "name": "stdout",
     "output_type": "stream",
     "text": [
      "Writing...\n",
      "Taring...\n",
      "RGI11/\n",
      "RGI11/RGI11.cpg\n",
      "RGI11/RGI11.dbf\n",
      "RGI11/RGI11.prj\n",
      "RGI11/RGI11.shp\n",
      "RGI11/RGI11.shx\n",
      "CompletedProcess(args=['tar', '-zcvf', '../../rgi7_data/l3_rgi7a_tar/RGI11.tar.gz', '-C', '../../rgi7_data/l3_rgi7a', 'RGI11'], returncode=0)\n"
     ]
    }
   ],
   "source": [
    "dd = mkdir(f'{output_dir}/RGI{reg:02d}/', reset=True)\n",
    "\n",
    "print('Writing...')\n",
    "RGI_ss.to_file(dd + f'RGI{reg:02d}.shp')\n",
    "\n",
    "print('Taring...')\n",
    "print(subprocess.run(['tar', '-zcvf', f'{output_dir_tar}/RGI{reg:02d}.tar.gz', '-C', output_dir, f'RGI{reg:02d}']))## Write out and tar "
   ]
  },
  {
   "cell_type": "markdown",
   "id": "greatest-workplace",
   "metadata": {},
   "source": [
    "## Find missing glaciers (to be improved)"
   ]
  },
  {
   "cell_type": "code",
   "execution_count": 35,
   "id": "future-civilian",
   "metadata": {},
   "outputs": [],
   "source": [
    "from utils import haversine\n",
    "import numpy as np\n",
    "import progressbar"
   ]
  },
  {
   "cell_type": "code",
   "execution_count": 36,
   "id": "electronic-swiss",
   "metadata": {},
   "outputs": [],
   "source": [
    "def xy_coord(geom):\n",
    "    \"\"\"To compute CenLon CenLat ourselves\"\"\"\n",
    "    x, y = geom.xy\n",
    "    return x[0], y[0]"
   ]
  },
  {
   "cell_type": "code",
   "execution_count": 37,
   "id": "interesting-morrison",
   "metadata": {},
   "outputs": [],
   "source": [
    "df_ref = ref_odf.copy()\n",
    "rgi7 = RGI_ss.copy()"
   ]
  },
  {
   "cell_type": "code",
   "execution_count": 38,
   "id": "connected-royalty",
   "metadata": {},
   "outputs": [],
   "source": [
    "# Remove nominal\n",
    "df_ref = df_ref.loc[df_ref.Status != 2].copy()"
   ]
  },
  {
   "cell_type": "code",
   "execution_count": 39,
   "id": "documentary-sociology",
   "metadata": {},
   "outputs": [],
   "source": [
    "# compute CenLon CenLat ourselves\n",
    "rp = df_ref.representative_point()\n",
    "\n",
    "coordinates = np.array(list(rp.apply(xy_coord)))\n",
    "df_ref['CenLon'] = coordinates[:, 0]\n",
    "df_ref['CenLat'] = coordinates[:, 1]"
   ]
  },
  {
   "cell_type": "code",
   "execution_count": 40,
   "id": "oriental-convenience",
   "metadata": {},
   "outputs": [],
   "source": [
    "df_ref_orig = df_ref.copy()"
   ]
  },
  {
   "cell_type": "code",
   "execution_count": 41,
   "id": "hawaiian-click",
   "metadata": {},
   "outputs": [
    {
     "name": "stderr",
     "output_type": "stream",
     "text": [
      "100% (4107 of 4107) |####################| Elapsed Time: 0:00:05 Time:  0:00:05\n"
     ]
    }
   ],
   "source": [
    "# Loop over all RGI7 glaciers and find their equivalent in ref (rgi06)\n",
    "df_ref = df_ref_orig.copy()\n",
    "not_found = {}\n",
    "to_drop = []\n",
    "for i, (ref_area, lon, lat) in progressbar.progressbar(enumerate(zip(rgi7['area'].values, rgi7.CenLon.values, rgi7.CenLat.values)), max_value=len(rgi7)):\n",
    "#     dist = haversine(lon, lat, df_ref.CenLon.values, df_ref.CenLat.values)\n",
    "    dist = (lon - df_ref.CenLon.values)**2 + (lat - df_ref.CenLat.values)**2 \n",
    "    found = False\n",
    "    for j in np.argsort(dist)[:10]:\n",
    "        s6 = df_ref.iloc[j]\n",
    "        if np.allclose(s6['area'], ref_area, rtol=0.001): # this filter is for area only... \n",
    "                                                          # It could be that the area between rgi6 and the new rgi7 datasets are greater than \n",
    "                                                          # this threshold. and this would result as \"not found\"\n",
    "            found = True\n",
    "            to_drop.append(s6.name)\n",
    "            break\n",
    "    if not found:\n",
    "        not_found[i] = df_ref.iloc[np.argsort(dist)[:10]]\n",
    "    if len(to_drop) > 1000:\n",
    "        df_ref.drop(labels=to_drop, inplace=True)\n",
    "        to_drop = []\n",
    "df_ref.drop(labels=to_drop, inplace=True)"
   ]
  },
  {
   "cell_type": "code",
   "execution_count": 42,
   "id": "scientific-heritage",
   "metadata": {},
   "outputs": [
    {
     "name": "stdout",
     "output_type": "stream",
     "text": [
      "1267 1086\n"
     ]
    }
   ],
   "source": [
    "print(len(not_found), len(df_ref))"
   ]
  },
  {
   "cell_type": "code",
   "execution_count": 43,
   "id": "tropical-islam",
   "metadata": {},
   "outputs": [],
   "source": [
    "pb_rgi7 = rgi7.iloc[list(not_found.keys())]"
   ]
  },
  {
   "cell_type": "code",
   "execution_count": 44,
   "id": "protective-inspection",
   "metadata": {},
   "outputs": [
    {
     "data": {
      "image/png": "[encoded data removed]",
      "text/plain": [
       "<Figure size 432x288 with 1 Axes>"
      ]
     },
     "metadata": {
      "needs_background": "light"
     },
     "output_type": "display_data"
    }
   ],
   "source": [
    "pb_rgi7.plot(edgecolor='k');\n",
    "plt.title('GLIMS');"
   ]
  },
  {
   "cell_type": "code",
   "execution_count": 45,
   "id": "christian-origin",
   "metadata": {},
   "outputs": [
    {
     "data": {
      "image/png": "[encoded data removed]",
      "text/plain": [
       "<Figure size 432x288 with 1 Axes>"
      ]
     },
     "metadata": {
      "needs_background": "light"
     },
     "output_type": "display_data"
    }
   ],
   "source": [
    "df_ref.plot(edgecolor='k');\n",
    "plt.title('RGI6');"
   ]
  },
  {
   "cell_type": "code",
   "execution_count": 46,
   "id": "immediate-organizer",
   "metadata": {},
   "outputs": [],
   "source": [
    "# Output directories\n",
    "output_dir = mkdir(os.path.join(data_dir, 'l3_problem_glaciers'))\n",
    "output_dir_tar = mkdir(os.path.join(data_dir, 'l3_problem_glaciers_tar'))"
   ]
  },
  {
   "cell_type": "code",
   "execution_count": 47,
   "id": "broadband-sweden",
   "metadata": {},
   "outputs": [
    {
     "ename": "OSError",
     "evalue": "[Errno 39] Directory not empty: '../../rgi7_data/l3_problem_glaciers/RGI11/'",
     "output_type": "error",
     "traceback": [
      "\u001b[0;31m---------------------------------------------------------------------------\u001b[0m",
      "\u001b[0;31mOSError\u001b[0m                                   Traceback (most recent call last)",
      "\u001b[0;32m/tmp/ipykernel_155749/212114984.py\u001b[0m in \u001b[0;36m<module>\u001b[0;34m\u001b[0m\n\u001b[0;32m----> 1\u001b[0;31m \u001b[0mdd\u001b[0m \u001b[0;34m=\u001b[0m \u001b[0mmkdir\u001b[0m\u001b[0;34m(\u001b[0m\u001b[0;34mf'{output_dir}/RGI{reg:02d}/'\u001b[0m\u001b[0;34m,\u001b[0m \u001b[0mreset\u001b[0m\u001b[0;34m=\u001b[0m\u001b[0;32mTrue\u001b[0m\u001b[0;34m)\u001b[0m\u001b[0;34m\u001b[0m\u001b[0;34m\u001b[0m\u001b[0m\n\u001b[0m\u001b[1;32m      2\u001b[0m \u001b[0;34m\u001b[0m\u001b[0m\n\u001b[1;32m      3\u001b[0m \u001b[0mprint\u001b[0m\u001b[0;34m(\u001b[0m\u001b[0;34m'Writing...'\u001b[0m\u001b[0;34m)\u001b[0m\u001b[0;34m\u001b[0m\u001b[0;34m\u001b[0m\u001b[0m\n\u001b[1;32m      4\u001b[0m \u001b[0mpb_rgi7\u001b[0m\u001b[0;34m.\u001b[0m\u001b[0mto_file\u001b[0m\u001b[0;34m(\u001b[0m\u001b[0mdd\u001b[0m \u001b[0;34m+\u001b[0m \u001b[0;34mf'RGI{reg:02d}_glims.shp'\u001b[0m\u001b[0;34m)\u001b[0m\u001b[0;34m\u001b[0m\u001b[0;34m\u001b[0m\u001b[0m\n\u001b[1;32m      5\u001b[0m \u001b[0mdf_ref\u001b[0m\u001b[0;34m.\u001b[0m\u001b[0mto_file\u001b[0m\u001b[0;34m(\u001b[0m\u001b[0mdd\u001b[0m \u001b[0;34m+\u001b[0m \u001b[0;34mf'RGI{reg:02d}_ref.shp'\u001b[0m\u001b[0;34m)\u001b[0m\u001b[0;34m\u001b[0m\u001b[0;34m\u001b[0m\u001b[0m\n",
      "\u001b[0;32m~/repositories/rgi7_scripts/workflow/utils.py\u001b[0m in \u001b[0;36mmkdir\u001b[0;34m(path, reset)\u001b[0m\n\u001b[1;32m     16\u001b[0m \u001b[0;34m\u001b[0m\u001b[0m\n\u001b[1;32m     17\u001b[0m     \u001b[0;32mif\u001b[0m \u001b[0mreset\u001b[0m \u001b[0;32mand\u001b[0m \u001b[0mos\u001b[0m\u001b[0;34m.\u001b[0m\u001b[0mpath\u001b[0m\u001b[0;34m.\u001b[0m\u001b[0mexists\u001b[0m\u001b[0;34m(\u001b[0m\u001b[0mpath\u001b[0m\u001b[0;34m)\u001b[0m\u001b[0;34m:\u001b[0m\u001b[0;34m\u001b[0m\u001b[0;34m\u001b[0m\u001b[0m\n\u001b[0;32m---> 18\u001b[0;31m         \u001b[0mshutil\u001b[0m\u001b[0;34m.\u001b[0m\u001b[0mrmtree\u001b[0m\u001b[0;34m(\u001b[0m\u001b[0mpath\u001b[0m\u001b[0;34m)\u001b[0m\u001b[0;34m\u001b[0m\u001b[0;34m\u001b[0m\u001b[0m\n\u001b[0m\u001b[1;32m     19\u001b[0m     \u001b[0;32mtry\u001b[0m\u001b[0;34m:\u001b[0m\u001b[0;34m\u001b[0m\u001b[0;34m\u001b[0m\u001b[0m\n\u001b[1;32m     20\u001b[0m         \u001b[0mos\u001b[0m\u001b[0;34m.\u001b[0m\u001b[0mmakedirs\u001b[0m\u001b[0;34m(\u001b[0m\u001b[0mpath\u001b[0m\u001b[0;34m)\u001b[0m\u001b[0;34m\u001b[0m\u001b[0;34m\u001b[0m\u001b[0m\n",
      "\u001b[0;32m~/anaconda3/envs/geo_env/lib/python3.8/shutil.py\u001b[0m in \u001b[0;36mrmtree\u001b[0;34m(path, ignore_errors, onerror)\u001b[0m\n\u001b[1;32m    720\u001b[0m                     \u001b[0mos\u001b[0m\u001b[0;34m.\u001b[0m\u001b[0mrmdir\u001b[0m\u001b[0;34m(\u001b[0m\u001b[0mpath\u001b[0m\u001b[0;34m)\u001b[0m\u001b[0;34m\u001b[0m\u001b[0;34m\u001b[0m\u001b[0m\n\u001b[1;32m    721\u001b[0m                 \u001b[0;32mexcept\u001b[0m \u001b[0mOSError\u001b[0m\u001b[0;34m:\u001b[0m\u001b[0;34m\u001b[0m\u001b[0;34m\u001b[0m\u001b[0m\n\u001b[0;32m--> 722\u001b[0;31m                     \u001b[0monerror\u001b[0m\u001b[0;34m(\u001b[0m\u001b[0mos\u001b[0m\u001b[0;34m.\u001b[0m\u001b[0mrmdir\u001b[0m\u001b[0;34m,\u001b[0m \u001b[0mpath\u001b[0m\u001b[0;34m,\u001b[0m \u001b[0msys\u001b[0m\u001b[0;34m.\u001b[0m\u001b[0mexc_info\u001b[0m\u001b[0;34m(\u001b[0m\u001b[0;34m)\u001b[0m\u001b[0;34m)\u001b[0m\u001b[0;34m\u001b[0m\u001b[0;34m\u001b[0m\u001b[0m\n\u001b[0m\u001b[1;32m    723\u001b[0m             \u001b[0;32melse\u001b[0m\u001b[0;34m:\u001b[0m\u001b[0;34m\u001b[0m\u001b[0;34m\u001b[0m\u001b[0m\n\u001b[1;32m    724\u001b[0m                 \u001b[0;32mtry\u001b[0m\u001b[0;34m:\u001b[0m\u001b[0;34m\u001b[0m\u001b[0;34m\u001b[0m\u001b[0m\n",
      "\u001b[0;32m~/anaconda3/envs/geo_env/lib/python3.8/shutil.py\u001b[0m in \u001b[0;36mrmtree\u001b[0;34m(path, ignore_errors, onerror)\u001b[0m\n\u001b[1;32m    718\u001b[0m                 \u001b[0m_rmtree_safe_fd\u001b[0m\u001b[0;34m(\u001b[0m\u001b[0mfd\u001b[0m\u001b[0;34m,\u001b[0m \u001b[0mpath\u001b[0m\u001b[0;34m,\u001b[0m \u001b[0monerror\u001b[0m\u001b[0;34m)\u001b[0m\u001b[0;34m\u001b[0m\u001b[0;34m\u001b[0m\u001b[0m\n\u001b[1;32m    719\u001b[0m                 \u001b[0;32mtry\u001b[0m\u001b[0;34m:\u001b[0m\u001b[0;34m\u001b[0m\u001b[0;34m\u001b[0m\u001b[0m\n\u001b[0;32m--> 720\u001b[0;31m                     \u001b[0mos\u001b[0m\u001b[0;34m.\u001b[0m\u001b[0mrmdir\u001b[0m\u001b[0;34m(\u001b[0m\u001b[0mpath\u001b[0m\u001b[0;34m)\u001b[0m\u001b[0;34m\u001b[0m\u001b[0;34m\u001b[0m\u001b[0m\n\u001b[0m\u001b[1;32m    721\u001b[0m                 \u001b[0;32mexcept\u001b[0m \u001b[0mOSError\u001b[0m\u001b[0;34m:\u001b[0m\u001b[0;34m\u001b[0m\u001b[0;34m\u001b[0m\u001b[0m\n\u001b[1;32m    722\u001b[0m                     \u001b[0monerror\u001b[0m\u001b[0;34m(\u001b[0m\u001b[0mos\u001b[0m\u001b[0;34m.\u001b[0m\u001b[0mrmdir\u001b[0m\u001b[0;34m,\u001b[0m \u001b[0mpath\u001b[0m\u001b[0;34m,\u001b[0m \u001b[0msys\u001b[0m\u001b[0;34m.\u001b[0m\u001b[0mexc_info\u001b[0m\u001b[0;34m(\u001b[0m\u001b[0;34m)\u001b[0m\u001b[0;34m)\u001b[0m\u001b[0;34m\u001b[0m\u001b[0;34m\u001b[0m\u001b[0m\n",
      "\u001b[0;31mOSError\u001b[0m: [Errno 39] Directory not empty: '../../rgi7_data/l3_problem_glaciers/RGI11/'"
     ]
    }
   ],
   "source": [
    "dd = mkdir(f'{output_dir}/RGI{reg:02d}/', reset=True)\n",
    "\n",
    "print('Writing...')\n",
    "pb_rgi7.to_file(dd + f'RGI{reg:02d}_glims.shp')\n",
    "df_ref.to_file(dd + f'RGI{reg:02d}_ref.shp')\n",
    "\n",
    "print('Taring...')\n",
    "print(subprocess.run(['tar', '-zcvf', f'{output_dir_tar}/RGI{reg:02d}.tar.gz', '-C', output_dir, f'RGI{reg:02d}']))"
   ]
  }
 ],
 "metadata": {
  "kernelspec": {
   "display_name": "Python 3 (ipykernel)",
   "language": "python",
   "name": "python3"
  },
  "language_info": {
   "codemirror_mode": {
    "name": "ipython",
    "version": 3
   },
   "file_extension": ".py",
   "mimetype": "text/x-python",
   "name": "python",
   "nbconvert_exporter": "python",
   "pygments_lexer": "ipython3",
   "version": "3.8.12"
  }
 },
 "nbformat": 4,
 "nbformat_minor": 5
}
