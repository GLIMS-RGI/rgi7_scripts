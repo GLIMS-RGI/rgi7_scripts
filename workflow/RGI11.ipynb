{
 "cells": [
  {
   "cell_type": "markdown",
   "id": "appointed-purchase",
   "metadata": {},
   "source": [
    "# RGI11 (Central Europe)\n",
    "\n",
    "F. Roura-Adseiras & Fabien Maussion\n",
    "\n",
    "Goal:\n",
    "- Alps: updates of the Paul 2003 dataset\n",
    "- Pytrenees: new inventory by Izagirre"
   ]
  },
  {
   "cell_type": "code",
   "execution_count": 1,
   "id": "enabling-trainer",
   "metadata": {},
   "outputs": [],
   "source": [
    "import pandas as pd\n",
    "import geopandas as gpd\n",
    "import subprocess\n",
    "import matplotlib.pyplot as plt\n",
    "import matplotlib.patches as mpatches\n",
    "import seaborn as sns\n",
    "import numpy as np\n",
    "from utils import mkdir, submission_summary, needs_size_filter, size_filter, plot_map, plot_date_hist\n",
    "import os"
   ]
  },
  {
   "cell_type": "markdown",
   "id": "sustained-riverside",
   "metadata": {},
   "source": [
    "## Files and storage paths"
   ]
  },
  {
   "cell_type": "code",
   "execution_count": 2,
   "id": "joined-range",
   "metadata": {},
   "outputs": [],
   "source": [
    "# Region of interest\n",
    "reg = 11\n",
    "\n",
    "# go down from rgi7_scripts/workflow\n",
    "data_dir = '../../rgi7_data/'\n",
    "\n",
    "# Level 2 GLIMS files\n",
    "l2_dir = os.path.join(data_dir, 'l2_sel_reg_tars')\n",
    "\n",
    "# Output directories\n",
    "output_dir = mkdir(os.path.join(data_dir, 'l3_rgi7a'))\n",
    "output_dir_tar = mkdir(os.path.join(data_dir, 'l3_rgi7a_tar'))\n",
    "\n",
    "# Izaguirre file for GLIMS check \n",
    "ref_reg_file_p = os.path.join(data_dir, 'l0_support_data', 'pyrenees2000.zip') \n",
    "\n",
    "# Frank file for GLIMS check \n",
    "ref_reg_file_a = os.path.join(data_dir, 'l0_support_data', 'C3S_GI_RGI11_L5_2003.zip') \n",
    "\n",
    "# RGI v6 file for comparison later \n",
    "rgi6_reg_file = os.path.join(data_dir, 'l0_RGIv6', '11_rgi60_CentralEurope.zip')"
   ]
  },
  {
   "cell_type": "code",
   "execution_count": 3,
   "id": "16f7f1fa-570e-4fd5-a21f-97a5d3dbb196",
   "metadata": {},
   "outputs": [],
   "source": [
    "# Support data\n",
    "support_dir = os.path.join(data_dir, 'l0_support_data')"
   ]
  },
  {
   "cell_type": "markdown",
   "id": "loving-exclusive",
   "metadata": {},
   "source": [
    "### Load the GLIMS input data"
   ]
  },
  {
   "cell_type": "code",
   "execution_count": 4,
   "id": "sporting-sociology",
   "metadata": {},
   "outputs": [],
   "source": [
    "# Read L2 files\n",
    "shp = gpd.read_file('tar://' + l2_dir + f'/RGI{reg:02d}.tar.gz/RGI{reg:02d}/RGI{reg:02d}.shp')"
   ]
  },
  {
   "cell_type": "markdown",
   "id": "96d5a532-0902-416f-b6d8-307363fc7357",
   "metadata": {},
   "source": [
    "### List of submissions "
   ]
  },
  {
   "cell_type": "code",
   "execution_count": 5,
   "id": "6d9c4ab0-c7cf-4e67-80cc-db6073ddb3c5",
   "metadata": {},
   "outputs": [
    {
     "data": {
      "text/html": [
       "<div>\n",
       "<style scoped>\n",
       "    .dataframe tbody tr th:only-of-type {\n",
       "        vertical-align: middle;\n",
       "    }\n",
       "\n",
       "    .dataframe tbody tr th {\n",
       "        vertical-align: top;\n",
       "    }\n",
       "\n",
       "    .dataframe thead th {\n",
       "        text-align: right;\n",
       "    }\n",
       "</style>\n",
       "<table border=\"1\" class=\"dataframe\">\n",
       "  <thead>\n",
       "    <tr style=\"text-align: right;\">\n",
       "      <th></th>\n",
       "      <th>N</th>\n",
       "      <th>A</th>\n",
       "      <th>analysts</th>\n",
       "      <th>submitters</th>\n",
       "      <th>release_date</th>\n",
       "      <th>geog_area</th>\n",
       "      <th>src_date_mode</th>\n",
       "      <th>src_date_min</th>\n",
       "      <th>src_date_max</th>\n",
       "    </tr>\n",
       "    <tr>\n",
       "      <th>subm_id</th>\n",
       "      <th></th>\n",
       "      <th></th>\n",
       "      <th></th>\n",
       "      <th></th>\n",
       "      <th></th>\n",
       "      <th></th>\n",
       "      <th></th>\n",
       "      <th></th>\n",
       "      <th></th>\n",
       "    </tr>\n",
       "  </thead>\n",
       "  <tbody>\n",
       "    <tr>\n",
       "      <th>1</th>\n",
       "      <td>41</td>\n",
       "      <td>7.4</td>\n",
       "      <td>Taschner</td>\n",
       "      <td>Ranzi</td>\n",
       "      <td>2006</td>\n",
       "      <td>Italian Alps</td>\n",
       "      <td>2001</td>\n",
       "      <td>2001</td>\n",
       "      <td>2001</td>\n",
       "    </tr>\n",
       "    <tr>\n",
       "      <th>301</th>\n",
       "      <td>5</td>\n",
       "      <td>3.3</td>\n",
       "      <td>Taschner</td>\n",
       "      <td>Ranzi</td>\n",
       "      <td>2006</td>\n",
       "      <td>Italian Alps</td>\n",
       "      <td>2003</td>\n",
       "      <td>2003</td>\n",
       "      <td>2003</td>\n",
       "    </tr>\n",
       "    <tr>\n",
       "      <th>501</th>\n",
       "      <td>45</td>\n",
       "      <td>2.3</td>\n",
       "      <td>Iacovelli</td>\n",
       "      <td>Ranzi</td>\n",
       "      <td>2006</td>\n",
       "      <td>Italian Alps</td>\n",
       "      <td>2003</td>\n",
       "      <td>2003</td>\n",
       "      <td>2003</td>\n",
       "    </tr>\n",
       "    <tr>\n",
       "      <th>531</th>\n",
       "      <td>132</td>\n",
       "      <td>37.0</td>\n",
       "      <td>Rott, Schicker, Schwaizer (nee Bippus)</td>\n",
       "      <td>Rott</td>\n",
       "      <td>2008</td>\n",
       "      <td>Austrian Alps</td>\n",
       "      <td>2003</td>\n",
       "      <td>2003</td>\n",
       "      <td>2003</td>\n",
       "    </tr>\n",
       "    <tr>\n",
       "      <th>532</th>\n",
       "      <td>155</td>\n",
       "      <td>61.0</td>\n",
       "      <td>Schicker, Schwaizer (nee Bippus)</td>\n",
       "      <td>Rott</td>\n",
       "      <td>2008</td>\n",
       "      <td>Austrian Alps</td>\n",
       "      <td>1985</td>\n",
       "      <td>1985</td>\n",
       "      <td>1985</td>\n",
       "    </tr>\n",
       "    <tr>\n",
       "      <th>533</th>\n",
       "      <td>896</td>\n",
       "      <td>896.8</td>\n",
       "      <td>Paul</td>\n",
       "      <td>Paul</td>\n",
       "      <td>2009</td>\n",
       "      <td>Swiss Alps</td>\n",
       "      <td>1998</td>\n",
       "      <td>1998</td>\n",
       "      <td>1998</td>\n",
       "    </tr>\n",
       "    <tr>\n",
       "      <th>558</th>\n",
       "      <td>10</td>\n",
       "      <td>8.5</td>\n",
       "      <td>Vantadori</td>\n",
       "      <td>Ranzi</td>\n",
       "      <td>2012</td>\n",
       "      <td>Italian Alps</td>\n",
       "      <td>2007</td>\n",
       "      <td>2007</td>\n",
       "      <td>2007</td>\n",
       "    </tr>\n",
       "    <tr>\n",
       "      <th>568</th>\n",
       "      <td>660</td>\n",
       "      <td>302.4</td>\n",
       "      <td>Rabatel</td>\n",
       "      <td>Rabatel</td>\n",
       "      <td>2013</td>\n",
       "      <td>French Alps</td>\n",
       "      <td>2003</td>\n",
       "      <td>2003</td>\n",
       "      <td>2004</td>\n",
       "    </tr>\n",
       "    <tr>\n",
       "      <th>569</th>\n",
       "      <td>537</td>\n",
       "      <td>343.0</td>\n",
       "      <td>Rabatel</td>\n",
       "      <td>Rabatel</td>\n",
       "      <td>2013</td>\n",
       "      <td>French Alps</td>\n",
       "      <td>1985</td>\n",
       "      <td>1985</td>\n",
       "      <td>1988</td>\n",
       "    </tr>\n",
       "    <tr>\n",
       "      <th>579</th>\n",
       "      <td>1999</td>\n",
       "      <td>944.0</td>\n",
       "      <td>Fischer</td>\n",
       "      <td>Fischer</td>\n",
       "      <td>2013</td>\n",
       "      <td>Swiss Alps</td>\n",
       "      <td>2009</td>\n",
       "      <td>2009</td>\n",
       "      <td>2009</td>\n",
       "    </tr>\n",
       "    <tr>\n",
       "      <th>593</th>\n",
       "      <td>7572</td>\n",
       "      <td>2086.8</td>\n",
       "      <td>Paul</td>\n",
       "      <td>Paul</td>\n",
       "      <td>2016</td>\n",
       "      <td>Swiss Alps</td>\n",
       "      <td>2003</td>\n",
       "      <td>2003</td>\n",
       "      <td>2003</td>\n",
       "    </tr>\n",
       "    <tr>\n",
       "      <th>594</th>\n",
       "      <td>912</td>\n",
       "      <td>766.0</td>\n",
       "      <td>Wipf</td>\n",
       "      <td>Paul</td>\n",
       "      <td>2016</td>\n",
       "      <td>Swiss Alps</td>\n",
       "      <td>1850</td>\n",
       "      <td>1850</td>\n",
       "      <td>1850</td>\n",
       "    </tr>\n",
       "    <tr>\n",
       "      <th>595</th>\n",
       "      <td>1970</td>\n",
       "      <td>1063.1</td>\n",
       "      <td>Maisch</td>\n",
       "      <td>Paul</td>\n",
       "      <td>2016</td>\n",
       "      <td>Swiss Alps</td>\n",
       "      <td>1850</td>\n",
       "      <td>1850</td>\n",
       "      <td>1850</td>\n",
       "    </tr>\n",
       "    <tr>\n",
       "      <th>596</th>\n",
       "      <td>2010</td>\n",
       "      <td>944.2</td>\n",
       "      <td>Fischer</td>\n",
       "      <td>Fischer</td>\n",
       "      <td>2016</td>\n",
       "      <td>Swiss Alps</td>\n",
       "      <td>2008</td>\n",
       "      <td>2008</td>\n",
       "      <td>2008</td>\n",
       "    </tr>\n",
       "    <tr>\n",
       "      <th>598</th>\n",
       "      <td>399</td>\n",
       "      <td>107.7</td>\n",
       "      <td>Paul</td>\n",
       "      <td>Paul</td>\n",
       "      <td>2016</td>\n",
       "      <td>Swiss Alps</td>\n",
       "      <td>1999</td>\n",
       "      <td>1999</td>\n",
       "      <td>1999</td>\n",
       "    </tr>\n",
       "    <tr>\n",
       "      <th>599</th>\n",
       "      <td>2061</td>\n",
       "      <td>1285.6</td>\n",
       "      <td>Benz, Wipf</td>\n",
       "      <td>Maisch</td>\n",
       "      <td>2016</td>\n",
       "      <td>Swiss Alps</td>\n",
       "      <td>1973</td>\n",
       "      <td>1973</td>\n",
       "      <td>1973</td>\n",
       "    </tr>\n",
       "    <tr>\n",
       "      <th>601</th>\n",
       "      <td>871</td>\n",
       "      <td>555.5</td>\n",
       "      <td>Fischer, Kuhn, Lambrecht</td>\n",
       "      <td>Fischer</td>\n",
       "      <td>2016</td>\n",
       "      <td>Austrian Alps</td>\n",
       "      <td>1969</td>\n",
       "      <td>1969</td>\n",
       "      <td>1969</td>\n",
       "    </tr>\n",
       "    <tr>\n",
       "      <th>602</th>\n",
       "      <td>1331</td>\n",
       "      <td>472.3</td>\n",
       "      <td>Fischer, Kuhn, Lambrecht</td>\n",
       "      <td>Fischer</td>\n",
       "      <td>2016</td>\n",
       "      <td>Austrian Alps</td>\n",
       "      <td>1998</td>\n",
       "      <td>1998</td>\n",
       "      <td>1998</td>\n",
       "    </tr>\n",
       "    <tr>\n",
       "      <th>603</th>\n",
       "      <td>1403</td>\n",
       "      <td>415.2</td>\n",
       "      <td>Fischer</td>\n",
       "      <td>Fischer</td>\n",
       "      <td>2016</td>\n",
       "      <td>Austrian Alps</td>\n",
       "      <td>2012</td>\n",
       "      <td>2012</td>\n",
       "      <td>2012</td>\n",
       "    </tr>\n",
       "    <tr>\n",
       "      <th>613</th>\n",
       "      <td>654</td>\n",
       "      <td>918.3</td>\n",
       "      <td>Fischer</td>\n",
       "      <td>Fischer</td>\n",
       "      <td>2016</td>\n",
       "      <td>Austrian Alps</td>\n",
       "      <td>1850</td>\n",
       "      <td>1850</td>\n",
       "      <td>1850</td>\n",
       "    </tr>\n",
       "    <tr>\n",
       "      <th>615</th>\n",
       "      <td>903</td>\n",
       "      <td>368.3</td>\n",
       "      <td>Smiraglia</td>\n",
       "      <td>Smiraglia</td>\n",
       "      <td>2017</td>\n",
       "      <td>Italy</td>\n",
       "      <td>2011</td>\n",
       "      <td>2011</td>\n",
       "      <td>2011</td>\n",
       "    </tr>\n",
       "    <tr>\n",
       "      <th>640</th>\n",
       "      <td>581</td>\n",
       "      <td>275.3</td>\n",
       "      <td>Antoine</td>\n",
       "      <td>Rabatel</td>\n",
       "      <td>2016</td>\n",
       "      <td>French Alps</td>\n",
       "      <td>2004</td>\n",
       "      <td>2004</td>\n",
       "      <td>2004</td>\n",
       "    </tr>\n",
       "    <tr>\n",
       "      <th>641</th>\n",
       "      <td>541</td>\n",
       "      <td>368.8</td>\n",
       "      <td>Antoine</td>\n",
       "      <td>Rabatel</td>\n",
       "      <td>2016</td>\n",
       "      <td>French Alps</td>\n",
       "      <td>1967</td>\n",
       "      <td>1939</td>\n",
       "      <td>1971</td>\n",
       "    </tr>\n",
       "    <tr>\n",
       "      <th>663</th>\n",
       "      <td>615</td>\n",
       "      <td>172.0</td>\n",
       "      <td>Nemec, Schwaizer (nee Bippus)</td>\n",
       "      <td>Schwaizer (nee Bippus)</td>\n",
       "      <td>2019</td>\n",
       "      <td>Austrian Alps</td>\n",
       "      <td>2015</td>\n",
       "      <td>2015</td>\n",
       "      <td>2015</td>\n",
       "    </tr>\n",
       "    <tr>\n",
       "      <th>664</th>\n",
       "      <td>90</td>\n",
       "      <td>16.5</td>\n",
       "      <td>Nemec, Schwaizer (nee Bippus)</td>\n",
       "      <td>Schwaizer (nee Bippus)</td>\n",
       "      <td>2019</td>\n",
       "      <td>Austrian Alps</td>\n",
       "      <td>2016</td>\n",
       "      <td>2016</td>\n",
       "      <td>2016</td>\n",
       "    </tr>\n",
       "    <tr>\n",
       "      <th>665</th>\n",
       "      <td>322</td>\n",
       "      <td>67.7</td>\n",
       "      <td>Nemec, Schwaizer (nee Bippus)</td>\n",
       "      <td>Schwaizer (nee Bippus)</td>\n",
       "      <td>2019</td>\n",
       "      <td>Austrian Alps</td>\n",
       "      <td>2016</td>\n",
       "      <td>2016</td>\n",
       "      <td>2016</td>\n",
       "    </tr>\n",
       "    <tr>\n",
       "      <th>666</th>\n",
       "      <td>206</td>\n",
       "      <td>66.9</td>\n",
       "      <td>Nemec, Schwaizer (nee Bippus)</td>\n",
       "      <td>Schwaizer (nee Bippus)</td>\n",
       "      <td>2019</td>\n",
       "      <td>Austrian Alps</td>\n",
       "      <td>2016</td>\n",
       "      <td>2016</td>\n",
       "      <td>2016</td>\n",
       "    </tr>\n",
       "    <tr>\n",
       "      <th>667</th>\n",
       "      <td>196</td>\n",
       "      <td>35.8</td>\n",
       "      <td>Nemec, Schwaizer (nee Bippus)</td>\n",
       "      <td>Schwaizer (nee Bippus)</td>\n",
       "      <td>2019</td>\n",
       "      <td>Austrian Alps</td>\n",
       "      <td>2016</td>\n",
       "      <td>2016</td>\n",
       "      <td>2016</td>\n",
       "    </tr>\n",
       "    <tr>\n",
       "      <th>668</th>\n",
       "      <td>1</td>\n",
       "      <td>6.0</td>\n",
       "      <td>Nemec, Schwaizer (nee Bippus)</td>\n",
       "      <td>Schwaizer (nee Bippus)</td>\n",
       "      <td>2019</td>\n",
       "      <td>Austrian Alps</td>\n",
       "      <td>2015</td>\n",
       "      <td>2015</td>\n",
       "      <td>2015</td>\n",
       "    </tr>\n",
       "    <tr>\n",
       "      <th>710</th>\n",
       "      <td>4407</td>\n",
       "      <td>1806.2</td>\n",
       "      <td>Azzoni, Fugazza, Le Bris, Nemec, Paul, Rabatel...</td>\n",
       "      <td>Paul</td>\n",
       "      <td>2019</td>\n",
       "      <td>Various (GlobGlacier)</td>\n",
       "      <td>2015</td>\n",
       "      <td>2015</td>\n",
       "      <td>2017</td>\n",
       "    </tr>\n",
       "    <tr>\n",
       "      <th>715</th>\n",
       "      <td>47</td>\n",
       "      <td>4.2</td>\n",
       "      <td>Izagirre</td>\n",
       "      <td>Izagirre</td>\n",
       "      <td>2020</td>\n",
       "      <td>Pyrenees</td>\n",
       "      <td>2000</td>\n",
       "      <td>2000</td>\n",
       "      <td>2000</td>\n",
       "    </tr>\n",
       "    <tr>\n",
       "      <th>731</th>\n",
       "      <td>4060</td>\n",
       "      <td>2120.3</td>\n",
       "      <td>Frey, Le Bris, Paul, Rastner</td>\n",
       "      <td>Paul</td>\n",
       "      <td>2021</td>\n",
       "      <td>Swiss Alps</td>\n",
       "      <td>2003</td>\n",
       "      <td>2003</td>\n",
       "      <td>2003</td>\n",
       "    </tr>\n",
       "  </tbody>\n",
       "</table>\n",
       "</div>"
      ],
      "text/plain": [
       "            N       A                                           analysts  \\\n",
       "subm_id                                                                    \n",
       "1          41     7.4                                           Taschner   \n",
       "301         5     3.3                                           Taschner   \n",
       "501        45     2.3                                          Iacovelli   \n",
       "531       132    37.0             Rott, Schicker, Schwaizer (nee Bippus)   \n",
       "532       155    61.0                   Schicker, Schwaizer (nee Bippus)   \n",
       "533       896   896.8                                               Paul   \n",
       "558        10     8.5                                          Vantadori   \n",
       "568       660   302.4                                            Rabatel   \n",
       "569       537   343.0                                            Rabatel   \n",
       "579      1999   944.0                                            Fischer   \n",
       "593      7572  2086.8                                               Paul   \n",
       "594       912   766.0                                               Wipf   \n",
       "595      1970  1063.1                                             Maisch   \n",
       "596      2010   944.2                                            Fischer   \n",
       "598       399   107.7                                               Paul   \n",
       "599      2061  1285.6                                         Benz, Wipf   \n",
       "601       871   555.5                           Fischer, Kuhn, Lambrecht   \n",
       "602      1331   472.3                           Fischer, Kuhn, Lambrecht   \n",
       "603      1403   415.2                                            Fischer   \n",
       "613       654   918.3                                            Fischer   \n",
       "615       903   368.3                                          Smiraglia   \n",
       "640       581   275.3                                            Antoine   \n",
       "641       541   368.8                                            Antoine   \n",
       "663       615   172.0                      Nemec, Schwaizer (nee Bippus)   \n",
       "664        90    16.5                      Nemec, Schwaizer (nee Bippus)   \n",
       "665       322    67.7                      Nemec, Schwaizer (nee Bippus)   \n",
       "666       206    66.9                      Nemec, Schwaizer (nee Bippus)   \n",
       "667       196    35.8                      Nemec, Schwaizer (nee Bippus)   \n",
       "668         1     6.0                      Nemec, Schwaizer (nee Bippus)   \n",
       "710      4407  1806.2  Azzoni, Fugazza, Le Bris, Nemec, Paul, Rabatel...   \n",
       "715        47     4.2                                           Izagirre   \n",
       "731      4060  2120.3                       Frey, Le Bris, Paul, Rastner   \n",
       "\n",
       "                     submitters  release_date              geog_area  \\\n",
       "subm_id                                                                \n",
       "1                         Ranzi          2006           Italian Alps   \n",
       "301                       Ranzi          2006           Italian Alps   \n",
       "501                       Ranzi          2006           Italian Alps   \n",
       "531                        Rott          2008          Austrian Alps   \n",
       "532                        Rott          2008          Austrian Alps   \n",
       "533                        Paul          2009             Swiss Alps   \n",
       "558                       Ranzi          2012           Italian Alps   \n",
       "568                     Rabatel          2013            French Alps   \n",
       "569                     Rabatel          2013            French Alps   \n",
       "579                     Fischer          2013             Swiss Alps   \n",
       "593                        Paul          2016             Swiss Alps   \n",
       "594                        Paul          2016             Swiss Alps   \n",
       "595                        Paul          2016             Swiss Alps   \n",
       "596                     Fischer          2016             Swiss Alps   \n",
       "598                        Paul          2016             Swiss Alps   \n",
       "599                      Maisch          2016             Swiss Alps   \n",
       "601                     Fischer          2016          Austrian Alps   \n",
       "602                     Fischer          2016          Austrian Alps   \n",
       "603                     Fischer          2016          Austrian Alps   \n",
       "613                     Fischer          2016          Austrian Alps   \n",
       "615                   Smiraglia          2017                  Italy   \n",
       "640                     Rabatel          2016            French Alps   \n",
       "641                     Rabatel          2016            French Alps   \n",
       "663      Schwaizer (nee Bippus)          2019          Austrian Alps   \n",
       "664      Schwaizer (nee Bippus)          2019          Austrian Alps   \n",
       "665      Schwaizer (nee Bippus)          2019          Austrian Alps   \n",
       "666      Schwaizer (nee Bippus)          2019          Austrian Alps   \n",
       "667      Schwaizer (nee Bippus)          2019          Austrian Alps   \n",
       "668      Schwaizer (nee Bippus)          2019          Austrian Alps   \n",
       "710                        Paul          2019  Various (GlobGlacier)   \n",
       "715                    Izagirre          2020               Pyrenees   \n",
       "731                        Paul          2021             Swiss Alps   \n",
       "\n",
       "         src_date_mode  src_date_min  src_date_max  \n",
       "subm_id                                             \n",
       "1                 2001          2001          2001  \n",
       "301               2003          2003          2003  \n",
       "501               2003          2003          2003  \n",
       "531               2003          2003          2003  \n",
       "532               1985          1985          1985  \n",
       "533               1998          1998          1998  \n",
       "558               2007          2007          2007  \n",
       "568               2003          2003          2004  \n",
       "569               1985          1985          1988  \n",
       "579               2009          2009          2009  \n",
       "593               2003          2003          2003  \n",
       "594               1850          1850          1850  \n",
       "595               1850          1850          1850  \n",
       "596               2008          2008          2008  \n",
       "598               1999          1999          1999  \n",
       "599               1973          1973          1973  \n",
       "601               1969          1969          1969  \n",
       "602               1998          1998          1998  \n",
       "603               2012          2012          2012  \n",
       "613               1850          1850          1850  \n",
       "615               2011          2011          2011  \n",
       "640               2004          2004          2004  \n",
       "641               1967          1939          1971  \n",
       "663               2015          2015          2015  \n",
       "664               2016          2016          2016  \n",
       "665               2016          2016          2016  \n",
       "666               2016          2016          2016  \n",
       "667               2016          2016          2016  \n",
       "668               2015          2015          2015  \n",
       "710               2015          2015          2017  \n",
       "715               2000          2000          2000  \n",
       "731               2003          2003          2003  "
      ]
     },
     "execution_count": 5,
     "metadata": {},
     "output_type": "execute_result"
    }
   ],
   "source": [
    "sdf, _ = submission_summary(shp)\n",
    "sdf"
   ]
  },
  {
   "cell_type": "code",
   "execution_count": 6,
   "id": "218a037e-fb99-49b5-beaf-c13b814c469d",
   "metadata": {},
   "outputs": [],
   "source": [
    "# # Optional: write out selection in intermediate shape files for manual GIS review\n",
    "# tmp_output_dir = mkdir(os.path.join(data_dir, 'l0_tmp_data', f'rgi{reg:02d}_inventories'))\n",
    "# tmp_output_dir_tar = mkdir(os.path.join(data_dir, 'l0_tmp_data'))\n",
    "# for subid in shp.subm_id.unique():\n",
    "#     s_loc = shp.loc[shp.subm_id == subid]\n",
    "#     s_loc.to_file(tmp_output_dir + f'/subm_{int(subid):03d}.shp')\n",
    "# print('Taring...')\n",
    "# print(subprocess.run(['tar', '-zcvf', f'{tmp_output_dir_tar}/rgi{reg:02d}_inventories.tar.gz', '-C', \n",
    "#                       os.path.join(data_dir, 'l0_tmp_data'), f'rgi{reg:02d}_inventories']))"
   ]
  },
  {
   "cell_type": "markdown",
   "id": "6d199078-7c97-4324-8a7d-68c1e54e27be",
   "metadata": {},
   "source": [
    "## Outline selection "
   ]
  },
  {
   "cell_type": "code",
   "execution_count": 7,
   "id": "polish-psychology",
   "metadata": {},
   "outputs": [
    {
     "name": "stdout",
     "output_type": "stream",
     "text": [
      "4060\n"
     ]
    },
    {
     "data": {
      "text/plain": [
       "4042"
      ]
     },
     "execution_count": 7,
     "metadata": {},
     "output_type": "execute_result"
    }
   ],
   "source": [
    "# For Alps we use 'subm_id' = 731 as our main dataset\n",
    "RGI_a = shp.loc[shp['subm_id'] == 731].copy()\n",
    "\n",
    "# Sel by size\n",
    "print(len(RGI_a))\n",
    "RGI_a = size_filter(RGI_a)\n",
    "len(RGI_a)"
   ]
  },
  {
   "cell_type": "code",
   "execution_count": 8,
   "id": "3716f814-f176-4383-a953-033639ea3066",
   "metadata": {},
   "outputs": [
    {
     "name": "stdout",
     "output_type": "stream",
     "text": [
      "47\n"
     ]
    },
    {
     "data": {
      "text/plain": [
       "45"
      ]
     },
     "execution_count": 8,
     "metadata": {},
     "output_type": "execute_result"
    }
   ],
   "source": [
    "# For Pyrenees we use 'subm_id' = 715 as our main dataset\n",
    "RGI_p = shp.loc[shp['subm_id'] == 715].copy()\n",
    "\n",
    "# Sel by size\n",
    "print(len(RGI_p))\n",
    "RGI_p = size_filter(RGI_p)\n",
    "len(RGI_p)"
   ]
  },
  {
   "cell_type": "code",
   "execution_count": 9,
   "id": "1eb0b519-4b4a-43c7-a898-d186798a5b9a",
   "metadata": {},
   "outputs": [],
   "source": [
    "# combine the geodataframes\n",
    "rgi7 = pd.concat([RGI_a, RGI_p])\n",
    "rgi7['is_rgi6'] = False"
   ]
  },
  {
   "cell_type": "markdown",
   "id": "47f5d2ab-23dc-41e5-a555-abbc7ea3f143",
   "metadata": {},
   "source": [
    "### Some sanity checks "
   ]
  },
  {
   "cell_type": "code",
   "execution_count": 10,
   "id": "98830ee7-84a4-4778-a519-746a1c89f422",
   "metadata": {},
   "outputs": [
    {
     "data": {
      "text/html": [
       "<div>\n",
       "<style scoped>\n",
       "    .dataframe tbody tr th:only-of-type {\n",
       "        vertical-align: middle;\n",
       "    }\n",
       "\n",
       "    .dataframe tbody tr th {\n",
       "        vertical-align: top;\n",
       "    }\n",
       "\n",
       "    .dataframe thead th {\n",
       "        text-align: right;\n",
       "    }\n",
       "</style>\n",
       "<table border=\"1\" class=\"dataframe\">\n",
       "  <thead>\n",
       "    <tr style=\"text-align: right;\">\n",
       "      <th></th>\n",
       "      <th>N</th>\n",
       "      <th>N NA</th>\n",
       "    </tr>\n",
       "    <tr>\n",
       "      <th>subm_id</th>\n",
       "      <th></th>\n",
       "      <th></th>\n",
       "    </tr>\n",
       "  </thead>\n",
       "  <tbody>\n",
       "    <tr>\n",
       "      <th>731</th>\n",
       "      <td>4042</td>\n",
       "      <td>4042</td>\n",
       "    </tr>\n",
       "    <tr>\n",
       "      <th>715</th>\n",
       "      <td>45</td>\n",
       "      <td>45</td>\n",
       "    </tr>\n",
       "  </tbody>\n",
       "</table>\n",
       "</div>"
      ],
      "text/plain": [
       "            N  N NA\n",
       "subm_id            \n",
       "731      4042  4042\n",
       "715        45    45"
      ]
     },
     "execution_count": 10,
     "metadata": {},
     "output_type": "execute_result"
    }
   ],
   "source": [
    "sdf, df_class = submission_summary(rgi7)\n",
    "df_class"
   ]
  },
  {
   "cell_type": "code",
   "execution_count": 11,
   "id": "f9796cc2-97c8-460e-961b-a89f3b9a9a32",
   "metadata": {},
   "outputs": [],
   "source": [
    "# Check the orphaned rock outcrops\n",
    "orphan_f = os.path.join(data_dir, 'l1_orphan_interiors', f'RGI{reg:02d}', f'RGI{reg:02d}.shp')\n",
    "if os.path.exists(orphan_f):\n",
    "    orphan_f = gpd.read_file(orphan_f)\n",
    "    check = np.isin(rgi7.subm_id.unique(), orphan_f.subm_id.unique())\n",
    "    if np.any(check):\n",
    "        print(f'Orphan rock outcrops detected in subm_id {rgi7.subm_id.unique()[check]}')\n",
    "        orphan_f['area'] = orphan_f.to_crs({'proj':'cea'}).area"
   ]
  },
  {
   "cell_type": "markdown",
   "id": "7d05c06e-f9da-42de-9944-378973a8744e",
   "metadata": {},
   "source": [
    "### Plots "
   ]
  },
  {
   "cell_type": "code",
   "execution_count": 12,
   "id": "6c006307-c858-453f-b740-b0af0f72f201",
   "metadata": {},
   "outputs": [
    {
     "data": {
      "image/png": "[encoded data removed]",
      "text/plain": [
       "<Figure size 1008x1008 with 1 Axes>"
      ]
     },
     "metadata": {
      "needs_background": "light"
     },
     "output_type": "display_data"
    }
   ],
   "source": [
    "plot_map(rgi7, reg, loc='upper left', linewidth=2)"
   ]
  },
  {
   "cell_type": "code",
   "execution_count": 13,
   "id": "7d12e292-3b6d-47f9-8423-db8a6f7d7dd6",
   "metadata": {},
   "outputs": [
    {
     "data": {
      "image/png": "[encoded data removed]",
      "text/plain": [
       "<Figure size 1008x1008 with 1 Axes>"
      ]
     },
     "metadata": {
      "needs_background": "light"
     },
     "output_type": "display_data"
    }
   ],
   "source": [
    "plot_map(rgi7, reg, loc='upper left', linewidth=2, is_rgi6=True)"
   ]
  },
  {
   "cell_type": "code",
   "execution_count": 14,
   "id": "d3ea2264-f825-4c7e-81b5-46b10da63608",
   "metadata": {},
   "outputs": [
    {
     "data": {
      "image/png": "[encoded data removed]",
      "text/plain": [
       "<Figure size 720x360 with 1 Axes>"
      ]
     },
     "metadata": {
      "needs_background": "light"
     },
     "output_type": "display_data"
    }
   ],
   "source": [
    "plot_date_hist(rgi7, reg)"
   ]
  },
  {
   "cell_type": "markdown",
   "id": "b9c79653-8b60-4c9d-ac39-2bdf060f31ca",
   "metadata": {},
   "source": [
    "### Text for github"
   ]
  },
  {
   "cell_type": "code",
   "execution_count": null,
   "id": "1da5869e-5fb5-497f-a1e8-01ce6989a123",
   "metadata": {},
   "outputs": [
    {
     "data": {
      "text/html": [
       "<div>\n",
       "<style scoped>\n",
       "    .dataframe tbody tr th:only-of-type {\n",
       "        vertical-align: middle;\n",
       "    }\n",
       "\n",
       "    .dataframe tbody tr th {\n",
       "        vertical-align: top;\n",
       "    }\n",
       "\n",
       "    .dataframe thead th {\n",
       "        text-align: right;\n",
       "    }\n",
       "</style>\n",
       "<table border=\"1\" class=\"dataframe\">\n",
       "  <thead>\n",
       "    <tr style=\"text-align: right;\">\n",
       "      <th>subm_id</th>\n",
       "      <th>731</th>\n",
       "      <th>715</th>\n",
       "    </tr>\n",
       "  </thead>\n",
       "  <tbody>\n",
       "    <tr>\n",
       "      <th>N</th>\n",
       "      <td>4042</td>\n",
       "      <td>45</td>\n",
       "    </tr>\n",
       "    <tr>\n",
       "      <th>A</th>\n",
       "      <td>2120.2</td>\n",
       "      <td>4.2</td>\n",
       "    </tr>\n",
       "    <tr>\n",
       "      <th>analysts</th>\n",
       "      <td>Frey, Le Bris, Paul, Rastner</td>\n",
       "      <td>Izagirre</td>\n",
       "    </tr>\n",
       "    <tr>\n",
       "      <th>submitters</th>\n",
       "      <td>Paul</td>\n",
       "      <td>Izagirre</td>\n",
       "    </tr>\n",
       "    <tr>\n",
       "      <th>release_date</th>\n",
       "      <td>2021</td>\n",
       "      <td>2020</td>\n",
       "    </tr>\n",
       "    <tr>\n",
       "      <th>geog_area</th>\n",
       "      <td>Swiss Alps</td>\n",
       "      <td>Pyrenees</td>\n",
       "    </tr>\n",
       "    <tr>\n",
       "      <th>src_date_mode</th>\n",
       "      <td>2003</td>\n",
       "      <td>2000</td>\n",
       "    </tr>\n",
       "    <tr>\n",
       "      <th>src_date_min</th>\n",
       "      <td>2003</td>\n",
       "      <td>2000</td>\n",
       "    </tr>\n",
       "    <tr>\n",
       "      <th>src_date_max</th>\n",
       "      <td>2003</td>\n",
       "      <td>2000</td>\n",
       "    </tr>\n",
       "  </tbody>\n",
       "</table>\n",
       "</div>"
      ],
      "text/plain": [
       "subm_id                                 731       715\n",
       "N                                      4042        45\n",
       "A                                    2120.2       4.2\n",
       "analysts       Frey, Le Bris, Paul, Rastner  Izagirre\n",
       "submitters                             Paul  Izagirre\n",
       "release_date                           2021      2020\n",
       "geog_area                        Swiss Alps  Pyrenees\n",
       "src_date_mode                          2003      2000\n",
       "src_date_min                           2003      2000\n",
       "src_date_max                           2003      2000"
      ]
     },
     "execution_count": 15,
     "metadata": {},
     "output_type": "execute_result"
    }
   ],
   "source": [
    "fgh = sdf.T\n",
    "fgh"
   ]
  },
  {
   "cell_type": "code",
   "execution_count": null,
   "id": "d007533e-1453-48f7-b2c6-6a9e5421911f",
   "metadata": {},
   "outputs": [
    {
     "name": "stdout",
     "output_type": "stream",
     "text": [
      "| subm_id       | 731                          | 715      |\n",
      "|:--------------|:-----------------------------|:---------|\n",
      "| N             | 4042                         | 45       |\n",
      "| A             | 2120.2                       | 4.2      |\n",
      "| analysts      | Frey, Le Bris, Paul, Rastner | Izagirre |\n",
      "| submitters    | Paul                         | Izagirre |\n",
      "| release_date  | 2021                         | 2020     |\n",
      "| geog_area     | Swiss Alps                   | Pyrenees |\n",
      "| src_date_mode | 2003                         | 2000     |\n",
      "| src_date_min  | 2003                         | 2000     |\n",
      "| src_date_max  | 2003                         | 2000     |\n"
     ]
    }
   ],
   "source": [
    "print(fgh.to_markdown(headers=np.append(['subm_id'], fgh.columns)))"
   ]
  },
  {
   "cell_type": "markdown",
   "id": "4d30cad1-8680-4de2-aea7-52bb04f8e168",
   "metadata": {},
   "source": [
    "## Write out and tar "
   ]
  },
  {
   "cell_type": "code",
   "execution_count": 17,
   "id": "cc081d3c-839c-4458-8750-e976e1a30b06",
   "metadata": {},
   "outputs": [
    {
     "name": "stdout",
     "output_type": "stream",
     "text": [
      "Writing...\n",
      "Taring...\n",
      "CompletedProcess(args=['tar', '-zcvf', '../../rgi7_data/l3_rgi7a_tar/RGI11.tar.gz', '-C', '../../rgi7_data/l3_rgi7a', 'RGI11'], returncode=0)\n"
     ]
    }
   ],
   "source": [
    "dd = mkdir(f'{output_dir}/RGI{reg:02d}/', reset=True)\n",
    "\n",
    "print('Writing...')\n",
    "rgi7.to_file(dd + f'RGI{reg:02d}.shp')\n",
    "\n",
    "print('Taring...')\n",
    "print(subprocess.run(['tar', '-zcvf', f'{output_dir_tar}/RGI{reg:02d}.tar.gz', '-C', output_dir, f'RGI{reg:02d}']))"
   ]
  },
  {
   "cell_type": "markdown",
   "id": "d14d6543-64b5-42d5-9224-994d0849fcbd",
   "metadata": {},
   "source": [
    "## New RGI-file created - Check result!"
   ]
  },
  {
   "cell_type": "markdown",
   "id": "6b839e94-efb9-4a4f-9dd4-db6e06940b76",
   "metadata": {},
   "source": [
    "Load reference data (here RGI6 and the original contributions) to enable comparison"
   ]
  },
  {
   "cell_type": "code",
   "execution_count": 19,
   "id": "537252b5-ed4d-49cd-a59c-24b6857caa4f",
   "metadata": {},
   "outputs": [],
   "source": [
    "# load reference data\n",
    "from utils import open_zip_shapefile\n",
    "ref_rgi6 = open_zip_shapefile(rgi6_reg_file)\n",
    "\n",
    "# Al\n",
    "ref_a = open_zip_shapefile(os.path.join(support_dir, 'C3S_GI_RGI11_L5_2003.zip'))\n",
    "\n",
    "# Py\n",
    "ref_p = open_zip_shapefile(os.path.join(support_dir, 'pyrenees2000.zip'), exclude_pattern='__MACOSX', include_pattern='glaciers_')"
   ]
  },
  {
   "cell_type": "markdown",
   "id": "5ba362d6-b9f9-4647-849c-024806e2b0ce",
   "metadata": {},
   "source": [
    "### Compare new RGI7-file to RGI6"
   ]
  },
  {
   "cell_type": "markdown",
   "id": "d294a41b-e715-4225-8a98-5f1922b788e4",
   "metadata": {},
   "source": [
    "#### Number of elements (differences do not necessarily depict problems)"
   ]
  },
  {
   "cell_type": "code",
   "execution_count": 20,
   "id": "c44989ca-0275-4ce6-b803-a564242be070",
   "metadata": {},
   "outputs": [
    {
     "name": "stdout",
     "output_type": "stream",
     "text": [
      "Number of glaciers in new RGI: 4087\n",
      "Number of glaciers in RGI6: 3927\n",
      "Difference: 160\n"
     ]
    }
   ],
   "source": [
    "print('Number of glaciers in new RGI:', len(rgi7))\n",
    "print('Number of glaciers in RGI6:', len(ref_rgi6))\n",
    "print('Difference:', len(rgi7)-len(ref_rgi6))"
   ]
  },
  {
   "cell_type": "markdown",
   "id": "8b3620ca-ac90-4d72-9a01-1dcc6f1e3bba",
   "metadata": {},
   "source": [
    "### How many nominal glaciers were there in RGI06?"
   ]
  },
  {
   "cell_type": "code",
   "execution_count": 21,
   "id": "e819451a-665f-49b8-a5c7-7ea811e9e19a",
   "metadata": {},
   "outputs": [
    {
     "data": {
      "text/plain": [
       "2"
      ]
     },
     "execution_count": 21,
     "metadata": {},
     "output_type": "execute_result"
    }
   ],
   "source": [
    "len(ref_rgi6.loc[ref_rgi6.Status == 2])"
   ]
  },
  {
   "cell_type": "markdown",
   "id": "b9154e53-7ef7-450e-beb1-172552905bb3",
   "metadata": {},
   "source": [
    "### Total area"
   ]
  },
  {
   "cell_type": "code",
   "execution_count": 22,
   "id": "967bdaa5-95aa-4fb2-ab16-775e11dae494",
   "metadata": {},
   "outputs": [],
   "source": [
    "# add an area field to RGI_ss and reference data\n",
    "ref_rgi6['area'] = ref_rgi6.to_crs({'proj':'cea'}).area\n",
    "ref_p['area'] = ref_p.to_crs({'proj':'cea'}).area"
   ]
  },
  {
   "cell_type": "code",
   "execution_count": 23,
   "id": "db812087-6cf2-4309-978d-5e30987cc401",
   "metadata": {},
   "outputs": [
    {
     "name": "stdout",
     "output_type": "stream",
     "text": [
      "Area RGI7 [km²]: 2124.3606074919653\n",
      "Area RGI6 [km²]: 2092.0679695469466\n",
      "Area difference [km²]: 32.29263794501867\n"
     ]
    }
   ],
   "source": [
    "# print and compare area values\n",
    "Area_RGI = rgi7['area'].sum() * 1e-6\n",
    "print('Area RGI7 [km²]:', Area_RGI)\n",
    "Area_ref = ref_rgi6['area'].sum() * 1e-6\n",
    "print('Area RGI6 [km²]:', Area_ref)\n",
    "d = (Area_RGI - Area_ref)\n",
    "print('Area difference [km²]:', d)"
   ]
  },
  {
   "cell_type": "markdown",
   "id": "b2a8338f-ac8e-41fb-a531-ac701245b8fb",
   "metadata": {},
   "source": [
    "## Comparison to reference products"
   ]
  },
  {
   "cell_type": "markdown",
   "id": "41a4f2f9-9205-4fa4-93fe-c5c63b1bf685",
   "metadata": {},
   "source": [
    "### Pyrennees (no problem) "
   ]
  },
  {
   "cell_type": "code",
   "execution_count": 24,
   "id": "ef9d371c-891a-4224-9b83-c2ad8c377110",
   "metadata": {},
   "outputs": [
    {
     "name": "stdout",
     "output_type": "stream",
     "text": [
      "47\n"
     ]
    },
    {
     "data": {
      "text/plain": [
       "45"
      ]
     },
     "execution_count": 24,
     "metadata": {},
     "output_type": "execute_result"
    }
   ],
   "source": [
    "# add an area field to RGI_ss and reference data\n",
    "RGI_p['area'] = RGI_p.to_crs({'proj':'cea'}).area\n",
    "ref_p['area'] = ref_p.to_crs({'proj':'cea'}).area\n",
    "\n",
    "print(len(ref_p))\n",
    "ref_p = ref_p.loc[np.round(ref_p['area'] * 1e-6, 3) >= 0.01].copy()\n",
    "len(ref_p)"
   ]
  },
  {
   "cell_type": "code",
   "execution_count": 25,
   "id": "a3cb4dfe-04dc-496f-aedc-614096e4e00e",
   "metadata": {},
   "outputs": [
    {
     "name": "stdout",
     "output_type": "stream",
     "text": [
      "Number of glaciers in new RGI subset: 45\n",
      "Number of glaciers in reference data (izaguirre): 45\n",
      "Difference: 0\n"
     ]
    }
   ],
   "source": [
    "print('Number of glaciers in new RGI subset:', len(RGI_p))\n",
    "print('Number of glaciers in reference data (izaguirre):', len(ref_p))\n",
    "print('Difference:', len(RGI_p)-len(ref_p))"
   ]
  },
  {
   "cell_type": "code",
   "execution_count": 26,
   "id": "0cfe350f-a62d-4ecd-a99f-6c45a4fcfcaf",
   "metadata": {},
   "outputs": [
    {
     "name": "stdout",
     "output_type": "stream",
     "text": [
      "Area RGI [km²]: 4.182548287493021\n",
      "Area ref: 4.182535213179478\n",
      "Area difference [km²]: 1.3074313542915661e-05 / percentage: 0.00031259205260131685\n"
     ]
    }
   ],
   "source": [
    "# print and compare area values\n",
    "Area_rgi = RGI_p['area'].sum()/1000000\n",
    "print('Area RGI [km²]:', Area_rgi)\n",
    "Area_ref = ref_p['area'].sum()/1000000\n",
    "print('Area ref:', Area_ref)\n",
    "d = (Area_rgi - Area_ref)\n",
    "d_perc = (d/Area_rgi*100)\n",
    "print('Area difference [km²]:',d,'/','percentage:', d_perc)"
   ]
  },
  {
   "cell_type": "markdown",
   "id": "f0497830-6dfa-46d0-be54-21d6db79fd19",
   "metadata": {},
   "source": [
    "### Alps (no problem)"
   ]
  },
  {
   "cell_type": "code",
   "execution_count": 27,
   "id": "19a5fd85-45fe-4b13-8149-3d888544da7f",
   "metadata": {},
   "outputs": [
    {
     "name": "stdout",
     "output_type": "stream",
     "text": [
      "4059\n"
     ]
    },
    {
     "data": {
      "text/plain": [
       "4041"
      ]
     },
     "execution_count": 27,
     "metadata": {},
     "output_type": "execute_result"
    }
   ],
   "source": [
    "# add an area field to RGI_ss and reference data\n",
    "RGI_a['area'] = RGI_a.to_crs({'proj':'cea'}).area\n",
    "ref_a['area'] = ref_a.to_crs({'proj':'cea'}).area\n",
    "\n",
    "print(len(ref_a))\n",
    "ref_a = ref_a.loc[np.round(ref_a['area'] * 1e-6, 3) >= 0.01].copy()\n",
    "len(ref_a)"
   ]
  },
  {
   "cell_type": "code",
   "execution_count": 28,
   "id": "51f06ade-1db6-4a96-a0b9-a8c4b731d2be",
   "metadata": {},
   "outputs": [
    {
     "name": "stdout",
     "output_type": "stream",
     "text": [
      "Number of glaciers in new RGI subset: 4042\n",
      "Number of glaciers in reference data (Franck): 4041\n",
      "Difference: 1\n"
     ]
    }
   ],
   "source": [
    "print('Number of glaciers in new RGI subset:', len(RGI_a))\n",
    "print('Number of glaciers in reference data (Franck):', len(ref_a))\n",
    "print('Difference:', len(RGI_a)-len(ref_a))"
   ]
  },
  {
   "cell_type": "code",
   "execution_count": 29,
   "id": "94f8923f-017e-4581-9ed2-1cf3b9062706",
   "metadata": {},
   "outputs": [
    {
     "name": "stdout",
     "output_type": "stream",
     "text": [
      "Area RGI [km²]: 2120.1780592044724\n",
      "Area ref: 2120.179317562836\n",
      "Area difference [km²]: -0.0012583583634295792 / percentage: -5.935154162956187e-05\n"
     ]
    }
   ],
   "source": [
    "# print and compare area values\n",
    "Area_rgi = RGI_a['area'].sum()/1000000\n",
    "print('Area RGI [km²]:', Area_rgi)\n",
    "Area_ref = ref_a['area'].sum()/1000000\n",
    "print('Area ref:', Area_ref)\n",
    "d = (Area_rgi - Area_ref)\n",
    "d_perc = (d/Area_rgi*100)\n",
    "print('Area difference [km²]:',d,'/','percentage:', d_perc)"
   ]
  },
  {
   "cell_type": "markdown",
   "id": "be8332e5-4377-4eab-8b96-00ec4d748f42",
   "metadata": {},
   "source": [
    "For Alps, no substantial differences between the original Frank and glims inventories, except for a glacier, that we want to find now:"
   ]
  },
  {
   "cell_type": "markdown",
   "id": "921f801f-18b2-47ff-85ee-67a9240acfe2",
   "metadata": {},
   "source": [
    "### Find the missing glacier "
   ]
  },
  {
   "cell_type": "code",
   "execution_count": 30,
   "id": "b64802f2-b576-4289-a9ef-3baabba58a6b",
   "metadata": {},
   "outputs": [],
   "source": [
    "df_ref = ref_a.copy()\n",
    "rgi7 = RGI_a.copy()\n",
    "df_ref = df_ref.to_crs(rgi7.crs)"
   ]
  },
  {
   "cell_type": "code",
   "execution_count": 31,
   "id": "5e6ff19a-b998-4ee4-b474-d668e6e650cb",
   "metadata": {},
   "outputs": [],
   "source": [
    "import progressbar"
   ]
  },
  {
   "cell_type": "code",
   "execution_count": 32,
   "id": "4122c984-86f9-4f6c-b941-b887813030a9",
   "metadata": {},
   "outputs": [],
   "source": [
    "def xy_coord(geom):\n",
    "    \"\"\"To compute CenLon CenLat ourselves\"\"\"\n",
    "    x, y = geom.xy\n",
    "    return x[0], y[0]"
   ]
  },
  {
   "cell_type": "code",
   "execution_count": 33,
   "id": "67565232-a5b6-400d-8148-80a586e4ab3b",
   "metadata": {},
   "outputs": [],
   "source": [
    "# compute CenLon CenLat ourselves\n",
    "rp = df_ref.representative_point()\n",
    "\n",
    "coordinates = np.array(list(rp.apply(xy_coord)))\n",
    "df_ref['CenLon'] = coordinates[:, 0]\n",
    "df_ref['CenLat'] = coordinates[:, 1]"
   ]
  },
  {
   "cell_type": "code",
   "execution_count": 34,
   "id": "f8eadf18-1d70-46d3-af13-3749697657e3",
   "metadata": {},
   "outputs": [],
   "source": [
    "df_ref_orig = df_ref.copy()"
   ]
  },
  {
   "cell_type": "code",
   "execution_count": 35,
   "id": "1f7e7124-25a0-4546-a8ee-1d99fb9ace95",
   "metadata": {},
   "outputs": [
    {
     "name": "stderr",
     "output_type": "stream",
     "text": [
      "100% (4042 of 4042) |####################| Elapsed Time: 0:00:01 Time:  0:00:01\n"
     ]
    }
   ],
   "source": [
    "# Loop over all RGI7 glaciers and find their equivalent in ref\n",
    "df_ref = df_ref_orig.copy()\n",
    "not_found = {}\n",
    "to_drop = []\n",
    "for i, (ref_area, lon, lat) in progressbar.progressbar(enumerate(zip(rgi7['area'].values, rgi7.CenLon.values, rgi7.CenLat.values)), max_value=len(rgi7)):\n",
    "#     dist = haversine(lon, lat, df_ref.CenLon.values, df_ref.CenLat.values)\n",
    "    dist = (lon - df_ref.CenLon.values)**2 + (lat - df_ref.CenLat.values)**2 \n",
    "    found = False\n",
    "    for j in np.argsort(dist)[:10]:\n",
    "        s6 = df_ref.iloc[j]\n",
    "        if np.allclose(s6['area'], ref_area, rtol=0.01):\n",
    "            found = True\n",
    "            to_drop.append(s6.name)\n",
    "            break\n",
    "    if not found:\n",
    "        not_found[i] = df_ref.iloc[np.argsort(dist)[:10]]\n",
    "    if len(to_drop) > 1000:\n",
    "        df_ref.drop(labels=to_drop, inplace=True)\n",
    "        to_drop = []\n",
    "df_ref.drop(labels=to_drop, inplace=True)"
   ]
  },
  {
   "cell_type": "code",
   "execution_count": 36,
   "id": "ff20c876-a302-4f2a-a5a7-6b0fec1ccc5c",
   "metadata": {},
   "outputs": [
    {
     "name": "stdout",
     "output_type": "stream",
     "text": [
      "2 1\n"
     ]
    }
   ],
   "source": [
    "print(len(not_found), len(df_ref))"
   ]
  },
  {
   "cell_type": "code",
   "execution_count": 37,
   "id": "73ba0099-f07b-495d-a2d0-b2714c5b9884",
   "metadata": {},
   "outputs": [
    {
     "data": {
      "image/png": "[encoded data removed]",
      "text/plain": [
       "<Figure size 432x288 with 1 Axes>"
      ]
     },
     "metadata": {
      "needs_background": "light"
     },
     "output_type": "display_data"
    }
   ],
   "source": [
    "df_ref.plot(edgecolor='k', column='area');"
   ]
  },
  {
   "cell_type": "code",
   "execution_count": 38,
   "id": "3c035f6a-600c-41a7-9a17-bbc473425fc1",
   "metadata": {},
   "outputs": [
    {
     "data": {
      "image/png": "[encoded data removed]",
      "text/plain": [
       "<Figure size 432x288 with 1 Axes>"
      ]
     },
     "metadata": {
      "needs_background": "light"
     },
     "output_type": "display_data"
    }
   ],
   "source": [
    "pb_rgi7 = rgi7.iloc[list(not_found.keys())]\n",
    "pb_rgi7.plot(edgecolor='k', column='area');"
   ]
  },
  {
   "cell_type": "markdown",
   "id": "c99b8885-258f-49f7-a2ac-bef43398380d",
   "metadata": {},
   "source": [
    "**Conclusion: there is no problem in GLIMS!!!**"
   ]
  }
 ],
 "metadata": {
  "kernelspec": {
   "display_name": "Python 3",
   "language": "python",
   "name": "python3"
  },
  "language_info": {
   "codemirror_mode": {
    "name": "ipython",
    "version": 3
   },
   "file_extension": ".py",
   "mimetype": "text/x-python",
   "name": "python",
   "nbconvert_exporter": "python",
   "pygments_lexer": "ipython3",
   "version": "3.8.8"
  }
 },
 "nbformat": 4,
 "nbformat_minor": 5
}
