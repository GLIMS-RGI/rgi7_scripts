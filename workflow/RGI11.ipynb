{
 "cells": [
  {
   "cell_type": "markdown",
   "id": "appointed-purchase",
   "metadata": {},
   "source": [
    "# RGI11 (Central Europe)\n",
    "\n",
    "F. Roura-Adseiras & Fabien Maussion\n",
    "\n",
    "Goal:\n",
    "- Alps: updates of the Paul 2003 dataset\n",
    "- Pytrenees: new inventory by Izagirre"
   ]
  },
  {
   "cell_type": "code",
   "execution_count": null,
   "id": "enabling-trainer",
   "metadata": {},
   "outputs": [],
   "source": [
    "import pandas as pd\n",
    "import geopandas as gpd\n",
    "import subprocess\n",
    "import matplotlib.pyplot as plt\n",
    "import matplotlib.patches as mpatches\n",
    "import seaborn as sns\n",
    "import numpy as np\n",
    "from utils import (mkdir, submission_summary, needs_size_filter, size_filter, plot_map, plot_date_hist, \n",
    "                   find_duplicates, open_zip_shapefile, correct_geoms, fix_overaps)\n",
    "import os"
   ]
  },
  {
   "cell_type": "markdown",
   "id": "sustained-riverside",
   "metadata": {},
   "source": [
    "## Files and storage paths"
   ]
  },
  {
   "cell_type": "code",
   "execution_count": null,
   "id": "joined-range",
   "metadata": {},
   "outputs": [],
   "source": [
    "# Region of interest\n",
    "reg = 11\n",
    "\n",
    "# go down from rgi7_scripts/workflow\n",
    "data_dir = '../../rgi7_data/'\n",
    "\n",
    "# Level 2 GLIMS files\n",
    "l2_dir = os.path.join(data_dir, 'l2_sel_reg_tars')\n",
    "\n",
    "# Output directories\n",
    "output_dir = mkdir(os.path.join(data_dir, 'l3_rgi7a'))\n",
    "output_dir_tar = mkdir(os.path.join(data_dir, 'l3_rgi7a_tar'))\n",
    "\n",
    "# Izaguirre file for GLIMS check \n",
    "ref_reg_file_p = os.path.join(data_dir, 'l0_support_data', 'pyrenees2000.zip') \n",
    "\n",
    "# Frank file for GLIMS check \n",
    "ref_reg_file_a = os.path.join(data_dir, 'l0_support_data', 'C3S_GI_RGI11_L5_2003.zip') \n",
    "\n",
    "# RGI v6 file for comparison later \n",
    "rgi6_reg_file = os.path.join(data_dir, 'l0_RGIv6', '11_rgi60_CentralEurope.zip')"
   ]
  },
  {
   "cell_type": "code",
   "execution_count": null,
   "id": "16f7f1fa-570e-4fd5-a21f-97a5d3dbb196",
   "metadata": {},
   "outputs": [],
   "source": [
    "# Support data\n",
    "support_dir = os.path.join(data_dir, 'l0_support_data')"
   ]
  },
  {
   "cell_type": "markdown",
   "id": "loving-exclusive",
   "metadata": {},
   "source": [
    "### Load the GLIMS input data"
   ]
  },
  {
   "cell_type": "code",
   "execution_count": null,
   "id": "sporting-sociology",
   "metadata": {},
   "outputs": [],
   "source": [
    "# Read L2 files\n",
    "shp = gpd.read_file('tar://' + l2_dir + f'/RGI{reg:02d}.tar.gz/RGI{reg:02d}/RGI{reg:02d}.shp')"
   ]
  },
  {
   "cell_type": "markdown",
   "id": "96d5a532-0902-416f-b6d8-307363fc7357",
   "metadata": {},
   "source": [
    "### List of submissions "
   ]
  },
  {
   "cell_type": "code",
   "execution_count": null,
   "id": "6d9c4ab0-c7cf-4e67-80cc-db6073ddb3c5",
   "metadata": {},
   "outputs": [],
   "source": [
    "sdf, _ = submission_summary(shp)\n",
    "sdf"
   ]
  },
  {
   "cell_type": "code",
   "execution_count": null,
   "id": "218a037e-fb99-49b5-beaf-c13b814c469d",
   "metadata": {},
   "outputs": [],
   "source": [
    "# # Optional: write out selection in intermediate shape files for manual GIS review\n",
    "# tmp_output_dir = mkdir(os.path.join(data_dir, 'l0_tmp_data', f'rgi{reg:02d}_inventories'))\n",
    "# tmp_output_dir_tar = mkdir(os.path.join(data_dir, 'l0_tmp_data'))\n",
    "# for subid in shp.subm_id.unique():\n",
    "#     s_loc = shp.loc[shp.subm_id == subid]\n",
    "#     s_loc.to_file(tmp_output_dir + f'/subm_{int(subid):03d}.shp')\n",
    "# print('Taring...')\n",
    "# print(subprocess.run(['tar', '-zcvf', f'{tmp_output_dir_tar}/rgi{reg:02d}_inventories.tar.gz', '-C', \n",
    "#                       os.path.join(data_dir, 'l0_tmp_data'), f'rgi{reg:02d}_inventories']))"
   ]
  },
  {
   "cell_type": "markdown",
   "id": "6d199078-7c97-4324-8a7d-68c1e54e27be",
   "metadata": {},
   "source": [
    "## Outline selection "
   ]
  },
  {
   "cell_type": "code",
   "execution_count": null,
   "id": "polish-psychology",
   "metadata": {},
   "outputs": [],
   "source": [
    "# For Alps we use 'subm_id' = 731 as our main dataset\n",
    "RGI_a = shp.loc[shp['subm_id'] == 731].copy()\n",
    "\n",
    "# Sel by size\n",
    "print(len(RGI_a))\n",
    "RGI_a = size_filter(RGI_a)\n",
    "len(RGI_a)"
   ]
  },
  {
   "cell_type": "code",
   "execution_count": null,
   "id": "3716f814-f176-4383-a953-033639ea3066",
   "metadata": {},
   "outputs": [],
   "source": [
    "# For Pyrenees we use 'subm_id' = 715 as our main dataset\n",
    "RGI_p = shp.loc[shp['subm_id'] == 715].copy()\n",
    "\n",
    "# Sel by size\n",
    "print(len(RGI_p))\n",
    "RGI_p = size_filter(RGI_p)\n",
    "len(RGI_p)"
   ]
  },
  {
   "cell_type": "code",
   "execution_count": null,
   "id": "1eb0b519-4b4a-43c7-a898-d186798a5b9a",
   "metadata": {},
   "outputs": [],
   "source": [
    "# combine the geodataframes\n",
    "rgi7 = pd.concat([RGI_a, RGI_p])\n",
    "rgi7['is_rgi6'] = False"
   ]
  },
  {
   "cell_type": "markdown",
   "id": "47f5d2ab-23dc-41e5-a555-abbc7ea3f143",
   "metadata": {},
   "source": [
    "### Some sanity checks "
   ]
  },
  {
   "cell_type": "code",
   "execution_count": null,
   "id": "d6f54928-2996-4571-a791-65ee6b7a1204",
   "metadata": {},
   "outputs": [],
   "source": [
    "rgi7 = correct_geoms(rgi7)"
   ]
  },
  {
   "cell_type": "code",
   "execution_count": null,
   "id": "21428b95-bcc2-4753-8024-b87781e9028e",
   "metadata": {},
   "outputs": [],
   "source": [
    "dupes = find_duplicates(rgi7)"
   ]
  },
  {
   "cell_type": "code",
   "execution_count": null,
   "id": "143e4c9e-ca4d-410f-b318-49b7b2e4e4ad",
   "metadata": {},
   "outputs": [],
   "source": [
    "rgi7 = fix_overaps(rgi7)"
   ]
  },
  {
   "cell_type": "code",
   "execution_count": null,
   "id": "a164c1ac-3c58-46cb-a6c3-23852a4b48c8",
   "metadata": {},
   "outputs": [],
   "source": [
    "needs_size_filter(rgi7)"
   ]
  },
  {
   "cell_type": "code",
   "execution_count": null,
   "id": "98830ee7-84a4-4778-a519-746a1c89f422",
   "metadata": {},
   "outputs": [],
   "source": [
    "sdf, df_class = submission_summary(rgi7)\n",
    "df_class"
   ]
  },
  {
   "cell_type": "code",
   "execution_count": null,
   "id": "f9796cc2-97c8-460e-961b-a89f3b9a9a32",
   "metadata": {},
   "outputs": [],
   "source": [
    "# Check the orphaned rock outcrops\n",
    "orphan_f = os.path.join(data_dir, 'l1_orphan_interiors', f'RGI{reg:02d}', f'RGI{reg:02d}.shp')\n",
    "if os.path.exists(orphan_f):\n",
    "    orphan_f = gpd.read_file(orphan_f)\n",
    "    check = np.isin(rgi7.subm_id.unique(), orphan_f.subm_id.unique())\n",
    "    if np.any(check):\n",
    "        print(f'Orphan rock outcrops detected in subm_id {rgi7.subm_id.unique()[check]}')\n",
    "        orphan_f['area'] = orphan_f.to_crs({'proj':'cea'}).area"
   ]
  },
  {
   "cell_type": "markdown",
   "id": "7d05c06e-f9da-42de-9944-378973a8744e",
   "metadata": {},
   "source": [
    "### Plots "
   ]
  },
  {
   "cell_type": "code",
   "execution_count": null,
   "id": "6c006307-c858-453f-b740-b0af0f72f201",
   "metadata": {},
   "outputs": [],
   "source": [
    "plot_map(rgi7, reg, loc='upper left', linewidth=2)"
   ]
  },
  {
   "cell_type": "code",
   "execution_count": null,
   "id": "7d12e292-3b6d-47f9-8423-db8a6f7d7dd6",
   "metadata": {},
   "outputs": [],
   "source": [
    "plot_map(rgi7, reg, loc='upper left', linewidth=2, is_rgi6=True)"
   ]
  },
  {
   "cell_type": "code",
   "execution_count": null,
   "id": "d3ea2264-f825-4c7e-81b5-46b10da63608",
   "metadata": {},
   "outputs": [],
   "source": [
    "plot_date_hist(rgi7, reg)"
   ]
  },
  {
   "cell_type": "markdown",
   "id": "b9c79653-8b60-4c9d-ac39-2bdf060f31ca",
   "metadata": {},
   "source": [
    "### Text for github"
   ]
  },
  {
   "cell_type": "code",
   "execution_count": null,
   "id": "1da5869e-5fb5-497f-a1e8-01ce6989a123",
   "metadata": {},
   "outputs": [],
   "source": [
    "fgh = sdf.T\n",
    "fgh"
   ]
  },
  {
   "cell_type": "code",
   "execution_count": null,
   "id": "d007533e-1453-48f7-b2c6-6a9e5421911f",
   "metadata": {},
   "outputs": [],
   "source": [
    "print(fgh.to_markdown(headers=np.append(['subm_id'], fgh.columns)))"
   ]
  },
  {
   "cell_type": "markdown",
   "id": "4d30cad1-8680-4de2-aea7-52bb04f8e168",
   "metadata": {},
   "source": [
    "## Write out and tar "
   ]
  },
  {
   "cell_type": "code",
   "execution_count": null,
   "id": "cc081d3c-839c-4458-8750-e976e1a30b06",
   "metadata": {},
   "outputs": [],
   "source": [
    "dd = mkdir(f'{output_dir}/RGI{reg:02d}/', reset=True)\n",
    "\n",
    "print('Writing...')\n",
    "rgi7.to_file(dd + f'RGI{reg:02d}.shp')\n",
    "\n",
    "print('Taring...')\n",
    "print(subprocess.run(['tar', '-zcvf', f'{output_dir_tar}/RGI{reg:02d}.tar.gz', '-C', output_dir, f'RGI{reg:02d}']))"
   ]
  },
  {
   "cell_type": "markdown",
   "id": "d14d6543-64b5-42d5-9224-994d0849fcbd",
   "metadata": {},
   "source": [
    "## New RGI-file created - Check result!"
   ]
  },
  {
   "cell_type": "markdown",
   "id": "6b839e94-efb9-4a4f-9dd4-db6e06940b76",
   "metadata": {},
   "source": [
    "Load reference data (here RGI6 and the original contributions) to enable comparison"
   ]
  },
  {
   "cell_type": "code",
   "execution_count": null,
   "id": "537252b5-ed4d-49cd-a59c-24b6857caa4f",
   "metadata": {},
   "outputs": [],
   "source": [
    "# load reference data\n",
    "from utils import open_zip_shapefile\n",
    "ref_rgi6 = open_zip_shapefile(rgi6_reg_file)\n",
    "\n",
    "# Al\n",
    "ref_a = open_zip_shapefile(os.path.join(support_dir, 'C3S_GI_RGI11_L5_2003.zip'))\n",
    "\n",
    "# Py\n",
    "ref_p = open_zip_shapefile(os.path.join(support_dir, 'pyrenees2000.zip'), exclude_pattern='__MACOSX', include_pattern='glaciers_')"
   ]
  },
  {
   "cell_type": "markdown",
   "id": "5ba362d6-b9f9-4647-849c-024806e2b0ce",
   "metadata": {},
   "source": [
    "### Compare new RGI7-file to RGI6"
   ]
  },
  {
   "cell_type": "markdown",
   "id": "d294a41b-e715-4225-8a98-5f1922b788e4",
   "metadata": {},
   "source": [
    "#### Number of elements (differences do not necessarily depict problems)"
   ]
  },
  {
   "cell_type": "code",
   "execution_count": null,
   "id": "c44989ca-0275-4ce6-b803-a564242be070",
   "metadata": {},
   "outputs": [],
   "source": [
    "print('Number of glaciers in new RGI:', len(rgi7))\n",
    "print('Number of glaciers in RGI6:', len(ref_rgi6))\n",
    "print('Difference:', len(rgi7)-len(ref_rgi6))"
   ]
  },
  {
   "cell_type": "markdown",
   "id": "8b3620ca-ac90-4d72-9a01-1dcc6f1e3bba",
   "metadata": {},
   "source": [
    "### How many nominal glaciers were there in RGI06?"
   ]
  },
  {
   "cell_type": "code",
   "execution_count": null,
   "id": "e819451a-665f-49b8-a5c7-7ea811e9e19a",
   "metadata": {},
   "outputs": [],
   "source": [
    "len(ref_rgi6.loc[ref_rgi6.Status == 2])"
   ]
  },
  {
   "cell_type": "markdown",
   "id": "b9154e53-7ef7-450e-beb1-172552905bb3",
   "metadata": {},
   "source": [
    "### Total area"
   ]
  },
  {
   "cell_type": "code",
   "execution_count": null,
   "id": "967bdaa5-95aa-4fb2-ab16-775e11dae494",
   "metadata": {},
   "outputs": [],
   "source": [
    "# add an area field to RGI_ss and reference data\n",
    "ref_rgi6['area'] = ref_rgi6.to_crs({'proj':'cea'}).area\n",
    "ref_p['area'] = ref_p.to_crs({'proj':'cea'}).area"
   ]
  },
  {
   "cell_type": "code",
   "execution_count": null,
   "id": "db812087-6cf2-4309-978d-5e30987cc401",
   "metadata": {},
   "outputs": [],
   "source": [
    "# print and compare area values\n",
    "Area_RGI = rgi7['area'].sum() * 1e-6\n",
    "print('Area RGI7 [km²]:', Area_RGI)\n",
    "Area_ref = ref_rgi6['area'].sum() * 1e-6\n",
    "print('Area RGI6 [km²]:', Area_ref)\n",
    "d = (Area_RGI - Area_ref)\n",
    "print('Area difference [km²]:', d)"
   ]
  },
  {
   "cell_type": "markdown",
   "id": "b2a8338f-ac8e-41fb-a531-ac701245b8fb",
   "metadata": {},
   "source": [
    "## Comparison to reference products"
   ]
  },
  {
   "cell_type": "markdown",
   "id": "41a4f2f9-9205-4fa4-93fe-c5c63b1bf685",
   "metadata": {},
   "source": [
    "### Pyrennees (no problem) "
   ]
  },
  {
   "cell_type": "code",
   "execution_count": null,
   "id": "ef9d371c-891a-4224-9b83-c2ad8c377110",
   "metadata": {},
   "outputs": [],
   "source": [
    "# add an area field to RGI_ss and reference data\n",
    "RGI_p['area'] = RGI_p.to_crs({'proj':'cea'}).area\n",
    "ref_p['area'] = ref_p.to_crs({'proj':'cea'}).area\n",
    "\n",
    "print(len(ref_p))\n",
    "ref_p = ref_p.loc[np.round(ref_p['area'] * 1e-6, 3) >= 0.01].copy()\n",
    "len(ref_p)"
   ]
  },
  {
   "cell_type": "code",
   "execution_count": null,
   "id": "a3cb4dfe-04dc-496f-aedc-614096e4e00e",
   "metadata": {},
   "outputs": [],
   "source": [
    "print('Number of glaciers in new RGI subset:', len(RGI_p))\n",
    "print('Number of glaciers in reference data (izaguirre):', len(ref_p))\n",
    "print('Difference:', len(RGI_p)-len(ref_p))"
   ]
  },
  {
   "cell_type": "code",
   "execution_count": null,
   "id": "0cfe350f-a62d-4ecd-a99f-6c45a4fcfcaf",
   "metadata": {},
   "outputs": [],
   "source": [
    "# print and compare area values\n",
    "Area_rgi = RGI_p['area'].sum()/1000000\n",
    "print('Area RGI [km²]:', Area_rgi)\n",
    "Area_ref = ref_p['area'].sum()/1000000\n",
    "print('Area ref:', Area_ref)\n",
    "d = (Area_rgi - Area_ref)\n",
    "d_perc = (d/Area_rgi*100)\n",
    "print('Area difference [km²]:',d,'/','percentage:', d_perc)"
   ]
  },
  {
   "cell_type": "markdown",
   "id": "f0497830-6dfa-46d0-be54-21d6db79fd19",
   "metadata": {},
   "source": [
    "### Alps (no problem)"
   ]
  },
  {
   "cell_type": "code",
   "execution_count": null,
   "id": "19a5fd85-45fe-4b13-8149-3d888544da7f",
   "metadata": {},
   "outputs": [],
   "source": [
    "# add an area field to RGI_ss and reference data\n",
    "RGI_a['area'] = RGI_a.to_crs({'proj':'cea'}).area\n",
    "ref_a['area'] = ref_a.to_crs({'proj':'cea'}).area\n",
    "\n",
    "print(len(ref_a))\n",
    "ref_a = ref_a.loc[np.round(ref_a['area'] * 1e-6, 3) >= 0.01].copy()\n",
    "len(ref_a)"
   ]
  },
  {
   "cell_type": "code",
   "execution_count": null,
   "id": "51f06ade-1db6-4a96-a0b9-a8c4b731d2be",
   "metadata": {},
   "outputs": [],
   "source": [
    "print('Number of glaciers in new RGI subset:', len(RGI_a))\n",
    "print('Number of glaciers in reference data (Franck):', len(ref_a))\n",
    "print('Difference:', len(RGI_a)-len(ref_a))"
   ]
  },
  {
   "cell_type": "code",
   "execution_count": null,
   "id": "94f8923f-017e-4581-9ed2-1cf3b9062706",
   "metadata": {},
   "outputs": [],
   "source": [
    "# print and compare area values\n",
    "Area_rgi = RGI_a['area'].sum()/1000000\n",
    "print('Area RGI [km²]:', Area_rgi)\n",
    "Area_ref = ref_a['area'].sum()/1000000\n",
    "print('Area ref:', Area_ref)\n",
    "d = (Area_rgi - Area_ref)\n",
    "d_perc = (d/Area_rgi*100)\n",
    "print('Area difference [km²]:',d,'/','percentage:', d_perc)"
   ]
  },
  {
   "cell_type": "markdown",
   "id": "be8332e5-4377-4eab-8b96-00ec4d748f42",
   "metadata": {},
   "source": [
    "For Alps, no substantial differences between the original Frank and glims inventories, except for a glacier, that we want to find now:"
   ]
  },
  {
   "cell_type": "markdown",
   "id": "921f801f-18b2-47ff-85ee-67a9240acfe2",
   "metadata": {},
   "source": [
    "### Find the missing glacier "
   ]
  },
  {
   "cell_type": "code",
   "execution_count": null,
   "id": "b64802f2-b576-4289-a9ef-3baabba58a6b",
   "metadata": {},
   "outputs": [],
   "source": [
    "df_ref = ref_a.copy()\n",
    "rgi7 = RGI_a.copy()\n",
    "df_ref = df_ref.to_crs(rgi7.crs)"
   ]
  },
  {
   "cell_type": "code",
   "execution_count": null,
   "id": "5e6ff19a-b998-4ee4-b474-d668e6e650cb",
   "metadata": {},
   "outputs": [],
   "source": [
    "import progressbar"
   ]
  },
  {
   "cell_type": "code",
   "execution_count": null,
   "id": "4122c984-86f9-4f6c-b941-b887813030a9",
   "metadata": {},
   "outputs": [],
   "source": [
    "def xy_coord(geom):\n",
    "    \"\"\"To compute CenLon CenLat ourselves\"\"\"\n",
    "    x, y = geom.xy\n",
    "    return x[0], y[0]"
   ]
  },
  {
   "cell_type": "code",
   "execution_count": null,
   "id": "67565232-a5b6-400d-8148-80a586e4ab3b",
   "metadata": {},
   "outputs": [],
   "source": [
    "# compute CenLon CenLat ourselves\n",
    "rp = df_ref.representative_point()\n",
    "\n",
    "coordinates = np.array(list(rp.apply(xy_coord)))\n",
    "df_ref['CenLon'] = coordinates[:, 0]\n",
    "df_ref['CenLat'] = coordinates[:, 1]"
   ]
  },
  {
   "cell_type": "code",
   "execution_count": null,
   "id": "f8eadf18-1d70-46d3-af13-3749697657e3",
   "metadata": {},
   "outputs": [],
   "source": [
    "df_ref_orig = df_ref.copy()"
   ]
  },
  {
   "cell_type": "code",
   "execution_count": null,
   "id": "1f7e7124-25a0-4546-a8ee-1d99fb9ace95",
   "metadata": {},
   "outputs": [],
   "source": [
    "# Loop over all RGI7 glaciers and find their equivalent in ref\n",
    "df_ref = df_ref_orig.copy()\n",
    "not_found = {}\n",
    "to_drop = []\n",
    "for i, (ref_area, lon, lat) in progressbar.progressbar(enumerate(zip(rgi7['area'].values, rgi7.CenLon.values, rgi7.CenLat.values)), max_value=len(rgi7)):\n",
    "#     dist = haversine(lon, lat, df_ref.CenLon.values, df_ref.CenLat.values)\n",
    "    dist = (lon - df_ref.CenLon.values)**2 + (lat - df_ref.CenLat.values)**2 \n",
    "    found = False\n",
    "    for j in np.argsort(dist)[:10]:\n",
    "        s6 = df_ref.iloc[j]\n",
    "        if np.allclose(s6['area'], ref_area, rtol=0.01):\n",
    "            found = True\n",
    "            to_drop.append(s6.name)\n",
    "            break\n",
    "    if not found:\n",
    "        not_found[i] = df_ref.iloc[np.argsort(dist)[:10]]\n",
    "    if len(to_drop) > 1000:\n",
    "        df_ref.drop(labels=to_drop, inplace=True)\n",
    "        to_drop = []\n",
    "df_ref.drop(labels=to_drop, inplace=True)"
   ]
  },
  {
   "cell_type": "code",
   "execution_count": null,
   "id": "ff20c876-a302-4f2a-a5a7-6b0fec1ccc5c",
   "metadata": {},
   "outputs": [],
   "source": [
    "print(len(not_found), len(df_ref))"
   ]
  },
  {
   "cell_type": "code",
   "execution_count": null,
   "id": "73ba0099-f07b-495d-a2d0-b2714c5b9884",
   "metadata": {},
   "outputs": [],
   "source": [
    "df_ref.plot(edgecolor='k', column='area');"
   ]
  },
  {
   "cell_type": "code",
   "execution_count": null,
   "id": "3c035f6a-600c-41a7-9a17-bbc473425fc1",
   "metadata": {},
   "outputs": [],
   "source": [
    "pb_rgi7 = rgi7.iloc[list(not_found.keys())]\n",
    "pb_rgi7.plot(edgecolor='k', column='area');"
   ]
  },
  {
   "cell_type": "markdown",
   "id": "c99b8885-258f-49f7-a2ac-bef43398380d",
   "metadata": {},
   "source": [
    "**Conclusion: there is no problem in GLIMS!!!**"
   ]
  }
 ],
 "metadata": {
  "kernelspec": {
   "display_name": "Python 3 (ipykernel)",
   "language": "python",
   "name": "python3"
  },
  "language_info": {
   "codemirror_mode": {
    "name": "ipython",
    "version": 3
   },
   "file_extension": ".py",
   "mimetype": "text/x-python",
   "name": "python",
   "nbconvert_exporter": "python",
   "pygments_lexer": "ipython3",
   "version": "3.10.8"
  }
 },
 "nbformat": 4,
 "nbformat_minor": 5
}
