{
 "cells": [
  {
   "cell_type": "markdown",
   "id": "executed-gamma",
   "metadata": {},
   "source": [
    "# RGI03 (Arctic Canada North)\n",
    "\n",
    "F. Maussion & S. Galos"
   ]
  },
  {
   "cell_type": "code",
   "execution_count": null,
   "id": "moderate-scottish",
   "metadata": {},
   "outputs": [],
   "source": [
    "import pandas as pd\n",
    "import geopandas as gpd\n",
    "import subprocess\n",
    "import matplotlib.pyplot as plt\n",
    "import matplotlib.patches as mpatches\n",
    "import seaborn as sns\n",
    "import numpy as np\n",
    "from utils import (mkdir, submission_summary, needs_size_filter, size_filter, plot_map, plot_date_hist, \n",
    "                   find_duplicates, open_zip_shapefile, correct_geoms, fix_overaps)\n",
    "import os"
   ]
  },
  {
   "cell_type": "markdown",
   "id": "alike-oxygen",
   "metadata": {},
   "source": [
    "## Files and storage paths"
   ]
  },
  {
   "cell_type": "code",
   "execution_count": null,
   "id": "painful-twenty",
   "metadata": {},
   "outputs": [],
   "source": [
    "# Region of interest\n",
    "reg = 3\n",
    "\n",
    "# go down from rgi7_scripts/workflow\n",
    "data_dir = '../../rgi7_data/'\n",
    "\n",
    "# Level 2 GLIMS files\n",
    "l2_dir = os.path.join(data_dir, 'l2_sel_reg_tars')\n",
    "\n",
    "# Output directories\n",
    "output_dir = mkdir(os.path.join(data_dir, 'l3_rgi7a'))\n",
    "output_dir_tar = mkdir(os.path.join(data_dir, 'l3_rgi7a_tar'))\n",
    "\n",
    "# RGI v6 file for comparison later \n",
    "rgi6_reg_file = os.path.join(data_dir, 'l0_RGIv6', '03_rgi60_ArcticCanadaNorth.zip')\n",
    "\n",
    "# Supporting shapes and data\n",
    "support_dir = os.path.join(data_dir, 'l0_support_data')"
   ]
  },
  {
   "cell_type": "markdown",
   "id": "arbitrary-paraguay",
   "metadata": {},
   "source": [
    "### Load the input data"
   ]
  },
  {
   "cell_type": "code",
   "execution_count": null,
   "id": "surgical-manor",
   "metadata": {},
   "outputs": [],
   "source": [
    "# Read L2 files\n",
    "shp = gpd.read_file('tar://' + l2_dir + f'/RGI{reg:02d}.tar.gz/RGI{reg:02d}/RGI{reg:02d}.shp')"
   ]
  },
  {
   "cell_type": "markdown",
   "id": "f3b41c11-1105-4fb8-8e31-38ca8261d6bd",
   "metadata": {},
   "source": [
    "### List of submissions "
   ]
  },
  {
   "cell_type": "code",
   "execution_count": null,
   "id": "a67177af-e361-4160-9802-1771cf32afca",
   "metadata": {},
   "outputs": [],
   "source": [
    "sdf, _ = submission_summary(shp)\n",
    "sdf"
   ]
  },
  {
   "cell_type": "markdown",
   "id": "c73a1078-af4d-4c8d-bb5f-e26ebc2b942f",
   "metadata": {},
   "source": [
    "Notes based on inidivual submission evaluations: \n",
    "\n",
    "- 590: This is the RGI, without Melville Island\n",
    "- 635: are seven glaciers on Melville Island, yet not what is used by RGI6 (RGI6 outlines for Melville are not available in GLIMS)\n",
    "- 660, 661: also Melville Island. A bit further to 2000 than 635.\n",
    "- 728: Three parts: Elsemere (Central), Axel Heiberg, Ellesmere (South West). To be used in RGI7?\n",
    "- 723: Ellesmere North - to be used in RGI7\n",
    "- 713, 712, 711: Ellesmere North - too late, not for RGI7\n",
    "- 755: missing outlines added by Will: https://github.com/GLIMS-RGI/rgi7_scripts/issues/34"
   ]
  },
  {
   "cell_type": "code",
   "execution_count": null,
   "id": "491d23e6-03cb-4850-a1ae-1b3234583e42",
   "metadata": {},
   "outputs": [],
   "source": [
    "# # Write out selection in intermediate shape files for manual GIS review\n",
    "# tmp_output_dir = mkdir(os.path.join(data_dir, 'l0_tmp_data', f'rgi{reg:02d}_inventories'))\n",
    "# tmp_output_dir_tar = mkdir(os.path.join(data_dir, 'l0_tmp_data'))\n",
    "# for subid in shp.subm_id.unique():\n",
    "#     s_loc = shp.loc[shp.subm_id == subid]\n",
    "#     s_loc.to_file(tmp_output_dir + f'/subm_{int(subid):03d}.shp')\n",
    "# print('Taring...')\n",
    "# print(subprocess.run(['tar', '-zcvf', f'{tmp_output_dir_tar}/rgi{reg:02d}_inventories.tar.gz', '-C', \n",
    "#                       os.path.join(data_dir, 'l0_tmp_data'), f'rgi{reg:02d}_inventories']))"
   ]
  },
  {
   "cell_type": "markdown",
   "id": "039d5f04-c3c4-4feb-a072-d3cf5117f115",
   "metadata": {},
   "source": [
    "### Read in the geometry data for sub-inventory selection "
   ]
  },
  {
   "cell_type": "code",
   "execution_count": null,
   "id": "6d87e78c-984a-423c-9df3-422744210538",
   "metadata": {},
   "outputs": [],
   "source": [
    "# Read L2 files\n",
    "shp_loc = gpd.read_file('tar://' + support_dir + f'/sub_inventory_sel_RGI03.tar.gz/sub_inventory_sel_RGI03.shp')"
   ]
  },
  {
   "cell_type": "code",
   "execution_count": null,
   "id": "83e641d0-b677-4757-8237-48279e568bcc",
   "metadata": {},
   "outputs": [],
   "source": [
    "shp_loc.plot(edgecolor='k');"
   ]
  },
  {
   "cell_type": "code",
   "execution_count": null,
   "id": "b2796688-f951-453f-abc1-ad6f738dac3b",
   "metadata": {},
   "outputs": [],
   "source": [
    "shp_loc"
   ]
  },
  {
   "cell_type": "code",
   "execution_count": null,
   "id": "3deb0b05-a78d-43fb-ad3e-30d2fd189493",
   "metadata": {},
   "outputs": [],
   "source": [
    "# Test the polygons I drew - each subregion should be equivalent as the sel by id\n",
    "# (Except RGI6 which will be replaced in parts)\n",
    "for sub_id in [635, 728, 723]:\n",
    "    sel = shp.loc[shp['subm_id'] == sub_id].copy()\n",
    "    rp = sel.representative_point().to_frame('geometry')\n",
    "    rp['orig_index'] = sel.index\n",
    "    intersect = gpd.overlay(rp, shp_loc.loc[shp_loc['subm_id'] == sub_id], how='intersection')\n",
    "    odf = sel.loc[intersect['orig_index']]\n",
    "    assert len(sel) == len(odf)"
   ]
  },
  {
   "cell_type": "markdown",
   "id": "d413f1f3-d634-4199-855e-388a0331e48c",
   "metadata": {},
   "source": [
    "### Apply selection criteria to create the RGI7 data subset"
   ]
  },
  {
   "cell_type": "code",
   "execution_count": null,
   "id": "1962e0e5-4847-4d70-9243-31848337b9f8",
   "metadata": {},
   "outputs": [],
   "source": [
    "# Melville\n",
    "rgi7_Melville = shp.loc[shp['subm_id'].isin([635])].copy()\n",
    "print(len(rgi7_Melville))\n",
    "rgi7_Melville = size_filter(rgi7_Melville)\n",
    "print(len(rgi7_Melville))\n",
    "\n",
    "rgi7_Melville['is_rgi6'] = False"
   ]
  },
  {
   "cell_type": "code",
   "execution_count": null,
   "id": "033f05ef-e1cc-40cf-babe-c62fb132fb44",
   "metadata": {},
   "outputs": [],
   "source": [
    "# Ellesmere North\n",
    "rgi7_North = shp.loc[shp['subm_id'].isin([723])].copy()\n",
    "print(len(rgi7_North))\n",
    "rgi7_North = size_filter(rgi7_North)\n",
    "print(len(rgi7_North))\n",
    "\n",
    "rgi7_North['is_rgi6'] = False"
   ]
  },
  {
   "cell_type": "code",
   "execution_count": null,
   "id": "085609e9-dcac-4c95-b3cf-a1b30c0aa122",
   "metadata": {},
   "outputs": [],
   "source": [
    "# Ellesmere Central + Axel Heiberg\n",
    "rgi7_Central = shp.loc[shp['subm_id'].isin([728])].copy()\n",
    "print(len(rgi7_Central))\n",
    "rgi7_Central = size_filter(rgi7_Central)\n",
    "print(len(rgi7_Central))\n",
    "\n",
    "rgi7_Central['is_rgi6'] = False"
   ]
  },
  {
   "cell_type": "code",
   "execution_count": null,
   "id": "99d0a91e-7d17-439f-acb3-539cd64a4a16",
   "metadata": {},
   "outputs": [],
   "source": [
    "# Addons from Will: https://github.com/GLIMS-RGI/rgi7_scripts/issues/34\n",
    "rgi7_Addons = shp.loc[shp['subm_id'].isin([755])].copy()\n",
    "print(len(rgi7_Addons))\n",
    "rgi7_Addons = size_filter(rgi7_Addons)\n",
    "print(len(rgi7_Addons))\n",
    "\n",
    "rgi7_Addons['is_rgi6'] = False"
   ]
  },
  {
   "cell_type": "code",
   "execution_count": null,
   "id": "27bd7006-90b9-4dfa-9a8f-ca188e237e58",
   "metadata": {},
   "outputs": [],
   "source": [
    "# Rest (Devon, East, etc)\n",
    "rgi7_South = shp.loc[shp['subm_id'].isin([590])].copy()\n",
    "print(len(rgi7_South))\n",
    "\n",
    "# Sel by canvas\n",
    "rp = rgi7_South.representative_point().to_frame('geometry')\n",
    "rp['orig_index'] = rgi7_South.index\n",
    "intersect = gpd.overlay(rp, shp_loc.loc[shp_loc['subm_id'] == 590], how='intersection')\n",
    "rgi7_South = rgi7_South.loc[intersect['orig_index']]\n",
    "\n",
    "# Sel by size\n",
    "print(len(rgi7_South))\n",
    "rgi7_South = size_filter(rgi7_South)\n",
    "print(len(rgi7_South))\n",
    "\n",
    "rgi7_South['is_rgi6'] = True"
   ]
  },
  {
   "cell_type": "code",
   "execution_count": null,
   "id": "d66cdbde-4438-4f83-8865-437fcb8a188e",
   "metadata": {},
   "outputs": [],
   "source": [
    "# combine the geodataframes\n",
    "rgi7 = pd.concat([rgi7_Melville, rgi7_North, rgi7_Central, rgi7_Addons, rgi7_South])"
   ]
  },
  {
   "cell_type": "code",
   "execution_count": null,
   "id": "f7679c84-326e-4254-b6a1-29c6841765f9",
   "metadata": {},
   "outputs": [],
   "source": [
    "# Sel by size\n",
    "print(len(rgi7))\n",
    "rgi7 = size_filter(rgi7)\n",
    "print(len(rgi7))"
   ]
  },
  {
   "cell_type": "code",
   "execution_count": null,
   "id": "ea5898c7-f389-4883-996a-0278f724497c",
   "metadata": {},
   "outputs": [],
   "source": [
    "# This is a triangle\n",
    "len_bef = len(rgi7)\n",
    "rgi7 = rgi7.loc[rgi7.anlys_id != 308558].copy()  # G281934E76633N\n",
    "assert len(rgi7) == (len_bef - 1)"
   ]
  },
  {
   "cell_type": "markdown",
   "id": "a90b2c68-6d89-4a5d-b11b-485a2bd3c45b",
   "metadata": {
    "tags": []
   },
   "source": [
    "### Some sanity checks "
   ]
  },
  {
   "cell_type": "code",
   "execution_count": null,
   "id": "7579251f-68e2-46cf-8c6a-cec6cce6ac5c",
   "metadata": {},
   "outputs": [],
   "source": [
    "dupes = find_duplicates(rgi7) "
   ]
  },
  {
   "cell_type": "code",
   "execution_count": null,
   "id": "c39a527d-9cff-4a1d-a291-68c18bf88fae",
   "metadata": {},
   "outputs": [],
   "source": [
    "# for i in np.arange(1, 12, 2):\n",
    "#     plt.figure();\n",
    "#     f, axs = plt.subplots(1, 2)\n",
    "#     dupes.iloc[[i-1]].plot(ax=axs[0]);\n",
    "#     dupes.iloc[[i]].plot(ax=axs[1]);\n",
    "# The first 4 pairs are duplicates, the last two pairs are really weird shapes that belong deleted"
   ]
  },
  {
   "cell_type": "code",
   "execution_count": null,
   "id": "de9dd2f2-9953-44bf-95ee-1e9ee038979b",
   "metadata": {},
   "outputs": [],
   "source": [
    "to_remove = dupes.iloc[[1, 3, 5, 7, 8, 9, 10, 11]]\n",
    "rgi7 = rgi7.loc[~rgi7.anlys_id.isin(to_remove.anlys_id)]\n",
    "find_duplicates(rgi7);"
   ]
  },
  {
   "cell_type": "code",
   "execution_count": null,
   "id": "5a5e1856-b36c-474d-8e52-7ad2c03df96d",
   "metadata": {},
   "outputs": [],
   "source": [
    "rgi7 = correct_geoms(rgi7)"
   ]
  },
  {
   "cell_type": "code",
   "execution_count": null,
   "id": "5b9c6692-32dd-470a-88b4-024baab5a520",
   "metadata": {},
   "outputs": [],
   "source": [
    "rgi7 = fix_overaps(rgi7)"
   ]
  },
  {
   "cell_type": "code",
   "execution_count": null,
   "id": "7e1e65de-1301-4fd5-94d8-7f7dc2fcdd67",
   "metadata": {},
   "outputs": [],
   "source": [
    "rgi7 = correct_geoms(rgi7)"
   ]
  },
  {
   "cell_type": "code",
   "execution_count": null,
   "id": "f42e7719-068c-44ee-aaac-4aabb36fb795",
   "metadata": {},
   "outputs": [],
   "source": [
    "print(len(rgi7))\n",
    "rgi7 = size_filter(rgi7)\n",
    "print(len(rgi7))"
   ]
  },
  {
   "cell_type": "code",
   "execution_count": null,
   "id": "6b9c3503-4d74-4f97-93ba-f3e8eeefead3",
   "metadata": {},
   "outputs": [],
   "source": [
    "sdf, df_class = submission_summary(rgi7)\n",
    "df_class"
   ]
  },
  {
   "cell_type": "code",
   "execution_count": null,
   "id": "5846d012-967f-4378-956f-0242ac09fa38",
   "metadata": {},
   "outputs": [],
   "source": [
    "# Check the orphaned rock outcrops\n",
    "orphan_f = os.path.join(data_dir, 'l1_orphan_interiors', f'RGI{reg:02d}', f'RGI{reg:02d}.shp')\n",
    "if os.path.exists(orphan_f):\n",
    "    orphan_f = gpd.read_file(orphan_f)\n",
    "    check = np.isin(rgi7.subm_id.unique(), orphan_f.subm_id.unique())\n",
    "    if np.any(check):\n",
    "        print(f'Orphan rock outcrops detected in subm_id {rgi7.subm_id.unique()[check]}')\n",
    "        orphan_f['area'] = orphan_f.to_crs({'proj':'cea'}).area"
   ]
  },
  {
   "cell_type": "markdown",
   "id": "7c08d04a-1951-4c11-b2a0-85d63661f11e",
   "metadata": {},
   "source": [
    "### Plots "
   ]
  },
  {
   "cell_type": "code",
   "execution_count": null,
   "id": "a0dc9d97-38c9-44f4-b9cb-54b05a83ba21",
   "metadata": {},
   "outputs": [],
   "source": [
    "plot_map(rgi7, reg, loc='upper left')"
   ]
  },
  {
   "cell_type": "code",
   "execution_count": null,
   "id": "589838df-e4b6-483b-b1d7-b03c9f6ea776",
   "metadata": {},
   "outputs": [],
   "source": [
    "plot_map(rgi7, reg, loc='upper left', is_rgi6=True)"
   ]
  },
  {
   "cell_type": "code",
   "execution_count": null,
   "id": "6dd9cdf4-a0f4-4273-b46e-7e924e3e792d",
   "metadata": {},
   "outputs": [],
   "source": [
    "plot_date_hist(rgi7, reg)"
   ]
  },
  {
   "cell_type": "markdown",
   "id": "06c1f948-b5d3-4dda-8d32-ba8e0bfc0b60",
   "metadata": {},
   "source": [
    "### Text for github"
   ]
  },
  {
   "cell_type": "code",
   "execution_count": null,
   "id": "9ed8d002-209f-43d3-961c-ceac051a0866",
   "metadata": {},
   "outputs": [],
   "source": [
    "fgh = sdf.T\n",
    "fgh"
   ]
  },
  {
   "cell_type": "code",
   "execution_count": null,
   "id": "e2696f29-9f09-4405-a77c-1450ef32725e",
   "metadata": {},
   "outputs": [],
   "source": [
    "print(fgh.to_markdown(headers=np.append(['subm_id'], fgh.columns)))"
   ]
  },
  {
   "cell_type": "markdown",
   "id": "0ee6bcf1-718c-4828-9bd3-5fc36957b93c",
   "metadata": {},
   "source": [
    "## Write out and tar "
   ]
  },
  {
   "cell_type": "code",
   "execution_count": null,
   "id": "8b0e3fc5-e734-478c-a52b-60852c467730",
   "metadata": {},
   "outputs": [],
   "source": [
    "dd = mkdir(f'{output_dir}/RGI{reg:02d}/', reset=True)\n",
    "\n",
    "print('Writing...')\n",
    "rgi7.to_file(dd + f'RGI{reg:02d}.shp')\n",
    "\n",
    "print('Taring...')\n",
    "print(subprocess.run(['tar', '-zcvf', f'{output_dir_tar}/RGI{reg:02d}.tar.gz', '-C', output_dir, f'RGI{reg:02d}']))"
   ]
  },
  {
   "cell_type": "markdown",
   "id": "9ff1e674-6d4e-499b-a7c3-b09040bf96be",
   "metadata": {
    "jp-MarkdownHeadingCollapsed": true,
    "tags": []
   },
   "source": [
    "## New RGI-file created - Check result!"
   ]
  },
  {
   "cell_type": "markdown",
   "id": "9edd7c21-62c8-4c17-94e4-8e8025ccf38d",
   "metadata": {},
   "source": [
    "### load reference data (here RGI6 and Frank's) to enable comparison"
   ]
  },
  {
   "cell_type": "code",
   "execution_count": null,
   "id": "2c43ccaa-cf19-4be7-ae6e-d787d3d5d852",
   "metadata": {},
   "outputs": [],
   "source": [
    "# load reference data\n",
    "from utils import open_zip_shapefile\n",
    "\n",
    "# RGI6\n",
    "ref_rgi6 = open_zip_shapefile(rgi6_reg_file)\n",
    "# FP\n",
    "ref_fp = open_zip_shapefile(os.path.join(support_dir, 'c3s_gi_rgi03_l7_1999_v1.zip'))\n",
    "# Will\n",
    "ref_wk = open_zip_shapefile(os.path.join(support_dir, 'RGI6_Kochtitzky_final_3Sep2021.zip'))"
   ]
  },
  {
   "cell_type": "markdown",
   "id": "df710457-ad96-45e5-9696-0019f8947b4d",
   "metadata": {},
   "source": [
    "### Compare new RGI7-file to RGI6"
   ]
  },
  {
   "cell_type": "markdown",
   "id": "a184f0a3-a132-4fdf-94a6-a8549e36fee8",
   "metadata": {},
   "source": [
    "### Number of elements (differences do not depict problems)"
   ]
  },
  {
   "cell_type": "code",
   "execution_count": null,
   "id": "88bfd20f-49fd-4f6a-8d94-668f8b2921e3",
   "metadata": {},
   "outputs": [],
   "source": [
    "print('Number of glaciers in new RGI:', len(rgi7))\n",
    "print('Number of glaciers in RGI6:', len(ref_rgi6))\n",
    "print('Difference:', len(rgi7)-len(ref_rgi6))"
   ]
  },
  {
   "cell_type": "markdown",
   "id": "073ba4fb-8bbf-4d80-b2e4-2003e48bebbe",
   "metadata": {},
   "source": [
    "### How many nominal glaciers were there in RGI06?"
   ]
  },
  {
   "cell_type": "code",
   "execution_count": null,
   "id": "4149dc28-460f-4e04-942d-968d1f57148c",
   "metadata": {},
   "outputs": [],
   "source": [
    "len(ref_rgi6.loc[ref_rgi6.Status == 2])"
   ]
  },
  {
   "cell_type": "markdown",
   "id": "e91c31ab-8ae2-4451-b28f-e28966ff4bb4",
   "metadata": {},
   "source": [
    "### Total area"
   ]
  },
  {
   "cell_type": "code",
   "execution_count": null,
   "id": "c7a5254b-4a52-4a14-a0d1-6129c6a5b59f",
   "metadata": {},
   "outputs": [],
   "source": [
    "# add an area field to RGI_ss and reference data\n",
    "ref_rgi6['area'] = ref_rgi6.to_crs({'proj':'cea'}).area\n",
    "ref_fp['area'] = ref_fp.to_crs({'proj':'cea'}).area\n",
    "ref_wk['area'] = ref_wk.to_crs({'proj':'cea'}).area"
   ]
  },
  {
   "cell_type": "code",
   "execution_count": null,
   "id": "a8357b1c-07d0-4bbe-9e84-a980ea29480b",
   "metadata": {},
   "outputs": [],
   "source": [
    "# print and compare area values\n",
    "Area_RGI = rgi7['area'].sum() * 1e-6\n",
    "print('Area RGI7 [km²]:', Area_RGI)\n",
    "Area_ref = ref_rgi6['area'].sum() * 1e-6\n",
    "print('Area RGI6 [km²]:', Area_ref)\n",
    "d = (Area_RGI - Area_ref)\n",
    "print('Area difference [km²]:', d)"
   ]
  },
  {
   "cell_type": "markdown",
   "id": "d098199e-17e5-44e0-a4b2-782c0f5df145",
   "metadata": {},
   "source": [
    "### Northern Ellesmere (723, Frank Paul, no problem there):  "
   ]
  },
  {
   "cell_type": "code",
   "execution_count": null,
   "id": "1d85a7de-05a0-4def-98fd-128ba2af8442",
   "metadata": {},
   "outputs": [],
   "source": [
    "print('Number of glaciers in RGI7 subset:', len(rgi7_North))\n",
    "print('Number of glaciers in reference data (FP):', len(ref_fp))\n",
    "print('Difference:', len(rgi7_North)-len(ref_fp))"
   ]
  },
  {
   "cell_type": "code",
   "execution_count": null,
   "id": "688b419a-bd2f-4871-ad42-32e5c1e8ed0e",
   "metadata": {},
   "outputs": [],
   "source": [
    "# print and compare area values\n",
    "Area_7 = rgi7_North['area'].sum() * 1e-6\n",
    "print('Area RGI7 [km²]:', Area_7)\n",
    "Area_6 = ref_fp['area'].sum() * 1e-6\n",
    "print('Area RGI6 [km²]:', Area_6)\n",
    "d = (Area_7 - Area_6)\n",
    "print('Area difference [km²]:', d)"
   ]
  },
  {
   "cell_type": "markdown",
   "id": "c83a08ea-11e0-44c6-b220-a3389569e81c",
   "metadata": {},
   "source": [
    "This is brilliant! No issue there."
   ]
  },
  {
   "cell_type": "markdown",
   "id": "50a1b8f0-84f1-44be-971a-9c760302ba03",
   "metadata": {},
   "source": [
    "### Central Ellesmere (728, Coppland, no problem there):  "
   ]
  },
  {
   "cell_type": "code",
   "execution_count": null,
   "id": "7ff32828-16cc-415a-a7f9-798d6797f597",
   "metadata": {},
   "outputs": [],
   "source": [
    "print(len(ref_wk))\n",
    "ref_wk = ref_wk.loc[np.round(ref_wk['area'] * 1e-6, 3) >= 0.01].copy()\n",
    "len(ref_wk)"
   ]
  },
  {
   "cell_type": "code",
   "execution_count": null,
   "id": "8a78cf0c-48b3-432c-98a3-2eb752cc36ef",
   "metadata": {},
   "outputs": [],
   "source": [
    "print('Number of glaciers in RGI7 subset:', len(rgi7_Central))\n",
    "print('Number of glaciers in reference data (FP):', len(ref_wk))\n",
    "print('Difference:', len(rgi7_Central)-len(ref_wk))"
   ]
  },
  {
   "cell_type": "code",
   "execution_count": null,
   "id": "d5fc801d-3d84-4959-9f76-707b375f1d06",
   "metadata": {},
   "outputs": [],
   "source": [
    "# print and compare area values\n",
    "Area_7 = rgi7_Central['area'].sum() * 1e-6\n",
    "print('Area RGI7 [km²]:', Area_7)\n",
    "Area_6 = ref_wk['area'].sum() * 1e-6\n",
    "print('Area RGI6 [km²]:', Area_6)\n",
    "d = (Area_7 - Area_6)\n",
    "print('Area difference [km²]:', d)"
   ]
  },
  {
   "cell_type": "markdown",
   "id": "4d93115f-e7e3-4400-ba9f-b2dbc322d4c2",
   "metadata": {},
   "source": [
    "This is brilliant! No issue there."
   ]
  },
  {
   "cell_type": "markdown",
   "id": "7019b6bb-efce-4df5-95a5-a92d95bb6780",
   "metadata": {},
   "source": [
    "### Southern Ellesmere (590, RGI6, no problem there):  "
   ]
  },
  {
   "cell_type": "code",
   "execution_count": null,
   "id": "ffccff67-1e4d-4ba8-8099-8362179e3f7b",
   "metadata": {},
   "outputs": [],
   "source": [
    "rp = ref_rgi6.representative_point().to_frame('geometry')\n",
    "rp['orig_index'] = ref_rgi6.index\n",
    "intersect = gpd.overlay(rp, shp_loc.loc[shp_loc['subm_id'] == 590], how='intersection')\n",
    "ref_rgi6_south = ref_rgi6.loc[intersect['orig_index']].copy()"
   ]
  },
  {
   "cell_type": "code",
   "execution_count": null,
   "id": "f5110c5c-d898-4584-8026-805fad57752f",
   "metadata": {},
   "outputs": [],
   "source": [
    "print('Number of glaciers in RGI7 subset:', len(rgi7_South))\n",
    "print('Number of glaciers in reference data (RGI6):', len(ref_rgi6_south))\n",
    "print('Difference:', len(rgi7_South)-len(ref_rgi6_south))"
   ]
  },
  {
   "cell_type": "code",
   "execution_count": null,
   "id": "4148d254-4543-4a02-b261-b5450e32abd8",
   "metadata": {},
   "outputs": [],
   "source": [
    "# print and compare area values\n",
    "Area_7 = rgi7_South['area'].sum() * 1e-6\n",
    "print('Area RGI7 [km²]:', Area_7)\n",
    "Area_6 = ref_rgi6_south['area'].sum() * 1e-6\n",
    "print('Area RGI6 [km²]:', Area_6)\n",
    "d = (Area_7 - Area_6)\n",
    "print('Area difference [km²]:', d)"
   ]
  },
  {
   "cell_type": "markdown",
   "id": "889c6788-e5a7-47e4-9f74-53b1ba9c6511",
   "metadata": {},
   "source": [
    "Almost no issue - some weird polygon outcrops here and there. "
   ]
  },
  {
   "cell_type": "markdown",
   "id": "d3f3f467-7b95-4aa1-8ec7-3b2a7f345a52",
   "metadata": {},
   "source": [
    "### Melville Island (635) not much to compare here"
   ]
  },
  {
   "cell_type": "code",
   "execution_count": null,
   "id": "04399554-84d2-4752-84b9-d5d0e235e8e6",
   "metadata": {},
   "outputs": [],
   "source": [
    "rp = ref_rgi6.representative_point().to_frame('geometry')\n",
    "rp['orig_index'] = ref_rgi6.index\n",
    "intersect = gpd.overlay(rp, shp_loc.loc[shp_loc['subm_id'] == 635], how='intersection')\n",
    "ref_rgi6_melville = ref_rgi6.loc[intersect['orig_index']].copy()"
   ]
  },
  {
   "cell_type": "code",
   "execution_count": null,
   "id": "f85e1f3e-5e0d-4157-a45b-09e9177e2926",
   "metadata": {},
   "outputs": [],
   "source": [
    "print('Number of glaciers in RGI7 subset:', len(rgi7_Melville))\n",
    "print('Number of glaciers in reference data (RGI6):', len(ref_rgi6_melville))\n",
    "print('Difference:', len(rgi7_Melville)-len(ref_rgi6_melville))"
   ]
  },
  {
   "cell_type": "code",
   "execution_count": null,
   "id": "0b808e01-b9f9-4e44-af77-a12366d86396",
   "metadata": {},
   "outputs": [],
   "source": [
    "# print and compare area values\n",
    "Area_7 = rgi7_Melville['area'].sum() * 1e-6\n",
    "print('Area RGI7 [km²]:', Area_7)\n",
    "Area_6 = ref_rgi6_melville['area'].sum() * 1e-6\n",
    "print('Area RGI6 [km²]:', Area_6)\n",
    "d = (Area_7 - Area_6)\n",
    "print('Area difference [km²]:', d)"
   ]
  },
  {
   "cell_type": "code",
   "execution_count": null,
   "id": "2da20de5-cfb5-4b93-b114-13ebe700c845",
   "metadata": {},
   "outputs": [],
   "source": [
    "f, ax = plt.subplots(figsize=(14, 14))\n",
    "rgi7_Melville.plot(ax=ax, facecolor='None', edgecolor='C0');\n",
    "ref_rgi6_melville.plot(ax=ax, facecolor='None', edgecolor='C3');\n",
    "ax.legend(handles=[\n",
    "            mpatches.Patch(facecolor='C0', label='635 - Berthier'),\n",
    "            mpatches.Patch(facecolor='C3', label='RGI6'),\n",
    "          ], loc='upper left');"
   ]
  },
  {
   "cell_type": "code",
   "execution_count": null,
   "id": "a9ba6b0a-6d03-49be-8b5e-e9d933c8d045",
   "metadata": {},
   "outputs": [],
   "source": []
  }
 ],
 "metadata": {
  "kernelspec": {
   "display_name": "Python 3 (ipykernel)",
   "language": "python",
   "name": "python3"
  },
  "language_info": {
   "codemirror_mode": {
    "name": "ipython",
    "version": 3
   },
   "file_extension": ".py",
   "mimetype": "text/x-python",
   "name": "python",
   "nbconvert_exporter": "python",
   "pygments_lexer": "ipython3",
   "version": "3.10.8"
  }
 },
 "nbformat": 4,
 "nbformat_minor": 5
}
