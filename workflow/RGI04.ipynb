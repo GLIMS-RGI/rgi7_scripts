{
 "cells": [
  {
   "cell_type": "markdown",
   "id": "proved-collins",
   "metadata": {},
   "source": [
    "# RGI04 (Arctic Canada South)\n",
    "\n",
    "F. Maussion\n",
    "\n",
    "Full replace by Philipp and Frank, except Labrador which still used RGI6"
   ]
  },
  {
   "cell_type": "code",
   "execution_count": null,
   "id": "artificial-distributor",
   "metadata": {},
   "outputs": [],
   "source": [
    "import pandas as pd\n",
    "import geopandas as gpd\n",
    "import subprocess\n",
    "import matplotlib.pyplot as plt\n",
    "import matplotlib.patches as mpatches\n",
    "import seaborn as sns\n",
    "import numpy as np\n",
    "from utils import mkdir, submission_summary, needs_size_filter, size_filter, plot_map, plot_date_hist, find_duplicates\n",
    "import os"
   ]
  },
  {
   "cell_type": "markdown",
   "id": "pregnant-psychiatry",
   "metadata": {},
   "source": [
    "## Files and storage paths"
   ]
  },
  {
   "cell_type": "code",
   "execution_count": null,
   "id": "massive-hundred",
   "metadata": {},
   "outputs": [],
   "source": [
    "# Region of interest\n",
    "reg = 4\n",
    "\n",
    "# go down from rgi7_scripts/workflow\n",
    "data_dir = '../../rgi7_data/'\n",
    "\n",
    "# Level 2 GLIMS files\n",
    "l2_dir = os.path.join(data_dir, 'l2_sel_reg_tars')\n",
    "\n",
    "# Output directories\n",
    "output_dir = mkdir(os.path.join(data_dir, 'l3_rgi7a'))\n",
    "output_dir_tar = mkdir(os.path.join(data_dir, 'l3_rgi7a_tar'))\n",
    "\n",
    "# RGI v6 file for comparison later \n",
    "rgi6_reg_file = os.path.join(data_dir, 'l0_RGIv6', '04_rgi60_ArcticCanadaNorth.zip')"
   ]
  },
  {
   "cell_type": "markdown",
   "id": "median-mount",
   "metadata": {},
   "source": [
    "### Load the input data"
   ]
  },
  {
   "cell_type": "code",
   "execution_count": null,
   "id": "thermal-roads",
   "metadata": {},
   "outputs": [],
   "source": [
    "# Read L2 files\n",
    "shp = gpd.read_file('tar://' + l2_dir + f'/RGI{reg:02d}.tar.gz/RGI{reg:02d}/RGI{reg:02d}.shp')"
   ]
  },
  {
   "cell_type": "markdown",
   "id": "7326fe78-a9dc-455c-9d90-cc9d1763ad84",
   "metadata": {},
   "source": [
    "### List of submissions "
   ]
  },
  {
   "cell_type": "code",
   "execution_count": null,
   "id": "17547a6e-11a8-472c-a579-21d3e96a428c",
   "metadata": {},
   "outputs": [],
   "source": [
    "sdf, _ = submission_summary(shp)\n",
    "sdf"
   ]
  },
  {
   "cell_type": "markdown",
   "id": "3bd8ab61-af66-4fa6-8d94-3b997b9458f8",
   "metadata": {},
   "source": [
    "Notes based on individual submission evaluations: \n",
    "\n",
    "- 589: This is the RGI6\n",
    "- 745: also RGI6, corrected: for https://github.com/GLIMS-RGI/rgi7_scripts/issues/8\n",
    "- 750: this is the new submission by F&P - valid above 61°N, below we need RGI6: https://github.com/GLIMS-RGI/rgi7_scripts/issues/57"
   ]
  },
  {
   "cell_type": "code",
   "execution_count": null,
   "id": "82e8bf27-25d7-44e7-9a76-c79825dbe703",
   "metadata": {},
   "outputs": [],
   "source": [
    "# # Write out selection in intermediate shape files for manual GIS review\n",
    "# tmp_output_dir = mkdir(os.path.join(data_dir, 'l0_tmp_data', f'rgi{reg:02d}_inventories'))\n",
    "# tmp_output_dir_tar = mkdir(os.path.join(data_dir, 'l0_tmp_data'))\n",
    "# for subid in shp.subm_id.unique():\n",
    "#     s_loc = shp.loc[shp.subm_id == subid]\n",
    "#     s_loc.to_file(tmp_output_dir + f'/subm_{int(subid):03d}.shp')\n",
    "# print('Taring...')\n",
    "# print(subprocess.run(['tar', '-zcvf', f'{tmp_output_dir_tar}/rgi{reg:02d}_inventories.tar.gz', '-C', \n",
    "#                       os.path.join(data_dir, 'l0_tmp_data'), f'rgi{reg:02d}_inventories']))"
   ]
  },
  {
   "cell_type": "markdown",
   "id": "379f4988-1788-4ac1-9e16-ea5dd15218c3",
   "metadata": {},
   "source": [
    "### Apply selection criteria to create the RGI7 data subset"
   ]
  },
  {
   "cell_type": "code",
   "execution_count": null,
   "id": "3874fd27-8f5d-42d5-9271-057d66627e33",
   "metadata": {},
   "outputs": [],
   "source": [
    "rgi7_north = shp.loc[shp['subm_id'].isin([750])].copy()\n",
    "print(needs_size_filter(rgi7_north))\n",
    "rgi7_north['is_rgi6'] = False"
   ]
  },
  {
   "cell_type": "code",
   "execution_count": null,
   "id": "e6b3a1b0-e3cd-4cad-b2b6-6a19b1b14bcf",
   "metadata": {},
   "outputs": [],
   "source": [
    "rgi7_south = shp.loc[shp['subm_id'].isin([589, 745])].copy()\n",
    "rgi7_south = rgi7_south.loc[rgi7_south.CenLat < 61]\n",
    "print(needs_size_filter(rgi7_south))\n",
    "rgi7_south['is_rgi6'] = True"
   ]
  },
  {
   "cell_type": "code",
   "execution_count": null,
   "id": "03b7ac36-341c-4f64-9051-cb5d6e7fabf7",
   "metadata": {},
   "outputs": [],
   "source": [
    "# combine the geodataframes\n",
    "rgi7 = pd.concat([rgi7_north, rgi7_south])"
   ]
  },
  {
   "cell_type": "markdown",
   "id": "45a5967d-131c-456a-a39f-71ed9a3fce27",
   "metadata": {},
   "source": [
    "### Some sanity checks "
   ]
  },
  {
   "cell_type": "code",
   "execution_count": null,
   "id": "035f60f9-6d38-4960-87b0-3205770d9e0f",
   "metadata": {},
   "outputs": [],
   "source": [
    "dupes = find_duplicates(rgi7)"
   ]
  },
  {
   "cell_type": "code",
   "execution_count": null,
   "id": "4b80233c-320b-4df3-8429-be0dcf114969",
   "metadata": {},
   "outputs": [],
   "source": [
    "sdf, df_class = submission_summary(rgi7)\n",
    "df_class"
   ]
  },
  {
   "cell_type": "code",
   "execution_count": null,
   "id": "51ef75c1-c30d-4176-a096-7821db093ee4",
   "metadata": {},
   "outputs": [],
   "source": [
    "# Check the orphaned rock outcrops\n",
    "orphan_f = os.path.join(data_dir, 'l1_orphan_interiors', f'RGI{reg:02d}', f'RGI{reg:02d}.shp')\n",
    "if os.path.exists(orphan_f):\n",
    "    orphan_f = gpd.read_file(orphan_f)\n",
    "    if np.any(np.isin(rgi7.subm_id.unique(), orphan_f.subm_id.unique())):\n",
    "        print('Orphan rock outcrops detected.')"
   ]
  },
  {
   "cell_type": "markdown",
   "id": "f1f5fa9b-34fc-4a91-8f14-30e620085efd",
   "metadata": {},
   "source": [
    "### Plots "
   ]
  },
  {
   "cell_type": "code",
   "execution_count": null,
   "id": "feb0e720-f7f9-4e3f-8882-32b88d5558c7",
   "metadata": {},
   "outputs": [],
   "source": [
    "plot_map(rgi7, reg)"
   ]
  },
  {
   "cell_type": "code",
   "execution_count": null,
   "id": "fc49df32-c703-45b8-b19a-0344bde23648",
   "metadata": {},
   "outputs": [],
   "source": [
    "plot_map(rgi7, reg, is_rgi6=True)"
   ]
  },
  {
   "cell_type": "code",
   "execution_count": null,
   "id": "406a5d59-80e4-43d6-8f1b-167458ac445a",
   "metadata": {},
   "outputs": [],
   "source": [
    "plot_date_hist(rgi7, reg)"
   ]
  },
  {
   "cell_type": "markdown",
   "id": "4924ae76-64f6-4d91-b8ba-6ac9da4e0846",
   "metadata": {},
   "source": [
    "### Text for github"
   ]
  },
  {
   "cell_type": "code",
   "execution_count": null,
   "id": "d9cfced3-302b-471e-8eaf-60d96ae29f8f",
   "metadata": {},
   "outputs": [],
   "source": [
    "fgh = sdf.T\n",
    "fgh"
   ]
  },
  {
   "cell_type": "code",
   "execution_count": null,
   "id": "6c76ea2a-d11f-42e3-b0ba-ce66020754a8",
   "metadata": {},
   "outputs": [],
   "source": [
    "print(fgh.to_markdown(headers=np.append(['subm_id'], fgh.columns)))"
   ]
  },
  {
   "cell_type": "markdown",
   "id": "5ee07b24-186b-4468-afe7-ce9cbd1e6958",
   "metadata": {},
   "source": [
    "## Write out and tar "
   ]
  },
  {
   "cell_type": "code",
   "execution_count": null,
   "id": "b1b8e903-c89a-49ea-83da-7d8508af5ea5",
   "metadata": {},
   "outputs": [],
   "source": [
    "dd = mkdir(f'{output_dir}/RGI{reg:02d}/', reset=True)\n",
    "\n",
    "print('Writing...')\n",
    "rgi7.to_file(dd + f'RGI{reg:02d}.shp')\n",
    "\n",
    "print('Taring...')\n",
    "print(subprocess.run(['tar', '-zcvf', f'{output_dir_tar}/RGI{reg:02d}.tar.gz', '-C', output_dir, f'RGI{reg:02d}']))"
   ]
  },
  {
   "cell_type": "markdown",
   "id": "1a83ace1-8b46-480d-8f9a-6f6948697236",
   "metadata": {},
   "source": [
    "## Consistency checks"
   ]
  },
  {
   "cell_type": "markdown",
   "id": "e9ae9e4c-7376-4896-a378-b0979606fca6",
   "metadata": {},
   "source": [
    "### With RGI6 (South) "
   ]
  },
  {
   "cell_type": "code",
   "execution_count": null,
   "id": "82895292-460d-41e8-bf6c-c48043edbad4",
   "metadata": {},
   "outputs": [],
   "source": [
    "from utils import open_zip_shapefile\n",
    "rgi6 = open_zip_shapefile(rgi6_reg_file)"
   ]
  },
  {
   "cell_type": "code",
   "execution_count": null,
   "id": "fc1926bf-5410-43a3-b950-47e9e0e005ef",
   "metadata": {},
   "outputs": [],
   "source": [
    "rgi6 = rgi6.loc[rgi6.CenLat < 61]"
   ]
  },
  {
   "cell_type": "code",
   "execution_count": null,
   "id": "bd1d0d44-bc89-47ba-98c7-a759a987abfd",
   "metadata": {},
   "outputs": [],
   "source": [
    "len(rgi7_south), len(rgi6)"
   ]
  },
  {
   "cell_type": "markdown",
   "id": "aa53e0dc-0a72-4ce3-89e1-9c1a39ac43ed",
   "metadata": {},
   "source": [
    "Test the areas:"
   ]
  },
  {
   "cell_type": "code",
   "execution_count": null,
   "id": "0add44d1-db38-4f5f-9062-21fefa8e8c3e",
   "metadata": {},
   "outputs": [],
   "source": [
    "rgi6['Area_us'] = rgi6.to_crs({'proj':'cea'}).area \n",
    "rgi7_south['area'] = rgi7.to_crs({'proj':'cea'}).area "
   ]
  },
  {
   "cell_type": "code",
   "execution_count": null,
   "id": "e5f786d7-a269-464e-a1b6-84983620f256",
   "metadata": {},
   "outputs": [],
   "source": [
    "print('Area RGI7a (km2)', rgi7_south['area'].sum() * 1e-6)\n",
    "print('Area RGI6 (km2)', rgi6['Area'].sum())\n",
    "print('Area RGI6 computed by us (km2)', rgi6['Area_us'].sum() * 1e-6)\n",
    "print('diff areas RGI6 - RGI7 computed by us (km2)', (rgi6['Area_us'].sum() - rgi7_south['area'].sum()) * 1e-6)"
   ]
  },
  {
   "cell_type": "markdown",
   "id": "b5d56f7a-57ce-4c06-b9ab-d81c26ffa244",
   "metadata": {},
   "source": [
    "### With F&P submission "
   ]
  },
  {
   "cell_type": "code",
   "execution_count": null,
   "id": "7d4b71c2-4455-44ef-b1b3-ed26d9c04cac",
   "metadata": {},
   "outputs": [],
   "source": [
    "ref_pr = open_zip_shapefile(data_dir + '/l0_support_data/c3s_gi_rgi04_L7_2000_v1.zip')\n",
    "ref_pr['area'] = ref_pr.to_crs({'proj':'cea'}).area "
   ]
  },
  {
   "cell_type": "code",
   "execution_count": null,
   "id": "adfee0f6-330b-4194-8083-f1c31085e4ea",
   "metadata": {},
   "outputs": [],
   "source": [
    "print('Number of glaciers in RGI7 subset:', len(rgi7_north))\n",
    "print('Number of glaciers in reference data (FP):', len(ref_pr))\n",
    "print('Difference:', len(rgi7_north)-len(ref_pr))"
   ]
  },
  {
   "cell_type": "code",
   "execution_count": null,
   "id": "f2afae5c-be66-4844-8068-e7171b0b7a61",
   "metadata": {},
   "outputs": [],
   "source": [
    "print('Area RGI7a (km2)', rgi7_north['area'].sum() * 1e-6)\n",
    "print('Area Ref (km2)', ref_pr['area'].sum())\n",
    "print('diff areas Ref - RGI7 (km2)', (ref_pr['area'].sum() - rgi7_north['area'].sum()) * 1e-6)"
   ]
  },
  {
   "cell_type": "markdown",
   "id": "c63e73f7-3551-4e48-a0f0-ee0e08861b65",
   "metadata": {},
   "source": [
    "### With RGI6 (Full: differences do not depict problems, just differences) "
   ]
  },
  {
   "cell_type": "code",
   "execution_count": null,
   "id": "0fdbe7ab-fcc8-439e-af59-3856343d9a5d",
   "metadata": {},
   "outputs": [],
   "source": [
    "rgi6 = open_zip_shapefile(rgi6_reg_file)"
   ]
  },
  {
   "cell_type": "code",
   "execution_count": null,
   "id": "8bfcb322-9eb8-40e7-9a98-447d79f80819",
   "metadata": {},
   "outputs": [],
   "source": [
    "len(rgi7), len(rgi6)"
   ]
  },
  {
   "cell_type": "markdown",
   "id": "20ef8735-08cf-4ca2-805e-c0028a7d30a2",
   "metadata": {},
   "source": [
    "Test the areas:"
   ]
  },
  {
   "cell_type": "code",
   "execution_count": null,
   "id": "532035a8-0847-422b-928b-42985e738ddf",
   "metadata": {},
   "outputs": [],
   "source": [
    "rgi6['Area_us'] = rgi6.to_crs({'proj':'cea'}).area \n",
    "rgi7['area'] = rgi7.to_crs({'proj':'cea'}).area "
   ]
  },
  {
   "cell_type": "code",
   "execution_count": null,
   "id": "b79b2c01-0936-4bef-84ec-66f0a7b73043",
   "metadata": {},
   "outputs": [],
   "source": [
    "print('Area RGI7a (km2)', rgi7['area'].sum() * 1e-6)\n",
    "print('Area RGI6 (km2)', rgi6['Area'].sum())\n",
    "print('Area RGI6 computed by us (km2)', rgi6['Area_us'].sum() * 1e-6)\n",
    "print('diff areas RGI6 - RGI7 computed by us (km2)', (rgi6['Area_us'].sum() - rgi7['area'].sum()) * 1e-6)"
   ]
  },
  {
   "cell_type": "code",
   "execution_count": null,
   "id": "f778b6f8-13a5-49f6-a40e-a185f3a4f81d",
   "metadata": {},
   "outputs": [],
   "source": []
  }
 ],
 "metadata": {
  "kernelspec": {
   "display_name": "Python 3 (ipykernel)",
   "language": "python",
   "name": "python3"
  },
  "language_info": {
   "codemirror_mode": {
    "name": "ipython",
    "version": 3
   },
   "file_extension": ".py",
   "mimetype": "text/x-python",
   "name": "python",
   "nbconvert_exporter": "python",
   "pygments_lexer": "ipython3",
   "version": "3.9.13"
  }
 },
 "nbformat": 4,
 "nbformat_minor": 5
}
