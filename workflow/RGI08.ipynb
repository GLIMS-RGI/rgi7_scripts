{
 "cells": [
  {
   "cell_type": "markdown",
   "id": "failing-melbourne",
   "metadata": {},
   "source": [
    "# RGI08 (Scandinavia)\n",
    "\n",
    "F. Maussion & S. Galos\n",
    "\n",
    "Same as RGI6 except for sweden. Details:\n",
    "- in Northern Norway there is a new inventory by Liss but we decided to not use it for consistency (not super strong opinions)\n",
    "- shifted outlines for sweden"
   ]
  },
  {
   "cell_type": "code",
   "execution_count": null,
   "id": "expired-hypothesis",
   "metadata": {},
   "outputs": [],
   "source": [
    "import pandas as pd\n",
    "import geopandas as gpd\n",
    "import subprocess\n",
    "import matplotlib.pyplot as plt\n",
    "import matplotlib.patches as mpatches\n",
    "import seaborn as sns\n",
    "import numpy as np\n",
    "from utils import (mkdir, submission_summary, needs_size_filter, size_filter, plot_map, plot_date_hist, \n",
    "                   find_duplicates, open_zip_shapefile, correct_geoms, fix_overaps)\n",
    "import os"
   ]
  },
  {
   "cell_type": "markdown",
   "id": "developmental-africa",
   "metadata": {},
   "source": [
    "## Files and storage paths"
   ]
  },
  {
   "cell_type": "code",
   "execution_count": null,
   "id": "portuguese-therapy",
   "metadata": {},
   "outputs": [],
   "source": [
    "# Region of interest\n",
    "reg = 8\n",
    "\n",
    "# go down from rgi7_scripts/workflow\n",
    "data_dir = '../../rgi7_data/'\n",
    "\n",
    "# Level 2 GLIMS files\n",
    "l2_dir = os.path.join(data_dir, 'l2_sel_reg_tars')\n",
    "\n",
    "# Output directories\n",
    "output_dir = mkdir(os.path.join(data_dir, 'l3_rgi7a'))\n",
    "output_dir_tar = mkdir(os.path.join(data_dir, 'l3_rgi7a_tar'))\n",
    "\n",
    "# RGI v6 file for comparison later \n",
    "rgi6_reg_file = os.path.join(data_dir, 'l0_RGIv6', '07_rgi60_Scandinavia.zip')"
   ]
  },
  {
   "cell_type": "markdown",
   "id": "hourly-turkish",
   "metadata": {},
   "source": [
    "### Load the input data"
   ]
  },
  {
   "cell_type": "code",
   "execution_count": null,
   "id": "french-birthday",
   "metadata": {},
   "outputs": [],
   "source": [
    "# Read L2 files\n",
    "shp = gpd.read_file('tar://' + l2_dir + f'/RGI{reg:02d}.tar.gz/RGI{reg:02d}/RGI{reg:02d}.shp')"
   ]
  },
  {
   "cell_type": "markdown",
   "id": "6d0e1ba0-5ca1-4242-93f6-2bea06e47518",
   "metadata": {},
   "source": [
    "### List of submissions "
   ]
  },
  {
   "cell_type": "code",
   "execution_count": null,
   "id": "3af43270-c393-4985-bf62-c2e4cbb416ec",
   "metadata": {},
   "outputs": [],
   "source": [
    "sdf, _ = submission_summary(shp)\n",
    "sdf"
   ]
  },
  {
   "cell_type": "markdown",
   "id": "36779043-2a39-4d9c-8153-63d421fe81bb",
   "metadata": {},
   "source": [
    "- 611 is RGI6 but for Norway only (many outlines stop at the border...)\n",
    "- 362 is RGI6 in Sweden (middle Lappland)\n",
    "- 363 is RGI6 in Sweden (northern Lappland)\n",
    "- 364 is RGI6 in Sweden (southern Lappland)\n",
    "- 365 is RGI6 in Sweden (Jämtland)\n",
    "- 733 to 742: new regions for parts of northern norway. We may decide to use 738 in replacement for 611 where possible\n",
    "- 758: merging of a few outlines at the border - it replaced the old submissions that were replaced\n",
    "- 812: rectification of RGI6 outlines in Sweden"
   ]
  },
  {
   "cell_type": "code",
   "execution_count": null,
   "id": "bd31bb4a-01b9-4f96-85b6-2a57af1d4d1c",
   "metadata": {},
   "outputs": [],
   "source": [
    "# # Optional: write out selection in intermediate shape files for manual GIS review\n",
    "# tmp_output_dir = mkdir(os.path.join(data_dir, 'l0_tmp_data', f'rgi{reg:02d}_inventories'))\n",
    "# tmp_output_dir_tar = mkdir(os.path.join(data_dir, 'l0_tmp_data'))\n",
    "# for subid in shp.subm_id.unique():\n",
    "#     s_loc = shp.loc[shp.subm_id == subid]\n",
    "#     s_loc.to_file(tmp_output_dir + f'/subm_{int(subid):03d}.shp')\n",
    "# print('Taring...')\n",
    "# print(subprocess.run(['tar', '-zcvf', f'{tmp_output_dir_tar}/rgi{reg:02d}_inventories.tar.gz', '-C', \n",
    "#                       os.path.join(data_dir, 'l0_tmp_data'), f'rgi{reg:02d}_inventories']))"
   ]
  },
  {
   "cell_type": "markdown",
   "id": "a0e08075-9ef3-4cda-9341-768d78a6d0d9",
   "metadata": {},
   "source": [
    "## Outline selection "
   ]
  },
  {
   "cell_type": "markdown",
   "id": "b9c5a458-2342-46a8-a938-8999e174c7f1",
   "metadata": {},
   "source": [
    "For now, we stick to reproducing RGI6 in Norway, and use the updated outlines for sweden"
   ]
  },
  {
   "cell_type": "code",
   "execution_count": null,
   "id": "turned-bathroom",
   "metadata": {},
   "outputs": [],
   "source": [
    "# OLD: pure RGI6\n",
    "# do that based on relevant submission IDs (611, 362, 363, 364, 365, 758)\n",
    "# rgi7 = (shp.loc[shp['subm_id'].isin([611, 362, 363, 364, 365, 758])]).copy()\n",
    "# rgi7['is_rgi6'] = True"
   ]
  },
  {
   "cell_type": "code",
   "execution_count": null,
   "id": "255c2cee-429b-433a-95a6-73d8fdaa3e8a",
   "metadata": {},
   "outputs": [],
   "source": [
    "# New\n",
    "rgi7 = (shp.loc[shp['subm_id'].isin([611, 812])]).copy()\n",
    "rgi7['is_rgi6'] = True\n",
    "rgi7.loc[rgi7['subm_id'] == 812, 'is_rgi6'] = False"
   ]
  },
  {
   "cell_type": "code",
   "execution_count": null,
   "id": "10143561-eafe-4b7b-8868-26c216a5cfe4",
   "metadata": {},
   "outputs": [],
   "source": [
    "# These IDs have been remapped in 812 but actually should not have\n",
    "dups = [1012468, 1012469, 1012477, 1012480, 1012481, 1012484, 1012562, 1012567, 1012573, 1012632, 1012674, 1012667, 1012656, 1012740]\n",
    "rgi7 = rgi7.loc[~ rgi7.anlys_id.isin(dups)].copy()"
   ]
  },
  {
   "cell_type": "code",
   "execution_count": null,
   "id": "ef995cf2-ab26-42c2-8ed4-c467e919fbbd",
   "metadata": {},
   "outputs": [],
   "source": [
    "# Size filter?\n",
    "print(len(rgi7))\n",
    "rgi7 = size_filter(rgi7)\n",
    "len(rgi7)"
   ]
  },
  {
   "cell_type": "markdown",
   "id": "e4095525-191e-4e6c-939f-4c30abf33ffe",
   "metadata": {},
   "source": [
    "### Uncomment below if you want to update with the new inventory"
   ]
  },
  {
   "cell_type": "markdown",
   "id": "7826092f-7644-44a2-b63d-fd3e256d623c",
   "metadata": {},
   "source": [
    "OK now take care of the new inventory. We need to make a geometry around it for selection: "
   ]
  },
  {
   "cell_type": "code",
   "execution_count": null,
   "id": "30e29d3d-d21b-482e-9b0d-47bbea9e1640",
   "metadata": {},
   "outputs": [],
   "source": [
    "# new = (shp.loc[shp['subm_id'].isin([738])]).copy()\n",
    "# new['is_rgi6'] = False\n",
    "\n",
    "# # Size filter?\n",
    "# print(len(new))\n",
    "# new = size_filter(new)\n",
    "# len(new)"
   ]
  },
  {
   "cell_type": "markdown",
   "id": "c15bf14a-ada7-4561-9de4-a77d19da98ab",
   "metadata": {},
   "source": [
    "Make a box aroun the region (I checked in GIS, it's ok to do so):"
   ]
  },
  {
   "cell_type": "code",
   "execution_count": null,
   "id": "94e66ed3-a304-433c-b3b0-6bd5cffb4e6a",
   "metadata": {},
   "outputs": [],
   "source": [
    "# import shapely.geometry as shpg\n",
    "# hull = gpd.GeoDataFrame({'geometry':[shpg.MultiPolygon(new.geometry.values).convex_hull]})\n",
    "# hull.crs = new.crs\n",
    "\n",
    "# f, ax = plt.subplots(figsize=(8, 12))\n",
    "# hull.plot(ax=ax, edgecolor='k');\n",
    "# new.plot(ax=ax, facecolor='C3', edgecolor='k');"
   ]
  },
  {
   "cell_type": "code",
   "execution_count": null,
   "id": "520a32b2-8bed-46a1-81aa-0a04f5b03ce1",
   "metadata": {},
   "outputs": [],
   "source": [
    "# # Remove all old rgi outlines\n",
    "# rp = rgi7.representative_point()\n",
    "# rp = rp.to_frame('geometry')\n",
    "# rp['orig_index'] = rgi7.index\n",
    "\n",
    "# # Find non overlying polygons\n",
    "# difference = gpd.overlay(rp, hull, how='difference')\n",
    "\n",
    "# # Create new rgi\n",
    "# rgi7 = rgi7.loc[difference['orig_index']].copy()\n",
    "# assert rgi7.anlys_id.isin([355145]).sum() == 0  # This is the only geometry down there which might have not fit in the polygon"
   ]
  },
  {
   "cell_type": "code",
   "execution_count": null,
   "id": "c7afa194-1ea3-4a0a-ab8e-b8b500d46298",
   "metadata": {},
   "outputs": [],
   "source": [
    "# # Merge\n",
    "# rgi7 = pd.concat([rgi7, new])"
   ]
  },
  {
   "cell_type": "markdown",
   "id": "88965ff2-c672-4f2f-9567-33105f24a5d4",
   "metadata": {},
   "source": [
    "### Some sanity checks "
   ]
  },
  {
   "cell_type": "code",
   "execution_count": null,
   "id": "ce6cb4e7-0d33-4d21-98b7-7161ff15cd85",
   "metadata": {},
   "outputs": [],
   "source": [
    "rgi7 = correct_geoms(rgi7)"
   ]
  },
  {
   "cell_type": "code",
   "execution_count": null,
   "id": "d470c80f-14a8-4d0b-9dbd-86eff1410e35",
   "metadata": {},
   "outputs": [],
   "source": [
    "dupes = find_duplicates(rgi7)"
   ]
  },
  {
   "cell_type": "code",
   "execution_count": null,
   "id": "b19fb7e5-7d36-4a69-9fbf-a84b0aa8a3ef",
   "metadata": {},
   "outputs": [],
   "source": [
    "rgi7 = fix_overaps(rgi7)"
   ]
  },
  {
   "cell_type": "code",
   "execution_count": null,
   "id": "372247a5-56d5-4d8f-9e1b-9094d1dec453",
   "metadata": {},
   "outputs": [],
   "source": [
    "needs_size_filter(rgi7)"
   ]
  },
  {
   "cell_type": "code",
   "execution_count": null,
   "id": "3111171f-c44b-45dd-85a6-17497ff9eced",
   "metadata": {},
   "outputs": [],
   "source": [
    "sdf, df_class = submission_summary(rgi7)\n",
    "df_class"
   ]
  },
  {
   "cell_type": "code",
   "execution_count": null,
   "id": "67029c0f-3e30-46d3-823c-c6e8a266734a",
   "metadata": {},
   "outputs": [],
   "source": [
    "# Check the orphaned rock outcrops\n",
    "orphan_f = os.path.join(data_dir, 'l1_orphan_interiors', f'RGI{reg:02d}', f'RGI{reg:02d}.shp')\n",
    "if os.path.exists(orphan_f):\n",
    "    orphan_f = gpd.read_file(orphan_f)\n",
    "    check = np.isin(rgi7.subm_id.unique(), orphan_f.subm_id.unique())\n",
    "    if np.any(check):\n",
    "        print(f'Orphan rock outcrops detected in subm_id {rgi7.subm_id.unique()[check]}')\n",
    "        orphan_f['area'] = orphan_f.to_crs({'proj':'cea'}).area"
   ]
  },
  {
   "cell_type": "markdown",
   "id": "dcf11ccb-4372-46bd-94cf-af7893870733",
   "metadata": {},
   "source": [
    "### Plots "
   ]
  },
  {
   "cell_type": "code",
   "execution_count": null,
   "id": "32a13b04-68d5-483b-9653-06a57eefe125",
   "metadata": {},
   "outputs": [],
   "source": [
    "plot_map(rgi7, reg, loc='upper left', linewidth=2)"
   ]
  },
  {
   "cell_type": "code",
   "execution_count": null,
   "id": "c4ed3cec-77f1-44ec-a2e7-ce96622dafa8",
   "metadata": {},
   "outputs": [],
   "source": [
    "plot_map(rgi7, reg, loc='upper left', linewidth=2, is_rgi6=True)"
   ]
  },
  {
   "cell_type": "code",
   "execution_count": null,
   "id": "d189711b-ea63-42d9-a2b5-999b5c8d99d6",
   "metadata": {},
   "outputs": [],
   "source": [
    "plot_date_hist(rgi7, reg)"
   ]
  },
  {
   "cell_type": "markdown",
   "id": "f8b9027f-8755-48ca-bf3d-8d7b020bd6f1",
   "metadata": {},
   "source": [
    "### Text for github"
   ]
  },
  {
   "cell_type": "code",
   "execution_count": null,
   "id": "a05eb9ba-496c-4bba-b8af-bf1029e2935f",
   "metadata": {},
   "outputs": [],
   "source": [
    "fgh = sdf.T\n",
    "fgh"
   ]
  },
  {
   "cell_type": "code",
   "execution_count": null,
   "id": "3e861ddc-9afb-4f15-8b82-527649761182",
   "metadata": {},
   "outputs": [],
   "source": [
    "print(fgh.to_markdown(headers=np.append(['subm_id'], fgh.columns)))"
   ]
  },
  {
   "cell_type": "markdown",
   "id": "2dc48a6b-abff-4226-8eed-a2b9bfd4dea2",
   "metadata": {},
   "source": [
    "## Write out and tar "
   ]
  },
  {
   "cell_type": "code",
   "execution_count": null,
   "id": "0477a8de-19d0-4107-8023-3892b441fa65",
   "metadata": {},
   "outputs": [],
   "source": [
    "dd = mkdir(f'{output_dir}/RGI{reg:02d}/', reset=True)\n",
    "\n",
    "print('Writing...')\n",
    "rgi7.to_file(dd + f'RGI{reg:02d}.shp')\n",
    "\n",
    "print('Taring...')\n",
    "print(subprocess.run(['tar', '-zcvf', f'{output_dir_tar}/RGI{reg:02d}.tar.gz', '-C', output_dir, f'RGI{reg:02d}']))"
   ]
  },
  {
   "cell_type": "markdown",
   "id": "15e8374c-92ee-443d-b25b-254c0a09bac5",
   "metadata": {},
   "source": [
    "## Consistency check with RGI6 "
   ]
  },
  {
   "cell_type": "code",
   "execution_count": null,
   "id": "c5c04113-0009-4793-9ef0-3a9b56c43de6",
   "metadata": {},
   "outputs": [],
   "source": [
    "# load reference data\n",
    "from utils import open_zip_shapefile\n",
    "rgi6 = open_zip_shapefile(rgi6_reg_file)"
   ]
  },
  {
   "cell_type": "code",
   "execution_count": null,
   "id": "de0f0840-dcc7-4699-9acb-bc639eb5beac",
   "metadata": {},
   "outputs": [],
   "source": [
    "len(rgi7), len(rgi6)"
   ]
  },
  {
   "cell_type": "code",
   "execution_count": null,
   "id": "0ec7c00f-bfcc-462b-94c2-9c279431db69",
   "metadata": {},
   "outputs": [],
   "source": [
    "# Select only the relevant parts for the rest of the tests:\n",
    "# rp = rgi7.representative_point()\n",
    "# rp = rp.to_frame('geometry')\n",
    "# rp['orig_index'] = rgi7.index\n",
    "# difference = gpd.overlay(rp, hull, how='difference')\n",
    "# rgi7 = rgi7.loc[difference['orig_index']].copy()\n",
    "\n",
    "# rp = rgi6.representative_point()\n",
    "# rp = rp.to_frame('geometry')\n",
    "# rp['orig_index'] = rgi6.index\n",
    "# difference = gpd.overlay(rp, hull, how='difference')\n",
    "# rgi6 = rgi6.loc[difference['orig_index']].copy()"
   ]
  },
  {
   "cell_type": "markdown",
   "id": "0e17fc29-3b5a-4510-a0d4-e3d70331acca",
   "metadata": {},
   "source": [
    "Test the areas:"
   ]
  },
  {
   "cell_type": "code",
   "execution_count": null,
   "id": "4f3a3a9d-effe-46bb-a9ab-5f12efad865e",
   "metadata": {},
   "outputs": [],
   "source": [
    "rgi6['area'] = rgi6.to_crs({'proj':'cea'}).area \n",
    "rgi7['area'] = rgi7.to_crs({'proj':'cea'}).area "
   ]
  },
  {
   "cell_type": "code",
   "execution_count": null,
   "id": "6b0abd93-e24c-4b0d-933d-b426abc40d89",
   "metadata": {},
   "outputs": [],
   "source": [
    "print('Area RGI7a (km2)', rgi7['area'].sum() * 1e-6)\n",
    "print('Area RGI6 (km2)', rgi6['Area'].sum())\n",
    "print('Area RGI6 computed by us (km2)', rgi6['area'].sum() * 1e-6)\n",
    "print('diff areas RGI6 - RGI7 computed by us (km2)', (rgi6['area'].sum() - rgi7['area'].sum()) * 1e-6)"
   ]
  },
  {
   "cell_type": "code",
   "execution_count": null,
   "id": "e7ce9b7a-5afa-4cf8-ac0e-b124da160a0d",
   "metadata": {},
   "outputs": [],
   "source": []
  }
 ],
 "metadata": {
  "kernelspec": {
   "display_name": "Python 3 (ipykernel)",
   "language": "python",
   "name": "python3"
  },
  "language_info": {
   "codemirror_mode": {
    "name": "ipython",
    "version": 3
   },
   "file_extension": ".py",
   "mimetype": "text/x-python",
   "name": "python",
   "nbconvert_exporter": "python",
   "pygments_lexer": "ipython3",
   "version": "3.10.8"
  }
 },
 "nbformat": 4,
 "nbformat_minor": 5
}
