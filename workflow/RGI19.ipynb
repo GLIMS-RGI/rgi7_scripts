{
 "cells": [
  {
   "cell_type": "markdown",
   "id": "stock-sunglasses",
   "metadata": {},
   "source": [
    "# RGI-07: Region 19 (Antarctic and Subantarctic)\n",
    "##### F. Maussion & S. Galos, August 2021\n",
    "\n",
    "Same as RGI6"
   ]
  },
  {
   "cell_type": "code",
   "execution_count": 1,
   "id": "burning-flood",
   "metadata": {},
   "outputs": [],
   "source": [
    "import geopandas as gpd\n",
    "import pandas as pd\n",
    "import matplotlib.pyplot as plt\n",
    "import subprocess\n",
    "import os\n",
    "from utils import mkdir"
   ]
  },
  {
   "cell_type": "markdown",
   "id": "micro-formation",
   "metadata": {},
   "source": [
    "## Files and storage paths"
   ]
  },
  {
   "cell_type": "code",
   "execution_count": 3,
   "id": "creative-european",
   "metadata": {},
   "outputs": [],
   "source": [
    "# Region of interest\n",
    "reg = 19\n",
    "\n",
    "# go down from rgi7_scripts/workflow\n",
    "data_dir = '../../rgi7_data/'\n",
    "\n",
    "# Level 2 GLIMS files\n",
    "l2_dir = os.path.join(data_dir, 'l2_sel_reg_tars')\n",
    "\n",
    "# Output directories\n",
    "output_dir = mkdir(os.path.join(data_dir, 'l3_rgi7a'))\n",
    "output_dir_tar = mkdir(os.path.join(data_dir, 'l3_rgi7a_tar'))\n",
    "\n",
    "# RGI v6 file for comparison later \n",
    "rgi6_reg_file = os.path.join(data_dir, 'l0_RGIv6', '19_rgi60_AntarcticSubantarctic.zip')"
   ]
  },
  {
   "cell_type": "markdown",
   "id": "perceived-overhead",
   "metadata": {},
   "source": [
    "### Load the input data"
   ]
  },
  {
   "cell_type": "code",
   "execution_count": 4,
   "id": "stunning-distinction",
   "metadata": {},
   "outputs": [],
   "source": [
    "# Read L2 files\n",
    "shp = gpd.read_file('tar://' + l2_dir + f'/RGI{reg:02d}.tar.gz/RGI{reg:02d}/RGI{reg:02d}.shp')"
   ]
  },
  {
   "cell_type": "markdown",
   "id": "spread-words",
   "metadata": {},
   "source": [
    "## Apply selection criteria to create the RGI7 data subset"
   ]
  },
  {
   "cell_type": "markdown",
   "id": "orange-january",
   "metadata": {},
   "source": [
    "### Step 1: extract RGI6 from GLIMS data and do a check"
   ]
  },
  {
   "cell_type": "code",
   "execution_count": 5,
   "id": "collective-timothy",
   "metadata": {},
   "outputs": [],
   "source": [
    "#...extract RGI06 from GLIMS based on 'geog_area'\n",
    "RGI_ss = shp.loc[shp['geog_area']=='Randolph Glacier Inventory; Umbrella RC for merging the RGI into GLIMS']"
   ]
  },
  {
   "cell_type": "markdown",
   "id": "industrial-panic",
   "metadata": {},
   "source": [
    "#### load reference data (here RGI6 original) to enable comparison"
   ]
  },
  {
   "cell_type": "code",
   "execution_count": 6,
   "id": "varying-column",
   "metadata": {},
   "outputs": [],
   "source": [
    "# Just to know the name of the file to open from zip\n",
    "import zipfile\n",
    "with zipfile.ZipFile(rgi6_reg_file, \"r\") as z:\n",
    "    for f in z.filelist:\n",
    "        if '.shp' in f.filename:\n",
    "            fname = f.filename\n",
    "\n",
    "# load reference data\n",
    "ref_odf = gpd.read_file('zip://' + rgi6_reg_file + '/' + fname)"
   ]
  },
  {
   "cell_type": "markdown",
   "id": "similar-bread",
   "metadata": {},
   "source": [
    "#### Number of elements (differences do not necessarily depict major problems)"
   ]
  },
  {
   "cell_type": "code",
   "execution_count": 7,
   "id": "grand-imaging",
   "metadata": {},
   "outputs": [
    {
     "name": "stdout",
     "output_type": "stream",
     "text": [
      "Number of glaciers in new RGI subset: 2752\n",
      "Number of glaciers in reference data: 2752\n",
      "Difference: 0\n"
     ]
    }
   ],
   "source": [
    "print('Number of glaciers in new RGI subset:', len(RGI_ss))\n",
    "print('Number of glaciers in reference data:', len(ref_odf))\n",
    "print('Difference:', len(RGI_ss)-len(ref_odf))"
   ]
  },
  {
   "cell_type": "markdown",
   "id": "iraqi-leisure",
   "metadata": {},
   "source": [
    "#### check for dublicate glacier IDs"
   ]
  },
  {
   "cell_type": "code",
   "execution_count": 8,
   "id": "restricted-school",
   "metadata": {},
   "outputs": [
    {
     "name": "stdout",
     "output_type": "stream",
     "text": [
      "number of glaciers without unique id in RGI06: 0\n"
     ]
    }
   ],
   "source": [
    "print ('number of glaciers without unique id in RGI06:', len(ref_odf)-len(ref_odf['GLIMSId'].unique()))"
   ]
  },
  {
   "cell_type": "code",
   "execution_count": 9,
   "id": "aerial-governor",
   "metadata": {},
   "outputs": [
    {
     "name": "stdout",
     "output_type": "stream",
     "text": [
      "number of glaciers without unique id in RGI06 from GLIMS data base: 0\n"
     ]
    }
   ],
   "source": [
    "print ('number of glaciers without unique id in RGI06 from GLIMS data base:', len(RGI_ss)-len(RGI_ss['glac_id'].unique()))"
   ]
  },
  {
   "cell_type": "markdown",
   "id": "headed-template",
   "metadata": {},
   "source": [
    "#### Check for 'nominal glaciers' in the RGI6 original data and delete them from new RGI subset from GLIMS if they are in there "
   ]
  },
  {
   "cell_type": "code",
   "execution_count": 10,
   "id": "parallel-correction",
   "metadata": {},
   "outputs": [
    {
     "data": {
      "text/plain": [
       "0"
      ]
     },
     "execution_count": 10,
     "metadata": {},
     "output_type": "execute_result"
    }
   ],
   "source": [
    "# how many nominals in RGI06 (identifiable via 'Status' attribute in RGI 06)\n",
    "nom = ref_odf.loc[ref_odf.Status == 2]\n",
    "len(nom)"
   ]
  },
  {
   "cell_type": "code",
   "execution_count": 11,
   "id": "raising-pizza",
   "metadata": {},
   "outputs": [],
   "source": [
    "# drop nominal glaciers from new RGI subset\n",
    "RGI_ss = (RGI_ss.loc[~RGI_ss['glac_id'].isin(nom['GLIMSId'])])"
   ]
  },
  {
   "cell_type": "markdown",
   "id": "dress-independence",
   "metadata": {},
   "source": [
    "#### Total area"
   ]
  },
  {
   "cell_type": "code",
   "execution_count": 12,
   "id": "opposed-bolivia",
   "metadata": {},
   "outputs": [],
   "source": [
    "# add an area field to RGI_ss and reference data\n",
    "RGI_ss['area'] = RGI_ss.to_crs({'proj':'cea'}).area\n",
    "ref_odf['area'] = ref_odf.to_crs({'proj':'cea'}).area\n",
    "nom['area'] = nom.to_crs({'proj':'cea'}).area"
   ]
  },
  {
   "cell_type": "code",
   "execution_count": 13,
   "id": "visible-psychology",
   "metadata": {},
   "outputs": [
    {
     "name": "stdout",
     "output_type": "stream",
     "text": [
      "Area Rep [km²]: 132870.1004613989\n",
      "Area RGI6 [km²]: 132867.1533679446\n",
      "Area Nom [km²]: 0.0\n",
      "Area difference [km²]: 2.947093454306014 / percentage: 0.002218026060093329\n"
     ]
    }
   ],
   "source": [
    "# print and compare area values\n",
    "Area_Rep = RGI_ss['area'].sum()/1000000\n",
    "print('Area Rep [km²]:', Area_Rep)\n",
    "Area_RGI6 = ref_odf['area'].sum()/1000000\n",
    "print('Area RGI6 [km²]:', Area_RGI6)\n",
    "Area_nom = nom['area'].sum()/1000000\n",
    "print('Area Nom [km²]:', Area_nom)\n",
    "d = (Area_Rep + Area_nom - Area_RGI6)\n",
    "d_perc = (d/Area_Rep*100)\n",
    "print('Area difference [km²]:',d,'/','percentage:', d_perc)"
   ]
  },
  {
   "cell_type": "markdown",
   "id": "velvet-inspector",
   "metadata": {},
   "source": [
    "### result of check (RGI from Glims global data base vs. RGI06 original):\n",
    "#### same number of glaciers\n",
    "#### 0 dublicate IDs\n",
    "#### 0 nominal glaciers\n",
    "#### nevertheless 3 km² area difference... which mainly originate from \"small\" outline differences between RGI06 original and the outlines of RGI06 extracted from the Glims data base. Main sources may be glaciers G302202E64176S and G290313E70685S (and possibly others)."
   ]
  },
  {
   "cell_type": "markdown",
   "id": "finished-lesson",
   "metadata": {},
   "source": [
    "## remaining tasks for RGI-7a:\n",
    "#### - do detailed check of  issues mentioned above\n",
    "#### - create data set of glaciers with edits in RGI-6 to be ingested in GLIMS\n",
    "#### - since it was decided that data by Huber et al. wont be ingested, only add Moelg and Paul data as soon as in GLIMS"
   ]
  },
  {
   "cell_type": "markdown",
   "id": "killing-retention",
   "metadata": {},
   "source": [
    "## Write out and tar "
   ]
  },
  {
   "cell_type": "code",
   "execution_count": 14,
   "id": "experimental-ordinance",
   "metadata": {},
   "outputs": [
    {
     "name": "stdout",
     "output_type": "stream",
     "text": [
      "Writing...\n",
      "Taring...\n",
      "CompletedProcess(args=['tar', '-zcvf', '../../rgi7_data/l3_rgi7a_tar/RGI19.tar.gz', '-C', '../../rgi7_data/l3_rgi7a', 'RGI19'], returncode=0)\n"
     ]
    }
   ],
   "source": [
    "dd = mkdir(f'{output_dir}/RGI{reg:02d}/', reset=True)\n",
    "\n",
    "print('Writing...')\n",
    "RGI_ss.to_file(dd + f'RGI{reg:02d}.shp')\n",
    "\n",
    "print('Taring...')\n",
    "print(subprocess.run(['tar', '-zcvf', f'{output_dir_tar}/RGI{reg:02d}.tar.gz', '-C', output_dir, f'RGI{reg:02d}']))## Write out and tar "
   ]
  },
  {
   "cell_type": "markdown",
   "id": "gorgeous-pizza",
   "metadata": {},
   "source": [
    "## Find missing glaciers "
   ]
  },
  {
   "cell_type": "code",
   "execution_count": 15,
   "id": "forbidden-purple",
   "metadata": {},
   "outputs": [],
   "source": [
    "from utils import haversine\n",
    "import numpy as np\n",
    "import progressbar"
   ]
  },
  {
   "cell_type": "code",
   "execution_count": 16,
   "id": "cathedral-stable",
   "metadata": {},
   "outputs": [],
   "source": [
    "def xy_coord(geom):\n",
    "    \"\"\"To compute CenLon CenLat ourselves\"\"\"\n",
    "    x, y = geom.xy\n",
    "    return x[0], y[0]"
   ]
  },
  {
   "cell_type": "code",
   "execution_count": 17,
   "id": "fabulous-plastic",
   "metadata": {},
   "outputs": [],
   "source": [
    "df_ref = ref_odf.copy()\n",
    "rgi7 = RGI_ss.copy()"
   ]
  },
  {
   "cell_type": "code",
   "execution_count": 18,
   "id": "informative-ethiopia",
   "metadata": {},
   "outputs": [],
   "source": [
    "# Remove nominal\n",
    "df_ref = df_ref.loc[df_ref.Status != 2].copy()"
   ]
  },
  {
   "cell_type": "code",
   "execution_count": 19,
   "id": "psychological-austria",
   "metadata": {},
   "outputs": [],
   "source": [
    "# compute CenLon CenLat ourselves\n",
    "rp = df_ref.representative_point()\n",
    "\n",
    "coordinates = np.array(list(rp.apply(xy_coord)))\n",
    "df_ref['CenLon'] = coordinates[:, 0]\n",
    "df_ref['CenLat'] = coordinates[:, 1]"
   ]
  },
  {
   "cell_type": "code",
   "execution_count": 20,
   "id": "plastic-apartment",
   "metadata": {},
   "outputs": [],
   "source": [
    "df_ref_orig = df_ref.copy()"
   ]
  },
  {
   "cell_type": "code",
   "execution_count": 21,
   "id": "intensive-cartoon",
   "metadata": {},
   "outputs": [
    {
     "name": "stderr",
     "output_type": "stream",
     "text": [
      "100% (2752 of 2752) |####################| Elapsed Time: 0:00:00 Time:  0:00:00\n"
     ]
    }
   ],
   "source": [
    "# Loop over all RGI7 glaciers and find their equivalent in ref\n",
    "df_ref = df_ref_orig.copy()\n",
    "not_found = {}\n",
    "to_drop = []\n",
    "for i, (ref_area, lon, lat) in progressbar.progressbar(enumerate(zip(rgi7['area'].values, rgi7.CenLon.values, rgi7.CenLat.values)), max_value=len(rgi7)):\n",
    "#     dist = haversine(lon, lat, df_ref.CenLon.values, df_ref.CenLat.values)\n",
    "    dist = (lon - df_ref.CenLon.values)**2 + (lat - df_ref.CenLat.values)**2 \n",
    "    found = False\n",
    "    for j in np.argsort(dist)[:10]:\n",
    "        s6 = df_ref.iloc[j]\n",
    "        if np.allclose(s6['area'], ref_area, rtol=0.001):\n",
    "            found = True\n",
    "            to_drop.append(s6.name)\n",
    "            break\n",
    "    if not found:\n",
    "        not_found[i] = df_ref.iloc[np.argsort(dist)[:10]]\n",
    "    if len(to_drop) > 1000:\n",
    "        df_ref.drop(labels=to_drop, inplace=True)\n",
    "        to_drop = []\n",
    "df_ref.drop(labels=to_drop, inplace=True)"
   ]
  },
  {
   "cell_type": "code",
   "execution_count": 22,
   "id": "nonprofit-renaissance",
   "metadata": {},
   "outputs": [
    {
     "name": "stdout",
     "output_type": "stream",
     "text": [
      "6 6\n"
     ]
    }
   ],
   "source": [
    "print(len(not_found), len(df_ref))"
   ]
  },
  {
   "cell_type": "code",
   "execution_count": 23,
   "id": "powered-joshua",
   "metadata": {},
   "outputs": [],
   "source": [
    "pb_rgi7 = rgi7.iloc[list(not_found.keys())]"
   ]
  },
  {
   "cell_type": "code",
   "execution_count": 24,
   "id": "offensive-skiing",
   "metadata": {},
   "outputs": [
    {
     "data": {
      "image/png": "[encoded data removed]",
      "text/plain": [
       "<Figure size 432x288 with 1 Axes>"
      ]
     },
     "metadata": {
      "needs_background": "light"
     },
     "output_type": "display_data"
    }
   ],
   "source": [
    "pb_rgi7.plot(edgecolor='k');\n",
    "plt.title('GLIMS');"
   ]
  },
  {
   "cell_type": "code",
   "execution_count": 25,
   "id": "greater-moldova",
   "metadata": {},
   "outputs": [
    {
     "data": {
      "image/png": "[encoded data removed]",
      "text/plain": [
       "<Figure size 432x288 with 1 Axes>"
      ]
     },
     "metadata": {
      "needs_background": "light"
     },
     "output_type": "display_data"
    }
   ],
   "source": [
    "df_ref.plot(edgecolor='k');\n",
    "plt.title('RGI6');"
   ]
  },
  {
   "cell_type": "code",
   "execution_count": 26,
   "id": "abstract-copyright",
   "metadata": {},
   "outputs": [],
   "source": [
    "# Output directories\n",
    "output_dir = mkdir(os.path.join(data_dir, 'l3_problem_glaciers'))\n",
    "output_dir_tar = mkdir(os.path.join(data_dir, 'l3_problem_glaciers_tar'))"
   ]
  },
  {
   "cell_type": "code",
   "execution_count": 27,
   "id": "mediterranean-bacteria",
   "metadata": {},
   "outputs": [
    {
     "name": "stdout",
     "output_type": "stream",
     "text": [
      "Writing...\n",
      "Taring...\n",
      "CompletedProcess(args=['tar', '-zcvf', '../../rgi7_data/l3_problem_glaciers_tar/RGI19.tar.gz', '-C', '../../rgi7_data/l3_problem_glaciers', 'RGI19'], returncode=0)\n"
     ]
    }
   ],
   "source": [
    "dd = mkdir(f'{output_dir}/RGI{reg:02d}/', reset=True)\n",
    "\n",
    "print('Writing...')\n",
    "pb_rgi7.to_file(dd + f'RGI{reg:02d}_glims.shp')\n",
    "df_ref.to_file(dd + f'RGI{reg:02d}_ref.shp')\n",
    "\n",
    "print('Taring...')\n",
    "print(subprocess.run(['tar', '-zcvf', f'{output_dir_tar}/RGI{reg:02d}.tar.gz', '-C', output_dir, f'RGI{reg:02d}']))"
   ]
  },
  {
   "cell_type": "code",
   "execution_count": null,
   "id": "liable-disorder",
   "metadata": {},
   "outputs": [],
   "source": []
  }
 ],
 "metadata": {
  "kernelspec": {
   "display_name": "Python 3",
   "language": "python",
   "name": "python3"
  },
  "language_info": {
   "codemirror_mode": {
    "name": "ipython",
    "version": 3
   },
   "file_extension": ".py",
   "mimetype": "text/x-python",
   "name": "python",
   "nbconvert_exporter": "python",
   "pygments_lexer": "ipython3",
   "version": "3.8.8"
  }
 },
 "nbformat": 4,
 "nbformat_minor": 5
}
