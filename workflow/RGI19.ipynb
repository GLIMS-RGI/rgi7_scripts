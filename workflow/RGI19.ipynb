{
 "cells": [
  {
   "cell_type": "markdown",
   "id": "stock-sunglasses",
   "metadata": {
    "tags": []
   },
   "source": [
    "# RGI19 (Antarctic and Subantarctic)\n",
    "\n",
    "F. Maussion & S. Galos\n",
    "\n",
    "Several changes to RGI6"
   ]
  },
  {
   "cell_type": "code",
   "execution_count": null,
   "id": "burning-flood",
   "metadata": {},
   "outputs": [],
   "source": [
    "import pandas as pd\n",
    "import geopandas as gpd\n",
    "import subprocess\n",
    "import matplotlib.pyplot as plt\n",
    "import matplotlib.patches as mpatches\n",
    "import seaborn as sns\n",
    "import numpy as np\n",
    "from utils import mkdir, submission_summary, needs_size_filter, size_filter, plot_map, plot_date_hist, open_zip_shapefile, find_duplicates, find_neighbors, correct_geoms\n",
    "import os"
   ]
  },
  {
   "cell_type": "markdown",
   "id": "micro-formation",
   "metadata": {},
   "source": [
    "## Files and storage paths"
   ]
  },
  {
   "cell_type": "code",
   "execution_count": null,
   "id": "creative-european",
   "metadata": {},
   "outputs": [],
   "source": [
    "# Region of interest\n",
    "reg = 19\n",
    "\n",
    "# go down from rgi7_scripts/workflow\n",
    "data_dir = '../../rgi7_data/'\n",
    "\n",
    "# Level 2 GLIMS files\n",
    "l2_dir = os.path.join(data_dir, 'l2_sel_reg_tars')\n",
    "\n",
    "# Output directories\n",
    "output_dir = mkdir(os.path.join(data_dir, 'l3_rgi7a'))\n",
    "output_dir_tar = mkdir(os.path.join(data_dir, 'l3_rgi7a_tar'))\n",
    "\n",
    "# RGI v6 file for comparison later \n",
    "rgi6_reg_file = os.path.join(data_dir, 'l0_RGIv6', '19_rgi60_AntarcticSubantarctic.zip')"
   ]
  },
  {
   "cell_type": "markdown",
   "id": "perceived-overhead",
   "metadata": {},
   "source": [
    "### Load the input data"
   ]
  },
  {
   "cell_type": "code",
   "execution_count": null,
   "id": "stunning-distinction",
   "metadata": {},
   "outputs": [],
   "source": [
    "# Read L2 files\n",
    "shp = gpd.read_file('tar://' + l2_dir + f'/RGI{reg:02d}.tar.gz/RGI{reg:02d}/RGI{reg:02d}.shp')"
   ]
  },
  {
   "cell_type": "markdown",
   "id": "4c027a03-e118-4923-8055-21beea76fb33",
   "metadata": {},
   "source": [
    "### List of submissions "
   ]
  },
  {
   "cell_type": "code",
   "execution_count": null,
   "id": "d395c4fb-3b34-47b9-b1ec-06f27799ab3a",
   "metadata": {},
   "outputs": [],
   "source": [
    "sdf, _ = submission_summary(shp)\n",
    "sdf"
   ]
  },
  {
   "cell_type": "markdown",
   "id": "4ef84172-398b-4ba0-8a34-f1ea7f5cc1be",
   "metadata": {
    "tags": []
   },
   "source": [
    "- 585 is the RGI6\n",
    "- 700 is a better quality inventory for the South Sandwich Islands in 19-03\n",
    "- 769 is a better quality Kerguelen inventory\n",
    "- 798 is a better inventory for subregions 19-12 and 19-13 (we remove 19-12 which has been mapped by 798)\n",
    "- 805 is a better inventory for subregions 19-14 and 19-24\n",
    "- 806 is a better inventory for subregions 19-11 and 19-12\n",
    "- 807 is a better inventory for subregions 19-01, 19-05, 19-17, and parts of 19-02 (South Orkney Islands)\n",
    "- 808 is a better quality inventory for the Bouvet Island in 19-03\n",
    "- 811 is a better inventory for subregions 19-15 and 19-16"
   ]
  },
  {
   "cell_type": "code",
   "execution_count": null,
   "id": "fb0066d4-b969-4640-82e6-02ea15f91c64",
   "metadata": {},
   "outputs": [],
   "source": [
    "# # Optional: write out selection in intermediate shape files for manual GIS review\n",
    "# tmp_output_dir = mkdir(os.path.join(data_dir, 'l0_tmp_data', f'rgi{reg:02d}_inventories'))\n",
    "# tmp_output_dir_tar = mkdir(os.path.join(data_dir, 'l0_tmp_data'))\n",
    "# for subid in shp.subm_id.unique():\n",
    "#     s_loc = shp.loc[shp.subm_id == subid]\n",
    "#     s_loc.to_file(tmp_output_dir + f'/subm_{int(subid):03d}.shp')\n",
    "# print('Taring...')\n",
    "# print(subprocess.run(['tar', '-zcvf', f'{tmp_output_dir_tar}/rgi{reg:02d}_inventories.tar.gz', '-C', \n",
    "#                       os.path.join(data_dir, 'l0_tmp_data'), f'rgi{reg:02d}_inventories']))"
   ]
  },
  {
   "cell_type": "markdown",
   "id": "f64055a9-c048-4e3f-8f7a-252a3bef9000",
   "metadata": {},
   "source": [
    "## Outline selection "
   ]
  },
  {
   "cell_type": "code",
   "execution_count": null,
   "id": "collective-timothy",
   "metadata": {},
   "outputs": [],
   "source": [
    "s_585 = shp.loc[shp['subm_id']==585].copy()\n",
    "s_585['is_rgi6'] = True"
   ]
  },
  {
   "cell_type": "code",
   "execution_count": null,
   "id": "539db743-71c4-4a60-ab5a-1c99e2716f35",
   "metadata": {},
   "outputs": [],
   "source": [
    "s_700 = shp.loc[shp['subm_id']==700].copy()\n",
    "s_700['is_rgi6'] = False"
   ]
  },
  {
   "cell_type": "code",
   "execution_count": null,
   "id": "c001f804-7ab3-4a88-ad8a-5ee51a563674",
   "metadata": {},
   "outputs": [],
   "source": [
    "s_769 = shp.loc[shp['subm_id']==769].copy()\n",
    "s_769['is_rgi6'] = False"
   ]
  },
  {
   "cell_type": "code",
   "execution_count": null,
   "id": "ae615f6c-a5d5-46c5-90df-1745a55553e7",
   "metadata": {},
   "outputs": [],
   "source": [
    "s_798 = shp.loc[shp['subm_id']==798].copy()\n",
    "s_798['is_rgi6'] = False"
   ]
  },
  {
   "cell_type": "code",
   "execution_count": null,
   "id": "89714f35-4f3b-4f16-9d04-551334cb6e8b",
   "metadata": {},
   "outputs": [],
   "source": [
    "s_805 = shp.loc[shp['subm_id']==805].copy()\n",
    "s_805['is_rgi6'] = False"
   ]
  },
  {
   "cell_type": "code",
   "execution_count": null,
   "id": "a85fe231-8eb3-469c-a2c5-cb9082838a58",
   "metadata": {},
   "outputs": [],
   "source": [
    "s_806 = shp.loc[shp['subm_id']==806].copy()\n",
    "s_806['is_rgi6'] = False"
   ]
  },
  {
   "cell_type": "code",
   "execution_count": null,
   "id": "7ba1a264-e454-4a9d-9c74-72cceb25f1f2",
   "metadata": {},
   "outputs": [],
   "source": [
    "s_807 = shp.loc[shp['subm_id']==807].copy()\n",
    "s_807['is_rgi6'] = False"
   ]
  },
  {
   "cell_type": "code",
   "execution_count": null,
   "id": "208d98f3-2b76-4853-8a78-8986b1352f63",
   "metadata": {},
   "outputs": [],
   "source": [
    "s_808 = shp.loc[shp['subm_id']==808].copy()\n",
    "s_808['is_rgi6'] = False"
   ]
  },
  {
   "cell_type": "code",
   "execution_count": null,
   "id": "de2f3c9f-5acd-4e8b-83e2-4f2615529d36",
   "metadata": {},
   "outputs": [],
   "source": [
    "s_811 = shp.loc[shp['subm_id']==811].copy()\n",
    "s_811['is_rgi6'] = False"
   ]
  },
  {
   "cell_type": "markdown",
   "id": "0d815152-3916-4e57-99eb-8b6b12d5c35a",
   "metadata": {},
   "source": [
    "### Kerguelen "
   ]
  },
  {
   "cell_type": "code",
   "execution_count": null,
   "id": "877c2332-a2c0-4aef-b2e1-3cfd4b195f40",
   "metadata": {},
   "outputs": [],
   "source": [
    "# Read box containing glaciers with subm_id = 769\n",
    "box = open_zip_shapefile(data_dir + f'/l0_support_data/kerguelen.zip')"
   ]
  },
  {
   "cell_type": "code",
   "execution_count": null,
   "id": "4c6ee848-8864-488f-8c0d-ddc47fc4382a",
   "metadata": {},
   "outputs": [],
   "source": [
    "# Plot correct glaciers and shapefile\n",
    "base = box.plot(color='none', edgecolor='black')\n",
    "s_769.geometry.plot(ax=base, color='C0', markersize=5);"
   ]
  },
  {
   "cell_type": "markdown",
   "id": "2728ea38-7021-4d76-bc50-eabcf6e89ca8",
   "metadata": {},
   "source": [
    "Now we remove the glaciers inside from the other one:"
   ]
  },
  {
   "cell_type": "code",
   "execution_count": null,
   "id": "8bb61947-d1e9-4154-bdd7-0eed96dc07ec",
   "metadata": {},
   "outputs": [],
   "source": [
    "# Save glacier centroid in rp:\n",
    "rp = s_585.representative_point()\n",
    "\n",
    "rp = rp.to_frame('geometry')\n",
    "rp['orig_index'] = s_585.index\n",
    "\n",
    "# Find non overlying polygons\n",
    "difference = gpd.overlay(rp, box, how='difference')\n",
    "\n",
    "# Create temporary variable\n",
    "s_585_sel = s_585.loc[difference['orig_index']]\n",
    "\n",
    "len(s_585) - len(s_585_sel), len(s_769)"
   ]
  },
  {
   "cell_type": "code",
   "execution_count": null,
   "id": "610172ab-2179-43c9-a07f-bc2990c3b202",
   "metadata": {},
   "outputs": [],
   "source": [
    "s_585 = s_585_sel"
   ]
  },
  {
   "cell_type": "markdown",
   "id": "b81fc09f-4a04-4f12-bd4a-a40baf9d0d33",
   "metadata": {},
   "source": [
    "### South Orkney "
   ]
  },
  {
   "cell_type": "code",
   "execution_count": null,
   "id": "b0c089ea-0882-43af-b89b-81bfe98eb31f",
   "metadata": {},
   "outputs": [],
   "source": [
    "# Read box\n",
    "box = open_zip_shapefile(data_dir + f'/l0_support_data/south-orkney.zip')"
   ]
  },
  {
   "cell_type": "code",
   "execution_count": null,
   "id": "2f12dc5a-a56d-4237-bd94-6e8ebfdf1152",
   "metadata": {},
   "outputs": [],
   "source": [
    "# Plot correct glaciers and shapefile\n",
    "base = box.plot(color='none', edgecolor='black')\n",
    "s_807.geometry.plot(ax=base, color='C0', markersize=5);"
   ]
  },
  {
   "cell_type": "markdown",
   "id": "dad7ba44-69a4-41d2-b9d8-cbc301baab28",
   "metadata": {},
   "source": [
    "Now we remove the glaciers inside from the other one:"
   ]
  },
  {
   "cell_type": "code",
   "execution_count": null,
   "id": "48b8da54-0aaa-4dad-8c7d-d24594adf6f4",
   "metadata": {},
   "outputs": [],
   "source": [
    "# Save glacier centroid in rp:\n",
    "rp = s_585.representative_point()\n",
    "\n",
    "rp = rp.to_frame('geometry')\n",
    "rp['orig_index'] = s_585.index\n",
    "\n",
    "# Find non overlying polygons\n",
    "difference = gpd.overlay(rp, box, how='difference')\n",
    "\n",
    "# Create temporary variable\n",
    "s_585_sel = s_585.loc[difference['orig_index']]\n",
    "\n",
    "len(s_585) - len(s_585_sel)"
   ]
  },
  {
   "cell_type": "code",
   "execution_count": null,
   "id": "70be4a61-1e43-4283-97a6-c8e076effd0c",
   "metadata": {},
   "outputs": [],
   "source": [
    "s_585 = s_585_sel"
   ]
  },
  {
   "cell_type": "markdown",
   "id": "281b72ac-c1bf-40d0-9278-41c461ebe1aa",
   "metadata": {},
   "source": [
    "### South Sandwich "
   ]
  },
  {
   "cell_type": "code",
   "execution_count": null,
   "id": "816085ed-926c-4432-9e48-2a6c12432a51",
   "metadata": {},
   "outputs": [],
   "source": [
    "# Read box containing glaciers with subm_id = 769\n",
    "box = open_zip_shapefile(data_dir + f'/l0_support_data/Sandwich-Islands.zip')"
   ]
  },
  {
   "cell_type": "code",
   "execution_count": null,
   "id": "c31e1268-88fe-491d-80f3-8ead1c0dce53",
   "metadata": {},
   "outputs": [],
   "source": [
    "# Plot correct glaciers and shapefile\n",
    "base = box.plot(color='none', edgecolor='black')\n",
    "s_700.geometry.plot(ax=base, color='C0', markersize=5);"
   ]
  },
  {
   "cell_type": "markdown",
   "id": "9df7e589-3115-4b92-9ce6-6077e425681d",
   "metadata": {},
   "source": [
    "Now we keep the glaciers inside the box and remove the ones from RGI6:"
   ]
  },
  {
   "cell_type": "code",
   "execution_count": null,
   "id": "07e8a46d-3718-42a9-80fe-e04dcff6f39d",
   "metadata": {},
   "outputs": [],
   "source": [
    "# Save glacier centroid in rp:\n",
    "rp = s_700.representative_point()\n",
    "\n",
    "rp = rp.to_frame('geometry')\n",
    "rp['orig_index'] = s_700.index\n",
    "\n",
    "# Find overlying polygons\n",
    "intersection = gpd.overlay(rp, box, how='intersection')\n",
    "\n",
    "# Create temporary variable\n",
    "s_700_sel = s_700.loc[intersection['orig_index']]\n",
    "\n",
    "len(s_700_sel) - len(s_700), len(s_700_sel)"
   ]
  },
  {
   "cell_type": "code",
   "execution_count": null,
   "id": "0e70d054-e7d8-4d4f-a834-4a8c0cca33b5",
   "metadata": {},
   "outputs": [],
   "source": [
    "# Save glacier centroid in rp:\n",
    "rp = s_585.representative_point()\n",
    "\n",
    "rp = rp.to_frame('geometry')\n",
    "rp['orig_index'] = s_585.index\n",
    "\n",
    "# Find non overlying polygons\n",
    "difference = gpd.overlay(rp, box, how='difference')\n",
    "\n",
    "# Create temporary variable\n",
    "s_585_sel = s_585.loc[difference['orig_index']]\n",
    "\n",
    "len(s_585) - len(s_585_sel), len(s_700_sel)"
   ]
  },
  {
   "cell_type": "code",
   "execution_count": null,
   "id": "2a20523c-a0d2-4733-81bd-b0ef03c5d534",
   "metadata": {},
   "outputs": [],
   "source": [
    "s_585 = s_585_sel\n",
    "s_700 = s_700_sel"
   ]
  },
  {
   "cell_type": "markdown",
   "id": "4b75d762-ac8e-4b56-a0a3-3458d69f6dd6",
   "metadata": {},
   "source": [
    "### Bouvet"
   ]
  },
  {
   "cell_type": "code",
   "execution_count": null,
   "id": "124402fe-38c5-48a4-b49c-6542abd51542",
   "metadata": {},
   "outputs": [],
   "source": [
    "# Read box\n",
    "box = open_zip_shapefile(data_dir + f'/l0_support_data/bouvet.zip')"
   ]
  },
  {
   "cell_type": "code",
   "execution_count": null,
   "id": "9496c8cb-79ed-477a-b2ce-a3cc94715bd4",
   "metadata": {},
   "outputs": [],
   "source": [
    "# Plot correct glaciers and shapefile\n",
    "base = box.plot(color='none', edgecolor='black')\n",
    "s_808.geometry.plot(ax=base, color='C0', markersize=5);"
   ]
  },
  {
   "cell_type": "markdown",
   "id": "3d750e84-a702-4452-afea-223ade0efd3a",
   "metadata": {},
   "source": [
    "Now we remove the glaciers inside from the other one:"
   ]
  },
  {
   "cell_type": "code",
   "execution_count": null,
   "id": "58426c0e-a90a-4bb0-b47c-78ae3da169f1",
   "metadata": {},
   "outputs": [],
   "source": [
    "# Save glacier centroid in rp:\n",
    "rp = s_585.representative_point()\n",
    "\n",
    "rp = rp.to_frame('geometry')\n",
    "rp['orig_index'] = s_585.index\n",
    "\n",
    "# Find non overlying polygons\n",
    "difference = gpd.overlay(rp, box, how='difference')\n",
    "\n",
    "# Create temporary variable\n",
    "s_585_sel = s_585.loc[difference['orig_index']]\n",
    "\n",
    "len(s_585) - len(s_585_sel)"
   ]
  },
  {
   "cell_type": "code",
   "execution_count": null,
   "id": "3369718d-4e20-4062-8c53-31075f261188",
   "metadata": {},
   "outputs": [],
   "source": [
    "s_585 = s_585_sel"
   ]
  },
  {
   "cell_type": "markdown",
   "id": "a1fd933d-48bc-4a0b-aca3-c92529758325",
   "metadata": {},
   "source": [
    "### Remove duplacted outline 19-12"
   ]
  },
  {
   "cell_type": "code",
   "execution_count": null,
   "id": "5c083f0f-4692-4b7c-9b54-23becce0b3af",
   "metadata": {},
   "outputs": [],
   "source": [
    "s_798.loc[s_798.anlys_id == 995059].plot();"
   ]
  },
  {
   "cell_type": "code",
   "execution_count": null,
   "id": "fe55dee2-cf3a-4935-ae17-4a69530649bd",
   "metadata": {},
   "outputs": [],
   "source": [
    "s_798 = s_798.loc[s_798.anlys_id != 995059].copy()"
   ]
  },
  {
   "cell_type": "markdown",
   "id": "14483ac9-e60e-4f70-b50e-f56329a69cfc",
   "metadata": {},
   "source": [
    "### New subregions outlines "
   ]
  },
  {
   "cell_type": "code",
   "execution_count": null,
   "id": "c298e087-5e90-44a3-83f6-4622e15a722a",
   "metadata": {},
   "outputs": [],
   "source": [
    "# Read subregs\n",
    "sregs = open_zip_shapefile(os.path.join(data_dir, '00_rgi70_regions/00_rgi70_O2Regions.zip'))"
   ]
  },
  {
   "cell_type": "code",
   "execution_count": null,
   "id": "7e5de544-f1be-4b1b-953c-5f5802fd279e",
   "metadata": {},
   "outputs": [],
   "source": [
    "sregs_sel = sregs.loc[sregs.o2region.isin(['19-01', '19-05', '19-11', '19-12', '19-13', '19-14', '19-15', '19-16', '19-17', '19-24'])]\n",
    "sregs_sel"
   ]
  },
  {
   "cell_type": "code",
   "execution_count": null,
   "id": "3a4b703c-4cd3-4007-ab81-f1bb91d9f8ad",
   "metadata": {},
   "outputs": [],
   "source": [
    "# Save glacier centroid in rp:\n",
    "rp = s_585.representative_point()\n",
    "\n",
    "rp = rp.to_frame('geometry')\n",
    "rp['orig_index'] = s_585.index\n",
    "\n",
    "# Find non overlying polygons\n",
    "difference = gpd.overlay(rp, sregs_sel, how='difference')\n",
    "\n",
    "# Create temporary variable\n",
    "s_585_sel = s_585.loc[difference['orig_index']]\n",
    "\n",
    "len(s_585) - len(s_585_sel)"
   ]
  },
  {
   "cell_type": "code",
   "execution_count": null,
   "id": "9a93495d-f3f5-4522-8bf9-1891d1037e61",
   "metadata": {},
   "outputs": [],
   "source": [
    "s_585 = s_585_sel"
   ]
  },
  {
   "cell_type": "markdown",
   "id": "84b067dc-0900-441c-b708-29a9bd2cd19b",
   "metadata": {},
   "source": [
    "### OK Merge "
   ]
  },
  {
   "cell_type": "code",
   "execution_count": null,
   "id": "b777e107-6360-4bcb-b470-61a83cdbe837",
   "metadata": {},
   "outputs": [],
   "source": [
    "# Merge original RGI and the new invs\n",
    "rgi7 = pd.concat([s_585, s_700, s_769, s_798, s_805, s_806, s_807, s_808, s_811])"
   ]
  },
  {
   "cell_type": "code",
   "execution_count": null,
   "id": "5034840d-908e-4ca8-afcd-ff4cb27a9bed",
   "metadata": {},
   "outputs": [],
   "source": [
    "# Size filter?\n",
    "print(len(rgi7))\n",
    "rgi7 = size_filter(rgi7)\n",
    "print(len(rgi7))"
   ]
  },
  {
   "cell_type": "markdown",
   "id": "8a91f0c2-ff63-4441-bf75-3385221cc9c4",
   "metadata": {},
   "source": [
    "### Some sanity checks "
   ]
  },
  {
   "cell_type": "code",
   "execution_count": null,
   "id": "43fb3097-eafa-4c94-b083-f3f79bf20250",
   "metadata": {},
   "outputs": [],
   "source": [
    "dupes = find_duplicates(rgi7)"
   ]
  },
  {
   "cell_type": "code",
   "execution_count": null,
   "id": "7e4baf0d-cd28-49c4-b4b8-f4df8ed68696",
   "metadata": {},
   "outputs": [],
   "source": [
    "rgi7 = rgi7.loc[rgi7.anlys_id != dupes.iloc[1].anlys_id]\n",
    "dupes = find_duplicates(rgi7)"
   ]
  },
  {
   "cell_type": "code",
   "execution_count": null,
   "id": "296d2c46-271b-4511-895a-90fab047c9bf",
   "metadata": {},
   "outputs": [],
   "source": [
    "nn = find_neighbors(dupes, rgi7, n=2)\n",
    "f, ax = plt.subplots()\n",
    "nn.iloc[[1]].plot(ax=ax, edgecolor='k', facecolor='none');\n",
    "dupes.plot(ax=ax, edgecolor='r', facecolor='none');"
   ]
  },
  {
   "cell_type": "markdown",
   "id": "89cc990f-d3b9-4c5e-b7b1-ae3009418b23",
   "metadata": {},
   "source": [
    "OK so this is obviously a misclassified rock outcrop: https://trello.com/c/UGyLbC87\n",
    "\n",
    "Lets delete:"
   ]
  },
  {
   "cell_type": "code",
   "execution_count": null,
   "id": "60b74609-cbe7-4d46-a49d-5d10252e9409",
   "metadata": {},
   "outputs": [],
   "source": [
    "rgi7 = rgi7.loc[rgi7.anlys_id != 287466]\n",
    "find_duplicates(rgi7);"
   ]
  },
  {
   "cell_type": "code",
   "execution_count": null,
   "id": "64e7b98e-bda6-4f1e-b02a-bb0d0ad787a7",
   "metadata": {},
   "outputs": [],
   "source": [
    "rgi7 = correct_geoms(rgi7)"
   ]
  },
  {
   "cell_type": "code",
   "execution_count": null,
   "id": "abb637f4-7c1a-471a-b8be-f3f2c9198747",
   "metadata": {},
   "outputs": [],
   "source": [
    "needs_size_filter(rgi7)"
   ]
  },
  {
   "cell_type": "code",
   "execution_count": null,
   "id": "4174cd79-3943-48ca-877d-6ac15c84fa00",
   "metadata": {},
   "outputs": [],
   "source": [
    "sdf, df_class = submission_summary(rgi7)\n",
    "df_class"
   ]
  },
  {
   "cell_type": "code",
   "execution_count": null,
   "id": "51fbbb65-5d0a-42bd-9630-e69452b250fc",
   "metadata": {},
   "outputs": [],
   "source": [
    "# Check the orphaned rock outcrops\n",
    "orphan_f = os.path.join(data_dir, 'l1_orphan_interiors', f'RGI{reg:02d}', f'RGI{reg:02d}.shp')\n",
    "if os.path.exists(orphan_f):\n",
    "    orphan_f = gpd.read_file(orphan_f)\n",
    "    check = np.isin(rgi7.subm_id.unique(), orphan_f.subm_id.unique())\n",
    "    if np.any(check):\n",
    "        print(f'Orphan rock outcrops detected in subm_id {rgi7.subm_id.unique()[check]}')\n",
    "        orphan_f['area'] = orphan_f.to_crs({'proj':'cea'}).area\n",
    "        orphan_f = orphan_f.loc[orphan_f.subm_id.isin(rgi7.subm_id.unique()[check])]"
   ]
  },
  {
   "cell_type": "code",
   "execution_count": null,
   "id": "acf1e98a-82b0-494b-ac39-18b70d88768c",
   "metadata": {},
   "outputs": [],
   "source": [
    "orphan_f['area'].sum() * 1e-6"
   ]
  },
  {
   "cell_type": "markdown",
   "id": "9bf52134-51b0-431f-8ce5-55b8d4469b87",
   "metadata": {},
   "source": [
    "### Plots "
   ]
  },
  {
   "cell_type": "code",
   "execution_count": null,
   "id": "f1aade62-c6e0-413e-8e6a-5d59e21603b7",
   "metadata": {},
   "outputs": [],
   "source": [
    "plot_map(rgi7, reg, linewidth=3, loc='upper left')"
   ]
  },
  {
   "cell_type": "code",
   "execution_count": null,
   "id": "f4f301b9-b020-4d00-9d22-d4e23f0494f8",
   "metadata": {},
   "outputs": [],
   "source": [
    "plot_map(rgi7, reg, linewidth=3, is_rgi6=True, loc='upper left')"
   ]
  },
  {
   "cell_type": "code",
   "execution_count": null,
   "id": "20612f33-e22c-4af2-b363-627d48f040b5",
   "metadata": {},
   "outputs": [],
   "source": [
    "plot_date_hist(rgi7, reg, figsize=(16, 7))"
   ]
  },
  {
   "cell_type": "markdown",
   "id": "fb5bf5c4-fc3c-4766-bc56-208c0be5b4b4",
   "metadata": {},
   "source": [
    "### Text for github"
   ]
  },
  {
   "cell_type": "code",
   "execution_count": null,
   "id": "38374484-809d-49a9-875f-cf3c02b20226",
   "metadata": {},
   "outputs": [],
   "source": [
    "fgh = sdf.T\n",
    "fgh"
   ]
  },
  {
   "cell_type": "code",
   "execution_count": null,
   "id": "e267e500-1a19-468d-952f-eea6643331c2",
   "metadata": {},
   "outputs": [],
   "source": [
    "print(fgh.to_markdown(headers=np.append(['subm_id'], fgh.columns)))"
   ]
  },
  {
   "cell_type": "markdown",
   "id": "b07b614a-fc39-49e1-99e1-c93a5dc1edb6",
   "metadata": {},
   "source": [
    "## Write out and tar "
   ]
  },
  {
   "cell_type": "code",
   "execution_count": null,
   "id": "d0846537-a565-4969-ac37-fc8122cfe812",
   "metadata": {},
   "outputs": [],
   "source": [
    "dd = mkdir(f'{output_dir}/RGI{reg:02d}/', reset=True)\n",
    "\n",
    "print('Writing...')\n",
    "rgi7.to_file(dd + f'RGI{reg:02d}.shp')\n",
    "\n",
    "print('Taring...')\n",
    "print(subprocess.run(['tar', '-zcvf', f'{output_dir_tar}/RGI{reg:02d}.tar.gz', '-C', output_dir, f'RGI{reg:02d}']))"
   ]
  },
  {
   "cell_type": "markdown",
   "id": "fb0cccc9-ed71-4c00-9a4f-0bfd26cc6ed7",
   "metadata": {},
   "source": [
    "## Consistency check with RGI6 "
   ]
  },
  {
   "cell_type": "markdown",
   "id": "a975a30e-8a91-4353-a28f-ed858e573aaf",
   "metadata": {},
   "source": [
    "Much harder to do now given the complexity"
   ]
  },
  {
   "cell_type": "markdown",
   "id": "industrial-panic",
   "metadata": {},
   "source": [
    "#### load reference data (here RGI6 original) to enable comparison"
   ]
  },
  {
   "cell_type": "code",
   "execution_count": null,
   "id": "varying-column",
   "metadata": {},
   "outputs": [],
   "source": [
    "# load reference data\n",
    "from utils import open_zip_shapefile\n",
    "ref_odf = open_zip_shapefile(rgi6_reg_file)"
   ]
  },
  {
   "cell_type": "markdown",
   "id": "similar-bread",
   "metadata": {},
   "source": [
    "#### Number of elements (differences do not depict problems)"
   ]
  },
  {
   "cell_type": "code",
   "execution_count": null,
   "id": "grand-imaging",
   "metadata": {},
   "outputs": [],
   "source": [
    "print('Number of glaciers in new RGI subset:', len(rgi7))\n",
    "print('Number of glaciers in reference data:', len(ref_odf))\n",
    "print('Difference:', len(rgi7)-len(ref_odf))"
   ]
  },
  {
   "cell_type": "markdown",
   "id": "headed-template",
   "metadata": {},
   "source": [
    "#### Check for 'nominal glaciers' in the RGI6 original data and delete them from new RGI subset from GLIMS if they are in there "
   ]
  },
  {
   "cell_type": "code",
   "execution_count": null,
   "id": "parallel-correction",
   "metadata": {},
   "outputs": [],
   "source": [
    "# how many nominals in RGI06 (identifiable via 'Status' attribute in RGI 06)\n",
    "nom = ref_odf.loc[ref_odf.Status == 2]\n",
    "len(nom)"
   ]
  },
  {
   "cell_type": "markdown",
   "id": "dress-independence",
   "metadata": {},
   "source": [
    "#### Total area"
   ]
  },
  {
   "cell_type": "code",
   "execution_count": null,
   "id": "opposed-bolivia",
   "metadata": {},
   "outputs": [],
   "source": [
    "# add an area field to RGI_ss and reference data\n",
    "ref_odf['area'] = ref_odf.to_crs({'proj':'cea'}).area"
   ]
  },
  {
   "cell_type": "code",
   "execution_count": null,
   "id": "visible-psychology",
   "metadata": {},
   "outputs": [],
   "source": [
    "# print and compare area values\n",
    "Area_Rep = rgi7['area'].sum()/1000000\n",
    "print('Area Rep [km²]:', Area_Rep)\n",
    "Area_RGI6 = ref_odf['area'].sum()/1000000\n",
    "print('Area RGI6 [km²]:', Area_RGI6)\n",
    "d = (Area_Rep - Area_RGI6)\n",
    "d_perc = (d/Area_Rep*100)\n",
    "print('Area difference [km²]:',d,'/','percentage:', d_perc)"
   ]
  },
  {
   "cell_type": "code",
   "execution_count": null,
   "id": "0f6fdbcf-2913-4a85-9b51-1573f7a86a1f",
   "metadata": {},
   "outputs": [],
   "source": []
  }
 ],
 "metadata": {
  "kernelspec": {
   "display_name": "Python 3 (ipykernel)",
   "language": "python",
   "name": "python3"
  },
  "language_info": {
   "codemirror_mode": {
    "name": "ipython",
    "version": 3
   },
   "file_extension": ".py",
   "mimetype": "text/x-python",
   "name": "python",
   "nbconvert_exporter": "python",
   "pygments_lexer": "ipython3",
   "version": "3.10.8"
  }
 },
 "nbformat": 4,
 "nbformat_minor": 5
}
