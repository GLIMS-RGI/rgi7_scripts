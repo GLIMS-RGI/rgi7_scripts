{
 "cells": [
  {
   "cell_type": "markdown",
   "id": "vocal-wrist",
   "metadata": {},
   "source": [
    "# RGI16 (Low Latitudes)\n",
    "\n",
    "F. Maussion & S. Galos"
   ]
  },
  {
   "cell_type": "code",
   "execution_count": null,
   "id": "arabic-trash",
   "metadata": {},
   "outputs": [],
   "source": [
    "import pandas as pd\n",
    "import geopandas as gpd\n",
    "import subprocess\n",
    "import matplotlib.pyplot as plt\n",
    "import matplotlib.patches as mpatches\n",
    "import seaborn as sns\n",
    "import numpy as np\n",
    "from utils import mkdir, submission_summary, needs_size_filter, size_filter, plot_map, plot_date_hist, open_zip_shapefile\n",
    "import os"
   ]
  },
  {
   "cell_type": "markdown",
   "id": "novel-antique",
   "metadata": {},
   "source": [
    "## Files and storage paths"
   ]
  },
  {
   "cell_type": "code",
   "execution_count": null,
   "id": "aggregate-qatar",
   "metadata": {},
   "outputs": [],
   "source": [
    "# Region of interest\n",
    "reg = 16\n",
    "\n",
    "# go down from rgi7_scripts/workflow\n",
    "data_dir = '../../rgi7_data/'\n",
    "\n",
    "# Level 2 GLIMS files\n",
    "l2_dir = os.path.join(data_dir, 'l2_sel_reg_tars')\n",
    "\n",
    "# Output directories\n",
    "output_dir = mkdir(os.path.join(data_dir, 'l3_rgi7a'))\n",
    "output_dir_tar = mkdir(os.path.join(data_dir, 'l3_rgi7a_tar'))\n",
    "\n",
    "# RGI v6 file for comparison later \n",
    "rgi6_reg_file = os.path.join(data_dir, 'l0_RGIv6', '16_rgi60_LowLatitudes.zip')\n",
    "\n",
    "# Support data dir\n",
    "support_dir = os.path.join(data_dir, 'l0_support_data')"
   ]
  },
  {
   "cell_type": "markdown",
   "id": "remarkable-gathering",
   "metadata": {},
   "source": [
    "### Load the input data"
   ]
  },
  {
   "cell_type": "code",
   "execution_count": null,
   "id": "cellular-review",
   "metadata": {},
   "outputs": [],
   "source": [
    "# Read L2 files\n",
    "shp = gpd.read_file('tar://' + l2_dir + f'/RGI{reg:02d}.tar.gz/RGI{reg:02d}/RGI{reg:02d}.shp')"
   ]
  },
  {
   "cell_type": "markdown",
   "id": "943120cc-5d99-4e1b-89d7-48b9e6c4ec90",
   "metadata": {},
   "source": [
    "### List of submissions "
   ]
  },
  {
   "cell_type": "code",
   "execution_count": null,
   "id": "fcae3514-d6cb-424b-8351-be99f255db09",
   "metadata": {},
   "outputs": [],
   "source": [
    "sdf, df_class = submission_summary(shp)\n",
    "sdf"
   ]
  },
  {
   "cell_type": "code",
   "execution_count": null,
   "id": "428fd231-ecc2-457f-9fbe-41d22948ae53",
   "metadata": {},
   "outputs": [],
   "source": [
    "# # Write out selection in intermediate shape files for manual GIS review\n",
    "# tmp_output_dir = mkdir(os.path.join(data_dir, 'l0_tmp_data', f'rgi{reg:02d}_inventories'))\n",
    "# tmp_output_dir_tar = mkdir(os.path.join(data_dir, 'l0_tmp_data'))\n",
    "# for subid in shp.subm_id.unique():\n",
    "#     s_loc = shp.loc[shp.subm_id == subid]\n",
    "#     s_loc.to_file(tmp_output_dir + f'/subm_{int(subid):03d}.shp')\n",
    "# print('Taring...')\n",
    "# print(subprocess.run(['tar', '-zcvf', f'{tmp_output_dir_tar}/rgi{reg:02d}_inventories.tar.gz', '-C', \n",
    "#                       os.path.join(data_dir, 'l0_tmp_data'), f'rgi{reg:02d}_inventories']))"
   ]
  },
  {
   "cell_type": "markdown",
   "id": "c49aa970-42fd-476a-a4ec-20a1f2f3a38c",
   "metadata": {},
   "source": [
    "Notes based on inidivual submission evaluations: \n",
    "- 407 is Papua New Guinea, RGI6 is probably based on these but its not exact same. It is covered by 591 as well\n",
    "- 461 is Kibo, but another date than RGI6 (which is 2000) and different\n",
    "- 479 also Papua New Guinea, also similar to RGI6 (id 591) but not exact same\n",
    "- 591 is RGI6, from what I can see spatially complete (already detected a geometry problem at Mt Kibo and different outlines in Ecuador)\n",
    "- 648-649 are all Papua New Guina. 652 is closer to 2000 than RGI6 (2002), but the outlines look more pixelated. They are also shifted to RGI6, so no clue which is best\n",
    "- 672-690 are all outlines of the same ice field in Peru, at various dates\n",
    "- 692-693 a few outlines in Bolivia\n",
    "- 700 is from the Argentina inventory. It contains many many more outlines than RGI6 in argentina (only a handful of RGI6 outlines in Argentina). Many of the features look like rock glaciers (or just rocks): the good thing is, they are classified as rock glaciers in GLIMS (primeclass 9).\n",
    "- 730 is from the Chilean inventory. Same issues as with 700. Many outlines, many of them looking like rock glaciers. Unfortunately, the Chilean inventory in GLIMS does not have classification (all are class 0 \"unspecified\"). The original data however seems to be fine so we can use to correct GLIMS (to be ficxed upstream though)\n",
    "- 748 is a recent inventory for Peru, Bolivia, and Northern Chile"
   ]
  },
  {
   "cell_type": "code",
   "execution_count": null,
   "id": "ab890d6b-4cd2-4fc4-9d63-4836b9706051",
   "metadata": {},
   "outputs": [],
   "source": [
    "sel_invs = [591, 700, 730, 748]\n",
    "shp = shp.loc[shp.subm_id.isin(sel_invs)]\n",
    "df_class.loc[sel_invs]"
   ]
  },
  {
   "cell_type": "markdown",
   "id": "8321de16-064f-4f86-9028-d01db64251cd",
   "metadata": {},
   "source": [
    "### Attributes of the chilean inventory "
   ]
  },
  {
   "cell_type": "markdown",
   "id": "525fae02-e208-4529-86a6-d6d6e92782e2",
   "metadata": {},
   "source": [
    "The Chilean inventory was ingested without attributes in GLIMS. Let's correct that:"
   ]
  },
  {
   "cell_type": "code",
   "execution_count": null,
   "id": "8f6cee05-3163-4927-965a-8b812df6a0e6",
   "metadata": {},
   "outputs": [],
   "source": [
    "chile = open_zip_shapefile(support_dir + '/Shape_Inventario_de_Glaciares.zip')\n",
    "chile = chile.to_crs(shp.crs)"
   ]
  },
  {
   "cell_type": "code",
   "execution_count": null,
   "id": "bd8e06cb-583d-4ffb-8ed7-4b7122dee4e8",
   "metadata": {},
   "outputs": [],
   "source": [
    "# There is a duplicated ID in the original inventory and therefore in GLIMS\n",
    "chile = chile.drop(20896).copy()\n",
    "shp = shp[shp.anlys_id != 751799].copy()"
   ]
  },
  {
   "cell_type": "code",
   "execution_count": null,
   "id": "7d30d2ac-b75b-4ec0-8615-3865d23e87ad",
   "metadata": {},
   "outputs": [],
   "source": [
    "# Convert the spanish classes into WGMS classification\n",
    "translate = {'GLACIAR DE MONTAÑA':6, 'GLACIARETE':7, 'GLACIAR ROCOSO': 9}\n",
    "chile = chile.replace({\"CLASIFICA\": translate})"
   ]
  },
  {
   "cell_type": "code",
   "execution_count": null,
   "id": "3365cd89-0d29-4730-85ad-f6c2c05a559a",
   "metadata": {},
   "outputs": [],
   "source": [
    "reg_f = gpd.read_file( os.path.join(data_dir, 'l0_regions', '00_rgi70_regions', '00_rgi70_O1Regions.shp'))\n",
    "shp_chile = shp.loc[shp['subm_id'] == 730]\n",
    "\n",
    "rp = chile.representative_point()\n",
    "rp = rp.to_frame('geometry')\n",
    "rp['orig_index'] = chile.index\n",
    "intersect = gpd.overlay(rp, reg_f.loc[reg_f.RGI_CODE == f'{reg:02d}'], how='intersection')\n",
    "chile = chile.loc[intersect['orig_index']]\n",
    "\n",
    "assert len(chile) == len(shp_chile)"
   ]
  },
  {
   "cell_type": "code",
   "execution_count": null,
   "id": "26c14dd3-4ccd-479f-931c-e56b1a0fe098",
   "metadata": {},
   "outputs": [],
   "source": [
    "rp = shp_chile.representative_point()\n",
    "rp = rp.to_frame('geometry')\n",
    "rp['orig_index'] = shp_chile.index\n",
    "intersect = gpd.overlay(rp, chile, how='intersection')\n",
    "\n",
    "assert len(intersect) == len(chile)"
   ]
  },
  {
   "cell_type": "code",
   "execution_count": null,
   "id": "0a3bea18-5bc7-47b1-82ff-28ab9ac03771",
   "metadata": {},
   "outputs": [],
   "source": [
    "shp.loc[intersect.orig_index, 'primeclass'] = intersect[\"CLASIFICA\"].values"
   ]
  },
  {
   "cell_type": "code",
   "execution_count": null,
   "id": "b10c6a4a-6c48-4758-9e9e-89417d892880",
   "metadata": {},
   "outputs": [],
   "source": [
    "sdf, df_class = submission_summary(shp)\n",
    "df_class"
   ]
  },
  {
   "cell_type": "code",
   "execution_count": null,
   "id": "4a4f96ee-b231-49f3-b6ba-60cffd6bc4b6",
   "metadata": {},
   "outputs": [],
   "source": [
    "# Exclude rock glaciers\n",
    "shp = shp.loc[shp.primeclass != 9]"
   ]
  },
  {
   "cell_type": "code",
   "execution_count": null,
   "id": "56e7b257-c679-4bc7-abf3-30ef3cb4ac35",
   "metadata": {},
   "outputs": [],
   "source": [
    "sdf, df_class = submission_summary(shp)\n",
    "df_class"
   ]
  },
  {
   "cell_type": "code",
   "execution_count": null,
   "id": "7660725c-570b-42db-adea-4a7fb0b5cf3e",
   "metadata": {},
   "outputs": [],
   "source": [
    "# # Write out selection in intermediate shape files for manual GIS review\n",
    "# tmp_output_dir = mkdir(os.path.join(data_dir, 'l0_tmp_data', f'rgi{reg:02d}_sel_inventories'))\n",
    "# tmp_output_dir_tar = mkdir(os.path.join(data_dir, 'l0_tmp_data'))\n",
    "# for subid in shp.subm_id.unique():\n",
    "#     s_loc = shp.loc[shp.subm_id == subid]\n",
    "#     s_loc.to_file(tmp_output_dir + f'/subm_{int(subid):03d}.shp')\n",
    "# print('Taring...')\n",
    "# print(subprocess.run(['tar', '-zcvf', f'{tmp_output_dir_tar}/rgi{reg:02d}_sel_inventories.tar.gz', '-C', \n",
    "#                       os.path.join(data_dir, 'l0_tmp_data'), f'rgi{reg:02d}_sel_inventories']))"
   ]
  },
  {
   "cell_type": "markdown",
   "id": "ed62ea27-def3-4374-a7f0-2ebd37e7ed9b",
   "metadata": {},
   "source": [
    "## Outline selection "
   ]
  },
  {
   "cell_type": "markdown",
   "id": "d83108b5-7449-4863-b1b1-db3945682aee",
   "metadata": {},
   "source": [
    "For this region we do things a bit differently. Start with easy things, all smaller subregions in the Tropics first:"
   ]
  },
  {
   "cell_type": "code",
   "execution_count": null,
   "id": "f47431ee-3f90-4825-8829-0d072fdf709c",
   "metadata": {},
   "outputs": [],
   "source": [
    "reg_f = gpd.read_file(os.path.join(data_dir, 'l0_regions', '00_rgi70_regions', '00_rgi70_O2Regions.shp'))\n",
    "reg_f = reg_f.loc[reg_f['RGI_CODE'].str.contains('16-')]\n",
    "reg_f"
   ]
  },
  {
   "cell_type": "code",
   "execution_count": null,
   "id": "1c9bbc74-8f0f-46a1-bdd6-adc1c872d549",
   "metadata": {},
   "outputs": [],
   "source": [
    "rp = shp.representative_point()\n",
    "rp = rp.to_frame('geometry')\n",
    "rp['orig_index'] = shp.index\n",
    "\n",
    "per_sreg = dict()\n",
    "for i in reg_f.iloc[1:].index:\n",
    "    intersect = gpd.overlay(rp, reg_f.loc[[i]], how='intersection')\n",
    "    \n",
    "    sel_sreg = shp.loc[intersect.orig_index].copy()\n",
    "    sel_sreg['is_rgi6'] = True\n",
    "    \n",
    "    per_sreg[reg_f.loc[i].RGI_CODE] = sel_sreg\n",
    "    \n",
    "    plot_map(sel_sreg, reg, title=reg_f.loc[i].RGI_CODE + ' ' +  reg_f.loc[i].FULL_NAME, savefig=False)"
   ]
  },
  {
   "cell_type": "markdown",
   "id": "f25faf39-24b6-47fe-aa5e-2f95770d3ea8",
   "metadata": {},
   "source": [
    "Ok now, just the Andes:"
   ]
  },
  {
   "cell_type": "code",
   "execution_count": null,
   "id": "e54e179d-4632-4b49-8d2e-1f5c3da2b973",
   "metadata": {},
   "outputs": [],
   "source": [
    "intersect = gpd.overlay(rp, reg_f.iloc[[0]], how='intersection')\n",
    "shp = shp.loc[intersect.orig_index].copy()"
   ]
  },
  {
   "cell_type": "code",
   "execution_count": null,
   "id": "3b0a01da-eac3-4e69-a86d-92800ea9ce50",
   "metadata": {},
   "outputs": [],
   "source": [
    "# North of Peru, we use previous RGI:\n",
    "rgi7_sa_north = shp.loc[(shp.subm_id == 591) & (shp.CenLat > -7)].copy()\n",
    "rgi7_sa_north['is_rgi6'] = True\n",
    "plot_map(rgi7_sa_north, reg, title='SA North', savefig=False)"
   ]
  },
  {
   "cell_type": "code",
   "execution_count": null,
   "id": "3d17b920-e521-4c51-8b0e-3062a2266c02",
   "metadata": {},
   "outputs": [],
   "source": [
    "# For Peru and Bolivia, we use the new inventory from Zürich, except at the Chile/Bolivia border\n",
    "exlude = open_zip_shapefile(support_dir + '/exclude_748.zip')\n",
    "\n",
    "rgi7_sa_fp = shp.loc[shp.subm_id == 748].copy()\n",
    "rgi7_sa_fp['is_rgi6'] = False\n",
    "\n",
    "rp = rgi7_sa_fp.representative_point()\n",
    "rp = rp.to_frame('geometry')\n",
    "rp['orig_index'] = rgi7_sa_fp.index\n",
    "difference = gpd.overlay(rp, exlude, how='difference')\n",
    "\n",
    "bef = len(rgi7_sa_fp)\n",
    "rgi7_sa_fp = rgi7_sa_fp.loc[difference['orig_index']].copy()\n",
    "assert bef - len(rgi7_sa_fp)  == 37 # This should be 37 less, I counted"
   ]
  },
  {
   "cell_type": "code",
   "execution_count": null,
   "id": "691d0137-e6b7-43cc-bbc3-0f1fa85c82ce",
   "metadata": {},
   "outputs": [],
   "source": [
    "# OK, and then the Chile and Argentinian invs\n",
    "rgi7_chile = shp.loc[shp.subm_id == 730].copy()\n",
    "rgi7_chile['is_rgi6'] = False\n",
    "rgi7_arg = shp.loc[shp.subm_id == 700].copy()\n",
    "rgi7_arg['is_rgi6'] = False"
   ]
  },
  {
   "cell_type": "code",
   "execution_count": null,
   "id": "51a86254-795a-408d-aad0-c203e9730c54",
   "metadata": {},
   "outputs": [],
   "source": [
    "rgi7 = pd.concat(per_sreg.values())\n",
    "rgi7 = pd.concat([rgi7, rgi7_sa_north, rgi7_sa_fp, rgi7_chile, rgi7_arg])"
   ]
  },
  {
   "cell_type": "markdown",
   "id": "8e901d36-76aa-4023-9712-6e7dc903fbd8",
   "metadata": {},
   "source": [
    "### Some sanity checks "
   ]
  },
  {
   "cell_type": "code",
   "execution_count": null,
   "id": "22164957-7f29-4c6c-aae9-afd4006fe709",
   "metadata": {},
   "outputs": [],
   "source": [
    "sdf, df_class = submission_summary(rgi7)\n",
    "df_class"
   ]
  },
  {
   "cell_type": "code",
   "execution_count": null,
   "id": "85462517-2b2f-47a4-987e-edd9c92c2b73",
   "metadata": {},
   "outputs": [],
   "source": [
    "# Check the orphaned rock outcrops\n",
    "orphan_f = os.path.join(data_dir, 'l1_orphan_interiors', f'RGI{reg:02d}', f'RGI{reg:02d}.shp')\n",
    "if os.path.exists(orphan_f):\n",
    "    orphan_f = gpd.read_file(orphan_f)\n",
    "    check = np.isin(rgi7.subm_id.unique(), orphan_f.subm_id.unique())\n",
    "    if np.any(check):\n",
    "        print(f'Orphan rock outcrops detected in subm_id {rgi7.subm_id.unique()[check]}')\n",
    "        orphan_f['area'] = orphan_f.to_crs({'proj':'cea'}).area"
   ]
  },
  {
   "cell_type": "markdown",
   "id": "b0b37741-4c0a-44b5-8725-90f71568f7c8",
   "metadata": {},
   "source": [
    "### Plots "
   ]
  },
  {
   "cell_type": "code",
   "execution_count": null,
   "id": "86b739d0-8044-49f8-9291-1b94040f8cc7",
   "metadata": {},
   "outputs": [],
   "source": [
    "plot_map(rgi7, reg, linewidth=3)"
   ]
  },
  {
   "cell_type": "code",
   "execution_count": null,
   "id": "841c13ab-ff37-45d0-9af4-4fe801a48e64",
   "metadata": {},
   "outputs": [],
   "source": [
    "plot_map(rgi7, reg, linewidth=3, is_rgi6=True)"
   ]
  },
  {
   "cell_type": "code",
   "execution_count": null,
   "id": "b151e76c-8112-4448-bcc8-525a1443fbac",
   "metadata": {},
   "outputs": [],
   "source": [
    "plot_date_hist(rgi7, reg)"
   ]
  },
  {
   "cell_type": "code",
   "execution_count": null,
   "id": "f0a85b67-51f5-49f7-9da6-2c49febf4701",
   "metadata": {},
   "outputs": [],
   "source": [
    "plot_map(pd.concat([rgi7_sa_north, rgi7_sa_fp, rgi7_chile, rgi7_arg]), reg, linewidth=3, title='RGI16 - Andes', savefig=False)"
   ]
  },
  {
   "cell_type": "markdown",
   "id": "afb263b0-4b06-415f-a85f-bdb1d1cb89de",
   "metadata": {},
   "source": [
    "### Text for github"
   ]
  },
  {
   "cell_type": "code",
   "execution_count": null,
   "id": "9ef6f6d0-3fc6-4963-b2d1-055f41bf80c2",
   "metadata": {},
   "outputs": [],
   "source": [
    "fgh = sdf.T\n",
    "fgh"
   ]
  },
  {
   "cell_type": "code",
   "execution_count": null,
   "id": "f661e49d-23eb-4e8b-abd8-f26f4b83037f",
   "metadata": {},
   "outputs": [],
   "source": [
    "print(fgh.to_markdown(headers=np.append(['subm_id'], fgh.columns)))"
   ]
  },
  {
   "cell_type": "markdown",
   "id": "a7606e56-6d98-4f84-acf1-65fbb68f6778",
   "metadata": {},
   "source": [
    "## Write out and tar "
   ]
  },
  {
   "cell_type": "code",
   "execution_count": null,
   "id": "2ff3efcc-19ee-4676-b785-eb4703761925",
   "metadata": {},
   "outputs": [],
   "source": [
    "dd = mkdir(f'{output_dir}/RGI{reg:02d}/', reset=True)\n",
    "\n",
    "print('Writing...')\n",
    "rgi7.to_file(dd + f'RGI{reg:02d}.shp')\n",
    "\n",
    "print('Taring...')\n",
    "print(subprocess.run(['tar', '-zcvf', f'{output_dir_tar}/RGI{reg:02d}.tar.gz', '-C', output_dir, f'RGI{reg:02d}']))"
   ]
  },
  {
   "cell_type": "code",
   "execution_count": null,
   "id": "651ce1c7-c06b-4d26-b348-1053f49d056e",
   "metadata": {},
   "outputs": [],
   "source": []
  }
 ],
 "metadata": {
  "kernelspec": {
   "display_name": "Python 3",
   "language": "python",
   "name": "python3"
  },
  "language_info": {
   "codemirror_mode": {
    "name": "ipython",
    "version": 3
   },
   "file_extension": ".py",
   "mimetype": "text/x-python",
   "name": "python",
   "nbconvert_exporter": "python",
   "pygments_lexer": "ipython3",
   "version": "3.8.8"
  }
 },
 "nbformat": 4,
 "nbformat_minor": 5
}
