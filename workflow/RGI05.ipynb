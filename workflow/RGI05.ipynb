{
 "cells": [
  {
   "cell_type": "markdown",
   "id": "promotional-industry",
   "metadata": {},
   "source": [
    "# RGI-07: Region 05 (Greenland Periphery)\n",
    "##### F. Maussion, S. Galos & F. Roura-Adseiras, November 2021\n",
    "\n",
    "Goal: same as RGI6"
   ]
  },
  {
   "cell_type": "code",
   "execution_count": 57,
   "id": "packed-things",
   "metadata": {},
   "outputs": [],
   "source": [
    "import geopandas as gpd\n",
    "import pandas as pd\n",
    "import matplotlib.pyplot as plt\n",
    "import subprocess\n",
    "import os\n",
    "import numpy as np\n",
    "from utils import mkdir"
   ]
  },
  {
   "cell_type": "markdown",
   "id": "dressed-induction",
   "metadata": {},
   "source": [
    "## Files and storage paths"
   ]
  },
  {
   "cell_type": "code",
   "execution_count": 58,
   "id": "laden-suspension",
   "metadata": {},
   "outputs": [],
   "source": [
    "# Region of interest\n",
    "reg = 5\n",
    "\n",
    "# go down from rgi7_scripts/workflow\n",
    "data_dir = '../../rgi7_data/'\n",
    "\n",
    "# Level 2 GLIMS files\n",
    "l2_dir = os.path.join(data_dir, 'l2_sel_reg_tars')\n",
    "\n",
    "# Output directories\n",
    "output_dir = mkdir(os.path.join(data_dir, 'l3_rgi7a'))\n",
    "output_dir_tar = mkdir(os.path.join(data_dir, 'l3_rgi7a_tar'))\n",
    "\n",
    "# RGI v6 file for comparison later \n",
    "rgi6_reg_file = os.path.join(data_dir, 'l0_RGIv6', '05_rgi60_GreenlandPeriphery.zip')"
   ]
  },
  {
   "cell_type": "markdown",
   "id": "alternative-stopping",
   "metadata": {},
   "source": [
    "### Load the input data"
   ]
  },
  {
   "cell_type": "code",
   "execution_count": 59,
   "id": "champion-screw",
   "metadata": {},
   "outputs": [],
   "source": [
    "# Read L2 files\n",
    "shp = gpd.read_file('tar://' + l2_dir + f'/RGI{reg:02d}.tar.gz/RGI{reg:02d}/RGI{reg:02d}.shp')"
   ]
  },
  {
   "cell_type": "markdown",
   "id": "fce5cba2-e851-4790-ab36-52d230e0f261",
   "metadata": {},
   "source": [
    "### List of submissions"
   ]
  },
  {
   "cell_type": "code",
   "execution_count": 60,
   "id": "de1c06a3-8ed0-4343-9360-1fb827da4a13",
   "metadata": {},
   "outputs": [
    {
     "name": "stdout",
     "output_type": "stream",
     "text": [
      " 92.0 Jiskoot, Hester 1995\n",
      " 474.0 Meyer, Joanna 2001\n",
      " 475.0 Meyer, Joanna 2001\n",
      " 580.0 Bolch, Tobias; Howat, Ian; LeBris, Raymond; Moelg, Nico; Negrete, A.; Paul, Frank; Rastner, Philipp 2002 2000 2000 2000 2002 2002 2001 2001 2000 1999 1999 2001 2001 1999 2000 2001 2003 2002 2000 2002 2003 2001 2007 2000 2000 2002 2001 1999 2001 2003 2001 1999 2002 2004 2002 1999 2000 2010 2001 2003 2003 2004 1994 2004 2001 2009\n",
      " 696.0 Paul, Frank; Rastner, Philipp; Schaub, Yvonne 2015 2016 2016\n",
      " 729.0 Paul, Frank; Rastner, Philipp 1978\n"
     ]
    }
   ],
   "source": [
    "toprint = []\n",
    "for subid in shp.subm_id.unique():\n",
    "    s_loc = shp.loc[shp.subm_id == subid]\n",
    "    s = ''\n",
    "    for c in ['subm_id', 'analysts', 'src_date']:\n",
    "        toprint = s_loc[c].unique()\n",
    "        if c != 'src_date':\n",
    "            s += ' ' + (str(toprint[0]))\n",
    "        else:\n",
    "            for d in toprint:\n",
    "                s += ' ' + d[:4]\n",
    "    print(s)"
   ]
  },
  {
   "cell_type": "markdown",
   "id": "furnished-sender",
   "metadata": {},
   "source": [
    "## Apply selection criteria to reproduce RGI-6 for this region and check result"
   ]
  },
  {
   "cell_type": "markdown",
   "id": "patent-realtor",
   "metadata": {},
   "source": [
    "### Step 1: extract RGI6 from GLIMS data and do a check"
   ]
  },
  {
   "cell_type": "code",
   "execution_count": 61,
   "id": "average-yield",
   "metadata": {},
   "outputs": [
    {
     "name": "stdout",
     "output_type": "stream",
     "text": [
      "0        East Central Greenland\n",
      "1        East Central Greenland\n",
      "2        East Central Greenland\n",
      "3        East Central Greenland\n",
      "4        East Central Greenland\n",
      "                  ...          \n",
      "25219                 Greenland\n",
      "25220                 Greenland\n",
      "25221                 Greenland\n",
      "25222                 Greenland\n",
      "25223                 Greenland\n",
      "Name: geog_area, Length: 25224, dtype: object\n"
     ]
    }
   ],
   "source": [
    "#...extract RGI06 from GLIMS based on 'geog_area' \n",
    "RGI_ss_old = shp.loc[shp['geog_area']=='Randolph Glacier Inventory; Umbrella RC for merging the RGI into GLIMS']\n",
    "print(shp['geog_area'])"
   ]
  },
  {
   "cell_type": "code",
   "execution_count": 63,
   "id": "88daf32a-e7a1-415b-86a4-8e6c2bc056d0",
   "metadata": {},
   "outputs": [
    {
     "data": {
      "text/plain": [
       "20261"
      ]
     },
     "execution_count": 63,
     "metadata": {},
     "output_type": "execute_result"
    }
   ],
   "source": [
    "# We use 'subm_id' = 580 \n",
    "RGI_ss = shp.loc[shp['subm_id'] == 580].copy()\n",
    "\n",
    "RGI_ss_729 = shp.loc[shp['subm_id'] == 729].copy()\n",
    "#polygon = RGI_ss_729.geometry.unary_union\n",
    "#(RGI_ss != RGI_ss_old).sum() # subm_id 580 is exactly equivalent to shp['geog_area']=='Randolph Glacier Inventory; Umbrella RC for merging the RGI into GLIMS' --> "
   ]
  },
  {
   "cell_type": "code",
   "execution_count": 7,
   "id": "a97e1f4c-4f2a-4a4e-97b4-c2d1f32b66ae",
   "metadata": {},
   "outputs": [],
   "source": [
    "#tmp = polygon.boundary\n",
    "\n",
    "#tmp\n",
    "#type(tmp)\n",
    "\n",
    "#import loads\n",
    "#from shapely.geometry import mapping\n",
    "# schema of the resulting shapefile\n",
    "#schema = tmp #{'geometry': 'MultiLineString','properties': {'id': 'int'}}\n",
    "# save \n",
    "#with fiona.open('multiline.shp', 'w', 'ESRI Shapefile', schema)  as output:\n",
    "#     output.write({'geometry':tmp,'properties': {'id':1}})\n",
    "#tmp.to_file(tmp_output_dir + f'/envelope.shp')"
   ]
  },
  {
   "cell_type": "code",
   "execution_count": 8,
   "id": "831b8822-7e43-4236-a702-079fc3c84b4d",
   "metadata": {},
   "outputs": [
    {
     "name": "stdout",
     "output_type": "stream",
     "text": [
      "Taring...\n",
      "rgi05_inventories/\n",
      "rgi05_inventories/subm_580.cpg\n",
      "rgi05_inventories/subm_580.dbf\n",
      "rgi05_inventories/subm_580.prj\n",
      "rgi05_inventories/subm_580.shp\n",
      "rgi05_inventories/subm_580.shx\n",
      "rgi05_inventories/subm_729.cpg\n",
      "rgi05_inventories/subm_729.dbf\n",
      "rgi05_inventories/subm_729.prj\n",
      "rgi05_inventories/subm_729.shp\n",
      "rgi05_inventories/subm_729.shx\n",
      "CompletedProcess(args=['tar', '-zcvf', '../../rgi7_data/l0_tmp_data/rgi05_inventories.tar.gz', '-C', '../../rgi7_data/l0_tmp_data', 'rgi05_inventories'], returncode=0)\n"
     ]
    }
   ],
   "source": [
    "# Write out selection in intermediate shape files for manual GIS review \n",
    "# (corresponding to subm_id = 580 (base inventory) and subm_id = 729 (region to be added).)\n",
    "tmp_output_dir = mkdir(os.path.join(data_dir, 'l0_tmp_data', 'rgi05_inventories'))\n",
    "tmp_output_dir_tar = mkdir(os.path.join(data_dir, 'l0_tmp_data'))\n",
    "for subid in [580, 729]:\n",
    "    s_loc = shp.loc[shp.subm_id == subid]\n",
    "    s_loc.to_file(tmp_output_dir + f'/subm_{int(subid):03d}.shp')\n",
    "print('Taring...')\n",
    "print(subprocess.run(['tar', '-zcvf', f'{tmp_output_dir_tar}/rgi05_inventories.tar.gz', '-C', \n",
    "                      os.path.join(data_dir, 'l0_tmp_data'), 'rgi05_inventories']))"
   ]
  },
  {
   "cell_type": "code",
   "execution_count": 64,
   "id": "cfab91cc-b98f-4cd2-bc4d-629297fd9f2f",
   "metadata": {},
   "outputs": [
    {
     "data": {
      "text/plain": [
       "<AxesSubplot:>"
      ]
     },
     "execution_count": 64,
     "metadata": {},
     "output_type": "execute_result"
    },
    {
     "data": {
      "image/png": "[encoded data removed]",
      "text/plain": [
       "<Figure size 432x288 with 1 Axes>"
      ]
     },
     "metadata": {
      "needs_background": "light"
     },
     "output_type": "display_data"
    }
   ],
   "source": [
    "# Read box containing glaciers with subm_id = 729\n",
    "#filename = 'tar:///' + data_dir + f'/l0_tmp_data/rgi{reg:02d}_north_outline_sel_box.zip/rgi{reg:02d}_north_outline_sel_box.shp'\n",
    "#print(filename)\n",
    "#shp = gpd.read_file(filename)\n",
    "\n",
    "# For some reason I cannot open \".tar\" or \".zip\". \n",
    "# It may have something to do with the fact that I have the data in the windows partition + simbolic link, not in ubuntu pertition.\n",
    "filename = data_dir + f'/l0_tmp_data/rgi{reg:02d}_north_outline_sel_box/rgi{reg:02d}_north_outline_sel_box.shp'\n",
    "shp = gpd.read_file(filename)\n",
    "\n",
    "shp.plot()"
   ]
  },
  {
   "cell_type": "code",
   "execution_count": 65,
   "id": "752742c6-331f-4676-b88e-d28b30e055b0",
   "metadata": {},
   "outputs": [
    {
     "name": "stdout",
     "output_type": "stream",
     "text": [
      "Are all points inside the box? True\n"
     ]
    },
    {
     "data": {
      "image/png": "[encoded data removed]",
      "text/plain": [
       "<Figure size 432x288 with 1 Axes>"
      ]
     },
     "metadata": {
      "needs_background": "light"
     },
     "output_type": "display_data"
    }
   ],
   "source": [
    "# create geographical points\n",
    "#from shapely.geometry import Point\n",
    "\n",
    "RGI_ss_729 = gpd.GeoDataFrame(RGI_ss_729, geometry=gpd.points_from_xy(RGI_ss_729.CenLon, RGI_ss_729.CenLat, crs=shp.crs))\n",
    "\n",
    "base = shp.plot(color='white', edgecolor='black')\n",
    "\n",
    "RGI_ss_729.geometry.plot(ax=base, marker='o', color='red', markersize=5)\n",
    "\n",
    "print('Are all points inside the box? '+ str(all(RGI_ss_729.geometry.within(shp.geometry.iloc[0]) == 1)))"
   ]
  },
  {
   "cell_type": "code",
   "execution_count": 55,
   "id": "0bd6d2b5-0d77-4cbc-9077-9215a5e53da4",
   "metadata": {},
   "outputs": [
    {
     "data": {
      "text/html": [
       "<div>\n",
       "<style scoped>\n",
       "    .dataframe tbody tr th:only-of-type {\n",
       "        vertical-align: middle;\n",
       "    }\n",
       "\n",
       "    .dataframe tbody tr th {\n",
       "        vertical-align: top;\n",
       "    }\n",
       "\n",
       "    .dataframe thead th {\n",
       "        text-align: right;\n",
       "    }\n",
       "</style>\n",
       "<table border=\"1\" class=\"dataframe\">\n",
       "  <thead>\n",
       "    <tr style=\"text-align: right;\">\n",
       "      <th></th>\n",
       "      <th>line_type</th>\n",
       "      <th>anlys_id</th>\n",
       "      <th>glac_id</th>\n",
       "      <th>anlys_time</th>\n",
       "      <th>area</th>\n",
       "      <th>db_area</th>\n",
       "      <th>width</th>\n",
       "      <th>length</th>\n",
       "      <th>primeclass</th>\n",
       "      <th>min_elev</th>\n",
       "      <th>...</th>\n",
       "      <th>chief_affl</th>\n",
       "      <th>loc_unc_x</th>\n",
       "      <th>loc_unc_y</th>\n",
       "      <th>glob_unc_x</th>\n",
       "      <th>glob_unc_y</th>\n",
       "      <th>submitters</th>\n",
       "      <th>analysts</th>\n",
       "      <th>CenLon</th>\n",
       "      <th>CenLat</th>\n",
       "      <th>geometry</th>\n",
       "    </tr>\n",
       "  </thead>\n",
       "  <tbody>\n",
       "    <tr>\n",
       "      <th>24509</th>\n",
       "      <td>glac_bound</td>\n",
       "      <td>726679.0</td>\n",
       "      <td>G317986E83202N</td>\n",
       "      <td>2021-06-01T00:00:00</td>\n",
       "      <td>2.178037e+05</td>\n",
       "      <td>0.217804</td>\n",
       "      <td>0.0</td>\n",
       "      <td>0.0</td>\n",
       "      <td>0.0</td>\n",
       "      <td>22.0</td>\n",
       "      <td>...</td>\n",
       "      <td>GEUS - Geological Survey of Denmark and Greenland</td>\n",
       "      <td>50</td>\n",
       "      <td>50</td>\n",
       "      <td>80</td>\n",
       "      <td>80</td>\n",
       "      <td>Paul, Frank</td>\n",
       "      <td>Paul, Frank; Rastner, Philipp</td>\n",
       "      <td>-42.013609</td>\n",
       "      <td>83.202258</td>\n",
       "      <td>POINT (-42.01361 83.20226)</td>\n",
       "    </tr>\n",
       "    <tr>\n",
       "      <th>24510</th>\n",
       "      <td>glac_bound</td>\n",
       "      <td>726680.0</td>\n",
       "      <td>G318529E83254N</td>\n",
       "      <td>2021-06-01T00:00:00</td>\n",
       "      <td>3.511380e+05</td>\n",
       "      <td>0.351138</td>\n",
       "      <td>0.0</td>\n",
       "      <td>0.0</td>\n",
       "      <td>0.0</td>\n",
       "      <td>210.0</td>\n",
       "      <td>...</td>\n",
       "      <td>GEUS - Geological Survey of Denmark and Greenland</td>\n",
       "      <td>50</td>\n",
       "      <td>50</td>\n",
       "      <td>80</td>\n",
       "      <td>80</td>\n",
       "      <td>Paul, Frank</td>\n",
       "      <td>Paul, Frank; Rastner, Philipp</td>\n",
       "      <td>-41.471137</td>\n",
       "      <td>83.254092</td>\n",
       "      <td>POINT (-41.47114 83.25409)</td>\n",
       "    </tr>\n",
       "    <tr>\n",
       "      <th>24511</th>\n",
       "      <td>glac_bound</td>\n",
       "      <td>726681.0</td>\n",
       "      <td>G318587E83266N</td>\n",
       "      <td>2021-06-01T00:00:00</td>\n",
       "      <td>4.046651e+05</td>\n",
       "      <td>0.404665</td>\n",
       "      <td>0.0</td>\n",
       "      <td>0.0</td>\n",
       "      <td>0.0</td>\n",
       "      <td>210.0</td>\n",
       "      <td>...</td>\n",
       "      <td>GEUS - Geological Survey of Denmark and Greenland</td>\n",
       "      <td>50</td>\n",
       "      <td>50</td>\n",
       "      <td>80</td>\n",
       "      <td>80</td>\n",
       "      <td>Paul, Frank</td>\n",
       "      <td>Paul, Frank; Rastner, Philipp</td>\n",
       "      <td>-41.412972</td>\n",
       "      <td>83.265753</td>\n",
       "      <td>POINT (-41.41297 83.26575)</td>\n",
       "    </tr>\n",
       "    <tr>\n",
       "      <th>24512</th>\n",
       "      <td>glac_bound</td>\n",
       "      <td>726682.0</td>\n",
       "      <td>G318609E83260N</td>\n",
       "      <td>2021-06-01T00:00:00</td>\n",
       "      <td>1.457510e+05</td>\n",
       "      <td>0.145751</td>\n",
       "      <td>0.0</td>\n",
       "      <td>0.0</td>\n",
       "      <td>0.0</td>\n",
       "      <td>357.0</td>\n",
       "      <td>...</td>\n",
       "      <td>GEUS - Geological Survey of Denmark and Greenland</td>\n",
       "      <td>50</td>\n",
       "      <td>50</td>\n",
       "      <td>80</td>\n",
       "      <td>80</td>\n",
       "      <td>Paul, Frank</td>\n",
       "      <td>Paul, Frank; Rastner, Philipp</td>\n",
       "      <td>-41.391303</td>\n",
       "      <td>83.259668</td>\n",
       "      <td>POINT (-41.39130 83.25967)</td>\n",
       "    </tr>\n",
       "    <tr>\n",
       "      <th>24513</th>\n",
       "      <td>glac_bound</td>\n",
       "      <td>726683.0</td>\n",
       "      <td>G318648E83261N</td>\n",
       "      <td>2021-06-01T00:00:00</td>\n",
       "      <td>4.827917e+05</td>\n",
       "      <td>0.482792</td>\n",
       "      <td>0.0</td>\n",
       "      <td>0.0</td>\n",
       "      <td>0.0</td>\n",
       "      <td>166.0</td>\n",
       "      <td>...</td>\n",
       "      <td>GEUS - Geological Survey of Denmark and Greenland</td>\n",
       "      <td>50</td>\n",
       "      <td>50</td>\n",
       "      <td>80</td>\n",
       "      <td>80</td>\n",
       "      <td>Paul, Frank</td>\n",
       "      <td>Paul, Frank; Rastner, Philipp</td>\n",
       "      <td>-41.351841</td>\n",
       "      <td>83.261132</td>\n",
       "      <td>POINT (-41.35184 83.26113)</td>\n",
       "    </tr>\n",
       "    <tr>\n",
       "      <th>...</th>\n",
       "      <td>...</td>\n",
       "      <td>...</td>\n",
       "      <td>...</td>\n",
       "      <td>...</td>\n",
       "      <td>...</td>\n",
       "      <td>...</td>\n",
       "      <td>...</td>\n",
       "      <td>...</td>\n",
       "      <td>...</td>\n",
       "      <td>...</td>\n",
       "      <td>...</td>\n",
       "      <td>...</td>\n",
       "      <td>...</td>\n",
       "      <td>...</td>\n",
       "      <td>...</td>\n",
       "      <td>...</td>\n",
       "      <td>...</td>\n",
       "      <td>...</td>\n",
       "      <td>...</td>\n",
       "      <td>...</td>\n",
       "      <td>...</td>\n",
       "    </tr>\n",
       "    <tr>\n",
       "      <th>25219</th>\n",
       "      <td>glac_bound</td>\n",
       "      <td>727389.0</td>\n",
       "      <td>G332700E83396N</td>\n",
       "      <td>2021-06-01T00:00:00</td>\n",
       "      <td>7.672136e+07</td>\n",
       "      <td>76.721400</td>\n",
       "      <td>0.0</td>\n",
       "      <td>0.0</td>\n",
       "      <td>0.0</td>\n",
       "      <td>220.0</td>\n",
       "      <td>...</td>\n",
       "      <td>GEUS - Geological Survey of Denmark and Greenland</td>\n",
       "      <td>50</td>\n",
       "      <td>50</td>\n",
       "      <td>80</td>\n",
       "      <td>80</td>\n",
       "      <td>Paul, Frank</td>\n",
       "      <td>Paul, Frank; Rastner, Philipp</td>\n",
       "      <td>-27.209756</td>\n",
       "      <td>83.403410</td>\n",
       "      <td>POINT (-27.20976 83.40341)</td>\n",
       "    </tr>\n",
       "    <tr>\n",
       "      <th>25220</th>\n",
       "      <td>glac_bound</td>\n",
       "      <td>727390.0</td>\n",
       "      <td>G332893E83429N</td>\n",
       "      <td>2021-06-01T00:00:00</td>\n",
       "      <td>4.577776e+05</td>\n",
       "      <td>0.457778</td>\n",
       "      <td>0.0</td>\n",
       "      <td>0.0</td>\n",
       "      <td>0.0</td>\n",
       "      <td>780.0</td>\n",
       "      <td>...</td>\n",
       "      <td>GEUS - Geological Survey of Denmark and Greenland</td>\n",
       "      <td>50</td>\n",
       "      <td>50</td>\n",
       "      <td>80</td>\n",
       "      <td>80</td>\n",
       "      <td>Paul, Frank</td>\n",
       "      <td>Paul, Frank; Rastner, Philipp</td>\n",
       "      <td>-27.107249</td>\n",
       "      <td>83.429293</td>\n",
       "      <td>POINT (-27.10725 83.42929)</td>\n",
       "    </tr>\n",
       "    <tr>\n",
       "      <th>25221</th>\n",
       "      <td>glac_bound</td>\n",
       "      <td>727391.0</td>\n",
       "      <td>G332940E83440N</td>\n",
       "      <td>2021-06-01T00:00:00</td>\n",
       "      <td>8.382399e+05</td>\n",
       "      <td>0.838240</td>\n",
       "      <td>0.0</td>\n",
       "      <td>0.0</td>\n",
       "      <td>0.0</td>\n",
       "      <td>412.0</td>\n",
       "      <td>...</td>\n",
       "      <td>GEUS - Geological Survey of Denmark and Greenland</td>\n",
       "      <td>50</td>\n",
       "      <td>50</td>\n",
       "      <td>80</td>\n",
       "      <td>80</td>\n",
       "      <td>Paul, Frank</td>\n",
       "      <td>Paul, Frank; Rastner, Philipp</td>\n",
       "      <td>-27.059509</td>\n",
       "      <td>83.439841</td>\n",
       "      <td>POINT (-27.05951 83.43984)</td>\n",
       "    </tr>\n",
       "    <tr>\n",
       "      <th>25222</th>\n",
       "      <td>glac_bound</td>\n",
       "      <td>727392.0</td>\n",
       "      <td>G333004E83426N</td>\n",
       "      <td>2021-06-01T00:00:00</td>\n",
       "      <td>1.117731e+05</td>\n",
       "      <td>0.111773</td>\n",
       "      <td>0.0</td>\n",
       "      <td>0.0</td>\n",
       "      <td>0.0</td>\n",
       "      <td>756.0</td>\n",
       "      <td>...</td>\n",
       "      <td>GEUS - Geological Survey of Denmark and Greenland</td>\n",
       "      <td>50</td>\n",
       "      <td>50</td>\n",
       "      <td>80</td>\n",
       "      <td>80</td>\n",
       "      <td>Paul, Frank</td>\n",
       "      <td>Paul, Frank; Rastner, Philipp</td>\n",
       "      <td>-26.996053</td>\n",
       "      <td>83.426091</td>\n",
       "      <td>POINT (-26.99605 83.42609)</td>\n",
       "    </tr>\n",
       "    <tr>\n",
       "      <th>25223</th>\n",
       "      <td>glac_bound</td>\n",
       "      <td>727393.0</td>\n",
       "      <td>G333017E83371N</td>\n",
       "      <td>2021-06-01T00:00:00</td>\n",
       "      <td>1.937464e+05</td>\n",
       "      <td>0.193746</td>\n",
       "      <td>0.0</td>\n",
       "      <td>0.0</td>\n",
       "      <td>0.0</td>\n",
       "      <td>435.0</td>\n",
       "      <td>...</td>\n",
       "      <td>GEUS - Geological Survey of Denmark and Greenland</td>\n",
       "      <td>50</td>\n",
       "      <td>50</td>\n",
       "      <td>80</td>\n",
       "      <td>80</td>\n",
       "      <td>Paul, Frank</td>\n",
       "      <td>Paul, Frank; Rastner, Philipp</td>\n",
       "      <td>-26.982901</td>\n",
       "      <td>83.370998</td>\n",
       "      <td>POINT (-26.98290 83.37100)</td>\n",
       "    </tr>\n",
       "  </tbody>\n",
       "</table>\n",
       "<p>715 rows × 33 columns</p>\n",
       "</div>"
      ],
      "text/plain": [
       "        line_type  anlys_id         glac_id           anlys_time  \\\n",
       "24509  glac_bound  726679.0  G317986E83202N  2021-06-01T00:00:00   \n",
       "24510  glac_bound  726680.0  G318529E83254N  2021-06-01T00:00:00   \n",
       "24511  glac_bound  726681.0  G318587E83266N  2021-06-01T00:00:00   \n",
       "24512  glac_bound  726682.0  G318609E83260N  2021-06-01T00:00:00   \n",
       "24513  glac_bound  726683.0  G318648E83261N  2021-06-01T00:00:00   \n",
       "...           ...       ...             ...                  ...   \n",
       "25219  glac_bound  727389.0  G332700E83396N  2021-06-01T00:00:00   \n",
       "25220  glac_bound  727390.0  G332893E83429N  2021-06-01T00:00:00   \n",
       "25221  glac_bound  727391.0  G332940E83440N  2021-06-01T00:00:00   \n",
       "25222  glac_bound  727392.0  G333004E83426N  2021-06-01T00:00:00   \n",
       "25223  glac_bound  727393.0  G333017E83371N  2021-06-01T00:00:00   \n",
       "\n",
       "               area    db_area  width  length  primeclass  min_elev  ...  \\\n",
       "24509  2.178037e+05   0.217804    0.0     0.0         0.0      22.0  ...   \n",
       "24510  3.511380e+05   0.351138    0.0     0.0         0.0     210.0  ...   \n",
       "24511  4.046651e+05   0.404665    0.0     0.0         0.0     210.0  ...   \n",
       "24512  1.457510e+05   0.145751    0.0     0.0         0.0     357.0  ...   \n",
       "24513  4.827917e+05   0.482792    0.0     0.0         0.0     166.0  ...   \n",
       "...             ...        ...    ...     ...         ...       ...  ...   \n",
       "25219  7.672136e+07  76.721400    0.0     0.0         0.0     220.0  ...   \n",
       "25220  4.577776e+05   0.457778    0.0     0.0         0.0     780.0  ...   \n",
       "25221  8.382399e+05   0.838240    0.0     0.0         0.0     412.0  ...   \n",
       "25222  1.117731e+05   0.111773    0.0     0.0         0.0     756.0  ...   \n",
       "25223  1.937464e+05   0.193746    0.0     0.0         0.0     435.0  ...   \n",
       "\n",
       "                                              chief_affl  loc_unc_x loc_unc_y  \\\n",
       "24509  GEUS - Geological Survey of Denmark and Greenland         50        50   \n",
       "24510  GEUS - Geological Survey of Denmark and Greenland         50        50   \n",
       "24511  GEUS - Geological Survey of Denmark and Greenland         50        50   \n",
       "24512  GEUS - Geological Survey of Denmark and Greenland         50        50   \n",
       "24513  GEUS - Geological Survey of Denmark and Greenland         50        50   \n",
       "...                                                  ...        ...       ...   \n",
       "25219  GEUS - Geological Survey of Denmark and Greenland         50        50   \n",
       "25220  GEUS - Geological Survey of Denmark and Greenland         50        50   \n",
       "25221  GEUS - Geological Survey of Denmark and Greenland         50        50   \n",
       "25222  GEUS - Geological Survey of Denmark and Greenland         50        50   \n",
       "25223  GEUS - Geological Survey of Denmark and Greenland         50        50   \n",
       "\n",
       "      glob_unc_x glob_unc_y   submitters                       analysts  \\\n",
       "24509         80         80  Paul, Frank  Paul, Frank; Rastner, Philipp   \n",
       "24510         80         80  Paul, Frank  Paul, Frank; Rastner, Philipp   \n",
       "24511         80         80  Paul, Frank  Paul, Frank; Rastner, Philipp   \n",
       "24512         80         80  Paul, Frank  Paul, Frank; Rastner, Philipp   \n",
       "24513         80         80  Paul, Frank  Paul, Frank; Rastner, Philipp   \n",
       "...          ...        ...          ...                            ...   \n",
       "25219         80         80  Paul, Frank  Paul, Frank; Rastner, Philipp   \n",
       "25220         80         80  Paul, Frank  Paul, Frank; Rastner, Philipp   \n",
       "25221         80         80  Paul, Frank  Paul, Frank; Rastner, Philipp   \n",
       "25222         80         80  Paul, Frank  Paul, Frank; Rastner, Philipp   \n",
       "25223         80         80  Paul, Frank  Paul, Frank; Rastner, Philipp   \n",
       "\n",
       "          CenLon     CenLat                    geometry  \n",
       "24509 -42.013609  83.202258  POINT (-42.01361 83.20226)  \n",
       "24510 -41.471137  83.254092  POINT (-41.47114 83.25409)  \n",
       "24511 -41.412972  83.265753  POINT (-41.41297 83.26575)  \n",
       "24512 -41.391303  83.259668  POINT (-41.39130 83.25967)  \n",
       "24513 -41.351841  83.261132  POINT (-41.35184 83.26113)  \n",
       "...          ...        ...                         ...  \n",
       "25219 -27.209756  83.403410  POINT (-27.20976 83.40341)  \n",
       "25220 -27.107249  83.429293  POINT (-27.10725 83.42929)  \n",
       "25221 -27.059509  83.439841  POINT (-27.05951 83.43984)  \n",
       "25222 -26.996053  83.426091  POINT (-26.99605 83.42609)  \n",
       "25223 -26.982901  83.370998  POINT (-26.98290 83.37100)  \n",
       "\n",
       "[715 rows x 33 columns]"
      ]
     },
     "execution_count": 55,
     "metadata": {},
     "output_type": "execute_result"
    }
   ],
   "source": []
  },
  {
   "cell_type": "markdown",
   "id": "f1409a99-8c2f-4cb9-b236-686e4cd8f56c",
   "metadata": {},
   "source": [
    "We see that for sumb_id 729 all the points fall inside the box polygon.\n",
    "Now let's check what points from the `sumb_id=580` are inside the box as well:"
   ]
  },
  {
   "cell_type": "code",
   "execution_count": 66,
   "id": "d0e85962-8eef-4d98-956d-c159bd76b37d",
   "metadata": {},
   "outputs": [
    {
     "name": "stdout",
     "output_type": "stream",
     "text": [
      "There are 133 glaciers inside the box\n"
     ]
    },
    {
     "data": {
      "image/png": "[encoded data removed]",
      "text/plain": [
       "<Figure size 1440x720 with 1 Axes>"
      ]
     },
     "metadata": {
      "needs_background": "light"
     },
     "output_type": "display_data"
    }
   ],
   "source": [
    "RGI_ss = gpd.GeoDataFrame(RGI_ss, geometry=gpd.points_from_xy(RGI_ss.CenLon, RGI_ss.CenLat, crs=shp.crs))\n",
    "\n",
    "base = shp.plot(color='white', edgecolor='black', figsize=(20, 10))\n",
    "RGI_ss.geometry.plot(ax=base, marker='o', color='red', markersize=5)\n",
    "\n",
    "print(\"There are \" + str(RGI_ss.geometry.within(shp.geometry.iloc[0]).sum()) + ' glaciers inside the box')"
   ]
  },
  {
   "cell_type": "markdown",
   "id": "4c28f8b4-713f-4e2d-8838-b9579a637145",
   "metadata": {},
   "source": [
    "Now we remove the glaciers inside and add the RGI_ss_729 instead:"
   ]
  },
  {
   "cell_type": "code",
   "execution_count": 67,
   "id": "02e45282-f682-4e6f-b918-ea1328f3ae34",
   "metadata": {},
   "outputs": [],
   "source": [
    "# remove glaciers inside box\n",
    "RGI_ss.drop(RGI_ss.index[RGI_ss.geometry.within(shp.geometry.iloc[0])], inplace = True)\n",
    "\n",
    "# add RGI_ss_729 to RGI_ss:\n",
    "RGI_ss = pd.concat([RGI_ss, RGI_ss_729])\n"
   ]
  },
  {
   "cell_type": "markdown",
   "id": "imported-projector",
   "metadata": {},
   "source": [
    "#### load reference data (here RGI6) to enable comparison"
   ]
  },
  {
   "cell_type": "code",
   "execution_count": 13,
   "id": "colored-durham",
   "metadata": {},
   "outputs": [],
   "source": [
    "# Just to know the name of the file to open from zip\n",
    "import zipfile\n",
    "with zipfile.ZipFile(rgi6_reg_file, \"r\") as z:\n",
    "    for f in z.filelist:\n",
    "        if '.shp' in f.filename:\n",
    "            fname = f.filename\n",
    "\n",
    "# load reference data\n",
    "ref_odf = gpd.read_file('zip://' + rgi6_reg_file + '/' + fname)"
   ]
  },
  {
   "cell_type": "markdown",
   "id": "convinced-offering",
   "metadata": {},
   "source": [
    "#### Number of elements (differences do not necessarily depict major problems)"
   ]
  },
  {
   "cell_type": "code",
   "execution_count": 14,
   "id": "killing-morris",
   "metadata": {},
   "outputs": [
    {
     "name": "stdout",
     "output_type": "stream",
     "text": [
      "Number of glaciers in new RGI subset: 20843\n",
      "Number of glaciers in reference data: 20261\n",
      "Difference: 582\n"
     ]
    }
   ],
   "source": [
    "print('Number of glaciers in new RGI subset:', len(RGI_ss))\n",
    "print('Number of glaciers in reference data:', len(ref_odf))\n",
    "print('Difference:', len(RGI_ss)-len(ref_odf))"
   ]
  },
  {
   "cell_type": "markdown",
   "id": "floral-paradise",
   "metadata": {},
   "source": [
    "#### check for duplicate glacier IDs"
   ]
  },
  {
   "cell_type": "code",
   "execution_count": 15,
   "id": "traditional-grenada",
   "metadata": {},
   "outputs": [
    {
     "name": "stdout",
     "output_type": "stream",
     "text": [
      "number of glaciers without unique id in RGI06: 0\n"
     ]
    }
   ],
   "source": [
    "print ('number of glaciers without unique id in RGI06:', len(ref_odf)-len(ref_odf['GLIMSId'].unique()))"
   ]
  },
  {
   "cell_type": "code",
   "execution_count": 16,
   "id": "extended-excuse",
   "metadata": {},
   "outputs": [
    {
     "name": "stdout",
     "output_type": "stream",
     "text": [
      "number of glaciers without unique id in RGI06 from GLIMS data base: 0\n"
     ]
    }
   ],
   "source": [
    "print ('number of glaciers without unique id in RGI06 from GLIMS data base:', len(RGI_ss)-len(RGI_ss['glac_id'].unique()))"
   ]
  },
  {
   "cell_type": "markdown",
   "id": "neural-james",
   "metadata": {},
   "source": [
    "#### Check for 'nominal glaciers' in the RGI6 original data and delete them from new RGI subset from GLIMS if they are in there "
   ]
  },
  {
   "cell_type": "code",
   "execution_count": 36,
   "id": "fallen-authority",
   "metadata": {},
   "outputs": [
    {
     "data": {
      "text/plain": [
       "0"
      ]
     },
     "execution_count": 36,
     "metadata": {},
     "output_type": "execute_result"
    }
   ],
   "source": [
    "# how many nominals in RGI06 (identifiable via 'Status' attribute in RGI 06)\n",
    "nom = ref_odf.loc[ref_odf.Status == 2]\n",
    "len(nom)"
   ]
  },
  {
   "cell_type": "code",
   "execution_count": 18,
   "id": "perceived-hours",
   "metadata": {},
   "outputs": [],
   "source": [
    "# drop nominal glaciers from new RGI subset\n",
    "RGI_ss = (RGI_ss.loc[~RGI_ss['glac_id'].isin(nom['GLIMSId'])])"
   ]
  },
  {
   "cell_type": "markdown",
   "id": "governing-marine",
   "metadata": {},
   "source": [
    "#### Total area"
   ]
  },
  {
   "cell_type": "code",
   "execution_count": 19,
   "id": "meaning-drilling",
   "metadata": {},
   "outputs": [],
   "source": [
    "# add an area field to RGI_ss and reference data\n",
    "RGI_ss['area'] = RGI_ss.to_crs({'proj':'cea'}).area\n",
    "ref_odf['area'] = ref_odf.to_crs({'proj':'cea'}).area\n",
    "nom['area'] = nom.to_crs({'proj':'cea'}).area"
   ]
  },
  {
   "cell_type": "code",
   "execution_count": 20,
   "id": "terminal-pursuit",
   "metadata": {
    "scrolled": true
   },
   "outputs": [
    {
     "name": "stdout",
     "output_type": "stream",
     "text": [
      "Area Rep [km²]: 0.0\n",
      "Area RGI6 [km²]: 130071.14640016378\n",
      "Area Nom [km²]: 0.0\n",
      "Area difference [km²]: -130071.14640016378 / percentage: -inf\n"
     ]
    },
    {
     "name": "stderr",
     "output_type": "stream",
     "text": [
      "/tmp/ipykernel_204238/1421929485.py:9: RuntimeWarning: divide by zero encountered in double_scalars\n",
      "  d_perc = (d/Area_Rep*100)\n"
     ]
    }
   ],
   "source": [
    "# print and compare area values\n",
    "Area_Rep = RGI_ss['area'].sum()/1000000\n",
    "print('Area Rep [km²]:', Area_Rep)\n",
    "Area_RGI6 = ref_odf['area'].sum()/1000000\n",
    "print('Area RGI6 [km²]:', Area_RGI6)\n",
    "Area_nom = nom['area'].sum()/1000000\n",
    "print('Area Nom [km²]:', Area_nom)\n",
    "d = (Area_Rep + Area_nom - Area_RGI6)\n",
    "d_perc = (d/Area_Rep*100)\n",
    "print('Area difference [km²]:',d,'/','percentage:', d_perc)"
   ]
  },
  {
   "cell_type": "markdown",
   "id": "increasing-textbook",
   "metadata": {},
   "source": [
    "## result of check (RGI from Glims global data base vs. RGI06 original):\n",
    "#### difference in number of glaciers: 0\n",
    "#### dublicate IDs: 0\n",
    "#### nominal glaciers: 0\n",
    "#### area difference: 562 km² (!!!) = 0.4%\n",
    "#### general comment: how comes the area difference?"
   ]
  },
  {
   "cell_type": "markdown",
   "id": "charming-broad",
   "metadata": {},
   "source": [
    "## Write out and tar "
   ]
  },
  {
   "cell_type": "code",
   "execution_count": 21,
   "id": "binary-stevens",
   "metadata": {},
   "outputs": [
    {
     "name": "stdout",
     "output_type": "stream",
     "text": [
      "Writing...\n",
      "Taring...\n",
      "RGI05/\n",
      "RGI05/RGI05.cpg\n",
      "RGI05/RGI05.dbf\n",
      "RGI05/RGI05.prj\n",
      "RGI05/RGI05.shp\n",
      "RGI05/RGI05.shx\n",
      "CompletedProcess(args=['tar', '-zcvf', '../../rgi7_data/l3_rgi7a_tar/RGI05.tar.gz', '-C', '../../rgi7_data/l3_rgi7a', 'RGI05'], returncode=0)\n"
     ]
    }
   ],
   "source": [
    "dd = mkdir(f'{output_dir}/RGI{reg:02d}/', reset=True)\n",
    "\n",
    "print('Writing...')\n",
    "RGI_ss.to_file(dd + f'RGI{reg:02d}.shp')\n",
    "\n",
    "print('Taring...')\n",
    "print(subprocess.run(['tar', '-zcvf', f'{output_dir_tar}/RGI{reg:02d}.tar.gz', '-C', output_dir, f'RGI{reg:02d}']))## Write out and tar "
   ]
  },
  {
   "cell_type": "markdown",
   "id": "unlike-barbados",
   "metadata": {},
   "source": [
    "## Find missing glaciers "
   ]
  },
  {
   "cell_type": "code",
   "execution_count": 22,
   "id": "disabled-territory",
   "metadata": {},
   "outputs": [],
   "source": [
    "from utils import haversine\n",
    "import numpy as np\n",
    "import progressbar"
   ]
  },
  {
   "cell_type": "code",
   "execution_count": 23,
   "id": "timely-nursery",
   "metadata": {},
   "outputs": [],
   "source": [
    "def xy_coord(geom):\n",
    "    \"\"\"To compute CenLon CenLat ourselves\"\"\"\n",
    "    x, y = geom.xy\n",
    "    return x[0], y[0]"
   ]
  },
  {
   "cell_type": "code",
   "execution_count": 24,
   "id": "worth-insider",
   "metadata": {},
   "outputs": [],
   "source": [
    "df_ref = ref_odf.copy()\n",
    "rgi7 = RGI_ss.copy()"
   ]
  },
  {
   "cell_type": "code",
   "execution_count": 25,
   "id": "innocent-conducting",
   "metadata": {},
   "outputs": [],
   "source": [
    "# Remove nominal\n",
    "df_ref = df_ref.loc[df_ref.Status != 2].copy()"
   ]
  },
  {
   "cell_type": "code",
   "execution_count": 26,
   "id": "shared-recording",
   "metadata": {},
   "outputs": [],
   "source": [
    "# compute CenLon CenLat ourselves\n",
    "rp = df_ref.representative_point()\n",
    "\n",
    "coordinates = np.array(list(rp.apply(xy_coord)))\n",
    "df_ref['CenLon'] = coordinates[:, 0]\n",
    "df_ref['CenLat'] = coordinates[:, 1]"
   ]
  },
  {
   "cell_type": "code",
   "execution_count": 27,
   "id": "beginning-insertion",
   "metadata": {},
   "outputs": [],
   "source": [
    "df_ref_orig = df_ref.copy()"
   ]
  },
  {
   "cell_type": "code",
   "execution_count": 28,
   "id": "british-silicon",
   "metadata": {},
   "outputs": [
    {
     "name": "stderr",
     "output_type": "stream",
     "text": [
      "100% (20843 of 20843) |##################| Elapsed Time: 0:01:40 Time:  0:01:40\n"
     ]
    }
   ],
   "source": [
    "# Loop over all RGI7 glaciers and find their equivalent in ref\n",
    "df_ref = df_ref_orig.copy()\n",
    "not_found = {}\n",
    "to_drop = []\n",
    "for i, (ref_area, lon, lat) in progressbar.progressbar(enumerate(zip(rgi7['area'].values, rgi7.CenLon.values, rgi7.CenLat.values)), max_value=len(rgi7)):\n",
    "#     dist = haversine(lon, lat, df_ref.CenLon.values, df_ref.CenLat.values)\n",
    "    dist = (lon - df_ref.CenLon.values)**2 + (lat - df_ref.CenLat.values)**2 \n",
    "    found = False\n",
    "    for j in np.argsort(dist)[:10]:\n",
    "        s6 = df_ref.iloc[j]\n",
    "        if np.allclose(s6['area'], ref_area, rtol=0.001):\n",
    "            found = True\n",
    "            to_drop.append(s6.name)\n",
    "            break\n",
    "    if not found:\n",
    "        not_found[i] = df_ref.iloc[np.argsort(dist)[:10]]\n",
    "    if len(to_drop) > 1000:\n",
    "        df_ref.drop(labels=to_drop, inplace=True)\n",
    "        to_drop = []\n",
    "df_ref.drop(labels=to_drop, inplace=True)"
   ]
  },
  {
   "cell_type": "code",
   "execution_count": 29,
   "id": "documentary-speech",
   "metadata": {},
   "outputs": [
    {
     "name": "stdout",
     "output_type": "stream",
     "text": [
      "20843 20261\n"
     ]
    }
   ],
   "source": [
    "print(len(not_found), len(df_ref))"
   ]
  },
  {
   "cell_type": "code",
   "execution_count": 30,
   "id": "fiscal-captain",
   "metadata": {},
   "outputs": [],
   "source": [
    "pb_rgi7 = rgi7.iloc[list(not_found.keys())]"
   ]
  },
  {
   "cell_type": "code",
   "execution_count": 31,
   "id": "surface-giant",
   "metadata": {},
   "outputs": [
    {
     "data": {
      "image/png": "[encoded data removed]",
      "text/plain": [
       "<Figure size 432x288 with 1 Axes>"
      ]
     },
     "metadata": {
      "needs_background": "light"
     },
     "output_type": "display_data"
    }
   ],
   "source": [
    "pb_rgi7.plot(edgecolor='k');\n",
    "plt.title('GLIMS');"
   ]
  },
  {
   "cell_type": "code",
   "execution_count": 32,
   "id": "southern-blackberry",
   "metadata": {},
   "outputs": [
    {
     "data": {
      "image/png": "[encoded data removed]",
      "text/plain": [
       "<Figure size 432x288 with 1 Axes>"
      ]
     },
     "metadata": {
      "needs_background": "light"
     },
     "output_type": "display_data"
    }
   ],
   "source": [
    "df_ref.plot(edgecolor='k');\n",
    "plt.title('RGI6');"
   ]
  },
  {
   "cell_type": "code",
   "execution_count": 33,
   "id": "abroad-oracle",
   "metadata": {},
   "outputs": [],
   "source": [
    "# Output directories\n",
    "output_dir = mkdir(os.path.join(data_dir, 'l3_problem_glaciers'))\n",
    "output_dir_tar = mkdir(os.path.join(data_dir, 'l3_problem_glaciers_tar'))"
   ]
  },
  {
   "cell_type": "code",
   "execution_count": 34,
   "id": "enclosed-ordering",
   "metadata": {},
   "outputs": [
    {
     "name": "stdout",
     "output_type": "stream",
     "text": [
      "Writing...\n",
      "Taring...\n",
      "RGI05/\n",
      "RGI05/RGI05_glims.cpg\n",
      "RGI05/RGI05_glims.dbf\n",
      "RGI05/RGI05_glims.prj\n",
      "RGI05/RGI05_glims.shp\n",
      "RGI05/RGI05_glims.shx\n",
      "RGI05/RGI05_ref.cpg\n",
      "RGI05/RGI05_ref.dbf\n",
      "RGI05/RGI05_ref.prj\n",
      "RGI05/RGI05_ref.shp\n",
      "RGI05/RGI05_ref.shx\n",
      "CompletedProcess(args=['tar', '-zcvf', '../../rgi7_data/l3_problem_glaciers_tar/RGI05.tar.gz', '-C', '../../rgi7_data/l3_problem_glaciers', 'RGI05'], returncode=0)\n"
     ]
    }
   ],
   "source": [
    "dd = mkdir(f'{output_dir}/RGI{reg:02d}/', reset=True)\n",
    "\n",
    "print('Writing...')\n",
    "pb_rgi7.to_file(dd + f'RGI{reg:02d}_glims.shp')\n",
    "df_ref.to_file(dd + f'RGI{reg:02d}_ref.shp')\n",
    "\n",
    "print('Taring...')\n",
    "print(subprocess.run(['tar', '-zcvf', f'{output_dir_tar}/RGI{reg:02d}.tar.gz', '-C', output_dir, f'RGI{reg:02d}']))"
   ]
  },
  {
   "cell_type": "code",
   "execution_count": 42,
   "id": "substantial-thickness",
   "metadata": {},
   "outputs": [
    {
     "name": "stderr",
     "output_type": "stream",
     "text": [
      "/tmp/ipykernel_204238/2475938077.py:1: UserWarning: Geometry is in a geographic CRS. Results from 'area' are likely incorrect. Use 'GeoSeries.to_crs()' to re-project geometries to a projected CRS before this operation.\n",
      "\n",
      "  RGI_ss.area.sum()\n"
     ]
    },
    {
     "data": {
      "text/plain": [
       "0.0"
      ]
     },
     "execution_count": 42,
     "metadata": {},
     "output_type": "execute_result"
    }
   ],
   "source": [
    "RGI_ss.area.sum()"
   ]
  }
 ],
 "metadata": {
  "kernelspec": {
   "display_name": "Python 3 (ipykernel)",
   "language": "python",
   "name": "python3"
  },
  "language_info": {
   "codemirror_mode": {
    "name": "ipython",
    "version": 3
   },
   "file_extension": ".py",
   "mimetype": "text/x-python",
   "name": "python",
   "nbconvert_exporter": "python",
   "pygments_lexer": "ipython3",
   "version": "3.8.12"
  }
 },
 "nbformat": 4,
 "nbformat_minor": 5
}
