{
 "cells": [
  {
   "cell_type": "markdown",
   "id": "appointed-purchase",
   "metadata": {},
   "source": [
    "# RGI05 (Greenland Periphery)\n",
    "\n",
    "F. Maussion, S. Galos & F. Roura-Adseiras\n",
    "\n",
    "Goal: same as RGI6 except in Northeast with an update from Zürich."
   ]
  },
  {
   "cell_type": "code",
   "execution_count": null,
   "id": "enabling-trainer",
   "metadata": {},
   "outputs": [],
   "source": [
    "import pandas as pd\n",
    "import geopandas as gpd\n",
    "import subprocess\n",
    "import matplotlib.pyplot as plt\n",
    "import matplotlib.patches as mpatches\n",
    "import seaborn as sns\n",
    "import numpy as np\n",
    "from utils import mkdir, submission_summary, needs_size_filter, size_filter, plot_map, plot_date_hist\n",
    "import os"
   ]
  },
  {
   "cell_type": "markdown",
   "id": "sustained-riverside",
   "metadata": {},
   "source": [
    "## Files and storage paths"
   ]
  },
  {
   "cell_type": "code",
   "execution_count": null,
   "id": "joined-range",
   "metadata": {},
   "outputs": [],
   "source": [
    "# Region of interest\n",
    "reg = 5\n",
    "\n",
    "# go down from rgi7_scripts/workflow\n",
    "data_dir = '../../rgi7_data/'\n",
    "\n",
    "# Level 2 GLIMS files\n",
    "l2_dir = os.path.join(data_dir, 'l2_sel_reg_tars')\n",
    "\n",
    "# Output directories\n",
    "output_dir = mkdir(os.path.join(data_dir, 'l3_rgi7a'))\n",
    "output_dir_tar = mkdir(os.path.join(data_dir, 'l3_rgi7a_tar'))\n",
    "\n",
    "# RGI v6 file for comparison later \n",
    "rgi6_reg_file = os.path.join(data_dir, 'l0_RGIv6', '05_rgi60_GreenlandPeriphery.zip')"
   ]
  },
  {
   "cell_type": "markdown",
   "id": "loving-exclusive",
   "metadata": {},
   "source": [
    "### Load the input data"
   ]
  },
  {
   "cell_type": "code",
   "execution_count": null,
   "id": "sporting-sociology",
   "metadata": {},
   "outputs": [],
   "source": [
    "# Read L2 files\n",
    "shp = gpd.read_file('tar://' + l2_dir + f'/RGI{reg:02d}.tar.gz/RGI{reg:02d}/RGI{reg:02d}.shp')"
   ]
  },
  {
   "cell_type": "markdown",
   "id": "d17ba384-4c22-4e94-bc1f-af74e189af29",
   "metadata": {},
   "source": [
    "### List of submissions "
   ]
  },
  {
   "cell_type": "code",
   "execution_count": null,
   "id": "f00806a5-414a-4809-b739-2e58ef7da485",
   "metadata": {},
   "outputs": [],
   "source": [
    "sdf, _ = submission_summary(shp)\n",
    "sdf"
   ]
  },
  {
   "cell_type": "markdown",
   "id": "bb260851-3bea-4cd1-b258-1a516aae0a85",
   "metadata": {},
   "source": [
    "Notes based on individual submission evaluations: \n",
    "\n",
    "- 580: This is the RGI\n",
    "- 729: updated from a region in NE"
   ]
  },
  {
   "cell_type": "code",
   "execution_count": null,
   "id": "4dcdbea9-964a-4d40-878a-4f6a2b47d1a8",
   "metadata": {},
   "outputs": [],
   "source": [
    "# # Write out selection in intermediate shape files for manual GIS review\n",
    "# tmp_output_dir = mkdir(os.path.join(data_dir, 'l0_tmp_data', f'rgi{reg:02d}_inventories'))\n",
    "# tmp_output_dir_tar = mkdir(os.path.join(data_dir, 'l0_tmp_data'))\n",
    "# for subid in shp.subm_id.unique():\n",
    "#     s_loc = shp.loc[shp.subm_id == subid]\n",
    "#     s_loc.to_file(tmp_output_dir + f'/subm_{int(subid):03d}.shp')\n",
    "# print('Taring...')\n",
    "# print(subprocess.run(['tar', '-zcvf', f'{tmp_output_dir_tar}/rgi{reg:02d}_inventories.tar.gz', '-C', \n",
    "#                       os.path.join(data_dir, 'l0_tmp_data'), f'rgi{reg:02d}_inventories']))"
   ]
  },
  {
   "cell_type": "markdown",
   "id": "11c6ce00-89a0-4239-a679-f7dd7d3cbdc5",
   "metadata": {},
   "source": [
    "### Apply selection criteria to create the RGI7 data subset"
   ]
  },
  {
   "cell_type": "code",
   "execution_count": null,
   "id": "polish-psychology",
   "metadata": {},
   "outputs": [],
   "source": [
    "# We use 'subm_id' = 580 as our main dataset\n",
    "RGI_ss_580 = shp.loc[shp['subm_id'] == 580].copy()\n",
    "RGI_ss_580['is_rgi6'] = True\n",
    "\n",
    "# The subm_id = 729 will be added to subm_id=580 after some actions\n",
    "RGI_ss_729 = shp.loc[shp['subm_id'] == 729].copy()\n",
    "RGI_ss_729['is_rgi6'] = False"
   ]
  },
  {
   "cell_type": "code",
   "execution_count": null,
   "id": "effective-exemption",
   "metadata": {},
   "outputs": [],
   "source": [
    "# Read box containing glaciers with subm_id = 729\n",
    "from utils import open_zip_shapefile\n",
    "rgi_729_box = data_dir + f'/l0_support_data/rgi{reg:02d}_north_outline_sel_box.zip'\n",
    "box = open_zip_shapefile(rgi_729_box)"
   ]
  },
  {
   "cell_type": "code",
   "execution_count": null,
   "id": "excellent-newfoundland",
   "metadata": {},
   "outputs": [],
   "source": [
    "# Plot correct glaciers and shapefile\n",
    "base = box.plot(color='none', edgecolor='black')\n",
    "RGI_ss_729.geometry.plot(ax=base, color='C0', markersize=5);"
   ]
  },
  {
   "cell_type": "markdown",
   "id": "blind-hospital",
   "metadata": {},
   "source": [
    "We see that for sumb_id = 729 all glaciers fall inside the box polygon."
   ]
  },
  {
   "cell_type": "markdown",
   "id": "abroad-sending",
   "metadata": {},
   "source": [
    "Now we remove the glaciers inside and add the RGI_ss_729 to RGI_ss:"
   ]
  },
  {
   "cell_type": "code",
   "execution_count": null,
   "id": "premium-pickup",
   "metadata": {},
   "outputs": [],
   "source": [
    "# Save glacier centroid in rp:\n",
    "rp = RGI_ss_580.representative_point()\n",
    "\n",
    "rp = rp.to_frame('geometry')\n",
    "rp['orig_index'] = RGI_ss_580.index\n",
    "\n",
    "# Find non overlying polygons\n",
    "difference = gpd.overlay(rp, box, how='difference')\n",
    "\n",
    "# Create temporary variable\n",
    "RGI_ss_580 = RGI_ss_580.loc[difference['orig_index']]"
   ]
  },
  {
   "cell_type": "code",
   "execution_count": null,
   "id": "amber-staff",
   "metadata": {},
   "outputs": [],
   "source": [
    "# Merge original RGI 580 (without the glacier in the box) and the RGI 729\n",
    "rgi7 = pd.concat([RGI_ss_580, RGI_ss_729])"
   ]
  },
  {
   "cell_type": "markdown",
   "id": "4e959dd1-2868-48e0-8527-8ddf04e5189b",
   "metadata": {},
   "source": [
    "### Some sanity checks "
   ]
  },
  {
   "cell_type": "code",
   "execution_count": null,
   "id": "4ec72668-2941-4385-8b32-7e13e65283ef",
   "metadata": {},
   "outputs": [],
   "source": [
    "needs_size_filter(rgi7)"
   ]
  },
  {
   "cell_type": "code",
   "execution_count": null,
   "id": "570f71cf-3d8d-4625-b88a-122ee3dd0629",
   "metadata": {},
   "outputs": [],
   "source": [
    "sdf, df_class = submission_summary(rgi7)\n",
    "df_class"
   ]
  },
  {
   "cell_type": "code",
   "execution_count": null,
   "id": "07f2abab-6416-4e5b-8e1f-3938c7b10ef7",
   "metadata": {},
   "outputs": [],
   "source": [
    "# Check the orphaned rock outcrops\n",
    "orphan_f = os.path.join(data_dir, 'l1_orphan_interiors', f'RGI{reg:02d}', f'RGI{reg:02d}.shp')\n",
    "if os.path.exists(orphan_f):\n",
    "    orphan_f = gpd.read_file(orphan_f)\n",
    "    if np.any(np.isin(rgi7.subm_id.unique(), orphan_f.subm_id.unique())):\n",
    "        print('Orphan rock outcrops detected.')"
   ]
  },
  {
   "cell_type": "markdown",
   "id": "0ca47234-155a-4071-8415-30b422006b7d",
   "metadata": {},
   "source": [
    "### Plots "
   ]
  },
  {
   "cell_type": "code",
   "execution_count": null,
   "id": "af1414d8-d2d6-4a4c-b644-8447ef8b68ca",
   "metadata": {},
   "outputs": [],
   "source": [
    "plot_map(rgi7, reg, aspect=2, loc='lower right')"
   ]
  },
  {
   "cell_type": "code",
   "execution_count": null,
   "id": "7711c8b1-4054-422d-9bf1-48e11e3fb876",
   "metadata": {},
   "outputs": [],
   "source": [
    "plot_map(rgi7, reg, is_rgi6=True, aspect=2, loc='lower right')"
   ]
  },
  {
   "cell_type": "code",
   "execution_count": null,
   "id": "9019a603-ded8-48cd-816a-4a79d04139f0",
   "metadata": {},
   "outputs": [],
   "source": [
    "plot_date_hist(rgi7, reg)"
   ]
  },
  {
   "cell_type": "markdown",
   "id": "654a6209-7cb5-42a1-b2ab-eda87d00e7d5",
   "metadata": {},
   "source": [
    "### Text for github"
   ]
  },
  {
   "cell_type": "code",
   "execution_count": null,
   "id": "5cfdadb2-44eb-4854-8636-d91024af21ae",
   "metadata": {},
   "outputs": [],
   "source": [
    "fgh = sdf.T\n",
    "fgh"
   ]
  },
  {
   "cell_type": "code",
   "execution_count": null,
   "id": "8156b5e6-ae3a-4932-a4b0-ae2f2cacb99b",
   "metadata": {},
   "outputs": [],
   "source": [
    "print(fgh.to_markdown(headers=np.append(['subm_id'], fgh.columns)))"
   ]
  },
  {
   "cell_type": "markdown",
   "id": "0f84d686-8a57-47ac-ac30-aa0c238e57f4",
   "metadata": {},
   "source": [
    "## Write out and tar "
   ]
  },
  {
   "cell_type": "code",
   "execution_count": null,
   "id": "115ff2db-e1b0-4a2b-bfb8-42068cd57b73",
   "metadata": {},
   "outputs": [],
   "source": [
    "dd = mkdir(f'{output_dir}/RGI{reg:02d}/', reset=True)\n",
    "\n",
    "print('Writing...')\n",
    "rgi7.to_file(dd + f'RGI{reg:02d}.shp')\n",
    "\n",
    "print('Taring...')\n",
    "print(subprocess.run(['tar', '-zcvf', f'{output_dir_tar}/RGI{reg:02d}.tar.gz', '-C', output_dir, f'RGI{reg:02d}']))"
   ]
  },
  {
   "cell_type": "markdown",
   "id": "9d62b937-5f49-4e36-8588-d2e4b0573dd0",
   "metadata": {},
   "source": [
    "## New RGI-file created - Check result!"
   ]
  },
  {
   "cell_type": "markdown",
   "id": "fd1c5f81-eb50-4ef2-beaf-7aaf0c133895",
   "metadata": {},
   "source": [
    "### load reference data (here RGI6 and Philipp) to enable comparison"
   ]
  },
  {
   "cell_type": "code",
   "execution_count": null,
   "id": "c744b8d4-14df-4895-bd58-4c6c121f14c5",
   "metadata": {},
   "outputs": [],
   "source": [
    "# load reference data\n",
    "ref_rgi6 = open_zip_shapefile(rgi6_reg_file)\n",
    "ref_pr = open_zip_shapefile(data_dir + '/l0_support_data/c3s_gi_rgi05_aero_1978.zip')"
   ]
  },
  {
   "cell_type": "markdown",
   "id": "4e0dbe9e-9f27-4350-87d8-cba9f0af0cc9",
   "metadata": {},
   "source": [
    "### Number of elements (differences do not depict problems)"
   ]
  },
  {
   "cell_type": "code",
   "execution_count": null,
   "id": "4bb8cd27-de90-4df1-b3f7-d52d61b88957",
   "metadata": {},
   "outputs": [],
   "source": [
    "print('Number of glaciers in new RGI:', len(rgi7))\n",
    "print('Number of glaciers in RGI6:', len(ref_rgi6))\n",
    "print('Difference:', len(rgi7)-len(ref_rgi6))"
   ]
  },
  {
   "cell_type": "markdown",
   "id": "a376c20a-a8e1-45ce-8326-baa93b47b8dd",
   "metadata": {},
   "source": [
    "### How many nominal glaciers were there in RGI06?"
   ]
  },
  {
   "cell_type": "code",
   "execution_count": null,
   "id": "abc8eafa-568a-4a2a-a7da-31e6b4d49ee5",
   "metadata": {},
   "outputs": [],
   "source": [
    "len(ref_rgi6.loc[ref_rgi6.Status == 2])"
   ]
  },
  {
   "cell_type": "markdown",
   "id": "990285fc-9d51-4c9c-9d27-05468c203433",
   "metadata": {},
   "source": [
    "### Total area"
   ]
  },
  {
   "cell_type": "code",
   "execution_count": null,
   "id": "d80d75fa-9223-4b77-aa08-c1840d8cc5ce",
   "metadata": {},
   "outputs": [],
   "source": [
    "# add an area field to RGI_ss and reference data\n",
    "ref_rgi6['area'] = ref_rgi6.to_crs({'proj':'cea'}).area\n",
    "ref_pr['area'] = ref_pr.to_crs({'proj':'cea'}).area"
   ]
  },
  {
   "cell_type": "markdown",
   "id": "dea0669f-291a-4037-ba37-861c5a4996c6",
   "metadata": {},
   "source": [
    "### Northern Greenland (729, Rastner, no problem there):  "
   ]
  },
  {
   "cell_type": "code",
   "execution_count": null,
   "id": "d4d52868-b8c8-4bd8-85ed-15767af6ca6b",
   "metadata": {},
   "outputs": [],
   "source": [
    "print('Number of glaciers in RGI7 subset:', len(RGI_ss_729))\n",
    "print('Number of glaciers in reference data (FP):', len(ref_pr))\n",
    "print('Difference:', len(RGI_ss_729)-len(ref_pr))"
   ]
  },
  {
   "cell_type": "code",
   "execution_count": null,
   "id": "8faab4f5-55f9-4983-94fa-77c662be03c4",
   "metadata": {},
   "outputs": [],
   "source": [
    "# print and compare area values\n",
    "Area_7 = RGI_ss_729['area'].sum() * 1e-6\n",
    "print('Area RGI7 [km²]:', Area_7)\n",
    "Area_6 = ref_pr['area'].sum() * 1e-6\n",
    "print('Area RGI6 [km²]:', Area_6)\n",
    "d = (Area_7 - Area_6)\n",
    "print('Area difference [km²]:', d)"
   ]
  },
  {
   "cell_type": "markdown",
   "id": "8daf6339-994c-445d-ae3f-51e1e941a583",
   "metadata": {},
   "source": [
    "This is brilliant! No issue there."
   ]
  },
  {
   "cell_type": "markdown",
   "id": "2e133714-f1e9-4da4-8ccb-f32baadce6da",
   "metadata": {},
   "source": [
    "### Rest of Greenland (problems):  "
   ]
  },
  {
   "cell_type": "code",
   "execution_count": null,
   "id": "76fa931e-3353-4b20-ba96-d094f9a0c4a0",
   "metadata": {},
   "outputs": [],
   "source": [
    "# Save glacier centroid in rp:\n",
    "rp = ref_rgi6.representative_point()\n",
    "\n",
    "rp = rp.to_frame('geometry')\n",
    "rp['orig_index'] = ref_rgi6.index\n",
    "\n",
    "# Find non overlying polygons\n",
    "difference = gpd.overlay(rp, box, how='difference')\n",
    "\n",
    "# Create temporal variable\n",
    "ref_rgi6_sel = ref_rgi6.loc[difference['orig_index']]"
   ]
  },
  {
   "cell_type": "code",
   "execution_count": null,
   "id": "58be73e3-47d7-4854-930e-ffd9edd728e8",
   "metadata": {},
   "outputs": [],
   "source": [
    "needs_size_filter(ref_rgi6_sel)"
   ]
  },
  {
   "cell_type": "code",
   "execution_count": null,
   "id": "073a0b94-83c0-4867-9a90-76cd682df2d4",
   "metadata": {},
   "outputs": [],
   "source": [
    "print('Number of glaciers in RGI7 subset:', len(RGI_ss_580))\n",
    "print('Number of glaciers in reference data (FP):', len(ref_rgi6_sel))\n",
    "print('Difference:', len(RGI_ss_580)-len(ref_rgi6_sel))"
   ]
  },
  {
   "cell_type": "code",
   "execution_count": null,
   "id": "e7c8a2bf-ed1b-4435-9d16-df66e7dfa613",
   "metadata": {},
   "outputs": [],
   "source": [
    "# print and compare area values\n",
    "Area_7 = RGI_ss_580['area'].sum() * 1e-6\n",
    "print('Area RGI7 [km²]:', Area_7)\n",
    "Area_6 = ref_rgi6_sel['area'].sum() * 1e-6\n",
    "print('Area RGI6 [km²]:', Area_6)\n",
    "d = (Area_7 - Area_6)\n",
    "print('Area difference [km²]:', d)"
   ]
  },
  {
   "cell_type": "markdown",
   "id": "c65e3e09-d422-43b3-afa8-22bfb5bec3ad",
   "metadata": {},
   "source": [
    "Large issue with rock outcrops. Reported here: https://github.com/GLIMS-RGI/rgi7_scripts/issues/11"
   ]
  }
 ],
 "metadata": {
  "kernelspec": {
   "display_name": "Python 3",
   "language": "python",
   "name": "python3"
  },
  "language_info": {
   "codemirror_mode": {
    "name": "ipython",
    "version": 3
   },
   "file_extension": ".py",
   "mimetype": "text/x-python",
   "name": "python",
   "nbconvert_exporter": "python",
   "pygments_lexer": "ipython3",
   "version": "3.8.8"
  }
 },
 "nbformat": 4,
 "nbformat_minor": 5
}
