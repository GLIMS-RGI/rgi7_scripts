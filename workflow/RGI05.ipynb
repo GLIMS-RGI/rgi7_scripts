{
 "cells": [
  {
   "cell_type": "markdown",
   "id": "promotional-industry",
   "metadata": {},
   "source": [
    "# RGI-07: Region 05 (Greenland Periphery)\n",
    "##### F. Maussion, S. Galos & F. Roura-Adseiras, November 2021\n",
    "\n",
    "Goal: same as RGI6"
   ]
  },
  {
   "cell_type": "code",
   "execution_count": 1,
   "id": "packed-things",
   "metadata": {},
   "outputs": [],
   "source": [
    "import geopandas as gpd\n",
    "import pandas as pd\n",
    "import matplotlib.pyplot as plt\n",
    "import subprocess\n",
    "import os\n",
    "import numpy as np\n",
    "from utils import mkdir"
   ]
  },
  {
   "cell_type": "markdown",
   "id": "dressed-induction",
   "metadata": {},
   "source": [
    "## Files and storage paths"
   ]
  },
  {
   "cell_type": "code",
   "execution_count": 2,
   "id": "laden-suspension",
   "metadata": {},
   "outputs": [],
   "source": [
    "# Region of interest\n",
    "reg = 5\n",
    "\n",
    "# go down from rgi7_scripts/workflow\n",
    "data_dir = '../../rgi7_data/'\n",
    "\n",
    "# Level 2 GLIMS files\n",
    "l2_dir = os.path.join(data_dir, 'l2_sel_reg_tars')\n",
    "\n",
    "# Output directories\n",
    "output_dir = mkdir(os.path.join(data_dir, 'l3_rgi7a'))\n",
    "output_dir_tar = mkdir(os.path.join(data_dir, 'l3_rgi7a_tar'))\n",
    "\n",
    "# RGI v6 file for comparison later \n",
    "rgi6_reg_file = os.path.join(data_dir, 'l0_RGIv6', '05_rgi60_GreenlandPeriphery.zip')"
   ]
  },
  {
   "cell_type": "markdown",
   "id": "alternative-stopping",
   "metadata": {},
   "source": [
    "### Load the input data"
   ]
  },
  {
   "cell_type": "code",
   "execution_count": 3,
   "id": "champion-screw",
   "metadata": {},
   "outputs": [],
   "source": [
    "# Read L2 files\n",
    "shp = gpd.read_file('tar://' + l2_dir + f'/RGI{reg:02d}.tar.gz/RGI{reg:02d}/RGI{reg:02d}.shp')\n"
   ]
  },
  {
   "cell_type": "markdown",
   "id": "fce5cba2-e851-4790-ab36-52d230e0f261",
   "metadata": {},
   "source": [
    "### List of submissions"
   ]
  },
  {
   "cell_type": "code",
   "execution_count": 4,
   "id": "de1c06a3-8ed0-4343-9360-1fb827da4a13",
   "metadata": {},
   "outputs": [
    {
     "name": "stdout",
     "output_type": "stream",
     "text": [
      " 92.0 Jiskoot, Hester 1995\n",
      " 474.0 Meyer, Joanna 2001\n",
      " 475.0 Meyer, Joanna 2001\n",
      " 580.0 Bolch, Tobias; Howat, Ian; LeBris, Raymond; Moelg, Nico; Negrete, A.; Paul, Frank; Rastner, Philipp 2002 2000 2000 2000 2002 2002 2001 2001 2000 1999 1999 2001 2001 1999 2000 2001 2003 2002 2000 2002 2003 2001 2007 2000 2000 2002 2001 1999 2001 2003 2001 1999 2002 2004 2002 1999 2000 2010 2001 2003 2003 2004 1994 2004 2001 2009\n",
      " 696.0 Paul, Frank; Rastner, Philipp; Schaub, Yvonne 2015 2016 2016\n",
      " 729.0 Paul, Frank; Rastner, Philipp 1978\n"
     ]
    }
   ],
   "source": [
    "toprint = []\n",
    "for subid in shp.subm_id.unique():\n",
    "    s_loc = shp.loc[shp.subm_id == subid]\n",
    "    s = ''\n",
    "    for c in ['subm_id', 'analysts', 'src_date']:\n",
    "        toprint = s_loc[c].unique()\n",
    "        if c != 'src_date':\n",
    "            s += ' ' + (str(toprint[0]))\n",
    "        else:\n",
    "            for d in toprint:\n",
    "                s += ' ' + d[:4]\n",
    "    print(s)"
   ]
  },
  {
   "cell_type": "markdown",
   "id": "furnished-sender",
   "metadata": {},
   "source": [
    "## Apply selection criteria to reproduce RGI-6 for this region and check result"
   ]
  },
  {
   "cell_type": "markdown",
   "id": "patent-realtor",
   "metadata": {},
   "source": [
    "### Step 1: extract RGI6 from GLIMS data and do a check"
   ]
  },
  {
   "cell_type": "code",
   "execution_count": 5,
   "id": "88daf32a-e7a1-415b-86a4-8e6c2bc056d0",
   "metadata": {},
   "outputs": [],
   "source": [
    "# We use 'subm_id' = 580 as our main dataset\n",
    "RGI_ss = shp.loc[shp['subm_id'] == 580].copy()\n",
    "\n",
    "# The subm_id = 729 will be added to subm_id=580 after some actions\n",
    "RGI_ss_729 = shp.loc[shp['subm_id'] == 729].copy()"
   ]
  },
  {
   "cell_type": "markdown",
   "id": "81e4d22e-71d8-4ef2-be25-df291853a556",
   "metadata": {},
   "source": [
    "`subm_id == 580` is exactly equivalent to the old `shp['geog_area']=='Randolph Glacier Inventory'`"
   ]
  },
  {
   "cell_type": "code",
   "execution_count": 6,
   "id": "831b8822-7e43-4236-a702-079fc3c84b4d",
   "metadata": {},
   "outputs": [],
   "source": [
    "# Write out selection in intermediate shape files for manual GIS review \n",
    "# (corresponding to subm_id = 580 (base inventory) and subm_id = 729 (region to be added).)\n",
    "#tmp_output_dir = mkdir(os.path.join(data_dir, 'l0_tmp_data', 'rgi05_inventories'))\n",
    "#tmp_output_dir_tar = mkdir(os.path.join(data_dir, 'l0_tmp_data'))\n",
    "\n",
    "#for subid in [580, 729]:\n",
    "#    s_loc = shp.loc[shp.subm_id == subid]\n",
    "#    s_loc.to_file(tmp_output_dir + f'/subm_{int(subid):03d}.shp')\n",
    "    \n",
    "#print('Taring...')\n",
    "#print(subprocess.run(['tar', '-zcvf', f'{tmp_output_dir_tar}/rgi05_inventories.tar.gz', '-C', \n",
    "#                      os.path.join(data_dir, 'l0_tmp_data'), 'rgi05_inventories']))"
   ]
  },
  {
   "cell_type": "code",
   "execution_count": 7,
   "id": "cfab91cc-b98f-4cd2-bc4d-629297fd9f2f",
   "metadata": {},
   "outputs": [
    {
     "data": {
      "text/plain": [
       "<AxesSubplot:>"
      ]
     },
     "execution_count": 7,
     "metadata": {},
     "output_type": "execute_result"
    },
    {
     "data": {
      "image/png": "[encoded data removed]",
      "text/plain": [
       "<Figure size 432x288 with 1 Axes>"
      ]
     },
     "metadata": {
      "needs_background": "light"
     },
     "output_type": "display_data"
    }
   ],
   "source": [
    "# Read box containing glaciers with subm_id = 729\n",
    "#filename = 'zip:///' + data_dir + f'/l0_tmp_data/rgi{reg:02d}_north_outline_sel_box.zip/rgi{reg:02d}_north_outline_sel_box.shp'\n",
    "#print(filename)\n",
    "#shp = gpd.read_file(filename)\n",
    "\n",
    "# For some reason I cannot open \".tar\" or \".zip\". \n",
    "# It may have something to do with the fact that I have the data in the windows partition + simbolic link, not in ubuntu pertition.\n",
    "filename = data_dir + f'/l0_support_data/rgi{reg:02d}_north_outline_sel_box/rgi{reg:02d}_north_outline_sel_box.shp'\n",
    "box = gpd.read_file(filename)\n",
    "\n",
    "box.plot()\n",
    "\n",
    "###### this part is to be finished in order to deal with zipfiles #######\n",
    "#fnames = []\n",
    "#with zipfile.ZipFile(levan_file, \"r\") as z:\n",
    "#    for f in z.filelist:\n",
    "#        if '.shp' in f.filename and f.filename.endswith('2000.shp'):\n",
    "#            print(f.filename)\n",
    "#gi05_north_outline_sel_box.shp            fnames.append(f.filename)"
   ]
  },
  {
   "cell_type": "code",
   "execution_count": 8,
   "id": "752742c6-331f-4676-b88e-d28b30e055b0",
   "metadata": {},
   "outputs": [],
   "source": [
    "# create geographical points from existing lon lat\n",
    "#RGI_ss_729 = gpd.GeoDataFrame(RGI_ss_729, geometry=gpd.points_from_xy(RGI_ss_729.CenLon, RGI_ss_729.CenLat, crs=shp.crs))\n",
    "\n",
    "#plot points and shapefile\n",
    "#base = shp.plot(color='white', edgecolor='black')\n",
    "#RGI_ss_729.geometry.plot(ax=base, marker='o', color='red', markersize=5)\n",
    "\n",
    "# number of points inside the shapefile, all of them should be inside:\n",
    "#print('Are all points inside the box? '+ str(all(RGI_ss_729.geometry.within(shp.geometry.iloc[0]) == 1)))"
   ]
  },
  {
   "cell_type": "markdown",
   "id": "f1409a99-8c2f-4cb9-b236-686e4cd8f56c",
   "metadata": {},
   "source": [
    "We see that for sumb_id 729 all the points fall inside the box polygon.\n",
    "Now let's check what points from the `sumb_id=580` are inside the box as well:"
   ]
  },
  {
   "cell_type": "code",
   "execution_count": 9,
   "id": "d0e85962-8eef-4d98-956d-c159bd76b37d",
   "metadata": {},
   "outputs": [],
   "source": [
    "#geometry = RGI_ss.geometry\n",
    "#RGI_ss = gpd.GeoDataFrame(RGI_ss, geometry=gpd.points_from_xy(RGI_ss.CenLon, RGI_ss.CenLat, crs=shp.crs))\n",
    "\n",
    "#base = shp.plot(color='white', edgecolor='black', figsize=(20, 10))\n",
    "#RGI_ss.geometry.plot(ax=base, marker='o', color='red', markersize=5)\n",
    "\n",
    "#print(\"There are \" + str(RGI_ss.geometry.within(shp.geometry.iloc[0]).sum()) + ' glaciers inside the box')"
   ]
  },
  {
   "cell_type": "markdown",
   "id": "4c28f8b4-713f-4e2d-8838-b9579a637145",
   "metadata": {},
   "source": [
    "Now we remove the glaciers inside and add the RGI_ss_729 to RGI_ss:"
   ]
  },
  {
   "cell_type": "code",
   "execution_count": 10,
   "id": "ef3a0bae-688b-4c99-9c52-72d736622df9",
   "metadata": {},
   "outputs": [
    {
     "data": {
      "text/plain": [
       "<AxesSubplot:>"
      ]
     },
     "execution_count": 10,
     "metadata": {},
     "output_type": "execute_result"
    },
    {
     "data": {
      "image/png": "[encoded data removed]",
      "text/plain": [
       "<Figure size 1440x720 with 1 Axes>"
      ]
     },
     "metadata": {
      "needs_background": "light"
     },
     "output_type": "display_data"
    }
   ],
   "source": [
    "rp = RGI_ss.representative_point()\n",
    "\n",
    "rp = rp.to_frame('geometry')\n",
    "rp['orig_index'] = RGI_ss.index\n",
    "\n",
    "intersect = gpd.overlay(rp, box, how='difference')\n",
    "intersect\n",
    "\n",
    "#create temporal var\n",
    "RGI_ss_dum = RGI_ss.loc[intersect['orig_index']]\n",
    "\n",
    "base = box.plot(color='white', edgecolor='black', figsize=(20, 10))\n",
    "\n",
    "RGI_ss_dum.geometry.plot(ax=base, color='red', markersize=5)"
   ]
  },
  {
   "cell_type": "code",
   "execution_count": 11,
   "id": "3b17b3f7-f6fd-4817-a789-6c423562ec80",
   "metadata": {},
   "outputs": [
    {
     "data": {
      "text/plain": [
       "<AxesSubplot:>"
      ]
     },
     "execution_count": 11,
     "metadata": {},
     "output_type": "execute_result"
    },
    {
     "data": {
      "image/png": "[encoded data removed]",
      "text/plain": [
       "<Figure size 1440x720 with 1 Axes>"
      ]
     },
     "metadata": {
      "needs_background": "light"
     },
     "output_type": "display_data"
    }
   ],
   "source": [
    "# Merge original RGI 580 without the glacier in the box and the RGI 729\n",
    "RGI_ss = pd.concat([RGI_ss_dum, RGI_ss_729])\n",
    "base = box.plot(color='white', edgecolor='black', figsize=(20, 10))\n",
    "RGI_ss.geometry.plot(ax=base, color='red', markersize=5)"
   ]
  },
  {
   "cell_type": "markdown",
   "id": "imported-projector",
   "metadata": {},
   "source": [
    "#### load reference data (here RGI6) to enable comparison"
   ]
  },
  {
   "cell_type": "code",
   "execution_count": 12,
   "id": "colored-durham",
   "metadata": {},
   "outputs": [],
   "source": [
    "# Just to know the name of the file to open from zip\n",
    "import zipfile\n",
    "with zipfile.ZipFile(rgi6_reg_file, \"r\") as z:\n",
    "    for f in z.filelist:\n",
    "        if '.shp' in f.filename:\n",
    "            fname = f.filename\n",
    "\n",
    "# load reference data\n",
    "ref_odf = gpd.read_file('zip://' + rgi6_reg_file + '/' + fname)"
   ]
  },
  {
   "cell_type": "markdown",
   "id": "convinced-offering",
   "metadata": {},
   "source": [
    "#### Number of elements (differences do not necessarily depict major problems)"
   ]
  },
  {
   "cell_type": "code",
   "execution_count": 13,
   "id": "killing-morris",
   "metadata": {},
   "outputs": [
    {
     "name": "stdout",
     "output_type": "stream",
     "text": [
      "Number of glaciers in new RGI subset: 20843\n",
      "Number of glaciers in reference data: 20261\n",
      "Difference: 582\n"
     ]
    }
   ],
   "source": [
    "print('Number of glaciers in new RGI subset:', len(RGI_ss))\n",
    "print('Number of glaciers in reference data:', len(ref_odf))\n",
    "print('Difference:', len(RGI_ss)-len(ref_odf))"
   ]
  },
  {
   "cell_type": "markdown",
   "id": "floral-paradise",
   "metadata": {},
   "source": [
    "#### check for duplicate glacier IDs"
   ]
  },
  {
   "cell_type": "code",
   "execution_count": 14,
   "id": "traditional-grenada",
   "metadata": {},
   "outputs": [
    {
     "name": "stdout",
     "output_type": "stream",
     "text": [
      "number of glaciers without unique id in RGI06: 0\n"
     ]
    }
   ],
   "source": [
    "print ('number of glaciers without unique id in RGI06:', len(ref_odf)-len(ref_odf['GLIMSId'].unique()))"
   ]
  },
  {
   "cell_type": "code",
   "execution_count": 15,
   "id": "extended-excuse",
   "metadata": {},
   "outputs": [
    {
     "name": "stdout",
     "output_type": "stream",
     "text": [
      "number of glaciers without unique id in RGI06 from GLIMS data base: 0\n"
     ]
    }
   ],
   "source": [
    "print ('number of glaciers without unique id in RGI06 from GLIMS data base:', len(RGI_ss)-len(RGI_ss['glac_id'].unique()))"
   ]
  },
  {
   "cell_type": "markdown",
   "id": "neural-james",
   "metadata": {},
   "source": [
    "#### Check for 'nominal glaciers' in the RGI6 original data and delete them from new RGI subset from GLIMS if they are in there "
   ]
  },
  {
   "cell_type": "code",
   "execution_count": 16,
   "id": "fallen-authority",
   "metadata": {},
   "outputs": [
    {
     "data": {
      "text/plain": [
       "0"
      ]
     },
     "execution_count": 16,
     "metadata": {},
     "output_type": "execute_result"
    }
   ],
   "source": [
    "# how many nominals in RGI06 (identifiable via 'Status' attribute in RGI 06)\n",
    "nom = ref_odf.loc[ref_odf.Status == 2] #--> what are nominal glaciers?\n",
    "len(nom)"
   ]
  },
  {
   "cell_type": "code",
   "execution_count": 17,
   "id": "perceived-hours",
   "metadata": {},
   "outputs": [],
   "source": [
    "# drop nominal glaciers from new RGI subset\n",
    "RGI_ss = (RGI_ss.loc[~RGI_ss['glac_id'].isin(nom['GLIMSId'])])"
   ]
  },
  {
   "cell_type": "markdown",
   "id": "governing-marine",
   "metadata": {},
   "source": [
    "#### Total area"
   ]
  },
  {
   "cell_type": "code",
   "execution_count": 18,
   "id": "meaning-drilling",
   "metadata": {},
   "outputs": [],
   "source": [
    "# add an area field to RGI_ss and reference data\n",
    "RGI_ss['area'] = RGI_ss.to_crs({'proj':'cea'}).area\n",
    "ref_odf['area'] = ref_odf.to_crs({'proj':'cea'}).area\n",
    "nom['area'] = nom.to_crs({'proj':'cea'}).area"
   ]
  },
  {
   "cell_type": "code",
   "execution_count": 19,
   "id": "terminal-pursuit",
   "metadata": {
    "scrolled": true
   },
   "outputs": [
    {
     "name": "stdout",
     "output_type": "stream",
     "text": [
      "Area Rep [km²]: 131286.4703695261\n",
      "Area RGI6 [km²]: 130071.14640016378\n",
      "Area Nom [km²]: 0.0\n",
      "Area difference [km²]: 1215.3239693623182 / percentage: 0.9257038946523589\n"
     ]
    }
   ],
   "source": [
    "# print and compare area values\n",
    "Area_Rep = RGI_ss['area'].sum()/1000000\n",
    "print('Area Rep [km²]:', Area_Rep)\n",
    "Area_RGI6 = ref_odf['area'].sum()/1000000\n",
    "print('Area RGI6 [km²]:', Area_RGI6)\n",
    "Area_nom = nom['area'].sum()/1000000\n",
    "print('Area Nom [km²]:', Area_nom)\n",
    "d = (Area_Rep + Area_nom - Area_RGI6)\n",
    "d_perc = (d/Area_Rep*100)\n",
    "print('Area difference [km²]:',d,'/','percentage:', d_perc)"
   ]
  },
  {
   "cell_type": "markdown",
   "id": "increasing-textbook",
   "metadata": {},
   "source": [
    "## result of check (RGI from Glims global data base vs. RGI06 original):\n",
    "#### difference in number of glaciers: 0\n",
    "#### dublicate IDs: 0\n",
    "#### nominal glaciers: 0\n",
    "#### area difference: 562 km² (!!!) = 0.4%\n",
    "#### general comment: how comes the area difference?"
   ]
  },
  {
   "cell_type": "markdown",
   "id": "charming-broad",
   "metadata": {},
   "source": [
    "## Write out and tar "
   ]
  },
  {
   "cell_type": "code",
   "execution_count": 20,
   "id": "binary-stevens",
   "metadata": {},
   "outputs": [
    {
     "name": "stdout",
     "output_type": "stream",
     "text": [
      "Writing...\n",
      "Taring...\n",
      "RGI05/\n",
      "RGI05/RGI05.cpg\n",
      "RGI05/RGI05.dbf\n",
      "RGI05/RGI05.prj\n",
      "RGI05/RGI05.shp\n",
      "RGI05/RGI05.shx\n",
      "CompletedProcess(args=['tar', '-zcvf', '../../rgi7_data/l3_rgi7a_tar/RGI05.tar.gz', '-C', '../../rgi7_data/l3_rgi7a', 'RGI05'], returncode=0)\n"
     ]
    }
   ],
   "source": [
    "dd = mkdir(f'{output_dir}/RGI{reg:02d}/', reset=True)\n",
    "\n",
    "print('Writing...')\n",
    "RGI_ss.to_file(dd + f'RGI{reg:02d}.shp')\n",
    "\n",
    "print('Taring...')\n",
    "print(subprocess.run(['tar', '-zcvf', f'{output_dir_tar}/RGI{reg:02d}.tar.gz', '-C', output_dir, f'RGI{reg:02d}']))## Write out and tar "
   ]
  },
  {
   "cell_type": "markdown",
   "id": "unlike-barbados",
   "metadata": {},
   "source": [
    "## Find missing glaciers "
   ]
  },
  {
   "cell_type": "code",
   "execution_count": 21,
   "id": "disabled-territory",
   "metadata": {},
   "outputs": [],
   "source": [
    "from utils import haversine\n",
    "import numpy as np\n",
    "import progressbar"
   ]
  },
  {
   "cell_type": "code",
   "execution_count": 22,
   "id": "timely-nursery",
   "metadata": {},
   "outputs": [],
   "source": [
    "def xy_coord(geom):\n",
    "    \"\"\"To compute CenLon CenLat ourselves\"\"\"\n",
    "    x, y = geom.xy\n",
    "    return x[0], y[0]"
   ]
  },
  {
   "cell_type": "code",
   "execution_count": 23,
   "id": "worth-insider",
   "metadata": {},
   "outputs": [],
   "source": [
    "df_ref = ref_odf.copy()\n",
    "rgi7 = RGI_ss.copy()"
   ]
  },
  {
   "cell_type": "code",
   "execution_count": 24,
   "id": "innocent-conducting",
   "metadata": {},
   "outputs": [],
   "source": [
    "# Remove nominal\n",
    "df_ref = df_ref.loc[df_ref.Status != 2].copy()"
   ]
  },
  {
   "cell_type": "code",
   "execution_count": 25,
   "id": "shared-recording",
   "metadata": {},
   "outputs": [],
   "source": [
    "# compute CenLon CenLat ourselves\n",
    "rp = df_ref.representative_point()\n",
    "\n",
    "coordinates = np.array(list(rp.apply(xy_coord)))\n",
    "df_ref['CenLon'] = coordinates[:, 0]\n",
    "df_ref['CenLat'] = coordinates[:, 1]"
   ]
  },
  {
   "cell_type": "code",
   "execution_count": 26,
   "id": "beginning-insertion",
   "metadata": {},
   "outputs": [],
   "source": [
    "df_ref_orig = df_ref.copy()"
   ]
  },
  {
   "cell_type": "code",
   "execution_count": 27,
   "id": "british-silicon",
   "metadata": {},
   "outputs": [
    {
     "name": "stderr",
     "output_type": "stream",
     "text": [
      "100% (20843 of 20843) |##################| Elapsed Time: 0:00:30 Time:  0:00:30\n"
     ]
    }
   ],
   "source": [
    "# Loop over all RGI7 glaciers and find their equivalent in ref\n",
    "df_ref = df_ref_orig.copy()\n",
    "not_found = {}\n",
    "to_drop = []\n",
    "for i, (ref_area, lon, lat) in progressbar.progressbar(enumerate(zip(rgi7['area'].values, rgi7.CenLon.values, rgi7.CenLat.values)), max_value=len(rgi7)):\n",
    "#     dist = haversine(lon, lat, df_ref.CenLon.values, df_ref.CenLat.values)\n",
    "    dist = (lon - df_ref.CenLon.values)**2 + (lat - df_ref.CenLat.values)**2 \n",
    "    found = False\n",
    "    for j in np.argsort(dist)[:10]:\n",
    "        s6 = df_ref.iloc[j]\n",
    "        if np.allclose(s6['area'], ref_area, rtol=0.001):\n",
    "            found = True\n",
    "            to_drop.append(s6.name)\n",
    "            break\n",
    "    if not found:\n",
    "        not_found[i] = df_ref.iloc[np.argsort(dist)[:10]]\n",
    "    if len(to_drop) > 1000:\n",
    "        df_ref.drop(labels=to_drop, inplace=True)\n",
    "        to_drop = []\n",
    "df_ref.drop(labels=to_drop, inplace=True)"
   ]
  },
  {
   "cell_type": "code",
   "execution_count": 28,
   "id": "documentary-speech",
   "metadata": {},
   "outputs": [
    {
     "name": "stdout",
     "output_type": "stream",
     "text": [
      "1607 1025\n"
     ]
    }
   ],
   "source": [
    "print(len(not_found), len(df_ref))"
   ]
  },
  {
   "cell_type": "code",
   "execution_count": 29,
   "id": "fiscal-captain",
   "metadata": {},
   "outputs": [],
   "source": [
    "pb_rgi7 = rgi7.iloc[list(not_found.keys())]"
   ]
  },
  {
   "cell_type": "code",
   "execution_count": 30,
   "id": "surface-giant",
   "metadata": {},
   "outputs": [
    {
     "data": {
      "image/png": "[encoded data removed]",
      "text/plain": [
       "<Figure size 432x288 with 1 Axes>"
      ]
     },
     "metadata": {
      "needs_background": "light"
     },
     "output_type": "display_data"
    }
   ],
   "source": [
    "pb_rgi7.plot(edgecolor='k');\n",
    "plt.title('GLIMS');"
   ]
  },
  {
   "cell_type": "code",
   "execution_count": 31,
   "id": "southern-blackberry",
   "metadata": {},
   "outputs": [
    {
     "data": {
      "image/png": "[encoded data removed]",
      "text/plain": [
       "<Figure size 432x288 with 1 Axes>"
      ]
     },
     "metadata": {
      "needs_background": "light"
     },
     "output_type": "display_data"
    }
   ],
   "source": [
    "df_ref.plot(edgecolor='k');\n",
    "plt.title('RGI6');"
   ]
  },
  {
   "cell_type": "code",
   "execution_count": 32,
   "id": "abroad-oracle",
   "metadata": {},
   "outputs": [],
   "source": [
    "# Output directories\n",
    "output_dir = mkdir(os.path.join(data_dir, 'l3_problem_glaciers'))\n",
    "output_dir_tar = mkdir(os.path.join(data_dir, 'l3_problem_glaciers_tar'))"
   ]
  },
  {
   "cell_type": "code",
   "execution_count": 33,
   "id": "enclosed-ordering",
   "metadata": {},
   "outputs": [
    {
     "name": "stdout",
     "output_type": "stream",
     "text": [
      "Writing...\n",
      "Taring...\n",
      "RGI05/\n",
      "RGI05/RGI05_glims.cpg\n",
      "RGI05/RGI05_glims.dbf\n",
      "RGI05/RGI05_glims.prj\n",
      "RGI05/RGI05_glims.shp\n",
      "RGI05/RGI05_glims.shx\n",
      "RGI05/RGI05_ref.cpg\n",
      "RGI05/RGI05_ref.dbf\n",
      "RGI05/RGI05_ref.prj\n",
      "RGI05/RGI05_ref.shp\n",
      "RGI05/RGI05_ref.shx\n",
      "CompletedProcess(args=['tar', '-zcvf', '../../rgi7_data/l3_problem_glaciers_tar/RGI05.tar.gz', '-C', '../../rgi7_data/l3_problem_glaciers', 'RGI05'], returncode=0)\n"
     ]
    }
   ],
   "source": [
    "dd = mkdir(f'{output_dir}/RGI{reg:02d}/', reset=True)\n",
    "\n",
    "print('Writing...')\n",
    "pb_rgi7.to_file(dd + f'RGI{reg:02d}_glims.shp')\n",
    "df_ref.to_file(dd + f'RGI{reg:02d}_ref.shp')\n",
    "\n",
    "print('Taring...')\n",
    "print(subprocess.run(['tar', '-zcvf', f'{output_dir_tar}/RGI{reg:02d}.tar.gz', '-C', output_dir, f'RGI{reg:02d}']))"
   ]
  }
 ],
 "metadata": {
  "kernelspec": {
   "display_name": "Python 3 (ipykernel)",
   "language": "python",
   "name": "python3"
  },
  "language_info": {
   "codemirror_mode": {
    "name": "ipython",
    "version": 3
   },
   "file_extension": ".py",
   "mimetype": "text/x-python",
   "name": "python",
   "nbconvert_exporter": "python",
   "pygments_lexer": "ipython3",
   "version": "3.8.12"
  }
 },
 "nbformat": 4,
 "nbformat_minor": 5
}
