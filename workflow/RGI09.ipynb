{
 "cells": [
  {
   "cell_type": "markdown",
   "id": "occasional-particle",
   "metadata": {},
   "source": [
    "# RGI09 (Russian Arctic)\n",
    "\n",
    "F. Maussion & S. Galos\n",
    "\n",
    "Same outlines as in RGI6, with a small correction of ice divides"
   ]
  },
  {
   "cell_type": "code",
   "execution_count": null,
   "id": "alleged-contrary",
   "metadata": {},
   "outputs": [],
   "source": [
    "import pandas as pd\n",
    "import geopandas as gpd\n",
    "import subprocess\n",
    "import matplotlib.pyplot as plt\n",
    "import matplotlib.patches as mpatches\n",
    "import seaborn as sns\n",
    "import numpy as np\n",
    "from utils import (mkdir, submission_summary, needs_size_filter, size_filter, plot_map, plot_date_hist, \n",
    "                   find_duplicates, open_zip_shapefile, correct_geoms, fix_overaps)\n",
    "import os"
   ]
  },
  {
   "cell_type": "markdown",
   "id": "actual-signature",
   "metadata": {},
   "source": [
    "## Files and storage paths"
   ]
  },
  {
   "cell_type": "code",
   "execution_count": null,
   "id": "swedish-prerequisite",
   "metadata": {},
   "outputs": [],
   "source": [
    "# Region of interest\n",
    "reg = 9\n",
    "\n",
    "# go down from rgi7_scripts/workflow\n",
    "data_dir = '../../rgi7_data/'\n",
    "\n",
    "# Level 2 GLIMS files\n",
    "l2_dir = os.path.join(data_dir, 'l2_sel_reg_tars')\n",
    "\n",
    "# Output directories\n",
    "output_dir = mkdir(os.path.join(data_dir, 'l3_rgi7a'))\n",
    "output_dir_tar = mkdir(os.path.join(data_dir, 'l3_rgi7a_tar'))\n",
    "\n",
    "# RGI v6 file for comparison later \n",
    "rgi6_reg_file = os.path.join(data_dir, 'l0_RGIv6', '09_rgi60_RussianArctic.zip')"
   ]
  },
  {
   "cell_type": "markdown",
   "id": "uniform-apparel",
   "metadata": {},
   "source": [
    "### Load the input data"
   ]
  },
  {
   "cell_type": "code",
   "execution_count": null,
   "id": "outdoor-bathroom",
   "metadata": {},
   "outputs": [],
   "source": [
    "# Read L2 files\n",
    "shp = gpd.read_file('tar://' + l2_dir + f'/RGI{reg:02d}.tar.gz/RGI{reg:02d}/RGI{reg:02d}.shp')"
   ]
  },
  {
   "cell_type": "markdown",
   "id": "fe318981-a967-4bed-903d-387ae70a3826",
   "metadata": {},
   "source": [
    "### List of submissions "
   ]
  },
  {
   "cell_type": "code",
   "execution_count": null,
   "id": "9efdc8b0-9c90-47da-a18e-66a76f18e6a5",
   "metadata": {},
   "outputs": [],
   "source": [
    "sdf, _ = submission_summary(shp)\n",
    "sdf"
   ]
  },
  {
   "cell_type": "code",
   "execution_count": null,
   "id": "2c218d0c-fd1d-4c80-99d5-c69fe5540068",
   "metadata": {},
   "outputs": [],
   "source": [
    "# # Optional: write out selection in intermediate shape files for manual GIS review\n",
    "# tmp_output_dir = mkdir(os.path.join(data_dir, 'l0_tmp_data', f'rgi{reg:02d}_inventories'))\n",
    "# tmp_output_dir_tar = mkdir(os.path.join(data_dir, 'l0_tmp_data'))\n",
    "# for subid in shp.subm_id.unique():\n",
    "#     s_loc = shp.loc[shp.subm_id == subid]\n",
    "#     s_loc.to_file(tmp_output_dir + f'/subm_{int(subid):03d}.shp')\n",
    "# print('Taring...')\n",
    "# print(subprocess.run(['tar', '-zcvf', f'{tmp_output_dir_tar}/rgi{reg:02d}_inventories.tar.gz', '-C', \n",
    "#                       os.path.join(data_dir, 'l0_tmp_data'), f'rgi{reg:02d}_inventories']))"
   ]
  },
  {
   "cell_type": "markdown",
   "id": "aeb4ebf2-3455-4789-8a54-400853f50695",
   "metadata": {},
   "source": [
    "## Outline selection "
   ]
  },
  {
   "cell_type": "code",
   "execution_count": null,
   "id": "33dba21d-91df-480c-98e8-ec47be0ccbea",
   "metadata": {},
   "outputs": [],
   "source": [
    "# For this region RGI07 shall be equal to RGI06 so...\n",
    "#...extract RGI06 from GLIMS by 'subm_id' 567 which refers to data by Moholdt et al. 2012\n",
    "s_567 = shp.loc[shp['subm_id']== 567].copy()\n",
    "s_567['is_rgi6'] = True"
   ]
  },
  {
   "cell_type": "code",
   "execution_count": null,
   "id": "7c0d0861-4a2c-4b74-aa20-e10f55483d71",
   "metadata": {},
   "outputs": [],
   "source": [
    "s_759 = shp.loc[shp['subm_id']== 759].copy()\n",
    "s_759['is_rgi6'] = False"
   ]
  },
  {
   "cell_type": "code",
   "execution_count": null,
   "id": "11806089-4876-4465-ba25-3dea5deb7830",
   "metadata": {},
   "outputs": [],
   "source": [
    "s_759.plot(edgecolor='k');"
   ]
  },
  {
   "cell_type": "code",
   "execution_count": null,
   "id": "5757bc3a-f02a-48f8-b4f4-c3527efa40d6",
   "metadata": {},
   "outputs": [],
   "source": [
    "# Remove the three ids that need to be replaced in GLIMS\n",
    "to_replace = ['G059108E75722N', 'G059314E75523N', 'G059401E75657N']\n",
    "sel = s_567.loc[s_567['glac_id'].isin(to_replace)]\n",
    "sel.plot(edgecolor='k');"
   ]
  },
  {
   "cell_type": "markdown",
   "id": "fd042578-39fd-4071-b578-65c06fe28c45",
   "metadata": {},
   "source": [
    "There is some area difference but it's ok it's Will: "
   ]
  },
  {
   "cell_type": "code",
   "execution_count": null,
   "id": "455c3f5c-9023-4875-a5cf-a09197b60cef",
   "metadata": {},
   "outputs": [],
   "source": [
    "area_diff = (s_759['area'].sum() - sel['area'].sum())\n",
    "area_diff"
   ]
  },
  {
   "cell_type": "code",
   "execution_count": null,
   "id": "db3c1bd3-89e8-4f3a-ac5b-e2ede46bb4c5",
   "metadata": {},
   "outputs": [],
   "source": [
    "ax = s_759.plot(color='C3', edgecolor='C3');\n",
    "ax = sel.plot(ax=ax, edgecolor='C0');"
   ]
  },
  {
   "cell_type": "code",
   "execution_count": null,
   "id": "559a96b9-37e7-41be-adec-64fb59185cdd",
   "metadata": {},
   "outputs": [],
   "source": [
    "s_567 = s_567.loc[~ s_567['glac_id'].isin(to_replace)].copy()"
   ]
  },
  {
   "cell_type": "code",
   "execution_count": null,
   "id": "ec99d9fe-9e4d-4ee2-b718-596d691d633a",
   "metadata": {},
   "outputs": [],
   "source": [
    "s_567.geog_area.iloc[0]"
   ]
  },
  {
   "cell_type": "code",
   "execution_count": null,
   "id": "c240cf5d-2437-4c9e-b7a3-543b296b0a76",
   "metadata": {},
   "outputs": [],
   "source": [
    "s_759['geog_area'] = s_567.geog_area.iloc[0]"
   ]
  },
  {
   "cell_type": "code",
   "execution_count": null,
   "id": "add23c81-b27d-48f6-b0f5-95e2ff750737",
   "metadata": {},
   "outputs": [],
   "source": [
    "rgi7 = pd.concat([s_567, s_759])"
   ]
  },
  {
   "cell_type": "markdown",
   "id": "4b64d686-f85e-48f3-a083-0426ca8c7631",
   "metadata": {},
   "source": [
    "### Some sanity checks "
   ]
  },
  {
   "cell_type": "code",
   "execution_count": null,
   "id": "854306b4-9fcd-4560-bf0e-f68161653f0e",
   "metadata": {},
   "outputs": [],
   "source": [
    "rgi7 = correct_geoms(rgi7)"
   ]
  },
  {
   "cell_type": "code",
   "execution_count": null,
   "id": "ff75f395-d560-4d68-90e1-50917a6344ba",
   "metadata": {},
   "outputs": [],
   "source": [
    "dupes = find_duplicates(rgi7)"
   ]
  },
  {
   "cell_type": "code",
   "execution_count": null,
   "id": "8ca539a7-7b66-4d5f-a70a-8c4897c8a0d1",
   "metadata": {},
   "outputs": [],
   "source": [
    "rgi7 = fix_overaps(rgi7)"
   ]
  },
  {
   "cell_type": "code",
   "execution_count": null,
   "id": "b335a276-91fd-4817-9c44-b1ba47d07192",
   "metadata": {},
   "outputs": [],
   "source": [
    "needs_size_filter(rgi7)"
   ]
  },
  {
   "cell_type": "code",
   "execution_count": null,
   "id": "7b68fb69-693f-46d9-b376-4383575a5c95",
   "metadata": {},
   "outputs": [],
   "source": [
    "sdf, df_class = submission_summary(rgi7)\n",
    "df_class"
   ]
  },
  {
   "cell_type": "code",
   "execution_count": null,
   "id": "874184d4-409e-4723-a031-19456803f858",
   "metadata": {},
   "outputs": [],
   "source": [
    "# Check the orphaned rock outcrops\n",
    "orphan_f = os.path.join(data_dir, 'l1_orphan_interiors', f'RGI{reg:02d}', f'RGI{reg:02d}.shp')\n",
    "if os.path.exists(orphan_f):\n",
    "    orphan_f = gpd.read_file(orphan_f)\n",
    "    check = np.isin(rgi7.subm_id.unique(), orphan_f.subm_id.unique())\n",
    "    if np.any(check):\n",
    "        print(f'Orphan rock outcrops detected in subm_id {rgi7.subm_id.unique()[check]}')\n",
    "        orphan_f['area'] = orphan_f.to_crs({'proj':'cea'}).area"
   ]
  },
  {
   "cell_type": "markdown",
   "id": "62881782-0ae7-4daa-a047-f246043fab6b",
   "metadata": {},
   "source": [
    "### Plots "
   ]
  },
  {
   "cell_type": "code",
   "execution_count": null,
   "id": "b1d6a572-a0fa-48ab-9e25-d2532e42eb15",
   "metadata": {},
   "outputs": [],
   "source": [
    "plot_map(rgi7, reg, loc='upper left')"
   ]
  },
  {
   "cell_type": "code",
   "execution_count": null,
   "id": "785b035a-8d1a-48c6-8b7d-8c8fc9b7c749",
   "metadata": {},
   "outputs": [],
   "source": [
    "plot_map(rgi7, reg, loc='upper left', is_rgi6=True)"
   ]
  },
  {
   "cell_type": "code",
   "execution_count": null,
   "id": "db0006be-c496-416f-ae76-db019ef4386e",
   "metadata": {},
   "outputs": [],
   "source": [
    "plot_date_hist(rgi7, reg)"
   ]
  },
  {
   "cell_type": "markdown",
   "id": "72de0c25-cd97-4c70-8060-34457eb87d07",
   "metadata": {},
   "source": [
    "### Text for github"
   ]
  },
  {
   "cell_type": "code",
   "execution_count": null,
   "id": "5597f2ca-a7a9-4afe-b1b4-6ea8d49432a4",
   "metadata": {},
   "outputs": [],
   "source": [
    "fgh = sdf.T\n",
    "fgh"
   ]
  },
  {
   "cell_type": "code",
   "execution_count": null,
   "id": "fb5d3bf1-00c9-4fa2-9d96-59e0ab7f396b",
   "metadata": {},
   "outputs": [],
   "source": [
    "print(fgh.to_markdown(headers=np.append(['subm_id'], fgh.columns)))"
   ]
  },
  {
   "cell_type": "markdown",
   "id": "520b9d29-b82f-4806-9c25-41fc2db89d20",
   "metadata": {},
   "source": [
    "## Write out and tar "
   ]
  },
  {
   "cell_type": "code",
   "execution_count": null,
   "id": "23f1be1a-8449-4781-8f5d-c1e503abd940",
   "metadata": {},
   "outputs": [],
   "source": [
    "dd = mkdir(f'{output_dir}/RGI{reg:02d}/', reset=True)\n",
    "\n",
    "print('Writing...')\n",
    "rgi7.to_file(dd + f'RGI{reg:02d}.shp')\n",
    "\n",
    "print('Taring...')\n",
    "print(subprocess.run(['tar', '-zcvf', f'{output_dir_tar}/RGI{reg:02d}.tar.gz', '-C', output_dir, f'RGI{reg:02d}']))"
   ]
  },
  {
   "cell_type": "markdown",
   "id": "4256f053-f525-4f35-a98a-76f3de594b54",
   "metadata": {},
   "source": [
    "## Consistency check with RGI6 "
   ]
  },
  {
   "cell_type": "code",
   "execution_count": null,
   "id": "0a97d302-844e-48f3-a0b7-c8b0bdbeb8ff",
   "metadata": {},
   "outputs": [],
   "source": [
    "# load reference data\n",
    "from utils import open_zip_shapefile\n",
    "rgi6 = open_zip_shapefile(rgi6_reg_file)"
   ]
  },
  {
   "cell_type": "code",
   "execution_count": null,
   "id": "fdf87cce-9783-4c3e-837c-7c323f04f282",
   "metadata": {},
   "outputs": [],
   "source": [
    "len(rgi7), len(rgi6)"
   ]
  },
  {
   "cell_type": "markdown",
   "id": "34360638-e66a-4a44-a77c-f2228e38ea4a",
   "metadata": {},
   "source": [
    "Test the areas:"
   ]
  },
  {
   "cell_type": "code",
   "execution_count": null,
   "id": "ab5d8d24-120e-4eff-b50c-16c06b17f0fc",
   "metadata": {},
   "outputs": [],
   "source": [
    "rgi6['area'] = rgi6.to_crs({'proj':'cea'}).area \n",
    "rgi7['area'] = rgi7.to_crs({'proj':'cea'}).area "
   ]
  },
  {
   "cell_type": "code",
   "execution_count": null,
   "id": "21811d8b-4592-4361-adba-b8d87d49d1e6",
   "metadata": {},
   "outputs": [],
   "source": [
    "print('Area RGI7a (km2)', rgi7['area'].sum() * 1e-6)\n",
    "print('Area RGI6 (km2)', rgi6['Area'].sum())\n",
    "print('Area RGI6 computed by us (km2)', rgi6['area'].sum() * 1e-6)\n",
    "print('diff areas RGI6 - RGI7 computed by us (km2)', (rgi6['area'].sum() + area_diff - rgi7['area'].sum()) * 1e-6)"
   ]
  },
  {
   "cell_type": "markdown",
   "id": "chubby-leonard",
   "metadata": {},
   "source": [
    "The number of individual gaciers is the same! The total areas differ by only 777 m²...what else do we want?!"
   ]
  }
 ],
 "metadata": {
  "kernelspec": {
   "display_name": "Python 3 (ipykernel)",
   "language": "python",
   "name": "python3"
  },
  "language_info": {
   "codemirror_mode": {
    "name": "ipython",
    "version": 3
   },
   "file_extension": ".py",
   "mimetype": "text/x-python",
   "name": "python",
   "nbconvert_exporter": "python",
   "pygments_lexer": "ipython3",
   "version": "3.10.8"
  }
 },
 "nbformat": 4,
 "nbformat_minor": 5
}
