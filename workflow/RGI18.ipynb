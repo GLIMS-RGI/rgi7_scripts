{
 "cells": [
  {
   "cell_type": "markdown",
   "id": "crazy-variable",
   "metadata": {},
   "source": [
    "# RGI18 (New Zealand)\n",
    "\n",
    "F. Maussion December 2021\n",
    "\n",
    "New inventory by Baumann et al."
   ]
  },
  {
   "cell_type": "code",
   "execution_count": null,
   "id": "floating-cooperative",
   "metadata": {},
   "outputs": [],
   "source": [
    "import pandas as pd\n",
    "import geopandas as gpd\n",
    "import subprocess\n",
    "import matplotlib.pyplot as plt\n",
    "import matplotlib.patches as mpatches\n",
    "import seaborn as sns\n",
    "import numpy as np\n",
    "from utils import mkdir, submission_summary, needs_size_filter, size_filter, plot_map, plot_date_hist\n",
    "import os"
   ]
  },
  {
   "cell_type": "markdown",
   "id": "located-handy",
   "metadata": {},
   "source": [
    "## Files and storage paths"
   ]
  },
  {
   "cell_type": "code",
   "execution_count": null,
   "id": "forced-brighton",
   "metadata": {},
   "outputs": [],
   "source": [
    "# Region of interest\n",
    "reg = 18\n",
    "\n",
    "# go down from rgi7_scripts/workflow\n",
    "data_dir = '../../rgi7_data/'\n",
    "\n",
    "# Level 2 GLIMS files\n",
    "l2_dir = os.path.join(data_dir, 'l2_sel_reg_tars')\n",
    "\n",
    "# Output directories\n",
    "output_dir = mkdir(os.path.join(data_dir, 'l3_rgi7a'))\n",
    "output_dir_tar = mkdir(os.path.join(data_dir, 'l3_rgi7a_tar'))\n",
    "\n",
    "# RGI v6 file for comparison later \n",
    "rgi6_reg_file = os.path.join(data_dir, 'l0_RGIv6', '18_rgi60_NewZealand.zip')"
   ]
  },
  {
   "cell_type": "markdown",
   "id": "intellectual-pennsylvania",
   "metadata": {},
   "source": [
    "### Load the input data"
   ]
  },
  {
   "cell_type": "code",
   "execution_count": null,
   "id": "primary-identifier",
   "metadata": {},
   "outputs": [],
   "source": [
    "# Read L2 files\n",
    "shp = gpd.read_file('tar://' + l2_dir + f'/RGI{reg:02d}.tar.gz/RGI{reg:02d}/RGI{reg:02d}.shp')"
   ]
  },
  {
   "cell_type": "markdown",
   "id": "547cdca7-2dcf-43c7-aa93-806491397dff",
   "metadata": {},
   "source": [
    "### List of submissions "
   ]
  },
  {
   "cell_type": "code",
   "execution_count": null,
   "id": "855b0d44-0c91-442b-bc10-b253ac24d1eb",
   "metadata": {},
   "outputs": [],
   "source": [
    "sdf, _ = submission_summary(shp)\n",
    "sdf"
   ]
  },
  {
   "cell_type": "code",
   "execution_count": null,
   "id": "7138cd87-5203-436a-acae-9f4f0f730567",
   "metadata": {},
   "outputs": [],
   "source": [
    "# # Optional: write out selection in intermediate shape files for manual GIS review\n",
    "# tmp_output_dir = mkdir(os.path.join(data_dir, 'l0_tmp_data', f'rgi{reg:02d}_inventories'))\n",
    "# tmp_output_dir_tar = mkdir(os.path.join(data_dir, 'l0_tmp_data'))\n",
    "# for subid in shp.subm_id.unique():\n",
    "#     s_loc = shp.loc[shp.subm_id == subid]\n",
    "#     s_loc.to_file(tmp_output_dir + f'/subm_{int(subid):03d}.shp')\n",
    "# print('Taring...')\n",
    "# print(subprocess.run(['tar', '-zcvf', f'{tmp_output_dir_tar}/rgi{reg:02d}_inventories.tar.gz', '-C', \n",
    "#                       os.path.join(data_dir, 'l0_tmp_data'), f'rgi{reg:02d}_inventories']))"
   ]
  },
  {
   "cell_type": "markdown",
   "id": "96419cc8-6f96-4e4b-a1ed-a7ae338a3f33",
   "metadata": {},
   "source": [
    "## Outline selection "
   ]
  },
  {
   "cell_type": "markdown",
   "id": "70a59d84-0a30-498c-b254-4020334ab376",
   "metadata": {},
   "source": [
    "### Apply selection criteria to create the RGI-07 data subset"
   ]
  },
  {
   "cell_type": "code",
   "execution_count": null,
   "id": "339be75f-f11b-49cc-b2b4-71f5408a6957",
   "metadata": {},
   "outputs": [],
   "source": [
    "# try to get the data relevant for RGI07 and select by attributes\n",
    "rgi7 = shp.loc[shp['subm_id'] == 749].copy()\n",
    "rgi7['is_rgi6'] = False"
   ]
  },
  {
   "cell_type": "code",
   "execution_count": null,
   "id": "c83d6f1d-bb01-42a5-8592-703f48da7f6c",
   "metadata": {},
   "outputs": [],
   "source": [
    "# Size filter?\n",
    "needs_size_filter(rgi7)"
   ]
  },
  {
   "cell_type": "markdown",
   "id": "624694ab-96bd-4682-b77b-0d61975e8cba",
   "metadata": {},
   "source": [
    "### Some sanity checks "
   ]
  },
  {
   "cell_type": "code",
   "execution_count": null,
   "id": "73e5d1ee-70b4-4ab1-b951-9bb3159d2cc4",
   "metadata": {},
   "outputs": [],
   "source": [
    "sdf, df_class = submission_summary(rgi7)\n",
    "df_class"
   ]
  },
  {
   "cell_type": "code",
   "execution_count": null,
   "id": "9105f732-b45a-4ebf-858e-c094d98a333f",
   "metadata": {},
   "outputs": [],
   "source": [
    "# Check the orphaned rock outcrops\n",
    "orphan_f = os.path.join(data_dir, 'l1_orphan_interiors', f'RGI{reg:02d}', f'RGI{reg:02d}.shp')\n",
    "if os.path.exists(orphan_f):\n",
    "    orphan_f = gpd.read_file(orphan_f)\n",
    "    if np.any(np.isin(rgi7.subm_id.unique(), orphan_f.subm_id.unique())):\n",
    "        print('Orphan rock outcrops detected.')"
   ]
  },
  {
   "cell_type": "markdown",
   "id": "8ee9c834-6b18-4311-becf-1662b4aa21ce",
   "metadata": {},
   "source": [
    "### Plots "
   ]
  },
  {
   "cell_type": "code",
   "execution_count": null,
   "id": "8d1f7039-01f7-45be-be79-d095b4ed74b9",
   "metadata": {},
   "outputs": [],
   "source": [
    "plot_map(rgi7, reg, linewidth=2)"
   ]
  },
  {
   "cell_type": "code",
   "execution_count": null,
   "id": "b8e6da2b-517a-4b9d-80f9-13b3d2973fc6",
   "metadata": {},
   "outputs": [],
   "source": [
    "plot_map(rgi7, reg, linewidth=2, is_rgi6=True)"
   ]
  },
  {
   "cell_type": "code",
   "execution_count": null,
   "id": "a5d699e8-1103-44b6-916f-6456a1f7ea00",
   "metadata": {},
   "outputs": [],
   "source": [
    "plot_date_hist(rgi7, reg)"
   ]
  },
  {
   "cell_type": "markdown",
   "id": "a1d85604-8039-4769-b02f-123e60434ece",
   "metadata": {},
   "source": [
    "### Text for github"
   ]
  },
  {
   "cell_type": "code",
   "execution_count": null,
   "id": "99d1e9cf-f0d3-4055-b330-ddbaa4abfd35",
   "metadata": {},
   "outputs": [],
   "source": [
    "fgh = sdf.loc[rgi7.subm_id.unique().astype(int)].T\n",
    "fgh"
   ]
  },
  {
   "cell_type": "code",
   "execution_count": null,
   "id": "6f009826-38f3-4ad4-8c25-911c1e232fe4",
   "metadata": {},
   "outputs": [],
   "source": [
    "print(fgh.to_markdown(headers=np.append(['subm_id'], fgh.columns)))"
   ]
  },
  {
   "cell_type": "markdown",
   "id": "218170f1-59cf-4dee-a58b-3d0dcd3e84cb",
   "metadata": {},
   "source": [
    "## Write out and tar "
   ]
  },
  {
   "cell_type": "code",
   "execution_count": null,
   "id": "f8c2d022-537d-4b4e-a3ec-47c81b4e580e",
   "metadata": {},
   "outputs": [],
   "source": [
    "dd = mkdir(f'{output_dir}/RGI{reg:02d}/', reset=True)\n",
    "\n",
    "print('Writing...')\n",
    "rgi7.to_file(dd + f'RGI{reg:02d}.shp')\n",
    "\n",
    "print('Taring...')\n",
    "print(subprocess.run(['tar', '-zcvf', f'{output_dir_tar}/RGI{reg:02d}.tar.gz', '-C', output_dir, f'RGI{reg:02d}']))"
   ]
  },
  {
   "cell_type": "markdown",
   "id": "97ac0dfd-833a-43af-82ec-75101412d589",
   "metadata": {},
   "source": [
    "## New RGI-file created - Check result!"
   ]
  },
  {
   "cell_type": "markdown",
   "id": "79330d1f-eb05-4371-b854-825d8e9e4639",
   "metadata": {},
   "source": [
    "### load reference data comparison"
   ]
  },
  {
   "cell_type": "code",
   "execution_count": null,
   "id": "cf86fd77-e4d6-4f56-8162-9f2f402dcc7f",
   "metadata": {},
   "outputs": [],
   "source": [
    "support_dir = os.path.join(data_dir, 'l0_support_data')"
   ]
  },
  {
   "cell_type": "code",
   "execution_count": null,
   "id": "b3d826f7-4038-4cad-b326-3145ec1d02cf",
   "metadata": {},
   "outputs": [],
   "source": [
    "# RGI6\n",
    "from utils import open_zip_shapefile\n",
    "ref_rgi6 = open_zip_shapefile(rgi6_reg_file)\n",
    "\n",
    "# FP\n",
    "df_ref = open_zip_shapefile(os.path.join(support_dir, 'new_zealand2000.zip'))"
   ]
  },
  {
   "cell_type": "markdown",
   "id": "64b4c089-bac0-4bd5-9771-3fe1918120dd",
   "metadata": {},
   "source": [
    "### Number of elements"
   ]
  },
  {
   "cell_type": "code",
   "execution_count": null,
   "id": "640f56ee-b5b1-4975-9f51-6cbf2e65258b",
   "metadata": {},
   "outputs": [],
   "source": [
    "print('Number of glaciers in new RGI subset:', len(rgi7))\n",
    "print('Number of glaciers in reference data:', len(df_ref))\n",
    "print('Difference:', len(rgi7)-len(df_ref))\n",
    "print('Number of glaciers in RGI6:', len(ref_rgi6))"
   ]
  },
  {
   "cell_type": "markdown",
   "id": "de940517-bd78-4afe-80c5-9a82b68036ce",
   "metadata": {},
   "source": [
    "### Total area"
   ]
  },
  {
   "cell_type": "code",
   "execution_count": null,
   "id": "ced44f79-1dd1-4e89-b56e-07317f13b209",
   "metadata": {},
   "outputs": [],
   "source": [
    "# add an area field to the selected GAMDAM table\n",
    "df_ref['area'] = df_ref.to_crs({'proj':'cea'}).area\n",
    "ref_rgi6['area'] = ref_rgi6.to_crs({'proj':'cea'}).area"
   ]
  },
  {
   "cell_type": "code",
   "execution_count": null,
   "id": "bd104154-9b9f-4a5e-9b79-39aaa7e00ca8",
   "metadata": {},
   "outputs": [],
   "source": [
    "# print and compare area values\n",
    "Area_RGI = rgi7['area'].sum() * 1e-6\n",
    "print('Area RGI [km²]:', Area_RGI)\n",
    "Area_ref = df_ref['area'].sum() * 1e-6\n",
    "print('Area Ref [km²]:', Area_ref)\n",
    "d = (Area_RGI - Area_ref)\n",
    "print('Area difference [km²]:',d)"
   ]
  },
  {
   "cell_type": "code",
   "execution_count": null,
   "id": "d1ef64c9-dd65-40d2-a9f1-3ac2edd51389",
   "metadata": {},
   "outputs": [],
   "source": [
    "# print and compare area values\n",
    "Area_RGI = rgi7['area'].sum() * 1e-6\n",
    "print('Area RGI7 [km²]:', Area_RGI)\n",
    "Area_ref = ref_rgi6['area'].sum() * 1e-6\n",
    "print('Area RGI6 [km²]:', Area_ref)\n",
    "d = (Area_RGI - Area_ref)\n",
    "print('Area difference [km²]:',d)"
   ]
  },
  {
   "cell_type": "code",
   "execution_count": null,
   "id": "1e8750f6-86e9-4301-82d9-02008308b772",
   "metadata": {},
   "outputs": [],
   "source": []
  }
 ],
 "metadata": {
  "kernelspec": {
   "display_name": "Python 3",
   "language": "python",
   "name": "python3"
  },
  "language_info": {
   "codemirror_mode": {
    "name": "ipython",
    "version": 3
   },
   "file_extension": ".py",
   "mimetype": "text/x-python",
   "name": "python",
   "nbconvert_exporter": "python",
   "pygments_lexer": "ipython3",
   "version": "3.8.8"
  }
 },
 "nbformat": 4,
 "nbformat_minor": 5
}
