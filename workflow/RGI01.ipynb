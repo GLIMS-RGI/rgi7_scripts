{
 "cells": [
  {
   "cell_type": "markdown",
   "id": "valid-miracle",
   "metadata": {},
   "source": [
    "# RGI01 (Alaska)\n",
    "\n",
    "F. Maussion & S. Galos"
   ]
  },
  {
   "cell_type": "markdown",
   "id": "martial-recipe",
   "metadata": {},
   "source": [
    "Goal: strictly equivalent to RGI6"
   ]
  },
  {
   "cell_type": "code",
   "execution_count": null,
   "id": "durable-article",
   "metadata": {},
   "outputs": [],
   "source": [
    "import pandas as pd\n",
    "import geopandas as gpd\n",
    "import subprocess\n",
    "import matplotlib.pyplot as plt\n",
    "import matplotlib.patches as mpatches\n",
    "import seaborn as sns\n",
    "import numpy as np\n",
    "from utils import mkdir, submission_summary, needs_size_filter, size_filter, plot_map, plot_date_hist, find_duplicates\n",
    "import os"
   ]
  },
  {
   "cell_type": "code",
   "execution_count": null,
   "id": "composed-detail",
   "metadata": {},
   "outputs": [],
   "source": [
    "# Region of interest\n",
    "reg = 1\n",
    "\n",
    "# go down from rgi7_scripts/workflow\n",
    "data_dir = '../../rgi7_data/'\n",
    "\n",
    "# Level 2 GLIMS files\n",
    "l2_dir = os.path.join(data_dir, 'l2_sel_reg_tars')\n",
    "\n",
    "# Output directories\n",
    "output_dir = mkdir(os.path.join(data_dir, 'l3_rgi7a'))\n",
    "output_dir_tar = mkdir(os.path.join(data_dir, 'l3_rgi7a_tar'))\n",
    "\n",
    "# RGI v6 file for comparison later \n",
    "rgi6_reg_file = os.path.join(data_dir, 'l0_RGIv6', '01_rgi60_Alaska.zip')"
   ]
  },
  {
   "cell_type": "code",
   "execution_count": null,
   "id": "hollow-simpson",
   "metadata": {},
   "outputs": [],
   "source": [
    "# Read L2 files\n",
    "shp = gpd.read_file('tar://' + os.path.join(l2_dir, f'RGI{reg:02d}.tar.gz/RGI{reg:02d}/RGI{reg:02d}.shp'))"
   ]
  },
  {
   "cell_type": "markdown",
   "id": "9a4c97f9-356f-4d44-88c7-93b11cfbe782",
   "metadata": {},
   "source": [
    "### List of submissions "
   ]
  },
  {
   "cell_type": "code",
   "execution_count": null,
   "id": "6ff4206e-ad5d-46a3-a705-b3856161afc5",
   "metadata": {},
   "outputs": [],
   "source": [
    "sdf, df_class = submission_summary(shp)\n",
    "# There are loads of small submissions in this region\n",
    "sdf.loc[sdf.N > 1]"
   ]
  },
  {
   "cell_type": "code",
   "execution_count": null,
   "id": "108324d4-4494-4925-892a-13d52eb198c2",
   "metadata": {},
   "outputs": [],
   "source": [
    "# # Optional: write out selection in intermediate shape files for manual GIS review\n",
    "# tmp_output_dir = mkdir(os.path.join(data_dir, 'l0_tmp_data', f'rgi{reg:02d}_inventories'))\n",
    "# tmp_output_dir_tar = mkdir(os.path.join(data_dir, 'l0_tmp_data'))\n",
    "# for subid in shp.subm_id.unique():\n",
    "#     s_loc = shp.loc[shp.subm_id == subid]\n",
    "#     s_loc.to_file(tmp_output_dir + f'/subm_{int(subid):03d}.shp')\n",
    "# print('Taring...')\n",
    "# print(subprocess.run(['tar', '-zcvf', f'{tmp_output_dir_tar}/rgi{reg:02d}_inventories.tar.gz', '-C', \n",
    "#                       os.path.join(data_dir, 'l0_tmp_data'), f'rgi{reg:02d}_inventories']))"
   ]
  },
  {
   "cell_type": "markdown",
   "id": "domestic-bacteria",
   "metadata": {},
   "source": [
    "## Outline selection "
   ]
  },
  {
   "cell_type": "code",
   "execution_count": null,
   "id": "44bb018b-b192-4fbc-ae8f-c4836111072f",
   "metadata": {},
   "outputs": [],
   "source": [
    "# This is a small group of glaciers (McNabb)\n",
    "mcnabb = shp.loc[shp.subm_id.isin([766])].copy()\n",
    "mcnabb['is_rgi6'] = False\n",
    "mcnabb.plot(edgecolor='k');"
   ]
  },
  {
   "cell_type": "code",
   "execution_count": null,
   "id": "5be1d8e2-15ca-4205-9f8d-571aff77647b",
   "metadata": {},
   "outputs": [],
   "source": [
    "# This is the corrected outline in GLIMS\n",
    "shp.loc[shp.subm_id.isin([756])].plot(edgecolor='k');\n",
    "\n",
    "# This was the outline Bruce thought was ok - but it was not OK https://trello.com/c/9yUMSONP/186-new-missing-geometry-in-alaska\n",
    "# shp.loc[shp.anlys_id.isin([373863])].plot(edgecolor='k');"
   ]
  },
  {
   "cell_type": "code",
   "execution_count": null,
   "id": "motivated-athens",
   "metadata": {},
   "outputs": [],
   "source": [
    "# 756 is for the corrected outline\n",
    "rgi7 = shp.loc[shp.subm_id.isin([624, 756])].copy()\n",
    "\n",
    "# Nothing should change here\n",
    "rgi7['is_rgi6'] = True\n",
    "\n",
    "rgi7 = pd.concat([rgi7, mcnabb])"
   ]
  },
  {
   "cell_type": "code",
   "execution_count": null,
   "id": "0d28da18-030b-4fba-b4c9-7ebd063388b0",
   "metadata": {},
   "outputs": [],
   "source": [
    "# Size filter?\n",
    "needs_size_filter(rgi7)"
   ]
  },
  {
   "cell_type": "markdown",
   "id": "49a5c5aa-e0d6-439b-b018-eeaa2bae379c",
   "metadata": {},
   "source": [
    "### Some sanity checks "
   ]
  },
  {
   "cell_type": "code",
   "execution_count": null,
   "id": "2f4e7ae7-77e0-4ab2-a35d-a6dea72b8f3a",
   "metadata": {},
   "outputs": [],
   "source": [
    "sdf, df_class = submission_summary(rgi7)\n",
    "df_class"
   ]
  },
  {
   "cell_type": "code",
   "execution_count": null,
   "id": "e9de8884-50e6-427b-918c-aa74329f49ed",
   "metadata": {},
   "outputs": [],
   "source": [
    "# Check the orphaned rock outcrops\n",
    "orphan_f = os.path.join(data_dir, 'l1_orphan_interiors', f'RGI{reg:02d}', f'RGI{reg:02d}.shp')\n",
    "if os.path.exists(orphan_f):\n",
    "    orphan_f = gpd.read_file(orphan_f)\n",
    "    if np.any(np.isin(rgi7.subm_id.unique(), orphan_f.subm_id.unique())):\n",
    "        print('Orphan rock outcrops detected.')"
   ]
  },
  {
   "cell_type": "code",
   "execution_count": null,
   "id": "fe05f731-3e30-478a-9ed3-c9f1add19c24",
   "metadata": {},
   "outputs": [],
   "source": [
    "find_duplicates(rgi7);"
   ]
  },
  {
   "cell_type": "markdown",
   "id": "ad46c7cd-64c2-4442-8e34-413e2e13b433",
   "metadata": {},
   "source": [
    "### Plots "
   ]
  },
  {
   "cell_type": "code",
   "execution_count": null,
   "id": "3a6c4fc4-2354-48aa-b1b4-4ff11e0e5418",
   "metadata": {},
   "outputs": [],
   "source": [
    "plot_map(rgi7, reg)"
   ]
  },
  {
   "cell_type": "code",
   "execution_count": null,
   "id": "cbbe08c7-927d-4cb1-9c70-865d60ea9478",
   "metadata": {},
   "outputs": [],
   "source": [
    "plot_map(rgi7, reg, is_rgi6=True)"
   ]
  },
  {
   "cell_type": "code",
   "execution_count": null,
   "id": "7ab1a9dd-48f8-4916-bc43-27fd3c3407e5",
   "metadata": {},
   "outputs": [],
   "source": [
    "plot_date_hist(rgi7, reg)"
   ]
  },
  {
   "cell_type": "markdown",
   "id": "69bc9341-93bf-4ac3-bf56-bd9d93a5e63d",
   "metadata": {},
   "source": [
    "### Text for github"
   ]
  },
  {
   "cell_type": "code",
   "execution_count": null,
   "id": "852c65cf-0ced-4320-9a68-c71868c6413f",
   "metadata": {},
   "outputs": [],
   "source": [
    "fgh = sdf.T\n",
    "fgh"
   ]
  },
  {
   "cell_type": "code",
   "execution_count": null,
   "id": "d24fda1d-097a-4a7c-8ab9-437445aebe75",
   "metadata": {},
   "outputs": [],
   "source": [
    "print(fgh.to_markdown(headers=np.append(['subm_id'], fgh.columns)))"
   ]
  },
  {
   "cell_type": "markdown",
   "id": "smaller-fault",
   "metadata": {},
   "source": [
    "## Write out and tar "
   ]
  },
  {
   "cell_type": "code",
   "execution_count": null,
   "id": "proved-memory",
   "metadata": {},
   "outputs": [],
   "source": [
    "dd = mkdir(f'{output_dir}/RGI{reg:02d}/', reset=True)\n",
    "\n",
    "print('Writing...')\n",
    "rgi7.to_file(dd + f'RGI{reg:02d}.shp')\n",
    "\n",
    "print('Taring...')\n",
    "print(subprocess.run(['tar', '-zcvf', f'{output_dir_tar}/RGI{reg:02d}.tar.gz', '-C', output_dir, f'RGI{reg:02d}']))"
   ]
  },
  {
   "cell_type": "markdown",
   "id": "closed-olive",
   "metadata": {},
   "source": [
    "## Consistency check with RGI6 "
   ]
  },
  {
   "cell_type": "code",
   "execution_count": null,
   "id": "imposed-payment",
   "metadata": {},
   "outputs": [],
   "source": [
    "# load reference data\n",
    "from utils import open_zip_shapefile\n",
    "rgi6 = open_zip_shapefile(rgi6_reg_file)"
   ]
  },
  {
   "cell_type": "code",
   "execution_count": null,
   "id": "97df4b5a-6657-4738-9269-b54f43fd606c",
   "metadata": {},
   "outputs": [],
   "source": [
    "rgi7_ = rgi7.loc[rgi7['is_rgi6']]"
   ]
  },
  {
   "cell_type": "code",
   "execution_count": null,
   "id": "cheap-prophet",
   "metadata": {},
   "outputs": [],
   "source": [
    "len(rgi7_), len(rgi6)"
   ]
  },
  {
   "cell_type": "markdown",
   "id": "systematic-contribution",
   "metadata": {},
   "source": [
    "One has been wrongly attributed to Region 1 in RGI6 (`RGI60-01.05285`)"
   ]
  },
  {
   "cell_type": "code",
   "execution_count": null,
   "id": "moved-lyric",
   "metadata": {},
   "outputs": [],
   "source": [
    "# Remove wrongly attributed glacier from RGI6\n",
    "rgi6 = rgi6.loc[rgi6.RGIId != 'RGI60-01.05285'].copy()"
   ]
  },
  {
   "cell_type": "markdown",
   "id": "selective-hospital",
   "metadata": {},
   "source": [
    "Test the areas:"
   ]
  },
  {
   "cell_type": "code",
   "execution_count": null,
   "id": "statistical-threshold",
   "metadata": {},
   "outputs": [],
   "source": [
    "rgi6['Area_us'] = rgi6.to_crs({'proj':'cea'}).area \n",
    "rgi7_['area'] = rgi7_.to_crs({'proj':'cea'}).area "
   ]
  },
  {
   "cell_type": "code",
   "execution_count": null,
   "id": "contrary-mount",
   "metadata": {},
   "outputs": [],
   "source": [
    "print('Area RGI7a (km2)', rgi7_['area'].sum() * 1e-6)\n",
    "print('Area RGI6 (km2)', rgi6['Area'].sum())\n",
    "print('Area RGI6 computed by us (km2)', rgi6['Area_us'].sum() * 1e-6)\n",
    "print('diff areas RGI6 - RGI7 computed by us (km2)', (rgi6['Area_us'].sum() - rgi7_['area'].sum()) * 1e-6)"
   ]
  },
  {
   "cell_type": "markdown",
   "id": "opponent-multiple",
   "metadata": {},
   "source": [
    "No issue anymore!"
   ]
  },
  {
   "cell_type": "markdown",
   "id": "daad8488-eaad-4734-b3fb-b84ec64eca59",
   "metadata": {},
   "source": [
    "### The code below is now obsolete! GLIMS issue fixed "
   ]
  },
  {
   "cell_type": "markdown",
   "id": "qualified-calgary",
   "metadata": {},
   "source": [
    "### Find the missing glacier "
   ]
  },
  {
   "cell_type": "code",
   "execution_count": null,
   "id": "compliant-samba",
   "metadata": {},
   "outputs": [],
   "source": [
    "df_ref = rgi6.copy()\n",
    "df_ref['area'] = rgi6['Area_us'] "
   ]
  },
  {
   "cell_type": "code",
   "execution_count": null,
   "id": "elder-webmaster",
   "metadata": {},
   "outputs": [],
   "source": [
    "import progressbar"
   ]
  },
  {
   "cell_type": "code",
   "execution_count": null,
   "id": "champion-closer",
   "metadata": {},
   "outputs": [],
   "source": [
    "def xy_coord(geom):\n",
    "    \"\"\"To compute CenLon CenLat ourselves\"\"\"\n",
    "    x, y = geom.xy\n",
    "    return x[0], y[0]"
   ]
  },
  {
   "cell_type": "code",
   "execution_count": null,
   "id": "anticipated-bottle",
   "metadata": {},
   "outputs": [],
   "source": [
    "# compute CenLon CenLat ourselves\n",
    "rp = df_ref.representative_point()\n",
    "\n",
    "coordinates = np.array(list(rp.apply(xy_coord)))\n",
    "df_ref['CenLon'] = coordinates[:, 0]\n",
    "df_ref['CenLat'] = coordinates[:, 1]"
   ]
  },
  {
   "cell_type": "code",
   "execution_count": null,
   "id": "remarkable-cornell",
   "metadata": {},
   "outputs": [],
   "source": [
    "df_ref_orig = df_ref.copy()"
   ]
  },
  {
   "cell_type": "code",
   "execution_count": null,
   "id": "frequent-mercy",
   "metadata": {},
   "outputs": [],
   "source": [
    "# Loop over all RGI7 glaciers and find their equivalent in ref\n",
    "df_ref = df_ref_orig.copy()\n",
    "not_found = {}\n",
    "to_drop = []\n",
    "for i, (ref_area, lon, lat) in progressbar.progressbar(enumerate(zip(rgi7['area'].values, rgi7.CenLon.values, rgi7.CenLat.values)), max_value=len(rgi7)):\n",
    "#     dist = haversine(lon, lat, df_ref.CenLon.values, df_ref.CenLat.values)\n",
    "    dist = (lon - df_ref.CenLon.values)**2 + (lat - df_ref.CenLat.values)**2 \n",
    "    found = False\n",
    "    for j in np.argsort(dist)[:10]:\n",
    "        s6 = df_ref.iloc[j]\n",
    "        if np.allclose(s6['area'], ref_area, rtol=0.001):\n",
    "            found = True\n",
    "            to_drop.append(s6.name)\n",
    "            break\n",
    "    if not found:\n",
    "        not_found[i] = df_ref.iloc[np.argsort(dist)[:10]]\n",
    "    if len(to_drop) > 1000:\n",
    "        df_ref.drop(labels=to_drop, inplace=True)\n",
    "        to_drop = []\n",
    "df_ref.drop(labels=to_drop, inplace=True)"
   ]
  },
  {
   "cell_type": "code",
   "execution_count": null,
   "id": "pediatric-chemical",
   "metadata": {},
   "outputs": [],
   "source": [
    "print(len(not_found), len(df_ref))"
   ]
  },
  {
   "cell_type": "code",
   "execution_count": null,
   "id": "d19620c1-d8eb-4aaa-93d4-1b261febe932",
   "metadata": {},
   "outputs": [],
   "source": [
    "df_ref"
   ]
  },
  {
   "cell_type": "code",
   "execution_count": null,
   "id": "1148d737-10be-46c5-9f24-db5d8f60fedc",
   "metadata": {},
   "outputs": [],
   "source": [
    "rgi6.loc[rgi6.RGIId.isin(['RGI60-01.20630', 'RGI60-01.25912', 'RGI60-01.25913'])].plot(edgecolor='k');"
   ]
  },
  {
   "cell_type": "code",
   "execution_count": null,
   "id": "f938fec7-56c6-4fa6-b2ac-0928b106127f",
   "metadata": {},
   "outputs": [],
   "source": []
  },
  {
   "cell_type": "code",
   "execution_count": null,
   "id": "english-precipitation",
   "metadata": {},
   "outputs": [],
   "source": [
    "pb_rgi7 = rgi7.iloc[list(not_found.keys())]"
   ]
  },
  {
   "cell_type": "code",
   "execution_count": null,
   "id": "a2ca6d3e-58da-409a-9084-0f55cf3bd1ed",
   "metadata": {},
   "outputs": [],
   "source": [
    "pb_rgi7"
   ]
  },
  {
   "cell_type": "code",
   "execution_count": null,
   "id": "ultimate-mainland",
   "metadata": {},
   "outputs": [],
   "source": [
    "pb_rgi7.plot(edgecolor='k');"
   ]
  },
  {
   "cell_type": "code",
   "execution_count": null,
   "id": "30ba3ebb-9ed5-47c9-8b44-718882932630",
   "metadata": {},
   "outputs": [],
   "source": [
    "df_ref"
   ]
  },
  {
   "cell_type": "code",
   "execution_count": null,
   "id": "98821fbb-87e9-4516-9537-ed747443ca2d",
   "metadata": {},
   "outputs": [],
   "source": [
    "df_ref.plot(edgecolor='k');"
   ]
  },
  {
   "cell_type": "markdown",
   "id": "weighted-picture",
   "metadata": {},
   "source": [
    "We have found the problem! Reported here: https://github.com/GLIMS-RGI/glims_issue_tracker/issues/5"
   ]
  },
  {
   "cell_type": "code",
   "execution_count": null,
   "id": "toxic-journalism",
   "metadata": {},
   "outputs": [],
   "source": [
    "pb_rgi7.buffer(0).plot(edgecolor='k');"
   ]
  },
  {
   "cell_type": "code",
   "execution_count": null,
   "id": "dangerous-sessions",
   "metadata": {},
   "outputs": [],
   "source": [
    "# Output directories\n",
    "output_dir = mkdir(os.path.join(data_dir, 'l3_problem_glaciers'))\n",
    "output_dir_tar = mkdir(os.path.join(data_dir, 'l3_problem_glaciers_tar'))"
   ]
  },
  {
   "cell_type": "code",
   "execution_count": null,
   "id": "extraordinary-nepal",
   "metadata": {},
   "outputs": [],
   "source": [
    "dd = mkdir(f'{output_dir}/RGI{reg:02d}/', reset=True)\n",
    "\n",
    "print('Writing...')\n",
    "rgi6.loc[rgi6.RGIId.isin(['RGI60-01.20630', 'RGI60-01.25912', 'RGI60-01.25913'])].to_file(dd + f'RGI{reg:02d}_ref.shp')\n",
    "\n",
    "print('Taring...')\n",
    "print(subprocess.run(['tar', '-zcvf', f'{output_dir_tar}/RGI{reg:02d}.tar.gz', '-C', output_dir, f'RGI{reg:02d}']))"
   ]
  },
  {
   "cell_type": "code",
   "execution_count": null,
   "id": "marked-respect",
   "metadata": {},
   "outputs": [],
   "source": []
  }
 ],
 "metadata": {
  "kernelspec": {
   "display_name": "Python 3 (ipykernel)",
   "language": "python",
   "name": "python3"
  },
  "language_info": {
   "codemirror_mode": {
    "name": "ipython",
    "version": 3
   },
   "file_extension": ".py",
   "mimetype": "text/x-python",
   "name": "python",
   "nbconvert_exporter": "python",
   "pygments_lexer": "ipython3",
   "version": "3.9.13"
  }
 },
 "nbformat": 4,
 "nbformat_minor": 5
}
