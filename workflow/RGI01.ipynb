{
 "cells": [
  {
   "cell_type": "markdown",
   "id": "valid-miracle",
   "metadata": {},
   "source": [
    "# RGI01 outlines selection\n",
    "\n",
    "F. Maussion & S. Galos, June 2021"
   ]
  },
  {
   "cell_type": "markdown",
   "id": "martial-recipe",
   "metadata": {},
   "source": [
    "Strictly equivalent to RGI6."
   ]
  },
  {
   "cell_type": "code",
   "execution_count": 1,
   "id": "durable-article",
   "metadata": {},
   "outputs": [],
   "source": [
    "import pandas as pd\n",
    "import geopandas as gpd\n",
    "import subprocess\n",
    "import matplotlib.pyplot as plt\n",
    "import numpy as np\n",
    "from utils import mkdir\n",
    "import os"
   ]
  },
  {
   "cell_type": "code",
   "execution_count": 2,
   "id": "composed-detail",
   "metadata": {},
   "outputs": [],
   "source": [
    "# Region of interest\n",
    "reg = 1\n",
    "\n",
    "# go down from rgi7_scripts/workflow\n",
    "data_dir = '../../rgi7_data/'\n",
    "\n",
    "# Level 2 GLIMS files\n",
    "l2_dir = os.path.join(data_dir, 'l2_sel_reg_tars')\n",
    "\n",
    "# Output directories\n",
    "output_dir = mkdir(os.path.join(data_dir, 'l3_rgi7a'))\n",
    "output_dir_tar = mkdir(os.path.join(data_dir, 'l3_rgi7a_tar'))\n",
    "\n",
    "# RGI v6 file for comparison later \n",
    "rgi6_reg_file = os.path.join(data_dir, 'l0_RGIv6', '01_rgi60_Alaska.zip')"
   ]
  },
  {
   "cell_type": "code",
   "execution_count": 3,
   "id": "hollow-simpson",
   "metadata": {},
   "outputs": [],
   "source": [
    "# Read L2 files\n",
    "shp = gpd.read_file('tar://' + os.path.join(l2_dir, f'RGI{reg:02d}.tar.gz/RGI{reg:02d}/RGI{reg:02d}.shp'))"
   ]
  },
  {
   "cell_type": "markdown",
   "id": "domestic-bacteria",
   "metadata": {},
   "source": [
    "## Outline selection "
   ]
  },
  {
   "cell_type": "code",
   "execution_count": 4,
   "id": "environmental-circulation",
   "metadata": {},
   "outputs": [
    {
     "data": {
      "text/plain": [
       "array(['Beedle, Matthew', 'Manley, William', 'Herreid, Samuel',\n",
       "       'Frey, Holger; Le Bris, Raymond; Paul, Frank', 'Rich, Justin',\n",
       "       'Bolch, Tobias',\n",
       "       'Beedle, Matthew; Berthier, Etienne; Bolch, Tobias; Burgess, Evan; Cogley, Graham; Forster, Richard; Giffen, Bruce A.; Hall, Dorothy K.; Kienholz, Christian; LeBris, Raymond; Manley, William',\n",
       "       'Maraldo, Dean'], dtype=object)"
      ]
     },
     "execution_count": 4,
     "metadata": {},
     "output_type": "execute_result"
    }
   ],
   "source": [
    "# List analysts\n",
    "shp.analysts.unique()"
   ]
  },
  {
   "cell_type": "markdown",
   "id": "sensitive-reader",
   "metadata": {},
   "source": [
    "For this region selecting glaciers can be done either by analyst or by \"proc_desc\":"
   ]
  },
  {
   "cell_type": "code",
   "execution_count": 5,
   "id": "reported-vegetation",
   "metadata": {},
   "outputs": [
    {
     "data": {
      "text/plain": [
       "27106"
      ]
     },
     "execution_count": 5,
     "metadata": {},
     "output_type": "execute_result"
    }
   ],
   "source": [
    "sel_analysts = ('Beedle, Matthew; Berthier, Etienne; Bolch, Tobias; Burgess, Evan; Cogley, Graham; '\n",
    "                'Forster, Richard; Giffen, Bruce A.; Hall, Dorothy K.; Kienholz, Christian; LeBris, Raymond; Manley, William')\n",
    "len(shp.loc[shp.analysts == sel_analysts])"
   ]
  },
  {
   "cell_type": "code",
   "execution_count": 6,
   "id": "square-price",
   "metadata": {},
   "outputs": [
    {
     "data": {
      "text/plain": [
       "27106"
      ]
     },
     "execution_count": 6,
     "metadata": {},
     "output_type": "execute_result"
    }
   ],
   "source": [
    "sel_proc_desc = ('Semi-automated glacier classification.; From Randolph Glacier Inventory Version 5.0. Source file: 01_rgi50_Alaska.zip.  '\n",
    "                 'See http://www.glims.org/RGI/.  GLIMS IDs were adjusted and metadata was added at NSIDC.')\n",
    "len(shp.loc[shp.proc_desc == sel_proc_desc])"
   ]
  },
  {
   "cell_type": "code",
   "execution_count": 7,
   "id": "motivated-athens",
   "metadata": {},
   "outputs": [],
   "source": [
    "rgi7 = shp.loc[shp.analysts == sel_analysts].copy()"
   ]
  },
  {
   "cell_type": "markdown",
   "id": "smaller-fault",
   "metadata": {},
   "source": [
    "## Write out and tar "
   ]
  },
  {
   "cell_type": "code",
   "execution_count": 8,
   "id": "proved-memory",
   "metadata": {},
   "outputs": [
    {
     "name": "stdout",
     "output_type": "stream",
     "text": [
      "Writing...\n",
      "Taring...\n",
      "CompletedProcess(args=['tar', '-zcvf', '../../rgi7_data/l3_rgi7a_tar/RGI01.tar.gz', '-C', '../../rgi7_data/l3_rgi7a', 'RGI01'], returncode=0)\n"
     ]
    }
   ],
   "source": [
    "dd = mkdir(f'{output_dir}/RGI{reg:02d}/', reset=True)\n",
    "\n",
    "print('Writing...')\n",
    "rgi7.to_file(dd + f'RGI{reg:02d}.shp')\n",
    "\n",
    "print('Taring...')\n",
    "print(subprocess.run(['tar', '-zcvf', f'{output_dir_tar}/RGI{reg:02d}.tar.gz', '-C', output_dir, f'RGI{reg:02d}']))"
   ]
  },
  {
   "cell_type": "markdown",
   "id": "closed-olive",
   "metadata": {},
   "source": [
    "## Consistency check with RGI6 "
   ]
  },
  {
   "cell_type": "code",
   "execution_count": 9,
   "id": "imposed-payment",
   "metadata": {},
   "outputs": [],
   "source": [
    "# Just to know the name of the file to open from zip\n",
    "import zipfile\n",
    "with zipfile.ZipFile(rgi6_reg_file, \"r\") as z:\n",
    "    for f in z.filelist:\n",
    "        if 'shp' in f.filename:\n",
    "            fn = f.filename"
   ]
  },
  {
   "cell_type": "code",
   "execution_count": 10,
   "id": "fewer-hunger",
   "metadata": {},
   "outputs": [],
   "source": [
    "rgi6 = gpd.read_file('zip://' + rgi6_reg_file + '/' + fn)"
   ]
  },
  {
   "cell_type": "code",
   "execution_count": 11,
   "id": "cheap-prophet",
   "metadata": {},
   "outputs": [
    {
     "data": {
      "text/plain": [
       "(27106, 27108)"
      ]
     },
     "execution_count": 11,
     "metadata": {},
     "output_type": "execute_result"
    }
   ],
   "source": [
    "len(rgi7), len(rgi6)"
   ]
  },
  {
   "cell_type": "markdown",
   "id": "systematic-contribution",
   "metadata": {},
   "source": [
    "There are two missing glaciers! One has been wrongly attributed to Region 1 in RGI6 (`RGI60-01.05285`), another we don't know yet."
   ]
  },
  {
   "cell_type": "code",
   "execution_count": 12,
   "id": "moved-lyric",
   "metadata": {},
   "outputs": [],
   "source": [
    "# Remove wrongly attributed glacier from RGI6\n",
    "rgi6 = rgi6.loc[rgi6.RGIId != 'RGI60-01.05285'].copy()"
   ]
  },
  {
   "cell_type": "markdown",
   "id": "selective-hospital",
   "metadata": {},
   "source": [
    "Test the areas:"
   ]
  },
  {
   "cell_type": "code",
   "execution_count": 13,
   "id": "statistical-threshold",
   "metadata": {},
   "outputs": [],
   "source": [
    "rgi6['Area_us'] = rgi6.to_crs({'proj':'cea'}).area \n",
    "rgi7['area'] = rgi7.to_crs({'proj':'cea'}).area "
   ]
  },
  {
   "cell_type": "code",
   "execution_count": 14,
   "id": "contrary-mount",
   "metadata": {},
   "outputs": [
    {
     "name": "stdout",
     "output_type": "stream",
     "text": [
      "Area RGI7a (km2) 86724.5510826829\n",
      "Area RGI6 (km2) 86724.631\n",
      "Area RGI6 computed by us (km2) 86724.5515302422\n",
      "diff areas RGI6 - RGI7 computed by us (m2) 447.5592956542969\n"
     ]
    }
   ],
   "source": [
    "print('Area RGI7a (km2)', rgi7['area'].sum() * 1e-6)\n",
    "print('Area RGI6 (km2)', rgi6['Area'].sum())\n",
    "print('Area RGI6 computed by us (km2)', rgi6['Area_us'].sum() * 1e-6)\n",
    "print('diff areas RGI6 - RGI7 computed by us (m2)', rgi6['Area_us'].sum() - rgi7['area'].sum())"
   ]
  },
  {
   "cell_type": "markdown",
   "id": "opponent-multiple",
   "metadata": {},
   "source": [
    "So, the difference is really small... BUT this one glacier missing is intriging."
   ]
  },
  {
   "cell_type": "markdown",
   "id": "qualified-calgary",
   "metadata": {},
   "source": [
    "### Find the missing glacier "
   ]
  },
  {
   "cell_type": "code",
   "execution_count": 45,
   "id": "compliant-samba",
   "metadata": {},
   "outputs": [],
   "source": [
    "df_ref = rgi6.copy()\n",
    "df_ref['area'] = rgi6['Area_us'] "
   ]
  },
  {
   "cell_type": "code",
   "execution_count": 46,
   "id": "elder-webmaster",
   "metadata": {},
   "outputs": [],
   "source": [
    "import progressbar"
   ]
  },
  {
   "cell_type": "code",
   "execution_count": 47,
   "id": "champion-closer",
   "metadata": {},
   "outputs": [],
   "source": [
    "def xy_coord(geom):\n",
    "    \"\"\"To compute CenLon CenLat ourselves\"\"\"\n",
    "    x, y = geom.xy\n",
    "    return x[0], y[0]"
   ]
  },
  {
   "cell_type": "code",
   "execution_count": 48,
   "id": "anticipated-bottle",
   "metadata": {},
   "outputs": [],
   "source": [
    "# compute CenLon CenLat ourselves\n",
    "rp = df_ref.representative_point()\n",
    "\n",
    "coordinates = np.array(list(rp.apply(xy_coord)))\n",
    "df_ref['CenLon'] = coordinates[:, 0]\n",
    "df_ref['CenLat'] = coordinates[:, 1]"
   ]
  },
  {
   "cell_type": "code",
   "execution_count": 49,
   "id": "remarkable-cornell",
   "metadata": {},
   "outputs": [],
   "source": [
    "df_ref_orig = df_ref.copy()"
   ]
  },
  {
   "cell_type": "code",
   "execution_count": 52,
   "id": "frequent-mercy",
   "metadata": {},
   "outputs": [
    {
     "name": "stderr",
     "output_type": "stream",
     "text": [
      "100% (27106 of 27106) |##################| Elapsed Time: 0:00:27 Time:  0:00:27\n"
     ]
    }
   ],
   "source": [
    "# Loop over all RGI7 glaciers and find their equivalent in ref\n",
    "df_ref = df_ref_orig.copy()\n",
    "not_found = {}\n",
    "to_drop = []\n",
    "for i, (ref_area, lon, lat) in progressbar.progressbar(enumerate(zip(rgi7['area'].values, rgi7.CenLon.values, rgi7.CenLat.values)), max_value=len(rgi7)):\n",
    "#     dist = haversine(lon, lat, df_ref.CenLon.values, df_ref.CenLat.values)\n",
    "    dist = (lon - df_ref.CenLon.values)**2 + (lat - df_ref.CenLat.values)**2 \n",
    "    found = False\n",
    "    for j in np.argsort(dist)[:10]:\n",
    "        s6 = df_ref.iloc[j]\n",
    "        if np.allclose(s6['area'], ref_area, rtol=0.001):\n",
    "            found = True\n",
    "            to_drop.append(s6.name)\n",
    "            break\n",
    "    if not found:\n",
    "        not_found[i] = df_ref.iloc[np.argsort(dist)[:10]]\n",
    "    if len(to_drop) > 1000:\n",
    "        df_ref.drop(labels=to_drop, inplace=True)\n",
    "        to_drop = []\n",
    "df_ref.drop(labels=to_drop, inplace=True)"
   ]
  },
  {
   "cell_type": "code",
   "execution_count": 57,
   "id": "pediatric-chemical",
   "metadata": {},
   "outputs": [
    {
     "name": "stdout",
     "output_type": "stream",
     "text": [
      "1 2\n"
     ]
    }
   ],
   "source": [
    "print(len(not_found), len(df_ref))"
   ]
  },
  {
   "cell_type": "code",
   "execution_count": 58,
   "id": "english-precipitation",
   "metadata": {},
   "outputs": [],
   "source": [
    "pb_rgi7 = rgi7.iloc[list(not_found.keys())]"
   ]
  },
  {
   "cell_type": "code",
   "execution_count": 59,
   "id": "a2ca6d3e-58da-409a-9084-0f55cf3bd1ed",
   "metadata": {},
   "outputs": [
    {
     "data": {
      "text/html": [
       "<div>\n",
       "<style scoped>\n",
       "    .dataframe tbody tr th:only-of-type {\n",
       "        vertical-align: middle;\n",
       "    }\n",
       "\n",
       "    .dataframe tbody tr th {\n",
       "        vertical-align: top;\n",
       "    }\n",
       "\n",
       "    .dataframe thead th {\n",
       "        text-align: right;\n",
       "    }\n",
       "</style>\n",
       "<table border=\"1\" class=\"dataframe\">\n",
       "  <thead>\n",
       "    <tr style=\"text-align: right;\">\n",
       "      <th></th>\n",
       "      <th>line_type</th>\n",
       "      <th>anlys_id</th>\n",
       "      <th>glac_id</th>\n",
       "      <th>anlys_time</th>\n",
       "      <th>area</th>\n",
       "      <th>db_area</th>\n",
       "      <th>width</th>\n",
       "      <th>length</th>\n",
       "      <th>primeclass</th>\n",
       "      <th>min_elev</th>\n",
       "      <th>...</th>\n",
       "      <th>glob_unc_x</th>\n",
       "      <th>glob_unc_y</th>\n",
       "      <th>submitters</th>\n",
       "      <th>analysts</th>\n",
       "      <th>CenLon</th>\n",
       "      <th>CenLat</th>\n",
       "      <th>geometry</th>\n",
       "      <th>distance</th>\n",
       "      <th>other_id</th>\n",
       "      <th>area_other</th>\n",
       "    </tr>\n",
       "  </thead>\n",
       "  <tbody>\n",
       "    <tr>\n",
       "      <th>35115</th>\n",
       "      <td>glac_bound</td>\n",
       "      <td>409341.0</td>\n",
       "      <td>G223040E59540N</td>\n",
       "      <td>2015-07-16T00:00:00</td>\n",
       "      <td>5.894882e+06</td>\n",
       "      <td>7.08127</td>\n",
       "      <td>0.0</td>\n",
       "      <td>0.0</td>\n",
       "      <td>0.0</td>\n",
       "      <td>1436.0</td>\n",
       "      <td>...</td>\n",
       "      <td>80</td>\n",
       "      <td>80</td>\n",
       "      <td>Cogley, Graham</td>\n",
       "      <td>Beedle, Matthew; Berthier, Etienne; Bolch, Tob...</td>\n",
       "      <td>-136.945045</td>\n",
       "      <td>59.534665</td>\n",
       "      <td>POLYGON Z ((-136.95316 59.51861 0.00000, -136....</td>\n",
       "      <td>0.000009</td>\n",
       "      <td>20624</td>\n",
       "      <td>5.292743e+06</td>\n",
       "    </tr>\n",
       "  </tbody>\n",
       "</table>\n",
       "<p>1 rows × 36 columns</p>\n",
       "</div>"
      ],
      "text/plain": [
       "        line_type  anlys_id         glac_id           anlys_time  \\\n",
       "35115  glac_bound  409341.0  G223040E59540N  2015-07-16T00:00:00   \n",
       "\n",
       "               area  db_area  width  length  primeclass  min_elev  ...  \\\n",
       "35115  5.894882e+06  7.08127    0.0     0.0         0.0    1436.0  ...   \n",
       "\n",
       "       glob_unc_x  glob_unc_y      submitters  \\\n",
       "35115          80          80  Cogley, Graham   \n",
       "\n",
       "                                                analysts      CenLon  \\\n",
       "35115  Beedle, Matthew; Berthier, Etienne; Bolch, Tob... -136.945045   \n",
       "\n",
       "          CenLat                                           geometry  distance  \\\n",
       "35115  59.534665  POLYGON Z ((-136.95316 59.51861 0.00000, -136....  0.000009   \n",
       "\n",
       "       other_id    area_other  \n",
       "35115     20624  5.292743e+06  \n",
       "\n",
       "[1 rows x 36 columns]"
      ]
     },
     "execution_count": 59,
     "metadata": {},
     "output_type": "execute_result"
    }
   ],
   "source": [
    "pb_rgi7"
   ]
  },
  {
   "cell_type": "code",
   "execution_count": 60,
   "id": "ultimate-mainland",
   "metadata": {},
   "outputs": [
    {
     "data": {
      "image/png": "[encoded data removed]",
      "text/plain": [
       "<Figure size 432x288 with 1 Axes>"
      ]
     },
     "metadata": {
      "needs_background": "light"
     },
     "output_type": "display_data"
    }
   ],
   "source": [
    "pb_rgi7.plot(edgecolor='k');"
   ]
  },
  {
   "cell_type": "code",
   "execution_count": 62,
   "id": "30ba3ebb-9ed5-47c9-8b44-718882932630",
   "metadata": {},
   "outputs": [
    {
     "data": {
      "text/html": [
       "<div>\n",
       "<style scoped>\n",
       "    .dataframe tbody tr th:only-of-type {\n",
       "        vertical-align: middle;\n",
       "    }\n",
       "\n",
       "    .dataframe tbody tr th {\n",
       "        vertical-align: top;\n",
       "    }\n",
       "\n",
       "    .dataframe thead th {\n",
       "        text-align: right;\n",
       "    }\n",
       "</style>\n",
       "<table border=\"1\" class=\"dataframe\">\n",
       "  <thead>\n",
       "    <tr style=\"text-align: right;\">\n",
       "      <th></th>\n",
       "      <th>RGIId</th>\n",
       "      <th>GLIMSId</th>\n",
       "      <th>BgnDate</th>\n",
       "      <th>EndDate</th>\n",
       "      <th>CenLon</th>\n",
       "      <th>CenLat</th>\n",
       "      <th>O1Region</th>\n",
       "      <th>O2Region</th>\n",
       "      <th>Area</th>\n",
       "      <th>Zmin</th>\n",
       "      <th>...</th>\n",
       "      <th>Status</th>\n",
       "      <th>Connect</th>\n",
       "      <th>Form</th>\n",
       "      <th>TermType</th>\n",
       "      <th>Surging</th>\n",
       "      <th>Linkages</th>\n",
       "      <th>Name</th>\n",
       "      <th>geometry</th>\n",
       "      <th>Area_us</th>\n",
       "      <th>area</th>\n",
       "    </tr>\n",
       "  </thead>\n",
       "  <tbody>\n",
       "    <tr>\n",
       "      <th>20625</th>\n",
       "      <td>RGI60-01.20630</td>\n",
       "      <td>G223041E59536N</td>\n",
       "      <td>20100915</td>\n",
       "      <td>-9999999</td>\n",
       "      <td>-136.946918</td>\n",
       "      <td>59.536956</td>\n",
       "      <td>1</td>\n",
       "      <td>6</td>\n",
       "      <td>5.293</td>\n",
       "      <td>1401</td>\n",
       "      <td>...</td>\n",
       "      <td>0</td>\n",
       "      <td>0</td>\n",
       "      <td>0</td>\n",
       "      <td>0</td>\n",
       "      <td>9</td>\n",
       "      <td>9</td>\n",
       "      <td>None</td>\n",
       "      <td>POLYGON ((-136.95316 59.51861, -136.95358 59.5...</td>\n",
       "      <td>5.292743e+06</td>\n",
       "      <td>5.292743e+06</td>\n",
       "    </tr>\n",
       "    <tr>\n",
       "      <th>25908</th>\n",
       "      <td>RGI60-01.25913</td>\n",
       "      <td>G223035E59518N</td>\n",
       "      <td>20100915</td>\n",
       "      <td>-9999999</td>\n",
       "      <td>-136.964661</td>\n",
       "      <td>59.517644</td>\n",
       "      <td>1</td>\n",
       "      <td>6</td>\n",
       "      <td>0.602</td>\n",
       "      <td>1693</td>\n",
       "      <td>...</td>\n",
       "      <td>0</td>\n",
       "      <td>0</td>\n",
       "      <td>0</td>\n",
       "      <td>0</td>\n",
       "      <td>9</td>\n",
       "      <td>9</td>\n",
       "      <td>None</td>\n",
       "      <td>POLYGON ((-136.95316 59.51861, -136.95370 59.5...</td>\n",
       "      <td>6.022075e+05</td>\n",
       "      <td>6.022075e+05</td>\n",
       "    </tr>\n",
       "  </tbody>\n",
       "</table>\n",
       "<p>2 rows × 25 columns</p>\n",
       "</div>"
      ],
      "text/plain": [
       "                RGIId         GLIMSId   BgnDate   EndDate      CenLon  \\\n",
       "20625  RGI60-01.20630  G223041E59536N  20100915  -9999999 -136.946918   \n",
       "25908  RGI60-01.25913  G223035E59518N  20100915  -9999999 -136.964661   \n",
       "\n",
       "          CenLat O1Region O2Region   Area  Zmin  ...  Status  Connect  Form  \\\n",
       "20625  59.536956        1        6  5.293  1401  ...       0        0     0   \n",
       "25908  59.517644        1        6  0.602  1693  ...       0        0     0   \n",
       "\n",
       "       TermType  Surging  Linkages  Name  \\\n",
       "20625         0        9         9  None   \n",
       "25908         0        9         9  None   \n",
       "\n",
       "                                                geometry       Area_us  \\\n",
       "20625  POLYGON ((-136.95316 59.51861, -136.95358 59.5...  5.292743e+06   \n",
       "25908  POLYGON ((-136.95316 59.51861, -136.95370 59.5...  6.022075e+05   \n",
       "\n",
       "               area  \n",
       "20625  5.292743e+06  \n",
       "25908  6.022075e+05  \n",
       "\n",
       "[2 rows x 25 columns]"
      ]
     },
     "execution_count": 62,
     "metadata": {},
     "output_type": "execute_result"
    }
   ],
   "source": [
    "df_ref"
   ]
  },
  {
   "cell_type": "code",
   "execution_count": 61,
   "id": "98821fbb-87e9-4516-9537-ed747443ca2d",
   "metadata": {},
   "outputs": [
    {
     "data": {
      "image/png": "[encoded data removed]",
      "text/plain": [
       "<Figure size 432x288 with 1 Axes>"
      ]
     },
     "metadata": {
      "needs_background": "light"
     },
     "output_type": "display_data"
    }
   ],
   "source": [
    "df_ref.plot(edgecolor='k');"
   ]
  },
  {
   "cell_type": "markdown",
   "id": "weighted-picture",
   "metadata": {},
   "source": [
    "We have found the problem! Reported here: https://github.com/GLIMS-RGI/glims_issue_tracker/issues/5"
   ]
  },
  {
   "cell_type": "code",
   "execution_count": 63,
   "id": "toxic-journalism",
   "metadata": {},
   "outputs": [
    {
     "data": {
      "image/png": "[encoded data removed]",
      "text/plain": [
       "<Figure size 432x288 with 1 Axes>"
      ]
     },
     "metadata": {
      "needs_background": "light"
     },
     "output_type": "display_data"
    }
   ],
   "source": [
    "pb_rgi7.buffer(0).plot(edgecolor='k');"
   ]
  },
  {
   "cell_type": "code",
   "execution_count": 64,
   "id": "dangerous-sessions",
   "metadata": {},
   "outputs": [],
   "source": [
    "# Output directories\n",
    "output_dir = mkdir(os.path.join(data_dir, 'l3_problem_glaciers'))\n",
    "output_dir_tar = mkdir(os.path.join(data_dir, 'l3_problem_glaciers_tar'))"
   ]
  },
  {
   "cell_type": "code",
   "execution_count": 65,
   "id": "extraordinary-nepal",
   "metadata": {},
   "outputs": [
    {
     "name": "stdout",
     "output_type": "stream",
     "text": [
      "Writing...\n",
      "Taring...\n",
      "CompletedProcess(args=['tar', '-zcvf', '../../rgi7_data/l3_problem_glaciers_tar/RGI01.tar.gz', '-C', '../../rgi7_data/l3_problem_glaciers', 'RGI01'], returncode=0)\n"
     ]
    }
   ],
   "source": [
    "dd = mkdir(f'{output_dir}/RGI{reg:02d}/', reset=True)\n",
    "\n",
    "print('Writing...')\n",
    "pb_rgi7.to_file(dd + f'RGI{reg:02d}_glims.shp')\n",
    "df_ref.to_file(dd + f'RGI{reg:02d}_ref.shp')\n",
    "\n",
    "print('Taring...')\n",
    "print(subprocess.run(['tar', '-zcvf', f'{output_dir_tar}/RGI{reg:02d}.tar.gz', '-C', output_dir, f'RGI{reg:02d}']))"
   ]
  },
  {
   "cell_type": "code",
   "execution_count": null,
   "id": "marked-respect",
   "metadata": {},
   "outputs": [],
   "source": []
  }
 ],
 "metadata": {
  "kernelspec": {
   "display_name": "Python 3",
   "language": "python",
   "name": "python3"
  },
  "language_info": {
   "codemirror_mode": {
    "name": "ipython",
    "version": 3
   },
   "file_extension": ".py",
   "mimetype": "text/x-python",
   "name": "python",
   "nbconvert_exporter": "python",
   "pygments_lexer": "ipython3",
   "version": "3.8.8"
  }
 },
 "nbformat": 4,
 "nbformat_minor": 5
}
