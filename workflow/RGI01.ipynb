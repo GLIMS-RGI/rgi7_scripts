{
 "cells": [
  {
   "cell_type": "markdown",
   "id": "valid-miracle",
   "metadata": {},
   "source": [
    "# RGI01 outlines selection\n",
    "\n",
    "F. Maussion & S. Galos, June 2021"
   ]
  },
  {
   "cell_type": "markdown",
   "id": "martial-recipe",
   "metadata": {},
   "source": [
    "Strictly equivalent to RGI6."
   ]
  },
  {
   "cell_type": "code",
   "execution_count": 1,
   "id": "durable-article",
   "metadata": {},
   "outputs": [],
   "source": [
    "import pandas as pd\n",
    "import geopandas as gpd\n",
    "import subprocess\n",
    "import matplotlib.pyplot as plt\n",
    "import numpy as np\n",
    "from utils import mkdir\n",
    "import os"
   ]
  },
  {
   "cell_type": "code",
   "execution_count": 2,
   "id": "composed-detail",
   "metadata": {},
   "outputs": [],
   "source": [
    "# Region of interest\n",
    "reg = 1\n",
    "\n",
    "# go down from rgi7_scripts/workflow\n",
    "data_dir = '../../rgi7_data/'\n",
    "\n",
    "# Level 2 GLIMS files\n",
    "l2_dir = os.path.join(data_dir, 'l2_sel_reg_tars')\n",
    "\n",
    "# Output directories\n",
    "output_dir = mkdir(os.path.join(data_dir, 'l3_rgi7a'))\n",
    "output_dir_tar = mkdir(os.path.join(data_dir, 'l3_rgi7a_tar'))\n",
    "\n",
    "# RGI v6 file for comparison later \n",
    "rgi6_reg_file = os.path.join(data_dir, 'l0_RGIv6', '01_rgi60_Alaska.zip')"
   ]
  },
  {
   "cell_type": "code",
   "execution_count": 3,
   "id": "hollow-simpson",
   "metadata": {},
   "outputs": [],
   "source": [
    "# Read L2 files\n",
    "shp = gpd.read_file('tar://' + os.path.join(l2_dir, f'RGI{reg:02d}.tar.gz/RGI{reg:02d}/RGI{reg:02d}.shp'))"
   ]
  },
  {
   "cell_type": "markdown",
   "id": "domestic-bacteria",
   "metadata": {},
   "source": [
    "## Outline selection "
   ]
  },
  {
   "cell_type": "code",
   "execution_count": 4,
   "id": "environmental-circulation",
   "metadata": {},
   "outputs": [
    {
     "data": {
      "text/plain": [
       "array(['Beedle, Matthew', 'Manley, William', 'Herreid, Samuel',\n",
       "       'Frey, Holger; Le Bris, Raymond; Paul, Frank', 'Rich, Justin',\n",
       "       'Bolch, Tobias',\n",
       "       'Beedle, Matthew; Berthier, Etienne; Bolch, Tobias; Burgess, Evan; Cogley, Graham; Forster, Richard; Giffen, Bruce A.; Hall, Dorothy K.; Kienholz, Christian; LeBris, Raymond; Manley, William',\n",
       "       'Maraldo, Dean'], dtype=object)"
      ]
     },
     "execution_count": 4,
     "metadata": {},
     "output_type": "execute_result"
    }
   ],
   "source": [
    "# List analysts\n",
    "shp.analysts.unique()"
   ]
  },
  {
   "cell_type": "markdown",
   "id": "sensitive-reader",
   "metadata": {},
   "source": [
    "For this region selecting glaciers can be done either by analyst or by \"proc_desc\":"
   ]
  },
  {
   "cell_type": "code",
   "execution_count": 5,
   "id": "reported-vegetation",
   "metadata": {},
   "outputs": [
    {
     "data": {
      "text/plain": [
       "27106"
      ]
     },
     "execution_count": 5,
     "metadata": {},
     "output_type": "execute_result"
    }
   ],
   "source": [
    "sel_analysts = ('Beedle, Matthew; Berthier, Etienne; Bolch, Tobias; Burgess, Evan; Cogley, Graham; '\n",
    "                'Forster, Richard; Giffen, Bruce A.; Hall, Dorothy K.; Kienholz, Christian; LeBris, Raymond; Manley, William')\n",
    "len(shp.loc[shp.analysts == sel_analysts])"
   ]
  },
  {
   "cell_type": "code",
   "execution_count": 6,
   "id": "square-price",
   "metadata": {},
   "outputs": [
    {
     "data": {
      "text/plain": [
       "27106"
      ]
     },
     "execution_count": 6,
     "metadata": {},
     "output_type": "execute_result"
    }
   ],
   "source": [
    "sel_proc_desc = ('Semi-automated glacier classification.; From Randolph Glacier Inventory Version 5.0. Source file: 01_rgi50_Alaska.zip.  '\n",
    "                 'See http://www.glims.org/RGI/.  GLIMS IDs were adjusted and metadata was added at NSIDC.')\n",
    "len(shp.loc[shp.proc_desc == sel_proc_desc])"
   ]
  },
  {
   "cell_type": "code",
   "execution_count": 7,
   "id": "motivated-athens",
   "metadata": {},
   "outputs": [],
   "source": [
    "rgi7 = shp.loc[shp.analysts == sel_analysts].copy()"
   ]
  },
  {
   "cell_type": "markdown",
   "id": "smaller-fault",
   "metadata": {},
   "source": [
    "## Write out and tar "
   ]
  },
  {
   "cell_type": "code",
   "execution_count": 8,
   "id": "proved-memory",
   "metadata": {},
   "outputs": [
    {
     "name": "stdout",
     "output_type": "stream",
     "text": [
      "Writing...\n",
      "Taring...\n",
      "CompletedProcess(args=['tar', '-zcvf', '../../rgi7_data/l3_rgi7a_tar/RGI01.tar.gz', '-C', '../../rgi7_data/l3_rgi7a', 'RGI01'], returncode=0)\n"
     ]
    }
   ],
   "source": [
    "dd = mkdir(f'{output_dir}/RGI{reg:02d}/', reset=True)\n",
    "\n",
    "print('Writing...')\n",
    "rgi7.to_file(dd + f'RGI{reg:02d}.shp')\n",
    "\n",
    "print('Taring...')\n",
    "print(subprocess.run(['tar', '-zcvf', f'{output_dir_tar}/RGI{reg:02d}.tar.gz', '-C', output_dir, f'RGI{reg:02d}']))"
   ]
  },
  {
   "cell_type": "markdown",
   "id": "closed-olive",
   "metadata": {},
   "source": [
    "## Consistency check with RGI6 "
   ]
  },
  {
   "cell_type": "code",
   "execution_count": 9,
   "id": "imposed-payment",
   "metadata": {},
   "outputs": [],
   "source": [
    "# Just to know the name of the file to open from zip\n",
    "import zipfile\n",
    "with zipfile.ZipFile(rgi6_reg_file, \"r\") as z:\n",
    "    for f in z.filelist:\n",
    "        if 'shp' in f.filename:\n",
    "            fn = f.filename"
   ]
  },
  {
   "cell_type": "code",
   "execution_count": 10,
   "id": "fewer-hunger",
   "metadata": {},
   "outputs": [],
   "source": [
    "rgi6 = gpd.read_file('zip://' + rgi6_reg_file + '/' + fn)"
   ]
  },
  {
   "cell_type": "code",
   "execution_count": 11,
   "id": "cheap-prophet",
   "metadata": {},
   "outputs": [
    {
     "data": {
      "text/plain": [
       "(27106, 27108)"
      ]
     },
     "execution_count": 11,
     "metadata": {},
     "output_type": "execute_result"
    }
   ],
   "source": [
    "len(rgi7), len(rgi6)"
   ]
  },
  {
   "cell_type": "markdown",
   "id": "systematic-contribution",
   "metadata": {},
   "source": [
    "There are two missing glaciers! One has been wrongly attributed to Region 1 in RGI6 (`RGI60-01.05285`), another we don't know yet."
   ]
  },
  {
   "cell_type": "code",
   "execution_count": 12,
   "id": "moved-lyric",
   "metadata": {},
   "outputs": [],
   "source": [
    "# Remove wrongly attributed glacier from RGI6\n",
    "rgi6 = rgi6.loc[rgi6.RGIId != 'RGI60-01.05285'].copy()"
   ]
  },
  {
   "cell_type": "markdown",
   "id": "selective-hospital",
   "metadata": {},
   "source": [
    "Test the areas:"
   ]
  },
  {
   "cell_type": "code",
   "execution_count": 13,
   "id": "statistical-threshold",
   "metadata": {},
   "outputs": [],
   "source": [
    "rgi6['Area_us'] = rgi6.to_crs({'proj':'cea'}).area \n",
    "rgi7['area'] = rgi7.to_crs({'proj':'cea'}).area "
   ]
  },
  {
   "cell_type": "code",
   "execution_count": 14,
   "id": "contrary-mount",
   "metadata": {},
   "outputs": [
    {
     "name": "stdout",
     "output_type": "stream",
     "text": [
      "Area RGI7a (km2) 86724.5510826829\n",
      "Area RGI6 (km2) 86724.631\n",
      "Area RGI6 computed by us (km2) 86724.5515302422\n",
      "diff areas RGI6 - RGI7 computed by us (m2) 447.5592956542969\n"
     ]
    }
   ],
   "source": [
    "print('Area RGI7a (km2)', rgi7['area'].sum() * 1e-6)\n",
    "print('Area RGI6 (km2)', rgi6['Area'].sum())\n",
    "print('Area RGI6 computed by us (km2)', rgi6['Area_us'].sum() * 1e-6)\n",
    "print('diff areas RGI6 - RGI7 computed by us (m2)', rgi6['Area_us'].sum() - rgi7['area'].sum())"
   ]
  },
  {
   "cell_type": "markdown",
   "id": "opponent-multiple",
   "metadata": {},
   "source": [
    "So, the difference is really small... BUT this one glacier less is intriging."
   ]
  },
  {
   "cell_type": "markdown",
   "id": "qualified-calgary",
   "metadata": {},
   "source": [
    "### Find the missing glacier "
   ]
  },
  {
   "cell_type": "code",
   "execution_count": 15,
   "id": "compliant-samba",
   "metadata": {},
   "outputs": [],
   "source": [
    "df_ref = rgi6\n",
    "df_ref['area'] = rgi6['Area_us'] "
   ]
  },
  {
   "cell_type": "code",
   "execution_count": 16,
   "id": "elder-webmaster",
   "metadata": {},
   "outputs": [],
   "source": [
    "from utils import haversine\n",
    "import progressbar"
   ]
  },
  {
   "cell_type": "code",
   "execution_count": 17,
   "id": "champion-closer",
   "metadata": {},
   "outputs": [],
   "source": [
    "def xy_coord(geom):\n",
    "    \"\"\"To compute CenLon CenLat ourselves\"\"\"\n",
    "    x, y = geom.xy\n",
    "    return x[0], y[0]"
   ]
  },
  {
   "cell_type": "code",
   "execution_count": 18,
   "id": "anticipated-bottle",
   "metadata": {},
   "outputs": [],
   "source": [
    "# compute CenLon CenLat ourselves\n",
    "rp = df_ref.representative_point()\n",
    "\n",
    "coordinates = np.array(list(rp.apply(xy_coord)))\n",
    "df_ref['CenLon'] = coordinates[:, 0]\n",
    "df_ref['CenLat'] = coordinates[:, 1]"
   ]
  },
  {
   "cell_type": "code",
   "execution_count": 19,
   "id": "remarkable-cornell",
   "metadata": {},
   "outputs": [],
   "source": [
    "df_ref_orig = df_ref.copy()"
   ]
  },
  {
   "cell_type": "code",
   "execution_count": 20,
   "id": "frequent-mercy",
   "metadata": {},
   "outputs": [
    {
     "name": "stderr",
     "output_type": "stream",
     "text": [
      "100% (27106 of 27106) |##################| Elapsed Time: 0:00:27 Time:  0:00:27\n"
     ]
    }
   ],
   "source": [
    "# Loop over all RGI7 glaciers and find their equivalent in ref\n",
    "df_ref = df_ref_orig.copy()\n",
    "not_found = {}\n",
    "to_drop = []\n",
    "for i, (ref_area, lon, lat) in progressbar.progressbar(enumerate(zip(rgi7['area'].values, rgi7.CenLon.values, rgi7.CenLat.values)), max_value=len(rgi7)):\n",
    "#     dist = haversine(lon, lat, df_ref.CenLon.values, df_ref.CenLat.values)\n",
    "    dist = (lon - df_ref.CenLon.values)**2 + (lat - df_ref.CenLat.values)**2 \n",
    "    found = False\n",
    "    for j in np.argsort(dist)[:10]:\n",
    "        s6 = df_ref.iloc[j]\n",
    "        if np.allclose(s6['area'], ref_area, rtol=0.001):\n",
    "            found = True\n",
    "            to_drop.append(s6.name)\n",
    "            break\n",
    "    if not found:\n",
    "        not_found[i] = df_ref.iloc[np.argsort(dist)[:10]]\n",
    "    if len(to_drop) > 1000:\n",
    "        df_ref.drop(labels=to_drop, inplace=True)\n",
    "        to_drop = []\n",
    "df_ref.drop(labels=to_drop, inplace=True)"
   ]
  },
  {
   "cell_type": "code",
   "execution_count": 21,
   "id": "pediatric-chemical",
   "metadata": {},
   "outputs": [
    {
     "name": "stdout",
     "output_type": "stream",
     "text": [
      "1 2\n"
     ]
    }
   ],
   "source": [
    "print(len(not_found), len(df_ref))"
   ]
  },
  {
   "cell_type": "code",
   "execution_count": 22,
   "id": "english-precipitation",
   "metadata": {},
   "outputs": [],
   "source": [
    "pb_rgi7 = rgi7.iloc[list(not_found.keys())]"
   ]
  },
  {
   "cell_type": "code",
   "execution_count": 23,
   "id": "ultimate-mainland",
   "metadata": {},
   "outputs": [
    {
     "data": {
      "image/png": "[encoded data removed]",
      "text/plain": [
       "<Figure size 432x288 with 1 Axes>"
      ]
     },
     "metadata": {
      "needs_background": "light"
     },
     "output_type": "display_data"
    }
   ],
   "source": [
    "for i, k in enumerate(not_found.keys()):\n",
    "    ax = rgi7.iloc[[k]].plot(edgecolor='k');"
   ]
  },
  {
   "cell_type": "code",
   "execution_count": 24,
   "id": "affected-presence",
   "metadata": {},
   "outputs": [
    {
     "data": {
      "image/png": "[encoded data removed]",
      "text/plain": [
       "<Figure size 432x288 with 1 Axes>"
      ]
     },
     "metadata": {
      "needs_background": "light"
     },
     "output_type": "display_data"
    },
    {
     "data": {
      "image/png": "[encoded data removed]",
      "text/plain": [
       "<Figure size 432x288 with 1 Axes>"
      ]
     },
     "metadata": {
      "needs_background": "light"
     },
     "output_type": "display_data"
    }
   ],
   "source": [
    "for i, k in enumerate(range(len(df_ref))):\n",
    "    ax = df_ref.iloc[[i]].plot(edgecolor='k');"
   ]
  },
  {
   "cell_type": "markdown",
   "id": "weighted-picture",
   "metadata": {},
   "source": [
    "We have found the problem! Reported here: https://github.com/GLIMS-RGI/glims_issue_tracker/issues/5"
   ]
  },
  {
   "cell_type": "code",
   "execution_count": 28,
   "id": "toxic-journalism",
   "metadata": {},
   "outputs": [
    {
     "data": {
      "image/png": "[encoded data removed]",
      "text/plain": [
       "<Figure size 432x288 with 1 Axes>"
      ]
     },
     "metadata": {
      "needs_background": "light"
     },
     "output_type": "display_data"
    }
   ],
   "source": [
    "pb_rgi7.buffer(0).plot(edgecolor='k');"
   ]
  },
  {
   "cell_type": "code",
   "execution_count": 25,
   "id": "dangerous-sessions",
   "metadata": {},
   "outputs": [],
   "source": [
    "# Output directories\n",
    "output_dir = mkdir(os.path.join(data_dir, 'l3_problem_glaciers'))\n",
    "output_dir_tar = mkdir(os.path.join(data_dir, 'l3_problem_glaciers_tar'))"
   ]
  },
  {
   "cell_type": "code",
   "execution_count": 26,
   "id": "extraordinary-nepal",
   "metadata": {},
   "outputs": [
    {
     "name": "stdout",
     "output_type": "stream",
     "text": [
      "Writing...\n",
      "Taring...\n",
      "CompletedProcess(args=['tar', '-zcvf', '../../rgi7_data/l3_problem_glaciers_tar/RGI01.tar.gz', '-C', '../../rgi7_data/l3_problem_glaciers', 'RGI01'], returncode=0)\n"
     ]
    }
   ],
   "source": [
    "dd = mkdir(f'{output_dir}/RGI{reg:02d}/', reset=True)\n",
    "\n",
    "print('Writing...')\n",
    "pb_rgi7.to_file(dd + f'RGI{reg:02d}_glims.shp')\n",
    "df_ref.to_file(dd + f'RGI{reg:02d}_ref.shp')\n",
    "\n",
    "print('Taring...')\n",
    "print(subprocess.run(['tar', '-zcvf', f'{output_dir_tar}/RGI{reg:02d}.tar.gz', '-C', output_dir, f'RGI{reg:02d}']))"
   ]
  },
  {
   "cell_type": "code",
   "execution_count": null,
   "id": "marked-respect",
   "metadata": {},
   "outputs": [],
   "source": []
  }
 ],
 "metadata": {
  "kernelspec": {
   "display_name": "Python 3",
   "language": "python",
   "name": "python3"
  },
  "language_info": {
   "codemirror_mode": {
    "name": "ipython",
    "version": 3
   },
   "file_extension": ".py",
   "mimetype": "text/x-python",
   "name": "python",
   "nbconvert_exporter": "python",
   "pygments_lexer": "ipython3",
   "version": "3.8.8"
  }
 },
 "nbformat": 4,
 "nbformat_minor": 5
}
