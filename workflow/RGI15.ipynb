{
 "cells": [
  {
   "cell_type": "markdown",
   "id": "dynamic-portfolio",
   "metadata": {},
   "source": [
    "# RGI15 (South Asia, East)\n",
    "\n",
    "F. Maussion & S. Galos"
   ]
  },
  {
   "cell_type": "code",
   "execution_count": null,
   "id": "cooked-irrigation",
   "metadata": {},
   "outputs": [],
   "source": [
    "import pandas as pd\n",
    "import geopandas as gpd\n",
    "import subprocess\n",
    "import matplotlib.pyplot as plt\n",
    "import matplotlib.patches as mpatches\n",
    "import seaborn as sns\n",
    "import numpy as np\n",
    "from utils import (mkdir, submission_summary, needs_size_filter, size_filter, plot_map, plot_date_hist, \n",
    "                   find_duplicates, open_zip_shapefile, correct_geoms, fix_overaps)\n",
    "import os"
   ]
  },
  {
   "cell_type": "markdown",
   "id": "ongoing-shirt",
   "metadata": {},
   "source": [
    "### specify RGI-region and storage paths"
   ]
  },
  {
   "cell_type": "code",
   "execution_count": null,
   "id": "prepared-generator",
   "metadata": {},
   "outputs": [],
   "source": [
    "# Region of interest\n",
    "reg = 15\n",
    "\n",
    "# go down from rgi7_scripts/workflow\n",
    "data_dir = '../../rgi7_data/'\n",
    "\n",
    "# Level 2 GLIMS files\n",
    "l2_dir = os.path.join(data_dir, 'l2_sel_reg_tars')\n",
    "\n",
    "# Output directories\n",
    "output_dir = mkdir(os.path.join(data_dir, 'l3_rgi7a'))\n",
    "output_dir_tar = mkdir(os.path.join(data_dir, 'l3_rgi7a_tar'))\n",
    "\n",
    "# RGI v6 file for comparison later \n",
    "rgi6_reg_file = os.path.join(data_dir, 'l0_RGIv6', '15_rgi60_SouthAsiaEast.zip')\n",
    "\n",
    "# Region is based on GAMDAM, use for comparison\n",
    "support_dir = os.path.join(data_dir, 'l0_support_data')\n",
    "gamdam_dir = os.path.join(support_dir, 'gamdam')"
   ]
  },
  {
   "cell_type": "markdown",
   "id": "cardiac-plant",
   "metadata": {},
   "source": [
    "### Load the input data"
   ]
  },
  {
   "cell_type": "code",
   "execution_count": null,
   "id": "charitable-security",
   "metadata": {},
   "outputs": [],
   "source": [
    "# Read L2 files\n",
    "shp = gpd.read_file('tar://' + l2_dir + f'/RGI{reg:02d}.tar.gz/RGI{reg:02d}/RGI{reg:02d}.shp')"
   ]
  },
  {
   "cell_type": "markdown",
   "id": "da73eb48-e035-4e90-aaca-411a6f4e822e",
   "metadata": {},
   "source": [
    "### List of submissions "
   ]
  },
  {
   "cell_type": "code",
   "execution_count": null,
   "id": "ff3cdeba-22d8-4441-8c0c-bf446b932af4",
   "metadata": {},
   "outputs": [],
   "source": [
    "sdf, _ = submission_summary(shp)\n",
    "sdf"
   ]
  },
  {
   "cell_type": "code",
   "execution_count": null,
   "id": "093f003a-6051-429c-98fb-aa93047ab169",
   "metadata": {},
   "outputs": [],
   "source": [
    "# # Optional: write out selection in intermediate shape files for manual GIS review\n",
    "# tmp_output_dir = mkdir(os.path.join(data_dir, 'l0_tmp_data', f'rgi{reg:02d}_inventories'))\n",
    "# tmp_output_dir_tar = mkdir(os.path.join(data_dir, 'l0_tmp_data'))\n",
    "# for subid in shp.subm_id.unique():\n",
    "#     s_loc = shp.loc[shp.subm_id == subid]\n",
    "#     s_loc.to_file(tmp_output_dir + f'/subm_{int(subid):03d}.shp')\n",
    "# print('Taring...')\n",
    "# print(subprocess.run(['tar', '-zcvf', f'{tmp_output_dir_tar}/rgi{reg:02d}_inventories.tar.gz', '-C', \n",
    "#                       os.path.join(data_dir, 'l0_tmp_data'), f'rgi{reg:02d}_inventories']))"
   ]
  },
  {
   "cell_type": "markdown",
   "id": "4d3f5c5d-c750-4663-b16a-94a89f2da647",
   "metadata": {},
   "source": [
    "## Outline selection "
   ]
  },
  {
   "cell_type": "markdown",
   "id": "2982362d-829f-4623-87b1-ca8f55fc994b",
   "metadata": {},
   "source": [
    "### Apply selection criteria to create the RGI-07 data subset"
   ]
  },
  {
   "cell_type": "code",
   "execution_count": null,
   "id": "636f8967-f2bd-446e-9d60-64d5ee460bef",
   "metadata": {},
   "outputs": [],
   "source": [
    "# There are 10 ids in Sakai that are replaced by 9 Bolch outlines (one covers two)\n",
    "replace_ids = [905769, 905912, 905983, 905984, 906004, 906092, 906107, 906241, 906286, 906319]"
   ]
  },
  {
   "cell_type": "code",
   "execution_count": null,
   "id": "07f1e9cc-1ca0-40a4-a9bb-3357971b0b16",
   "metadata": {},
   "outputs": [],
   "source": [
    "# try to get the data relevant for RGI07 and select by attributes\n",
    "rgi7 = shp.loc[shp['subm_id'].isin([752, 765])].copy()\n",
    "print(len(rgi7))\n",
    "rgi7 = rgi7.loc[~rgi7['anlys_id'].isin(replace_ids)]\n",
    "print(len(rgi7))\n",
    "rgi7['is_rgi6'] = False"
   ]
  },
  {
   "cell_type": "code",
   "execution_count": null,
   "id": "224c2f07-2234-4db4-b95e-361912208593",
   "metadata": {},
   "outputs": [],
   "source": [
    "# Size filter?\n",
    "needs_size_filter(rgi7)"
   ]
  },
  {
   "cell_type": "markdown",
   "id": "c0f251ae-0b3a-4aea-a01d-71931b0ed197",
   "metadata": {},
   "source": [
    "### Some sanity checks "
   ]
  },
  {
   "cell_type": "code",
   "execution_count": null,
   "id": "337c3c21-12cb-4042-a333-995f3a4f2974",
   "metadata": {},
   "outputs": [],
   "source": [
    "dupes = find_duplicates(rgi7)"
   ]
  },
  {
   "cell_type": "code",
   "execution_count": null,
   "id": "cc3ebeb8-1a01-4675-9150-502942093b8f",
   "metadata": {},
   "outputs": [],
   "source": [
    "rgi7 = correct_geoms(rgi7)"
   ]
  },
  {
   "cell_type": "code",
   "execution_count": null,
   "id": "df71c20f-94b6-4f24-b253-3427a618e8eb",
   "metadata": {},
   "outputs": [],
   "source": [
    "rgi7 = fix_overaps(rgi7)"
   ]
  },
  {
   "cell_type": "code",
   "execution_count": null,
   "id": "059f071a-a0f8-4f4f-8b27-d1ff169f4fed",
   "metadata": {},
   "outputs": [],
   "source": [
    "rgi7 = correct_geoms(rgi7)"
   ]
  },
  {
   "cell_type": "code",
   "execution_count": null,
   "id": "3fba6062-ec5d-477a-b437-8b452151edf6",
   "metadata": {},
   "outputs": [],
   "source": [
    "print(len(rgi7))\n",
    "rgi7 = size_filter(rgi7)\n",
    "print(len(rgi7))"
   ]
  },
  {
   "cell_type": "code",
   "execution_count": null,
   "id": "74b92c15-609d-479b-9115-0e60a581d880",
   "metadata": {},
   "outputs": [],
   "source": [
    "sdf, df_class = submission_summary(rgi7)\n",
    "df_class"
   ]
  },
  {
   "cell_type": "code",
   "execution_count": null,
   "id": "355f9ef3-d8d1-4283-85a1-c08698ae32bd",
   "metadata": {},
   "outputs": [],
   "source": [
    "# Check the orphaned rock outcrops\n",
    "orphan_f = os.path.join(data_dir, 'l1_orphan_interiors', f'RGI{reg:02d}', f'RGI{reg:02d}.shp')\n",
    "if os.path.exists(orphan_f):\n",
    "    orphan_f = gpd.read_file(orphan_f)\n",
    "    check = np.isin(rgi7.subm_id.unique(), orphan_f.subm_id.unique())\n",
    "    if np.any(check):\n",
    "        print(f'Orphan rock outcrops detected in subm_id {rgi7.subm_id.unique()[check]}')\n",
    "        orphan_f['area'] = orphan_f.to_crs({'proj':'cea'}).area"
   ]
  },
  {
   "cell_type": "markdown",
   "id": "a89d499c-ad97-44cf-be50-ddb3f61d3955",
   "metadata": {},
   "source": [
    "### Plots "
   ]
  },
  {
   "cell_type": "code",
   "execution_count": null,
   "id": "c3bbaac3-6371-4735-9c3f-7d470b2246ea",
   "metadata": {},
   "outputs": [],
   "source": [
    "plot_map(rgi7, reg)"
   ]
  },
  {
   "cell_type": "code",
   "execution_count": null,
   "id": "e5db82d3-43a6-466f-9372-bc99953782a7",
   "metadata": {},
   "outputs": [],
   "source": [
    "plot_map(rgi7, reg, is_rgi6=True)"
   ]
  },
  {
   "cell_type": "code",
   "execution_count": null,
   "id": "fec4643d-1e1e-4800-8f2a-275ddafc19a2",
   "metadata": {},
   "outputs": [],
   "source": [
    "plot_date_hist(rgi7, reg)"
   ]
  },
  {
   "cell_type": "markdown",
   "id": "06ea5f60-96e8-43f2-b346-086f053234f4",
   "metadata": {},
   "source": [
    "### Text for github"
   ]
  },
  {
   "cell_type": "code",
   "execution_count": null,
   "id": "8250699c-9300-4758-a0d7-cfd6ad0f72c1",
   "metadata": {},
   "outputs": [],
   "source": [
    "fgh = sdf.T\n",
    "fgh"
   ]
  },
  {
   "cell_type": "code",
   "execution_count": null,
   "id": "c4d32ce3-6fbd-4759-8377-91cf3be56cce",
   "metadata": {},
   "outputs": [],
   "source": [
    "print(fgh.to_markdown(headers=np.append(['subm_id'], fgh.columns)))"
   ]
  },
  {
   "cell_type": "markdown",
   "id": "7d2b3ecd-d774-4224-b423-e86a5b8e5591",
   "metadata": {},
   "source": [
    "## Write out and tar "
   ]
  },
  {
   "cell_type": "code",
   "execution_count": null,
   "id": "78fba3b9-d7d1-47e4-87e7-f88bc3d18151",
   "metadata": {},
   "outputs": [],
   "source": [
    "dd = mkdir(f'{output_dir}/RGI{reg:02d}/', reset=True)\n",
    "\n",
    "print('Writing...')\n",
    "rgi7.to_file(dd + f'RGI{reg:02d}.shp')\n",
    "\n",
    "print('Taring...')\n",
    "print(subprocess.run(['tar', '-zcvf', f'{output_dir_tar}/RGI{reg:02d}.tar.gz', '-C', output_dir, f'RGI{reg:02d}']))"
   ]
  },
  {
   "cell_type": "markdown",
   "id": "4ddb1614-5abf-4e3f-bef7-9111c89c2eea",
   "metadata": {},
   "source": [
    "## New RGI-file created - Check result!"
   ]
  },
  {
   "cell_type": "markdown",
   "id": "2465939a-ecdf-4541-91e1-b414098b32db",
   "metadata": {},
   "source": [
    "load reference data (here GAMDAM original) to enable comparison"
   ]
  },
  {
   "cell_type": "code",
   "execution_count": null,
   "id": "fd25c3d0-72bd-4fed-a97a-d0743bdf61e8",
   "metadata": {},
   "outputs": [],
   "source": [
    "# Region file to select from gamdam\n",
    "reg_file = os.path.join(data_dir, '00_rgi70_regions', '00_rgi70_O1Regions', '00_rgi70_O1Regions.shp')"
   ]
  },
  {
   "cell_type": "code",
   "execution_count": null,
   "id": "09da2817-123c-4dee-aaf7-c76772280037",
   "metadata": {},
   "outputs": [],
   "source": [
    "# specify path to reference data set\n",
    "import glob\n",
    "from utils import open_zip_shapefile\n",
    "gam_files = glob.glob(gamdam_dir + '/*.zip')\n",
    "df_ref = []\n",
    "for gf in gam_files:\n",
    "    df_ref.append(open_zip_shapefile(gf))\n",
    "\n",
    "df_ref = pd.concat(df_ref).reset_index()"
   ]
  },
  {
   "cell_type": "code",
   "execution_count": null,
   "id": "73fb93bd-48c8-49c5-9228-b2919000e49b",
   "metadata": {},
   "outputs": [],
   "source": [
    "# Calculate representative points for reference data\n",
    "ref_rp = df_ref.representative_point()\n",
    "\n",
    "# Make a dataframe out of it and add the original index to recover it later\n",
    "ref_rp = ref_rp.to_frame('geometry')\n",
    "ref_rp['orig_index'] = df_ref.index\n",
    "\n",
    "# Read region file\n",
    "reg_f = gpd.read_file(reg_file)\n",
    "\n",
    "# Make the overlay with the RGI region of interest -> get the rep. points which are located inside the region boundaries\n",
    "ref_intersect = gpd.overlay(ref_rp, reg_f.loc[reg_f.RGI_CODE == f'{reg:02d}'], how='intersection')\n",
    "\n",
    "# Now select the entries which intersect from the original shape file (-> extract the polygons) \n",
    "df_ref = df_ref.loc[ref_intersect['orig_index'].values].copy()"
   ]
  },
  {
   "cell_type": "markdown",
   "id": "8b8e7749-73ba-481b-8c27-14cee7eb9a6b",
   "metadata": {},
   "source": [
    "### Number of elements (differences do not necessarily depict major problems)"
   ]
  },
  {
   "cell_type": "code",
   "execution_count": null,
   "id": "8123ff9f-1a59-484d-b6dd-444fe07572e9",
   "metadata": {},
   "outputs": [],
   "source": [
    "# Test only Sakai\n",
    "rgi7_ = shp.loc[shp['subm_id'].isin([752])].copy()"
   ]
  },
  {
   "cell_type": "code",
   "execution_count": null,
   "id": "76d5adae-6ad3-4e7f-8754-01e95625217f",
   "metadata": {},
   "outputs": [],
   "source": [
    "print('Number of glaciers in new RGI subset:', len(rgi7_))\n",
    "print('Number of glaciers in reference data:', len(df_ref))\n",
    "print('Difference:', len(rgi7_)-len(df_ref))"
   ]
  },
  {
   "cell_type": "markdown",
   "id": "49245c55-58bc-40a0-a8e9-943cd2e233e6",
   "metadata": {},
   "source": [
    "### Total area"
   ]
  },
  {
   "cell_type": "code",
   "execution_count": null,
   "id": "2d829d2c-b270-4cf4-aaeb-bc0b6300668f",
   "metadata": {},
   "outputs": [],
   "source": [
    "# add an area field to the selected GAMDAM table\n",
    "df_ref['area'] = df_ref.to_crs({'proj':'cea'}).area"
   ]
  },
  {
   "cell_type": "code",
   "execution_count": null,
   "id": "1fb64625-6d39-49c0-aba6-3b417f52284b",
   "metadata": {},
   "outputs": [],
   "source": [
    "# print and compare area values\n",
    "Area_RGI = rgi7_['area'].sum() * 1e-6\n",
    "print('Area RGI [km²]:', Area_RGI)\n",
    "Area_ref = df_ref['area'].sum() * 1e-6\n",
    "print('Area Ref [km²]:', Area_ref)\n",
    "d = (Area_RGI - Area_ref)\n",
    "print('Area difference [km²]:',d)"
   ]
  }
 ],
 "metadata": {
  "kernelspec": {
   "display_name": "Python 3 (ipykernel)",
   "language": "python",
   "name": "python3"
  },
  "language_info": {
   "codemirror_mode": {
    "name": "ipython",
    "version": 3
   },
   "file_extension": ".py",
   "mimetype": "text/x-python",
   "name": "python",
   "nbconvert_exporter": "python",
   "pygments_lexer": "ipython3",
   "version": "3.10.8"
  }
 },
 "nbformat": 4,
 "nbformat_minor": 5
}
