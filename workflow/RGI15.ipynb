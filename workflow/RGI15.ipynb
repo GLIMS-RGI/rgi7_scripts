{
 "cells": [
  {
   "cell_type": "markdown",
   "id": "dynamic-portfolio",
   "metadata": {},
   "source": [
    "# RGI15 (South Asia, East)\n",
    "\n",
    "F. Maussion & S. Galos"
   ]
  },
  {
   "cell_type": "code",
   "execution_count": 1,
   "id": "cooked-irrigation",
   "metadata": {},
   "outputs": [],
   "source": [
    "import pandas as pd\n",
    "import geopandas as gpd\n",
    "import subprocess\n",
    "import matplotlib.pyplot as plt\n",
    "import matplotlib.patches as mpatches\n",
    "import seaborn as sns\n",
    "import numpy as np\n",
    "from utils import mkdir, submission_summary, needs_size_filter, size_filter, plot_map, plot_date_hist\n",
    "import os"
   ]
  },
  {
   "cell_type": "markdown",
   "id": "ongoing-shirt",
   "metadata": {},
   "source": [
    "### specify RGI-region and storage paths"
   ]
  },
  {
   "cell_type": "code",
   "execution_count": 2,
   "id": "prepared-generator",
   "metadata": {},
   "outputs": [],
   "source": [
    "# Region of interest\n",
    "reg = 15\n",
    "\n",
    "# go down from rgi7_scripts/workflow\n",
    "data_dir = '../../rgi7_data/'\n",
    "\n",
    "# Level 2 GLIMS files\n",
    "l2_dir = os.path.join(data_dir, 'l2_sel_reg_tars')\n",
    "\n",
    "# Output directories\n",
    "output_dir = mkdir(os.path.join(data_dir, 'l3_rgi7a'))\n",
    "output_dir_tar = mkdir(os.path.join(data_dir, 'l3_rgi7a_tar'))\n",
    "\n",
    "# RGI v6 file for comparison later \n",
    "rgi6_reg_file = os.path.join(data_dir, 'l0_RGIv6', '15_rgi60_SouthAsiaEast.zip')\n",
    "\n",
    "# Region is based on GAMDAM, use for comparison\n",
    "support_dir = os.path.join(data_dir, 'l0_support_data')\n",
    "gamdam_dir = os.path.join(support_dir, 'gamdam')\n",
    "\n",
    "# Region file to select from gamdam\n",
    "reg_file = os.path.join(data_dir, 'l0_regions', '00_rgi70_regions', '00_rgi70_O1Regions.shp')"
   ]
  },
  {
   "cell_type": "markdown",
   "id": "cardiac-plant",
   "metadata": {},
   "source": [
    "### Load the input data"
   ]
  },
  {
   "cell_type": "code",
   "execution_count": 3,
   "id": "charitable-security",
   "metadata": {},
   "outputs": [],
   "source": [
    "# Read L2 files\n",
    "shp = gpd.read_file('tar://' + l2_dir + f'/RGI{reg:02d}.tar.gz/RGI{reg:02d}/RGI{reg:02d}.shp')"
   ]
  },
  {
   "cell_type": "markdown",
   "id": "da73eb48-e035-4e90-aaca-411a6f4e822e",
   "metadata": {},
   "source": [
    "### List of submissions "
   ]
  },
  {
   "cell_type": "code",
   "execution_count": 4,
   "id": "ff3cdeba-22d8-4441-8c0c-bf446b932af4",
   "metadata": {},
   "outputs": [
    {
     "data": {
      "text/html": [
       "<div>\n",
       "<style scoped>\n",
       "    .dataframe tbody tr th:only-of-type {\n",
       "        vertical-align: middle;\n",
       "    }\n",
       "\n",
       "    .dataframe tbody tr th {\n",
       "        vertical-align: top;\n",
       "    }\n",
       "\n",
       "    .dataframe thead th {\n",
       "        text-align: right;\n",
       "    }\n",
       "</style>\n",
       "<table border=\"1\" class=\"dataframe\">\n",
       "  <thead>\n",
       "    <tr style=\"text-align: right;\">\n",
       "      <th></th>\n",
       "      <th>N</th>\n",
       "      <th>A</th>\n",
       "      <th>analysts</th>\n",
       "      <th>submitters</th>\n",
       "      <th>release_date</th>\n",
       "      <th>geog_area</th>\n",
       "      <th>src_date_mode</th>\n",
       "      <th>src_date_min</th>\n",
       "      <th>src_date_max</th>\n",
       "    </tr>\n",
       "    <tr>\n",
       "      <th>subm_id</th>\n",
       "      <th></th>\n",
       "      <th></th>\n",
       "      <th></th>\n",
       "      <th></th>\n",
       "      <th></th>\n",
       "      <th></th>\n",
       "      <th></th>\n",
       "      <th></th>\n",
       "      <th></th>\n",
       "    </tr>\n",
       "  </thead>\n",
       "  <tbody>\n",
       "    <tr>\n",
       "      <th>500</th>\n",
       "      <td>286</td>\n",
       "      <td>579.3</td>\n",
       "      <td>Mool</td>\n",
       "      <td>Racoviteanu</td>\n",
       "      <td>2008</td>\n",
       "      <td>Himalaya (India, Nepal, Bhutan)</td>\n",
       "      <td>2000</td>\n",
       "      <td>2000</td>\n",
       "      <td>2000</td>\n",
       "    </tr>\n",
       "    <tr>\n",
       "      <th>529</th>\n",
       "      <td>3184</td>\n",
       "      <td>5294.0</td>\n",
       "      <td>Bajracharya</td>\n",
       "      <td>Racoviteanu</td>\n",
       "      <td>2008</td>\n",
       "      <td>Himalaya (India, Nepal, Bhutan)</td>\n",
       "      <td>1967</td>\n",
       "      <td>1959</td>\n",
       "      <td>1982</td>\n",
       "    </tr>\n",
       "    <tr>\n",
       "      <th>566</th>\n",
       "      <td>1382</td>\n",
       "      <td>1701.4</td>\n",
       "      <td>Frey, Paul</td>\n",
       "      <td>Paul</td>\n",
       "      <td>2011</td>\n",
       "      <td>Various (GlobGlacier)</td>\n",
       "      <td>2001</td>\n",
       "      <td>2001</td>\n",
       "      <td>2001</td>\n",
       "    </tr>\n",
       "    <tr>\n",
       "      <th>574</th>\n",
       "      <td>133</td>\n",
       "      <td>35.5</td>\n",
       "      <td>Bajracharya, Guo, Maharjan, Shrestha</td>\n",
       "      <td>Bajracharya</td>\n",
       "      <td>2014</td>\n",
       "      <td>Himalaya (India, Nepal, Bhutan)</td>\n",
       "      <td>2009</td>\n",
       "      <td>2009</td>\n",
       "      <td>2009</td>\n",
       "    </tr>\n",
       "    <tr>\n",
       "      <th>576</th>\n",
       "      <td>4900</td>\n",
       "      <td>5344.6</td>\n",
       "      <td>Bajracharya, Guo, Maharjan, Shrestha</td>\n",
       "      <td>Bajracharya</td>\n",
       "      <td>2014</td>\n",
       "      <td>Himalaya (India, Nepal, Bhutan)</td>\n",
       "      <td>2005</td>\n",
       "      <td>2005</td>\n",
       "      <td>2011</td>\n",
       "    </tr>\n",
       "    <tr>\n",
       "      <th>577</th>\n",
       "      <td>7778</td>\n",
       "      <td>8702.2</td>\n",
       "      <td>Bajracharya, Guo, Maharjan, Shrestha</td>\n",
       "      <td>Bajracharya</td>\n",
       "      <td>2014</td>\n",
       "      <td>Himalaya (India, Nepal, Bhutan)</td>\n",
       "      <td>2010</td>\n",
       "      <td>2006</td>\n",
       "      <td>2011</td>\n",
       "    </tr>\n",
       "    <tr>\n",
       "      <th>578</th>\n",
       "      <td>16</td>\n",
       "      <td>25.0</td>\n",
       "      <td>Bajracharya, Guo, Maharjan, Shrestha</td>\n",
       "      <td>Bajracharya</td>\n",
       "      <td>2014</td>\n",
       "      <td>Himalaya (India, Nepal, Bhutan)</td>\n",
       "      <td>2009</td>\n",
       "      <td>2006</td>\n",
       "      <td>2011</td>\n",
       "    </tr>\n",
       "    <tr>\n",
       "      <th>582</th>\n",
       "      <td>2126</td>\n",
       "      <td>2775.8</td>\n",
       "      <td>Guo, Liu</td>\n",
       "      <td>Liu</td>\n",
       "      <td>2014</td>\n",
       "      <td>China</td>\n",
       "      <td>1963</td>\n",
       "      <td>1963</td>\n",
       "      <td>1963</td>\n",
       "    </tr>\n",
       "    <tr>\n",
       "      <th>583</th>\n",
       "      <td>5501</td>\n",
       "      <td>6847.9</td>\n",
       "      <td>Guo, Liu</td>\n",
       "      <td>Liu</td>\n",
       "      <td>2014</td>\n",
       "      <td>China</td>\n",
       "      <td>2005</td>\n",
       "      <td>2004</td>\n",
       "      <td>2011</td>\n",
       "    </tr>\n",
       "    <tr>\n",
       "      <th>637</th>\n",
       "      <td>7</td>\n",
       "      <td>22.4</td>\n",
       "      <td>Bolch, Cogley, Frey, Guo, Liu, Moelg, Nuimura,...</td>\n",
       "      <td>Cogley</td>\n",
       "      <td>2015</td>\n",
       "      <td>Randolph Glacier Inventory; Umbrella RC for me...</td>\n",
       "      <td>2009</td>\n",
       "      <td>1999</td>\n",
       "      <td>2013</td>\n",
       "    </tr>\n",
       "    <tr>\n",
       "      <th>638</th>\n",
       "      <td>1</td>\n",
       "      <td>0.9</td>\n",
       "      <td>Bolch, Cogley, Frey, Guo, Liu, Nuimura, Paul, ...</td>\n",
       "      <td>Cogley</td>\n",
       "      <td>2015</td>\n",
       "      <td>Randolph Glacier Inventory; Umbrella RC for me...</td>\n",
       "      <td>2009</td>\n",
       "      <td>2009</td>\n",
       "      <td>2009</td>\n",
       "    </tr>\n",
       "    <tr>\n",
       "      <th>698</th>\n",
       "      <td>18542</td>\n",
       "      <td>16044.5</td>\n",
       "      <td>Sakai</td>\n",
       "      <td>Sakai</td>\n",
       "      <td>2018</td>\n",
       "      <td>Asia</td>\n",
       "      <td>2005</td>\n",
       "      <td>1989</td>\n",
       "      <td>2013</td>\n",
       "    </tr>\n",
       "  </tbody>\n",
       "</table>\n",
       "</div>"
      ],
      "text/plain": [
       "             N        A                                           analysts  \\\n",
       "subm_id                                                                      \n",
       "500        286    579.3                                               Mool   \n",
       "529       3184   5294.0                                        Bajracharya   \n",
       "566       1382   1701.4                                         Frey, Paul   \n",
       "574        133     35.5               Bajracharya, Guo, Maharjan, Shrestha   \n",
       "576       4900   5344.6               Bajracharya, Guo, Maharjan, Shrestha   \n",
       "577       7778   8702.2               Bajracharya, Guo, Maharjan, Shrestha   \n",
       "578         16     25.0               Bajracharya, Guo, Maharjan, Shrestha   \n",
       "582       2126   2775.8                                           Guo, Liu   \n",
       "583       5501   6847.9                                           Guo, Liu   \n",
       "637          7     22.4  Bolch, Cogley, Frey, Guo, Liu, Moelg, Nuimura,...   \n",
       "638          1      0.9  Bolch, Cogley, Frey, Guo, Liu, Nuimura, Paul, ...   \n",
       "698      18542  16044.5                                              Sakai   \n",
       "\n",
       "          submitters  release_date  \\\n",
       "subm_id                              \n",
       "500      Racoviteanu          2008   \n",
       "529      Racoviteanu          2008   \n",
       "566             Paul          2011   \n",
       "574      Bajracharya          2014   \n",
       "576      Bajracharya          2014   \n",
       "577      Bajracharya          2014   \n",
       "578      Bajracharya          2014   \n",
       "582              Liu          2014   \n",
       "583              Liu          2014   \n",
       "637           Cogley          2015   \n",
       "638           Cogley          2015   \n",
       "698            Sakai          2018   \n",
       "\n",
       "                                                 geog_area  src_date_mode  \\\n",
       "subm_id                                                                     \n",
       "500                        Himalaya (India, Nepal, Bhutan)           2000   \n",
       "529                        Himalaya (India, Nepal, Bhutan)           1967   \n",
       "566                                  Various (GlobGlacier)           2001   \n",
       "574                        Himalaya (India, Nepal, Bhutan)           2009   \n",
       "576                        Himalaya (India, Nepal, Bhutan)           2005   \n",
       "577                        Himalaya (India, Nepal, Bhutan)           2010   \n",
       "578                        Himalaya (India, Nepal, Bhutan)           2009   \n",
       "582                                                  China           1963   \n",
       "583                                                  China           2005   \n",
       "637      Randolph Glacier Inventory; Umbrella RC for me...           2009   \n",
       "638      Randolph Glacier Inventory; Umbrella RC for me...           2009   \n",
       "698                                                   Asia           2005   \n",
       "\n",
       "         src_date_min  src_date_max  \n",
       "subm_id                              \n",
       "500              2000          2000  \n",
       "529              1959          1982  \n",
       "566              2001          2001  \n",
       "574              2009          2009  \n",
       "576              2005          2011  \n",
       "577              2006          2011  \n",
       "578              2006          2011  \n",
       "582              1963          1963  \n",
       "583              2004          2011  \n",
       "637              1999          2013  \n",
       "638              2009          2009  \n",
       "698              1989          2013  "
      ]
     },
     "execution_count": 4,
     "metadata": {},
     "output_type": "execute_result"
    }
   ],
   "source": [
    "sdf, _ = submission_summary(shp)\n",
    "sdf"
   ]
  },
  {
   "cell_type": "code",
   "execution_count": 5,
   "id": "093f003a-6051-429c-98fb-aa93047ab169",
   "metadata": {},
   "outputs": [],
   "source": [
    "# # Optional: write out selection in intermediate shape files for manual GIS review\n",
    "# tmp_output_dir = mkdir(os.path.join(data_dir, 'l0_tmp_data', f'rgi{reg:02d}_inventories'))\n",
    "# tmp_output_dir_tar = mkdir(os.path.join(data_dir, 'l0_tmp_data'))\n",
    "# for subid in shp.subm_id.unique():\n",
    "#     s_loc = shp.loc[shp.subm_id == subid]\n",
    "#     s_loc.to_file(tmp_output_dir + f'/subm_{int(subid):03d}.shp')\n",
    "# print('Taring...')\n",
    "# print(subprocess.run(['tar', '-zcvf', f'{tmp_output_dir_tar}/rgi{reg:02d}_inventories.tar.gz', '-C', \n",
    "#                       os.path.join(data_dir, 'l0_tmp_data'), f'rgi{reg:02d}_inventories']))"
   ]
  },
  {
   "cell_type": "markdown",
   "id": "4d3f5c5d-c750-4663-b16a-94a89f2da647",
   "metadata": {},
   "source": [
    "## Outline selection "
   ]
  },
  {
   "cell_type": "markdown",
   "id": "2982362d-829f-4623-87b1-ca8f55fc994b",
   "metadata": {},
   "source": [
    "### Apply selection criteria to create the RGI-07 data subset"
   ]
  },
  {
   "cell_type": "code",
   "execution_count": 6,
   "id": "d550fe45-39c2-49d4-bf0a-98951ac5063d",
   "metadata": {},
   "outputs": [],
   "source": [
    "# try to get the data relevant for RGI07 and select by attributes\n",
    "rgi7 = shp.loc[shp['subm_id'] == 698].copy()\n",
    "rgi7['is_rgi6'] = False"
   ]
  },
  {
   "cell_type": "code",
   "execution_count": 7,
   "id": "224c2f07-2234-4db4-b95e-361912208593",
   "metadata": {},
   "outputs": [
    {
     "data": {
      "text/plain": [
       "False"
      ]
     },
     "execution_count": 7,
     "metadata": {},
     "output_type": "execute_result"
    }
   ],
   "source": [
    "# Size filter?\n",
    "needs_size_filter(rgi7)"
   ]
  },
  {
   "cell_type": "markdown",
   "id": "c0f251ae-0b3a-4aea-a01d-71931b0ed197",
   "metadata": {},
   "source": [
    "### Some sanity checks "
   ]
  },
  {
   "cell_type": "code",
   "execution_count": 8,
   "id": "74b92c15-609d-479b-9115-0e60a581d880",
   "metadata": {},
   "outputs": [
    {
     "data": {
      "text/html": [
       "<div>\n",
       "<style scoped>\n",
       "    .dataframe tbody tr th:only-of-type {\n",
       "        vertical-align: middle;\n",
       "    }\n",
       "\n",
       "    .dataframe tbody tr th {\n",
       "        vertical-align: top;\n",
       "    }\n",
       "\n",
       "    .dataframe thead th {\n",
       "        text-align: right;\n",
       "    }\n",
       "</style>\n",
       "<table border=\"1\" class=\"dataframe\">\n",
       "  <thead>\n",
       "    <tr style=\"text-align: right;\">\n",
       "      <th></th>\n",
       "      <th>N</th>\n",
       "      <th>N NA</th>\n",
       "    </tr>\n",
       "    <tr>\n",
       "      <th>subm_id</th>\n",
       "      <th></th>\n",
       "      <th></th>\n",
       "    </tr>\n",
       "  </thead>\n",
       "  <tbody>\n",
       "    <tr>\n",
       "      <th>698</th>\n",
       "      <td>18542</td>\n",
       "      <td>18542</td>\n",
       "    </tr>\n",
       "  </tbody>\n",
       "</table>\n",
       "</div>"
      ],
      "text/plain": [
       "             N   N NA\n",
       "subm_id              \n",
       "698      18542  18542"
      ]
     },
     "execution_count": 8,
     "metadata": {},
     "output_type": "execute_result"
    }
   ],
   "source": [
    "sdf, df_class = submission_summary(rgi7)\n",
    "df_class"
   ]
  },
  {
   "cell_type": "code",
   "execution_count": 9,
   "id": "355f9ef3-d8d1-4283-85a1-c08698ae32bd",
   "metadata": {},
   "outputs": [],
   "source": [
    "# Check the orphaned rock outcrops\n",
    "orphan_f = os.path.join(data_dir, 'l1_orphan_interiors', f'RGI{reg:02d}', f'RGI{reg:02d}.shp')\n",
    "if os.path.exists(orphan_f):\n",
    "    orphan_f = gpd.read_file(orphan_f)\n",
    "    check = np.isin(rgi7.subm_id.unique(), orphan_f.subm_id.unique())\n",
    "    if np.any(check):\n",
    "        print(f'Orphan rock outcrops detected in subm_id {rgi7.subm_id.unique()[check]}')\n",
    "        orphan_f['area'] = orphan_f.to_crs({'proj':'cea'}).area"
   ]
  },
  {
   "cell_type": "markdown",
   "id": "a89d499c-ad97-44cf-be50-ddb3f61d3955",
   "metadata": {},
   "source": [
    "### Plots "
   ]
  },
  {
   "cell_type": "code",
   "execution_count": 10,
   "id": "c3bbaac3-6371-4735-9c3f-7d470b2246ea",
   "metadata": {},
   "outputs": [
    {
     "data": {
      "image/png": "[encoded data removed]",
      "text/plain": [
       "<Figure size 1008x1008 with 1 Axes>"
      ]
     },
     "metadata": {
      "needs_background": "light"
     },
     "output_type": "display_data"
    }
   ],
   "source": [
    "plot_map(rgi7, reg)"
   ]
  },
  {
   "cell_type": "code",
   "execution_count": 11,
   "id": "e5db82d3-43a6-466f-9372-bc99953782a7",
   "metadata": {},
   "outputs": [
    {
     "data": {
      "image/png": "[encoded data removed]",
      "text/plain": [
       "<Figure size 1008x1008 with 1 Axes>"
      ]
     },
     "metadata": {
      "needs_background": "light"
     },
     "output_type": "display_data"
    }
   ],
   "source": [
    "plot_map(rgi7, reg, is_rgi6=True)"
   ]
  },
  {
   "cell_type": "code",
   "execution_count": 12,
   "id": "fec4643d-1e1e-4800-8f2a-275ddafc19a2",
   "metadata": {},
   "outputs": [
    {
     "data": {
      "image/png": "[encoded data removed]",
      "text/plain": [
       "<Figure size 720x360 with 1 Axes>"
      ]
     },
     "metadata": {
      "needs_background": "light"
     },
     "output_type": "display_data"
    }
   ],
   "source": [
    "plot_date_hist(rgi7, reg)"
   ]
  },
  {
   "cell_type": "markdown",
   "id": "06ea5f60-96e8-43f2-b346-086f053234f4",
   "metadata": {},
   "source": [
    "### Text for github"
   ]
  },
  {
   "cell_type": "code",
   "execution_count": 13,
   "id": "8250699c-9300-4758-a0d7-cfd6ad0f72c1",
   "metadata": {},
   "outputs": [
    {
     "data": {
      "text/html": [
       "<div>\n",
       "<style scoped>\n",
       "    .dataframe tbody tr th:only-of-type {\n",
       "        vertical-align: middle;\n",
       "    }\n",
       "\n",
       "    .dataframe tbody tr th {\n",
       "        vertical-align: top;\n",
       "    }\n",
       "\n",
       "    .dataframe thead th {\n",
       "        text-align: right;\n",
       "    }\n",
       "</style>\n",
       "<table border=\"1\" class=\"dataframe\">\n",
       "  <thead>\n",
       "    <tr style=\"text-align: right;\">\n",
       "      <th>subm_id</th>\n",
       "      <th>698</th>\n",
       "    </tr>\n",
       "  </thead>\n",
       "  <tbody>\n",
       "    <tr>\n",
       "      <th>N</th>\n",
       "      <td>18542</td>\n",
       "    </tr>\n",
       "    <tr>\n",
       "      <th>A</th>\n",
       "      <td>16044.5</td>\n",
       "    </tr>\n",
       "    <tr>\n",
       "      <th>analysts</th>\n",
       "      <td>Sakai</td>\n",
       "    </tr>\n",
       "    <tr>\n",
       "      <th>submitters</th>\n",
       "      <td>Sakai</td>\n",
       "    </tr>\n",
       "    <tr>\n",
       "      <th>release_date</th>\n",
       "      <td>2018</td>\n",
       "    </tr>\n",
       "    <tr>\n",
       "      <th>geog_area</th>\n",
       "      <td>Asia</td>\n",
       "    </tr>\n",
       "    <tr>\n",
       "      <th>src_date_mode</th>\n",
       "      <td>2005</td>\n",
       "    </tr>\n",
       "    <tr>\n",
       "      <th>src_date_min</th>\n",
       "      <td>1989</td>\n",
       "    </tr>\n",
       "    <tr>\n",
       "      <th>src_date_max</th>\n",
       "      <td>2013</td>\n",
       "    </tr>\n",
       "  </tbody>\n",
       "</table>\n",
       "</div>"
      ],
      "text/plain": [
       "subm_id            698\n",
       "N                18542\n",
       "A              16044.5\n",
       "analysts         Sakai\n",
       "submitters       Sakai\n",
       "release_date      2018\n",
       "geog_area         Asia\n",
       "src_date_mode     2005\n",
       "src_date_min      1989\n",
       "src_date_max      2013"
      ]
     },
     "execution_count": 13,
     "metadata": {},
     "output_type": "execute_result"
    }
   ],
   "source": [
    "fgh = sdf.T\n",
    "fgh"
   ]
  },
  {
   "cell_type": "code",
   "execution_count": 14,
   "id": "c4d32ce3-6fbd-4759-8377-91cf3be56cce",
   "metadata": {},
   "outputs": [
    {
     "name": "stdout",
     "output_type": "stream",
     "text": [
      "| subm_id       | 698     |\n",
      "|:--------------|:--------|\n",
      "| N             | 18542   |\n",
      "| A             | 16044.5 |\n",
      "| analysts      | Sakai   |\n",
      "| submitters    | Sakai   |\n",
      "| release_date  | 2018    |\n",
      "| geog_area     | Asia    |\n",
      "| src_date_mode | 2005    |\n",
      "| src_date_min  | 1989    |\n",
      "| src_date_max  | 2013    |\n"
     ]
    }
   ],
   "source": [
    "print(fgh.to_markdown(headers=np.append(['subm_id'], fgh.columns)))"
   ]
  },
  {
   "cell_type": "markdown",
   "id": "7d2b3ecd-d774-4224-b423-e86a5b8e5591",
   "metadata": {},
   "source": [
    "## Write out and tar "
   ]
  },
  {
   "cell_type": "code",
   "execution_count": 15,
   "id": "78fba3b9-d7d1-47e4-87e7-f88bc3d18151",
   "metadata": {},
   "outputs": [
    {
     "name": "stdout",
     "output_type": "stream",
     "text": [
      "Writing...\n",
      "Taring...\n",
      "CompletedProcess(args=['tar', '-zcvf', '../../rgi7_data/l3_rgi7a_tar/RGI15.tar.gz', '-C', '../../rgi7_data/l3_rgi7a', 'RGI15'], returncode=0)\n"
     ]
    }
   ],
   "source": [
    "dd = mkdir(f'{output_dir}/RGI{reg:02d}/', reset=True)\n",
    "\n",
    "print('Writing...')\n",
    "rgi7.to_file(dd + f'RGI{reg:02d}.shp')\n",
    "\n",
    "print('Taring...')\n",
    "print(subprocess.run(['tar', '-zcvf', f'{output_dir_tar}/RGI{reg:02d}.tar.gz', '-C', output_dir, f'RGI{reg:02d}']))"
   ]
  },
  {
   "cell_type": "markdown",
   "id": "4ddb1614-5abf-4e3f-bef7-9111c89c2eea",
   "metadata": {},
   "source": [
    "## New RGI-file created - Check result!"
   ]
  },
  {
   "cell_type": "markdown",
   "id": "2465939a-ecdf-4541-91e1-b414098b32db",
   "metadata": {},
   "source": [
    "load reference data (here GAMDAM original) to enable comparison"
   ]
  },
  {
   "cell_type": "code",
   "execution_count": 16,
   "id": "09da2817-123c-4dee-aaf7-c76772280037",
   "metadata": {},
   "outputs": [],
   "source": [
    "# specify path to reference data set\n",
    "import glob\n",
    "from utils import open_zip_shapefile\n",
    "gam_files = glob.glob(gamdam_dir + '/*.zip')\n",
    "df_ref = []\n",
    "for gf in gam_files:\n",
    "    df_ref.append(open_zip_shapefile(gf))\n",
    "\n",
    "df_ref = pd.concat(df_ref).reset_index()"
   ]
  },
  {
   "cell_type": "code",
   "execution_count": 17,
   "id": "73fb93bd-48c8-49c5-9228-b2919000e49b",
   "metadata": {},
   "outputs": [],
   "source": [
    "# Calculate representative points for reference data\n",
    "ref_rp = df_ref.representative_point()\n",
    "\n",
    "# Make a dataframe out of it and add the original index to recover it later\n",
    "ref_rp = ref_rp.to_frame('geometry')\n",
    "ref_rp['orig_index'] = df_ref.index\n",
    "\n",
    "# Read region file\n",
    "reg_f = gpd.read_file(reg_file)\n",
    "\n",
    "# Make the overlay with the RGI region of interest -> get the rep. points which are located inside the region boundaries\n",
    "ref_intersect = gpd.overlay(ref_rp, reg_f.loc[reg_f.RGI_CODE == f'{reg:02d}'], how='intersection')\n",
    "\n",
    "# Now select the entries which intersect from the original shape file (-> extract the polygons) \n",
    "df_ref = df_ref.loc[ref_intersect['orig_index'].values].copy()"
   ]
  },
  {
   "cell_type": "markdown",
   "id": "8b8e7749-73ba-481b-8c27-14cee7eb9a6b",
   "metadata": {},
   "source": [
    "### Number of elements (differences do not necessarily depict major problems)"
   ]
  },
  {
   "cell_type": "code",
   "execution_count": 18,
   "id": "76d5adae-6ad3-4e7f-8754-01e95625217f",
   "metadata": {},
   "outputs": [
    {
     "name": "stdout",
     "output_type": "stream",
     "text": [
      "Number of glaciers in new RGI subset: 18542\n",
      "Number of glaciers in reference data: 18588\n",
      "Difference: -46\n"
     ]
    }
   ],
   "source": [
    "print('Number of glaciers in new RGI subset:', len(rgi7))\n",
    "print('Number of glaciers in reference data:', len(df_ref))\n",
    "print('Difference:', len(rgi7)-len(df_ref))"
   ]
  },
  {
   "cell_type": "markdown",
   "id": "49245c55-58bc-40a0-a8e9-943cd2e233e6",
   "metadata": {},
   "source": [
    "### Total area"
   ]
  },
  {
   "cell_type": "code",
   "execution_count": 19,
   "id": "2d829d2c-b270-4cf4-aaeb-bc0b6300668f",
   "metadata": {},
   "outputs": [],
   "source": [
    "# add an area field to the selected GAMDAM table\n",
    "df_ref['area'] = df_ref.to_crs({'proj':'cea'}).area"
   ]
  },
  {
   "cell_type": "code",
   "execution_count": 20,
   "id": "1fb64625-6d39-49c0-aba6-3b417f52284b",
   "metadata": {},
   "outputs": [
    {
     "name": "stdout",
     "output_type": "stream",
     "text": [
      "Area RGI [km²]: 16044.535795981632\n",
      "Area Ref [km²]: 16044.87806719377\n",
      "Area difference [km²]: -0.3422712121373479\n"
     ]
    }
   ],
   "source": [
    "# print and compare area values\n",
    "Area_RGI = rgi7['area'].sum() * 1e-6\n",
    "print('Area RGI [km²]:', Area_RGI)\n",
    "Area_ref = df_ref['area'].sum() * 1e-6\n",
    "print('Area Ref [km²]:', Area_ref)\n",
    "d = (Area_RGI - Area_ref)\n",
    "print('Area difference [km²]:',d)"
   ]
  },
  {
   "cell_type": "markdown",
   "id": "5efc4342-c364-41d4-be45-f72cd1a7a775",
   "metadata": {},
   "source": [
    "**We believe that remaining errors are of the same type as Region 01: multipolygons that weren't properly ingested in GLIMS.** We will check this below."
   ]
  },
  {
   "cell_type": "markdown",
   "id": "9271e265-caee-4ab9-ad8c-10b61fd45c77",
   "metadata": {},
   "source": [
    "## Find missing glaciers "
   ]
  },
  {
   "cell_type": "code",
   "execution_count": null,
   "id": "f26c3f7e-705f-4ad5-8885-67602ad96867",
   "metadata": {},
   "outputs": [],
   "source": [
    "from utils import haversine\n",
    "import progressbar"
   ]
  },
  {
   "cell_type": "code",
   "execution_count": null,
   "id": "060dc959-29ee-43b7-9425-3c5a582a2c1e",
   "metadata": {},
   "outputs": [],
   "source": [
    "def xy_coord(geom):\n",
    "    \"\"\"To compute CenLon CenLat ourselves\"\"\"\n",
    "    x, y = geom.xy\n",
    "    return x[0], y[0]"
   ]
  },
  {
   "cell_type": "code",
   "execution_count": null,
   "id": "8b4032ee-f853-453e-b403-2417a2451547",
   "metadata": {},
   "outputs": [],
   "source": [
    "# compute CenLon CenLat ourselves\n",
    "rp = df_ref.representative_point()\n",
    "\n",
    "coordinates = np.array(list(rp.apply(xy_coord)))\n",
    "df_ref['CenLon'] = coordinates[:, 0]\n",
    "df_ref['CenLat'] = coordinates[:, 1]"
   ]
  },
  {
   "cell_type": "code",
   "execution_count": null,
   "id": "1ec224a9-18cd-4a9b-84ca-66767c56cbc0",
   "metadata": {},
   "outputs": [],
   "source": [
    "df_ref_orig = df_ref.copy()"
   ]
  },
  {
   "cell_type": "code",
   "execution_count": null,
   "id": "49617681-700a-49d8-8805-386da3762372",
   "metadata": {},
   "outputs": [],
   "source": [
    "# Loop over all RGI7 glaciers and find their equivalent in ref\n",
    "df_ref = df_ref_orig.copy()\n",
    "not_found = {}\n",
    "to_drop = []\n",
    "for i, (ref_area, lon, lat) in progressbar.progressbar(enumerate(zip(rgi7['area'].values, rgi7.CenLon.values, rgi7.CenLat.values)), max_value=len(rgi7)):\n",
    "#     dist = haversine(lon, lat, df_ref.CenLon.values, df_ref.CenLat.values)\n",
    "    dist = (lon - df_ref.CenLon.values)**2 + (lat - df_ref.CenLat.values)**2 \n",
    "    found = False\n",
    "    for j in np.argsort(dist)[:10]:\n",
    "        s6 = df_ref.iloc[j]\n",
    "        if np.allclose(s6['area'], ref_area, rtol=0.001):\n",
    "            found = True\n",
    "            to_drop.append(s6.name)\n",
    "            break\n",
    "    if not found:\n",
    "        not_found[i] = df_ref.iloc[np.argsort(dist)[:10]]\n",
    "    if len(to_drop) > 1000:\n",
    "        df_ref.drop(labels=to_drop, inplace=True)\n",
    "        to_drop = []\n",
    "df_ref.drop(labels=to_drop, inplace=True)"
   ]
  },
  {
   "cell_type": "code",
   "execution_count": null,
   "id": "cc1cea1f-9794-47e1-ae0f-a88f65d1368f",
   "metadata": {},
   "outputs": [],
   "source": [
    "print(len(not_found), len(df_ref))"
   ]
  },
  {
   "cell_type": "code",
   "execution_count": null,
   "id": "13da5de9-4e4c-4cf7-b807-ca63c19fc21a",
   "metadata": {},
   "outputs": [],
   "source": [
    "pb_rgi7 = rgi7.iloc[list(not_found.keys())]"
   ]
  },
  {
   "cell_type": "code",
   "execution_count": null,
   "id": "7ca5c883-13d9-4fe0-bb89-5aed56d42203",
   "metadata": {},
   "outputs": [],
   "source": [
    "for i, k in enumerate(not_found.keys()):\n",
    "    ax = rgi7.iloc[[k]].plot(edgecolor='k');\n",
    "    if i > 3:\n",
    "        break"
   ]
  },
  {
   "cell_type": "code",
   "execution_count": null,
   "id": "3a84bda1-245c-4c14-aff5-ad18493f8dc0",
   "metadata": {},
   "outputs": [],
   "source": [
    "# Output directories\n",
    "output_dir = mkdir(os.path.join(data_dir, 'l3_problem_glaciers'))\n",
    "output_dir_tar = mkdir(os.path.join(data_dir, 'l3_problem_glaciers_tar'))\n",
    "\n",
    "dd = mkdir(f'{output_dir}/RGI{reg:02d}/', reset=True)\n",
    "\n",
    "print('Writing...')\n",
    "pb_rgi7.to_file(dd + f'RGI{reg:02d}_glims.shp')\n",
    "df_ref.to_file(dd + f'RGI{reg:02d}_ref.shp')\n",
    "\n",
    "print('Taring...')\n",
    "print(subprocess.run(['tar', '-zcvf', f'{output_dir_tar}/RGI{reg:02d}.tar.gz', '-C', output_dir, f'RGI{reg:02d}']))"
   ]
  }
 ],
 "metadata": {
  "kernelspec": {
   "display_name": "Python 3",
   "language": "python",
   "name": "python3"
  },
  "language_info": {
   "codemirror_mode": {
    "name": "ipython",
    "version": 3
   },
   "file_extension": ".py",
   "mimetype": "text/x-python",
   "name": "python",
   "nbconvert_exporter": "python",
   "pygments_lexer": "ipython3",
   "version": "3.8.8"
  }
 },
 "nbformat": 4,
 "nbformat_minor": 5
}
