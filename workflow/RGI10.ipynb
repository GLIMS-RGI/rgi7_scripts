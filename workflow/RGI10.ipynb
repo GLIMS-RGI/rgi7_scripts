{
 "cells": [
  {
   "cell_type": "markdown",
   "id": "greenhouse-budget",
   "metadata": {},
   "source": [
    "# RGI10 (Asia North)\n",
    "\n",
    "F. Maussion & S. Galos, June-December 2021"
   ]
  },
  {
   "cell_type": "code",
   "execution_count": null,
   "id": "running-chester",
   "metadata": {},
   "outputs": [],
   "source": [
    "import pandas as pd\n",
    "import geopandas as gpd\n",
    "import subprocess\n",
    "import matplotlib.pyplot as plt\n",
    "import matplotlib.patches as mpatches\n",
    "import seaborn as sns\n",
    "import numpy as np\n",
    "from utils import mkdir, submission_summary, needs_size_filter, size_filter, plot_map, plot_date_hist, open_zip_shapefile\n",
    "import os"
   ]
  },
  {
   "cell_type": "markdown",
   "id": "tamil-equivalent",
   "metadata": {},
   "source": [
    "## Files and storage paths"
   ]
  },
  {
   "cell_type": "code",
   "execution_count": null,
   "id": "martial-mention",
   "metadata": {},
   "outputs": [],
   "source": [
    "# Region of interest\n",
    "reg = 10\n",
    "\n",
    "# go down from rgi7_scripts/workflow\n",
    "data_dir = '../../rgi7_data/'\n",
    "\n",
    "# Level 2 GLIMS files\n",
    "l2_dir = os.path.join(data_dir, 'l2_sel_reg_tars')\n",
    "\n",
    "# Output directories\n",
    "output_dir = mkdir(os.path.join(data_dir, 'l3_rgi7a'))\n",
    "output_dir_tar = mkdir(os.path.join(data_dir, 'l3_rgi7a_tar'))\n",
    "\n",
    "# RGI v6 file for comparison later \n",
    "rgi6_reg_file = os.path.join(data_dir, 'l0_RGIv6', '10_rgi60_NorthAsia.zip')"
   ]
  },
  {
   "cell_type": "code",
   "execution_count": null,
   "id": "editorial-courage",
   "metadata": {},
   "outputs": [],
   "source": [
    "# Specific to this region: boxes where data has to be selected differently\n",
    "support_dir = os.path.join(data_dir, 'l0_support_data')\n",
    "\n",
    "# OK path to file\n",
    "box_file = os.path.join(support_dir, 'rgi10_boxes.zip')"
   ]
  },
  {
   "cell_type": "markdown",
   "id": "industrial-allergy",
   "metadata": {},
   "source": [
    "### Load the input data"
   ]
  },
  {
   "cell_type": "code",
   "execution_count": null,
   "id": "worst-solid",
   "metadata": {},
   "outputs": [],
   "source": [
    "# Read L2 files\n",
    "shp = gpd.read_file('tar://' + l2_dir + f'/RGI{reg:02d}.tar.gz/RGI{reg:02d}/RGI{reg:02d}.shp')"
   ]
  },
  {
   "cell_type": "markdown",
   "id": "5c3dc445-ed40-44c4-8da4-f182117a2a4b",
   "metadata": {},
   "source": [
    "### List of submissions "
   ]
  },
  {
   "cell_type": "code",
   "execution_count": null,
   "id": "46836490-efc7-4f66-98cf-3bad62088cd3",
   "metadata": {},
   "outputs": [],
   "source": [
    "sdf, df_cat = submission_summary(shp)\n",
    "sdf"
   ]
  },
  {
   "cell_type": "markdown",
   "id": "565eff58-1cd4-4a66-aed3-faeff8ef23b7",
   "metadata": {},
   "source": [
    "- 636 is RGI6\n",
    "- 698 is GAMDAMv2 - we use it\n",
    "- 726 is a mapping of a few remaining nominal glaciers on three De Long Islands\n",
    "- 743 is an update of the Barr inventory for Kamchatka"
   ]
  },
  {
   "cell_type": "code",
   "execution_count": null,
   "id": "7a694d1b-960c-4614-8883-95f4514a0d37",
   "metadata": {},
   "outputs": [],
   "source": [
    "# # Optional: write out selection in intermediate shape files for manual GIS review\n",
    "# tmp_output_dir = mkdir(os.path.join(data_dir, 'l0_tmp_data', f'rgi{reg:02d}_inventories'))\n",
    "# tmp_output_dir_tar = mkdir(os.path.join(data_dir, 'l0_tmp_data'))\n",
    "# for subid in shp.subm_id.unique():\n",
    "#     s_loc = shp.loc[shp.subm_id == subid]\n",
    "#     s_loc.to_file(tmp_output_dir + f'/subm_{int(subid):03d}.shp')\n",
    "# print('Taring...')\n",
    "# print(subprocess.run(['tar', '-zcvf', f'{tmp_output_dir_tar}/rgi{reg:02d}_inventories.tar.gz', '-C', \n",
    "#                       os.path.join(data_dir, 'l0_tmp_data'), f'rgi{reg:02d}_inventories']))"
   ]
  },
  {
   "cell_type": "markdown",
   "id": "45b99c04-938d-4cd3-9f07-4cf2e9369f4a",
   "metadata": {},
   "source": [
    "## Outline selection "
   ]
  },
  {
   "cell_type": "code",
   "execution_count": null,
   "id": "0c9ebb45-6590-4980-bb13-e2116e4248d4",
   "metadata": {},
   "outputs": [],
   "source": [
    "glims_rgi = shp.loc[shp.subm_id.isin([636])].copy()\n",
    "glims_rgi['is_rgi6'] = True\n",
    "all_others = shp.loc[shp.subm_id.isin([698, 726, 743])].copy()\n",
    "all_others['is_rgi6'] = False"
   ]
  },
  {
   "cell_type": "code",
   "execution_count": null,
   "id": "18b9775c-5aa2-423a-9b4b-8144ccf9f6fb",
   "metadata": {},
   "outputs": [],
   "source": [
    "# Preselected areas to remove\n",
    "box = open_zip_shapefile(support_dir + '/rgi10_boxes.zip')"
   ]
  },
  {
   "cell_type": "code",
   "execution_count": null,
   "id": "37fe13a1-02ae-45d2-bae0-d2ac4d95f8a8",
   "metadata": {},
   "outputs": [],
   "source": [
    "# Remove the new regions from rgi\n",
    "rp = glims_rgi.representative_point()\n",
    "rp = rp.to_frame('geometry')\n",
    "rp['orig_index'] = glims_rgi.index\n",
    "difference = gpd.overlay(rp, box, how='difference')\n",
    "glims_rgi = glims_rgi.loc[difference['orig_index']].copy()"
   ]
  },
  {
   "cell_type": "code",
   "execution_count": null,
   "id": "2c5a6964-54a7-4908-8068-a9d24bd59823",
   "metadata": {},
   "outputs": [],
   "source": [
    "# Size filter?\n",
    "needs_size_filter(glims_rgi), needs_size_filter(all_others)"
   ]
  },
  {
   "cell_type": "code",
   "execution_count": null,
   "id": "4f9d9717-627c-4654-8e8a-725b8ae084d8",
   "metadata": {},
   "outputs": [],
   "source": [
    "print(len(all_others))\n",
    "all_others = size_filter(all_others)\n",
    "print(len(all_others))"
   ]
  },
  {
   "cell_type": "code",
   "execution_count": null,
   "id": "2b22f8bf-1070-4c3c-b7d9-e87ee761e048",
   "metadata": {},
   "outputs": [],
   "source": [
    "rgi7 = pd.concat([glims_rgi, all_others])"
   ]
  },
  {
   "cell_type": "markdown",
   "id": "003520ea-4b92-4cac-9181-08ef309c2731",
   "metadata": {},
   "source": [
    "### Some sanity checks "
   ]
  },
  {
   "cell_type": "code",
   "execution_count": null,
   "id": "3fb69291-5008-48a4-bd7d-d606e533719a",
   "metadata": {},
   "outputs": [],
   "source": [
    "sdf, df_class = submission_summary(rgi7)\n",
    "df_class"
   ]
  },
  {
   "cell_type": "code",
   "execution_count": null,
   "id": "b957beb4-2a3f-4ee6-bac7-9bd338443992",
   "metadata": {},
   "outputs": [],
   "source": [
    "# Check the orphaned rock outcrops\n",
    "orphan_f = os.path.join(data_dir, 'l1_orphan_interiors', f'RGI{reg:02d}', f'RGI{reg:02d}.shp')\n",
    "if os.path.exists(orphan_f):\n",
    "    orphan_f = gpd.read_file(orphan_f)\n",
    "    check = np.isin(rgi7.subm_id.unique(), orphan_f.subm_id.unique())\n",
    "    if np.any(check):\n",
    "        print(f'Orphan rock outcrops detected in subm_id {rgi7.subm_id.unique()[check]}')\n",
    "        orphan_f['area'] = orphan_f.to_crs({'proj':'cea'}).area"
   ]
  },
  {
   "cell_type": "markdown",
   "id": "a6a8c530-e99e-403a-9e5c-c327892831b8",
   "metadata": {},
   "source": [
    "### Plots "
   ]
  },
  {
   "cell_type": "code",
   "execution_count": null,
   "id": "832496cd-f338-4d2f-974e-d6bdc6bb8e16",
   "metadata": {},
   "outputs": [],
   "source": [
    "plot_map(rgi7, reg, figsize=(22, 10), linewidth=3, loc='upper center')"
   ]
  },
  {
   "cell_type": "code",
   "execution_count": null,
   "id": "f64ea794-7856-4812-9c3a-42a612883fda",
   "metadata": {},
   "outputs": [],
   "source": [
    "plot_map(rgi7, reg, figsize=(22, 10), linewidth=3, loc='upper center', is_rgi6=True)"
   ]
  },
  {
   "cell_type": "code",
   "execution_count": null,
   "id": "521044a5-447b-45bf-84cd-634f2100d5fa",
   "metadata": {},
   "outputs": [],
   "source": [
    "plot_date_hist(rgi7, reg)"
   ]
  },
  {
   "cell_type": "markdown",
   "id": "a25da3db-9849-43a5-8bc0-260f1d74288b",
   "metadata": {},
   "source": [
    "### Text for github"
   ]
  },
  {
   "cell_type": "code",
   "execution_count": null,
   "id": "ba048076-a609-4e49-a88b-aa1c159b8447",
   "metadata": {},
   "outputs": [],
   "source": [
    "fgh = sdf.T\n",
    "fgh"
   ]
  },
  {
   "cell_type": "code",
   "execution_count": null,
   "id": "c0dccd95-3ce5-4e22-ae1d-739ac96a8515",
   "metadata": {},
   "outputs": [],
   "source": [
    "print(fgh.to_markdown(headers=np.append(['subm_id'], fgh.columns)))"
   ]
  },
  {
   "cell_type": "markdown",
   "id": "1802582f-ce8f-4735-a34c-d72c4701c9fb",
   "metadata": {},
   "source": [
    "## Write out and tar "
   ]
  },
  {
   "cell_type": "code",
   "execution_count": null,
   "id": "e387d102-db86-4fc3-8028-35665e90064f",
   "metadata": {},
   "outputs": [],
   "source": [
    "dd = mkdir(f'{output_dir}/RGI{reg:02d}/', reset=True)\n",
    "\n",
    "print('Writing...')\n",
    "rgi7.to_file(dd + f'RGI{reg:02d}.shp')\n",
    "\n",
    "print('Taring...')\n",
    "print(subprocess.run(['tar', '-zcvf', f'{output_dir_tar}/RGI{reg:02d}.tar.gz', '-C', output_dir, f'RGI{reg:02d}']))"
   ]
  },
  {
   "cell_type": "markdown",
   "id": "1390cdea-cc01-48d0-9f07-75bdfed65cf5",
   "metadata": {},
   "source": [
    "## Consistency check with RGI6 "
   ]
  },
  {
   "cell_type": "code",
   "execution_count": null,
   "id": "1766d0f1-31bd-4c2b-8ca4-204fbee7d27d",
   "metadata": {},
   "outputs": [],
   "source": [
    "rgi6 = open_zip_shapefile(rgi6_reg_file)"
   ]
  },
  {
   "cell_type": "code",
   "execution_count": null,
   "id": "24c6f67c-5c7f-4c62-bd63-e2c62ab44471",
   "metadata": {},
   "outputs": [],
   "source": [
    "len(rgi7), len(rgi6)"
   ]
  },
  {
   "cell_type": "markdown",
   "id": "1a24984c-f170-41bb-9525-6d72c8b0839e",
   "metadata": {},
   "source": [
    "Test the areas:"
   ]
  },
  {
   "cell_type": "code",
   "execution_count": null,
   "id": "f049d918-be78-4985-adb3-3a7f1d1bb4b7",
   "metadata": {},
   "outputs": [],
   "source": [
    "rgi6['area'] = rgi6.to_crs({'proj':'cea'}).area "
   ]
  },
  {
   "cell_type": "code",
   "execution_count": null,
   "id": "c2f11f80-82d6-4681-a419-d3a33a4b885b",
   "metadata": {},
   "outputs": [],
   "source": [
    "print('Area RGI7a (km2)', rgi7['area'].sum() * 1e-6)\n",
    "print('Area RGI6 (km2)', rgi6['area'].sum() * 1e-6)\n",
    "print('diff areas RGI6 - RGI7 computed by us (km2)', (rgi6['area'].sum() - rgi7['area'].sum()) * 1e-6)"
   ]
  },
  {
   "cell_type": "code",
   "execution_count": null,
   "id": "3a03e78a-8c21-402e-84da-5e75cd94e961",
   "metadata": {},
   "outputs": [],
   "source": [
    "# Remove the ids\n",
    "rp = rgi6.representative_point()\n",
    "rp = rp.to_frame('geometry')\n",
    "rp['orig_index'] = rgi6.index\n",
    "\n",
    "difference = gpd.overlay(rp, box, how='difference')\n",
    "rgi6_old = rgi6.loc[difference['orig_index']].copy()\n",
    "difference = gpd.overlay(rp, box, how='intersection')\n",
    "rgi6_new = rgi6.loc[difference['orig_index']].copy()\n",
    "assert len(rgi6_new) + len(rgi6_old) == len(rgi6)"
   ]
  },
  {
   "cell_type": "code",
   "execution_count": null,
   "id": "d08f2311-f5f7-416e-9b5c-03b4162f7ebb",
   "metadata": {},
   "outputs": [],
   "source": [
    "print(f'N1 = {len(rgi6_old)} , N2 = {len(glims_rgi)}')\n",
    "print('Area RGI7 (km2)', glims_rgi['area'].sum() * 1e-6)\n",
    "print('Area RGI6 (km2)', rgi6_old['area'].sum() * 1e-6)\n",
    "print('diff', (rgi6_old['area'].sum() - glims_rgi['area'].sum()) * 1e-6)"
   ]
  },
  {
   "cell_type": "code",
   "execution_count": null,
   "id": "herbal-profit",
   "metadata": {},
   "outputs": [],
   "source": []
  }
 ],
 "metadata": {
  "kernelspec": {
   "display_name": "Python 3",
   "language": "python",
   "name": "python3"
  },
  "language_info": {
   "codemirror_mode": {
    "name": "ipython",
    "version": 3
   },
   "file_extension": ".py",
   "mimetype": "text/x-python",
   "name": "python",
   "nbconvert_exporter": "python",
   "pygments_lexer": "ipython3",
   "version": "3.8.8"
  }
 },
 "nbformat": 4,
 "nbformat_minor": 5
}
