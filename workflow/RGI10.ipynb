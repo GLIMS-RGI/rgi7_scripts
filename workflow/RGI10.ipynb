{
 "cells": [
  {
   "cell_type": "markdown",
   "id": "greenhouse-budget",
   "metadata": {},
   "source": [
    "# RGI10 (Asia North)\n",
    "\n",
    "F. Maussion & S. Galos, June-December 2021"
   ]
  },
  {
   "cell_type": "code",
   "execution_count": null,
   "id": "running-chester",
   "metadata": {},
   "outputs": [],
   "source": [
    "import pandas as pd\n",
    "import geopandas as gpd\n",
    "import subprocess\n",
    "import matplotlib.pyplot as plt\n",
    "import matplotlib.patches as mpatches\n",
    "import seaborn as sns\n",
    "import numpy as np\n",
    "from utils import (mkdir, submission_summary, needs_size_filter, size_filter, plot_map, plot_date_hist, \n",
    "                   find_duplicates, open_zip_shapefile, correct_geoms, fix_overaps)\n",
    "import os"
   ]
  },
  {
   "cell_type": "markdown",
   "id": "tamil-equivalent",
   "metadata": {},
   "source": [
    "## Files and storage paths"
   ]
  },
  {
   "cell_type": "code",
   "execution_count": null,
   "id": "martial-mention",
   "metadata": {},
   "outputs": [],
   "source": [
    "# Region of interest\n",
    "reg = 10\n",
    "\n",
    "# go down from rgi7_scripts/workflow\n",
    "data_dir = '../../rgi7_data/'\n",
    "\n",
    "# Level 2 GLIMS files\n",
    "l2_dir = os.path.join(data_dir, 'l2_sel_reg_tars')\n",
    "\n",
    "# Output directories\n",
    "output_dir = mkdir(os.path.join(data_dir, 'l3_rgi7a'))\n",
    "output_dir_tar = mkdir(os.path.join(data_dir, 'l3_rgi7a_tar'))\n",
    "\n",
    "# RGI v6 file for comparison later \n",
    "rgi6_reg_file = os.path.join(data_dir, 'l0_RGIv6', '10_rgi60_NorthAsia.zip')"
   ]
  },
  {
   "cell_type": "code",
   "execution_count": null,
   "id": "editorial-courage",
   "metadata": {},
   "outputs": [],
   "source": [
    "# Specific to this region: boxes where data has to be selected differently\n",
    "support_dir = os.path.join(data_dir, 'l0_support_data')\n",
    "\n",
    "# OK path to file\n",
    "box_file = os.path.join(support_dir, 'rgi10_boxes.zip')"
   ]
  },
  {
   "cell_type": "markdown",
   "id": "industrial-allergy",
   "metadata": {},
   "source": [
    "### Load the input data"
   ]
  },
  {
   "cell_type": "code",
   "execution_count": null,
   "id": "worst-solid",
   "metadata": {},
   "outputs": [],
   "source": [
    "# Read L2 files\n",
    "shp = gpd.read_file('tar://' + l2_dir + f'/RGI{reg:02d}.tar.gz/RGI{reg:02d}/RGI{reg:02d}.shp')"
   ]
  },
  {
   "cell_type": "markdown",
   "id": "5c3dc445-ed40-44c4-8da4-f182117a2a4b",
   "metadata": {},
   "source": [
    "### List of submissions "
   ]
  },
  {
   "cell_type": "code",
   "execution_count": null,
   "id": "eaa9782e-c253-4be4-ad84-95134fb67e5c",
   "metadata": {},
   "outputs": [],
   "source": [
    "sdf, df_cat = submission_summary(shp)\n",
    "sdf"
   ]
  },
  {
   "cell_type": "markdown",
   "id": "565eff58-1cd4-4a66-aed3-faeff8ef23b7",
   "metadata": {},
   "source": [
    "- 636 is RGI6\n",
    "- 752 is GAMDAMv2 - we use it\n",
    "- 726 is a mapping of a few remaining nominal glaciers on three De Long Islands\n",
    "- 761 is an update of the Barr inventory for Kamchatka **needs to be replacec once new outlines are ingested**\n",
    "- 763 are \"new\" glaciers in Japan ;-) "
   ]
  },
  {
   "cell_type": "code",
   "execution_count": null,
   "id": "7a694d1b-960c-4614-8883-95f4514a0d37",
   "metadata": {},
   "outputs": [],
   "source": [
    "# # Optional: write out selection in intermediate shape files for manual GIS review\n",
    "# tmp_output_dir = mkdir(os.path.join(data_dir, 'l0_tmp_data', f'rgi{reg:02d}_inventories'))\n",
    "# tmp_output_dir_tar = mkdir(os.path.join(data_dir, 'l0_tmp_data'))\n",
    "# for subid in shp.subm_id.unique():\n",
    "#     s_loc = shp.loc[shp.subm_id == subid]\n",
    "#     s_loc.to_file(tmp_output_dir + f'/subm_{int(subid):03d}.shp')\n",
    "# print('Taring...')\n",
    "# print(subprocess.run(['tar', '-zcvf', f'{tmp_output_dir_tar}/rgi{reg:02d}_inventories.tar.gz', '-C', \n",
    "#                       os.path.join(data_dir, 'l0_tmp_data'), f'rgi{reg:02d}_inventories']))"
   ]
  },
  {
   "cell_type": "markdown",
   "id": "45b99c04-938d-4cd3-9f07-4cf2e9369f4a",
   "metadata": {},
   "source": [
    "## Outline selection "
   ]
  },
  {
   "cell_type": "code",
   "execution_count": null,
   "id": "0c9ebb45-6590-4980-bb13-e2116e4248d4",
   "metadata": {},
   "outputs": [],
   "source": [
    "glims_rgi = shp.loc[shp.subm_id.isin([636])].copy()\n",
    "glims_rgi['is_rgi6'] = True\n",
    "s_761 = shp.loc[shp.subm_id.isin([761])].copy()\n",
    "s_761['is_rgi6'] = False\n",
    "s_752 = shp.loc[shp.subm_id.isin([752])].copy()\n",
    "s_752['is_rgi6'] = False\n",
    "s_726 = shp.loc[shp.subm_id.isin([726])].copy()\n",
    "s_726['is_rgi6'] = False\n",
    "s_763 = shp.loc[shp.subm_id.isin([763])].copy()\n",
    "s_763['is_rgi6'] = False"
   ]
  },
  {
   "cell_type": "code",
   "execution_count": null,
   "id": "18b9775c-5aa2-423a-9b4b-8144ccf9f6fb",
   "metadata": {},
   "outputs": [],
   "source": [
    "# Preselected areas to remove\n",
    "box = open_zip_shapefile(support_dir + '/rgi10_boxes.zip')"
   ]
  },
  {
   "cell_type": "code",
   "execution_count": null,
   "id": "37fe13a1-02ae-45d2-bae0-d2ac4d95f8a8",
   "metadata": {},
   "outputs": [],
   "source": [
    "# Remove the new regions from rgi\n",
    "rp = glims_rgi.representative_point()\n",
    "rp = rp.to_frame('geometry')\n",
    "rp['orig_index'] = glims_rgi.index\n",
    "difference = gpd.overlay(rp, box, how='difference')\n",
    "glims_rgi = glims_rgi.loc[difference['orig_index']].copy()"
   ]
  },
  {
   "cell_type": "code",
   "execution_count": null,
   "id": "2c5a6964-54a7-4908-8068-a9d24bd59823",
   "metadata": {},
   "outputs": [],
   "source": [
    "# Size filter?\n",
    "needs_size_filter(glims_rgi)"
   ]
  },
  {
   "cell_type": "code",
   "execution_count": null,
   "id": "a99ce881-bc37-444f-a4f4-490bd71685de",
   "metadata": {},
   "outputs": [],
   "source": [
    "print(len(s_761))\n",
    "s_761 = size_filter(s_761)\n",
    "print(len(s_761))"
   ]
  },
  {
   "cell_type": "code",
   "execution_count": null,
   "id": "4f9d9717-627c-4654-8e8a-725b8ae084d8",
   "metadata": {},
   "outputs": [],
   "source": [
    "print(len(s_752))\n",
    "s_752 = size_filter(s_752)\n",
    "print(len(s_752))"
   ]
  },
  {
   "cell_type": "code",
   "execution_count": null,
   "id": "fbf00fb6-4e9c-4692-9494-bc0acca7d170",
   "metadata": {},
   "outputs": [],
   "source": [
    "print(len(s_726))\n",
    "s_726 = size_filter(s_726)\n",
    "print(len(s_726))"
   ]
  },
  {
   "cell_type": "code",
   "execution_count": null,
   "id": "0ca0d8fe-1a72-4eca-a919-cf1847d0b940",
   "metadata": {},
   "outputs": [],
   "source": [
    "print(len(s_763))\n",
    "s_763 = size_filter(s_763)\n",
    "print(len(s_763))"
   ]
  },
  {
   "cell_type": "code",
   "execution_count": null,
   "id": "2b22f8bf-1070-4c3c-b7d9-e87ee761e048",
   "metadata": {},
   "outputs": [],
   "source": [
    "rgi7 = pd.concat([glims_rgi, s_761, s_752, s_726, s_763])"
   ]
  },
  {
   "cell_type": "markdown",
   "id": "003520ea-4b92-4cac-9181-08ef309c2731",
   "metadata": {},
   "source": [
    "### Some sanity checks "
   ]
  },
  {
   "cell_type": "code",
   "execution_count": null,
   "id": "828ded4a-fb4d-4d3c-b660-8a49b51a92c1",
   "metadata": {},
   "outputs": [],
   "source": [
    "rgi7 = correct_geoms(rgi7)"
   ]
  },
  {
   "cell_type": "code",
   "execution_count": null,
   "id": "0ac37949-810f-4967-9585-3b614b9e4779",
   "metadata": {},
   "outputs": [],
   "source": [
    "dupes = find_duplicates(rgi7)"
   ]
  },
  {
   "cell_type": "code",
   "execution_count": null,
   "id": "ddcfafa7-3b6b-4751-b545-c5f37469796b",
   "metadata": {},
   "outputs": [],
   "source": [
    "rgi7 = fix_overaps(rgi7)"
   ]
  },
  {
   "cell_type": "code",
   "execution_count": null,
   "id": "53b6c6a4-a260-45cb-ab1c-4c13bb4f09b0",
   "metadata": {},
   "outputs": [],
   "source": [
    "rgi7 = correct_geoms(rgi7)"
   ]
  },
  {
   "cell_type": "code",
   "execution_count": null,
   "id": "80f2f8bb-f452-44bd-96d3-daa9d5fb7079",
   "metadata": {},
   "outputs": [],
   "source": [
    "print(len(rgi7))\n",
    "rgi7 = size_filter(rgi7)\n",
    "print(len(rgi7))"
   ]
  },
  {
   "cell_type": "code",
   "execution_count": null,
   "id": "3fb69291-5008-48a4-bd7d-d606e533719a",
   "metadata": {},
   "outputs": [],
   "source": [
    "sdf, df_class = submission_summary(rgi7)\n",
    "df_class"
   ]
  },
  {
   "cell_type": "code",
   "execution_count": null,
   "id": "b957beb4-2a3f-4ee6-bac7-9bd338443992",
   "metadata": {},
   "outputs": [],
   "source": [
    "# Check the orphaned rock outcrops\n",
    "orphan_f = os.path.join(data_dir, 'l1_orphan_interiors', f'RGI{reg:02d}', f'RGI{reg:02d}.shp')\n",
    "if os.path.exists(orphan_f):\n",
    "    orphan_f = gpd.read_file(orphan_f)\n",
    "    check = np.isin(rgi7.subm_id.unique(), orphan_f.subm_id.unique())\n",
    "    if np.any(check):\n",
    "        print(f'Orphan rock outcrops detected in subm_id {rgi7.subm_id.unique()[check]}')\n",
    "        orphan_f['area'] = orphan_f.to_crs({'proj':'cea'}).area"
   ]
  },
  {
   "cell_type": "markdown",
   "id": "a6a8c530-e99e-403a-9e5c-c327892831b8",
   "metadata": {},
   "source": [
    "### Plots "
   ]
  },
  {
   "cell_type": "code",
   "execution_count": null,
   "id": "27f2293b-7197-40f1-954a-74d5b44491ec",
   "metadata": {},
   "outputs": [],
   "source": [
    "plot_map(rgi7, reg, figsize=(22, 10), linewidth=3, loc='upper center', aspect='equal')"
   ]
  },
  {
   "cell_type": "code",
   "execution_count": null,
   "id": "f64ea794-7856-4812-9c3a-42a612883fda",
   "metadata": {},
   "outputs": [],
   "source": [
    "plot_map(rgi7, reg, figsize=(22, 10), linewidth=3, loc='upper center', is_rgi6=True, aspect='equal')"
   ]
  },
  {
   "cell_type": "code",
   "execution_count": null,
   "id": "521044a5-447b-45bf-84cd-634f2100d5fa",
   "metadata": {},
   "outputs": [],
   "source": [
    "plot_date_hist(rgi7, reg)"
   ]
  },
  {
   "cell_type": "markdown",
   "id": "a25da3db-9849-43a5-8bc0-260f1d74288b",
   "metadata": {},
   "source": [
    "### Text for github"
   ]
  },
  {
   "cell_type": "code",
   "execution_count": null,
   "id": "ba048076-a609-4e49-a88b-aa1c159b8447",
   "metadata": {},
   "outputs": [],
   "source": [
    "fgh = sdf.T\n",
    "fgh"
   ]
  },
  {
   "cell_type": "code",
   "execution_count": null,
   "id": "c0dccd95-3ce5-4e22-ae1d-739ac96a8515",
   "metadata": {},
   "outputs": [],
   "source": [
    "print(fgh.to_markdown(headers=np.append(['subm_id'], fgh.columns)))"
   ]
  },
  {
   "cell_type": "markdown",
   "id": "1802582f-ce8f-4735-a34c-d72c4701c9fb",
   "metadata": {},
   "source": [
    "## Write out and tar "
   ]
  },
  {
   "cell_type": "code",
   "execution_count": null,
   "id": "e387d102-db86-4fc3-8028-35665e90064f",
   "metadata": {},
   "outputs": [],
   "source": [
    "dd = mkdir(f'{output_dir}/RGI{reg:02d}/', reset=True)\n",
    "\n",
    "print('Writing...')\n",
    "rgi7.to_file(dd + f'RGI{reg:02d}.shp')\n",
    "\n",
    "print('Taring...')\n",
    "print(subprocess.run(['tar', '-zcvf', f'{output_dir_tar}/RGI{reg:02d}.tar.gz', '-C', output_dir, f'RGI{reg:02d}']))"
   ]
  },
  {
   "cell_type": "markdown",
   "id": "1390cdea-cc01-48d0-9f07-75bdfed65cf5",
   "metadata": {},
   "source": [
    "## Consistency check with RGI6 "
   ]
  },
  {
   "cell_type": "code",
   "execution_count": null,
   "id": "1766d0f1-31bd-4c2b-8ca4-204fbee7d27d",
   "metadata": {},
   "outputs": [],
   "source": [
    "rgi6 = open_zip_shapefile(rgi6_reg_file)"
   ]
  },
  {
   "cell_type": "code",
   "execution_count": null,
   "id": "24c6f67c-5c7f-4c62-bd63-e2c62ab44471",
   "metadata": {},
   "outputs": [],
   "source": [
    "len(rgi7), len(rgi6)"
   ]
  },
  {
   "cell_type": "markdown",
   "id": "1a24984c-f170-41bb-9525-6d72c8b0839e",
   "metadata": {},
   "source": [
    "Test the areas:"
   ]
  },
  {
   "cell_type": "code",
   "execution_count": null,
   "id": "f049d918-be78-4985-adb3-3a7f1d1bb4b7",
   "metadata": {},
   "outputs": [],
   "source": [
    "rgi6['area'] = rgi6.to_crs({'proj':'cea'}).area "
   ]
  },
  {
   "cell_type": "code",
   "execution_count": null,
   "id": "c2f11f80-82d6-4681-a419-d3a33a4b885b",
   "metadata": {},
   "outputs": [],
   "source": [
    "print('Area RGI7a (km2)', rgi7['area'].sum() * 1e-6)\n",
    "print('Area RGI6 (km2)', rgi6['area'].sum() * 1e-6)\n",
    "print('diff areas RGI6 - RGI7 computed by us (km2)', (rgi6['area'].sum() - rgi7['area'].sum()) * 1e-6)"
   ]
  },
  {
   "cell_type": "code",
   "execution_count": null,
   "id": "3a03e78a-8c21-402e-84da-5e75cd94e961",
   "metadata": {},
   "outputs": [],
   "source": [
    "# Remove the ids\n",
    "rp = rgi6.representative_point()\n",
    "rp = rp.to_frame('geometry')\n",
    "rp['orig_index'] = rgi6.index\n",
    "\n",
    "difference = gpd.overlay(rp, box, how='difference')\n",
    "rgi6_old = rgi6.loc[difference['orig_index']].copy()\n",
    "difference = gpd.overlay(rp, box, how='intersection')\n",
    "rgi6_new = rgi6.loc[difference['orig_index']].copy()\n",
    "assert len(rgi6_new) + len(rgi6_old) == len(rgi6)"
   ]
  },
  {
   "cell_type": "code",
   "execution_count": null,
   "id": "d08f2311-f5f7-416e-9b5c-03b4162f7ebb",
   "metadata": {},
   "outputs": [],
   "source": [
    "print(f'N1 = {len(rgi6_old)} , N2 = {len(glims_rgi)}')\n",
    "print('Area RGI7 (km2)', glims_rgi['area'].sum() * 1e-6)\n",
    "print('Area RGI6 (km2)', rgi6_old['area'].sum() * 1e-6)\n",
    "print('diff', (rgi6_old['area'].sum() - glims_rgi['area'].sum()) * 1e-6)"
   ]
  },
  {
   "cell_type": "markdown",
   "id": "465b88a4-e5ba-4a89-9ca3-0233e8e1676c",
   "metadata": {},
   "source": [
    "### With FP inv  "
   ]
  },
  {
   "cell_type": "code",
   "execution_count": null,
   "id": "e72689a9-c969-4cbe-8c40-110e57e2996e",
   "metadata": {},
   "outputs": [],
   "source": [
    "support_dir = os.path.join(data_dir, 'l0_support_data')\n",
    "gamdam_dir = os.path.join(support_dir, 'gamdam')"
   ]
  },
  {
   "cell_type": "code",
   "execution_count": null,
   "id": "c1da2692-e991-46da-b450-0757c5ace827",
   "metadata": {},
   "outputs": [],
   "source": [
    "fp = open_zip_shapefile(support_dir + '/kamchatka_topos_alos_dem_30m_utm57N_b_footprints.zip')\n",
    "fp['area'] = fp.to_crs({'proj':'cea'}).area "
   ]
  },
  {
   "cell_type": "code",
   "execution_count": null,
   "id": "01fddd62-fb45-4bfa-9d93-82949381156a",
   "metadata": {},
   "outputs": [],
   "source": [
    "print(f'NFP = {len(fp)} , NRGI7 = {len(s_761)}')\n",
    "print('Area RGI7 (km2)', s_761['area'].sum() * 1e-6)\n",
    "print('Area FP (km2)', fp['area'].sum() * 1e-6)\n",
    "print('diff', (fp['area'].sum() - s_761['area'].sum()) * 1e-6)"
   ]
  },
  {
   "cell_type": "markdown",
   "id": "738ca60f-c592-4434-bf37-dede569f6934",
   "metadata": {},
   "source": [
    "### With GAMDAM "
   ]
  },
  {
   "cell_type": "code",
   "execution_count": null,
   "id": "af54bc2e-22ac-4241-a897-c28d4fd69d42",
   "metadata": {},
   "outputs": [],
   "source": [
    "# Region file to select from gamdam\n",
    "reg_file = os.path.join(data_dir, '00_rgi70_regions', '00_rgi70_O1Regions', '00_rgi70_O1Regions.shp')"
   ]
  },
  {
   "cell_type": "code",
   "execution_count": null,
   "id": "27c90ef4-f4dd-4a7e-90e2-241e7e38261c",
   "metadata": {},
   "outputs": [],
   "source": [
    "# specify path to reference data set\n",
    "import glob\n",
    "from utils import open_zip_shapefile\n",
    "gam_files = glob.glob(gamdam_dir + '/*.zip')\n",
    "df_ref = []\n",
    "for gf in gam_files:\n",
    "    df_ref.append(open_zip_shapefile(gf))\n",
    "\n",
    "df_ref = pd.concat(df_ref).reset_index()"
   ]
  },
  {
   "cell_type": "code",
   "execution_count": null,
   "id": "6f838422-2139-4462-905d-2577167a8cc9",
   "metadata": {},
   "outputs": [],
   "source": [
    "# Calculate representative points for reference data\n",
    "ref_rp = df_ref.representative_point()\n",
    "\n",
    "# Make a dataframe out of it and add the original index to recover it later\n",
    "ref_rp = ref_rp.to_frame('geometry')\n",
    "ref_rp['orig_index'] = df_ref.index\n",
    "\n",
    "# Read region file\n",
    "reg_f = gpd.read_file(reg_file)\n",
    "\n",
    "# Make the overlay with the RGI region of interest -> get the rep. points which are located inside the region boundaries\n",
    "ref_intersect = gpd.overlay(ref_rp, reg_f.loc[reg_f.RGI_CODE == f'{reg:02d}'], how='intersection')\n",
    "\n",
    "# Now select the entries which intersect from the original shape file (-> extract the polygons) \n",
    "df_ref = df_ref.loc[ref_intersect['orig_index'].values].copy()"
   ]
  },
  {
   "cell_type": "code",
   "execution_count": null,
   "id": "ca15a919-a428-4b54-8546-332069bfd24f",
   "metadata": {},
   "outputs": [],
   "source": [
    "df_ref['area'] = df_ref.to_crs({'proj':'cea'}).area "
   ]
  },
  {
   "cell_type": "code",
   "execution_count": null,
   "id": "a9665705-3217-4083-ba78-9eccde4cbcab",
   "metadata": {},
   "outputs": [],
   "source": [
    "print(f'Nref = {len(df_ref)} , NRGI7 = {len(s_752)}')\n",
    "print('Area RGI7 (km2)', s_752['area'].sum() * 1e-6)\n",
    "print('Area ref (km2)', df_ref['area'].sum() * 1e-6)\n",
    "print('diff', (df_ref['area'].sum() - s_752['area'].sum()) * 1e-6)"
   ]
  },
  {
   "cell_type": "code",
   "execution_count": null,
   "id": "bebee9e8-1481-4ae9-aedd-c707f08fdf7a",
   "metadata": {},
   "outputs": [],
   "source": []
  }
 ],
 "metadata": {
  "kernelspec": {
   "display_name": "Python 3 (ipykernel)",
   "language": "python",
   "name": "python3"
  },
  "language_info": {
   "codemirror_mode": {
    "name": "ipython",
    "version": 3
   },
   "file_extension": ".py",
   "mimetype": "text/x-python",
   "name": "python",
   "nbconvert_exporter": "python",
   "pygments_lexer": "ipython3",
   "version": "3.10.8"
  }
 },
 "nbformat": 4,
 "nbformat_minor": 5
}
