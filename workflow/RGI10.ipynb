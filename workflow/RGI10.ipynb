{
 "cells": [
  {
   "cell_type": "markdown",
   "id": "greenhouse-budget",
   "metadata": {},
   "source": [
    "# RGI-07: Region 10 (Asia North)\n",
    "\n",
    "F. Maussion & S. Galos, June 2021"
   ]
  },
  {
   "cell_type": "code",
   "execution_count": null,
   "id": "running-chester",
   "metadata": {},
   "outputs": [],
   "source": [
    "import geopandas as gpd\n",
    "import pandas as pd\n",
    "import matplotlib.pyplot as plt\n",
    "import subprocess\n",
    "import os\n",
    "from utils import mkdir"
   ]
  },
  {
   "cell_type": "markdown",
   "id": "tamil-equivalent",
   "metadata": {},
   "source": [
    "## Files and storage paths"
   ]
  },
  {
   "cell_type": "code",
   "execution_count": null,
   "id": "martial-mention",
   "metadata": {},
   "outputs": [],
   "source": [
    "# Region of interest\n",
    "reg = 10\n",
    "\n",
    "# go down from rgi7_scripts/workflow\n",
    "data_dir = '../../rgi7_data/'\n",
    "\n",
    "# Level 2 GLIMS files\n",
    "l2_dir = os.path.join(data_dir, 'l2_sel_reg_tars')\n",
    "\n",
    "# Output directories\n",
    "output_dir = mkdir(os.path.join(data_dir, 'l3_rgi7a'))\n",
    "output_dir_tar = mkdir(os.path.join(data_dir, 'l3_rgi7a_tar'))\n",
    "\n",
    "# RGI v6 file for comparison later \n",
    "rgi6_reg_file = os.path.join(data_dir, 'l0_RGIv6', '10_rgi60_NorthAsia.zip')"
   ]
  },
  {
   "cell_type": "code",
   "execution_count": null,
   "id": "editorial-courage",
   "metadata": {},
   "outputs": [],
   "source": [
    "# Specific to this region: boxes where data has to be selected differently\n",
    "support_dir = os.path.join(data_dir, 'l0_support_data')\n",
    "\n",
    "# Option 1: selection by S. Galos (exchange allmost all glaciers in Kamtchatka with few exeptions (where RGI seems to be better)...\n",
    "#... plus keep most of small RGI6 glaciers not covered by Barr)\n",
    "#box_type = 'RGI07_R10_Barr_sel'\n",
    "\n",
    "# Option 2: exchange all Kamtchatka glaciers by Barr data\n",
    "box_type = 'RGI07_R10_Barr_all'\n",
    "\n",
    "# OK path to file\n",
    "box_file = os.path.join(support_dir, f'{box_type}.tar.gz')"
   ]
  },
  {
   "cell_type": "markdown",
   "id": "industrial-allergy",
   "metadata": {},
   "source": [
    "### Load the input data"
   ]
  },
  {
   "cell_type": "code",
   "execution_count": null,
   "id": "worst-solid",
   "metadata": {},
   "outputs": [],
   "source": [
    "# Read L2 files\n",
    "shp = gpd.read_file('tar://' + l2_dir + f'/RGI{reg:02d}.tar.gz/RGI{reg:02d}/RGI{reg:02d}.shp')"
   ]
  },
  {
   "cell_type": "markdown",
   "id": "primary-appreciation",
   "metadata": {},
   "source": [
    "## Apply selection criteria to create the RGI7 data subset"
   ]
  },
  {
   "cell_type": "markdown",
   "id": "neutral-target",
   "metadata": {},
   "source": [
    "### Step 1: extract RGI6 from GLIMS data and do a check"
   ]
  },
  {
   "cell_type": "code",
   "execution_count": null,
   "id": "dental-chick",
   "metadata": {},
   "outputs": [],
   "source": [
    "#...extract RGI06 from GLIMS based on 'geog_area'\n",
    "RGI_ss = shp.loc[shp['geog_area']=='Randolph Glacier Inventory; Umbrella RC for merging the RGI into GLIMS']"
   ]
  },
  {
   "cell_type": "markdown",
   "id": "fantastic-flood",
   "metadata": {},
   "source": [
    "#### load reference data (here RGI6) to enable comparison"
   ]
  },
  {
   "cell_type": "code",
   "execution_count": null,
   "id": "associate-mercy",
   "metadata": {},
   "outputs": [],
   "source": [
    "# Just to know the name of the file to open from zip\n",
    "import zipfile\n",
    "with zipfile.ZipFile(rgi6_reg_file, \"r\") as z:\n",
    "    for f in z.filelist:\n",
    "        if '.shp' in f.filename:\n",
    "            fname = f.filename\n",
    "\n",
    "# load reference data\n",
    "ref_odf = gpd.read_file('zip://' + rgi6_reg_file + '/' + fname)"
   ]
  },
  {
   "cell_type": "markdown",
   "id": "included-wagon",
   "metadata": {},
   "source": [
    "#### Number of elements (differences do not necessarily depict major problems)"
   ]
  },
  {
   "cell_type": "code",
   "execution_count": null,
   "id": "constitutional-cooking",
   "metadata": {},
   "outputs": [],
   "source": [
    "print('Number of glaciers in new RGI subset:', len(RGI_ss))\n",
    "print('Number of glaciers in reference data:', len(ref_odf))\n",
    "print('Difference:', len(RGI_ss)-len(ref_odf))"
   ]
  },
  {
   "cell_type": "markdown",
   "id": "tired-bundle",
   "metadata": {},
   "source": [
    "#### check for dublicate glacier IDs"
   ]
  },
  {
   "cell_type": "code",
   "execution_count": null,
   "id": "entertaining-demographic",
   "metadata": {},
   "outputs": [],
   "source": [
    "print ('number of glaciers without unique id in RGI06:', len(ref_odf)-len(ref_odf['GLIMSId'].unique()))"
   ]
  },
  {
   "cell_type": "code",
   "execution_count": null,
   "id": "broke-paragraph",
   "metadata": {},
   "outputs": [],
   "source": [
    "print ('number of glaciers without unique id in RGI06 from GLIMS data base:', len(RGI_ss)-len(RGI_ss['glac_id'].unique()))"
   ]
  },
  {
   "cell_type": "markdown",
   "id": "religious-sponsorship",
   "metadata": {},
   "source": [
    "#### Check for 'nominal glaciers' in the RGI6 original data and delete them from new RGI subset from GLIMS if they are in there \n",
    "\n",
    "\n",
    "See https://github.com/GLIMS-RGI/glims_issue_tracker/issues/6 for context."
   ]
  },
  {
   "cell_type": "code",
   "execution_count": null,
   "id": "smoking-genre",
   "metadata": {},
   "outputs": [],
   "source": [
    "# how many nominals in RGI06 (identifiable via 'Status' attribute in RGI 06)\n",
    "nom = ref_odf.loc[ref_odf.Status == 2].copy()\n",
    "len(nom)"
   ]
  },
  {
   "cell_type": "code",
   "execution_count": null,
   "id": "hired-practitioner",
   "metadata": {},
   "outputs": [],
   "source": [
    "# drop nominal glaciers from new RGI subset\n",
    "RGI_ss = (RGI_ss.loc[~RGI_ss['glac_id'].isin(nom['GLIMSId'])]).copy()"
   ]
  },
  {
   "cell_type": "markdown",
   "id": "focal-contrary",
   "metadata": {},
   "source": [
    "#### Total area"
   ]
  },
  {
   "cell_type": "code",
   "execution_count": null,
   "id": "loaded-average",
   "metadata": {},
   "outputs": [],
   "source": [
    "# add an area field to RGI_ss and reference data\n",
    "RGI_ss['area'] = RGI_ss.to_crs({'proj':'cea'}).area\n",
    "ref_odf['area'] = ref_odf.to_crs({'proj':'cea'}).area\n",
    "nom['area'] = nom.to_crs({'proj':'cea'}).area"
   ]
  },
  {
   "cell_type": "code",
   "execution_count": null,
   "id": "irish-integral",
   "metadata": {},
   "outputs": [],
   "source": [
    "# print and compare area values\n",
    "Area_RGI = RGI_ss['area'].sum() * 1e-6\n",
    "print('Area RGI [km²]:', Area_RGI)\n",
    "Area_ref = ref_odf['area'].sum() * 1e-6\n",
    "print('Area Ref [km²]:', Area_ref)\n",
    "Area_nom = nom['area'].sum() * 1e-6\n",
    "print('Area Nom [km²]:', Area_nom)\n",
    "d = (Area_RGI + Area_nom - Area_ref) * 1e-6\n",
    "print('Area difference [km²]:',d)"
   ]
  },
  {
   "cell_type": "markdown",
   "id": "acoustic-flexibility",
   "metadata": {},
   "source": [
    "### result of check (RGI from Glims global data base vs. RGI06 original):\n",
    "\n",
    "The number of individual gaciers differs by 9 but areas of both files differ by only 1527 m² for whole Region! The difference in number of individuals results cannot clearly be explained but the fact that total areas are \"equal\" and an overlay test shows no cases of lost glaciers leads to the assumption that the difference in individual glacier numbers is a merging issue and hence of minor relevance as 'all' glacierized areas are covered. See https://github.com/GLIMS-RGI/glims_issue_tracker/issues/5 for context\n",
    "\n",
    "TODO: find these glaciers as has been done for RGI01 and 13, 14, 15"
   ]
  },
  {
   "cell_type": "markdown",
   "id": "furnished-pennsylvania",
   "metadata": {},
   "source": [
    "# If RGI07 should be equal to RGI06 stop here, else..."
   ]
  },
  {
   "cell_type": "markdown",
   "id": "polish-weekly",
   "metadata": {},
   "source": [
    "## ...start refinement and introduce Barr data for Kamtchatka"
   ]
  },
  {
   "cell_type": "code",
   "execution_count": null,
   "id": "single-thomas",
   "metadata": {},
   "outputs": [],
   "source": [
    "# extract data by Barr from GLIMS data which is subm_id 716\n",
    "Barr = shp.loc[shp['subm_id']== 716]"
   ]
  },
  {
   "cell_type": "code",
   "execution_count": null,
   "id": "instructional-motion",
   "metadata": {},
   "outputs": [],
   "source": [
    "## load a shapefile containing polygons which define areas uncovered by newly created RGI07 file\n",
    "# OPTION A\n",
    "# load a shapefile indicating the areas where glacier outlines of RGI06 shall be replaced by data by Barr (decided by steph)\n",
    "# OPTION B\n",
    "# load a shapefile indicating the areas where glacier outlines of RGI06 shall be replaced by data by Barr (replace whole region)\n",
    "# See above to select the one you want\n",
    "RA = gpd.read_file('tar://' + box_file + f'/{box_type}/{box_type}.shp')"
   ]
  },
  {
   "cell_type": "code",
   "execution_count": null,
   "id": "mysterious-affiliate",
   "metadata": {},
   "outputs": [],
   "source": [
    "# do an overlay of Barr data (subm_id 716) and the shapefile above to drop all glaciers outside \n",
    "Barr_ov = gpd.overlay(Barr, RA , how='intersection')"
   ]
  },
  {
   "cell_type": "code",
   "execution_count": null,
   "id": "jewish-county",
   "metadata": {},
   "outputs": [],
   "source": [
    "# do an overlay of RGI06 (subm_id 636) and the shapefile above to drop all glaciers inside\n",
    "RGI_ss_ov = gpd.overlay(RGI_ss, RA , how='difference')"
   ]
  },
  {
   "cell_type": "code",
   "execution_count": null,
   "id": "bigger-mapping",
   "metadata": {},
   "outputs": [],
   "source": [
    "# combine the two selections and thereby create RGI07-reg10 \n",
    "RGI07_reg10 = RGI_ss_ov.append(Barr_ov, sort=True)"
   ]
  },
  {
   "cell_type": "code",
   "execution_count": null,
   "id": "informational-toronto",
   "metadata": {},
   "outputs": [],
   "source": [
    "# add a column with the geometry area to enable comparison with RGI6\n",
    "RGI07_reg10['area'] = RGI07_reg10.to_crs({'proj':'cea'}).area"
   ]
  },
  {
   "cell_type": "code",
   "execution_count": null,
   "id": "developmental-major",
   "metadata": {},
   "outputs": [],
   "source": [
    "# print and compare area values\n",
    "Area_RGI07_reg10 = RGI07_reg10['area'].sum() * 1e-6\n",
    "print('Area RGI07 [km²]:', Area_RGI07_reg10)\n",
    "Area_ref = ref_odf['area'].sum() * 1e-6\n",
    "print('Area RGI06 [km²]:', Area_ref)\n",
    "d = (Area_RGI07_reg10 - Area_ref)\n",
    "print('Area difference [km²]:',d)\n",
    "dn = d + Area_nom\n",
    "print('Area difference considering dropped nominals [km²]:',dn)"
   ]
  },
  {
   "cell_type": "markdown",
   "id": "normal-worthy",
   "metadata": {},
   "source": [
    "## Write out and tar "
   ]
  },
  {
   "cell_type": "code",
   "execution_count": null,
   "id": "sixth-korean",
   "metadata": {},
   "outputs": [],
   "source": [
    "dd = mkdir(f'{output_dir}/RGI{reg:02d}/', reset=True)\n",
    "\n",
    "print('Writing...')\n",
    "RGI07_reg10.to_file(dd + f'RGI{reg:02d}.shp')\n",
    "\n",
    "print('Taring...')\n",
    "print(subprocess.run(['tar', '-zcvf', f'{output_dir_tar}/RGI{reg:02d}.tar.gz', '-C', output_dir, f'RGI{reg:02d}']))"
   ]
  },
  {
   "cell_type": "code",
   "execution_count": null,
   "id": "herbal-profit",
   "metadata": {},
   "outputs": [],
   "source": []
  }
 ],
 "metadata": {
  "kernelspec": {
   "display_name": "Python 3",
   "language": "python",
   "name": "python3"
  },
  "language_info": {
   "codemirror_mode": {
    "name": "ipython",
    "version": 3
   },
   "file_extension": ".py",
   "mimetype": "text/x-python",
   "name": "python",
   "nbconvert_exporter": "python",
   "pygments_lexer": "ipython3",
   "version": "3.8.8"
  }
 },
 "nbformat": 4,
 "nbformat_minor": 5
}
