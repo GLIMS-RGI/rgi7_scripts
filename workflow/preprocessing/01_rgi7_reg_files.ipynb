{
 "cells": [
  {
   "cell_type": "markdown",
   "metadata": {},
   "source": [
    "# Modify the RGI6 regions files for RGI7 "
   ]
  },
  {
   "cell_type": "markdown",
   "metadata": {},
   "source": [
    "List of changes:\n",
    "- Region 12 (Caucasus and Middle East): there is a cluster of glaciers south of the current extent of the region and subregion polygons. There are no regions below them, so there shouldn't be much of an issue in simply updating the geometry a little bit: we shift the southern boundary by 2° (from 32°N to 30°N).\n",
    "- the data type of the RGI_CODE attribute in the region file of version 6 is int. For consistency with the RGI files, it should be str (format with leading zero, for example `02`). We change this as well."
   ]
  },
  {
   "cell_type": "code",
   "execution_count": 1,
   "metadata": {},
   "outputs": [],
   "source": [
    "# go down from rgi7_scripts/workflow/preprocessing\n",
    "data_dir = '../../../rgi7_data/'"
   ]
  },
  {
   "cell_type": "code",
   "execution_count": 2,
   "metadata": {},
   "outputs": [],
   "source": [
    "import os\n",
    "import numpy as np\n",
    "import shapely.geometry as shpg\n",
    "import geopandas as gpd\n",
    "from utils import mkdir"
   ]
  },
  {
   "cell_type": "markdown",
   "metadata": {},
   "source": [
    "## Regions "
   ]
  },
  {
   "cell_type": "code",
   "execution_count": 3,
   "metadata": {},
   "outputs": [
    {
     "data": {
      "text/plain": [
       "'/home/www/fmaussion/misc/rgi7_data/00_rgi70_regions'"
      ]
     },
     "execution_count": 3,
     "metadata": {},
     "output_type": "execute_result"
    }
   ],
   "source": [
    "out_dir = os.path.abspath(os.path.join(data_dir, '00_rgi70_regions'))\n",
    "mkdir(out_dir)"
   ]
  },
  {
   "cell_type": "code",
   "execution_count": 4,
   "metadata": {},
   "outputs": [],
   "source": [
    "# Read the RGI region files\n",
    "rgi_dir = os.path.join(data_dir, 'l0_RGIv6')\n",
    "rgi_reg = gpd.read_file('zip://' + os.path.join(data_dir, 'l0_RGIv6', '00_rgi60_regions.zip', '00_rgi60_O1Regions.shp'))"
   ]
  },
  {
   "cell_type": "code",
   "execution_count": 5,
   "metadata": {},
   "outputs": [
    {
     "data": {
      "text/plain": [
       "(32.0, 31.0, 54.0, 45.0)"
      ]
     },
     "execution_count": 5,
     "metadata": {},
     "output_type": "execute_result"
    }
   ],
   "source": [
    "# Select the RGI 12 polygon\n",
    "poly = rgi_reg.loc[rgi_reg.RGI_CODE == 12].iloc[0].geometry\n",
    "poly.bounds"
   ]
  },
  {
   "cell_type": "markdown",
   "metadata": {},
   "source": [
    "Let's go down to 30° South instead:"
   ]
  },
  {
   "cell_type": "code",
   "execution_count": 6,
   "metadata": {},
   "outputs": [],
   "source": [
    "x, y = poly.exterior.xy\n",
    "ny = np.where(np.isclose(y, 31), 30, y)\n",
    "new_poly = shpg.Polygon(np.array((x, ny)).T)\n",
    "rgi_reg.loc[rgi_reg.RGI_CODE == 12, 'geometry'] = new_poly"
   ]
  },
  {
   "cell_type": "code",
   "execution_count": 7,
   "metadata": {},
   "outputs": [],
   "source": [
    "# Change type and format\n",
    "rgi_reg['RGI_CODE'] = ['{:02d}'.format(int(s)) for s in rgi_reg.RGI_CODE]"
   ]
  },
  {
   "cell_type": "code",
   "execution_count": 8,
   "metadata": {},
   "outputs": [
    {
     "data": {
      "text/html": [
       "<div>\n",
       "<style scoped>\n",
       "    .dataframe tbody tr th:only-of-type {\n",
       "        vertical-align: middle;\n",
       "    }\n",
       "\n",
       "    .dataframe tbody tr th {\n",
       "        vertical-align: top;\n",
       "    }\n",
       "\n",
       "    .dataframe thead th {\n",
       "        text-align: right;\n",
       "    }\n",
       "</style>\n",
       "<table border=\"1\" class=\"dataframe\">\n",
       "  <thead>\n",
       "    <tr style=\"text-align: right;\">\n",
       "      <th></th>\n",
       "      <th>FULL_NAME</th>\n",
       "      <th>RGI_CODE</th>\n",
       "      <th>WGMS_CODE</th>\n",
       "      <th>geometry</th>\n",
       "    </tr>\n",
       "  </thead>\n",
       "  <tbody>\n",
       "    <tr>\n",
       "      <th>0</th>\n",
       "      <td>Alaska</td>\n",
       "      <td>01</td>\n",
       "      <td>ALA</td>\n",
       "      <td>POLYGON ((-133.00000 54.50000, -134.00000 54.5...</td>\n",
       "    </tr>\n",
       "    <tr>\n",
       "      <th>1</th>\n",
       "      <td>Alaska</td>\n",
       "      <td>01</td>\n",
       "      <td>ALA</td>\n",
       "      <td>POLYGON ((180.00000 50.00000, 179.00000 50.000...</td>\n",
       "    </tr>\n",
       "    <tr>\n",
       "      <th>2</th>\n",
       "      <td>Western Canada and USA</td>\n",
       "      <td>02</td>\n",
       "      <td>WNA</td>\n",
       "      <td>POLYGON ((-133.00000 54.50000, -132.00000 54.5...</td>\n",
       "    </tr>\n",
       "    <tr>\n",
       "      <th>3</th>\n",
       "      <td>Arctic Canada, North</td>\n",
       "      <td>03</td>\n",
       "      <td>ACN</td>\n",
       "      <td>POLYGON ((-125.00000 74.00000, -125.00000 75.0...</td>\n",
       "    </tr>\n",
       "    <tr>\n",
       "      <th>4</th>\n",
       "      <td>Arctic Canada, South</td>\n",
       "      <td>04</td>\n",
       "      <td>ACS</td>\n",
       "      <td>POLYGON ((-90.00000 74.00000, -89.00000 74.000...</td>\n",
       "    </tr>\n",
       "    <tr>\n",
       "      <th>5</th>\n",
       "      <td>Greenland Periphery</td>\n",
       "      <td>05</td>\n",
       "      <td>GRL</td>\n",
       "      <td>POLYGON ((-75.00000 77.00000, -74.73000 77.510...</td>\n",
       "    </tr>\n",
       "    <tr>\n",
       "      <th>6</th>\n",
       "      <td>Iceland</td>\n",
       "      <td>06</td>\n",
       "      <td>ISL</td>\n",
       "      <td>POLYGON ((-26.00000 59.00000, -26.00000 60.000...</td>\n",
       "    </tr>\n",
       "    <tr>\n",
       "      <th>7</th>\n",
       "      <td>Svalbard and Jan Mayen</td>\n",
       "      <td>07</td>\n",
       "      <td>SJM</td>\n",
       "      <td>POLYGON ((-10.00000 70.00000, -10.00000 71.000...</td>\n",
       "    </tr>\n",
       "    <tr>\n",
       "      <th>8</th>\n",
       "      <td>Scandinavia</td>\n",
       "      <td>08</td>\n",
       "      <td>SCA</td>\n",
       "      <td>POLYGON ((4.00000 70.00000, 4.00000 71.00000, ...</td>\n",
       "    </tr>\n",
       "    <tr>\n",
       "      <th>9</th>\n",
       "      <td>Russian Arctic</td>\n",
       "      <td>09</td>\n",
       "      <td>RUA</td>\n",
       "      <td>POLYGON ((35.00000 70.00000, 35.00000 71.00000...</td>\n",
       "    </tr>\n",
       "    <tr>\n",
       "      <th>10</th>\n",
       "      <td>Asia, North</td>\n",
       "      <td>10</td>\n",
       "      <td>ASN</td>\n",
       "      <td>POLYGON ((-180.00000 78.00000, -179.00000 78.0...</td>\n",
       "    </tr>\n",
       "    <tr>\n",
       "      <th>11</th>\n",
       "      <td>Asia, North</td>\n",
       "      <td>10</td>\n",
       "      <td>ASN</td>\n",
       "      <td>POLYGON ((128.00000 46.00000, 127.00000 46.000...</td>\n",
       "    </tr>\n",
       "    <tr>\n",
       "      <th>12</th>\n",
       "      <td>Central Europe</td>\n",
       "      <td>11</td>\n",
       "      <td>CEU</td>\n",
       "      <td>POLYGON ((-6.00000 40.00000, -6.00000 41.00000...</td>\n",
       "    </tr>\n",
       "    <tr>\n",
       "      <th>13</th>\n",
       "      <td>Caucasus and Middle East</td>\n",
       "      <td>12</td>\n",
       "      <td>CAU</td>\n",
       "      <td>POLYGON ((32.00000 30.00000, 32.00000 32.00000...</td>\n",
       "    </tr>\n",
       "    <tr>\n",
       "      <th>14</th>\n",
       "      <td>Asia, Central</td>\n",
       "      <td>13</td>\n",
       "      <td>ASC</td>\n",
       "      <td>POLYGON ((80.00000 46.00000, 81.00000 46.00000...</td>\n",
       "    </tr>\n",
       "    <tr>\n",
       "      <th>15</th>\n",
       "      <td>Asia, South West</td>\n",
       "      <td>14</td>\n",
       "      <td>ASW</td>\n",
       "      <td>POLYGON ((75.40000 26.00000, 75.00000 26.00000...</td>\n",
       "    </tr>\n",
       "    <tr>\n",
       "      <th>16</th>\n",
       "      <td>Asia, South East</td>\n",
       "      <td>15</td>\n",
       "      <td>ASE</td>\n",
       "      <td>POLYGON ((75.40000 26.00000, 75.40000 27.00000...</td>\n",
       "    </tr>\n",
       "    <tr>\n",
       "      <th>17</th>\n",
       "      <td>Low Latitudes</td>\n",
       "      <td>16</td>\n",
       "      <td>TRP</td>\n",
       "      <td>POLYGON ((-100.00000 -25.00000, -100.00000 -24...</td>\n",
       "    </tr>\n",
       "    <tr>\n",
       "      <th>18</th>\n",
       "      <td>Southern Andes</td>\n",
       "      <td>17</td>\n",
       "      <td>SAN</td>\n",
       "      <td>POLYGON ((-62.00000 -45.50000, -62.00000 -46.0...</td>\n",
       "    </tr>\n",
       "    <tr>\n",
       "      <th>19</th>\n",
       "      <td>New Zealand</td>\n",
       "      <td>18</td>\n",
       "      <td>NZL</td>\n",
       "      <td>POLYGON ((179.00000 -49.00000, 178.00000 -49.0...</td>\n",
       "    </tr>\n",
       "    <tr>\n",
       "      <th>20</th>\n",
       "      <td>Antarctic and Subantarctic</td>\n",
       "      <td>19</td>\n",
       "      <td>ANT</td>\n",
       "      <td>POLYGON ((-180.00000 -45.50000, -179.00000 -45...</td>\n",
       "    </tr>\n",
       "  </tbody>\n",
       "</table>\n",
       "</div>"
      ],
      "text/plain": [
       "                     FULL_NAME RGI_CODE WGMS_CODE  \\\n",
       "0                       Alaska       01       ALA   \n",
       "1                       Alaska       01       ALA   \n",
       "2       Western Canada and USA       02       WNA   \n",
       "3         Arctic Canada, North       03       ACN   \n",
       "4         Arctic Canada, South       04       ACS   \n",
       "5          Greenland Periphery       05       GRL   \n",
       "6                      Iceland       06       ISL   \n",
       "7       Svalbard and Jan Mayen       07       SJM   \n",
       "8                  Scandinavia       08       SCA   \n",
       "9               Russian Arctic       09       RUA   \n",
       "10                 Asia, North       10       ASN   \n",
       "11                 Asia, North       10       ASN   \n",
       "12              Central Europe       11       CEU   \n",
       "13    Caucasus and Middle East       12       CAU   \n",
       "14               Asia, Central       13       ASC   \n",
       "15            Asia, South West       14       ASW   \n",
       "16            Asia, South East       15       ASE   \n",
       "17               Low Latitudes       16       TRP   \n",
       "18              Southern Andes       17       SAN   \n",
       "19                 New Zealand       18       NZL   \n",
       "20  Antarctic and Subantarctic       19       ANT   \n",
       "\n",
       "                                             geometry  \n",
       "0   POLYGON ((-133.00000 54.50000, -134.00000 54.5...  \n",
       "1   POLYGON ((180.00000 50.00000, 179.00000 50.000...  \n",
       "2   POLYGON ((-133.00000 54.50000, -132.00000 54.5...  \n",
       "3   POLYGON ((-125.00000 74.00000, -125.00000 75.0...  \n",
       "4   POLYGON ((-90.00000 74.00000, -89.00000 74.000...  \n",
       "5   POLYGON ((-75.00000 77.00000, -74.73000 77.510...  \n",
       "6   POLYGON ((-26.00000 59.00000, -26.00000 60.000...  \n",
       "7   POLYGON ((-10.00000 70.00000, -10.00000 71.000...  \n",
       "8   POLYGON ((4.00000 70.00000, 4.00000 71.00000, ...  \n",
       "9   POLYGON ((35.00000 70.00000, 35.00000 71.00000...  \n",
       "10  POLYGON ((-180.00000 78.00000, -179.00000 78.0...  \n",
       "11  POLYGON ((128.00000 46.00000, 127.00000 46.000...  \n",
       "12  POLYGON ((-6.00000 40.00000, -6.00000 41.00000...  \n",
       "13  POLYGON ((32.00000 30.00000, 32.00000 32.00000...  \n",
       "14  POLYGON ((80.00000 46.00000, 81.00000 46.00000...  \n",
       "15  POLYGON ((75.40000 26.00000, 75.00000 26.00000...  \n",
       "16  POLYGON ((75.40000 26.00000, 75.40000 27.00000...  \n",
       "17  POLYGON ((-100.00000 -25.00000, -100.00000 -24...  \n",
       "18  POLYGON ((-62.00000 -45.50000, -62.00000 -46.0...  \n",
       "19  POLYGON ((179.00000 -49.00000, 178.00000 -49.0...  \n",
       "20  POLYGON ((-180.00000 -45.50000, -179.00000 -45...  "
      ]
     },
     "execution_count": 8,
     "metadata": {},
     "output_type": "execute_result"
    }
   ],
   "source": [
    "rgi_reg"
   ]
  },
  {
   "cell_type": "code",
   "execution_count": 9,
   "metadata": {},
   "outputs": [],
   "source": [
    "rgi_reg.to_file(os.path.join(out_dir, '00_rgi70_O1Regions.shp'))"
   ]
  },
  {
   "cell_type": "code",
   "execution_count": null,
   "metadata": {},
   "outputs": [],
   "source": [
    "# Check\n",
    "rgi_reg = gpd.read_file(os.path.join(out_dir, '00_rgi70_O1Regions.shp'))\n",
    "assert rgi_reg.RGI_CODE.dtype == 'O'"
   ]
  },
  {
   "cell_type": "markdown",
   "metadata": {},
   "source": [
    "## Subregions "
   ]
  },
  {
   "cell_type": "code",
   "execution_count": null,
   "metadata": {},
   "outputs": [],
   "source": [
    "rgi_reg = gpd.read_file('zip://' + os.path.join(data_dir, 'l0_RGIv6', '00_rgi60_regions.zip', '00_rgi60_O2Regions.shp'))"
   ]
  },
  {
   "cell_type": "code",
   "execution_count": null,
   "metadata": {},
   "outputs": [],
   "source": [
    "poly = rgi_reg.loc[rgi_reg.RGI_CODE == '12-02'].iloc[0].geometry\n",
    "poly.bounds"
   ]
  },
  {
   "cell_type": "code",
   "execution_count": null,
   "metadata": {},
   "outputs": [],
   "source": [
    "x, y = poly.exterior.xy\n",
    "ny = np.where(np.isclose(y, 32), 30, y)\n",
    "new_poly = shpg.Polygon(np.array((x, ny)).T)\n",
    "rgi_reg.loc[rgi_reg.RGI_CODE == '12-02', 'geometry'] = new_poly"
   ]
  },
  {
   "cell_type": "code",
   "execution_count": null,
   "metadata": {},
   "outputs": [],
   "source": [
    "rgi_reg.to_file(os.path.join(out_dir, '00_rgi70_O2Regions.shp'))"
   ]
  },
  {
   "cell_type": "code",
   "execution_count": null,
   "metadata": {},
   "outputs": [],
   "source": [
    "rgi_reg"
   ]
  },
  {
   "cell_type": "code",
   "execution_count": null,
   "metadata": {},
   "outputs": [],
   "source": []
  }
 ],
 "metadata": {
  "kernelspec": {
   "display_name": "Python 3",
   "language": "python",
   "name": "python3"
  },
  "language_info": {
   "codemirror_mode": {
    "name": "ipython",
    "version": 3
   },
   "file_extension": ".py",
   "mimetype": "text/x-python",
   "name": "python",
   "nbconvert_exporter": "python",
   "pygments_lexer": "ipython3",
   "version": "3.8.8"
  }
 },
 "nbformat": 4,
 "nbformat_minor": 4
}
