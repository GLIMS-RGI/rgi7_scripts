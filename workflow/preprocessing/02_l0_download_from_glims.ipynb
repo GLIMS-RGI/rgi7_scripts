{
 "cells": [
  {
   "cell_type": "markdown",
   "metadata": {},
   "source": [
    "## GLIMS region files download: Level 0 files"
   ]
  },
  {
   "cell_type": "markdown",
   "metadata": {},
   "source": [
    "This script creates \"Level 0\" RGI files. These files are fetched directly from the GLIMS database, subsetted with a spatial bounding box around each region.\n",
    "\n",
    "Level 0 files need to be updated to reflect new entries into the GLIMS database."
   ]
  },
  {
   "cell_type": "code",
   "execution_count": 1,
   "metadata": {},
   "outputs": [],
   "source": [
    "import geopandas as gpd\n",
    "import shutil\n",
    "from utils import mkdir\n",
    "import numpy as np\n",
    "import os"
   ]
  },
  {
   "cell_type": "markdown",
   "metadata": {},
   "source": [
    "## RGI Region files "
   ]
  },
  {
   "cell_type": "code",
   "execution_count": 2,
   "metadata": {},
   "outputs": [],
   "source": [
    "# go down from rgi7_scripts/workflow/preprocessing\n",
    "data_dir = '../../../rgi7_data/'"
   ]
  },
  {
   "cell_type": "code",
   "execution_count": 3,
   "metadata": {},
   "outputs": [
    {
     "data": {
      "image/png": "[encoded data removed]",
      "text/plain": [
       "<Figure size 640x480 with 1 Axes>"
      ]
     },
     "metadata": {},
     "output_type": "display_data"
    }
   ],
   "source": [
    "reg_file = os.path.join(data_dir, '00_rgi70_regions', '00_rgi70_O1Regions')\n",
    "reg_f = gpd.read_file(reg_file)\n",
    "reg_f.plot(alpha=0.5, edgecolor='k');"
   ]
  },
  {
   "cell_type": "markdown",
   "metadata": {},
   "source": [
    "Region 10 has two boxes with glaciers in it:"
   ]
  },
  {
   "cell_type": "code",
   "execution_count": 4,
   "metadata": {},
   "outputs": [
    {
     "data": {
      "image/png": "[encoded data removed]",
      "text/plain": [
       "<Figure size 640x480 with 1 Axes>"
      ]
     },
     "metadata": {},
     "output_type": "display_data"
    }
   ],
   "source": [
    "reg_f.loc[reg_f.o1region == '10'].plot(alpha=0.5, edgecolor='k');"
   ]
  },
  {
   "cell_type": "markdown",
   "metadata": {},
   "source": [
    "## Download loop "
   ]
  },
  {
   "cell_type": "code",
   "execution_count": 5,
   "metadata": {},
   "outputs": [
    {
     "data": {
      "text/html": [
       "<div>\n",
       "<style scoped>\n",
       "    .dataframe tbody tr th:only-of-type {\n",
       "        vertical-align: middle;\n",
       "    }\n",
       "\n",
       "    .dataframe tbody tr th {\n",
       "        vertical-align: top;\n",
       "    }\n",
       "\n",
       "    .dataframe thead th {\n",
       "        text-align: right;\n",
       "    }\n",
       "</style>\n",
       "<table border=\"1\" class=\"dataframe\">\n",
       "  <thead>\n",
       "    <tr style=\"text-align: right;\">\n",
       "      <th></th>\n",
       "      <th>o1region</th>\n",
       "      <th>full_name</th>\n",
       "      <th>long_code</th>\n",
       "      <th>geometry</th>\n",
       "    </tr>\n",
       "  </thead>\n",
       "  <tbody>\n",
       "    <tr>\n",
       "      <th>4</th>\n",
       "      <td>05</td>\n",
       "      <td>Greenland Periphery</td>\n",
       "      <td>05_greenland_periphery</td>\n",
       "      <td>POLYGON ((-75.00000 77.00000, -74.73000 77.510...</td>\n",
       "    </tr>\n",
       "  </tbody>\n",
       "</table>\n",
       "</div>"
      ],
      "text/plain": [
       "  o1region            full_name               long_code  \\\n",
       "4       05  Greenland Periphery  05_greenland_periphery   \n",
       "\n",
       "                                            geometry  \n",
       "4  POLYGON ((-75.00000 77.00000, -74.73000 77.510...  "
      ]
     },
     "execution_count": 5,
     "metadata": {},
     "output_type": "execute_result"
    }
   ],
   "source": [
    "# If you want to (re-)download only selected regions\n",
    "reg_f_sel = reg_f.loc[reg_f.o1region.isin(['05'])]  # , '19'\n",
    "reg_f_sel"
   ]
  },
  {
   "cell_type": "markdown",
   "metadata": {},
   "source": [
    "### With login "
   ]
  },
  {
   "cell_type": "code",
   "execution_count": 6,
   "metadata": {},
   "outputs": [
    {
     "name": "stdout",
     "output_type": "stream",
     "text": [
      "\n",
      "05, Greenland Periphery. Bounds:  -75.50,58.50,-9.50,85.50\n",
      "Authentication succeeded\n",
      "NSIDC GLIMS could not authenticate with EDL\n",
      "auth_session:  <requests.sessions.Session object at 0x7f55f6b9cbb0>\n",
      "Issued order to downloadprepare service using requests.get.  URL is:\n",
      "https://www.glims.org/services/downloadprepare?download_type=extent&clause=-75.50%2C58.50%2C-9.50%2C85.50&archive_type=tar&file_format=shapefile&data_model=GLIMS&glims_v_rgi=glims&rgidate=2000-09-01\n",
      "Status code:  200\n",
      "Try #   1:  False.  File name:  glims_download_31856.tgz\n",
      "Try #   2:  False.  File name:  glims_download_31856.tgz\n",
      "Try #   3:  False.  File name:  glims_download_31856.tgz\n",
      "Try #   4:  False.  File name:  glims_download_31856.tgz\n",
      "Try #   5:  False.  File name:  glims_download_31856.tgz\n",
      "Try #   6:  False.  File name:  glims_download_31856.tgz\n",
      "Try #   7:  False.  File name:  glims_download_31856.tgz\n",
      "Try #   8:  False.  File name:  glims_download_31856.tgz\n",
      "Try #   9:  False.  File name:  glims_download_31856.tgz\n",
      "Try #  10:  False.  File name:  glims_download_31856.tgz\n",
      "Try #  11:  False.  File name:  glims_download_31856.tgz\n",
      "Try #  12:  False.  File name:  glims_download_31856.tgz\n",
      "Try #  13:  False.  File name:  glims_download_31856.tgz\n",
      "Try #  14:  False.  File name:  glims_download_31856.tgz\n",
      "Try #  15:  False.  File name:  glims_download_31856.tgz\n",
      "Try #  16:  False.  File name:  glims_download_31856.tgz\n",
      "Try #  17:  False.  File name:  glims_download_31856.tgz\n",
      "Try #  18:  False.  File name:  glims_download_31856.tgz\n",
      "Try #  19:  False.  File name:  glims_download_31856.tgz\n",
      "Try #  20:  False.  File name:  glims_download_31856.tgz\n",
      "Try #  21:  False.  File name:  glims_download_31856.tgz\n",
      "Try #  22:  False.  File name:  glims_download_31856.tgz\n",
      "Try #  23:  False.  File name:  glims_download_31856.tgz\n",
      "Try #  24:  False.  File name:  glims_download_31856.tgz\n",
      "Try #  25:  False.  File name:  glims_download_31856.tgz\n",
      "Try #  26:  False.  File name:  glims_download_31856.tgz\n",
      "Try #  27:  False.  File name:  glims_download_31856.tgz\n",
      "Try #  28:  False.  File name:  glims_download_31856.tgz\n",
      "Try #  29:  False.  File name:  glims_download_31856.tgz\n",
      "Try #  30:  False.  File name:  glims_download_31856.tgz\n",
      "Try #  31:  False.  File name:  glims_download_31856.tgz\n",
      "Try #  32:  False.  File name:  glims_download_31856.tgz\n",
      "Try #  33:  False.  File name:  glims_download_31856.tgz\n",
      "Try #  34:  False.  File name:  glims_download_31856.tgz\n",
      "Try #  35:  False.  File name:  glims_download_31856.tgz\n",
      "Try #  36:  False.  File name:  glims_download_31856.tgz\n",
      "Try #  37:  False.  File name:  glims_download_31856.tgz\n",
      "Try #  38:  False.  File name:  glims_download_31856.tgz\n",
      "Try #  39:  False.  File name:  glims_download_31856.tgz\n",
      "Try #  40:  False.  File name:  glims_download_31856.tgz\n",
      "Try #  41:  False.  File name:  glims_download_31856.tgz\n",
      "Try #  42:  False.  File name:  glims_download_31856.tgz\n",
      "Try #  43:  False.  File name:  glims_download_31856.tgz\n",
      "Try #  44:  False.  File name:  glims_download_31856.tgz\n",
      "Try #  45:  False.  File name:  glims_download_31856.tgz\n",
      "Try #  46:  False.  File name:  glims_download_31856.tgz\n",
      "Try #  47:  False.  File name:  glims_download_31856.tgz\n",
      "Try #  48:  False.  File name:  glims_download_31856.tgz\n",
      "Try #  49:  False.  File name:  glims_download_31856.tgz\n",
      "Try #  50:  False.  File name:  glims_download_31856.tgz\n",
      "Try #  51:  False.  File name:  glims_download_31856.tgz\n",
      "Try #  52:  False.  File name:  glims_download_31856.tgz\n",
      "Try #  53:  False.  File name:  glims_download_31856.tgz\n",
      "Try #  54:  False.  File name:  glims_download_31856.tgz\n",
      "Try #  55:  False.  File name:  glims_download_31856.tgz\n",
      "Try #  56:  False.  File name:  glims_download_31856.tgz\n",
      "Try #  57:  False.  File name:  glims_download_31856.tgz\n",
      "Try #  58:  False.  File name:  glims_download_31856.tgz\n",
      "Try #  59:  False.  File name:  glims_download_31856.tgz\n",
      "Try #  60:  False.  File name:  glims_download_31856.tgz\n",
      "Try #  61:  False.  File name:  glims_download_31856.tgz\n",
      "Try #  62:  True.  File name:  glims_download_31856.tgz\n",
      "Retrieving file to  ./glims_download_31856.tgz\n"
     ]
    }
   ],
   "source": [
    "from glims_database_dump_wlogin import *\n",
    "\n",
    "buffer = 0.5  # in degrees, buffer around the box\n",
    "from_glims = mkdir(os.path.join(data_dir, 'l0_from_glims'))\n",
    "\n",
    "for i, reg in reg_f_sel.iterrows():\n",
    "    \n",
    "    # Prepare bounds \n",
    "    x0, y0, x1, y1 = reg.geometry.bounds\n",
    "    \n",
    "    x0 = np.clip(x0 - buffer, -180., None)\n",
    "    y0 = np.clip(y0 - buffer, -90., None)\n",
    "    x1 = np.clip(x1 + buffer, None, 180.)\n",
    "    y1 = np.clip(y1 + buffer, None, 90.)\n",
    "    \n",
    "    bounds = f' {x0:.2f},{y0:.2f},{x1:.2f},{y1:.2f}'\n",
    "    print('')\n",
    "    print('{}, {}. Bounds: {}'.format(reg.o1region, reg.full_name, bounds))\n",
    "        \n",
    "    # GLIMS request arguments\n",
    "    p = setup_argument_parser()\n",
    "    args = p.parse_args(['--mode', 'glims',\n",
    "                         '--nunataks', 'GLIMS',  # We can't use RGI because it is buggy \n",
    "                         '--archive_type', 'tar',\n",
    "                         '--download_type', 'extent',\n",
    "                         '--clause', bounds,\n",
    "                         '--netrc',\n",
    "                         '--env', 'production'])\n",
    "    \n",
    "    urs_server = \"urs.earthdata.nasa.gov\"\n",
    "    \n",
    "    glims_servers = {\n",
    "        \"production\": \"www.glims.org/services\",\n",
    "        \"blue\": \"blue.glims-services.apps.int.nsidc.org\",\n",
    "        \"integration\": \"integration.glims.org/services\",\n",
    "        \"qa\": \"qa.glims-services.apps.int.nsidc.org\",\n",
    "        \"staging\": \"staging.glims-services.apps.int.nsidc.org\",\n",
    "    }\n",
    "    server = glims_servers[args.env]\n",
    "\n",
    "    if not args.noauth:\n",
    "        # Get credentials from command-line or .netrc file\n",
    "        credentials = get_credentials(args, urs_server)\n",
    "\n",
    "        auth_session = get_authenticated_session(server, credentials[0], credentials[1])\n",
    "        print(\"auth_session: \", auth_session)  # DEBUG\n",
    "\n",
    "        if auth_session is None:\n",
    "            print(\"Authentication failed.\", file=sys.stderr)\n",
    "            sys.exit(1)\n",
    "    else:\n",
    "        auth_session = get_noauth_session(server)\n",
    "\n",
    "    filebasename = issue_order(server, auth_session, args)\n",
    "\n",
    "    poll_readiness(\n",
    "        server, auth_session, filebasename, args.protocol, period=2, tries=args.tries\n",
    "    )  # returns when file is ready\n",
    "    do_download(args, server, auth_session, filebasename)\n",
    "    \n",
    "    shutil.move(filebasename, os.path.join(from_glims, '{:02d}_RGI{:02d}.tgz'.format(i, int(reg['o1region']))))"
   ]
  },
  {
   "cell_type": "code",
   "execution_count": 7,
   "metadata": {},
   "outputs": [
    {
     "name": "stdout",
     "output_type": "stream",
     "text": [
      "Done!\n"
     ]
    }
   ],
   "source": [
    "print('Done!')"
   ]
  },
  {
   "cell_type": "code",
   "execution_count": null,
   "metadata": {},
   "outputs": [],
   "source": []
  },
  {
   "cell_type": "markdown",
   "metadata": {},
   "source": [
    "### Without login "
   ]
  },
  {
   "cell_type": "code",
   "execution_count": null,
   "metadata": {},
   "outputs": [],
   "source": [
    "from glims_database_dump import *\n",
    "\n",
    "servers = {\n",
    "        'production': 'www.glims.org/services',\n",
    "        'blue': 'blue.glims-services.apps.int.nsidc.org',\n",
    "        'integration': 'integration.glims-services.apps.int.nsidc.org',\n",
    "        'qa': 'qa.glims-services.apps.int.nsidc.org',\n",
    "        'staging': 'staging.glims-services.apps.int.nsidc.org',\n",
    "        }\n",
    "\n",
    "buffer = 0.5  # in degrees, buffer around the box\n",
    "from_glims = mkdir(os.path.join(data_dir, 'l0_from_glims'))\n",
    "\n",
    "for i, reg in reg_f_sel.iterrows():\n",
    "    \n",
    "    # Prepare bounds \n",
    "    x0, y0, x1, y1 = reg.geometry.bounds\n",
    "    \n",
    "    x0 = np.clip(x0 - buffer, -180., None)\n",
    "    y0 = np.clip(y0 - buffer, -90., None)\n",
    "    x1 = np.clip(x1 + buffer, None, 180.)\n",
    "    y1 = np.clip(y1 + buffer, None, 90.)\n",
    "    \n",
    "    bounds = f' {x0:.2f},{y0:.2f},{x1:.2f},{y1:.2f}'\n",
    "    print('')\n",
    "    print('{}, {}. Bounds: {}'.format(reg.RGI_CODE, reg.FULL_NAME, bounds))\n",
    "        \n",
    "    # GLIMS request arguments\n",
    "    p = setup_argument_parser()\n",
    "    args = p.parse_args(['--mode', 'glims',\n",
    "                         '--nunataks', 'GLIMS',  # We can't use RGI because it is buggy \n",
    "                         '--archive_type', 'tar',\n",
    "                         '--download_type', 'extent',\n",
    "                         '--clause', bounds])\n",
    "\n",
    "    server = servers[args.env]\n",
    "\n",
    "    filebasename = issue_order(server, args)\n",
    "    poll_readiness(server, filebasename, period=2, tries=args.tries, protocol=args.protocol)    # returns when file is ready\n",
    "    do_download(server, filebasename, args)\n",
    "    \n",
    "    shutil.move(filebasename, os.path.join(from_glims, '{:02d}_RGI{:02d}.tgz'.format(i, int(reg['RGI_CODE']))))"
   ]
  }
 ],
 "metadata": {
  "kernelspec": {
   "display_name": "Python 3 (ipykernel)",
   "language": "python",
   "name": "python3"
  },
  "language_info": {
   "codemirror_mode": {
    "name": "ipython",
    "version": 3
   },
   "file_extension": ".py",
   "mimetype": "text/x-python",
   "name": "python",
   "nbconvert_exporter": "python",
   "pygments_lexer": "ipython3",
   "version": "3.10.8"
  }
 },
 "nbformat": 4,
 "nbformat_minor": 4
}
