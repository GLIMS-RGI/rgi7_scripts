{
 "cells": [
  {
   "cell_type": "markdown",
   "metadata": {},
   "source": [
    "## GLIMS region files download: Level 0 files"
   ]
  },
  {
   "cell_type": "markdown",
   "metadata": {},
   "source": [
    "This script creates \"Level 0\" RGI files. These files are fetched directly from the GLIMS database, subsetted with a spatial bounding box around each region.\n",
    "\n",
    "Level 0 files need to be updated to reflect new entries into the GLIMS database."
   ]
  },
  {
   "cell_type": "code",
   "execution_count": 1,
   "metadata": {},
   "outputs": [],
   "source": [
    "from glims_database_dump import *\n",
    "import geopandas as gpd\n",
    "import shutil\n",
    "from utils import mkdir\n",
    "import numpy as np"
   ]
  },
  {
   "cell_type": "code",
   "execution_count": 2,
   "metadata": {},
   "outputs": [],
   "source": [
    "servers = {\n",
    "        'production': 'www.glims.org/services',\n",
    "        'blue': 'blue.glims-services.apps.int.nsidc.org',\n",
    "        'integration': 'integration.glims-services.apps.int.nsidc.org',\n",
    "        'qa': 'qa.glims-services.apps.int.nsidc.org',\n",
    "        'staging': 'staging.glims-services.apps.int.nsidc.org',\n",
    "        }"
   ]
  },
  {
   "cell_type": "markdown",
   "metadata": {},
   "source": [
    "## RGI Region files "
   ]
  },
  {
   "cell_type": "code",
   "execution_count": 3,
   "metadata": {},
   "outputs": [],
   "source": [
    "# go down from rgi7_scripts/workflow/preprocessing\n",
    "data_dir = '../../../rgi7_data/'"
   ]
  },
  {
   "cell_type": "code",
   "execution_count": 4,
   "metadata": {},
   "outputs": [
    {
     "data": {
      "image/png": "[encoded data removed]",
      "text/plain": [
       "<Figure size 432x288 with 1 Axes>"
      ]
     },
     "metadata": {
      "needs_background": "light"
     },
     "output_type": "display_data"
    }
   ],
   "source": [
    "reg_file = os.path.join(data_dir, 'l0_regions', '00_rgi70_regions', '00_rgi70_O1Regions.shp')\n",
    "reg_f = gpd.read_file(reg_file)\n",
    "reg_f.plot(alpha=0.5, edgecolor='k');"
   ]
  },
  {
   "cell_type": "markdown",
   "metadata": {},
   "source": [
    "These are the two regions with more than one box Region 01 and region 10:"
   ]
  },
  {
   "cell_type": "code",
   "execution_count": 5,
   "metadata": {},
   "outputs": [
    {
     "data": {
      "image/png": "[encoded data removed]",
      "text/plain": [
       "<Figure size 432x288 with 1 Axes>"
      ]
     },
     "metadata": {
      "needs_background": "light"
     },
     "output_type": "display_data"
    }
   ],
   "source": [
    "reg_f.loc[[0, 1]].plot(alpha=0.5, edgecolor='k');"
   ]
  },
  {
   "cell_type": "code",
   "execution_count": 6,
   "metadata": {},
   "outputs": [],
   "source": [
    "# We drop the second alaska box which is useless\n",
    "reg_f = reg_f.drop(1)"
   ]
  },
  {
   "cell_type": "code",
   "execution_count": 7,
   "metadata": {},
   "outputs": [
    {
     "data": {
      "image/png": "[encoded data removed]",
      "text/plain": [
       "<Figure size 432x288 with 1 Axes>"
      ]
     },
     "metadata": {
      "needs_background": "light"
     },
     "output_type": "display_data"
    }
   ],
   "source": [
    "reg_f.loc[[0]].plot(alpha=0.5, edgecolor='k');"
   ]
  },
  {
   "cell_type": "markdown",
   "metadata": {},
   "source": [
    "The Alaska box 1 has no glaciers in GLIMS to date (07.06.2021), you'll need to remove it otherwize the download will stall.\n",
    "\n",
    "Region 10 has two boxes with glaciers in it:"
   ]
  },
  {
   "cell_type": "code",
   "execution_count": 8,
   "metadata": {},
   "outputs": [
    {
     "data": {
      "image/png": "[encoded data removed]",
      "text/plain": [
       "<Figure size 432x288 with 1 Axes>"
      ]
     },
     "metadata": {
      "needs_background": "light"
     },
     "output_type": "display_data"
    }
   ],
   "source": [
    "reg_f.loc[[10, 11]].plot(alpha=0.5, edgecolor='k');"
   ]
  },
  {
   "cell_type": "markdown",
   "metadata": {},
   "source": [
    "## Download loop "
   ]
  },
  {
   "cell_type": "code",
   "execution_count": 9,
   "metadata": {},
   "outputs": [],
   "source": [
    "# If you want to (re-)download only selected regions\n",
    "reg_f = reg_f.loc[6:7]"
   ]
  },
  {
   "cell_type": "code",
   "execution_count": 10,
   "metadata": {},
   "outputs": [
    {
     "data": {
      "text/html": [
       "<div>\n",
       "<style scoped>\n",
       "    .dataframe tbody tr th:only-of-type {\n",
       "        vertical-align: middle;\n",
       "    }\n",
       "\n",
       "    .dataframe tbody tr th {\n",
       "        vertical-align: top;\n",
       "    }\n",
       "\n",
       "    .dataframe thead th {\n",
       "        text-align: right;\n",
       "    }\n",
       "</style>\n",
       "<table border=\"1\" class=\"dataframe\">\n",
       "  <thead>\n",
       "    <tr style=\"text-align: right;\">\n",
       "      <th></th>\n",
       "      <th>FULL_NAME</th>\n",
       "      <th>RGI_CODE</th>\n",
       "      <th>WGMS_CODE</th>\n",
       "      <th>geometry</th>\n",
       "    </tr>\n",
       "  </thead>\n",
       "  <tbody>\n",
       "    <tr>\n",
       "      <th>6</th>\n",
       "      <td>Iceland</td>\n",
       "      <td>06</td>\n",
       "      <td>ISL</td>\n",
       "      <td>POLYGON ((-26.00000 59.00000, -26.00000 60.000...</td>\n",
       "    </tr>\n",
       "    <tr>\n",
       "      <th>7</th>\n",
       "      <td>Svalbard and Jan Mayen</td>\n",
       "      <td>07</td>\n",
       "      <td>SJM</td>\n",
       "      <td>POLYGON ((-10.00000 70.00000, -10.00000 71.000...</td>\n",
       "    </tr>\n",
       "  </tbody>\n",
       "</table>\n",
       "</div>"
      ],
      "text/plain": [
       "                FULL_NAME RGI_CODE WGMS_CODE  \\\n",
       "6                 Iceland       06       ISL   \n",
       "7  Svalbard and Jan Mayen       07       SJM   \n",
       "\n",
       "                                            geometry  \n",
       "6  POLYGON ((-26.00000 59.00000, -26.00000 60.000...  \n",
       "7  POLYGON ((-10.00000 70.00000, -10.00000 71.000...  "
      ]
     },
     "execution_count": 10,
     "metadata": {},
     "output_type": "execute_result"
    }
   ],
   "source": [
    "reg_f"
   ]
  },
  {
   "cell_type": "code",
   "execution_count": 11,
   "metadata": {},
   "outputs": [
    {
     "name": "stdout",
     "output_type": "stream",
     "text": [
      "\n",
      "06, Iceland. Bounds:  -26.50,58.50,-9.50,67.50\n",
      "Issuing order to downloadprepare service at URL:\n",
      "http://www.glims.org/services/downloadprepare?download_type=extent&clause=-26.50,58.50,-9.50,67.50&archive_type=tar&file_format=shapefile&data_model=GLIMS&glims_v_rgi=glims&rgidate=2000-09-01\n",
      "Response:   b'{\"filename\":\"glims_download_20594.tgz\"}\\n'\n",
      "Try #   1:  False.  File name:  glims_download_20594.tgz\n",
      "Try #   2:  False.  File name:  glims_download_20594.tgz\n",
      "Try #   3:  False.  File name:  glims_download_20594.tgz\n",
      "Try #   4:  False.  File name:  glims_download_20594.tgz\n",
      "Try #   5:  False.  File name:  glims_download_20594.tgz\n",
      "Try #   6:  False.  File name:  glims_download_20594.tgz\n",
      "Try #   7:  False.  File name:  glims_download_20594.tgz\n",
      "Try #   8:  False.  File name:  glims_download_20594.tgz\n",
      "Try #   9:  False.  File name:  glims_download_20594.tgz\n",
      "Try #  10:  False.  File name:  glims_download_20594.tgz\n",
      "Try #  11:  True.  File name:  glims_download_20594.tgz\n",
      "Retrieving file to  ./glims_download_20594.tgz\n",
      "\n",
      "07, Svalbard and Jan Mayen. Bounds:  -10.50,69.50,35.50,83.50\n",
      "Issuing order to downloadprepare service at URL:\n",
      "http://www.glims.org/services/downloadprepare?download_type=extent&clause=-10.50,69.50,35.50,83.50&archive_type=tar&file_format=shapefile&data_model=GLIMS&glims_v_rgi=glims&rgidate=2000-09-01\n",
      "Response:   b'{\"filename\":\"glims_download_12210.tgz\"}\\n'\n",
      "Try #   1:  False.  File name:  glims_download_12210.tgz\n",
      "Try #   2:  False.  File name:  glims_download_12210.tgz\n",
      "Try #   3:  False.  File name:  glims_download_12210.tgz\n",
      "Try #   4:  False.  File name:  glims_download_12210.tgz\n",
      "Try #   5:  False.  File name:  glims_download_12210.tgz\n",
      "Try #   6:  False.  File name:  glims_download_12210.tgz\n",
      "Try #   7:  False.  File name:  glims_download_12210.tgz\n",
      "Try #   8:  False.  File name:  glims_download_12210.tgz\n",
      "Try #   9:  False.  File name:  glims_download_12210.tgz\n",
      "Try #  10:  False.  File name:  glims_download_12210.tgz\n",
      "Try #  11:  False.  File name:  glims_download_12210.tgz\n",
      "Try #  12:  False.  File name:  glims_download_12210.tgz\n",
      "Try #  13:  False.  File name:  glims_download_12210.tgz\n",
      "Try #  14:  False.  File name:  glims_download_12210.tgz\n",
      "Try #  15:  False.  File name:  glims_download_12210.tgz\n",
      "Try #  16:  False.  File name:  glims_download_12210.tgz\n",
      "Try #  17:  False.  File name:  glims_download_12210.tgz\n",
      "Try #  18:  False.  File name:  glims_download_12210.tgz\n",
      "Try #  19:  False.  File name:  glims_download_12210.tgz\n",
      "Try #  20:  True.  File name:  glims_download_12210.tgz\n",
      "Retrieving file to  ./glims_download_12210.tgz\n"
     ]
    }
   ],
   "source": [
    "buffer = 0.5  # in degrees, buffer around the box\n",
    "from_glims = mkdir(os.path.join(data_dir, 'l0_from_glims'))\n",
    "\n",
    "for i, reg in reg_f.iterrows():\n",
    "    \n",
    "    # Prepare bounds \n",
    "    x0, y0, x1, y1 = reg.geometry.bounds\n",
    "    \n",
    "    x0 = np.clip(x0 - buffer, -180., None)\n",
    "    y0 = np.clip(y0 - buffer, -90., None)\n",
    "    x1 = np.clip(x1 + buffer, None, 180.)\n",
    "    y1 = np.clip(y1 + buffer, None, 90.)\n",
    "    \n",
    "    bounds = f' {x0:.2f},{y0:.2f},{x1:.2f},{y1:.2f}'\n",
    "    print('')\n",
    "    print('{}, {}. Bounds: {}'.format(reg.RGI_CODE, reg.FULL_NAME, bounds))\n",
    "        \n",
    "    # GLIMS request arguments\n",
    "    p = setup_argument_parser()\n",
    "    args = p.parse_args(['--mode', 'glims',\n",
    "                         '--nunataks', 'GLIMS',  # We can't use GLIMS because it is buggy \n",
    "                         '--archive_type', 'tar',\n",
    "                         '--download_type', 'extent',\n",
    "                         '--clause', bounds])\n",
    "\n",
    "    server = servers[args.env]\n",
    "\n",
    "    filebasename = issue_order(server, args)\n",
    "    poll_readiness(server, filebasename, period=2, tries=args.tries, protocol=args.protocol)    # returns when file is ready\n",
    "    do_download(server, filebasename, args)\n",
    "    \n",
    "    shutil.move(filebasename, os.path.join(from_glims, '{:02d}_RGI{:02d}.tgz'.format(i, int(reg['RGI_CODE']))))"
   ]
  },
  {
   "cell_type": "code",
   "execution_count": 13,
   "metadata": {},
   "outputs": [
    {
     "data": {
      "text/plain": [
       "'../../../rgi7_data/l0_from_glims/07_RGI07.tgz'"
      ]
     },
     "execution_count": 13,
     "metadata": {},
     "output_type": "execute_result"
    }
   ],
   "source": [
    "os.path.join(from_glims, '{:02d}_RGI{:02d}.tgz'.format(i, int(reg['RGI_CODE'])))"
   ]
  },
  {
   "cell_type": "code",
   "execution_count": null,
   "metadata": {},
   "outputs": [],
   "source": []
  }
 ],
 "metadata": {
  "kernelspec": {
   "display_name": "Python 3",
   "language": "python",
   "name": "python3"
  },
  "language_info": {
   "codemirror_mode": {
    "name": "ipython",
    "version": 3
   },
   "file_extension": ".py",
   "mimetype": "text/x-python",
   "name": "python",
   "nbconvert_exporter": "python",
   "pygments_lexer": "ipython3",
   "version": "3.8.8"
  }
 },
 "nbformat": 4,
 "nbformat_minor": 4
}
