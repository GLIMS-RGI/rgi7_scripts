{
 "cells": [
  {
   "cell_type": "markdown",
   "metadata": {},
   "source": [
    "## GLIMS region files download: Level 0 files"
   ]
  },
  {
   "cell_type": "markdown",
   "metadata": {},
   "source": [
    "This script creates \"Level 0\" RGI files. These files are fetched directly from the GLIMS database, subsetted with a spatial bounding box around each region.\n",
    "\n",
    "Level 0 files need to be updated to reflect new entries into the GLIMS database."
   ]
  },
  {
   "cell_type": "code",
   "execution_count": null,
   "metadata": {},
   "outputs": [],
   "source": [
    "from glims_database_dump import *\n",
    "import geopandas as gpd\n",
    "import shutil\n",
    "from utils import mkdir\n",
    "import numpy as np"
   ]
  },
  {
   "cell_type": "code",
   "execution_count": null,
   "metadata": {},
   "outputs": [],
   "source": [
    "servers = {\n",
    "        'production': 'www.glims.org/services',\n",
    "        'blue': 'blue.glims-services.apps.int.nsidc.org',\n",
    "        'integration': 'integration.glims-services.apps.int.nsidc.org',\n",
    "        'qa': 'qa.glims-services.apps.int.nsidc.org',\n",
    "        'staging': 'staging.glims-services.apps.int.nsidc.org',\n",
    "        }"
   ]
  },
  {
   "cell_type": "markdown",
   "metadata": {},
   "source": [
    "## RGI Region files "
   ]
  },
  {
   "cell_type": "code",
   "execution_count": null,
   "metadata": {},
   "outputs": [],
   "source": [
    "# go down from rgi7_scripts/workflow/preprocessing\n",
    "data_dir = '../../../rgi7_data/'"
   ]
  },
  {
   "cell_type": "code",
   "execution_count": null,
   "metadata": {},
   "outputs": [],
   "source": [
    "reg_file = os.path.join(data_dir, 'l0_regions', '00_rgi70_regions', '00_rgi70_O1Regions.shp')\n",
    "reg_f = gpd.read_file(reg_file)\n",
    "reg_f.plot(alpha=0.5, edgecolor='k');"
   ]
  },
  {
   "cell_type": "markdown",
   "metadata": {},
   "source": [
    "These are the two regions with more than one box Region 01 and region 10:"
   ]
  },
  {
   "cell_type": "code",
   "execution_count": null,
   "metadata": {},
   "outputs": [],
   "source": [
    "reg_f.loc[[0, 1]].plot(alpha=0.5, edgecolor='k');"
   ]
  },
  {
   "cell_type": "code",
   "execution_count": null,
   "metadata": {},
   "outputs": [],
   "source": [
    "# We drop the second alaska box which is useless\n",
    "reg_f = reg_f.drop(1)"
   ]
  },
  {
   "cell_type": "code",
   "execution_count": null,
   "metadata": {},
   "outputs": [],
   "source": [
    "reg_f.loc[[0]].plot(alpha=0.5, edgecolor='k');"
   ]
  },
  {
   "cell_type": "markdown",
   "metadata": {},
   "source": [
    "The Alaska box 1 has no glaciers in GLIMS to date (07.06.2021), you'll need to remove it otherwize the download will stall.\n",
    "\n",
    "Region 10 has two boxes with glaciers in it:"
   ]
  },
  {
   "cell_type": "code",
   "execution_count": null,
   "metadata": {},
   "outputs": [],
   "source": [
    "reg_f.loc[[10, 11]].plot(alpha=0.5, edgecolor='k');"
   ]
  },
  {
   "cell_type": "markdown",
   "metadata": {},
   "source": [
    "## Download loop "
   ]
  },
  {
   "cell_type": "code",
   "execution_count": null,
   "metadata": {},
   "outputs": [],
   "source": [
    "# If you want to (re-)download only selected regions\n",
    "reg_f = reg_f.loc[[5]]\n",
    "reg_f"
   ]
  },
  {
   "cell_type": "code",
   "execution_count": null,
   "metadata": {},
   "outputs": [],
   "source": [
    "buffer = 0.5  # in degrees, buffer around the box\n",
    "from_glims = mkdir(os.path.join(data_dir, 'l0_from_glims'))\n",
    "\n",
    "for i, reg in reg_f.iterrows():\n",
    "    \n",
    "    # Prepare bounds \n",
    "    x0, y0, x1, y1 = reg.geometry.bounds\n",
    "    \n",
    "    x0 = np.clip(x0 - buffer, -180., None)\n",
    "    y0 = np.clip(y0 - buffer, -90., None)\n",
    "    x1 = np.clip(x1 + buffer, None, 180.)\n",
    "    y1 = np.clip(y1 + buffer, None, 90.)\n",
    "    \n",
    "    bounds = f' {x0:.2f},{y0:.2f},{x1:.2f},{y1:.2f}'\n",
    "    print('')\n",
    "    print('{}, {}. Bounds: {}'.format(reg.RGI_CODE, reg.FULL_NAME, bounds))\n",
    "        \n",
    "    # GLIMS request arguments\n",
    "    p = setup_argument_parser()\n",
    "    args = p.parse_args(['--mode', 'glims',\n",
    "                         '--nunataks', 'GLIMS',  # We can't use GLIMS because it is buggy \n",
    "                         '--archive_type', 'tar',\n",
    "                         '--download_type', 'extent',\n",
    "                         '--clause', bounds])\n",
    "\n",
    "    server = servers[args.env]\n",
    "\n",
    "    filebasename = issue_order(server, args)\n",
    "    poll_readiness(server, filebasename, period=2, tries=args.tries, protocol=args.protocol)    # returns when file is ready\n",
    "    do_download(server, filebasename, args)\n",
    "    \n",
    "    shutil.move(filebasename, os.path.join(from_glims, '{:02d}_RGI{:02d}.tgz'.format(i, int(reg['RGI_CODE']))))"
   ]
  },
  {
   "cell_type": "code",
   "execution_count": null,
   "metadata": {},
   "outputs": [],
   "source": []
  }
 ],
 "metadata": {
  "kernelspec": {
   "display_name": "Python 3 (ipykernel)",
   "language": "python",
   "name": "python3"
  },
  "language_info": {
   "codemirror_mode": {
    "name": "ipython",
    "version": 3
   },
   "file_extension": ".py",
   "mimetype": "text/x-python",
   "name": "python",
   "nbconvert_exporter": "python",
   "pygments_lexer": "ipython3",
   "version": "3.8.12"
  }
 },
 "nbformat": 4,
 "nbformat_minor": 4
}
