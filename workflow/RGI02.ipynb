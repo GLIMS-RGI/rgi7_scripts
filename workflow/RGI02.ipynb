{
 "cells": [
  {
   "cell_type": "markdown",
   "id": "lesser-sociology",
   "metadata": {},
   "source": [
    "# RGI-07: Region 02 (Western Canada and USA)\n",
    "\n",
    "F. Maussion, 2021"
   ]
  },
  {
   "cell_type": "code",
   "execution_count": 39,
   "id": "electoral-expense",
   "metadata": {},
   "outputs": [],
   "source": [
    "import geopandas as gpd\n",
    "import pandas as pd\n",
    "import matplotlib.pyplot as plt\n",
    "import subprocess\n",
    "import os\n",
    "from utils import mkdir\n",
    "import numpy as np"
   ]
  },
  {
   "cell_type": "markdown",
   "id": "proprietary-armor",
   "metadata": {},
   "source": [
    "## Files and storage paths"
   ]
  },
  {
   "cell_type": "code",
   "execution_count": 40,
   "id": "silent-charger",
   "metadata": {},
   "outputs": [],
   "source": [
    "# Region of interest \n",
    "reg = 2\n",
    "\n",
    "# go down from rgi7_scripts/workflow\n",
    "data_dir = '../../rgi7_data/'\n",
    "\n",
    "# Level 2 GLIMS files\n",
    "l2_dir = os.path.join(data_dir, 'l2_sel_reg_tars')\n",
    "\n",
    "# Output directories\n",
    "output_dir = mkdir(os.path.join(data_dir, 'l3_rgi7a'))\n",
    "output_dir_tar = mkdir(os.path.join(data_dir, 'l3_rgi7a_tar'))\n",
    "\n",
    "# RGI v6 file for comparison later \n",
    "rgi6_reg_file = os.path.join(data_dir, 'l0_RGIv6', '02_rgi60_WesternCanadaUS.zip')"
   ]
  },
  {
   "cell_type": "code",
   "execution_count": 41,
   "id": "color-sacramento",
   "metadata": {},
   "outputs": [],
   "source": [
    "# Specific to this region: boxes where data has to be selected differently\n",
    "support_dir = os.path.join(data_dir, 'l0_support_data')"
   ]
  },
  {
   "cell_type": "markdown",
   "id": "interior-driving",
   "metadata": {},
   "source": [
    "### Load the input data"
   ]
  },
  {
   "cell_type": "code",
   "execution_count": 42,
   "id": "mounted-broadway",
   "metadata": {},
   "outputs": [],
   "source": [
    "# Read L2 files\n",
    "shp = gpd.read_file('tar://' + l2_dir + f'/RGI{reg:02d}.tar.gz/RGI{reg:02d}/RGI{reg:02d}.shp')"
   ]
  },
  {
   "cell_type": "markdown",
   "id": "lightweight-confusion",
   "metadata": {},
   "source": [
    "### List of submissions "
   ]
  },
  {
   "cell_type": "code",
   "execution_count": 43,
   "id": "returning-regression",
   "metadata": {},
   "outputs": [
    {
     "name": "stdout",
     "output_type": "stream",
     "text": [
      "Subm ID: 614. N=5167. Fountain, Andrew G. 1976 1987 1943 1985 1968 1979 1974 1972 1980 1970 1975 1949 1957 1956 1959 1983 1969 1963 1958 1984 1973 1953 1982 1981 1965 1971 1978 1966 1964 1967 1952 1951\n",
      "Subm ID: 616. N=42. Fountain, Andrew G.; Hoffman, Matthew 2001\n",
      "Subm ID: 617. N=36. Fountain, Andrew G.; Hoffman, Matthew 1999\n",
      "Subm ID: 618. N=39. Fountain, Andrew G.; Hoffman, Matthew 1990\n",
      "Subm ID: 619. N=5. Fountain, Andrew G.; Hoffman, Matthew 1958\n",
      "Subm ID: 623. N=12464. Bolch, Tobias 2004 2006 2004 2005 2006 2006 2006 2006 2004 2006 2004 2004 2004 2004 2004 2006 2005 2005 2005 2006\n",
      "Subm ID: 624. N=1. Beedle, Matthew; Berthier, Etienne; Bolch, Tobias; Burgess, Evan; Cogley, Graham; Forster, Richard; Giffen, Bruce A.; Hall, Dorothy K.; Kienholz, Christian; LeBris, Raymond; Manley, William 2004\n",
      "Subm ID: 635. N=1235. Berthier, Etienne; Bolch, Tobias; Cogley, Graham; Kienholz, Christian 1989 1985 1991 1987 1984 1990 1983 1968 1999\n",
      "Subm ID: 647. N=1002. Mozer, Max Phillip; Pflug, Justin 2015\n"
     ]
    }
   ],
   "source": [
    "toprint = []\n",
    "for subid in shp.subm_id.unique():\n",
    "    s_loc = shp.loc[shp.subm_id == subid]\n",
    "    s = f\"Subm ID: {int(s_loc['subm_id'].iloc[0])}. N={len(s_loc)}.\"\n",
    "    for c in ['analysts', 'src_date']:\n",
    "        toprint = s_loc[c].unique()\n",
    "        if c != 'src_date':\n",
    "            s += ' ' + (str(toprint[0]))\n",
    "        else:\n",
    "            for d in toprint:\n",
    "                s += ' ' + d[:4]\n",
    "    print(s)"
   ]
  },
  {
   "cell_type": "markdown",
   "id": "divided-cutting",
   "metadata": {},
   "source": [
    "Notes based on inidivual submission evaluations: \n",
    "- 635 is for all glaciers above 60°N (was used in RGI6)\n",
    "- 624 is a lonely glacier on the close to Region 01 border, it was misplaced in RGI6 and is already available in 623!\n",
    "- 623 is for the rest of the glaciers in Canada not covered by 635. The version in GLIMS has several issues ([GH issue](https://github.com/GLIMS-RGI/glims_issue_tracker/issues/8))\n",
    "- 619: not clear what this is. the 5 outlines are already available in 614\n",
    "- 618: an intermediate inventory for the colorado range\n",
    "- 617: a further intermediate inventory for the colorado range\n",
    "- 616: used by RGI for Colorado to replace 614 in this region (make a shape to select them)\n",
    "- 614: all the rest of USA, with many rock outcrops missing for no particular reason."
   ]
  },
  {
   "cell_type": "code",
   "execution_count": 44,
   "id": "ff5a1086-51f4-4b68-959d-0b26e08efa0a",
   "metadata": {},
   "outputs": [],
   "source": [
    "# # Write out selection in intermediate shape files for manual GIS review\n",
    "# tmp_output_dir = mkdir(os.path.join(data_dir, 'l0_tmp_data', f'rgi{reg:02d}_inventories'))\n",
    "# tmp_output_dir_tar = mkdir(os.path.join(data_dir, 'l0_tmp_data'))\n",
    "# for subid in shp.subm_id.unique():\n",
    "#     s_loc = shp.loc[shp.subm_id == subid]\n",
    "#     s_loc.to_file(tmp_output_dir + f'/subm_{int(subid):03d}.shp')\n",
    "# print('Taring...')\n",
    "# print(subprocess.run(['tar', '-zcvf', f'{tmp_output_dir_tar}/rgi{reg:02d}_inventories.tar.gz', '-C', \n",
    "#                       os.path.join(data_dir, 'l0_tmp_data'), f'rgi{reg:02d}_inventories']))"
   ]
  },
  {
   "cell_type": "markdown",
   "id": "411b7cb6-15aa-42c2-b1e1-aef7c66b55ed",
   "metadata": {},
   "source": [
    "Remove the useless inventories now:"
   ]
  },
  {
   "cell_type": "code",
   "execution_count": 45,
   "id": "1bdb84e9-f377-467b-a1f2-506d1437a792",
   "metadata": {},
   "outputs": [],
   "source": [
    "shp = shp.loc[shp['subm_id'].isin([614, 616, 623, 635])].copy()"
   ]
  },
  {
   "cell_type": "markdown",
   "id": "f4ac5de1-11c5-4d9c-b55d-222e68741416",
   "metadata": {},
   "source": [
    "### Read in the geometry data for sub-inventory selection "
   ]
  },
  {
   "cell_type": "code",
   "execution_count": 46,
   "id": "afc7f6d2-8a43-4c38-8fab-83b1bcbf7766",
   "metadata": {},
   "outputs": [],
   "source": [
    "# Read L2 files\n",
    "shp_loc = gpd.read_file('tar://' + support_dir + f'/sub_inventory_sel_RGI02.tar.gz/sub_inventory_sel_RGI02.shp')"
   ]
  },
  {
   "cell_type": "code",
   "execution_count": 47,
   "id": "4744f9bd-e0c3-4814-b195-b5091cf91db9",
   "metadata": {},
   "outputs": [
    {
     "data": {
      "image/png": "[encoded data removed]",
      "text/plain": [
       "<Figure size 432x288 with 1 Axes>"
      ]
     },
     "metadata": {
      "needs_background": "light"
     },
     "output_type": "display_data"
    }
   ],
   "source": [
    "shp_loc.plot(edgecolor='k');"
   ]
  },
  {
   "cell_type": "code",
   "execution_count": 48,
   "id": "73d439bb-f0c6-4dd1-adfd-07731168355e",
   "metadata": {},
   "outputs": [
    {
     "data": {
      "text/html": [
       "<div>\n",
       "<style scoped>\n",
       "    .dataframe tbody tr th:only-of-type {\n",
       "        vertical-align: middle;\n",
       "    }\n",
       "\n",
       "    .dataframe tbody tr th {\n",
       "        vertical-align: top;\n",
       "    }\n",
       "\n",
       "    .dataframe thead th {\n",
       "        text-align: right;\n",
       "    }\n",
       "</style>\n",
       "<table border=\"1\" class=\"dataframe\">\n",
       "  <thead>\n",
       "    <tr style=\"text-align: right;\">\n",
       "      <th></th>\n",
       "      <th>id</th>\n",
       "      <th>inven_sel</th>\n",
       "      <th>geometry</th>\n",
       "    </tr>\n",
       "  </thead>\n",
       "  <tbody>\n",
       "    <tr>\n",
       "      <th>0</th>\n",
       "      <td>0</td>\n",
       "      <td>616</td>\n",
       "      <td>POLYGON ((-105.68419 40.55319, -105.61947 40.5...</td>\n",
       "    </tr>\n",
       "    <tr>\n",
       "      <th>1</th>\n",
       "      <td>1</td>\n",
       "      <td>623</td>\n",
       "      <td>POLYGON ((-121.23794 49.00086, -124.76653 49.4...</td>\n",
       "    </tr>\n",
       "    <tr>\n",
       "      <th>2</th>\n",
       "      <td>2</td>\n",
       "      <td>635</td>\n",
       "      <td>POLYGON ((-135.01855 65.94399, -133.07648 66.6...</td>\n",
       "    </tr>\n",
       "    <tr>\n",
       "      <th>3</th>\n",
       "      <td>3</td>\n",
       "      <td>614</td>\n",
       "      <td>POLYGON ((-123.51553 49.16964, -121.23777 49.0...</td>\n",
       "    </tr>\n",
       "  </tbody>\n",
       "</table>\n",
       "</div>"
      ],
      "text/plain": [
       "   id  inven_sel                                           geometry\n",
       "0   0        616  POLYGON ((-105.68419 40.55319, -105.61947 40.5...\n",
       "1   1        623  POLYGON ((-121.23794 49.00086, -124.76653 49.4...\n",
       "2   2        635  POLYGON ((-135.01855 65.94399, -133.07648 66.6...\n",
       "3   3        614  POLYGON ((-123.51553 49.16964, -121.23777 49.0..."
      ]
     },
     "execution_count": 48,
     "metadata": {},
     "output_type": "execute_result"
    }
   ],
   "source": [
    "shp_loc"
   ]
  },
  {
   "cell_type": "code",
   "execution_count": 49,
   "id": "47ada558-1976-448c-9279-fe8bf645c3aa",
   "metadata": {},
   "outputs": [],
   "source": [
    "# Test the polygons I drew - each subregion should be equivalent as the sel by id\n",
    "for sub_id in [635, 623, 616]:\n",
    "    sel = shp.loc[shp['subm_id'] == sub_id].copy()\n",
    "    rp = sel.representative_point().to_frame('geometry')\n",
    "    rp['orig_index'] = sel.index\n",
    "    intersect = gpd.overlay(rp, shp_loc.loc[shp_loc['inven_sel'] == sub_id], how='intersection')\n",
    "    odf = sel.loc[intersect['orig_index']]\n",
    "    assert len(sel) == len(odf)\n",
    "    \n",
    "# Also even without preselection\n",
    "rp = shp.representative_point().to_frame('geometry')\n",
    "rp['orig_index'] = shp.index\n",
    "for sub_id in [635, 623]:\n",
    "    sel = shp.loc[shp['subm_id'] == sub_id].copy()\n",
    "    intersect = gpd.overlay(rp, shp_loc.loc[shp_loc['inven_sel'] == sub_id], how='intersection')\n",
    "    odf = shp.loc[intersect['orig_index']]\n",
    "    assert len(sel) == len(odf)   \n",
    "    \n",
    "# for 614, 616 we mix and mingle but I trust what we have done below"
   ]
  },
  {
   "cell_type": "markdown",
   "id": "familiar-civilization",
   "metadata": {},
   "source": [
    "### Apply selection criteria to create the RGI7 data subset"
   ]
  },
  {
   "cell_type": "code",
   "execution_count": 50,
   "id": "closing-ivory",
   "metadata": {},
   "outputs": [
    {
     "data": {
      "text/plain": [
       "(1235, 0)"
      ]
     },
     "execution_count": 50,
     "metadata": {},
     "output_type": "execute_result"
    }
   ],
   "source": [
    "# for northern Canada we use 'subm_id' 635 by analyst 'Berthier, Etienne'\n",
    "RGI_ss_NCan = shp.loc[shp['subm_id'] == 635].copy()\n",
    "len(RGI_ss_NCan), len(RGI_ss_NCan.loc[np.round(RGI_ss_NCan['area'] * 1e-6, 3) < 0.01])"
   ]
  },
  {
   "cell_type": "code",
   "execution_count": 51,
   "id": "e21c33bd-2a40-4edb-9d12-5be08db38036",
   "metadata": {},
   "outputs": [
    {
     "name": "stdout",
     "output_type": "stream",
     "text": [
      "12464 1\n"
     ]
    },
    {
     "data": {
      "text/plain": [
       "12463"
      ]
     },
     "execution_count": 51,
     "metadata": {},
     "output_type": "execute_result"
    }
   ],
   "source": [
    "# for southern Canada we use 'subm_id' 623 by analyst 'Bolch, Tobias'\n",
    "RGI_ss_SCan = shp.loc[shp['subm_id'] == 623].copy()\n",
    "print(len(RGI_ss_SCan), len(RGI_ss_SCan.loc[np.round(RGI_ss_SCan['area'] * 1e-6, 3) < 0.01]))\n",
    "RGI_ss_SCan = RGI_ss_SCan.loc[np.round(RGI_ss_SCan['area'] * 1e-6, 3) >= 0.01].copy()\n",
    "len(RGI_ss_SCan)"
   ]
  },
  {
   "cell_type": "code",
   "execution_count": 52,
   "id": "8b7ed734-046b-4c16-bdd9-cb6d18de752e",
   "metadata": {},
   "outputs": [
    {
     "name": "stdout",
     "output_type": "stream",
     "text": [
      "5167\n",
      "5131 7\n"
     ]
    },
    {
     "data": {
      "text/plain": [
       "5124"
      ]
     },
     "execution_count": 52,
     "metadata": {},
     "output_type": "execute_result"
    }
   ],
   "source": [
    "# For CONUS we use 'subm_id' 614 by analyst 'Fountain, Andrew G.' except for colorado\n",
    "RGI_ss_CONUS = shp.loc[shp['subm_id'] == 614].copy()\n",
    "print(len(RGI_ss_CONUS))\n",
    "rp = RGI_ss_CONUS.representative_point().to_frame('geometry')\n",
    "rp['orig_index'] = RGI_ss_CONUS.index\n",
    "intersect = gpd.overlay(rp, shp_loc.loc[shp_loc['inven_sel'] == 614], how='intersection')\n",
    "RGI_ss_CONUS = RGI_ss_CONUS.loc[intersect['orig_index']].copy()\n",
    "print(len(RGI_ss_CONUS), len(RGI_ss_CONUS.loc[np.round(RGI_ss_CONUS['area'] * 1e-6, 3) < 0.01]))\n",
    "RGI_ss_CONUS = RGI_ss_CONUS.loc[np.round(RGI_ss_CONUS['area'] * 1e-6, 3) >= 0.01].copy()\n",
    "len(RGI_ss_CONUS)"
   ]
  },
  {
   "cell_type": "code",
   "execution_count": 53,
   "id": "2c81b0be-7af2-40b0-b130-a65c80bc8902",
   "metadata": {},
   "outputs": [
    {
     "name": "stdout",
     "output_type": "stream",
     "text": [
      "42 9\n"
     ]
    },
    {
     "data": {
      "text/plain": [
       "33"
      ]
     },
     "execution_count": 53,
     "metadata": {},
     "output_type": "execute_result"
    }
   ],
   "source": [
    "# For Colorado we use 'subm_id' 616 by analyst 'Fountain, Andrew G.' \n",
    "RGI_ss_Colo = shp.loc[shp['subm_id'] == 616].copy()\n",
    "print(len(RGI_ss_Colo), len(RGI_ss_Colo.loc[np.round(RGI_ss_Colo['area'] * 1e-6, 3) < 0.01]))\n",
    "RGI_ss_Colo = RGI_ss_Colo.loc[np.round(RGI_ss_Colo['area'] * 1e-6, 3) >= 0.01].copy()\n",
    "len(RGI_ss_Colo)"
   ]
  },
  {
   "cell_type": "code",
   "execution_count": 54,
   "id": "historical-handbook",
   "metadata": {},
   "outputs": [
    {
     "data": {
      "image/png": "[encoded data removed]",
      "text/plain": [
       "<Figure size 1008x1008 with 1 Axes>"
      ]
     },
     "metadata": {
      "needs_background": "light"
     },
     "output_type": "display_data"
    }
   ],
   "source": [
    "f, ax = plt.subplots(figsize=(14, 14))\n",
    "RGI_ss_NCan.plot(ax=ax, edgecolor='C0', linewidth=3)\n",
    "RGI_ss_SCan.plot(ax=ax, edgecolor='C1', linewidth=3)\n",
    "RGI_ss_CONUS.plot(ax=ax, edgecolor='C2', linewidth=3);\n",
    "RGI_ss_Colo.plot(ax=ax, edgecolor='C3', linewidth=3);"
   ]
  },
  {
   "cell_type": "code",
   "execution_count": 55,
   "id": "resistant-digest",
   "metadata": {},
   "outputs": [],
   "source": [
    "# combine the geodataframes\n",
    "RGI_ss = pd.concat([RGI_ss_NCan, RGI_ss_SCan, RGI_ss_CONUS, RGI_ss_Colo])"
   ]
  },
  {
   "cell_type": "markdown",
   "id": "palestinian-remedy",
   "metadata": {},
   "source": [
    "## Write out and tar "
   ]
  },
  {
   "cell_type": "code",
   "execution_count": 56,
   "id": "collected-injury",
   "metadata": {},
   "outputs": [
    {
     "name": "stdout",
     "output_type": "stream",
     "text": [
      "Writing...\n",
      "Taring...\n",
      "CompletedProcess(args=['tar', '-zcvf', '../../rgi7_data/l3_rgi7a_tar/RGI02.tar.gz', '-C', '../../rgi7_data/l3_rgi7a', 'RGI02'], returncode=0)\n"
     ]
    }
   ],
   "source": [
    "dd = mkdir(f'{output_dir}/RGI{reg:02d}/', reset=True)\n",
    "\n",
    "print('Writing...')\n",
    "RGI_ss.to_file(dd + f'RGI{reg:02d}.shp')\n",
    "\n",
    "print('Taring...')\n",
    "print(subprocess.run(['tar', '-zcvf', f'{output_dir_tar}/RGI{reg:02d}.tar.gz', '-C', output_dir, f'RGI{reg:02d}']))"
   ]
  },
  {
   "cell_type": "markdown",
   "id": "matched-mailing",
   "metadata": {},
   "source": [
    "## New RGI-file created - Check result!"
   ]
  },
  {
   "cell_type": "markdown",
   "id": "proprietary-african",
   "metadata": {},
   "source": [
    "### load reference data (here RGI6) to enable comparison"
   ]
  },
  {
   "cell_type": "code",
   "execution_count": 57,
   "id": "controlling-drunk",
   "metadata": {},
   "outputs": [],
   "source": [
    "# Just to know the name of the file to open from zip\n",
    "import zipfile\n",
    "with zipfile.ZipFile(rgi6_reg_file, \"r\") as z:\n",
    "    for f in z.filelist:\n",
    "        if '.shp' in f.filename:\n",
    "            fname = f.filename\n",
    "\n",
    "# load reference data\n",
    "ref_odf = gpd.read_file('zip://' + rgi6_reg_file + '/' + fname)"
   ]
  },
  {
   "cell_type": "markdown",
   "id": "demanding-commonwealth",
   "metadata": {},
   "source": [
    "## Compare new RGI7-file to RGI6"
   ]
  },
  {
   "cell_type": "markdown",
   "id": "polar-satisfaction",
   "metadata": {},
   "source": [
    "### Number of elements (differences depict problems)"
   ]
  },
  {
   "cell_type": "code",
   "execution_count": 58,
   "id": "fallen-flush",
   "metadata": {},
   "outputs": [
    {
     "name": "stdout",
     "output_type": "stream",
     "text": [
      "Number of glaciers in new RGI: 18855\n",
      "Number of glaciers in RGI6: 18855\n",
      "Difference: 0\n"
     ]
    }
   ],
   "source": [
    "print('Number of glaciers in new RGI:', len(RGI_ss))\n",
    "print('Number of glaciers in RGI6:', len(ref_odf))\n",
    "print('Difference:', len(RGI_ss)-len(ref_odf))"
   ]
  },
  {
   "cell_type": "markdown",
   "id": "computational-document",
   "metadata": {},
   "source": [
    "### How many nominal glaciers were there in RGI06?"
   ]
  },
  {
   "cell_type": "code",
   "execution_count": 59,
   "id": "quality-person",
   "metadata": {},
   "outputs": [
    {
     "data": {
      "text/plain": [
       "0"
      ]
     },
     "execution_count": 59,
     "metadata": {},
     "output_type": "execute_result"
    }
   ],
   "source": [
    "len(ref_odf.loc[ref_odf.Status == 2])"
   ]
  },
  {
   "cell_type": "markdown",
   "id": "signal-placement",
   "metadata": {},
   "source": [
    "### Total area"
   ]
  },
  {
   "cell_type": "code",
   "execution_count": 60,
   "id": "banned-operations",
   "metadata": {},
   "outputs": [],
   "source": [
    "# add an area field to RGI_ss and reference data\n",
    "RGI_ss['area'] = RGI_ss.to_crs({'proj':'cea'}).area\n",
    "ref_odf['area'] = ref_odf.to_crs({'proj':'cea'}).area"
   ]
  },
  {
   "cell_type": "code",
   "execution_count": 61,
   "id": "blocked-thickness",
   "metadata": {},
   "outputs": [
    {
     "name": "stdout",
     "output_type": "stream",
     "text": [
      "Area RGI7 [km²]: 14389.929311323913\n",
      "Area RGI6 [km²]: 14524.240019596462\n",
      "Area difference [km²]: -134.31070827254916\n"
     ]
    }
   ],
   "source": [
    "# print and compare area values\n",
    "Area_RGI = RGI_ss['area'].sum() * 1e-6\n",
    "print('Area RGI7 [km²]:', Area_RGI)\n",
    "Area_ref = ref_odf['area'].sum() * 1e-6\n",
    "print('Area RGI6 [km²]:', Area_ref)\n",
    "d = (Area_RGI - Area_ref)\n",
    "print('Area difference [km²]:', d)"
   ]
  },
  {
   "cell_type": "markdown",
   "id": "baking-judge",
   "metadata": {},
   "source": [
    "### Northern Canada (635, Berthier, no problem there):  "
   ]
  },
  {
   "cell_type": "code",
   "execution_count": 62,
   "id": "553c2fe0-ce7e-472a-9ab9-ce77a406b118",
   "metadata": {},
   "outputs": [],
   "source": [
    "rp = ref_odf.representative_point().to_frame('geometry')\n",
    "rp['orig_index'] = ref_odf.index\n",
    "intersect = gpd.overlay(rp, shp_loc.loc[shp_loc['inven_sel'] == 635], how='intersection')\n",
    "ref_odf_NCan = ref_odf.loc[intersect['orig_index']].copy()"
   ]
  },
  {
   "cell_type": "code",
   "execution_count": 63,
   "id": "e2b68aed-9b3a-4f15-86ab-7b6bd5f96f81",
   "metadata": {},
   "outputs": [
    {
     "name": "stdout",
     "output_type": "stream",
     "text": [
      "Number of glaciers in RGI7 subset: 1235\n",
      "Number of glaciers in reference data (RGI6): 1235\n",
      "Difference: 0\n"
     ]
    }
   ],
   "source": [
    "print('Number of glaciers in RGI7 subset:', len(RGI_ss_NCan))\n",
    "print('Number of glaciers in reference data (RGI6):', len(ref_odf_NCan))\n",
    "print('Difference:', len(RGI_ss_NCan)-len(ref_odf_NCan))"
   ]
  },
  {
   "cell_type": "code",
   "execution_count": 64,
   "id": "5d9dd226-dcab-4c9a-b4bc-e5db7be97ddd",
   "metadata": {},
   "outputs": [
    {
     "name": "stdout",
     "output_type": "stream",
     "text": [
      "Area RGI7 [km²]: 656.5317836977715\n",
      "Area RGI6 [km²]: 656.5319107844741\n",
      "Area difference [km²]: -0.0001270867026050837\n"
     ]
    }
   ],
   "source": [
    "# print and compare area values\n",
    "Area_7 = RGI_ss_NCan['area'].sum() * 1e-6\n",
    "print('Area RGI7 [km²]:', Area_7)\n",
    "Area_6 = ref_odf_NCan['area'].sum() * 1e-6\n",
    "print('Area RGI6 [km²]:', Area_6)\n",
    "d = (Area_7 - Area_6)\n",
    "print('Area difference [km²]:', d)"
   ]
  },
  {
   "cell_type": "markdown",
   "id": "e77eea96-722d-49f4-802e-f661a25e1963",
   "metadata": {},
   "source": [
    "This is brilliant! No issue there."
   ]
  },
  {
   "cell_type": "markdown",
   "id": "6460428c-f3fb-40dc-97d2-bbb889e5fb14",
   "metadata": {},
   "source": [
    "### Southern Canada (623, Bolch, problems):  "
   ]
  },
  {
   "cell_type": "code",
   "execution_count": 65,
   "id": "1e0f5336-aa50-4e14-9bbf-3a6d076c30dd",
   "metadata": {},
   "outputs": [],
   "source": [
    "rp = ref_odf.representative_point().to_frame('geometry')\n",
    "rp['orig_index'] = ref_odf.index\n",
    "intersect = gpd.overlay(rp, shp_loc.loc[shp_loc['inven_sel'] == 623], how='intersection')\n",
    "ref_odf_SCan = ref_odf.loc[intersect['orig_index']].copy()"
   ]
  },
  {
   "cell_type": "code",
   "execution_count": 66,
   "id": "b1bd8a34-6f90-4633-b824-1a878a2b157a",
   "metadata": {},
   "outputs": [
    {
     "name": "stdout",
     "output_type": "stream",
     "text": [
      "Number of glaciers in RGI7 subset: 12463\n",
      "Number of glaciers in reference data (RGI6): 12464\n",
      "Difference: -1\n"
     ]
    }
   ],
   "source": [
    "print('Number of glaciers in RGI7 subset:', len(RGI_ss_SCan))\n",
    "print('Number of glaciers in reference data (RGI6):', len(ref_odf_SCan))\n",
    "print('Difference:', len(RGI_ss_SCan)-len(ref_odf_SCan))"
   ]
  },
  {
   "cell_type": "code",
   "execution_count": 67,
   "id": "629f0504-a138-4dfb-a623-576449fa8786",
   "metadata": {},
   "outputs": [
    {
     "name": "stdout",
     "output_type": "stream",
     "text": [
      "Area RGI7 [km²]: 13054.772703665398\n",
      "Area RGI6 [km²]: 13195.162964834108\n",
      "Area difference [km²]: -140.3902611687099\n"
     ]
    }
   ],
   "source": [
    "# print and compare area values\n",
    "Area_7 = RGI_ss_SCan['area'].sum() * 1e-6\n",
    "print('Area RGI7 [km²]:', Area_7)\n",
    "Area_6 = ref_odf_SCan['area'].sum() * 1e-6\n",
    "print('Area RGI6 [km²]:', Area_6)\n",
    "d = (Area_7 - Area_6)\n",
    "print('Area difference [km²]:', d)"
   ]
  },
  {
   "cell_type": "markdown",
   "id": "dbad6559-25f1-4444-9d4d-a0c448ea76c7",
   "metadata": {},
   "source": [
    "But the area clearly is not, which is visible in GIS ([GH issue](https://github.com/GLIMS-RGI/glims_issue_tracker/issues/8)).\n",
    "\n",
    "There are two glaciers missing from GLIMS based on GIS, and we have one more glacier in GLIMS (this is expected)"
   ]
  },
  {
   "cell_type": "code",
   "execution_count": 68,
   "id": "f354948b-ff04-4737-8864-f5dabe2b44a7",
   "metadata": {},
   "outputs": [
    {
     "data": {
      "text/plain": [
       "(147.04689962219334, 0.42227292934575933, 146.62462669284758)"
      ]
     },
     "execution_count": 68,
     "metadata": {},
     "output_type": "execute_result"
    }
   ],
   "source": [
    "a1 = ref_odf_SCan.loc[ref_odf_SCan.RGIId.isin(['RGI60-02.03578', 'RGI60-02.02611'])]['area'].sum() * 1e-6\n",
    "a2 = RGI_ss_SCan.loc[RGI_ss_SCan.anlys_id == 380747]['area'].sum() * 1e-6 \n",
    "a1, a2, a1 - a2"
   ]
  },
  {
   "cell_type": "markdown",
   "id": "fd6f830c-080b-47c5-aaaf-2383b923a9ad",
   "metadata": {},
   "source": [
    "Arg, we still have 6 km2 more in GLIMS than RGI6. Quick check on GIS reveals that some polygons in polygons are in GLIMS but not RGI, and some rock outcrops are in RGI but not GLIMS (see GH issue)."
   ]
  },
  {
   "cell_type": "markdown",
   "id": "3e3be583-4cbb-4ed2-9416-75f11c2ae5c5",
   "metadata": {},
   "source": [
    "### CONUS (614, Fountain, problems):  "
   ]
  },
  {
   "cell_type": "code",
   "execution_count": 69,
   "id": "202a87fe-b515-4c48-8b24-e8575f28239f",
   "metadata": {},
   "outputs": [],
   "source": [
    "rp = ref_odf.representative_point().to_frame('geometry')\n",
    "rp['orig_index'] = ref_odf.index\n",
    "intersect = gpd.overlay(rp, shp_loc.loc[shp_loc['inven_sel'] == 614], how='intersection')\n",
    "ref_odf_CONUS = ref_odf.loc[intersect['orig_index']].copy()"
   ]
  },
  {
   "cell_type": "code",
   "execution_count": 70,
   "id": "4dd7c7d9-5e4e-4bbc-833b-fc37cf12d3aa",
   "metadata": {},
   "outputs": [
    {
     "name": "stdout",
     "output_type": "stream",
     "text": [
      "Number of glaciers in RGI7 subset: 5124\n",
      "Number of glaciers in reference data (RGI6): 5123\n",
      "Difference: 1\n"
     ]
    }
   ],
   "source": [
    "print('Number of glaciers in RGI7 subset:', len(RGI_ss_CONUS))\n",
    "print('Number of glaciers in reference data (RGI6):', len(ref_odf_CONUS))\n",
    "print('Difference:', len(RGI_ss_CONUS)-len(ref_odf_CONUS))"
   ]
  },
  {
   "cell_type": "code",
   "execution_count": 71,
   "id": "f6e32b43-6a68-4ac1-9a3b-0a18864a239d",
   "metadata": {},
   "outputs": [
    {
     "name": "stdout",
     "output_type": "stream",
     "text": [
      "Area RGI7 [km²]: 677.5129289389\n",
      "Area RGI6 [km²]: 671.433249726907\n",
      "Area difference [km²]: 6.079679211993039\n"
     ]
    }
   ],
   "source": [
    "# print and compare area values\n",
    "Area_7 = RGI_ss_CONUS['area'].sum() * 1e-6\n",
    "print('Area RGI7 [km²]:', Area_7)\n",
    "Area_6 = ref_odf_CONUS['area'].sum() * 1e-6\n",
    "print('Area RGI6 [km²]:', Area_6)\n",
    "d = (Area_7 - Area_6)\n",
    "print('Area difference [km²]:', d)"
   ]
  },
  {
   "cell_type": "markdown",
   "id": "9a0fa2bb-2bbd-411c-b545-7f955a4085ea",
   "metadata": {},
   "source": [
    "I don't know about the one glacier difference (not a big deal), but the missing area comes from missing rock outcrops (\n",
    "\n",
    "But the area clearly is not, which is visible in GIS ([GH issue](https://github.com/GLIMS-RGI/glims_issue_tracker/issues/8)).\n",
    "\n",
    "There are two glaciers missing from GLIMS based on GIS, and we have one more glacier in GLIMS (this is expected)"
   ]
  },
  {
   "cell_type": "markdown",
   "id": "8f41bf5b-15e6-473a-b149-6c1ab96828bc",
   "metadata": {},
   "source": [
    "### Colorado (616, Fountain, OK):  "
   ]
  },
  {
   "cell_type": "code",
   "execution_count": 72,
   "id": "0474490d-d378-472b-8b86-d06dabfc2e73",
   "metadata": {},
   "outputs": [],
   "source": [
    "rp = ref_odf.representative_point().to_frame('geometry')\n",
    "rp['orig_index'] = ref_odf.index\n",
    "intersect = gpd.overlay(rp, shp_loc.loc[shp_loc['inven_sel'] == 616], how='intersection')\n",
    "ref_odf_Colo = ref_odf.loc[intersect['orig_index']].copy()"
   ]
  },
  {
   "cell_type": "code",
   "execution_count": 73,
   "id": "fd92f2c4-fa64-430f-b460-09ddc1dab9a8",
   "metadata": {},
   "outputs": [
    {
     "name": "stdout",
     "output_type": "stream",
     "text": [
      "Number of glaciers in RGI7 subset: 33\n",
      "Number of glaciers in reference data (RGI6): 33\n",
      "Difference: 0\n"
     ]
    }
   ],
   "source": [
    "print('Number of glaciers in RGI7 subset:', len(RGI_ss_Colo))\n",
    "print('Number of glaciers in reference data (RGI6):', len(ref_odf_Colo))\n",
    "print('Difference:', len(RGI_ss_Colo)-len(ref_odf_Colo))"
   ]
  },
  {
   "cell_type": "code",
   "execution_count": 74,
   "id": "4aaff498-fac5-4593-a0db-e2d1badf577b",
   "metadata": {},
   "outputs": [
    {
     "name": "stdout",
     "output_type": "stream",
     "text": [
      "Area RGI7 [km²]: 1.111895021844131\n",
      "Area RGI6 [km²]: 1.111894250971996\n",
      "Area difference [km²]: 7.708721350141445e-07\n"
     ]
    }
   ],
   "source": [
    "# print and compare area values\n",
    "Area_7 = RGI_ss_Colo['area'].sum() * 1e-6\n",
    "print('Area RGI7 [km²]:', Area_7)\n",
    "Area_6 = ref_odf_Colo['area'].sum() * 1e-6\n",
    "print('Area RGI6 [km²]:', Area_6)\n",
    "d = (Area_7 - Area_6)\n",
    "print('Area difference [km²]:', d)"
   ]
  },
  {
   "cell_type": "code",
   "execution_count": null,
   "id": "99f9eeab-d395-4337-9ff2-c4e2bd4d8242",
   "metadata": {},
   "outputs": [],
   "source": []
  }
 ],
 "metadata": {
  "kernelspec": {
   "display_name": "Python 3",
   "language": "python",
   "name": "python3"
  },
  "language_info": {
   "codemirror_mode": {
    "name": "ipython",
    "version": 3
   },
   "file_extension": ".py",
   "mimetype": "text/x-python",
   "name": "python",
   "nbconvert_exporter": "python",
   "pygments_lexer": "ipython3",
   "version": "3.8.8"
  }
 },
 "nbformat": 4,
 "nbformat_minor": 5
}
