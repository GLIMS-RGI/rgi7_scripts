{
 "cells": [
  {
   "cell_type": "markdown",
   "id": "lesser-sociology",
   "metadata": {},
   "source": [
    "# RGI02 (Western Canada and USA)\n",
    "\n",
    "F. Maussion"
   ]
  },
  {
   "cell_type": "code",
   "execution_count": 1,
   "id": "electoral-expense",
   "metadata": {},
   "outputs": [],
   "source": [
    "import pandas as pd\n",
    "import geopandas as gpd\n",
    "import subprocess\n",
    "import matplotlib.pyplot as plt\n",
    "import matplotlib.patches as mpatches\n",
    "import seaborn as sns\n",
    "import numpy as np\n",
    "from utils import mkdir, submission_summary, needs_size_filter, size_filter, plot_map, plot_date_hist\n",
    "import os"
   ]
  },
  {
   "cell_type": "markdown",
   "id": "proprietary-armor",
   "metadata": {},
   "source": [
    "## Files and storage paths"
   ]
  },
  {
   "cell_type": "code",
   "execution_count": 2,
   "id": "silent-charger",
   "metadata": {},
   "outputs": [],
   "source": [
    "# Region of interest \n",
    "reg = 2\n",
    "\n",
    "# go down from rgi7_scripts/workflow\n",
    "data_dir = '../../rgi7_data/'\n",
    "\n",
    "# Level 2 GLIMS files\n",
    "l2_dir = os.path.join(data_dir, 'l2_sel_reg_tars')\n",
    "\n",
    "# Output directories\n",
    "output_dir = mkdir(os.path.join(data_dir, 'l3_rgi7a'))\n",
    "output_dir_tar = mkdir(os.path.join(data_dir, 'l3_rgi7a_tar'))\n",
    "\n",
    "# RGI v6 file for comparison later \n",
    "rgi6_reg_file = os.path.join(data_dir, 'l0_RGIv6', '02_rgi60_WesternCanadaUS.zip')"
   ]
  },
  {
   "cell_type": "code",
   "execution_count": 3,
   "id": "color-sacramento",
   "metadata": {},
   "outputs": [],
   "source": [
    "# Specific to this region: boxes where data has to be selected differently\n",
    "support_dir = os.path.join(data_dir, 'l0_support_data')"
   ]
  },
  {
   "cell_type": "markdown",
   "id": "interior-driving",
   "metadata": {},
   "source": [
    "### Load the input data"
   ]
  },
  {
   "cell_type": "code",
   "execution_count": 4,
   "id": "mounted-broadway",
   "metadata": {},
   "outputs": [],
   "source": [
    "# Read L2 files\n",
    "shp = gpd.read_file('tar://' + l2_dir + f'/RGI{reg:02d}.tar.gz/RGI{reg:02d}/RGI{reg:02d}.shp')"
   ]
  },
  {
   "cell_type": "markdown",
   "id": "223cc6e7-b49c-469d-b643-2c768697e0d5",
   "metadata": {},
   "source": [
    "### List of submissions "
   ]
  },
  {
   "cell_type": "code",
   "execution_count": 5,
   "id": "9759fc6e-d391-4fac-bdad-796619fea9a1",
   "metadata": {},
   "outputs": [
    {
     "data": {
      "text/html": [
       "<div>\n",
       "<style scoped>\n",
       "    .dataframe tbody tr th:only-of-type {\n",
       "        vertical-align: middle;\n",
       "    }\n",
       "\n",
       "    .dataframe tbody tr th {\n",
       "        vertical-align: top;\n",
       "    }\n",
       "\n",
       "    .dataframe thead th {\n",
       "        text-align: right;\n",
       "    }\n",
       "</style>\n",
       "<table border=\"1\" class=\"dataframe\">\n",
       "  <thead>\n",
       "    <tr style=\"text-align: right;\">\n",
       "      <th></th>\n",
       "      <th>N</th>\n",
       "      <th>A</th>\n",
       "      <th>analysts</th>\n",
       "      <th>submitters</th>\n",
       "      <th>release_date</th>\n",
       "      <th>geog_area</th>\n",
       "      <th>src_date_mode</th>\n",
       "      <th>src_date_min</th>\n",
       "      <th>src_date_max</th>\n",
       "    </tr>\n",
       "    <tr>\n",
       "      <th>subm_id</th>\n",
       "      <th></th>\n",
       "      <th></th>\n",
       "      <th></th>\n",
       "      <th></th>\n",
       "      <th></th>\n",
       "      <th></th>\n",
       "      <th></th>\n",
       "      <th></th>\n",
       "      <th></th>\n",
       "    </tr>\n",
       "  </thead>\n",
       "  <tbody>\n",
       "    <tr>\n",
       "      <th>616</th>\n",
       "      <td>42</td>\n",
       "      <td>1.2</td>\n",
       "      <td>Fountain, Hoffman</td>\n",
       "      <td>Hoffman</td>\n",
       "      <td>2016</td>\n",
       "      <td>Conterminous USA</td>\n",
       "      <td>2001</td>\n",
       "      <td>2001</td>\n",
       "      <td>2001</td>\n",
       "    </tr>\n",
       "    <tr>\n",
       "      <th>617</th>\n",
       "      <td>36</td>\n",
       "      <td>1.4</td>\n",
       "      <td>Fountain, Hoffman</td>\n",
       "      <td>Hoffman</td>\n",
       "      <td>2016</td>\n",
       "      <td>Conterminous USA</td>\n",
       "      <td>1999</td>\n",
       "      <td>1999</td>\n",
       "      <td>1999</td>\n",
       "    </tr>\n",
       "    <tr>\n",
       "      <th>618</th>\n",
       "      <td>39</td>\n",
       "      <td>1.4</td>\n",
       "      <td>Fountain, Hoffman</td>\n",
       "      <td>Hoffman</td>\n",
       "      <td>2016</td>\n",
       "      <td>Conterminous USA</td>\n",
       "      <td>1990</td>\n",
       "      <td>1990</td>\n",
       "      <td>1990</td>\n",
       "    </tr>\n",
       "    <tr>\n",
       "      <th>619</th>\n",
       "      <td>5</td>\n",
       "      <td>0.2</td>\n",
       "      <td>Fountain, Hoffman</td>\n",
       "      <td>Hoffman</td>\n",
       "      <td>2016</td>\n",
       "      <td>Conterminous USA</td>\n",
       "      <td>1958</td>\n",
       "      <td>1958</td>\n",
       "      <td>1958</td>\n",
       "    </tr>\n",
       "    <tr>\n",
       "      <th>623</th>\n",
       "      <td>12464</td>\n",
       "      <td>13054.8</td>\n",
       "      <td>Bolch</td>\n",
       "      <td>Bolch</td>\n",
       "      <td>2009</td>\n",
       "      <td>Northern Cordillera</td>\n",
       "      <td>2006</td>\n",
       "      <td>2004</td>\n",
       "      <td>2006</td>\n",
       "    </tr>\n",
       "    <tr>\n",
       "      <th>624</th>\n",
       "      <td>1</td>\n",
       "      <td>0.4</td>\n",
       "      <td>Beedle, Berthier, Bolch, Burgess, Cogley, Fors...</td>\n",
       "      <td>Cogley</td>\n",
       "      <td>2015</td>\n",
       "      <td>Randolph Glacier Inventory; Umbrella RC for me...</td>\n",
       "      <td>2004</td>\n",
       "      <td>2004</td>\n",
       "      <td>2004</td>\n",
       "    </tr>\n",
       "    <tr>\n",
       "      <th>635</th>\n",
       "      <td>1235</td>\n",
       "      <td>656.5</td>\n",
       "      <td>Berthier, Bolch, Cogley, Kienholz</td>\n",
       "      <td>Cogley</td>\n",
       "      <td>2015</td>\n",
       "      <td>Randolph Glacier Inventory; Umbrella RC for me...</td>\n",
       "      <td>1985</td>\n",
       "      <td>1968</td>\n",
       "      <td>1999</td>\n",
       "    </tr>\n",
       "    <tr>\n",
       "      <th>647</th>\n",
       "      <td>1002</td>\n",
       "      <td>25.8</td>\n",
       "      <td>Mozer, Pflug</td>\n",
       "      <td>Mozer</td>\n",
       "      <td>2017</td>\n",
       "      <td>Olympic Peninsula</td>\n",
       "      <td>2015</td>\n",
       "      <td>2015</td>\n",
       "      <td>2015</td>\n",
       "    </tr>\n",
       "    <tr>\n",
       "      <th>721</th>\n",
       "      <td>1</td>\n",
       "      <td>136.9</td>\n",
       "      <td>Bolch</td>\n",
       "      <td>Bolch</td>\n",
       "      <td>2009</td>\n",
       "      <td>Northern Cordillera</td>\n",
       "      <td>2006</td>\n",
       "      <td>2006</td>\n",
       "      <td>2006</td>\n",
       "    </tr>\n",
       "    <tr>\n",
       "      <th>722</th>\n",
       "      <td>1</td>\n",
       "      <td>10.2</td>\n",
       "      <td>Bolch</td>\n",
       "      <td>Bolch</td>\n",
       "      <td>2009</td>\n",
       "      <td>Northern Cordillera</td>\n",
       "      <td>2006</td>\n",
       "      <td>2006</td>\n",
       "      <td>2006</td>\n",
       "    </tr>\n",
       "    <tr>\n",
       "      <th>744</th>\n",
       "      <td>5166</td>\n",
       "      <td>672.5</td>\n",
       "      <td>Fountain</td>\n",
       "      <td>Fountain</td>\n",
       "      <td>2016</td>\n",
       "      <td>Conterminous USA</td>\n",
       "      <td>1966</td>\n",
       "      <td>1943</td>\n",
       "      <td>2001</td>\n",
       "    </tr>\n",
       "  </tbody>\n",
       "</table>\n",
       "</div>"
      ],
      "text/plain": [
       "             N        A                                           analysts  \\\n",
       "subm_id                                                                      \n",
       "616         42      1.2                                  Fountain, Hoffman   \n",
       "617         36      1.4                                  Fountain, Hoffman   \n",
       "618         39      1.4                                  Fountain, Hoffman   \n",
       "619          5      0.2                                  Fountain, Hoffman   \n",
       "623      12464  13054.8                                              Bolch   \n",
       "624          1      0.4  Beedle, Berthier, Bolch, Burgess, Cogley, Fors...   \n",
       "635       1235    656.5                  Berthier, Bolch, Cogley, Kienholz   \n",
       "647       1002     25.8                                       Mozer, Pflug   \n",
       "721          1    136.9                                              Bolch   \n",
       "722          1     10.2                                              Bolch   \n",
       "744       5166    672.5                                           Fountain   \n",
       "\n",
       "        submitters  release_date  \\\n",
       "subm_id                            \n",
       "616        Hoffman          2016   \n",
       "617        Hoffman          2016   \n",
       "618        Hoffman          2016   \n",
       "619        Hoffman          2016   \n",
       "623          Bolch          2009   \n",
       "624         Cogley          2015   \n",
       "635         Cogley          2015   \n",
       "647          Mozer          2017   \n",
       "721          Bolch          2009   \n",
       "722          Bolch          2009   \n",
       "744       Fountain          2016   \n",
       "\n",
       "                                                 geog_area  src_date_mode  \\\n",
       "subm_id                                                                     \n",
       "616                                       Conterminous USA           2001   \n",
       "617                                       Conterminous USA           1999   \n",
       "618                                       Conterminous USA           1990   \n",
       "619                                       Conterminous USA           1958   \n",
       "623                                    Northern Cordillera           2006   \n",
       "624      Randolph Glacier Inventory; Umbrella RC for me...           2004   \n",
       "635      Randolph Glacier Inventory; Umbrella RC for me...           1985   \n",
       "647                                      Olympic Peninsula           2015   \n",
       "721                                    Northern Cordillera           2006   \n",
       "722                                    Northern Cordillera           2006   \n",
       "744                                       Conterminous USA           1966   \n",
       "\n",
       "         src_date_min  src_date_max  \n",
       "subm_id                              \n",
       "616              2001          2001  \n",
       "617              1999          1999  \n",
       "618              1990          1990  \n",
       "619              1958          1958  \n",
       "623              2004          2006  \n",
       "624              2004          2004  \n",
       "635              1968          1999  \n",
       "647              2015          2015  \n",
       "721              2006          2006  \n",
       "722              2006          2006  \n",
       "744              1943          2001  "
      ]
     },
     "execution_count": 5,
     "metadata": {},
     "output_type": "execute_result"
    }
   ],
   "source": [
    "sdf, df_classes = submission_summary(shp)\n",
    "sdf"
   ]
  },
  {
   "cell_type": "markdown",
   "id": "143ad0dc-59d5-40ea-a29d-3ba5dc0d8ab7",
   "metadata": {},
   "source": [
    "Notes based on inidivual submission evaluations: \n",
    "- 635 is for all glaciers above 60°N (was used in RGI6)\n",
    "- 624 is a lonely glacier on the close to Region 01 border, it was misplaced in RGI6 and is already available in 623!\n",
    "- 623 is for the rest of the glaciers in Canada not covered by 635. The version in GLIMS has several issues ([GH issue](https://github.com/GLIMS-RGI/glims_issue_tracker/issues/8))\n",
    "- 619: not clear what this is. the 5 outlines are already available in 614\n",
    "- 618: an intermediate inventory for the colorado range\n",
    "- 617: a further intermediate inventory for the colorado range\n",
    "- 616: used by RGI for Colorado to replace 614 in this region (make a shape to select them)\n",
    "- 744: all the rest of USA\n",
    "- 721, 722: update of two outlines by Bruce which we need to use"
   ]
  },
  {
   "cell_type": "code",
   "execution_count": 6,
   "id": "dbce20aa-59b6-494d-bfb1-340907f0d88f",
   "metadata": {},
   "outputs": [],
   "source": [
    "# # Optional: write out selection in intermediate shape files for manual GIS review\n",
    "# tmp_output_dir = mkdir(os.path.join(data_dir, 'l0_tmp_data', f'rgi{reg:02d}_inventories'))\n",
    "# tmp_output_dir_tar = mkdir(os.path.join(data_dir, 'l0_tmp_data'))\n",
    "# for subid in shp.subm_id.unique():\n",
    "#     s_loc = shp.loc[shp.subm_id == subid]\n",
    "#     s_loc.to_file(tmp_output_dir + f'/subm_{int(subid):03d}.shp')\n",
    "# print('Taring...')\n",
    "# print(subprocess.run(['tar', '-zcvf', f'{tmp_output_dir_tar}/rgi{reg:02d}_inventories.tar.gz', '-C', \n",
    "#                       os.path.join(data_dir, 'l0_tmp_data'), f'rgi{reg:02d}_inventories']))"
   ]
  },
  {
   "cell_type": "markdown",
   "id": "411b7cb6-15aa-42c2-b1e1-aef7c66b55ed",
   "metadata": {},
   "source": [
    "Remove the useless inventories now:"
   ]
  },
  {
   "cell_type": "code",
   "execution_count": 7,
   "id": "1bdb84e9-f377-467b-a1f2-506d1437a792",
   "metadata": {},
   "outputs": [],
   "source": [
    "shp = shp.loc[shp['subm_id'].isin([744, 616, 623, 635, 721, 722])].copy()"
   ]
  },
  {
   "cell_type": "markdown",
   "id": "f4ac5de1-11c5-4d9c-b55d-222e68741416",
   "metadata": {},
   "source": [
    "### Read in the geometry data for sub-inventory selection "
   ]
  },
  {
   "cell_type": "code",
   "execution_count": 8,
   "id": "afc7f6d2-8a43-4c38-8fab-83b1bcbf7766",
   "metadata": {},
   "outputs": [],
   "source": [
    "# Read L2 files\n",
    "shp_loc = gpd.read_file('tar://' + support_dir + f'/sub_inventory_sel_RGI02.tar.gz/sub_inventory_sel_RGI02.shp')"
   ]
  },
  {
   "cell_type": "code",
   "execution_count": 9,
   "id": "4744f9bd-e0c3-4814-b195-b5091cf91db9",
   "metadata": {},
   "outputs": [
    {
     "data": {
      "image/png": "[encoded data removed]",
      "text/plain": [
       "<Figure size 432x288 with 1 Axes>"
      ]
     },
     "metadata": {
      "needs_background": "light"
     },
     "output_type": "display_data"
    }
   ],
   "source": [
    "shp_loc.plot(edgecolor='k');"
   ]
  },
  {
   "cell_type": "code",
   "execution_count": 10,
   "id": "73d439bb-f0c6-4dd1-adfd-07731168355e",
   "metadata": {},
   "outputs": [
    {
     "data": {
      "text/html": [
       "<div>\n",
       "<style scoped>\n",
       "    .dataframe tbody tr th:only-of-type {\n",
       "        vertical-align: middle;\n",
       "    }\n",
       "\n",
       "    .dataframe tbody tr th {\n",
       "        vertical-align: top;\n",
       "    }\n",
       "\n",
       "    .dataframe thead th {\n",
       "        text-align: right;\n",
       "    }\n",
       "</style>\n",
       "<table border=\"1\" class=\"dataframe\">\n",
       "  <thead>\n",
       "    <tr style=\"text-align: right;\">\n",
       "      <th></th>\n",
       "      <th>id</th>\n",
       "      <th>subm_id</th>\n",
       "      <th>geometry</th>\n",
       "    </tr>\n",
       "  </thead>\n",
       "  <tbody>\n",
       "    <tr>\n",
       "      <th>0</th>\n",
       "      <td>0</td>\n",
       "      <td>616</td>\n",
       "      <td>POLYGON ((-105.68419 40.55319, -105.61947 40.5...</td>\n",
       "    </tr>\n",
       "    <tr>\n",
       "      <th>1</th>\n",
       "      <td>1</td>\n",
       "      <td>623</td>\n",
       "      <td>POLYGON ((-121.23794 49.00086, -124.76653 49.4...</td>\n",
       "    </tr>\n",
       "    <tr>\n",
       "      <th>2</th>\n",
       "      <td>2</td>\n",
       "      <td>635</td>\n",
       "      <td>POLYGON ((-135.01855 65.94399, -133.07648 66.6...</td>\n",
       "    </tr>\n",
       "    <tr>\n",
       "      <th>3</th>\n",
       "      <td>3</td>\n",
       "      <td>744</td>\n",
       "      <td>POLYGON ((-123.51553 49.16964, -121.23777 49.0...</td>\n",
       "    </tr>\n",
       "  </tbody>\n",
       "</table>\n",
       "</div>"
      ],
      "text/plain": [
       "   id  subm_id                                           geometry\n",
       "0   0      616  POLYGON ((-105.68419 40.55319, -105.61947 40.5...\n",
       "1   1      623  POLYGON ((-121.23794 49.00086, -124.76653 49.4...\n",
       "2   2      635  POLYGON ((-135.01855 65.94399, -133.07648 66.6...\n",
       "3   3      744  POLYGON ((-123.51553 49.16964, -121.23777 49.0..."
      ]
     },
     "execution_count": 10,
     "metadata": {},
     "output_type": "execute_result"
    }
   ],
   "source": [
    "shp_loc"
   ]
  },
  {
   "cell_type": "code",
   "execution_count": 11,
   "id": "47ada558-1976-448c-9279-fe8bf645c3aa",
   "metadata": {},
   "outputs": [],
   "source": [
    "# Test the polygons I drew - each subregion should be equivalent as the sel by id\n",
    "for sub_id in [635, 623, 616]:\n",
    "    sel = shp.loc[shp['subm_id'] == sub_id].copy()\n",
    "    rp = sel.representative_point().to_frame('geometry')\n",
    "    rp['orig_index'] = sel.index\n",
    "    intersect = gpd.overlay(rp, shp_loc.loc[shp_loc['subm_id'] == sub_id], how='intersection')\n",
    "    odf = sel.loc[intersect['orig_index']]\n",
    "    assert len(sel) == len(odf)\n",
    "    \n",
    "# Also even without preselection\n",
    "rp = shp.representative_point().to_frame('geometry')\n",
    "rp['orig_index'] = shp.index\n",
    "for sub_id in [635, 623]:\n",
    "    sel = shp.loc[shp['subm_id'] == sub_id].copy()\n",
    "    intersect = gpd.overlay(rp, shp_loc.loc[shp_loc['subm_id'] == sub_id], how='intersection')\n",
    "    odf = shp.loc[intersect['orig_index']]\n",
    "    delta = 0\n",
    "    if sub_id == 623:\n",
    "        delta = 2  # Those two glaciers\n",
    "    assert len(sel) + delta == len(odf)   \n",
    "    \n",
    "# for 614, 616 we mix and mingle but I trust what we have done below"
   ]
  },
  {
   "cell_type": "markdown",
   "id": "familiar-civilization",
   "metadata": {},
   "source": [
    "### Apply selection criteria to create the RGI7 data subset"
   ]
  },
  {
   "cell_type": "code",
   "execution_count": 12,
   "id": "closing-ivory",
   "metadata": {},
   "outputs": [
    {
     "data": {
      "text/plain": [
       "False"
      ]
     },
     "execution_count": 12,
     "metadata": {},
     "output_type": "execute_result"
    }
   ],
   "source": [
    "# for northern Canada we use 'subm_id' 635 by analyst 'Berthier, Etienne'\n",
    "RGI_ss_NCan = shp.loc[shp['subm_id'] == 635].copy()\n",
    "needs_size_filter(RGI_ss_NCan)"
   ]
  },
  {
   "cell_type": "code",
   "execution_count": 13,
   "id": "e21c33bd-2a40-4edb-9d12-5be08db38036",
   "metadata": {},
   "outputs": [
    {
     "name": "stdout",
     "output_type": "stream",
     "text": [
      "12466\n"
     ]
    },
    {
     "data": {
      "text/plain": [
       "12465"
      ]
     },
     "execution_count": 13,
     "metadata": {},
     "output_type": "execute_result"
    }
   ],
   "source": [
    "# for southern Canada we use 'subm_id' 623 by analyst 'Bolch, Tobias' (with 721, 722 which are corrections)\n",
    "RGI_ss_SCan = shp.loc[shp['subm_id'].isin([623, 721, 722])].copy()\n",
    "print(len(RGI_ss_SCan))\n",
    "RGI_ss_SCan = size_filter(RGI_ss_SCan)\n",
    "len(RGI_ss_SCan)"
   ]
  },
  {
   "cell_type": "code",
   "execution_count": 14,
   "id": "8b7ed734-046b-4c16-bdd9-cb6d18de752e",
   "metadata": {},
   "outputs": [
    {
     "name": "stdout",
     "output_type": "stream",
     "text": [
      "5166\n",
      "5133\n"
     ]
    },
    {
     "data": {
      "text/plain": [
       "5126"
      ]
     },
     "execution_count": 14,
     "metadata": {},
     "output_type": "execute_result"
    }
   ],
   "source": [
    "# For CONUS we use 'subm_id' 744 by analyst 'Fountain, Andrew G.' except for colorado\n",
    "RGI_ss_CONUS = shp.loc[shp['subm_id'] == 744].copy()\n",
    "\n",
    "# Remove colorado\n",
    "print(len(RGI_ss_CONUS))\n",
    "rp = RGI_ss_CONUS.representative_point().to_frame('geometry')\n",
    "rp['orig_index'] = RGI_ss_CONUS.index\n",
    "intersect = gpd.overlay(rp, shp_loc.loc[shp_loc['subm_id'] == 744], how='intersection')\n",
    "RGI_ss_CONUS = RGI_ss_CONUS.loc[intersect['orig_index'].values].copy()\n",
    "print(len(RGI_ss_CONUS))\n",
    "RGI_ss_CONUS = size_filter(RGI_ss_CONUS)\n",
    "len(RGI_ss_CONUS)"
   ]
  },
  {
   "cell_type": "code",
   "execution_count": 15,
   "id": "2c81b0be-7af2-40b0-b130-a65c80bc8902",
   "metadata": {},
   "outputs": [
    {
     "name": "stdout",
     "output_type": "stream",
     "text": [
      "42\n"
     ]
    },
    {
     "data": {
      "text/plain": [
       "33"
      ]
     },
     "execution_count": 15,
     "metadata": {},
     "output_type": "execute_result"
    }
   ],
   "source": [
    "# For Colorado we use 'subm_id' 616 by analyst 'Fountain, Andrew G.' \n",
    "RGI_ss_Colo = shp.loc[shp['subm_id'] == 616].copy()\n",
    "print(len(RGI_ss_Colo))\n",
    "RGI_ss_Colo = size_filter(RGI_ss_Colo)\n",
    "len(RGI_ss_Colo)"
   ]
  },
  {
   "cell_type": "code",
   "execution_count": 16,
   "id": "a99251be-1fdd-4f78-91cb-3760356566c9",
   "metadata": {},
   "outputs": [],
   "source": [
    "# combine the geodataframes\n",
    "rgi7 = pd.concat([RGI_ss_NCan, RGI_ss_SCan, RGI_ss_CONUS, RGI_ss_Colo])"
   ]
  },
  {
   "cell_type": "markdown",
   "id": "1ebf0772-776e-42fb-a234-12cdb585054e",
   "metadata": {},
   "source": [
    "### Some sanity checks "
   ]
  },
  {
   "cell_type": "code",
   "execution_count": 17,
   "id": "0c0e093d-504a-4209-9ae3-c952d568f46e",
   "metadata": {},
   "outputs": [
    {
     "data": {
      "text/html": [
       "<div>\n",
       "<style scoped>\n",
       "    .dataframe tbody tr th:only-of-type {\n",
       "        vertical-align: middle;\n",
       "    }\n",
       "\n",
       "    .dataframe tbody tr th {\n",
       "        vertical-align: top;\n",
       "    }\n",
       "\n",
       "    .dataframe thead th {\n",
       "        text-align: right;\n",
       "    }\n",
       "</style>\n",
       "<table border=\"1\" class=\"dataframe\">\n",
       "  <thead>\n",
       "    <tr style=\"text-align: right;\">\n",
       "      <th></th>\n",
       "      <th>N</th>\n",
       "      <th>N NA</th>\n",
       "    </tr>\n",
       "    <tr>\n",
       "      <th>subm_id</th>\n",
       "      <th></th>\n",
       "      <th></th>\n",
       "    </tr>\n",
       "  </thead>\n",
       "  <tbody>\n",
       "    <tr>\n",
       "      <th>635</th>\n",
       "      <td>1235</td>\n",
       "      <td>1235</td>\n",
       "    </tr>\n",
       "    <tr>\n",
       "      <th>623</th>\n",
       "      <td>12463</td>\n",
       "      <td>12463</td>\n",
       "    </tr>\n",
       "    <tr>\n",
       "      <th>721</th>\n",
       "      <td>1</td>\n",
       "      <td>1</td>\n",
       "    </tr>\n",
       "    <tr>\n",
       "      <th>722</th>\n",
       "      <td>1</td>\n",
       "      <td>1</td>\n",
       "    </tr>\n",
       "    <tr>\n",
       "      <th>744</th>\n",
       "      <td>5126</td>\n",
       "      <td>5126</td>\n",
       "    </tr>\n",
       "    <tr>\n",
       "      <th>616</th>\n",
       "      <td>33</td>\n",
       "      <td>33</td>\n",
       "    </tr>\n",
       "  </tbody>\n",
       "</table>\n",
       "</div>"
      ],
      "text/plain": [
       "             N   N NA\n",
       "subm_id              \n",
       "635       1235   1235\n",
       "623      12463  12463\n",
       "721          1      1\n",
       "722          1      1\n",
       "744       5126   5126\n",
       "616         33     33"
      ]
     },
     "execution_count": 17,
     "metadata": {},
     "output_type": "execute_result"
    }
   ],
   "source": [
    "sdf, df_class = submission_summary(rgi7)\n",
    "df_class"
   ]
  },
  {
   "cell_type": "code",
   "execution_count": 18,
   "id": "de9fd028-b6c6-422f-8ce6-19b4184b0986",
   "metadata": {},
   "outputs": [],
   "source": [
    "# Nothing should change here\n",
    "rgi7['is_rgi6'] = True"
   ]
  },
  {
   "cell_type": "code",
   "execution_count": 19,
   "id": "91a03189-9424-4231-adce-4c458b0c2bf8",
   "metadata": {},
   "outputs": [
    {
     "name": "stdout",
     "output_type": "stream",
     "text": [
      "Orphan rock outcrops detected in subm_id [623.]\n"
     ]
    }
   ],
   "source": [
    "# Check the orphaned rock outcrops\n",
    "orphan_f = os.path.join(data_dir, 'l1_orphan_interiors', f'RGI{reg:02d}', f'RGI{reg:02d}.shp')\n",
    "if os.path.exists(orphan_f):\n",
    "    orphan_f = gpd.read_file(orphan_f)\n",
    "    check = np.isin(rgi7.subm_id.unique(), orphan_f.subm_id.unique())\n",
    "    if np.any(check):\n",
    "        print(f'Orphan rock outcrops detected in subm_id {rgi7.subm_id.unique()[check]}')\n",
    "        orphan_f['area'] = orphan_f.to_crs({'proj':'cea'}).area"
   ]
  },
  {
   "cell_type": "code",
   "execution_count": 20,
   "id": "86e7ef97-e361-4f22-bcdc-ce91bddb2090",
   "metadata": {},
   "outputs": [
    {
     "data": {
      "text/plain": [
       "0.12101501682015459"
      ]
     },
     "execution_count": 20,
     "metadata": {},
     "output_type": "execute_result"
    }
   ],
   "source": [
    "orphan_f = orphan_f.loc[orphan_f.subm_id == 623]\n",
    "orphan_f['area'].sum() * 1e-6"
   ]
  },
  {
   "cell_type": "markdown",
   "id": "c0535a24-83a1-40e7-8868-7d50115ad349",
   "metadata": {},
   "source": [
    "Ok, more details in the checks below."
   ]
  },
  {
   "cell_type": "markdown",
   "id": "a626a44d-e379-45c6-b38e-9bb317922d50",
   "metadata": {},
   "source": [
    "### Plots "
   ]
  },
  {
   "cell_type": "code",
   "execution_count": 21,
   "id": "06b01c63-ae2b-4ad4-9078-ccf32184f2d2",
   "metadata": {},
   "outputs": [
    {
     "data": {
      "image/png": "[encoded data removed]",
      "text/plain": [
       "<Figure size 1008x1008 with 1 Axes>"
      ]
     },
     "metadata": {
      "needs_background": "light"
     },
     "output_type": "display_data"
    }
   ],
   "source": [
    "plot_map(rgi7, reg)"
   ]
  },
  {
   "cell_type": "code",
   "execution_count": 22,
   "id": "9f872280-abe0-4634-bc98-1d5b400afd5a",
   "metadata": {},
   "outputs": [
    {
     "data": {
      "image/png": "[encoded data removed]",
      "text/plain": [
       "<Figure size 1008x1008 with 1 Axes>"
      ]
     },
     "metadata": {
      "needs_background": "light"
     },
     "output_type": "display_data"
    }
   ],
   "source": [
    "plot_map(rgi7, reg, is_rgi6=True)"
   ]
  },
  {
   "cell_type": "code",
   "execution_count": 23,
   "id": "72bf6f1c-3013-42f1-8d57-888e8540710c",
   "metadata": {},
   "outputs": [
    {
     "data": {
      "image/png": "[encoded data removed]",
      "text/plain": [
       "<Figure size 1440x360 with 1 Axes>"
      ]
     },
     "metadata": {
      "needs_background": "light"
     },
     "output_type": "display_data"
    }
   ],
   "source": [
    "plot_date_hist(rgi7, reg=reg, figsize=(20, 5))"
   ]
  },
  {
   "cell_type": "code",
   "execution_count": 24,
   "id": "f9f1e8bc-b77a-4d9c-b8a7-ff790485727f",
   "metadata": {},
   "outputs": [
    {
     "data": {
      "image/png": "[encoded data removed]",
      "text/plain": [
       "<Figure size 1440x360 with 1 Axes>"
      ]
     },
     "metadata": {
      "needs_background": "light"
     },
     "output_type": "display_data"
    }
   ],
   "source": [
    "plot_date_hist(RGI_ss_CONUS, title='744 - CONUS Fountain', figsize=(20, 5), savefig=False)"
   ]
  },
  {
   "cell_type": "markdown",
   "id": "7d86a599-cb4e-4994-b0ec-d4a65c0e473e",
   "metadata": {},
   "source": [
    "### Text for github"
   ]
  },
  {
   "cell_type": "code",
   "execution_count": 27,
   "id": "ac60bd85-fb13-4bfa-a815-0c5edf5f6841",
   "metadata": {},
   "outputs": [
    {
     "data": {
      "text/html": [
       "<div>\n",
       "<style scoped>\n",
       "    .dataframe tbody tr th:only-of-type {\n",
       "        vertical-align: middle;\n",
       "    }\n",
       "\n",
       "    .dataframe tbody tr th {\n",
       "        vertical-align: top;\n",
       "    }\n",
       "\n",
       "    .dataframe thead th {\n",
       "        text-align: right;\n",
       "    }\n",
       "</style>\n",
       "<table border=\"1\" class=\"dataframe\">\n",
       "  <thead>\n",
       "    <tr style=\"text-align: right;\">\n",
       "      <th>subm_id</th>\n",
       "      <th>635</th>\n",
       "      <th>623</th>\n",
       "      <th>721</th>\n",
       "      <th>722</th>\n",
       "      <th>744</th>\n",
       "      <th>616</th>\n",
       "    </tr>\n",
       "  </thead>\n",
       "  <tbody>\n",
       "    <tr>\n",
       "      <th>N</th>\n",
       "      <td>1235</td>\n",
       "      <td>12463</td>\n",
       "      <td>1</td>\n",
       "      <td>1</td>\n",
       "      <td>5126</td>\n",
       "      <td>33</td>\n",
       "    </tr>\n",
       "    <tr>\n",
       "      <th>A</th>\n",
       "      <td>656.5</td>\n",
       "      <td>13054.8</td>\n",
       "      <td>136.9</td>\n",
       "      <td>10.2</td>\n",
       "      <td>671.4</td>\n",
       "      <td>1.1</td>\n",
       "    </tr>\n",
       "    <tr>\n",
       "      <th>analysts</th>\n",
       "      <td>Berthier, Bolch, Cogley, Kienholz</td>\n",
       "      <td>Bolch</td>\n",
       "      <td>Bolch</td>\n",
       "      <td>Bolch</td>\n",
       "      <td>Fountain</td>\n",
       "      <td>Fountain, Hoffman</td>\n",
       "    </tr>\n",
       "    <tr>\n",
       "      <th>submitters</th>\n",
       "      <td>Cogley</td>\n",
       "      <td>Bolch</td>\n",
       "      <td>Bolch</td>\n",
       "      <td>Bolch</td>\n",
       "      <td>Fountain</td>\n",
       "      <td>Hoffman</td>\n",
       "    </tr>\n",
       "    <tr>\n",
       "      <th>release_date</th>\n",
       "      <td>2015</td>\n",
       "      <td>2009</td>\n",
       "      <td>2009</td>\n",
       "      <td>2009</td>\n",
       "      <td>2016</td>\n",
       "      <td>2016</td>\n",
       "    </tr>\n",
       "    <tr>\n",
       "      <th>geog_area</th>\n",
       "      <td>Randolph Glacier Inventory; Umbrella RC for me...</td>\n",
       "      <td>Northern Cordillera</td>\n",
       "      <td>Northern Cordillera</td>\n",
       "      <td>Northern Cordillera</td>\n",
       "      <td>Conterminous USA</td>\n",
       "      <td>Conterminous USA</td>\n",
       "    </tr>\n",
       "    <tr>\n",
       "      <th>src_date_mode</th>\n",
       "      <td>1985</td>\n",
       "      <td>2006</td>\n",
       "      <td>2006</td>\n",
       "      <td>2006</td>\n",
       "      <td>1966</td>\n",
       "      <td>2001</td>\n",
       "    </tr>\n",
       "    <tr>\n",
       "      <th>src_date_min</th>\n",
       "      <td>1968</td>\n",
       "      <td>2004</td>\n",
       "      <td>2006</td>\n",
       "      <td>2006</td>\n",
       "      <td>1943</td>\n",
       "      <td>2001</td>\n",
       "    </tr>\n",
       "    <tr>\n",
       "      <th>src_date_max</th>\n",
       "      <td>1999</td>\n",
       "      <td>2006</td>\n",
       "      <td>2006</td>\n",
       "      <td>2006</td>\n",
       "      <td>1987</td>\n",
       "      <td>2001</td>\n",
       "    </tr>\n",
       "  </tbody>\n",
       "</table>\n",
       "</div>"
      ],
      "text/plain": [
       "subm_id                                                      635  \\\n",
       "N                                                           1235   \n",
       "A                                                          656.5   \n",
       "analysts                       Berthier, Bolch, Cogley, Kienholz   \n",
       "submitters                                                Cogley   \n",
       "release_date                                                2015   \n",
       "geog_area      Randolph Glacier Inventory; Umbrella RC for me...   \n",
       "src_date_mode                                               1985   \n",
       "src_date_min                                                1968   \n",
       "src_date_max                                                1999   \n",
       "\n",
       "subm_id                        623                  721                  722  \\\n",
       "N                            12463                    1                    1   \n",
       "A                          13054.8                136.9                 10.2   \n",
       "analysts                     Bolch                Bolch                Bolch   \n",
       "submitters                   Bolch                Bolch                Bolch   \n",
       "release_date                  2009                 2009                 2009   \n",
       "geog_area      Northern Cordillera  Northern Cordillera  Northern Cordillera   \n",
       "src_date_mode                 2006                 2006                 2006   \n",
       "src_date_min                  2004                 2006                 2006   \n",
       "src_date_max                  2006                 2006                 2006   \n",
       "\n",
       "subm_id                     744                616  \n",
       "N                          5126                 33  \n",
       "A                         671.4                1.1  \n",
       "analysts               Fountain  Fountain, Hoffman  \n",
       "submitters             Fountain            Hoffman  \n",
       "release_date               2016               2016  \n",
       "geog_area      Conterminous USA   Conterminous USA  \n",
       "src_date_mode              1966               2001  \n",
       "src_date_min               1943               2001  \n",
       "src_date_max               1987               2001  "
      ]
     },
     "execution_count": 27,
     "metadata": {},
     "output_type": "execute_result"
    }
   ],
   "source": [
    "fgh = sdf.T\n",
    "fgh"
   ]
  },
  {
   "cell_type": "code",
   "execution_count": 28,
   "id": "7585ecd8-2c2b-4c3c-9647-bb280fc180f0",
   "metadata": {},
   "outputs": [
    {
     "name": "stdout",
     "output_type": "stream",
     "text": [
      "| subm_id       | 635                                                                    | 623                 | 721                 | 722                 | 744              | 616               |\n",
      "|:--------------|:-----------------------------------------------------------------------|:--------------------|:--------------------|:--------------------|:-----------------|:------------------|\n",
      "| N             | 1235                                                                   | 12463               | 1                   | 1                   | 5126             | 33                |\n",
      "| A             | 656.5                                                                  | 13054.8             | 136.9               | 10.2                | 671.4            | 1.1               |\n",
      "| analysts      | Berthier, Bolch, Cogley, Kienholz                                      | Bolch               | Bolch               | Bolch               | Fountain         | Fountain, Hoffman |\n",
      "| submitters    | Cogley                                                                 | Bolch               | Bolch               | Bolch               | Fountain         | Hoffman           |\n",
      "| release_date  | 2015                                                                   | 2009                | 2009                | 2009                | 2016             | 2016              |\n",
      "| geog_area     | Randolph Glacier Inventory; Umbrella RC for merging the RGI into GLIMS | Northern Cordillera | Northern Cordillera | Northern Cordillera | Conterminous USA | Conterminous USA  |\n",
      "| src_date_mode | 1985                                                                   | 2006                | 2006                | 2006                | 1966             | 2001              |\n",
      "| src_date_min  | 1968                                                                   | 2004                | 2006                | 2006                | 1943             | 2001              |\n",
      "| src_date_max  | 1999                                                                   | 2006                | 2006                | 2006                | 1987             | 2001              |\n"
     ]
    }
   ],
   "source": [
    "print(fgh.to_markdown(headers=np.append(['subm_id'], fgh.columns)))"
   ]
  },
  {
   "cell_type": "markdown",
   "id": "palestinian-remedy",
   "metadata": {},
   "source": [
    "## Write out and tar "
   ]
  },
  {
   "cell_type": "code",
   "execution_count": 29,
   "id": "collected-injury",
   "metadata": {},
   "outputs": [
    {
     "name": "stdout",
     "output_type": "stream",
     "text": [
      "Writing...\n",
      "Taring...\n",
      "CompletedProcess(args=['tar', '-zcvf', '../../rgi7_data/l3_rgi7a_tar/RGI02.tar.gz', '-C', '../../rgi7_data/l3_rgi7a', 'RGI02'], returncode=0)\n"
     ]
    }
   ],
   "source": [
    "dd = mkdir(f'{output_dir}/RGI{reg:02d}/', reset=True)\n",
    "\n",
    "print('Writing...')\n",
    "rgi7.to_file(dd + f'RGI{reg:02d}.shp')\n",
    "\n",
    "print('Taring...')\n",
    "print(subprocess.run(['tar', '-zcvf', f'{output_dir_tar}/RGI{reg:02d}.tar.gz', '-C', output_dir, f'RGI{reg:02d}']))"
   ]
  },
  {
   "cell_type": "markdown",
   "id": "matched-mailing",
   "metadata": {},
   "source": [
    "## New RGI-file created - Check result!"
   ]
  },
  {
   "cell_type": "markdown",
   "id": "proprietary-african",
   "metadata": {},
   "source": [
    "### load reference data (here RGI6) to enable comparison"
   ]
  },
  {
   "cell_type": "code",
   "execution_count": 30,
   "id": "controlling-drunk",
   "metadata": {},
   "outputs": [],
   "source": [
    "# load reference data\n",
    "from utils import open_zip_shapefile\n",
    "ref_odf = open_zip_shapefile(rgi6_reg_file)"
   ]
  },
  {
   "cell_type": "markdown",
   "id": "demanding-commonwealth",
   "metadata": {},
   "source": [
    "## Compare new RGI7-file to RGI6"
   ]
  },
  {
   "cell_type": "markdown",
   "id": "polar-satisfaction",
   "metadata": {},
   "source": [
    "### Number of elements (differences depict problems)"
   ]
  },
  {
   "cell_type": "code",
   "execution_count": 31,
   "id": "fallen-flush",
   "metadata": {},
   "outputs": [
    {
     "name": "stdout",
     "output_type": "stream",
     "text": [
      "Number of glaciers in new RGI: 18859\n",
      "Number of glaciers in RGI6: 18855\n",
      "Difference: 4\n"
     ]
    }
   ],
   "source": [
    "print('Number of glaciers in new RGI:', len(rgi7))\n",
    "print('Number of glaciers in RGI6:', len(ref_odf))\n",
    "print('Difference:', len(rgi7)-len(ref_odf))"
   ]
  },
  {
   "cell_type": "markdown",
   "id": "computational-document",
   "metadata": {},
   "source": [
    "### How many nominal glaciers were there in RGI06?"
   ]
  },
  {
   "cell_type": "code",
   "execution_count": 32,
   "id": "quality-person",
   "metadata": {},
   "outputs": [
    {
     "data": {
      "text/plain": [
       "0"
      ]
     },
     "execution_count": 32,
     "metadata": {},
     "output_type": "execute_result"
    }
   ],
   "source": [
    "len(ref_odf.loc[ref_odf.Status == 2])"
   ]
  },
  {
   "cell_type": "markdown",
   "id": "signal-placement",
   "metadata": {},
   "source": [
    "### Total area"
   ]
  },
  {
   "cell_type": "code",
   "execution_count": 33,
   "id": "banned-operations",
   "metadata": {},
   "outputs": [],
   "source": [
    "# add an area field to RGI_ss and reference data\n",
    "rgi7['area'] = rgi7.to_crs({'proj':'cea'}).area\n",
    "ref_odf['area'] = ref_odf.to_crs({'proj':'cea'}).area"
   ]
  },
  {
   "cell_type": "code",
   "execution_count": 34,
   "id": "blocked-thickness",
   "metadata": {},
   "outputs": [
    {
     "name": "stdout",
     "output_type": "stream",
     "text": [
      "Area RGI7 [km²]: 14530.886140315337\n",
      "Area RGI6 [km²]: 14524.240019596462\n",
      "Area difference [km²]: 6.646120718874954\n"
     ]
    }
   ],
   "source": [
    "# print and compare area values\n",
    "Area_RGI = rgi7['area'].sum() * 1e-6\n",
    "print('Area RGI7 [km²]:', Area_RGI)\n",
    "Area_ref = ref_odf['area'].sum() * 1e-6\n",
    "print('Area RGI6 [km²]:', Area_ref)\n",
    "d = (Area_RGI - Area_ref)\n",
    "print('Area difference [km²]:', d)"
   ]
  },
  {
   "cell_type": "markdown",
   "id": "baking-judge",
   "metadata": {},
   "source": [
    "### Northern Canada (635, Berthier, no problem there):  "
   ]
  },
  {
   "cell_type": "code",
   "execution_count": 35,
   "id": "553c2fe0-ce7e-472a-9ab9-ce77a406b118",
   "metadata": {},
   "outputs": [],
   "source": [
    "rp = ref_odf.representative_point().to_frame('geometry')\n",
    "rp['orig_index'] = ref_odf.index\n",
    "intersect = gpd.overlay(rp, shp_loc.loc[shp_loc['subm_id'] == 635], how='intersection')\n",
    "ref_odf_NCan = ref_odf.loc[intersect['orig_index']].copy()"
   ]
  },
  {
   "cell_type": "code",
   "execution_count": 36,
   "id": "e2b68aed-9b3a-4f15-86ab-7b6bd5f96f81",
   "metadata": {},
   "outputs": [
    {
     "name": "stdout",
     "output_type": "stream",
     "text": [
      "Number of glaciers in RGI7 subset: 1235\n",
      "Number of glaciers in reference data (RGI6): 1235\n",
      "Difference: 0\n"
     ]
    }
   ],
   "source": [
    "print('Number of glaciers in RGI7 subset:', len(RGI_ss_NCan))\n",
    "print('Number of glaciers in reference data (RGI6):', len(ref_odf_NCan))\n",
    "print('Difference:', len(RGI_ss_NCan)-len(ref_odf_NCan))"
   ]
  },
  {
   "cell_type": "code",
   "execution_count": 37,
   "id": "5d9dd226-dcab-4c9a-b4bc-e5db7be97ddd",
   "metadata": {},
   "outputs": [
    {
     "name": "stdout",
     "output_type": "stream",
     "text": [
      "Area RGI7 [km²]: 656.5317836977715\n",
      "Area RGI6 [km²]: 656.5319107844741\n",
      "Area difference [km²]: -0.0001270867026050837\n"
     ]
    }
   ],
   "source": [
    "# print and compare area values\n",
    "Area_7 = RGI_ss_NCan['area'].sum() * 1e-6\n",
    "print('Area RGI7 [km²]:', Area_7)\n",
    "Area_6 = ref_odf_NCan['area'].sum() * 1e-6\n",
    "print('Area RGI6 [km²]:', Area_6)\n",
    "d = (Area_7 - Area_6)\n",
    "print('Area difference [km²]:', d)"
   ]
  },
  {
   "cell_type": "markdown",
   "id": "e77eea96-722d-49f4-802e-f661a25e1963",
   "metadata": {},
   "source": [
    "This is brilliant! No issue there."
   ]
  },
  {
   "cell_type": "markdown",
   "id": "6460428c-f3fb-40dc-97d2-bbb889e5fb14",
   "metadata": {},
   "source": [
    "### Southern Canada (623, Bolch, some problems):  "
   ]
  },
  {
   "cell_type": "code",
   "execution_count": 38,
   "id": "1e0f5336-aa50-4e14-9bbf-3a6d076c30dd",
   "metadata": {},
   "outputs": [],
   "source": [
    "rp = ref_odf.representative_point().to_frame('geometry')\n",
    "rp['orig_index'] = ref_odf.index\n",
    "intersect = gpd.overlay(rp, shp_loc.loc[shp_loc['subm_id'] == 623], how='intersection')\n",
    "ref_odf_SCan = ref_odf.loc[intersect['orig_index']].copy()"
   ]
  },
  {
   "cell_type": "code",
   "execution_count": 39,
   "id": "b1bd8a34-6f90-4633-b824-1a878a2b157a",
   "metadata": {},
   "outputs": [
    {
     "name": "stdout",
     "output_type": "stream",
     "text": [
      "Number of glaciers in RGI7 subset: 12465\n",
      "Number of glaciers in reference data (RGI6): 12464\n",
      "Difference: 1\n"
     ]
    }
   ],
   "source": [
    "print('Number of glaciers in RGI7 subset:', len(RGI_ss_SCan))\n",
    "print('Number of glaciers in reference data (RGI6):', len(ref_odf_SCan))\n",
    "print('Difference:', len(RGI_ss_SCan)-len(ref_odf_SCan))"
   ]
  },
  {
   "cell_type": "code",
   "execution_count": 40,
   "id": "629f0504-a138-4dfb-a623-576449fa8786",
   "metadata": {},
   "outputs": [
    {
     "name": "stdout",
     "output_type": "stream",
     "text": [
      "Area RGI7 [km²]: 13201.819607709593\n",
      "Area RGI6 [km²]: 13195.162964834108\n",
      "Area difference [km²]: 6.656642875484977\n"
     ]
    }
   ],
   "source": [
    "# print and compare area values\n",
    "Area_7 = RGI_ss_SCan['area'].sum() * 1e-6\n",
    "print('Area RGI7 [km²]:', Area_7)\n",
    "Area_6 = ref_odf_SCan['area'].sum() * 1e-6\n",
    "print('Area RGI6 [km²]:', Area_6)\n",
    "d = (Area_7 - Area_6)\n",
    "print('Area difference [km²]:', d)"
   ]
  },
  {
   "cell_type": "markdown",
   "id": "dbad6559-25f1-4444-9d4d-a0c448ea76c7",
   "metadata": {},
   "source": [
    "We have one more glacier in GLIMS (this is expected from the glacier that was on the wrong side of the region border in RGI6)"
   ]
  },
  {
   "cell_type": "code",
   "execution_count": 41,
   "id": "f354948b-ff04-4737-8864-f5dabe2b44a7",
   "metadata": {},
   "outputs": [
    {
     "data": {
      "text/plain": [
       "0.42227292934575933"
      ]
     },
     "execution_count": 41,
     "metadata": {},
     "output_type": "execute_result"
    }
   ],
   "source": [
    "RGI_ss_SCan.loc[RGI_ss_SCan.anlys_id == 380747]['area'].sum() * 1e-6 "
   ]
  },
  {
   "cell_type": "markdown",
   "id": "fd6f830c-080b-47c5-aaaf-2383b923a9ad",
   "metadata": {},
   "source": [
    "Arg, we still have 6 km2 more in GLIMS than RGI6. Quick check on GIS reveals that some polygons in polygons are in GLIMS but not RGI, and some rock outcrops are in RGI but not GLIMS (see [example](https://github.com/GLIMS-RGI/glims_issue_tracker/issues/8#issuecomment-981134080) in GH issue). We'll ignore this for now.\n",
    "\n",
    "Also, orphaned rock outcrops:"
   ]
  },
  {
   "cell_type": "code",
   "execution_count": 53,
   "id": "4913f799-f24b-4b52-98e2-e59be8c519f4",
   "metadata": {},
   "outputs": [],
   "source": [
    "# for i in range(len(orphan_f)):\n",
    "#     f, ax = plt.subplots(figsize=(2, 2))\n",
    "#     orphan_f.iloc[[i]].plot(ax=ax);"
   ]
  },
  {
   "cell_type": "markdown",
   "id": "3e3be583-4cbb-4ed2-9416-75f11c2ae5c5",
   "metadata": {},
   "source": [
    "### CONUS (744, Fountain, OK):  "
   ]
  },
  {
   "cell_type": "code",
   "execution_count": 47,
   "id": "202a87fe-b515-4c48-8b24-e8575f28239f",
   "metadata": {},
   "outputs": [],
   "source": [
    "rp = ref_odf.representative_point().to_frame('geometry')\n",
    "rp['orig_index'] = ref_odf.index\n",
    "intersect = gpd.overlay(rp, shp_loc.loc[shp_loc['subm_id'] == 744], how='intersection')\n",
    "ref_odf_CONUS = ref_odf.loc[intersect['orig_index']].copy()"
   ]
  },
  {
   "cell_type": "code",
   "execution_count": 48,
   "id": "4dd7c7d9-5e4e-4bbc-833b-fc37cf12d3aa",
   "metadata": {},
   "outputs": [
    {
     "name": "stdout",
     "output_type": "stream",
     "text": [
      "Number of glaciers in RGI7 subset: 5126\n",
      "Number of glaciers in reference data (RGI6): 5123\n",
      "Difference: 3\n"
     ]
    }
   ],
   "source": [
    "print('Number of glaciers in RGI7 subset:', len(RGI_ss_CONUS))\n",
    "print('Number of glaciers in reference data (RGI6):', len(ref_odf_CONUS))\n",
    "print('Difference:', len(RGI_ss_CONUS)-len(ref_odf_CONUS))"
   ]
  },
  {
   "cell_type": "code",
   "execution_count": 49,
   "id": "f6e32b43-6a68-4ac1-9a3b-0a18864a239d",
   "metadata": {},
   "outputs": [
    {
     "name": "stdout",
     "output_type": "stream",
     "text": [
      "Area RGI7 [km²]: 671.4228538861278\n",
      "Area RGI6 [km²]: 671.433249726907\n",
      "Area difference [km²]: -0.01039584077921063\n"
     ]
    }
   ],
   "source": [
    "# print and compare area values\n",
    "Area_7 = RGI_ss_CONUS['area'].sum() * 1e-6\n",
    "print('Area RGI7 [km²]:', Area_7)\n",
    "Area_6 = ref_odf_CONUS['area'].sum() * 1e-6\n",
    "print('Area RGI6 [km²]:', Area_6)\n",
    "d = (Area_7 - Area_6)\n",
    "print('Area difference [km²]:', d)"
   ]
  },
  {
   "cell_type": "markdown",
   "id": "9a0fa2bb-2bbd-411c-b545-7f955a4085ea",
   "metadata": {},
   "source": [
    "I don't know about the N glacier difference (not a big deal), and the missing area is small enough!"
   ]
  },
  {
   "cell_type": "markdown",
   "id": "8f41bf5b-15e6-473a-b149-6c1ab96828bc",
   "metadata": {},
   "source": [
    "### Colorado (616, Fountain, OK):  "
   ]
  },
  {
   "cell_type": "code",
   "execution_count": 50,
   "id": "0474490d-d378-472b-8b86-d06dabfc2e73",
   "metadata": {},
   "outputs": [],
   "source": [
    "rp = ref_odf.representative_point().to_frame('geometry')\n",
    "rp['orig_index'] = ref_odf.index\n",
    "intersect = gpd.overlay(rp, shp_loc.loc[shp_loc['subm_id'] == 616], how='intersection')\n",
    "ref_odf_Colo = ref_odf.loc[intersect['orig_index']].copy()"
   ]
  },
  {
   "cell_type": "code",
   "execution_count": 51,
   "id": "fd92f2c4-fa64-430f-b460-09ddc1dab9a8",
   "metadata": {},
   "outputs": [
    {
     "name": "stdout",
     "output_type": "stream",
     "text": [
      "Number of glaciers in RGI7 subset: 33\n",
      "Number of glaciers in reference data (RGI6): 33\n",
      "Difference: 0\n"
     ]
    }
   ],
   "source": [
    "print('Number of glaciers in RGI7 subset:', len(RGI_ss_Colo))\n",
    "print('Number of glaciers in reference data (RGI6):', len(ref_odf_Colo))\n",
    "print('Difference:', len(RGI_ss_Colo)-len(ref_odf_Colo))"
   ]
  },
  {
   "cell_type": "code",
   "execution_count": 52,
   "id": "4aaff498-fac5-4593-a0db-e2d1badf577b",
   "metadata": {},
   "outputs": [
    {
     "name": "stdout",
     "output_type": "stream",
     "text": [
      "Area RGI7 [km²]: 1.111895021844131\n",
      "Area RGI6 [km²]: 1.111894250971996\n",
      "Area difference [km²]: 7.708721350141445e-07\n"
     ]
    }
   ],
   "source": [
    "# print and compare area values\n",
    "Area_7 = RGI_ss_Colo['area'].sum() * 1e-6\n",
    "print('Area RGI7 [km²]:', Area_7)\n",
    "Area_6 = ref_odf_Colo['area'].sum() * 1e-6\n",
    "print('Area RGI6 [km²]:', Area_6)\n",
    "d = (Area_7 - Area_6)\n",
    "print('Area difference [km²]:', d)"
   ]
  },
  {
   "cell_type": "code",
   "execution_count": null,
   "id": "99f9eeab-d395-4337-9ff2-c4e2bd4d8242",
   "metadata": {},
   "outputs": [],
   "source": []
  }
 ],
 "metadata": {
  "kernelspec": {
   "display_name": "Python 3",
   "language": "python",
   "name": "python3"
  },
  "language_info": {
   "codemirror_mode": {
    "name": "ipython",
    "version": 3
   },
   "file_extension": ".py",
   "mimetype": "text/x-python",
   "name": "python",
   "nbconvert_exporter": "python",
   "pygments_lexer": "ipython3",
   "version": "3.8.8"
  }
 },
 "nbformat": 4,
 "nbformat_minor": 5
}
