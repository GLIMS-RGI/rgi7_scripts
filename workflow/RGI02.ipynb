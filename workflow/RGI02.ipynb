{
 "cells": [
  {
   "cell_type": "markdown",
   "id": "lesser-sociology",
   "metadata": {},
   "source": [
    "# RGI02 (Western Canada and USA)\n",
    "\n",
    "F. Maussion"
   ]
  },
  {
   "cell_type": "code",
   "execution_count": null,
   "id": "electoral-expense",
   "metadata": {},
   "outputs": [],
   "source": [
    "import pandas as pd\n",
    "import geopandas as gpd\n",
    "import subprocess\n",
    "import matplotlib.pyplot as plt\n",
    "import matplotlib.patches as mpatches\n",
    "import seaborn as sns\n",
    "import numpy as np\n",
    "from utils import mkdir, submission_summary, needs_size_filter, size_filter, plot_map, plot_date_hist\n",
    "import os"
   ]
  },
  {
   "cell_type": "markdown",
   "id": "proprietary-armor",
   "metadata": {},
   "source": [
    "## Files and storage paths"
   ]
  },
  {
   "cell_type": "code",
   "execution_count": null,
   "id": "silent-charger",
   "metadata": {},
   "outputs": [],
   "source": [
    "# Region of interest \n",
    "reg = 2\n",
    "\n",
    "# go down from rgi7_scripts/workflow\n",
    "data_dir = '../../rgi7_data/'\n",
    "\n",
    "# Level 2 GLIMS files\n",
    "l2_dir = os.path.join(data_dir, 'l2_sel_reg_tars')\n",
    "\n",
    "# Output directories\n",
    "output_dir = mkdir(os.path.join(data_dir, 'l3_rgi7a'))\n",
    "output_dir_tar = mkdir(os.path.join(data_dir, 'l3_rgi7a_tar'))\n",
    "\n",
    "# RGI v6 file for comparison later \n",
    "rgi6_reg_file = os.path.join(data_dir, 'l0_RGIv6', '02_rgi60_WesternCanadaUS.zip')"
   ]
  },
  {
   "cell_type": "code",
   "execution_count": null,
   "id": "color-sacramento",
   "metadata": {},
   "outputs": [],
   "source": [
    "# Specific to this region: boxes where data has to be selected differently\n",
    "support_dir = os.path.join(data_dir, 'l0_support_data')"
   ]
  },
  {
   "cell_type": "markdown",
   "id": "interior-driving",
   "metadata": {},
   "source": [
    "### Load the input data"
   ]
  },
  {
   "cell_type": "code",
   "execution_count": null,
   "id": "mounted-broadway",
   "metadata": {},
   "outputs": [],
   "source": [
    "# Read L2 files\n",
    "shp = gpd.read_file('tar://' + l2_dir + f'/RGI{reg:02d}.tar.gz/RGI{reg:02d}/RGI{reg:02d}.shp')"
   ]
  },
  {
   "cell_type": "markdown",
   "id": "223cc6e7-b49c-469d-b643-2c768697e0d5",
   "metadata": {},
   "source": [
    "### List of submissions "
   ]
  },
  {
   "cell_type": "code",
   "execution_count": null,
   "id": "9759fc6e-d391-4fac-bdad-796619fea9a1",
   "metadata": {},
   "outputs": [],
   "source": [
    "sdf, df_classes = submission_summary(shp)\n",
    "sdf"
   ]
  },
  {
   "cell_type": "markdown",
   "id": "143ad0dc-59d5-40ea-a29d-3ba5dc0d8ab7",
   "metadata": {},
   "source": [
    "Notes based on inidivual submission evaluations: \n",
    "- 635 is for all glaciers above 60°N (was used in RGI6)\n",
    "- 624 is a lonely glacier on the close to Region 01 border, it was misplaced in RGI6 and is already available in 623!\n",
    "- 623 is for the rest of the glaciers in Canada not covered by 635. The version in GLIMS has several issues ([GH issue](https://github.com/GLIMS-RGI/glims_issue_tracker/issues/8))\n",
    "- 619: not clear what this is. the 5 outlines are already available in 614\n",
    "- 618: an intermediate inventory for the colorado range\n",
    "- 617: a further intermediate inventory for the colorado range\n",
    "- 616: used by RGI for Colorado to replace 614 in this region (make a shape to select them)\n",
    "- 744: all the rest of USA\n",
    "- 721, 722: update of two outlines by Bruce which we need to use"
   ]
  },
  {
   "cell_type": "code",
   "execution_count": null,
   "id": "dbce20aa-59b6-494d-bfb1-340907f0d88f",
   "metadata": {},
   "outputs": [],
   "source": [
    "# # Optional: write out selection in intermediate shape files for manual GIS review\n",
    "# tmp_output_dir = mkdir(os.path.join(data_dir, 'l0_tmp_data', f'rgi{reg:02d}_inventories'))\n",
    "# tmp_output_dir_tar = mkdir(os.path.join(data_dir, 'l0_tmp_data'))\n",
    "# for subid in shp.subm_id.unique():\n",
    "#     s_loc = shp.loc[shp.subm_id == subid]\n",
    "#     s_loc.to_file(tmp_output_dir + f'/subm_{int(subid):03d}.shp')\n",
    "# print('Taring...')\n",
    "# print(subprocess.run(['tar', '-zcvf', f'{tmp_output_dir_tar}/rgi{reg:02d}_inventories.tar.gz', '-C', \n",
    "#                       os.path.join(data_dir, 'l0_tmp_data'), f'rgi{reg:02d}_inventories']))"
   ]
  },
  {
   "cell_type": "markdown",
   "id": "411b7cb6-15aa-42c2-b1e1-aef7c66b55ed",
   "metadata": {},
   "source": [
    "Remove the useless inventories now:"
   ]
  },
  {
   "cell_type": "code",
   "execution_count": null,
   "id": "1bdb84e9-f377-467b-a1f2-506d1437a792",
   "metadata": {},
   "outputs": [],
   "source": [
    "shp = shp.loc[shp['subm_id'].isin([744, 616, 623, 635, 721, 722])].copy()"
   ]
  },
  {
   "cell_type": "markdown",
   "id": "f4ac5de1-11c5-4d9c-b55d-222e68741416",
   "metadata": {},
   "source": [
    "### Read in the geometry data for sub-inventory selection "
   ]
  },
  {
   "cell_type": "code",
   "execution_count": null,
   "id": "afc7f6d2-8a43-4c38-8fab-83b1bcbf7766",
   "metadata": {},
   "outputs": [],
   "source": [
    "# Read L2 files\n",
    "shp_loc = gpd.read_file('tar://' + support_dir + f'/sub_inventory_sel_RGI02.tar.gz/sub_inventory_sel_RGI02.shp')"
   ]
  },
  {
   "cell_type": "code",
   "execution_count": null,
   "id": "4744f9bd-e0c3-4814-b195-b5091cf91db9",
   "metadata": {},
   "outputs": [],
   "source": [
    "shp_loc.plot(edgecolor='k');"
   ]
  },
  {
   "cell_type": "code",
   "execution_count": null,
   "id": "73d439bb-f0c6-4dd1-adfd-07731168355e",
   "metadata": {},
   "outputs": [],
   "source": [
    "shp_loc"
   ]
  },
  {
   "cell_type": "code",
   "execution_count": null,
   "id": "47ada558-1976-448c-9279-fe8bf645c3aa",
   "metadata": {},
   "outputs": [],
   "source": [
    "# Test the polygons I drew - each subregion should be equivalent as the sel by id\n",
    "for sub_id in [635, 623, 616]:\n",
    "    sel = shp.loc[shp['subm_id'] == sub_id].copy()\n",
    "    rp = sel.representative_point().to_frame('geometry')\n",
    "    rp['orig_index'] = sel.index\n",
    "    intersect = gpd.overlay(rp, shp_loc.loc[shp_loc['subm_id'] == sub_id], how='intersection')\n",
    "    odf = sel.loc[intersect['orig_index']]\n",
    "    assert len(sel) == len(odf)\n",
    "    \n",
    "# Also even without preselection\n",
    "rp = shp.representative_point().to_frame('geometry')\n",
    "rp['orig_index'] = shp.index\n",
    "for sub_id in [635, 623]:\n",
    "    sel = shp.loc[shp['subm_id'] == sub_id].copy()\n",
    "    intersect = gpd.overlay(rp, shp_loc.loc[shp_loc['subm_id'] == sub_id], how='intersection')\n",
    "    odf = shp.loc[intersect['orig_index']]\n",
    "    delta = 0\n",
    "    if sub_id == 623:\n",
    "        delta = 2  # Those two glaciers\n",
    "    assert len(sel) + delta == len(odf)   \n",
    "    \n",
    "# for 614, 616 we mix and mingle but I trust what we have done below"
   ]
  },
  {
   "cell_type": "markdown",
   "id": "familiar-civilization",
   "metadata": {},
   "source": [
    "### Apply selection criteria to create the RGI7 data subset"
   ]
  },
  {
   "cell_type": "code",
   "execution_count": null,
   "id": "closing-ivory",
   "metadata": {},
   "outputs": [],
   "source": [
    "# for northern Canada we use 'subm_id' 635 by analyst 'Berthier, Etienne'\n",
    "RGI_ss_NCan = shp.loc[shp['subm_id'] == 635].copy()\n",
    "needs_size_filter(RGI_ss_NCan)"
   ]
  },
  {
   "cell_type": "code",
   "execution_count": null,
   "id": "e21c33bd-2a40-4edb-9d12-5be08db38036",
   "metadata": {},
   "outputs": [],
   "source": [
    "# for southern Canada we use 'subm_id' 623 by analyst 'Bolch, Tobias' (with 721, 722 which are corrections)\n",
    "RGI_ss_SCan = shp.loc[shp['subm_id'].isin([623, 721, 722])].copy()\n",
    "print(len(RGI_ss_SCan))\n",
    "RGI_ss_SCan = size_filter(RGI_ss_SCan)\n",
    "len(RGI_ss_SCan)"
   ]
  },
  {
   "cell_type": "code",
   "execution_count": null,
   "id": "8b7ed734-046b-4c16-bdd9-cb6d18de752e",
   "metadata": {},
   "outputs": [],
   "source": [
    "# For CONUS we use 'subm_id' 744 by analyst 'Fountain, Andrew G.' except for colorado\n",
    "RGI_ss_CONUS = shp.loc[shp['subm_id'] == 744].copy()\n",
    "\n",
    "# Remove colorado\n",
    "print(len(RGI_ss_CONUS))\n",
    "rp = RGI_ss_CONUS.representative_point().to_frame('geometry')\n",
    "rp['orig_index'] = RGI_ss_CONUS.index\n",
    "intersect = gpd.overlay(rp, shp_loc.loc[shp_loc['subm_id'] == 744], how='intersection')\n",
    "RGI_ss_CONUS = RGI_ss_CONUS.loc[intersect['orig_index'].values].copy()\n",
    "print(len(RGI_ss_CONUS))\n",
    "RGI_ss_CONUS = size_filter(RGI_ss_CONUS)\n",
    "len(RGI_ss_CONUS)"
   ]
  },
  {
   "cell_type": "code",
   "execution_count": null,
   "id": "2c81b0be-7af2-40b0-b130-a65c80bc8902",
   "metadata": {},
   "outputs": [],
   "source": [
    "# For Colorado we use 'subm_id' 616 by analyst 'Fountain, Andrew G.' \n",
    "RGI_ss_Colo = shp.loc[shp['subm_id'] == 616].copy()\n",
    "print(len(RGI_ss_Colo))\n",
    "RGI_ss_Colo = size_filter(RGI_ss_Colo)\n",
    "len(RGI_ss_Colo)"
   ]
  },
  {
   "cell_type": "code",
   "execution_count": null,
   "id": "a99251be-1fdd-4f78-91cb-3760356566c9",
   "metadata": {},
   "outputs": [],
   "source": [
    "# combine the geodataframes\n",
    "rgi7 = pd.concat([RGI_ss_NCan, RGI_ss_SCan, RGI_ss_CONUS, RGI_ss_Colo])"
   ]
  },
  {
   "cell_type": "markdown",
   "id": "1ebf0772-776e-42fb-a234-12cdb585054e",
   "metadata": {},
   "source": [
    "### Some sanity checks "
   ]
  },
  {
   "cell_type": "code",
   "execution_count": null,
   "id": "0c0e093d-504a-4209-9ae3-c952d568f46e",
   "metadata": {},
   "outputs": [],
   "source": [
    "sdf, df_class = submission_summary(rgi7)\n",
    "df_class"
   ]
  },
  {
   "cell_type": "code",
   "execution_count": null,
   "id": "de9fd028-b6c6-422f-8ce6-19b4184b0986",
   "metadata": {},
   "outputs": [],
   "source": [
    "# Nothing should change here\n",
    "rgi7['is_rgi6'] = True"
   ]
  },
  {
   "cell_type": "code",
   "execution_count": null,
   "id": "91a03189-9424-4231-adce-4c458b0c2bf8",
   "metadata": {},
   "outputs": [],
   "source": [
    "# Check the orphaned rock outcrops\n",
    "orphan_f = os.path.join(data_dir, 'l1_orphan_interiors', f'RGI{reg:02d}', f'RGI{reg:02d}.shp')\n",
    "if os.path.exists(orphan_f):\n",
    "    orphan_f = gpd.read_file(orphan_f)\n",
    "    check = np.isin(rgi7.subm_id.unique(), orphan_f.subm_id.unique())\n",
    "    if np.any(check):\n",
    "        print(f'Orphan rock outcrops detected in subm_id {rgi7.subm_id.unique()[check]}')\n",
    "        orphan_f['area'] = orphan_f.to_crs({'proj':'cea'}).area"
   ]
  },
  {
   "cell_type": "code",
   "execution_count": null,
   "id": "86e7ef97-e361-4f22-bcdc-ce91bddb2090",
   "metadata": {},
   "outputs": [],
   "source": [
    "orphan_f = orphan_f.loc[orphan_f.subm_id == 623]\n",
    "orphan_f['area'].sum() * 1e-6"
   ]
  },
  {
   "cell_type": "markdown",
   "id": "c0535a24-83a1-40e7-8868-7d50115ad349",
   "metadata": {},
   "source": [
    "Ok, more details in the checks below."
   ]
  },
  {
   "cell_type": "markdown",
   "id": "a626a44d-e379-45c6-b38e-9bb317922d50",
   "metadata": {},
   "source": [
    "### Plots "
   ]
  },
  {
   "cell_type": "code",
   "execution_count": null,
   "id": "06b01c63-ae2b-4ad4-9078-ccf32184f2d2",
   "metadata": {},
   "outputs": [],
   "source": [
    "plot_map(rgi7, reg)"
   ]
  },
  {
   "cell_type": "code",
   "execution_count": null,
   "id": "9f872280-abe0-4634-bc98-1d5b400afd5a",
   "metadata": {},
   "outputs": [],
   "source": [
    "plot_map(rgi7, reg, is_rgi6=True)"
   ]
  },
  {
   "cell_type": "code",
   "execution_count": null,
   "id": "72bf6f1c-3013-42f1-8d57-888e8540710c",
   "metadata": {},
   "outputs": [],
   "source": [
    "plot_date_hist(rgi7, reg=reg, figsize=(20, 5))"
   ]
  },
  {
   "cell_type": "code",
   "execution_count": null,
   "id": "f9f1e8bc-b77a-4d9c-b8a7-ff790485727f",
   "metadata": {},
   "outputs": [],
   "source": [
    "plot_date_hist(RGI_ss_CONUS, title='744 - CONUS Fountain', figsize=(20, 5), savefig=False)"
   ]
  },
  {
   "cell_type": "markdown",
   "id": "7d86a599-cb4e-4994-b0ec-d4a65c0e473e",
   "metadata": {},
   "source": [
    "### Text for github"
   ]
  },
  {
   "cell_type": "code",
   "execution_count": null,
   "id": "ac60bd85-fb13-4bfa-a815-0c5edf5f6841",
   "metadata": {},
   "outputs": [],
   "source": [
    "fgh = sdf.T\n",
    "fgh"
   ]
  },
  {
   "cell_type": "code",
   "execution_count": null,
   "id": "7585ecd8-2c2b-4c3c-9647-bb280fc180f0",
   "metadata": {},
   "outputs": [],
   "source": [
    "print(fgh.to_markdown(headers=np.append(['subm_id'], fgh.columns)))"
   ]
  },
  {
   "cell_type": "markdown",
   "id": "palestinian-remedy",
   "metadata": {},
   "source": [
    "## Write out and tar "
   ]
  },
  {
   "cell_type": "code",
   "execution_count": null,
   "id": "collected-injury",
   "metadata": {},
   "outputs": [],
   "source": [
    "dd = mkdir(f'{output_dir}/RGI{reg:02d}/', reset=True)\n",
    "\n",
    "print('Writing...')\n",
    "rgi7.to_file(dd + f'RGI{reg:02d}.shp')\n",
    "\n",
    "print('Taring...')\n",
    "print(subprocess.run(['tar', '-zcvf', f'{output_dir_tar}/RGI{reg:02d}.tar.gz', '-C', output_dir, f'RGI{reg:02d}']))"
   ]
  },
  {
   "cell_type": "markdown",
   "id": "matched-mailing",
   "metadata": {},
   "source": [
    "## New RGI-file created - Check result!"
   ]
  },
  {
   "cell_type": "markdown",
   "id": "proprietary-african",
   "metadata": {},
   "source": [
    "### load reference data (here RGI6) to enable comparison"
   ]
  },
  {
   "cell_type": "code",
   "execution_count": null,
   "id": "controlling-drunk",
   "metadata": {},
   "outputs": [],
   "source": [
    "# load reference data\n",
    "from utils import open_zip_shapefile\n",
    "ref_odf = open_zip_shapefile(rgi6_reg_file)"
   ]
  },
  {
   "cell_type": "markdown",
   "id": "demanding-commonwealth",
   "metadata": {},
   "source": [
    "## Compare new RGI7-file to RGI6"
   ]
  },
  {
   "cell_type": "markdown",
   "id": "polar-satisfaction",
   "metadata": {},
   "source": [
    "### Number of elements (differences depict problems)"
   ]
  },
  {
   "cell_type": "code",
   "execution_count": null,
   "id": "fallen-flush",
   "metadata": {},
   "outputs": [],
   "source": [
    "print('Number of glaciers in new RGI:', len(rgi7))\n",
    "print('Number of glaciers in RGI6:', len(ref_odf))\n",
    "print('Difference:', len(rgi7)-len(ref_odf))"
   ]
  },
  {
   "cell_type": "markdown",
   "id": "computational-document",
   "metadata": {},
   "source": [
    "### How many nominal glaciers were there in RGI06?"
   ]
  },
  {
   "cell_type": "code",
   "execution_count": null,
   "id": "quality-person",
   "metadata": {},
   "outputs": [],
   "source": [
    "len(ref_odf.loc[ref_odf.Status == 2])"
   ]
  },
  {
   "cell_type": "markdown",
   "id": "signal-placement",
   "metadata": {},
   "source": [
    "### Total area"
   ]
  },
  {
   "cell_type": "code",
   "execution_count": null,
   "id": "banned-operations",
   "metadata": {},
   "outputs": [],
   "source": [
    "# add an area field to RGI_ss and reference data\n",
    "rgi7['area'] = rgi7.to_crs({'proj':'cea'}).area\n",
    "ref_odf['area'] = ref_odf.to_crs({'proj':'cea'}).area"
   ]
  },
  {
   "cell_type": "code",
   "execution_count": null,
   "id": "blocked-thickness",
   "metadata": {},
   "outputs": [],
   "source": [
    "# print and compare area values\n",
    "Area_RGI = rgi7['area'].sum() * 1e-6\n",
    "print('Area RGI7 [km²]:', Area_RGI)\n",
    "Area_ref = ref_odf['area'].sum() * 1e-6\n",
    "print('Area RGI6 [km²]:', Area_ref)\n",
    "d = (Area_RGI - Area_ref)\n",
    "print('Area difference [km²]:', d)"
   ]
  },
  {
   "cell_type": "markdown",
   "id": "baking-judge",
   "metadata": {},
   "source": [
    "### Northern Canada (635, Berthier, no problem there):  "
   ]
  },
  {
   "cell_type": "code",
   "execution_count": null,
   "id": "553c2fe0-ce7e-472a-9ab9-ce77a406b118",
   "metadata": {},
   "outputs": [],
   "source": [
    "rp = ref_odf.representative_point().to_frame('geometry')\n",
    "rp['orig_index'] = ref_odf.index\n",
    "intersect = gpd.overlay(rp, shp_loc.loc[shp_loc['subm_id'] == 635], how='intersection')\n",
    "ref_odf_NCan = ref_odf.loc[intersect['orig_index']].copy()"
   ]
  },
  {
   "cell_type": "code",
   "execution_count": null,
   "id": "e2b68aed-9b3a-4f15-86ab-7b6bd5f96f81",
   "metadata": {},
   "outputs": [],
   "source": [
    "print('Number of glaciers in RGI7 subset:', len(RGI_ss_NCan))\n",
    "print('Number of glaciers in reference data (RGI6):', len(ref_odf_NCan))\n",
    "print('Difference:', len(RGI_ss_NCan)-len(ref_odf_NCan))"
   ]
  },
  {
   "cell_type": "code",
   "execution_count": null,
   "id": "5d9dd226-dcab-4c9a-b4bc-e5db7be97ddd",
   "metadata": {},
   "outputs": [],
   "source": [
    "# print and compare area values\n",
    "Area_7 = RGI_ss_NCan['area'].sum() * 1e-6\n",
    "print('Area RGI7 [km²]:', Area_7)\n",
    "Area_6 = ref_odf_NCan['area'].sum() * 1e-6\n",
    "print('Area RGI6 [km²]:', Area_6)\n",
    "d = (Area_7 - Area_6)\n",
    "print('Area difference [km²]:', d)"
   ]
  },
  {
   "cell_type": "markdown",
   "id": "e77eea96-722d-49f4-802e-f661a25e1963",
   "metadata": {},
   "source": [
    "This is brilliant! No issue there."
   ]
  },
  {
   "cell_type": "markdown",
   "id": "6460428c-f3fb-40dc-97d2-bbb889e5fb14",
   "metadata": {},
   "source": [
    "### Southern Canada (623, Bolch, some problems):  "
   ]
  },
  {
   "cell_type": "code",
   "execution_count": null,
   "id": "1e0f5336-aa50-4e14-9bbf-3a6d076c30dd",
   "metadata": {},
   "outputs": [],
   "source": [
    "rp = ref_odf.representative_point().to_frame('geometry')\n",
    "rp['orig_index'] = ref_odf.index\n",
    "intersect = gpd.overlay(rp, shp_loc.loc[shp_loc['subm_id'] == 623], how='intersection')\n",
    "ref_odf_SCan = ref_odf.loc[intersect['orig_index']].copy()"
   ]
  },
  {
   "cell_type": "code",
   "execution_count": null,
   "id": "b1bd8a34-6f90-4633-b824-1a878a2b157a",
   "metadata": {},
   "outputs": [],
   "source": [
    "print('Number of glaciers in RGI7 subset:', len(RGI_ss_SCan))\n",
    "print('Number of glaciers in reference data (RGI6):', len(ref_odf_SCan))\n",
    "print('Difference:', len(RGI_ss_SCan)-len(ref_odf_SCan))"
   ]
  },
  {
   "cell_type": "code",
   "execution_count": null,
   "id": "629f0504-a138-4dfb-a623-576449fa8786",
   "metadata": {},
   "outputs": [],
   "source": [
    "# print and compare area values\n",
    "Area_7 = RGI_ss_SCan['area'].sum() * 1e-6\n",
    "print('Area RGI7 [km²]:', Area_7)\n",
    "Area_6 = ref_odf_SCan['area'].sum() * 1e-6\n",
    "print('Area RGI6 [km²]:', Area_6)\n",
    "d = (Area_7 - Area_6)\n",
    "print('Area difference [km²]:', d)"
   ]
  },
  {
   "cell_type": "markdown",
   "id": "dbad6559-25f1-4444-9d4d-a0c448ea76c7",
   "metadata": {},
   "source": [
    "We have one more glacier in GLIMS (this is expected from the glacier that was on the wrong side of the region border in RGI6)"
   ]
  },
  {
   "cell_type": "code",
   "execution_count": null,
   "id": "f354948b-ff04-4737-8864-f5dabe2b44a7",
   "metadata": {},
   "outputs": [],
   "source": [
    "RGI_ss_SCan.loc[RGI_ss_SCan.anlys_id == 380747]['area'].sum() * 1e-6 "
   ]
  },
  {
   "cell_type": "markdown",
   "id": "fd6f830c-080b-47c5-aaaf-2383b923a9ad",
   "metadata": {},
   "source": [
    "Arg, we still have 6 km2 more in GLIMS than RGI6. Quick check on GIS reveals that some polygons in polygons are in GLIMS but not RGI, and some rock outcrops are in RGI but not GLIMS (see [example](https://github.com/GLIMS-RGI/glims_issue_tracker/issues/8#issuecomment-981134080) in GH issue). We'll ignore this for now.\n",
    "\n",
    "Also, orphaned rock outcrops:"
   ]
  },
  {
   "cell_type": "code",
   "execution_count": null,
   "id": "4913f799-f24b-4b52-98e2-e59be8c519f4",
   "metadata": {},
   "outputs": [],
   "source": [
    "# for i in range(len(orphan_f)):\n",
    "#     f, ax = plt.subplots(figsize=(2, 2))\n",
    "#     orphan_f.iloc[[i]].plot(ax=ax);"
   ]
  },
  {
   "cell_type": "markdown",
   "id": "3e3be583-4cbb-4ed2-9416-75f11c2ae5c5",
   "metadata": {},
   "source": [
    "### CONUS (744, Fountain, OK):  "
   ]
  },
  {
   "cell_type": "code",
   "execution_count": null,
   "id": "202a87fe-b515-4c48-8b24-e8575f28239f",
   "metadata": {},
   "outputs": [],
   "source": [
    "rp = ref_odf.representative_point().to_frame('geometry')\n",
    "rp['orig_index'] = ref_odf.index\n",
    "intersect = gpd.overlay(rp, shp_loc.loc[shp_loc['subm_id'] == 744], how='intersection')\n",
    "ref_odf_CONUS = ref_odf.loc[intersect['orig_index']].copy()"
   ]
  },
  {
   "cell_type": "code",
   "execution_count": null,
   "id": "4dd7c7d9-5e4e-4bbc-833b-fc37cf12d3aa",
   "metadata": {},
   "outputs": [],
   "source": [
    "print('Number of glaciers in RGI7 subset:', len(RGI_ss_CONUS))\n",
    "print('Number of glaciers in reference data (RGI6):', len(ref_odf_CONUS))\n",
    "print('Difference:', len(RGI_ss_CONUS)-len(ref_odf_CONUS))"
   ]
  },
  {
   "cell_type": "code",
   "execution_count": null,
   "id": "f6e32b43-6a68-4ac1-9a3b-0a18864a239d",
   "metadata": {},
   "outputs": [],
   "source": [
    "# print and compare area values\n",
    "Area_7 = RGI_ss_CONUS['area'].sum() * 1e-6\n",
    "print('Area RGI7 [km²]:', Area_7)\n",
    "Area_6 = ref_odf_CONUS['area'].sum() * 1e-6\n",
    "print('Area RGI6 [km²]:', Area_6)\n",
    "d = (Area_7 - Area_6)\n",
    "print('Area difference [km²]:', d)"
   ]
  },
  {
   "cell_type": "markdown",
   "id": "9a0fa2bb-2bbd-411c-b545-7f955a4085ea",
   "metadata": {},
   "source": [
    "I don't know about the N glacier difference (not a big deal), and the missing area is small enough!"
   ]
  },
  {
   "cell_type": "markdown",
   "id": "8f41bf5b-15e6-473a-b149-6c1ab96828bc",
   "metadata": {},
   "source": [
    "### Colorado (616, Fountain, OK):  "
   ]
  },
  {
   "cell_type": "code",
   "execution_count": null,
   "id": "0474490d-d378-472b-8b86-d06dabfc2e73",
   "metadata": {},
   "outputs": [],
   "source": [
    "rp = ref_odf.representative_point().to_frame('geometry')\n",
    "rp['orig_index'] = ref_odf.index\n",
    "intersect = gpd.overlay(rp, shp_loc.loc[shp_loc['subm_id'] == 616], how='intersection')\n",
    "ref_odf_Colo = ref_odf.loc[intersect['orig_index']].copy()"
   ]
  },
  {
   "cell_type": "code",
   "execution_count": null,
   "id": "fd92f2c4-fa64-430f-b460-09ddc1dab9a8",
   "metadata": {},
   "outputs": [],
   "source": [
    "print('Number of glaciers in RGI7 subset:', len(RGI_ss_Colo))\n",
    "print('Number of glaciers in reference data (RGI6):', len(ref_odf_Colo))\n",
    "print('Difference:', len(RGI_ss_Colo)-len(ref_odf_Colo))"
   ]
  },
  {
   "cell_type": "code",
   "execution_count": null,
   "id": "4aaff498-fac5-4593-a0db-e2d1badf577b",
   "metadata": {},
   "outputs": [],
   "source": [
    "# print and compare area values\n",
    "Area_7 = RGI_ss_Colo['area'].sum() * 1e-6\n",
    "print('Area RGI7 [km²]:', Area_7)\n",
    "Area_6 = ref_odf_Colo['area'].sum() * 1e-6\n",
    "print('Area RGI6 [km²]:', Area_6)\n",
    "d = (Area_7 - Area_6)\n",
    "print('Area difference [km²]:', d)"
   ]
  },
  {
   "cell_type": "code",
   "execution_count": null,
   "id": "99f9eeab-d395-4337-9ff2-c4e2bd4d8242",
   "metadata": {},
   "outputs": [],
   "source": []
  }
 ],
 "metadata": {
  "kernelspec": {
   "display_name": "Python 3",
   "language": "python",
   "name": "python3"
  },
  "language_info": {
   "codemirror_mode": {
    "name": "ipython",
    "version": 3
   },
   "file_extension": ".py",
   "mimetype": "text/x-python",
   "name": "python",
   "nbconvert_exporter": "python",
   "pygments_lexer": "ipython3",
   "version": "3.8.8"
  }
 },
 "nbformat": 4,
 "nbformat_minor": 5
}
