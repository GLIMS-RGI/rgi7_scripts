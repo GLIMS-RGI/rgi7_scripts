{
 "cells": [
  {
   "cell_type": "markdown",
   "id": "vocal-wrist",
   "metadata": {},
   "source": [
    "# RGI17 (Southern Andes)\n",
    "\n",
    "F. Maussion\n",
    "\n",
    "New inventory compiled by Philipp and Frank based on the new Chile and argentina inventories."
   ]
  },
  {
   "cell_type": "code",
   "execution_count": null,
   "id": "arabic-trash",
   "metadata": {},
   "outputs": [],
   "source": [
    "import pandas as pd\n",
    "import geopandas as gpd\n",
    "import subprocess\n",
    "import matplotlib.pyplot as plt\n",
    "import matplotlib.patches as mpatches\n",
    "import seaborn as sns\n",
    "import numpy as np\n",
    "from utils import mkdir, submission_summary, needs_size_filter, size_filter, plot_map, plot_date_hist, open_zip_shapefile, find_duplicates, correct_geoms\n",
    "import os"
   ]
  },
  {
   "cell_type": "markdown",
   "id": "novel-antique",
   "metadata": {},
   "source": [
    "## Files and storage paths"
   ]
  },
  {
   "cell_type": "code",
   "execution_count": null,
   "id": "aggregate-qatar",
   "metadata": {},
   "outputs": [],
   "source": [
    "# Region of interest\n",
    "reg = 17\n",
    "\n",
    "# go down from rgi7_scripts/workflow\n",
    "data_dir = '../../rgi7_data/'\n",
    "\n",
    "# Level 2 GLIMS files\n",
    "l2_dir = os.path.join(data_dir, 'l2_sel_reg_tars')\n",
    "\n",
    "# Output directories\n",
    "output_dir = mkdir(os.path.join(data_dir, 'l3_rgi7a'))\n",
    "output_dir_tar = mkdir(os.path.join(data_dir, 'l3_rgi7a_tar'))\n",
    "\n",
    "# RGI v6 file for comparison later \n",
    "rgi6_reg_file = os.path.join(data_dir, 'l0_RGIv6', '17_rgi60_SouthernAndes.zip')\n",
    "\n",
    "# Support data dir\n",
    "support_dir = os.path.join(data_dir, 'l0_support_data')"
   ]
  },
  {
   "cell_type": "markdown",
   "id": "remarkable-gathering",
   "metadata": {},
   "source": [
    "### Load the input data"
   ]
  },
  {
   "cell_type": "code",
   "execution_count": null,
   "id": "cellular-review",
   "metadata": {},
   "outputs": [],
   "source": [
    "# Read L2 files from GLIMS\n",
    "shp = gpd.read_file('tar://' + l2_dir + f'/RGI{reg:02d}.tar.gz/RGI{reg:02d}/RGI{reg:02d}.shp')"
   ]
  },
  {
   "cell_type": "markdown",
   "id": "d1ef51fe-26b2-43a0-a716-b411f19825b3",
   "metadata": {},
   "source": [
    "### List of submissions "
   ]
  },
  {
   "cell_type": "code",
   "execution_count": null,
   "id": "85848e54-8de1-40a7-9c0f-1852984b0220",
   "metadata": {},
   "outputs": [],
   "source": [
    "sdf, df_class = submission_summary(shp)\n",
    "sdf"
   ]
  },
  {
   "cell_type": "markdown",
   "id": "c69e9c67-ffd5-4ada-af3f-f009bf1fa81f",
   "metadata": {},
   "source": [
    "Notes based on manual observations:\n",
    "- 510 to 516 are a few outlines in Patagonia\n",
    "- 592 is RGI, looks spatially complete.\n",
    "- 700 is the Argentina glacier inventory. 708 is an update of 75 of its outlines, for reasons quite unclear to me (the outlines are still in 700)\n",
    "- 730 is the Chilan glacier inventory\n",
    "- 764 is the CL and AR inventory merged\n",
    "\n",
    "both 700/708 and 720 have the same issues (rock glaciers) as for RGI16. Furthermore, the Argentina / Chile border makes both inventories pretty much useless as is. This is why 764 was created."
   ]
  },
  {
   "cell_type": "code",
   "execution_count": null,
   "id": "95940432-37e6-4ee3-a38c-b56a24e3aadd",
   "metadata": {},
   "outputs": [],
   "source": [
    "# # Write out selection in intermediate shape files for manual GIS review\n",
    "# tmp_output_dir = mkdir(os.path.join(data_dir, 'l0_tmp_data', f'rgi{reg:02d}_sel_inventories'))\n",
    "# tmp_output_dir_tar = mkdir(os.path.join(data_dir, 'l0_tmp_data'))\n",
    "# for subid in shp.subm_id.unique():\n",
    "#     s_loc = shp.loc[shp.subm_id == subid]\n",
    "#     s_loc.to_file(tmp_output_dir + f'/subm_{int(subid):03d}.shp')\n",
    "# print('Taring...')\n",
    "# print(subprocess.run(['tar', '-zcvf', f'{tmp_output_dir_tar}/rgi{reg:02d}_sel_inventories.tar.gz', '-C', \n",
    "#                       os.path.join(data_dir, 'l0_tmp_data'), f'rgi{reg:02d}_sel_inventories']))"
   ]
  },
  {
   "cell_type": "markdown",
   "id": "c6367872-ed71-450b-ab6d-2357af5cdf75",
   "metadata": {},
   "source": [
    "## Outline selection "
   ]
  },
  {
   "cell_type": "code",
   "execution_count": null,
   "id": "45915f3e-f146-4c59-8149-a878c01d175d",
   "metadata": {},
   "outputs": [],
   "source": [
    "rgi7 = shp.loc[shp.subm_id.isin([764])].copy()"
   ]
  },
  {
   "cell_type": "code",
   "execution_count": null,
   "id": "6989923a-f994-49d6-9009-87011ee816cb",
   "metadata": {},
   "outputs": [],
   "source": [
    "# Size filter?\n",
    "needs_size_filter(rgi7)"
   ]
  },
  {
   "cell_type": "code",
   "execution_count": null,
   "id": "617aa885-be02-4c32-a9c0-fc78157e10c5",
   "metadata": {},
   "outputs": [],
   "source": [
    "print(len(rgi7))\n",
    "rgi7 = size_filter(rgi7)\n",
    "print(len(rgi7))"
   ]
  },
  {
   "cell_type": "code",
   "execution_count": null,
   "id": "7848c3ee-b885-4a1b-9898-1e14e0d8337c",
   "metadata": {},
   "outputs": [],
   "source": [
    "rgi7['is_rgi6'] = False"
   ]
  },
  {
   "cell_type": "markdown",
   "id": "2420eda0-078f-43d6-b69c-872a5641092f",
   "metadata": {},
   "source": [
    "### Some sanity checks "
   ]
  },
  {
   "cell_type": "code",
   "execution_count": null,
   "id": "18ef3200-ce67-4c07-b0b3-eb0ca5faf8f5",
   "metadata": {},
   "outputs": [],
   "source": [
    "dupes = find_duplicates(rgi7)"
   ]
  },
  {
   "cell_type": "code",
   "execution_count": null,
   "id": "b00ce3c4-0e65-4d11-88ef-6ecc422118b8",
   "metadata": {},
   "outputs": [],
   "source": [
    "rgi7 = rgi7.loc[~rgi7.anlys_id.isin([dupes.anlys_id.iloc[1]])]\n",
    "dupes = find_duplicates(rgi7)"
   ]
  },
  {
   "cell_type": "code",
   "execution_count": null,
   "id": "ab8ec633-f944-47ef-820d-861b5829be6c",
   "metadata": {},
   "outputs": [],
   "source": [
    "rgi7 = correct_geoms(rgi7)"
   ]
  },
  {
   "cell_type": "code",
   "execution_count": null,
   "id": "8ab284cd-d8ee-479f-8afe-1b92f893eb63",
   "metadata": {},
   "outputs": [],
   "source": [
    "needs_size_filter(rgi7)"
   ]
  },
  {
   "cell_type": "code",
   "execution_count": null,
   "id": "150d87ab-cf01-42dd-b986-ba28079eed27",
   "metadata": {},
   "outputs": [],
   "source": [
    "sdf, df_class = submission_summary(rgi7)\n",
    "df_class"
   ]
  },
  {
   "cell_type": "code",
   "execution_count": null,
   "id": "e74b8e98-f03c-4974-80e0-7bb83be96c50",
   "metadata": {},
   "outputs": [],
   "source": [
    "# Check the orphaned rock outcrops\n",
    "orphan_f = os.path.join(data_dir, 'l1_orphan_interiors', f'RGI{reg:02d}', f'RGI{reg:02d}.shp')\n",
    "if os.path.exists(orphan_f):\n",
    "    orphan_f = gpd.read_file(orphan_f)\n",
    "    check = np.isin(rgi7.subm_id.unique(), orphan_f.subm_id.unique())\n",
    "    if np.any(check):\n",
    "        print(f'Orphan rock outcrops detected in subm_id {rgi7.subm_id.unique()[check]}')\n",
    "        orphan_f['area'] = orphan_f.to_crs({'proj':'cea'}).area\n",
    "        orphan_f = orphan_f.loc[orphan_f.subm_id.isin(rgi7.subm_id.unique()[check])]"
   ]
  },
  {
   "cell_type": "code",
   "execution_count": null,
   "id": "5f8a512b-f948-4d9b-96f1-fb441e381a56",
   "metadata": {},
   "outputs": [],
   "source": [
    "orphan_f['area'].sum() * 1e-6"
   ]
  },
  {
   "cell_type": "markdown",
   "id": "4f4816d5-6cc6-46f0-929b-4d9abf73ee84",
   "metadata": {},
   "source": [
    "### Plots "
   ]
  },
  {
   "cell_type": "code",
   "execution_count": null,
   "id": "e2eb4cd9-cd28-41bc-ab1d-799c84533b8e",
   "metadata": {},
   "outputs": [],
   "source": [
    "plot_map(rgi7, reg, aspect=0.8, loc='upper left')"
   ]
  },
  {
   "cell_type": "code",
   "execution_count": null,
   "id": "e1fa9f47-ac33-4973-be0d-55f83d0d6ab8",
   "metadata": {},
   "outputs": [],
   "source": [
    "plot_map(rgi7, reg, aspect=0.8, loc='upper left', is_rgi6=True)"
   ]
  },
  {
   "cell_type": "code",
   "execution_count": null,
   "id": "0040b521-64fd-4664-bdba-92ced6978b67",
   "metadata": {},
   "outputs": [],
   "source": [
    "plot_date_hist(rgi7, reg)"
   ]
  },
  {
   "cell_type": "markdown",
   "id": "bbaed414-a057-4f23-aa13-4504be0e1a17",
   "metadata": {},
   "source": [
    "### Text for github"
   ]
  },
  {
   "cell_type": "code",
   "execution_count": null,
   "id": "86a4af87-023d-4abc-ba1e-a36f0c514141",
   "metadata": {},
   "outputs": [],
   "source": [
    "fgh = sdf.T\n",
    "fgh"
   ]
  },
  {
   "cell_type": "code",
   "execution_count": null,
   "id": "edc81542-3d16-4682-baf2-f5711f33c083",
   "metadata": {},
   "outputs": [],
   "source": [
    "print(fgh.to_markdown(headers=np.append(['subm_id'], fgh.columns)))"
   ]
  },
  {
   "cell_type": "markdown",
   "id": "0e51f4d7-680e-4fa9-bb6a-e635f830e55a",
   "metadata": {},
   "source": [
    "## Write out and tar "
   ]
  },
  {
   "cell_type": "code",
   "execution_count": null,
   "id": "6e2b9c6a-fb20-4b8e-b135-5b6fd8aec312",
   "metadata": {},
   "outputs": [],
   "source": [
    "dd = mkdir(f'{output_dir}/RGI{reg:02d}/', reset=True)\n",
    "\n",
    "print('Writing...')\n",
    "rgi7.to_file(dd + f'RGI{reg:02d}.shp')\n",
    "\n",
    "print('Taring...')\n",
    "print(subprocess.run(['tar', '-zcvf', f'{output_dir_tar}/RGI{reg:02d}.tar.gz', '-C', output_dir, f'RGI{reg:02d}']))"
   ]
  },
  {
   "cell_type": "markdown",
   "id": "61fabe18-b90e-418f-904b-bb7159ac4bc2",
   "metadata": {},
   "source": [
    "## Consistency check with RGI6 (differences are expected)"
   ]
  },
  {
   "cell_type": "code",
   "execution_count": null,
   "id": "4b7bad17-c3e5-45ce-93fa-501aadea937f",
   "metadata": {},
   "outputs": [],
   "source": [
    "rgi6 = open_zip_shapefile(rgi6_reg_file)"
   ]
  },
  {
   "cell_type": "code",
   "execution_count": null,
   "id": "9ff97331-8cd2-470d-bd41-bc50a5cfbae2",
   "metadata": {},
   "outputs": [],
   "source": [
    "len(rgi7), len(rgi6)"
   ]
  },
  {
   "cell_type": "markdown",
   "id": "d9bf010f-bdd4-4eb2-be91-fd194edc1833",
   "metadata": {},
   "source": [
    "Test the areas:"
   ]
  },
  {
   "cell_type": "code",
   "execution_count": null,
   "id": "39340e57-db5b-4cd9-907f-4fa9619430b8",
   "metadata": {},
   "outputs": [],
   "source": [
    "rgi6['area'] = rgi6.to_crs({'proj':'cea'}).area "
   ]
  },
  {
   "cell_type": "code",
   "execution_count": null,
   "id": "785504a0-17c7-4107-9d20-3c6cf1fac025",
   "metadata": {},
   "outputs": [],
   "source": [
    "print('Area RGI7a (km2)', rgi7['area'].sum() * 1e-6)\n",
    "print('Area RGI6 (km2)', rgi6['area'].sum() * 1e-6)\n",
    "print('diff areas RGI6 - RGI7 computed by us (km2)', (rgi6['area'].sum() - rgi7['area'].sum()) * 1e-6)"
   ]
  },
  {
   "cell_type": "markdown",
   "id": "3ec69ce9-0161-4fd9-a093-082be1a26da1",
   "metadata": {},
   "source": [
    "## Check with original file"
   ]
  },
  {
   "cell_type": "markdown",
   "id": "60c2af28-42e7-497b-b190-699aa3b37679",
   "metadata": {},
   "source": [
    "The [RGI17_workaround.ipynb](RGI17_workaround.ipynb) checks the file submitted by Phil withouth the GLIMS step. It is a good double check on GLIMS I think:"
   ]
  },
  {
   "cell_type": "code",
   "execution_count": null,
   "id": "ce7bf5a3-de22-4d91-918c-5f24c9b9a615",
   "metadata": {},
   "outputs": [],
   "source": [
    "rgi7o = gpd.read_file('tar://' + os.path.join(support_dir, 'RGI17_self_made.tar.gz/RGI17/RGI17.shp'))"
   ]
  },
  {
   "cell_type": "code",
   "execution_count": null,
   "id": "f58e12cd-6c2f-40a3-8de8-8315f28d77d1",
   "metadata": {},
   "outputs": [],
   "source": [
    "print('N RGI7a (km2)', len(rgi7))\n",
    "print('N ref (km2)', len(rgi7o))"
   ]
  },
  {
   "cell_type": "code",
   "execution_count": null,
   "id": "97c5767d-ccca-4879-8348-43edde0d5a12",
   "metadata": {},
   "outputs": [],
   "source": [
    "print('Area RGI7a (km2)', rgi7['area'].sum() * 1e-6)\n",
    "print('Area ref (km2)', rgi7o['area'].sum() * 1e-6)\n",
    "print('diff areas ref - RGI7 computed by us (km2)', (rgi7o['area'].sum() - rgi7['area'].sum()) * 1e-6)"
   ]
  },
  {
   "cell_type": "code",
   "execution_count": null,
   "id": "f1ec9214-81be-4894-9279-449b8d05c66f",
   "metadata": {},
   "outputs": [],
   "source": []
  }
 ],
 "metadata": {
  "kernelspec": {
   "display_name": "Python 3 (ipykernel)",
   "language": "python",
   "name": "python3"
  },
  "language_info": {
   "codemirror_mode": {
    "name": "ipython",
    "version": 3
   },
   "file_extension": ".py",
   "mimetype": "text/x-python",
   "name": "python",
   "nbconvert_exporter": "python",
   "pygments_lexer": "ipython3",
   "version": "3.10.8"
  }
 },
 "nbformat": 4,
 "nbformat_minor": 5
}
